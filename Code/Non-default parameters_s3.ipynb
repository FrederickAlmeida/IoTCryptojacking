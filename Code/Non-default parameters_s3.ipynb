{
 "cells": [
  {
   "cell_type": "code",
   "execution_count": 1,
   "id": "c7971678",
   "metadata": {
    "execution": {
     "iopub.execute_input": "2025-08-11T00:01:21.637518Z",
     "iopub.status.busy": "2025-08-11T00:01:21.636920Z",
     "iopub.status.idle": "2025-08-11T00:01:30.598497Z",
     "shell.execute_reply": "2025-08-11T00:01:30.596676Z"
    },
    "scrolled": false
   },
   "outputs": [],
   "source": [
    "import pandas as pd\n",
    "import tsfresh\n",
    "import os\n",
    "import json\n",
    "import scapy\n",
    "import numpy as np\n",
    "import warnings\n",
    "from timeit import default_timer as timer\n",
    "\n",
    "from scapy.all import *\n",
    "\n",
    "warnings.filterwarnings(\"ignore\") #ignore warnings caused by \n",
    "\n",
    "\n",
    "#################################################################\n",
    "#                                                               #\n",
    "#               malicious csv files import                      #\n",
    "#                                                               #\n",
    "#################################################################\n",
    "\n",
    "\n",
    "df1 = pd.read_csv('../Data/malicious/WebOS_binary.csv') #\n",
    "df2 = pd.read_csv('../Data/malicious/Server_Binary.csv') #\n",
    "df3 = pd.read_csv('../Data/malicious/Raspberry_Webmine_Robust.csv')\n",
    "df4 = pd.read_csv('../Data/malicious/Raspberry_Binary.csv') #\n",
    "df5 = pd.read_csv('../Data/malicious/Raspberry_Webmine_Aggressive.csv')\n",
    "df6 = pd.read_csv('../Data/malicious/Raspberry_WebminePool_Aggressive.csv')\n",
    "df7 = pd.read_csv('../Data/malicious/Server_WebminePool_Aggressive.csv') #\n",
    "df32 = pd.read_csv('../Data/malicious/Server_WebminePool_Robust.csv') #\n",
    "df33 = pd.read_csv('../Data/malicious/Raspberry_WebminePool_Stealthy.csv') #\n",
    "df34 = pd.read_csv('../Data/malicious/Raspberry_WebminePool_Robust.csv') #\n",
    "df35 = pd.read_csv('../Data/malicious/Desktop_WebminePool_Aggressive.csv') #\n",
    "\n",
    "\n",
    "#################################################################\n",
    "#                                                               #\n",
    "#               benign-1 csv files import                         #\n",
    "#                                                               #\n",
    "#################################################################\n",
    "\n",
    "df8 = pd.read_csv('../Data/benign-1/interactive_01.csv') #\n",
    "df9 = pd.read_csv('../Data/benign-1/interactive_02.csv') #\n",
    "df10 = pd.read_csv('../Data/benign-1/interactive_03.csv') #\n",
    "df11 = pd.read_csv('../Data/benign-1/interactive_04.csv') #\n",
    "df12 = pd.read_csv('../Data/benign-1/interactive_05.csv') #\n",
    "df13 = pd.read_csv('../Data/benign-1/interactive_06.csv') #\n",
    "df14 = pd.read_csv('../Data/benign-1/web_1page_01.csv') #\n",
    "df15 = pd.read_csv('../Data/benign-1/web_1page_02.csv') #\n",
    "df16 = pd.read_csv('../Data/benign-1/web_1page_03.csv') #\n",
    "df17 = pd.read_csv('../Data/benign-1/web_1page_04.csv') #\n",
    "df18 = pd.read_csv('../Data/benign-1/web_1page_05.csv') #\n",
    "df19 = pd.read_csv('../Data/benign-1/bulk_xs_04.csv') #\n",
    "df20 = pd.read_csv('../Data/benign-1/bulk_xs_05.csv') #\n",
    "df21 = pd.read_csv('../Data/benign-1/video_180s480p_01.csv') #\n",
    "df22 = pd.read_csv('../Data/benign-1/video_180s480p_02.csv') #\n",
    "df23 = pd.read_csv('../Data/benign-1/video_x1_04.csv') #\n",
    "df24 = pd.read_csv('../Data/benign-1/web_multiple_04.csv') #\n",
    "df25 = pd.read_csv('../Data/benign-1/bulk_xs_01.csv') #\n",
    "df26 = pd.read_csv('../Data/benign-1/bulk_xs_09.csv') #\n",
    "df27 = pd.read_csv('../Data/benign-1/bulk_xs_06.csv') #\n",
    "df28 = pd.read_csv('../Data/benign-1/bulk_xs_03.csv') #\n",
    "df29 = pd.read_csv('../Data/benign-1/web_multiple_03.csv') #\n",
    "df30 = pd.read_csv('../Data/benign-1/web_multiple_05.csv') #\n",
    "df31 = pd.read_csv('../Data/benign-1/web_multiple_06.csv') #\n",
    "\n",
    "df_results = pd.DataFrame()"
   ]
  },
  {
   "cell_type": "code",
   "execution_count": 2,
   "id": "2dcd883e",
   "metadata": {
    "execution": {
     "iopub.execute_input": "2025-08-11T00:01:30.604203Z",
     "iopub.status.busy": "2025-08-11T00:01:30.603898Z",
     "iopub.status.idle": "2025-08-11T00:01:30.616803Z",
     "shell.execute_reply": "2025-08-11T00:01:30.615499Z"
    },
    "scrolled": false
   },
   "outputs": [
    {
     "name": "stdout",
     "output_type": "stream",
     "text": [
      "df1 -->> 43173\n",
      "df2 -->> 1213354\n",
      "df3 -->> 3621\n",
      "df4 -->> 22111\n",
      "df5 -->> 14156\n",
      "df6 -->> 24476\n",
      "df7 -->> 3106\n",
      "df32 -->> 18460\n",
      "df33 -->> 10285\n",
      "df34 -->> 7708\n",
      "df35 -->> 234892\n",
      "/////////////////////////////////////////////////\n",
      "df8 -->> 4550\n",
      "df9 -->> 3869\n",
      "df10 -->> 5327\n",
      "df11 -->> 4727\n",
      "df12 -->> 4190\n",
      "df13 -->> 3481\n",
      "df14 -->> 38576\n",
      "df15 -->> 5961\n",
      "df16 -->> 1803\n",
      "df17 -->> 7029\n",
      "df18 -->> 1012\n",
      "df19 -->> 96545\n",
      "df20 -->> 108065\n",
      "df21 -->> 25138\n",
      "df22 -->> 91274\n",
      "df23 -->> 23597\n",
      "df24 -->> 59635\n",
      "df25 -->> 625216\n",
      "df26 -->> 266935\n",
      "df27 -->> 453471\n",
      "df28 -->> 654495\n",
      "df29 -->> 6764\n",
      "df30 -->> 25300\n",
      "df31 -->> 3689\n"
     ]
    }
   ],
   "source": [
    "print(\"df1 -->> {}\".format(len(df1)))\n",
    "print(\"df2 -->> {}\".format(len(df2)))\n",
    "print(\"df3 -->> {}\".format(len(df3)))\n",
    "print(\"df4 -->> {}\".format(len(df4)))\n",
    "print(\"df5 -->> {}\".format(len(df5)))\n",
    "print(\"df6 -->> {}\".format(len(df6)))\n",
    "print(\"df7 -->> {}\".format(len(df7)))\n",
    "print(\"df32 -->> {}\".format(len(df32)))\n",
    "print(\"df33 -->> {}\".format(len(df33)))\n",
    "print(\"df34 -->> {}\".format(len(df34)))\n",
    "print(\"df35 -->> {}\".format(len(df35)))\n",
    "print(\"/////////////////////////////////////////////////\")\n",
    "\n",
    "\n",
    "print(\"df8 -->> {}\".format(len(df8)))\n",
    "print(\"df9 -->> {}\".format(len(df9)))\n",
    "print(\"df10 -->> {}\".format(len(df10)))\n",
    "print(\"df11 -->> {}\".format(len(df11)))\n",
    "print(\"df12 -->> {}\".format(len(df12)))\n",
    "print(\"df13 -->> {}\".format(len(df13)))\n",
    "print(\"df14 -->> {}\".format(len(df14)))\n",
    "print(\"df15 -->> {}\".format(len(df15)))\n",
    "print(\"df16 -->> {}\".format(len(df16)))\n",
    "print(\"df17 -->> {}\".format(len(df17)))\n",
    "print(\"df18 -->> {}\".format(len(df18)))\n",
    "print(\"df19 -->> {}\".format(len(df19)))\n",
    "print(\"df20 -->> {}\".format(len(df20)))\n",
    "print(\"df21 -->> {}\".format(len(df21)))\n",
    "print(\"df22 -->> {}\".format(len(df22)))\n",
    "print(\"df23 -->> {}\".format(len(df23)))\n",
    "print(\"df24 -->> {}\".format(len(df24)))\n",
    "print(\"df25 -->> {}\".format(len(df25)))\n",
    "print(\"df26 -->> {}\".format(len(df26)))\n",
    "print(\"df27 -->> {}\".format(len(df27)))\n",
    "print(\"df28 -->> {}\".format(len(df28)))\n",
    "print(\"df29 -->> {}\".format(len(df29)))\n",
    "print(\"df30 -->> {}\".format(len(df30)))\n",
    "print(\"df31 -->> {}\".format(len(df31)))\n"
   ]
  },
  {
   "cell_type": "code",
   "execution_count": 3,
   "id": "509e0229",
   "metadata": {
    "execution": {
     "iopub.execute_input": "2025-08-11T00:01:30.621166Z",
     "iopub.status.busy": "2025-08-11T00:01:30.620927Z",
     "iopub.status.idle": "2025-08-11T00:01:31.018018Z",
     "shell.execute_reply": "2025-08-11T00:01:31.016272Z"
    }
   },
   "outputs": [],
   "source": [
    "#################################################################\n",
    "#                                                               #\n",
    "#                     Filtering                                 #\n",
    "#                                                               #\n",
    "#################################################################\n",
    "\n",
    "# For WebOS = 18:56:80:17:d0:ef\n",
    "index_names = df1[((df1['HW_dst'] != '18:56:80:17:d0:ef') & (df1['Hw_src'] != '18:56:80:17:d0:ef'))].index\n",
    "df1.drop(index_names, inplace = True)\n",
    "\n",
    "# Big_Server_Monero_mining_data = a4:bb:6d:ac:e1:fd\n",
    "\n",
    "index_names = df2[((df2['HW_dst'] != 'a4:bb:6d:ac:e1:fd') & (df2['Hw_src'] != 'a4:bb:6d:ac:e1:fd'))].index\n",
    "df2.drop(index_names, inplace = True)\n",
    "\n",
    "# ege_data_rasberry = dc:a6:32:67:66:4b\t\n",
    "\n",
    "index_names = df3[((df3['HW_dst'] != 'dc:a6:32:67:66:4b') & (df3['Hw_src'] != 'dc:a6:32:67:66:4b'))].index\n",
    "df3.drop(index_names, inplace = True)\n",
    "\n",
    "# Rasberry_binary_monero_mining = dc:a6:32:68:35:8a\n",
    "\n",
    "index_names = df4[((df4['HW_dst'] != 'dc:a6:32:68:35:8a') & (df4['Hw_src'] != 'dc:a6:32:68:35:8a'))].index\n",
    "df4.drop(index_names, inplace = True)\n",
    "\n",
    "# Rasberry_network_data_2 = dc:a6:32:67:66:4b\n",
    "\n",
    "index_names = df5[((df5['HW_dst'] != 'dc:a6:32:67:66:4b') & (df5['Hw_src'] != 'dc:a6:32:67:66:4b'))].index\n",
    "df5.drop(index_names, inplace = True)\n",
    "\n",
    "# Rasberry-Webmine = dc:a6:32:67:66:4b\n",
    "index_names = df6[((df6['HW_dst'] != 'dc:a6:32:67:66:4b') & (df6['Hw_src'] != 'dc:a6:32:67:66:4b'))].index\n",
    "df6.drop(index_names, inplace = True)\n",
    "\n",
    "# Server_Webmine_Network_data = a4:bb:6d:ac:e1:fd\n",
    "\n",
    "index_names = df7[((df7['HW_dst'] != 'a4:bb:6d:ac:e1:fd') & (df7['Hw_src'] != 'a4:bb:6d:ac:e1:fd'))].index\n",
    "df7.drop(index_names, inplace = True)\n",
    "\n",
    "# Server_%50_Mining = a4:bb:6d:ac:e1:fd\n",
    "\n",
    "index_names = df32[((df32['HW_dst'] != 'a4:bb:6d:ac:e1:fd') & (df32['Hw_src'] != 'a4:bb:6d:ac:e1:fd'))].index\n",
    "df32.drop(index_names, inplace = True)\n",
    "\n",
    "# Rasberry_webmine_%10 = dc:a6:32:67:66:4b\n",
    "\n",
    "index_names = df33[((df33['HW_dst'] != 'dc:a6:32:67:66:4b') & (df33['Hw_src'] != 'dc:a6:32:67:66:4b'))].index\n",
    "df33.drop(index_names, inplace = True)\n",
    "\n",
    "# Rasberry_webmine_%50 = dc:a6:32:68:35:8a\n",
    "\n",
    "index_names = df34[((df34['HW_dst'] != 'dc:a6:32:68:35:8a') & (df34['Hw_src'] != 'dc:a6:32:68:35:8a'))].index\n",
    "df34.drop(index_names, inplace = True)\n",
    "\n",
    "# Desktop_Webmine_%100 = dc:a6:32:68:35:8a\n",
    "\n",
    "index_names = df35[((df35['HW_dst'] != 'd8:3b:bf:8f:ba:ba') & (df35['Hw_src'] != 'd8:3b:bf:8f:ba:ba'))].index\n",
    "df35.drop(index_names, inplace = True)"
   ]
  },
  {
   "cell_type": "code",
   "execution_count": 4,
   "id": "a688f185",
   "metadata": {
    "execution": {
     "iopub.execute_input": "2025-08-11T00:01:31.022842Z",
     "iopub.status.busy": "2025-08-11T00:01:31.022584Z",
     "iopub.status.idle": "2025-08-11T00:01:31.047210Z",
     "shell.execute_reply": "2025-08-11T00:01:31.045542Z"
    }
   },
   "outputs": [],
   "source": [
    "#################################################################\n",
    "#                                                               #\n",
    "#      Labeling Features for further calculations               #\n",
    "#                                                               #\n",
    "#################################################################\n",
    "\n",
    "df1.insert(7, \"Is_malicious\", 1)\n",
    "df2.insert(7, \"Is_malicious\", 1)\n",
    "df3.insert(7, \"Is_malicious\", 1)\n",
    "df4.insert(7, \"Is_malicious\", 1)\n",
    "df5.insert(7, \"Is_malicious\", 1)\n",
    "df6.insert(7, \"Is_malicious\", 1)\n",
    "df7.insert(7, \"Is_malicious\", 1)\n",
    "\n",
    "# ========================================================\n",
    "\n",
    "df8.insert(7, \"Is_malicious\", 0)\n",
    "df9.insert(7, \"Is_malicious\", 0)\n",
    "df10.insert(7, \"Is_malicious\", 0)\n",
    "df11.insert(7, \"Is_malicious\", 0)\n",
    "df12.insert(7, \"Is_malicious\", 0)\n",
    "df13.insert(7, \"Is_malicious\", 0)\n",
    "df14.insert(7, \"Is_malicious\", 0)\n",
    "df15.insert(7, \"Is_malicious\", 0)\n",
    "df16.insert(7, \"Is_malicious\", 0)\n",
    "df17.insert(7, \"Is_malicious\", 0)\n",
    "df18.insert(7, \"Is_malicious\", 0)\n",
    "df19.insert(7, \"Is_malicious\", 0)\n",
    "df20.insert(7, \"Is_malicious\", 0)\n",
    "df21.insert(7, \"Is_malicious\", 0)\n",
    "df22.insert(7, \"Is_malicious\", 0)\n",
    "df23.insert(7, \"Is_malicious\", 0)\n",
    "df24.insert(7, \"Is_malicious\", 0)\n",
    "\n",
    "\n",
    "# ========================================================\n",
    "\n",
    "df25.insert(7, \"Is_malicious\", 0)\n",
    "df26.insert(7, \"Is_malicious\", 0)\n",
    "df27.insert(7, \"Is_malicious\", 0)\n",
    "df28.insert(7, \"Is_malicious\", 0)\n",
    "df29.insert(7, \"Is_malicious\", 0)\n",
    "df30.insert(7, \"Is_malicious\", 0)\n",
    "df31.insert(7, \"Is_malicious\", 0)\n",
    "\n",
    "df32.insert(7, \"Is_malicious\", 1)\n",
    "df33.insert(7, \"Is_malicious\", 1)\n",
    "df34.insert(7, \"Is_malicious\", 1)\n",
    "df35.insert(7, \"Is_malicious\", 1)"
   ]
  },
  {
   "cell_type": "code",
   "execution_count": 5,
   "id": "b072babb",
   "metadata": {
    "execution": {
     "iopub.execute_input": "2025-08-11T00:01:31.052123Z",
     "iopub.status.busy": "2025-08-11T00:01:31.051847Z",
     "iopub.status.idle": "2025-08-11T00:01:32.129397Z",
     "shell.execute_reply": "2025-08-11T00:01:32.127559Z"
    }
   },
   "outputs": [
    {
     "name": "stdout",
     "output_type": "stream",
     "text": [
      "df1 -->> 41572\n"
     ]
    },
    {
     "name": "stdout",
     "output_type": "stream",
     "text": [
      "df2 -->> 1198039\n",
      "df3 -->> 3519\n",
      "df4 -->> 11745\n",
      "df5 -->> 12871\n",
      "df6 -->> 19643\n",
      "df7 -->> 2539\n",
      "df8 -->> 4550\n",
      "df9 -->> 3869\n",
      "df10 -->> 5327\n",
      "df11 -->> 4727\n",
      "df12 -->> 4190\n",
      "df13 -->> 3481\n",
      "df14 -->> 38576\n",
      "df15 -->> 5961\n",
      "df16 -->> 1803\n",
      "df17 -->> 7029\n",
      "df18 -->> 1012\n",
      "df19 -->> 96545\n",
      "df20 -->> 108065\n",
      "df21 -->> 25138\n",
      "df22 -->> 91274\n",
      "df23 -->> 23597\n",
      "df24 -->> 59619\n"
     ]
    },
    {
     "name": "stdout",
     "output_type": "stream",
     "text": [
      "df25 -->> 625194\n",
      "df26 -->> 266935\n",
      "df27 -->> 453466\n"
     ]
    },
    {
     "name": "stdout",
     "output_type": "stream",
     "text": [
      "df28 -->> 654479\n",
      "df29 -->> 6764\n",
      "df30 -->> 25288\n",
      "df31 -->> 3689\n",
      "df32 -->> 16744\n",
      "df33 -->> 9880\n",
      "df34 -->> 6406\n",
      "df35 -->> 234272\n"
     ]
    }
   ],
   "source": [
    "print(\"df1 -->> {}\".format(len(df1.dropna())))\n",
    "print(\"df2 -->> {}\".format(len(df2.dropna())))\n",
    "print(\"df3 -->> {}\".format(len(df3.dropna())))\n",
    "print(\"df4 -->> {}\".format(len(df4.dropna())))\n",
    "print(\"df5 -->> {}\".format(len(df5.dropna())))\n",
    "print(\"df6 -->> {}\".format(len(df6.dropna())))\n",
    "print(\"df7 -->> {}\".format(len(df7.dropna())))\n",
    "print(\"df8 -->> {}\".format(len(df8.dropna())))\n",
    "print(\"df9 -->> {}\".format(len(df9.dropna())))\n",
    "print(\"df10 -->> {}\".format(len(df10.dropna())))\n",
    "print(\"df11 -->> {}\".format(len(df11.dropna())))\n",
    "print(\"df12 -->> {}\".format(len(df12.dropna())))\n",
    "print(\"df13 -->> {}\".format(len(df13.dropna())))\n",
    "print(\"df14 -->> {}\".format(len(df14.dropna())))\n",
    "print(\"df15 -->> {}\".format(len(df15.dropna())))\n",
    "print(\"df16 -->> {}\".format(len(df16.dropna())))\n",
    "print(\"df17 -->> {}\".format(len(df17.dropna())))\n",
    "print(\"df18 -->> {}\".format(len(df18.dropna())))\n",
    "print(\"df19 -->> {}\".format(len(df19.dropna())))\n",
    "print(\"df20 -->> {}\".format(len(df20.dropna())))\n",
    "print(\"df21 -->> {}\".format(len(df21.dropna())))\n",
    "print(\"df22 -->> {}\".format(len(df22.dropna())))\n",
    "print(\"df23 -->> {}\".format(len(df23.dropna())))\n",
    "print(\"df24 -->> {}\".format(len(df24.dropna())))\n",
    "print(\"df25 -->> {}\".format(len(df25.dropna())))\n",
    "print(\"df26 -->> {}\".format(len(df26.dropna())))\n",
    "print(\"df27 -->> {}\".format(len(df27.dropna())))\n",
    "print(\"df28 -->> {}\".format(len(df28.dropna())))\n",
    "print(\"df29 -->> {}\".format(len(df29.dropna())))\n",
    "print(\"df30 -->> {}\".format(len(df30.dropna())))\n",
    "print(\"df31 -->> {}\".format(len(df31.dropna())))\n",
    "print(\"df32 -->> {}\".format(len(df32.dropna())))\n",
    "print(\"df33 -->> {}\".format(len(df33.dropna())))\n",
    "print(\"df34 -->> {}\".format(len(df34.dropna())))\n",
    "print(\"df35 -->> {}\".format(len(df35.dropna())))"
   ]
  },
  {
   "cell_type": "code",
   "execution_count": 6,
   "id": "001d11c0",
   "metadata": {
    "execution": {
     "iopub.execute_input": "2025-08-11T00:01:32.134284Z",
     "iopub.status.busy": "2025-08-11T00:01:32.134007Z",
     "iopub.status.idle": "2025-08-11T00:01:32.144715Z",
     "shell.execute_reply": "2025-08-11T00:01:32.142972Z"
    }
   },
   "outputs": [],
   "source": [
    "def run_process(a,b,x):\n",
    "    \n",
    "    df_malicious = a.copy()\n",
    "    df_benign    = b.copy()\n",
    "    \n",
    "    from tsfresh import extract_features, select_features\n",
    "    from tsfresh.utilities.dataframe_functions import impute\n",
    "    from tsfresh import extract_features\n",
    "    from tsfresh.feature_selection.relevance import calculate_relevance_table\n",
    "\n",
    "\n",
    "    df_malicious.reset_index(drop=True, inplace=True) #reset index\n",
    "    df_malicious['id']= np.floor(df_malicious.index.array/10)\n",
    "    df_benign.reset_index(drop=True, inplace=True) #reset index\n",
    "    df_benign['id']= np.floor(df_benign.index.array/10)\n",
    "    \n",
    "\n",
    "    \n",
    "\n",
    "    tf1=tsfresh.extract_features(df_malicious,impute_function=impute, column_kind='Is_malicious',\n",
    "                                 column_id='id',column_sort=\"Time\",column_value = \"Length\")\n",
    "    tf1['class']= 1\n",
    "\n",
    "    \n",
    "    \n",
    "    tf2=tsfresh.extract_features(df_benign,impute_function=impute, column_kind='Is_malicious',\n",
    "                                 column_id='id',column_sort=\"Time\",column_value = \"Length\")\n",
    "    tf2['class']= 0\n",
    "\n",
    "\n",
    "    tf2.columns = tf1.columns\n",
    "\n",
    "    features=pd.concat([tf1,tf2])\n",
    "\n",
    "\n",
    "    features2 = features.copy()\n",
    "    features2.reset_index(drop=True, inplace=True)\n",
    "    \n",
    "    y = pd.Series(data = features2['class'], index=features2.index)\n",
    "    \n",
    "    from tsfresh.examples import load_robot_execution_failures\n",
    "    from tsfresh import extract_features, select_features\n",
    "    from tsfresh.feature_selection.relevance import calculate_relevance_table\n",
    "\n",
    "    relevance_table = calculate_relevance_table(features2, y)\n",
    "    relevance_table = relevance_table[relevance_table.relevant]\n",
    "    relevance_table.sort_values(\"p_value\", inplace=True)\n",
    "\n",
    "    relevance_table\n",
    "    \n",
    "    best_features = relevance_table[relevance_table['p_value'] <= 0.05]\n",
    "\n",
    "    df_ML = pd.DataFrame()\n",
    "\n",
    "    for pkt in best_features:\n",
    "        df_ML[best_features.feature] = features[best_features.feature]\n",
    "\n",
    "    final = ML_Process(df_ML,x)\n",
    "\n",
    "    return final"
   ]
  },
  {
   "cell_type": "code",
   "execution_count": 7,
   "id": "3914aa42",
   "metadata": {
    "execution": {
     "iopub.execute_input": "2025-08-11T00:01:32.149429Z",
     "iopub.status.busy": "2025-08-11T00:01:32.149155Z",
     "iopub.status.idle": "2025-08-11T00:01:32.163873Z",
     "shell.execute_reply": "2025-08-11T00:01:32.162242Z"
    }
   },
   "outputs": [],
   "source": [
    "def ML_Process(df_ML,x):\n",
    "    df_results = x.copy() \n",
    "    print('let the ml starts')\n",
    "  \n",
    "    from sklearn import neighbors, metrics\n",
    "    from sklearn.preprocessing import LabelEncoder\n",
    "\n",
    "    #X = df_finalized[['Time', 'Length','Protocol']].values\n",
    "    X = df_ML.drop('class',axis=1).to_numpy()\n",
    "    #y = df_finalized[['Is_malicious']]\n",
    "    y = df_ML['class'].to_numpy()\n",
    "\n",
    "\n",
    "    #print(X,y)\n",
    "    \n",
    "    from sklearn.model_selection import train_test_split\n",
    "    Le = LabelEncoder()\n",
    "    for i in range(len(X[0])):\n",
    "        X[:, i] = Le.fit_transform(X[:, i])\n",
    "\n",
    "    X_train, X_test, y_train, y_test = train_test_split(X, y, test_size=0.25, random_state=8675309)\n",
    "\n",
    "    \n",
    "    from sklearn.linear_model import LogisticRegression\n",
    "    from sklearn.neighbors import KNeighborsClassifier\n",
    "    from sklearn.svm import SVC\n",
    "    from sklearn.ensemble import RandomForestClassifier\n",
    "    from sklearn.naive_bayes import GaussianNB\n",
    "    #from xgboost import XGBClassifier\n",
    "    from sklearn import model_selection\n",
    "    from sklearn.utils import class_weight\n",
    "    from sklearn.metrics import classification_report\n",
    "    from sklearn.metrics import confusion_matrix\n",
    "    import numpy as np\n",
    "    import pandas as pd\n",
    "    y_train = y_train.ravel()\n",
    "    dfs = []\n",
    "    models = [\n",
    "        ('SVM-linear-scale-1', SVC(C = 1, kernel = 'linear',gamma ='scale')),\n",
    "        ('SVM-poly-scale-1', SVC(C = 1, kernel = 'poly',gamma ='scale')),\n",
    "        ('SVM-rbf-scale-1', SVC(C = 1, kernel = 'rbf',gamma ='scale')),\n",
    "        ('SVM-sigmoid-scale-1', SVC(C = 1, kernel = 'sigmoid',gamma ='scale')),\n",
    "        ('SVM-linear-auto-1', SVC(C = 1, kernel = 'linear',gamma ='auto')),\n",
    "        ('SVM-poly-auto-1', SVC(C = 1, kernel = 'poly',gamma ='auto')),\n",
    "        ('SVM-rbf-auto-1', SVC(C = 1, kernel = 'rbf',gamma ='auto')),\n",
    "        ('SVM-sigmoid-auto-1', SVC(C = 1, kernel = 'sigmoid',gamma ='auto')),\n",
    "        ('SVM-linear-scale-2', SVC(C = 2, kernel = 'linear',gamma ='scale')),\n",
    "        ('SVM-poly-scale-2', SVC(C = 2, kernel = 'poly',gamma ='scale')),\n",
    "        ('SVM-rbf-scale-2', SVC(C = 2, kernel = 'rbf',gamma ='scale')),\n",
    "        ('SVM-sigmoid-scale-2', SVC(C = 2, kernel = 'sigmoid',gamma ='scale')),\n",
    "        ('SVM-linear-auto-2', SVC(C = 2, kernel = 'linear',gamma ='auto')),\n",
    "        ('SVM-poly-auto-2', SVC(C = 2, kernel = 'poly',gamma ='auto')),\n",
    "        ('SVM-rbf-auto-2', SVC(C = 2, kernel = 'rbf',gamma ='auto')),\n",
    "        ('SVM-sigmoid-auto-2', SVC(C = 2, kernel = 'sigmoid',gamma ='auto'))\n",
    "            ]\n",
    "    results = []\n",
    "    names = []\n",
    "    scoring = ['accuracy', 'precision_weighted', 'recall_weighted', 'f1_weighted', 'roc_auc']\n",
    "    target_names = ['malignant', 'benign']\n",
    "    for name, model in models:\n",
    "        kfold = model_selection.KFold(n_splits=5, shuffle=True, random_state=90210)\n",
    "        cv_results = model_selection.cross_validate(model, X_train, y_train, cv=kfold, \n",
    "                                                    scoring=scoring)\n",
    "\n",
    "        clf = model.fit(X_train, y_train)\n",
    "        y_pred = clf.predict(X_test)\n",
    "        print(name)\n",
    "        print(classification_report(y_test, y_pred, target_names=target_names))\n",
    "        results.append(cv_results)\n",
    "        names.append(name)\n",
    "        this_df = pd.DataFrame(cv_results)\n",
    "        this_df['model'] = name\n",
    "        dfs.append(this_df)\n",
    "        final = pd.concat(dfs, ignore_index=True)\n",
    "        print(final)\n",
    "\n",
    "    return(final)\n"
   ]
  },
  {
   "cell_type": "code",
   "execution_count": 8,
   "id": "5dd92dfb",
   "metadata": {
    "execution": {
     "iopub.execute_input": "2025-08-11T00:01:32.168428Z",
     "iopub.status.busy": "2025-08-11T00:01:32.168148Z",
     "iopub.status.idle": "2025-08-11T00:08:08.852700Z",
     "shell.execute_reply": "2025-08-11T00:08:08.851645Z"
    }
   },
   "outputs": [
    {
     "name": "stdout",
     "output_type": "stream",
     "text": [
      "malicious: 30000\n",
      "benign: 30000\n",
      "0 NAN in malicious!\n",
      "0 NAN in benign!\n",
      "After droppping NAN rows: \n",
      "malicious: 30000\n",
      "benign: 30000\n"
     ]
    },
    {
     "name": "stderr",
     "output_type": "stream",
     "text": [
      "\r",
      "Feature Extraction:   0%|          | 0/231 [00:00<?, ?it/s]"
     ]
    },
    {
     "name": "stderr",
     "output_type": "stream",
     "text": [
      "\r",
      "Feature Extraction:   0%|          | 1/231 [00:01<05:59,  1.56s/it]"
     ]
    },
    {
     "name": "stderr",
     "output_type": "stream",
     "text": [
      "\r",
      "Feature Extraction:   1%|          | 2/231 [00:01<03:01,  1.26it/s]"
     ]
    },
    {
     "name": "stderr",
     "output_type": "stream",
     "text": [
      "\r",
      "Feature Extraction:   2%|▏         | 4/231 [00:01<01:14,  3.03it/s]"
     ]
    },
    {
     "name": "stderr",
     "output_type": "stream",
     "text": [
      "\r",
      "Feature Extraction:   3%|▎         | 7/231 [00:02<00:36,  6.08it/s]"
     ]
    },
    {
     "name": "stderr",
     "output_type": "stream",
     "text": [
      "\r",
      "Feature Extraction:   4%|▍         | 10/231 [00:02<00:25,  8.75it/s]"
     ]
    },
    {
     "name": "stderr",
     "output_type": "stream",
     "text": [
      "\r",
      "Feature Extraction:   6%|▌         | 14/231 [00:02<00:16, 13.00it/s]"
     ]
    },
    {
     "name": "stderr",
     "output_type": "stream",
     "text": [
      "\r",
      "Feature Extraction:   8%|▊         | 18/231 [00:02<00:12, 16.82it/s]"
     ]
    },
    {
     "name": "stderr",
     "output_type": "stream",
     "text": [
      "\r",
      "Feature Extraction:  10%|▉         | 23/231 [00:02<00:09, 22.23it/s]"
     ]
    },
    {
     "name": "stderr",
     "output_type": "stream",
     "text": [
      "\r",
      "Feature Extraction:  13%|█▎        | 29/231 [00:02<00:06, 29.95it/s]"
     ]
    },
    {
     "name": "stderr",
     "output_type": "stream",
     "text": [
      "\r",
      "Feature Extraction:  15%|█▍        | 34/231 [00:02<00:05, 34.15it/s]"
     ]
    },
    {
     "name": "stderr",
     "output_type": "stream",
     "text": [
      "\r",
      "Feature Extraction:  18%|█▊        | 41/231 [00:02<00:04, 40.09it/s]"
     ]
    },
    {
     "name": "stderr",
     "output_type": "stream",
     "text": [
      "\r",
      "Feature Extraction:  20%|██        | 47/231 [00:03<00:04, 43.28it/s]"
     ]
    },
    {
     "name": "stderr",
     "output_type": "stream",
     "text": [
      "\r",
      "Feature Extraction:  23%|██▎       | 52/231 [00:03<00:04, 37.34it/s]"
     ]
    },
    {
     "name": "stderr",
     "output_type": "stream",
     "text": [
      "\r",
      "Feature Extraction:  25%|██▍       | 57/231 [00:03<00:08, 19.57it/s]"
     ]
    },
    {
     "name": "stderr",
     "output_type": "stream",
     "text": [
      "\r",
      "Feature Extraction:  26%|██▋       | 61/231 [00:03<00:08, 20.27it/s]"
     ]
    },
    {
     "name": "stderr",
     "output_type": "stream",
     "text": [
      "\r",
      "Feature Extraction:  28%|██▊       | 65/231 [00:04<00:07, 22.73it/s]"
     ]
    },
    {
     "name": "stderr",
     "output_type": "stream",
     "text": [
      "\r",
      "Feature Extraction:  30%|███       | 70/231 [00:04<00:05, 27.01it/s]"
     ]
    },
    {
     "name": "stderr",
     "output_type": "stream",
     "text": [
      "\r",
      "Feature Extraction:  32%|███▏      | 75/231 [00:04<00:05, 30.65it/s]"
     ]
    },
    {
     "name": "stderr",
     "output_type": "stream",
     "text": [
      "\r",
      "Feature Extraction:  35%|███▍      | 80/231 [00:04<00:04, 32.39it/s]"
     ]
    },
    {
     "name": "stderr",
     "output_type": "stream",
     "text": [
      "\r",
      "Feature Extraction:  36%|███▋      | 84/231 [00:04<00:04, 33.47it/s]"
     ]
    },
    {
     "name": "stderr",
     "output_type": "stream",
     "text": [
      "\r",
      "Feature Extraction:  39%|███▊      | 89/231 [00:04<00:03, 35.62it/s]"
     ]
    },
    {
     "name": "stderr",
     "output_type": "stream",
     "text": [
      "\r",
      "Feature Extraction:  41%|████      | 94/231 [00:04<00:03, 38.31it/s]"
     ]
    },
    {
     "name": "stderr",
     "output_type": "stream",
     "text": [
      "\r",
      "Feature Extraction:  43%|████▎     | 99/231 [00:04<00:03, 38.72it/s]"
     ]
    },
    {
     "name": "stderr",
     "output_type": "stream",
     "text": [
      "\r",
      "Feature Extraction:  45%|████▌     | 104/231 [00:05<00:05, 24.35it/s]"
     ]
    },
    {
     "name": "stderr",
     "output_type": "stream",
     "text": [
      "\r",
      "Feature Extraction:  47%|████▋     | 108/231 [00:05<00:04, 25.99it/s]"
     ]
    },
    {
     "name": "stderr",
     "output_type": "stream",
     "text": [
      "\r",
      "Feature Extraction:  49%|████▉     | 113/231 [00:05<00:04, 29.06it/s]"
     ]
    },
    {
     "name": "stderr",
     "output_type": "stream",
     "text": [
      "\r",
      "Feature Extraction:  51%|█████     | 117/231 [00:05<00:04, 23.75it/s]"
     ]
    },
    {
     "name": "stderr",
     "output_type": "stream",
     "text": [
      "\r",
      "Feature Extraction:  53%|█████▎    | 123/231 [00:05<00:03, 28.69it/s]"
     ]
    },
    {
     "name": "stderr",
     "output_type": "stream",
     "text": [
      "\r",
      "Feature Extraction:  55%|█████▍    | 127/231 [00:06<00:03, 30.48it/s]"
     ]
    },
    {
     "name": "stderr",
     "output_type": "stream",
     "text": [
      "\r",
      "Feature Extraction:  57%|█████▋    | 131/231 [00:06<00:03, 31.18it/s]"
     ]
    },
    {
     "name": "stderr",
     "output_type": "stream",
     "text": [
      "\r",
      "Feature Extraction:  58%|█████▊    | 135/231 [00:06<00:02, 32.69it/s]"
     ]
    },
    {
     "name": "stderr",
     "output_type": "stream",
     "text": [
      "\r",
      "Feature Extraction:  60%|██████    | 139/231 [00:06<00:02, 32.28it/s]"
     ]
    },
    {
     "name": "stderr",
     "output_type": "stream",
     "text": [
      "\r",
      "Feature Extraction:  62%|██████▏   | 144/231 [00:06<00:02, 36.05it/s]"
     ]
    },
    {
     "name": "stderr",
     "output_type": "stream",
     "text": [
      "\r",
      "Feature Extraction:  64%|██████▍   | 148/231 [00:06<00:02, 30.31it/s]"
     ]
    },
    {
     "name": "stderr",
     "output_type": "stream",
     "text": [
      "\r",
      "Feature Extraction:  66%|██████▌   | 153/231 [00:06<00:02, 28.29it/s]"
     ]
    },
    {
     "name": "stderr",
     "output_type": "stream",
     "text": [
      "\r",
      "Feature Extraction:  68%|██████▊   | 157/231 [00:07<00:03, 24.57it/s]"
     ]
    },
    {
     "name": "stderr",
     "output_type": "stream",
     "text": [
      "\r",
      "Feature Extraction:  69%|██████▉   | 160/231 [00:07<00:03, 23.63it/s]"
     ]
    },
    {
     "name": "stderr",
     "output_type": "stream",
     "text": [
      "\r",
      "Feature Extraction:  71%|███████   | 163/231 [00:07<00:02, 24.23it/s]"
     ]
    },
    {
     "name": "stderr",
     "output_type": "stream",
     "text": [
      "\r",
      "Feature Extraction:  73%|███████▎  | 168/231 [00:07<00:02, 27.72it/s]"
     ]
    },
    {
     "name": "stderr",
     "output_type": "stream",
     "text": [
      "\r",
      "Feature Extraction:  74%|███████▍  | 171/231 [00:07<00:02, 25.76it/s]"
     ]
    },
    {
     "name": "stderr",
     "output_type": "stream",
     "text": [
      "\r",
      "Feature Extraction:  76%|███████▌  | 175/231 [00:07<00:02, 25.65it/s]"
     ]
    },
    {
     "name": "stderr",
     "output_type": "stream",
     "text": [
      "\r",
      "Feature Extraction:  77%|███████▋  | 178/231 [00:08<00:03, 13.31it/s]"
     ]
    },
    {
     "name": "stderr",
     "output_type": "stream",
     "text": [
      "\r",
      "Feature Extraction:  80%|███████▉  | 184/231 [00:08<00:02, 19.56it/s]"
     ]
    },
    {
     "name": "stderr",
     "output_type": "stream",
     "text": [
      "\r",
      "Feature Extraction:  87%|████████▋ | 201/231 [00:08<00:00, 43.91it/s]"
     ]
    },
    {
     "name": "stderr",
     "output_type": "stream",
     "text": [
      "\r",
      "Feature Extraction:  95%|█████████▍| 219/231 [00:08<00:00, 69.11it/s]"
     ]
    },
    {
     "name": "stderr",
     "output_type": "stream",
     "text": [
      "\r",
      "Feature Extraction: 100%|█████████▉| 230/231 [00:09<00:00, 41.75it/s]"
     ]
    },
    {
     "name": "stderr",
     "output_type": "stream",
     "text": [
      "\r",
      "Feature Extraction: 100%|██████████| 231/231 [00:09<00:00, 25.15it/s]"
     ]
    },
    {
     "name": "stderr",
     "output_type": "stream",
     "text": [
      "\n"
     ]
    },
    {
     "name": "stderr",
     "output_type": "stream",
     "text": [
      "\r",
      "Feature Extraction:   0%|          | 0/231 [00:00<?, ?it/s]"
     ]
    },
    {
     "name": "stderr",
     "output_type": "stream",
     "text": [
      "\r",
      "Feature Extraction:   0%|          | 1/231 [00:01<04:13,  1.10s/it]"
     ]
    },
    {
     "name": "stderr",
     "output_type": "stream",
     "text": [
      "\r",
      "Feature Extraction:   1%|▏         | 3/231 [00:01<01:30,  2.51it/s]"
     ]
    },
    {
     "name": "stderr",
     "output_type": "stream",
     "text": [
      "\r",
      "Feature Extraction:   3%|▎         | 8/231 [00:01<00:27,  8.03it/s]"
     ]
    },
    {
     "name": "stderr",
     "output_type": "stream",
     "text": [
      "\r",
      "Feature Extraction:   5%|▍         | 11/231 [00:01<00:19, 11.03it/s]"
     ]
    },
    {
     "name": "stderr",
     "output_type": "stream",
     "text": [
      "\r",
      "Feature Extraction:   7%|▋         | 16/231 [00:01<00:12, 17.45it/s]"
     ]
    },
    {
     "name": "stderr",
     "output_type": "stream",
     "text": [
      "\r",
      "Feature Extraction:   9%|▉         | 21/231 [00:01<00:09, 23.11it/s]"
     ]
    },
    {
     "name": "stderr",
     "output_type": "stream",
     "text": [
      "\r",
      "Feature Extraction:  12%|█▏        | 27/231 [00:01<00:07, 27.84it/s]"
     ]
    },
    {
     "name": "stderr",
     "output_type": "stream",
     "text": [
      "\r",
      "Feature Extraction:  14%|█▍        | 32/231 [00:02<00:06, 29.47it/s]"
     ]
    },
    {
     "name": "stderr",
     "output_type": "stream",
     "text": [
      "\r",
      "Feature Extraction:  16%|█▋        | 38/231 [00:02<00:05, 34.06it/s]"
     ]
    },
    {
     "name": "stderr",
     "output_type": "stream",
     "text": [
      "\r",
      "Feature Extraction:  18%|█▊        | 42/231 [00:02<00:05, 34.84it/s]"
     ]
    },
    {
     "name": "stderr",
     "output_type": "stream",
     "text": [
      "\r",
      "Feature Extraction:  20%|█▉        | 46/231 [00:02<00:05, 33.49it/s]"
     ]
    },
    {
     "name": "stderr",
     "output_type": "stream",
     "text": [
      "\r",
      "Feature Extraction:  22%|██▏       | 50/231 [00:02<00:05, 34.45it/s]"
     ]
    },
    {
     "name": "stderr",
     "output_type": "stream",
     "text": [
      "\r",
      "Feature Extraction:  24%|██▍       | 55/231 [00:02<00:04, 37.11it/s]"
     ]
    },
    {
     "name": "stderr",
     "output_type": "stream",
     "text": [
      "\r",
      "Feature Extraction:  26%|██▌       | 60/231 [00:02<00:04, 40.36it/s]"
     ]
    },
    {
     "name": "stderr",
     "output_type": "stream",
     "text": [
      "\r",
      "Feature Extraction:  28%|██▊       | 65/231 [00:03<00:10, 15.63it/s]"
     ]
    },
    {
     "name": "stderr",
     "output_type": "stream",
     "text": [
      "\r",
      "Feature Extraction:  31%|███       | 72/231 [00:03<00:07, 21.10it/s]"
     ]
    },
    {
     "name": "stderr",
     "output_type": "stream",
     "text": [
      "\r",
      "Feature Extraction:  33%|███▎      | 76/231 [00:03<00:06, 23.63it/s]"
     ]
    },
    {
     "name": "stderr",
     "output_type": "stream",
     "text": [
      "\r",
      "Feature Extraction:  35%|███▌      | 81/231 [00:03<00:05, 27.84it/s]"
     ]
    },
    {
     "name": "stderr",
     "output_type": "stream",
     "text": [
      "\r",
      "Feature Extraction:  37%|███▋      | 86/231 [00:04<00:04, 30.18it/s]"
     ]
    },
    {
     "name": "stderr",
     "output_type": "stream",
     "text": [
      "\r",
      "Feature Extraction:  40%|███▉      | 92/231 [00:04<00:03, 35.04it/s]"
     ]
    },
    {
     "name": "stderr",
     "output_type": "stream",
     "text": [
      "\r",
      "Feature Extraction:  42%|████▏     | 97/231 [00:04<00:03, 36.20it/s]"
     ]
    },
    {
     "name": "stderr",
     "output_type": "stream",
     "text": [
      "\r",
      "Feature Extraction:  45%|████▍     | 103/231 [00:04<00:03, 38.62it/s]"
     ]
    },
    {
     "name": "stderr",
     "output_type": "stream",
     "text": [
      "\r",
      "Feature Extraction:  47%|████▋     | 108/231 [00:04<00:03, 38.87it/s]"
     ]
    },
    {
     "name": "stderr",
     "output_type": "stream",
     "text": [
      "\r",
      "Feature Extraction:  49%|████▉     | 113/231 [00:04<00:03, 37.44it/s]"
     ]
    },
    {
     "name": "stderr",
     "output_type": "stream",
     "text": [
      "\r",
      "Feature Extraction:  51%|█████     | 117/231 [00:04<00:03, 36.01it/s]"
     ]
    },
    {
     "name": "stderr",
     "output_type": "stream",
     "text": [
      "\r",
      "Feature Extraction:  53%|█████▎    | 122/231 [00:04<00:02, 38.10it/s]"
     ]
    },
    {
     "name": "stderr",
     "output_type": "stream",
     "text": [
      "\r",
      "Feature Extraction:  55%|█████▍    | 127/231 [00:05<00:02, 37.69it/s]"
     ]
    },
    {
     "name": "stderr",
     "output_type": "stream",
     "text": [
      "\r",
      "Feature Extraction:  57%|█████▋    | 131/231 [00:05<00:03, 29.56it/s]"
     ]
    },
    {
     "name": "stderr",
     "output_type": "stream",
     "text": [
      "\r",
      "Feature Extraction:  58%|█████▊    | 135/231 [00:05<00:03, 27.07it/s]"
     ]
    },
    {
     "name": "stderr",
     "output_type": "stream",
     "text": [
      "\r",
      "Feature Extraction:  60%|██████    | 139/231 [00:05<00:03, 29.51it/s]"
     ]
    },
    {
     "name": "stderr",
     "output_type": "stream",
     "text": [
      "\r",
      "Feature Extraction:  62%|██████▏   | 143/231 [00:05<00:03, 28.11it/s]"
     ]
    },
    {
     "name": "stderr",
     "output_type": "stream",
     "text": [
      "\r",
      "Feature Extraction:  64%|██████▎   | 147/231 [00:05<00:02, 28.96it/s]"
     ]
    },
    {
     "name": "stderr",
     "output_type": "stream",
     "text": [
      "\r",
      "Feature Extraction:  65%|██████▌   | 151/231 [00:05<00:02, 30.40it/s]"
     ]
    },
    {
     "name": "stderr",
     "output_type": "stream",
     "text": [
      "\r",
      "Feature Extraction:  68%|██████▊   | 156/231 [00:06<00:02, 32.81it/s]"
     ]
    },
    {
     "name": "stderr",
     "output_type": "stream",
     "text": [
      "\r",
      "Feature Extraction:  69%|██████▉   | 160/231 [00:06<00:02, 26.77it/s]"
     ]
    },
    {
     "name": "stderr",
     "output_type": "stream",
     "text": [
      "\r",
      "Feature Extraction:  71%|███████   | 163/231 [00:06<00:02, 27.26it/s]"
     ]
    },
    {
     "name": "stderr",
     "output_type": "stream",
     "text": [
      "\r",
      "Feature Extraction:  72%|███████▏  | 166/231 [00:06<00:02, 25.09it/s]"
     ]
    },
    {
     "name": "stderr",
     "output_type": "stream",
     "text": [
      "\r",
      "Feature Extraction:  74%|███████▎  | 170/231 [00:06<00:02, 28.50it/s]"
     ]
    },
    {
     "name": "stderr",
     "output_type": "stream",
     "text": [
      "\r",
      "Feature Extraction:  76%|███████▌  | 175/231 [00:06<00:01, 31.35it/s]"
     ]
    },
    {
     "name": "stderr",
     "output_type": "stream",
     "text": [
      "\r",
      "Feature Extraction:  77%|███████▋  | 179/231 [00:06<00:01, 31.96it/s]"
     ]
    },
    {
     "name": "stderr",
     "output_type": "stream",
     "text": [
      "\r",
      "Feature Extraction:  79%|███████▉  | 183/231 [00:07<00:01, 31.65it/s]"
     ]
    },
    {
     "name": "stderr",
     "output_type": "stream",
     "text": [
      "\r",
      "Feature Extraction:  81%|████████▏ | 188/231 [00:07<00:01, 35.91it/s]"
     ]
    },
    {
     "name": "stderr",
     "output_type": "stream",
     "text": [
      "\r",
      "Feature Extraction:  84%|████████▍ | 195/231 [00:07<00:00, 42.87it/s]"
     ]
    },
    {
     "name": "stderr",
     "output_type": "stream",
     "text": [
      "\r",
      "Feature Extraction:  87%|████████▋ | 200/231 [00:07<00:00, 42.24it/s]"
     ]
    },
    {
     "name": "stderr",
     "output_type": "stream",
     "text": [
      "\r",
      "Feature Extraction:  89%|████████▊ | 205/231 [00:07<00:00, 41.96it/s]"
     ]
    },
    {
     "name": "stderr",
     "output_type": "stream",
     "text": [
      "\r",
      "Feature Extraction:  91%|█████████ | 210/231 [00:07<00:00, 38.16it/s]"
     ]
    },
    {
     "name": "stderr",
     "output_type": "stream",
     "text": [
      "\r",
      "Feature Extraction:  94%|█████████▎| 216/231 [00:07<00:00, 43.00it/s]"
     ]
    },
    {
     "name": "stderr",
     "output_type": "stream",
     "text": [
      "\r",
      "Feature Extraction:  99%|█████████▊| 228/231 [00:08<00:00, 46.73it/s]"
     ]
    },
    {
     "name": "stderr",
     "output_type": "stream",
     "text": [
      "\r",
      "Feature Extraction: 100%|██████████| 231/231 [00:08<00:00, 28.29it/s]"
     ]
    },
    {
     "name": "stderr",
     "output_type": "stream",
     "text": [
      "\n"
     ]
    },
    {
     "name": "stdout",
     "output_type": "stream",
     "text": [
      "let the ml starts\n"
     ]
    },
    {
     "name": "stdout",
     "output_type": "stream",
     "text": [
      "SVM-linear-scale-1\n",
      "              precision    recall  f1-score   support\n",
      "\n",
      "   malignant       1.00      1.00      1.00       750\n",
      "      benign       1.00      1.00      1.00       750\n",
      "\n",
      "    accuracy                           1.00      1500\n",
      "   macro avg       1.00      1.00      1.00      1500\n",
      "weighted avg       1.00      1.00      1.00      1500\n",
      "\n",
      "    fit_time  score_time  test_accuracy  test_precision_weighted  \\\n",
      "0   7.733124    0.025135       1.000000                 1.000000   \n",
      "1  12.505378    0.021423       0.998889                 0.998891   \n",
      "2  10.553348    0.020788       1.000000                 1.000000   \n",
      "3  11.179711    0.021062       1.000000                 1.000000   \n",
      "4  11.258935    0.021497       1.000000                 1.000000   \n",
      "\n",
      "   test_recall_weighted  test_f1_weighted  test_roc_auc               model  \n",
      "0              1.000000          1.000000           1.0  SVM-linear-scale-1  \n",
      "1              0.998889          0.998889           1.0  SVM-linear-scale-1  \n",
      "2              1.000000          1.000000           1.0  SVM-linear-scale-1  \n",
      "3              1.000000          1.000000           1.0  SVM-linear-scale-1  \n",
      "4              1.000000          1.000000           1.0  SVM-linear-scale-1  \n"
     ]
    },
    {
     "name": "stdout",
     "output_type": "stream",
     "text": [
      "SVM-poly-scale-1\n",
      "              precision    recall  f1-score   support\n",
      "\n",
      "   malignant       0.86      0.91      0.88       750\n",
      "      benign       0.90      0.85      0.88       750\n",
      "\n",
      "    accuracy                           0.88      1500\n",
      "   macro avg       0.88      0.88      0.88      1500\n",
      "weighted avg       0.88      0.88      0.88      1500\n",
      "\n",
      "    fit_time  score_time  test_accuracy  test_precision_weighted  \\\n",
      "0   7.733124    0.025135       1.000000                 1.000000   \n",
      "1  12.505378    0.021423       0.998889                 0.998891   \n",
      "2  10.553348    0.020788       1.000000                 1.000000   \n",
      "3  11.179711    0.021062       1.000000                 1.000000   \n",
      "4  11.258935    0.021497       1.000000                 1.000000   \n",
      "5   0.558456    0.184936       0.864444                 0.864604   \n",
      "6   0.563092    0.186887       0.888889                 0.888915   \n",
      "7   0.547564    0.182517       0.887778                 0.888077   \n",
      "8   0.555476    0.183258       0.872222                 0.872405   \n",
      "9   0.543262    0.179449       0.865556                 0.865863   \n",
      "\n",
      "   test_recall_weighted  test_f1_weighted  test_roc_auc               model  \n",
      "0              1.000000          1.000000      1.000000  SVM-linear-scale-1  \n",
      "1              0.998889          0.998889      1.000000  SVM-linear-scale-1  \n",
      "2              1.000000          1.000000      1.000000  SVM-linear-scale-1  \n",
      "3              1.000000          1.000000      1.000000  SVM-linear-scale-1  \n",
      "4              1.000000          1.000000      1.000000  SVM-linear-scale-1  \n",
      "5              0.864444          0.864418      0.941005    SVM-poly-scale-1  \n",
      "6              0.888889          0.888884      0.953327    SVM-poly-scale-1  \n",
      "7              0.887778          0.887680      0.944414    SVM-poly-scale-1  \n",
      "8              0.872222          0.872261      0.938082    SVM-poly-scale-1  \n",
      "9              0.865556          0.865468      0.933794    SVM-poly-scale-1  \n"
     ]
    },
    {
     "name": "stdout",
     "output_type": "stream",
     "text": [
      "SVM-rbf-scale-1\n",
      "              precision    recall  f1-score   support\n",
      "\n",
      "   malignant       0.82      0.94      0.88       750\n",
      "      benign       0.93      0.80      0.86       750\n",
      "\n",
      "    accuracy                           0.87      1500\n",
      "   macro avg       0.88      0.87      0.87      1500\n",
      "weighted avg       0.88      0.87      0.87      1500\n",
      "\n",
      "     fit_time  score_time  test_accuracy  test_precision_weighted  \\\n",
      "0    7.733124    0.025135       1.000000                 1.000000   \n",
      "1   12.505378    0.021423       0.998889                 0.998891   \n",
      "2   10.553348    0.020788       1.000000                 1.000000   \n",
      "3   11.179711    0.021062       1.000000                 1.000000   \n",
      "4   11.258935    0.021497       1.000000                 1.000000   \n",
      "5    0.558456    0.184936       0.864444                 0.864604   \n",
      "6    0.563092    0.186887       0.888889                 0.888915   \n",
      "7    0.547564    0.182517       0.887778                 0.888077   \n",
      "8    0.555476    0.183258       0.872222                 0.872405   \n",
      "9    0.543262    0.179449       0.865556                 0.865863   \n",
      "10   0.525098    0.396796       0.880000                 0.881318   \n",
      "11   0.535257    0.469763       0.880000                 0.882489   \n",
      "12   0.522367    0.456381       0.873333                 0.880470   \n",
      "13   0.533551    0.467205       0.870000                 0.872175   \n",
      "14   0.529589    0.453580       0.860000                 0.867029   \n",
      "\n",
      "    test_recall_weighted  test_f1_weighted  test_roc_auc               model  \n",
      "0               1.000000          1.000000      1.000000  SVM-linear-scale-1  \n",
      "1               0.998889          0.998889      1.000000  SVM-linear-scale-1  \n",
      "2               1.000000          1.000000      1.000000  SVM-linear-scale-1  \n",
      "3               1.000000          1.000000      1.000000  SVM-linear-scale-1  \n",
      "4               1.000000          1.000000      1.000000  SVM-linear-scale-1  \n",
      "5               0.864444          0.864418      0.941005    SVM-poly-scale-1  \n",
      "6               0.888889          0.888884      0.953327    SVM-poly-scale-1  \n",
      "7               0.887778          0.887680      0.944414    SVM-poly-scale-1  \n",
      "8               0.872222          0.872261      0.938082    SVM-poly-scale-1  \n",
      "9               0.865556          0.865468      0.933794    SVM-poly-scale-1  \n",
      "10              0.880000          0.879923      0.942763     SVM-rbf-scale-1  \n",
      "11              0.880000          0.879829      0.949204     SVM-rbf-scale-1  \n",
      "12              0.873333          0.872361      0.931953     SVM-rbf-scale-1  \n",
      "13              0.870000          0.870055      0.940557     SVM-rbf-scale-1  \n",
      "14              0.860000          0.859063      0.927179     SVM-rbf-scale-1  \n"
     ]
    },
    {
     "name": "stdout",
     "output_type": "stream",
     "text": [
      "SVM-sigmoid-scale-1\n",
      "              precision    recall  f1-score   support\n",
      "\n",
      "   malignant       0.48      0.50      0.49       750\n",
      "      benign       0.47      0.45      0.46       750\n",
      "\n",
      "    accuracy                           0.48      1500\n",
      "   macro avg       0.48      0.48      0.48      1500\n",
      "weighted avg       0.48      0.48      0.48      1500\n",
      "\n",
      "     fit_time  score_time  test_accuracy  test_precision_weighted  \\\n",
      "0    7.733124    0.025135       1.000000                 1.000000   \n",
      "1   12.505378    0.021423       0.998889                 0.998891   \n",
      "2   10.553348    0.020788       1.000000                 1.000000   \n",
      "3   11.179711    0.021062       1.000000                 1.000000   \n",
      "4   11.258935    0.021497       1.000000                 1.000000   \n",
      "5    0.558456    0.184936       0.864444                 0.864604   \n",
      "6    0.563092    0.186887       0.888889                 0.888915   \n",
      "7    0.547564    0.182517       0.887778                 0.888077   \n",
      "8    0.555476    0.183258       0.872222                 0.872405   \n",
      "9    0.543262    0.179449       0.865556                 0.865863   \n",
      "10   0.525098    0.396796       0.880000                 0.881318   \n",
      "11   0.535257    0.469763       0.880000                 0.882489   \n",
      "12   0.522367    0.456381       0.873333                 0.880470   \n",
      "13   0.533551    0.467205       0.870000                 0.872175   \n",
      "14   0.529589    0.453580       0.860000                 0.867029   \n",
      "15   0.482764    0.200640       0.760000                 0.760911   \n",
      "16   0.851963    0.352413       0.501111                 0.501136   \n",
      "17   0.872120    0.361731       0.520000                 0.520469   \n",
      "18   0.843414    0.349296       0.486667                 0.487705   \n",
      "19   0.864019    0.360244       0.494444                 0.495194   \n",
      "\n",
      "    test_recall_weighted  test_f1_weighted  test_roc_auc                model  \n",
      "0               1.000000          1.000000      1.000000   SVM-linear-scale-1  \n",
      "1               0.998889          0.998889      1.000000   SVM-linear-scale-1  \n",
      "2               1.000000          1.000000      1.000000   SVM-linear-scale-1  \n",
      "3               1.000000          1.000000      1.000000   SVM-linear-scale-1  \n",
      "4               1.000000          1.000000      1.000000   SVM-linear-scale-1  \n",
      "5               0.864444          0.864418      0.941005     SVM-poly-scale-1  \n",
      "6               0.888889          0.888884      0.953327     SVM-poly-scale-1  \n",
      "7               0.887778          0.887680      0.944414     SVM-poly-scale-1  \n",
      "8               0.872222          0.872261      0.938082     SVM-poly-scale-1  \n",
      "9               0.865556          0.865468      0.933794     SVM-poly-scale-1  \n",
      "10              0.880000          0.879923      0.942763      SVM-rbf-scale-1  \n",
      "11              0.880000          0.879829      0.949204      SVM-rbf-scale-1  \n",
      "12              0.873333          0.872361      0.931953      SVM-rbf-scale-1  \n",
      "13              0.870000          0.870055      0.940557      SVM-rbf-scale-1  \n",
      "14              0.860000          0.859063      0.927179      SVM-rbf-scale-1  \n",
      "15              0.760000          0.759718      0.811532  SVM-sigmoid-scale-1  \n",
      "16              0.501111          0.501108      0.579942  SVM-sigmoid-scale-1  \n",
      "17              0.520000          0.520142      0.588403  SVM-sigmoid-scale-1  \n",
      "18              0.486667          0.486946      0.560782  SVM-sigmoid-scale-1  \n",
      "19              0.494444          0.494232      0.570632  SVM-sigmoid-scale-1  \n"
     ]
    },
    {
     "name": "stdout",
     "output_type": "stream",
     "text": [
      "SVM-linear-auto-1\n",
      "              precision    recall  f1-score   support\n",
      "\n",
      "   malignant       1.00      1.00      1.00       750\n",
      "      benign       1.00      1.00      1.00       750\n",
      "\n",
      "    accuracy                           1.00      1500\n",
      "   macro avg       1.00      1.00      1.00      1500\n",
      "weighted avg       1.00      1.00      1.00      1500\n",
      "\n",
      "     fit_time  score_time  test_accuracy  test_precision_weighted  \\\n",
      "0    7.733124    0.025135       1.000000                 1.000000   \n",
      "1   12.505378    0.021423       0.998889                 0.998891   \n",
      "2   10.553348    0.020788       1.000000                 1.000000   \n",
      "3   11.179711    0.021062       1.000000                 1.000000   \n",
      "4   11.258935    0.021497       1.000000                 1.000000   \n",
      "5    0.558456    0.184936       0.864444                 0.864604   \n",
      "6    0.563092    0.186887       0.888889                 0.888915   \n",
      "7    0.547564    0.182517       0.887778                 0.888077   \n",
      "8    0.555476    0.183258       0.872222                 0.872405   \n",
      "9    0.543262    0.179449       0.865556                 0.865863   \n",
      "10   0.525098    0.396796       0.880000                 0.881318   \n",
      "11   0.535257    0.469763       0.880000                 0.882489   \n",
      "12   0.522367    0.456381       0.873333                 0.880470   \n",
      "13   0.533551    0.467205       0.870000                 0.872175   \n",
      "14   0.529589    0.453580       0.860000                 0.867029   \n",
      "15   0.482764    0.200640       0.760000                 0.760911   \n",
      "16   0.851963    0.352413       0.501111                 0.501136   \n",
      "17   0.872120    0.361731       0.520000                 0.520469   \n",
      "18   0.843414    0.349296       0.486667                 0.487705   \n",
      "19   0.864019    0.360244       0.494444                 0.495194   \n",
      "20   7.717809    0.021410       1.000000                 1.000000   \n",
      "21  12.514313    0.020277       0.998889                 0.998891   \n",
      "22  10.524301    0.020506       1.000000                 1.000000   \n",
      "23  11.175566    0.019706       1.000000                 1.000000   \n",
      "24  11.230846    0.020910       1.000000                 1.000000   \n",
      "\n",
      "    test_recall_weighted  test_f1_weighted  test_roc_auc                model  \n",
      "0               1.000000          1.000000      1.000000   SVM-linear-scale-1  \n",
      "1               0.998889          0.998889      1.000000   SVM-linear-scale-1  \n",
      "2               1.000000          1.000000      1.000000   SVM-linear-scale-1  \n",
      "3               1.000000          1.000000      1.000000   SVM-linear-scale-1  \n",
      "4               1.000000          1.000000      1.000000   SVM-linear-scale-1  \n",
      "5               0.864444          0.864418      0.941005     SVM-poly-scale-1  \n",
      "6               0.888889          0.888884      0.953327     SVM-poly-scale-1  \n",
      "7               0.887778          0.887680      0.944414     SVM-poly-scale-1  \n",
      "8               0.872222          0.872261      0.938082     SVM-poly-scale-1  \n",
      "9               0.865556          0.865468      0.933794     SVM-poly-scale-1  \n",
      "10              0.880000          0.879923      0.942763      SVM-rbf-scale-1  \n",
      "11              0.880000          0.879829      0.949204      SVM-rbf-scale-1  \n",
      "12              0.873333          0.872361      0.931953      SVM-rbf-scale-1  \n",
      "13              0.870000          0.870055      0.940557      SVM-rbf-scale-1  \n",
      "14              0.860000          0.859063      0.927179      SVM-rbf-scale-1  \n",
      "15              0.760000          0.759718      0.811532  SVM-sigmoid-scale-1  \n",
      "16              0.501111          0.501108      0.579942  SVM-sigmoid-scale-1  \n",
      "17              0.520000          0.520142      0.588403  SVM-sigmoid-scale-1  \n",
      "18              0.486667          0.486946      0.560782  SVM-sigmoid-scale-1  \n",
      "19              0.494444          0.494232      0.570632  SVM-sigmoid-scale-1  \n",
      "20              1.000000          1.000000      1.000000    SVM-linear-auto-1  \n",
      "21              0.998889          0.998889      1.000000    SVM-linear-auto-1  \n",
      "22              1.000000          1.000000      1.000000    SVM-linear-auto-1  \n",
      "23              1.000000          1.000000      1.000000    SVM-linear-auto-1  \n",
      "24              1.000000          1.000000      1.000000    SVM-linear-auto-1  \n"
     ]
    },
    {
     "name": "stdout",
     "output_type": "stream",
     "text": [
      "SVM-poly-auto-1\n",
      "              precision    recall  f1-score   support\n",
      "\n",
      "   malignant       0.94      0.95      0.95       750\n",
      "      benign       0.95      0.94      0.95       750\n",
      "\n",
      "    accuracy                           0.95      1500\n",
      "   macro avg       0.95      0.95      0.95      1500\n",
      "weighted avg       0.95      0.95      0.95      1500\n",
      "\n",
      "     fit_time  score_time  test_accuracy  test_precision_weighted  \\\n",
      "0    7.733124    0.025135       1.000000                 1.000000   \n",
      "1   12.505378    0.021423       0.998889                 0.998891   \n",
      "2   10.553348    0.020788       1.000000                 1.000000   \n",
      "3   11.179711    0.021062       1.000000                 1.000000   \n",
      "4   11.258935    0.021497       1.000000                 1.000000   \n",
      "5    0.558456    0.184936       0.864444                 0.864604   \n",
      "6    0.563092    0.186887       0.888889                 0.888915   \n",
      "7    0.547564    0.182517       0.887778                 0.888077   \n",
      "8    0.555476    0.183258       0.872222                 0.872405   \n",
      "9    0.543262    0.179449       0.865556                 0.865863   \n",
      "10   0.525098    0.396796       0.880000                 0.881318   \n",
      "11   0.535257    0.469763       0.880000                 0.882489   \n",
      "12   0.522367    0.456381       0.873333                 0.880470   \n",
      "13   0.533551    0.467205       0.870000                 0.872175   \n",
      "14   0.529589    0.453580       0.860000                 0.867029   \n",
      "15   0.482764    0.200640       0.760000                 0.760911   \n",
      "16   0.851963    0.352413       0.501111                 0.501136   \n",
      "17   0.872120    0.361731       0.520000                 0.520469   \n",
      "18   0.843414    0.349296       0.486667                 0.487705   \n",
      "19   0.864019    0.360244       0.494444                 0.495194   \n",
      "20   7.717809    0.021410       1.000000                 1.000000   \n",
      "21  12.514313    0.020277       0.998889                 0.998891   \n",
      "22  10.524301    0.020506       1.000000                 1.000000   \n",
      "23  11.175566    0.019706       1.000000                 1.000000   \n",
      "24  11.230846    0.020910       1.000000                 1.000000   \n",
      "25   0.996214    0.079159       0.940000                 0.940007   \n",
      "26   0.917087    0.075944       0.950000                 0.950264   \n",
      "27   0.940349    0.076244       0.933333                 0.933347   \n",
      "28   0.860775    0.071771       0.927778                 0.927774   \n",
      "29   0.985747    0.074450       0.936667                 0.936869   \n",
      "\n",
      "    test_recall_weighted  test_f1_weighted  test_roc_auc                model  \n",
      "0               1.000000          1.000000      1.000000   SVM-linear-scale-1  \n",
      "1               0.998889          0.998889      1.000000   SVM-linear-scale-1  \n",
      "2               1.000000          1.000000      1.000000   SVM-linear-scale-1  \n",
      "3               1.000000          1.000000      1.000000   SVM-linear-scale-1  \n",
      "4               1.000000          1.000000      1.000000   SVM-linear-scale-1  \n",
      "5               0.864444          0.864418      0.941005     SVM-poly-scale-1  \n",
      "6               0.888889          0.888884      0.953327     SVM-poly-scale-1  \n",
      "7               0.887778          0.887680      0.944414     SVM-poly-scale-1  \n",
      "8               0.872222          0.872261      0.938082     SVM-poly-scale-1  \n",
      "9               0.865556          0.865468      0.933794     SVM-poly-scale-1  \n",
      "10              0.880000          0.879923      0.942763      SVM-rbf-scale-1  \n",
      "11              0.880000          0.879829      0.949204      SVM-rbf-scale-1  \n",
      "12              0.873333          0.872361      0.931953      SVM-rbf-scale-1  \n",
      "13              0.870000          0.870055      0.940557      SVM-rbf-scale-1  \n",
      "14              0.860000          0.859063      0.927179      SVM-rbf-scale-1  \n",
      "15              0.760000          0.759718      0.811532  SVM-sigmoid-scale-1  \n",
      "16              0.501111          0.501108      0.579942  SVM-sigmoid-scale-1  \n",
      "17              0.520000          0.520142      0.588403  SVM-sigmoid-scale-1  \n",
      "18              0.486667          0.486946      0.560782  SVM-sigmoid-scale-1  \n",
      "19              0.494444          0.494232      0.570632  SVM-sigmoid-scale-1  \n",
      "20              1.000000          1.000000      1.000000    SVM-linear-auto-1  \n",
      "21              0.998889          0.998889      1.000000    SVM-linear-auto-1  \n",
      "22              1.000000          1.000000      1.000000    SVM-linear-auto-1  \n",
      "23              1.000000          1.000000      1.000000    SVM-linear-auto-1  \n",
      "24              1.000000          1.000000      1.000000    SVM-linear-auto-1  \n",
      "25              0.940000          0.939999      0.977989      SVM-poly-auto-1  \n",
      "26              0.950000          0.949990      0.983126      SVM-poly-auto-1  \n",
      "27              0.933333          0.933321      0.974768      SVM-poly-auto-1  \n",
      "28              0.927778          0.927766      0.971132      SVM-poly-auto-1  \n",
      "29              0.936667          0.936674      0.977727      SVM-poly-auto-1  \n"
     ]
    },
    {
     "name": "stdout",
     "output_type": "stream",
     "text": [
      "SVM-rbf-auto-1\n",
      "              precision    recall  f1-score   support\n",
      "\n",
      "   malignant       0.63      1.00      0.77       750\n",
      "      benign       1.00      0.41      0.58       750\n",
      "\n",
      "    accuracy                           0.70      1500\n",
      "   macro avg       0.81      0.70      0.68      1500\n",
      "weighted avg       0.81      0.70      0.68      1500\n",
      "\n",
      "     fit_time  score_time  test_accuracy  test_precision_weighted  \\\n",
      "0    7.733124    0.025135       1.000000                 1.000000   \n",
      "1   12.505378    0.021423       0.998889                 0.998891   \n",
      "2   10.553348    0.020788       1.000000                 1.000000   \n",
      "3   11.179711    0.021062       1.000000                 1.000000   \n",
      "4   11.258935    0.021497       1.000000                 1.000000   \n",
      "5    0.558456    0.184936       0.864444                 0.864604   \n",
      "6    0.563092    0.186887       0.888889                 0.888915   \n",
      "7    0.547564    0.182517       0.887778                 0.888077   \n",
      "8    0.555476    0.183258       0.872222                 0.872405   \n",
      "9    0.543262    0.179449       0.865556                 0.865863   \n",
      "10   0.525098    0.396796       0.880000                 0.881318   \n",
      "11   0.535257    0.469763       0.880000                 0.882489   \n",
      "12   0.522367    0.456381       0.873333                 0.880470   \n",
      "13   0.533551    0.467205       0.870000                 0.872175   \n",
      "14   0.529589    0.453580       0.860000                 0.867029   \n",
      "15   0.482764    0.200640       0.760000                 0.760911   \n",
      "16   0.851963    0.352413       0.501111                 0.501136   \n",
      "17   0.872120    0.361731       0.520000                 0.520469   \n",
      "18   0.843414    0.349296       0.486667                 0.487705   \n",
      "19   0.864019    0.360244       0.494444                 0.495194   \n",
      "20   7.717809    0.021410       1.000000                 1.000000   \n",
      "21  12.514313    0.020277       0.998889                 0.998891   \n",
      "22  10.524301    0.020506       1.000000                 1.000000   \n",
      "23  11.175566    0.019706       1.000000                 1.000000   \n",
      "24  11.230846    0.020910       1.000000                 1.000000   \n",
      "25   0.996214    0.079159       0.940000                 0.940007   \n",
      "26   0.917087    0.075944       0.950000                 0.950264   \n",
      "27   0.940349    0.076244       0.933333                 0.933347   \n",
      "28   0.860775    0.071771       0.927778                 0.927774   \n",
      "29   0.985747    0.074450       0.936667                 0.936869   \n",
      "30   1.125722    1.058317       0.674444                 0.803347   \n",
      "31   1.113126    1.026566       0.677778                 0.804396   \n",
      "32   1.115983    0.983415       0.700000                 0.810054   \n",
      "33   1.121080    1.056959       0.683333                 0.809734   \n",
      "34   1.092757    1.015584       0.708889                 0.814528   \n",
      "\n",
      "    test_recall_weighted  test_f1_weighted  test_roc_auc                model  \n",
      "0               1.000000          1.000000      1.000000   SVM-linear-scale-1  \n",
      "1               0.998889          0.998889      1.000000   SVM-linear-scale-1  \n",
      "2               1.000000          1.000000      1.000000   SVM-linear-scale-1  \n",
      "3               1.000000          1.000000      1.000000   SVM-linear-scale-1  \n",
      "4               1.000000          1.000000      1.000000   SVM-linear-scale-1  \n",
      "5               0.864444          0.864418      0.941005     SVM-poly-scale-1  \n",
      "6               0.888889          0.888884      0.953327     SVM-poly-scale-1  \n",
      "7               0.887778          0.887680      0.944414     SVM-poly-scale-1  \n",
      "8               0.872222          0.872261      0.938082     SVM-poly-scale-1  \n",
      "9               0.865556          0.865468      0.933794     SVM-poly-scale-1  \n",
      "10              0.880000          0.879923      0.942763      SVM-rbf-scale-1  \n",
      "11              0.880000          0.879829      0.949204      SVM-rbf-scale-1  \n",
      "12              0.873333          0.872361      0.931953      SVM-rbf-scale-1  \n",
      "13              0.870000          0.870055      0.940557      SVM-rbf-scale-1  \n",
      "14              0.860000          0.859063      0.927179      SVM-rbf-scale-1  \n",
      "15              0.760000          0.759718      0.811532  SVM-sigmoid-scale-1  \n",
      "16              0.501111          0.501108      0.579942  SVM-sigmoid-scale-1  \n",
      "17              0.520000          0.520142      0.588403  SVM-sigmoid-scale-1  \n",
      "18              0.486667          0.486946      0.560782  SVM-sigmoid-scale-1  \n",
      "19              0.494444          0.494232      0.570632  SVM-sigmoid-scale-1  \n",
      "20              1.000000          1.000000      1.000000    SVM-linear-auto-1  \n",
      "21              0.998889          0.998889      1.000000    SVM-linear-auto-1  \n",
      "22              1.000000          1.000000      1.000000    SVM-linear-auto-1  \n",
      "23              1.000000          1.000000      1.000000    SVM-linear-auto-1  \n",
      "24              1.000000          1.000000      1.000000    SVM-linear-auto-1  \n",
      "25              0.940000          0.939999      0.977989      SVM-poly-auto-1  \n",
      "26              0.950000          0.949990      0.983126      SVM-poly-auto-1  \n",
      "27              0.933333          0.933321      0.974768      SVM-poly-auto-1  \n",
      "28              0.927778          0.927766      0.971132      SVM-poly-auto-1  \n",
      "29              0.936667          0.936674      0.977727      SVM-poly-auto-1  \n",
      "30              0.674444          0.636821      0.727346       SVM-rbf-auto-1  \n",
      "31              0.677778          0.641078      0.717367       SVM-rbf-auto-1  \n",
      "32              0.700000          0.665968      0.729324       SVM-rbf-auto-1  \n",
      "33              0.683333          0.654129      0.741274       SVM-rbf-auto-1  \n",
      "34              0.708889          0.679444      0.737871       SVM-rbf-auto-1  \n"
     ]
    },
    {
     "name": "stdout",
     "output_type": "stream",
     "text": [
      "SVM-sigmoid-auto-1\n",
      "              precision    recall  f1-score   support\n",
      "\n",
      "   malignant       0.00      0.00      0.00       750\n",
      "      benign       0.50      1.00      0.67       750\n",
      "\n",
      "    accuracy                           0.50      1500\n",
      "   macro avg       0.25      0.50      0.33      1500\n",
      "weighted avg       0.25      0.50      0.33      1500\n",
      "\n",
      "     fit_time  score_time  test_accuracy  test_precision_weighted  \\\n",
      "0    7.733124    0.025135       1.000000                 1.000000   \n",
      "1   12.505378    0.021423       0.998889                 0.998891   \n",
      "2   10.553348    0.020788       1.000000                 1.000000   \n",
      "3   11.179711    0.021062       1.000000                 1.000000   \n",
      "4   11.258935    0.021497       1.000000                 1.000000   \n",
      "5    0.558456    0.184936       0.864444                 0.864604   \n",
      "6    0.563092    0.186887       0.888889                 0.888915   \n",
      "7    0.547564    0.182517       0.887778                 0.888077   \n",
      "8    0.555476    0.183258       0.872222                 0.872405   \n",
      "9    0.543262    0.179449       0.865556                 0.865863   \n",
      "10   0.525098    0.396796       0.880000                 0.881318   \n",
      "11   0.535257    0.469763       0.880000                 0.882489   \n",
      "12   0.522367    0.456381       0.873333                 0.880470   \n",
      "13   0.533551    0.467205       0.870000                 0.872175   \n",
      "14   0.529589    0.453580       0.860000                 0.867029   \n",
      "15   0.482764    0.200640       0.760000                 0.760911   \n",
      "16   0.851963    0.352413       0.501111                 0.501136   \n",
      "17   0.872120    0.361731       0.520000                 0.520469   \n",
      "18   0.843414    0.349296       0.486667                 0.487705   \n",
      "19   0.864019    0.360244       0.494444                 0.495194   \n",
      "20   7.717809    0.021410       1.000000                 1.000000   \n",
      "21  12.514313    0.020277       0.998889                 0.998891   \n",
      "22  10.524301    0.020506       1.000000                 1.000000   \n",
      "23  11.175566    0.019706       1.000000                 1.000000   \n",
      "24  11.230846    0.020910       1.000000                 1.000000   \n",
      "25   0.996214    0.079159       0.940000                 0.940007   \n",
      "26   0.917087    0.075944       0.950000                 0.950264   \n",
      "27   0.940349    0.076244       0.933333                 0.933347   \n",
      "28   0.860775    0.071771       0.927778                 0.927774   \n",
      "29   0.985747    0.074450       0.936667                 0.936869   \n",
      "30   1.125722    1.058317       0.674444                 0.803347   \n",
      "31   1.113126    1.026566       0.677778                 0.804396   \n",
      "32   1.115983    0.983415       0.700000                 0.810054   \n",
      "33   1.121080    1.056959       0.683333                 0.809734   \n",
      "34   1.092757    1.015584       0.708889                 0.814528   \n",
      "35   1.131065    0.458140       0.496667                 0.246678   \n",
      "36   1.128595    0.460703       0.497778                 0.247783   \n",
      "37   1.124652    0.454332       0.482222                 0.232538   \n",
      "38   1.123475    0.453329       0.476667                 0.227211   \n",
      "39   1.124913    0.456150       0.488889                 0.239012   \n",
      "\n",
      "    test_recall_weighted  test_f1_weighted  test_roc_auc                model  \n",
      "0               1.000000          1.000000      1.000000   SVM-linear-scale-1  \n",
      "1               0.998889          0.998889      1.000000   SVM-linear-scale-1  \n",
      "2               1.000000          1.000000      1.000000   SVM-linear-scale-1  \n",
      "3               1.000000          1.000000      1.000000   SVM-linear-scale-1  \n",
      "4               1.000000          1.000000      1.000000   SVM-linear-scale-1  \n",
      "5               0.864444          0.864418      0.941005     SVM-poly-scale-1  \n",
      "6               0.888889          0.888884      0.953327     SVM-poly-scale-1  \n",
      "7               0.887778          0.887680      0.944414     SVM-poly-scale-1  \n",
      "8               0.872222          0.872261      0.938082     SVM-poly-scale-1  \n",
      "9               0.865556          0.865468      0.933794     SVM-poly-scale-1  \n",
      "10              0.880000          0.879923      0.942763      SVM-rbf-scale-1  \n",
      "11              0.880000          0.879829      0.949204      SVM-rbf-scale-1  \n",
      "12              0.873333          0.872361      0.931953      SVM-rbf-scale-1  \n",
      "13              0.870000          0.870055      0.940557      SVM-rbf-scale-1  \n",
      "14              0.860000          0.859063      0.927179      SVM-rbf-scale-1  \n",
      "15              0.760000          0.759718      0.811532  SVM-sigmoid-scale-1  \n",
      "16              0.501111          0.501108      0.579942  SVM-sigmoid-scale-1  \n",
      "17              0.520000          0.520142      0.588403  SVM-sigmoid-scale-1  \n",
      "18              0.486667          0.486946      0.560782  SVM-sigmoid-scale-1  \n",
      "19              0.494444          0.494232      0.570632  SVM-sigmoid-scale-1  \n",
      "20              1.000000          1.000000      1.000000    SVM-linear-auto-1  \n",
      "21              0.998889          0.998889      1.000000    SVM-linear-auto-1  \n",
      "22              1.000000          1.000000      1.000000    SVM-linear-auto-1  \n",
      "23              1.000000          1.000000      1.000000    SVM-linear-auto-1  \n",
      "24              1.000000          1.000000      1.000000    SVM-linear-auto-1  \n",
      "25              0.940000          0.939999      0.977989      SVM-poly-auto-1  \n",
      "26              0.950000          0.949990      0.983126      SVM-poly-auto-1  \n",
      "27              0.933333          0.933321      0.974768      SVM-poly-auto-1  \n",
      "28              0.927778          0.927766      0.971132      SVM-poly-auto-1  \n",
      "29              0.936667          0.936674      0.977727      SVM-poly-auto-1  \n",
      "30              0.674444          0.636821      0.727346       SVM-rbf-auto-1  \n",
      "31              0.677778          0.641078      0.717367       SVM-rbf-auto-1  \n",
      "32              0.700000          0.665968      0.729324       SVM-rbf-auto-1  \n",
      "33              0.683333          0.654129      0.741274       SVM-rbf-auto-1  \n",
      "34              0.708889          0.679444      0.737871       SVM-rbf-auto-1  \n",
      "35              0.496667          0.329636      0.500000   SVM-sigmoid-auto-1  \n",
      "36              0.497778          0.330867      0.500000   SVM-sigmoid-auto-1  \n",
      "37              0.482222          0.313770      0.500000   SVM-sigmoid-auto-1  \n",
      "38              0.476667          0.307735      0.500000   SVM-sigmoid-auto-1  \n",
      "39              0.488889          0.321061      0.500000   SVM-sigmoid-auto-1  \n"
     ]
    },
    {
     "name": "stdout",
     "output_type": "stream",
     "text": [
      "SVM-linear-scale-2\n",
      "              precision    recall  f1-score   support\n",
      "\n",
      "   malignant       1.00      1.00      1.00       750\n",
      "      benign       1.00      1.00      1.00       750\n",
      "\n",
      "    accuracy                           1.00      1500\n",
      "   macro avg       1.00      1.00      1.00      1500\n",
      "weighted avg       1.00      1.00      1.00      1500\n",
      "\n",
      "     fit_time  score_time  test_accuracy  test_precision_weighted  \\\n",
      "0    7.733124    0.025135       1.000000                 1.000000   \n",
      "1   12.505378    0.021423       0.998889                 0.998891   \n",
      "2   10.553348    0.020788       1.000000                 1.000000   \n",
      "3   11.179711    0.021062       1.000000                 1.000000   \n",
      "4   11.258935    0.021497       1.000000                 1.000000   \n",
      "5    0.558456    0.184936       0.864444                 0.864604   \n",
      "6    0.563092    0.186887       0.888889                 0.888915   \n",
      "7    0.547564    0.182517       0.887778                 0.888077   \n",
      "8    0.555476    0.183258       0.872222                 0.872405   \n",
      "9    0.543262    0.179449       0.865556                 0.865863   \n",
      "10   0.525098    0.396796       0.880000                 0.881318   \n",
      "11   0.535257    0.469763       0.880000                 0.882489   \n",
      "12   0.522367    0.456381       0.873333                 0.880470   \n",
      "13   0.533551    0.467205       0.870000                 0.872175   \n",
      "14   0.529589    0.453580       0.860000                 0.867029   \n",
      "15   0.482764    0.200640       0.760000                 0.760911   \n",
      "16   0.851963    0.352413       0.501111                 0.501136   \n",
      "17   0.872120    0.361731       0.520000                 0.520469   \n",
      "18   0.843414    0.349296       0.486667                 0.487705   \n",
      "19   0.864019    0.360244       0.494444                 0.495194   \n",
      "20   7.717809    0.021410       1.000000                 1.000000   \n",
      "21  12.514313    0.020277       0.998889                 0.998891   \n",
      "22  10.524301    0.020506       1.000000                 1.000000   \n",
      "23  11.175566    0.019706       1.000000                 1.000000   \n",
      "24  11.230846    0.020910       1.000000                 1.000000   \n",
      "25   0.996214    0.079159       0.940000                 0.940007   \n",
      "26   0.917087    0.075944       0.950000                 0.950264   \n",
      "27   0.940349    0.076244       0.933333                 0.933347   \n",
      "28   0.860775    0.071771       0.927778                 0.927774   \n",
      "29   0.985747    0.074450       0.936667                 0.936869   \n",
      "30   1.125722    1.058317       0.674444                 0.803347   \n",
      "31   1.113126    1.026566       0.677778                 0.804396   \n",
      "32   1.115983    0.983415       0.700000                 0.810054   \n",
      "33   1.121080    1.056959       0.683333                 0.809734   \n",
      "34   1.092757    1.015584       0.708889                 0.814528   \n",
      "35   1.131065    0.458140       0.496667                 0.246678   \n",
      "36   1.128595    0.460703       0.497778                 0.247783   \n",
      "37   1.124652    0.454332       0.482222                 0.232538   \n",
      "38   1.123475    0.453329       0.476667                 0.227211   \n",
      "39   1.124913    0.456150       0.488889                 0.239012   \n",
      "40   7.763847    0.021344       1.000000                 1.000000   \n",
      "41  12.483109    0.020072       0.998889                 0.998891   \n",
      "42  10.536869    0.020123       1.000000                 1.000000   \n",
      "43  11.168827    0.019671       1.000000                 1.000000   \n",
      "44  11.197925    0.020053       1.000000                 1.000000   \n",
      "\n",
      "    test_recall_weighted  test_f1_weighted  test_roc_auc                model  \n",
      "0               1.000000          1.000000      1.000000   SVM-linear-scale-1  \n",
      "1               0.998889          0.998889      1.000000   SVM-linear-scale-1  \n",
      "2               1.000000          1.000000      1.000000   SVM-linear-scale-1  \n",
      "3               1.000000          1.000000      1.000000   SVM-linear-scale-1  \n",
      "4               1.000000          1.000000      1.000000   SVM-linear-scale-1  \n",
      "5               0.864444          0.864418      0.941005     SVM-poly-scale-1  \n",
      "6               0.888889          0.888884      0.953327     SVM-poly-scale-1  \n",
      "7               0.887778          0.887680      0.944414     SVM-poly-scale-1  \n",
      "8               0.872222          0.872261      0.938082     SVM-poly-scale-1  \n",
      "9               0.865556          0.865468      0.933794     SVM-poly-scale-1  \n",
      "10              0.880000          0.879923      0.942763      SVM-rbf-scale-1  \n",
      "11              0.880000          0.879829      0.949204      SVM-rbf-scale-1  \n",
      "12              0.873333          0.872361      0.931953      SVM-rbf-scale-1  \n",
      "13              0.870000          0.870055      0.940557      SVM-rbf-scale-1  \n",
      "14              0.860000          0.859063      0.927179      SVM-rbf-scale-1  \n",
      "15              0.760000          0.759718      0.811532  SVM-sigmoid-scale-1  \n",
      "16              0.501111          0.501108      0.579942  SVM-sigmoid-scale-1  \n",
      "17              0.520000          0.520142      0.588403  SVM-sigmoid-scale-1  \n",
      "18              0.486667          0.486946      0.560782  SVM-sigmoid-scale-1  \n",
      "19              0.494444          0.494232      0.570632  SVM-sigmoid-scale-1  \n",
      "20              1.000000          1.000000      1.000000    SVM-linear-auto-1  \n",
      "21              0.998889          0.998889      1.000000    SVM-linear-auto-1  \n",
      "22              1.000000          1.000000      1.000000    SVM-linear-auto-1  \n",
      "23              1.000000          1.000000      1.000000    SVM-linear-auto-1  \n",
      "24              1.000000          1.000000      1.000000    SVM-linear-auto-1  \n",
      "25              0.940000          0.939999      0.977989      SVM-poly-auto-1  \n",
      "26              0.950000          0.949990      0.983126      SVM-poly-auto-1  \n",
      "27              0.933333          0.933321      0.974768      SVM-poly-auto-1  \n",
      "28              0.927778          0.927766      0.971132      SVM-poly-auto-1  \n",
      "29              0.936667          0.936674      0.977727      SVM-poly-auto-1  \n",
      "30              0.674444          0.636821      0.727346       SVM-rbf-auto-1  \n",
      "31              0.677778          0.641078      0.717367       SVM-rbf-auto-1  \n",
      "32              0.700000          0.665968      0.729324       SVM-rbf-auto-1  \n",
      "33              0.683333          0.654129      0.741274       SVM-rbf-auto-1  \n",
      "34              0.708889          0.679444      0.737871       SVM-rbf-auto-1  \n",
      "35              0.496667          0.329636      0.500000   SVM-sigmoid-auto-1  \n",
      "36              0.497778          0.330867      0.500000   SVM-sigmoid-auto-1  \n",
      "37              0.482222          0.313770      0.500000   SVM-sigmoid-auto-1  \n",
      "38              0.476667          0.307735      0.500000   SVM-sigmoid-auto-1  \n",
      "39              0.488889          0.321061      0.500000   SVM-sigmoid-auto-1  \n",
      "40              1.000000          1.000000      1.000000   SVM-linear-scale-2  \n",
      "41              0.998889          0.998889      1.000000   SVM-linear-scale-2  \n",
      "42              1.000000          1.000000      1.000000   SVM-linear-scale-2  \n",
      "43              1.000000          1.000000      1.000000   SVM-linear-scale-2  \n",
      "44              1.000000          1.000000      1.000000   SVM-linear-scale-2  \n"
     ]
    },
    {
     "name": "stdout",
     "output_type": "stream",
     "text": [
      "SVM-poly-scale-2\n",
      "              precision    recall  f1-score   support\n",
      "\n",
      "   malignant       0.87      0.91      0.89       750\n",
      "      benign       0.91      0.87      0.89       750\n",
      "\n",
      "    accuracy                           0.89      1500\n",
      "   macro avg       0.89      0.89      0.89      1500\n",
      "weighted avg       0.89      0.89      0.89      1500\n",
      "\n",
      "     fit_time  score_time  test_accuracy  test_precision_weighted  \\\n",
      "0    7.733124    0.025135       1.000000                 1.000000   \n",
      "1   12.505378    0.021423       0.998889                 0.998891   \n",
      "2   10.553348    0.020788       1.000000                 1.000000   \n",
      "3   11.179711    0.021062       1.000000                 1.000000   \n",
      "4   11.258935    0.021497       1.000000                 1.000000   \n",
      "5    0.558456    0.184936       0.864444                 0.864604   \n",
      "6    0.563092    0.186887       0.888889                 0.888915   \n",
      "7    0.547564    0.182517       0.887778                 0.888077   \n",
      "8    0.555476    0.183258       0.872222                 0.872405   \n",
      "9    0.543262    0.179449       0.865556                 0.865863   \n",
      "10   0.525098    0.396796       0.880000                 0.881318   \n",
      "11   0.535257    0.469763       0.880000                 0.882489   \n",
      "12   0.522367    0.456381       0.873333                 0.880470   \n",
      "13   0.533551    0.467205       0.870000                 0.872175   \n",
      "14   0.529589    0.453580       0.860000                 0.867029   \n",
      "15   0.482764    0.200640       0.760000                 0.760911   \n",
      "16   0.851963    0.352413       0.501111                 0.501136   \n",
      "17   0.872120    0.361731       0.520000                 0.520469   \n",
      "18   0.843414    0.349296       0.486667                 0.487705   \n",
      "19   0.864019    0.360244       0.494444                 0.495194   \n",
      "20   7.717809    0.021410       1.000000                 1.000000   \n",
      "21  12.514313    0.020277       0.998889                 0.998891   \n",
      "22  10.524301    0.020506       1.000000                 1.000000   \n",
      "23  11.175566    0.019706       1.000000                 1.000000   \n",
      "24  11.230846    0.020910       1.000000                 1.000000   \n",
      "25   0.996214    0.079159       0.940000                 0.940007   \n",
      "26   0.917087    0.075944       0.950000                 0.950264   \n",
      "27   0.940349    0.076244       0.933333                 0.933347   \n",
      "28   0.860775    0.071771       0.927778                 0.927774   \n",
      "29   0.985747    0.074450       0.936667                 0.936869   \n",
      "30   1.125722    1.058317       0.674444                 0.803347   \n",
      "31   1.113126    1.026566       0.677778                 0.804396   \n",
      "32   1.115983    0.983415       0.700000                 0.810054   \n",
      "33   1.121080    1.056959       0.683333                 0.809734   \n",
      "34   1.092757    1.015584       0.708889                 0.814528   \n",
      "35   1.131065    0.458140       0.496667                 0.246678   \n",
      "36   1.128595    0.460703       0.497778                 0.247783   \n",
      "37   1.124652    0.454332       0.482222                 0.232538   \n",
      "38   1.123475    0.453329       0.476667                 0.227211   \n",
      "39   1.124913    0.456150       0.488889                 0.239012   \n",
      "40   7.763847    0.021344       1.000000                 1.000000   \n",
      "41  12.483109    0.020072       0.998889                 0.998891   \n",
      "42  10.536869    0.020123       1.000000                 1.000000   \n",
      "43  11.168827    0.019671       1.000000                 1.000000   \n",
      "44  11.197925    0.020053       1.000000                 1.000000   \n",
      "45   0.542613    0.172963       0.891111                 0.891222   \n",
      "46   0.546955    0.176749       0.904444                 0.904451   \n",
      "47   0.537512    0.173513       0.896667                 0.897364   \n",
      "48   0.539296    0.172561       0.887778                 0.887791   \n",
      "49   0.530127    0.171219       0.876667                 0.877225   \n",
      "\n",
      "    test_recall_weighted  test_f1_weighted  test_roc_auc                model  \n",
      "0               1.000000          1.000000      1.000000   SVM-linear-scale-1  \n",
      "1               0.998889          0.998889      1.000000   SVM-linear-scale-1  \n",
      "2               1.000000          1.000000      1.000000   SVM-linear-scale-1  \n",
      "3               1.000000          1.000000      1.000000   SVM-linear-scale-1  \n",
      "4               1.000000          1.000000      1.000000   SVM-linear-scale-1  \n",
      "5               0.864444          0.864418      0.941005     SVM-poly-scale-1  \n",
      "6               0.888889          0.888884      0.953327     SVM-poly-scale-1  \n",
      "7               0.887778          0.887680      0.944414     SVM-poly-scale-1  \n",
      "8               0.872222          0.872261      0.938082     SVM-poly-scale-1  \n",
      "9               0.865556          0.865468      0.933794     SVM-poly-scale-1  \n",
      "10              0.880000          0.879923      0.942763      SVM-rbf-scale-1  \n",
      "11              0.880000          0.879829      0.949204      SVM-rbf-scale-1  \n",
      "12              0.873333          0.872361      0.931953      SVM-rbf-scale-1  \n",
      "13              0.870000          0.870055      0.940557      SVM-rbf-scale-1  \n",
      "14              0.860000          0.859063      0.927179      SVM-rbf-scale-1  \n",
      "15              0.760000          0.759718      0.811532  SVM-sigmoid-scale-1  \n",
      "16              0.501111          0.501108      0.579942  SVM-sigmoid-scale-1  \n",
      "17              0.520000          0.520142      0.588403  SVM-sigmoid-scale-1  \n",
      "18              0.486667          0.486946      0.560782  SVM-sigmoid-scale-1  \n",
      "19              0.494444          0.494232      0.570632  SVM-sigmoid-scale-1  \n",
      "20              1.000000          1.000000      1.000000    SVM-linear-auto-1  \n",
      "21              0.998889          0.998889      1.000000    SVM-linear-auto-1  \n",
      "22              1.000000          1.000000      1.000000    SVM-linear-auto-1  \n",
      "23              1.000000          1.000000      1.000000    SVM-linear-auto-1  \n",
      "24              1.000000          1.000000      1.000000    SVM-linear-auto-1  \n",
      "25              0.940000          0.939999      0.977989      SVM-poly-auto-1  \n",
      "26              0.950000          0.949990      0.983126      SVM-poly-auto-1  \n",
      "27              0.933333          0.933321      0.974768      SVM-poly-auto-1  \n",
      "28              0.927778          0.927766      0.971132      SVM-poly-auto-1  \n",
      "29              0.936667          0.936674      0.977727      SVM-poly-auto-1  \n",
      "30              0.674444          0.636821      0.727346       SVM-rbf-auto-1  \n",
      "31              0.677778          0.641078      0.717367       SVM-rbf-auto-1  \n",
      "32              0.700000          0.665968      0.729324       SVM-rbf-auto-1  \n",
      "33              0.683333          0.654129      0.741274       SVM-rbf-auto-1  \n",
      "34              0.708889          0.679444      0.737871       SVM-rbf-auto-1  \n",
      "35              0.496667          0.329636      0.500000   SVM-sigmoid-auto-1  \n",
      "36              0.497778          0.330867      0.500000   SVM-sigmoid-auto-1  \n",
      "37              0.482222          0.313770      0.500000   SVM-sigmoid-auto-1  \n",
      "38              0.476667          0.307735      0.500000   SVM-sigmoid-auto-1  \n",
      "39              0.488889          0.321061      0.500000   SVM-sigmoid-auto-1  \n",
      "40              1.000000          1.000000      1.000000   SVM-linear-scale-2  \n",
      "41              0.998889          0.998889      1.000000   SVM-linear-scale-2  \n",
      "42              1.000000          1.000000      1.000000   SVM-linear-scale-2  \n",
      "43              1.000000          1.000000      1.000000   SVM-linear-scale-2  \n",
      "44              1.000000          1.000000      1.000000   SVM-linear-scale-2  \n",
      "45              0.891111          0.891096      0.949998     SVM-poly-scale-2  \n",
      "46              0.904444          0.904443      0.962967     SVM-poly-scale-2  \n",
      "47              0.896667          0.896524      0.953942     SVM-poly-scale-2  \n",
      "48              0.887778          0.887783      0.946194     SVM-poly-scale-2  \n",
      "49              0.876667          0.876554      0.944629     SVM-poly-scale-2  \n"
     ]
    },
    {
     "name": "stdout",
     "output_type": "stream",
     "text": [
      "SVM-rbf-scale-2\n",
      "              precision    recall  f1-score   support\n",
      "\n",
      "   malignant       0.85      0.93      0.89       750\n",
      "      benign       0.93      0.84      0.88       750\n",
      "\n",
      "    accuracy                           0.89      1500\n",
      "   macro avg       0.89      0.89      0.89      1500\n",
      "weighted avg       0.89      0.89      0.89      1500\n",
      "\n",
      "     fit_time  score_time  test_accuracy  test_precision_weighted  \\\n",
      "0    7.733124    0.025135       1.000000                 1.000000   \n",
      "1   12.505378    0.021423       0.998889                 0.998891   \n",
      "2   10.553348    0.020788       1.000000                 1.000000   \n",
      "3   11.179711    0.021062       1.000000                 1.000000   \n",
      "4   11.258935    0.021497       1.000000                 1.000000   \n",
      "5    0.558456    0.184936       0.864444                 0.864604   \n",
      "6    0.563092    0.186887       0.888889                 0.888915   \n",
      "7    0.547564    0.182517       0.887778                 0.888077   \n",
      "8    0.555476    0.183258       0.872222                 0.872405   \n",
      "9    0.543262    0.179449       0.865556                 0.865863   \n",
      "10   0.525098    0.396796       0.880000                 0.881318   \n",
      "11   0.535257    0.469763       0.880000                 0.882489   \n",
      "12   0.522367    0.456381       0.873333                 0.880470   \n",
      "13   0.533551    0.467205       0.870000                 0.872175   \n",
      "14   0.529589    0.453580       0.860000                 0.867029   \n",
      "15   0.482764    0.200640       0.760000                 0.760911   \n",
      "16   0.851963    0.352413       0.501111                 0.501136   \n",
      "17   0.872120    0.361731       0.520000                 0.520469   \n",
      "18   0.843414    0.349296       0.486667                 0.487705   \n",
      "19   0.864019    0.360244       0.494444                 0.495194   \n",
      "20   7.717809    0.021410       1.000000                 1.000000   \n",
      "21  12.514313    0.020277       0.998889                 0.998891   \n",
      "22  10.524301    0.020506       1.000000                 1.000000   \n",
      "23  11.175566    0.019706       1.000000                 1.000000   \n",
      "24  11.230846    0.020910       1.000000                 1.000000   \n",
      "25   0.996214    0.079159       0.940000                 0.940007   \n",
      "26   0.917087    0.075944       0.950000                 0.950264   \n",
      "27   0.940349    0.076244       0.933333                 0.933347   \n",
      "28   0.860775    0.071771       0.927778                 0.927774   \n",
      "29   0.985747    0.074450       0.936667                 0.936869   \n",
      "30   1.125722    1.058317       0.674444                 0.803347   \n",
      "31   1.113126    1.026566       0.677778                 0.804396   \n",
      "32   1.115983    0.983415       0.700000                 0.810054   \n",
      "33   1.121080    1.056959       0.683333                 0.809734   \n",
      "34   1.092757    1.015584       0.708889                 0.814528   \n",
      "35   1.131065    0.458140       0.496667                 0.246678   \n",
      "36   1.128595    0.460703       0.497778                 0.247783   \n",
      "37   1.124652    0.454332       0.482222                 0.232538   \n",
      "38   1.123475    0.453329       0.476667                 0.227211   \n",
      "39   1.124913    0.456150       0.488889                 0.239012   \n",
      "40   7.763847    0.021344       1.000000                 1.000000   \n",
      "41  12.483109    0.020072       0.998889                 0.998891   \n",
      "42  10.536869    0.020123       1.000000                 1.000000   \n",
      "43  11.168827    0.019671       1.000000                 1.000000   \n",
      "44  11.197925    0.020053       1.000000                 1.000000   \n",
      "45   0.542613    0.172963       0.891111                 0.891222   \n",
      "46   0.546955    0.176749       0.904444                 0.904451   \n",
      "47   0.537512    0.173513       0.896667                 0.897364   \n",
      "48   0.539296    0.172561       0.887778                 0.887791   \n",
      "49   0.530127    0.171219       0.876667                 0.877225   \n",
      "50   0.506747    0.429063       0.892222                 0.892570   \n",
      "51   0.513694    0.433828       0.902222                 0.902747   \n",
      "52   0.506743    0.428090       0.881111                 0.887735   \n",
      "53   0.512745    0.432446       0.882222                 0.883404   \n",
      "54   0.502081    0.415923       0.874444                 0.877336   \n",
      "\n",
      "    test_recall_weighted  test_f1_weighted  test_roc_auc                model  \n",
      "0               1.000000          1.000000      1.000000   SVM-linear-scale-1  \n",
      "1               0.998889          0.998889      1.000000   SVM-linear-scale-1  \n",
      "2               1.000000          1.000000      1.000000   SVM-linear-scale-1  \n",
      "3               1.000000          1.000000      1.000000   SVM-linear-scale-1  \n",
      "4               1.000000          1.000000      1.000000   SVM-linear-scale-1  \n",
      "5               0.864444          0.864418      0.941005     SVM-poly-scale-1  \n",
      "6               0.888889          0.888884      0.953327     SVM-poly-scale-1  \n",
      "7               0.887778          0.887680      0.944414     SVM-poly-scale-1  \n",
      "8               0.872222          0.872261      0.938082     SVM-poly-scale-1  \n",
      "9               0.865556          0.865468      0.933794     SVM-poly-scale-1  \n",
      "10              0.880000          0.879923      0.942763      SVM-rbf-scale-1  \n",
      "11              0.880000          0.879829      0.949204      SVM-rbf-scale-1  \n",
      "12              0.873333          0.872361      0.931953      SVM-rbf-scale-1  \n",
      "13              0.870000          0.870055      0.940557      SVM-rbf-scale-1  \n",
      "14              0.860000          0.859063      0.927179      SVM-rbf-scale-1  \n",
      "15              0.760000          0.759718      0.811532  SVM-sigmoid-scale-1  \n",
      "16              0.501111          0.501108      0.579942  SVM-sigmoid-scale-1  \n",
      "17              0.520000          0.520142      0.588403  SVM-sigmoid-scale-1  \n",
      "18              0.486667          0.486946      0.560782  SVM-sigmoid-scale-1  \n",
      "19              0.494444          0.494232      0.570632  SVM-sigmoid-scale-1  \n",
      "20              1.000000          1.000000      1.000000    SVM-linear-auto-1  \n",
      "21              0.998889          0.998889      1.000000    SVM-linear-auto-1  \n",
      "22              1.000000          1.000000      1.000000    SVM-linear-auto-1  \n",
      "23              1.000000          1.000000      1.000000    SVM-linear-auto-1  \n",
      "24              1.000000          1.000000      1.000000    SVM-linear-auto-1  \n",
      "25              0.940000          0.939999      0.977989      SVM-poly-auto-1  \n",
      "26              0.950000          0.949990      0.983126      SVM-poly-auto-1  \n",
      "27              0.933333          0.933321      0.974768      SVM-poly-auto-1  \n",
      "28              0.927778          0.927766      0.971132      SVM-poly-auto-1  \n",
      "29              0.936667          0.936674      0.977727      SVM-poly-auto-1  \n",
      "30              0.674444          0.636821      0.727346       SVM-rbf-auto-1  \n",
      "31              0.677778          0.641078      0.717367       SVM-rbf-auto-1  \n",
      "32              0.700000          0.665968      0.729324       SVM-rbf-auto-1  \n",
      "33              0.683333          0.654129      0.741274       SVM-rbf-auto-1  \n",
      "34              0.708889          0.679444      0.737871       SVM-rbf-auto-1  \n",
      "35              0.496667          0.329636      0.500000   SVM-sigmoid-auto-1  \n",
      "36              0.497778          0.330867      0.500000   SVM-sigmoid-auto-1  \n",
      "37              0.482222          0.313770      0.500000   SVM-sigmoid-auto-1  \n",
      "38              0.476667          0.307735      0.500000   SVM-sigmoid-auto-1  \n",
      "39              0.488889          0.321061      0.500000   SVM-sigmoid-auto-1  \n",
      "40              1.000000          1.000000      1.000000   SVM-linear-scale-2  \n",
      "41              0.998889          0.998889      1.000000   SVM-linear-scale-2  \n",
      "42              1.000000          1.000000      1.000000   SVM-linear-scale-2  \n",
      "43              1.000000          1.000000      1.000000   SVM-linear-scale-2  \n",
      "44              1.000000          1.000000      1.000000   SVM-linear-scale-2  \n",
      "45              0.891111          0.891096      0.949998     SVM-poly-scale-2  \n",
      "46              0.904444          0.904443      0.962967     SVM-poly-scale-2  \n",
      "47              0.896667          0.896524      0.953942     SVM-poly-scale-2  \n",
      "48              0.887778          0.887783      0.946194     SVM-poly-scale-2  \n",
      "49              0.876667          0.876554      0.944629     SVM-poly-scale-2  \n",
      "50              0.892222          0.892210      0.949153      SVM-rbf-scale-2  \n",
      "51              0.902222          0.902199      0.958809      SVM-rbf-scale-2  \n",
      "52              0.881111          0.880269      0.943632      SVM-rbf-scale-2  \n",
      "53              0.882222          0.882286      0.946224      SVM-rbf-scale-2  \n",
      "54              0.874444          0.874055      0.934422      SVM-rbf-scale-2  \n"
     ]
    },
    {
     "name": "stdout",
     "output_type": "stream",
     "text": [
      "SVM-sigmoid-scale-2\n",
      "              precision    recall  f1-score   support\n",
      "\n",
      "   malignant       0.47      0.49      0.48       750\n",
      "      benign       0.47      0.45      0.46       750\n",
      "\n",
      "    accuracy                           0.47      1500\n",
      "   macro avg       0.47      0.47      0.47      1500\n",
      "weighted avg       0.47      0.47      0.47      1500\n",
      "\n",
      "     fit_time  score_time  test_accuracy  test_precision_weighted  \\\n",
      "0    7.733124    0.025135       1.000000                 1.000000   \n",
      "1   12.505378    0.021423       0.998889                 0.998891   \n",
      "2   10.553348    0.020788       1.000000                 1.000000   \n",
      "3   11.179711    0.021062       1.000000                 1.000000   \n",
      "4   11.258935    0.021497       1.000000                 1.000000   \n",
      "5    0.558456    0.184936       0.864444                 0.864604   \n",
      "6    0.563092    0.186887       0.888889                 0.888915   \n",
      "7    0.547564    0.182517       0.887778                 0.888077   \n",
      "8    0.555476    0.183258       0.872222                 0.872405   \n",
      "9    0.543262    0.179449       0.865556                 0.865863   \n",
      "10   0.525098    0.396796       0.880000                 0.881318   \n",
      "11   0.535257    0.469763       0.880000                 0.882489   \n",
      "12   0.522367    0.456381       0.873333                 0.880470   \n",
      "13   0.533551    0.467205       0.870000                 0.872175   \n",
      "14   0.529589    0.453580       0.860000                 0.867029   \n",
      "15   0.482764    0.200640       0.760000                 0.760911   \n",
      "16   0.851963    0.352413       0.501111                 0.501136   \n",
      "17   0.872120    0.361731       0.520000                 0.520469   \n",
      "18   0.843414    0.349296       0.486667                 0.487705   \n",
      "19   0.864019    0.360244       0.494444                 0.495194   \n",
      "20   7.717809    0.021410       1.000000                 1.000000   \n",
      "21  12.514313    0.020277       0.998889                 0.998891   \n",
      "22  10.524301    0.020506       1.000000                 1.000000   \n",
      "23  11.175566    0.019706       1.000000                 1.000000   \n",
      "24  11.230846    0.020910       1.000000                 1.000000   \n",
      "25   0.996214    0.079159       0.940000                 0.940007   \n",
      "26   0.917087    0.075944       0.950000                 0.950264   \n",
      "27   0.940349    0.076244       0.933333                 0.933347   \n",
      "28   0.860775    0.071771       0.927778                 0.927774   \n",
      "29   0.985747    0.074450       0.936667                 0.936869   \n",
      "30   1.125722    1.058317       0.674444                 0.803347   \n",
      "31   1.113126    1.026566       0.677778                 0.804396   \n",
      "32   1.115983    0.983415       0.700000                 0.810054   \n",
      "33   1.121080    1.056959       0.683333                 0.809734   \n",
      "34   1.092757    1.015584       0.708889                 0.814528   \n",
      "35   1.131065    0.458140       0.496667                 0.246678   \n",
      "36   1.128595    0.460703       0.497778                 0.247783   \n",
      "37   1.124652    0.454332       0.482222                 0.232538   \n",
      "38   1.123475    0.453329       0.476667                 0.227211   \n",
      "39   1.124913    0.456150       0.488889                 0.239012   \n",
      "40   7.763847    0.021344       1.000000                 1.000000   \n",
      "41  12.483109    0.020072       0.998889                 0.998891   \n",
      "42  10.536869    0.020123       1.000000                 1.000000   \n",
      "43  11.168827    0.019671       1.000000                 1.000000   \n",
      "44  11.197925    0.020053       1.000000                 1.000000   \n",
      "45   0.542613    0.172963       0.891111                 0.891222   \n",
      "46   0.546955    0.176749       0.904444                 0.904451   \n",
      "47   0.537512    0.173513       0.896667                 0.897364   \n",
      "48   0.539296    0.172561       0.887778                 0.887791   \n",
      "49   0.530127    0.171219       0.876667                 0.877225   \n",
      "50   0.506747    0.429063       0.892222                 0.892570   \n",
      "51   0.513694    0.433828       0.902222                 0.902747   \n",
      "52   0.506743    0.428090       0.881111                 0.887735   \n",
      "53   0.512745    0.432446       0.882222                 0.883404   \n",
      "54   0.502081    0.415923       0.874444                 0.877336   \n",
      "55   0.471885    0.186070       0.753333                 0.753860   \n",
      "56   0.846275    0.351814       0.501111                 0.501136   \n",
      "57   0.863767    0.360452       0.520000                 0.520469   \n",
      "58   0.835704    0.347392       0.485556                 0.486543   \n",
      "59   0.858217    0.358366       0.493333                 0.494102   \n",
      "\n",
      "    test_recall_weighted  test_f1_weighted  test_roc_auc                model  \n",
      "0               1.000000          1.000000      1.000000   SVM-linear-scale-1  \n",
      "1               0.998889          0.998889      1.000000   SVM-linear-scale-1  \n",
      "2               1.000000          1.000000      1.000000   SVM-linear-scale-1  \n",
      "3               1.000000          1.000000      1.000000   SVM-linear-scale-1  \n",
      "4               1.000000          1.000000      1.000000   SVM-linear-scale-1  \n",
      "5               0.864444          0.864418      0.941005     SVM-poly-scale-1  \n",
      "6               0.888889          0.888884      0.953327     SVM-poly-scale-1  \n",
      "7               0.887778          0.887680      0.944414     SVM-poly-scale-1  \n",
      "8               0.872222          0.872261      0.938082     SVM-poly-scale-1  \n",
      "9               0.865556          0.865468      0.933794     SVM-poly-scale-1  \n",
      "10              0.880000          0.879923      0.942763      SVM-rbf-scale-1  \n",
      "11              0.880000          0.879829      0.949204      SVM-rbf-scale-1  \n",
      "12              0.873333          0.872361      0.931953      SVM-rbf-scale-1  \n",
      "13              0.870000          0.870055      0.940557      SVM-rbf-scale-1  \n",
      "14              0.860000          0.859063      0.927179      SVM-rbf-scale-1  \n",
      "15              0.760000          0.759718      0.811532  SVM-sigmoid-scale-1  \n",
      "16              0.501111          0.501108      0.579942  SVM-sigmoid-scale-1  \n",
      "17              0.520000          0.520142      0.588403  SVM-sigmoid-scale-1  \n",
      "18              0.486667          0.486946      0.560782  SVM-sigmoid-scale-1  \n",
      "19              0.494444          0.494232      0.570632  SVM-sigmoid-scale-1  \n",
      "20              1.000000          1.000000      1.000000    SVM-linear-auto-1  \n",
      "21              0.998889          0.998889      1.000000    SVM-linear-auto-1  \n",
      "22              1.000000          1.000000      1.000000    SVM-linear-auto-1  \n",
      "23              1.000000          1.000000      1.000000    SVM-linear-auto-1  \n",
      "24              1.000000          1.000000      1.000000    SVM-linear-auto-1  \n",
      "25              0.940000          0.939999      0.977989      SVM-poly-auto-1  \n",
      "26              0.950000          0.949990      0.983126      SVM-poly-auto-1  \n",
      "27              0.933333          0.933321      0.974768      SVM-poly-auto-1  \n",
      "28              0.927778          0.927766      0.971132      SVM-poly-auto-1  \n",
      "29              0.936667          0.936674      0.977727      SVM-poly-auto-1  \n",
      "30              0.674444          0.636821      0.727346       SVM-rbf-auto-1  \n",
      "31              0.677778          0.641078      0.717367       SVM-rbf-auto-1  \n",
      "32              0.700000          0.665968      0.729324       SVM-rbf-auto-1  \n",
      "33              0.683333          0.654129      0.741274       SVM-rbf-auto-1  \n",
      "34              0.708889          0.679444      0.737871       SVM-rbf-auto-1  \n",
      "35              0.496667          0.329636      0.500000   SVM-sigmoid-auto-1  \n",
      "36              0.497778          0.330867      0.500000   SVM-sigmoid-auto-1  \n",
      "37              0.482222          0.313770      0.500000   SVM-sigmoid-auto-1  \n",
      "38              0.476667          0.307735      0.500000   SVM-sigmoid-auto-1  \n",
      "39              0.488889          0.321061      0.500000   SVM-sigmoid-auto-1  \n",
      "40              1.000000          1.000000      1.000000   SVM-linear-scale-2  \n",
      "41              0.998889          0.998889      1.000000   SVM-linear-scale-2  \n",
      "42              1.000000          1.000000      1.000000   SVM-linear-scale-2  \n",
      "43              1.000000          1.000000      1.000000   SVM-linear-scale-2  \n",
      "44              1.000000          1.000000      1.000000   SVM-linear-scale-2  \n",
      "45              0.891111          0.891096      0.949998     SVM-poly-scale-2  \n",
      "46              0.904444          0.904443      0.962967     SVM-poly-scale-2  \n",
      "47              0.896667          0.896524      0.953942     SVM-poly-scale-2  \n",
      "48              0.887778          0.887783      0.946194     SVM-poly-scale-2  \n",
      "49              0.876667          0.876554      0.944629     SVM-poly-scale-2  \n",
      "50              0.892222          0.892210      0.949153      SVM-rbf-scale-2  \n",
      "51              0.902222          0.902199      0.958809      SVM-rbf-scale-2  \n",
      "52              0.881111          0.880269      0.943632      SVM-rbf-scale-2  \n",
      "53              0.882222          0.882286      0.946224      SVM-rbf-scale-2  \n",
      "54              0.874444          0.874055      0.934422      SVM-rbf-scale-2  \n",
      "55              0.753333          0.753146      0.809340  SVM-sigmoid-scale-2  \n",
      "56              0.501111          0.501108      0.579458  SVM-sigmoid-scale-2  \n",
      "57              0.520000          0.520142      0.587968  SVM-sigmoid-scale-2  \n",
      "58              0.485556          0.485833      0.560242  SVM-sigmoid-scale-2  \n",
      "59              0.493333          0.493093      0.570035  SVM-sigmoid-scale-2  \n"
     ]
    },
    {
     "name": "stdout",
     "output_type": "stream",
     "text": [
      "SVM-linear-auto-2\n",
      "              precision    recall  f1-score   support\n",
      "\n",
      "   malignant       1.00      1.00      1.00       750\n",
      "      benign       1.00      1.00      1.00       750\n",
      "\n",
      "    accuracy                           1.00      1500\n",
      "   macro avg       1.00      1.00      1.00      1500\n",
      "weighted avg       1.00      1.00      1.00      1500\n",
      "\n",
      "     fit_time  score_time  test_accuracy  test_precision_weighted  \\\n",
      "0    7.733124    0.025135       1.000000                 1.000000   \n",
      "1   12.505378    0.021423       0.998889                 0.998891   \n",
      "2   10.553348    0.020788       1.000000                 1.000000   \n",
      "3   11.179711    0.021062       1.000000                 1.000000   \n",
      "4   11.258935    0.021497       1.000000                 1.000000   \n",
      "..        ...         ...            ...                      ...   \n",
      "60   7.688524    0.021418       1.000000                 1.000000   \n",
      "61  12.484793    0.019603       0.998889                 0.998891   \n",
      "62  10.552881    0.019057       1.000000                 1.000000   \n",
      "63  11.170255    0.019876       1.000000                 1.000000   \n",
      "64  11.243349    0.020419       1.000000                 1.000000   \n",
      "\n",
      "    test_recall_weighted  test_f1_weighted  test_roc_auc               model  \n",
      "0               1.000000          1.000000           1.0  SVM-linear-scale-1  \n",
      "1               0.998889          0.998889           1.0  SVM-linear-scale-1  \n",
      "2               1.000000          1.000000           1.0  SVM-linear-scale-1  \n",
      "3               1.000000          1.000000           1.0  SVM-linear-scale-1  \n",
      "4               1.000000          1.000000           1.0  SVM-linear-scale-1  \n",
      "..                   ...               ...           ...                 ...  \n",
      "60              1.000000          1.000000           1.0   SVM-linear-auto-2  \n",
      "61              0.998889          0.998889           1.0   SVM-linear-auto-2  \n",
      "62              1.000000          1.000000           1.0   SVM-linear-auto-2  \n",
      "63              1.000000          1.000000           1.0   SVM-linear-auto-2  \n",
      "64              1.000000          1.000000           1.0   SVM-linear-auto-2  \n",
      "\n",
      "[65 rows x 8 columns]\n"
     ]
    },
    {
     "name": "stdout",
     "output_type": "stream",
     "text": [
      "SVM-poly-auto-2\n",
      "              precision    recall  f1-score   support\n",
      "\n",
      "   malignant       0.94      0.95      0.95       750\n",
      "      benign       0.95      0.94      0.95       750\n",
      "\n",
      "    accuracy                           0.95      1500\n",
      "   macro avg       0.95      0.95      0.95      1500\n",
      "weighted avg       0.95      0.95      0.95      1500\n",
      "\n",
      "     fit_time  score_time  test_accuracy  test_precision_weighted  \\\n",
      "0    7.733124    0.025135       1.000000                 1.000000   \n",
      "1   12.505378    0.021423       0.998889                 0.998891   \n",
      "2   10.553348    0.020788       1.000000                 1.000000   \n",
      "3   11.179711    0.021062       1.000000                 1.000000   \n",
      "4   11.258935    0.021497       1.000000                 1.000000   \n",
      "..        ...         ...            ...                      ...   \n",
      "65   1.002149    0.074945       0.940000                 0.940007   \n",
      "66   0.916646    0.071641       0.950000                 0.950264   \n",
      "67   0.941236    0.071766       0.933333                 0.933347   \n",
      "68   0.855653    0.068282       0.927778                 0.927774   \n",
      "69   0.990977    0.070606       0.936667                 0.936869   \n",
      "\n",
      "    test_recall_weighted  test_f1_weighted  test_roc_auc               model  \n",
      "0               1.000000          1.000000      1.000000  SVM-linear-scale-1  \n",
      "1               0.998889          0.998889      1.000000  SVM-linear-scale-1  \n",
      "2               1.000000          1.000000      1.000000  SVM-linear-scale-1  \n",
      "3               1.000000          1.000000      1.000000  SVM-linear-scale-1  \n",
      "4               1.000000          1.000000      1.000000  SVM-linear-scale-1  \n",
      "..                   ...               ...           ...                 ...  \n",
      "65              0.940000          0.939999      0.977989     SVM-poly-auto-2  \n",
      "66              0.950000          0.949990      0.983126     SVM-poly-auto-2  \n",
      "67              0.933333          0.933321      0.974768     SVM-poly-auto-2  \n",
      "68              0.927778          0.927766      0.971132     SVM-poly-auto-2  \n",
      "69              0.936667          0.936674      0.977727     SVM-poly-auto-2  \n",
      "\n",
      "[70 rows x 8 columns]\n"
     ]
    },
    {
     "name": "stdout",
     "output_type": "stream",
     "text": [
      "SVM-rbf-auto-2\n",
      "              precision    recall  f1-score   support\n",
      "\n",
      "   malignant       0.63      1.00      0.77       750\n",
      "      benign       1.00      0.41      0.58       750\n",
      "\n",
      "    accuracy                           0.70      1500\n",
      "   macro avg       0.81      0.70      0.68      1500\n",
      "weighted avg       0.81      0.70      0.68      1500\n",
      "\n",
      "     fit_time  score_time  test_accuracy  test_precision_weighted  \\\n",
      "0    7.733124    0.025135       1.000000                 1.000000   \n",
      "1   12.505378    0.021423       0.998889                 0.998891   \n",
      "2   10.553348    0.020788       1.000000                 1.000000   \n",
      "3   11.179711    0.021062       1.000000                 1.000000   \n",
      "4   11.258935    0.021497       1.000000                 1.000000   \n",
      "..        ...         ...            ...                      ...   \n",
      "70   1.066216    0.934693       0.674444                 0.803347   \n",
      "71   1.055563    0.918053       0.677778                 0.804396   \n",
      "72   1.043607    0.931894       0.700000                 0.810054   \n",
      "73   1.077658    0.928318       0.683333                 0.809734   \n",
      "74   1.074219    0.934900       0.708889                 0.814528   \n",
      "\n",
      "    test_recall_weighted  test_f1_weighted  test_roc_auc               model  \n",
      "0               1.000000          1.000000      1.000000  SVM-linear-scale-1  \n",
      "1               0.998889          0.998889      1.000000  SVM-linear-scale-1  \n",
      "2               1.000000          1.000000      1.000000  SVM-linear-scale-1  \n",
      "3               1.000000          1.000000      1.000000  SVM-linear-scale-1  \n",
      "4               1.000000          1.000000      1.000000  SVM-linear-scale-1  \n",
      "..                   ...               ...           ...                 ...  \n",
      "70              0.674444          0.636821      0.727346      SVM-rbf-auto-2  \n",
      "71              0.677778          0.641078      0.717367      SVM-rbf-auto-2  \n",
      "72              0.700000          0.665968      0.729324      SVM-rbf-auto-2  \n",
      "73              0.683333          0.654129      0.741274      SVM-rbf-auto-2  \n",
      "74              0.708889          0.679444      0.737871      SVM-rbf-auto-2  \n",
      "\n",
      "[75 rows x 8 columns]\n"
     ]
    },
    {
     "name": "stdout",
     "output_type": "stream",
     "text": [
      "SVM-sigmoid-auto-2\n",
      "              precision    recall  f1-score   support\n",
      "\n",
      "   malignant       0.00      0.00      0.00       750\n",
      "      benign       0.50      1.00      0.67       750\n",
      "\n",
      "    accuracy                           0.50      1500\n",
      "   macro avg       0.25      0.50      0.33      1500\n",
      "weighted avg       0.25      0.50      0.33      1500\n",
      "\n",
      "     fit_time  score_time  test_accuracy  test_precision_weighted  \\\n",
      "0    7.733124    0.025135       1.000000                 1.000000   \n",
      "1   12.505378    0.021423       0.998889                 0.998891   \n",
      "2   10.553348    0.020788       1.000000                 1.000000   \n",
      "3   11.179711    0.021062       1.000000                 1.000000   \n",
      "4   11.258935    0.021497       1.000000                 1.000000   \n",
      "..        ...         ...            ...                      ...   \n",
      "75   1.120746    0.450620       0.496667                 0.246678   \n",
      "76   1.118680    0.450766       0.497778                 0.247783   \n",
      "77   1.113815    0.448616       0.482222                 0.232538   \n",
      "78   1.117448    0.446696       0.476667                 0.227211   \n",
      "79   1.118483    0.448828       0.488889                 0.239012   \n",
      "\n",
      "    test_recall_weighted  test_f1_weighted  test_roc_auc               model  \n",
      "0               1.000000          1.000000           1.0  SVM-linear-scale-1  \n",
      "1               0.998889          0.998889           1.0  SVM-linear-scale-1  \n",
      "2               1.000000          1.000000           1.0  SVM-linear-scale-1  \n",
      "3               1.000000          1.000000           1.0  SVM-linear-scale-1  \n",
      "4               1.000000          1.000000           1.0  SVM-linear-scale-1  \n",
      "..                   ...               ...           ...                 ...  \n",
      "75              0.496667          0.329636           0.5  SVM-sigmoid-auto-2  \n",
      "76              0.497778          0.330867           0.5  SVM-sigmoid-auto-2  \n",
      "77              0.482222          0.313770           0.5  SVM-sigmoid-auto-2  \n",
      "78              0.476667          0.307735           0.5  SVM-sigmoid-auto-2  \n",
      "79              0.488889          0.321061           0.5  SVM-sigmoid-auto-2  \n",
      "\n",
      "[80 rows x 8 columns]\n",
      "396.61828645318747\n"
     ]
    }
   ],
   "source": [
    "## S3; In-browser VS Binary ##\n",
    "\n",
    "  #1) In-Browser\n",
    "df_malicious = pd.concat([df3,df5,df6,df7,df32,df33,df34,df35])[:30000]\n",
    "df_benign = pd.concat([df8,df9,df14,df15,df16,df17,df18,df19,df20,df14])[:30000]\n",
    "\n",
    "print(\"malicious: {}\".format(len(df_malicious)))\n",
    "print(\"benign: {}\".format(len(df_benign)))\n",
    "\n",
    "print(\"{} NAN in malicious!\".format(len(df_malicious[df_malicious.isna().any(axis=1)])))\n",
    "print(\"{} NAN in benign!\".format(len(df_benign[df_benign.isna().any(axis=1)])))\n",
    "\n",
    "df_malicious = df_malicious.dropna()\n",
    "df_benign = df_benign.dropna()\n",
    "\n",
    "print(\"After droppping NAN rows: \")\n",
    "print(\"malicious: {}\".format(len(df_malicious)))\n",
    "print(\"benign: {}\".format(len(df_benign)))\n",
    "\n",
    "start = timer()\n",
    "\n",
    "results_In_s3 = run_process(df_malicious,df_benign,df_results)\n",
    "\n",
    "\n",
    "end = timer()\n",
    "print(end - start)"
   ]
  },
  {
   "cell_type": "code",
   "execution_count": 9,
   "id": "78e08286",
   "metadata": {
    "execution": {
     "iopub.execute_input": "2025-08-11T00:08:08.857169Z",
     "iopub.status.busy": "2025-08-11T00:08:08.856770Z",
     "iopub.status.idle": "2025-08-11T00:08:08.861469Z",
     "shell.execute_reply": "2025-08-11T00:08:08.860737Z"
    }
   },
   "outputs": [
    {
     "name": "stdout",
     "output_type": "stream",
     "text": [
      "rodou\n"
     ]
    }
   ],
   "source": [
    "print('rodou')"
   ]
  },
  {
   "cell_type": "code",
   "execution_count": 10,
   "id": "157de3ed",
   "metadata": {
    "execution": {
     "iopub.execute_input": "2025-08-11T00:08:08.864584Z",
     "iopub.status.busy": "2025-08-11T00:08:08.864434Z",
     "iopub.status.idle": "2025-08-11T00:14:57.640088Z",
     "shell.execute_reply": "2025-08-11T00:14:57.639078Z"
    }
   },
   "outputs": [
    {
     "name": "stdout",
     "output_type": "stream",
     "text": [
      "malicious: 30000\n",
      "benign: 30000\n",
      "0 NAN in malicious!\n",
      "0 NAN in benign!\n",
      "After droppping NAN rows: \n",
      "malicious: 30000\n",
      "benign: 30000\n"
     ]
    },
    {
     "name": "stderr",
     "output_type": "stream",
     "text": [
      "\r",
      "Feature Extraction:   0%|          | 0/231 [00:00<?, ?it/s]"
     ]
    },
    {
     "name": "stderr",
     "output_type": "stream",
     "text": [
      "\r",
      "Feature Extraction:   0%|          | 1/231 [00:01<05:21,  1.40s/it]"
     ]
    },
    {
     "name": "stderr",
     "output_type": "stream",
     "text": [
      "\r",
      "Feature Extraction:   1%|▏         | 3/231 [00:01<01:37,  2.34it/s]"
     ]
    },
    {
     "name": "stderr",
     "output_type": "stream",
     "text": [
      "\r",
      "Feature Extraction:   2%|▏         | 4/231 [00:01<01:13,  3.08it/s]"
     ]
    },
    {
     "name": "stderr",
     "output_type": "stream",
     "text": [
      "\r",
      "Feature Extraction:   3%|▎         | 6/231 [00:01<00:42,  5.25it/s]"
     ]
    },
    {
     "name": "stderr",
     "output_type": "stream",
     "text": [
      "\r",
      "Feature Extraction:   3%|▎         | 8/231 [00:01<00:30,  7.21it/s]"
     ]
    },
    {
     "name": "stderr",
     "output_type": "stream",
     "text": [
      "\r",
      "Feature Extraction:   5%|▌         | 12/231 [00:02<00:18, 12.09it/s]"
     ]
    },
    {
     "name": "stderr",
     "output_type": "stream",
     "text": [
      "\r",
      "Feature Extraction:   7%|▋         | 17/231 [00:02<00:12, 17.82it/s]"
     ]
    },
    {
     "name": "stderr",
     "output_type": "stream",
     "text": [
      "\r",
      "Feature Extraction:  10%|▉         | 22/231 [00:02<00:09, 23.08it/s]"
     ]
    },
    {
     "name": "stderr",
     "output_type": "stream",
     "text": [
      "\r",
      "Feature Extraction:  11%|█         | 25/231 [00:02<00:09, 21.46it/s]"
     ]
    },
    {
     "name": "stderr",
     "output_type": "stream",
     "text": [
      "\r",
      "Feature Extraction:  13%|█▎        | 29/231 [00:02<00:08, 25.25it/s]"
     ]
    },
    {
     "name": "stderr",
     "output_type": "stream",
     "text": [
      "\r",
      "Feature Extraction:  14%|█▍        | 33/231 [00:02<00:07, 27.18it/s]"
     ]
    },
    {
     "name": "stderr",
     "output_type": "stream",
     "text": [
      "\r",
      "Feature Extraction:  16%|█▋        | 38/231 [00:02<00:06, 30.18it/s]"
     ]
    },
    {
     "name": "stderr",
     "output_type": "stream",
     "text": [
      "\r",
      "Feature Extraction:  18%|█▊        | 42/231 [00:03<00:06, 31.22it/s]"
     ]
    },
    {
     "name": "stderr",
     "output_type": "stream",
     "text": [
      "\r",
      "Feature Extraction:  20%|█▉        | 46/231 [00:03<00:11, 16.36it/s]"
     ]
    },
    {
     "name": "stderr",
     "output_type": "stream",
     "text": [
      "\r",
      "Feature Extraction:  23%|██▎       | 54/231 [00:03<00:07, 24.80it/s]"
     ]
    },
    {
     "name": "stderr",
     "output_type": "stream",
     "text": [
      "\r",
      "Feature Extraction:  26%|██▌       | 59/231 [00:03<00:06, 27.12it/s]"
     ]
    },
    {
     "name": "stderr",
     "output_type": "stream",
     "text": [
      "\r",
      "Feature Extraction:  28%|██▊       | 64/231 [00:03<00:05, 29.35it/s]"
     ]
    },
    {
     "name": "stderr",
     "output_type": "stream",
     "text": [
      "\r",
      "Feature Extraction:  30%|██▉       | 69/231 [00:04<00:05, 31.66it/s]"
     ]
    },
    {
     "name": "stderr",
     "output_type": "stream",
     "text": [
      "\r",
      "Feature Extraction:  32%|███▏      | 75/231 [00:04<00:04, 36.78it/s]"
     ]
    },
    {
     "name": "stderr",
     "output_type": "stream",
     "text": [
      "\r",
      "Feature Extraction:  35%|███▍      | 80/231 [00:04<00:04, 37.29it/s]"
     ]
    },
    {
     "name": "stderr",
     "output_type": "stream",
     "text": [
      "\r",
      "Feature Extraction:  37%|███▋      | 85/231 [00:04<00:03, 37.12it/s]"
     ]
    },
    {
     "name": "stderr",
     "output_type": "stream",
     "text": [
      "\r",
      "Feature Extraction:  39%|███▉      | 91/231 [00:04<00:03, 40.97it/s]"
     ]
    },
    {
     "name": "stderr",
     "output_type": "stream",
     "text": [
      "\r",
      "Feature Extraction:  42%|████▏     | 96/231 [00:04<00:03, 41.56it/s]"
     ]
    },
    {
     "name": "stderr",
     "output_type": "stream",
     "text": [
      "\r",
      "Feature Extraction:  44%|████▎     | 101/231 [00:04<00:03, 41.87it/s]"
     ]
    },
    {
     "name": "stderr",
     "output_type": "stream",
     "text": [
      "\r",
      "Feature Extraction:  46%|████▌     | 106/231 [00:04<00:03, 36.74it/s]"
     ]
    },
    {
     "name": "stderr",
     "output_type": "stream",
     "text": [
      "\r",
      "Feature Extraction:  48%|████▊     | 110/231 [00:05<00:03, 35.97it/s]"
     ]
    },
    {
     "name": "stderr",
     "output_type": "stream",
     "text": [
      "\r",
      "Feature Extraction:  49%|████▉     | 114/231 [00:05<00:03, 33.36it/s]"
     ]
    },
    {
     "name": "stderr",
     "output_type": "stream",
     "text": [
      "\r",
      "Feature Extraction:  51%|█████     | 118/231 [00:05<00:03, 29.39it/s]"
     ]
    },
    {
     "name": "stderr",
     "output_type": "stream",
     "text": [
      "\r",
      "Feature Extraction:  53%|█████▎    | 122/231 [00:05<00:04, 24.68it/s]"
     ]
    },
    {
     "name": "stderr",
     "output_type": "stream",
     "text": [
      "\r",
      "Feature Extraction:  55%|█████▍    | 126/231 [00:05<00:03, 27.09it/s]"
     ]
    },
    {
     "name": "stderr",
     "output_type": "stream",
     "text": [
      "\r",
      "Feature Extraction:  56%|█████▌    | 129/231 [00:05<00:03, 25.72it/s]"
     ]
    },
    {
     "name": "stderr",
     "output_type": "stream",
     "text": [
      "\r",
      "Feature Extraction:  58%|█████▊    | 133/231 [00:05<00:03, 28.55it/s]"
     ]
    },
    {
     "name": "stderr",
     "output_type": "stream",
     "text": [
      "\r",
      "Feature Extraction:  59%|█████▉    | 137/231 [00:06<00:03, 30.70it/s]"
     ]
    },
    {
     "name": "stderr",
     "output_type": "stream",
     "text": [
      "\r",
      "Feature Extraction:  61%|██████▏   | 142/231 [00:06<00:02, 31.44it/s]"
     ]
    },
    {
     "name": "stderr",
     "output_type": "stream",
     "text": [
      "\r",
      "Feature Extraction:  63%|██████▎   | 146/231 [00:06<00:02, 30.84it/s]"
     ]
    },
    {
     "name": "stderr",
     "output_type": "stream",
     "text": [
      "\r",
      "Feature Extraction:  65%|██████▍   | 150/231 [00:06<00:02, 31.66it/s]"
     ]
    },
    {
     "name": "stderr",
     "output_type": "stream",
     "text": [
      "\r",
      "Feature Extraction:  67%|██████▋   | 155/231 [00:06<00:02, 34.11it/s]"
     ]
    },
    {
     "name": "stderr",
     "output_type": "stream",
     "text": [
      "\r",
      "Feature Extraction:  70%|██████▉   | 161/231 [00:06<00:01, 35.31it/s]"
     ]
    },
    {
     "name": "stderr",
     "output_type": "stream",
     "text": [
      "\r",
      "Feature Extraction:  72%|███████▏  | 167/231 [00:06<00:01, 37.69it/s]"
     ]
    },
    {
     "name": "stderr",
     "output_type": "stream",
     "text": [
      "\r",
      "Feature Extraction:  74%|███████▍  | 171/231 [00:07<00:01, 36.85it/s]"
     ]
    },
    {
     "name": "stderr",
     "output_type": "stream",
     "text": [
      "\r",
      "Feature Extraction:  76%|███████▌  | 175/231 [00:07<00:01, 33.42it/s]"
     ]
    },
    {
     "name": "stderr",
     "output_type": "stream",
     "text": [
      "\r",
      "Feature Extraction:  77%|███████▋  | 179/231 [00:07<00:02, 21.59it/s]"
     ]
    },
    {
     "name": "stderr",
     "output_type": "stream",
     "text": [
      "\r",
      "Feature Extraction:  79%|███████▉  | 182/231 [00:07<00:02, 21.02it/s]"
     ]
    },
    {
     "name": "stderr",
     "output_type": "stream",
     "text": [
      "\r",
      "Feature Extraction:  81%|████████  | 186/231 [00:07<00:01, 24.09it/s]"
     ]
    },
    {
     "name": "stderr",
     "output_type": "stream",
     "text": [
      "\r",
      "Feature Extraction:  83%|████████▎ | 192/231 [00:07<00:01, 29.48it/s]"
     ]
    },
    {
     "name": "stderr",
     "output_type": "stream",
     "text": [
      "\r",
      "Feature Extraction:  87%|████████▋ | 201/231 [00:08<00:00, 41.07it/s]"
     ]
    },
    {
     "name": "stderr",
     "output_type": "stream",
     "text": [
      "\r",
      "Feature Extraction:  90%|████████▉ | 207/231 [00:08<00:00, 44.32it/s]"
     ]
    },
    {
     "name": "stderr",
     "output_type": "stream",
     "text": [
      "\r",
      "Feature Extraction:  94%|█████████▎| 216/231 [00:08<00:00, 51.17it/s]"
     ]
    },
    {
     "name": "stderr",
     "output_type": "stream",
     "text": [
      "\r",
      "Feature Extraction:  96%|█████████▌| 222/231 [00:08<00:00, 52.32it/s]"
     ]
    },
    {
     "name": "stderr",
     "output_type": "stream",
     "text": [
      "\r",
      "Feature Extraction:  99%|█████████▊| 228/231 [00:08<00:00, 53.66it/s]"
     ]
    },
    {
     "name": "stderr",
     "output_type": "stream",
     "text": [
      "\r",
      "Feature Extraction: 100%|██████████| 231/231 [00:08<00:00, 26.98it/s]"
     ]
    },
    {
     "name": "stderr",
     "output_type": "stream",
     "text": [
      "\n"
     ]
    },
    {
     "name": "stderr",
     "output_type": "stream",
     "text": [
      "\r",
      "Feature Extraction:   0%|          | 0/231 [00:00<?, ?it/s]"
     ]
    },
    {
     "name": "stderr",
     "output_type": "stream",
     "text": [
      "\r",
      "Feature Extraction:   0%|          | 1/231 [00:01<04:50,  1.26s/it]"
     ]
    },
    {
     "name": "stderr",
     "output_type": "stream",
     "text": [
      "\r",
      "Feature Extraction:   1%|          | 2/231 [00:01<02:26,  1.57it/s]"
     ]
    },
    {
     "name": "stderr",
     "output_type": "stream",
     "text": [
      "\r",
      "Feature Extraction:   3%|▎         | 7/231 [00:01<00:31,  7.11it/s]"
     ]
    },
    {
     "name": "stderr",
     "output_type": "stream",
     "text": [
      "\r",
      "Feature Extraction:   4%|▍         | 10/231 [00:01<00:24,  8.85it/s]"
     ]
    },
    {
     "name": "stderr",
     "output_type": "stream",
     "text": [
      "\r",
      "Feature Extraction:   8%|▊         | 18/231 [00:01<00:11, 19.17it/s]"
     ]
    },
    {
     "name": "stderr",
     "output_type": "stream",
     "text": [
      "\r",
      "Feature Extraction:  10%|█         | 24/231 [00:01<00:07, 26.19it/s]"
     ]
    },
    {
     "name": "stderr",
     "output_type": "stream",
     "text": [
      "\r",
      "Feature Extraction:  13%|█▎        | 31/231 [00:02<00:05, 34.05it/s]"
     ]
    },
    {
     "name": "stderr",
     "output_type": "stream",
     "text": [
      "\r",
      "Feature Extraction:  16%|█▌        | 37/231 [00:02<00:05, 33.76it/s]"
     ]
    },
    {
     "name": "stderr",
     "output_type": "stream",
     "text": [
      "\r",
      "Feature Extraction:  18%|█▊        | 42/231 [00:02<00:05, 34.50it/s]"
     ]
    },
    {
     "name": "stderr",
     "output_type": "stream",
     "text": [
      "\r",
      "Feature Extraction:  20%|██        | 47/231 [00:02<00:05, 34.84it/s]"
     ]
    },
    {
     "name": "stderr",
     "output_type": "stream",
     "text": [
      "\r",
      "Feature Extraction:  23%|██▎       | 52/231 [00:02<00:04, 37.61it/s]"
     ]
    },
    {
     "name": "stderr",
     "output_type": "stream",
     "text": [
      "\r",
      "Feature Extraction:  25%|██▍       | 57/231 [00:02<00:05, 33.72it/s]"
     ]
    },
    {
     "name": "stderr",
     "output_type": "stream",
     "text": [
      "\r",
      "Feature Extraction:  26%|██▋       | 61/231 [00:03<00:05, 30.30it/s]"
     ]
    },
    {
     "name": "stderr",
     "output_type": "stream",
     "text": [
      "\r",
      "Feature Extraction:  28%|██▊       | 65/231 [00:03<00:05, 29.22it/s]"
     ]
    },
    {
     "name": "stderr",
     "output_type": "stream",
     "text": [
      "\r",
      "Feature Extraction:  30%|██▉       | 69/231 [00:03<00:05, 31.22it/s]"
     ]
    },
    {
     "name": "stderr",
     "output_type": "stream",
     "text": [
      "\r",
      "Feature Extraction:  32%|███▏      | 73/231 [00:03<00:05, 29.66it/s]"
     ]
    },
    {
     "name": "stderr",
     "output_type": "stream",
     "text": [
      "\r",
      "Feature Extraction:  33%|███▎      | 77/231 [00:03<00:05, 28.23it/s]"
     ]
    },
    {
     "name": "stderr",
     "output_type": "stream",
     "text": [
      "\r",
      "Feature Extraction:  35%|███▌      | 81/231 [00:03<00:04, 30.51it/s]"
     ]
    },
    {
     "name": "stderr",
     "output_type": "stream",
     "text": [
      "\r",
      "Feature Extraction:  37%|███▋      | 85/231 [00:03<00:04, 32.22it/s]"
     ]
    },
    {
     "name": "stderr",
     "output_type": "stream",
     "text": [
      "\r",
      "Feature Extraction:  39%|███▊      | 89/231 [00:03<00:04, 33.73it/s]"
     ]
    },
    {
     "name": "stderr",
     "output_type": "stream",
     "text": [
      "\r",
      "Feature Extraction:  40%|████      | 93/231 [00:04<00:06, 22.70it/s]"
     ]
    },
    {
     "name": "stderr",
     "output_type": "stream",
     "text": [
      "\r",
      "Feature Extraction:  42%|████▏     | 97/231 [00:04<00:05, 24.60it/s]"
     ]
    },
    {
     "name": "stderr",
     "output_type": "stream",
     "text": [
      "\r",
      "Feature Extraction:  45%|████▍     | 103/231 [00:04<00:04, 31.05it/s]"
     ]
    },
    {
     "name": "stderr",
     "output_type": "stream",
     "text": [
      "\r",
      "Feature Extraction:  46%|████▋     | 107/231 [00:04<00:03, 31.48it/s]"
     ]
    },
    {
     "name": "stderr",
     "output_type": "stream",
     "text": [
      "\r",
      "Feature Extraction:  48%|████▊     | 111/231 [00:04<00:03, 33.01it/s]"
     ]
    },
    {
     "name": "stderr",
     "output_type": "stream",
     "text": [
      "\r",
      "Feature Extraction:  50%|█████     | 116/231 [00:04<00:03, 35.14it/s]"
     ]
    },
    {
     "name": "stderr",
     "output_type": "stream",
     "text": [
      "\r",
      "Feature Extraction:  52%|█████▏    | 121/231 [00:04<00:02, 37.13it/s]"
     ]
    },
    {
     "name": "stderr",
     "output_type": "stream",
     "text": [
      "\r",
      "Feature Extraction:  55%|█████▍    | 126/231 [00:05<00:02, 39.37it/s]"
     ]
    },
    {
     "name": "stderr",
     "output_type": "stream",
     "text": [
      "\r",
      "Feature Extraction:  57%|█████▋    | 131/231 [00:05<00:02, 35.94it/s]"
     ]
    },
    {
     "name": "stderr",
     "output_type": "stream",
     "text": [
      "\r",
      "Feature Extraction:  58%|█████▊    | 135/231 [00:05<00:03, 31.23it/s]"
     ]
    },
    {
     "name": "stderr",
     "output_type": "stream",
     "text": [
      "\r",
      "Feature Extraction:  60%|██████    | 139/231 [00:05<00:03, 27.92it/s]"
     ]
    },
    {
     "name": "stderr",
     "output_type": "stream",
     "text": [
      "\r",
      "Feature Extraction:  61%|██████▏   | 142/231 [00:05<00:03, 27.46it/s]"
     ]
    },
    {
     "name": "stderr",
     "output_type": "stream",
     "text": [
      "\r",
      "Feature Extraction:  63%|██████▎   | 145/231 [00:06<00:04, 17.60it/s]"
     ]
    },
    {
     "name": "stderr",
     "output_type": "stream",
     "text": [
      "\r",
      "Feature Extraction:  65%|██████▍   | 149/231 [00:06<00:03, 20.59it/s]"
     ]
    },
    {
     "name": "stderr",
     "output_type": "stream",
     "text": [
      "\r",
      "Feature Extraction:  67%|██████▋   | 155/231 [00:06<00:02, 26.84it/s]"
     ]
    },
    {
     "name": "stderr",
     "output_type": "stream",
     "text": [
      "\r",
      "Feature Extraction:  70%|██████▉   | 161/231 [00:06<00:02, 32.33it/s]"
     ]
    },
    {
     "name": "stderr",
     "output_type": "stream",
     "text": [
      "\r",
      "Feature Extraction:  72%|███████▏  | 167/231 [00:06<00:01, 34.82it/s]"
     ]
    },
    {
     "name": "stderr",
     "output_type": "stream",
     "text": [
      "\r",
      "Feature Extraction:  75%|███████▍  | 173/231 [00:06<00:01, 38.53it/s]"
     ]
    },
    {
     "name": "stderr",
     "output_type": "stream",
     "text": [
      "\r",
      "Feature Extraction:  77%|███████▋  | 178/231 [00:06<00:01, 39.38it/s]"
     ]
    },
    {
     "name": "stderr",
     "output_type": "stream",
     "text": [
      "\r",
      "Feature Extraction:  79%|███████▉  | 183/231 [00:07<00:01, 27.57it/s]"
     ]
    },
    {
     "name": "stderr",
     "output_type": "stream",
     "text": [
      "\r",
      "Feature Extraction:  81%|████████  | 187/231 [00:07<00:01, 27.90it/s]"
     ]
    },
    {
     "name": "stderr",
     "output_type": "stream",
     "text": [
      "\r",
      "Feature Extraction:  84%|████████▎ | 193/231 [00:07<00:01, 33.27it/s]"
     ]
    },
    {
     "name": "stderr",
     "output_type": "stream",
     "text": [
      "\r",
      "Feature Extraction:  88%|████████▊ | 204/231 [00:07<00:00, 49.39it/s]"
     ]
    },
    {
     "name": "stderr",
     "output_type": "stream",
     "text": [
      "\r",
      "Feature Extraction:  91%|█████████ | 210/231 [00:07<00:00, 43.48it/s]"
     ]
    },
    {
     "name": "stderr",
     "output_type": "stream",
     "text": [
      "\r",
      "Feature Extraction:  94%|█████████▎| 216/231 [00:07<00:00, 42.65it/s]"
     ]
    },
    {
     "name": "stderr",
     "output_type": "stream",
     "text": [
      "\r",
      "Feature Extraction:  96%|█████████▌| 222/231 [00:07<00:00, 45.98it/s]"
     ]
    },
    {
     "name": "stderr",
     "output_type": "stream",
     "text": [
      "\r",
      "Feature Extraction:  99%|█████████▊| 228/231 [00:08<00:00, 42.74it/s]"
     ]
    },
    {
     "name": "stderr",
     "output_type": "stream",
     "text": [
      "\r",
      "Feature Extraction: 100%|██████████| 231/231 [00:08<00:00, 28.33it/s]"
     ]
    },
    {
     "name": "stderr",
     "output_type": "stream",
     "text": [
      "\n"
     ]
    },
    {
     "name": "stdout",
     "output_type": "stream",
     "text": [
      "let the ml starts\n"
     ]
    },
    {
     "name": "stdout",
     "output_type": "stream",
     "text": [
      "SVM-linear-scale-1\n",
      "              precision    recall  f1-score   support\n",
      "\n",
      "   malignant       1.00      1.00      1.00       750\n",
      "      benign       1.00      1.00      1.00       750\n",
      "\n",
      "    accuracy                           1.00      1500\n",
      "   macro avg       1.00      1.00      1.00      1500\n",
      "weighted avg       1.00      1.00      1.00      1500\n",
      "\n",
      "    fit_time  score_time  test_accuracy  test_precision_weighted  \\\n",
      "0   9.107827    0.024147       0.988889                 0.988928   \n",
      "1  10.228511    0.024073       0.993333                 0.993373   \n",
      "2  10.882882    0.023949       0.990000                 0.990002   \n",
      "3  12.364873    0.023579       0.995556                 0.995564   \n",
      "4  11.194319    0.023248       0.991111                 0.991196   \n",
      "\n",
      "   test_recall_weighted  test_f1_weighted  test_roc_auc               model  \n",
      "0              0.988889          0.988889      0.997837  SVM-linear-scale-1  \n",
      "1              0.993333          0.993333      0.995605  SVM-linear-scale-1  \n",
      "2              0.990000          0.990000      0.999090  SVM-linear-scale-1  \n",
      "3              0.995556          0.995555      0.998718  SVM-linear-scale-1  \n",
      "4              0.991111          0.991109      0.999718  SVM-linear-scale-1  \n"
     ]
    },
    {
     "name": "stdout",
     "output_type": "stream",
     "text": [
      "SVM-poly-scale-1\n",
      "              precision    recall  f1-score   support\n",
      "\n",
      "   malignant       0.94      0.83      0.88       750\n",
      "      benign       0.85      0.94      0.89       750\n",
      "\n",
      "    accuracy                           0.89      1500\n",
      "   macro avg       0.89      0.89      0.89      1500\n",
      "weighted avg       0.89      0.89      0.89      1500\n",
      "\n",
      "    fit_time  score_time  test_accuracy  test_precision_weighted  \\\n",
      "0   9.107827    0.024147       0.988889                 0.988928   \n",
      "1  10.228511    0.024073       0.993333                 0.993373   \n",
      "2  10.882882    0.023949       0.990000                 0.990002   \n",
      "3  12.364873    0.023579       0.995556                 0.995564   \n",
      "4  11.194319    0.023248       0.991111                 0.991196   \n",
      "5   0.562550    0.200950       0.870000                 0.876368   \n",
      "6   0.555703    0.196854       0.867778                 0.875056   \n",
      "7   0.570110    0.200715       0.872222                 0.879753   \n",
      "8   0.559893    0.198775       0.873333                 0.877386   \n",
      "9   0.582693    0.205848       0.892222                 0.895081   \n",
      "\n",
      "   test_recall_weighted  test_f1_weighted  test_roc_auc               model  \n",
      "0              0.988889          0.988889      0.997837  SVM-linear-scale-1  \n",
      "1              0.993333          0.993333      0.995605  SVM-linear-scale-1  \n",
      "2              0.990000          0.990000      0.999090  SVM-linear-scale-1  \n",
      "3              0.995556          0.995555      0.998718  SVM-linear-scale-1  \n",
      "4              0.991111          0.991109      0.999718  SVM-linear-scale-1  \n",
      "5              0.870000          0.869381      0.944304    SVM-poly-scale-1  \n",
      "6              0.867778          0.867085      0.933742    SVM-poly-scale-1  \n",
      "7              0.872222          0.871943      0.938896    SVM-poly-scale-1  \n",
      "8              0.873333          0.872606      0.935920    SVM-poly-scale-1  \n",
      "9              0.892222          0.892138      0.953384    SVM-poly-scale-1  \n"
     ]
    },
    {
     "name": "stdout",
     "output_type": "stream",
     "text": [
      "SVM-rbf-scale-1\n",
      "              precision    recall  f1-score   support\n",
      "\n",
      "   malignant       0.92      0.86      0.89       750\n",
      "      benign       0.87      0.93      0.90       750\n",
      "\n",
      "    accuracy                           0.89      1500\n",
      "   macro avg       0.89      0.89      0.89      1500\n",
      "weighted avg       0.89      0.89      0.89      1500\n",
      "\n",
      "     fit_time  score_time  test_accuracy  test_precision_weighted  \\\n",
      "0    9.107827    0.024147       0.988889                 0.988928   \n",
      "1   10.228511    0.024073       0.993333                 0.993373   \n",
      "2   10.882882    0.023949       0.990000                 0.990002   \n",
      "3   12.364873    0.023579       0.995556                 0.995564   \n",
      "4   11.194319    0.023248       0.991111                 0.991196   \n",
      "5    0.562550    0.200950       0.870000                 0.876368   \n",
      "6    0.555703    0.196854       0.867778                 0.875056   \n",
      "7    0.570110    0.200715       0.872222                 0.879753   \n",
      "8    0.559893    0.198775       0.873333                 0.877386   \n",
      "9    0.582693    0.205848       0.892222                 0.895081   \n",
      "10   0.603777    0.496031       0.873333                 0.877545   \n",
      "11   0.589077    0.480003       0.851111                 0.853321   \n",
      "12   0.596608    0.490360       0.876667                 0.880889   \n",
      "13   0.596920    0.491191       0.864444                 0.864425   \n",
      "14   0.609363    0.514793       0.888889                 0.889231   \n",
      "\n",
      "    test_recall_weighted  test_f1_weighted  test_roc_auc               model  \n",
      "0               0.988889          0.988889      0.997837  SVM-linear-scale-1  \n",
      "1               0.993333          0.993333      0.995605  SVM-linear-scale-1  \n",
      "2               0.990000          0.990000      0.999090  SVM-linear-scale-1  \n",
      "3               0.995556          0.995555      0.998718  SVM-linear-scale-1  \n",
      "4               0.991111          0.991109      0.999718  SVM-linear-scale-1  \n",
      "5               0.870000          0.869381      0.944304    SVM-poly-scale-1  \n",
      "6               0.867778          0.867085      0.933742    SVM-poly-scale-1  \n",
      "7               0.872222          0.871943      0.938896    SVM-poly-scale-1  \n",
      "8               0.873333          0.872606      0.935920    SVM-poly-scale-1  \n",
      "9               0.892222          0.892138      0.953384    SVM-poly-scale-1  \n",
      "10              0.873333          0.872927      0.943790     SVM-rbf-scale-1  \n",
      "11              0.851111          0.850846      0.927337     SVM-rbf-scale-1  \n",
      "12              0.876667          0.876578      0.935622     SVM-rbf-scale-1  \n",
      "13              0.864444          0.864396      0.939557     SVM-rbf-scale-1  \n",
      "14              0.888889          0.888902      0.951245     SVM-rbf-scale-1  \n"
     ]
    },
    {
     "name": "stdout",
     "output_type": "stream",
     "text": [
      "SVM-sigmoid-scale-1\n",
      "              precision    recall  f1-score   support\n",
      "\n",
      "   malignant       0.45      0.44      0.44       750\n",
      "      benign       0.45      0.46      0.45       750\n",
      "\n",
      "    accuracy                           0.45      1500\n",
      "   macro avg       0.45      0.45      0.45      1500\n",
      "weighted avg       0.45      0.45      0.45      1500\n",
      "\n",
      "     fit_time  score_time  test_accuracy  test_precision_weighted  \\\n",
      "0    9.107827    0.024147       0.988889                 0.988928   \n",
      "1   10.228511    0.024073       0.993333                 0.993373   \n",
      "2   10.882882    0.023949       0.990000                 0.990002   \n",
      "3   12.364873    0.023579       0.995556                 0.995564   \n",
      "4   11.194319    0.023248       0.991111                 0.991196   \n",
      "5    0.562550    0.200950       0.870000                 0.876368   \n",
      "6    0.555703    0.196854       0.867778                 0.875056   \n",
      "7    0.570110    0.200715       0.872222                 0.879753   \n",
      "8    0.559893    0.198775       0.873333                 0.877386   \n",
      "9    0.582693    0.205848       0.892222                 0.895081   \n",
      "10   0.603777    0.496031       0.873333                 0.877545   \n",
      "11   0.589077    0.480003       0.851111                 0.853321   \n",
      "12   0.596608    0.490360       0.876667                 0.880889   \n",
      "13   0.596920    0.491191       0.864444                 0.864425   \n",
      "14   0.609363    0.514793       0.888889                 0.889231   \n",
      "15   1.129858    0.500763       0.427778                 0.427749   \n",
      "16   1.138088    0.510286       0.437778                 0.437766   \n",
      "17   1.141234    0.505781       0.444444                 0.444856   \n",
      "18   1.131000    0.500914       0.416667                 0.418000   \n",
      "19   1.141308    0.508485       0.433333                 0.433903   \n",
      "\n",
      "    test_recall_weighted  test_f1_weighted  test_roc_auc                model  \n",
      "0               0.988889          0.988889      0.997837   SVM-linear-scale-1  \n",
      "1               0.993333          0.993333      0.995605   SVM-linear-scale-1  \n",
      "2               0.990000          0.990000      0.999090   SVM-linear-scale-1  \n",
      "3               0.995556          0.995555      0.998718   SVM-linear-scale-1  \n",
      "4               0.991111          0.991109      0.999718   SVM-linear-scale-1  \n",
      "5               0.870000          0.869381      0.944304     SVM-poly-scale-1  \n",
      "6               0.867778          0.867085      0.933742     SVM-poly-scale-1  \n",
      "7               0.872222          0.871943      0.938896     SVM-poly-scale-1  \n",
      "8               0.873333          0.872606      0.935920     SVM-poly-scale-1  \n",
      "9               0.892222          0.892138      0.953384     SVM-poly-scale-1  \n",
      "10              0.873333          0.872927      0.943790      SVM-rbf-scale-1  \n",
      "11              0.851111          0.850846      0.927337      SVM-rbf-scale-1  \n",
      "12              0.876667          0.876578      0.935622      SVM-rbf-scale-1  \n",
      "13              0.864444          0.864396      0.939557      SVM-rbf-scale-1  \n",
      "14              0.888889          0.888902      0.951245      SVM-rbf-scale-1  \n",
      "15              0.427778          0.427759      0.447872  SVM-sigmoid-scale-1  \n",
      "16              0.437778          0.437556      0.460384  SVM-sigmoid-scale-1  \n",
      "17              0.444444          0.444595      0.480484  SVM-sigmoid-scale-1  \n",
      "18              0.416667          0.416958      0.425069  SVM-sigmoid-scale-1  \n",
      "19              0.433333          0.432168      0.440963  SVM-sigmoid-scale-1  \n"
     ]
    },
    {
     "name": "stdout",
     "output_type": "stream",
     "text": [
      "SVM-linear-auto-1\n",
      "              precision    recall  f1-score   support\n",
      "\n",
      "   malignant       1.00      1.00      1.00       750\n",
      "      benign       1.00      1.00      1.00       750\n",
      "\n",
      "    accuracy                           1.00      1500\n",
      "   macro avg       1.00      1.00      1.00      1500\n",
      "weighted avg       1.00      1.00      1.00      1500\n",
      "\n",
      "     fit_time  score_time  test_accuracy  test_precision_weighted  \\\n",
      "0    9.107827    0.024147       0.988889                 0.988928   \n",
      "1   10.228511    0.024073       0.993333                 0.993373   \n",
      "2   10.882882    0.023949       0.990000                 0.990002   \n",
      "3   12.364873    0.023579       0.995556                 0.995564   \n",
      "4   11.194319    0.023248       0.991111                 0.991196   \n",
      "5    0.562550    0.200950       0.870000                 0.876368   \n",
      "6    0.555703    0.196854       0.867778                 0.875056   \n",
      "7    0.570110    0.200715       0.872222                 0.879753   \n",
      "8    0.559893    0.198775       0.873333                 0.877386   \n",
      "9    0.582693    0.205848       0.892222                 0.895081   \n",
      "10   0.603777    0.496031       0.873333                 0.877545   \n",
      "11   0.589077    0.480003       0.851111                 0.853321   \n",
      "12   0.596608    0.490360       0.876667                 0.880889   \n",
      "13   0.596920    0.491191       0.864444                 0.864425   \n",
      "14   0.609363    0.514793       0.888889                 0.889231   \n",
      "15   1.129858    0.500763       0.427778                 0.427749   \n",
      "16   1.138088    0.510286       0.437778                 0.437766   \n",
      "17   1.141234    0.505781       0.444444                 0.444856   \n",
      "18   1.131000    0.500914       0.416667                 0.418000   \n",
      "19   1.141308    0.508485       0.433333                 0.433903   \n",
      "20   9.137901    0.022125       0.988889                 0.988928   \n",
      "21  10.308680    0.023308       0.993333                 0.993373   \n",
      "22  10.905232    0.022535       0.990000                 0.990002   \n",
      "23  12.346652    0.022756       0.995556                 0.995564   \n",
      "24  11.165135    0.023310       0.991111                 0.991196   \n",
      "\n",
      "    test_recall_weighted  test_f1_weighted  test_roc_auc                model  \n",
      "0               0.988889          0.988889      0.997837   SVM-linear-scale-1  \n",
      "1               0.993333          0.993333      0.995605   SVM-linear-scale-1  \n",
      "2               0.990000          0.990000      0.999090   SVM-linear-scale-1  \n",
      "3               0.995556          0.995555      0.998718   SVM-linear-scale-1  \n",
      "4               0.991111          0.991109      0.999718   SVM-linear-scale-1  \n",
      "5               0.870000          0.869381      0.944304     SVM-poly-scale-1  \n",
      "6               0.867778          0.867085      0.933742     SVM-poly-scale-1  \n",
      "7               0.872222          0.871943      0.938896     SVM-poly-scale-1  \n",
      "8               0.873333          0.872606      0.935920     SVM-poly-scale-1  \n",
      "9               0.892222          0.892138      0.953384     SVM-poly-scale-1  \n",
      "10              0.873333          0.872927      0.943790      SVM-rbf-scale-1  \n",
      "11              0.851111          0.850846      0.927337      SVM-rbf-scale-1  \n",
      "12              0.876667          0.876578      0.935622      SVM-rbf-scale-1  \n",
      "13              0.864444          0.864396      0.939557      SVM-rbf-scale-1  \n",
      "14              0.888889          0.888902      0.951245      SVM-rbf-scale-1  \n",
      "15              0.427778          0.427759      0.447872  SVM-sigmoid-scale-1  \n",
      "16              0.437778          0.437556      0.460384  SVM-sigmoid-scale-1  \n",
      "17              0.444444          0.444595      0.480484  SVM-sigmoid-scale-1  \n",
      "18              0.416667          0.416958      0.425069  SVM-sigmoid-scale-1  \n",
      "19              0.433333          0.432168      0.440963  SVM-sigmoid-scale-1  \n",
      "20              0.988889          0.988889      0.997837    SVM-linear-auto-1  \n",
      "21              0.993333          0.993333      0.995605    SVM-linear-auto-1  \n",
      "22              0.990000          0.990000      0.999090    SVM-linear-auto-1  \n",
      "23              0.995556          0.995555      0.998718    SVM-linear-auto-1  \n",
      "24              0.991111          0.991109      0.999718    SVM-linear-auto-1  \n"
     ]
    },
    {
     "name": "stdout",
     "output_type": "stream",
     "text": [
      "SVM-poly-auto-1\n",
      "              precision    recall  f1-score   support\n",
      "\n",
      "   malignant       0.95      0.95      0.95       750\n",
      "      benign       0.95      0.95      0.95       750\n",
      "\n",
      "    accuracy                           0.95      1500\n",
      "   macro avg       0.95      0.95      0.95      1500\n",
      "weighted avg       0.95      0.95      0.95      1500\n",
      "\n",
      "     fit_time  score_time  test_accuracy  test_precision_weighted  \\\n",
      "0    9.107827    0.024147       0.988889                 0.988928   \n",
      "1   10.228511    0.024073       0.993333                 0.993373   \n",
      "2   10.882882    0.023949       0.990000                 0.990002   \n",
      "3   12.364873    0.023579       0.995556                 0.995564   \n",
      "4   11.194319    0.023248       0.991111                 0.991196   \n",
      "5    0.562550    0.200950       0.870000                 0.876368   \n",
      "6    0.555703    0.196854       0.867778                 0.875056   \n",
      "7    0.570110    0.200715       0.872222                 0.879753   \n",
      "8    0.559893    0.198775       0.873333                 0.877386   \n",
      "9    0.582693    0.205848       0.892222                 0.895081   \n",
      "10   0.603777    0.496031       0.873333                 0.877545   \n",
      "11   0.589077    0.480003       0.851111                 0.853321   \n",
      "12   0.596608    0.490360       0.876667                 0.880889   \n",
      "13   0.596920    0.491191       0.864444                 0.864425   \n",
      "14   0.609363    0.514793       0.888889                 0.889231   \n",
      "15   1.129858    0.500763       0.427778                 0.427749   \n",
      "16   1.138088    0.510286       0.437778                 0.437766   \n",
      "17   1.141234    0.505781       0.444444                 0.444856   \n",
      "18   1.131000    0.500914       0.416667                 0.418000   \n",
      "19   1.141308    0.508485       0.433333                 0.433903   \n",
      "20   9.137901    0.022125       0.988889                 0.988928   \n",
      "21  10.308680    0.023308       0.993333                 0.993373   \n",
      "22  10.905232    0.022535       0.990000                 0.990002   \n",
      "23  12.346652    0.022756       0.995556                 0.995564   \n",
      "24  11.165135    0.023310       0.991111                 0.991196   \n",
      "25   0.925000    0.111165       0.926667                 0.926696   \n",
      "26   0.899627    0.112710       0.933333                 0.933634   \n",
      "27   0.846653    0.111487       0.934444                 0.934586   \n",
      "28   0.874973    0.108949       0.916667                 0.916660   \n",
      "29   0.883152    0.110972       0.940000                 0.940278   \n",
      "\n",
      "    test_recall_weighted  test_f1_weighted  test_roc_auc                model  \n",
      "0               0.988889          0.988889      0.997837   SVM-linear-scale-1  \n",
      "1               0.993333          0.993333      0.995605   SVM-linear-scale-1  \n",
      "2               0.990000          0.990000      0.999090   SVM-linear-scale-1  \n",
      "3               0.995556          0.995555      0.998718   SVM-linear-scale-1  \n",
      "4               0.991111          0.991109      0.999718   SVM-linear-scale-1  \n",
      "5               0.870000          0.869381      0.944304     SVM-poly-scale-1  \n",
      "6               0.867778          0.867085      0.933742     SVM-poly-scale-1  \n",
      "7               0.872222          0.871943      0.938896     SVM-poly-scale-1  \n",
      "8               0.873333          0.872606      0.935920     SVM-poly-scale-1  \n",
      "9               0.892222          0.892138      0.953384     SVM-poly-scale-1  \n",
      "10              0.873333          0.872927      0.943790      SVM-rbf-scale-1  \n",
      "11              0.851111          0.850846      0.927337      SVM-rbf-scale-1  \n",
      "12              0.876667          0.876578      0.935622      SVM-rbf-scale-1  \n",
      "13              0.864444          0.864396      0.939557      SVM-rbf-scale-1  \n",
      "14              0.888889          0.888902      0.951245      SVM-rbf-scale-1  \n",
      "15              0.427778          0.427759      0.447872  SVM-sigmoid-scale-1  \n",
      "16              0.437778          0.437556      0.460384  SVM-sigmoid-scale-1  \n",
      "17              0.444444          0.444595      0.480484  SVM-sigmoid-scale-1  \n",
      "18              0.416667          0.416958      0.425069  SVM-sigmoid-scale-1  \n",
      "19              0.433333          0.432168      0.440963  SVM-sigmoid-scale-1  \n",
      "20              0.988889          0.988889      0.997837    SVM-linear-auto-1  \n",
      "21              0.993333          0.993333      0.995605    SVM-linear-auto-1  \n",
      "22              0.990000          0.990000      0.999090    SVM-linear-auto-1  \n",
      "23              0.995556          0.995555      0.998718    SVM-linear-auto-1  \n",
      "24              0.991111          0.991109      0.999718    SVM-linear-auto-1  \n",
      "25              0.926667          0.926663      0.977308      SVM-poly-auto-1  \n",
      "26              0.933333          0.933318      0.972854      SVM-poly-auto-1  \n",
      "27              0.934444          0.934459      0.978289      SVM-poly-auto-1  \n",
      "28              0.916667          0.916662      0.973622      SVM-poly-auto-1  \n",
      "29              0.940000          0.939972      0.982861      SVM-poly-auto-1  \n"
     ]
    },
    {
     "name": "stdout",
     "output_type": "stream",
     "text": [
      "SVM-rbf-auto-1\n",
      "              precision    recall  f1-score   support\n",
      "\n",
      "   malignant       1.00      0.33      0.50       750\n",
      "      benign       0.60      1.00      0.75       750\n",
      "\n",
      "    accuracy                           0.67      1500\n",
      "   macro avg       0.80      0.67      0.62      1500\n",
      "weighted avg       0.80      0.67      0.62      1500\n",
      "\n",
      "     fit_time  score_time  test_accuracy  test_precision_weighted  \\\n",
      "0    9.107827    0.024147       0.988889                 0.988928   \n",
      "1   10.228511    0.024073       0.993333                 0.993373   \n",
      "2   10.882882    0.023949       0.990000                 0.990002   \n",
      "3   12.364873    0.023579       0.995556                 0.995564   \n",
      "4   11.194319    0.023248       0.991111                 0.991196   \n",
      "5    0.562550    0.200950       0.870000                 0.876368   \n",
      "6    0.555703    0.196854       0.867778                 0.875056   \n",
      "7    0.570110    0.200715       0.872222                 0.879753   \n",
      "8    0.559893    0.198775       0.873333                 0.877386   \n",
      "9    0.582693    0.205848       0.892222                 0.895081   \n",
      "10   0.603777    0.496031       0.873333                 0.877545   \n",
      "11   0.589077    0.480003       0.851111                 0.853321   \n",
      "12   0.596608    0.490360       0.876667                 0.880889   \n",
      "13   0.596920    0.491191       0.864444                 0.864425   \n",
      "14   0.609363    0.514793       0.888889                 0.889231   \n",
      "15   1.129858    0.500763       0.427778                 0.427749   \n",
      "16   1.138088    0.510286       0.437778                 0.437766   \n",
      "17   1.141234    0.505781       0.444444                 0.444856   \n",
      "18   1.131000    0.500914       0.416667                 0.418000   \n",
      "19   1.141308    0.508485       0.433333                 0.433903   \n",
      "20   9.137901    0.022125       0.988889                 0.988928   \n",
      "21  10.308680    0.023308       0.993333                 0.993373   \n",
      "22  10.905232    0.022535       0.990000                 0.990002   \n",
      "23  12.346652    0.022756       0.995556                 0.995564   \n",
      "24  11.165135    0.023310       0.991111                 0.991196   \n",
      "25   0.925000    0.111165       0.926667                 0.926696   \n",
      "26   0.899627    0.112710       0.933333                 0.933634   \n",
      "27   0.846653    0.111487       0.934444                 0.934586   \n",
      "28   0.874973    0.108949       0.916667                 0.916660   \n",
      "29   0.883152    0.110972       0.940000                 0.940278   \n",
      "30   1.279193    1.156547       0.650000                 0.793555   \n",
      "31   1.270692    1.153163       0.650000                 0.793742   \n",
      "32   1.254720    1.164359       0.648889                 0.796824   \n",
      "33   1.283831    1.153691       0.685556                 0.803576   \n",
      "34   1.256191    1.157132       0.656667                 0.798309   \n",
      "\n",
      "    test_recall_weighted  test_f1_weighted  test_roc_auc                model  \n",
      "0               0.988889          0.988889      0.997837   SVM-linear-scale-1  \n",
      "1               0.993333          0.993333      0.995605   SVM-linear-scale-1  \n",
      "2               0.990000          0.990000      0.999090   SVM-linear-scale-1  \n",
      "3               0.995556          0.995555      0.998718   SVM-linear-scale-1  \n",
      "4               0.991111          0.991109      0.999718   SVM-linear-scale-1  \n",
      "5               0.870000          0.869381      0.944304     SVM-poly-scale-1  \n",
      "6               0.867778          0.867085      0.933742     SVM-poly-scale-1  \n",
      "7               0.872222          0.871943      0.938896     SVM-poly-scale-1  \n",
      "8               0.873333          0.872606      0.935920     SVM-poly-scale-1  \n",
      "9               0.892222          0.892138      0.953384     SVM-poly-scale-1  \n",
      "10              0.873333          0.872927      0.943790      SVM-rbf-scale-1  \n",
      "11              0.851111          0.850846      0.927337      SVM-rbf-scale-1  \n",
      "12              0.876667          0.876578      0.935622      SVM-rbf-scale-1  \n",
      "13              0.864444          0.864396      0.939557      SVM-rbf-scale-1  \n",
      "14              0.888889          0.888902      0.951245      SVM-rbf-scale-1  \n",
      "15              0.427778          0.427759      0.447872  SVM-sigmoid-scale-1  \n",
      "16              0.437778          0.437556      0.460384  SVM-sigmoid-scale-1  \n",
      "17              0.444444          0.444595      0.480484  SVM-sigmoid-scale-1  \n",
      "18              0.416667          0.416958      0.425069  SVM-sigmoid-scale-1  \n",
      "19              0.433333          0.432168      0.440963  SVM-sigmoid-scale-1  \n",
      "20              0.988889          0.988889      0.997837    SVM-linear-auto-1  \n",
      "21              0.993333          0.993333      0.995605    SVM-linear-auto-1  \n",
      "22              0.990000          0.990000      0.999090    SVM-linear-auto-1  \n",
      "23              0.995556          0.995555      0.998718    SVM-linear-auto-1  \n",
      "24              0.991111          0.991109      0.999718    SVM-linear-auto-1  \n",
      "25              0.926667          0.926663      0.977308      SVM-poly-auto-1  \n",
      "26              0.933333          0.933318      0.972854      SVM-poly-auto-1  \n",
      "27              0.934444          0.934459      0.978289      SVM-poly-auto-1  \n",
      "28              0.916667          0.916662      0.973622      SVM-poly-auto-1  \n",
      "29              0.940000          0.939972      0.982861      SVM-poly-auto-1  \n",
      "30              0.650000          0.599940      0.665491       SVM-rbf-auto-1  \n",
      "31              0.650000          0.600342      0.670564       SVM-rbf-auto-1  \n",
      "32              0.648889          0.605686      0.685261       SVM-rbf-auto-1  \n",
      "33              0.685556          0.644496      0.691813       SVM-rbf-auto-1  \n",
      "34              0.656667          0.614463      0.681754       SVM-rbf-auto-1  \n"
     ]
    },
    {
     "name": "stdout",
     "output_type": "stream",
     "text": [
      "SVM-sigmoid-auto-1\n",
      "              precision    recall  f1-score   support\n",
      "\n",
      "   malignant       0.00      0.00      0.00       750\n",
      "      benign       0.50      1.00      0.67       750\n",
      "\n",
      "    accuracy                           0.50      1500\n",
      "   macro avg       0.25      0.50      0.33      1500\n",
      "weighted avg       0.25      0.50      0.33      1500\n",
      "\n",
      "     fit_time  score_time  test_accuracy  test_precision_weighted  \\\n",
      "0    9.107827    0.024147       0.988889                 0.988928   \n",
      "1   10.228511    0.024073       0.993333                 0.993373   \n",
      "2   10.882882    0.023949       0.990000                 0.990002   \n",
      "3   12.364873    0.023579       0.995556                 0.995564   \n",
      "4   11.194319    0.023248       0.991111                 0.991196   \n",
      "5    0.562550    0.200950       0.870000                 0.876368   \n",
      "6    0.555703    0.196854       0.867778                 0.875056   \n",
      "7    0.570110    0.200715       0.872222                 0.879753   \n",
      "8    0.559893    0.198775       0.873333                 0.877386   \n",
      "9    0.582693    0.205848       0.892222                 0.895081   \n",
      "10   0.603777    0.496031       0.873333                 0.877545   \n",
      "11   0.589077    0.480003       0.851111                 0.853321   \n",
      "12   0.596608    0.490360       0.876667                 0.880889   \n",
      "13   0.596920    0.491191       0.864444                 0.864425   \n",
      "14   0.609363    0.514793       0.888889                 0.889231   \n",
      "15   1.129858    0.500763       0.427778                 0.427749   \n",
      "16   1.138088    0.510286       0.437778                 0.437766   \n",
      "17   1.141234    0.505781       0.444444                 0.444856   \n",
      "18   1.131000    0.500914       0.416667                 0.418000   \n",
      "19   1.141308    0.508485       0.433333                 0.433903   \n",
      "20   9.137901    0.022125       0.988889                 0.988928   \n",
      "21  10.308680    0.023308       0.993333                 0.993373   \n",
      "22  10.905232    0.022535       0.990000                 0.990002   \n",
      "23  12.346652    0.022756       0.995556                 0.995564   \n",
      "24  11.165135    0.023310       0.991111                 0.991196   \n",
      "25   0.925000    0.111165       0.926667                 0.926696   \n",
      "26   0.899627    0.112710       0.933333                 0.933634   \n",
      "27   0.846653    0.111487       0.934444                 0.934586   \n",
      "28   0.874973    0.108949       0.916667                 0.916660   \n",
      "29   0.883152    0.110972       0.940000                 0.940278   \n",
      "30   1.279193    1.156547       0.650000                 0.793555   \n",
      "31   1.270692    1.153163       0.650000                 0.793742   \n",
      "32   1.254720    1.164359       0.648889                 0.796824   \n",
      "33   1.283831    1.153691       0.685556                 0.803576   \n",
      "34   1.256191    1.157132       0.656667                 0.798309   \n",
      "35   1.270789    0.521757       0.496667                 0.246678   \n",
      "36   1.269272    0.521544       0.497778                 0.247783   \n",
      "37   1.264133    0.517332       0.482222                 0.232538   \n",
      "38   1.262933    0.516247       0.476667                 0.227211   \n",
      "39   1.271459    0.519024       0.488889                 0.239012   \n",
      "\n",
      "    test_recall_weighted  test_f1_weighted  test_roc_auc                model  \n",
      "0               0.988889          0.988889      0.997837   SVM-linear-scale-1  \n",
      "1               0.993333          0.993333      0.995605   SVM-linear-scale-1  \n",
      "2               0.990000          0.990000      0.999090   SVM-linear-scale-1  \n",
      "3               0.995556          0.995555      0.998718   SVM-linear-scale-1  \n",
      "4               0.991111          0.991109      0.999718   SVM-linear-scale-1  \n",
      "5               0.870000          0.869381      0.944304     SVM-poly-scale-1  \n",
      "6               0.867778          0.867085      0.933742     SVM-poly-scale-1  \n",
      "7               0.872222          0.871943      0.938896     SVM-poly-scale-1  \n",
      "8               0.873333          0.872606      0.935920     SVM-poly-scale-1  \n",
      "9               0.892222          0.892138      0.953384     SVM-poly-scale-1  \n",
      "10              0.873333          0.872927      0.943790      SVM-rbf-scale-1  \n",
      "11              0.851111          0.850846      0.927337      SVM-rbf-scale-1  \n",
      "12              0.876667          0.876578      0.935622      SVM-rbf-scale-1  \n",
      "13              0.864444          0.864396      0.939557      SVM-rbf-scale-1  \n",
      "14              0.888889          0.888902      0.951245      SVM-rbf-scale-1  \n",
      "15              0.427778          0.427759      0.447872  SVM-sigmoid-scale-1  \n",
      "16              0.437778          0.437556      0.460384  SVM-sigmoid-scale-1  \n",
      "17              0.444444          0.444595      0.480484  SVM-sigmoid-scale-1  \n",
      "18              0.416667          0.416958      0.425069  SVM-sigmoid-scale-1  \n",
      "19              0.433333          0.432168      0.440963  SVM-sigmoid-scale-1  \n",
      "20              0.988889          0.988889      0.997837    SVM-linear-auto-1  \n",
      "21              0.993333          0.993333      0.995605    SVM-linear-auto-1  \n",
      "22              0.990000          0.990000      0.999090    SVM-linear-auto-1  \n",
      "23              0.995556          0.995555      0.998718    SVM-linear-auto-1  \n",
      "24              0.991111          0.991109      0.999718    SVM-linear-auto-1  \n",
      "25              0.926667          0.926663      0.977308      SVM-poly-auto-1  \n",
      "26              0.933333          0.933318      0.972854      SVM-poly-auto-1  \n",
      "27              0.934444          0.934459      0.978289      SVM-poly-auto-1  \n",
      "28              0.916667          0.916662      0.973622      SVM-poly-auto-1  \n",
      "29              0.940000          0.939972      0.982861      SVM-poly-auto-1  \n",
      "30              0.650000          0.599940      0.665491       SVM-rbf-auto-1  \n",
      "31              0.650000          0.600342      0.670564       SVM-rbf-auto-1  \n",
      "32              0.648889          0.605686      0.685261       SVM-rbf-auto-1  \n",
      "33              0.685556          0.644496      0.691813       SVM-rbf-auto-1  \n",
      "34              0.656667          0.614463      0.681754       SVM-rbf-auto-1  \n",
      "35              0.496667          0.329636      0.500000   SVM-sigmoid-auto-1  \n",
      "36              0.497778          0.330867      0.500000   SVM-sigmoid-auto-1  \n",
      "37              0.482222          0.313770      0.500000   SVM-sigmoid-auto-1  \n",
      "38              0.476667          0.307735      0.500000   SVM-sigmoid-auto-1  \n",
      "39              0.488889          0.321061      0.500000   SVM-sigmoid-auto-1  \n"
     ]
    },
    {
     "name": "stdout",
     "output_type": "stream",
     "text": [
      "SVM-linear-scale-2\n",
      "              precision    recall  f1-score   support\n",
      "\n",
      "   malignant       1.00      1.00      1.00       750\n",
      "      benign       1.00      1.00      1.00       750\n",
      "\n",
      "    accuracy                           1.00      1500\n",
      "   macro avg       1.00      1.00      1.00      1500\n",
      "weighted avg       1.00      1.00      1.00      1500\n",
      "\n",
      "     fit_time  score_time  test_accuracy  test_precision_weighted  \\\n",
      "0    9.107827    0.024147       0.988889                 0.988928   \n",
      "1   10.228511    0.024073       0.993333                 0.993373   \n",
      "2   10.882882    0.023949       0.990000                 0.990002   \n",
      "3   12.364873    0.023579       0.995556                 0.995564   \n",
      "4   11.194319    0.023248       0.991111                 0.991196   \n",
      "5    0.562550    0.200950       0.870000                 0.876368   \n",
      "6    0.555703    0.196854       0.867778                 0.875056   \n",
      "7    0.570110    0.200715       0.872222                 0.879753   \n",
      "8    0.559893    0.198775       0.873333                 0.877386   \n",
      "9    0.582693    0.205848       0.892222                 0.895081   \n",
      "10   0.603777    0.496031       0.873333                 0.877545   \n",
      "11   0.589077    0.480003       0.851111                 0.853321   \n",
      "12   0.596608    0.490360       0.876667                 0.880889   \n",
      "13   0.596920    0.491191       0.864444                 0.864425   \n",
      "14   0.609363    0.514793       0.888889                 0.889231   \n",
      "15   1.129858    0.500763       0.427778                 0.427749   \n",
      "16   1.138088    0.510286       0.437778                 0.437766   \n",
      "17   1.141234    0.505781       0.444444                 0.444856   \n",
      "18   1.131000    0.500914       0.416667                 0.418000   \n",
      "19   1.141308    0.508485       0.433333                 0.433903   \n",
      "20   9.137901    0.022125       0.988889                 0.988928   \n",
      "21  10.308680    0.023308       0.993333                 0.993373   \n",
      "22  10.905232    0.022535       0.990000                 0.990002   \n",
      "23  12.346652    0.022756       0.995556                 0.995564   \n",
      "24  11.165135    0.023310       0.991111                 0.991196   \n",
      "25   0.925000    0.111165       0.926667                 0.926696   \n",
      "26   0.899627    0.112710       0.933333                 0.933634   \n",
      "27   0.846653    0.111487       0.934444                 0.934586   \n",
      "28   0.874973    0.108949       0.916667                 0.916660   \n",
      "29   0.883152    0.110972       0.940000                 0.940278   \n",
      "30   1.279193    1.156547       0.650000                 0.793555   \n",
      "31   1.270692    1.153163       0.650000                 0.793742   \n",
      "32   1.254720    1.164359       0.648889                 0.796824   \n",
      "33   1.283831    1.153691       0.685556                 0.803576   \n",
      "34   1.256191    1.157132       0.656667                 0.798309   \n",
      "35   1.270789    0.521757       0.496667                 0.246678   \n",
      "36   1.269272    0.521544       0.497778                 0.247783   \n",
      "37   1.264133    0.517332       0.482222                 0.232538   \n",
      "38   1.262933    0.516247       0.476667                 0.227211   \n",
      "39   1.271459    0.519024       0.488889                 0.239012   \n",
      "40   9.086817    0.022359       0.988889                 0.988928   \n",
      "41  10.216139    0.022753       0.993333                 0.993373   \n",
      "42  10.932649    0.022565       0.990000                 0.990002   \n",
      "43  12.306212    0.022299       0.995556                 0.995564   \n",
      "44  11.133243    0.023281       0.991111                 0.991196   \n",
      "\n",
      "    test_recall_weighted  test_f1_weighted  test_roc_auc                model  \n",
      "0               0.988889          0.988889      0.997837   SVM-linear-scale-1  \n",
      "1               0.993333          0.993333      0.995605   SVM-linear-scale-1  \n",
      "2               0.990000          0.990000      0.999090   SVM-linear-scale-1  \n",
      "3               0.995556          0.995555      0.998718   SVM-linear-scale-1  \n",
      "4               0.991111          0.991109      0.999718   SVM-linear-scale-1  \n",
      "5               0.870000          0.869381      0.944304     SVM-poly-scale-1  \n",
      "6               0.867778          0.867085      0.933742     SVM-poly-scale-1  \n",
      "7               0.872222          0.871943      0.938896     SVM-poly-scale-1  \n",
      "8               0.873333          0.872606      0.935920     SVM-poly-scale-1  \n",
      "9               0.892222          0.892138      0.953384     SVM-poly-scale-1  \n",
      "10              0.873333          0.872927      0.943790      SVM-rbf-scale-1  \n",
      "11              0.851111          0.850846      0.927337      SVM-rbf-scale-1  \n",
      "12              0.876667          0.876578      0.935622      SVM-rbf-scale-1  \n",
      "13              0.864444          0.864396      0.939557      SVM-rbf-scale-1  \n",
      "14              0.888889          0.888902      0.951245      SVM-rbf-scale-1  \n",
      "15              0.427778          0.427759      0.447872  SVM-sigmoid-scale-1  \n",
      "16              0.437778          0.437556      0.460384  SVM-sigmoid-scale-1  \n",
      "17              0.444444          0.444595      0.480484  SVM-sigmoid-scale-1  \n",
      "18              0.416667          0.416958      0.425069  SVM-sigmoid-scale-1  \n",
      "19              0.433333          0.432168      0.440963  SVM-sigmoid-scale-1  \n",
      "20              0.988889          0.988889      0.997837    SVM-linear-auto-1  \n",
      "21              0.993333          0.993333      0.995605    SVM-linear-auto-1  \n",
      "22              0.990000          0.990000      0.999090    SVM-linear-auto-1  \n",
      "23              0.995556          0.995555      0.998718    SVM-linear-auto-1  \n",
      "24              0.991111          0.991109      0.999718    SVM-linear-auto-1  \n",
      "25              0.926667          0.926663      0.977308      SVM-poly-auto-1  \n",
      "26              0.933333          0.933318      0.972854      SVM-poly-auto-1  \n",
      "27              0.934444          0.934459      0.978289      SVM-poly-auto-1  \n",
      "28              0.916667          0.916662      0.973622      SVM-poly-auto-1  \n",
      "29              0.940000          0.939972      0.982861      SVM-poly-auto-1  \n",
      "30              0.650000          0.599940      0.665491       SVM-rbf-auto-1  \n",
      "31              0.650000          0.600342      0.670564       SVM-rbf-auto-1  \n",
      "32              0.648889          0.605686      0.685261       SVM-rbf-auto-1  \n",
      "33              0.685556          0.644496      0.691813       SVM-rbf-auto-1  \n",
      "34              0.656667          0.614463      0.681754       SVM-rbf-auto-1  \n",
      "35              0.496667          0.329636      0.500000   SVM-sigmoid-auto-1  \n",
      "36              0.497778          0.330867      0.500000   SVM-sigmoid-auto-1  \n",
      "37              0.482222          0.313770      0.500000   SVM-sigmoid-auto-1  \n",
      "38              0.476667          0.307735      0.500000   SVM-sigmoid-auto-1  \n",
      "39              0.488889          0.321061      0.500000   SVM-sigmoid-auto-1  \n",
      "40              0.988889          0.988889      0.997837   SVM-linear-scale-2  \n",
      "41              0.993333          0.993333      0.995605   SVM-linear-scale-2  \n",
      "42              0.990000          0.990000      0.999090   SVM-linear-scale-2  \n",
      "43              0.995556          0.995555      0.998718   SVM-linear-scale-2  \n",
      "44              0.991111          0.991109      0.999718   SVM-linear-scale-2  \n"
     ]
    },
    {
     "name": "stdout",
     "output_type": "stream",
     "text": [
      "SVM-poly-scale-2\n",
      "              precision    recall  f1-score   support\n",
      "\n",
      "   malignant       0.94      0.87      0.90       750\n",
      "      benign       0.88      0.94      0.91       750\n",
      "\n",
      "    accuracy                           0.90      1500\n",
      "   macro avg       0.91      0.90      0.90      1500\n",
      "weighted avg       0.91      0.90      0.90      1500\n",
      "\n",
      "     fit_time  score_time  test_accuracy  test_precision_weighted  \\\n",
      "0    9.107827    0.024147       0.988889                 0.988928   \n",
      "1   10.228511    0.024073       0.993333                 0.993373   \n",
      "2   10.882882    0.023949       0.990000                 0.990002   \n",
      "3   12.364873    0.023579       0.995556                 0.995564   \n",
      "4   11.194319    0.023248       0.991111                 0.991196   \n",
      "5    0.562550    0.200950       0.870000                 0.876368   \n",
      "6    0.555703    0.196854       0.867778                 0.875056   \n",
      "7    0.570110    0.200715       0.872222                 0.879753   \n",
      "8    0.559893    0.198775       0.873333                 0.877386   \n",
      "9    0.582693    0.205848       0.892222                 0.895081   \n",
      "10   0.603777    0.496031       0.873333                 0.877545   \n",
      "11   0.589077    0.480003       0.851111                 0.853321   \n",
      "12   0.596608    0.490360       0.876667                 0.880889   \n",
      "13   0.596920    0.491191       0.864444                 0.864425   \n",
      "14   0.609363    0.514793       0.888889                 0.889231   \n",
      "15   1.129858    0.500763       0.427778                 0.427749   \n",
      "16   1.138088    0.510286       0.437778                 0.437766   \n",
      "17   1.141234    0.505781       0.444444                 0.444856   \n",
      "18   1.131000    0.500914       0.416667                 0.418000   \n",
      "19   1.141308    0.508485       0.433333                 0.433903   \n",
      "20   9.137901    0.022125       0.988889                 0.988928   \n",
      "21  10.308680    0.023308       0.993333                 0.993373   \n",
      "22  10.905232    0.022535       0.990000                 0.990002   \n",
      "23  12.346652    0.022756       0.995556                 0.995564   \n",
      "24  11.165135    0.023310       0.991111                 0.991196   \n",
      "25   0.925000    0.111165       0.926667                 0.926696   \n",
      "26   0.899627    0.112710       0.933333                 0.933634   \n",
      "27   0.846653    0.111487       0.934444                 0.934586   \n",
      "28   0.874973    0.108949       0.916667                 0.916660   \n",
      "29   0.883152    0.110972       0.940000                 0.940278   \n",
      "30   1.279193    1.156547       0.650000                 0.793555   \n",
      "31   1.270692    1.153163       0.650000                 0.793742   \n",
      "32   1.254720    1.164359       0.648889                 0.796824   \n",
      "33   1.283831    1.153691       0.685556                 0.803576   \n",
      "34   1.256191    1.157132       0.656667                 0.798309   \n",
      "35   1.270789    0.521757       0.496667                 0.246678   \n",
      "36   1.269272    0.521544       0.497778                 0.247783   \n",
      "37   1.264133    0.517332       0.482222                 0.232538   \n",
      "38   1.262933    0.516247       0.476667                 0.227211   \n",
      "39   1.271459    0.519024       0.488889                 0.239012   \n",
      "40   9.086817    0.022359       0.988889                 0.988928   \n",
      "41  10.216139    0.022753       0.993333                 0.993373   \n",
      "42  10.932649    0.022565       0.990000                 0.990002   \n",
      "43  12.306212    0.022299       0.995556                 0.995564   \n",
      "44  11.133243    0.023281       0.991111                 0.991196   \n",
      "45   0.555671    0.192071       0.885556                 0.889378   \n",
      "46   0.544467    0.187994       0.873333                 0.878325   \n",
      "47   0.554626    0.188651       0.882222                 0.886302   \n",
      "48   0.562632    0.189759       0.892222                 0.894498   \n",
      "49   0.575759    0.196533       0.903333                 0.904498   \n",
      "\n",
      "    test_recall_weighted  test_f1_weighted  test_roc_auc                model  \n",
      "0               0.988889          0.988889      0.997837   SVM-linear-scale-1  \n",
      "1               0.993333          0.993333      0.995605   SVM-linear-scale-1  \n",
      "2               0.990000          0.990000      0.999090   SVM-linear-scale-1  \n",
      "3               0.995556          0.995555      0.998718   SVM-linear-scale-1  \n",
      "4               0.991111          0.991109      0.999718   SVM-linear-scale-1  \n",
      "5               0.870000          0.869381      0.944304     SVM-poly-scale-1  \n",
      "6               0.867778          0.867085      0.933742     SVM-poly-scale-1  \n",
      "7               0.872222          0.871943      0.938896     SVM-poly-scale-1  \n",
      "8               0.873333          0.872606      0.935920     SVM-poly-scale-1  \n",
      "9               0.892222          0.892138      0.953384     SVM-poly-scale-1  \n",
      "10              0.873333          0.872927      0.943790      SVM-rbf-scale-1  \n",
      "11              0.851111          0.850846      0.927337      SVM-rbf-scale-1  \n",
      "12              0.876667          0.876578      0.935622      SVM-rbf-scale-1  \n",
      "13              0.864444          0.864396      0.939557      SVM-rbf-scale-1  \n",
      "14              0.888889          0.888902      0.951245      SVM-rbf-scale-1  \n",
      "15              0.427778          0.427759      0.447872  SVM-sigmoid-scale-1  \n",
      "16              0.437778          0.437556      0.460384  SVM-sigmoid-scale-1  \n",
      "17              0.444444          0.444595      0.480484  SVM-sigmoid-scale-1  \n",
      "18              0.416667          0.416958      0.425069  SVM-sigmoid-scale-1  \n",
      "19              0.433333          0.432168      0.440963  SVM-sigmoid-scale-1  \n",
      "20              0.988889          0.988889      0.997837    SVM-linear-auto-1  \n",
      "21              0.993333          0.993333      0.995605    SVM-linear-auto-1  \n",
      "22              0.990000          0.990000      0.999090    SVM-linear-auto-1  \n",
      "23              0.995556          0.995555      0.998718    SVM-linear-auto-1  \n",
      "24              0.991111          0.991109      0.999718    SVM-linear-auto-1  \n",
      "25              0.926667          0.926663      0.977308      SVM-poly-auto-1  \n",
      "26              0.933333          0.933318      0.972854      SVM-poly-auto-1  \n",
      "27              0.934444          0.934459      0.978289      SVM-poly-auto-1  \n",
      "28              0.916667          0.916662      0.973622      SVM-poly-auto-1  \n",
      "29              0.940000          0.939972      0.982861      SVM-poly-auto-1  \n",
      "30              0.650000          0.599940      0.665491       SVM-rbf-auto-1  \n",
      "31              0.650000          0.600342      0.670564       SVM-rbf-auto-1  \n",
      "32              0.648889          0.605686      0.685261       SVM-rbf-auto-1  \n",
      "33              0.685556          0.644496      0.691813       SVM-rbf-auto-1  \n",
      "34              0.656667          0.614463      0.681754       SVM-rbf-auto-1  \n",
      "35              0.496667          0.329636      0.500000   SVM-sigmoid-auto-1  \n",
      "36              0.497778          0.330867      0.500000   SVM-sigmoid-auto-1  \n",
      "37              0.482222          0.313770      0.500000   SVM-sigmoid-auto-1  \n",
      "38              0.476667          0.307735      0.500000   SVM-sigmoid-auto-1  \n",
      "39              0.488889          0.321061      0.500000   SVM-sigmoid-auto-1  \n",
      "40              0.988889          0.988889      0.997837   SVM-linear-scale-2  \n",
      "41              0.993333          0.993333      0.995605   SVM-linear-scale-2  \n",
      "42              0.990000          0.990000      0.999090   SVM-linear-scale-2  \n",
      "43              0.995556          0.995555      0.998718   SVM-linear-scale-2  \n",
      "44              0.991111          0.991109      0.999718   SVM-linear-scale-2  \n",
      "45              0.885556          0.885230      0.950857     SVM-poly-scale-2  \n",
      "46              0.873333          0.872876      0.942083     SVM-poly-scale-2  \n",
      "47              0.882222          0.882145      0.946703     SVM-poly-scale-2  \n",
      "48              0.892222          0.891830      0.945882     SVM-poly-scale-2  \n",
      "49              0.903333          0.903325      0.959180     SVM-poly-scale-2  \n"
     ]
    },
    {
     "name": "stdout",
     "output_type": "stream",
     "text": [
      "SVM-rbf-scale-2\n",
      "              precision    recall  f1-score   support\n",
      "\n",
      "   malignant       0.93      0.87      0.90       750\n",
      "      benign       0.88      0.94      0.91       750\n",
      "\n",
      "    accuracy                           0.90      1500\n",
      "   macro avg       0.91      0.90      0.90      1500\n",
      "weighted avg       0.91      0.90      0.90      1500\n",
      "\n",
      "     fit_time  score_time  test_accuracy  test_precision_weighted  \\\n",
      "0    9.107827    0.024147       0.988889                 0.988928   \n",
      "1   10.228511    0.024073       0.993333                 0.993373   \n",
      "2   10.882882    0.023949       0.990000                 0.990002   \n",
      "3   12.364873    0.023579       0.995556                 0.995564   \n",
      "4   11.194319    0.023248       0.991111                 0.991196   \n",
      "5    0.562550    0.200950       0.870000                 0.876368   \n",
      "6    0.555703    0.196854       0.867778                 0.875056   \n",
      "7    0.570110    0.200715       0.872222                 0.879753   \n",
      "8    0.559893    0.198775       0.873333                 0.877386   \n",
      "9    0.582693    0.205848       0.892222                 0.895081   \n",
      "10   0.603777    0.496031       0.873333                 0.877545   \n",
      "11   0.589077    0.480003       0.851111                 0.853321   \n",
      "12   0.596608    0.490360       0.876667                 0.880889   \n",
      "13   0.596920    0.491191       0.864444                 0.864425   \n",
      "14   0.609363    0.514793       0.888889                 0.889231   \n",
      "15   1.129858    0.500763       0.427778                 0.427749   \n",
      "16   1.138088    0.510286       0.437778                 0.437766   \n",
      "17   1.141234    0.505781       0.444444                 0.444856   \n",
      "18   1.131000    0.500914       0.416667                 0.418000   \n",
      "19   1.141308    0.508485       0.433333                 0.433903   \n",
      "20   9.137901    0.022125       0.988889                 0.988928   \n",
      "21  10.308680    0.023308       0.993333                 0.993373   \n",
      "22  10.905232    0.022535       0.990000                 0.990002   \n",
      "23  12.346652    0.022756       0.995556                 0.995564   \n",
      "24  11.165135    0.023310       0.991111                 0.991196   \n",
      "25   0.925000    0.111165       0.926667                 0.926696   \n",
      "26   0.899627    0.112710       0.933333                 0.933634   \n",
      "27   0.846653    0.111487       0.934444                 0.934586   \n",
      "28   0.874973    0.108949       0.916667                 0.916660   \n",
      "29   0.883152    0.110972       0.940000                 0.940278   \n",
      "30   1.279193    1.156547       0.650000                 0.793555   \n",
      "31   1.270692    1.153163       0.650000                 0.793742   \n",
      "32   1.254720    1.164359       0.648889                 0.796824   \n",
      "33   1.283831    1.153691       0.685556                 0.803576   \n",
      "34   1.256191    1.157132       0.656667                 0.798309   \n",
      "35   1.270789    0.521757       0.496667                 0.246678   \n",
      "36   1.269272    0.521544       0.497778                 0.247783   \n",
      "37   1.264133    0.517332       0.482222                 0.232538   \n",
      "38   1.262933    0.516247       0.476667                 0.227211   \n",
      "39   1.271459    0.519024       0.488889                 0.239012   \n",
      "40   9.086817    0.022359       0.988889                 0.988928   \n",
      "41  10.216139    0.022753       0.993333                 0.993373   \n",
      "42  10.932649    0.022565       0.990000                 0.990002   \n",
      "43  12.306212    0.022299       0.995556                 0.995564   \n",
      "44  11.133243    0.023281       0.991111                 0.991196   \n",
      "45   0.555671    0.192071       0.885556                 0.889378   \n",
      "46   0.544467    0.187994       0.873333                 0.878325   \n",
      "47   0.554626    0.188651       0.882222                 0.886302   \n",
      "48   0.562632    0.189759       0.892222                 0.894498   \n",
      "49   0.575759    0.196533       0.903333                 0.904498   \n",
      "50   0.567342    0.459659       0.883333                 0.887485   \n",
      "51   0.549084    0.441449       0.870000                 0.873047   \n",
      "52   0.566495    0.438260       0.878889                 0.882774   \n",
      "53   0.564944    0.453327       0.880000                 0.880387   \n",
      "54   0.580411    0.468165       0.897778                 0.898362   \n",
      "\n",
      "    test_recall_weighted  test_f1_weighted  test_roc_auc                model  \n",
      "0               0.988889          0.988889      0.997837   SVM-linear-scale-1  \n",
      "1               0.993333          0.993333      0.995605   SVM-linear-scale-1  \n",
      "2               0.990000          0.990000      0.999090   SVM-linear-scale-1  \n",
      "3               0.995556          0.995555      0.998718   SVM-linear-scale-1  \n",
      "4               0.991111          0.991109      0.999718   SVM-linear-scale-1  \n",
      "5               0.870000          0.869381      0.944304     SVM-poly-scale-1  \n",
      "6               0.867778          0.867085      0.933742     SVM-poly-scale-1  \n",
      "7               0.872222          0.871943      0.938896     SVM-poly-scale-1  \n",
      "8               0.873333          0.872606      0.935920     SVM-poly-scale-1  \n",
      "9               0.892222          0.892138      0.953384     SVM-poly-scale-1  \n",
      "10              0.873333          0.872927      0.943790      SVM-rbf-scale-1  \n",
      "11              0.851111          0.850846      0.927337      SVM-rbf-scale-1  \n",
      "12              0.876667          0.876578      0.935622      SVM-rbf-scale-1  \n",
      "13              0.864444          0.864396      0.939557      SVM-rbf-scale-1  \n",
      "14              0.888889          0.888902      0.951245      SVM-rbf-scale-1  \n",
      "15              0.427778          0.427759      0.447872  SVM-sigmoid-scale-1  \n",
      "16              0.437778          0.437556      0.460384  SVM-sigmoid-scale-1  \n",
      "17              0.444444          0.444595      0.480484  SVM-sigmoid-scale-1  \n",
      "18              0.416667          0.416958      0.425069  SVM-sigmoid-scale-1  \n",
      "19              0.433333          0.432168      0.440963  SVM-sigmoid-scale-1  \n",
      "20              0.988889          0.988889      0.997837    SVM-linear-auto-1  \n",
      "21              0.993333          0.993333      0.995605    SVM-linear-auto-1  \n",
      "22              0.990000          0.990000      0.999090    SVM-linear-auto-1  \n",
      "23              0.995556          0.995555      0.998718    SVM-linear-auto-1  \n",
      "24              0.991111          0.991109      0.999718    SVM-linear-auto-1  \n",
      "25              0.926667          0.926663      0.977308      SVM-poly-auto-1  \n",
      "26              0.933333          0.933318      0.972854      SVM-poly-auto-1  \n",
      "27              0.934444          0.934459      0.978289      SVM-poly-auto-1  \n",
      "28              0.916667          0.916662      0.973622      SVM-poly-auto-1  \n",
      "29              0.940000          0.939972      0.982861      SVM-poly-auto-1  \n",
      "30              0.650000          0.599940      0.665491       SVM-rbf-auto-1  \n",
      "31              0.650000          0.600342      0.670564       SVM-rbf-auto-1  \n",
      "32              0.648889          0.605686      0.685261       SVM-rbf-auto-1  \n",
      "33              0.685556          0.644496      0.691813       SVM-rbf-auto-1  \n",
      "34              0.656667          0.614463      0.681754       SVM-rbf-auto-1  \n",
      "35              0.496667          0.329636      0.500000   SVM-sigmoid-auto-1  \n",
      "36              0.497778          0.330867      0.500000   SVM-sigmoid-auto-1  \n",
      "37              0.482222          0.313770      0.500000   SVM-sigmoid-auto-1  \n",
      "38              0.476667          0.307735      0.500000   SVM-sigmoid-auto-1  \n",
      "39              0.488889          0.321061      0.500000   SVM-sigmoid-auto-1  \n",
      "40              0.988889          0.988889      0.997837   SVM-linear-scale-2  \n",
      "41              0.993333          0.993333      0.995605   SVM-linear-scale-2  \n",
      "42              0.990000          0.990000      0.999090   SVM-linear-scale-2  \n",
      "43              0.995556          0.995555      0.998718   SVM-linear-scale-2  \n",
      "44              0.991111          0.991109      0.999718   SVM-linear-scale-2  \n",
      "45              0.885556          0.885230      0.950857     SVM-poly-scale-2  \n",
      "46              0.873333          0.872876      0.942083     SVM-poly-scale-2  \n",
      "47              0.882222          0.882145      0.946703     SVM-poly-scale-2  \n",
      "48              0.892222          0.891830      0.945882     SVM-poly-scale-2  \n",
      "49              0.903333          0.903325      0.959180     SVM-poly-scale-2  \n",
      "50              0.883333          0.882973      0.952457      SVM-rbf-scale-2  \n",
      "51              0.870000          0.869703      0.937609      SVM-rbf-scale-2  \n",
      "52              0.878889          0.878818      0.942535      SVM-rbf-scale-2  \n",
      "53              0.880000          0.879839      0.947179      SVM-rbf-scale-2  \n",
      "54              0.897778          0.897786      0.958211      SVM-rbf-scale-2  \n"
     ]
    },
    {
     "name": "stdout",
     "output_type": "stream",
     "text": [
      "SVM-sigmoid-scale-2\n",
      "              precision    recall  f1-score   support\n",
      "\n",
      "   malignant       0.45      0.44      0.44       750\n",
      "      benign       0.45      0.46      0.45       750\n",
      "\n",
      "    accuracy                           0.45      1500\n",
      "   macro avg       0.45      0.45      0.45      1500\n",
      "weighted avg       0.45      0.45      0.45      1500\n",
      "\n",
      "     fit_time  score_time  test_accuracy  test_precision_weighted  \\\n",
      "0    9.107827    0.024147       0.988889                 0.988928   \n",
      "1   10.228511    0.024073       0.993333                 0.993373   \n",
      "2   10.882882    0.023949       0.990000                 0.990002   \n",
      "3   12.364873    0.023579       0.995556                 0.995564   \n",
      "4   11.194319    0.023248       0.991111                 0.991196   \n",
      "5    0.562550    0.200950       0.870000                 0.876368   \n",
      "6    0.555703    0.196854       0.867778                 0.875056   \n",
      "7    0.570110    0.200715       0.872222                 0.879753   \n",
      "8    0.559893    0.198775       0.873333                 0.877386   \n",
      "9    0.582693    0.205848       0.892222                 0.895081   \n",
      "10   0.603777    0.496031       0.873333                 0.877545   \n",
      "11   0.589077    0.480003       0.851111                 0.853321   \n",
      "12   0.596608    0.490360       0.876667                 0.880889   \n",
      "13   0.596920    0.491191       0.864444                 0.864425   \n",
      "14   0.609363    0.514793       0.888889                 0.889231   \n",
      "15   1.129858    0.500763       0.427778                 0.427749   \n",
      "16   1.138088    0.510286       0.437778                 0.437766   \n",
      "17   1.141234    0.505781       0.444444                 0.444856   \n",
      "18   1.131000    0.500914       0.416667                 0.418000   \n",
      "19   1.141308    0.508485       0.433333                 0.433903   \n",
      "20   9.137901    0.022125       0.988889                 0.988928   \n",
      "21  10.308680    0.023308       0.993333                 0.993373   \n",
      "22  10.905232    0.022535       0.990000                 0.990002   \n",
      "23  12.346652    0.022756       0.995556                 0.995564   \n",
      "24  11.165135    0.023310       0.991111                 0.991196   \n",
      "25   0.925000    0.111165       0.926667                 0.926696   \n",
      "26   0.899627    0.112710       0.933333                 0.933634   \n",
      "27   0.846653    0.111487       0.934444                 0.934586   \n",
      "28   0.874973    0.108949       0.916667                 0.916660   \n",
      "29   0.883152    0.110972       0.940000                 0.940278   \n",
      "30   1.279193    1.156547       0.650000                 0.793555   \n",
      "31   1.270692    1.153163       0.650000                 0.793742   \n",
      "32   1.254720    1.164359       0.648889                 0.796824   \n",
      "33   1.283831    1.153691       0.685556                 0.803576   \n",
      "34   1.256191    1.157132       0.656667                 0.798309   \n",
      "35   1.270789    0.521757       0.496667                 0.246678   \n",
      "36   1.269272    0.521544       0.497778                 0.247783   \n",
      "37   1.264133    0.517332       0.482222                 0.232538   \n",
      "38   1.262933    0.516247       0.476667                 0.227211   \n",
      "39   1.271459    0.519024       0.488889                 0.239012   \n",
      "40   9.086817    0.022359       0.988889                 0.988928   \n",
      "41  10.216139    0.022753       0.993333                 0.993373   \n",
      "42  10.932649    0.022565       0.990000                 0.990002   \n",
      "43  12.306212    0.022299       0.995556                 0.995564   \n",
      "44  11.133243    0.023281       0.991111                 0.991196   \n",
      "45   0.555671    0.192071       0.885556                 0.889378   \n",
      "46   0.544467    0.187994       0.873333                 0.878325   \n",
      "47   0.554626    0.188651       0.882222                 0.886302   \n",
      "48   0.562632    0.189759       0.892222                 0.894498   \n",
      "49   0.575759    0.196533       0.903333                 0.904498   \n",
      "50   0.567342    0.459659       0.883333                 0.887485   \n",
      "51   0.549084    0.441449       0.870000                 0.873047   \n",
      "52   0.566495    0.438260       0.878889                 0.882774   \n",
      "53   0.564944    0.453327       0.880000                 0.880387   \n",
      "54   0.580411    0.468165       0.897778                 0.898362   \n",
      "55   1.124579    0.497990       0.427778                 0.427769   \n",
      "56   1.130474    0.502971       0.438889                 0.438872   \n",
      "57   1.130228    0.499105       0.445556                 0.445928   \n",
      "58   1.128826    0.498016       0.415556                 0.416926   \n",
      "59   1.129122    0.501469       0.432222                 0.432786   \n",
      "\n",
      "    test_recall_weighted  test_f1_weighted  test_roc_auc                model  \n",
      "0               0.988889          0.988889      0.997837   SVM-linear-scale-1  \n",
      "1               0.993333          0.993333      0.995605   SVM-linear-scale-1  \n",
      "2               0.990000          0.990000      0.999090   SVM-linear-scale-1  \n",
      "3               0.995556          0.995555      0.998718   SVM-linear-scale-1  \n",
      "4               0.991111          0.991109      0.999718   SVM-linear-scale-1  \n",
      "5               0.870000          0.869381      0.944304     SVM-poly-scale-1  \n",
      "6               0.867778          0.867085      0.933742     SVM-poly-scale-1  \n",
      "7               0.872222          0.871943      0.938896     SVM-poly-scale-1  \n",
      "8               0.873333          0.872606      0.935920     SVM-poly-scale-1  \n",
      "9               0.892222          0.892138      0.953384     SVM-poly-scale-1  \n",
      "10              0.873333          0.872927      0.943790      SVM-rbf-scale-1  \n",
      "11              0.851111          0.850846      0.927337      SVM-rbf-scale-1  \n",
      "12              0.876667          0.876578      0.935622      SVM-rbf-scale-1  \n",
      "13              0.864444          0.864396      0.939557      SVM-rbf-scale-1  \n",
      "14              0.888889          0.888902      0.951245      SVM-rbf-scale-1  \n",
      "15              0.427778          0.427759      0.447872  SVM-sigmoid-scale-1  \n",
      "16              0.437778          0.437556      0.460384  SVM-sigmoid-scale-1  \n",
      "17              0.444444          0.444595      0.480484  SVM-sigmoid-scale-1  \n",
      "18              0.416667          0.416958      0.425069  SVM-sigmoid-scale-1  \n",
      "19              0.433333          0.432168      0.440963  SVM-sigmoid-scale-1  \n",
      "20              0.988889          0.988889      0.997837    SVM-linear-auto-1  \n",
      "21              0.993333          0.993333      0.995605    SVM-linear-auto-1  \n",
      "22              0.990000          0.990000      0.999090    SVM-linear-auto-1  \n",
      "23              0.995556          0.995555      0.998718    SVM-linear-auto-1  \n",
      "24              0.991111          0.991109      0.999718    SVM-linear-auto-1  \n",
      "25              0.926667          0.926663      0.977308      SVM-poly-auto-1  \n",
      "26              0.933333          0.933318      0.972854      SVM-poly-auto-1  \n",
      "27              0.934444          0.934459      0.978289      SVM-poly-auto-1  \n",
      "28              0.916667          0.916662      0.973622      SVM-poly-auto-1  \n",
      "29              0.940000          0.939972      0.982861      SVM-poly-auto-1  \n",
      "30              0.650000          0.599940      0.665491       SVM-rbf-auto-1  \n",
      "31              0.650000          0.600342      0.670564       SVM-rbf-auto-1  \n",
      "32              0.648889          0.605686      0.685261       SVM-rbf-auto-1  \n",
      "33              0.685556          0.644496      0.691813       SVM-rbf-auto-1  \n",
      "34              0.656667          0.614463      0.681754       SVM-rbf-auto-1  \n",
      "35              0.496667          0.329636      0.500000   SVM-sigmoid-auto-1  \n",
      "36              0.497778          0.330867      0.500000   SVM-sigmoid-auto-1  \n",
      "37              0.482222          0.313770      0.500000   SVM-sigmoid-auto-1  \n",
      "38              0.476667          0.307735      0.500000   SVM-sigmoid-auto-1  \n",
      "39              0.488889          0.321061      0.500000   SVM-sigmoid-auto-1  \n",
      "40              0.988889          0.988889      0.997837   SVM-linear-scale-2  \n",
      "41              0.993333          0.993333      0.995605   SVM-linear-scale-2  \n",
      "42              0.990000          0.990000      0.999090   SVM-linear-scale-2  \n",
      "43              0.995556          0.995555      0.998718   SVM-linear-scale-2  \n",
      "44              0.991111          0.991109      0.999718   SVM-linear-scale-2  \n",
      "45              0.885556          0.885230      0.950857     SVM-poly-scale-2  \n",
      "46              0.873333          0.872876      0.942083     SVM-poly-scale-2  \n",
      "47              0.882222          0.882145      0.946703     SVM-poly-scale-2  \n",
      "48              0.892222          0.891830      0.945882     SVM-poly-scale-2  \n",
      "49              0.903333          0.903325      0.959180     SVM-poly-scale-2  \n",
      "50              0.883333          0.882973      0.952457      SVM-rbf-scale-2  \n",
      "51              0.870000          0.869703      0.937609      SVM-rbf-scale-2  \n",
      "52              0.878889          0.878818      0.942535      SVM-rbf-scale-2  \n",
      "53              0.880000          0.879839      0.947179      SVM-rbf-scale-2  \n",
      "54              0.897778          0.897786      0.958211      SVM-rbf-scale-2  \n",
      "55              0.427778          0.427773      0.446341  SVM-sigmoid-scale-2  \n",
      "56              0.438889          0.438641      0.459555  SVM-sigmoid-scale-2  \n",
      "57              0.445556          0.445697      0.479777  SVM-sigmoid-scale-2  \n",
      "58              0.415556          0.415838      0.424871  SVM-sigmoid-scale-2  \n",
      "59              0.432222          0.431113      0.438602  SVM-sigmoid-scale-2  \n"
     ]
    },
    {
     "name": "stdout",
     "output_type": "stream",
     "text": [
      "SVM-linear-auto-2\n",
      "              precision    recall  f1-score   support\n",
      "\n",
      "   malignant       1.00      1.00      1.00       750\n",
      "      benign       1.00      1.00      1.00       750\n",
      "\n",
      "    accuracy                           1.00      1500\n",
      "   macro avg       1.00      1.00      1.00      1500\n",
      "weighted avg       1.00      1.00      1.00      1500\n",
      "\n",
      "     fit_time  score_time  test_accuracy  test_precision_weighted  \\\n",
      "0    9.107827    0.024147       0.988889                 0.988928   \n",
      "1   10.228511    0.024073       0.993333                 0.993373   \n",
      "2   10.882882    0.023949       0.990000                 0.990002   \n",
      "3   12.364873    0.023579       0.995556                 0.995564   \n",
      "4   11.194319    0.023248       0.991111                 0.991196   \n",
      "..        ...         ...            ...                      ...   \n",
      "60   9.064426    0.022110       0.988889                 0.988928   \n",
      "61  10.207312    0.022480       0.993333                 0.993373   \n",
      "62  10.917789    0.022055       0.990000                 0.990002   \n",
      "63  12.337635    0.022297       0.995556                 0.995564   \n",
      "64  11.203278    0.022420       0.991111                 0.991196   \n",
      "\n",
      "    test_recall_weighted  test_f1_weighted  test_roc_auc               model  \n",
      "0               0.988889          0.988889      0.997837  SVM-linear-scale-1  \n",
      "1               0.993333          0.993333      0.995605  SVM-linear-scale-1  \n",
      "2               0.990000          0.990000      0.999090  SVM-linear-scale-1  \n",
      "3               0.995556          0.995555      0.998718  SVM-linear-scale-1  \n",
      "4               0.991111          0.991109      0.999718  SVM-linear-scale-1  \n",
      "..                   ...               ...           ...                 ...  \n",
      "60              0.988889          0.988889      0.997837   SVM-linear-auto-2  \n",
      "61              0.993333          0.993333      0.995605   SVM-linear-auto-2  \n",
      "62              0.990000          0.990000      0.999090   SVM-linear-auto-2  \n",
      "63              0.995556          0.995555      0.998718   SVM-linear-auto-2  \n",
      "64              0.991111          0.991109      0.999718   SVM-linear-auto-2  \n",
      "\n",
      "[65 rows x 8 columns]\n"
     ]
    },
    {
     "name": "stdout",
     "output_type": "stream",
     "text": [
      "SVM-poly-auto-2\n",
      "              precision    recall  f1-score   support\n",
      "\n",
      "   malignant       0.95      0.95      0.95       750\n",
      "      benign       0.95      0.95      0.95       750\n",
      "\n",
      "    accuracy                           0.95      1500\n",
      "   macro avg       0.95      0.95      0.95      1500\n",
      "weighted avg       0.95      0.95      0.95      1500\n",
      "\n",
      "     fit_time  score_time  test_accuracy  test_precision_weighted  \\\n",
      "0    9.107827    0.024147       0.988889                 0.988928   \n",
      "1   10.228511    0.024073       0.993333                 0.993373   \n",
      "2   10.882882    0.023949       0.990000                 0.990002   \n",
      "3   12.364873    0.023579       0.995556                 0.995564   \n",
      "4   11.194319    0.023248       0.991111                 0.991196   \n",
      "..        ...         ...            ...                      ...   \n",
      "65   0.884016    0.109137       0.926667                 0.926696   \n",
      "66   0.906136    0.109301       0.933333                 0.933634   \n",
      "67   0.851645    0.111646       0.934444                 0.934586   \n",
      "68   0.878086    0.108440       0.916667                 0.916660   \n",
      "69   0.890197    0.110843       0.940000                 0.940278   \n",
      "\n",
      "    test_recall_weighted  test_f1_weighted  test_roc_auc               model  \n",
      "0               0.988889          0.988889      0.997837  SVM-linear-scale-1  \n",
      "1               0.993333          0.993333      0.995605  SVM-linear-scale-1  \n",
      "2               0.990000          0.990000      0.999090  SVM-linear-scale-1  \n",
      "3               0.995556          0.995555      0.998718  SVM-linear-scale-1  \n",
      "4               0.991111          0.991109      0.999718  SVM-linear-scale-1  \n",
      "..                   ...               ...           ...                 ...  \n",
      "65              0.926667          0.926663      0.977308     SVM-poly-auto-2  \n",
      "66              0.933333          0.933318      0.972854     SVM-poly-auto-2  \n",
      "67              0.934444          0.934459      0.978289     SVM-poly-auto-2  \n",
      "68              0.916667          0.916662      0.973622     SVM-poly-auto-2  \n",
      "69              0.940000          0.939972      0.982861     SVM-poly-auto-2  \n",
      "\n",
      "[70 rows x 8 columns]\n"
     ]
    },
    {
     "name": "stdout",
     "output_type": "stream",
     "text": [
      "SVM-rbf-auto-2\n",
      "              precision    recall  f1-score   support\n",
      "\n",
      "   malignant       1.00      0.33      0.50       750\n",
      "      benign       0.60      1.00      0.75       750\n",
      "\n",
      "    accuracy                           0.67      1500\n",
      "   macro avg       0.80      0.67      0.62      1500\n",
      "weighted avg       0.80      0.67      0.62      1500\n",
      "\n",
      "     fit_time  score_time  test_accuracy  test_precision_weighted  \\\n",
      "0    9.107827    0.024147       0.988889                 0.988928   \n",
      "1   10.228511    0.024073       0.993333                 0.993373   \n",
      "2   10.882882    0.023949       0.990000                 0.990002   \n",
      "3   12.364873    0.023579       0.995556                 0.995564   \n",
      "4   11.194319    0.023248       0.991111                 0.991196   \n",
      "..        ...         ...            ...                      ...   \n",
      "70   1.268230    1.098469       0.650000                 0.793555   \n",
      "71   1.272552    1.100805       0.650000                 0.793742   \n",
      "72   1.290644    1.104970       0.648889                 0.796824   \n",
      "73   1.252669    1.105548       0.685556                 0.803576   \n",
      "74   1.246319    1.105787       0.656667                 0.798309   \n",
      "\n",
      "    test_recall_weighted  test_f1_weighted  test_roc_auc               model  \n",
      "0               0.988889          0.988889      0.997837  SVM-linear-scale-1  \n",
      "1               0.993333          0.993333      0.995605  SVM-linear-scale-1  \n",
      "2               0.990000          0.990000      0.999090  SVM-linear-scale-1  \n",
      "3               0.995556          0.995555      0.998718  SVM-linear-scale-1  \n",
      "4               0.991111          0.991109      0.999718  SVM-linear-scale-1  \n",
      "..                   ...               ...           ...                 ...  \n",
      "70              0.650000          0.599940      0.665491      SVM-rbf-auto-2  \n",
      "71              0.650000          0.600342      0.670564      SVM-rbf-auto-2  \n",
      "72              0.648889          0.605686      0.685261      SVM-rbf-auto-2  \n",
      "73              0.685556          0.644496      0.691813      SVM-rbf-auto-2  \n",
      "74              0.656667          0.614463      0.681754      SVM-rbf-auto-2  \n",
      "\n",
      "[75 rows x 8 columns]\n"
     ]
    },
    {
     "name": "stdout",
     "output_type": "stream",
     "text": [
      "SVM-sigmoid-auto-2\n",
      "              precision    recall  f1-score   support\n",
      "\n",
      "   malignant       0.00      0.00      0.00       750\n",
      "      benign       0.50      1.00      0.67       750\n",
      "\n",
      "    accuracy                           0.50      1500\n",
      "   macro avg       0.25      0.50      0.33      1500\n",
      "weighted avg       0.25      0.50      0.33      1500\n",
      "\n",
      "     fit_time  score_time  test_accuracy  test_precision_weighted  \\\n",
      "0    9.107827    0.024147       0.988889                 0.988928   \n",
      "1   10.228511    0.024073       0.993333                 0.993373   \n",
      "2   10.882882    0.023949       0.990000                 0.990002   \n",
      "3   12.364873    0.023579       0.995556                 0.995564   \n",
      "4   11.194319    0.023248       0.991111                 0.991196   \n",
      "..        ...         ...            ...                      ...   \n",
      "75   1.273163    0.523769       0.496667                 0.246678   \n",
      "76   1.271579    0.524133       0.497778                 0.247783   \n",
      "77   1.264687    0.519930       0.482222                 0.232538   \n",
      "78   1.262758    0.518471       0.476667                 0.227211   \n",
      "79   1.265710    0.521652       0.488889                 0.239012   \n",
      "\n",
      "    test_recall_weighted  test_f1_weighted  test_roc_auc               model  \n",
      "0               0.988889          0.988889      0.997837  SVM-linear-scale-1  \n",
      "1               0.993333          0.993333      0.995605  SVM-linear-scale-1  \n",
      "2               0.990000          0.990000      0.999090  SVM-linear-scale-1  \n",
      "3               0.995556          0.995555      0.998718  SVM-linear-scale-1  \n",
      "4               0.991111          0.991109      0.999718  SVM-linear-scale-1  \n",
      "..                   ...               ...           ...                 ...  \n",
      "75              0.496667          0.329636      0.500000  SVM-sigmoid-auto-2  \n",
      "76              0.497778          0.330867      0.500000  SVM-sigmoid-auto-2  \n",
      "77              0.482222          0.313770      0.500000  SVM-sigmoid-auto-2  \n",
      "78              0.476667          0.307735      0.500000  SVM-sigmoid-auto-2  \n",
      "79              0.488889          0.321061      0.500000  SVM-sigmoid-auto-2  \n",
      "\n",
      "[80 rows x 8 columns]\n",
      "408.61968986690044\n"
     ]
    }
   ],
   "source": [
    "#2) Binary\n",
    "df_malicious = pd.concat([df1,df2,df4])[:30000]\n",
    "df_benign = pd.concat([df12,df13,df15,df17,df22,df23,df27,df28,df29])[:30000]\n",
    "\n",
    "print(\"malicious: {}\".format(len(df_malicious)))\n",
    "print(\"benign: {}\".format(len(df_benign)))\n",
    "\n",
    "print(\"{} NAN in malicious!\".format(len(df_malicious[df_malicious.isna().any(axis=1)])))\n",
    "print(\"{} NAN in benign!\".format(len(df_benign[df_benign.isna().any(axis=1)])))\n",
    "\n",
    "df_malicious = df_malicious.dropna()\n",
    "df_benign = df_benign.dropna()\n",
    "\n",
    "print(\"After droppping NAN rows: \")\n",
    "print(\"malicious: {}\".format(len(df_malicious)))\n",
    "print(\"benign: {}\".format(len(df_benign)))\n",
    "\n",
    "start = timer()\n",
    "\n",
    "results_Host_s3 = run_process(df_malicious,df_benign,df_results)\n",
    "\n",
    "\n",
    "end = timer()\n",
    "print(end - start)"
   ]
  },
  {
   "cell_type": "code",
   "execution_count": 11,
   "id": "94b0206b",
   "metadata": {
    "execution": {
     "iopub.execute_input": "2025-08-11T00:14:57.643907Z",
     "iopub.status.busy": "2025-08-11T00:14:57.643741Z",
     "iopub.status.idle": "2025-08-11T00:14:57.647923Z",
     "shell.execute_reply": "2025-08-11T00:14:57.647195Z"
    }
   },
   "outputs": [
    {
     "name": "stdout",
     "output_type": "stream",
     "text": [
      "rodou\n"
     ]
    }
   ],
   "source": [
    "print('rodou')"
   ]
  }
 ],
 "metadata": {
  "kernelspec": {
   "display_name": "nectar-env",
   "language": "python",
   "name": "python3"
  },
  "language_info": {
   "codemirror_mode": {
    "name": "ipython",
    "version": 3
   },
   "file_extension": ".py",
   "mimetype": "text/x-python",
   "name": "python",
   "nbconvert_exporter": "python",
   "pygments_lexer": "ipython3",
   "version": "3.10.6"
  }
 },
 "nbformat": 4,
 "nbformat_minor": 5
}
