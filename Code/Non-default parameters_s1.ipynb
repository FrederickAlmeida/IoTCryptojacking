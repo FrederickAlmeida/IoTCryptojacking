{
 "cells": [
  {
   "cell_type": "code",
   "execution_count": 1,
   "id": "e58aa5e4",
   "metadata": {
    "execution": {
     "iopub.execute_input": "2025-08-11T00:01:06.782700Z",
     "iopub.status.busy": "2025-08-11T00:01:06.782130Z",
     "iopub.status.idle": "2025-08-11T00:01:18.967431Z",
     "shell.execute_reply": "2025-08-11T00:01:18.966031Z"
    },
    "scrolled": false
   },
   "outputs": [],
   "source": [
    "import pandas as pd\n",
    "import tsfresh\n",
    "import os\n",
    "import json\n",
    "import scapy\n",
    "import numpy as np\n",
    "import warnings\n",
    "from timeit import default_timer as timer\n",
    "\n",
    "from scapy.all import *\n",
    "\n",
    "warnings.filterwarnings(\"ignore\") #ignore warnings caused by \n",
    "\n",
    "\n",
    "#################################################################\n",
    "#                                                               #\n",
    "#               malicious csv files import                      #\n",
    "#                                                               #\n",
    "#################################################################\n",
    "\n",
    "\n",
    "df1 = pd.read_csv('../Data/malicious/WebOS_binary.csv') #\n",
    "df2 = pd.read_csv('../Data/malicious/Server_Binary.csv') #\n",
    "df3 = pd.read_csv('../Data/malicious/Raspberry_Webmine_Robust.csv')\n",
    "df4 = pd.read_csv('../Data/malicious/Raspberry_Binary.csv') #\n",
    "df5 = pd.read_csv('../Data/malicious/Raspberry_Webmine_Aggressive.csv')\n",
    "df6 = pd.read_csv('../Data/malicious/Raspberry_WebminePool_Aggressive.csv')\n",
    "df7 = pd.read_csv('../Data/malicious/Server_WebminePool_Aggressive.csv') #\n",
    "df32 = pd.read_csv('../Data/malicious/Server_WebminePool_Robust.csv') #\n",
    "df33 = pd.read_csv('../Data/malicious/Raspberry_WebminePool_Stealthy.csv') #\n",
    "df34 = pd.read_csv('../Data/malicious/Raspberry_WebminePool_Robust.csv') #\n",
    "df35 = pd.read_csv('../Data/malicious/Desktop_WebminePool_Aggressive.csv') #\n",
    "\n",
    "\n",
    "#################################################################\n",
    "#                                                               #\n",
    "#               benign-1 csv files import                         #\n",
    "#                                                               #\n",
    "#################################################################\n",
    "\n",
    "df8 = pd.read_csv('../Data/benign-1/interactive_01.csv') #\n",
    "df9 = pd.read_csv('../Data/benign-1/interactive_02.csv') #\n",
    "df10 = pd.read_csv('../Data/benign-1/interactive_03.csv') #\n",
    "df11 = pd.read_csv('../Data/benign-1/interactive_04.csv') #\n",
    "df12 = pd.read_csv('../Data/benign-1/interactive_05.csv') #\n",
    "df13 = pd.read_csv('../Data/benign-1/interactive_06.csv') #\n",
    "df14 = pd.read_csv('../Data/benign-1/web_1page_01.csv') #\n",
    "df15 = pd.read_csv('../Data/benign-1/web_1page_02.csv') #\n",
    "df16 = pd.read_csv('../Data/benign-1/web_1page_03.csv') #\n",
    "df17 = pd.read_csv('../Data/benign-1/web_1page_04.csv') #\n",
    "df18 = pd.read_csv('../Data/benign-1/web_1page_05.csv') #\n",
    "df19 = pd.read_csv('../Data/benign-1/bulk_xs_04.csv') #\n",
    "df20 = pd.read_csv('../Data/benign-1/bulk_xs_05.csv') #\n",
    "df21 = pd.read_csv('../Data/benign-1/video_180s480p_01.csv') #\n",
    "df22 = pd.read_csv('../Data/benign-1/video_180s480p_02.csv') #\n",
    "df23 = pd.read_csv('../Data/benign-1/video_x1_04.csv') #\n",
    "df24 = pd.read_csv('../Data/benign-1/web_multiple_04.csv') #\n",
    "df25 = pd.read_csv('../Data/benign-1/bulk_xs_01.csv') #\n",
    "df26 = pd.read_csv('../Data/benign-1/bulk_xs_09.csv') #\n",
    "df27 = pd.read_csv('../Data/benign-1/bulk_xs_06.csv') #\n",
    "df28 = pd.read_csv('../Data/benign-1/bulk_xs_03.csv') #\n",
    "df29 = pd.read_csv('../Data/benign-1/web_multiple_03.csv') #\n",
    "df30 = pd.read_csv('../Data/benign-1/web_multiple_05.csv') #\n",
    "df31 = pd.read_csv('../Data/benign-1/web_multiple_06.csv') #\n",
    "\n",
    "df_results = pd.DataFrame()"
   ]
  },
  {
   "cell_type": "code",
   "execution_count": 2,
   "id": "ca6875ff",
   "metadata": {
    "execution": {
     "iopub.execute_input": "2025-08-11T00:01:18.972402Z",
     "iopub.status.busy": "2025-08-11T00:01:18.972124Z",
     "iopub.status.idle": "2025-08-11T00:01:18.984568Z",
     "shell.execute_reply": "2025-08-11T00:01:18.983563Z"
    },
    "scrolled": false
   },
   "outputs": [
    {
     "name": "stdout",
     "output_type": "stream",
     "text": [
      "df1 -->> 43173\n",
      "df2 -->> 1213354\n",
      "df3 -->> 3621\n",
      "df4 -->> 22111\n",
      "df5 -->> 14156\n",
      "df6 -->> 24476\n",
      "df7 -->> 3106\n",
      "df32 -->> 18460\n",
      "df33 -->> 10285\n",
      "df34 -->> 7708\n",
      "df35 -->> 234892\n",
      "/////////////////////////////////////////////////\n",
      "df8 -->> 4550\n",
      "df9 -->> 3869\n",
      "df10 -->> 5327\n",
      "df11 -->> 4727\n",
      "df12 -->> 4190\n",
      "df13 -->> 3481\n",
      "df14 -->> 38576\n",
      "df15 -->> 5961\n",
      "df16 -->> 1803\n",
      "df17 -->> 7029\n",
      "df18 -->> 1012\n",
      "df19 -->> 96545\n",
      "df20 -->> 108065\n",
      "df21 -->> 25138\n",
      "df22 -->> 91274\n",
      "df23 -->> 23597\n",
      "df24 -->> 59635\n",
      "df25 -->> 625216\n",
      "df26 -->> 266935\n",
      "df27 -->> 453471\n",
      "df28 -->> 654495\n",
      "df29 -->> 6764\n",
      "df30 -->> 25300\n",
      "df31 -->> 3689\n"
     ]
    }
   ],
   "source": [
    "print(\"df1 -->> {}\".format(len(df1)))\n",
    "print(\"df2 -->> {}\".format(len(df2)))\n",
    "print(\"df3 -->> {}\".format(len(df3)))\n",
    "print(\"df4 -->> {}\".format(len(df4)))\n",
    "print(\"df5 -->> {}\".format(len(df5)))\n",
    "print(\"df6 -->> {}\".format(len(df6)))\n",
    "print(\"df7 -->> {}\".format(len(df7)))\n",
    "print(\"df32 -->> {}\".format(len(df32)))\n",
    "print(\"df33 -->> {}\".format(len(df33)))\n",
    "print(\"df34 -->> {}\".format(len(df34)))\n",
    "print(\"df35 -->> {}\".format(len(df35)))\n",
    "print(\"/////////////////////////////////////////////////\")\n",
    "\n",
    "\n",
    "print(\"df8 -->> {}\".format(len(df8)))\n",
    "print(\"df9 -->> {}\".format(len(df9)))\n",
    "print(\"df10 -->> {}\".format(len(df10)))\n",
    "print(\"df11 -->> {}\".format(len(df11)))\n",
    "print(\"df12 -->> {}\".format(len(df12)))\n",
    "print(\"df13 -->> {}\".format(len(df13)))\n",
    "print(\"df14 -->> {}\".format(len(df14)))\n",
    "print(\"df15 -->> {}\".format(len(df15)))\n",
    "print(\"df16 -->> {}\".format(len(df16)))\n",
    "print(\"df17 -->> {}\".format(len(df17)))\n",
    "print(\"df18 -->> {}\".format(len(df18)))\n",
    "print(\"df19 -->> {}\".format(len(df19)))\n",
    "print(\"df20 -->> {}\".format(len(df20)))\n",
    "print(\"df21 -->> {}\".format(len(df21)))\n",
    "print(\"df22 -->> {}\".format(len(df22)))\n",
    "print(\"df23 -->> {}\".format(len(df23)))\n",
    "print(\"df24 -->> {}\".format(len(df24)))\n",
    "print(\"df25 -->> {}\".format(len(df25)))\n",
    "print(\"df26 -->> {}\".format(len(df26)))\n",
    "print(\"df27 -->> {}\".format(len(df27)))\n",
    "print(\"df28 -->> {}\".format(len(df28)))\n",
    "print(\"df29 -->> {}\".format(len(df29)))\n",
    "print(\"df30 -->> {}\".format(len(df30)))\n",
    "print(\"df31 -->> {}\".format(len(df31)))\n"
   ]
  },
  {
   "cell_type": "code",
   "execution_count": 3,
   "id": "3651cf45",
   "metadata": {
    "execution": {
     "iopub.execute_input": "2025-08-11T00:01:18.988336Z",
     "iopub.status.busy": "2025-08-11T00:01:18.988081Z",
     "iopub.status.idle": "2025-08-11T00:01:19.403435Z",
     "shell.execute_reply": "2025-08-11T00:01:19.402345Z"
    }
   },
   "outputs": [],
   "source": [
    "#################################################################\n",
    "#                                                               #\n",
    "#                     Filtering                                 #\n",
    "#                                                               #\n",
    "#################################################################\n",
    "\n",
    "# For WebOS = 18:56:80:17:d0:ef\n",
    "index_names = df1[((df1['HW_dst'] != '18:56:80:17:d0:ef') & (df1['Hw_src'] != '18:56:80:17:d0:ef'))].index\n",
    "df1.drop(index_names, inplace = True)\n",
    "\n",
    "# Big_Server_Monero_mining_data = a4:bb:6d:ac:e1:fd\n",
    "\n",
    "index_names = df2[((df2['HW_dst'] != 'a4:bb:6d:ac:e1:fd') & (df2['Hw_src'] != 'a4:bb:6d:ac:e1:fd'))].index\n",
    "df2.drop(index_names, inplace = True)\n",
    "\n",
    "# ege_data_rasberry = dc:a6:32:67:66:4b\t\n",
    "\n",
    "index_names = df3[((df3['HW_dst'] != 'dc:a6:32:67:66:4b') & (df3['Hw_src'] != 'dc:a6:32:67:66:4b'))].index\n",
    "df3.drop(index_names, inplace = True)\n",
    "\n",
    "# Rasberry_binary_monero_mining = dc:a6:32:68:35:8a\n",
    "\n",
    "index_names = df4[((df4['HW_dst'] != 'dc:a6:32:68:35:8a') & (df4['Hw_src'] != 'dc:a6:32:68:35:8a'))].index\n",
    "df4.drop(index_names, inplace = True)\n",
    "\n",
    "# Rasberry_network_data_2 = dc:a6:32:67:66:4b\n",
    "\n",
    "index_names = df5[((df5['HW_dst'] != 'dc:a6:32:67:66:4b') & (df5['Hw_src'] != 'dc:a6:32:67:66:4b'))].index\n",
    "df5.drop(index_names, inplace = True)\n",
    "\n",
    "# Rasberry-Webmine = dc:a6:32:67:66:4b\n",
    "index_names = df6[((df6['HW_dst'] != 'dc:a6:32:67:66:4b') & (df6['Hw_src'] != 'dc:a6:32:67:66:4b'))].index\n",
    "df6.drop(index_names, inplace = True)\n",
    "\n",
    "# Server_Webmine_Network_data = a4:bb:6d:ac:e1:fd\n",
    "\n",
    "index_names = df7[((df7['HW_dst'] != 'a4:bb:6d:ac:e1:fd') & (df7['Hw_src'] != 'a4:bb:6d:ac:e1:fd'))].index\n",
    "df7.drop(index_names, inplace = True)\n",
    "\n",
    "# Server_%50_Mining = a4:bb:6d:ac:e1:fd\n",
    "\n",
    "index_names = df32[((df32['HW_dst'] != 'a4:bb:6d:ac:e1:fd') & (df32['Hw_src'] != 'a4:bb:6d:ac:e1:fd'))].index\n",
    "df32.drop(index_names, inplace = True)\n",
    "\n",
    "# Rasberry_webmine_%10 = dc:a6:32:67:66:4b\n",
    "\n",
    "index_names = df33[((df33['HW_dst'] != 'dc:a6:32:67:66:4b') & (df33['Hw_src'] != 'dc:a6:32:67:66:4b'))].index\n",
    "df33.drop(index_names, inplace = True)\n",
    "\n",
    "# Rasberry_webmine_%50 = dc:a6:32:68:35:8a\n",
    "\n",
    "index_names = df34[((df34['HW_dst'] != 'dc:a6:32:68:35:8a') & (df34['Hw_src'] != 'dc:a6:32:68:35:8a'))].index\n",
    "df34.drop(index_names, inplace = True)\n",
    "\n",
    "# Desktop_Webmine_%100 = dc:a6:32:68:35:8a\n",
    "\n",
    "index_names = df35[((df35['HW_dst'] != 'd8:3b:bf:8f:ba:ba') & (df35['Hw_src'] != 'd8:3b:bf:8f:ba:ba'))].index\n",
    "df35.drop(index_names, inplace = True)"
   ]
  },
  {
   "cell_type": "code",
   "execution_count": 4,
   "id": "f392b373",
   "metadata": {
    "execution": {
     "iopub.execute_input": "2025-08-11T00:01:19.407925Z",
     "iopub.status.busy": "2025-08-11T00:01:19.407671Z",
     "iopub.status.idle": "2025-08-11T00:01:19.430696Z",
     "shell.execute_reply": "2025-08-11T00:01:19.429617Z"
    }
   },
   "outputs": [],
   "source": [
    "#################################################################\n",
    "#                                                               #\n",
    "#      Labeling Features for further calculations               #\n",
    "#                                                               #\n",
    "#################################################################\n",
    "\n",
    "df1.insert(7, \"Is_malicious\", 1)\n",
    "df2.insert(7, \"Is_malicious\", 1)\n",
    "df3.insert(7, \"Is_malicious\", 1)\n",
    "df4.insert(7, \"Is_malicious\", 1)\n",
    "df5.insert(7, \"Is_malicious\", 1)\n",
    "df6.insert(7, \"Is_malicious\", 1)\n",
    "df7.insert(7, \"Is_malicious\", 1)\n",
    "\n",
    "# ========================================================\n",
    "\n",
    "df8.insert(7, \"Is_malicious\", 0)\n",
    "df9.insert(7, \"Is_malicious\", 0)\n",
    "df10.insert(7, \"Is_malicious\", 0)\n",
    "df11.insert(7, \"Is_malicious\", 0)\n",
    "df12.insert(7, \"Is_malicious\", 0)\n",
    "df13.insert(7, \"Is_malicious\", 0)\n",
    "df14.insert(7, \"Is_malicious\", 0)\n",
    "df15.insert(7, \"Is_malicious\", 0)\n",
    "df16.insert(7, \"Is_malicious\", 0)\n",
    "df17.insert(7, \"Is_malicious\", 0)\n",
    "df18.insert(7, \"Is_malicious\", 0)\n",
    "df19.insert(7, \"Is_malicious\", 0)\n",
    "df20.insert(7, \"Is_malicious\", 0)\n",
    "df21.insert(7, \"Is_malicious\", 0)\n",
    "df22.insert(7, \"Is_malicious\", 0)\n",
    "df23.insert(7, \"Is_malicious\", 0)\n",
    "df24.insert(7, \"Is_malicious\", 0)\n",
    "\n",
    "\n",
    "# ========================================================\n",
    "\n",
    "df25.insert(7, \"Is_malicious\", 0)\n",
    "df26.insert(7, \"Is_malicious\", 0)\n",
    "df27.insert(7, \"Is_malicious\", 0)\n",
    "df28.insert(7, \"Is_malicious\", 0)\n",
    "df29.insert(7, \"Is_malicious\", 0)\n",
    "df30.insert(7, \"Is_malicious\", 0)\n",
    "df31.insert(7, \"Is_malicious\", 0)\n",
    "\n",
    "df32.insert(7, \"Is_malicious\", 1)\n",
    "df33.insert(7, \"Is_malicious\", 1)\n",
    "df34.insert(7, \"Is_malicious\", 1)\n",
    "df35.insert(7, \"Is_malicious\", 1)"
   ]
  },
  {
   "cell_type": "code",
   "execution_count": 5,
   "id": "d5faf45b",
   "metadata": {
    "execution": {
     "iopub.execute_input": "2025-08-11T00:01:19.435154Z",
     "iopub.status.busy": "2025-08-11T00:01:19.434899Z",
     "iopub.status.idle": "2025-08-11T00:01:20.498890Z",
     "shell.execute_reply": "2025-08-11T00:01:20.497835Z"
    }
   },
   "outputs": [
    {
     "name": "stdout",
     "output_type": "stream",
     "text": [
      "df1 -->> 41572\n"
     ]
    },
    {
     "name": "stdout",
     "output_type": "stream",
     "text": [
      "df2 -->> 1198039\n",
      "df3 -->> 3519\n",
      "df4 -->> 11745\n",
      "df5 -->> 12871\n",
      "df6 -->> 19643\n",
      "df7 -->> 2539\n",
      "df8 -->> 4550\n",
      "df9 -->> 3869\n",
      "df10 -->> 5327\n",
      "df11 -->> 4727\n",
      "df12 -->> 4190\n",
      "df13 -->> 3481\n",
      "df14 -->> 38576\n",
      "df15 -->> 5961\n",
      "df16 -->> 1803\n",
      "df17 -->> 7029\n",
      "df18 -->> 1012\n",
      "df19 -->> 96545\n",
      "df20 -->> 108065\n",
      "df21 -->> 25138\n",
      "df22 -->> 91274\n",
      "df23 -->> 23597\n",
      "df24 -->> 59619\n"
     ]
    },
    {
     "name": "stdout",
     "output_type": "stream",
     "text": [
      "df25 -->> 625194\n",
      "df26 -->> 266935\n",
      "df27 -->> 453466\n"
     ]
    },
    {
     "name": "stdout",
     "output_type": "stream",
     "text": [
      "df28 -->> 654479\n",
      "df29 -->> 6764\n",
      "df30 -->> 25288\n",
      "df31 -->> 3689\n",
      "df32 -->> 16744\n",
      "df33 -->> 9880\n",
      "df34 -->> 6406\n",
      "df35 -->> 234272\n"
     ]
    }
   ],
   "source": [
    "print(\"df1 -->> {}\".format(len(df1.dropna())))\n",
    "print(\"df2 -->> {}\".format(len(df2.dropna())))\n",
    "print(\"df3 -->> {}\".format(len(df3.dropna())))\n",
    "print(\"df4 -->> {}\".format(len(df4.dropna())))\n",
    "print(\"df5 -->> {}\".format(len(df5.dropna())))\n",
    "print(\"df6 -->> {}\".format(len(df6.dropna())))\n",
    "print(\"df7 -->> {}\".format(len(df7.dropna())))\n",
    "print(\"df8 -->> {}\".format(len(df8.dropna())))\n",
    "print(\"df9 -->> {}\".format(len(df9.dropna())))\n",
    "print(\"df10 -->> {}\".format(len(df10.dropna())))\n",
    "print(\"df11 -->> {}\".format(len(df11.dropna())))\n",
    "print(\"df12 -->> {}\".format(len(df12.dropna())))\n",
    "print(\"df13 -->> {}\".format(len(df13.dropna())))\n",
    "print(\"df14 -->> {}\".format(len(df14.dropna())))\n",
    "print(\"df15 -->> {}\".format(len(df15.dropna())))\n",
    "print(\"df16 -->> {}\".format(len(df16.dropna())))\n",
    "print(\"df17 -->> {}\".format(len(df17.dropna())))\n",
    "print(\"df18 -->> {}\".format(len(df18.dropna())))\n",
    "print(\"df19 -->> {}\".format(len(df19.dropna())))\n",
    "print(\"df20 -->> {}\".format(len(df20.dropna())))\n",
    "print(\"df21 -->> {}\".format(len(df21.dropna())))\n",
    "print(\"df22 -->> {}\".format(len(df22.dropna())))\n",
    "print(\"df23 -->> {}\".format(len(df23.dropna())))\n",
    "print(\"df24 -->> {}\".format(len(df24.dropna())))\n",
    "print(\"df25 -->> {}\".format(len(df25.dropna())))\n",
    "print(\"df26 -->> {}\".format(len(df26.dropna())))\n",
    "print(\"df27 -->> {}\".format(len(df27.dropna())))\n",
    "print(\"df28 -->> {}\".format(len(df28.dropna())))\n",
    "print(\"df29 -->> {}\".format(len(df29.dropna())))\n",
    "print(\"df30 -->> {}\".format(len(df30.dropna())))\n",
    "print(\"df31 -->> {}\".format(len(df31.dropna())))\n",
    "print(\"df32 -->> {}\".format(len(df32.dropna())))\n",
    "print(\"df33 -->> {}\".format(len(df33.dropna())))\n",
    "print(\"df34 -->> {}\".format(len(df34.dropna())))\n",
    "print(\"df35 -->> {}\".format(len(df35.dropna())))"
   ]
  },
  {
   "cell_type": "code",
   "execution_count": 6,
   "id": "cb340a25",
   "metadata": {
    "execution": {
     "iopub.execute_input": "2025-08-11T00:01:20.502863Z",
     "iopub.status.busy": "2025-08-11T00:01:20.502605Z",
     "iopub.status.idle": "2025-08-11T00:01:20.511715Z",
     "shell.execute_reply": "2025-08-11T00:01:20.510762Z"
    }
   },
   "outputs": [],
   "source": [
    "def run_process(a,b,x):\n",
    "    \n",
    "    df_malicious = a.copy()\n",
    "    df_benign    = b.copy()\n",
    "    \n",
    "    from tsfresh import extract_features, select_features\n",
    "    from tsfresh.utilities.dataframe_functions import impute\n",
    "    from tsfresh import extract_features\n",
    "    from tsfresh.feature_selection.relevance import calculate_relevance_table\n",
    "\n",
    "\n",
    "    df_malicious.reset_index(drop=True, inplace=True) #reset index\n",
    "    df_malicious['id']= np.floor(df_malicious.index.array/10)\n",
    "    df_benign.reset_index(drop=True, inplace=True) #reset index\n",
    "    df_benign['id']= np.floor(df_benign.index.array/10)\n",
    "    \n",
    "\n",
    "    \n",
    "\n",
    "    tf1=tsfresh.extract_features(df_malicious,impute_function=impute, column_kind='Is_malicious',\n",
    "                                 column_id='id',column_sort=\"Time\",column_value = \"Length\")\n",
    "    tf1['class']= 1\n",
    "\n",
    "    \n",
    "    \n",
    "    tf2=tsfresh.extract_features(df_benign,impute_function=impute, column_kind='Is_malicious',\n",
    "                                 column_id='id',column_sort=\"Time\",column_value = \"Length\")\n",
    "    tf2['class']= 0\n",
    "\n",
    "\n",
    "    tf2.columns = tf1.columns\n",
    "\n",
    "    features=pd.concat([tf1,tf2])\n",
    "\n",
    "\n",
    "    features2 = features.copy()\n",
    "    features2.reset_index(drop=True, inplace=True)\n",
    "    \n",
    "    y = pd.Series(data = features2['class'], index=features2.index)\n",
    "    \n",
    "    from tsfresh.examples import load_robot_execution_failures\n",
    "    from tsfresh import extract_features, select_features\n",
    "    from tsfresh.feature_selection.relevance import calculate_relevance_table\n",
    "\n",
    "    relevance_table = calculate_relevance_table(features2, y)\n",
    "    relevance_table = relevance_table[relevance_table.relevant]\n",
    "    relevance_table.sort_values(\"p_value\", inplace=True)\n",
    "\n",
    "    relevance_table\n",
    "    \n",
    "    best_features = relevance_table[relevance_table['p_value'] <= 0.05]\n",
    "\n",
    "    df_ML = pd.DataFrame()\n",
    "\n",
    "    for pkt in best_features:\n",
    "        df_ML[best_features.feature] = features[best_features.feature]\n",
    "\n",
    "    final = ML_Process(df_ML,x)\n",
    "\n",
    "    return final"
   ]
  },
  {
   "cell_type": "code",
   "execution_count": 7,
   "id": "2cf2f0a5",
   "metadata": {
    "execution": {
     "iopub.execute_input": "2025-08-11T00:01:20.515800Z",
     "iopub.status.busy": "2025-08-11T00:01:20.515561Z",
     "iopub.status.idle": "2025-08-11T00:01:20.529103Z",
     "shell.execute_reply": "2025-08-11T00:01:20.528137Z"
    }
   },
   "outputs": [],
   "source": [
    "def ML_Process(df_ML,x):\n",
    "    df_results = x.copy() \n",
    "    print('let the ml starts')\n",
    "  \n",
    "    from sklearn import neighbors, metrics\n",
    "    from sklearn.preprocessing import LabelEncoder\n",
    "\n",
    "    #X = df_finalized[['Time', 'Length','Protocol']].values\n",
    "    X = df_ML.drop('class',axis=1).to_numpy()\n",
    "    #y = df_finalized[['Is_malicious']]\n",
    "    y = df_ML['class'].to_numpy()\n",
    "\n",
    "\n",
    "    #print(X,y)\n",
    "    \n",
    "    from sklearn.model_selection import train_test_split\n",
    "    Le = LabelEncoder()\n",
    "    for i in range(len(X[0])):\n",
    "        X[:, i] = Le.fit_transform(X[:, i])\n",
    "\n",
    "    X_train, X_test, y_train, y_test = train_test_split(X, y, test_size=0.25, random_state=8675309)\n",
    "\n",
    "    \n",
    "    from sklearn.linear_model import LogisticRegression\n",
    "    from sklearn.neighbors import KNeighborsClassifier\n",
    "    from sklearn.svm import SVC\n",
    "    from sklearn.ensemble import RandomForestClassifier\n",
    "    from sklearn.naive_bayes import GaussianNB\n",
    "    #from xgboost import XGBClassifier\n",
    "    from sklearn import model_selection\n",
    "    from sklearn.utils import class_weight\n",
    "    from sklearn.metrics import classification_report\n",
    "    from sklearn.metrics import confusion_matrix\n",
    "    import numpy as np\n",
    "    import pandas as pd\n",
    "    y_train = y_train.ravel()\n",
    "    dfs = []\n",
    "    models = [\n",
    "        ('SVM-linear-scale-1', SVC(C = 1, kernel = 'linear',gamma ='scale')),\n",
    "        ('SVM-poly-scale-1', SVC(C = 1, kernel = 'poly',gamma ='scale')),\n",
    "        ('SVM-rbf-scale-1', SVC(C = 1, kernel = 'rbf',gamma ='scale')),\n",
    "        ('SVM-sigmoid-scale-1', SVC(C = 1, kernel = 'sigmoid',gamma ='scale')),\n",
    "        ('SVM-linear-auto-1', SVC(C = 1, kernel = 'linear',gamma ='auto')),\n",
    "        ('SVM-poly-auto-1', SVC(C = 1, kernel = 'poly',gamma ='auto')),\n",
    "        ('SVM-rbf-auto-1', SVC(C = 1, kernel = 'rbf',gamma ='auto')),\n",
    "        ('SVM-sigmoid-auto-1', SVC(C = 1, kernel = 'sigmoid',gamma ='auto')),\n",
    "        ('SVM-linear-scale-2', SVC(C = 2, kernel = 'linear',gamma ='scale')),\n",
    "        ('SVM-poly-scale-2', SVC(C = 2, kernel = 'poly',gamma ='scale')),\n",
    "        ('SVM-rbf-scale-2', SVC(C = 2, kernel = 'rbf',gamma ='scale')),\n",
    "        ('SVM-sigmoid-scale-2', SVC(C = 2, kernel = 'sigmoid',gamma ='scale')),\n",
    "        ('SVM-linear-auto-2', SVC(C = 2, kernel = 'linear',gamma ='auto')),\n",
    "        ('SVM-poly-auto-2', SVC(C = 2, kernel = 'poly',gamma ='auto')),\n",
    "        ('SVM-rbf-auto-2', SVC(C = 2, kernel = 'rbf',gamma ='auto')),\n",
    "        ('SVM-sigmoid-auto-2', SVC(C = 2, kernel = 'sigmoid',gamma ='auto'))\n",
    "            ]\n",
    "    results = []\n",
    "    names = []\n",
    "    scoring = ['accuracy', 'precision_weighted', 'recall_weighted', 'f1_weighted', 'roc_auc']\n",
    "    target_names = ['malignant', 'benign']\n",
    "    for name, model in models:\n",
    "        kfold = model_selection.KFold(n_splits=5, shuffle=True, random_state=90210)\n",
    "        cv_results = model_selection.cross_validate(model, X_train, y_train, cv=kfold, \n",
    "                                                    scoring=scoring)\n",
    "\n",
    "        clf = model.fit(X_train, y_train)\n",
    "        y_pred = clf.predict(X_test)\n",
    "        print(name)\n",
    "        print(classification_report(y_test, y_pred, target_names=target_names))\n",
    "        results.append(cv_results)\n",
    "        names.append(name)\n",
    "        this_df = pd.DataFrame(cv_results)\n",
    "        this_df['model'] = name\n",
    "        dfs.append(this_df)\n",
    "        final = pd.concat(dfs, ignore_index=True)\n",
    "        print(final)\n",
    "\n",
    "    return(final)\n"
   ]
  },
  {
   "cell_type": "code",
   "execution_count": 8,
   "id": "716b9489",
   "metadata": {
    "execution": {
     "iopub.execute_input": "2025-08-11T00:01:20.532836Z",
     "iopub.status.busy": "2025-08-11T00:01:20.532580Z",
     "iopub.status.idle": "2025-08-11T08:17:03.507950Z",
     "shell.execute_reply": "2025-08-11T08:17:03.506538Z"
    },
    "scrolled": false
   },
   "outputs": [
    {
     "name": "stdout",
     "output_type": "stream",
     "text": [
      "malicious: 30000\n",
      "benign: 30000\n",
      "0 NAN in malicious!\n",
      "0 NAN in benign!\n",
      "After droppping NAN rows: \n",
      "malicious: 30000\n",
      "benign: 30000\n"
     ]
    },
    {
     "name": "stderr",
     "output_type": "stream",
     "text": [
      "\r",
      "Feature Extraction:   0%|          | 0/231 [00:00<?, ?it/s]"
     ]
    },
    {
     "name": "stderr",
     "output_type": "stream",
     "text": [
      "\r",
      "Feature Extraction:   0%|          | 1/231 [00:01<06:41,  1.75s/it]"
     ]
    },
    {
     "name": "stderr",
     "output_type": "stream",
     "text": [
      "\r",
      "Feature Extraction:   1%|          | 2/231 [00:02<04:11,  1.10s/it]"
     ]
    },
    {
     "name": "stderr",
     "output_type": "stream",
     "text": [
      "\r",
      "Feature Extraction:   1%|▏         | 3/231 [00:04<05:16,  1.39s/it]"
     ]
    },
    {
     "name": "stderr",
     "output_type": "stream",
     "text": [
      "\r",
      "Feature Extraction:   2%|▏         | 4/231 [00:05<04:59,  1.32s/it]"
     ]
    },
    {
     "name": "stderr",
     "output_type": "stream",
     "text": [
      "\r",
      "Feature Extraction:   3%|▎         | 6/231 [00:05<02:30,  1.49it/s]"
     ]
    },
    {
     "name": "stderr",
     "output_type": "stream",
     "text": [
      "\r",
      "Feature Extraction:   3%|▎         | 7/231 [00:05<01:56,  1.93it/s]"
     ]
    },
    {
     "name": "stderr",
     "output_type": "stream",
     "text": [
      "\r",
      "Feature Extraction:   3%|▎         | 8/231 [00:06<01:51,  2.01it/s]"
     ]
    },
    {
     "name": "stderr",
     "output_type": "stream",
     "text": [
      "\r",
      "Feature Extraction:   5%|▍         | 11/231 [00:06<00:53,  4.10it/s]"
     ]
    },
    {
     "name": "stderr",
     "output_type": "stream",
     "text": [
      "\r",
      "Feature Extraction:   6%|▌         | 13/231 [00:06<00:49,  4.42it/s]"
     ]
    },
    {
     "name": "stderr",
     "output_type": "stream",
     "text": [
      "\r",
      "Feature Extraction:   6%|▋         | 15/231 [00:09<02:03,  1.75it/s]"
     ]
    },
    {
     "name": "stderr",
     "output_type": "stream",
     "text": [
      "\r",
      "Feature Extraction:   7%|▋         | 16/231 [00:09<01:44,  2.05it/s]"
     ]
    },
    {
     "name": "stderr",
     "output_type": "stream",
     "text": [
      "\r",
      "Feature Extraction:   8%|▊         | 18/231 [00:09<01:14,  2.85it/s]"
     ]
    },
    {
     "name": "stderr",
     "output_type": "stream",
     "text": [
      "\r",
      "Feature Extraction:   8%|▊         | 19/231 [00:09<01:04,  3.27it/s]"
     ]
    },
    {
     "name": "stderr",
     "output_type": "stream",
     "text": [
      "\r",
      "Feature Extraction:   9%|▊         | 20/231 [00:10<01:21,  2.59it/s]"
     ]
    },
    {
     "name": "stderr",
     "output_type": "stream",
     "text": [
      "\r",
      "Feature Extraction:   9%|▉         | 21/231 [00:10<01:08,  3.08it/s]"
     ]
    },
    {
     "name": "stderr",
     "output_type": "stream",
     "text": [
      "\r",
      "Feature Extraction:  10%|▉         | 23/231 [00:10<00:44,  4.70it/s]"
     ]
    },
    {
     "name": "stderr",
     "output_type": "stream",
     "text": [
      "\r",
      "Feature Extraction:  12%|█▏        | 27/231 [00:10<00:24,  8.48it/s]"
     ]
    },
    {
     "name": "stderr",
     "output_type": "stream",
     "text": [
      "\r",
      "Feature Extraction:  13%|█▎        | 29/231 [00:10<00:20, 10.07it/s]"
     ]
    },
    {
     "name": "stderr",
     "output_type": "stream",
     "text": [
      "\r",
      "Feature Extraction:  16%|█▌        | 36/231 [00:10<00:10, 19.33it/s]"
     ]
    },
    {
     "name": "stderr",
     "output_type": "stream",
     "text": [
      "\r",
      "Feature Extraction:  17%|█▋        | 39/231 [00:11<00:12, 15.06it/s]"
     ]
    },
    {
     "name": "stderr",
     "output_type": "stream",
     "text": [
      "\r",
      "Feature Extraction:  18%|█▊        | 42/231 [00:15<01:15,  2.50it/s]"
     ]
    },
    {
     "name": "stderr",
     "output_type": "stream",
     "text": [
      "\r",
      "Feature Extraction:  19%|█▉        | 44/231 [00:16<01:17,  2.40it/s]"
     ]
    },
    {
     "name": "stderr",
     "output_type": "stream",
     "text": [
      "\r",
      "Feature Extraction:  20%|█▉        | 46/231 [00:18<01:47,  1.73it/s]"
     ]
    },
    {
     "name": "stderr",
     "output_type": "stream",
     "text": [
      "\r",
      "Feature Extraction:  20%|██        | 47/231 [00:19<01:52,  1.63it/s]"
     ]
    },
    {
     "name": "stderr",
     "output_type": "stream",
     "text": [
      "\r",
      "Feature Extraction:  22%|██▏       | 51/231 [00:19<01:11,  2.52it/s]"
     ]
    },
    {
     "name": "stderr",
     "output_type": "stream",
     "text": [
      "\r",
      "Feature Extraction:  23%|██▎       | 52/231 [00:20<01:34,  1.90it/s]"
     ]
    },
    {
     "name": "stderr",
     "output_type": "stream",
     "text": [
      "\r",
      "Feature Extraction:  23%|██▎       | 53/231 [00:23<02:25,  1.22it/s]"
     ]
    },
    {
     "name": "stderr",
     "output_type": "stream",
     "text": [
      "\r",
      "Feature Extraction:  23%|██▎       | 54/231 [00:24<02:40,  1.10it/s]"
     ]
    },
    {
     "name": "stderr",
     "output_type": "stream",
     "text": [
      "\r",
      "Feature Extraction:  24%|██▍       | 56/231 [00:25<02:00,  1.46it/s]"
     ]
    },
    {
     "name": "stderr",
     "output_type": "stream",
     "text": [
      "\r",
      "Feature Extraction:  26%|██▌       | 60/231 [00:25<01:04,  2.66it/s]"
     ]
    },
    {
     "name": "stderr",
     "output_type": "stream",
     "text": [
      "\r",
      "Feature Extraction:  26%|██▋       | 61/231 [00:26<01:20,  2.10it/s]"
     ]
    },
    {
     "name": "stderr",
     "output_type": "stream",
     "text": [
      "\r",
      "Feature Extraction:  27%|██▋       | 62/231 [00:26<01:11,  2.36it/s]"
     ]
    },
    {
     "name": "stderr",
     "output_type": "stream",
     "text": [
      "\r",
      "Feature Extraction:  28%|██▊       | 65/231 [00:26<00:43,  3.77it/s]"
     ]
    },
    {
     "name": "stderr",
     "output_type": "stream",
     "text": [
      "\r",
      "Feature Extraction:  29%|██▉       | 68/231 [00:26<00:31,  5.10it/s]"
     ]
    },
    {
     "name": "stderr",
     "output_type": "stream",
     "text": [
      "\r",
      "Feature Extraction:  30%|███       | 70/231 [00:27<00:26,  5.97it/s]"
     ]
    },
    {
     "name": "stderr",
     "output_type": "stream",
     "text": [
      "\r",
      "Feature Extraction:  31%|███       | 72/231 [00:27<00:28,  5.62it/s]"
     ]
    },
    {
     "name": "stderr",
     "output_type": "stream",
     "text": [
      "\r",
      "Feature Extraction:  32%|███▏      | 73/231 [00:27<00:33,  4.70it/s]"
     ]
    },
    {
     "name": "stderr",
     "output_type": "stream",
     "text": [
      "\r",
      "Feature Extraction:  32%|███▏      | 74/231 [00:28<00:38,  4.06it/s]"
     ]
    },
    {
     "name": "stderr",
     "output_type": "stream",
     "text": [
      "\r",
      "Feature Extraction:  32%|███▏      | 75/231 [00:28<00:36,  4.31it/s]"
     ]
    },
    {
     "name": "stderr",
     "output_type": "stream",
     "text": [
      "\r",
      "Feature Extraction:  33%|███▎      | 76/231 [00:29<00:51,  2.98it/s]"
     ]
    },
    {
     "name": "stderr",
     "output_type": "stream",
     "text": [
      "\r",
      "Feature Extraction:  33%|███▎      | 77/231 [00:29<01:07,  2.27it/s]"
     ]
    },
    {
     "name": "stderr",
     "output_type": "stream",
     "text": [
      "\r",
      "Feature Extraction:  34%|███▍      | 78/231 [00:30<01:04,  2.36it/s]"
     ]
    },
    {
     "name": "stderr",
     "output_type": "stream",
     "text": [
      "\r",
      "Feature Extraction:  34%|███▍      | 79/231 [00:31<01:22,  1.85it/s]"
     ]
    },
    {
     "name": "stderr",
     "output_type": "stream",
     "text": [
      "\r",
      "Feature Extraction:  35%|███▍      | 80/231 [00:32<01:57,  1.28it/s]"
     ]
    },
    {
     "name": "stderr",
     "output_type": "stream",
     "text": [
      "\r",
      "Feature Extraction:  35%|███▌      | 81/231 [00:33<01:58,  1.26it/s]"
     ]
    },
    {
     "name": "stderr",
     "output_type": "stream",
     "text": [
      "\r",
      "Feature Extraction:  35%|███▌      | 82/231 [00:33<01:39,  1.50it/s]"
     ]
    },
    {
     "name": "stderr",
     "output_type": "stream",
     "text": [
      "\r",
      "Feature Extraction:  36%|███▌      | 83/231 [00:34<01:56,  1.27it/s]"
     ]
    },
    {
     "name": "stderr",
     "output_type": "stream",
     "text": [
      "\r",
      "Feature Extraction:  36%|███▋      | 84/231 [00:35<01:39,  1.48it/s]"
     ]
    },
    {
     "name": "stderr",
     "output_type": "stream",
     "text": [
      "\r",
      "Feature Extraction:  37%|███▋      | 85/231 [00:35<01:23,  1.74it/s]"
     ]
    },
    {
     "name": "stderr",
     "output_type": "stream",
     "text": [
      "\r",
      "Feature Extraction:  38%|███▊      | 87/231 [00:35<00:48,  2.98it/s]"
     ]
    },
    {
     "name": "stderr",
     "output_type": "stream",
     "text": [
      "\r",
      "Feature Extraction:  39%|███▊      | 89/231 [00:36<00:40,  3.52it/s]"
     ]
    },
    {
     "name": "stderr",
     "output_type": "stream",
     "text": [
      "\r",
      "Feature Extraction:  40%|███▉      | 92/231 [00:37<00:56,  2.44it/s]"
     ]
    },
    {
     "name": "stderr",
     "output_type": "stream",
     "text": [
      "\r",
      "Feature Extraction:  40%|████      | 93/231 [00:37<00:51,  2.70it/s]"
     ]
    },
    {
     "name": "stderr",
     "output_type": "stream",
     "text": [
      "\r",
      "Feature Extraction:  41%|████      | 94/231 [00:38<00:46,  2.96it/s]"
     ]
    },
    {
     "name": "stderr",
     "output_type": "stream",
     "text": [
      "\r",
      "Feature Extraction:  42%|████▏     | 97/231 [00:38<00:28,  4.74it/s]"
     ]
    },
    {
     "name": "stderr",
     "output_type": "stream",
     "text": [
      "\r",
      "Feature Extraction:  42%|████▏     | 98/231 [00:38<00:31,  4.25it/s]"
     ]
    },
    {
     "name": "stderr",
     "output_type": "stream",
     "text": [
      "\r",
      "Feature Extraction:  43%|████▎     | 99/231 [00:39<00:50,  2.63it/s]"
     ]
    },
    {
     "name": "stderr",
     "output_type": "stream",
     "text": [
      "\r",
      "Feature Extraction:  43%|████▎     | 100/231 [00:41<01:19,  1.64it/s]"
     ]
    },
    {
     "name": "stderr",
     "output_type": "stream",
     "text": [
      "\r",
      "Feature Extraction:  44%|████▎     | 101/231 [00:41<01:08,  1.89it/s]"
     ]
    },
    {
     "name": "stderr",
     "output_type": "stream",
     "text": [
      "\r",
      "Feature Extraction:  44%|████▍     | 102/231 [00:42<01:38,  1.31it/s]"
     ]
    },
    {
     "name": "stderr",
     "output_type": "stream",
     "text": [
      "\r",
      "Feature Extraction:  45%|████▍     | 103/231 [00:43<01:25,  1.49it/s]"
     ]
    },
    {
     "name": "stderr",
     "output_type": "stream",
     "text": [
      "\r",
      "Feature Extraction:  48%|████▊     | 110/231 [00:43<00:23,  5.18it/s]"
     ]
    },
    {
     "name": "stderr",
     "output_type": "stream",
     "text": [
      "\r",
      "Feature Extraction:  49%|████▉     | 113/231 [00:43<00:21,  5.44it/s]"
     ]
    },
    {
     "name": "stderr",
     "output_type": "stream",
     "text": [
      "\r",
      "Feature Extraction:  52%|█████▏    | 119/231 [00:43<00:11,  9.43it/s]"
     ]
    },
    {
     "name": "stderr",
     "output_type": "stream",
     "text": [
      "\r",
      "Feature Extraction:  53%|█████▎    | 122/231 [00:45<00:18,  5.76it/s]"
     ]
    },
    {
     "name": "stderr",
     "output_type": "stream",
     "text": [
      "\r",
      "Feature Extraction:  54%|█████▍    | 125/231 [00:45<00:20,  5.22it/s]"
     ]
    },
    {
     "name": "stderr",
     "output_type": "stream",
     "text": [
      "\r",
      "Feature Extraction:  55%|█████▍    | 127/231 [00:46<00:20,  4.98it/s]"
     ]
    },
    {
     "name": "stderr",
     "output_type": "stream",
     "text": [
      "\r",
      "Feature Extraction:  56%|█████▌    | 129/231 [00:47<00:27,  3.71it/s]"
     ]
    },
    {
     "name": "stderr",
     "output_type": "stream",
     "text": [
      "\r",
      "Feature Extraction:  56%|█████▋    | 130/231 [00:47<00:26,  3.81it/s]"
     ]
    },
    {
     "name": "stderr",
     "output_type": "stream",
     "text": [
      "\r",
      "Feature Extraction:  57%|█████▋    | 131/231 [00:47<00:25,  3.95it/s]"
     ]
    },
    {
     "name": "stderr",
     "output_type": "stream",
     "text": [
      "\r",
      "Feature Extraction:  57%|█████▋    | 132/231 [00:48<00:29,  3.37it/s]"
     ]
    },
    {
     "name": "stderr",
     "output_type": "stream",
     "text": [
      "\r",
      "Feature Extraction:  58%|█████▊    | 133/231 [00:48<00:29,  3.36it/s]"
     ]
    },
    {
     "name": "stderr",
     "output_type": "stream",
     "text": [
      "\r",
      "Feature Extraction:  58%|█████▊    | 134/231 [00:50<01:04,  1.50it/s]"
     ]
    },
    {
     "name": "stderr",
     "output_type": "stream",
     "text": [
      "\r",
      "Feature Extraction:  58%|█████▊    | 135/231 [00:51<01:12,  1.32it/s]"
     ]
    },
    {
     "name": "stderr",
     "output_type": "stream",
     "text": [
      "\r",
      "Feature Extraction:  59%|█████▉    | 136/231 [00:51<00:56,  1.67it/s]"
     ]
    },
    {
     "name": "stderr",
     "output_type": "stream",
     "text": [
      "\r",
      "Feature Extraction:  60%|█████▉    | 138/231 [00:53<01:05,  1.41it/s]"
     ]
    },
    {
     "name": "stderr",
     "output_type": "stream",
     "text": [
      "\r",
      "Feature Extraction:  60%|██████    | 139/231 [00:53<01:02,  1.46it/s]"
     ]
    },
    {
     "name": "stderr",
     "output_type": "stream",
     "text": [
      "\r",
      "Feature Extraction:  61%|██████    | 141/231 [00:53<00:38,  2.32it/s]"
     ]
    },
    {
     "name": "stderr",
     "output_type": "stream",
     "text": [
      "\r",
      "Feature Extraction:  62%|██████▏   | 143/231 [00:54<00:25,  3.41it/s]"
     ]
    },
    {
     "name": "stderr",
     "output_type": "stream",
     "text": [
      "\r",
      "Feature Extraction:  63%|██████▎   | 145/231 [00:56<00:51,  1.68it/s]"
     ]
    },
    {
     "name": "stderr",
     "output_type": "stream",
     "text": [
      "\r",
      "Feature Extraction:  63%|██████▎   | 146/231 [00:56<00:47,  1.80it/s]"
     ]
    },
    {
     "name": "stderr",
     "output_type": "stream",
     "text": [
      "\r",
      "Feature Extraction:  64%|██████▎   | 147/231 [00:56<00:38,  2.18it/s]"
     ]
    },
    {
     "name": "stderr",
     "output_type": "stream",
     "text": [
      "\r",
      "Feature Extraction:  65%|██████▍   | 149/231 [00:57<00:27,  3.01it/s]"
     ]
    },
    {
     "name": "stderr",
     "output_type": "stream",
     "text": [
      "\r",
      "Feature Extraction:  66%|██████▌   | 152/231 [00:57<00:19,  4.05it/s]"
     ]
    },
    {
     "name": "stderr",
     "output_type": "stream",
     "text": [
      "\r",
      "Feature Extraction:  67%|██████▋   | 154/231 [00:58<00:20,  3.74it/s]"
     ]
    },
    {
     "name": "stderr",
     "output_type": "stream",
     "text": [
      "\r",
      "Feature Extraction:  67%|██████▋   | 155/231 [00:58<00:19,  3.89it/s]"
     ]
    },
    {
     "name": "stderr",
     "output_type": "stream",
     "text": [
      "\r",
      "Feature Extraction:  68%|██████▊   | 156/231 [00:58<00:17,  4.26it/s]"
     ]
    },
    {
     "name": "stderr",
     "output_type": "stream",
     "text": [
      "\r",
      "Feature Extraction:  68%|██████▊   | 157/231 [00:58<00:19,  3.70it/s]"
     ]
    },
    {
     "name": "stderr",
     "output_type": "stream",
     "text": [
      "\r",
      "Feature Extraction:  68%|██████▊   | 158/231 [00:59<00:32,  2.26it/s]"
     ]
    },
    {
     "name": "stderr",
     "output_type": "stream",
     "text": [
      "\r",
      "Feature Extraction:  69%|██████▉   | 160/231 [01:00<00:33,  2.12it/s]"
     ]
    },
    {
     "name": "stderr",
     "output_type": "stream",
     "text": [
      "\r",
      "Feature Extraction:  70%|██████▉   | 161/231 [01:01<00:27,  2.54it/s]"
     ]
    },
    {
     "name": "stderr",
     "output_type": "stream",
     "text": [
      "\r",
      "Feature Extraction:  71%|███████   | 163/231 [01:01<00:24,  2.83it/s]"
     ]
    },
    {
     "name": "stderr",
     "output_type": "stream",
     "text": [
      "\r",
      "Feature Extraction:  71%|███████▏  | 165/231 [01:01<00:17,  3.70it/s]"
     ]
    },
    {
     "name": "stderr",
     "output_type": "stream",
     "text": [
      "\r",
      "Feature Extraction:  72%|███████▏  | 166/231 [01:02<00:15,  4.13it/s]"
     ]
    },
    {
     "name": "stderr",
     "output_type": "stream",
     "text": [
      "\r",
      "Feature Extraction:  73%|███████▎  | 169/231 [01:02<00:09,  6.78it/s]"
     ]
    },
    {
     "name": "stderr",
     "output_type": "stream",
     "text": [
      "\r",
      "Feature Extraction:  74%|███████▍  | 171/231 [01:02<00:07,  8.50it/s]"
     ]
    },
    {
     "name": "stderr",
     "output_type": "stream",
     "text": [
      "\r",
      "Feature Extraction:  76%|███████▌  | 175/231 [01:02<00:04, 12.01it/s]"
     ]
    },
    {
     "name": "stderr",
     "output_type": "stream",
     "text": [
      "\r",
      "Feature Extraction:  77%|███████▋  | 179/231 [01:02<00:03, 16.28it/s]"
     ]
    },
    {
     "name": "stderr",
     "output_type": "stream",
     "text": [
      "\r",
      "Feature Extraction:  79%|███████▉  | 182/231 [01:03<00:07,  6.68it/s]"
     ]
    },
    {
     "name": "stderr",
     "output_type": "stream",
     "text": [
      "\r",
      "Feature Extraction:  80%|███████▉  | 184/231 [01:05<00:14,  3.32it/s]"
     ]
    },
    {
     "name": "stderr",
     "output_type": "stream",
     "text": [
      "\r",
      "Feature Extraction:  81%|████████  | 186/231 [01:06<00:17,  2.55it/s]"
     ]
    },
    {
     "name": "stderr",
     "output_type": "stream",
     "text": [
      "\r",
      "Feature Extraction:  81%|████████  | 187/231 [01:07<00:21,  2.00it/s]"
     ]
    },
    {
     "name": "stderr",
     "output_type": "stream",
     "text": [
      "\r",
      "Feature Extraction:  81%|████████▏ | 188/231 [01:08<00:19,  2.15it/s]"
     ]
    },
    {
     "name": "stderr",
     "output_type": "stream",
     "text": [
      "\r",
      "Feature Extraction:  82%|████████▏ | 189/231 [01:08<00:18,  2.23it/s]"
     ]
    },
    {
     "name": "stderr",
     "output_type": "stream",
     "text": [
      "\r",
      "Feature Extraction:  82%|████████▏ | 190/231 [01:10<00:30,  1.36it/s]"
     ]
    },
    {
     "name": "stderr",
     "output_type": "stream",
     "text": [
      "\r",
      "Feature Extraction:  83%|████████▎ | 191/231 [01:10<00:29,  1.37it/s]"
     ]
    },
    {
     "name": "stderr",
     "output_type": "stream",
     "text": [
      "\r",
      "Feature Extraction:  84%|████████▍ | 194/231 [01:12<00:20,  1.82it/s]"
     ]
    },
    {
     "name": "stderr",
     "output_type": "stream",
     "text": [
      "\r",
      "Feature Extraction:  84%|████████▍ | 195/231 [01:12<00:20,  1.76it/s]"
     ]
    },
    {
     "name": "stderr",
     "output_type": "stream",
     "text": [
      "\r",
      "Feature Extraction:  85%|████████▌ | 197/231 [01:14<00:24,  1.37it/s]"
     ]
    },
    {
     "name": "stderr",
     "output_type": "stream",
     "text": [
      "\r",
      "Feature Extraction:  86%|████████▌ | 198/231 [01:15<00:22,  1.46it/s]"
     ]
    },
    {
     "name": "stderr",
     "output_type": "stream",
     "text": [
      "\r",
      "Feature Extraction:  87%|████████▋ | 201/231 [01:15<00:11,  2.61it/s]"
     ]
    },
    {
     "name": "stderr",
     "output_type": "stream",
     "text": [
      "\r",
      "Feature Extraction:  87%|████████▋ | 202/231 [01:15<00:10,  2.83it/s]"
     ]
    },
    {
     "name": "stderr",
     "output_type": "stream",
     "text": [
      "\r",
      "Feature Extraction:  88%|████████▊ | 203/231 [01:15<00:08,  3.31it/s]"
     ]
    },
    {
     "name": "stderr",
     "output_type": "stream",
     "text": [
      "\r",
      "Feature Extraction:  89%|████████▉ | 206/231 [01:16<00:07,  3.55it/s]"
     ]
    },
    {
     "name": "stderr",
     "output_type": "stream",
     "text": [
      "\r",
      "Feature Extraction:  90%|████████▉ | 207/231 [01:16<00:06,  3.65it/s]"
     ]
    },
    {
     "name": "stderr",
     "output_type": "stream",
     "text": [
      "\r",
      "Feature Extraction:  90%|█████████ | 208/231 [01:17<00:07,  3.25it/s]"
     ]
    },
    {
     "name": "stderr",
     "output_type": "stream",
     "text": [
      "\r",
      "Feature Extraction:  90%|█████████ | 209/231 [01:17<00:06,  3.49it/s]"
     ]
    },
    {
     "name": "stderr",
     "output_type": "stream",
     "text": [
      "\r",
      "Feature Extraction:  91%|█████████ | 210/231 [01:17<00:05,  4.14it/s]"
     ]
    },
    {
     "name": "stderr",
     "output_type": "stream",
     "text": [
      "\r",
      "Feature Extraction:  91%|█████████▏| 211/231 [01:17<00:04,  4.62it/s]"
     ]
    },
    {
     "name": "stderr",
     "output_type": "stream",
     "text": [
      "\r",
      "Feature Extraction:  92%|█████████▏| 213/231 [01:17<00:02,  6.29it/s]"
     ]
    },
    {
     "name": "stderr",
     "output_type": "stream",
     "text": [
      "\r",
      "Feature Extraction:  93%|█████████▎| 214/231 [01:19<00:09,  1.86it/s]"
     ]
    },
    {
     "name": "stderr",
     "output_type": "stream",
     "text": [
      "\r",
      "Feature Extraction:  93%|█████████▎| 215/231 [01:20<00:09,  1.77it/s]"
     ]
    },
    {
     "name": "stderr",
     "output_type": "stream",
     "text": [
      "\r",
      "Feature Extraction:  95%|█████████▍| 219/231 [01:20<00:02,  4.04it/s]"
     ]
    },
    {
     "name": "stderr",
     "output_type": "stream",
     "text": [
      "\r",
      "Feature Extraction:  96%|█████████▌| 221/231 [01:20<00:02,  4.62it/s]"
     ]
    },
    {
     "name": "stderr",
     "output_type": "stream",
     "text": [
      "\r",
      "Feature Extraction:  97%|█████████▋| 224/231 [01:20<00:01,  5.59it/s]"
     ]
    },
    {
     "name": "stderr",
     "output_type": "stream",
     "text": [
      "\r",
      "Feature Extraction:  99%|█████████▉| 229/231 [01:21<00:00,  9.64it/s]"
     ]
    },
    {
     "name": "stderr",
     "output_type": "stream",
     "text": [
      "\r",
      "Feature Extraction: 100%|██████████| 231/231 [01:21<00:00,  2.85it/s]"
     ]
    },
    {
     "name": "stderr",
     "output_type": "stream",
     "text": [
      "\n"
     ]
    },
    {
     "name": "stderr",
     "output_type": "stream",
     "text": [
      "\r",
      "Feature Extraction:   0%|          | 0/231 [00:00<?, ?it/s]"
     ]
    },
    {
     "name": "stderr",
     "output_type": "stream",
     "text": [
      "\r",
      "Feature Extraction:   0%|          | 1/231 [00:01<06:51,  1.79s/it]"
     ]
    },
    {
     "name": "stderr",
     "output_type": "stream",
     "text": [
      "\r",
      "Feature Extraction:   1%|          | 2/231 [00:01<03:05,  1.23it/s]"
     ]
    },
    {
     "name": "stderr",
     "output_type": "stream",
     "text": [
      "\r",
      "Feature Extraction:   1%|▏         | 3/231 [00:02<01:53,  2.01it/s]"
     ]
    },
    {
     "name": "stderr",
     "output_type": "stream",
     "text": [
      "\r",
      "Feature Extraction:   2%|▏         | 5/231 [00:02<00:57,  3.93it/s]"
     ]
    },
    {
     "name": "stderr",
     "output_type": "stream",
     "text": [
      "\r",
      "Feature Extraction:   3%|▎         | 8/231 [00:02<00:57,  3.85it/s]"
     ]
    },
    {
     "name": "stderr",
     "output_type": "stream",
     "text": [
      "\r",
      "Feature Extraction:   4%|▍         | 9/231 [00:03<01:22,  2.69it/s]"
     ]
    },
    {
     "name": "stderr",
     "output_type": "stream",
     "text": [
      "\r",
      "Feature Extraction:   4%|▍         | 10/231 [00:05<02:06,  1.74it/s]"
     ]
    },
    {
     "name": "stderr",
     "output_type": "stream",
     "text": [
      "\r",
      "Feature Extraction:   5%|▌         | 12/231 [00:05<01:21,  2.68it/s]"
     ]
    },
    {
     "name": "stderr",
     "output_type": "stream",
     "text": [
      "\r",
      "Feature Extraction:   6%|▌         | 13/231 [00:06<01:49,  1.99it/s]"
     ]
    },
    {
     "name": "stderr",
     "output_type": "stream",
     "text": [
      "\r",
      "Feature Extraction:   6%|▌         | 14/231 [00:06<01:58,  1.83it/s]"
     ]
    },
    {
     "name": "stderr",
     "output_type": "stream",
     "text": [
      "\r",
      "Feature Extraction:   8%|▊         | 18/231 [00:07<01:09,  3.07it/s]"
     ]
    },
    {
     "name": "stderr",
     "output_type": "stream",
     "text": [
      "\r",
      "Feature Extraction:   8%|▊         | 19/231 [00:07<01:02,  3.39it/s]"
     ]
    },
    {
     "name": "stderr",
     "output_type": "stream",
     "text": [
      "\r",
      "Feature Extraction:   9%|▊         | 20/231 [00:08<01:07,  3.11it/s]"
     ]
    },
    {
     "name": "stderr",
     "output_type": "stream",
     "text": [
      "\r",
      "Feature Extraction:   9%|▉         | 21/231 [00:08<01:03,  3.32it/s]"
     ]
    },
    {
     "name": "stderr",
     "output_type": "stream",
     "text": [
      "\r",
      "Feature Extraction:  10%|▉         | 22/231 [00:08<00:55,  3.75it/s]"
     ]
    },
    {
     "name": "stderr",
     "output_type": "stream",
     "text": [
      "\r",
      "Feature Extraction:  10%|▉         | 23/231 [00:09<01:13,  2.83it/s]"
     ]
    },
    {
     "name": "stderr",
     "output_type": "stream",
     "text": [
      "\r",
      "Feature Extraction:  11%|█▏        | 26/231 [00:09<01:08,  2.99it/s]"
     ]
    },
    {
     "name": "stderr",
     "output_type": "stream",
     "text": [
      "\r",
      "Feature Extraction:  12%|█▏        | 27/231 [00:11<01:47,  1.90it/s]"
     ]
    },
    {
     "name": "stderr",
     "output_type": "stream",
     "text": [
      "\r",
      "Feature Extraction:  12%|█▏        | 28/231 [00:11<01:32,  2.19it/s]"
     ]
    },
    {
     "name": "stderr",
     "output_type": "stream",
     "text": [
      "\r",
      "Feature Extraction:  13%|█▎        | 30/231 [00:11<01:00,  3.31it/s]"
     ]
    },
    {
     "name": "stderr",
     "output_type": "stream",
     "text": [
      "\r",
      "Feature Extraction:  13%|█▎        | 31/231 [00:11<00:56,  3.55it/s]"
     ]
    },
    {
     "name": "stderr",
     "output_type": "stream",
     "text": [
      "\r",
      "Feature Extraction:  14%|█▍        | 32/231 [00:11<00:47,  4.16it/s]"
     ]
    },
    {
     "name": "stderr",
     "output_type": "stream",
     "text": [
      "\r",
      "Feature Extraction:  14%|█▍        | 33/231 [00:12<00:46,  4.30it/s]"
     ]
    },
    {
     "name": "stderr",
     "output_type": "stream",
     "text": [
      "\r",
      "Feature Extraction:  15%|█▌        | 35/231 [00:12<00:55,  3.55it/s]"
     ]
    },
    {
     "name": "stderr",
     "output_type": "stream",
     "text": [
      "\r",
      "Feature Extraction:  16%|█▌        | 37/231 [00:13<01:01,  3.15it/s]"
     ]
    },
    {
     "name": "stderr",
     "output_type": "stream",
     "text": [
      "\r",
      "Feature Extraction:  16%|█▋        | 38/231 [00:16<02:29,  1.29it/s]"
     ]
    },
    {
     "name": "stderr",
     "output_type": "stream",
     "text": [
      "\r",
      "Feature Extraction:  17%|█▋        | 39/231 [00:16<02:02,  1.56it/s]"
     ]
    },
    {
     "name": "stderr",
     "output_type": "stream",
     "text": [
      "\r",
      "Feature Extraction:  17%|█▋        | 40/231 [00:16<01:48,  1.77it/s]"
     ]
    },
    {
     "name": "stderr",
     "output_type": "stream",
     "text": [
      "\r",
      "Feature Extraction:  18%|█▊        | 41/231 [00:19<03:53,  1.23s/it]"
     ]
    },
    {
     "name": "stderr",
     "output_type": "stream",
     "text": [
      "\r",
      "Feature Extraction:  18%|█▊        | 42/231 [00:20<03:09,  1.00s/it]"
     ]
    },
    {
     "name": "stderr",
     "output_type": "stream",
     "text": [
      "\r",
      "Feature Extraction:  19%|█▉        | 45/231 [00:20<01:33,  1.99it/s]"
     ]
    },
    {
     "name": "stderr",
     "output_type": "stream",
     "text": [
      "\r",
      "Feature Extraction:  20%|█▉        | 46/231 [00:21<01:54,  1.62it/s]"
     ]
    },
    {
     "name": "stderr",
     "output_type": "stream",
     "text": [
      "\r",
      "Feature Extraction:  20%|██        | 47/231 [00:22<02:07,  1.45it/s]"
     ]
    },
    {
     "name": "stderr",
     "output_type": "stream",
     "text": [
      "\r",
      "Feature Extraction:  21%|██        | 48/231 [00:22<01:42,  1.79it/s]"
     ]
    },
    {
     "name": "stderr",
     "output_type": "stream",
     "text": [
      "\r",
      "Feature Extraction:  21%|██        | 49/231 [00:23<02:04,  1.47it/s]"
     ]
    },
    {
     "name": "stderr",
     "output_type": "stream",
     "text": [
      "\r",
      "Feature Extraction:  22%|██▏       | 50/231 [00:23<01:42,  1.77it/s]"
     ]
    },
    {
     "name": "stderr",
     "output_type": "stream",
     "text": [
      "\r",
      "Feature Extraction:  23%|██▎       | 53/231 [00:24<00:55,  3.18it/s]"
     ]
    },
    {
     "name": "stderr",
     "output_type": "stream",
     "text": [
      "\r",
      "Feature Extraction:  23%|██▎       | 54/231 [00:24<00:59,  3.00it/s]"
     ]
    },
    {
     "name": "stderr",
     "output_type": "stream",
     "text": [
      "\r",
      "Feature Extraction:  24%|██▍       | 56/231 [00:25<00:58,  3.01it/s]"
     ]
    },
    {
     "name": "stderr",
     "output_type": "stream",
     "text": [
      "\r",
      "Feature Extraction:  25%|██▍       | 57/231 [00:25<00:50,  3.46it/s]"
     ]
    },
    {
     "name": "stderr",
     "output_type": "stream",
     "text": [
      "\r",
      "Feature Extraction:  25%|██▌       | 58/231 [00:25<00:43,  3.98it/s]"
     ]
    },
    {
     "name": "stderr",
     "output_type": "stream",
     "text": [
      "\r",
      "Feature Extraction:  26%|██▌       | 60/231 [00:25<00:31,  5.46it/s]"
     ]
    },
    {
     "name": "stderr",
     "output_type": "stream",
     "text": [
      "\r",
      "Feature Extraction:  26%|██▋       | 61/231 [00:26<00:55,  3.04it/s]"
     ]
    },
    {
     "name": "stderr",
     "output_type": "stream",
     "text": [
      "\r",
      "Feature Extraction:  27%|██▋       | 62/231 [00:26<00:54,  3.08it/s]"
     ]
    },
    {
     "name": "stderr",
     "output_type": "stream",
     "text": [
      "\r",
      "Feature Extraction:  27%|██▋       | 63/231 [00:26<00:50,  3.36it/s]"
     ]
    },
    {
     "name": "stderr",
     "output_type": "stream",
     "text": [
      "\r",
      "Feature Extraction:  28%|██▊       | 64/231 [00:27<00:53,  3.14it/s]"
     ]
    },
    {
     "name": "stderr",
     "output_type": "stream",
     "text": [
      "\r",
      "Feature Extraction:  28%|██▊       | 65/231 [00:27<01:01,  2.70it/s]"
     ]
    },
    {
     "name": "stderr",
     "output_type": "stream",
     "text": [
      "\r",
      "Feature Extraction:  29%|██▊       | 66/231 [00:29<01:49,  1.50it/s]"
     ]
    },
    {
     "name": "stderr",
     "output_type": "stream",
     "text": [
      "\r",
      "Feature Extraction:  29%|██▉       | 67/231 [00:29<01:30,  1.82it/s]"
     ]
    },
    {
     "name": "stderr",
     "output_type": "stream",
     "text": [
      "\r",
      "Feature Extraction:  29%|██▉       | 68/231 [00:30<02:06,  1.28it/s]"
     ]
    },
    {
     "name": "stderr",
     "output_type": "stream",
     "text": [
      "\r",
      "Feature Extraction:  30%|██▉       | 69/231 [00:31<01:40,  1.61it/s]"
     ]
    },
    {
     "name": "stderr",
     "output_type": "stream",
     "text": [
      "\r",
      "Feature Extraction:  30%|███       | 70/231 [00:31<01:34,  1.70it/s]"
     ]
    },
    {
     "name": "stderr",
     "output_type": "stream",
     "text": [
      "\r",
      "Feature Extraction:  31%|███       | 71/231 [00:32<01:37,  1.64it/s]"
     ]
    },
    {
     "name": "stderr",
     "output_type": "stream",
     "text": [
      "\r",
      "Feature Extraction:  31%|███       | 72/231 [00:32<01:30,  1.75it/s]"
     ]
    },
    {
     "name": "stderr",
     "output_type": "stream",
     "text": [
      "\r",
      "Feature Extraction:  32%|███▏      | 73/231 [00:33<01:39,  1.58it/s]"
     ]
    },
    {
     "name": "stderr",
     "output_type": "stream",
     "text": [
      "\r",
      "Feature Extraction:  32%|███▏      | 74/231 [00:33<01:30,  1.74it/s]"
     ]
    },
    {
     "name": "stderr",
     "output_type": "stream",
     "text": [
      "\r",
      "Feature Extraction:  32%|███▏      | 75/231 [00:36<03:14,  1.25s/it]"
     ]
    },
    {
     "name": "stderr",
     "output_type": "stream",
     "text": [
      "\r",
      "Feature Extraction:  33%|███▎      | 77/231 [00:36<01:47,  1.43it/s]"
     ]
    },
    {
     "name": "stderr",
     "output_type": "stream",
     "text": [
      "\r",
      "Feature Extraction:  34%|███▍      | 78/231 [00:37<01:30,  1.70it/s]"
     ]
    },
    {
     "name": "stderr",
     "output_type": "stream",
     "text": [
      "\r",
      "Feature Extraction:  34%|███▍      | 79/231 [00:37<01:23,  1.83it/s]"
     ]
    },
    {
     "name": "stderr",
     "output_type": "stream",
     "text": [
      "\r",
      "Feature Extraction:  35%|███▌      | 81/231 [00:37<00:57,  2.60it/s]"
     ]
    },
    {
     "name": "stderr",
     "output_type": "stream",
     "text": [
      "\r",
      "Feature Extraction:  35%|███▌      | 82/231 [00:40<02:03,  1.21it/s]"
     ]
    },
    {
     "name": "stderr",
     "output_type": "stream",
     "text": [
      "\r",
      "Feature Extraction:  36%|███▌      | 83/231 [00:40<01:39,  1.48it/s]"
     ]
    },
    {
     "name": "stderr",
     "output_type": "stream",
     "text": [
      "\r",
      "Feature Extraction:  37%|███▋      | 86/231 [00:40<00:51,  2.80it/s]"
     ]
    },
    {
     "name": "stderr",
     "output_type": "stream",
     "text": [
      "\r",
      "Feature Extraction:  39%|███▉      | 90/231 [00:40<00:28,  5.02it/s]"
     ]
    },
    {
     "name": "stderr",
     "output_type": "stream",
     "text": [
      "\r",
      "Feature Extraction:  40%|███▉      | 92/231 [00:40<00:22,  6.18it/s]"
     ]
    },
    {
     "name": "stderr",
     "output_type": "stream",
     "text": [
      "\r",
      "Feature Extraction:  41%|████      | 94/231 [00:41<00:24,  5.69it/s]"
     ]
    },
    {
     "name": "stderr",
     "output_type": "stream",
     "text": [
      "\r",
      "Feature Extraction:  42%|████▏     | 97/231 [00:41<00:19,  6.81it/s]"
     ]
    },
    {
     "name": "stderr",
     "output_type": "stream",
     "text": [
      "\r",
      "Feature Extraction:  43%|████▎     | 99/231 [00:41<00:20,  6.51it/s]"
     ]
    },
    {
     "name": "stderr",
     "output_type": "stream",
     "text": [
      "\r",
      "Feature Extraction:  44%|████▎     | 101/231 [00:42<00:17,  7.58it/s]"
     ]
    },
    {
     "name": "stderr",
     "output_type": "stream",
     "text": [
      "\r",
      "Feature Extraction:  45%|████▌     | 104/231 [00:42<00:13,  9.35it/s]"
     ]
    },
    {
     "name": "stderr",
     "output_type": "stream",
     "text": [
      "\r",
      "Feature Extraction:  46%|████▌     | 106/231 [00:43<00:27,  4.53it/s]"
     ]
    },
    {
     "name": "stderr",
     "output_type": "stream",
     "text": [
      "\r",
      "Feature Extraction:  46%|████▋     | 107/231 [00:43<00:29,  4.27it/s]"
     ]
    },
    {
     "name": "stderr",
     "output_type": "stream",
     "text": [
      "\r",
      "Feature Extraction:  47%|████▋     | 108/231 [00:44<00:32,  3.80it/s]"
     ]
    },
    {
     "name": "stderr",
     "output_type": "stream",
     "text": [
      "\r",
      "Feature Extraction:  48%|████▊     | 110/231 [00:45<00:55,  2.18it/s]"
     ]
    },
    {
     "name": "stderr",
     "output_type": "stream",
     "text": [
      "\r",
      "Feature Extraction:  48%|████▊     | 111/231 [00:45<00:51,  2.32it/s]"
     ]
    },
    {
     "name": "stderr",
     "output_type": "stream",
     "text": [
      "\r",
      "Feature Extraction:  48%|████▊     | 112/231 [00:48<01:46,  1.11it/s]"
     ]
    },
    {
     "name": "stderr",
     "output_type": "stream",
     "text": [
      "\r",
      "Feature Extraction:  50%|█████     | 116/231 [00:48<00:47,  2.42it/s]"
     ]
    },
    {
     "name": "stderr",
     "output_type": "stream",
     "text": [
      "\r",
      "Feature Extraction:  51%|█████     | 118/231 [00:49<00:43,  2.58it/s]"
     ]
    },
    {
     "name": "stderr",
     "output_type": "stream",
     "text": [
      "\r",
      "Feature Extraction:  52%|█████▏    | 120/231 [00:50<00:56,  1.97it/s]"
     ]
    },
    {
     "name": "stderr",
     "output_type": "stream",
     "text": [
      "\r",
      "Feature Extraction:  53%|█████▎    | 122/231 [00:51<00:55,  1.95it/s]"
     ]
    },
    {
     "name": "stderr",
     "output_type": "stream",
     "text": [
      "\r",
      "Feature Extraction:  53%|█████▎    | 123/231 [00:54<01:26,  1.25it/s]"
     ]
    },
    {
     "name": "stderr",
     "output_type": "stream",
     "text": [
      "\r",
      "Feature Extraction:  54%|█████▎    | 124/231 [00:54<01:18,  1.36it/s]"
     ]
    },
    {
     "name": "stderr",
     "output_type": "stream",
     "text": [
      "\r",
      "Feature Extraction:  54%|█████▍    | 125/231 [00:55<01:18,  1.35it/s]"
     ]
    },
    {
     "name": "stderr",
     "output_type": "stream",
     "text": [
      "\r",
      "Feature Extraction:  55%|█████▍    | 126/231 [00:55<01:09,  1.51it/s]"
     ]
    },
    {
     "name": "stderr",
     "output_type": "stream",
     "text": [
      "\r",
      "Feature Extraction:  55%|█████▍    | 127/231 [00:56<01:12,  1.43it/s]"
     ]
    },
    {
     "name": "stderr",
     "output_type": "stream",
     "text": [
      "\r",
      "Feature Extraction:  55%|█████▌    | 128/231 [00:56<00:56,  1.84it/s]"
     ]
    },
    {
     "name": "stderr",
     "output_type": "stream",
     "text": [
      "\r",
      "Feature Extraction:  56%|█████▌    | 129/231 [00:56<00:44,  2.28it/s]"
     ]
    },
    {
     "name": "stderr",
     "output_type": "stream",
     "text": [
      "\r",
      "Feature Extraction:  56%|█████▋    | 130/231 [00:57<00:48,  2.07it/s]"
     ]
    },
    {
     "name": "stderr",
     "output_type": "stream",
     "text": [
      "\r",
      "Feature Extraction:  57%|█████▋    | 131/231 [00:57<00:49,  2.03it/s]"
     ]
    },
    {
     "name": "stderr",
     "output_type": "stream",
     "text": [
      "\r",
      "Feature Extraction:  57%|█████▋    | 132/231 [00:58<00:56,  1.75it/s]"
     ]
    },
    {
     "name": "stderr",
     "output_type": "stream",
     "text": [
      "\r",
      "Feature Extraction:  58%|█████▊    | 133/231 [00:59<01:10,  1.39it/s]"
     ]
    },
    {
     "name": "stderr",
     "output_type": "stream",
     "text": [
      "\r",
      "Feature Extraction:  58%|█████▊    | 135/231 [01:00<00:43,  2.19it/s]"
     ]
    },
    {
     "name": "stderr",
     "output_type": "stream",
     "text": [
      "\r",
      "Feature Extraction:  59%|█████▉    | 137/231 [01:00<00:29,  3.20it/s]"
     ]
    },
    {
     "name": "stderr",
     "output_type": "stream",
     "text": [
      "\r",
      "Feature Extraction:  61%|██████    | 141/231 [01:00<00:17,  5.02it/s]"
     ]
    },
    {
     "name": "stderr",
     "output_type": "stream",
     "text": [
      "\r",
      "Feature Extraction:  62%|██████▏   | 143/231 [01:00<00:14,  6.13it/s]"
     ]
    },
    {
     "name": "stderr",
     "output_type": "stream",
     "text": [
      "\r",
      "Feature Extraction:  63%|██████▎   | 145/231 [01:01<00:13,  6.55it/s]"
     ]
    },
    {
     "name": "stderr",
     "output_type": "stream",
     "text": [
      "\r",
      "Feature Extraction:  63%|██████▎   | 146/231 [01:01<00:14,  5.74it/s]"
     ]
    },
    {
     "name": "stderr",
     "output_type": "stream",
     "text": [
      "\r",
      "Feature Extraction:  64%|██████▍   | 148/231 [01:01<00:12,  6.80it/s]"
     ]
    },
    {
     "name": "stderr",
     "output_type": "stream",
     "text": [
      "\r",
      "Feature Extraction:  65%|██████▍   | 149/231 [01:01<00:12,  6.43it/s]"
     ]
    },
    {
     "name": "stderr",
     "output_type": "stream",
     "text": [
      "\r",
      "Feature Extraction:  65%|██████▍   | 150/231 [01:02<00:17,  4.51it/s]"
     ]
    },
    {
     "name": "stderr",
     "output_type": "stream",
     "text": [
      "\r",
      "Feature Extraction:  66%|██████▌   | 153/231 [01:02<00:10,  7.32it/s]"
     ]
    },
    {
     "name": "stderr",
     "output_type": "stream",
     "text": [
      "\r",
      "Feature Extraction:  67%|██████▋   | 155/231 [01:02<00:15,  5.04it/s]"
     ]
    },
    {
     "name": "stderr",
     "output_type": "stream",
     "text": [
      "\r",
      "Feature Extraction:  68%|██████▊   | 156/231 [01:03<00:20,  3.71it/s]"
     ]
    },
    {
     "name": "stderr",
     "output_type": "stream",
     "text": [
      "\r",
      "Feature Extraction:  68%|██████▊   | 157/231 [01:04<00:33,  2.20it/s]"
     ]
    },
    {
     "name": "stderr",
     "output_type": "stream",
     "text": [
      "\r",
      "Feature Extraction:  68%|██████▊   | 158/231 [01:05<00:41,  1.77it/s]"
     ]
    },
    {
     "name": "stderr",
     "output_type": "stream",
     "text": [
      "\r",
      "Feature Extraction:  69%|██████▉   | 159/231 [01:06<00:42,  1.70it/s]"
     ]
    },
    {
     "name": "stderr",
     "output_type": "stream",
     "text": [
      "\r",
      "Feature Extraction:  69%|██████▉   | 160/231 [01:07<00:48,  1.47it/s]"
     ]
    },
    {
     "name": "stderr",
     "output_type": "stream",
     "text": [
      "\r",
      "Feature Extraction:  70%|███████   | 162/231 [01:07<00:28,  2.40it/s]"
     ]
    },
    {
     "name": "stderr",
     "output_type": "stream",
     "text": [
      "\r",
      "Feature Extraction:  71%|███████   | 163/231 [01:07<00:25,  2.68it/s]"
     ]
    },
    {
     "name": "stderr",
     "output_type": "stream",
     "text": [
      "\r",
      "Feature Extraction:  71%|███████▏  | 165/231 [01:07<00:16,  3.91it/s]"
     ]
    },
    {
     "name": "stderr",
     "output_type": "stream",
     "text": [
      "\r",
      "Feature Extraction:  72%|███████▏  | 166/231 [01:09<00:42,  1.53it/s]"
     ]
    },
    {
     "name": "stderr",
     "output_type": "stream",
     "text": [
      "\r",
      "Feature Extraction:  72%|███████▏  | 167/231 [01:12<01:08,  1.07s/it]"
     ]
    },
    {
     "name": "stderr",
     "output_type": "stream",
     "text": [
      "\r",
      "Feature Extraction:  73%|███████▎  | 168/231 [01:12<00:53,  1.19it/s]"
     ]
    },
    {
     "name": "stderr",
     "output_type": "stream",
     "text": [
      "\r",
      "Feature Extraction:  74%|███████▎  | 170/231 [01:12<00:31,  1.96it/s]"
     ]
    },
    {
     "name": "stderr",
     "output_type": "stream",
     "text": [
      "\r",
      "Feature Extraction:  74%|███████▍  | 171/231 [01:12<00:27,  2.21it/s]"
     ]
    },
    {
     "name": "stderr",
     "output_type": "stream",
     "text": [
      "\r",
      "Feature Extraction:  74%|███████▍  | 172/231 [01:14<00:41,  1.43it/s]"
     ]
    },
    {
     "name": "stderr",
     "output_type": "stream",
     "text": [
      "\r",
      "Feature Extraction:  75%|███████▍  | 173/231 [01:15<00:43,  1.32it/s]"
     ]
    },
    {
     "name": "stderr",
     "output_type": "stream",
     "text": [
      "\r",
      "Feature Extraction:  75%|███████▌  | 174/231 [01:15<00:40,  1.39it/s]"
     ]
    },
    {
     "name": "stderr",
     "output_type": "stream",
     "text": [
      "\r",
      "Feature Extraction:  76%|███████▌  | 175/231 [01:17<00:52,  1.07it/s]"
     ]
    },
    {
     "name": "stderr",
     "output_type": "stream",
     "text": [
      "\r",
      "Feature Extraction:  77%|███████▋  | 177/231 [01:17<00:29,  1.84it/s]"
     ]
    },
    {
     "name": "stderr",
     "output_type": "stream",
     "text": [
      "\r",
      "Feature Extraction:  77%|███████▋  | 178/231 [01:17<00:23,  2.27it/s]"
     ]
    },
    {
     "name": "stderr",
     "output_type": "stream",
     "text": [
      "\r",
      "Feature Extraction:  77%|███████▋  | 179/231 [01:17<00:19,  2.61it/s]"
     ]
    },
    {
     "name": "stderr",
     "output_type": "stream",
     "text": [
      "\r",
      "Feature Extraction:  79%|███████▉  | 182/231 [01:18<00:12,  3.84it/s]"
     ]
    },
    {
     "name": "stderr",
     "output_type": "stream",
     "text": [
      "\r",
      "Feature Extraction:  79%|███████▉  | 183/231 [01:18<00:15,  3.04it/s]"
     ]
    },
    {
     "name": "stderr",
     "output_type": "stream",
     "text": [
      "\r",
      "Feature Extraction:  80%|████████  | 185/231 [01:19<00:15,  2.93it/s]"
     ]
    },
    {
     "name": "stderr",
     "output_type": "stream",
     "text": [
      "\r",
      "Feature Extraction:  81%|████████  | 187/231 [01:19<00:10,  4.11it/s]"
     ]
    },
    {
     "name": "stderr",
     "output_type": "stream",
     "text": [
      "\r",
      "Feature Extraction:  81%|████████▏ | 188/231 [01:19<00:11,  3.90it/s]"
     ]
    },
    {
     "name": "stderr",
     "output_type": "stream",
     "text": [
      "\r",
      "Feature Extraction:  83%|████████▎ | 191/231 [01:20<00:07,  5.14it/s]"
     ]
    },
    {
     "name": "stderr",
     "output_type": "stream",
     "text": [
      "\r",
      "Feature Extraction:  83%|████████▎ | 192/231 [01:20<00:07,  5.56it/s]"
     ]
    },
    {
     "name": "stderr",
     "output_type": "stream",
     "text": [
      "\r",
      "Feature Extraction:  84%|████████▎ | 193/231 [01:20<00:09,  4.18it/s]"
     ]
    },
    {
     "name": "stderr",
     "output_type": "stream",
     "text": [
      "\r",
      "Feature Extraction:  84%|████████▍ | 194/231 [01:21<00:09,  3.90it/s]"
     ]
    },
    {
     "name": "stderr",
     "output_type": "stream",
     "text": [
      "\r",
      "Feature Extraction:  84%|████████▍ | 195/231 [01:21<00:09,  3.76it/s]"
     ]
    },
    {
     "name": "stderr",
     "output_type": "stream",
     "text": [
      "\r",
      "Feature Extraction:  86%|████████▌ | 198/231 [01:22<00:09,  3.50it/s]"
     ]
    },
    {
     "name": "stderr",
     "output_type": "stream",
     "text": [
      "\r",
      "Feature Extraction:  86%|████████▌ | 199/231 [01:22<00:11,  2.89it/s]"
     ]
    },
    {
     "name": "stderr",
     "output_type": "stream",
     "text": [
      "\r",
      "Feature Extraction:  87%|████████▋ | 200/231 [01:24<00:18,  1.66it/s]"
     ]
    },
    {
     "name": "stderr",
     "output_type": "stream",
     "text": [
      "\r",
      "Feature Extraction:  88%|████████▊ | 203/231 [01:24<00:09,  3.06it/s]"
     ]
    },
    {
     "name": "stderr",
     "output_type": "stream",
     "text": [
      "\r",
      "Feature Extraction:  89%|████████▉ | 206/231 [01:24<00:05,  4.60it/s]"
     ]
    },
    {
     "name": "stderr",
     "output_type": "stream",
     "text": [
      "\r",
      "Feature Extraction:  90%|█████████ | 208/231 [01:25<00:05,  4.57it/s]"
     ]
    },
    {
     "name": "stderr",
     "output_type": "stream",
     "text": [
      "\r",
      "Feature Extraction:  91%|█████████▏| 211/231 [01:25<00:03,  6.56it/s]"
     ]
    },
    {
     "name": "stderr",
     "output_type": "stream",
     "text": [
      "\r",
      "Feature Extraction:  94%|█████████▍| 217/231 [01:25<00:01, 12.06it/s]"
     ]
    },
    {
     "name": "stderr",
     "output_type": "stream",
     "text": [
      "\r",
      "Feature Extraction:  96%|█████████▌| 221/231 [01:25<00:00, 15.65it/s]"
     ]
    },
    {
     "name": "stderr",
     "output_type": "stream",
     "text": [
      "\r",
      "Feature Extraction:  97%|█████████▋| 225/231 [01:25<00:00, 17.45it/s]"
     ]
    },
    {
     "name": "stderr",
     "output_type": "stream",
     "text": [
      "\r",
      "Feature Extraction:  99%|█████████▉| 229/231 [01:25<00:00, 18.61it/s]"
     ]
    },
    {
     "name": "stderr",
     "output_type": "stream",
     "text": [
      "\r",
      "Feature Extraction: 100%|██████████| 231/231 [01:26<00:00,  2.68it/s]"
     ]
    },
    {
     "name": "stderr",
     "output_type": "stream",
     "text": [
      "\n"
     ]
    },
    {
     "name": "stdout",
     "output_type": "stream",
     "text": [
      "let the ml starts\n"
     ]
    },
    {
     "name": "stdout",
     "output_type": "stream",
     "text": [
      "SVM-linear-scale-1\n",
      "              precision    recall  f1-score   support\n",
      "\n",
      "   malignant       1.00      1.00      1.00       750\n",
      "      benign       1.00      1.00      1.00       750\n",
      "\n",
      "    accuracy                           1.00      1500\n",
      "   macro avg       1.00      1.00      1.00      1500\n",
      "weighted avg       1.00      1.00      1.00      1500\n",
      "\n",
      "      fit_time  score_time  test_accuracy  test_precision_weighted  \\\n",
      "0  1003.052863    0.032914       1.000000                 1.000000   \n",
      "1  1049.031762    0.028967       1.000000                 1.000000   \n",
      "2  1055.039767    0.024207       1.000000                 1.000000   \n",
      "3   770.777917    0.027176       1.000000                 1.000000   \n",
      "4   757.794335    0.029932       0.998889                 0.998891   \n",
      "\n",
      "   test_recall_weighted  test_f1_weighted  test_roc_auc               model  \n",
      "0              1.000000          1.000000      1.000000  SVM-linear-scale-1  \n",
      "1              1.000000          1.000000      1.000000  SVM-linear-scale-1  \n",
      "2              1.000000          1.000000      1.000000  SVM-linear-scale-1  \n",
      "3              1.000000          1.000000      1.000000  SVM-linear-scale-1  \n",
      "4              0.998889          0.998889      0.999654  SVM-linear-scale-1  \n"
     ]
    },
    {
     "name": "stdout",
     "output_type": "stream",
     "text": [
      "SVM-poly-scale-1\n",
      "              precision    recall  f1-score   support\n",
      "\n",
      "   malignant       0.97      0.85      0.91       750\n",
      "      benign       0.87      0.97      0.92       750\n",
      "\n",
      "    accuracy                           0.91      1500\n",
      "   macro avg       0.92      0.91      0.91      1500\n",
      "weighted avg       0.92      0.91      0.91      1500\n",
      "\n",
      "      fit_time  score_time  test_accuracy  test_precision_weighted  \\\n",
      "0  1003.052863    0.032914       1.000000                 1.000000   \n",
      "1  1049.031762    0.028967       1.000000                 1.000000   \n",
      "2  1055.039767    0.024207       1.000000                 1.000000   \n",
      "3   770.777917    0.027176       1.000000                 1.000000   \n",
      "4   757.794335    0.029932       0.998889                 0.998891   \n",
      "5     0.439075    0.153161       0.906667                 0.913956   \n",
      "6     0.420500    0.148981       0.925556                 0.930219   \n",
      "7     0.414242    0.144691       0.918889                 0.923783   \n",
      "8     0.400191    0.149823       0.914444                 0.919035   \n",
      "9     0.411779    0.160028       0.910000                 0.914326   \n",
      "\n",
      "   test_recall_weighted  test_f1_weighted  test_roc_auc               model  \n",
      "0              1.000000          1.000000      1.000000  SVM-linear-scale-1  \n",
      "1              1.000000          1.000000      1.000000  SVM-linear-scale-1  \n",
      "2              1.000000          1.000000      1.000000  SVM-linear-scale-1  \n",
      "3              1.000000          1.000000      1.000000  SVM-linear-scale-1  \n",
      "4              0.998889          0.998889      0.999654  SVM-linear-scale-1  \n",
      "5              0.906667          0.906208      0.960319    SVM-poly-scale-1  \n",
      "6              0.925556          0.925335      0.975891    SVM-poly-scale-1  \n",
      "7              0.918889          0.918818      0.973324    SVM-poly-scale-1  \n",
      "8              0.914444          0.913969      0.966292    SVM-poly-scale-1  \n",
      "9              0.910000          0.909875      0.965440    SVM-poly-scale-1  \n"
     ]
    },
    {
     "name": "stdout",
     "output_type": "stream",
     "text": [
      "SVM-rbf-scale-1\n",
      "              precision    recall  f1-score   support\n",
      "\n",
      "   malignant       0.96      0.85      0.90       750\n",
      "      benign       0.86      0.96      0.91       750\n",
      "\n",
      "    accuracy                           0.90      1500\n",
      "   macro avg       0.91      0.90      0.90      1500\n",
      "weighted avg       0.91      0.90      0.90      1500\n",
      "\n",
      "       fit_time  score_time  test_accuracy  test_precision_weighted  \\\n",
      "0   1003.052863    0.032914       1.000000                 1.000000   \n",
      "1   1049.031762    0.028967       1.000000                 1.000000   \n",
      "2   1055.039767    0.024207       1.000000                 1.000000   \n",
      "3    770.777917    0.027176       1.000000                 1.000000   \n",
      "4    757.794335    0.029932       0.998889                 0.998891   \n",
      "5      0.439075    0.153161       0.906667                 0.913956   \n",
      "6      0.420500    0.148981       0.925556                 0.930219   \n",
      "7      0.414242    0.144691       0.918889                 0.923783   \n",
      "8      0.400191    0.149823       0.914444                 0.919035   \n",
      "9      0.411779    0.160028       0.910000                 0.914326   \n",
      "10     0.608729    0.427516       0.906667                 0.912106   \n",
      "11     0.656947    0.410234       0.926667                 0.929706   \n",
      "12     0.419568    0.331977       0.912222                 0.918811   \n",
      "13     0.424717    0.346963       0.916667                 0.919831   \n",
      "14     0.456192    0.378900       0.911111                 0.914896   \n",
      "\n",
      "    test_recall_weighted  test_f1_weighted  test_roc_auc               model  \n",
      "0               1.000000          1.000000      1.000000  SVM-linear-scale-1  \n",
      "1               1.000000          1.000000      1.000000  SVM-linear-scale-1  \n",
      "2               1.000000          1.000000      1.000000  SVM-linear-scale-1  \n",
      "3               1.000000          1.000000      1.000000  SVM-linear-scale-1  \n",
      "4               0.998889          0.998889      0.999654  SVM-linear-scale-1  \n",
      "5               0.906667          0.906208      0.960319    SVM-poly-scale-1  \n",
      "6               0.925556          0.925335      0.975891    SVM-poly-scale-1  \n",
      "7               0.918889          0.918818      0.973324    SVM-poly-scale-1  \n",
      "8               0.914444          0.913969      0.966292    SVM-poly-scale-1  \n",
      "9               0.910000          0.909875      0.965440    SVM-poly-scale-1  \n",
      "10              0.906667          0.906318      0.958946     SVM-rbf-scale-1  \n",
      "11              0.926667          0.926522      0.972118     SVM-rbf-scale-1  \n",
      "12              0.912222          0.912085      0.970377     SVM-rbf-scale-1  \n",
      "13              0.916667          0.916314      0.962244     SVM-rbf-scale-1  \n",
      "14              0.911111          0.911010      0.961176     SVM-rbf-scale-1  \n"
     ]
    },
    {
     "name": "stdout",
     "output_type": "stream",
     "text": [
      "SVM-sigmoid-scale-1\n",
      "              precision    recall  f1-score   support\n",
      "\n",
      "   malignant       0.38      0.37      0.37       750\n",
      "      benign       0.38      0.39      0.38       750\n",
      "\n",
      "    accuracy                           0.38      1500\n",
      "   macro avg       0.38      0.38      0.38      1500\n",
      "weighted avg       0.38      0.38      0.38      1500\n",
      "\n",
      "       fit_time  score_time  test_accuracy  test_precision_weighted  \\\n",
      "0   1003.052863    0.032914       1.000000                 1.000000   \n",
      "1   1049.031762    0.028967       1.000000                 1.000000   \n",
      "2   1055.039767    0.024207       1.000000                 1.000000   \n",
      "3    770.777917    0.027176       1.000000                 1.000000   \n",
      "4    757.794335    0.029932       0.998889                 0.998891   \n",
      "5      0.439075    0.153161       0.906667                 0.913956   \n",
      "6      0.420500    0.148981       0.925556                 0.930219   \n",
      "7      0.414242    0.144691       0.918889                 0.923783   \n",
      "8      0.400191    0.149823       0.914444                 0.919035   \n",
      "9      0.411779    0.160028       0.910000                 0.914326   \n",
      "10     0.608729    0.427516       0.906667                 0.912106   \n",
      "11     0.656947    0.410234       0.926667                 0.929706   \n",
      "12     0.419568    0.331977       0.912222                 0.918811   \n",
      "13     0.424717    0.346963       0.916667                 0.919831   \n",
      "14     0.456192    0.378900       0.911111                 0.914896   \n",
      "15     1.303927    0.512569       0.358889                 0.358921   \n",
      "16     1.300767    0.549669       0.358889                 0.358516   \n",
      "17     1.553468    0.468061       0.354444                 0.355343   \n",
      "18     1.035441    0.443121       0.331111                 0.332524   \n",
      "19     1.033849    0.457550       0.373333                 0.373531   \n",
      "\n",
      "    test_recall_weighted  test_f1_weighted  test_roc_auc                model  \n",
      "0               1.000000          1.000000      1.000000   SVM-linear-scale-1  \n",
      "1               1.000000          1.000000      1.000000   SVM-linear-scale-1  \n",
      "2               1.000000          1.000000      1.000000   SVM-linear-scale-1  \n",
      "3               1.000000          1.000000      1.000000   SVM-linear-scale-1  \n",
      "4               0.998889          0.998889      0.999654   SVM-linear-scale-1  \n",
      "5               0.906667          0.906208      0.960319     SVM-poly-scale-1  \n",
      "6               0.925556          0.925335      0.975891     SVM-poly-scale-1  \n",
      "7               0.918889          0.918818      0.973324     SVM-poly-scale-1  \n",
      "8               0.914444          0.913969      0.966292     SVM-poly-scale-1  \n",
      "9               0.910000          0.909875      0.965440     SVM-poly-scale-1  \n",
      "10              0.906667          0.906318      0.958946      SVM-rbf-scale-1  \n",
      "11              0.926667          0.926522      0.972118      SVM-rbf-scale-1  \n",
      "12              0.912222          0.912085      0.970377      SVM-rbf-scale-1  \n",
      "13              0.916667          0.916314      0.962244      SVM-rbf-scale-1  \n",
      "14              0.911111          0.911010      0.961176      SVM-rbf-scale-1  \n",
      "15              0.358889          0.358883      0.330173  SVM-sigmoid-scale-1  \n",
      "16              0.358889          0.358543      0.306446  SVM-sigmoid-scale-1  \n",
      "17              0.354444          0.354227      0.311851  SVM-sigmoid-scale-1  \n",
      "18              0.331111          0.330873      0.298388  SVM-sigmoid-scale-1  \n",
      "19              0.373333          0.372618      0.320247  SVM-sigmoid-scale-1  \n"
     ]
    },
    {
     "name": "stdout",
     "output_type": "stream",
     "text": [
      "SVM-linear-auto-1\n",
      "              precision    recall  f1-score   support\n",
      "\n",
      "   malignant       1.00      1.00      1.00       750\n",
      "      benign       1.00      1.00      1.00       750\n",
      "\n",
      "    accuracy                           1.00      1500\n",
      "   macro avg       1.00      1.00      1.00      1500\n",
      "weighted avg       1.00      1.00      1.00      1500\n",
      "\n",
      "       fit_time  score_time  test_accuracy  test_precision_weighted  \\\n",
      "0   1003.052863    0.032914       1.000000                 1.000000   \n",
      "1   1049.031762    0.028967       1.000000                 1.000000   \n",
      "2   1055.039767    0.024207       1.000000                 1.000000   \n",
      "3    770.777917    0.027176       1.000000                 1.000000   \n",
      "4    757.794335    0.029932       0.998889                 0.998891   \n",
      "5      0.439075    0.153161       0.906667                 0.913956   \n",
      "6      0.420500    0.148981       0.925556                 0.930219   \n",
      "7      0.414242    0.144691       0.918889                 0.923783   \n",
      "8      0.400191    0.149823       0.914444                 0.919035   \n",
      "9      0.411779    0.160028       0.910000                 0.914326   \n",
      "10     0.608729    0.427516       0.906667                 0.912106   \n",
      "11     0.656947    0.410234       0.926667                 0.929706   \n",
      "12     0.419568    0.331977       0.912222                 0.918811   \n",
      "13     0.424717    0.346963       0.916667                 0.919831   \n",
      "14     0.456192    0.378900       0.911111                 0.914896   \n",
      "15     1.303927    0.512569       0.358889                 0.358921   \n",
      "16     1.300767    0.549669       0.358889                 0.358516   \n",
      "17     1.553468    0.468061       0.354444                 0.355343   \n",
      "18     1.035441    0.443121       0.331111                 0.332524   \n",
      "19     1.033849    0.457550       0.373333                 0.373531   \n",
      "20   999.042290    0.027347       1.000000                 1.000000   \n",
      "21  1052.912848    0.024046       1.000000                 1.000000   \n",
      "22  1047.885302    0.026514       1.000000                 1.000000   \n",
      "23   771.028062    0.027212       1.000000                 1.000000   \n",
      "24   759.060440    0.026412       0.998889                 0.998891   \n",
      "\n",
      "    test_recall_weighted  test_f1_weighted  test_roc_auc                model  \n",
      "0               1.000000          1.000000      1.000000   SVM-linear-scale-1  \n",
      "1               1.000000          1.000000      1.000000   SVM-linear-scale-1  \n",
      "2               1.000000          1.000000      1.000000   SVM-linear-scale-1  \n",
      "3               1.000000          1.000000      1.000000   SVM-linear-scale-1  \n",
      "4               0.998889          0.998889      0.999654   SVM-linear-scale-1  \n",
      "5               0.906667          0.906208      0.960319     SVM-poly-scale-1  \n",
      "6               0.925556          0.925335      0.975891     SVM-poly-scale-1  \n",
      "7               0.918889          0.918818      0.973324     SVM-poly-scale-1  \n",
      "8               0.914444          0.913969      0.966292     SVM-poly-scale-1  \n",
      "9               0.910000          0.909875      0.965440     SVM-poly-scale-1  \n",
      "10              0.906667          0.906318      0.958946      SVM-rbf-scale-1  \n",
      "11              0.926667          0.926522      0.972118      SVM-rbf-scale-1  \n",
      "12              0.912222          0.912085      0.970377      SVM-rbf-scale-1  \n",
      "13              0.916667          0.916314      0.962244      SVM-rbf-scale-1  \n",
      "14              0.911111          0.911010      0.961176      SVM-rbf-scale-1  \n",
      "15              0.358889          0.358883      0.330173  SVM-sigmoid-scale-1  \n",
      "16              0.358889          0.358543      0.306446  SVM-sigmoid-scale-1  \n",
      "17              0.354444          0.354227      0.311851  SVM-sigmoid-scale-1  \n",
      "18              0.331111          0.330873      0.298388  SVM-sigmoid-scale-1  \n",
      "19              0.373333          0.372618      0.320247  SVM-sigmoid-scale-1  \n",
      "20              1.000000          1.000000      1.000000    SVM-linear-auto-1  \n",
      "21              1.000000          1.000000      1.000000    SVM-linear-auto-1  \n",
      "22              1.000000          1.000000      1.000000    SVM-linear-auto-1  \n",
      "23              1.000000          1.000000      1.000000    SVM-linear-auto-1  \n",
      "24              0.998889          0.998889      0.999654    SVM-linear-auto-1  \n"
     ]
    },
    {
     "name": "stdout",
     "output_type": "stream",
     "text": [
      "SVM-poly-auto-1\n",
      "              precision    recall  f1-score   support\n",
      "\n",
      "   malignant       0.94      0.94      0.94       750\n",
      "      benign       0.94      0.94      0.94       750\n",
      "\n",
      "    accuracy                           0.94      1500\n",
      "   macro avg       0.94      0.94      0.94      1500\n",
      "weighted avg       0.94      0.94      0.94      1500\n",
      "\n",
      "       fit_time  score_time  test_accuracy  test_precision_weighted  \\\n",
      "0   1003.052863    0.032914       1.000000                 1.000000   \n",
      "1   1049.031762    0.028967       1.000000                 1.000000   \n",
      "2   1055.039767    0.024207       1.000000                 1.000000   \n",
      "3    770.777917    0.027176       1.000000                 1.000000   \n",
      "4    757.794335    0.029932       0.998889                 0.998891   \n",
      "5      0.439075    0.153161       0.906667                 0.913956   \n",
      "6      0.420500    0.148981       0.925556                 0.930219   \n",
      "7      0.414242    0.144691       0.918889                 0.923783   \n",
      "8      0.400191    0.149823       0.914444                 0.919035   \n",
      "9      0.411779    0.160028       0.910000                 0.914326   \n",
      "10     0.608729    0.427516       0.906667                 0.912106   \n",
      "11     0.656947    0.410234       0.926667                 0.929706   \n",
      "12     0.419568    0.331977       0.912222                 0.918811   \n",
      "13     0.424717    0.346963       0.916667                 0.919831   \n",
      "14     0.456192    0.378900       0.911111                 0.914896   \n",
      "15     1.303927    0.512569       0.358889                 0.358921   \n",
      "16     1.300767    0.549669       0.358889                 0.358516   \n",
      "17     1.553468    0.468061       0.354444                 0.355343   \n",
      "18     1.035441    0.443121       0.331111                 0.332524   \n",
      "19     1.033849    0.457550       0.373333                 0.373531   \n",
      "20   999.042290    0.027347       1.000000                 1.000000   \n",
      "21  1052.912848    0.024046       1.000000                 1.000000   \n",
      "22  1047.885302    0.026514       1.000000                 1.000000   \n",
      "23   771.028062    0.027212       1.000000                 1.000000   \n",
      "24   759.060440    0.026412       0.998889                 0.998891   \n",
      "25     0.482744    0.059834       0.936667                 0.937139   \n",
      "26     0.579217    0.068668       0.940000                 0.940418   \n",
      "27     0.551337    0.067898       0.938889                 0.939029   \n",
      "28     0.556673    0.070163       0.943333                 0.943341   \n",
      "29     0.523210    0.065142       0.946667                 0.946914   \n",
      "\n",
      "    test_recall_weighted  test_f1_weighted  test_roc_auc                model  \n",
      "0               1.000000          1.000000      1.000000   SVM-linear-scale-1  \n",
      "1               1.000000          1.000000      1.000000   SVM-linear-scale-1  \n",
      "2               1.000000          1.000000      1.000000   SVM-linear-scale-1  \n",
      "3               1.000000          1.000000      1.000000   SVM-linear-scale-1  \n",
      "4               0.998889          0.998889      0.999654   SVM-linear-scale-1  \n",
      "5               0.906667          0.906208      0.960319     SVM-poly-scale-1  \n",
      "6               0.925556          0.925335      0.975891     SVM-poly-scale-1  \n",
      "7               0.918889          0.918818      0.973324     SVM-poly-scale-1  \n",
      "8               0.914444          0.913969      0.966292     SVM-poly-scale-1  \n",
      "9               0.910000          0.909875      0.965440     SVM-poly-scale-1  \n",
      "10              0.906667          0.906318      0.958946      SVM-rbf-scale-1  \n",
      "11              0.926667          0.926522      0.972118      SVM-rbf-scale-1  \n",
      "12              0.912222          0.912085      0.970377      SVM-rbf-scale-1  \n",
      "13              0.916667          0.916314      0.962244      SVM-rbf-scale-1  \n",
      "14              0.911111          0.911010      0.961176      SVM-rbf-scale-1  \n",
      "15              0.358889          0.358883      0.330173  SVM-sigmoid-scale-1  \n",
      "16              0.358889          0.358543      0.306446  SVM-sigmoid-scale-1  \n",
      "17              0.354444          0.354227      0.311851  SVM-sigmoid-scale-1  \n",
      "18              0.331111          0.330873      0.298388  SVM-sigmoid-scale-1  \n",
      "19              0.373333          0.372618      0.320247  SVM-sigmoid-scale-1  \n",
      "20              1.000000          1.000000      1.000000    SVM-linear-auto-1  \n",
      "21              1.000000          1.000000      1.000000    SVM-linear-auto-1  \n",
      "22              1.000000          1.000000      1.000000    SVM-linear-auto-1  \n",
      "23              1.000000          1.000000      1.000000    SVM-linear-auto-1  \n",
      "24              0.998889          0.998889      0.999654    SVM-linear-auto-1  \n",
      "25              0.936667          0.936642      0.974740      SVM-poly-auto-1  \n",
      "26              0.940000          0.939981      0.982582      SVM-poly-auto-1  \n",
      "27              0.938889          0.938902      0.982887      SVM-poly-auto-1  \n",
      "28              0.943333          0.943336      0.976210      SVM-poly-auto-1  \n",
      "29              0.946667          0.946673      0.970524      SVM-poly-auto-1  \n"
     ]
    },
    {
     "name": "stdout",
     "output_type": "stream",
     "text": [
      "SVM-rbf-auto-1\n",
      "              precision    recall  f1-score   support\n",
      "\n",
      "   malignant       0.63      1.00      0.77       750\n",
      "      benign       1.00      0.41      0.58       750\n",
      "\n",
      "    accuracy                           0.70      1500\n",
      "   macro avg       0.81      0.70      0.68      1500\n",
      "weighted avg       0.81      0.70      0.68      1500\n",
      "\n",
      "       fit_time  score_time  test_accuracy  test_precision_weighted  \\\n",
      "0   1003.052863    0.032914       1.000000                 1.000000   \n",
      "1   1049.031762    0.028967       1.000000                 1.000000   \n",
      "2   1055.039767    0.024207       1.000000                 1.000000   \n",
      "3    770.777917    0.027176       1.000000                 1.000000   \n",
      "4    757.794335    0.029932       0.998889                 0.998891   \n",
      "5      0.439075    0.153161       0.906667                 0.913956   \n",
      "6      0.420500    0.148981       0.925556                 0.930219   \n",
      "7      0.414242    0.144691       0.918889                 0.923783   \n",
      "8      0.400191    0.149823       0.914444                 0.919035   \n",
      "9      0.411779    0.160028       0.910000                 0.914326   \n",
      "10     0.608729    0.427516       0.906667                 0.912106   \n",
      "11     0.656947    0.410234       0.926667                 0.929706   \n",
      "12     0.419568    0.331977       0.912222                 0.918811   \n",
      "13     0.424717    0.346963       0.916667                 0.919831   \n",
      "14     0.456192    0.378900       0.911111                 0.914896   \n",
      "15     1.303927    0.512569       0.358889                 0.358921   \n",
      "16     1.300767    0.549669       0.358889                 0.358516   \n",
      "17     1.553468    0.468061       0.354444                 0.355343   \n",
      "18     1.035441    0.443121       0.331111                 0.332524   \n",
      "19     1.033849    0.457550       0.373333                 0.373531   \n",
      "20   999.042290    0.027347       1.000000                 1.000000   \n",
      "21  1052.912848    0.024046       1.000000                 1.000000   \n",
      "22  1047.885302    0.026514       1.000000                 1.000000   \n",
      "23   771.028062    0.027212       1.000000                 1.000000   \n",
      "24   759.060440    0.026412       0.998889                 0.998891   \n",
      "25     0.482744    0.059834       0.936667                 0.937139   \n",
      "26     0.579217    0.068668       0.940000                 0.940418   \n",
      "27     0.551337    0.067898       0.938889                 0.939029   \n",
      "28     0.556673    0.070163       0.943333                 0.943341   \n",
      "29     0.523210    0.065142       0.946667                 0.946914   \n",
      "30     1.021372    0.856182       0.694444                 0.810826   \n",
      "31     1.002200    0.876157       0.675556                 0.803580   \n",
      "32     1.089070    0.885032       0.680000                 0.802228   \n",
      "33     1.086176    1.104050       0.675556                 0.806953   \n",
      "34     1.257724    0.937007       0.704444                 0.812733   \n",
      "\n",
      "    test_recall_weighted  test_f1_weighted  test_roc_auc                model  \n",
      "0               1.000000          1.000000      1.000000   SVM-linear-scale-1  \n",
      "1               1.000000          1.000000      1.000000   SVM-linear-scale-1  \n",
      "2               1.000000          1.000000      1.000000   SVM-linear-scale-1  \n",
      "3               1.000000          1.000000      1.000000   SVM-linear-scale-1  \n",
      "4               0.998889          0.998889      0.999654   SVM-linear-scale-1  \n",
      "5               0.906667          0.906208      0.960319     SVM-poly-scale-1  \n",
      "6               0.925556          0.925335      0.975891     SVM-poly-scale-1  \n",
      "7               0.918889          0.918818      0.973324     SVM-poly-scale-1  \n",
      "8               0.914444          0.913969      0.966292     SVM-poly-scale-1  \n",
      "9               0.910000          0.909875      0.965440     SVM-poly-scale-1  \n",
      "10              0.906667          0.906318      0.958946      SVM-rbf-scale-1  \n",
      "11              0.926667          0.926522      0.972118      SVM-rbf-scale-1  \n",
      "12              0.912222          0.912085      0.970377      SVM-rbf-scale-1  \n",
      "13              0.916667          0.916314      0.962244      SVM-rbf-scale-1  \n",
      "14              0.911111          0.911010      0.961176      SVM-rbf-scale-1  \n",
      "15              0.358889          0.358883      0.330173  SVM-sigmoid-scale-1  \n",
      "16              0.358889          0.358543      0.306446  SVM-sigmoid-scale-1  \n",
      "17              0.354444          0.354227      0.311851  SVM-sigmoid-scale-1  \n",
      "18              0.331111          0.330873      0.298388  SVM-sigmoid-scale-1  \n",
      "19              0.373333          0.372618      0.320247  SVM-sigmoid-scale-1  \n",
      "20              1.000000          1.000000      1.000000    SVM-linear-auto-1  \n",
      "21              1.000000          1.000000      1.000000    SVM-linear-auto-1  \n",
      "22              1.000000          1.000000      1.000000    SVM-linear-auto-1  \n",
      "23              1.000000          1.000000      1.000000    SVM-linear-auto-1  \n",
      "24              0.998889          0.998889      0.999654    SVM-linear-auto-1  \n",
      "25              0.936667          0.936642      0.974740      SVM-poly-auto-1  \n",
      "26              0.940000          0.939981      0.982582      SVM-poly-auto-1  \n",
      "27              0.938889          0.938902      0.982887      SVM-poly-auto-1  \n",
      "28              0.943333          0.943336      0.976210      SVM-poly-auto-1  \n",
      "29              0.946667          0.946673      0.970524      SVM-poly-auto-1  \n",
      "30              0.694444          0.663801      0.783990       SVM-rbf-auto-1  \n",
      "31              0.675556          0.638028      0.765748       SVM-rbf-auto-1  \n",
      "32              0.680000          0.638322      0.767321       SVM-rbf-auto-1  \n",
      "33              0.675556          0.643871      0.772059       SVM-rbf-auto-1  \n",
      "34              0.704444          0.673568      0.772228       SVM-rbf-auto-1  \n"
     ]
    },
    {
     "name": "stdout",
     "output_type": "stream",
     "text": [
      "SVM-sigmoid-auto-1\n",
      "              precision    recall  f1-score   support\n",
      "\n",
      "   malignant       0.00      0.00      0.00       750\n",
      "      benign       0.50      1.00      0.67       750\n",
      "\n",
      "    accuracy                           0.50      1500\n",
      "   macro avg       0.25      0.50      0.33      1500\n",
      "weighted avg       0.25      0.50      0.33      1500\n",
      "\n",
      "       fit_time  score_time  test_accuracy  test_precision_weighted  \\\n",
      "0   1003.052863    0.032914       1.000000                 1.000000   \n",
      "1   1049.031762    0.028967       1.000000                 1.000000   \n",
      "2   1055.039767    0.024207       1.000000                 1.000000   \n",
      "3    770.777917    0.027176       1.000000                 1.000000   \n",
      "4    757.794335    0.029932       0.998889                 0.998891   \n",
      "5      0.439075    0.153161       0.906667                 0.913956   \n",
      "6      0.420500    0.148981       0.925556                 0.930219   \n",
      "7      0.414242    0.144691       0.918889                 0.923783   \n",
      "8      0.400191    0.149823       0.914444                 0.919035   \n",
      "9      0.411779    0.160028       0.910000                 0.914326   \n",
      "10     0.608729    0.427516       0.906667                 0.912106   \n",
      "11     0.656947    0.410234       0.926667                 0.929706   \n",
      "12     0.419568    0.331977       0.912222                 0.918811   \n",
      "13     0.424717    0.346963       0.916667                 0.919831   \n",
      "14     0.456192    0.378900       0.911111                 0.914896   \n",
      "15     1.303927    0.512569       0.358889                 0.358921   \n",
      "16     1.300767    0.549669       0.358889                 0.358516   \n",
      "17     1.553468    0.468061       0.354444                 0.355343   \n",
      "18     1.035441    0.443121       0.331111                 0.332524   \n",
      "19     1.033849    0.457550       0.373333                 0.373531   \n",
      "20   999.042290    0.027347       1.000000                 1.000000   \n",
      "21  1052.912848    0.024046       1.000000                 1.000000   \n",
      "22  1047.885302    0.026514       1.000000                 1.000000   \n",
      "23   771.028062    0.027212       1.000000                 1.000000   \n",
      "24   759.060440    0.026412       0.998889                 0.998891   \n",
      "25     0.482744    0.059834       0.936667                 0.937139   \n",
      "26     0.579217    0.068668       0.940000                 0.940418   \n",
      "27     0.551337    0.067898       0.938889                 0.939029   \n",
      "28     0.556673    0.070163       0.943333                 0.943341   \n",
      "29     0.523210    0.065142       0.946667                 0.946914   \n",
      "30     1.021372    0.856182       0.694444                 0.810826   \n",
      "31     1.002200    0.876157       0.675556                 0.803580   \n",
      "32     1.089070    0.885032       0.680000                 0.802228   \n",
      "33     1.086176    1.104050       0.675556                 0.806953   \n",
      "34     1.257724    0.937007       0.704444                 0.812733   \n",
      "35     1.171550    0.509211       0.496667                 0.246678   \n",
      "36     1.211426    0.509166       0.497778                 0.247783   \n",
      "37     1.349076    0.546890       0.482222                 0.232538   \n",
      "38     1.373702    0.435450       0.476667                 0.227211   \n",
      "39     1.017186    0.430710       0.488889                 0.239012   \n",
      "\n",
      "    test_recall_weighted  test_f1_weighted  test_roc_auc                model  \n",
      "0               1.000000          1.000000      1.000000   SVM-linear-scale-1  \n",
      "1               1.000000          1.000000      1.000000   SVM-linear-scale-1  \n",
      "2               1.000000          1.000000      1.000000   SVM-linear-scale-1  \n",
      "3               1.000000          1.000000      1.000000   SVM-linear-scale-1  \n",
      "4               0.998889          0.998889      0.999654   SVM-linear-scale-1  \n",
      "5               0.906667          0.906208      0.960319     SVM-poly-scale-1  \n",
      "6               0.925556          0.925335      0.975891     SVM-poly-scale-1  \n",
      "7               0.918889          0.918818      0.973324     SVM-poly-scale-1  \n",
      "8               0.914444          0.913969      0.966292     SVM-poly-scale-1  \n",
      "9               0.910000          0.909875      0.965440     SVM-poly-scale-1  \n",
      "10              0.906667          0.906318      0.958946      SVM-rbf-scale-1  \n",
      "11              0.926667          0.926522      0.972118      SVM-rbf-scale-1  \n",
      "12              0.912222          0.912085      0.970377      SVM-rbf-scale-1  \n",
      "13              0.916667          0.916314      0.962244      SVM-rbf-scale-1  \n",
      "14              0.911111          0.911010      0.961176      SVM-rbf-scale-1  \n",
      "15              0.358889          0.358883      0.330173  SVM-sigmoid-scale-1  \n",
      "16              0.358889          0.358543      0.306446  SVM-sigmoid-scale-1  \n",
      "17              0.354444          0.354227      0.311851  SVM-sigmoid-scale-1  \n",
      "18              0.331111          0.330873      0.298388  SVM-sigmoid-scale-1  \n",
      "19              0.373333          0.372618      0.320247  SVM-sigmoid-scale-1  \n",
      "20              1.000000          1.000000      1.000000    SVM-linear-auto-1  \n",
      "21              1.000000          1.000000      1.000000    SVM-linear-auto-1  \n",
      "22              1.000000          1.000000      1.000000    SVM-linear-auto-1  \n",
      "23              1.000000          1.000000      1.000000    SVM-linear-auto-1  \n",
      "24              0.998889          0.998889      0.999654    SVM-linear-auto-1  \n",
      "25              0.936667          0.936642      0.974740      SVM-poly-auto-1  \n",
      "26              0.940000          0.939981      0.982582      SVM-poly-auto-1  \n",
      "27              0.938889          0.938902      0.982887      SVM-poly-auto-1  \n",
      "28              0.943333          0.943336      0.976210      SVM-poly-auto-1  \n",
      "29              0.946667          0.946673      0.970524      SVM-poly-auto-1  \n",
      "30              0.694444          0.663801      0.783990       SVM-rbf-auto-1  \n",
      "31              0.675556          0.638028      0.765748       SVM-rbf-auto-1  \n",
      "32              0.680000          0.638322      0.767321       SVM-rbf-auto-1  \n",
      "33              0.675556          0.643871      0.772059       SVM-rbf-auto-1  \n",
      "34              0.704444          0.673568      0.772228       SVM-rbf-auto-1  \n",
      "35              0.496667          0.329636      0.500000   SVM-sigmoid-auto-1  \n",
      "36              0.497778          0.330867      0.500000   SVM-sigmoid-auto-1  \n",
      "37              0.482222          0.313770      0.500000   SVM-sigmoid-auto-1  \n",
      "38              0.476667          0.307735      0.500000   SVM-sigmoid-auto-1  \n",
      "39              0.488889          0.321061      0.500000   SVM-sigmoid-auto-1  \n"
     ]
    },
    {
     "name": "stdout",
     "output_type": "stream",
     "text": [
      "SVM-linear-scale-2\n",
      "              precision    recall  f1-score   support\n",
      "\n",
      "   malignant       1.00      1.00      1.00       750\n",
      "      benign       1.00      1.00      1.00       750\n",
      "\n",
      "    accuracy                           1.00      1500\n",
      "   macro avg       1.00      1.00      1.00      1500\n",
      "weighted avg       1.00      1.00      1.00      1500\n",
      "\n",
      "       fit_time  score_time  test_accuracy  test_precision_weighted  \\\n",
      "0   1003.052863    0.032914       1.000000                 1.000000   \n",
      "1   1049.031762    0.028967       1.000000                 1.000000   \n",
      "2   1055.039767    0.024207       1.000000                 1.000000   \n",
      "3    770.777917    0.027176       1.000000                 1.000000   \n",
      "4    757.794335    0.029932       0.998889                 0.998891   \n",
      "5      0.439075    0.153161       0.906667                 0.913956   \n",
      "6      0.420500    0.148981       0.925556                 0.930219   \n",
      "7      0.414242    0.144691       0.918889                 0.923783   \n",
      "8      0.400191    0.149823       0.914444                 0.919035   \n",
      "9      0.411779    0.160028       0.910000                 0.914326   \n",
      "10     0.608729    0.427516       0.906667                 0.912106   \n",
      "11     0.656947    0.410234       0.926667                 0.929706   \n",
      "12     0.419568    0.331977       0.912222                 0.918811   \n",
      "13     0.424717    0.346963       0.916667                 0.919831   \n",
      "14     0.456192    0.378900       0.911111                 0.914896   \n",
      "15     1.303927    0.512569       0.358889                 0.358921   \n",
      "16     1.300767    0.549669       0.358889                 0.358516   \n",
      "17     1.553468    0.468061       0.354444                 0.355343   \n",
      "18     1.035441    0.443121       0.331111                 0.332524   \n",
      "19     1.033849    0.457550       0.373333                 0.373531   \n",
      "20   999.042290    0.027347       1.000000                 1.000000   \n",
      "21  1052.912848    0.024046       1.000000                 1.000000   \n",
      "22  1047.885302    0.026514       1.000000                 1.000000   \n",
      "23   771.028062    0.027212       1.000000                 1.000000   \n",
      "24   759.060440    0.026412       0.998889                 0.998891   \n",
      "25     0.482744    0.059834       0.936667                 0.937139   \n",
      "26     0.579217    0.068668       0.940000                 0.940418   \n",
      "27     0.551337    0.067898       0.938889                 0.939029   \n",
      "28     0.556673    0.070163       0.943333                 0.943341   \n",
      "29     0.523210    0.065142       0.946667                 0.946914   \n",
      "30     1.021372    0.856182       0.694444                 0.810826   \n",
      "31     1.002200    0.876157       0.675556                 0.803580   \n",
      "32     1.089070    0.885032       0.680000                 0.802228   \n",
      "33     1.086176    1.104050       0.675556                 0.806953   \n",
      "34     1.257724    0.937007       0.704444                 0.812733   \n",
      "35     1.171550    0.509211       0.496667                 0.246678   \n",
      "36     1.211426    0.509166       0.497778                 0.247783   \n",
      "37     1.349076    0.546890       0.482222                 0.232538   \n",
      "38     1.373702    0.435450       0.476667                 0.227211   \n",
      "39     1.017186    0.430710       0.488889                 0.239012   \n",
      "40   996.090422    0.027421       1.000000                 1.000000   \n",
      "41  1051.049923    0.026052       1.000000                 1.000000   \n",
      "42  1055.261549    0.027596       1.000000                 1.000000   \n",
      "43   770.210176    0.027110       1.000000                 1.000000   \n",
      "44   759.189152    0.027408       0.998889                 0.998891   \n",
      "\n",
      "    test_recall_weighted  test_f1_weighted  test_roc_auc                model  \n",
      "0               1.000000          1.000000      1.000000   SVM-linear-scale-1  \n",
      "1               1.000000          1.000000      1.000000   SVM-linear-scale-1  \n",
      "2               1.000000          1.000000      1.000000   SVM-linear-scale-1  \n",
      "3               1.000000          1.000000      1.000000   SVM-linear-scale-1  \n",
      "4               0.998889          0.998889      0.999654   SVM-linear-scale-1  \n",
      "5               0.906667          0.906208      0.960319     SVM-poly-scale-1  \n",
      "6               0.925556          0.925335      0.975891     SVM-poly-scale-1  \n",
      "7               0.918889          0.918818      0.973324     SVM-poly-scale-1  \n",
      "8               0.914444          0.913969      0.966292     SVM-poly-scale-1  \n",
      "9               0.910000          0.909875      0.965440     SVM-poly-scale-1  \n",
      "10              0.906667          0.906318      0.958946      SVM-rbf-scale-1  \n",
      "11              0.926667          0.926522      0.972118      SVM-rbf-scale-1  \n",
      "12              0.912222          0.912085      0.970377      SVM-rbf-scale-1  \n",
      "13              0.916667          0.916314      0.962244      SVM-rbf-scale-1  \n",
      "14              0.911111          0.911010      0.961176      SVM-rbf-scale-1  \n",
      "15              0.358889          0.358883      0.330173  SVM-sigmoid-scale-1  \n",
      "16              0.358889          0.358543      0.306446  SVM-sigmoid-scale-1  \n",
      "17              0.354444          0.354227      0.311851  SVM-sigmoid-scale-1  \n",
      "18              0.331111          0.330873      0.298388  SVM-sigmoid-scale-1  \n",
      "19              0.373333          0.372618      0.320247  SVM-sigmoid-scale-1  \n",
      "20              1.000000          1.000000      1.000000    SVM-linear-auto-1  \n",
      "21              1.000000          1.000000      1.000000    SVM-linear-auto-1  \n",
      "22              1.000000          1.000000      1.000000    SVM-linear-auto-1  \n",
      "23              1.000000          1.000000      1.000000    SVM-linear-auto-1  \n",
      "24              0.998889          0.998889      0.999654    SVM-linear-auto-1  \n",
      "25              0.936667          0.936642      0.974740      SVM-poly-auto-1  \n",
      "26              0.940000          0.939981      0.982582      SVM-poly-auto-1  \n",
      "27              0.938889          0.938902      0.982887      SVM-poly-auto-1  \n",
      "28              0.943333          0.943336      0.976210      SVM-poly-auto-1  \n",
      "29              0.946667          0.946673      0.970524      SVM-poly-auto-1  \n",
      "30              0.694444          0.663801      0.783990       SVM-rbf-auto-1  \n",
      "31              0.675556          0.638028      0.765748       SVM-rbf-auto-1  \n",
      "32              0.680000          0.638322      0.767321       SVM-rbf-auto-1  \n",
      "33              0.675556          0.643871      0.772059       SVM-rbf-auto-1  \n",
      "34              0.704444          0.673568      0.772228       SVM-rbf-auto-1  \n",
      "35              0.496667          0.329636      0.500000   SVM-sigmoid-auto-1  \n",
      "36              0.497778          0.330867      0.500000   SVM-sigmoid-auto-1  \n",
      "37              0.482222          0.313770      0.500000   SVM-sigmoid-auto-1  \n",
      "38              0.476667          0.307735      0.500000   SVM-sigmoid-auto-1  \n",
      "39              0.488889          0.321061      0.500000   SVM-sigmoid-auto-1  \n",
      "40              1.000000          1.000000      1.000000   SVM-linear-scale-2  \n",
      "41              1.000000          1.000000      1.000000   SVM-linear-scale-2  \n",
      "42              1.000000          1.000000      1.000000   SVM-linear-scale-2  \n",
      "43              1.000000          1.000000      1.000000   SVM-linear-scale-2  \n",
      "44              0.998889          0.998889      0.999654   SVM-linear-scale-2  \n"
     ]
    },
    {
     "name": "stdout",
     "output_type": "stream",
     "text": [
      "SVM-poly-scale-2\n",
      "              precision    recall  f1-score   support\n",
      "\n",
      "   malignant       0.97      0.88      0.92       750\n",
      "      benign       0.89      0.97      0.93       750\n",
      "\n",
      "    accuracy                           0.93      1500\n",
      "   macro avg       0.93      0.93      0.93      1500\n",
      "weighted avg       0.93      0.93      0.93      1500\n",
      "\n",
      "       fit_time  score_time  test_accuracy  test_precision_weighted  \\\n",
      "0   1003.052863    0.032914       1.000000                 1.000000   \n",
      "1   1049.031762    0.028967       1.000000                 1.000000   \n",
      "2   1055.039767    0.024207       1.000000                 1.000000   \n",
      "3    770.777917    0.027176       1.000000                 1.000000   \n",
      "4    757.794335    0.029932       0.998889                 0.998891   \n",
      "5      0.439075    0.153161       0.906667                 0.913956   \n",
      "6      0.420500    0.148981       0.925556                 0.930219   \n",
      "7      0.414242    0.144691       0.918889                 0.923783   \n",
      "8      0.400191    0.149823       0.914444                 0.919035   \n",
      "9      0.411779    0.160028       0.910000                 0.914326   \n",
      "10     0.608729    0.427516       0.906667                 0.912106   \n",
      "11     0.656947    0.410234       0.926667                 0.929706   \n",
      "12     0.419568    0.331977       0.912222                 0.918811   \n",
      "13     0.424717    0.346963       0.916667                 0.919831   \n",
      "14     0.456192    0.378900       0.911111                 0.914896   \n",
      "15     1.303927    0.512569       0.358889                 0.358921   \n",
      "16     1.300767    0.549669       0.358889                 0.358516   \n",
      "17     1.553468    0.468061       0.354444                 0.355343   \n",
      "18     1.035441    0.443121       0.331111                 0.332524   \n",
      "19     1.033849    0.457550       0.373333                 0.373531   \n",
      "20   999.042290    0.027347       1.000000                 1.000000   \n",
      "21  1052.912848    0.024046       1.000000                 1.000000   \n",
      "22  1047.885302    0.026514       1.000000                 1.000000   \n",
      "23   771.028062    0.027212       1.000000                 1.000000   \n",
      "24   759.060440    0.026412       0.998889                 0.998891   \n",
      "25     0.482744    0.059834       0.936667                 0.937139   \n",
      "26     0.579217    0.068668       0.940000                 0.940418   \n",
      "27     0.551337    0.067898       0.938889                 0.939029   \n",
      "28     0.556673    0.070163       0.943333                 0.943341   \n",
      "29     0.523210    0.065142       0.946667                 0.946914   \n",
      "30     1.021372    0.856182       0.694444                 0.810826   \n",
      "31     1.002200    0.876157       0.675556                 0.803580   \n",
      "32     1.089070    0.885032       0.680000                 0.802228   \n",
      "33     1.086176    1.104050       0.675556                 0.806953   \n",
      "34     1.257724    0.937007       0.704444                 0.812733   \n",
      "35     1.171550    0.509211       0.496667                 0.246678   \n",
      "36     1.211426    0.509166       0.497778                 0.247783   \n",
      "37     1.349076    0.546890       0.482222                 0.232538   \n",
      "38     1.373702    0.435450       0.476667                 0.227211   \n",
      "39     1.017186    0.430710       0.488889                 0.239012   \n",
      "40   996.090422    0.027421       1.000000                 1.000000   \n",
      "41  1051.049923    0.026052       1.000000                 1.000000   \n",
      "42  1055.261549    0.027596       1.000000                 1.000000   \n",
      "43   770.210176    0.027110       1.000000                 1.000000   \n",
      "44   759.189152    0.027408       0.998889                 0.998891   \n",
      "45     0.381935    0.128838       0.920000                 0.924783   \n",
      "46     0.375010    0.131759       0.931111                 0.934520   \n",
      "47     0.397808    0.130629       0.927778                 0.930888   \n",
      "48     0.421377    0.144418       0.924444                 0.927542   \n",
      "49     0.418081    0.148913       0.926667                 0.928946   \n",
      "\n",
      "    test_recall_weighted  test_f1_weighted  test_roc_auc                model  \n",
      "0               1.000000          1.000000      1.000000   SVM-linear-scale-1  \n",
      "1               1.000000          1.000000      1.000000   SVM-linear-scale-1  \n",
      "2               1.000000          1.000000      1.000000   SVM-linear-scale-1  \n",
      "3               1.000000          1.000000      1.000000   SVM-linear-scale-1  \n",
      "4               0.998889          0.998889      0.999654   SVM-linear-scale-1  \n",
      "5               0.906667          0.906208      0.960319     SVM-poly-scale-1  \n",
      "6               0.925556          0.925335      0.975891     SVM-poly-scale-1  \n",
      "7               0.918889          0.918818      0.973324     SVM-poly-scale-1  \n",
      "8               0.914444          0.913969      0.966292     SVM-poly-scale-1  \n",
      "9               0.910000          0.909875      0.965440     SVM-poly-scale-1  \n",
      "10              0.906667          0.906318      0.958946      SVM-rbf-scale-1  \n",
      "11              0.926667          0.926522      0.972118      SVM-rbf-scale-1  \n",
      "12              0.912222          0.912085      0.970377      SVM-rbf-scale-1  \n",
      "13              0.916667          0.916314      0.962244      SVM-rbf-scale-1  \n",
      "14              0.911111          0.911010      0.961176      SVM-rbf-scale-1  \n",
      "15              0.358889          0.358883      0.330173  SVM-sigmoid-scale-1  \n",
      "16              0.358889          0.358543      0.306446  SVM-sigmoid-scale-1  \n",
      "17              0.354444          0.354227      0.311851  SVM-sigmoid-scale-1  \n",
      "18              0.331111          0.330873      0.298388  SVM-sigmoid-scale-1  \n",
      "19              0.373333          0.372618      0.320247  SVM-sigmoid-scale-1  \n",
      "20              1.000000          1.000000      1.000000    SVM-linear-auto-1  \n",
      "21              1.000000          1.000000      1.000000    SVM-linear-auto-1  \n",
      "22              1.000000          1.000000      1.000000    SVM-linear-auto-1  \n",
      "23              1.000000          1.000000      1.000000    SVM-linear-auto-1  \n",
      "24              0.998889          0.998889      0.999654    SVM-linear-auto-1  \n",
      "25              0.936667          0.936642      0.974740      SVM-poly-auto-1  \n",
      "26              0.940000          0.939981      0.982582      SVM-poly-auto-1  \n",
      "27              0.938889          0.938902      0.982887      SVM-poly-auto-1  \n",
      "28              0.943333          0.943336      0.976210      SVM-poly-auto-1  \n",
      "29              0.946667          0.946673      0.970524      SVM-poly-auto-1  \n",
      "30              0.694444          0.663801      0.783990       SVM-rbf-auto-1  \n",
      "31              0.675556          0.638028      0.765748       SVM-rbf-auto-1  \n",
      "32              0.680000          0.638322      0.767321       SVM-rbf-auto-1  \n",
      "33              0.675556          0.643871      0.772059       SVM-rbf-auto-1  \n",
      "34              0.704444          0.673568      0.772228       SVM-rbf-auto-1  \n",
      "35              0.496667          0.329636      0.500000   SVM-sigmoid-auto-1  \n",
      "36              0.497778          0.330867      0.500000   SVM-sigmoid-auto-1  \n",
      "37              0.482222          0.313770      0.500000   SVM-sigmoid-auto-1  \n",
      "38              0.476667          0.307735      0.500000   SVM-sigmoid-auto-1  \n",
      "39              0.488889          0.321061      0.500000   SVM-sigmoid-auto-1  \n",
      "40              1.000000          1.000000      1.000000   SVM-linear-scale-2  \n",
      "41              1.000000          1.000000      1.000000   SVM-linear-scale-2  \n",
      "42              1.000000          1.000000      1.000000   SVM-linear-scale-2  \n",
      "43              1.000000          1.000000      1.000000   SVM-linear-scale-2  \n",
      "44              0.998889          0.998889      0.999654   SVM-linear-scale-2  \n",
      "45              0.920000          0.919743      0.965712     SVM-poly-scale-2  \n",
      "46              0.931111          0.930961      0.981027     SVM-poly-scale-2  \n",
      "47              0.927778          0.927761      0.981038     SVM-poly-scale-2  \n",
      "48              0.924444          0.924136      0.974552     SVM-poly-scale-2  \n",
      "49              0.926667          0.926632      0.972668     SVM-poly-scale-2  \n"
     ]
    },
    {
     "name": "stdout",
     "output_type": "stream",
     "text": [
      "SVM-rbf-scale-2\n",
      "              precision    recall  f1-score   support\n",
      "\n",
      "   malignant       0.96      0.89      0.92       750\n",
      "      benign       0.90      0.97      0.93       750\n",
      "\n",
      "    accuracy                           0.93      1500\n",
      "   macro avg       0.93      0.93      0.93      1500\n",
      "weighted avg       0.93      0.93      0.93      1500\n",
      "\n",
      "       fit_time  score_time  test_accuracy  test_precision_weighted  \\\n",
      "0   1003.052863    0.032914       1.000000                 1.000000   \n",
      "1   1049.031762    0.028967       1.000000                 1.000000   \n",
      "2   1055.039767    0.024207       1.000000                 1.000000   \n",
      "3    770.777917    0.027176       1.000000                 1.000000   \n",
      "4    757.794335    0.029932       0.998889                 0.998891   \n",
      "5      0.439075    0.153161       0.906667                 0.913956   \n",
      "6      0.420500    0.148981       0.925556                 0.930219   \n",
      "7      0.414242    0.144691       0.918889                 0.923783   \n",
      "8      0.400191    0.149823       0.914444                 0.919035   \n",
      "9      0.411779    0.160028       0.910000                 0.914326   \n",
      "10     0.608729    0.427516       0.906667                 0.912106   \n",
      "11     0.656947    0.410234       0.926667                 0.929706   \n",
      "12     0.419568    0.331977       0.912222                 0.918811   \n",
      "13     0.424717    0.346963       0.916667                 0.919831   \n",
      "14     0.456192    0.378900       0.911111                 0.914896   \n",
      "15     1.303927    0.512569       0.358889                 0.358921   \n",
      "16     1.300767    0.549669       0.358889                 0.358516   \n",
      "17     1.553468    0.468061       0.354444                 0.355343   \n",
      "18     1.035441    0.443121       0.331111                 0.332524   \n",
      "19     1.033849    0.457550       0.373333                 0.373531   \n",
      "20   999.042290    0.027347       1.000000                 1.000000   \n",
      "21  1052.912848    0.024046       1.000000                 1.000000   \n",
      "22  1047.885302    0.026514       1.000000                 1.000000   \n",
      "23   771.028062    0.027212       1.000000                 1.000000   \n",
      "24   759.060440    0.026412       0.998889                 0.998891   \n",
      "25     0.482744    0.059834       0.936667                 0.937139   \n",
      "26     0.579217    0.068668       0.940000                 0.940418   \n",
      "27     0.551337    0.067898       0.938889                 0.939029   \n",
      "28     0.556673    0.070163       0.943333                 0.943341   \n",
      "29     0.523210    0.065142       0.946667                 0.946914   \n",
      "30     1.021372    0.856182       0.694444                 0.810826   \n",
      "31     1.002200    0.876157       0.675556                 0.803580   \n",
      "32     1.089070    0.885032       0.680000                 0.802228   \n",
      "33     1.086176    1.104050       0.675556                 0.806953   \n",
      "34     1.257724    0.937007       0.704444                 0.812733   \n",
      "35     1.171550    0.509211       0.496667                 0.246678   \n",
      "36     1.211426    0.509166       0.497778                 0.247783   \n",
      "37     1.349076    0.546890       0.482222                 0.232538   \n",
      "38     1.373702    0.435450       0.476667                 0.227211   \n",
      "39     1.017186    0.430710       0.488889                 0.239012   \n",
      "40   996.090422    0.027421       1.000000                 1.000000   \n",
      "41  1051.049923    0.026052       1.000000                 1.000000   \n",
      "42  1055.261549    0.027596       1.000000                 1.000000   \n",
      "43   770.210176    0.027110       1.000000                 1.000000   \n",
      "44   759.189152    0.027408       0.998889                 0.998891   \n",
      "45     0.381935    0.128838       0.920000                 0.924783   \n",
      "46     0.375010    0.131759       0.931111                 0.934520   \n",
      "47     0.397808    0.130629       0.927778                 0.930888   \n",
      "48     0.421377    0.144418       0.924444                 0.927542   \n",
      "49     0.418081    0.148913       0.926667                 0.928946   \n",
      "50     0.454257    0.354040       0.923333                 0.927190   \n",
      "51     0.415132    0.300518       0.936667                 0.938471   \n",
      "52     0.377415    0.303117       0.923333                 0.926426   \n",
      "53     0.381242    0.318295       0.926667                 0.928608   \n",
      "54     0.414092    0.313755       0.924444                 0.926195   \n",
      "\n",
      "    test_recall_weighted  test_f1_weighted  test_roc_auc                model  \n",
      "0               1.000000          1.000000      1.000000   SVM-linear-scale-1  \n",
      "1               1.000000          1.000000      1.000000   SVM-linear-scale-1  \n",
      "2               1.000000          1.000000      1.000000   SVM-linear-scale-1  \n",
      "3               1.000000          1.000000      1.000000   SVM-linear-scale-1  \n",
      "4               0.998889          0.998889      0.999654   SVM-linear-scale-1  \n",
      "5               0.906667          0.906208      0.960319     SVM-poly-scale-1  \n",
      "6               0.925556          0.925335      0.975891     SVM-poly-scale-1  \n",
      "7               0.918889          0.918818      0.973324     SVM-poly-scale-1  \n",
      "8               0.914444          0.913969      0.966292     SVM-poly-scale-1  \n",
      "9               0.910000          0.909875      0.965440     SVM-poly-scale-1  \n",
      "10              0.906667          0.906318      0.958946      SVM-rbf-scale-1  \n",
      "11              0.926667          0.926522      0.972118      SVM-rbf-scale-1  \n",
      "12              0.912222          0.912085      0.970377      SVM-rbf-scale-1  \n",
      "13              0.916667          0.916314      0.962244      SVM-rbf-scale-1  \n",
      "14              0.911111          0.911010      0.961176      SVM-rbf-scale-1  \n",
      "15              0.358889          0.358883      0.330173  SVM-sigmoid-scale-1  \n",
      "16              0.358889          0.358543      0.306446  SVM-sigmoid-scale-1  \n",
      "17              0.354444          0.354227      0.311851  SVM-sigmoid-scale-1  \n",
      "18              0.331111          0.330873      0.298388  SVM-sigmoid-scale-1  \n",
      "19              0.373333          0.372618      0.320247  SVM-sigmoid-scale-1  \n",
      "20              1.000000          1.000000      1.000000    SVM-linear-auto-1  \n",
      "21              1.000000          1.000000      1.000000    SVM-linear-auto-1  \n",
      "22              1.000000          1.000000      1.000000    SVM-linear-auto-1  \n",
      "23              1.000000          1.000000      1.000000    SVM-linear-auto-1  \n",
      "24              0.998889          0.998889      0.999654    SVM-linear-auto-1  \n",
      "25              0.936667          0.936642      0.974740      SVM-poly-auto-1  \n",
      "26              0.940000          0.939981      0.982582      SVM-poly-auto-1  \n",
      "27              0.938889          0.938902      0.982887      SVM-poly-auto-1  \n",
      "28              0.943333          0.943336      0.976210      SVM-poly-auto-1  \n",
      "29              0.946667          0.946673      0.970524      SVM-poly-auto-1  \n",
      "30              0.694444          0.663801      0.783990       SVM-rbf-auto-1  \n",
      "31              0.675556          0.638028      0.765748       SVM-rbf-auto-1  \n",
      "32              0.680000          0.638322      0.767321       SVM-rbf-auto-1  \n",
      "33              0.675556          0.643871      0.772059       SVM-rbf-auto-1  \n",
      "34              0.704444          0.673568      0.772228       SVM-rbf-auto-1  \n",
      "35              0.496667          0.329636      0.500000   SVM-sigmoid-auto-1  \n",
      "36              0.497778          0.330867      0.500000   SVM-sigmoid-auto-1  \n",
      "37              0.482222          0.313770      0.500000   SVM-sigmoid-auto-1  \n",
      "38              0.476667          0.307735      0.500000   SVM-sigmoid-auto-1  \n",
      "39              0.488889          0.321061      0.500000   SVM-sigmoid-auto-1  \n",
      "40              1.000000          1.000000      1.000000   SVM-linear-scale-2  \n",
      "41              1.000000          1.000000      1.000000   SVM-linear-scale-2  \n",
      "42              1.000000          1.000000      1.000000   SVM-linear-scale-2  \n",
      "43              1.000000          1.000000      1.000000   SVM-linear-scale-2  \n",
      "44              0.998889          0.998889      0.999654   SVM-linear-scale-2  \n",
      "45              0.920000          0.919743      0.965712     SVM-poly-scale-2  \n",
      "46              0.931111          0.930961      0.981027     SVM-poly-scale-2  \n",
      "47              0.927778          0.927761      0.981038     SVM-poly-scale-2  \n",
      "48              0.924444          0.924136      0.974552     SVM-poly-scale-2  \n",
      "49              0.926667          0.926632      0.972668     SVM-poly-scale-2  \n",
      "50              0.923333          0.923133      0.966354      SVM-rbf-scale-2  \n",
      "51              0.936667          0.936592      0.978286      SVM-rbf-scale-2  \n",
      "52              0.923333          0.923316      0.977680      SVM-rbf-scale-2  \n",
      "53              0.926667          0.926451      0.973171      SVM-rbf-scale-2  \n",
      "54              0.924444          0.924424      0.970119      SVM-rbf-scale-2  \n"
     ]
    },
    {
     "name": "stdout",
     "output_type": "stream",
     "text": [
      "SVM-sigmoid-scale-2\n",
      "              precision    recall  f1-score   support\n",
      "\n",
      "   malignant       0.38      0.37      0.37       750\n",
      "      benign       0.38      0.39      0.38       750\n",
      "\n",
      "    accuracy                           0.38      1500\n",
      "   macro avg       0.38      0.38      0.38      1500\n",
      "weighted avg       0.38      0.38      0.38      1500\n",
      "\n",
      "       fit_time  score_time  test_accuracy  test_precision_weighted  \\\n",
      "0   1003.052863    0.032914       1.000000                 1.000000   \n",
      "1   1049.031762    0.028967       1.000000                 1.000000   \n",
      "2   1055.039767    0.024207       1.000000                 1.000000   \n",
      "3    770.777917    0.027176       1.000000                 1.000000   \n",
      "4    757.794335    0.029932       0.998889                 0.998891   \n",
      "5      0.439075    0.153161       0.906667                 0.913956   \n",
      "6      0.420500    0.148981       0.925556                 0.930219   \n",
      "7      0.414242    0.144691       0.918889                 0.923783   \n",
      "8      0.400191    0.149823       0.914444                 0.919035   \n",
      "9      0.411779    0.160028       0.910000                 0.914326   \n",
      "10     0.608729    0.427516       0.906667                 0.912106   \n",
      "11     0.656947    0.410234       0.926667                 0.929706   \n",
      "12     0.419568    0.331977       0.912222                 0.918811   \n",
      "13     0.424717    0.346963       0.916667                 0.919831   \n",
      "14     0.456192    0.378900       0.911111                 0.914896   \n",
      "15     1.303927    0.512569       0.358889                 0.358921   \n",
      "16     1.300767    0.549669       0.358889                 0.358516   \n",
      "17     1.553468    0.468061       0.354444                 0.355343   \n",
      "18     1.035441    0.443121       0.331111                 0.332524   \n",
      "19     1.033849    0.457550       0.373333                 0.373531   \n",
      "20   999.042290    0.027347       1.000000                 1.000000   \n",
      "21  1052.912848    0.024046       1.000000                 1.000000   \n",
      "22  1047.885302    0.026514       1.000000                 1.000000   \n",
      "23   771.028062    0.027212       1.000000                 1.000000   \n",
      "24   759.060440    0.026412       0.998889                 0.998891   \n",
      "25     0.482744    0.059834       0.936667                 0.937139   \n",
      "26     0.579217    0.068668       0.940000                 0.940418   \n",
      "27     0.551337    0.067898       0.938889                 0.939029   \n",
      "28     0.556673    0.070163       0.943333                 0.943341   \n",
      "29     0.523210    0.065142       0.946667                 0.946914   \n",
      "30     1.021372    0.856182       0.694444                 0.810826   \n",
      "31     1.002200    0.876157       0.675556                 0.803580   \n",
      "32     1.089070    0.885032       0.680000                 0.802228   \n",
      "33     1.086176    1.104050       0.675556                 0.806953   \n",
      "34     1.257724    0.937007       0.704444                 0.812733   \n",
      "35     1.171550    0.509211       0.496667                 0.246678   \n",
      "36     1.211426    0.509166       0.497778                 0.247783   \n",
      "37     1.349076    0.546890       0.482222                 0.232538   \n",
      "38     1.373702    0.435450       0.476667                 0.227211   \n",
      "39     1.017186    0.430710       0.488889                 0.239012   \n",
      "40   996.090422    0.027421       1.000000                 1.000000   \n",
      "41  1051.049923    0.026052       1.000000                 1.000000   \n",
      "42  1055.261549    0.027596       1.000000                 1.000000   \n",
      "43   770.210176    0.027110       1.000000                 1.000000   \n",
      "44   759.189152    0.027408       0.998889                 0.998891   \n",
      "45     0.381935    0.128838       0.920000                 0.924783   \n",
      "46     0.375010    0.131759       0.931111                 0.934520   \n",
      "47     0.397808    0.130629       0.927778                 0.930888   \n",
      "48     0.421377    0.144418       0.924444                 0.927542   \n",
      "49     0.418081    0.148913       0.926667                 0.928946   \n",
      "50     0.454257    0.354040       0.923333                 0.927190   \n",
      "51     0.415132    0.300518       0.936667                 0.938471   \n",
      "52     0.377415    0.303117       0.923333                 0.926426   \n",
      "53     0.381242    0.318295       0.926667                 0.928608   \n",
      "54     0.414092    0.313755       0.924444                 0.926195   \n",
      "55     1.226669    0.508468       0.357778                 0.357803   \n",
      "56     1.295810    0.595284       0.354444                 0.354187   \n",
      "57     1.471639    0.576466       0.354444                 0.355343   \n",
      "58     1.015930    0.437083       0.330000                 0.331331   \n",
      "59     1.017129    0.444150       0.367778                 0.368098   \n",
      "\n",
      "    test_recall_weighted  test_f1_weighted  test_roc_auc                model  \n",
      "0               1.000000          1.000000      1.000000   SVM-linear-scale-1  \n",
      "1               1.000000          1.000000      1.000000   SVM-linear-scale-1  \n",
      "2               1.000000          1.000000      1.000000   SVM-linear-scale-1  \n",
      "3               1.000000          1.000000      1.000000   SVM-linear-scale-1  \n",
      "4               0.998889          0.998889      0.999654   SVM-linear-scale-1  \n",
      "5               0.906667          0.906208      0.960319     SVM-poly-scale-1  \n",
      "6               0.925556          0.925335      0.975891     SVM-poly-scale-1  \n",
      "7               0.918889          0.918818      0.973324     SVM-poly-scale-1  \n",
      "8               0.914444          0.913969      0.966292     SVM-poly-scale-1  \n",
      "9               0.910000          0.909875      0.965440     SVM-poly-scale-1  \n",
      "10              0.906667          0.906318      0.958946      SVM-rbf-scale-1  \n",
      "11              0.926667          0.926522      0.972118      SVM-rbf-scale-1  \n",
      "12              0.912222          0.912085      0.970377      SVM-rbf-scale-1  \n",
      "13              0.916667          0.916314      0.962244      SVM-rbf-scale-1  \n",
      "14              0.911111          0.911010      0.961176      SVM-rbf-scale-1  \n",
      "15              0.358889          0.358883      0.330173  SVM-sigmoid-scale-1  \n",
      "16              0.358889          0.358543      0.306446  SVM-sigmoid-scale-1  \n",
      "17              0.354444          0.354227      0.311851  SVM-sigmoid-scale-1  \n",
      "18              0.331111          0.330873      0.298388  SVM-sigmoid-scale-1  \n",
      "19              0.373333          0.372618      0.320247  SVM-sigmoid-scale-1  \n",
      "20              1.000000          1.000000      1.000000    SVM-linear-auto-1  \n",
      "21              1.000000          1.000000      1.000000    SVM-linear-auto-1  \n",
      "22              1.000000          1.000000      1.000000    SVM-linear-auto-1  \n",
      "23              1.000000          1.000000      1.000000    SVM-linear-auto-1  \n",
      "24              0.998889          0.998889      0.999654    SVM-linear-auto-1  \n",
      "25              0.936667          0.936642      0.974740      SVM-poly-auto-1  \n",
      "26              0.940000          0.939981      0.982582      SVM-poly-auto-1  \n",
      "27              0.938889          0.938902      0.982887      SVM-poly-auto-1  \n",
      "28              0.943333          0.943336      0.976210      SVM-poly-auto-1  \n",
      "29              0.946667          0.946673      0.970524      SVM-poly-auto-1  \n",
      "30              0.694444          0.663801      0.783990       SVM-rbf-auto-1  \n",
      "31              0.675556          0.638028      0.765748       SVM-rbf-auto-1  \n",
      "32              0.680000          0.638322      0.767321       SVM-rbf-auto-1  \n",
      "33              0.675556          0.643871      0.772059       SVM-rbf-auto-1  \n",
      "34              0.704444          0.673568      0.772228       SVM-rbf-auto-1  \n",
      "35              0.496667          0.329636      0.500000   SVM-sigmoid-auto-1  \n",
      "36              0.497778          0.330867      0.500000   SVM-sigmoid-auto-1  \n",
      "37              0.482222          0.313770      0.500000   SVM-sigmoid-auto-1  \n",
      "38              0.476667          0.307735      0.500000   SVM-sigmoid-auto-1  \n",
      "39              0.488889          0.321061      0.500000   SVM-sigmoid-auto-1  \n",
      "40              1.000000          1.000000      1.000000   SVM-linear-scale-2  \n",
      "41              1.000000          1.000000      1.000000   SVM-linear-scale-2  \n",
      "42              1.000000          1.000000      1.000000   SVM-linear-scale-2  \n",
      "43              1.000000          1.000000      1.000000   SVM-linear-scale-2  \n",
      "44              0.998889          0.998889      0.999654   SVM-linear-scale-2  \n",
      "45              0.920000          0.919743      0.965712     SVM-poly-scale-2  \n",
      "46              0.931111          0.930961      0.981027     SVM-poly-scale-2  \n",
      "47              0.927778          0.927761      0.981038     SVM-poly-scale-2  \n",
      "48              0.924444          0.924136      0.974552     SVM-poly-scale-2  \n",
      "49              0.926667          0.926632      0.972668     SVM-poly-scale-2  \n",
      "50              0.923333          0.923133      0.966354      SVM-rbf-scale-2  \n",
      "51              0.936667          0.936592      0.978286      SVM-rbf-scale-2  \n",
      "52              0.923333          0.923316      0.977680      SVM-rbf-scale-2  \n",
      "53              0.926667          0.926451      0.973171      SVM-rbf-scale-2  \n",
      "54              0.924444          0.924424      0.970119      SVM-rbf-scale-2  \n",
      "55              0.357778          0.357746      0.329086  SVM-sigmoid-scale-2  \n",
      "56              0.354444          0.354217      0.305364  SVM-sigmoid-scale-2  \n",
      "57              0.354444          0.354227      0.311332  SVM-sigmoid-scale-2  \n",
      "58              0.330000          0.329518      0.297873  SVM-sigmoid-scale-2  \n",
      "59              0.367778          0.367443      0.319565  SVM-sigmoid-scale-2  \n"
     ]
    },
    {
     "name": "stdout",
     "output_type": "stream",
     "text": [
      "SVM-linear-auto-2\n",
      "              precision    recall  f1-score   support\n",
      "\n",
      "   malignant       1.00      1.00      1.00       750\n",
      "      benign       1.00      1.00      1.00       750\n",
      "\n",
      "    accuracy                           1.00      1500\n",
      "   macro avg       1.00      1.00      1.00      1500\n",
      "weighted avg       1.00      1.00      1.00      1500\n",
      "\n",
      "       fit_time  score_time  test_accuracy  test_precision_weighted  \\\n",
      "0   1003.052863    0.032914       1.000000                 1.000000   \n",
      "1   1049.031762    0.028967       1.000000                 1.000000   \n",
      "2   1055.039767    0.024207       1.000000                 1.000000   \n",
      "3    770.777917    0.027176       1.000000                 1.000000   \n",
      "4    757.794335    0.029932       0.998889                 0.998891   \n",
      "..          ...         ...            ...                      ...   \n",
      "60   997.514436    0.024267       1.000000                 1.000000   \n",
      "61  1045.546920    0.027035       1.000000                 1.000000   \n",
      "62  1048.321169    0.025259       1.000000                 1.000000   \n",
      "63   768.360556    0.027577       1.000000                 1.000000   \n",
      "64   757.838861    0.029149       0.998889                 0.998891   \n",
      "\n",
      "    test_recall_weighted  test_f1_weighted  test_roc_auc               model  \n",
      "0               1.000000          1.000000      1.000000  SVM-linear-scale-1  \n",
      "1               1.000000          1.000000      1.000000  SVM-linear-scale-1  \n",
      "2               1.000000          1.000000      1.000000  SVM-linear-scale-1  \n",
      "3               1.000000          1.000000      1.000000  SVM-linear-scale-1  \n",
      "4               0.998889          0.998889      0.999654  SVM-linear-scale-1  \n",
      "..                   ...               ...           ...                 ...  \n",
      "60              1.000000          1.000000      1.000000   SVM-linear-auto-2  \n",
      "61              1.000000          1.000000      1.000000   SVM-linear-auto-2  \n",
      "62              1.000000          1.000000      1.000000   SVM-linear-auto-2  \n",
      "63              1.000000          1.000000      1.000000   SVM-linear-auto-2  \n",
      "64              0.998889          0.998889      0.999654   SVM-linear-auto-2  \n",
      "\n",
      "[65 rows x 8 columns]\n"
     ]
    },
    {
     "name": "stdout",
     "output_type": "stream",
     "text": [
      "SVM-poly-auto-2\n",
      "              precision    recall  f1-score   support\n",
      "\n",
      "   malignant       0.94      0.94      0.94       750\n",
      "      benign       0.94      0.94      0.94       750\n",
      "\n",
      "    accuracy                           0.94      1500\n",
      "   macro avg       0.94      0.94      0.94      1500\n",
      "weighted avg       0.94      0.94      0.94      1500\n",
      "\n",
      "       fit_time  score_time  test_accuracy  test_precision_weighted  \\\n",
      "0   1003.052863    0.032914       1.000000                 1.000000   \n",
      "1   1049.031762    0.028967       1.000000                 1.000000   \n",
      "2   1055.039767    0.024207       1.000000                 1.000000   \n",
      "3    770.777917    0.027176       1.000000                 1.000000   \n",
      "4    757.794335    0.029932       0.998889                 0.998891   \n",
      "..          ...         ...            ...                      ...   \n",
      "65     0.528182    0.068261       0.936667                 0.937139   \n",
      "66     0.576049    0.066402       0.940000                 0.940418   \n",
      "67     0.482306    0.056278       0.938889                 0.939029   \n",
      "68     0.450139    0.055669       0.943333                 0.943341   \n",
      "69     0.396929    0.052879       0.946667                 0.946914   \n",
      "\n",
      "    test_recall_weighted  test_f1_weighted  test_roc_auc               model  \n",
      "0               1.000000          1.000000      1.000000  SVM-linear-scale-1  \n",
      "1               1.000000          1.000000      1.000000  SVM-linear-scale-1  \n",
      "2               1.000000          1.000000      1.000000  SVM-linear-scale-1  \n",
      "3               1.000000          1.000000      1.000000  SVM-linear-scale-1  \n",
      "4               0.998889          0.998889      0.999654  SVM-linear-scale-1  \n",
      "..                   ...               ...           ...                 ...  \n",
      "65              0.936667          0.936642      0.974740     SVM-poly-auto-2  \n",
      "66              0.940000          0.939981      0.982582     SVM-poly-auto-2  \n",
      "67              0.938889          0.938902      0.982887     SVM-poly-auto-2  \n",
      "68              0.943333          0.943336      0.976210     SVM-poly-auto-2  \n",
      "69              0.946667          0.946673      0.970524     SVM-poly-auto-2  \n",
      "\n",
      "[70 rows x 8 columns]\n"
     ]
    },
    {
     "name": "stdout",
     "output_type": "stream",
     "text": [
      "SVM-rbf-auto-2\n",
      "              precision    recall  f1-score   support\n",
      "\n",
      "   malignant       0.63      1.00      0.77       750\n",
      "      benign       1.00      0.41      0.58       750\n",
      "\n",
      "    accuracy                           0.70      1500\n",
      "   macro avg       0.81      0.70      0.68      1500\n",
      "weighted avg       0.81      0.70      0.68      1500\n",
      "\n",
      "       fit_time  score_time  test_accuracy  test_precision_weighted  \\\n",
      "0   1003.052863    0.032914       1.000000                 1.000000   \n",
      "1   1049.031762    0.028967       1.000000                 1.000000   \n",
      "2   1055.039767    0.024207       1.000000                 1.000000   \n",
      "3    770.777917    0.027176       1.000000                 1.000000   \n",
      "4    757.794335    0.029932       0.998889                 0.998891   \n",
      "..          ...         ...            ...                      ...   \n",
      "70     1.006953    0.866125       0.694444                 0.810826   \n",
      "71     1.097874    0.885879       0.675556                 0.803580   \n",
      "72     1.060098    0.987272       0.680000                 0.802228   \n",
      "73     1.218353    0.956341       0.675556                 0.806953   \n",
      "74     0.976642    0.820862       0.704444                 0.812733   \n",
      "\n",
      "    test_recall_weighted  test_f1_weighted  test_roc_auc               model  \n",
      "0               1.000000          1.000000      1.000000  SVM-linear-scale-1  \n",
      "1               1.000000          1.000000      1.000000  SVM-linear-scale-1  \n",
      "2               1.000000          1.000000      1.000000  SVM-linear-scale-1  \n",
      "3               1.000000          1.000000      1.000000  SVM-linear-scale-1  \n",
      "4               0.998889          0.998889      0.999654  SVM-linear-scale-1  \n",
      "..                   ...               ...           ...                 ...  \n",
      "70              0.694444          0.663801      0.783990      SVM-rbf-auto-2  \n",
      "71              0.675556          0.638028      0.765748      SVM-rbf-auto-2  \n",
      "72              0.680000          0.638322      0.768240      SVM-rbf-auto-2  \n",
      "73              0.675556          0.643871      0.773767      SVM-rbf-auto-2  \n",
      "74              0.704444          0.673568      0.773765      SVM-rbf-auto-2  \n",
      "\n",
      "[75 rows x 8 columns]\n"
     ]
    },
    {
     "name": "stdout",
     "output_type": "stream",
     "text": [
      "SVM-sigmoid-auto-2\n",
      "              precision    recall  f1-score   support\n",
      "\n",
      "   malignant       0.00      0.00      0.00       750\n",
      "      benign       0.50      1.00      0.67       750\n",
      "\n",
      "    accuracy                           0.50      1500\n",
      "   macro avg       0.25      0.50      0.33      1500\n",
      "weighted avg       0.25      0.50      0.33      1500\n",
      "\n",
      "       fit_time  score_time  test_accuracy  test_precision_weighted  \\\n",
      "0   1003.052863    0.032914       1.000000                 1.000000   \n",
      "1   1049.031762    0.028967       1.000000                 1.000000   \n",
      "2   1055.039767    0.024207       1.000000                 1.000000   \n",
      "3    770.777917    0.027176       1.000000                 1.000000   \n",
      "4    757.794335    0.029932       0.998889                 0.998891   \n",
      "..          ...         ...            ...                      ...   \n",
      "75     1.235127    0.523397       0.496667                 0.246678   \n",
      "76     1.236968    0.524261       0.497778                 0.247783   \n",
      "77     1.204199    0.466185       0.482222                 0.232538   \n",
      "78     1.120112    0.462096       0.476667                 0.227211   \n",
      "79     1.096304    0.446605       0.488889                 0.239012   \n",
      "\n",
      "    test_recall_weighted  test_f1_weighted  test_roc_auc               model  \n",
      "0               1.000000          1.000000      1.000000  SVM-linear-scale-1  \n",
      "1               1.000000          1.000000      1.000000  SVM-linear-scale-1  \n",
      "2               1.000000          1.000000      1.000000  SVM-linear-scale-1  \n",
      "3               1.000000          1.000000      1.000000  SVM-linear-scale-1  \n",
      "4               0.998889          0.998889      0.999654  SVM-linear-scale-1  \n",
      "..                   ...               ...           ...                 ...  \n",
      "75              0.496667          0.329636      0.500000  SVM-sigmoid-auto-2  \n",
      "76              0.497778          0.330867      0.500000  SVM-sigmoid-auto-2  \n",
      "77              0.482222          0.313770      0.500000  SVM-sigmoid-auto-2  \n",
      "78              0.476667          0.307735      0.500000  SVM-sigmoid-auto-2  \n",
      "79              0.488889          0.321061      0.500000  SVM-sigmoid-auto-2  \n",
      "\n",
      "[80 rows x 8 columns]\n",
      "29742.813440049067\n"
     ]
    }
   ],
   "source": [
    "#scenario 1 :Devices\n",
    "# 1) Server\n",
    " \n",
    "df_malicious = pd.concat([df2,df7,df32])[:30000]\n",
    "df_benign = pd.concat([df10,df11,df13,df15,df16,df17,df18,df19,df21,df22,df23,df26,df30,df28])[:30000]\n",
    "\n",
    "print(\"malicious: {}\".format(len(df_malicious)))\n",
    "print(\"benign: {}\".format(len(df_benign)))\n",
    "\n",
    "print(\"{} NAN in malicious!\".format(len(df_malicious[df_malicious.isna().any(axis=1)])))\n",
    "print(\"{} NAN in benign!\".format(len(df_benign[df_benign.isna().any(axis=1)])))\n",
    "\n",
    "df_malicious = df_malicious.dropna()\n",
    "df_benign = df_benign.dropna()\n",
    "\n",
    "print(\"After droppping NAN rows: \")\n",
    "print(\"malicious: {}\".format(len(df_malicious)))\n",
    "print(\"benign: {}\".format(len(df_benign)))\n",
    "\n",
    "start = timer()\n",
    "\n",
    "results_server_s1 = run_process(df_malicious,df_benign,df_results)\n",
    "\n",
    "end = timer()\n",
    "print(end - start)\n"
   ]
  },
  {
   "cell_type": "code",
   "execution_count": 9,
   "id": "65f350fc",
   "metadata": {
    "execution": {
     "iopub.execute_input": "2025-08-11T08:17:03.514370Z",
     "iopub.status.busy": "2025-08-11T08:17:03.513311Z",
     "iopub.status.idle": "2025-08-11T11:31:03.380649Z",
     "shell.execute_reply": "2025-08-11T11:31:03.379353Z"
    },
    "scrolled": false
   },
   "outputs": [
    {
     "name": "stdout",
     "output_type": "stream",
     "text": [
      "malicious: 30000\n",
      "benign: 30000\n",
      "0 NAN in malicious!\n",
      "0 NAN in benign!\n",
      "After droppping NAN rows: \n",
      "malicious: 30000\n",
      "benign: 30000\n"
     ]
    },
    {
     "name": "stderr",
     "output_type": "stream",
     "text": [
      "\r",
      "Feature Extraction:   0%|          | 0/231 [00:00<?, ?it/s]"
     ]
    },
    {
     "name": "stderr",
     "output_type": "stream",
     "text": [
      "\r",
      "Feature Extraction:   0%|          | 1/231 [00:02<07:51,  2.05s/it]"
     ]
    },
    {
     "name": "stderr",
     "output_type": "stream",
     "text": [
      "\r",
      "Feature Extraction:   2%|▏         | 4/231 [00:02<01:36,  2.36it/s]"
     ]
    },
    {
     "name": "stderr",
     "output_type": "stream",
     "text": [
      "\r",
      "Feature Extraction:   3%|▎         | 8/231 [00:02<00:40,  5.46it/s]"
     ]
    },
    {
     "name": "stderr",
     "output_type": "stream",
     "text": [
      "\r",
      "Feature Extraction:   5%|▍         | 11/231 [00:02<00:28,  7.79it/s]"
     ]
    },
    {
     "name": "stderr",
     "output_type": "stream",
     "text": [
      "\r",
      "Feature Extraction:   6%|▌         | 14/231 [00:02<00:20, 10.56it/s]"
     ]
    },
    {
     "name": "stderr",
     "output_type": "stream",
     "text": [
      "\r",
      "Feature Extraction:   7%|▋         | 17/231 [00:02<00:17, 11.97it/s]"
     ]
    },
    {
     "name": "stderr",
     "output_type": "stream",
     "text": [
      "\r",
      "Feature Extraction:   9%|▊         | 20/231 [00:02<00:16, 12.92it/s]"
     ]
    },
    {
     "name": "stderr",
     "output_type": "stream",
     "text": [
      "\r",
      "Feature Extraction:  10%|▉         | 23/231 [00:03<00:14, 14.39it/s]"
     ]
    },
    {
     "name": "stderr",
     "output_type": "stream",
     "text": [
      "\r",
      "Feature Extraction:  11%|█         | 25/231 [00:03<00:14, 13.97it/s]"
     ]
    },
    {
     "name": "stderr",
     "output_type": "stream",
     "text": [
      "\r",
      "Feature Extraction:  12%|█▏        | 28/231 [00:03<00:12, 15.91it/s]"
     ]
    },
    {
     "name": "stderr",
     "output_type": "stream",
     "text": [
      "\r",
      "Feature Extraction:  14%|█▍        | 32/231 [00:03<00:10, 18.90it/s]"
     ]
    },
    {
     "name": "stderr",
     "output_type": "stream",
     "text": [
      "\r",
      "Feature Extraction:  16%|█▌        | 36/231 [00:03<00:08, 22.39it/s]"
     ]
    },
    {
     "name": "stderr",
     "output_type": "stream",
     "text": [
      "\r",
      "Feature Extraction:  17%|█▋        | 39/231 [00:03<00:08, 21.94it/s]"
     ]
    },
    {
     "name": "stderr",
     "output_type": "stream",
     "text": [
      "\r",
      "Feature Extraction:  19%|█▊        | 43/231 [00:03<00:08, 22.86it/s]"
     ]
    },
    {
     "name": "stderr",
     "output_type": "stream",
     "text": [
      "\r",
      "Feature Extraction:  20%|█▉        | 46/231 [00:04<00:08, 22.47it/s]"
     ]
    },
    {
     "name": "stderr",
     "output_type": "stream",
     "text": [
      "\r",
      "Feature Extraction:  21%|██        | 49/231 [00:04<00:08, 21.80it/s]"
     ]
    },
    {
     "name": "stderr",
     "output_type": "stream",
     "text": [
      "\r",
      "Feature Extraction:  23%|██▎       | 52/231 [00:04<00:08, 20.31it/s]"
     ]
    },
    {
     "name": "stderr",
     "output_type": "stream",
     "text": [
      "\r",
      "Feature Extraction:  24%|██▍       | 55/231 [00:04<00:08, 21.57it/s]"
     ]
    },
    {
     "name": "stderr",
     "output_type": "stream",
     "text": [
      "\r",
      "Feature Extraction:  25%|██▌       | 58/231 [00:04<00:08, 19.81it/s]"
     ]
    },
    {
     "name": "stderr",
     "output_type": "stream",
     "text": [
      "\r",
      "Feature Extraction:  26%|██▋       | 61/231 [00:04<00:08, 19.45it/s]"
     ]
    },
    {
     "name": "stderr",
     "output_type": "stream",
     "text": [
      "\r",
      "Feature Extraction:  28%|██▊       | 64/231 [00:04<00:08, 20.18it/s]"
     ]
    },
    {
     "name": "stderr",
     "output_type": "stream",
     "text": [
      "\r",
      "Feature Extraction:  29%|██▉       | 67/231 [00:05<00:07, 21.01it/s]"
     ]
    },
    {
     "name": "stderr",
     "output_type": "stream",
     "text": [
      "\r",
      "Feature Extraction:  30%|███       | 70/231 [00:05<00:07, 21.54it/s]"
     ]
    },
    {
     "name": "stderr",
     "output_type": "stream",
     "text": [
      "\r",
      "Feature Extraction:  32%|███▏      | 73/231 [00:05<00:07, 21.86it/s]"
     ]
    },
    {
     "name": "stderr",
     "output_type": "stream",
     "text": [
      "\r",
      "Feature Extraction:  33%|███▎      | 76/231 [00:05<00:07, 21.92it/s]"
     ]
    },
    {
     "name": "stderr",
     "output_type": "stream",
     "text": [
      "\r",
      "Feature Extraction:  34%|███▍      | 79/231 [00:05<00:10, 13.96it/s]"
     ]
    },
    {
     "name": "stderr",
     "output_type": "stream",
     "text": [
      "\r",
      "Feature Extraction:  35%|███▌      | 81/231 [00:06<00:11, 13.10it/s]"
     ]
    },
    {
     "name": "stderr",
     "output_type": "stream",
     "text": [
      "\r",
      "Feature Extraction:  36%|███▌      | 83/231 [00:06<00:10, 14.10it/s]"
     ]
    },
    {
     "name": "stderr",
     "output_type": "stream",
     "text": [
      "\r",
      "Feature Extraction:  37%|███▋      | 85/231 [00:06<00:09, 14.97it/s]"
     ]
    },
    {
     "name": "stderr",
     "output_type": "stream",
     "text": [
      "\r",
      "Feature Extraction:  38%|███▊      | 88/231 [00:06<00:08, 17.76it/s]"
     ]
    },
    {
     "name": "stderr",
     "output_type": "stream",
     "text": [
      "\r",
      "Feature Extraction:  40%|███▉      | 92/231 [00:06<00:06, 22.38it/s]"
     ]
    },
    {
     "name": "stderr",
     "output_type": "stream",
     "text": [
      "\r",
      "Feature Extraction:  41%|████      | 95/231 [00:06<00:06, 21.30it/s]"
     ]
    },
    {
     "name": "stderr",
     "output_type": "stream",
     "text": [
      "\r",
      "Feature Extraction:  42%|████▏     | 98/231 [00:06<00:05, 22.84it/s]"
     ]
    },
    {
     "name": "stderr",
     "output_type": "stream",
     "text": [
      "\r",
      "Feature Extraction:  44%|████▎     | 101/231 [00:06<00:05, 22.46it/s]"
     ]
    },
    {
     "name": "stderr",
     "output_type": "stream",
     "text": [
      "\r",
      "Feature Extraction:  45%|████▌     | 104/231 [00:07<00:07, 15.99it/s]"
     ]
    },
    {
     "name": "stderr",
     "output_type": "stream",
     "text": [
      "\r",
      "Feature Extraction:  46%|████▌     | 106/231 [00:07<00:07, 16.32it/s]"
     ]
    },
    {
     "name": "stderr",
     "output_type": "stream",
     "text": [
      "\r",
      "Feature Extraction:  47%|████▋     | 108/231 [00:07<00:10, 12.03it/s]"
     ]
    },
    {
     "name": "stderr",
     "output_type": "stream",
     "text": [
      "\r",
      "Feature Extraction:  48%|████▊     | 111/231 [00:07<00:08, 14.21it/s]"
     ]
    },
    {
     "name": "stderr",
     "output_type": "stream",
     "text": [
      "\r",
      "Feature Extraction:  49%|████▉     | 114/231 [00:07<00:07, 16.70it/s]"
     ]
    },
    {
     "name": "stderr",
     "output_type": "stream",
     "text": [
      "\r",
      "Feature Extraction:  51%|█████     | 117/231 [00:08<00:07, 14.99it/s]"
     ]
    },
    {
     "name": "stderr",
     "output_type": "stream",
     "text": [
      "\r",
      "Feature Extraction:  53%|█████▎    | 123/231 [00:08<00:04, 22.30it/s]"
     ]
    },
    {
     "name": "stderr",
     "output_type": "stream",
     "text": [
      "\r",
      "Feature Extraction:  55%|█████▍    | 126/231 [00:08<00:04, 23.34it/s]"
     ]
    },
    {
     "name": "stderr",
     "output_type": "stream",
     "text": [
      "\r",
      "Feature Extraction:  56%|█████▌    | 129/231 [00:08<00:04, 21.81it/s]"
     ]
    },
    {
     "name": "stderr",
     "output_type": "stream",
     "text": [
      "\r",
      "Feature Extraction:  57%|█████▋    | 132/231 [00:08<00:04, 20.47it/s]"
     ]
    },
    {
     "name": "stderr",
     "output_type": "stream",
     "text": [
      "\r",
      "Feature Extraction:  59%|█████▉    | 137/231 [00:09<00:05, 15.78it/s]"
     ]
    },
    {
     "name": "stderr",
     "output_type": "stream",
     "text": [
      "\r",
      "Feature Extraction:  61%|██████    | 141/231 [00:09<00:04, 18.99it/s]"
     ]
    },
    {
     "name": "stderr",
     "output_type": "stream",
     "text": [
      "\r",
      "Feature Extraction:  62%|██████▏   | 144/231 [00:09<00:04, 19.48it/s]"
     ]
    },
    {
     "name": "stderr",
     "output_type": "stream",
     "text": [
      "\r",
      "Feature Extraction:  65%|██████▍   | 149/231 [00:09<00:03, 24.70it/s]"
     ]
    },
    {
     "name": "stderr",
     "output_type": "stream",
     "text": [
      "\r",
      "Feature Extraction:  66%|██████▌   | 152/231 [00:09<00:04, 19.50it/s]"
     ]
    },
    {
     "name": "stderr",
     "output_type": "stream",
     "text": [
      "\r",
      "Feature Extraction:  67%|██████▋   | 155/231 [00:10<00:05, 13.81it/s]"
     ]
    },
    {
     "name": "stderr",
     "output_type": "stream",
     "text": [
      "\r",
      "Feature Extraction:  68%|██████▊   | 157/231 [00:10<00:05, 13.97it/s]"
     ]
    },
    {
     "name": "stderr",
     "output_type": "stream",
     "text": [
      "\r",
      "Feature Extraction:  69%|██████▉   | 159/231 [00:10<00:05, 13.09it/s]"
     ]
    },
    {
     "name": "stderr",
     "output_type": "stream",
     "text": [
      "\r",
      "Feature Extraction:  70%|██████▉   | 161/231 [00:10<00:05, 13.21it/s]"
     ]
    },
    {
     "name": "stderr",
     "output_type": "stream",
     "text": [
      "\r",
      "Feature Extraction:  71%|███████▏  | 165/231 [00:10<00:03, 17.64it/s]"
     ]
    },
    {
     "name": "stderr",
     "output_type": "stream",
     "text": [
      "\r",
      "Feature Extraction:  73%|███████▎  | 168/231 [00:10<00:03, 20.10it/s]"
     ]
    },
    {
     "name": "stderr",
     "output_type": "stream",
     "text": [
      "\r",
      "Feature Extraction:  74%|███████▍  | 172/231 [00:11<00:02, 23.54it/s]"
     ]
    },
    {
     "name": "stderr",
     "output_type": "stream",
     "text": [
      "\r",
      "Feature Extraction:  76%|███████▌  | 176/231 [00:11<00:02, 27.36it/s]"
     ]
    },
    {
     "name": "stderr",
     "output_type": "stream",
     "text": [
      "\r",
      "Feature Extraction:  78%|███████▊  | 180/231 [00:11<00:01, 28.90it/s]"
     ]
    },
    {
     "name": "stderr",
     "output_type": "stream",
     "text": [
      "\r",
      "Feature Extraction:  80%|████████  | 185/231 [00:11<00:01, 33.47it/s]"
     ]
    },
    {
     "name": "stderr",
     "output_type": "stream",
     "text": [
      "\r",
      "Feature Extraction:  83%|████████▎ | 192/231 [00:11<00:00, 39.97it/s]"
     ]
    },
    {
     "name": "stderr",
     "output_type": "stream",
     "text": [
      "\r",
      "Feature Extraction:  85%|████████▌ | 197/231 [00:11<00:00, 37.83it/s]"
     ]
    },
    {
     "name": "stderr",
     "output_type": "stream",
     "text": [
      "\r",
      "Feature Extraction:  87%|████████▋ | 201/231 [00:11<00:00, 33.42it/s]"
     ]
    },
    {
     "name": "stderr",
     "output_type": "stream",
     "text": [
      "\r",
      "Feature Extraction:  89%|████████▊ | 205/231 [00:12<00:01, 25.56it/s]"
     ]
    },
    {
     "name": "stderr",
     "output_type": "stream",
     "text": [
      "\r",
      "Feature Extraction:  90%|█████████ | 209/231 [00:12<00:00, 28.16it/s]"
     ]
    },
    {
     "name": "stderr",
     "output_type": "stream",
     "text": [
      "\r",
      "Feature Extraction:  94%|█████████▎| 216/231 [00:12<00:00, 37.15it/s]"
     ]
    },
    {
     "name": "stderr",
     "output_type": "stream",
     "text": [
      "\r",
      "Feature Extraction:  96%|█████████▌| 221/231 [00:12<00:00, 37.45it/s]"
     ]
    },
    {
     "name": "stderr",
     "output_type": "stream",
     "text": [
      "\r",
      "Feature Extraction:  99%|█████████▉| 229/231 [00:12<00:00, 45.16it/s]"
     ]
    },
    {
     "name": "stderr",
     "output_type": "stream",
     "text": [
      "\r",
      "Feature Extraction: 100%|██████████| 231/231 [00:12<00:00, 18.43it/s]"
     ]
    },
    {
     "name": "stderr",
     "output_type": "stream",
     "text": [
      "\n"
     ]
    },
    {
     "name": "stderr",
     "output_type": "stream",
     "text": [
      "\r",
      "Feature Extraction:   0%|          | 0/231 [00:00<?, ?it/s]"
     ]
    },
    {
     "name": "stderr",
     "output_type": "stream",
     "text": [
      "\r",
      "Feature Extraction:   0%|          | 1/231 [00:01<07:00,  1.83s/it]"
     ]
    },
    {
     "name": "stderr",
     "output_type": "stream",
     "text": [
      "\r",
      "Feature Extraction:   1%|▏         | 3/231 [00:01<02:00,  1.90it/s]"
     ]
    },
    {
     "name": "stderr",
     "output_type": "stream",
     "text": [
      "\r",
      "Feature Extraction:   3%|▎         | 6/231 [00:02<00:50,  4.45it/s]"
     ]
    },
    {
     "name": "stderr",
     "output_type": "stream",
     "text": [
      "\r",
      "Feature Extraction:   4%|▍         | 9/231 [00:02<00:31,  7.08it/s]"
     ]
    },
    {
     "name": "stderr",
     "output_type": "stream",
     "text": [
      "\r",
      "Feature Extraction:   5%|▌         | 12/231 [00:02<00:23,  9.48it/s]"
     ]
    },
    {
     "name": "stderr",
     "output_type": "stream",
     "text": [
      "\r",
      "Feature Extraction:   6%|▋         | 15/231 [00:02<00:17, 12.56it/s]"
     ]
    },
    {
     "name": "stderr",
     "output_type": "stream",
     "text": [
      "\r",
      "Feature Extraction:   8%|▊         | 18/231 [00:02<00:14, 14.69it/s]"
     ]
    },
    {
     "name": "stderr",
     "output_type": "stream",
     "text": [
      "\r",
      "Feature Extraction:   9%|▉         | 21/231 [00:02<00:12, 17.11it/s]"
     ]
    },
    {
     "name": "stderr",
     "output_type": "stream",
     "text": [
      "\r",
      "Feature Extraction:  10%|█         | 24/231 [00:02<00:11, 18.35it/s]"
     ]
    },
    {
     "name": "stderr",
     "output_type": "stream",
     "text": [
      "\r",
      "Feature Extraction:  12%|█▏        | 27/231 [00:03<00:26,  7.79it/s]"
     ]
    },
    {
     "name": "stderr",
     "output_type": "stream",
     "text": [
      "\r",
      "Feature Extraction:  13%|█▎        | 31/231 [00:03<00:18, 10.86it/s]"
     ]
    },
    {
     "name": "stderr",
     "output_type": "stream",
     "text": [
      "\r",
      "Feature Extraction:  15%|█▌        | 35/231 [00:03<00:13, 14.44it/s]"
     ]
    },
    {
     "name": "stderr",
     "output_type": "stream",
     "text": [
      "\r",
      "Feature Extraction:  16%|█▋        | 38/231 [00:04<00:11, 16.35it/s]"
     ]
    },
    {
     "name": "stderr",
     "output_type": "stream",
     "text": [
      "\r",
      "Feature Extraction:  18%|█▊        | 41/231 [00:04<00:10, 18.44it/s]"
     ]
    },
    {
     "name": "stderr",
     "output_type": "stream",
     "text": [
      "\r",
      "Feature Extraction:  19%|█▉        | 45/231 [00:04<00:08, 21.57it/s]"
     ]
    },
    {
     "name": "stderr",
     "output_type": "stream",
     "text": [
      "\r",
      "Feature Extraction:  21%|██        | 48/231 [00:04<00:08, 22.77it/s]"
     ]
    },
    {
     "name": "stderr",
     "output_type": "stream",
     "text": [
      "\r",
      "Feature Extraction:  22%|██▏       | 51/231 [00:04<00:07, 24.18it/s]"
     ]
    },
    {
     "name": "stderr",
     "output_type": "stream",
     "text": [
      "\r",
      "Feature Extraction:  23%|██▎       | 54/231 [00:04<00:06, 25.53it/s]"
     ]
    },
    {
     "name": "stderr",
     "output_type": "stream",
     "text": [
      "\r",
      "Feature Extraction:  25%|██▍       | 57/231 [00:04<00:07, 22.38it/s]"
     ]
    },
    {
     "name": "stderr",
     "output_type": "stream",
     "text": [
      "\r",
      "Feature Extraction:  27%|██▋       | 62/231 [00:04<00:06, 26.21it/s]"
     ]
    },
    {
     "name": "stderr",
     "output_type": "stream",
     "text": [
      "\r",
      "Feature Extraction:  29%|██▊       | 66/231 [00:05<00:05, 28.69it/s]"
     ]
    },
    {
     "name": "stderr",
     "output_type": "stream",
     "text": [
      "\r",
      "Feature Extraction:  30%|███       | 70/231 [00:05<00:06, 23.33it/s]"
     ]
    },
    {
     "name": "stderr",
     "output_type": "stream",
     "text": [
      "\r",
      "Feature Extraction:  32%|███▏      | 73/231 [00:05<00:06, 23.24it/s]"
     ]
    },
    {
     "name": "stderr",
     "output_type": "stream",
     "text": [
      "\r",
      "Feature Extraction:  33%|███▎      | 76/231 [00:05<00:06, 23.52it/s]"
     ]
    },
    {
     "name": "stderr",
     "output_type": "stream",
     "text": [
      "\r",
      "Feature Extraction:  34%|███▍      | 79/231 [00:05<00:06, 23.04it/s]"
     ]
    },
    {
     "name": "stderr",
     "output_type": "stream",
     "text": [
      "\r",
      "Feature Extraction:  35%|███▌      | 82/231 [00:05<00:06, 23.75it/s]"
     ]
    },
    {
     "name": "stderr",
     "output_type": "stream",
     "text": [
      "\r",
      "Feature Extraction:  37%|███▋      | 86/231 [00:05<00:05, 25.44it/s]"
     ]
    },
    {
     "name": "stderr",
     "output_type": "stream",
     "text": [
      "\r",
      "Feature Extraction:  39%|███▉      | 90/231 [00:06<00:05, 25.97it/s]"
     ]
    },
    {
     "name": "stderr",
     "output_type": "stream",
     "text": [
      "\r",
      "Feature Extraction:  40%|████      | 93/231 [00:06<00:05, 25.04it/s]"
     ]
    },
    {
     "name": "stderr",
     "output_type": "stream",
     "text": [
      "\r",
      "Feature Extraction:  42%|████▏     | 96/231 [00:06<00:06, 19.89it/s]"
     ]
    },
    {
     "name": "stderr",
     "output_type": "stream",
     "text": [
      "\r",
      "Feature Extraction:  43%|████▎     | 99/231 [00:06<00:06, 21.25it/s]"
     ]
    },
    {
     "name": "stderr",
     "output_type": "stream",
     "text": [
      "\r",
      "Feature Extraction:  44%|████▍     | 102/231 [00:06<00:07, 17.19it/s]"
     ]
    },
    {
     "name": "stderr",
     "output_type": "stream",
     "text": [
      "\r",
      "Feature Extraction:  45%|████▌     | 105/231 [00:06<00:07, 17.60it/s]"
     ]
    },
    {
     "name": "stderr",
     "output_type": "stream",
     "text": [
      "\r",
      "Feature Extraction:  46%|████▋     | 107/231 [00:07<00:07, 17.64it/s]"
     ]
    },
    {
     "name": "stderr",
     "output_type": "stream",
     "text": [
      "\r",
      "Feature Extraction:  48%|████▊     | 110/231 [00:07<00:06, 18.63it/s]"
     ]
    },
    {
     "name": "stderr",
     "output_type": "stream",
     "text": [
      "\r",
      "Feature Extraction:  48%|████▊     | 112/231 [00:07<00:06, 18.18it/s]"
     ]
    },
    {
     "name": "stderr",
     "output_type": "stream",
     "text": [
      "\r",
      "Feature Extraction:  50%|████▉     | 115/231 [00:07<00:06, 16.65it/s]"
     ]
    },
    {
     "name": "stderr",
     "output_type": "stream",
     "text": [
      "\r",
      "Feature Extraction:  51%|█████     | 117/231 [00:07<00:10, 10.81it/s]"
     ]
    },
    {
     "name": "stderr",
     "output_type": "stream",
     "text": [
      "\r",
      "Feature Extraction:  52%|█████▏    | 120/231 [00:08<00:08, 13.08it/s]"
     ]
    },
    {
     "name": "stderr",
     "output_type": "stream",
     "text": [
      "\r",
      "Feature Extraction:  53%|█████▎    | 123/231 [00:08<00:06, 15.84it/s]"
     ]
    },
    {
     "name": "stderr",
     "output_type": "stream",
     "text": [
      "\r",
      "Feature Extraction:  54%|█████▍    | 125/231 [00:08<00:07, 14.16it/s]"
     ]
    },
    {
     "name": "stderr",
     "output_type": "stream",
     "text": [
      "\r",
      "Feature Extraction:  55%|█████▌    | 128/231 [00:08<00:06, 17.00it/s]"
     ]
    },
    {
     "name": "stderr",
     "output_type": "stream",
     "text": [
      "\r",
      "Feature Extraction:  57%|█████▋    | 132/231 [00:08<00:05, 18.90it/s]"
     ]
    },
    {
     "name": "stderr",
     "output_type": "stream",
     "text": [
      "\r",
      "Feature Extraction:  59%|█████▉    | 136/231 [00:08<00:04, 21.41it/s]"
     ]
    },
    {
     "name": "stderr",
     "output_type": "stream",
     "text": [
      "\r",
      "Feature Extraction:  60%|██████    | 139/231 [00:08<00:04, 22.28it/s]"
     ]
    },
    {
     "name": "stderr",
     "output_type": "stream",
     "text": [
      "\r",
      "Feature Extraction:  61%|██████▏   | 142/231 [00:09<00:04, 22.13it/s]"
     ]
    },
    {
     "name": "stderr",
     "output_type": "stream",
     "text": [
      "\r",
      "Feature Extraction:  63%|██████▎   | 145/231 [00:09<00:03, 22.12it/s]"
     ]
    },
    {
     "name": "stderr",
     "output_type": "stream",
     "text": [
      "\r",
      "Feature Extraction:  64%|██████▍   | 148/231 [00:09<00:04, 18.96it/s]"
     ]
    },
    {
     "name": "stderr",
     "output_type": "stream",
     "text": [
      "\r",
      "Feature Extraction:  65%|██████▌   | 151/231 [00:09<00:05, 13.81it/s]"
     ]
    },
    {
     "name": "stderr",
     "output_type": "stream",
     "text": [
      "\r",
      "Feature Extraction:  66%|██████▌   | 153/231 [00:09<00:05, 14.74it/s]"
     ]
    },
    {
     "name": "stderr",
     "output_type": "stream",
     "text": [
      "\r",
      "Feature Extraction:  68%|██████▊   | 157/231 [00:10<00:03, 18.54it/s]"
     ]
    },
    {
     "name": "stderr",
     "output_type": "stream",
     "text": [
      "\r",
      "Feature Extraction:  69%|██████▉   | 160/231 [00:10<00:03, 18.57it/s]"
     ]
    },
    {
     "name": "stderr",
     "output_type": "stream",
     "text": [
      "\r",
      "Feature Extraction:  71%|███████   | 164/231 [00:10<00:03, 18.29it/s]"
     ]
    },
    {
     "name": "stderr",
     "output_type": "stream",
     "text": [
      "\r",
      "Feature Extraction:  72%|███████▏  | 166/231 [00:10<00:03, 18.46it/s]"
     ]
    },
    {
     "name": "stderr",
     "output_type": "stream",
     "text": [
      "\r",
      "Feature Extraction:  73%|███████▎  | 169/231 [00:10<00:03, 17.72it/s]"
     ]
    },
    {
     "name": "stderr",
     "output_type": "stream",
     "text": [
      "\r",
      "Feature Extraction:  74%|███████▍  | 171/231 [00:10<00:03, 17.98it/s]"
     ]
    },
    {
     "name": "stderr",
     "output_type": "stream",
     "text": [
      "\r",
      "Feature Extraction:  75%|███████▍  | 173/231 [00:10<00:03, 17.10it/s]"
     ]
    },
    {
     "name": "stderr",
     "output_type": "stream",
     "text": [
      "\r",
      "Feature Extraction:  76%|███████▌  | 175/231 [00:11<00:03, 15.99it/s]"
     ]
    },
    {
     "name": "stderr",
     "output_type": "stream",
     "text": [
      "\r",
      "Feature Extraction:  77%|███████▋  | 177/231 [00:11<00:03, 16.53it/s]"
     ]
    },
    {
     "name": "stderr",
     "output_type": "stream",
     "text": [
      "\r",
      "Feature Extraction:  78%|███████▊  | 180/231 [00:11<00:02, 19.34it/s]"
     ]
    },
    {
     "name": "stderr",
     "output_type": "stream",
     "text": [
      "\r",
      "Feature Extraction:  79%|███████▉  | 183/231 [00:11<00:02, 21.75it/s]"
     ]
    },
    {
     "name": "stderr",
     "output_type": "stream",
     "text": [
      "\r",
      "Feature Extraction:  81%|████████▏ | 188/231 [00:11<00:01, 28.64it/s]"
     ]
    },
    {
     "name": "stderr",
     "output_type": "stream",
     "text": [
      "\r",
      "Feature Extraction:  84%|████████▎ | 193/231 [00:11<00:01, 29.16it/s]"
     ]
    },
    {
     "name": "stderr",
     "output_type": "stream",
     "text": [
      "\r",
      "Feature Extraction:  86%|████████▌ | 198/231 [00:11<00:00, 33.79it/s]"
     ]
    },
    {
     "name": "stderr",
     "output_type": "stream",
     "text": [
      "\r",
      "Feature Extraction:  87%|████████▋ | 202/231 [00:11<00:00, 32.20it/s]"
     ]
    },
    {
     "name": "stderr",
     "output_type": "stream",
     "text": [
      "\r",
      "Feature Extraction:  89%|████████▉ | 206/231 [00:12<00:00, 33.07it/s]"
     ]
    },
    {
     "name": "stderr",
     "output_type": "stream",
     "text": [
      "\r",
      "Feature Extraction:  91%|█████████ | 210/231 [00:12<00:00, 34.30it/s]"
     ]
    },
    {
     "name": "stderr",
     "output_type": "stream",
     "text": [
      "\r",
      "Feature Extraction:  93%|█████████▎| 214/231 [00:12<00:00, 35.59it/s]"
     ]
    },
    {
     "name": "stderr",
     "output_type": "stream",
     "text": [
      "\r",
      "Feature Extraction:  97%|█████████▋| 223/231 [00:12<00:00, 48.99it/s]"
     ]
    },
    {
     "name": "stderr",
     "output_type": "stream",
     "text": [
      "\r",
      "Feature Extraction: 100%|█████████▉| 230/231 [00:12<00:00, 54.12it/s]"
     ]
    },
    {
     "name": "stderr",
     "output_type": "stream",
     "text": [
      "\r",
      "Feature Extraction: 100%|██████████| 231/231 [00:12<00:00, 17.97it/s]"
     ]
    },
    {
     "name": "stderr",
     "output_type": "stream",
     "text": [
      "\n"
     ]
    },
    {
     "name": "stdout",
     "output_type": "stream",
     "text": [
      "let the ml starts\n"
     ]
    },
    {
     "name": "stdout",
     "output_type": "stream",
     "text": [
      "SVM-linear-scale-1\n",
      "              precision    recall  f1-score   support\n",
      "\n",
      "   malignant       1.00      0.99      1.00       750\n",
      "      benign       0.99      1.00      1.00       750\n",
      "\n",
      "    accuracy                           1.00      1500\n",
      "   macro avg       1.00      1.00      1.00      1500\n",
      "weighted avg       1.00      1.00      1.00      1500\n",
      "\n",
      "      fit_time  score_time  test_accuracy  test_precision_weighted  \\\n",
      "0   327.701036    0.045052       0.987778                 0.987837   \n",
      "1  1045.035639    0.040643       0.994444                 0.994447   \n",
      "2   311.316555    0.043903       0.995556                 0.995556   \n",
      "3   185.735422    0.042125       0.980000                 0.980098   \n",
      "4   119.551591    0.037319       0.982222                 0.982469   \n",
      "\n",
      "   test_recall_weighted  test_f1_weighted  test_roc_auc               model  \n",
      "0              0.987778          0.987777      0.998765  SVM-linear-scale-1  \n",
      "1              0.994444          0.994444      0.999664  SVM-linear-scale-1  \n",
      "2              0.995556          0.995556      0.999041  SVM-linear-scale-1  \n",
      "3              0.980000          0.980005      0.996105  SVM-linear-scale-1  \n",
      "4              0.982222          0.982224      0.994308  SVM-linear-scale-1  \n"
     ]
    },
    {
     "name": "stdout",
     "output_type": "stream",
     "text": [
      "SVM-poly-scale-1\n",
      "              precision    recall  f1-score   support\n",
      "\n",
      "   malignant       0.98      0.91      0.95       750\n",
      "      benign       0.92      0.98      0.95       750\n",
      "\n",
      "    accuracy                           0.95      1500\n",
      "   macro avg       0.95      0.95      0.95      1500\n",
      "weighted avg       0.95      0.95      0.95      1500\n",
      "\n",
      "      fit_time  score_time  test_accuracy  test_precision_weighted  \\\n",
      "0   327.701036    0.045052       0.987778                 0.987837   \n",
      "1  1045.035639    0.040643       0.994444                 0.994447   \n",
      "2   311.316555    0.043903       0.995556                 0.995556   \n",
      "3   185.735422    0.042125       0.980000                 0.980098   \n",
      "4   119.551591    0.037319       0.982222                 0.982469   \n",
      "5     0.299190    0.102210       0.955556                 0.958151   \n",
      "6     0.295803    0.099253       0.960000                 0.960903   \n",
      "7     0.287287    0.095149       0.947778                 0.951676   \n",
      "8     0.292609    0.100729       0.964444                 0.965295   \n",
      "9     0.287913    0.094942       0.953333                 0.954909   \n",
      "\n",
      "   test_recall_weighted  test_f1_weighted  test_roc_auc               model  \n",
      "0              0.987778          0.987777      0.998765  SVM-linear-scale-1  \n",
      "1              0.994444          0.994444      0.999664  SVM-linear-scale-1  \n",
      "2              0.995556          0.995556      0.999041  SVM-linear-scale-1  \n",
      "3              0.980000          0.980005      0.996105  SVM-linear-scale-1  \n",
      "4              0.982222          0.982224      0.994308  SVM-linear-scale-1  \n",
      "5              0.955556          0.955481      0.993042    SVM-poly-scale-1  \n",
      "6              0.960000          0.959976      0.992716    SVM-poly-scale-1  \n",
      "7              0.947778          0.947754      0.990096    SVM-poly-scale-1  \n",
      "8              0.964444          0.964390      0.988602    SVM-poly-scale-1  \n",
      "9              0.953333          0.953324      0.988972    SVM-poly-scale-1  \n"
     ]
    },
    {
     "name": "stdout",
     "output_type": "stream",
     "text": [
      "SVM-rbf-scale-1\n",
      "              precision    recall  f1-score   support\n",
      "\n",
      "   malignant       0.97      0.92      0.94       750\n",
      "      benign       0.92      0.98      0.95       750\n",
      "\n",
      "    accuracy                           0.95      1500\n",
      "   macro avg       0.95      0.95      0.95      1500\n",
      "weighted avg       0.95      0.95      0.95      1500\n",
      "\n",
      "       fit_time  score_time  test_accuracy  test_precision_weighted  \\\n",
      "0    327.701036    0.045052       0.987778                 0.987837   \n",
      "1   1045.035639    0.040643       0.994444                 0.994447   \n",
      "2    311.316555    0.043903       0.995556                 0.995556   \n",
      "3    185.735422    0.042125       0.980000                 0.980098   \n",
      "4    119.551591    0.037319       0.982222                 0.982469   \n",
      "5      0.299190    0.102210       0.955556                 0.958151   \n",
      "6      0.295803    0.099253       0.960000                 0.960903   \n",
      "7      0.287287    0.095149       0.947778                 0.951676   \n",
      "8      0.292609    0.100729       0.964444                 0.965295   \n",
      "9      0.287913    0.094942       0.953333                 0.954909   \n",
      "10     0.253160    0.203624       0.954444                 0.956882   \n",
      "11     0.238843    0.197421       0.958889                 0.959882   \n",
      "12     0.234623    0.191855       0.947778                 0.951311   \n",
      "13     0.237521    0.199122       0.957778                 0.958436   \n",
      "14     0.231750    0.194935       0.951111                 0.952682   \n",
      "\n",
      "    test_recall_weighted  test_f1_weighted  test_roc_auc               model  \n",
      "0               0.987778          0.987777      0.998765  SVM-linear-scale-1  \n",
      "1               0.994444          0.994444      0.999664  SVM-linear-scale-1  \n",
      "2               0.995556          0.995556      0.999041  SVM-linear-scale-1  \n",
      "3               0.980000          0.980005      0.996105  SVM-linear-scale-1  \n",
      "4               0.982222          0.982224      0.994308  SVM-linear-scale-1  \n",
      "5               0.955556          0.955481      0.993042    SVM-poly-scale-1  \n",
      "6               0.960000          0.959976      0.992716    SVM-poly-scale-1  \n",
      "7               0.947778          0.947754      0.990096    SVM-poly-scale-1  \n",
      "8               0.964444          0.964390      0.988602    SVM-poly-scale-1  \n",
      "9               0.953333          0.953324      0.988972    SVM-poly-scale-1  \n",
      "10              0.954444          0.954372      0.992503     SVM-rbf-scale-1  \n",
      "11              0.958889          0.958862      0.991101     SVM-rbf-scale-1  \n",
      "12              0.947778          0.947760      0.989290     SVM-rbf-scale-1  \n",
      "13              0.957778          0.957721      0.984490     SVM-rbf-scale-1  \n",
      "14              0.951111          0.951102      0.986067     SVM-rbf-scale-1  \n"
     ]
    },
    {
     "name": "stdout",
     "output_type": "stream",
     "text": [
      "SVM-sigmoid-scale-1\n",
      "              precision    recall  f1-score   support\n",
      "\n",
      "   malignant       0.68      0.72      0.70       750\n",
      "      benign       0.70      0.66      0.68       750\n",
      "\n",
      "    accuracy                           0.69      1500\n",
      "   macro avg       0.69      0.69      0.69      1500\n",
      "weighted avg       0.69      0.69      0.69      1500\n",
      "\n",
      "       fit_time  score_time  test_accuracy  test_precision_weighted  \\\n",
      "0    327.701036    0.045052       0.987778                 0.987837   \n",
      "1   1045.035639    0.040643       0.994444                 0.994447   \n",
      "2    311.316555    0.043903       0.995556                 0.995556   \n",
      "3    185.735422    0.042125       0.980000                 0.980098   \n",
      "4    119.551591    0.037319       0.982222                 0.982469   \n",
      "5      0.299190    0.102210       0.955556                 0.958151   \n",
      "6      0.295803    0.099253       0.960000                 0.960903   \n",
      "7      0.287287    0.095149       0.947778                 0.951676   \n",
      "8      0.292609    0.100729       0.964444                 0.965295   \n",
      "9      0.287913    0.094942       0.953333                 0.954909   \n",
      "10     0.253160    0.203624       0.954444                 0.956882   \n",
      "11     0.238843    0.197421       0.958889                 0.959882   \n",
      "12     0.234623    0.191855       0.947778                 0.951311   \n",
      "13     0.237521    0.199122       0.957778                 0.958436   \n",
      "14     0.231750    0.194935       0.951111                 0.952682   \n",
      "15     0.566038    0.269194       0.702222                 0.707542   \n",
      "16     0.665626    0.263798       0.713333                 0.716846   \n",
      "17     0.591082    0.263697       0.704444                 0.704315   \n",
      "18     0.639160    0.264101       0.711111                 0.717356   \n",
      "19     0.673102    0.309724       0.707778                 0.708788   \n",
      "\n",
      "    test_recall_weighted  test_f1_weighted  test_roc_auc                model  \n",
      "0               0.987778          0.987777      0.998765   SVM-linear-scale-1  \n",
      "1               0.994444          0.994444      0.999664   SVM-linear-scale-1  \n",
      "2               0.995556          0.995556      0.999041   SVM-linear-scale-1  \n",
      "3               0.980000          0.980005      0.996105   SVM-linear-scale-1  \n",
      "4               0.982222          0.982224      0.994308   SVM-linear-scale-1  \n",
      "5               0.955556          0.955481      0.993042     SVM-poly-scale-1  \n",
      "6               0.960000          0.959976      0.992716     SVM-poly-scale-1  \n",
      "7               0.947778          0.947754      0.990096     SVM-poly-scale-1  \n",
      "8               0.964444          0.964390      0.988602     SVM-poly-scale-1  \n",
      "9               0.953333          0.953324      0.988972     SVM-poly-scale-1  \n",
      "10              0.954444          0.954372      0.992503      SVM-rbf-scale-1  \n",
      "11              0.958889          0.958862      0.991101      SVM-rbf-scale-1  \n",
      "12              0.947778          0.947760      0.989290      SVM-rbf-scale-1  \n",
      "13              0.957778          0.957721      0.984490      SVM-rbf-scale-1  \n",
      "14              0.951111          0.951102      0.986067      SVM-rbf-scale-1  \n",
      "15              0.702222          0.700567      0.600382  SVM-sigmoid-scale-1  \n",
      "16              0.713333          0.712299      0.610866  SVM-sigmoid-scale-1  \n",
      "17              0.704444          0.704209      0.623925  SVM-sigmoid-scale-1  \n",
      "18              0.711111          0.710609      0.624174  SVM-sigmoid-scale-1  \n",
      "19              0.707778          0.706944      0.616714  SVM-sigmoid-scale-1  \n"
     ]
    },
    {
     "name": "stdout",
     "output_type": "stream",
     "text": [
      "SVM-linear-auto-1\n",
      "              precision    recall  f1-score   support\n",
      "\n",
      "   malignant       1.00      0.99      1.00       750\n",
      "      benign       0.99      1.00      1.00       750\n",
      "\n",
      "    accuracy                           1.00      1500\n",
      "   macro avg       1.00      1.00      1.00      1500\n",
      "weighted avg       1.00      1.00      1.00      1500\n",
      "\n",
      "       fit_time  score_time  test_accuracy  test_precision_weighted  \\\n",
      "0    327.701036    0.045052       0.987778                 0.987837   \n",
      "1   1045.035639    0.040643       0.994444                 0.994447   \n",
      "2    311.316555    0.043903       0.995556                 0.995556   \n",
      "3    185.735422    0.042125       0.980000                 0.980098   \n",
      "4    119.551591    0.037319       0.982222                 0.982469   \n",
      "5      0.299190    0.102210       0.955556                 0.958151   \n",
      "6      0.295803    0.099253       0.960000                 0.960903   \n",
      "7      0.287287    0.095149       0.947778                 0.951676   \n",
      "8      0.292609    0.100729       0.964444                 0.965295   \n",
      "9      0.287913    0.094942       0.953333                 0.954909   \n",
      "10     0.253160    0.203624       0.954444                 0.956882   \n",
      "11     0.238843    0.197421       0.958889                 0.959882   \n",
      "12     0.234623    0.191855       0.947778                 0.951311   \n",
      "13     0.237521    0.199122       0.957778                 0.958436   \n",
      "14     0.231750    0.194935       0.951111                 0.952682   \n",
      "15     0.566038    0.269194       0.702222                 0.707542   \n",
      "16     0.665626    0.263798       0.713333                 0.716846   \n",
      "17     0.591082    0.263697       0.704444                 0.704315   \n",
      "18     0.639160    0.264101       0.711111                 0.717356   \n",
      "19     0.673102    0.309724       0.707778                 0.708788   \n",
      "20   327.626546    0.036342       0.987778                 0.987837   \n",
      "21  1043.094971    0.037890       0.994444                 0.994447   \n",
      "22   313.790838    0.040263       0.995556                 0.995556   \n",
      "23   184.929389    0.046290       0.980000                 0.980098   \n",
      "24   119.197365    0.042806       0.982222                 0.982469   \n",
      "\n",
      "    test_recall_weighted  test_f1_weighted  test_roc_auc                model  \n",
      "0               0.987778          0.987777      0.998765   SVM-linear-scale-1  \n",
      "1               0.994444          0.994444      0.999664   SVM-linear-scale-1  \n",
      "2               0.995556          0.995556      0.999041   SVM-linear-scale-1  \n",
      "3               0.980000          0.980005      0.996105   SVM-linear-scale-1  \n",
      "4               0.982222          0.982224      0.994308   SVM-linear-scale-1  \n",
      "5               0.955556          0.955481      0.993042     SVM-poly-scale-1  \n",
      "6               0.960000          0.959976      0.992716     SVM-poly-scale-1  \n",
      "7               0.947778          0.947754      0.990096     SVM-poly-scale-1  \n",
      "8               0.964444          0.964390      0.988602     SVM-poly-scale-1  \n",
      "9               0.953333          0.953324      0.988972     SVM-poly-scale-1  \n",
      "10              0.954444          0.954372      0.992503      SVM-rbf-scale-1  \n",
      "11              0.958889          0.958862      0.991101      SVM-rbf-scale-1  \n",
      "12              0.947778          0.947760      0.989290      SVM-rbf-scale-1  \n",
      "13              0.957778          0.957721      0.984490      SVM-rbf-scale-1  \n",
      "14              0.951111          0.951102      0.986067      SVM-rbf-scale-1  \n",
      "15              0.702222          0.700567      0.600382  SVM-sigmoid-scale-1  \n",
      "16              0.713333          0.712299      0.610866  SVM-sigmoid-scale-1  \n",
      "17              0.704444          0.704209      0.623925  SVM-sigmoid-scale-1  \n",
      "18              0.711111          0.710609      0.624174  SVM-sigmoid-scale-1  \n",
      "19              0.707778          0.706944      0.616714  SVM-sigmoid-scale-1  \n",
      "20              0.987778          0.987777      0.998765    SVM-linear-auto-1  \n",
      "21              0.994444          0.994444      0.999664    SVM-linear-auto-1  \n",
      "22              0.995556          0.995556      0.999041    SVM-linear-auto-1  \n",
      "23              0.980000          0.980005      0.996105    SVM-linear-auto-1  \n",
      "24              0.982222          0.982224      0.994308    SVM-linear-auto-1  \n"
     ]
    },
    {
     "name": "stdout",
     "output_type": "stream",
     "text": [
      "SVM-poly-auto-1\n",
      "              precision    recall  f1-score   support\n",
      "\n",
      "   malignant       0.97      0.98      0.97       750\n",
      "      benign       0.98      0.97      0.97       750\n",
      "\n",
      "    accuracy                           0.97      1500\n",
      "   macro avg       0.97      0.97      0.97      1500\n",
      "weighted avg       0.97      0.97      0.97      1500\n",
      "\n",
      "       fit_time  score_time  test_accuracy  test_precision_weighted  \\\n",
      "0    327.701036    0.045052       0.987778                 0.987837   \n",
      "1   1045.035639    0.040643       0.994444                 0.994447   \n",
      "2    311.316555    0.043903       0.995556                 0.995556   \n",
      "3    185.735422    0.042125       0.980000                 0.980098   \n",
      "4    119.551591    0.037319       0.982222                 0.982469   \n",
      "5      0.299190    0.102210       0.955556                 0.958151   \n",
      "6      0.295803    0.099253       0.960000                 0.960903   \n",
      "7      0.287287    0.095149       0.947778                 0.951676   \n",
      "8      0.292609    0.100729       0.964444                 0.965295   \n",
      "9      0.287913    0.094942       0.953333                 0.954909   \n",
      "10     0.253160    0.203624       0.954444                 0.956882   \n",
      "11     0.238843    0.197421       0.958889                 0.959882   \n",
      "12     0.234623    0.191855       0.947778                 0.951311   \n",
      "13     0.237521    0.199122       0.957778                 0.958436   \n",
      "14     0.231750    0.194935       0.951111                 0.952682   \n",
      "15     0.566038    0.269194       0.702222                 0.707542   \n",
      "16     0.665626    0.263798       0.713333                 0.716846   \n",
      "17     0.591082    0.263697       0.704444                 0.704315   \n",
      "18     0.639160    0.264101       0.711111                 0.717356   \n",
      "19     0.673102    0.309724       0.707778                 0.708788   \n",
      "20   327.626546    0.036342       0.987778                 0.987837   \n",
      "21  1043.094971    0.037890       0.994444                 0.994447   \n",
      "22   313.790838    0.040263       0.995556                 0.995556   \n",
      "23   184.929389    0.046290       0.980000                 0.980098   \n",
      "24   119.197365    0.042806       0.982222                 0.982469   \n",
      "25     0.252440    0.056746       0.974444                 0.974631   \n",
      "26     0.263293    0.055559       0.971111                 0.971262   \n",
      "27     0.250871    0.052209       0.980000                 0.980044   \n",
      "28     0.240289    0.052831       0.964444                 0.964621   \n",
      "29     0.240463    0.047484       0.980000                 0.980011   \n",
      "\n",
      "    test_recall_weighted  test_f1_weighted  test_roc_auc                model  \n",
      "0               0.987778          0.987777      0.998765   SVM-linear-scale-1  \n",
      "1               0.994444          0.994444      0.999664   SVM-linear-scale-1  \n",
      "2               0.995556          0.995556      0.999041   SVM-linear-scale-1  \n",
      "3               0.980000          0.980005      0.996105   SVM-linear-scale-1  \n",
      "4               0.982222          0.982224      0.994308   SVM-linear-scale-1  \n",
      "5               0.955556          0.955481      0.993042     SVM-poly-scale-1  \n",
      "6               0.960000          0.959976      0.992716     SVM-poly-scale-1  \n",
      "7               0.947778          0.947754      0.990096     SVM-poly-scale-1  \n",
      "8               0.964444          0.964390      0.988602     SVM-poly-scale-1  \n",
      "9               0.953333          0.953324      0.988972     SVM-poly-scale-1  \n",
      "10              0.954444          0.954372      0.992503      SVM-rbf-scale-1  \n",
      "11              0.958889          0.958862      0.991101      SVM-rbf-scale-1  \n",
      "12              0.947778          0.947760      0.989290      SVM-rbf-scale-1  \n",
      "13              0.957778          0.957721      0.984490      SVM-rbf-scale-1  \n",
      "14              0.951111          0.951102      0.986067      SVM-rbf-scale-1  \n",
      "15              0.702222          0.700567      0.600382  SVM-sigmoid-scale-1  \n",
      "16              0.713333          0.712299      0.610866  SVM-sigmoid-scale-1  \n",
      "17              0.704444          0.704209      0.623925  SVM-sigmoid-scale-1  \n",
      "18              0.711111          0.710609      0.624174  SVM-sigmoid-scale-1  \n",
      "19              0.707778          0.706944      0.616714  SVM-sigmoid-scale-1  \n",
      "20              0.987778          0.987777      0.998765    SVM-linear-auto-1  \n",
      "21              0.994444          0.994444      0.999664    SVM-linear-auto-1  \n",
      "22              0.995556          0.995556      0.999041    SVM-linear-auto-1  \n",
      "23              0.980000          0.980005      0.996105    SVM-linear-auto-1  \n",
      "24              0.982222          0.982224      0.994308    SVM-linear-auto-1  \n",
      "25              0.974444          0.974440      0.995269      SVM-poly-auto-1  \n",
      "26              0.971111          0.971110      0.997121      SVM-poly-auto-1  \n",
      "27              0.980000          0.980003      0.994507      SVM-poly-auto-1  \n",
      "28              0.964444          0.964456      0.991879      SVM-poly-auto-1  \n",
      "29              0.980000          0.980001      0.994397      SVM-poly-auto-1  \n"
     ]
    },
    {
     "name": "stdout",
     "output_type": "stream",
     "text": [
      "SVM-rbf-auto-1\n",
      "              precision    recall  f1-score   support\n",
      "\n",
      "   malignant       1.00      0.77      0.87       750\n",
      "      benign       0.82      1.00      0.90       750\n",
      "\n",
      "    accuracy                           0.89      1500\n",
      "   macro avg       0.91      0.89      0.89      1500\n",
      "weighted avg       0.91      0.89      0.89      1500\n",
      "\n",
      "       fit_time  score_time  test_accuracy  test_precision_weighted  \\\n",
      "0    327.701036    0.045052       0.987778                 0.987837   \n",
      "1   1045.035639    0.040643       0.994444                 0.994447   \n",
      "2    311.316555    0.043903       0.995556                 0.995556   \n",
      "3    185.735422    0.042125       0.980000                 0.980098   \n",
      "4    119.551591    0.037319       0.982222                 0.982469   \n",
      "5      0.299190    0.102210       0.955556                 0.958151   \n",
      "6      0.295803    0.099253       0.960000                 0.960903   \n",
      "7      0.287287    0.095149       0.947778                 0.951676   \n",
      "8      0.292609    0.100729       0.964444                 0.965295   \n",
      "9      0.287913    0.094942       0.953333                 0.954909   \n",
      "10     0.253160    0.203624       0.954444                 0.956882   \n",
      "11     0.238843    0.197421       0.958889                 0.959882   \n",
      "12     0.234623    0.191855       0.947778                 0.951311   \n",
      "13     0.237521    0.199122       0.957778                 0.958436   \n",
      "14     0.231750    0.194935       0.951111                 0.952682   \n",
      "15     0.566038    0.269194       0.702222                 0.707542   \n",
      "16     0.665626    0.263798       0.713333                 0.716846   \n",
      "17     0.591082    0.263697       0.704444                 0.704315   \n",
      "18     0.639160    0.264101       0.711111                 0.717356   \n",
      "19     0.673102    0.309724       0.707778                 0.708788   \n",
      "20   327.626546    0.036342       0.987778                 0.987837   \n",
      "21  1043.094971    0.037890       0.994444                 0.994447   \n",
      "22   313.790838    0.040263       0.995556                 0.995556   \n",
      "23   184.929389    0.046290       0.980000                 0.980098   \n",
      "24   119.197365    0.042806       0.982222                 0.982469   \n",
      "25     0.252440    0.056746       0.974444                 0.974631   \n",
      "26     0.263293    0.055559       0.971111                 0.971262   \n",
      "27     0.250871    0.052209       0.980000                 0.980044   \n",
      "28     0.240289    0.052831       0.964444                 0.964621   \n",
      "29     0.240463    0.047484       0.980000                 0.980011   \n",
      "30     0.985532    0.883713       0.907778                 0.922058   \n",
      "31     0.932080    0.705863       0.906667                 0.921294   \n",
      "32     0.734775    0.705552       0.881111                 0.904625   \n",
      "33     0.770120    0.734957       0.905556                 0.919994   \n",
      "34     0.810943    0.740272       0.895556                 0.913941   \n",
      "\n",
      "    test_recall_weighted  test_f1_weighted  test_roc_auc                model  \n",
      "0               0.987778          0.987777      0.998765   SVM-linear-scale-1  \n",
      "1               0.994444          0.994444      0.999664   SVM-linear-scale-1  \n",
      "2               0.995556          0.995556      0.999041   SVM-linear-scale-1  \n",
      "3               0.980000          0.980005      0.996105   SVM-linear-scale-1  \n",
      "4               0.982222          0.982224      0.994308   SVM-linear-scale-1  \n",
      "5               0.955556          0.955481      0.993042     SVM-poly-scale-1  \n",
      "6               0.960000          0.959976      0.992716     SVM-poly-scale-1  \n",
      "7               0.947778          0.947754      0.990096     SVM-poly-scale-1  \n",
      "8               0.964444          0.964390      0.988602     SVM-poly-scale-1  \n",
      "9               0.953333          0.953324      0.988972     SVM-poly-scale-1  \n",
      "10              0.954444          0.954372      0.992503      SVM-rbf-scale-1  \n",
      "11              0.958889          0.958862      0.991101      SVM-rbf-scale-1  \n",
      "12              0.947778          0.947760      0.989290      SVM-rbf-scale-1  \n",
      "13              0.957778          0.957721      0.984490      SVM-rbf-scale-1  \n",
      "14              0.951111          0.951102      0.986067      SVM-rbf-scale-1  \n",
      "15              0.702222          0.700567      0.600382  SVM-sigmoid-scale-1  \n",
      "16              0.713333          0.712299      0.610866  SVM-sigmoid-scale-1  \n",
      "17              0.704444          0.704209      0.623925  SVM-sigmoid-scale-1  \n",
      "18              0.711111          0.710609      0.624174  SVM-sigmoid-scale-1  \n",
      "19              0.707778          0.706944      0.616714  SVM-sigmoid-scale-1  \n",
      "20              0.987778          0.987777      0.998765    SVM-linear-auto-1  \n",
      "21              0.994444          0.994444      0.999664    SVM-linear-auto-1  \n",
      "22              0.995556          0.995556      0.999041    SVM-linear-auto-1  \n",
      "23              0.980000          0.980005      0.996105    SVM-linear-auto-1  \n",
      "24              0.982222          0.982224      0.994308    SVM-linear-auto-1  \n",
      "25              0.974444          0.974440      0.995269      SVM-poly-auto-1  \n",
      "26              0.971111          0.971110      0.997121      SVM-poly-auto-1  \n",
      "27              0.980000          0.980003      0.994507      SVM-poly-auto-1  \n",
      "28              0.964444          0.964456      0.991879      SVM-poly-auto-1  \n",
      "29              0.980000          0.980001      0.994397      SVM-poly-auto-1  \n",
      "30              0.907778          0.906928      0.923750       SVM-rbf-auto-1  \n",
      "31              0.906667          0.905807      0.923060       SVM-rbf-auto-1  \n",
      "32              0.881111          0.879925      0.902776       SVM-rbf-auto-1  \n",
      "33              0.905556          0.904271      0.920865       SVM-rbf-auto-1  \n",
      "34              0.895556          0.894653      0.917292       SVM-rbf-auto-1  \n"
     ]
    },
    {
     "name": "stdout",
     "output_type": "stream",
     "text": [
      "SVM-sigmoid-auto-1\n",
      "              precision    recall  f1-score   support\n",
      "\n",
      "   malignant       0.00      0.00      0.00       750\n",
      "      benign       0.50      1.00      0.67       750\n",
      "\n",
      "    accuracy                           0.50      1500\n",
      "   macro avg       0.25      0.50      0.33      1500\n",
      "weighted avg       0.25      0.50      0.33      1500\n",
      "\n",
      "       fit_time  score_time  test_accuracy  test_precision_weighted  \\\n",
      "0    327.701036    0.045052       0.987778                 0.987837   \n",
      "1   1045.035639    0.040643       0.994444                 0.994447   \n",
      "2    311.316555    0.043903       0.995556                 0.995556   \n",
      "3    185.735422    0.042125       0.980000                 0.980098   \n",
      "4    119.551591    0.037319       0.982222                 0.982469   \n",
      "5      0.299190    0.102210       0.955556                 0.958151   \n",
      "6      0.295803    0.099253       0.960000                 0.960903   \n",
      "7      0.287287    0.095149       0.947778                 0.951676   \n",
      "8      0.292609    0.100729       0.964444                 0.965295   \n",
      "9      0.287913    0.094942       0.953333                 0.954909   \n",
      "10     0.253160    0.203624       0.954444                 0.956882   \n",
      "11     0.238843    0.197421       0.958889                 0.959882   \n",
      "12     0.234623    0.191855       0.947778                 0.951311   \n",
      "13     0.237521    0.199122       0.957778                 0.958436   \n",
      "14     0.231750    0.194935       0.951111                 0.952682   \n",
      "15     0.566038    0.269194       0.702222                 0.707542   \n",
      "16     0.665626    0.263798       0.713333                 0.716846   \n",
      "17     0.591082    0.263697       0.704444                 0.704315   \n",
      "18     0.639160    0.264101       0.711111                 0.717356   \n",
      "19     0.673102    0.309724       0.707778                 0.708788   \n",
      "20   327.626546    0.036342       0.987778                 0.987837   \n",
      "21  1043.094971    0.037890       0.994444                 0.994447   \n",
      "22   313.790838    0.040263       0.995556                 0.995556   \n",
      "23   184.929389    0.046290       0.980000                 0.980098   \n",
      "24   119.197365    0.042806       0.982222                 0.982469   \n",
      "25     0.252440    0.056746       0.974444                 0.974631   \n",
      "26     0.263293    0.055559       0.971111                 0.971262   \n",
      "27     0.250871    0.052209       0.980000                 0.980044   \n",
      "28     0.240289    0.052831       0.964444                 0.964621   \n",
      "29     0.240463    0.047484       0.980000                 0.980011   \n",
      "30     0.985532    0.883713       0.907778                 0.922058   \n",
      "31     0.932080    0.705863       0.906667                 0.921294   \n",
      "32     0.734775    0.705552       0.881111                 0.904625   \n",
      "33     0.770120    0.734957       0.905556                 0.919994   \n",
      "34     0.810943    0.740272       0.895556                 0.913941   \n",
      "35     1.301724    0.457096       0.496667                 0.246678   \n",
      "36     1.097137    0.480865       0.497778                 0.247783   \n",
      "37     1.203676    0.541715       0.482222                 0.232538   \n",
      "38     1.243502    0.538339       0.476667                 0.227211   \n",
      "39     1.296460    0.584500       0.488889                 0.239012   \n",
      "\n",
      "    test_recall_weighted  test_f1_weighted  test_roc_auc                model  \n",
      "0               0.987778          0.987777      0.998765   SVM-linear-scale-1  \n",
      "1               0.994444          0.994444      0.999664   SVM-linear-scale-1  \n",
      "2               0.995556          0.995556      0.999041   SVM-linear-scale-1  \n",
      "3               0.980000          0.980005      0.996105   SVM-linear-scale-1  \n",
      "4               0.982222          0.982224      0.994308   SVM-linear-scale-1  \n",
      "5               0.955556          0.955481      0.993042     SVM-poly-scale-1  \n",
      "6               0.960000          0.959976      0.992716     SVM-poly-scale-1  \n",
      "7               0.947778          0.947754      0.990096     SVM-poly-scale-1  \n",
      "8               0.964444          0.964390      0.988602     SVM-poly-scale-1  \n",
      "9               0.953333          0.953324      0.988972     SVM-poly-scale-1  \n",
      "10              0.954444          0.954372      0.992503      SVM-rbf-scale-1  \n",
      "11              0.958889          0.958862      0.991101      SVM-rbf-scale-1  \n",
      "12              0.947778          0.947760      0.989290      SVM-rbf-scale-1  \n",
      "13              0.957778          0.957721      0.984490      SVM-rbf-scale-1  \n",
      "14              0.951111          0.951102      0.986067      SVM-rbf-scale-1  \n",
      "15              0.702222          0.700567      0.600382  SVM-sigmoid-scale-1  \n",
      "16              0.713333          0.712299      0.610866  SVM-sigmoid-scale-1  \n",
      "17              0.704444          0.704209      0.623925  SVM-sigmoid-scale-1  \n",
      "18              0.711111          0.710609      0.624174  SVM-sigmoid-scale-1  \n",
      "19              0.707778          0.706944      0.616714  SVM-sigmoid-scale-1  \n",
      "20              0.987778          0.987777      0.998765    SVM-linear-auto-1  \n",
      "21              0.994444          0.994444      0.999664    SVM-linear-auto-1  \n",
      "22              0.995556          0.995556      0.999041    SVM-linear-auto-1  \n",
      "23              0.980000          0.980005      0.996105    SVM-linear-auto-1  \n",
      "24              0.982222          0.982224      0.994308    SVM-linear-auto-1  \n",
      "25              0.974444          0.974440      0.995269      SVM-poly-auto-1  \n",
      "26              0.971111          0.971110      0.997121      SVM-poly-auto-1  \n",
      "27              0.980000          0.980003      0.994507      SVM-poly-auto-1  \n",
      "28              0.964444          0.964456      0.991879      SVM-poly-auto-1  \n",
      "29              0.980000          0.980001      0.994397      SVM-poly-auto-1  \n",
      "30              0.907778          0.906928      0.923750       SVM-rbf-auto-1  \n",
      "31              0.906667          0.905807      0.923060       SVM-rbf-auto-1  \n",
      "32              0.881111          0.879925      0.902776       SVM-rbf-auto-1  \n",
      "33              0.905556          0.904271      0.920865       SVM-rbf-auto-1  \n",
      "34              0.895556          0.894653      0.917292       SVM-rbf-auto-1  \n",
      "35              0.496667          0.329636      0.500000   SVM-sigmoid-auto-1  \n",
      "36              0.497778          0.330867      0.500000   SVM-sigmoid-auto-1  \n",
      "37              0.482222          0.313770      0.500000   SVM-sigmoid-auto-1  \n",
      "38              0.476667          0.307735      0.500000   SVM-sigmoid-auto-1  \n",
      "39              0.488889          0.321061      0.500000   SVM-sigmoid-auto-1  \n"
     ]
    },
    {
     "name": "stdout",
     "output_type": "stream",
     "text": [
      "SVM-linear-scale-2\n",
      "              precision    recall  f1-score   support\n",
      "\n",
      "   malignant       1.00      0.99      1.00       750\n",
      "      benign       0.99      1.00      1.00       750\n",
      "\n",
      "    accuracy                           1.00      1500\n",
      "   macro avg       1.00      1.00      1.00      1500\n",
      "weighted avg       1.00      1.00      1.00      1500\n",
      "\n",
      "       fit_time  score_time  test_accuracy  test_precision_weighted  \\\n",
      "0    327.701036    0.045052       0.987778                 0.987837   \n",
      "1   1045.035639    0.040643       0.994444                 0.994447   \n",
      "2    311.316555    0.043903       0.995556                 0.995556   \n",
      "3    185.735422    0.042125       0.980000                 0.980098   \n",
      "4    119.551591    0.037319       0.982222                 0.982469   \n",
      "5      0.299190    0.102210       0.955556                 0.958151   \n",
      "6      0.295803    0.099253       0.960000                 0.960903   \n",
      "7      0.287287    0.095149       0.947778                 0.951676   \n",
      "8      0.292609    0.100729       0.964444                 0.965295   \n",
      "9      0.287913    0.094942       0.953333                 0.954909   \n",
      "10     0.253160    0.203624       0.954444                 0.956882   \n",
      "11     0.238843    0.197421       0.958889                 0.959882   \n",
      "12     0.234623    0.191855       0.947778                 0.951311   \n",
      "13     0.237521    0.199122       0.957778                 0.958436   \n",
      "14     0.231750    0.194935       0.951111                 0.952682   \n",
      "15     0.566038    0.269194       0.702222                 0.707542   \n",
      "16     0.665626    0.263798       0.713333                 0.716846   \n",
      "17     0.591082    0.263697       0.704444                 0.704315   \n",
      "18     0.639160    0.264101       0.711111                 0.717356   \n",
      "19     0.673102    0.309724       0.707778                 0.708788   \n",
      "20   327.626546    0.036342       0.987778                 0.987837   \n",
      "21  1043.094971    0.037890       0.994444                 0.994447   \n",
      "22   313.790838    0.040263       0.995556                 0.995556   \n",
      "23   184.929389    0.046290       0.980000                 0.980098   \n",
      "24   119.197365    0.042806       0.982222                 0.982469   \n",
      "25     0.252440    0.056746       0.974444                 0.974631   \n",
      "26     0.263293    0.055559       0.971111                 0.971262   \n",
      "27     0.250871    0.052209       0.980000                 0.980044   \n",
      "28     0.240289    0.052831       0.964444                 0.964621   \n",
      "29     0.240463    0.047484       0.980000                 0.980011   \n",
      "30     0.985532    0.883713       0.907778                 0.922058   \n",
      "31     0.932080    0.705863       0.906667                 0.921294   \n",
      "32     0.734775    0.705552       0.881111                 0.904625   \n",
      "33     0.770120    0.734957       0.905556                 0.919994   \n",
      "34     0.810943    0.740272       0.895556                 0.913941   \n",
      "35     1.301724    0.457096       0.496667                 0.246678   \n",
      "36     1.097137    0.480865       0.497778                 0.247783   \n",
      "37     1.203676    0.541715       0.482222                 0.232538   \n",
      "38     1.243502    0.538339       0.476667                 0.227211   \n",
      "39     1.296460    0.584500       0.488889                 0.239012   \n",
      "40   330.384617    0.039405       0.987778                 0.987837   \n",
      "41  1045.002818    0.048681       0.994444                 0.994447   \n",
      "42   312.812891    0.041479       0.995556                 0.995556   \n",
      "43   186.711245    0.044489       0.980000                 0.980098   \n",
      "44   119.836574    0.036906       0.982222                 0.982469   \n",
      "\n",
      "    test_recall_weighted  test_f1_weighted  test_roc_auc                model  \n",
      "0               0.987778          0.987777      0.998765   SVM-linear-scale-1  \n",
      "1               0.994444          0.994444      0.999664   SVM-linear-scale-1  \n",
      "2               0.995556          0.995556      0.999041   SVM-linear-scale-1  \n",
      "3               0.980000          0.980005      0.996105   SVM-linear-scale-1  \n",
      "4               0.982222          0.982224      0.994308   SVM-linear-scale-1  \n",
      "5               0.955556          0.955481      0.993042     SVM-poly-scale-1  \n",
      "6               0.960000          0.959976      0.992716     SVM-poly-scale-1  \n",
      "7               0.947778          0.947754      0.990096     SVM-poly-scale-1  \n",
      "8               0.964444          0.964390      0.988602     SVM-poly-scale-1  \n",
      "9               0.953333          0.953324      0.988972     SVM-poly-scale-1  \n",
      "10              0.954444          0.954372      0.992503      SVM-rbf-scale-1  \n",
      "11              0.958889          0.958862      0.991101      SVM-rbf-scale-1  \n",
      "12              0.947778          0.947760      0.989290      SVM-rbf-scale-1  \n",
      "13              0.957778          0.957721      0.984490      SVM-rbf-scale-1  \n",
      "14              0.951111          0.951102      0.986067      SVM-rbf-scale-1  \n",
      "15              0.702222          0.700567      0.600382  SVM-sigmoid-scale-1  \n",
      "16              0.713333          0.712299      0.610866  SVM-sigmoid-scale-1  \n",
      "17              0.704444          0.704209      0.623925  SVM-sigmoid-scale-1  \n",
      "18              0.711111          0.710609      0.624174  SVM-sigmoid-scale-1  \n",
      "19              0.707778          0.706944      0.616714  SVM-sigmoid-scale-1  \n",
      "20              0.987778          0.987777      0.998765    SVM-linear-auto-1  \n",
      "21              0.994444          0.994444      0.999664    SVM-linear-auto-1  \n",
      "22              0.995556          0.995556      0.999041    SVM-linear-auto-1  \n",
      "23              0.980000          0.980005      0.996105    SVM-linear-auto-1  \n",
      "24              0.982222          0.982224      0.994308    SVM-linear-auto-1  \n",
      "25              0.974444          0.974440      0.995269      SVM-poly-auto-1  \n",
      "26              0.971111          0.971110      0.997121      SVM-poly-auto-1  \n",
      "27              0.980000          0.980003      0.994507      SVM-poly-auto-1  \n",
      "28              0.964444          0.964456      0.991879      SVM-poly-auto-1  \n",
      "29              0.980000          0.980001      0.994397      SVM-poly-auto-1  \n",
      "30              0.907778          0.906928      0.923750       SVM-rbf-auto-1  \n",
      "31              0.906667          0.905807      0.923060       SVM-rbf-auto-1  \n",
      "32              0.881111          0.879925      0.902776       SVM-rbf-auto-1  \n",
      "33              0.905556          0.904271      0.920865       SVM-rbf-auto-1  \n",
      "34              0.895556          0.894653      0.917292       SVM-rbf-auto-1  \n",
      "35              0.496667          0.329636      0.500000   SVM-sigmoid-auto-1  \n",
      "36              0.497778          0.330867      0.500000   SVM-sigmoid-auto-1  \n",
      "37              0.482222          0.313770      0.500000   SVM-sigmoid-auto-1  \n",
      "38              0.476667          0.307735      0.500000   SVM-sigmoid-auto-1  \n",
      "39              0.488889          0.321061      0.500000   SVM-sigmoid-auto-1  \n",
      "40              0.987778          0.987777      0.998765   SVM-linear-scale-2  \n",
      "41              0.994444          0.994444      0.999664   SVM-linear-scale-2  \n",
      "42              0.995556          0.995556      0.999041   SVM-linear-scale-2  \n",
      "43              0.980000          0.980005      0.996105   SVM-linear-scale-2  \n",
      "44              0.982222          0.982224      0.994308   SVM-linear-scale-2  \n"
     ]
    },
    {
     "name": "stdout",
     "output_type": "stream",
     "text": [
      "SVM-poly-scale-2\n",
      "              precision    recall  f1-score   support\n",
      "\n",
      "   malignant       0.98      0.94      0.96       750\n",
      "      benign       0.94      0.98      0.96       750\n",
      "\n",
      "    accuracy                           0.96      1500\n",
      "   macro avg       0.96      0.96      0.96      1500\n",
      "weighted avg       0.96      0.96      0.96      1500\n",
      "\n",
      "       fit_time  score_time  test_accuracy  test_precision_weighted  \\\n",
      "0    327.701036    0.045052       0.987778                 0.987837   \n",
      "1   1045.035639    0.040643       0.994444                 0.994447   \n",
      "2    311.316555    0.043903       0.995556                 0.995556   \n",
      "3    185.735422    0.042125       0.980000                 0.980098   \n",
      "4    119.551591    0.037319       0.982222                 0.982469   \n",
      "5      0.299190    0.102210       0.955556                 0.958151   \n",
      "6      0.295803    0.099253       0.960000                 0.960903   \n",
      "7      0.287287    0.095149       0.947778                 0.951676   \n",
      "8      0.292609    0.100729       0.964444                 0.965295   \n",
      "9      0.287913    0.094942       0.953333                 0.954909   \n",
      "10     0.253160    0.203624       0.954444                 0.956882   \n",
      "11     0.238843    0.197421       0.958889                 0.959882   \n",
      "12     0.234623    0.191855       0.947778                 0.951311   \n",
      "13     0.237521    0.199122       0.957778                 0.958436   \n",
      "14     0.231750    0.194935       0.951111                 0.952682   \n",
      "15     0.566038    0.269194       0.702222                 0.707542   \n",
      "16     0.665626    0.263798       0.713333                 0.716846   \n",
      "17     0.591082    0.263697       0.704444                 0.704315   \n",
      "18     0.639160    0.264101       0.711111                 0.717356   \n",
      "19     0.673102    0.309724       0.707778                 0.708788   \n",
      "20   327.626546    0.036342       0.987778                 0.987837   \n",
      "21  1043.094971    0.037890       0.994444                 0.994447   \n",
      "22   313.790838    0.040263       0.995556                 0.995556   \n",
      "23   184.929389    0.046290       0.980000                 0.980098   \n",
      "24   119.197365    0.042806       0.982222                 0.982469   \n",
      "25     0.252440    0.056746       0.974444                 0.974631   \n",
      "26     0.263293    0.055559       0.971111                 0.971262   \n",
      "27     0.250871    0.052209       0.980000                 0.980044   \n",
      "28     0.240289    0.052831       0.964444                 0.964621   \n",
      "29     0.240463    0.047484       0.980000                 0.980011   \n",
      "30     0.985532    0.883713       0.907778                 0.922058   \n",
      "31     0.932080    0.705863       0.906667                 0.921294   \n",
      "32     0.734775    0.705552       0.881111                 0.904625   \n",
      "33     0.770120    0.734957       0.905556                 0.919994   \n",
      "34     0.810943    0.740272       0.895556                 0.913941   \n",
      "35     1.301724    0.457096       0.496667                 0.246678   \n",
      "36     1.097137    0.480865       0.497778                 0.247783   \n",
      "37     1.203676    0.541715       0.482222                 0.232538   \n",
      "38     1.243502    0.538339       0.476667                 0.227211   \n",
      "39     1.296460    0.584500       0.488889                 0.239012   \n",
      "40   330.384617    0.039405       0.987778                 0.987837   \n",
      "41  1045.002818    0.048681       0.994444                 0.994447   \n",
      "42   312.812891    0.041479       0.995556                 0.995556   \n",
      "43   186.711245    0.044489       0.980000                 0.980098   \n",
      "44   119.836574    0.036906       0.982222                 0.982469   \n",
      "45     0.210107    0.066974       0.964444                 0.965758   \n",
      "46     0.203421    0.066162       0.965556                 0.965666   \n",
      "47     0.207005    0.067689       0.958889                 0.961170   \n",
      "48     0.225724    0.067917       0.967778                 0.968022   \n",
      "49     0.220577    0.070295       0.961111                 0.961408   \n",
      "\n",
      "    test_recall_weighted  test_f1_weighted  test_roc_auc                model  \n",
      "0               0.987778          0.987777      0.998765   SVM-linear-scale-1  \n",
      "1               0.994444          0.994444      0.999664   SVM-linear-scale-1  \n",
      "2               0.995556          0.995556      0.999041   SVM-linear-scale-1  \n",
      "3               0.980000          0.980005      0.996105   SVM-linear-scale-1  \n",
      "4               0.982222          0.982224      0.994308   SVM-linear-scale-1  \n",
      "5               0.955556          0.955481      0.993042     SVM-poly-scale-1  \n",
      "6               0.960000          0.959976      0.992716     SVM-poly-scale-1  \n",
      "7               0.947778          0.947754      0.990096     SVM-poly-scale-1  \n",
      "8               0.964444          0.964390      0.988602     SVM-poly-scale-1  \n",
      "9               0.953333          0.953324      0.988972     SVM-poly-scale-1  \n",
      "10              0.954444          0.954372      0.992503      SVM-rbf-scale-1  \n",
      "11              0.958889          0.958862      0.991101      SVM-rbf-scale-1  \n",
      "12              0.947778          0.947760      0.989290      SVM-rbf-scale-1  \n",
      "13              0.957778          0.957721      0.984490      SVM-rbf-scale-1  \n",
      "14              0.951111          0.951102      0.986067      SVM-rbf-scale-1  \n",
      "15              0.702222          0.700567      0.600382  SVM-sigmoid-scale-1  \n",
      "16              0.713333          0.712299      0.610866  SVM-sigmoid-scale-1  \n",
      "17              0.704444          0.704209      0.623925  SVM-sigmoid-scale-1  \n",
      "18              0.711111          0.710609      0.624174  SVM-sigmoid-scale-1  \n",
      "19              0.707778          0.706944      0.616714  SVM-sigmoid-scale-1  \n",
      "20              0.987778          0.987777      0.998765    SVM-linear-auto-1  \n",
      "21              0.994444          0.994444      0.999664    SVM-linear-auto-1  \n",
      "22              0.995556          0.995556      0.999041    SVM-linear-auto-1  \n",
      "23              0.980000          0.980005      0.996105    SVM-linear-auto-1  \n",
      "24              0.982222          0.982224      0.994308    SVM-linear-auto-1  \n",
      "25              0.974444          0.974440      0.995269      SVM-poly-auto-1  \n",
      "26              0.971111          0.971110      0.997121      SVM-poly-auto-1  \n",
      "27              0.980000          0.980003      0.994507      SVM-poly-auto-1  \n",
      "28              0.964444          0.964456      0.991879      SVM-poly-auto-1  \n",
      "29              0.980000          0.980001      0.994397      SVM-poly-auto-1  \n",
      "30              0.907778          0.906928      0.923750       SVM-rbf-auto-1  \n",
      "31              0.906667          0.905807      0.923060       SVM-rbf-auto-1  \n",
      "32              0.881111          0.879925      0.902776       SVM-rbf-auto-1  \n",
      "33              0.905556          0.904271      0.920865       SVM-rbf-auto-1  \n",
      "34              0.895556          0.894653      0.917292       SVM-rbf-auto-1  \n",
      "35              0.496667          0.329636      0.500000   SVM-sigmoid-auto-1  \n",
      "36              0.497778          0.330867      0.500000   SVM-sigmoid-auto-1  \n",
      "37              0.482222          0.313770      0.500000   SVM-sigmoid-auto-1  \n",
      "38              0.476667          0.307735      0.500000   SVM-sigmoid-auto-1  \n",
      "39              0.488889          0.321061      0.500000   SVM-sigmoid-auto-1  \n",
      "40              0.987778          0.987777      0.998765   SVM-linear-scale-2  \n",
      "41              0.994444          0.994444      0.999664   SVM-linear-scale-2  \n",
      "42              0.995556          0.995556      0.999041   SVM-linear-scale-2  \n",
      "43              0.980000          0.980005      0.996105   SVM-linear-scale-2  \n",
      "44              0.982222          0.982224      0.994308   SVM-linear-scale-2  \n",
      "45              0.964444          0.964413      0.994182     SVM-poly-scale-2  \n",
      "46              0.965556          0.965552      0.994222     SVM-poly-scale-2  \n",
      "47              0.958889          0.958890      0.993102     SVM-poly-scale-2  \n",
      "48              0.967778          0.967755      0.989434     SVM-poly-scale-2  \n",
      "49              0.961111          0.961116      0.990534     SVM-poly-scale-2  \n"
     ]
    },
    {
     "name": "stdout",
     "output_type": "stream",
     "text": [
      "SVM-rbf-scale-2\n",
      "              precision    recall  f1-score   support\n",
      "\n",
      "   malignant       0.98      0.93      0.96       750\n",
      "      benign       0.94      0.98      0.96       750\n",
      "\n",
      "    accuracy                           0.96      1500\n",
      "   macro avg       0.96      0.96      0.96      1500\n",
      "weighted avg       0.96      0.96      0.96      1500\n",
      "\n",
      "       fit_time  score_time  test_accuracy  test_precision_weighted  \\\n",
      "0    327.701036    0.045052       0.987778                 0.987837   \n",
      "1   1045.035639    0.040643       0.994444                 0.994447   \n",
      "2    311.316555    0.043903       0.995556                 0.995556   \n",
      "3    185.735422    0.042125       0.980000                 0.980098   \n",
      "4    119.551591    0.037319       0.982222                 0.982469   \n",
      "5      0.299190    0.102210       0.955556                 0.958151   \n",
      "6      0.295803    0.099253       0.960000                 0.960903   \n",
      "7      0.287287    0.095149       0.947778                 0.951676   \n",
      "8      0.292609    0.100729       0.964444                 0.965295   \n",
      "9      0.287913    0.094942       0.953333                 0.954909   \n",
      "10     0.253160    0.203624       0.954444                 0.956882   \n",
      "11     0.238843    0.197421       0.958889                 0.959882   \n",
      "12     0.234623    0.191855       0.947778                 0.951311   \n",
      "13     0.237521    0.199122       0.957778                 0.958436   \n",
      "14     0.231750    0.194935       0.951111                 0.952682   \n",
      "15     0.566038    0.269194       0.702222                 0.707542   \n",
      "16     0.665626    0.263798       0.713333                 0.716846   \n",
      "17     0.591082    0.263697       0.704444                 0.704315   \n",
      "18     0.639160    0.264101       0.711111                 0.717356   \n",
      "19     0.673102    0.309724       0.707778                 0.708788   \n",
      "20   327.626546    0.036342       0.987778                 0.987837   \n",
      "21  1043.094971    0.037890       0.994444                 0.994447   \n",
      "22   313.790838    0.040263       0.995556                 0.995556   \n",
      "23   184.929389    0.046290       0.980000                 0.980098   \n",
      "24   119.197365    0.042806       0.982222                 0.982469   \n",
      "25     0.252440    0.056746       0.974444                 0.974631   \n",
      "26     0.263293    0.055559       0.971111                 0.971262   \n",
      "27     0.250871    0.052209       0.980000                 0.980044   \n",
      "28     0.240289    0.052831       0.964444                 0.964621   \n",
      "29     0.240463    0.047484       0.980000                 0.980011   \n",
      "30     0.985532    0.883713       0.907778                 0.922058   \n",
      "31     0.932080    0.705863       0.906667                 0.921294   \n",
      "32     0.734775    0.705552       0.881111                 0.904625   \n",
      "33     0.770120    0.734957       0.905556                 0.919994   \n",
      "34     0.810943    0.740272       0.895556                 0.913941   \n",
      "35     1.301724    0.457096       0.496667                 0.246678   \n",
      "36     1.097137    0.480865       0.497778                 0.247783   \n",
      "37     1.203676    0.541715       0.482222                 0.232538   \n",
      "38     1.243502    0.538339       0.476667                 0.227211   \n",
      "39     1.296460    0.584500       0.488889                 0.239012   \n",
      "40   330.384617    0.039405       0.987778                 0.987837   \n",
      "41  1045.002818    0.048681       0.994444                 0.994447   \n",
      "42   312.812891    0.041479       0.995556                 0.995556   \n",
      "43   186.711245    0.044489       0.980000                 0.980098   \n",
      "44   119.836574    0.036906       0.982222                 0.982469   \n",
      "45     0.210107    0.066974       0.964444                 0.965758   \n",
      "46     0.203421    0.066162       0.965556                 0.965666   \n",
      "47     0.207005    0.067689       0.958889                 0.961170   \n",
      "48     0.225724    0.067917       0.967778                 0.968022   \n",
      "49     0.220577    0.070295       0.961111                 0.961408   \n",
      "50     0.261196    0.198850       0.962222                 0.963318   \n",
      "51     0.251365    0.190425       0.964444                 0.964890   \n",
      "52     0.253537    0.191225       0.955556                 0.958280   \n",
      "53     0.258685    0.193080       0.964444                 0.964638   \n",
      "54     0.262582    0.192929       0.951111                 0.951877   \n",
      "\n",
      "    test_recall_weighted  test_f1_weighted  test_roc_auc                model  \n",
      "0               0.987778          0.987777      0.998765   SVM-linear-scale-1  \n",
      "1               0.994444          0.994444      0.999664   SVM-linear-scale-1  \n",
      "2               0.995556          0.995556      0.999041   SVM-linear-scale-1  \n",
      "3               0.980000          0.980005      0.996105   SVM-linear-scale-1  \n",
      "4               0.982222          0.982224      0.994308   SVM-linear-scale-1  \n",
      "5               0.955556          0.955481      0.993042     SVM-poly-scale-1  \n",
      "6               0.960000          0.959976      0.992716     SVM-poly-scale-1  \n",
      "7               0.947778          0.947754      0.990096     SVM-poly-scale-1  \n",
      "8               0.964444          0.964390      0.988602     SVM-poly-scale-1  \n",
      "9               0.953333          0.953324      0.988972     SVM-poly-scale-1  \n",
      "10              0.954444          0.954372      0.992503      SVM-rbf-scale-1  \n",
      "11              0.958889          0.958862      0.991101      SVM-rbf-scale-1  \n",
      "12              0.947778          0.947760      0.989290      SVM-rbf-scale-1  \n",
      "13              0.957778          0.957721      0.984490      SVM-rbf-scale-1  \n",
      "14              0.951111          0.951102      0.986067      SVM-rbf-scale-1  \n",
      "15              0.702222          0.700567      0.600382  SVM-sigmoid-scale-1  \n",
      "16              0.713333          0.712299      0.610866  SVM-sigmoid-scale-1  \n",
      "17              0.704444          0.704209      0.623925  SVM-sigmoid-scale-1  \n",
      "18              0.711111          0.710609      0.624174  SVM-sigmoid-scale-1  \n",
      "19              0.707778          0.706944      0.616714  SVM-sigmoid-scale-1  \n",
      "20              0.987778          0.987777      0.998765    SVM-linear-auto-1  \n",
      "21              0.994444          0.994444      0.999664    SVM-linear-auto-1  \n",
      "22              0.995556          0.995556      0.999041    SVM-linear-auto-1  \n",
      "23              0.980000          0.980005      0.996105    SVM-linear-auto-1  \n",
      "24              0.982222          0.982224      0.994308    SVM-linear-auto-1  \n",
      "25              0.974444          0.974440      0.995269      SVM-poly-auto-1  \n",
      "26              0.971111          0.971110      0.997121      SVM-poly-auto-1  \n",
      "27              0.980000          0.980003      0.994507      SVM-poly-auto-1  \n",
      "28              0.964444          0.964456      0.991879      SVM-poly-auto-1  \n",
      "29              0.980000          0.980001      0.994397      SVM-poly-auto-1  \n",
      "30              0.907778          0.906928      0.923750       SVM-rbf-auto-1  \n",
      "31              0.906667          0.905807      0.923060       SVM-rbf-auto-1  \n",
      "32              0.881111          0.879925      0.902776       SVM-rbf-auto-1  \n",
      "33              0.905556          0.904271      0.920865       SVM-rbf-auto-1  \n",
      "34              0.895556          0.894653      0.917292       SVM-rbf-auto-1  \n",
      "35              0.496667          0.329636      0.500000   SVM-sigmoid-auto-1  \n",
      "36              0.497778          0.330867      0.500000   SVM-sigmoid-auto-1  \n",
      "37              0.482222          0.313770      0.500000   SVM-sigmoid-auto-1  \n",
      "38              0.476667          0.307735      0.500000   SVM-sigmoid-auto-1  \n",
      "39              0.488889          0.321061      0.500000   SVM-sigmoid-auto-1  \n",
      "40              0.987778          0.987777      0.998765   SVM-linear-scale-2  \n",
      "41              0.994444          0.994444      0.999664   SVM-linear-scale-2  \n",
      "42              0.995556          0.995556      0.999041   SVM-linear-scale-2  \n",
      "43              0.980000          0.980005      0.996105   SVM-linear-scale-2  \n",
      "44              0.982222          0.982224      0.994308   SVM-linear-scale-2  \n",
      "45              0.964444          0.964413      0.994182     SVM-poly-scale-2  \n",
      "46              0.965556          0.965552      0.994222     SVM-poly-scale-2  \n",
      "47              0.958889          0.958890      0.993102     SVM-poly-scale-2  \n",
      "48              0.967778          0.967755      0.989434     SVM-poly-scale-2  \n",
      "49              0.961111          0.961116      0.990534     SVM-poly-scale-2  \n",
      "50              0.962222          0.962193      0.993926      SVM-rbf-scale-2  \n",
      "51              0.964444          0.964433      0.993467      SVM-rbf-scale-2  \n",
      "52              0.955556          0.955552      0.991634      SVM-rbf-scale-2  \n",
      "53              0.964444          0.964422      0.985866      SVM-rbf-scale-2  \n",
      "54              0.951111          0.951113      0.987959      SVM-rbf-scale-2  \n"
     ]
    },
    {
     "name": "stdout",
     "output_type": "stream",
     "text": [
      "SVM-sigmoid-scale-2\n",
      "              precision    recall  f1-score   support\n",
      "\n",
      "   malignant       0.67      0.70      0.69       750\n",
      "      benign       0.69      0.66      0.67       750\n",
      "\n",
      "    accuracy                           0.68      1500\n",
      "   macro avg       0.68      0.68      0.68      1500\n",
      "weighted avg       0.68      0.68      0.68      1500\n",
      "\n",
      "       fit_time  score_time  test_accuracy  test_precision_weighted  \\\n",
      "0    327.701036    0.045052       0.987778                 0.987837   \n",
      "1   1045.035639    0.040643       0.994444                 0.994447   \n",
      "2    311.316555    0.043903       0.995556                 0.995556   \n",
      "3    185.735422    0.042125       0.980000                 0.980098   \n",
      "4    119.551591    0.037319       0.982222                 0.982469   \n",
      "5      0.299190    0.102210       0.955556                 0.958151   \n",
      "6      0.295803    0.099253       0.960000                 0.960903   \n",
      "7      0.287287    0.095149       0.947778                 0.951676   \n",
      "8      0.292609    0.100729       0.964444                 0.965295   \n",
      "9      0.287913    0.094942       0.953333                 0.954909   \n",
      "10     0.253160    0.203624       0.954444                 0.956882   \n",
      "11     0.238843    0.197421       0.958889                 0.959882   \n",
      "12     0.234623    0.191855       0.947778                 0.951311   \n",
      "13     0.237521    0.199122       0.957778                 0.958436   \n",
      "14     0.231750    0.194935       0.951111                 0.952682   \n",
      "15     0.566038    0.269194       0.702222                 0.707542   \n",
      "16     0.665626    0.263798       0.713333                 0.716846   \n",
      "17     0.591082    0.263697       0.704444                 0.704315   \n",
      "18     0.639160    0.264101       0.711111                 0.717356   \n",
      "19     0.673102    0.309724       0.707778                 0.708788   \n",
      "20   327.626546    0.036342       0.987778                 0.987837   \n",
      "21  1043.094971    0.037890       0.994444                 0.994447   \n",
      "22   313.790838    0.040263       0.995556                 0.995556   \n",
      "23   184.929389    0.046290       0.980000                 0.980098   \n",
      "24   119.197365    0.042806       0.982222                 0.982469   \n",
      "25     0.252440    0.056746       0.974444                 0.974631   \n",
      "26     0.263293    0.055559       0.971111                 0.971262   \n",
      "27     0.250871    0.052209       0.980000                 0.980044   \n",
      "28     0.240289    0.052831       0.964444                 0.964621   \n",
      "29     0.240463    0.047484       0.980000                 0.980011   \n",
      "30     0.985532    0.883713       0.907778                 0.922058   \n",
      "31     0.932080    0.705863       0.906667                 0.921294   \n",
      "32     0.734775    0.705552       0.881111                 0.904625   \n",
      "33     0.770120    0.734957       0.905556                 0.919994   \n",
      "34     0.810943    0.740272       0.895556                 0.913941   \n",
      "35     1.301724    0.457096       0.496667                 0.246678   \n",
      "36     1.097137    0.480865       0.497778                 0.247783   \n",
      "37     1.203676    0.541715       0.482222                 0.232538   \n",
      "38     1.243502    0.538339       0.476667                 0.227211   \n",
      "39     1.296460    0.584500       0.488889                 0.239012   \n",
      "40   330.384617    0.039405       0.987778                 0.987837   \n",
      "41  1045.002818    0.048681       0.994444                 0.994447   \n",
      "42   312.812891    0.041479       0.995556                 0.995556   \n",
      "43   186.711245    0.044489       0.980000                 0.980098   \n",
      "44   119.836574    0.036906       0.982222                 0.982469   \n",
      "45     0.210107    0.066974       0.964444                 0.965758   \n",
      "46     0.203421    0.066162       0.965556                 0.965666   \n",
      "47     0.207005    0.067689       0.958889                 0.961170   \n",
      "48     0.225724    0.067917       0.967778                 0.968022   \n",
      "49     0.220577    0.070295       0.961111                 0.961408   \n",
      "50     0.261196    0.198850       0.962222                 0.963318   \n",
      "51     0.251365    0.190425       0.964444                 0.964890   \n",
      "52     0.253537    0.191225       0.955556                 0.958280   \n",
      "53     0.258685    0.193080       0.964444                 0.964638   \n",
      "54     0.262582    0.192929       0.951111                 0.951877   \n",
      "55     0.644601    0.296821       0.697778                 0.702419   \n",
      "56     0.699242    0.303677       0.696667                 0.698272   \n",
      "57     0.723018    0.316438       0.687778                 0.687754   \n",
      "58     0.755635    0.248432       0.684444                 0.686806   \n",
      "59     0.547067    0.252033       0.697778                 0.698212   \n",
      "\n",
      "    test_recall_weighted  test_f1_weighted  test_roc_auc                model  \n",
      "0               0.987778          0.987777      0.998765   SVM-linear-scale-1  \n",
      "1               0.994444          0.994444      0.999664   SVM-linear-scale-1  \n",
      "2               0.995556          0.995556      0.999041   SVM-linear-scale-1  \n",
      "3               0.980000          0.980005      0.996105   SVM-linear-scale-1  \n",
      "4               0.982222          0.982224      0.994308   SVM-linear-scale-1  \n",
      "5               0.955556          0.955481      0.993042     SVM-poly-scale-1  \n",
      "6               0.960000          0.959976      0.992716     SVM-poly-scale-1  \n",
      "7               0.947778          0.947754      0.990096     SVM-poly-scale-1  \n",
      "8               0.964444          0.964390      0.988602     SVM-poly-scale-1  \n",
      "9               0.953333          0.953324      0.988972     SVM-poly-scale-1  \n",
      "10              0.954444          0.954372      0.992503      SVM-rbf-scale-1  \n",
      "11              0.958889          0.958862      0.991101      SVM-rbf-scale-1  \n",
      "12              0.947778          0.947760      0.989290      SVM-rbf-scale-1  \n",
      "13              0.957778          0.957721      0.984490      SVM-rbf-scale-1  \n",
      "14              0.951111          0.951102      0.986067      SVM-rbf-scale-1  \n",
      "15              0.702222          0.700567      0.600382  SVM-sigmoid-scale-1  \n",
      "16              0.713333          0.712299      0.610866  SVM-sigmoid-scale-1  \n",
      "17              0.704444          0.704209      0.623925  SVM-sigmoid-scale-1  \n",
      "18              0.711111          0.710609      0.624174  SVM-sigmoid-scale-1  \n",
      "19              0.707778          0.706944      0.616714  SVM-sigmoid-scale-1  \n",
      "20              0.987778          0.987777      0.998765    SVM-linear-auto-1  \n",
      "21              0.994444          0.994444      0.999664    SVM-linear-auto-1  \n",
      "22              0.995556          0.995556      0.999041    SVM-linear-auto-1  \n",
      "23              0.980000          0.980005      0.996105    SVM-linear-auto-1  \n",
      "24              0.982222          0.982224      0.994308    SVM-linear-auto-1  \n",
      "25              0.974444          0.974440      0.995269      SVM-poly-auto-1  \n",
      "26              0.971111          0.971110      0.997121      SVM-poly-auto-1  \n",
      "27              0.980000          0.980003      0.994507      SVM-poly-auto-1  \n",
      "28              0.964444          0.964456      0.991879      SVM-poly-auto-1  \n",
      "29              0.980000          0.980001      0.994397      SVM-poly-auto-1  \n",
      "30              0.907778          0.906928      0.923750       SVM-rbf-auto-1  \n",
      "31              0.906667          0.905807      0.923060       SVM-rbf-auto-1  \n",
      "32              0.881111          0.879925      0.902776       SVM-rbf-auto-1  \n",
      "33              0.905556          0.904271      0.920865       SVM-rbf-auto-1  \n",
      "34              0.895556          0.894653      0.917292       SVM-rbf-auto-1  \n",
      "35              0.496667          0.329636      0.500000   SVM-sigmoid-auto-1  \n",
      "36              0.497778          0.330867      0.500000   SVM-sigmoid-auto-1  \n",
      "37              0.482222          0.313770      0.500000   SVM-sigmoid-auto-1  \n",
      "38              0.476667          0.307735      0.500000   SVM-sigmoid-auto-1  \n",
      "39              0.488889          0.321061      0.500000   SVM-sigmoid-auto-1  \n",
      "40              0.987778          0.987777      0.998765   SVM-linear-scale-2  \n",
      "41              0.994444          0.994444      0.999664   SVM-linear-scale-2  \n",
      "42              0.995556          0.995556      0.999041   SVM-linear-scale-2  \n",
      "43              0.980000          0.980005      0.996105   SVM-linear-scale-2  \n",
      "44              0.982222          0.982224      0.994308   SVM-linear-scale-2  \n",
      "45              0.964444          0.964413      0.994182     SVM-poly-scale-2  \n",
      "46              0.965556          0.965552      0.994222     SVM-poly-scale-2  \n",
      "47              0.958889          0.958890      0.993102     SVM-poly-scale-2  \n",
      "48              0.967778          0.967755      0.989434     SVM-poly-scale-2  \n",
      "49              0.961111          0.961116      0.990534     SVM-poly-scale-2  \n",
      "50              0.962222          0.962193      0.993926      SVM-rbf-scale-2  \n",
      "51              0.964444          0.964433      0.993467      SVM-rbf-scale-2  \n",
      "52              0.955556          0.955552      0.991634      SVM-rbf-scale-2  \n",
      "53              0.964444          0.964422      0.985866      SVM-rbf-scale-2  \n",
      "54              0.951111          0.951113      0.987959      SVM-rbf-scale-2  \n",
      "55              0.697778          0.696294      0.598550  SVM-sigmoid-scale-2  \n",
      "56              0.696667          0.696155      0.609459  SVM-sigmoid-scale-2  \n",
      "57              0.687778          0.687765      0.619920  SVM-sigmoid-scale-2  \n",
      "58              0.684444          0.684529      0.621878  SVM-sigmoid-scale-2  \n",
      "59              0.697778          0.697216      0.613202  SVM-sigmoid-scale-2  \n"
     ]
    },
    {
     "name": "stdout",
     "output_type": "stream",
     "text": [
      "SVM-linear-auto-2\n",
      "              precision    recall  f1-score   support\n",
      "\n",
      "   malignant       1.00      0.99      1.00       750\n",
      "      benign       0.99      1.00      1.00       750\n",
      "\n",
      "    accuracy                           1.00      1500\n",
      "   macro avg       1.00      1.00      1.00      1500\n",
      "weighted avg       1.00      1.00      1.00      1500\n",
      "\n",
      "       fit_time  score_time  test_accuracy  test_precision_weighted  \\\n",
      "0    327.701036    0.045052       0.987778                 0.987837   \n",
      "1   1045.035639    0.040643       0.994444                 0.994447   \n",
      "2    311.316555    0.043903       0.995556                 0.995556   \n",
      "3    185.735422    0.042125       0.980000                 0.980098   \n",
      "4    119.551591    0.037319       0.982222                 0.982469   \n",
      "..          ...         ...            ...                      ...   \n",
      "60   328.345676    0.038786       0.987778                 0.987837   \n",
      "61  1045.284589    0.039560       0.994444                 0.994447   \n",
      "62   311.132462    0.042418       0.995556                 0.995556   \n",
      "63   186.154721    0.039757       0.980000                 0.980098   \n",
      "64   119.744754    0.040696       0.982222                 0.982469   \n",
      "\n",
      "    test_recall_weighted  test_f1_weighted  test_roc_auc               model  \n",
      "0               0.987778          0.987777      0.998765  SVM-linear-scale-1  \n",
      "1               0.994444          0.994444      0.999664  SVM-linear-scale-1  \n",
      "2               0.995556          0.995556      0.999041  SVM-linear-scale-1  \n",
      "3               0.980000          0.980005      0.996105  SVM-linear-scale-1  \n",
      "4               0.982222          0.982224      0.994308  SVM-linear-scale-1  \n",
      "..                   ...               ...           ...                 ...  \n",
      "60              0.987778          0.987777      0.998765   SVM-linear-auto-2  \n",
      "61              0.994444          0.994444      0.999664   SVM-linear-auto-2  \n",
      "62              0.995556          0.995556      0.999041   SVM-linear-auto-2  \n",
      "63              0.980000          0.980005      0.996105   SVM-linear-auto-2  \n",
      "64              0.982222          0.982224      0.994308   SVM-linear-auto-2  \n",
      "\n",
      "[65 rows x 8 columns]\n"
     ]
    },
    {
     "name": "stdout",
     "output_type": "stream",
     "text": [
      "SVM-poly-auto-2\n",
      "              precision    recall  f1-score   support\n",
      "\n",
      "   malignant       0.97      0.98      0.97       750\n",
      "      benign       0.98      0.97      0.97       750\n",
      "\n",
      "    accuracy                           0.97      1500\n",
      "   macro avg       0.97      0.97      0.97      1500\n",
      "weighted avg       0.97      0.97      0.97      1500\n",
      "\n",
      "       fit_time  score_time  test_accuracy  test_precision_weighted  \\\n",
      "0    327.701036    0.045052       0.987778                 0.987837   \n",
      "1   1045.035639    0.040643       0.994444                 0.994447   \n",
      "2    311.316555    0.043903       0.995556                 0.995556   \n",
      "3    185.735422    0.042125       0.980000                 0.980098   \n",
      "4    119.551591    0.037319       0.982222                 0.982469   \n",
      "..          ...         ...            ...                      ...   \n",
      "65     0.259173    0.052614       0.974444                 0.974631   \n",
      "66     0.254412    0.053162       0.971111                 0.971262   \n",
      "67     0.265212    0.050051       0.980000                 0.980044   \n",
      "68     0.253999    0.050661       0.964444                 0.964621   \n",
      "69     0.266257    0.051316       0.980000                 0.980011   \n",
      "\n",
      "    test_recall_weighted  test_f1_weighted  test_roc_auc               model  \n",
      "0               0.987778          0.987777      0.998765  SVM-linear-scale-1  \n",
      "1               0.994444          0.994444      0.999664  SVM-linear-scale-1  \n",
      "2               0.995556          0.995556      0.999041  SVM-linear-scale-1  \n",
      "3               0.980000          0.980005      0.996105  SVM-linear-scale-1  \n",
      "4               0.982222          0.982224      0.994308  SVM-linear-scale-1  \n",
      "..                   ...               ...           ...                 ...  \n",
      "65              0.974444          0.974440      0.995269     SVM-poly-auto-2  \n",
      "66              0.971111          0.971110      0.997121     SVM-poly-auto-2  \n",
      "67              0.980000          0.980003      0.994507     SVM-poly-auto-2  \n",
      "68              0.964444          0.964456      0.991879     SVM-poly-auto-2  \n",
      "69              0.980000          0.980001      0.994397     SVM-poly-auto-2  \n",
      "\n",
      "[70 rows x 8 columns]\n"
     ]
    },
    {
     "name": "stdout",
     "output_type": "stream",
     "text": [
      "SVM-rbf-auto-2\n",
      "              precision    recall  f1-score   support\n",
      "\n",
      "   malignant       1.00      0.77      0.87       750\n",
      "      benign       0.82      1.00      0.90       750\n",
      "\n",
      "    accuracy                           0.89      1500\n",
      "   macro avg       0.91      0.89      0.89      1500\n",
      "weighted avg       0.91      0.89      0.89      1500\n",
      "\n",
      "       fit_time  score_time  test_accuracy  test_precision_weighted  \\\n",
      "0    327.701036    0.045052       0.987778                 0.987837   \n",
      "1   1045.035639    0.040643       0.994444                 0.994447   \n",
      "2    311.316555    0.043903       0.995556                 0.995556   \n",
      "3    185.735422    0.042125       0.980000                 0.980098   \n",
      "4    119.551591    0.037319       0.982222                 0.982469   \n",
      "..          ...         ...            ...                      ...   \n",
      "70     0.810628    0.646749       0.907778                 0.922058   \n",
      "71     0.715526    0.671509       0.906667                 0.921294   \n",
      "72     0.771048    0.690157       0.881111                 0.904625   \n",
      "73     0.838330    0.720913       0.905556                 0.919994   \n",
      "74     0.850655    0.791250       0.895556                 0.913941   \n",
      "\n",
      "    test_recall_weighted  test_f1_weighted  test_roc_auc               model  \n",
      "0               0.987778          0.987777      0.998765  SVM-linear-scale-1  \n",
      "1               0.994444          0.994444      0.999664  SVM-linear-scale-1  \n",
      "2               0.995556          0.995556      0.999041  SVM-linear-scale-1  \n",
      "3               0.980000          0.980005      0.996105  SVM-linear-scale-1  \n",
      "4               0.982222          0.982224      0.994308  SVM-linear-scale-1  \n",
      "..                   ...               ...           ...                 ...  \n",
      "70              0.907778          0.906928      0.923750      SVM-rbf-auto-2  \n",
      "71              0.906667          0.905807      0.923060      SVM-rbf-auto-2  \n",
      "72              0.881111          0.879925      0.902776      SVM-rbf-auto-2  \n",
      "73              0.905556          0.904271      0.920865      SVM-rbf-auto-2  \n",
      "74              0.895556          0.894653      0.917292      SVM-rbf-auto-2  \n",
      "\n",
      "[75 rows x 8 columns]\n"
     ]
    },
    {
     "name": "stdout",
     "output_type": "stream",
     "text": [
      "SVM-sigmoid-auto-2\n",
      "              precision    recall  f1-score   support\n",
      "\n",
      "   malignant       0.00      0.00      0.00       750\n",
      "      benign       0.50      1.00      0.67       750\n",
      "\n",
      "    accuracy                           0.50      1500\n",
      "   macro avg       0.25      0.50      0.33      1500\n",
      "weighted avg       0.25      0.50      0.33      1500\n",
      "\n",
      "       fit_time  score_time  test_accuracy  test_precision_weighted  \\\n",
      "0    327.701036    0.045052       0.987778                 0.987837   \n",
      "1   1045.035639    0.040643       0.994444                 0.994447   \n",
      "2    311.316555    0.043903       0.995556                 0.995556   \n",
      "3    185.735422    0.042125       0.980000                 0.980098   \n",
      "4    119.551591    0.037319       0.982222                 0.982469   \n",
      "..          ...         ...            ...                      ...   \n",
      "75     1.077352    0.457446       0.496667                 0.246678   \n",
      "76     1.066748    0.457339       0.497778                 0.247783   \n",
      "77     1.109973    0.486979       0.482222                 0.232538   \n",
      "78     1.085788    0.486853       0.476667                 0.227211   \n",
      "79     1.242362    0.590841       0.488889                 0.239012   \n",
      "\n",
      "    test_recall_weighted  test_f1_weighted  test_roc_auc               model  \n",
      "0               0.987778          0.987777      0.998765  SVM-linear-scale-1  \n",
      "1               0.994444          0.994444      0.999664  SVM-linear-scale-1  \n",
      "2               0.995556          0.995556      0.999041  SVM-linear-scale-1  \n",
      "3               0.980000          0.980005      0.996105  SVM-linear-scale-1  \n",
      "4               0.982222          0.982224      0.994308  SVM-linear-scale-1  \n",
      "..                   ...               ...           ...                 ...  \n",
      "75              0.496667          0.329636      0.500000  SVM-sigmoid-auto-2  \n",
      "76              0.497778          0.330867      0.500000  SVM-sigmoid-auto-2  \n",
      "77              0.482222          0.313770      0.500000  SVM-sigmoid-auto-2  \n",
      "78              0.476667          0.307735      0.500000  SVM-sigmoid-auto-2  \n",
      "79              0.488889          0.321061      0.500000  SVM-sigmoid-auto-2  \n",
      "\n",
      "[80 rows x 8 columns]\n",
      "11639.80467826128\n"
     ]
    }
   ],
   "source": [
    " #2) Laptop\n",
    "df_malicious = pd.concat([df35])[:30000]\n",
    "df_benign = pd.concat([df8,df20,df19,df30])[:30000]\n",
    "\n",
    "print(\"malicious: {}\".format(len(df_malicious)))\n",
    "print(\"benign: {}\".format(len(df_benign)))\n",
    "\n",
    "print(\"{} NAN in malicious!\".format(len(df_malicious[df_malicious.isna().any(axis=1)])))\n",
    "print(\"{} NAN in benign!\".format(len(df_benign[df_benign.isna().any(axis=1)])))\n",
    "\n",
    "df_malicious = df_malicious.dropna()\n",
    "df_benign = df_benign.dropna()\n",
    "\n",
    "print(\"After droppping NAN rows: \")\n",
    "print(\"malicious: {}\".format(len(df_malicious)))\n",
    "print(\"benign: {}\".format(len(df_benign)))\n",
    "\n",
    "start = timer()\n",
    "\n",
    "results_Laptop_s1 = run_process(df_malicious,df_benign,df_results)\n",
    "\n",
    "\n",
    "end = timer()\n",
    "print(end - start)\n"
   ]
  },
  {
   "cell_type": "code",
   "execution_count": 10,
   "id": "88d0621b",
   "metadata": {
    "execution": {
     "iopub.execute_input": "2025-08-11T11:31:03.386140Z",
     "iopub.status.busy": "2025-08-11T11:31:03.385953Z",
     "iopub.status.idle": "2025-08-11T12:37:02.973136Z",
     "shell.execute_reply": "2025-08-11T12:37:02.971393Z"
    },
    "scrolled": true
   },
   "outputs": [
    {
     "name": "stdout",
     "output_type": "stream",
     "text": [
      "malicious: 30000\n",
      "benign: 30000\n",
      "0 NAN in malicious!\n",
      "0 NAN in benign!\n",
      "After droppping NAN rows: \n",
      "malicious: 30000\n",
      "benign: 30000\n"
     ]
    },
    {
     "name": "stderr",
     "output_type": "stream",
     "text": [
      "\r",
      "Feature Extraction:   0%|          | 0/231 [00:00<?, ?it/s]"
     ]
    },
    {
     "name": "stderr",
     "output_type": "stream",
     "text": [
      "\r",
      "Feature Extraction:   0%|          | 1/231 [00:01<06:58,  1.82s/it]"
     ]
    },
    {
     "name": "stderr",
     "output_type": "stream",
     "text": [
      "\r",
      "Feature Extraction:   2%|▏         | 4/231 [00:01<01:27,  2.60it/s]"
     ]
    },
    {
     "name": "stderr",
     "output_type": "stream",
     "text": [
      "\r",
      "Feature Extraction:   3%|▎         | 7/231 [00:02<00:44,  5.01it/s]"
     ]
    },
    {
     "name": "stderr",
     "output_type": "stream",
     "text": [
      "\r",
      "Feature Extraction:   4%|▍         | 10/231 [00:02<00:28,  7.69it/s]"
     ]
    },
    {
     "name": "stderr",
     "output_type": "stream",
     "text": [
      "\r",
      "Feature Extraction:   6%|▌         | 13/231 [00:02<00:20, 10.69it/s]"
     ]
    },
    {
     "name": "stderr",
     "output_type": "stream",
     "text": [
      "\r",
      "Feature Extraction:   7%|▋         | 16/231 [00:02<00:15, 13.48it/s]"
     ]
    },
    {
     "name": "stderr",
     "output_type": "stream",
     "text": [
      "\r",
      "Feature Extraction:   8%|▊         | 19/231 [00:02<00:13, 15.94it/s]"
     ]
    },
    {
     "name": "stderr",
     "output_type": "stream",
     "text": [
      "\r",
      "Feature Extraction:  10%|▉         | 23/231 [00:02<00:10, 19.39it/s]"
     ]
    },
    {
     "name": "stderr",
     "output_type": "stream",
     "text": [
      "\r",
      "Feature Extraction:  11%|█▏        | 26/231 [00:02<00:09, 20.53it/s]"
     ]
    },
    {
     "name": "stderr",
     "output_type": "stream",
     "text": [
      "\r",
      "Feature Extraction:  13%|█▎        | 29/231 [00:02<00:09, 21.43it/s]"
     ]
    },
    {
     "name": "stderr",
     "output_type": "stream",
     "text": [
      "\r",
      "Feature Extraction:  14%|█▍        | 32/231 [00:03<00:09, 21.94it/s]"
     ]
    },
    {
     "name": "stderr",
     "output_type": "stream",
     "text": [
      "\r",
      "Feature Extraction:  15%|█▌        | 35/231 [00:03<00:12, 16.20it/s]"
     ]
    },
    {
     "name": "stderr",
     "output_type": "stream",
     "text": [
      "\r",
      "Feature Extraction:  16%|█▋        | 38/231 [00:03<00:12, 15.52it/s]"
     ]
    },
    {
     "name": "stderr",
     "output_type": "stream",
     "text": [
      "\r",
      "Feature Extraction:  17%|█▋        | 40/231 [00:03<00:12, 15.68it/s]"
     ]
    },
    {
     "name": "stderr",
     "output_type": "stream",
     "text": [
      "\r",
      "Feature Extraction:  18%|█▊        | 42/231 [00:03<00:13, 13.83it/s]"
     ]
    },
    {
     "name": "stderr",
     "output_type": "stream",
     "text": [
      "\r",
      "Feature Extraction:  19%|█▉        | 44/231 [00:03<00:12, 14.89it/s]"
     ]
    },
    {
     "name": "stderr",
     "output_type": "stream",
     "text": [
      "\r",
      "Feature Extraction:  20%|█▉        | 46/231 [00:04<00:12, 15.41it/s]"
     ]
    },
    {
     "name": "stderr",
     "output_type": "stream",
     "text": [
      "\r",
      "Feature Extraction:  22%|██▏       | 50/231 [00:04<00:09, 18.62it/s]"
     ]
    },
    {
     "name": "stderr",
     "output_type": "stream",
     "text": [
      "\r",
      "Feature Extraction:  23%|██▎       | 54/231 [00:04<00:08, 19.95it/s]"
     ]
    },
    {
     "name": "stderr",
     "output_type": "stream",
     "text": [
      "\r",
      "Feature Extraction:  25%|██▍       | 57/231 [00:04<00:08, 20.29it/s]"
     ]
    },
    {
     "name": "stderr",
     "output_type": "stream",
     "text": [
      "\r",
      "Feature Extraction:  26%|██▌       | 60/231 [00:05<00:13, 12.32it/s]"
     ]
    },
    {
     "name": "stderr",
     "output_type": "stream",
     "text": [
      "\r",
      "Feature Extraction:  28%|██▊       | 64/231 [00:05<00:10, 15.86it/s]"
     ]
    },
    {
     "name": "stderr",
     "output_type": "stream",
     "text": [
      "\r",
      "Feature Extraction:  29%|██▉       | 68/231 [00:05<00:08, 19.30it/s]"
     ]
    },
    {
     "name": "stderr",
     "output_type": "stream",
     "text": [
      "\r",
      "Feature Extraction:  31%|███       | 71/231 [00:05<00:08, 19.01it/s]"
     ]
    },
    {
     "name": "stderr",
     "output_type": "stream",
     "text": [
      "\r",
      "Feature Extraction:  32%|███▏      | 74/231 [00:05<00:08, 18.90it/s]"
     ]
    },
    {
     "name": "stderr",
     "output_type": "stream",
     "text": [
      "\r",
      "Feature Extraction:  33%|███▎      | 77/231 [00:06<00:12, 12.69it/s]"
     ]
    },
    {
     "name": "stderr",
     "output_type": "stream",
     "text": [
      "\r",
      "Feature Extraction:  34%|███▍      | 79/231 [00:06<00:14, 10.73it/s]"
     ]
    },
    {
     "name": "stderr",
     "output_type": "stream",
     "text": [
      "\r",
      "Feature Extraction:  35%|███▌      | 81/231 [00:06<00:17,  8.44it/s]"
     ]
    },
    {
     "name": "stderr",
     "output_type": "stream",
     "text": [
      "\r",
      "Feature Extraction:  36%|███▌      | 83/231 [00:06<00:15,  9.52it/s]"
     ]
    },
    {
     "name": "stderr",
     "output_type": "stream",
     "text": [
      "\r",
      "Feature Extraction:  37%|███▋      | 85/231 [00:07<00:15,  9.69it/s]"
     ]
    },
    {
     "name": "stderr",
     "output_type": "stream",
     "text": [
      "\r",
      "Feature Extraction:  38%|███▊      | 87/231 [00:07<00:15,  9.33it/s]"
     ]
    },
    {
     "name": "stderr",
     "output_type": "stream",
     "text": [
      "\r",
      "Feature Extraction:  39%|███▊      | 89/231 [00:07<00:15,  9.27it/s]"
     ]
    },
    {
     "name": "stderr",
     "output_type": "stream",
     "text": [
      "\r",
      "Feature Extraction:  39%|███▉      | 91/231 [00:08<00:20,  6.84it/s]"
     ]
    },
    {
     "name": "stderr",
     "output_type": "stream",
     "text": [
      "\r",
      "Feature Extraction:  40%|███▉      | 92/231 [00:08<00:20,  6.82it/s]"
     ]
    },
    {
     "name": "stderr",
     "output_type": "stream",
     "text": [
      "\r",
      "Feature Extraction:  40%|████      | 93/231 [00:08<00:22,  6.23it/s]"
     ]
    },
    {
     "name": "stderr",
     "output_type": "stream",
     "text": [
      "\r",
      "Feature Extraction:  41%|████      | 94/231 [00:08<00:21,  6.25it/s]"
     ]
    },
    {
     "name": "stderr",
     "output_type": "stream",
     "text": [
      "\r",
      "Feature Extraction:  41%|████      | 95/231 [00:08<00:21,  6.29it/s]"
     ]
    },
    {
     "name": "stderr",
     "output_type": "stream",
     "text": [
      "\r",
      "Feature Extraction:  42%|████▏     | 96/231 [00:09<00:26,  5.14it/s]"
     ]
    },
    {
     "name": "stderr",
     "output_type": "stream",
     "text": [
      "\r",
      "Feature Extraction:  42%|████▏     | 97/231 [00:09<00:25,  5.22it/s]"
     ]
    },
    {
     "name": "stderr",
     "output_type": "stream",
     "text": [
      "\r",
      "Feature Extraction:  44%|████▍     | 102/231 [00:09<00:10, 12.50it/s]"
     ]
    },
    {
     "name": "stderr",
     "output_type": "stream",
     "text": [
      "\r",
      "Feature Extraction:  45%|████▌     | 104/231 [00:10<00:27,  4.59it/s]"
     ]
    },
    {
     "name": "stderr",
     "output_type": "stream",
     "text": [
      "\r",
      "Feature Extraction:  46%|████▌     | 106/231 [00:10<00:21,  5.83it/s]"
     ]
    },
    {
     "name": "stderr",
     "output_type": "stream",
     "text": [
      "\r",
      "Feature Extraction:  48%|████▊     | 110/231 [00:10<00:13,  9.21it/s]"
     ]
    },
    {
     "name": "stderr",
     "output_type": "stream",
     "text": [
      "\r",
      "Feature Extraction:  49%|████▉     | 113/231 [00:11<00:16,  7.33it/s]"
     ]
    },
    {
     "name": "stderr",
     "output_type": "stream",
     "text": [
      "\r",
      "Feature Extraction:  50%|████▉     | 115/231 [00:11<00:15,  7.57it/s]"
     ]
    },
    {
     "name": "stderr",
     "output_type": "stream",
     "text": [
      "\r",
      "Feature Extraction:  51%|█████     | 117/231 [00:11<00:16,  6.81it/s]"
     ]
    },
    {
     "name": "stderr",
     "output_type": "stream",
     "text": [
      "\r",
      "Feature Extraction:  52%|█████▏    | 119/231 [00:12<00:25,  4.43it/s]"
     ]
    },
    {
     "name": "stderr",
     "output_type": "stream",
     "text": [
      "\r",
      "Feature Extraction:  52%|█████▏    | 120/231 [00:14<00:55,  1.99it/s]"
     ]
    },
    {
     "name": "stderr",
     "output_type": "stream",
     "text": [
      "\r",
      "Feature Extraction:  52%|█████▏    | 121/231 [00:14<00:47,  2.29it/s]"
     ]
    },
    {
     "name": "stderr",
     "output_type": "stream",
     "text": [
      "\r",
      "Feature Extraction:  53%|█████▎    | 122/231 [00:16<01:22,  1.32it/s]"
     ]
    },
    {
     "name": "stderr",
     "output_type": "stream",
     "text": [
      "\r",
      "Feature Extraction:  53%|█████▎    | 123/231 [00:17<01:14,  1.45it/s]"
     ]
    },
    {
     "name": "stderr",
     "output_type": "stream",
     "text": [
      "\r",
      "Feature Extraction:  54%|█████▎    | 124/231 [00:17<01:00,  1.76it/s]"
     ]
    },
    {
     "name": "stderr",
     "output_type": "stream",
     "text": [
      "\r",
      "Feature Extraction:  54%|█████▍    | 125/231 [00:18<01:05,  1.62it/s]"
     ]
    },
    {
     "name": "stderr",
     "output_type": "stream",
     "text": [
      "\r",
      "Feature Extraction:  55%|█████▍    | 127/231 [00:18<00:50,  2.04it/s]"
     ]
    },
    {
     "name": "stderr",
     "output_type": "stream",
     "text": [
      "\r",
      "Feature Extraction:  56%|█████▋    | 130/231 [00:19<00:28,  3.54it/s]"
     ]
    },
    {
     "name": "stderr",
     "output_type": "stream",
     "text": [
      "\r",
      "Feature Extraction:  57%|█████▋    | 131/231 [00:19<00:25,  3.92it/s]"
     ]
    },
    {
     "name": "stderr",
     "output_type": "stream",
     "text": [
      "\r",
      "Feature Extraction:  57%|█████▋    | 132/231 [00:19<00:25,  3.94it/s]"
     ]
    },
    {
     "name": "stderr",
     "output_type": "stream",
     "text": [
      "\r",
      "Feature Extraction:  58%|█████▊    | 133/231 [00:19<00:22,  4.34it/s]"
     ]
    },
    {
     "name": "stderr",
     "output_type": "stream",
     "text": [
      "\r",
      "Feature Extraction:  58%|█████▊    | 134/231 [00:20<00:41,  2.32it/s]"
     ]
    },
    {
     "name": "stderr",
     "output_type": "stream",
     "text": [
      "\r",
      "Feature Extraction:  58%|█████▊    | 135/231 [00:20<00:37,  2.55it/s]"
     ]
    },
    {
     "name": "stderr",
     "output_type": "stream",
     "text": [
      "\r",
      "Feature Extraction:  59%|█████▉    | 137/231 [00:21<00:27,  3.45it/s]"
     ]
    },
    {
     "name": "stderr",
     "output_type": "stream",
     "text": [
      "\r",
      "Feature Extraction:  60%|█████▉    | 138/231 [00:21<00:28,  3.29it/s]"
     ]
    },
    {
     "name": "stderr",
     "output_type": "stream",
     "text": [
      "\r",
      "Feature Extraction:  61%|██████    | 140/231 [00:24<01:04,  1.41it/s]"
     ]
    },
    {
     "name": "stderr",
     "output_type": "stream",
     "text": [
      "\r",
      "Feature Extraction:  61%|██████    | 141/231 [00:24<00:57,  1.57it/s]"
     ]
    },
    {
     "name": "stderr",
     "output_type": "stream",
     "text": [
      "\r",
      "Feature Extraction:  61%|██████▏   | 142/231 [00:28<02:14,  1.51s/it]"
     ]
    },
    {
     "name": "stderr",
     "output_type": "stream",
     "text": [
      "\r",
      "Feature Extraction:  62%|██████▏   | 143/231 [00:29<01:44,  1.19s/it]"
     ]
    },
    {
     "name": "stderr",
     "output_type": "stream",
     "text": [
      "\r",
      "Feature Extraction:  63%|██████▎   | 146/231 [00:29<00:59,  1.43it/s]"
     ]
    },
    {
     "name": "stderr",
     "output_type": "stream",
     "text": [
      "\r",
      "Feature Extraction:  64%|██████▎   | 147/231 [00:30<00:48,  1.72it/s]"
     ]
    },
    {
     "name": "stderr",
     "output_type": "stream",
     "text": [
      "\r",
      "Feature Extraction:  65%|██████▍   | 150/231 [00:30<00:27,  2.90it/s]"
     ]
    },
    {
     "name": "stderr",
     "output_type": "stream",
     "text": [
      "\r",
      "Feature Extraction:  66%|██████▌   | 152/231 [00:30<00:26,  3.00it/s]"
     ]
    },
    {
     "name": "stderr",
     "output_type": "stream",
     "text": [
      "\r",
      "Feature Extraction:  66%|██████▌   | 153/231 [00:31<00:27,  2.81it/s]"
     ]
    },
    {
     "name": "stderr",
     "output_type": "stream",
     "text": [
      "\r",
      "Feature Extraction:  67%|██████▋   | 154/231 [00:31<00:28,  2.71it/s]"
     ]
    },
    {
     "name": "stderr",
     "output_type": "stream",
     "text": [
      "\r",
      "Feature Extraction:  67%|██████▋   | 155/231 [00:32<00:29,  2.60it/s]"
     ]
    },
    {
     "name": "stderr",
     "output_type": "stream",
     "text": [
      "\r",
      "Feature Extraction:  69%|██████▉   | 159/231 [00:32<00:13,  5.40it/s]"
     ]
    },
    {
     "name": "stderr",
     "output_type": "stream",
     "text": [
      "\r",
      "Feature Extraction:  70%|███████   | 162/231 [00:32<00:08,  7.70it/s]"
     ]
    },
    {
     "name": "stderr",
     "output_type": "stream",
     "text": [
      "\r",
      "Feature Extraction:  72%|███████▏  | 166/231 [00:32<00:08,  7.38it/s]"
     ]
    },
    {
     "name": "stderr",
     "output_type": "stream",
     "text": [
      "\r",
      "Feature Extraction:  73%|███████▎  | 168/231 [00:37<00:36,  1.72it/s]"
     ]
    },
    {
     "name": "stderr",
     "output_type": "stream",
     "text": [
      "\r",
      "Feature Extraction:  73%|███████▎  | 169/231 [00:37<00:32,  1.89it/s]"
     ]
    },
    {
     "name": "stderr",
     "output_type": "stream",
     "text": [
      "\r",
      "Feature Extraction:  74%|███████▍  | 172/231 [00:38<00:24,  2.38it/s]"
     ]
    },
    {
     "name": "stderr",
     "output_type": "stream",
     "text": [
      "\r",
      "Feature Extraction:  76%|███████▌  | 175/231 [00:38<00:19,  2.89it/s]"
     ]
    },
    {
     "name": "stderr",
     "output_type": "stream",
     "text": [
      "\r",
      "Feature Extraction:  76%|███████▌  | 176/231 [00:39<00:20,  2.63it/s]"
     ]
    },
    {
     "name": "stderr",
     "output_type": "stream",
     "text": [
      "\r",
      "Feature Extraction:  77%|███████▋  | 177/231 [00:39<00:20,  2.69it/s]"
     ]
    },
    {
     "name": "stderr",
     "output_type": "stream",
     "text": [
      "\r",
      "Feature Extraction:  77%|███████▋  | 178/231 [00:40<00:27,  1.91it/s]"
     ]
    },
    {
     "name": "stderr",
     "output_type": "stream",
     "text": [
      "\r",
      "Feature Extraction:  77%|███████▋  | 179/231 [00:41<00:24,  2.10it/s]"
     ]
    },
    {
     "name": "stderr",
     "output_type": "stream",
     "text": [
      "\r",
      "Feature Extraction:  78%|███████▊  | 180/231 [00:41<00:19,  2.58it/s]"
     ]
    },
    {
     "name": "stderr",
     "output_type": "stream",
     "text": [
      "\r",
      "Feature Extraction:  78%|███████▊  | 181/231 [00:41<00:19,  2.61it/s]"
     ]
    },
    {
     "name": "stderr",
     "output_type": "stream",
     "text": [
      "\r",
      "Feature Extraction:  79%|███████▉  | 182/231 [00:42<00:32,  1.52it/s]"
     ]
    },
    {
     "name": "stderr",
     "output_type": "stream",
     "text": [
      "\r",
      "Feature Extraction:  79%|███████▉  | 183/231 [00:44<00:41,  1.16it/s]"
     ]
    },
    {
     "name": "stderr",
     "output_type": "stream",
     "text": [
      "\r",
      "Feature Extraction:  80%|███████▉  | 184/231 [00:44<00:32,  1.43it/s]"
     ]
    },
    {
     "name": "stderr",
     "output_type": "stream",
     "text": [
      "\r",
      "Feature Extraction:  81%|████████  | 186/231 [00:44<00:20,  2.18it/s]"
     ]
    },
    {
     "name": "stderr",
     "output_type": "stream",
     "text": [
      "\r",
      "Feature Extraction:  81%|████████  | 187/231 [00:45<00:16,  2.67it/s]"
     ]
    },
    {
     "name": "stderr",
     "output_type": "stream",
     "text": [
      "\r",
      "Feature Extraction:  83%|████████▎ | 191/231 [00:45<00:07,  5.62it/s]"
     ]
    },
    {
     "name": "stderr",
     "output_type": "stream",
     "text": [
      "\r",
      "Feature Extraction:  84%|████████▎ | 193/231 [00:45<00:05,  7.00it/s]"
     ]
    },
    {
     "name": "stderr",
     "output_type": "stream",
     "text": [
      "\r",
      "Feature Extraction:  86%|████████▌ | 198/231 [00:45<00:02, 12.35it/s]"
     ]
    },
    {
     "name": "stderr",
     "output_type": "stream",
     "text": [
      "\r",
      "Feature Extraction:  89%|████████▊ | 205/231 [00:45<00:01, 21.03it/s]"
     ]
    },
    {
     "name": "stderr",
     "output_type": "stream",
     "text": [
      "\r",
      "Feature Extraction:  90%|█████████ | 209/231 [00:45<00:01, 20.23it/s]"
     ]
    },
    {
     "name": "stderr",
     "output_type": "stream",
     "text": [
      "\r",
      "Feature Extraction:  93%|█████████▎| 215/231 [00:45<00:00, 24.62it/s]"
     ]
    },
    {
     "name": "stderr",
     "output_type": "stream",
     "text": [
      "\r",
      "Feature Extraction:  95%|█████████▍| 219/231 [00:46<00:00, 24.49it/s]"
     ]
    },
    {
     "name": "stderr",
     "output_type": "stream",
     "text": [
      "\r",
      "Feature Extraction:  97%|█████████▋| 223/231 [00:46<00:00, 24.36it/s]"
     ]
    },
    {
     "name": "stderr",
     "output_type": "stream",
     "text": [
      "\r",
      "Feature Extraction:  99%|█████████▊| 228/231 [00:46<00:00, 29.19it/s]"
     ]
    },
    {
     "name": "stderr",
     "output_type": "stream",
     "text": [
      "\r",
      "Feature Extraction: 100%|██████████| 231/231 [00:46<00:00,  4.97it/s]"
     ]
    },
    {
     "name": "stderr",
     "output_type": "stream",
     "text": [
      "\n"
     ]
    },
    {
     "name": "stderr",
     "output_type": "stream",
     "text": [
      "\r",
      "Feature Extraction:   0%|          | 0/231 [00:00<?, ?it/s]"
     ]
    },
    {
     "name": "stderr",
     "output_type": "stream",
     "text": [
      "\r",
      "Feature Extraction:   0%|          | 1/231 [00:01<05:58,  1.56s/it]"
     ]
    },
    {
     "name": "stderr",
     "output_type": "stream",
     "text": [
      "\r",
      "Feature Extraction:   1%|          | 2/231 [00:01<02:52,  1.33it/s]"
     ]
    },
    {
     "name": "stderr",
     "output_type": "stream",
     "text": [
      "\r",
      "Feature Extraction:   1%|▏         | 3/231 [00:01<01:56,  1.96it/s]"
     ]
    },
    {
     "name": "stderr",
     "output_type": "stream",
     "text": [
      "\r",
      "Feature Extraction:   2%|▏         | 4/231 [00:02<01:22,  2.74it/s]"
     ]
    },
    {
     "name": "stderr",
     "output_type": "stream",
     "text": [
      "\r",
      "Feature Extraction:   2%|▏         | 5/231 [00:02<01:06,  3.42it/s]"
     ]
    },
    {
     "name": "stderr",
     "output_type": "stream",
     "text": [
      "\r",
      "Feature Extraction:   3%|▎         | 6/231 [00:02<00:55,  4.07it/s]"
     ]
    },
    {
     "name": "stderr",
     "output_type": "stream",
     "text": [
      "\r",
      "Feature Extraction:   3%|▎         | 7/231 [00:02<00:49,  4.53it/s]"
     ]
    },
    {
     "name": "stderr",
     "output_type": "stream",
     "text": [
      "\r",
      "Feature Extraction:   4%|▍         | 9/231 [00:02<00:34,  6.42it/s]"
     ]
    },
    {
     "name": "stderr",
     "output_type": "stream",
     "text": [
      "\r",
      "Feature Extraction:   5%|▌         | 12/231 [00:02<00:21,  9.98it/s]"
     ]
    },
    {
     "name": "stderr",
     "output_type": "stream",
     "text": [
      "\r",
      "Feature Extraction:   7%|▋         | 17/231 [00:03<00:12, 17.57it/s]"
     ]
    },
    {
     "name": "stderr",
     "output_type": "stream",
     "text": [
      "\r",
      "Feature Extraction:   9%|▊         | 20/231 [00:03<00:15, 13.76it/s]"
     ]
    },
    {
     "name": "stderr",
     "output_type": "stream",
     "text": [
      "\r",
      "Feature Extraction:  11%|█         | 25/231 [00:03<00:10, 19.39it/s]"
     ]
    },
    {
     "name": "stderr",
     "output_type": "stream",
     "text": [
      "\r",
      "Feature Extraction:  12%|█▏        | 28/231 [00:03<00:15, 12.83it/s]"
     ]
    },
    {
     "name": "stderr",
     "output_type": "stream",
     "text": [
      "\r",
      "Feature Extraction:  13%|█▎        | 31/231 [00:04<00:14, 13.52it/s]"
     ]
    },
    {
     "name": "stderr",
     "output_type": "stream",
     "text": [
      "\r",
      "Feature Extraction:  16%|█▌        | 36/231 [00:04<00:10, 18.61it/s]"
     ]
    },
    {
     "name": "stderr",
     "output_type": "stream",
     "text": [
      "\r",
      "Feature Extraction:  17%|█▋        | 40/231 [00:04<00:08, 21.92it/s]"
     ]
    },
    {
     "name": "stderr",
     "output_type": "stream",
     "text": [
      "\r",
      "Feature Extraction:  19%|█▊        | 43/231 [00:04<00:08, 22.22it/s]"
     ]
    },
    {
     "name": "stderr",
     "output_type": "stream",
     "text": [
      "\r",
      "Feature Extraction:  20%|██        | 47/231 [00:04<00:10, 17.25it/s]"
     ]
    },
    {
     "name": "stderr",
     "output_type": "stream",
     "text": [
      "\r",
      "Feature Extraction:  22%|██▏       | 50/231 [00:16<03:15,  1.08s/it]"
     ]
    },
    {
     "name": "stderr",
     "output_type": "stream",
     "text": [
      "\r",
      "Feature Extraction:  23%|██▎       | 52/231 [00:16<02:37,  1.14it/s]"
     ]
    },
    {
     "name": "stderr",
     "output_type": "stream",
     "text": [
      "\r",
      "Feature Extraction:  24%|██▍       | 56/231 [00:17<01:50,  1.58it/s]"
     ]
    },
    {
     "name": "stderr",
     "output_type": "stream",
     "text": [
      "\r",
      "Feature Extraction:  25%|██▌       | 58/231 [00:18<01:34,  1.83it/s]"
     ]
    },
    {
     "name": "stderr",
     "output_type": "stream",
     "text": [
      "\r",
      "Feature Extraction:  27%|██▋       | 62/231 [00:18<01:01,  2.76it/s]"
     ]
    },
    {
     "name": "stderr",
     "output_type": "stream",
     "text": [
      "\r",
      "Feature Extraction:  28%|██▊       | 65/231 [00:18<00:45,  3.63it/s]"
     ]
    },
    {
     "name": "stderr",
     "output_type": "stream",
     "text": [
      "\r",
      "Feature Extraction:  30%|██▉       | 69/231 [00:18<00:30,  5.32it/s]"
     ]
    },
    {
     "name": "stderr",
     "output_type": "stream",
     "text": [
      "\r",
      "Feature Extraction:  32%|███▏      | 74/231 [00:18<00:19,  7.98it/s]"
     ]
    },
    {
     "name": "stderr",
     "output_type": "stream",
     "text": [
      "\r",
      "Feature Extraction:  34%|███▍      | 78/231 [00:18<00:14, 10.46it/s]"
     ]
    },
    {
     "name": "stderr",
     "output_type": "stream",
     "text": [
      "\r",
      "Feature Extraction:  36%|███▌      | 83/231 [00:19<00:10, 14.29it/s]"
     ]
    },
    {
     "name": "stderr",
     "output_type": "stream",
     "text": [
      "\r",
      "Feature Extraction:  38%|███▊      | 87/231 [00:19<00:08, 16.62it/s]"
     ]
    },
    {
     "name": "stderr",
     "output_type": "stream",
     "text": [
      "\r",
      "Feature Extraction:  39%|███▉      | 91/231 [00:19<00:07, 17.60it/s]"
     ]
    },
    {
     "name": "stderr",
     "output_type": "stream",
     "text": [
      "\r",
      "Feature Extraction:  41%|████      | 95/231 [00:19<00:06, 20.57it/s]"
     ]
    },
    {
     "name": "stderr",
     "output_type": "stream",
     "text": [
      "\r",
      "Feature Extraction:  43%|████▎     | 99/231 [00:20<00:15,  8.52it/s]"
     ]
    },
    {
     "name": "stderr",
     "output_type": "stream",
     "text": [
      "\r",
      "Feature Extraction:  44%|████▍     | 102/231 [00:20<00:14,  9.18it/s]"
     ]
    },
    {
     "name": "stderr",
     "output_type": "stream",
     "text": [
      "\r",
      "Feature Extraction:  45%|████▌     | 105/231 [00:20<00:11, 10.59it/s]"
     ]
    },
    {
     "name": "stderr",
     "output_type": "stream",
     "text": [
      "\r",
      "Feature Extraction:  46%|████▋     | 107/231 [00:21<00:10, 11.51it/s]"
     ]
    },
    {
     "name": "stderr",
     "output_type": "stream",
     "text": [
      "\r",
      "Feature Extraction:  48%|████▊     | 110/231 [00:21<00:08, 13.78it/s]"
     ]
    },
    {
     "name": "stderr",
     "output_type": "stream",
     "text": [
      "\r",
      "Feature Extraction:  49%|████▉     | 113/231 [00:21<00:07, 15.05it/s]"
     ]
    },
    {
     "name": "stderr",
     "output_type": "stream",
     "text": [
      "\r",
      "Feature Extraction:  50%|█████     | 116/231 [00:21<00:06, 17.15it/s]"
     ]
    },
    {
     "name": "stderr",
     "output_type": "stream",
     "text": [
      "\r",
      "Feature Extraction:  52%|█████▏    | 119/231 [00:21<00:06, 16.45it/s]"
     ]
    },
    {
     "name": "stderr",
     "output_type": "stream",
     "text": [
      "\r",
      "Feature Extraction:  52%|█████▏    | 121/231 [00:21<00:08, 12.50it/s]"
     ]
    },
    {
     "name": "stderr",
     "output_type": "stream",
     "text": [
      "\r",
      "Feature Extraction:  54%|█████▎    | 124/231 [00:22<00:07, 15.05it/s]"
     ]
    },
    {
     "name": "stderr",
     "output_type": "stream",
     "text": [
      "\r",
      "Feature Extraction:  55%|█████▍    | 127/231 [00:22<00:06, 16.55it/s]"
     ]
    },
    {
     "name": "stderr",
     "output_type": "stream",
     "text": [
      "\r",
      "Feature Extraction:  57%|█████▋    | 131/231 [00:22<00:05, 19.82it/s]"
     ]
    },
    {
     "name": "stderr",
     "output_type": "stream",
     "text": [
      "\r",
      "Feature Extraction:  58%|█████▊    | 134/231 [00:22<00:04, 20.98it/s]"
     ]
    },
    {
     "name": "stderr",
     "output_type": "stream",
     "text": [
      "\r",
      "Feature Extraction:  59%|█████▉    | 137/231 [00:22<00:04, 19.87it/s]"
     ]
    },
    {
     "name": "stderr",
     "output_type": "stream",
     "text": [
      "\r",
      "Feature Extraction:  61%|██████    | 141/231 [00:22<00:03, 22.54it/s]"
     ]
    },
    {
     "name": "stderr",
     "output_type": "stream",
     "text": [
      "\r",
      "Feature Extraction:  62%|██████▏   | 144/231 [00:22<00:04, 20.64it/s]"
     ]
    },
    {
     "name": "stderr",
     "output_type": "stream",
     "text": [
      "\r",
      "Feature Extraction:  64%|██████▍   | 148/231 [00:23<00:03, 24.01it/s]"
     ]
    },
    {
     "name": "stderr",
     "output_type": "stream",
     "text": [
      "\r",
      "Feature Extraction:  65%|██████▌   | 151/231 [00:23<00:04, 17.42it/s]"
     ]
    },
    {
     "name": "stderr",
     "output_type": "stream",
     "text": [
      "\r",
      "Feature Extraction:  67%|██████▋   | 154/231 [00:23<00:04, 17.89it/s]"
     ]
    },
    {
     "name": "stderr",
     "output_type": "stream",
     "text": [
      "\r",
      "Feature Extraction:  68%|██████▊   | 157/231 [00:23<00:03, 19.96it/s]"
     ]
    },
    {
     "name": "stderr",
     "output_type": "stream",
     "text": [
      "\r",
      "Feature Extraction:  69%|██████▉   | 160/231 [00:23<00:03, 20.90it/s]"
     ]
    },
    {
     "name": "stderr",
     "output_type": "stream",
     "text": [
      "\r",
      "Feature Extraction:  71%|███████   | 164/231 [00:23<00:02, 24.53it/s]"
     ]
    },
    {
     "name": "stderr",
     "output_type": "stream",
     "text": [
      "\r",
      "Feature Extraction:  72%|███████▏  | 167/231 [00:24<00:02, 25.51it/s]"
     ]
    },
    {
     "name": "stderr",
     "output_type": "stream",
     "text": [
      "\r",
      "Feature Extraction:  74%|███████▎  | 170/231 [00:24<00:04, 14.33it/s]"
     ]
    },
    {
     "name": "stderr",
     "output_type": "stream",
     "text": [
      "\r",
      "Feature Extraction:  75%|███████▍  | 173/231 [00:24<00:05, 10.42it/s]"
     ]
    },
    {
     "name": "stderr",
     "output_type": "stream",
     "text": [
      "\r",
      "Feature Extraction:  76%|███████▌  | 176/231 [00:25<00:05, 10.44it/s]"
     ]
    },
    {
     "name": "stderr",
     "output_type": "stream",
     "text": [
      "\r",
      "Feature Extraction:  77%|███████▋  | 178/231 [00:25<00:05,  9.34it/s]"
     ]
    },
    {
     "name": "stderr",
     "output_type": "stream",
     "text": [
      "\r",
      "Feature Extraction:  78%|███████▊  | 181/231 [00:25<00:04, 11.68it/s]"
     ]
    },
    {
     "name": "stderr",
     "output_type": "stream",
     "text": [
      "\r",
      "Feature Extraction:  79%|███████▉  | 183/231 [00:25<00:04,  9.95it/s]"
     ]
    },
    {
     "name": "stderr",
     "output_type": "stream",
     "text": [
      "\r",
      "Feature Extraction:  80%|████████  | 185/231 [00:28<00:16,  2.83it/s]"
     ]
    },
    {
     "name": "stderr",
     "output_type": "stream",
     "text": [
      "\r",
      "Feature Extraction:  81%|████████  | 186/231 [00:28<00:18,  2.49it/s]"
     ]
    },
    {
     "name": "stderr",
     "output_type": "stream",
     "text": [
      "\r",
      "Feature Extraction:  81%|████████  | 187/231 [00:29<00:20,  2.14it/s]"
     ]
    },
    {
     "name": "stderr",
     "output_type": "stream",
     "text": [
      "\r",
      "Feature Extraction:  82%|████████▏ | 189/231 [00:30<00:17,  2.47it/s]"
     ]
    },
    {
     "name": "stderr",
     "output_type": "stream",
     "text": [
      "\r",
      "Feature Extraction:  82%|████████▏ | 190/231 [00:30<00:19,  2.06it/s]"
     ]
    },
    {
     "name": "stderr",
     "output_type": "stream",
     "text": [
      "\r",
      "Feature Extraction:  83%|████████▎ | 191/231 [00:31<00:23,  1.69it/s]"
     ]
    },
    {
     "name": "stderr",
     "output_type": "stream",
     "text": [
      "\r",
      "Feature Extraction:  83%|████████▎ | 192/231 [00:32<00:20,  1.88it/s]"
     ]
    },
    {
     "name": "stderr",
     "output_type": "stream",
     "text": [
      "\r",
      "Feature Extraction:  84%|████████▎ | 193/231 [00:32<00:19,  1.95it/s]"
     ]
    },
    {
     "name": "stderr",
     "output_type": "stream",
     "text": [
      "\r",
      "Feature Extraction:  84%|████████▍ | 194/231 [00:33<00:17,  2.10it/s]"
     ]
    },
    {
     "name": "stderr",
     "output_type": "stream",
     "text": [
      "\r",
      "Feature Extraction:  84%|████████▍ | 195/231 [00:33<00:15,  2.27it/s]"
     ]
    },
    {
     "name": "stderr",
     "output_type": "stream",
     "text": [
      "\r",
      "Feature Extraction:  86%|████████▌ | 198/231 [00:33<00:07,  4.31it/s]"
     ]
    },
    {
     "name": "stderr",
     "output_type": "stream",
     "text": [
      "\r",
      "Feature Extraction:  86%|████████▌ | 199/231 [00:35<00:17,  1.84it/s]"
     ]
    },
    {
     "name": "stderr",
     "output_type": "stream",
     "text": [
      "\r",
      "Feature Extraction:  87%|████████▋ | 201/231 [00:35<00:11,  2.71it/s]"
     ]
    },
    {
     "name": "stderr",
     "output_type": "stream",
     "text": [
      "\r",
      "Feature Extraction:  89%|████████▊ | 205/231 [00:35<00:05,  4.82it/s]"
     ]
    },
    {
     "name": "stderr",
     "output_type": "stream",
     "text": [
      "\r",
      "Feature Extraction:  90%|████████▉ | 207/231 [00:36<00:04,  4.89it/s]"
     ]
    },
    {
     "name": "stderr",
     "output_type": "stream",
     "text": [
      "\r",
      "Feature Extraction:  90%|█████████ | 209/231 [00:36<00:03,  6.16it/s]"
     ]
    },
    {
     "name": "stderr",
     "output_type": "stream",
     "text": [
      "\r",
      "Feature Extraction:  91%|█████████▏| 211/231 [00:36<00:02,  6.81it/s]"
     ]
    },
    {
     "name": "stderr",
     "output_type": "stream",
     "text": [
      "\r",
      "Feature Extraction:  93%|█████████▎| 215/231 [00:36<00:01,  9.94it/s]"
     ]
    },
    {
     "name": "stderr",
     "output_type": "stream",
     "text": [
      "\r",
      "Feature Extraction:  95%|█████████▌| 220/231 [00:36<00:00, 14.03it/s]"
     ]
    },
    {
     "name": "stderr",
     "output_type": "stream",
     "text": [
      "\r",
      "Feature Extraction:  97%|█████████▋| 224/231 [00:36<00:00, 16.92it/s]"
     ]
    },
    {
     "name": "stderr",
     "output_type": "stream",
     "text": [
      "\r",
      "Feature Extraction:  98%|█████████▊| 227/231 [00:37<00:00, 12.29it/s]"
     ]
    },
    {
     "name": "stderr",
     "output_type": "stream",
     "text": [
      "\r",
      "Feature Extraction:  99%|█████████▉| 229/231 [00:37<00:00, 11.93it/s]"
     ]
    },
    {
     "name": "stderr",
     "output_type": "stream",
     "text": [
      "\r",
      "Feature Extraction: 100%|██████████| 231/231 [00:37<00:00, 10.34it/s]"
     ]
    },
    {
     "name": "stderr",
     "output_type": "stream",
     "text": [
      "\r",
      "Feature Extraction: 100%|██████████| 231/231 [00:37<00:00,  6.10it/s]"
     ]
    },
    {
     "name": "stderr",
     "output_type": "stream",
     "text": [
      "\n"
     ]
    },
    {
     "name": "stdout",
     "output_type": "stream",
     "text": [
      "let the ml starts\n"
     ]
    },
    {
     "name": "stdout",
     "output_type": "stream",
     "text": [
      "SVM-linear-scale-1\n",
      "              precision    recall  f1-score   support\n",
      "\n",
      "   malignant       0.98      0.99      0.99       750\n",
      "      benign       0.99      0.98      0.99       750\n",
      "\n",
      "    accuracy                           0.99      1500\n",
      "   macro avg       0.99      0.99      0.99      1500\n",
      "weighted avg       0.99      0.99      0.99      1500\n",
      "\n",
      "     fit_time  score_time  test_accuracy  test_precision_weighted  \\\n",
      "0    8.397530    0.023579       1.000000                 1.000000   \n",
      "1  150.129567    0.031011       0.971111                 0.971197   \n",
      "2  173.176408    0.029342       0.953333                 0.953333   \n",
      "3  310.818301    0.027340       0.971111                 0.971126   \n",
      "4  102.675374    0.026834       0.972222                 0.972327   \n",
      "\n",
      "   test_recall_weighted  test_f1_weighted  test_roc_auc               model  \n",
      "0              1.000000          1.000000      1.000000  SVM-linear-scale-1  \n",
      "1              0.971111          0.971111      0.989960  SVM-linear-scale-1  \n",
      "2              0.953333          0.953333      0.991619  SVM-linear-scale-1  \n",
      "3              0.971111          0.971114      0.995071  SVM-linear-scale-1  \n",
      "4              0.972222          0.972216      0.992698  SVM-linear-scale-1  \n"
     ]
    },
    {
     "name": "stdout",
     "output_type": "stream",
     "text": [
      "SVM-poly-scale-1\n",
      "              precision    recall  f1-score   support\n",
      "\n",
      "   malignant       0.91      0.94      0.93       750\n",
      "      benign       0.94      0.91      0.92       750\n",
      "\n",
      "    accuracy                           0.93      1500\n",
      "   macro avg       0.93      0.93      0.93      1500\n",
      "weighted avg       0.93      0.93      0.93      1500\n",
      "\n",
      "     fit_time  score_time  test_accuracy  test_precision_weighted  \\\n",
      "0    8.397530    0.023579       1.000000                 1.000000   \n",
      "1  150.129567    0.031011       0.971111                 0.971197   \n",
      "2  173.176408    0.029342       0.953333                 0.953333   \n",
      "3  310.818301    0.027340       0.971111                 0.971126   \n",
      "4  102.675374    0.026834       0.972222                 0.972327   \n",
      "5    0.400510    0.137179       0.932222                 0.932492   \n",
      "6    0.393843    0.134725       0.922222                 0.922362   \n",
      "7    0.397656    0.136359       0.926667                 0.927116   \n",
      "8    0.395744    0.138410       0.938889                 0.939221   \n",
      "9    0.408690    0.147547       0.924444                 0.924804   \n",
      "\n",
      "   test_recall_weighted  test_f1_weighted  test_roc_auc               model  \n",
      "0              1.000000          1.000000      1.000000  SVM-linear-scale-1  \n",
      "1              0.971111          0.971111      0.989960  SVM-linear-scale-1  \n",
      "2              0.953333          0.953333      0.991619  SVM-linear-scale-1  \n",
      "3              0.971111          0.971114      0.995071  SVM-linear-scale-1  \n",
      "4              0.972222          0.972216      0.992698  SVM-linear-scale-1  \n",
      "5              0.932222          0.932218      0.972122    SVM-poly-scale-1  \n",
      "6              0.922222          0.922219      0.967244    SVM-poly-scale-1  \n",
      "7              0.926667          0.926597      0.976603    SVM-poly-scale-1  \n",
      "8              0.938889          0.938915      0.976403    SVM-poly-scale-1  \n",
      "9              0.924444          0.924400      0.968325    SVM-poly-scale-1  \n"
     ]
    },
    {
     "name": "stdout",
     "output_type": "stream",
     "text": [
      "SVM-rbf-scale-1\n",
      "              precision    recall  f1-score   support\n",
      "\n",
      "   malignant       0.88      0.95      0.91       750\n",
      "      benign       0.95      0.87      0.91       750\n",
      "\n",
      "    accuracy                           0.91      1500\n",
      "   macro avg       0.91      0.91      0.91      1500\n",
      "weighted avg       0.91      0.91      0.91      1500\n",
      "\n",
      "      fit_time  score_time  test_accuracy  test_precision_weighted  \\\n",
      "0     8.397530    0.023579       1.000000                 1.000000   \n",
      "1   150.129567    0.031011       0.971111                 0.971197   \n",
      "2   173.176408    0.029342       0.953333                 0.953333   \n",
      "3   310.818301    0.027340       0.971111                 0.971126   \n",
      "4   102.675374    0.026834       0.972222                 0.972327   \n",
      "5     0.400510    0.137179       0.932222                 0.932492   \n",
      "6     0.393843    0.134725       0.922222                 0.922362   \n",
      "7     0.397656    0.136359       0.926667                 0.927116   \n",
      "8     0.395744    0.138410       0.938889                 0.939221   \n",
      "9     0.408690    0.147547       0.924444                 0.924804   \n",
      "10    0.405238    0.318894       0.911111                 0.915133   \n",
      "11    0.391580    0.306295       0.904444                 0.908036   \n",
      "12    0.403497    0.308515       0.912222                 0.916476   \n",
      "13    0.410768    0.349397       0.920000                 0.923315   \n",
      "14    0.456690    0.372526       0.916667                 0.919671   \n",
      "\n",
      "    test_recall_weighted  test_f1_weighted  test_roc_auc               model  \n",
      "0               1.000000          1.000000      1.000000  SVM-linear-scale-1  \n",
      "1               0.971111          0.971111      0.989960  SVM-linear-scale-1  \n",
      "2               0.953333          0.953333      0.991619  SVM-linear-scale-1  \n",
      "3               0.971111          0.971114      0.995071  SVM-linear-scale-1  \n",
      "4               0.972222          0.972216      0.992698  SVM-linear-scale-1  \n",
      "5               0.932222          0.932218      0.972122    SVM-poly-scale-1  \n",
      "6               0.922222          0.922219      0.967244    SVM-poly-scale-1  \n",
      "7               0.926667          0.926597      0.976603    SVM-poly-scale-1  \n",
      "8               0.938889          0.938915      0.976403    SVM-poly-scale-1  \n",
      "9               0.924444          0.924400      0.968325    SVM-poly-scale-1  \n",
      "10              0.911111          0.910927      0.965974     SVM-rbf-scale-1  \n",
      "11              0.904444          0.904256      0.961772     SVM-rbf-scale-1  \n",
      "12              0.912222          0.911817      0.968691     SVM-rbf-scale-1  \n",
      "13              0.920000          0.920015      0.971815     SVM-rbf-scale-1  \n",
      "14              0.916667          0.916429      0.964792     SVM-rbf-scale-1  \n"
     ]
    },
    {
     "name": "stdout",
     "output_type": "stream",
     "text": [
      "SVM-sigmoid-scale-1\n",
      "              precision    recall  f1-score   support\n",
      "\n",
      "   malignant       0.65      0.64      0.65       750\n",
      "      benign       0.65      0.65      0.65       750\n",
      "\n",
      "    accuracy                           0.65      1500\n",
      "   macro avg       0.65      0.65      0.65      1500\n",
      "weighted avg       0.65      0.65      0.65      1500\n",
      "\n",
      "      fit_time  score_time  test_accuracy  test_precision_weighted  \\\n",
      "0     8.397530    0.023579       1.000000                 1.000000   \n",
      "1   150.129567    0.031011       0.971111                 0.971197   \n",
      "2   173.176408    0.029342       0.953333                 0.953333   \n",
      "3   310.818301    0.027340       0.971111                 0.971126   \n",
      "4   102.675374    0.026834       0.972222                 0.972327   \n",
      "5     0.400510    0.137179       0.932222                 0.932492   \n",
      "6     0.393843    0.134725       0.922222                 0.922362   \n",
      "7     0.397656    0.136359       0.926667                 0.927116   \n",
      "8     0.395744    0.138410       0.938889                 0.939221   \n",
      "9     0.408690    0.147547       0.924444                 0.924804   \n",
      "10    0.405238    0.318894       0.911111                 0.915133   \n",
      "11    0.391580    0.306295       0.904444                 0.908036   \n",
      "12    0.403497    0.308515       0.912222                 0.916476   \n",
      "13    0.410768    0.349397       0.920000                 0.923315   \n",
      "14    0.456690    0.372526       0.916667                 0.919671   \n",
      "15    0.760614    0.264169       0.597778                 0.597766   \n",
      "16    0.599853    0.264058       0.596667                 0.596834   \n",
      "17    0.636695    0.279099       0.618889                 0.620665   \n",
      "18    0.467280    0.204659       0.777778                 0.777698   \n",
      "19    0.691091    0.303186       0.618889                 0.620937   \n",
      "\n",
      "    test_recall_weighted  test_f1_weighted  test_roc_auc                model  \n",
      "0               1.000000          1.000000      1.000000   SVM-linear-scale-1  \n",
      "1               0.971111          0.971111      0.989960   SVM-linear-scale-1  \n",
      "2               0.953333          0.953333      0.991619   SVM-linear-scale-1  \n",
      "3               0.971111          0.971114      0.995071   SVM-linear-scale-1  \n",
      "4               0.972222          0.972216      0.992698   SVM-linear-scale-1  \n",
      "5               0.932222          0.932218      0.972122     SVM-poly-scale-1  \n",
      "6               0.922222          0.922219      0.967244     SVM-poly-scale-1  \n",
      "7               0.926667          0.926597      0.976603     SVM-poly-scale-1  \n",
      "8               0.938889          0.938915      0.976403     SVM-poly-scale-1  \n",
      "9               0.924444          0.924400      0.968325     SVM-poly-scale-1  \n",
      "10              0.911111          0.910927      0.965974      SVM-rbf-scale-1  \n",
      "11              0.904444          0.904256      0.961772      SVM-rbf-scale-1  \n",
      "12              0.912222          0.911817      0.968691      SVM-rbf-scale-1  \n",
      "13              0.920000          0.920015      0.971815      SVM-rbf-scale-1  \n",
      "14              0.916667          0.916429      0.964792      SVM-rbf-scale-1  \n",
      "15              0.597778          0.597698      0.663634  SVM-sigmoid-scale-1  \n",
      "16              0.596667          0.596584      0.680991  SVM-sigmoid-scale-1  \n",
      "17              0.618889          0.618839      0.698542  SVM-sigmoid-scale-1  \n",
      "18              0.777778          0.777599      0.819612  SVM-sigmoid-scale-1  \n",
      "19              0.618889          0.618359      0.688132  SVM-sigmoid-scale-1  \n"
     ]
    },
    {
     "name": "stdout",
     "output_type": "stream",
     "text": [
      "SVM-linear-auto-1\n",
      "              precision    recall  f1-score   support\n",
      "\n",
      "   malignant       0.98      0.99      0.99       750\n",
      "      benign       0.99      0.98      0.99       750\n",
      "\n",
      "    accuracy                           0.99      1500\n",
      "   macro avg       0.99      0.99      0.99      1500\n",
      "weighted avg       0.99      0.99      0.99      1500\n",
      "\n",
      "      fit_time  score_time  test_accuracy  test_precision_weighted  \\\n",
      "0     8.397530    0.023579       1.000000                 1.000000   \n",
      "1   150.129567    0.031011       0.971111                 0.971197   \n",
      "2   173.176408    0.029342       0.953333                 0.953333   \n",
      "3   310.818301    0.027340       0.971111                 0.971126   \n",
      "4   102.675374    0.026834       0.972222                 0.972327   \n",
      "5     0.400510    0.137179       0.932222                 0.932492   \n",
      "6     0.393843    0.134725       0.922222                 0.922362   \n",
      "7     0.397656    0.136359       0.926667                 0.927116   \n",
      "8     0.395744    0.138410       0.938889                 0.939221   \n",
      "9     0.408690    0.147547       0.924444                 0.924804   \n",
      "10    0.405238    0.318894       0.911111                 0.915133   \n",
      "11    0.391580    0.306295       0.904444                 0.908036   \n",
      "12    0.403497    0.308515       0.912222                 0.916476   \n",
      "13    0.410768    0.349397       0.920000                 0.923315   \n",
      "14    0.456690    0.372526       0.916667                 0.919671   \n",
      "15    0.760614    0.264169       0.597778                 0.597766   \n",
      "16    0.599853    0.264058       0.596667                 0.596834   \n",
      "17    0.636695    0.279099       0.618889                 0.620665   \n",
      "18    0.467280    0.204659       0.777778                 0.777698   \n",
      "19    0.691091    0.303186       0.618889                 0.620937   \n",
      "20    7.018485    0.025697       1.000000                 1.000000   \n",
      "21  148.621893    0.025537       0.971111                 0.971197   \n",
      "22  173.187800    0.027259       0.953333                 0.953333   \n",
      "23  307.596851    0.027952       0.971111                 0.971126   \n",
      "24  100.732225    0.026091       0.972222                 0.972327   \n",
      "\n",
      "    test_recall_weighted  test_f1_weighted  test_roc_auc                model  \n",
      "0               1.000000          1.000000      1.000000   SVM-linear-scale-1  \n",
      "1               0.971111          0.971111      0.989960   SVM-linear-scale-1  \n",
      "2               0.953333          0.953333      0.991619   SVM-linear-scale-1  \n",
      "3               0.971111          0.971114      0.995071   SVM-linear-scale-1  \n",
      "4               0.972222          0.972216      0.992698   SVM-linear-scale-1  \n",
      "5               0.932222          0.932218      0.972122     SVM-poly-scale-1  \n",
      "6               0.922222          0.922219      0.967244     SVM-poly-scale-1  \n",
      "7               0.926667          0.926597      0.976603     SVM-poly-scale-1  \n",
      "8               0.938889          0.938915      0.976403     SVM-poly-scale-1  \n",
      "9               0.924444          0.924400      0.968325     SVM-poly-scale-1  \n",
      "10              0.911111          0.910927      0.965974      SVM-rbf-scale-1  \n",
      "11              0.904444          0.904256      0.961772      SVM-rbf-scale-1  \n",
      "12              0.912222          0.911817      0.968691      SVM-rbf-scale-1  \n",
      "13              0.920000          0.920015      0.971815      SVM-rbf-scale-1  \n",
      "14              0.916667          0.916429      0.964792      SVM-rbf-scale-1  \n",
      "15              0.597778          0.597698      0.663634  SVM-sigmoid-scale-1  \n",
      "16              0.596667          0.596584      0.680991  SVM-sigmoid-scale-1  \n",
      "17              0.618889          0.618839      0.698542  SVM-sigmoid-scale-1  \n",
      "18              0.777778          0.777599      0.819612  SVM-sigmoid-scale-1  \n",
      "19              0.618889          0.618359      0.688132  SVM-sigmoid-scale-1  \n",
      "20              1.000000          1.000000      1.000000    SVM-linear-auto-1  \n",
      "21              0.971111          0.971111      0.989960    SVM-linear-auto-1  \n",
      "22              0.953333          0.953333      0.991619    SVM-linear-auto-1  \n",
      "23              0.971111          0.971114      0.995071    SVM-linear-auto-1  \n",
      "24              0.972222          0.972216      0.992698    SVM-linear-auto-1  \n"
     ]
    },
    {
     "name": "stdout",
     "output_type": "stream",
     "text": [
      "SVM-poly-auto-1\n",
      "              precision    recall  f1-score   support\n",
      "\n",
      "   malignant       0.97      0.97      0.97       750\n",
      "      benign       0.97      0.97      0.97       750\n",
      "\n",
      "    accuracy                           0.97      1500\n",
      "   macro avg       0.97      0.97      0.97      1500\n",
      "weighted avg       0.97      0.97      0.97      1500\n",
      "\n",
      "      fit_time  score_time  test_accuracy  test_precision_weighted  \\\n",
      "0     8.397530    0.023579       1.000000                 1.000000   \n",
      "1   150.129567    0.031011       0.971111                 0.971197   \n",
      "2   173.176408    0.029342       0.953333                 0.953333   \n",
      "3   310.818301    0.027340       0.971111                 0.971126   \n",
      "4   102.675374    0.026834       0.972222                 0.972327   \n",
      "5     0.400510    0.137179       0.932222                 0.932492   \n",
      "6     0.393843    0.134725       0.922222                 0.922362   \n",
      "7     0.397656    0.136359       0.926667                 0.927116   \n",
      "8     0.395744    0.138410       0.938889                 0.939221   \n",
      "9     0.408690    0.147547       0.924444                 0.924804   \n",
      "10    0.405238    0.318894       0.911111                 0.915133   \n",
      "11    0.391580    0.306295       0.904444                 0.908036   \n",
      "12    0.403497    0.308515       0.912222                 0.916476   \n",
      "13    0.410768    0.349397       0.920000                 0.923315   \n",
      "14    0.456690    0.372526       0.916667                 0.919671   \n",
      "15    0.760614    0.264169       0.597778                 0.597766   \n",
      "16    0.599853    0.264058       0.596667                 0.596834   \n",
      "17    0.636695    0.279099       0.618889                 0.620665   \n",
      "18    0.467280    0.204659       0.777778                 0.777698   \n",
      "19    0.691091    0.303186       0.618889                 0.620937   \n",
      "20    7.018485    0.025697       1.000000                 1.000000   \n",
      "21  148.621893    0.025537       0.971111                 0.971197   \n",
      "22  173.187800    0.027259       0.953333                 0.953333   \n",
      "23  307.596851    0.027952       0.971111                 0.971126   \n",
      "24  100.732225    0.026091       0.972222                 0.972327   \n",
      "25    0.490472    0.063492       0.960000                 0.960000   \n",
      "26    0.490647    0.060762       0.957778                 0.957812   \n",
      "27    0.523115    0.052858       0.968889                 0.968903   \n",
      "28    0.418921    0.053246       0.957778                 0.957958   \n",
      "29    0.492457    0.054206       0.936667                 0.936695   \n",
      "\n",
      "    test_recall_weighted  test_f1_weighted  test_roc_auc                model  \n",
      "0               1.000000          1.000000      1.000000   SVM-linear-scale-1  \n",
      "1               0.971111          0.971111      0.989960   SVM-linear-scale-1  \n",
      "2               0.953333          0.953333      0.991619   SVM-linear-scale-1  \n",
      "3               0.971111          0.971114      0.995071   SVM-linear-scale-1  \n",
      "4               0.972222          0.972216      0.992698   SVM-linear-scale-1  \n",
      "5               0.932222          0.932218      0.972122     SVM-poly-scale-1  \n",
      "6               0.922222          0.922219      0.967244     SVM-poly-scale-1  \n",
      "7               0.926667          0.926597      0.976603     SVM-poly-scale-1  \n",
      "8               0.938889          0.938915      0.976403     SVM-poly-scale-1  \n",
      "9               0.924444          0.924400      0.968325     SVM-poly-scale-1  \n",
      "10              0.911111          0.910927      0.965974      SVM-rbf-scale-1  \n",
      "11              0.904444          0.904256      0.961772      SVM-rbf-scale-1  \n",
      "12              0.912222          0.911817      0.968691      SVM-rbf-scale-1  \n",
      "13              0.920000          0.920015      0.971815      SVM-rbf-scale-1  \n",
      "14              0.916667          0.916429      0.964792      SVM-rbf-scale-1  \n",
      "15              0.597778          0.597698      0.663634  SVM-sigmoid-scale-1  \n",
      "16              0.596667          0.596584      0.680991  SVM-sigmoid-scale-1  \n",
      "17              0.618889          0.618839      0.698542  SVM-sigmoid-scale-1  \n",
      "18              0.777778          0.777599      0.819612  SVM-sigmoid-scale-1  \n",
      "19              0.618889          0.618359      0.688132  SVM-sigmoid-scale-1  \n",
      "20              1.000000          1.000000      1.000000    SVM-linear-auto-1  \n",
      "21              0.971111          0.971111      0.989960    SVM-linear-auto-1  \n",
      "22              0.953333          0.953333      0.991619    SVM-linear-auto-1  \n",
      "23              0.971111          0.971114      0.995071    SVM-linear-auto-1  \n",
      "24              0.972222          0.972216      0.992698    SVM-linear-auto-1  \n",
      "25              0.960000          0.960000      0.988656      SVM-poly-auto-1  \n",
      "26              0.957778          0.957776      0.986573      SVM-poly-auto-1  \n",
      "27              0.968889          0.968891      0.989033      SVM-poly-auto-1  \n",
      "28              0.957778          0.957792      0.977368      SVM-poly-auto-1  \n",
      "29              0.936667          0.936671      0.962890      SVM-poly-auto-1  \n"
     ]
    },
    {
     "name": "stdout",
     "output_type": "stream",
     "text": [
      "SVM-rbf-auto-1\n",
      "              precision    recall  f1-score   support\n",
      "\n",
      "   malignant       0.66      1.00      0.79       750\n",
      "      benign       1.00      0.48      0.65       750\n",
      "\n",
      "    accuracy                           0.74      1500\n",
      "   macro avg       0.83      0.74      0.72      1500\n",
      "weighted avg       0.83      0.74      0.72      1500\n",
      "\n",
      "      fit_time  score_time  test_accuracy  test_precision_weighted  \\\n",
      "0     8.397530    0.023579       1.000000                 1.000000   \n",
      "1   150.129567    0.031011       0.971111                 0.971197   \n",
      "2   173.176408    0.029342       0.953333                 0.953333   \n",
      "3   310.818301    0.027340       0.971111                 0.971126   \n",
      "4   102.675374    0.026834       0.972222                 0.972327   \n",
      "5     0.400510    0.137179       0.932222                 0.932492   \n",
      "6     0.393843    0.134725       0.922222                 0.922362   \n",
      "7     0.397656    0.136359       0.926667                 0.927116   \n",
      "8     0.395744    0.138410       0.938889                 0.939221   \n",
      "9     0.408690    0.147547       0.924444                 0.924804   \n",
      "10    0.405238    0.318894       0.911111                 0.915133   \n",
      "11    0.391580    0.306295       0.904444                 0.908036   \n",
      "12    0.403497    0.308515       0.912222                 0.916476   \n",
      "13    0.410768    0.349397       0.920000                 0.923315   \n",
      "14    0.456690    0.372526       0.916667                 0.919671   \n",
      "15    0.760614    0.264169       0.597778                 0.597766   \n",
      "16    0.599853    0.264058       0.596667                 0.596834   \n",
      "17    0.636695    0.279099       0.618889                 0.620665   \n",
      "18    0.467280    0.204659       0.777778                 0.777698   \n",
      "19    0.691091    0.303186       0.618889                 0.620937   \n",
      "20    7.018485    0.025697       1.000000                 1.000000   \n",
      "21  148.621893    0.025537       0.971111                 0.971197   \n",
      "22  173.187800    0.027259       0.953333                 0.953333   \n",
      "23  307.596851    0.027952       0.971111                 0.971126   \n",
      "24  100.732225    0.026091       0.972222                 0.972327   \n",
      "25    0.490472    0.063492       0.960000                 0.960000   \n",
      "26    0.490647    0.060762       0.957778                 0.957812   \n",
      "27    0.523115    0.052858       0.968889                 0.968903   \n",
      "28    0.418921    0.053246       0.957778                 0.957958   \n",
      "29    0.492457    0.054206       0.936667                 0.936695   \n",
      "30    1.136520    1.136216       0.721111                 0.821399   \n",
      "31    1.234134    1.076904       0.733333                 0.826357   \n",
      "32    1.393219    1.246254       0.742222                 0.827902   \n",
      "33    1.173908    0.853197       0.717778                 0.820523   \n",
      "34    1.030487    0.871564       0.708889                 0.809546   \n",
      "\n",
      "    test_recall_weighted  test_f1_weighted  test_roc_auc                model  \n",
      "0               1.000000          1.000000      1.000000   SVM-linear-scale-1  \n",
      "1               0.971111          0.971111      0.989960   SVM-linear-scale-1  \n",
      "2               0.953333          0.953333      0.991619   SVM-linear-scale-1  \n",
      "3               0.971111          0.971114      0.995071   SVM-linear-scale-1  \n",
      "4               0.972222          0.972216      0.992698   SVM-linear-scale-1  \n",
      "5               0.932222          0.932218      0.972122     SVM-poly-scale-1  \n",
      "6               0.922222          0.922219      0.967244     SVM-poly-scale-1  \n",
      "7               0.926667          0.926597      0.976603     SVM-poly-scale-1  \n",
      "8               0.938889          0.938915      0.976403     SVM-poly-scale-1  \n",
      "9               0.924444          0.924400      0.968325     SVM-poly-scale-1  \n",
      "10              0.911111          0.910927      0.965974      SVM-rbf-scale-1  \n",
      "11              0.904444          0.904256      0.961772      SVM-rbf-scale-1  \n",
      "12              0.912222          0.911817      0.968691      SVM-rbf-scale-1  \n",
      "13              0.920000          0.920015      0.971815      SVM-rbf-scale-1  \n",
      "14              0.916667          0.916429      0.964792      SVM-rbf-scale-1  \n",
      "15              0.597778          0.597698      0.663634  SVM-sigmoid-scale-1  \n",
      "16              0.596667          0.596584      0.680991  SVM-sigmoid-scale-1  \n",
      "17              0.618889          0.618839      0.698542  SVM-sigmoid-scale-1  \n",
      "18              0.777778          0.777599      0.819612  SVM-sigmoid-scale-1  \n",
      "19              0.618889          0.618359      0.688132  SVM-sigmoid-scale-1  \n",
      "20              1.000000          1.000000      1.000000    SVM-linear-auto-1  \n",
      "21              0.971111          0.971111      0.989960    SVM-linear-auto-1  \n",
      "22              0.953333          0.953333      0.991619    SVM-linear-auto-1  \n",
      "23              0.971111          0.971114      0.995071    SVM-linear-auto-1  \n",
      "24              0.972222          0.972216      0.992698    SVM-linear-auto-1  \n",
      "25              0.960000          0.960000      0.988656      SVM-poly-auto-1  \n",
      "26              0.957778          0.957776      0.986573      SVM-poly-auto-1  \n",
      "27              0.968889          0.968891      0.989033      SVM-poly-auto-1  \n",
      "28              0.957778          0.957792      0.977368      SVM-poly-auto-1  \n",
      "29              0.936667          0.936671      0.962890      SVM-poly-auto-1  \n",
      "30              0.721111          0.698243      0.763538       SVM-rbf-auto-1  \n",
      "31              0.733333          0.713310      0.786514       SVM-rbf-auto-1  \n",
      "32              0.742222          0.720895      0.776199       SVM-rbf-auto-1  \n",
      "33              0.717778          0.698278      0.784746       SVM-rbf-auto-1  \n",
      "34              0.708889          0.680393      0.750993       SVM-rbf-auto-1  \n"
     ]
    },
    {
     "name": "stdout",
     "output_type": "stream",
     "text": [
      "SVM-sigmoid-auto-1\n",
      "              precision    recall  f1-score   support\n",
      "\n",
      "   malignant       0.00      0.00      0.00       750\n",
      "      benign       0.50      1.00      0.67       750\n",
      "\n",
      "    accuracy                           0.50      1500\n",
      "   macro avg       0.25      0.50      0.33      1500\n",
      "weighted avg       0.25      0.50      0.33      1500\n",
      "\n",
      "      fit_time  score_time  test_accuracy  test_precision_weighted  \\\n",
      "0     8.397530    0.023579       1.000000                 1.000000   \n",
      "1   150.129567    0.031011       0.971111                 0.971197   \n",
      "2   173.176408    0.029342       0.953333                 0.953333   \n",
      "3   310.818301    0.027340       0.971111                 0.971126   \n",
      "4   102.675374    0.026834       0.972222                 0.972327   \n",
      "5     0.400510    0.137179       0.932222                 0.932492   \n",
      "6     0.393843    0.134725       0.922222                 0.922362   \n",
      "7     0.397656    0.136359       0.926667                 0.927116   \n",
      "8     0.395744    0.138410       0.938889                 0.939221   \n",
      "9     0.408690    0.147547       0.924444                 0.924804   \n",
      "10    0.405238    0.318894       0.911111                 0.915133   \n",
      "11    0.391580    0.306295       0.904444                 0.908036   \n",
      "12    0.403497    0.308515       0.912222                 0.916476   \n",
      "13    0.410768    0.349397       0.920000                 0.923315   \n",
      "14    0.456690    0.372526       0.916667                 0.919671   \n",
      "15    0.760614    0.264169       0.597778                 0.597766   \n",
      "16    0.599853    0.264058       0.596667                 0.596834   \n",
      "17    0.636695    0.279099       0.618889                 0.620665   \n",
      "18    0.467280    0.204659       0.777778                 0.777698   \n",
      "19    0.691091    0.303186       0.618889                 0.620937   \n",
      "20    7.018485    0.025697       1.000000                 1.000000   \n",
      "21  148.621893    0.025537       0.971111                 0.971197   \n",
      "22  173.187800    0.027259       0.953333                 0.953333   \n",
      "23  307.596851    0.027952       0.971111                 0.971126   \n",
      "24  100.732225    0.026091       0.972222                 0.972327   \n",
      "25    0.490472    0.063492       0.960000                 0.960000   \n",
      "26    0.490647    0.060762       0.957778                 0.957812   \n",
      "27    0.523115    0.052858       0.968889                 0.968903   \n",
      "28    0.418921    0.053246       0.957778                 0.957958   \n",
      "29    0.492457    0.054206       0.936667                 0.936695   \n",
      "30    1.136520    1.136216       0.721111                 0.821399   \n",
      "31    1.234134    1.076904       0.733333                 0.826357   \n",
      "32    1.393219    1.246254       0.742222                 0.827902   \n",
      "33    1.173908    0.853197       0.717778                 0.820523   \n",
      "34    1.030487    0.871564       0.708889                 0.809546   \n",
      "35    1.232131    0.542098       0.496667                 0.246678   \n",
      "36    1.258573    0.461154       0.497778                 0.247783   \n",
      "37    1.035329    0.471601       0.482222                 0.232538   \n",
      "38    1.166383    0.509355       0.476667                 0.227211   \n",
      "39    1.269231    0.538114       0.488889                 0.239012   \n",
      "\n",
      "    test_recall_weighted  test_f1_weighted  test_roc_auc                model  \n",
      "0               1.000000          1.000000      1.000000   SVM-linear-scale-1  \n",
      "1               0.971111          0.971111      0.989960   SVM-linear-scale-1  \n",
      "2               0.953333          0.953333      0.991619   SVM-linear-scale-1  \n",
      "3               0.971111          0.971114      0.995071   SVM-linear-scale-1  \n",
      "4               0.972222          0.972216      0.992698   SVM-linear-scale-1  \n",
      "5               0.932222          0.932218      0.972122     SVM-poly-scale-1  \n",
      "6               0.922222          0.922219      0.967244     SVM-poly-scale-1  \n",
      "7               0.926667          0.926597      0.976603     SVM-poly-scale-1  \n",
      "8               0.938889          0.938915      0.976403     SVM-poly-scale-1  \n",
      "9               0.924444          0.924400      0.968325     SVM-poly-scale-1  \n",
      "10              0.911111          0.910927      0.965974      SVM-rbf-scale-1  \n",
      "11              0.904444          0.904256      0.961772      SVM-rbf-scale-1  \n",
      "12              0.912222          0.911817      0.968691      SVM-rbf-scale-1  \n",
      "13              0.920000          0.920015      0.971815      SVM-rbf-scale-1  \n",
      "14              0.916667          0.916429      0.964792      SVM-rbf-scale-1  \n",
      "15              0.597778          0.597698      0.663634  SVM-sigmoid-scale-1  \n",
      "16              0.596667          0.596584      0.680991  SVM-sigmoid-scale-1  \n",
      "17              0.618889          0.618839      0.698542  SVM-sigmoid-scale-1  \n",
      "18              0.777778          0.777599      0.819612  SVM-sigmoid-scale-1  \n",
      "19              0.618889          0.618359      0.688132  SVM-sigmoid-scale-1  \n",
      "20              1.000000          1.000000      1.000000    SVM-linear-auto-1  \n",
      "21              0.971111          0.971111      0.989960    SVM-linear-auto-1  \n",
      "22              0.953333          0.953333      0.991619    SVM-linear-auto-1  \n",
      "23              0.971111          0.971114      0.995071    SVM-linear-auto-1  \n",
      "24              0.972222          0.972216      0.992698    SVM-linear-auto-1  \n",
      "25              0.960000          0.960000      0.988656      SVM-poly-auto-1  \n",
      "26              0.957778          0.957776      0.986573      SVM-poly-auto-1  \n",
      "27              0.968889          0.968891      0.989033      SVM-poly-auto-1  \n",
      "28              0.957778          0.957792      0.977368      SVM-poly-auto-1  \n",
      "29              0.936667          0.936671      0.962890      SVM-poly-auto-1  \n",
      "30              0.721111          0.698243      0.763538       SVM-rbf-auto-1  \n",
      "31              0.733333          0.713310      0.786514       SVM-rbf-auto-1  \n",
      "32              0.742222          0.720895      0.776199       SVM-rbf-auto-1  \n",
      "33              0.717778          0.698278      0.784746       SVM-rbf-auto-1  \n",
      "34              0.708889          0.680393      0.750993       SVM-rbf-auto-1  \n",
      "35              0.496667          0.329636      0.500000   SVM-sigmoid-auto-1  \n",
      "36              0.497778          0.330867      0.500000   SVM-sigmoid-auto-1  \n",
      "37              0.482222          0.313770      0.500000   SVM-sigmoid-auto-1  \n",
      "38              0.476667          0.307735      0.500000   SVM-sigmoid-auto-1  \n",
      "39              0.488889          0.321061      0.500000   SVM-sigmoid-auto-1  \n"
     ]
    },
    {
     "name": "stdout",
     "output_type": "stream",
     "text": [
      "SVM-linear-scale-2\n",
      "              precision    recall  f1-score   support\n",
      "\n",
      "   malignant       0.98      0.99      0.99       750\n",
      "      benign       0.99      0.98      0.99       750\n",
      "\n",
      "    accuracy                           0.99      1500\n",
      "   macro avg       0.99      0.99      0.99      1500\n",
      "weighted avg       0.99      0.99      0.99      1500\n",
      "\n",
      "      fit_time  score_time  test_accuracy  test_precision_weighted  \\\n",
      "0     8.397530    0.023579       1.000000                 1.000000   \n",
      "1   150.129567    0.031011       0.971111                 0.971197   \n",
      "2   173.176408    0.029342       0.953333                 0.953333   \n",
      "3   310.818301    0.027340       0.971111                 0.971126   \n",
      "4   102.675374    0.026834       0.972222                 0.972327   \n",
      "5     0.400510    0.137179       0.932222                 0.932492   \n",
      "6     0.393843    0.134725       0.922222                 0.922362   \n",
      "7     0.397656    0.136359       0.926667                 0.927116   \n",
      "8     0.395744    0.138410       0.938889                 0.939221   \n",
      "9     0.408690    0.147547       0.924444                 0.924804   \n",
      "10    0.405238    0.318894       0.911111                 0.915133   \n",
      "11    0.391580    0.306295       0.904444                 0.908036   \n",
      "12    0.403497    0.308515       0.912222                 0.916476   \n",
      "13    0.410768    0.349397       0.920000                 0.923315   \n",
      "14    0.456690    0.372526       0.916667                 0.919671   \n",
      "15    0.760614    0.264169       0.597778                 0.597766   \n",
      "16    0.599853    0.264058       0.596667                 0.596834   \n",
      "17    0.636695    0.279099       0.618889                 0.620665   \n",
      "18    0.467280    0.204659       0.777778                 0.777698   \n",
      "19    0.691091    0.303186       0.618889                 0.620937   \n",
      "20    7.018485    0.025697       1.000000                 1.000000   \n",
      "21  148.621893    0.025537       0.971111                 0.971197   \n",
      "22  173.187800    0.027259       0.953333                 0.953333   \n",
      "23  307.596851    0.027952       0.971111                 0.971126   \n",
      "24  100.732225    0.026091       0.972222                 0.972327   \n",
      "25    0.490472    0.063492       0.960000                 0.960000   \n",
      "26    0.490647    0.060762       0.957778                 0.957812   \n",
      "27    0.523115    0.052858       0.968889                 0.968903   \n",
      "28    0.418921    0.053246       0.957778                 0.957958   \n",
      "29    0.492457    0.054206       0.936667                 0.936695   \n",
      "30    1.136520    1.136216       0.721111                 0.821399   \n",
      "31    1.234134    1.076904       0.733333                 0.826357   \n",
      "32    1.393219    1.246254       0.742222                 0.827902   \n",
      "33    1.173908    0.853197       0.717778                 0.820523   \n",
      "34    1.030487    0.871564       0.708889                 0.809546   \n",
      "35    1.232131    0.542098       0.496667                 0.246678   \n",
      "36    1.258573    0.461154       0.497778                 0.247783   \n",
      "37    1.035329    0.471601       0.482222                 0.232538   \n",
      "38    1.166383    0.509355       0.476667                 0.227211   \n",
      "39    1.269231    0.538114       0.488889                 0.239012   \n",
      "40    6.779870    0.025312       1.000000                 1.000000   \n",
      "41  191.967792    0.029989       0.971111                 0.971197   \n",
      "42  143.524782    0.029781       0.953333                 0.953333   \n",
      "43  393.592223    0.031730       0.971111                 0.971126   \n",
      "44   81.027636    0.030327       0.973333                 0.973410   \n",
      "\n",
      "    test_recall_weighted  test_f1_weighted  test_roc_auc                model  \n",
      "0               1.000000          1.000000      1.000000   SVM-linear-scale-1  \n",
      "1               0.971111          0.971111      0.989960   SVM-linear-scale-1  \n",
      "2               0.953333          0.953333      0.991619   SVM-linear-scale-1  \n",
      "3               0.971111          0.971114      0.995071   SVM-linear-scale-1  \n",
      "4               0.972222          0.972216      0.992698   SVM-linear-scale-1  \n",
      "5               0.932222          0.932218      0.972122     SVM-poly-scale-1  \n",
      "6               0.922222          0.922219      0.967244     SVM-poly-scale-1  \n",
      "7               0.926667          0.926597      0.976603     SVM-poly-scale-1  \n",
      "8               0.938889          0.938915      0.976403     SVM-poly-scale-1  \n",
      "9               0.924444          0.924400      0.968325     SVM-poly-scale-1  \n",
      "10              0.911111          0.910927      0.965974      SVM-rbf-scale-1  \n",
      "11              0.904444          0.904256      0.961772      SVM-rbf-scale-1  \n",
      "12              0.912222          0.911817      0.968691      SVM-rbf-scale-1  \n",
      "13              0.920000          0.920015      0.971815      SVM-rbf-scale-1  \n",
      "14              0.916667          0.916429      0.964792      SVM-rbf-scale-1  \n",
      "15              0.597778          0.597698      0.663634  SVM-sigmoid-scale-1  \n",
      "16              0.596667          0.596584      0.680991  SVM-sigmoid-scale-1  \n",
      "17              0.618889          0.618839      0.698542  SVM-sigmoid-scale-1  \n",
      "18              0.777778          0.777599      0.819612  SVM-sigmoid-scale-1  \n",
      "19              0.618889          0.618359      0.688132  SVM-sigmoid-scale-1  \n",
      "20              1.000000          1.000000      1.000000    SVM-linear-auto-1  \n",
      "21              0.971111          0.971111      0.989960    SVM-linear-auto-1  \n",
      "22              0.953333          0.953333      0.991619    SVM-linear-auto-1  \n",
      "23              0.971111          0.971114      0.995071    SVM-linear-auto-1  \n",
      "24              0.972222          0.972216      0.992698    SVM-linear-auto-1  \n",
      "25              0.960000          0.960000      0.988656      SVM-poly-auto-1  \n",
      "26              0.957778          0.957776      0.986573      SVM-poly-auto-1  \n",
      "27              0.968889          0.968891      0.989033      SVM-poly-auto-1  \n",
      "28              0.957778          0.957792      0.977368      SVM-poly-auto-1  \n",
      "29              0.936667          0.936671      0.962890      SVM-poly-auto-1  \n",
      "30              0.721111          0.698243      0.763538       SVM-rbf-auto-1  \n",
      "31              0.733333          0.713310      0.786514       SVM-rbf-auto-1  \n",
      "32              0.742222          0.720895      0.776199       SVM-rbf-auto-1  \n",
      "33              0.717778          0.698278      0.784746       SVM-rbf-auto-1  \n",
      "34              0.708889          0.680393      0.750993       SVM-rbf-auto-1  \n",
      "35              0.496667          0.329636      0.500000   SVM-sigmoid-auto-1  \n",
      "36              0.497778          0.330867      0.500000   SVM-sigmoid-auto-1  \n",
      "37              0.482222          0.313770      0.500000   SVM-sigmoid-auto-1  \n",
      "38              0.476667          0.307735      0.500000   SVM-sigmoid-auto-1  \n",
      "39              0.488889          0.321061      0.500000   SVM-sigmoid-auto-1  \n",
      "40              1.000000          1.000000      1.000000   SVM-linear-scale-2  \n",
      "41              0.971111          0.971111      0.989778   SVM-linear-scale-2  \n",
      "42              0.953333          0.953333      0.991476   SVM-linear-scale-2  \n",
      "43              0.971111          0.971114      0.994972   SVM-linear-scale-2  \n",
      "44              0.973333          0.973328      0.992638   SVM-linear-scale-2  \n"
     ]
    },
    {
     "name": "stdout",
     "output_type": "stream",
     "text": [
      "SVM-poly-scale-2\n",
      "              precision    recall  f1-score   support\n",
      "\n",
      "   malignant       0.92      0.95      0.94       750\n",
      "      benign       0.95      0.92      0.93       750\n",
      "\n",
      "    accuracy                           0.93      1500\n",
      "   macro avg       0.93      0.93      0.93      1500\n",
      "weighted avg       0.93      0.93      0.93      1500\n",
      "\n",
      "      fit_time  score_time  test_accuracy  test_precision_weighted  \\\n",
      "0     8.397530    0.023579       1.000000                 1.000000   \n",
      "1   150.129567    0.031011       0.971111                 0.971197   \n",
      "2   173.176408    0.029342       0.953333                 0.953333   \n",
      "3   310.818301    0.027340       0.971111                 0.971126   \n",
      "4   102.675374    0.026834       0.972222                 0.972327   \n",
      "5     0.400510    0.137179       0.932222                 0.932492   \n",
      "6     0.393843    0.134725       0.922222                 0.922362   \n",
      "7     0.397656    0.136359       0.926667                 0.927116   \n",
      "8     0.395744    0.138410       0.938889                 0.939221   \n",
      "9     0.408690    0.147547       0.924444                 0.924804   \n",
      "10    0.405238    0.318894       0.911111                 0.915133   \n",
      "11    0.391580    0.306295       0.904444                 0.908036   \n",
      "12    0.403497    0.308515       0.912222                 0.916476   \n",
      "13    0.410768    0.349397       0.920000                 0.923315   \n",
      "14    0.456690    0.372526       0.916667                 0.919671   \n",
      "15    0.760614    0.264169       0.597778                 0.597766   \n",
      "16    0.599853    0.264058       0.596667                 0.596834   \n",
      "17    0.636695    0.279099       0.618889                 0.620665   \n",
      "18    0.467280    0.204659       0.777778                 0.777698   \n",
      "19    0.691091    0.303186       0.618889                 0.620937   \n",
      "20    7.018485    0.025697       1.000000                 1.000000   \n",
      "21  148.621893    0.025537       0.971111                 0.971197   \n",
      "22  173.187800    0.027259       0.953333                 0.953333   \n",
      "23  307.596851    0.027952       0.971111                 0.971126   \n",
      "24  100.732225    0.026091       0.972222                 0.972327   \n",
      "25    0.490472    0.063492       0.960000                 0.960000   \n",
      "26    0.490647    0.060762       0.957778                 0.957812   \n",
      "27    0.523115    0.052858       0.968889                 0.968903   \n",
      "28    0.418921    0.053246       0.957778                 0.957958   \n",
      "29    0.492457    0.054206       0.936667                 0.936695   \n",
      "30    1.136520    1.136216       0.721111                 0.821399   \n",
      "31    1.234134    1.076904       0.733333                 0.826357   \n",
      "32    1.393219    1.246254       0.742222                 0.827902   \n",
      "33    1.173908    0.853197       0.717778                 0.820523   \n",
      "34    1.030487    0.871564       0.708889                 0.809546   \n",
      "35    1.232131    0.542098       0.496667                 0.246678   \n",
      "36    1.258573    0.461154       0.497778                 0.247783   \n",
      "37    1.035329    0.471601       0.482222                 0.232538   \n",
      "38    1.166383    0.509355       0.476667                 0.227211   \n",
      "39    1.269231    0.538114       0.488889                 0.239012   \n",
      "40    6.779870    0.025312       1.000000                 1.000000   \n",
      "41  191.967792    0.029989       0.971111                 0.971197   \n",
      "42  143.524782    0.029781       0.953333                 0.953333   \n",
      "43  393.592223    0.031730       0.971111                 0.971126   \n",
      "44   81.027636    0.030327       0.973333                 0.973410   \n",
      "45    0.402640    0.124794       0.934444                 0.934715   \n",
      "46    0.386689    0.124276       0.931111                 0.931121   \n",
      "47    0.479441    0.147053       0.933333                 0.933495   \n",
      "48    0.501317    0.159520       0.938889                 0.939122   \n",
      "49    0.514632    0.164727       0.937778                 0.937964   \n",
      "\n",
      "    test_recall_weighted  test_f1_weighted  test_roc_auc                model  \n",
      "0               1.000000          1.000000      1.000000   SVM-linear-scale-1  \n",
      "1               0.971111          0.971111      0.989960   SVM-linear-scale-1  \n",
      "2               0.953333          0.953333      0.991619   SVM-linear-scale-1  \n",
      "3               0.971111          0.971114      0.995071   SVM-linear-scale-1  \n",
      "4               0.972222          0.972216      0.992698   SVM-linear-scale-1  \n",
      "5               0.932222          0.932218      0.972122     SVM-poly-scale-1  \n",
      "6               0.922222          0.922219      0.967244     SVM-poly-scale-1  \n",
      "7               0.926667          0.926597      0.976603     SVM-poly-scale-1  \n",
      "8               0.938889          0.938915      0.976403     SVM-poly-scale-1  \n",
      "9               0.924444          0.924400      0.968325     SVM-poly-scale-1  \n",
      "10              0.911111          0.910927      0.965974      SVM-rbf-scale-1  \n",
      "11              0.904444          0.904256      0.961772      SVM-rbf-scale-1  \n",
      "12              0.912222          0.911817      0.968691      SVM-rbf-scale-1  \n",
      "13              0.920000          0.920015      0.971815      SVM-rbf-scale-1  \n",
      "14              0.916667          0.916429      0.964792      SVM-rbf-scale-1  \n",
      "15              0.597778          0.597698      0.663634  SVM-sigmoid-scale-1  \n",
      "16              0.596667          0.596584      0.680991  SVM-sigmoid-scale-1  \n",
      "17              0.618889          0.618839      0.698542  SVM-sigmoid-scale-1  \n",
      "18              0.777778          0.777599      0.819612  SVM-sigmoid-scale-1  \n",
      "19              0.618889          0.618359      0.688132  SVM-sigmoid-scale-1  \n",
      "20              1.000000          1.000000      1.000000    SVM-linear-auto-1  \n",
      "21              0.971111          0.971111      0.989960    SVM-linear-auto-1  \n",
      "22              0.953333          0.953333      0.991619    SVM-linear-auto-1  \n",
      "23              0.971111          0.971114      0.995071    SVM-linear-auto-1  \n",
      "24              0.972222          0.972216      0.992698    SVM-linear-auto-1  \n",
      "25              0.960000          0.960000      0.988656      SVM-poly-auto-1  \n",
      "26              0.957778          0.957776      0.986573      SVM-poly-auto-1  \n",
      "27              0.968889          0.968891      0.989033      SVM-poly-auto-1  \n",
      "28              0.957778          0.957792      0.977368      SVM-poly-auto-1  \n",
      "29              0.936667          0.936671      0.962890      SVM-poly-auto-1  \n",
      "30              0.721111          0.698243      0.763538       SVM-rbf-auto-1  \n",
      "31              0.733333          0.713310      0.786514       SVM-rbf-auto-1  \n",
      "32              0.742222          0.720895      0.776199       SVM-rbf-auto-1  \n",
      "33              0.717778          0.698278      0.784746       SVM-rbf-auto-1  \n",
      "34              0.708889          0.680393      0.750993       SVM-rbf-auto-1  \n",
      "35              0.496667          0.329636      0.500000   SVM-sigmoid-auto-1  \n",
      "36              0.497778          0.330867      0.500000   SVM-sigmoid-auto-1  \n",
      "37              0.482222          0.313770      0.500000   SVM-sigmoid-auto-1  \n",
      "38              0.476667          0.307735      0.500000   SVM-sigmoid-auto-1  \n",
      "39              0.488889          0.321061      0.500000   SVM-sigmoid-auto-1  \n",
      "40              1.000000          1.000000      1.000000   SVM-linear-scale-2  \n",
      "41              0.971111          0.971111      0.989778   SVM-linear-scale-2  \n",
      "42              0.953333          0.953333      0.991476   SVM-linear-scale-2  \n",
      "43              0.971111          0.971114      0.994972   SVM-linear-scale-2  \n",
      "44              0.973333          0.973328      0.992638   SVM-linear-scale-2  \n",
      "45              0.934444          0.934440      0.976374     SVM-poly-scale-2  \n",
      "46              0.931111          0.931111      0.971738     SVM-poly-scale-2  \n",
      "47              0.933333          0.933299      0.979816     SVM-poly-scale-2  \n",
      "48              0.938889          0.938911      0.982144     SVM-poly-scale-2  \n",
      "49              0.937778          0.937755      0.972470     SVM-poly-scale-2  \n"
     ]
    },
    {
     "name": "stdout",
     "output_type": "stream",
     "text": [
      "SVM-rbf-scale-2\n",
      "              precision    recall  f1-score   support\n",
      "\n",
      "   malignant       0.90      0.96      0.93       750\n",
      "      benign       0.96      0.89      0.92       750\n",
      "\n",
      "    accuracy                           0.93      1500\n",
      "   macro avg       0.93      0.93      0.93      1500\n",
      "weighted avg       0.93      0.93      0.93      1500\n",
      "\n",
      "      fit_time  score_time  test_accuracy  test_precision_weighted  \\\n",
      "0     8.397530    0.023579       1.000000                 1.000000   \n",
      "1   150.129567    0.031011       0.971111                 0.971197   \n",
      "2   173.176408    0.029342       0.953333                 0.953333   \n",
      "3   310.818301    0.027340       0.971111                 0.971126   \n",
      "4   102.675374    0.026834       0.972222                 0.972327   \n",
      "5     0.400510    0.137179       0.932222                 0.932492   \n",
      "6     0.393843    0.134725       0.922222                 0.922362   \n",
      "7     0.397656    0.136359       0.926667                 0.927116   \n",
      "8     0.395744    0.138410       0.938889                 0.939221   \n",
      "9     0.408690    0.147547       0.924444                 0.924804   \n",
      "10    0.405238    0.318894       0.911111                 0.915133   \n",
      "11    0.391580    0.306295       0.904444                 0.908036   \n",
      "12    0.403497    0.308515       0.912222                 0.916476   \n",
      "13    0.410768    0.349397       0.920000                 0.923315   \n",
      "14    0.456690    0.372526       0.916667                 0.919671   \n",
      "15    0.760614    0.264169       0.597778                 0.597766   \n",
      "16    0.599853    0.264058       0.596667                 0.596834   \n",
      "17    0.636695    0.279099       0.618889                 0.620665   \n",
      "18    0.467280    0.204659       0.777778                 0.777698   \n",
      "19    0.691091    0.303186       0.618889                 0.620937   \n",
      "20    7.018485    0.025697       1.000000                 1.000000   \n",
      "21  148.621893    0.025537       0.971111                 0.971197   \n",
      "22  173.187800    0.027259       0.953333                 0.953333   \n",
      "23  307.596851    0.027952       0.971111                 0.971126   \n",
      "24  100.732225    0.026091       0.972222                 0.972327   \n",
      "25    0.490472    0.063492       0.960000                 0.960000   \n",
      "26    0.490647    0.060762       0.957778                 0.957812   \n",
      "27    0.523115    0.052858       0.968889                 0.968903   \n",
      "28    0.418921    0.053246       0.957778                 0.957958   \n",
      "29    0.492457    0.054206       0.936667                 0.936695   \n",
      "30    1.136520    1.136216       0.721111                 0.821399   \n",
      "31    1.234134    1.076904       0.733333                 0.826357   \n",
      "32    1.393219    1.246254       0.742222                 0.827902   \n",
      "33    1.173908    0.853197       0.717778                 0.820523   \n",
      "34    1.030487    0.871564       0.708889                 0.809546   \n",
      "35    1.232131    0.542098       0.496667                 0.246678   \n",
      "36    1.258573    0.461154       0.497778                 0.247783   \n",
      "37    1.035329    0.471601       0.482222                 0.232538   \n",
      "38    1.166383    0.509355       0.476667                 0.227211   \n",
      "39    1.269231    0.538114       0.488889                 0.239012   \n",
      "40    6.779870    0.025312       1.000000                 1.000000   \n",
      "41  191.967792    0.029989       0.971111                 0.971197   \n",
      "42  143.524782    0.029781       0.953333                 0.953333   \n",
      "43  393.592223    0.031730       0.971111                 0.971126   \n",
      "44   81.027636    0.030327       0.973333                 0.973410   \n",
      "45    0.402640    0.124794       0.934444                 0.934715   \n",
      "46    0.386689    0.124276       0.931111                 0.931121   \n",
      "47    0.479441    0.147053       0.933333                 0.933495   \n",
      "48    0.501317    0.159520       0.938889                 0.939122   \n",
      "49    0.514632    0.164727       0.937778                 0.937964   \n",
      "50    0.370957    0.312835       0.928889                 0.931687   \n",
      "51    0.358429    0.329452       0.916667                 0.919230   \n",
      "52    0.374165    0.334557       0.928889                 0.932103   \n",
      "53    0.402182    0.329841       0.925556                 0.928101   \n",
      "54    0.416038    0.355949       0.923333                 0.924765   \n",
      "\n",
      "    test_recall_weighted  test_f1_weighted  test_roc_auc                model  \n",
      "0               1.000000          1.000000      1.000000   SVM-linear-scale-1  \n",
      "1               0.971111          0.971111      0.989960   SVM-linear-scale-1  \n",
      "2               0.953333          0.953333      0.991619   SVM-linear-scale-1  \n",
      "3               0.971111          0.971114      0.995071   SVM-linear-scale-1  \n",
      "4               0.972222          0.972216      0.992698   SVM-linear-scale-1  \n",
      "5               0.932222          0.932218      0.972122     SVM-poly-scale-1  \n",
      "6               0.922222          0.922219      0.967244     SVM-poly-scale-1  \n",
      "7               0.926667          0.926597      0.976603     SVM-poly-scale-1  \n",
      "8               0.938889          0.938915      0.976403     SVM-poly-scale-1  \n",
      "9               0.924444          0.924400      0.968325     SVM-poly-scale-1  \n",
      "10              0.911111          0.910927      0.965974      SVM-rbf-scale-1  \n",
      "11              0.904444          0.904256      0.961772      SVM-rbf-scale-1  \n",
      "12              0.912222          0.911817      0.968691      SVM-rbf-scale-1  \n",
      "13              0.920000          0.920015      0.971815      SVM-rbf-scale-1  \n",
      "14              0.916667          0.916429      0.964792      SVM-rbf-scale-1  \n",
      "15              0.597778          0.597698      0.663634  SVM-sigmoid-scale-1  \n",
      "16              0.596667          0.596584      0.680991  SVM-sigmoid-scale-1  \n",
      "17              0.618889          0.618839      0.698542  SVM-sigmoid-scale-1  \n",
      "18              0.777778          0.777599      0.819612  SVM-sigmoid-scale-1  \n",
      "19              0.618889          0.618359      0.688132  SVM-sigmoid-scale-1  \n",
      "20              1.000000          1.000000      1.000000    SVM-linear-auto-1  \n",
      "21              0.971111          0.971111      0.989960    SVM-linear-auto-1  \n",
      "22              0.953333          0.953333      0.991619    SVM-linear-auto-1  \n",
      "23              0.971111          0.971114      0.995071    SVM-linear-auto-1  \n",
      "24              0.972222          0.972216      0.992698    SVM-linear-auto-1  \n",
      "25              0.960000          0.960000      0.988656      SVM-poly-auto-1  \n",
      "26              0.957778          0.957776      0.986573      SVM-poly-auto-1  \n",
      "27              0.968889          0.968891      0.989033      SVM-poly-auto-1  \n",
      "28              0.957778          0.957792      0.977368      SVM-poly-auto-1  \n",
      "29              0.936667          0.936671      0.962890      SVM-poly-auto-1  \n",
      "30              0.721111          0.698243      0.763538       SVM-rbf-auto-1  \n",
      "31              0.733333          0.713310      0.786514       SVM-rbf-auto-1  \n",
      "32              0.742222          0.720895      0.776199       SVM-rbf-auto-1  \n",
      "33              0.717778          0.698278      0.784746       SVM-rbf-auto-1  \n",
      "34              0.708889          0.680393      0.750993       SVM-rbf-auto-1  \n",
      "35              0.496667          0.329636      0.500000   SVM-sigmoid-auto-1  \n",
      "36              0.497778          0.330867      0.500000   SVM-sigmoid-auto-1  \n",
      "37              0.482222          0.313770      0.500000   SVM-sigmoid-auto-1  \n",
      "38              0.476667          0.307735      0.500000   SVM-sigmoid-auto-1  \n",
      "39              0.488889          0.321061      0.500000   SVM-sigmoid-auto-1  \n",
      "40              1.000000          1.000000      1.000000   SVM-linear-scale-2  \n",
      "41              0.971111          0.971111      0.989778   SVM-linear-scale-2  \n",
      "42              0.953333          0.953333      0.991476   SVM-linear-scale-2  \n",
      "43              0.971111          0.971114      0.994972   SVM-linear-scale-2  \n",
      "44              0.973333          0.973328      0.992638   SVM-linear-scale-2  \n",
      "45              0.934444          0.934440      0.976374     SVM-poly-scale-2  \n",
      "46              0.931111          0.931111      0.971738     SVM-poly-scale-2  \n",
      "47              0.933333          0.933299      0.979816     SVM-poly-scale-2  \n",
      "48              0.938889          0.938911      0.982144     SVM-poly-scale-2  \n",
      "49              0.937778          0.937755      0.972470     SVM-poly-scale-2  \n",
      "50              0.928889          0.928794      0.975451      SVM-rbf-scale-2  \n",
      "51              0.916667          0.916555      0.969752      SVM-rbf-scale-2  \n",
      "52              0.928889          0.928634      0.977626      SVM-rbf-scale-2  \n",
      "53              0.925556          0.925583      0.978516      SVM-rbf-scale-2  \n",
      "54              0.923333          0.923213      0.970736      SVM-rbf-scale-2  \n"
     ]
    },
    {
     "name": "stdout",
     "output_type": "stream",
     "text": [
      "SVM-sigmoid-scale-2\n",
      "              precision    recall  f1-score   support\n",
      "\n",
      "   malignant       0.65      0.64      0.64       750\n",
      "      benign       0.64      0.65      0.65       750\n",
      "\n",
      "    accuracy                           0.65      1500\n",
      "   macro avg       0.65      0.65      0.65      1500\n",
      "weighted avg       0.65      0.65      0.65      1500\n",
      "\n",
      "      fit_time  score_time  test_accuracy  test_precision_weighted  \\\n",
      "0     8.397530    0.023579       1.000000                 1.000000   \n",
      "1   150.129567    0.031011       0.971111                 0.971197   \n",
      "2   173.176408    0.029342       0.953333                 0.953333   \n",
      "3   310.818301    0.027340       0.971111                 0.971126   \n",
      "4   102.675374    0.026834       0.972222                 0.972327   \n",
      "5     0.400510    0.137179       0.932222                 0.932492   \n",
      "6     0.393843    0.134725       0.922222                 0.922362   \n",
      "7     0.397656    0.136359       0.926667                 0.927116   \n",
      "8     0.395744    0.138410       0.938889                 0.939221   \n",
      "9     0.408690    0.147547       0.924444                 0.924804   \n",
      "10    0.405238    0.318894       0.911111                 0.915133   \n",
      "11    0.391580    0.306295       0.904444                 0.908036   \n",
      "12    0.403497    0.308515       0.912222                 0.916476   \n",
      "13    0.410768    0.349397       0.920000                 0.923315   \n",
      "14    0.456690    0.372526       0.916667                 0.919671   \n",
      "15    0.760614    0.264169       0.597778                 0.597766   \n",
      "16    0.599853    0.264058       0.596667                 0.596834   \n",
      "17    0.636695    0.279099       0.618889                 0.620665   \n",
      "18    0.467280    0.204659       0.777778                 0.777698   \n",
      "19    0.691091    0.303186       0.618889                 0.620937   \n",
      "20    7.018485    0.025697       1.000000                 1.000000   \n",
      "21  148.621893    0.025537       0.971111                 0.971197   \n",
      "22  173.187800    0.027259       0.953333                 0.953333   \n",
      "23  307.596851    0.027952       0.971111                 0.971126   \n",
      "24  100.732225    0.026091       0.972222                 0.972327   \n",
      "25    0.490472    0.063492       0.960000                 0.960000   \n",
      "26    0.490647    0.060762       0.957778                 0.957812   \n",
      "27    0.523115    0.052858       0.968889                 0.968903   \n",
      "28    0.418921    0.053246       0.957778                 0.957958   \n",
      "29    0.492457    0.054206       0.936667                 0.936695   \n",
      "30    1.136520    1.136216       0.721111                 0.821399   \n",
      "31    1.234134    1.076904       0.733333                 0.826357   \n",
      "32    1.393219    1.246254       0.742222                 0.827902   \n",
      "33    1.173908    0.853197       0.717778                 0.820523   \n",
      "34    1.030487    0.871564       0.708889                 0.809546   \n",
      "35    1.232131    0.542098       0.496667                 0.246678   \n",
      "36    1.258573    0.461154       0.497778                 0.247783   \n",
      "37    1.035329    0.471601       0.482222                 0.232538   \n",
      "38    1.166383    0.509355       0.476667                 0.227211   \n",
      "39    1.269231    0.538114       0.488889                 0.239012   \n",
      "40    6.779870    0.025312       1.000000                 1.000000   \n",
      "41  191.967792    0.029989       0.971111                 0.971197   \n",
      "42  143.524782    0.029781       0.953333                 0.953333   \n",
      "43  393.592223    0.031730       0.971111                 0.971126   \n",
      "44   81.027636    0.030327       0.973333                 0.973410   \n",
      "45    0.402640    0.124794       0.934444                 0.934715   \n",
      "46    0.386689    0.124276       0.931111                 0.931121   \n",
      "47    0.479441    0.147053       0.933333                 0.933495   \n",
      "48    0.501317    0.159520       0.938889                 0.939122   \n",
      "49    0.514632    0.164727       0.937778                 0.937964   \n",
      "50    0.370957    0.312835       0.928889                 0.931687   \n",
      "51    0.358429    0.329452       0.916667                 0.919230   \n",
      "52    0.374165    0.334557       0.928889                 0.932103   \n",
      "53    0.402182    0.329841       0.925556                 0.928101   \n",
      "54    0.416038    0.355949       0.923333                 0.924765   \n",
      "55    0.686923    0.355757       0.594444                 0.594431   \n",
      "56    0.858252    0.367676       0.594444                 0.594735   \n",
      "57    0.875581    0.364390       0.617778                 0.619480   \n",
      "58    0.513178    0.177934       0.762222                 0.762107   \n",
      "59    0.591248    0.259899       0.617778                 0.619606   \n",
      "\n",
      "    test_recall_weighted  test_f1_weighted  test_roc_auc                model  \n",
      "0               1.000000          1.000000      1.000000   SVM-linear-scale-1  \n",
      "1               0.971111          0.971111      0.989960   SVM-linear-scale-1  \n",
      "2               0.953333          0.953333      0.991619   SVM-linear-scale-1  \n",
      "3               0.971111          0.971114      0.995071   SVM-linear-scale-1  \n",
      "4               0.972222          0.972216      0.992698   SVM-linear-scale-1  \n",
      "5               0.932222          0.932218      0.972122     SVM-poly-scale-1  \n",
      "6               0.922222          0.922219      0.967244     SVM-poly-scale-1  \n",
      "7               0.926667          0.926597      0.976603     SVM-poly-scale-1  \n",
      "8               0.938889          0.938915      0.976403     SVM-poly-scale-1  \n",
      "9               0.924444          0.924400      0.968325     SVM-poly-scale-1  \n",
      "10              0.911111          0.910927      0.965974      SVM-rbf-scale-1  \n",
      "11              0.904444          0.904256      0.961772      SVM-rbf-scale-1  \n",
      "12              0.912222          0.911817      0.968691      SVM-rbf-scale-1  \n",
      "13              0.920000          0.920015      0.971815      SVM-rbf-scale-1  \n",
      "14              0.916667          0.916429      0.964792      SVM-rbf-scale-1  \n",
      "15              0.597778          0.597698      0.663634  SVM-sigmoid-scale-1  \n",
      "16              0.596667          0.596584      0.680991  SVM-sigmoid-scale-1  \n",
      "17              0.618889          0.618839      0.698542  SVM-sigmoid-scale-1  \n",
      "18              0.777778          0.777599      0.819612  SVM-sigmoid-scale-1  \n",
      "19              0.618889          0.618359      0.688132  SVM-sigmoid-scale-1  \n",
      "20              1.000000          1.000000      1.000000    SVM-linear-auto-1  \n",
      "21              0.971111          0.971111      0.989960    SVM-linear-auto-1  \n",
      "22              0.953333          0.953333      0.991619    SVM-linear-auto-1  \n",
      "23              0.971111          0.971114      0.995071    SVM-linear-auto-1  \n",
      "24              0.972222          0.972216      0.992698    SVM-linear-auto-1  \n",
      "25              0.960000          0.960000      0.988656      SVM-poly-auto-1  \n",
      "26              0.957778          0.957776      0.986573      SVM-poly-auto-1  \n",
      "27              0.968889          0.968891      0.989033      SVM-poly-auto-1  \n",
      "28              0.957778          0.957792      0.977368      SVM-poly-auto-1  \n",
      "29              0.936667          0.936671      0.962890      SVM-poly-auto-1  \n",
      "30              0.721111          0.698243      0.763538       SVM-rbf-auto-1  \n",
      "31              0.733333          0.713310      0.786514       SVM-rbf-auto-1  \n",
      "32              0.742222          0.720895      0.776199       SVM-rbf-auto-1  \n",
      "33              0.717778          0.698278      0.784746       SVM-rbf-auto-1  \n",
      "34              0.708889          0.680393      0.750993       SVM-rbf-auto-1  \n",
      "35              0.496667          0.329636      0.500000   SVM-sigmoid-auto-1  \n",
      "36              0.497778          0.330867      0.500000   SVM-sigmoid-auto-1  \n",
      "37              0.482222          0.313770      0.500000   SVM-sigmoid-auto-1  \n",
      "38              0.476667          0.307735      0.500000   SVM-sigmoid-auto-1  \n",
      "39              0.488889          0.321061      0.500000   SVM-sigmoid-auto-1  \n",
      "40              1.000000          1.000000      1.000000   SVM-linear-scale-2  \n",
      "41              0.971111          0.971111      0.989778   SVM-linear-scale-2  \n",
      "42              0.953333          0.953333      0.991476   SVM-linear-scale-2  \n",
      "43              0.971111          0.971114      0.994972   SVM-linear-scale-2  \n",
      "44              0.973333          0.973328      0.992638   SVM-linear-scale-2  \n",
      "45              0.934444          0.934440      0.976374     SVM-poly-scale-2  \n",
      "46              0.931111          0.931111      0.971738     SVM-poly-scale-2  \n",
      "47              0.933333          0.933299      0.979816     SVM-poly-scale-2  \n",
      "48              0.938889          0.938911      0.982144     SVM-poly-scale-2  \n",
      "49              0.937778          0.937755      0.972470     SVM-poly-scale-2  \n",
      "50              0.928889          0.928794      0.975451      SVM-rbf-scale-2  \n",
      "51              0.916667          0.916555      0.969752      SVM-rbf-scale-2  \n",
      "52              0.928889          0.928634      0.977626      SVM-rbf-scale-2  \n",
      "53              0.925556          0.925583      0.978516      SVM-rbf-scale-2  \n",
      "54              0.923333          0.923213      0.970736      SVM-rbf-scale-2  \n",
      "55              0.594444          0.594431      0.662163  SVM-sigmoid-scale-2  \n",
      "56              0.594444          0.594266      0.679999  SVM-sigmoid-scale-2  \n",
      "57              0.617778          0.617746      0.697469  SVM-sigmoid-scale-2  \n",
      "58              0.762222          0.762104      0.813262  SVM-sigmoid-scale-2  \n",
      "59              0.617778          0.617342      0.686616  SVM-sigmoid-scale-2  \n"
     ]
    },
    {
     "name": "stdout",
     "output_type": "stream",
     "text": [
      "SVM-linear-auto-2\n",
      "              precision    recall  f1-score   support\n",
      "\n",
      "   malignant       0.98      0.99      0.99       750\n",
      "      benign       0.99      0.98      0.99       750\n",
      "\n",
      "    accuracy                           0.99      1500\n",
      "   macro avg       0.99      0.99      0.99      1500\n",
      "weighted avg       0.99      0.99      0.99      1500\n",
      "\n",
      "      fit_time  score_time  test_accuracy  test_precision_weighted  \\\n",
      "0     8.397530    0.023579       1.000000                 1.000000   \n",
      "1   150.129567    0.031011       0.971111                 0.971197   \n",
      "2   173.176408    0.029342       0.953333                 0.953333   \n",
      "3   310.818301    0.027340       0.971111                 0.971126   \n",
      "4   102.675374    0.026834       0.972222                 0.972327   \n",
      "..         ...         ...            ...                      ...   \n",
      "60    7.080176    0.023131       1.000000                 1.000000   \n",
      "61  189.233252    0.024155       0.971111                 0.971197   \n",
      "62  144.490357    0.024450       0.953333                 0.953333   \n",
      "63  394.381546    0.027040       0.971111                 0.971126   \n",
      "64   81.291493    0.026783       0.973333                 0.973410   \n",
      "\n",
      "    test_recall_weighted  test_f1_weighted  test_roc_auc               model  \n",
      "0               1.000000          1.000000      1.000000  SVM-linear-scale-1  \n",
      "1               0.971111          0.971111      0.989960  SVM-linear-scale-1  \n",
      "2               0.953333          0.953333      0.991619  SVM-linear-scale-1  \n",
      "3               0.971111          0.971114      0.995071  SVM-linear-scale-1  \n",
      "4               0.972222          0.972216      0.992698  SVM-linear-scale-1  \n",
      "..                   ...               ...           ...                 ...  \n",
      "60              1.000000          1.000000      1.000000   SVM-linear-auto-2  \n",
      "61              0.971111          0.971111      0.989778   SVM-linear-auto-2  \n",
      "62              0.953333          0.953333      0.991476   SVM-linear-auto-2  \n",
      "63              0.971111          0.971114      0.994972   SVM-linear-auto-2  \n",
      "64              0.973333          0.973328      0.992638   SVM-linear-auto-2  \n",
      "\n",
      "[65 rows x 8 columns]\n"
     ]
    },
    {
     "name": "stdout",
     "output_type": "stream",
     "text": [
      "SVM-poly-auto-2\n",
      "              precision    recall  f1-score   support\n",
      "\n",
      "   malignant       0.97      0.97      0.97       750\n",
      "      benign       0.97      0.97      0.97       750\n",
      "\n",
      "    accuracy                           0.97      1500\n",
      "   macro avg       0.97      0.97      0.97      1500\n",
      "weighted avg       0.97      0.97      0.97      1500\n",
      "\n",
      "      fit_time  score_time  test_accuracy  test_precision_weighted  \\\n",
      "0     8.397530    0.023579       1.000000                 1.000000   \n",
      "1   150.129567    0.031011       0.971111                 0.971197   \n",
      "2   173.176408    0.029342       0.953333                 0.953333   \n",
      "3   310.818301    0.027340       0.971111                 0.971126   \n",
      "4   102.675374    0.026834       0.972222                 0.972327   \n",
      "..         ...         ...            ...                      ...   \n",
      "65    0.375371    0.053912       0.960000                 0.960000   \n",
      "66    0.384359    0.050284       0.957778                 0.957812   \n",
      "67    0.400512    0.057581       0.968889                 0.968903   \n",
      "68    0.445268    0.055382       0.957778                 0.957958   \n",
      "69    0.511645    0.057462       0.936667                 0.936695   \n",
      "\n",
      "    test_recall_weighted  test_f1_weighted  test_roc_auc               model  \n",
      "0               1.000000          1.000000      1.000000  SVM-linear-scale-1  \n",
      "1               0.971111          0.971111      0.989960  SVM-linear-scale-1  \n",
      "2               0.953333          0.953333      0.991619  SVM-linear-scale-1  \n",
      "3               0.971111          0.971114      0.995071  SVM-linear-scale-1  \n",
      "4               0.972222          0.972216      0.992698  SVM-linear-scale-1  \n",
      "..                   ...               ...           ...                 ...  \n",
      "65              0.960000          0.960000      0.988656     SVM-poly-auto-2  \n",
      "66              0.957778          0.957776      0.986573     SVM-poly-auto-2  \n",
      "67              0.968889          0.968891      0.989033     SVM-poly-auto-2  \n",
      "68              0.957778          0.957792      0.977368     SVM-poly-auto-2  \n",
      "69              0.936667          0.936671      0.962890     SVM-poly-auto-2  \n",
      "\n",
      "[70 rows x 8 columns]\n"
     ]
    },
    {
     "name": "stdout",
     "output_type": "stream",
     "text": [
      "SVM-rbf-auto-2\n",
      "              precision    recall  f1-score   support\n",
      "\n",
      "   malignant       0.66      1.00      0.79       750\n",
      "      benign       1.00      0.48      0.65       750\n",
      "\n",
      "    accuracy                           0.74      1500\n",
      "   macro avg       0.83      0.74      0.72      1500\n",
      "weighted avg       0.83      0.74      0.72      1500\n",
      "\n",
      "      fit_time  score_time  test_accuracy  test_precision_weighted  \\\n",
      "0     8.397530    0.023579       1.000000                 1.000000   \n",
      "1   150.129567    0.031011       0.971111                 0.971197   \n",
      "2   173.176408    0.029342       0.953333                 0.953333   \n",
      "3   310.818301    0.027340       0.971111                 0.971126   \n",
      "4   102.675374    0.026834       0.972222                 0.972327   \n",
      "..         ...         ...            ...                      ...   \n",
      "70    1.244034    1.067081       0.721111                 0.821399   \n",
      "71    1.161923    0.936320       0.733333                 0.826357   \n",
      "72    1.091735    0.968221       0.742222                 0.827902   \n",
      "73    1.188549    1.131866       0.720000                 0.821427   \n",
      "74    1.268383    1.201101       0.708889                 0.809546   \n",
      "\n",
      "    test_recall_weighted  test_f1_weighted  test_roc_auc               model  \n",
      "0               1.000000          1.000000      1.000000  SVM-linear-scale-1  \n",
      "1               0.971111          0.971111      0.989960  SVM-linear-scale-1  \n",
      "2               0.953333          0.953333      0.991619  SVM-linear-scale-1  \n",
      "3               0.971111          0.971114      0.995071  SVM-linear-scale-1  \n",
      "4               0.972222          0.972216      0.992698  SVM-linear-scale-1  \n",
      "..                   ...               ...           ...                 ...  \n",
      "70              0.721111          0.698243      0.763538      SVM-rbf-auto-2  \n",
      "71              0.733333          0.713310      0.786514      SVM-rbf-auto-2  \n",
      "72              0.742222          0.720895      0.776199      SVM-rbf-auto-2  \n",
      "73              0.720000          0.701010      0.785295      SVM-rbf-auto-2  \n",
      "74              0.708889          0.680393      0.750993      SVM-rbf-auto-2  \n",
      "\n",
      "[75 rows x 8 columns]\n"
     ]
    },
    {
     "name": "stdout",
     "output_type": "stream",
     "text": [
      "SVM-sigmoid-auto-2\n",
      "              precision    recall  f1-score   support\n",
      "\n",
      "   malignant       0.00      0.00      0.00       750\n",
      "      benign       0.50      1.00      0.67       750\n",
      "\n",
      "    accuracy                           0.50      1500\n",
      "   macro avg       0.25      0.50      0.33      1500\n",
      "weighted avg       0.25      0.50      0.33      1500\n",
      "\n",
      "      fit_time  score_time  test_accuracy  test_precision_weighted  \\\n",
      "0     8.397530    0.023579       1.000000                 1.000000   \n",
      "1   150.129567    0.031011       0.971111                 0.971197   \n",
      "2   173.176408    0.029342       0.953333                 0.953333   \n",
      "3   310.818301    0.027340       0.971111                 0.971126   \n",
      "4   102.675374    0.026834       0.972222                 0.972327   \n",
      "..         ...         ...            ...                      ...   \n",
      "75    1.060220    0.447930       0.496667                 0.246678   \n",
      "76    1.137160    0.487246       0.497778                 0.247783   \n",
      "77    1.081886    0.474200       0.482222                 0.232538   \n",
      "78    1.216936    0.540691       0.476667                 0.227211   \n",
      "79    1.287710    0.462313       0.488889                 0.239012   \n",
      "\n",
      "    test_recall_weighted  test_f1_weighted  test_roc_auc               model  \n",
      "0               1.000000          1.000000      1.000000  SVM-linear-scale-1  \n",
      "1               0.971111          0.971111      0.989960  SVM-linear-scale-1  \n",
      "2               0.953333          0.953333      0.991619  SVM-linear-scale-1  \n",
      "3               0.971111          0.971114      0.995071  SVM-linear-scale-1  \n",
      "4               0.972222          0.972216      0.992698  SVM-linear-scale-1  \n",
      "..                   ...               ...           ...                 ...  \n",
      "75              0.496667          0.329636      0.500000  SVM-sigmoid-auto-2  \n",
      "76              0.497778          0.330867      0.500000  SVM-sigmoid-auto-2  \n",
      "77              0.482222          0.313770      0.500000  SVM-sigmoid-auto-2  \n",
      "78              0.476667          0.307735      0.500000  SVM-sigmoid-auto-2  \n",
      "79              0.488889          0.321061      0.500000  SVM-sigmoid-auto-2  \n",
      "\n",
      "[80 rows x 8 columns]\n",
      "3959.543132809922\n"
     ]
    }
   ],
   "source": [
    "#3) IoT\n",
    "\n",
    "df_malicious = pd.concat([df4,df5,df6,df33,df34])[:30000]\n",
    "df_benign = pd.concat([df8,df9,df10,df11,df12,df15,df16,df17,df21])[:30000]\n",
    "\n",
    "print(\"malicious: {}\".format(len(df_malicious)))\n",
    "print(\"benign: {}\".format(len(df_benign)))\n",
    "\n",
    "print(\"{} NAN in malicious!\".format(len(df_malicious[df_malicious.isna().any(axis=1)])))\n",
    "print(\"{} NAN in benign!\".format(len(df_benign[df_benign.isna().any(axis=1)])))\n",
    "\n",
    "df_malicious = df_malicious.dropna()\n",
    "df_benign = df_benign.dropna()\n",
    "\n",
    "print(\"After droppping NAN rows: \")\n",
    "print(\"malicious: {}\".format(len(df_malicious)))\n",
    "print(\"benign: {}\".format(len(df_benign)))\n",
    "\n",
    "start = timer()\n",
    "\n",
    "results_Raspberry_s1 = run_process(df_malicious,df_benign,df_results)\n",
    "\n",
    "\n",
    "end = timer()\n",
    "print(end - start)"
   ]
  }
 ],
 "metadata": {
  "kernelspec": {
   "display_name": "nectar-env",
   "language": "python",
   "name": "python3"
  },
  "language_info": {
   "codemirror_mode": {
    "name": "ipython",
    "version": 3
   },
   "file_extension": ".py",
   "mimetype": "text/x-python",
   "name": "python",
   "nbconvert_exporter": "python",
   "pygments_lexer": "ipython3",
   "version": "3.10.6"
  }
 },
 "nbformat": 4,
 "nbformat_minor": 5
}
