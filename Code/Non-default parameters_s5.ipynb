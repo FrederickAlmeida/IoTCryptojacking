{
 "cells": [
  {
   "cell_type": "code",
   "execution_count": 1,
   "id": "2f0ae692",
   "metadata": {
    "execution": {
     "iopub.execute_input": "2025-08-09T15:05:25.538279Z",
     "iopub.status.busy": "2025-08-09T15:05:25.537798Z",
     "iopub.status.idle": "2025-08-09T15:05:54.545216Z",
     "shell.execute_reply": "2025-08-09T15:05:54.543298Z"
    },
    "scrolled": false
   },
   "outputs": [],
   "source": [
    "import pandas as pd\n",
    "import tsfresh\n",
    "import os\n",
    "import json\n",
    "import scapy\n",
    "import numpy as np\n",
    "import warnings\n",
    "from timeit import default_timer as timer\n",
    "\n",
    "from scapy.all import *\n",
    "\n",
    "warnings.filterwarnings(\"ignore\") #ignore warnings caused by \n",
    "\n",
    "\n",
    "#################################################################\n",
    "#                                                               #\n",
    "#               malicious csv files import                      #\n",
    "#                                                               #\n",
    "#################################################################\n",
    "\n",
    "\n",
    "df1 = pd.read_csv('../Data/malicious/WebOS_binary.csv') #\n",
    "df2 = pd.read_csv('../Data/malicious/Server_Binary.csv') #\n",
    "df3 = pd.read_csv('../Data/malicious/Raspberry_Webmine_Robust.csv')\n",
    "df4 = pd.read_csv('../Data/malicious/Raspberry_Binary.csv') #\n",
    "df5 = pd.read_csv('../Data/malicious/Raspberry_Webmine_Aggressive.csv')\n",
    "df6 = pd.read_csv('../Data/malicious/Raspberry_WebminePool_Aggressive.csv')\n",
    "df7 = pd.read_csv('../Data/malicious/Server_WebminePool_Aggressive.csv') #\n",
    "df32 = pd.read_csv('../Data/malicious/Server_WebminePool_Robust.csv') #\n",
    "df33 = pd.read_csv('../Data/malicious/Raspberry_WebminePool_Stealthy.csv') #\n",
    "df34 = pd.read_csv('../Data/malicious/Raspberry_WebminePool_Robust.csv') #\n",
    "df35 = pd.read_csv('../Data/malicious/Desktop_WebminePool_Aggressive.csv') #\n",
    "\n",
    "\n",
    "#################################################################\n",
    "#                                                               #\n",
    "#               benign-1 csv files import                         #\n",
    "#                                                               #\n",
    "#################################################################\n",
    "\n",
    "df8 = pd.read_csv('../Data/benign-1/interactive_01.csv') #\n",
    "df9 = pd.read_csv('../Data/benign-1/interactive_02.csv') #\n",
    "df10 = pd.read_csv('../Data/benign-1/interactive_03.csv') #\n",
    "df11 = pd.read_csv('../Data/benign-1/interactive_04.csv') #\n",
    "df12 = pd.read_csv('../Data/benign-1/interactive_05.csv') #\n",
    "df13 = pd.read_csv('../Data/benign-1/interactive_06.csv') #\n",
    "df14 = pd.read_csv('../Data/benign-1/web_1page_01.csv') #\n",
    "df15 = pd.read_csv('../Data/benign-1/web_1page_02.csv') #\n",
    "df16 = pd.read_csv('../Data/benign-1/web_1page_03.csv') #\n",
    "df17 = pd.read_csv('../Data/benign-1/web_1page_04.csv') #\n",
    "df18 = pd.read_csv('../Data/benign-1/web_1page_05.csv') #\n",
    "df19 = pd.read_csv('../Data/benign-1/bulk_xs_04.csv') #\n",
    "df20 = pd.read_csv('../Data/benign-1/bulk_xs_05.csv') #\n",
    "df21 = pd.read_csv('../Data/benign-1/video_180s480p_01.csv') #\n",
    "df22 = pd.read_csv('../Data/benign-1/video_180s480p_02.csv') #\n",
    "df23 = pd.read_csv('../Data/benign-1/video_x1_04.csv') #\n",
    "df24 = pd.read_csv('../Data/benign-1/web_multiple_04.csv') #\n",
    "df25 = pd.read_csv('../Data/benign-1/bulk_xs_01.csv') #\n",
    "df26 = pd.read_csv('../Data/benign-1/bulk_xs_09.csv') #\n",
    "df27 = pd.read_csv('../Data/benign-1/bulk_xs_06.csv') #\n",
    "df28 = pd.read_csv('../Data/benign-1/bulk_xs_03.csv') #\n",
    "df29 = pd.read_csv('../Data/benign-1/web_multiple_03.csv') #\n",
    "df30 = pd.read_csv('../Data/benign-1/web_multiple_05.csv') #\n",
    "df31 = pd.read_csv('../Data/benign-1/web_multiple_06.csv') #\n",
    "\n",
    "df_results = pd.DataFrame()"
   ]
  },
  {
   "cell_type": "code",
   "execution_count": 2,
   "id": "d6a2f5db",
   "metadata": {
    "execution": {
     "iopub.execute_input": "2025-08-09T15:05:54.550733Z",
     "iopub.status.busy": "2025-08-09T15:05:54.550293Z",
     "iopub.status.idle": "2025-08-09T15:05:54.570710Z",
     "shell.execute_reply": "2025-08-09T15:05:54.569768Z"
    },
    "scrolled": false
   },
   "outputs": [
    {
     "name": "stdout",
     "output_type": "stream",
     "text": [
      "df1 -->> 43173\n",
      "df2 -->> 1213354\n",
      "df3 -->> 3621\n",
      "df4 -->> 22111\n",
      "df5 -->> 14156\n",
      "df6 -->> 24476\n",
      "df7 -->> 3106\n",
      "df32 -->> 18460\n",
      "df33 -->> 10285\n",
      "df34 -->> 7708\n",
      "df35 -->> 234892\n",
      "/////////////////////////////////////////////////\n",
      "df8 -->> 4550\n",
      "df9 -->> 3869\n",
      "df10 -->> 5327\n",
      "df11 -->> 4727\n",
      "df12 -->> 4190\n",
      "df13 -->> 3481\n",
      "df14 -->> 38576\n",
      "df15 -->> 5961\n",
      "df16 -->> 1803\n",
      "df17 -->> 7029\n",
      "df18 -->> 1012\n",
      "df19 -->> 96545\n",
      "df20 -->> 108065\n",
      "df21 -->> 25138\n",
      "df22 -->> 91274\n",
      "df23 -->> 23597\n",
      "df24 -->> 59635\n",
      "df25 -->> 625216\n",
      "df26 -->> 266935\n",
      "df27 -->> 453471\n",
      "df28 -->> 654495\n",
      "df29 -->> 6764\n",
      "df30 -->> 25300\n",
      "df31 -->> 3689\n"
     ]
    }
   ],
   "source": [
    "print(\"df1 -->> {}\".format(len(df1)))\n",
    "print(\"df2 -->> {}\".format(len(df2)))\n",
    "print(\"df3 -->> {}\".format(len(df3)))\n",
    "print(\"df4 -->> {}\".format(len(df4)))\n",
    "print(\"df5 -->> {}\".format(len(df5)))\n",
    "print(\"df6 -->> {}\".format(len(df6)))\n",
    "print(\"df7 -->> {}\".format(len(df7)))\n",
    "print(\"df32 -->> {}\".format(len(df32)))\n",
    "print(\"df33 -->> {}\".format(len(df33)))\n",
    "print(\"df34 -->> {}\".format(len(df34)))\n",
    "print(\"df35 -->> {}\".format(len(df35)))\n",
    "print(\"/////////////////////////////////////////////////\")\n",
    "\n",
    "\n",
    "print(\"df8 -->> {}\".format(len(df8)))\n",
    "print(\"df9 -->> {}\".format(len(df9)))\n",
    "print(\"df10 -->> {}\".format(len(df10)))\n",
    "print(\"df11 -->> {}\".format(len(df11)))\n",
    "print(\"df12 -->> {}\".format(len(df12)))\n",
    "print(\"df13 -->> {}\".format(len(df13)))\n",
    "print(\"df14 -->> {}\".format(len(df14)))\n",
    "print(\"df15 -->> {}\".format(len(df15)))\n",
    "print(\"df16 -->> {}\".format(len(df16)))\n",
    "print(\"df17 -->> {}\".format(len(df17)))\n",
    "print(\"df18 -->> {}\".format(len(df18)))\n",
    "print(\"df19 -->> {}\".format(len(df19)))\n",
    "print(\"df20 -->> {}\".format(len(df20)))\n",
    "print(\"df21 -->> {}\".format(len(df21)))\n",
    "print(\"df22 -->> {}\".format(len(df22)))\n",
    "print(\"df23 -->> {}\".format(len(df23)))\n",
    "print(\"df24 -->> {}\".format(len(df24)))\n",
    "print(\"df25 -->> {}\".format(len(df25)))\n",
    "print(\"df26 -->> {}\".format(len(df26)))\n",
    "print(\"df27 -->> {}\".format(len(df27)))\n",
    "print(\"df28 -->> {}\".format(len(df28)))\n",
    "print(\"df29 -->> {}\".format(len(df29)))\n",
    "print(\"df30 -->> {}\".format(len(df30)))\n",
    "print(\"df31 -->> {}\".format(len(df31)))\n"
   ]
  },
  {
   "cell_type": "code",
   "execution_count": 3,
   "id": "4cc98208",
   "metadata": {
    "execution": {
     "iopub.execute_input": "2025-08-09T15:05:54.574459Z",
     "iopub.status.busy": "2025-08-09T15:05:54.574185Z",
     "iopub.status.idle": "2025-08-09T15:05:55.029706Z",
     "shell.execute_reply": "2025-08-09T15:05:55.028733Z"
    }
   },
   "outputs": [],
   "source": [
    "#################################################################\n",
    "#                                                               #\n",
    "#                     Filtering                                 #\n",
    "#                                                               #\n",
    "#################################################################\n",
    "\n",
    "# For WebOS = 18:56:80:17:d0:ef\n",
    "index_names = df1[((df1['HW_dst'] != '18:56:80:17:d0:ef') & (df1['Hw_src'] != '18:56:80:17:d0:ef'))].index\n",
    "df1.drop(index_names, inplace = True)\n",
    "\n",
    "# Big_Server_Monero_mining_data = a4:bb:6d:ac:e1:fd\n",
    "\n",
    "index_names = df2[((df2['HW_dst'] != 'a4:bb:6d:ac:e1:fd') & (df2['Hw_src'] != 'a4:bb:6d:ac:e1:fd'))].index\n",
    "df2.drop(index_names, inplace = True)\n",
    "\n",
    "# ege_data_rasberry = dc:a6:32:67:66:4b\t\n",
    "\n",
    "index_names = df3[((df3['HW_dst'] != 'dc:a6:32:67:66:4b') & (df3['Hw_src'] != 'dc:a6:32:67:66:4b'))].index\n",
    "df3.drop(index_names, inplace = True)\n",
    "\n",
    "# Rasberry_binary_monero_mining = dc:a6:32:68:35:8a\n",
    "\n",
    "index_names = df4[((df4['HW_dst'] != 'dc:a6:32:68:35:8a') & (df4['Hw_src'] != 'dc:a6:32:68:35:8a'))].index\n",
    "df4.drop(index_names, inplace = True)\n",
    "\n",
    "# Rasberry_network_data_2 = dc:a6:32:67:66:4b\n",
    "\n",
    "index_names = df5[((df5['HW_dst'] != 'dc:a6:32:67:66:4b') & (df5['Hw_src'] != 'dc:a6:32:67:66:4b'))].index\n",
    "df5.drop(index_names, inplace = True)\n",
    "\n",
    "# Rasberry-Webmine = dc:a6:32:67:66:4b\n",
    "index_names = df6[((df6['HW_dst'] != 'dc:a6:32:67:66:4b') & (df6['Hw_src'] != 'dc:a6:32:67:66:4b'))].index\n",
    "df6.drop(index_names, inplace = True)\n",
    "\n",
    "# Server_Webmine_Network_data = a4:bb:6d:ac:e1:fd\n",
    "\n",
    "index_names = df7[((df7['HW_dst'] != 'a4:bb:6d:ac:e1:fd') & (df7['Hw_src'] != 'a4:bb:6d:ac:e1:fd'))].index\n",
    "df7.drop(index_names, inplace = True)\n",
    "\n",
    "# Server_%50_Mining = a4:bb:6d:ac:e1:fd\n",
    "\n",
    "index_names = df32[((df32['HW_dst'] != 'a4:bb:6d:ac:e1:fd') & (df32['Hw_src'] != 'a4:bb:6d:ac:e1:fd'))].index\n",
    "df32.drop(index_names, inplace = True)\n",
    "\n",
    "# Rasberry_webmine_%10 = dc:a6:32:67:66:4b\n",
    "\n",
    "index_names = df33[((df33['HW_dst'] != 'dc:a6:32:67:66:4b') & (df33['Hw_src'] != 'dc:a6:32:67:66:4b'))].index\n",
    "df33.drop(index_names, inplace = True)\n",
    "\n",
    "# Rasberry_webmine_%50 = dc:a6:32:68:35:8a\n",
    "\n",
    "index_names = df34[((df34['HW_dst'] != 'dc:a6:32:68:35:8a') & (df34['Hw_src'] != 'dc:a6:32:68:35:8a'))].index\n",
    "df34.drop(index_names, inplace = True)\n",
    "\n",
    "# Desktop_Webmine_%100 = dc:a6:32:68:35:8a\n",
    "\n",
    "index_names = df35[((df35['HW_dst'] != 'd8:3b:bf:8f:ba:ba') & (df35['Hw_src'] != 'd8:3b:bf:8f:ba:ba'))].index\n",
    "df35.drop(index_names, inplace = True)"
   ]
  },
  {
   "cell_type": "code",
   "execution_count": 4,
   "id": "122e8594",
   "metadata": {
    "execution": {
     "iopub.execute_input": "2025-08-09T15:05:55.033829Z",
     "iopub.status.busy": "2025-08-09T15:05:55.033600Z",
     "iopub.status.idle": "2025-08-09T15:05:55.053242Z",
     "shell.execute_reply": "2025-08-09T15:05:55.052332Z"
    }
   },
   "outputs": [],
   "source": [
    "#################################################################\n",
    "#                                                               #\n",
    "#      Labeling Features for further calculations               #\n",
    "#                                                               #\n",
    "#################################################################\n",
    "\n",
    "df1.insert(7, \"Is_malicious\", 1)\n",
    "df2.insert(7, \"Is_malicious\", 1)\n",
    "df3.insert(7, \"Is_malicious\", 1)\n",
    "df4.insert(7, \"Is_malicious\", 1)\n",
    "df5.insert(7, \"Is_malicious\", 1)\n",
    "df6.insert(7, \"Is_malicious\", 1)\n",
    "df7.insert(7, \"Is_malicious\", 1)\n",
    "\n",
    "# ========================================================\n",
    "\n",
    "df8.insert(7, \"Is_malicious\", 0)\n",
    "df9.insert(7, \"Is_malicious\", 0)\n",
    "df10.insert(7, \"Is_malicious\", 0)\n",
    "df11.insert(7, \"Is_malicious\", 0)\n",
    "df12.insert(7, \"Is_malicious\", 0)\n",
    "df13.insert(7, \"Is_malicious\", 0)\n",
    "df14.insert(7, \"Is_malicious\", 0)\n",
    "df15.insert(7, \"Is_malicious\", 0)\n",
    "df16.insert(7, \"Is_malicious\", 0)\n",
    "df17.insert(7, \"Is_malicious\", 0)\n",
    "df18.insert(7, \"Is_malicious\", 0)\n",
    "df19.insert(7, \"Is_malicious\", 0)\n",
    "df20.insert(7, \"Is_malicious\", 0)\n",
    "df21.insert(7, \"Is_malicious\", 0)\n",
    "df22.insert(7, \"Is_malicious\", 0)\n",
    "df23.insert(7, \"Is_malicious\", 0)\n",
    "df24.insert(7, \"Is_malicious\", 0)\n",
    "\n",
    "\n",
    "# ========================================================\n",
    "\n",
    "df25.insert(7, \"Is_malicious\", 0)\n",
    "df26.insert(7, \"Is_malicious\", 0)\n",
    "df27.insert(7, \"Is_malicious\", 0)\n",
    "df28.insert(7, \"Is_malicious\", 0)\n",
    "df29.insert(7, \"Is_malicious\", 0)\n",
    "df30.insert(7, \"Is_malicious\", 0)\n",
    "df31.insert(7, \"Is_malicious\", 0)\n",
    "\n",
    "df32.insert(7, \"Is_malicious\", 1)\n",
    "df33.insert(7, \"Is_malicious\", 1)\n",
    "df34.insert(7, \"Is_malicious\", 1)\n",
    "df35.insert(7, \"Is_malicious\", 1)"
   ]
  },
  {
   "cell_type": "code",
   "execution_count": 5,
   "id": "bc55022f",
   "metadata": {
    "execution": {
     "iopub.execute_input": "2025-08-09T15:05:55.056905Z",
     "iopub.status.busy": "2025-08-09T15:05:55.056688Z",
     "iopub.status.idle": "2025-08-09T15:05:56.073523Z",
     "shell.execute_reply": "2025-08-09T15:05:56.072580Z"
    }
   },
   "outputs": [
    {
     "name": "stdout",
     "output_type": "stream",
     "text": [
      "df1 -->> 41572\n"
     ]
    },
    {
     "name": "stdout",
     "output_type": "stream",
     "text": [
      "df2 -->> 1198039\n",
      "df3 -->> 3519\n",
      "df4 -->> 11745\n",
      "df5 -->> 12871\n",
      "df6 -->> 19643\n",
      "df7 -->> 2539\n",
      "df8 -->> 4550\n",
      "df9 -->> 3869\n",
      "df10 -->> 5327\n",
      "df11 -->> 4727\n",
      "df12 -->> 4190\n",
      "df13 -->> 3481\n",
      "df14 -->> 38576\n",
      "df15 -->> 5961\n",
      "df16 -->> 1803\n",
      "df17 -->> 7029\n",
      "df18 -->> 1012\n",
      "df19 -->> 96545\n",
      "df20 -->> 108065\n",
      "df21 -->> 25138\n",
      "df22 -->> 91274\n",
      "df23 -->> 23597\n",
      "df24 -->> 59619\n"
     ]
    },
    {
     "name": "stdout",
     "output_type": "stream",
     "text": [
      "df25 -->> 625194\n",
      "df26 -->> 266935\n",
      "df27 -->> 453466\n"
     ]
    },
    {
     "name": "stdout",
     "output_type": "stream",
     "text": [
      "df28 -->> 654479\n",
      "df29 -->> 6764\n",
      "df30 -->> 25288\n",
      "df31 -->> 3689\n",
      "df32 -->> 16744\n",
      "df33 -->> 9880\n",
      "df34 -->> 6406\n",
      "df35 -->> 234272\n"
     ]
    }
   ],
   "source": [
    "print(\"df1 -->> {}\".format(len(df1.dropna())))\n",
    "print(\"df2 -->> {}\".format(len(df2.dropna())))\n",
    "print(\"df3 -->> {}\".format(len(df3.dropna())))\n",
    "print(\"df4 -->> {}\".format(len(df4.dropna())))\n",
    "print(\"df5 -->> {}\".format(len(df5.dropna())))\n",
    "print(\"df6 -->> {}\".format(len(df6.dropna())))\n",
    "print(\"df7 -->> {}\".format(len(df7.dropna())))\n",
    "print(\"df8 -->> {}\".format(len(df8.dropna())))\n",
    "print(\"df9 -->> {}\".format(len(df9.dropna())))\n",
    "print(\"df10 -->> {}\".format(len(df10.dropna())))\n",
    "print(\"df11 -->> {}\".format(len(df11.dropna())))\n",
    "print(\"df12 -->> {}\".format(len(df12.dropna())))\n",
    "print(\"df13 -->> {}\".format(len(df13.dropna())))\n",
    "print(\"df14 -->> {}\".format(len(df14.dropna())))\n",
    "print(\"df15 -->> {}\".format(len(df15.dropna())))\n",
    "print(\"df16 -->> {}\".format(len(df16.dropna())))\n",
    "print(\"df17 -->> {}\".format(len(df17.dropna())))\n",
    "print(\"df18 -->> {}\".format(len(df18.dropna())))\n",
    "print(\"df19 -->> {}\".format(len(df19.dropna())))\n",
    "print(\"df20 -->> {}\".format(len(df20.dropna())))\n",
    "print(\"df21 -->> {}\".format(len(df21.dropna())))\n",
    "print(\"df22 -->> {}\".format(len(df22.dropna())))\n",
    "print(\"df23 -->> {}\".format(len(df23.dropna())))\n",
    "print(\"df24 -->> {}\".format(len(df24.dropna())))\n",
    "print(\"df25 -->> {}\".format(len(df25.dropna())))\n",
    "print(\"df26 -->> {}\".format(len(df26.dropna())))\n",
    "print(\"df27 -->> {}\".format(len(df27.dropna())))\n",
    "print(\"df28 -->> {}\".format(len(df28.dropna())))\n",
    "print(\"df29 -->> {}\".format(len(df29.dropna())))\n",
    "print(\"df30 -->> {}\".format(len(df30.dropna())))\n",
    "print(\"df31 -->> {}\".format(len(df31.dropna())))\n",
    "print(\"df32 -->> {}\".format(len(df32.dropna())))\n",
    "print(\"df33 -->> {}\".format(len(df33.dropna())))\n",
    "print(\"df34 -->> {}\".format(len(df34.dropna())))\n",
    "print(\"df35 -->> {}\".format(len(df35.dropna())))"
   ]
  },
  {
   "cell_type": "code",
   "execution_count": 6,
   "id": "a557231b",
   "metadata": {
    "execution": {
     "iopub.execute_input": "2025-08-09T15:05:56.077240Z",
     "iopub.status.busy": "2025-08-09T15:05:56.077012Z",
     "iopub.status.idle": "2025-08-09T15:05:56.085640Z",
     "shell.execute_reply": "2025-08-09T15:05:56.084785Z"
    }
   },
   "outputs": [],
   "source": [
    "def run_process(a,b,x):\n",
    "    \n",
    "    df_malicious = a.copy()\n",
    "    df_benign    = b.copy()\n",
    "    \n",
    "    from tsfresh import extract_features, select_features\n",
    "    from tsfresh.utilities.dataframe_functions import impute\n",
    "    from tsfresh import extract_features\n",
    "    from tsfresh.feature_selection.relevance import calculate_relevance_table\n",
    "\n",
    "\n",
    "    df_malicious.reset_index(drop=True, inplace=True) #reset index\n",
    "    df_malicious['id']= np.floor(df_malicious.index.array/10)\n",
    "    df_benign.reset_index(drop=True, inplace=True) #reset index\n",
    "    df_benign['id']= np.floor(df_benign.index.array/10)\n",
    "    \n",
    "\n",
    "    \n",
    "\n",
    "    tf1=tsfresh.extract_features(df_malicious,impute_function=impute, column_kind='Is_malicious',\n",
    "                                 column_id='id',column_sort=\"Time\",column_value = \"Length\")\n",
    "    tf1['class']= 1\n",
    "\n",
    "    \n",
    "    \n",
    "    tf2=tsfresh.extract_features(df_benign,impute_function=impute, column_kind='Is_malicious',\n",
    "                                 column_id='id',column_sort=\"Time\",column_value = \"Length\")\n",
    "    tf2['class']= 0\n",
    "\n",
    "\n",
    "    tf2.columns = tf1.columns\n",
    "\n",
    "    features=pd.concat([tf1,tf2])\n",
    "\n",
    "\n",
    "    features2 = features.copy()\n",
    "    features2.reset_index(drop=True, inplace=True)\n",
    "    \n",
    "    y = pd.Series(data = features2['class'], index=features2.index)\n",
    "    \n",
    "    from tsfresh.examples import load_robot_execution_failures\n",
    "    from tsfresh import extract_features, select_features\n",
    "    from tsfresh.feature_selection.relevance import calculate_relevance_table\n",
    "\n",
    "    relevance_table = calculate_relevance_table(features2, y)\n",
    "    relevance_table = relevance_table[relevance_table.relevant]\n",
    "    relevance_table.sort_values(\"p_value\", inplace=True)\n",
    "\n",
    "    relevance_table\n",
    "    \n",
    "    best_features = relevance_table[relevance_table['p_value'] <= 0.05]\n",
    "\n",
    "    df_ML = pd.DataFrame()\n",
    "\n",
    "    for pkt in best_features:\n",
    "        df_ML[best_features.feature] = features[best_features.feature]\n",
    "\n",
    "    final = ML_Process(df_ML,x)\n",
    "\n",
    "    return final"
   ]
  },
  {
   "cell_type": "code",
   "execution_count": 7,
   "id": "a5a6c41f",
   "metadata": {
    "execution": {
     "iopub.execute_input": "2025-08-09T15:05:56.088949Z",
     "iopub.status.busy": "2025-08-09T15:05:56.088736Z",
     "iopub.status.idle": "2025-08-09T15:05:56.101436Z",
     "shell.execute_reply": "2025-08-09T15:05:56.100610Z"
    }
   },
   "outputs": [],
   "source": [
    "def ML_Process(df_ML,x):\n",
    "    df_results = x.copy() \n",
    "    print('let the ml starts')\n",
    "  \n",
    "    from sklearn import neighbors, metrics\n",
    "    from sklearn.preprocessing import LabelEncoder\n",
    "\n",
    "    #X = df_finalized[['Time', 'Length','Protocol']].values\n",
    "    X = df_ML.drop('class',axis=1).to_numpy()\n",
    "    #y = df_finalized[['Is_malicious']]\n",
    "    y = df_ML['class'].to_numpy()\n",
    "\n",
    "\n",
    "    #print(X,y)\n",
    "    \n",
    "    from sklearn.model_selection import train_test_split\n",
    "    Le = LabelEncoder()\n",
    "    for i in range(len(X[0])):\n",
    "        X[:, i] = Le.fit_transform(X[:, i])\n",
    "\n",
    "    X_train, X_test, y_train, y_test = train_test_split(X, y, test_size=0.25, random_state=8675309)\n",
    "\n",
    "    \n",
    "    from sklearn.linear_model import LogisticRegression\n",
    "    from sklearn.neighbors import KNeighborsClassifier\n",
    "    from sklearn.svm import SVC\n",
    "    from sklearn.ensemble import RandomForestClassifier\n",
    "    from sklearn.naive_bayes import GaussianNB\n",
    "    #from xgboost import XGBClassifier\n",
    "    from sklearn import model_selection\n",
    "    from sklearn.utils import class_weight\n",
    "    from sklearn.metrics import classification_report\n",
    "    from sklearn.metrics import confusion_matrix\n",
    "    import numpy as np\n",
    "    import pandas as pd\n",
    "    y_train = y_train.ravel()\n",
    "    dfs = []\n",
    "    models = [\n",
    "        ('SVM-linear-scale-1', SVC(C = 1, kernel = 'linear',gamma ='scale')),\n",
    "        ('SVM-poly-scale-1', SVC(C = 1, kernel = 'poly',gamma ='scale')),\n",
    "        ('SVM-rbf-scale-1', SVC(C = 1, kernel = 'rbf',gamma ='scale')),\n",
    "        ('SVM-sigmoid-scale-1', SVC(C = 1, kernel = 'sigmoid',gamma ='scale')),\n",
    "        ('SVM-linear-auto-1', SVC(C = 1, kernel = 'linear',gamma ='auto')),\n",
    "        ('SVM-poly-auto-1', SVC(C = 1, kernel = 'poly',gamma ='auto')),\n",
    "        ('SVM-rbf-auto-1', SVC(C = 1, kernel = 'rbf',gamma ='auto')),\n",
    "        ('SVM-sigmoid-auto-1', SVC(C = 1, kernel = 'sigmoid',gamma ='auto')),\n",
    "        ('SVM-linear-scale-2', SVC(C = 2, kernel = 'linear',gamma ='scale')),\n",
    "        ('SVM-poly-scale-2', SVC(C = 2, kernel = 'poly',gamma ='scale')),\n",
    "        ('SVM-rbf-scale-2', SVC(C = 2, kernel = 'rbf',gamma ='scale')),\n",
    "        ('SVM-sigmoid-scale-2', SVC(C = 2, kernel = 'sigmoid',gamma ='scale')),\n",
    "        ('SVM-linear-auto-2', SVC(C = 2, kernel = 'linear',gamma ='auto')),\n",
    "        ('SVM-poly-auto-2', SVC(C = 2, kernel = 'poly',gamma ='auto')),\n",
    "        ('SVM-rbf-auto-2', SVC(C = 2, kernel = 'rbf',gamma ='auto')),\n",
    "        ('SVM-sigmoid-auto-2', SVC(C = 2, kernel = 'sigmoid',gamma ='auto'))\n",
    "            ]\n",
    "    results = []\n",
    "    names = []\n",
    "    scoring = ['accuracy', 'precision_weighted', 'recall_weighted', 'f1_weighted', 'roc_auc']\n",
    "    target_names = ['malignant', 'benign']\n",
    "    for name, model in models:\n",
    "        kfold = model_selection.KFold(n_splits=5, shuffle=True, random_state=90210)\n",
    "        cv_results = model_selection.cross_validate(model, X_train, y_train, cv=kfold, \n",
    "                                                    scoring=scoring)\n",
    "\n",
    "        clf = model.fit(X_train, y_train)\n",
    "        y_pred = clf.predict(X_test)\n",
    "        print(name)\n",
    "        print(classification_report(y_test, y_pred, target_names=target_names))\n",
    "        results.append(cv_results)\n",
    "        names.append(name)\n",
    "        this_df = pd.DataFrame(cv_results)\n",
    "        this_df['model'] = name\n",
    "        dfs.append(this_df)\n",
    "        final = pd.concat(dfs, ignore_index=True)\n",
    "        print(final)\n",
    "\n",
    "    return(final)\n"
   ]
  },
  {
   "cell_type": "code",
   "execution_count": 8,
   "id": "0fa413b6",
   "metadata": {
    "execution": {
     "iopub.execute_input": "2025-08-09T15:05:56.104714Z",
     "iopub.status.busy": "2025-08-09T15:05:56.104489Z",
     "iopub.status.idle": "2025-08-10T00:40:31.013531Z",
     "shell.execute_reply": "2025-08-10T00:40:31.012241Z"
    },
    "scrolled": false
   },
   "outputs": [
    {
     "name": "stdout",
     "output_type": "stream",
     "text": [
      "malicious: 247143\n",
      "benign: 246001\n",
      "0 NAN in malicious!\n"
     ]
    },
    {
     "name": "stdout",
     "output_type": "stream",
     "text": [
      "0 NAN in benign!\n"
     ]
    },
    {
     "name": "stdout",
     "output_type": "stream",
     "text": [
      "After droppping NAN rows: \n",
      "malicious: 247143\n",
      "benign: 246001\n"
     ]
    },
    {
     "name": "stderr",
     "output_type": "stream",
     "text": [
      "\r",
      "Feature Extraction:   0%|          | 0/240 [00:00<?, ?it/s]"
     ]
    },
    {
     "name": "stderr",
     "output_type": "stream",
     "text": [
      "\r",
      "Feature Extraction:   0%|          | 1/240 [00:11<45:53, 11.52s/it]"
     ]
    },
    {
     "name": "stderr",
     "output_type": "stream",
     "text": [
      "\r",
      "Feature Extraction:   1%|          | 2/240 [00:11<19:34,  4.93s/it]"
     ]
    },
    {
     "name": "stderr",
     "output_type": "stream",
     "text": [
      "\r",
      "Feature Extraction:   1%|▏         | 3/240 [00:12<11:37,  2.94s/it]"
     ]
    },
    {
     "name": "stderr",
     "output_type": "stream",
     "text": [
      "\r",
      "Feature Extraction:   2%|▏         | 4/240 [00:12<07:17,  1.85s/it]"
     ]
    },
    {
     "name": "stderr",
     "output_type": "stream",
     "text": [
      "\r",
      "Feature Extraction:   2%|▏         | 5/240 [00:12<04:56,  1.26s/it]"
     ]
    },
    {
     "name": "stderr",
     "output_type": "stream",
     "text": [
      "\r",
      "Feature Extraction:   2%|▎         | 6/240 [00:13<03:33,  1.10it/s]"
     ]
    },
    {
     "name": "stderr",
     "output_type": "stream",
     "text": [
      "\r",
      "Feature Extraction:   3%|▎         | 7/240 [00:13<02:32,  1.53it/s]"
     ]
    },
    {
     "name": "stderr",
     "output_type": "stream",
     "text": [
      "\r",
      "Feature Extraction:   3%|▎         | 8/240 [00:13<02:03,  1.88it/s]"
     ]
    },
    {
     "name": "stderr",
     "output_type": "stream",
     "text": [
      "\r",
      "Feature Extraction:   4%|▍         | 9/240 [00:13<01:37,  2.37it/s]"
     ]
    },
    {
     "name": "stderr",
     "output_type": "stream",
     "text": [
      "\r",
      "Feature Extraction:   4%|▍         | 10/240 [00:14<01:45,  2.18it/s]"
     ]
    },
    {
     "name": "stderr",
     "output_type": "stream",
     "text": [
      "\r",
      "Feature Extraction:   5%|▍         | 11/240 [00:14<01:24,  2.72it/s]"
     ]
    },
    {
     "name": "stderr",
     "output_type": "stream",
     "text": [
      "\r",
      "Feature Extraction:   5%|▌         | 13/240 [00:14<01:01,  3.68it/s]"
     ]
    },
    {
     "name": "stderr",
     "output_type": "stream",
     "text": [
      "\r",
      "Feature Extraction:   6%|▌         | 14/240 [00:14<00:59,  3.79it/s]"
     ]
    },
    {
     "name": "stderr",
     "output_type": "stream",
     "text": [
      "\r",
      "Feature Extraction:   6%|▋         | 15/240 [00:15<00:52,  4.32it/s]"
     ]
    },
    {
     "name": "stderr",
     "output_type": "stream",
     "text": [
      "\r",
      "Feature Extraction:   7%|▋         | 16/240 [00:15<00:48,  4.60it/s]"
     ]
    },
    {
     "name": "stderr",
     "output_type": "stream",
     "text": [
      "\r",
      "Feature Extraction:   7%|▋         | 17/240 [00:15<00:43,  5.10it/s]"
     ]
    },
    {
     "name": "stderr",
     "output_type": "stream",
     "text": [
      "\r",
      "Feature Extraction:   8%|▊         | 18/240 [00:15<00:40,  5.45it/s]"
     ]
    },
    {
     "name": "stderr",
     "output_type": "stream",
     "text": [
      "\r",
      "Feature Extraction:   8%|▊         | 19/240 [00:15<00:37,  5.83it/s]"
     ]
    },
    {
     "name": "stderr",
     "output_type": "stream",
     "text": [
      "\r",
      "Feature Extraction:   8%|▊         | 20/240 [00:15<00:36,  6.10it/s]"
     ]
    },
    {
     "name": "stderr",
     "output_type": "stream",
     "text": [
      "\r",
      "Feature Extraction:   9%|▉         | 21/240 [00:15<00:35,  6.19it/s]"
     ]
    },
    {
     "name": "stderr",
     "output_type": "stream",
     "text": [
      "\r",
      "Feature Extraction:   9%|▉         | 22/240 [00:16<00:39,  5.57it/s]"
     ]
    },
    {
     "name": "stderr",
     "output_type": "stream",
     "text": [
      "\r",
      "Feature Extraction:  10%|▉         | 23/240 [00:16<00:37,  5.78it/s]"
     ]
    },
    {
     "name": "stderr",
     "output_type": "stream",
     "text": [
      "\r",
      "Feature Extraction:  10%|█         | 24/240 [00:16<00:33,  6.42it/s]"
     ]
    },
    {
     "name": "stderr",
     "output_type": "stream",
     "text": [
      "\r",
      "Feature Extraction:  10%|█         | 25/240 [00:16<00:31,  6.75it/s]"
     ]
    },
    {
     "name": "stderr",
     "output_type": "stream",
     "text": [
      "\r",
      "Feature Extraction:  11%|█         | 26/240 [00:16<00:32,  6.60it/s]"
     ]
    },
    {
     "name": "stderr",
     "output_type": "stream",
     "text": [
      "\r",
      "Feature Extraction:  11%|█▏        | 27/240 [00:16<00:34,  6.13it/s]"
     ]
    },
    {
     "name": "stderr",
     "output_type": "stream",
     "text": [
      "\r",
      "Feature Extraction:  12%|█▏        | 28/240 [00:17<00:34,  6.17it/s]"
     ]
    },
    {
     "name": "stderr",
     "output_type": "stream",
     "text": [
      "\r",
      "Feature Extraction:  12%|█▏        | 29/240 [00:17<00:32,  6.55it/s]"
     ]
    },
    {
     "name": "stderr",
     "output_type": "stream",
     "text": [
      "\r",
      "Feature Extraction:  12%|█▎        | 30/240 [00:17<00:30,  6.92it/s]"
     ]
    },
    {
     "name": "stderr",
     "output_type": "stream",
     "text": [
      "\r",
      "Feature Extraction:  13%|█▎        | 31/240 [00:17<00:29,  7.11it/s]"
     ]
    },
    {
     "name": "stderr",
     "output_type": "stream",
     "text": [
      "\r",
      "Feature Extraction:  13%|█▎        | 32/240 [00:17<00:32,  6.32it/s]"
     ]
    },
    {
     "name": "stderr",
     "output_type": "stream",
     "text": [
      "\r",
      "Feature Extraction:  14%|█▍        | 34/240 [00:17<00:30,  6.78it/s]"
     ]
    },
    {
     "name": "stderr",
     "output_type": "stream",
     "text": [
      "\r",
      "Feature Extraction:  15%|█▍        | 35/240 [00:18<00:32,  6.28it/s]"
     ]
    },
    {
     "name": "stderr",
     "output_type": "stream",
     "text": [
      "\r",
      "Feature Extraction:  15%|█▌        | 36/240 [00:18<00:34,  5.96it/s]"
     ]
    },
    {
     "name": "stderr",
     "output_type": "stream",
     "text": [
      "\r",
      "Feature Extraction:  15%|█▌        | 37/240 [00:18<00:33,  6.00it/s]"
     ]
    },
    {
     "name": "stderr",
     "output_type": "stream",
     "text": [
      "\r",
      "Feature Extraction:  16%|█▌        | 38/240 [00:18<00:31,  6.38it/s]"
     ]
    },
    {
     "name": "stderr",
     "output_type": "stream",
     "text": [
      "\r",
      "Feature Extraction:  16%|█▋        | 39/240 [00:19<00:59,  3.36it/s]"
     ]
    },
    {
     "name": "stderr",
     "output_type": "stream",
     "text": [
      "\r",
      "Feature Extraction:  17%|█▋        | 40/240 [00:19<00:53,  3.71it/s]"
     ]
    },
    {
     "name": "stderr",
     "output_type": "stream",
     "text": [
      "\r",
      "Feature Extraction:  17%|█▋        | 41/240 [00:19<00:49,  4.06it/s]"
     ]
    },
    {
     "name": "stderr",
     "output_type": "stream",
     "text": [
      "\r",
      "Feature Extraction:  18%|█▊        | 42/240 [00:19<00:47,  4.14it/s]"
     ]
    },
    {
     "name": "stderr",
     "output_type": "stream",
     "text": [
      "\r",
      "Feature Extraction:  18%|█▊        | 43/240 [00:20<00:45,  4.32it/s]"
     ]
    },
    {
     "name": "stderr",
     "output_type": "stream",
     "text": [
      "\r",
      "Feature Extraction:  18%|█▊        | 44/240 [00:20<00:41,  4.68it/s]"
     ]
    },
    {
     "name": "stderr",
     "output_type": "stream",
     "text": [
      "\r",
      "Feature Extraction:  19%|█▉        | 45/240 [00:20<00:37,  5.19it/s]"
     ]
    },
    {
     "name": "stderr",
     "output_type": "stream",
     "text": [
      "\r",
      "Feature Extraction:  19%|█▉        | 46/240 [00:20<00:36,  5.33it/s]"
     ]
    },
    {
     "name": "stderr",
     "output_type": "stream",
     "text": [
      "\r",
      "Feature Extraction:  20%|█▉        | 47/240 [00:20<00:35,  5.45it/s]"
     ]
    },
    {
     "name": "stderr",
     "output_type": "stream",
     "text": [
      "\r",
      "Feature Extraction:  20%|██        | 48/240 [00:20<00:32,  5.82it/s]"
     ]
    },
    {
     "name": "stderr",
     "output_type": "stream",
     "text": [
      "\r",
      "Feature Extraction:  20%|██        | 49/240 [00:22<01:54,  1.66it/s]"
     ]
    },
    {
     "name": "stderr",
     "output_type": "stream",
     "text": [
      "\r",
      "Feature Extraction:  21%|██        | 50/240 [00:23<02:02,  1.55it/s]"
     ]
    },
    {
     "name": "stderr",
     "output_type": "stream",
     "text": [
      "\r",
      "Feature Extraction:  21%|██▏       | 51/240 [00:23<01:53,  1.67it/s]"
     ]
    },
    {
     "name": "stderr",
     "output_type": "stream",
     "text": [
      "\r",
      "Feature Extraction:  22%|██▏       | 52/240 [00:24<01:37,  1.94it/s]"
     ]
    },
    {
     "name": "stderr",
     "output_type": "stream",
     "text": [
      "\r",
      "Feature Extraction:  22%|██▎       | 54/240 [00:24<01:10,  2.63it/s]"
     ]
    },
    {
     "name": "stderr",
     "output_type": "stream",
     "text": [
      "\r",
      "Feature Extraction:  23%|██▎       | 55/240 [00:24<00:58,  3.16it/s]"
     ]
    },
    {
     "name": "stderr",
     "output_type": "stream",
     "text": [
      "\r",
      "Feature Extraction:  23%|██▎       | 56/240 [00:24<00:56,  3.23it/s]"
     ]
    },
    {
     "name": "stderr",
     "output_type": "stream",
     "text": [
      "\r",
      "Feature Extraction:  24%|██▍       | 57/240 [00:25<00:52,  3.49it/s]"
     ]
    },
    {
     "name": "stderr",
     "output_type": "stream",
     "text": [
      "\r",
      "Feature Extraction:  24%|██▍       | 58/240 [00:25<00:57,  3.14it/s]"
     ]
    },
    {
     "name": "stderr",
     "output_type": "stream",
     "text": [
      "\r",
      "Feature Extraction:  25%|██▍       | 59/240 [00:26<01:09,  2.61it/s]"
     ]
    },
    {
     "name": "stderr",
     "output_type": "stream",
     "text": [
      "\r",
      "Feature Extraction:  25%|██▌       | 60/240 [00:26<01:05,  2.73it/s]"
     ]
    },
    {
     "name": "stderr",
     "output_type": "stream",
     "text": [
      "\r",
      "Feature Extraction:  25%|██▌       | 61/240 [00:27<01:18,  2.29it/s]"
     ]
    },
    {
     "name": "stderr",
     "output_type": "stream",
     "text": [
      "\r",
      "Feature Extraction:  26%|██▌       | 62/240 [00:27<01:02,  2.87it/s]"
     ]
    },
    {
     "name": "stderr",
     "output_type": "stream",
     "text": [
      "\r",
      "Feature Extraction:  27%|██▋       | 64/240 [00:27<00:56,  3.14it/s]"
     ]
    },
    {
     "name": "stderr",
     "output_type": "stream",
     "text": [
      "\r",
      "Feature Extraction:  27%|██▋       | 65/240 [00:28<01:08,  2.55it/s]"
     ]
    },
    {
     "name": "stderr",
     "output_type": "stream",
     "text": [
      "\r",
      "Feature Extraction:  28%|██▊       | 66/240 [00:28<00:58,  2.97it/s]"
     ]
    },
    {
     "name": "stderr",
     "output_type": "stream",
     "text": [
      "\r",
      "Feature Extraction:  28%|██▊       | 67/240 [00:28<00:55,  3.09it/s]"
     ]
    },
    {
     "name": "stderr",
     "output_type": "stream",
     "text": [
      "\r",
      "Feature Extraction:  28%|██▊       | 68/240 [00:28<00:45,  3.80it/s]"
     ]
    },
    {
     "name": "stderr",
     "output_type": "stream",
     "text": [
      "\r",
      "Feature Extraction:  29%|██▉       | 69/240 [00:29<00:38,  4.41it/s]"
     ]
    },
    {
     "name": "stderr",
     "output_type": "stream",
     "text": [
      "\r",
      "Feature Extraction:  29%|██▉       | 70/240 [00:29<00:37,  4.52it/s]"
     ]
    },
    {
     "name": "stderr",
     "output_type": "stream",
     "text": [
      "\r",
      "Feature Extraction:  30%|██▉       | 71/240 [00:29<00:34,  4.96it/s]"
     ]
    },
    {
     "name": "stderr",
     "output_type": "stream",
     "text": [
      "\r",
      "Feature Extraction:  30%|███       | 72/240 [00:29<00:33,  5.09it/s]"
     ]
    },
    {
     "name": "stderr",
     "output_type": "stream",
     "text": [
      "\r",
      "Feature Extraction:  30%|███       | 73/240 [00:29<00:28,  5.87it/s]"
     ]
    },
    {
     "name": "stderr",
     "output_type": "stream",
     "text": [
      "\r",
      "Feature Extraction:  31%|███       | 74/240 [00:29<00:27,  6.08it/s]"
     ]
    },
    {
     "name": "stderr",
     "output_type": "stream",
     "text": [
      "\r",
      "Feature Extraction:  31%|███▏      | 75/240 [00:30<00:28,  5.75it/s]"
     ]
    },
    {
     "name": "stderr",
     "output_type": "stream",
     "text": [
      "\r",
      "Feature Extraction:  32%|███▏      | 76/240 [00:30<00:31,  5.16it/s]"
     ]
    },
    {
     "name": "stderr",
     "output_type": "stream",
     "text": [
      "\r",
      "Feature Extraction:  32%|███▏      | 77/240 [00:30<00:28,  5.71it/s]"
     ]
    },
    {
     "name": "stderr",
     "output_type": "stream",
     "text": [
      "\r",
      "Feature Extraction:  32%|███▎      | 78/240 [00:30<00:27,  5.79it/s]"
     ]
    },
    {
     "name": "stderr",
     "output_type": "stream",
     "text": [
      "\r",
      "Feature Extraction:  33%|███▎      | 79/240 [00:30<00:27,  5.86it/s]"
     ]
    },
    {
     "name": "stderr",
     "output_type": "stream",
     "text": [
      "\r",
      "Feature Extraction:  33%|███▎      | 80/240 [00:30<00:29,  5.48it/s]"
     ]
    },
    {
     "name": "stderr",
     "output_type": "stream",
     "text": [
      "\r",
      "Feature Extraction:  34%|███▍      | 81/240 [00:31<00:30,  5.15it/s]"
     ]
    },
    {
     "name": "stderr",
     "output_type": "stream",
     "text": [
      "\r",
      "Feature Extraction:  35%|███▍      | 83/240 [00:31<00:25,  6.13it/s]"
     ]
    },
    {
     "name": "stderr",
     "output_type": "stream",
     "text": [
      "\r",
      "Feature Extraction:  35%|███▌      | 84/240 [00:32<00:58,  2.65it/s]"
     ]
    },
    {
     "name": "stderr",
     "output_type": "stream",
     "text": [
      "\r",
      "Feature Extraction:  36%|███▌      | 86/240 [00:32<00:45,  3.40it/s]"
     ]
    },
    {
     "name": "stderr",
     "output_type": "stream",
     "text": [
      "\r",
      "Feature Extraction:  36%|███▋      | 87/240 [00:34<01:16,  2.01it/s]"
     ]
    },
    {
     "name": "stderr",
     "output_type": "stream",
     "text": [
      "\r",
      "Feature Extraction:  37%|███▋      | 88/240 [00:34<01:22,  1.84it/s]"
     ]
    },
    {
     "name": "stderr",
     "output_type": "stream",
     "text": [
      "\r",
      "Feature Extraction:  37%|███▋      | 89/240 [00:35<01:12,  2.08it/s]"
     ]
    },
    {
     "name": "stderr",
     "output_type": "stream",
     "text": [
      "\r",
      "Feature Extraction:  38%|███▊      | 90/240 [00:35<00:59,  2.53it/s]"
     ]
    },
    {
     "name": "stderr",
     "output_type": "stream",
     "text": [
      "\r",
      "Feature Extraction:  38%|███▊      | 91/240 [00:35<01:08,  2.19it/s]"
     ]
    },
    {
     "name": "stderr",
     "output_type": "stream",
     "text": [
      "\r",
      "Feature Extraction:  38%|███▊      | 92/240 [00:36<01:31,  1.63it/s]"
     ]
    },
    {
     "name": "stderr",
     "output_type": "stream",
     "text": [
      "\r",
      "Feature Extraction:  39%|███▉      | 93/240 [00:36<01:11,  2.07it/s]"
     ]
    },
    {
     "name": "stderr",
     "output_type": "stream",
     "text": [
      "\r",
      "Feature Extraction:  39%|███▉      | 94/240 [00:37<00:57,  2.54it/s]"
     ]
    },
    {
     "name": "stderr",
     "output_type": "stream",
     "text": [
      "\r",
      "Feature Extraction:  40%|███▉      | 95/240 [00:37<00:45,  3.22it/s]"
     ]
    },
    {
     "name": "stderr",
     "output_type": "stream",
     "text": [
      "\r",
      "Feature Extraction:  40%|████      | 96/240 [00:37<00:38,  3.75it/s]"
     ]
    },
    {
     "name": "stderr",
     "output_type": "stream",
     "text": [
      "\r",
      "Feature Extraction:  40%|████      | 97/240 [00:37<00:49,  2.90it/s]"
     ]
    },
    {
     "name": "stderr",
     "output_type": "stream",
     "text": [
      "\r",
      "Feature Extraction:  41%|████      | 98/240 [00:38<00:47,  3.01it/s]"
     ]
    },
    {
     "name": "stderr",
     "output_type": "stream",
     "text": [
      "\r",
      "Feature Extraction:  41%|████▏     | 99/240 [00:38<00:51,  2.76it/s]"
     ]
    },
    {
     "name": "stderr",
     "output_type": "stream",
     "text": [
      "\r",
      "Feature Extraction:  42%|████▏     | 100/240 [00:38<00:47,  2.97it/s]"
     ]
    },
    {
     "name": "stderr",
     "output_type": "stream",
     "text": [
      "\r",
      "Feature Extraction:  42%|████▏     | 101/240 [00:39<00:40,  3.46it/s]"
     ]
    },
    {
     "name": "stderr",
     "output_type": "stream",
     "text": [
      "\r",
      "Feature Extraction:  42%|████▎     | 102/240 [00:39<00:36,  3.79it/s]"
     ]
    },
    {
     "name": "stderr",
     "output_type": "stream",
     "text": [
      "\r",
      "Feature Extraction:  43%|████▎     | 103/240 [00:39<00:36,  3.75it/s]"
     ]
    },
    {
     "name": "stderr",
     "output_type": "stream",
     "text": [
      "\r",
      "Feature Extraction:  43%|████▎     | 104/240 [00:39<00:32,  4.17it/s]"
     ]
    },
    {
     "name": "stderr",
     "output_type": "stream",
     "text": [
      "\r",
      "Feature Extraction:  44%|████▍     | 105/240 [00:39<00:30,  4.41it/s]"
     ]
    },
    {
     "name": "stderr",
     "output_type": "stream",
     "text": [
      "\r",
      "Feature Extraction:  44%|████▍     | 106/240 [00:40<00:28,  4.67it/s]"
     ]
    },
    {
     "name": "stderr",
     "output_type": "stream",
     "text": [
      "\r",
      "Feature Extraction:  45%|████▍     | 107/240 [00:40<00:34,  3.85it/s]"
     ]
    },
    {
     "name": "stderr",
     "output_type": "stream",
     "text": [
      "\r",
      "Feature Extraction:  45%|████▌     | 108/240 [00:40<00:30,  4.27it/s]"
     ]
    },
    {
     "name": "stderr",
     "output_type": "stream",
     "text": [
      "\r",
      "Feature Extraction:  45%|████▌     | 109/240 [00:40<00:28,  4.55it/s]"
     ]
    },
    {
     "name": "stderr",
     "output_type": "stream",
     "text": [
      "\r",
      "Feature Extraction:  46%|████▌     | 110/240 [00:41<00:27,  4.79it/s]"
     ]
    },
    {
     "name": "stderr",
     "output_type": "stream",
     "text": [
      "\r",
      "Feature Extraction:  46%|████▋     | 111/240 [00:41<00:24,  5.29it/s]"
     ]
    },
    {
     "name": "stderr",
     "output_type": "stream",
     "text": [
      "\r",
      "Feature Extraction:  47%|████▋     | 112/240 [00:41<00:23,  5.50it/s]"
     ]
    },
    {
     "name": "stderr",
     "output_type": "stream",
     "text": [
      "\r",
      "Feature Extraction:  47%|████▋     | 113/240 [00:41<00:24,  5.20it/s]"
     ]
    },
    {
     "name": "stderr",
     "output_type": "stream",
     "text": [
      "\r",
      "Feature Extraction:  48%|████▊     | 114/240 [00:41<00:23,  5.29it/s]"
     ]
    },
    {
     "name": "stderr",
     "output_type": "stream",
     "text": [
      "\r",
      "Feature Extraction:  48%|████▊     | 115/240 [00:41<00:24,  5.17it/s]"
     ]
    },
    {
     "name": "stderr",
     "output_type": "stream",
     "text": [
      "\r",
      "Feature Extraction:  48%|████▊     | 116/240 [00:42<00:24,  4.99it/s]"
     ]
    },
    {
     "name": "stderr",
     "output_type": "stream",
     "text": [
      "\r",
      "Feature Extraction:  49%|████▉     | 117/240 [00:42<00:24,  4.97it/s]"
     ]
    },
    {
     "name": "stderr",
     "output_type": "stream",
     "text": [
      "\r",
      "Feature Extraction:  49%|████▉     | 118/240 [00:43<00:56,  2.17it/s]"
     ]
    },
    {
     "name": "stderr",
     "output_type": "stream",
     "text": [
      "\r",
      "Feature Extraction:  50%|████▉     | 119/240 [00:43<00:45,  2.64it/s]"
     ]
    },
    {
     "name": "stderr",
     "output_type": "stream",
     "text": [
      "\r",
      "Feature Extraction:  50%|█████     | 120/240 [00:43<00:37,  3.22it/s]"
     ]
    },
    {
     "name": "stderr",
     "output_type": "stream",
     "text": [
      "\r",
      "Feature Extraction:  50%|█████     | 121/240 [00:44<00:32,  3.66it/s]"
     ]
    },
    {
     "name": "stderr",
     "output_type": "stream",
     "text": [
      "\r",
      "Feature Extraction:  51%|█████     | 122/240 [00:44<00:28,  4.18it/s]"
     ]
    },
    {
     "name": "stderr",
     "output_type": "stream",
     "text": [
      "\r",
      "Feature Extraction:  51%|█████▏    | 123/240 [00:44<00:24,  4.78it/s]"
     ]
    },
    {
     "name": "stderr",
     "output_type": "stream",
     "text": [
      "\r",
      "Feature Extraction:  52%|█████▏    | 125/240 [00:44<00:25,  4.56it/s]"
     ]
    },
    {
     "name": "stderr",
     "output_type": "stream",
     "text": [
      "\r",
      "Feature Extraction:  52%|█████▎    | 126/240 [00:45<00:25,  4.44it/s]"
     ]
    },
    {
     "name": "stderr",
     "output_type": "stream",
     "text": [
      "\r",
      "Feature Extraction:  53%|█████▎    | 127/240 [00:45<00:23,  4.76it/s]"
     ]
    },
    {
     "name": "stderr",
     "output_type": "stream",
     "text": [
      "\r",
      "Feature Extraction:  53%|█████▎    | 128/240 [00:45<00:31,  3.52it/s]"
     ]
    },
    {
     "name": "stderr",
     "output_type": "stream",
     "text": [
      "\r",
      "Feature Extraction:  54%|█████▍    | 129/240 [00:45<00:28,  3.90it/s]"
     ]
    },
    {
     "name": "stderr",
     "output_type": "stream",
     "text": [
      "\r",
      "Feature Extraction:  54%|█████▍    | 130/240 [00:45<00:24,  4.40it/s]"
     ]
    },
    {
     "name": "stderr",
     "output_type": "stream",
     "text": [
      "\r",
      "Feature Extraction:  55%|█████▍    | 131/240 [00:46<00:26,  4.16it/s]"
     ]
    },
    {
     "name": "stderr",
     "output_type": "stream",
     "text": [
      "\r",
      "Feature Extraction:  55%|█████▌    | 132/240 [00:47<00:46,  2.34it/s]"
     ]
    },
    {
     "name": "stderr",
     "output_type": "stream",
     "text": [
      "\r",
      "Feature Extraction:  55%|█████▌    | 133/240 [00:47<00:39,  2.73it/s]"
     ]
    },
    {
     "name": "stderr",
     "output_type": "stream",
     "text": [
      "\r",
      "Feature Extraction:  56%|█████▋    | 135/240 [00:47<00:27,  3.87it/s]"
     ]
    },
    {
     "name": "stderr",
     "output_type": "stream",
     "text": [
      "\r",
      "Feature Extraction:  57%|█████▋    | 136/240 [00:48<00:52,  1.97it/s]"
     ]
    },
    {
     "name": "stderr",
     "output_type": "stream",
     "text": [
      "\r",
      "Feature Extraction:  57%|█████▋    | 137/240 [00:49<00:55,  1.86it/s]"
     ]
    },
    {
     "name": "stderr",
     "output_type": "stream",
     "text": [
      "\r",
      "Feature Extraction:  57%|█████▊    | 138/240 [00:49<00:51,  1.97it/s]"
     ]
    },
    {
     "name": "stderr",
     "output_type": "stream",
     "text": [
      "\r",
      "Feature Extraction:  58%|█████▊    | 139/240 [00:50<00:40,  2.47it/s]"
     ]
    },
    {
     "name": "stderr",
     "output_type": "stream",
     "text": [
      "\r",
      "Feature Extraction:  58%|█████▊    | 140/240 [00:50<00:33,  2.95it/s]"
     ]
    },
    {
     "name": "stderr",
     "output_type": "stream",
     "text": [
      "\r",
      "Feature Extraction:  59%|█████▉    | 141/240 [00:50<00:30,  3.21it/s]"
     ]
    },
    {
     "name": "stderr",
     "output_type": "stream",
     "text": [
      "\r",
      "Feature Extraction:  59%|█████▉    | 142/240 [00:50<00:26,  3.76it/s]"
     ]
    },
    {
     "name": "stderr",
     "output_type": "stream",
     "text": [
      "\r",
      "Feature Extraction:  60%|█████▉    | 143/240 [00:50<00:22,  4.24it/s]"
     ]
    },
    {
     "name": "stderr",
     "output_type": "stream",
     "text": [
      "\r",
      "Feature Extraction:  60%|██████    | 144/240 [00:50<00:19,  4.99it/s]"
     ]
    },
    {
     "name": "stderr",
     "output_type": "stream",
     "text": [
      "\r",
      "Feature Extraction:  60%|██████    | 145/240 [00:51<00:21,  4.47it/s]"
     ]
    },
    {
     "name": "stderr",
     "output_type": "stream",
     "text": [
      "\r",
      "Feature Extraction:  61%|██████    | 146/240 [00:52<00:51,  1.82it/s]"
     ]
    },
    {
     "name": "stderr",
     "output_type": "stream",
     "text": [
      "\r",
      "Feature Extraction:  61%|██████▏   | 147/240 [00:52<00:40,  2.30it/s]"
     ]
    },
    {
     "name": "stderr",
     "output_type": "stream",
     "text": [
      "\r",
      "Feature Extraction:  62%|██████▏   | 148/240 [00:52<00:33,  2.78it/s]"
     ]
    },
    {
     "name": "stderr",
     "output_type": "stream",
     "text": [
      "\r",
      "Feature Extraction:  62%|██████▏   | 149/240 [00:53<00:27,  3.32it/s]"
     ]
    },
    {
     "name": "stderr",
     "output_type": "stream",
     "text": [
      "\r",
      "Feature Extraction:  62%|██████▎   | 150/240 [00:53<00:27,  3.25it/s]"
     ]
    },
    {
     "name": "stderr",
     "output_type": "stream",
     "text": [
      "\r",
      "Feature Extraction:  63%|██████▎   | 151/240 [00:53<00:24,  3.68it/s]"
     ]
    },
    {
     "name": "stderr",
     "output_type": "stream",
     "text": [
      "\r",
      "Feature Extraction:  63%|██████▎   | 152/240 [00:53<00:21,  4.12it/s]"
     ]
    },
    {
     "name": "stderr",
     "output_type": "stream",
     "text": [
      "\r",
      "Feature Extraction:  64%|██████▍   | 153/240 [00:53<00:18,  4.82it/s]"
     ]
    },
    {
     "name": "stderr",
     "output_type": "stream",
     "text": [
      "\r",
      "Feature Extraction:  64%|██████▍   | 154/240 [00:54<00:30,  2.78it/s]"
     ]
    },
    {
     "name": "stderr",
     "output_type": "stream",
     "text": [
      "\r",
      "Feature Extraction:  65%|██████▍   | 155/240 [00:54<00:26,  3.19it/s]"
     ]
    },
    {
     "name": "stderr",
     "output_type": "stream",
     "text": [
      "\r",
      "Feature Extraction:  65%|██████▌   | 156/240 [00:54<00:23,  3.62it/s]"
     ]
    },
    {
     "name": "stderr",
     "output_type": "stream",
     "text": [
      "\r",
      "Feature Extraction:  66%|██████▌   | 158/240 [00:55<00:19,  4.23it/s]"
     ]
    },
    {
     "name": "stderr",
     "output_type": "stream",
     "text": [
      "\r",
      "Feature Extraction:  66%|██████▋   | 159/240 [00:55<00:18,  4.45it/s]"
     ]
    },
    {
     "name": "stderr",
     "output_type": "stream",
     "text": [
      "\r",
      "Feature Extraction:  67%|██████▋   | 160/240 [00:55<00:15,  5.20it/s]"
     ]
    },
    {
     "name": "stderr",
     "output_type": "stream",
     "text": [
      "\r",
      "Feature Extraction:  67%|██████▋   | 161/240 [00:55<00:18,  4.38it/s]"
     ]
    },
    {
     "name": "stderr",
     "output_type": "stream",
     "text": [
      "\r",
      "Feature Extraction:  68%|██████▊   | 162/240 [00:56<00:19,  4.04it/s]"
     ]
    },
    {
     "name": "stderr",
     "output_type": "stream",
     "text": [
      "\r",
      "Feature Extraction:  68%|██████▊   | 163/240 [00:56<00:25,  3.01it/s]"
     ]
    },
    {
     "name": "stderr",
     "output_type": "stream",
     "text": [
      "\r",
      "Feature Extraction:  68%|██████▊   | 164/240 [00:57<00:32,  2.34it/s]"
     ]
    },
    {
     "name": "stderr",
     "output_type": "stream",
     "text": [
      "\r",
      "Feature Extraction:  69%|██████▉   | 165/240 [00:57<00:25,  2.95it/s]"
     ]
    },
    {
     "name": "stderr",
     "output_type": "stream",
     "text": [
      "\r",
      "Feature Extraction:  70%|██████▉   | 167/240 [00:57<00:16,  4.35it/s]"
     ]
    },
    {
     "name": "stderr",
     "output_type": "stream",
     "text": [
      "\r",
      "Feature Extraction:  70%|███████   | 168/240 [00:58<00:19,  3.71it/s]"
     ]
    },
    {
     "name": "stderr",
     "output_type": "stream",
     "text": [
      "\r",
      "Feature Extraction:  70%|███████   | 169/240 [00:58<00:18,  3.94it/s]"
     ]
    },
    {
     "name": "stderr",
     "output_type": "stream",
     "text": [
      "\r",
      "Feature Extraction:  71%|███████▏  | 171/240 [00:58<00:13,  5.15it/s]"
     ]
    },
    {
     "name": "stderr",
     "output_type": "stream",
     "text": [
      "\r",
      "Feature Extraction:  72%|███████▏  | 172/240 [00:58<00:14,  4.59it/s]"
     ]
    },
    {
     "name": "stderr",
     "output_type": "stream",
     "text": [
      "\r",
      "Feature Extraction:  72%|███████▏  | 173/240 [00:59<00:24,  2.71it/s]"
     ]
    },
    {
     "name": "stderr",
     "output_type": "stream",
     "text": [
      "\r",
      "Feature Extraction:  72%|███████▎  | 174/240 [00:59<00:21,  3.14it/s]"
     ]
    },
    {
     "name": "stderr",
     "output_type": "stream",
     "text": [
      "\r",
      "Feature Extraction:  73%|███████▎  | 175/240 [01:00<00:18,  3.55it/s]"
     ]
    },
    {
     "name": "stderr",
     "output_type": "stream",
     "text": [
      "\r",
      "Feature Extraction:  73%|███████▎  | 176/240 [01:00<00:15,  4.11it/s]"
     ]
    },
    {
     "name": "stderr",
     "output_type": "stream",
     "text": [
      "\r",
      "Feature Extraction:  74%|███████▍  | 177/240 [01:00<00:13,  4.60it/s]"
     ]
    },
    {
     "name": "stderr",
     "output_type": "stream",
     "text": [
      "\r",
      "Feature Extraction:  74%|███████▍  | 178/240 [01:00<00:12,  4.81it/s]"
     ]
    },
    {
     "name": "stderr",
     "output_type": "stream",
     "text": [
      "\r",
      "Feature Extraction:  75%|███████▍  | 179/240 [01:00<00:12,  4.78it/s]"
     ]
    },
    {
     "name": "stderr",
     "output_type": "stream",
     "text": [
      "\r",
      "Feature Extraction:  75%|███████▌  | 180/240 [01:00<00:11,  5.04it/s]"
     ]
    },
    {
     "name": "stderr",
     "output_type": "stream",
     "text": [
      "\r",
      "Feature Extraction:  75%|███████▌  | 181/240 [01:01<00:11,  5.18it/s]"
     ]
    },
    {
     "name": "stderr",
     "output_type": "stream",
     "text": [
      "\r",
      "Feature Extraction:  76%|███████▋  | 183/240 [01:01<00:09,  6.19it/s]"
     ]
    },
    {
     "name": "stderr",
     "output_type": "stream",
     "text": [
      "\r",
      "Feature Extraction:  77%|███████▋  | 184/240 [01:03<00:34,  1.65it/s]"
     ]
    },
    {
     "name": "stderr",
     "output_type": "stream",
     "text": [
      "\r",
      "Feature Extraction:  77%|███████▋  | 185/240 [01:03<00:26,  2.08it/s]"
     ]
    },
    {
     "name": "stderr",
     "output_type": "stream",
     "text": [
      "\r",
      "Feature Extraction:  78%|███████▊  | 186/240 [01:04<00:40,  1.34it/s]"
     ]
    },
    {
     "name": "stderr",
     "output_type": "stream",
     "text": [
      "\r",
      "Feature Extraction:  78%|███████▊  | 187/240 [01:05<00:31,  1.70it/s]"
     ]
    },
    {
     "name": "stderr",
     "output_type": "stream",
     "text": [
      "\r",
      "Feature Extraction:  78%|███████▊  | 188/240 [01:05<00:24,  2.10it/s]"
     ]
    },
    {
     "name": "stderr",
     "output_type": "stream",
     "text": [
      "\r",
      "Feature Extraction:  79%|███████▉  | 190/240 [01:05<00:15,  3.16it/s]"
     ]
    },
    {
     "name": "stderr",
     "output_type": "stream",
     "text": [
      "\r",
      "Feature Extraction:  80%|███████▉  | 191/240 [01:06<00:18,  2.62it/s]"
     ]
    },
    {
     "name": "stderr",
     "output_type": "stream",
     "text": [
      "\r",
      "Feature Extraction:  80%|████████  | 192/240 [01:06<00:15,  3.02it/s]"
     ]
    },
    {
     "name": "stderr",
     "output_type": "stream",
     "text": [
      "\r",
      "Feature Extraction:  80%|████████  | 193/240 [01:06<00:13,  3.58it/s]"
     ]
    },
    {
     "name": "stderr",
     "output_type": "stream",
     "text": [
      "\r",
      "Feature Extraction:  81%|████████  | 194/240 [01:06<00:10,  4.19it/s]"
     ]
    },
    {
     "name": "stderr",
     "output_type": "stream",
     "text": [
      "\r",
      "Feature Extraction:  81%|████████▏ | 195/240 [01:06<00:09,  4.95it/s]"
     ]
    },
    {
     "name": "stderr",
     "output_type": "stream",
     "text": [
      "\r",
      "Feature Extraction:  82%|████████▏ | 196/240 [01:07<00:10,  4.01it/s]"
     ]
    },
    {
     "name": "stderr",
     "output_type": "stream",
     "text": [
      "\r",
      "Feature Extraction:  82%|████████▏ | 197/240 [01:07<00:08,  4.86it/s]"
     ]
    },
    {
     "name": "stderr",
     "output_type": "stream",
     "text": [
      "\r",
      "Feature Extraction:  82%|████████▎ | 198/240 [01:07<00:08,  4.91it/s]"
     ]
    },
    {
     "name": "stderr",
     "output_type": "stream",
     "text": [
      "\r",
      "Feature Extraction:  83%|████████▎ | 199/240 [01:07<00:07,  5.42it/s]"
     ]
    },
    {
     "name": "stderr",
     "output_type": "stream",
     "text": [
      "\r",
      "Feature Extraction:  83%|████████▎ | 200/240 [01:07<00:07,  5.54it/s]"
     ]
    },
    {
     "name": "stderr",
     "output_type": "stream",
     "text": [
      "\r",
      "Feature Extraction:  84%|████████▍ | 202/240 [01:07<00:05,  6.61it/s]"
     ]
    },
    {
     "name": "stderr",
     "output_type": "stream",
     "text": [
      "\r",
      "Feature Extraction:  85%|████████▌ | 204/240 [01:08<00:04,  7.63it/s]"
     ]
    },
    {
     "name": "stderr",
     "output_type": "stream",
     "text": [
      "\r",
      "Feature Extraction:  85%|████████▌ | 205/240 [01:08<00:04,  7.80it/s]"
     ]
    },
    {
     "name": "stderr",
     "output_type": "stream",
     "text": [
      "\r",
      "Feature Extraction:  86%|████████▌ | 206/240 [01:08<00:04,  8.10it/s]"
     ]
    },
    {
     "name": "stderr",
     "output_type": "stream",
     "text": [
      "\r",
      "Feature Extraction:  87%|████████▋ | 208/240 [01:08<00:05,  5.50it/s]"
     ]
    },
    {
     "name": "stderr",
     "output_type": "stream",
     "text": [
      "\r",
      "Feature Extraction:  88%|████████▊ | 210/240 [01:09<00:04,  7.20it/s]"
     ]
    },
    {
     "name": "stderr",
     "output_type": "stream",
     "text": [
      "\r",
      "Feature Extraction:  88%|████████▊ | 211/240 [01:09<00:04,  6.63it/s]"
     ]
    },
    {
     "name": "stderr",
     "output_type": "stream",
     "text": [
      "\r",
      "Feature Extraction:  89%|████████▉ | 213/240 [01:09<00:05,  4.61it/s]"
     ]
    },
    {
     "name": "stderr",
     "output_type": "stream",
     "text": [
      "\r",
      "Feature Extraction:  89%|████████▉ | 214/240 [01:09<00:05,  5.14it/s]"
     ]
    },
    {
     "name": "stderr",
     "output_type": "stream",
     "text": [
      "\r",
      "Feature Extraction:  90%|████████▉ | 215/240 [01:10<00:04,  5.20it/s]"
     ]
    },
    {
     "name": "stderr",
     "output_type": "stream",
     "text": [
      "\r",
      "Feature Extraction:  90%|█████████ | 216/240 [01:10<00:04,  5.02it/s]"
     ]
    },
    {
     "name": "stderr",
     "output_type": "stream",
     "text": [
      "\r",
      "Feature Extraction:  91%|█████████ | 218/240 [01:10<00:03,  5.65it/s]"
     ]
    },
    {
     "name": "stderr",
     "output_type": "stream",
     "text": [
      "\r",
      "Feature Extraction:  91%|█████████▏| 219/240 [01:10<00:03,  5.56it/s]"
     ]
    },
    {
     "name": "stderr",
     "output_type": "stream",
     "text": [
      "\r",
      "Feature Extraction:  92%|█████████▏| 221/240 [01:11<00:03,  5.68it/s]"
     ]
    },
    {
     "name": "stderr",
     "output_type": "stream",
     "text": [
      "\r",
      "Feature Extraction:  92%|█████████▎| 222/240 [01:11<00:03,  4.80it/s]"
     ]
    },
    {
     "name": "stderr",
     "output_type": "stream",
     "text": [
      "\r",
      "Feature Extraction:  93%|█████████▎| 224/240 [01:11<00:02,  6.51it/s]"
     ]
    },
    {
     "name": "stderr",
     "output_type": "stream",
     "text": [
      "\r",
      "Feature Extraction:  95%|█████████▍| 227/240 [01:11<00:01,  9.67it/s]"
     ]
    },
    {
     "name": "stderr",
     "output_type": "stream",
     "text": [
      "\r",
      "Feature Extraction:  96%|█████████▌| 230/240 [01:12<00:00, 10.69it/s]"
     ]
    },
    {
     "name": "stderr",
     "output_type": "stream",
     "text": [
      "\r",
      "Feature Extraction:  97%|█████████▋| 232/240 [01:12<00:00,  8.25it/s]"
     ]
    },
    {
     "name": "stderr",
     "output_type": "stream",
     "text": [
      "\r",
      "Feature Extraction:  98%|█████████▊| 234/240 [01:12<00:00,  6.49it/s]"
     ]
    },
    {
     "name": "stderr",
     "output_type": "stream",
     "text": [
      "\r",
      "Feature Extraction:  98%|█████████▊| 235/240 [01:13<00:01,  4.93it/s]"
     ]
    },
    {
     "name": "stderr",
     "output_type": "stream",
     "text": [
      "\r",
      "Feature Extraction:  99%|█████████▉| 237/240 [01:13<00:00,  5.72it/s]"
     ]
    },
    {
     "name": "stderr",
     "output_type": "stream",
     "text": [
      "\r",
      "Feature Extraction: 100%|██████████| 240/240 [01:13<00:00,  7.99it/s]"
     ]
    },
    {
     "name": "stderr",
     "output_type": "stream",
     "text": [
      "\r",
      "Feature Extraction: 100%|██████████| 240/240 [01:13<00:00,  3.25it/s]"
     ]
    },
    {
     "name": "stderr",
     "output_type": "stream",
     "text": [
      "\n"
     ]
    },
    {
     "name": "stderr",
     "output_type": "stream",
     "text": [
      "\r",
      "Feature Extraction:   0%|          | 0/239 [00:00<?, ?it/s]"
     ]
    },
    {
     "name": "stderr",
     "output_type": "stream",
     "text": [
      "\r",
      "Feature Extraction:   0%|          | 1/239 [00:12<47:46, 12.05s/it]"
     ]
    },
    {
     "name": "stderr",
     "output_type": "stream",
     "text": [
      "\r",
      "Feature Extraction:   1%|          | 2/239 [00:12<20:11,  5.11s/it]"
     ]
    },
    {
     "name": "stderr",
     "output_type": "stream",
     "text": [
      "\r",
      "Feature Extraction:   1%|▏         | 3/239 [00:12<11:17,  2.87s/it]"
     ]
    },
    {
     "name": "stderr",
     "output_type": "stream",
     "text": [
      "\r",
      "Feature Extraction:   2%|▏         | 4/239 [00:12<07:07,  1.82s/it]"
     ]
    },
    {
     "name": "stderr",
     "output_type": "stream",
     "text": [
      "\r",
      "Feature Extraction:   2%|▏         | 5/239 [00:12<04:42,  1.21s/it]"
     ]
    },
    {
     "name": "stderr",
     "output_type": "stream",
     "text": [
      "\r",
      "Feature Extraction:   3%|▎         | 6/239 [00:12<03:18,  1.18it/s]"
     ]
    },
    {
     "name": "stderr",
     "output_type": "stream",
     "text": [
      "\r",
      "Feature Extraction:   3%|▎         | 7/239 [00:13<02:28,  1.57it/s]"
     ]
    },
    {
     "name": "stderr",
     "output_type": "stream",
     "text": [
      "\r",
      "Feature Extraction:   3%|▎         | 8/239 [00:13<01:53,  2.03it/s]"
     ]
    },
    {
     "name": "stderr",
     "output_type": "stream",
     "text": [
      "\r",
      "Feature Extraction:   4%|▍         | 9/239 [00:13<01:28,  2.59it/s]"
     ]
    },
    {
     "name": "stderr",
     "output_type": "stream",
     "text": [
      "\r",
      "Feature Extraction:   4%|▍         | 10/239 [00:13<01:15,  3.03it/s]"
     ]
    },
    {
     "name": "stderr",
     "output_type": "stream",
     "text": [
      "\r",
      "Feature Extraction:   5%|▍         | 11/239 [00:13<01:10,  3.24it/s]"
     ]
    },
    {
     "name": "stderr",
     "output_type": "stream",
     "text": [
      "\r",
      "Feature Extraction:   5%|▌         | 12/239 [00:14<01:04,  3.50it/s]"
     ]
    },
    {
     "name": "stderr",
     "output_type": "stream",
     "text": [
      "\r",
      "Feature Extraction:   5%|▌         | 13/239 [00:14<00:54,  4.14it/s]"
     ]
    },
    {
     "name": "stderr",
     "output_type": "stream",
     "text": [
      "\r",
      "Feature Extraction:   6%|▌         | 14/239 [00:14<00:50,  4.49it/s]"
     ]
    },
    {
     "name": "stderr",
     "output_type": "stream",
     "text": [
      "\r",
      "Feature Extraction:   6%|▋         | 15/239 [00:14<00:47,  4.70it/s]"
     ]
    },
    {
     "name": "stderr",
     "output_type": "stream",
     "text": [
      "\r",
      "Feature Extraction:   7%|▋         | 16/239 [00:14<00:41,  5.41it/s]"
     ]
    },
    {
     "name": "stderr",
     "output_type": "stream",
     "text": [
      "\r",
      "Feature Extraction:   7%|▋         | 17/239 [00:15<00:39,  5.60it/s]"
     ]
    },
    {
     "name": "stderr",
     "output_type": "stream",
     "text": [
      "\r",
      "Feature Extraction:   8%|▊         | 18/239 [00:15<01:05,  3.38it/s]"
     ]
    },
    {
     "name": "stderr",
     "output_type": "stream",
     "text": [
      "\r",
      "Feature Extraction:   8%|▊         | 19/239 [00:15<00:55,  4.00it/s]"
     ]
    },
    {
     "name": "stderr",
     "output_type": "stream",
     "text": [
      "\r",
      "Feature Extraction:   8%|▊         | 20/239 [00:15<00:49,  4.47it/s]"
     ]
    },
    {
     "name": "stderr",
     "output_type": "stream",
     "text": [
      "\r",
      "Feature Extraction:   9%|▉         | 21/239 [00:16<00:46,  4.69it/s]"
     ]
    },
    {
     "name": "stderr",
     "output_type": "stream",
     "text": [
      "\r",
      "Feature Extraction:  10%|▉         | 23/239 [00:16<00:36,  6.00it/s]"
     ]
    },
    {
     "name": "stderr",
     "output_type": "stream",
     "text": [
      "\r",
      "Feature Extraction:  10%|█         | 24/239 [00:16<00:36,  5.91it/s]"
     ]
    },
    {
     "name": "stderr",
     "output_type": "stream",
     "text": [
      "\r",
      "Feature Extraction:  10%|█         | 25/239 [00:16<00:34,  6.13it/s]"
     ]
    },
    {
     "name": "stderr",
     "output_type": "stream",
     "text": [
      "\r",
      "Feature Extraction:  11%|█         | 26/239 [00:16<00:32,  6.49it/s]"
     ]
    },
    {
     "name": "stderr",
     "output_type": "stream",
     "text": [
      "\r",
      "Feature Extraction:  11%|█▏        | 27/239 [00:16<00:31,  6.72it/s]"
     ]
    },
    {
     "name": "stderr",
     "output_type": "stream",
     "text": [
      "\r",
      "Feature Extraction:  12%|█▏        | 28/239 [00:17<00:29,  7.18it/s]"
     ]
    },
    {
     "name": "stderr",
     "output_type": "stream",
     "text": [
      "\r",
      "Feature Extraction:  12%|█▏        | 29/239 [00:17<00:30,  6.86it/s]"
     ]
    },
    {
     "name": "stderr",
     "output_type": "stream",
     "text": [
      "\r",
      "Feature Extraction:  13%|█▎        | 30/239 [00:17<00:31,  6.68it/s]"
     ]
    },
    {
     "name": "stderr",
     "output_type": "stream",
     "text": [
      "\r",
      "Feature Extraction:  13%|█▎        | 31/239 [00:17<00:31,  6.69it/s]"
     ]
    },
    {
     "name": "stderr",
     "output_type": "stream",
     "text": [
      "\r",
      "Feature Extraction:  13%|█▎        | 32/239 [00:17<00:30,  6.89it/s]"
     ]
    },
    {
     "name": "stderr",
     "output_type": "stream",
     "text": [
      "\r",
      "Feature Extraction:  14%|█▍        | 33/239 [00:17<00:29,  7.07it/s]"
     ]
    },
    {
     "name": "stderr",
     "output_type": "stream",
     "text": [
      "\r",
      "Feature Extraction:  14%|█▍        | 34/239 [00:17<00:27,  7.49it/s]"
     ]
    },
    {
     "name": "stderr",
     "output_type": "stream",
     "text": [
      "\r",
      "Feature Extraction:  15%|█▍        | 35/239 [00:18<00:28,  7.20it/s]"
     ]
    },
    {
     "name": "stderr",
     "output_type": "stream",
     "text": [
      "\r",
      "Feature Extraction:  15%|█▌        | 36/239 [00:18<00:30,  6.58it/s]"
     ]
    },
    {
     "name": "stderr",
     "output_type": "stream",
     "text": [
      "\r",
      "Feature Extraction:  15%|█▌        | 37/239 [00:18<00:36,  5.56it/s]"
     ]
    },
    {
     "name": "stderr",
     "output_type": "stream",
     "text": [
      "\r",
      "Feature Extraction:  16%|█▌        | 38/239 [00:18<00:38,  5.21it/s]"
     ]
    },
    {
     "name": "stderr",
     "output_type": "stream",
     "text": [
      "\r",
      "Feature Extraction:  16%|█▋        | 39/239 [00:18<00:39,  5.11it/s]"
     ]
    },
    {
     "name": "stderr",
     "output_type": "stream",
     "text": [
      "\r",
      "Feature Extraction:  17%|█▋        | 40/239 [00:19<00:37,  5.33it/s]"
     ]
    },
    {
     "name": "stderr",
     "output_type": "stream",
     "text": [
      "\r",
      "Feature Extraction:  17%|█▋        | 41/239 [00:19<00:38,  5.15it/s]"
     ]
    },
    {
     "name": "stderr",
     "output_type": "stream",
     "text": [
      "\r",
      "Feature Extraction:  18%|█▊        | 42/239 [00:19<00:33,  5.93it/s]"
     ]
    },
    {
     "name": "stderr",
     "output_type": "stream",
     "text": [
      "\r",
      "Feature Extraction:  18%|█▊        | 43/239 [00:19<00:36,  5.36it/s]"
     ]
    },
    {
     "name": "stderr",
     "output_type": "stream",
     "text": [
      "\r",
      "Feature Extraction:  18%|█▊        | 44/239 [00:19<00:35,  5.44it/s]"
     ]
    },
    {
     "name": "stderr",
     "output_type": "stream",
     "text": [
      "\r",
      "Feature Extraction:  19%|█▉        | 45/239 [00:19<00:35,  5.47it/s]"
     ]
    },
    {
     "name": "stderr",
     "output_type": "stream",
     "text": [
      "\r",
      "Feature Extraction:  19%|█▉        | 46/239 [00:20<00:51,  3.72it/s]"
     ]
    },
    {
     "name": "stderr",
     "output_type": "stream",
     "text": [
      "\r",
      "Feature Extraction:  20%|█▉        | 47/239 [00:20<00:42,  4.56it/s]"
     ]
    },
    {
     "name": "stderr",
     "output_type": "stream",
     "text": [
      "\r",
      "Feature Extraction:  20%|██        | 48/239 [00:20<00:39,  4.78it/s]"
     ]
    },
    {
     "name": "stderr",
     "output_type": "stream",
     "text": [
      "\r",
      "Feature Extraction:  21%|██        | 49/239 [00:23<03:28,  1.10s/it]"
     ]
    },
    {
     "name": "stderr",
     "output_type": "stream",
     "text": [
      "\r",
      "Feature Extraction:  21%|██        | 50/239 [00:24<02:43,  1.16it/s]"
     ]
    },
    {
     "name": "stderr",
     "output_type": "stream",
     "text": [
      "\r",
      "Feature Extraction:  21%|██▏       | 51/239 [00:24<02:16,  1.37it/s]"
     ]
    },
    {
     "name": "stderr",
     "output_type": "stream",
     "text": [
      "\r",
      "Feature Extraction:  22%|██▏       | 52/239 [00:25<02:03,  1.52it/s]"
     ]
    },
    {
     "name": "stderr",
     "output_type": "stream",
     "text": [
      "\r",
      "Feature Extraction:  22%|██▏       | 53/239 [00:25<01:35,  1.96it/s]"
     ]
    },
    {
     "name": "stderr",
     "output_type": "stream",
     "text": [
      "\r",
      "Feature Extraction:  23%|██▎       | 54/239 [00:25<01:13,  2.51it/s]"
     ]
    },
    {
     "name": "stderr",
     "output_type": "stream",
     "text": [
      "\r",
      "Feature Extraction:  23%|██▎       | 55/239 [00:25<00:57,  3.20it/s]"
     ]
    },
    {
     "name": "stderr",
     "output_type": "stream",
     "text": [
      "\r",
      "Feature Extraction:  23%|██▎       | 56/239 [00:25<00:50,  3.62it/s]"
     ]
    },
    {
     "name": "stderr",
     "output_type": "stream",
     "text": [
      "\r",
      "Feature Extraction:  24%|██▍       | 57/239 [00:25<00:44,  4.05it/s]"
     ]
    },
    {
     "name": "stderr",
     "output_type": "stream",
     "text": [
      "\r",
      "Feature Extraction:  24%|██▍       | 58/239 [00:26<00:41,  4.32it/s]"
     ]
    },
    {
     "name": "stderr",
     "output_type": "stream",
     "text": [
      "\r",
      "Feature Extraction:  25%|██▍       | 59/239 [00:26<00:38,  4.64it/s]"
     ]
    },
    {
     "name": "stderr",
     "output_type": "stream",
     "text": [
      "\r",
      "Feature Extraction:  25%|██▌       | 60/239 [00:26<00:36,  4.86it/s]"
     ]
    },
    {
     "name": "stderr",
     "output_type": "stream",
     "text": [
      "\r",
      "Feature Extraction:  26%|██▌       | 61/239 [00:26<00:38,  4.64it/s]"
     ]
    },
    {
     "name": "stderr",
     "output_type": "stream",
     "text": [
      "\r",
      "Feature Extraction:  26%|██▌       | 62/239 [00:26<00:35,  5.05it/s]"
     ]
    },
    {
     "name": "stderr",
     "output_type": "stream",
     "text": [
      "\r",
      "Feature Extraction:  26%|██▋       | 63/239 [00:27<00:34,  5.12it/s]"
     ]
    },
    {
     "name": "stderr",
     "output_type": "stream",
     "text": [
      "\r",
      "Feature Extraction:  27%|██▋       | 64/239 [00:27<00:34,  5.05it/s]"
     ]
    },
    {
     "name": "stderr",
     "output_type": "stream",
     "text": [
      "\r",
      "Feature Extraction:  27%|██▋       | 65/239 [00:27<00:46,  3.75it/s]"
     ]
    },
    {
     "name": "stderr",
     "output_type": "stream",
     "text": [
      "\r",
      "Feature Extraction:  28%|██▊       | 66/239 [00:27<00:39,  4.41it/s]"
     ]
    },
    {
     "name": "stderr",
     "output_type": "stream",
     "text": [
      "\r",
      "Feature Extraction:  28%|██▊       | 67/239 [00:28<00:50,  3.38it/s]"
     ]
    },
    {
     "name": "stderr",
     "output_type": "stream",
     "text": [
      "\r",
      "Feature Extraction:  28%|██▊       | 68/239 [00:28<00:43,  3.94it/s]"
     ]
    },
    {
     "name": "stderr",
     "output_type": "stream",
     "text": [
      "\r",
      "Feature Extraction:  29%|██▉       | 69/239 [00:28<00:39,  4.34it/s]"
     ]
    },
    {
     "name": "stderr",
     "output_type": "stream",
     "text": [
      "\r",
      "Feature Extraction:  29%|██▉       | 70/239 [00:29<01:02,  2.71it/s]"
     ]
    },
    {
     "name": "stderr",
     "output_type": "stream",
     "text": [
      "\r",
      "Feature Extraction:  30%|██▉       | 71/239 [00:29<00:49,  3.39it/s]"
     ]
    },
    {
     "name": "stderr",
     "output_type": "stream",
     "text": [
      "\r",
      "Feature Extraction:  30%|███       | 72/239 [00:29<00:42,  3.91it/s]"
     ]
    },
    {
     "name": "stderr",
     "output_type": "stream",
     "text": [
      "\r",
      "Feature Extraction:  31%|███       | 73/239 [00:29<00:39,  4.18it/s]"
     ]
    },
    {
     "name": "stderr",
     "output_type": "stream",
     "text": [
      "\r",
      "Feature Extraction:  31%|███       | 74/239 [00:29<00:34,  4.79it/s]"
     ]
    },
    {
     "name": "stderr",
     "output_type": "stream",
     "text": [
      "\r",
      "Feature Extraction:  31%|███▏      | 75/239 [00:30<00:36,  4.55it/s]"
     ]
    },
    {
     "name": "stderr",
     "output_type": "stream",
     "text": [
      "\r",
      "Feature Extraction:  32%|███▏      | 77/239 [00:30<00:29,  5.57it/s]"
     ]
    },
    {
     "name": "stderr",
     "output_type": "stream",
     "text": [
      "\r",
      "Feature Extraction:  33%|███▎      | 78/239 [00:31<00:52,  3.07it/s]"
     ]
    },
    {
     "name": "stderr",
     "output_type": "stream",
     "text": [
      "\r",
      "Feature Extraction:  33%|███▎      | 79/239 [00:31<00:51,  3.11it/s]"
     ]
    },
    {
     "name": "stderr",
     "output_type": "stream",
     "text": [
      "\r",
      "Feature Extraction:  33%|███▎      | 80/239 [00:31<00:45,  3.46it/s]"
     ]
    },
    {
     "name": "stderr",
     "output_type": "stream",
     "text": [
      "\r",
      "Feature Extraction:  34%|███▍      | 81/239 [00:31<00:43,  3.59it/s]"
     ]
    },
    {
     "name": "stderr",
     "output_type": "stream",
     "text": [
      "\r",
      "Feature Extraction:  34%|███▍      | 82/239 [00:32<00:36,  4.28it/s]"
     ]
    },
    {
     "name": "stderr",
     "output_type": "stream",
     "text": [
      "\r",
      "Feature Extraction:  35%|███▍      | 83/239 [00:32<00:39,  3.92it/s]"
     ]
    },
    {
     "name": "stderr",
     "output_type": "stream",
     "text": [
      "\r",
      "Feature Extraction:  35%|███▌      | 84/239 [00:32<00:34,  4.52it/s]"
     ]
    },
    {
     "name": "stderr",
     "output_type": "stream",
     "text": [
      "\r",
      "Feature Extraction:  36%|███▌      | 85/239 [00:32<00:42,  3.63it/s]"
     ]
    },
    {
     "name": "stderr",
     "output_type": "stream",
     "text": [
      "\r",
      "Feature Extraction:  36%|███▌      | 86/239 [00:33<00:42,  3.61it/s]"
     ]
    },
    {
     "name": "stderr",
     "output_type": "stream",
     "text": [
      "\r",
      "Feature Extraction:  36%|███▋      | 87/239 [00:33<00:40,  3.76it/s]"
     ]
    },
    {
     "name": "stderr",
     "output_type": "stream",
     "text": [
      "\r",
      "Feature Extraction:  37%|███▋      | 88/239 [00:33<00:41,  3.63it/s]"
     ]
    },
    {
     "name": "stderr",
     "output_type": "stream",
     "text": [
      "\r",
      "Feature Extraction:  37%|███▋      | 89/239 [00:34<00:51,  2.91it/s]"
     ]
    },
    {
     "name": "stderr",
     "output_type": "stream",
     "text": [
      "\r",
      "Feature Extraction:  38%|███▊      | 90/239 [00:34<00:48,  3.07it/s]"
     ]
    },
    {
     "name": "stderr",
     "output_type": "stream",
     "text": [
      "\r",
      "Feature Extraction:  38%|███▊      | 91/239 [00:35<01:30,  1.64it/s]"
     ]
    },
    {
     "name": "stderr",
     "output_type": "stream",
     "text": [
      "\r",
      "Feature Extraction:  38%|███▊      | 92/239 [00:36<01:18,  1.87it/s]"
     ]
    },
    {
     "name": "stderr",
     "output_type": "stream",
     "text": [
      "\r",
      "Feature Extraction:  39%|███▉      | 93/239 [00:37<01:48,  1.34it/s]"
     ]
    },
    {
     "name": "stderr",
     "output_type": "stream",
     "text": [
      "\r",
      "Feature Extraction:  39%|███▉      | 94/239 [00:37<01:21,  1.78it/s]"
     ]
    },
    {
     "name": "stderr",
     "output_type": "stream",
     "text": [
      "\r",
      "Feature Extraction:  40%|███▉      | 95/239 [00:38<01:17,  1.85it/s]"
     ]
    },
    {
     "name": "stderr",
     "output_type": "stream",
     "text": [
      "\r",
      "Feature Extraction:  40%|████      | 96/239 [00:38<01:00,  2.36it/s]"
     ]
    },
    {
     "name": "stderr",
     "output_type": "stream",
     "text": [
      "\r",
      "Feature Extraction:  41%|████      | 97/239 [00:38<00:49,  2.89it/s]"
     ]
    },
    {
     "name": "stderr",
     "output_type": "stream",
     "text": [
      "\r",
      "Feature Extraction:  41%|████      | 98/239 [00:38<00:41,  3.36it/s]"
     ]
    },
    {
     "name": "stderr",
     "output_type": "stream",
     "text": [
      "\r",
      "Feature Extraction:  41%|████▏     | 99/239 [00:39<01:09,  2.02it/s]"
     ]
    },
    {
     "name": "stderr",
     "output_type": "stream",
     "text": [
      "\r",
      "Feature Extraction:  42%|████▏     | 100/239 [00:39<00:56,  2.48it/s]"
     ]
    },
    {
     "name": "stderr",
     "output_type": "stream",
     "text": [
      "\r",
      "Feature Extraction:  42%|████▏     | 101/239 [00:39<00:46,  2.99it/s]"
     ]
    },
    {
     "name": "stderr",
     "output_type": "stream",
     "text": [
      "\r",
      "Feature Extraction:  43%|████▎     | 102/239 [00:39<00:38,  3.60it/s]"
     ]
    },
    {
     "name": "stderr",
     "output_type": "stream",
     "text": [
      "\r",
      "Feature Extraction:  43%|████▎     | 103/239 [00:40<00:33,  4.06it/s]"
     ]
    },
    {
     "name": "stderr",
     "output_type": "stream",
     "text": [
      "\r",
      "Feature Extraction:  44%|████▎     | 104/239 [00:40<00:27,  4.83it/s]"
     ]
    },
    {
     "name": "stderr",
     "output_type": "stream",
     "text": [
      "\r",
      "Feature Extraction:  44%|████▍     | 105/239 [00:40<00:26,  4.99it/s]"
     ]
    },
    {
     "name": "stderr",
     "output_type": "stream",
     "text": [
      "\r",
      "Feature Extraction:  44%|████▍     | 106/239 [00:40<00:24,  5.52it/s]"
     ]
    },
    {
     "name": "stderr",
     "output_type": "stream",
     "text": [
      "\r",
      "Feature Extraction:  45%|████▌     | 108/239 [00:41<00:27,  4.75it/s]"
     ]
    },
    {
     "name": "stderr",
     "output_type": "stream",
     "text": [
      "\r",
      "Feature Extraction:  46%|████▌     | 109/239 [00:41<00:27,  4.81it/s]"
     ]
    },
    {
     "name": "stderr",
     "output_type": "stream",
     "text": [
      "\r",
      "Feature Extraction:  46%|████▌     | 110/239 [00:41<00:35,  3.63it/s]"
     ]
    },
    {
     "name": "stderr",
     "output_type": "stream",
     "text": [
      "\r",
      "Feature Extraction:  47%|████▋     | 112/239 [00:41<00:27,  4.70it/s]"
     ]
    },
    {
     "name": "stderr",
     "output_type": "stream",
     "text": [
      "\r",
      "Feature Extraction:  47%|████▋     | 113/239 [00:42<00:23,  5.30it/s]"
     ]
    },
    {
     "name": "stderr",
     "output_type": "stream",
     "text": [
      "\r",
      "Feature Extraction:  48%|████▊     | 114/239 [00:42<00:26,  4.77it/s]"
     ]
    },
    {
     "name": "stderr",
     "output_type": "stream",
     "text": [
      "\r",
      "Feature Extraction:  48%|████▊     | 115/239 [00:43<00:50,  2.44it/s]"
     ]
    },
    {
     "name": "stderr",
     "output_type": "stream",
     "text": [
      "\r",
      "Feature Extraction:  49%|████▊     | 116/239 [00:43<00:41,  2.96it/s]"
     ]
    },
    {
     "name": "stderr",
     "output_type": "stream",
     "text": [
      "\r",
      "Feature Extraction:  49%|████▉     | 117/239 [00:43<00:35,  3.41it/s]"
     ]
    },
    {
     "name": "stderr",
     "output_type": "stream",
     "text": [
      "\r",
      "Feature Extraction:  49%|████▉     | 118/239 [00:43<00:32,  3.69it/s]"
     ]
    },
    {
     "name": "stderr",
     "output_type": "stream",
     "text": [
      "\r",
      "Feature Extraction:  50%|████▉     | 119/239 [00:44<00:27,  4.33it/s]"
     ]
    },
    {
     "name": "stderr",
     "output_type": "stream",
     "text": [
      "\r",
      "Feature Extraction:  50%|█████     | 120/239 [00:44<00:24,  4.88it/s]"
     ]
    },
    {
     "name": "stderr",
     "output_type": "stream",
     "text": [
      "\r",
      "Feature Extraction:  51%|█████     | 121/239 [00:44<00:23,  4.93it/s]"
     ]
    },
    {
     "name": "stderr",
     "output_type": "stream",
     "text": [
      "\r",
      "Feature Extraction:  51%|█████     | 122/239 [00:44<00:23,  5.08it/s]"
     ]
    },
    {
     "name": "stderr",
     "output_type": "stream",
     "text": [
      "\r",
      "Feature Extraction:  51%|█████▏    | 123/239 [00:44<00:22,  5.18it/s]"
     ]
    },
    {
     "name": "stderr",
     "output_type": "stream",
     "text": [
      "\r",
      "Feature Extraction:  52%|█████▏    | 124/239 [00:44<00:20,  5.62it/s]"
     ]
    },
    {
     "name": "stderr",
     "output_type": "stream",
     "text": [
      "\r",
      "Feature Extraction:  52%|█████▏    | 125/239 [00:45<00:45,  2.50it/s]"
     ]
    },
    {
     "name": "stderr",
     "output_type": "stream",
     "text": [
      "\r",
      "Feature Extraction:  53%|█████▎    | 126/239 [00:45<00:38,  2.95it/s]"
     ]
    },
    {
     "name": "stderr",
     "output_type": "stream",
     "text": [
      "\r",
      "Feature Extraction:  53%|█████▎    | 127/239 [00:46<00:34,  3.26it/s]"
     ]
    },
    {
     "name": "stderr",
     "output_type": "stream",
     "text": [
      "\r",
      "Feature Extraction:  54%|█████▎    | 128/239 [00:46<00:29,  3.74it/s]"
     ]
    },
    {
     "name": "stderr",
     "output_type": "stream",
     "text": [
      "\r",
      "Feature Extraction:  54%|█████▍    | 129/239 [00:46<00:27,  4.06it/s]"
     ]
    },
    {
     "name": "stderr",
     "output_type": "stream",
     "text": [
      "\r",
      "Feature Extraction:  54%|█████▍    | 130/239 [00:46<00:23,  4.60it/s]"
     ]
    },
    {
     "name": "stderr",
     "output_type": "stream",
     "text": [
      "\r",
      "Feature Extraction:  55%|█████▍    | 131/239 [00:46<00:22,  4.70it/s]"
     ]
    },
    {
     "name": "stderr",
     "output_type": "stream",
     "text": [
      "\r",
      "Feature Extraction:  55%|█████▌    | 132/239 [00:47<00:21,  4.97it/s]"
     ]
    },
    {
     "name": "stderr",
     "output_type": "stream",
     "text": [
      "\r",
      "Feature Extraction:  56%|█████▌    | 133/239 [00:47<00:21,  4.84it/s]"
     ]
    },
    {
     "name": "stderr",
     "output_type": "stream",
     "text": [
      "\r",
      "Feature Extraction:  56%|█████▌    | 134/239 [00:47<00:18,  5.58it/s]"
     ]
    },
    {
     "name": "stderr",
     "output_type": "stream",
     "text": [
      "\r",
      "Feature Extraction:  56%|█████▋    | 135/239 [00:47<00:20,  5.18it/s]"
     ]
    },
    {
     "name": "stderr",
     "output_type": "stream",
     "text": [
      "\r",
      "Feature Extraction:  57%|█████▋    | 136/239 [00:47<00:17,  5.87it/s]"
     ]
    },
    {
     "name": "stderr",
     "output_type": "stream",
     "text": [
      "\r",
      "Feature Extraction:  57%|█████▋    | 137/239 [00:48<00:19,  5.21it/s]"
     ]
    },
    {
     "name": "stderr",
     "output_type": "stream",
     "text": [
      "\r",
      "Feature Extraction:  58%|█████▊    | 138/239 [00:48<00:17,  5.93it/s]"
     ]
    },
    {
     "name": "stderr",
     "output_type": "stream",
     "text": [
      "\r",
      "Feature Extraction:  58%|█████▊    | 139/239 [00:48<00:33,  2.99it/s]"
     ]
    },
    {
     "name": "stderr",
     "output_type": "stream",
     "text": [
      "\r",
      "Feature Extraction:  59%|█████▊    | 140/239 [00:49<00:36,  2.73it/s]"
     ]
    },
    {
     "name": "stderr",
     "output_type": "stream",
     "text": [
      "\r",
      "Feature Extraction:  59%|█████▉    | 141/239 [00:50<00:47,  2.04it/s]"
     ]
    },
    {
     "name": "stderr",
     "output_type": "stream",
     "text": [
      "\r",
      "Feature Extraction:  59%|█████▉    | 142/239 [00:50<00:40,  2.40it/s]"
     ]
    },
    {
     "name": "stderr",
     "output_type": "stream",
     "text": [
      "\r",
      "Feature Extraction:  60%|█████▉    | 143/239 [00:51<00:47,  2.02it/s]"
     ]
    },
    {
     "name": "stderr",
     "output_type": "stream",
     "text": [
      "\r",
      "Feature Extraction:  60%|██████    | 144/239 [00:52<01:07,  1.41it/s]"
     ]
    },
    {
     "name": "stderr",
     "output_type": "stream",
     "text": [
      "\r",
      "Feature Extraction:  61%|██████    | 145/239 [00:52<00:59,  1.59it/s]"
     ]
    },
    {
     "name": "stderr",
     "output_type": "stream",
     "text": [
      "\r",
      "Feature Extraction:  61%|██████    | 146/239 [00:52<00:45,  2.05it/s]"
     ]
    },
    {
     "name": "stderr",
     "output_type": "stream",
     "text": [
      "\r",
      "Feature Extraction:  62%|██████▏   | 147/239 [00:52<00:34,  2.66it/s]"
     ]
    },
    {
     "name": "stderr",
     "output_type": "stream",
     "text": [
      "\r",
      "Feature Extraction:  62%|██████▏   | 148/239 [00:53<00:50,  1.80it/s]"
     ]
    },
    {
     "name": "stderr",
     "output_type": "stream",
     "text": [
      "\r",
      "Feature Extraction:  62%|██████▏   | 149/239 [00:54<00:40,  2.23it/s]"
     ]
    },
    {
     "name": "stderr",
     "output_type": "stream",
     "text": [
      "\r",
      "Feature Extraction:  63%|██████▎   | 150/239 [00:54<00:39,  2.26it/s]"
     ]
    },
    {
     "name": "stderr",
     "output_type": "stream",
     "text": [
      "\r",
      "Feature Extraction:  63%|██████▎   | 151/239 [00:55<00:44,  1.97it/s]"
     ]
    },
    {
     "name": "stderr",
     "output_type": "stream",
     "text": [
      "\r",
      "Feature Extraction:  64%|██████▎   | 152/239 [00:55<00:35,  2.43it/s]"
     ]
    },
    {
     "name": "stderr",
     "output_type": "stream",
     "text": [
      "\r",
      "Feature Extraction:  64%|██████▍   | 153/239 [00:56<00:47,  1.80it/s]"
     ]
    },
    {
     "name": "stderr",
     "output_type": "stream",
     "text": [
      "\r",
      "Feature Extraction:  64%|██████▍   | 154/239 [00:56<00:37,  2.27it/s]"
     ]
    },
    {
     "name": "stderr",
     "output_type": "stream",
     "text": [
      "\r",
      "Feature Extraction:  65%|██████▍   | 155/239 [00:56<00:29,  2.86it/s]"
     ]
    },
    {
     "name": "stderr",
     "output_type": "stream",
     "text": [
      "\r",
      "Feature Extraction:  65%|██████▌   | 156/239 [00:56<00:23,  3.48it/s]"
     ]
    },
    {
     "name": "stderr",
     "output_type": "stream",
     "text": [
      "\r",
      "Feature Extraction:  66%|██████▌   | 157/239 [00:56<00:21,  3.83it/s]"
     ]
    },
    {
     "name": "stderr",
     "output_type": "stream",
     "text": [
      "\r",
      "Feature Extraction:  66%|██████▌   | 158/239 [00:57<00:17,  4.65it/s]"
     ]
    },
    {
     "name": "stderr",
     "output_type": "stream",
     "text": [
      "\r",
      "Feature Extraction:  67%|██████▋   | 159/239 [00:57<00:17,  4.69it/s]"
     ]
    },
    {
     "name": "stderr",
     "output_type": "stream",
     "text": [
      "\r",
      "Feature Extraction:  67%|██████▋   | 160/239 [00:57<00:15,  4.95it/s]"
     ]
    },
    {
     "name": "stderr",
     "output_type": "stream",
     "text": [
      "\r",
      "Feature Extraction:  67%|██████▋   | 161/239 [00:57<00:16,  4.81it/s]"
     ]
    },
    {
     "name": "stderr",
     "output_type": "stream",
     "text": [
      "\r",
      "Feature Extraction:  68%|██████▊   | 162/239 [00:57<00:14,  5.35it/s]"
     ]
    },
    {
     "name": "stderr",
     "output_type": "stream",
     "text": [
      "\r",
      "Feature Extraction:  68%|██████▊   | 163/239 [00:57<00:13,  5.66it/s]"
     ]
    },
    {
     "name": "stderr",
     "output_type": "stream",
     "text": [
      "\r",
      "Feature Extraction:  69%|██████▊   | 164/239 [00:58<00:13,  5.40it/s]"
     ]
    },
    {
     "name": "stderr",
     "output_type": "stream",
     "text": [
      "\r",
      "Feature Extraction:  69%|██████▉   | 165/239 [00:58<00:14,  5.15it/s]"
     ]
    },
    {
     "name": "stderr",
     "output_type": "stream",
     "text": [
      "\r",
      "Feature Extraction:  69%|██████▉   | 166/239 [00:58<00:13,  5.31it/s]"
     ]
    },
    {
     "name": "stderr",
     "output_type": "stream",
     "text": [
      "\r",
      "Feature Extraction:  70%|██████▉   | 167/239 [00:58<00:13,  5.27it/s]"
     ]
    },
    {
     "name": "stderr",
     "output_type": "stream",
     "text": [
      "\r",
      "Feature Extraction:  70%|███████   | 168/239 [00:58<00:13,  5.13it/s]"
     ]
    },
    {
     "name": "stderr",
     "output_type": "stream",
     "text": [
      "\r",
      "Feature Extraction:  71%|███████   | 169/239 [00:59<00:13,  5.05it/s]"
     ]
    },
    {
     "name": "stderr",
     "output_type": "stream",
     "text": [
      "\r",
      "Feature Extraction:  72%|███████▏  | 171/239 [00:59<00:10,  6.19it/s]"
     ]
    },
    {
     "name": "stderr",
     "output_type": "stream",
     "text": [
      "\r",
      "Feature Extraction:  72%|███████▏  | 172/239 [00:59<00:11,  5.69it/s]"
     ]
    },
    {
     "name": "stderr",
     "output_type": "stream",
     "text": [
      "\r",
      "Feature Extraction:  72%|███████▏  | 173/239 [00:59<00:12,  5.37it/s]"
     ]
    },
    {
     "name": "stderr",
     "output_type": "stream",
     "text": [
      "\r",
      "Feature Extraction:  73%|███████▎  | 174/239 [00:59<00:11,  5.66it/s]"
     ]
    },
    {
     "name": "stderr",
     "output_type": "stream",
     "text": [
      "\r",
      "Feature Extraction:  73%|███████▎  | 175/239 [01:00<00:11,  5.70it/s]"
     ]
    },
    {
     "name": "stderr",
     "output_type": "stream",
     "text": [
      "\r",
      "Feature Extraction:  74%|███████▎  | 176/239 [01:00<00:10,  6.09it/s]"
     ]
    },
    {
     "name": "stderr",
     "output_type": "stream",
     "text": [
      "\r",
      "Feature Extraction:  74%|███████▍  | 177/239 [01:00<00:09,  6.51it/s]"
     ]
    },
    {
     "name": "stderr",
     "output_type": "stream",
     "text": [
      "\r",
      "Feature Extraction:  74%|███████▍  | 178/239 [01:00<00:10,  5.95it/s]"
     ]
    },
    {
     "name": "stderr",
     "output_type": "stream",
     "text": [
      "\r",
      "Feature Extraction:  75%|███████▍  | 179/239 [01:00<00:10,  5.91it/s]"
     ]
    },
    {
     "name": "stderr",
     "output_type": "stream",
     "text": [
      "\r",
      "Feature Extraction:  75%|███████▌  | 180/239 [01:00<00:09,  6.35it/s]"
     ]
    },
    {
     "name": "stderr",
     "output_type": "stream",
     "text": [
      "\r",
      "Feature Extraction:  76%|███████▌  | 181/239 [01:02<00:29,  1.97it/s]"
     ]
    },
    {
     "name": "stderr",
     "output_type": "stream",
     "text": [
      "\r",
      "Feature Extraction:  76%|███████▌  | 182/239 [01:02<00:23,  2.47it/s]"
     ]
    },
    {
     "name": "stderr",
     "output_type": "stream",
     "text": [
      "\r",
      "Feature Extraction:  77%|███████▋  | 183/239 [01:02<00:20,  2.76it/s]"
     ]
    },
    {
     "name": "stderr",
     "output_type": "stream",
     "text": [
      "\r",
      "Feature Extraction:  77%|███████▋  | 184/239 [01:02<00:17,  3.21it/s]"
     ]
    },
    {
     "name": "stderr",
     "output_type": "stream",
     "text": [
      "\r",
      "Feature Extraction:  77%|███████▋  | 185/239 [01:03<00:15,  3.57it/s]"
     ]
    },
    {
     "name": "stderr",
     "output_type": "stream",
     "text": [
      "\r",
      "Feature Extraction:  78%|███████▊  | 186/239 [01:03<00:14,  3.67it/s]"
     ]
    },
    {
     "name": "stderr",
     "output_type": "stream",
     "text": [
      "\r",
      "Feature Extraction:  78%|███████▊  | 187/239 [01:03<00:11,  4.36it/s]"
     ]
    },
    {
     "name": "stderr",
     "output_type": "stream",
     "text": [
      "\r",
      "Feature Extraction:  79%|███████▊  | 188/239 [01:03<00:11,  4.50it/s]"
     ]
    },
    {
     "name": "stderr",
     "output_type": "stream",
     "text": [
      "\r",
      "Feature Extraction:  79%|███████▉  | 189/239 [01:03<00:11,  4.33it/s]"
     ]
    },
    {
     "name": "stderr",
     "output_type": "stream",
     "text": [
      "\r",
      "Feature Extraction:  79%|███████▉  | 190/239 [01:04<00:10,  4.62it/s]"
     ]
    },
    {
     "name": "stderr",
     "output_type": "stream",
     "text": [
      "\r",
      "Feature Extraction:  80%|███████▉  | 191/239 [01:04<00:09,  4.92it/s]"
     ]
    },
    {
     "name": "stderr",
     "output_type": "stream",
     "text": [
      "\r",
      "Feature Extraction:  80%|████████  | 192/239 [01:04<00:08,  5.62it/s]"
     ]
    },
    {
     "name": "stderr",
     "output_type": "stream",
     "text": [
      "\r",
      "Feature Extraction:  81%|████████  | 194/239 [01:05<00:11,  4.07it/s]"
     ]
    },
    {
     "name": "stderr",
     "output_type": "stream",
     "text": [
      "\r",
      "Feature Extraction:  82%|████████▏ | 195/239 [01:06<00:24,  1.80it/s]"
     ]
    },
    {
     "name": "stderr",
     "output_type": "stream",
     "text": [
      "\r",
      "Feature Extraction:  82%|████████▏ | 196/239 [01:06<00:19,  2.25it/s]"
     ]
    },
    {
     "name": "stderr",
     "output_type": "stream",
     "text": [
      "\r",
      "Feature Extraction:  83%|████████▎ | 198/239 [01:07<00:13,  2.94it/s]"
     ]
    },
    {
     "name": "stderr",
     "output_type": "stream",
     "text": [
      "\r",
      "Feature Extraction:  84%|████████▎ | 200/239 [01:07<00:11,  3.28it/s]"
     ]
    },
    {
     "name": "stderr",
     "output_type": "stream",
     "text": [
      "\r",
      "Feature Extraction:  85%|████████▍ | 202/239 [01:08<00:10,  3.41it/s]"
     ]
    },
    {
     "name": "stderr",
     "output_type": "stream",
     "text": [
      "\r",
      "Feature Extraction:  85%|████████▌ | 204/239 [01:08<00:11,  3.17it/s]"
     ]
    },
    {
     "name": "stderr",
     "output_type": "stream",
     "text": [
      "\r",
      "Feature Extraction:  86%|████████▌ | 205/239 [01:09<00:09,  3.41it/s]"
     ]
    },
    {
     "name": "stderr",
     "output_type": "stream",
     "text": [
      "\r",
      "Feature Extraction:  86%|████████▌ | 206/239 [01:09<00:11,  2.95it/s]"
     ]
    },
    {
     "name": "stderr",
     "output_type": "stream",
     "text": [
      "\r",
      "Feature Extraction:  87%|████████▋ | 207/239 [01:09<00:09,  3.48it/s]"
     ]
    },
    {
     "name": "stderr",
     "output_type": "stream",
     "text": [
      "\r",
      "Feature Extraction:  87%|████████▋ | 208/239 [01:09<00:07,  3.93it/s]"
     ]
    },
    {
     "name": "stderr",
     "output_type": "stream",
     "text": [
      "\r",
      "Feature Extraction:  87%|████████▋ | 209/239 [01:09<00:06,  4.58it/s]"
     ]
    },
    {
     "name": "stderr",
     "output_type": "stream",
     "text": [
      "\r",
      "Feature Extraction:  88%|████████▊ | 210/239 [01:10<00:09,  3.19it/s]"
     ]
    },
    {
     "name": "stderr",
     "output_type": "stream",
     "text": [
      "\r",
      "Feature Extraction:  89%|████████▊ | 212/239 [01:10<00:06,  4.13it/s]"
     ]
    },
    {
     "name": "stderr",
     "output_type": "stream",
     "text": [
      "\r",
      "Feature Extraction:  89%|████████▉ | 213/239 [01:10<00:05,  4.39it/s]"
     ]
    },
    {
     "name": "stderr",
     "output_type": "stream",
     "text": [
      "\r",
      "Feature Extraction:  90%|████████▉ | 214/239 [01:11<00:04,  5.11it/s]"
     ]
    },
    {
     "name": "stderr",
     "output_type": "stream",
     "text": [
      "\r",
      "Feature Extraction:  90%|████████▉ | 215/239 [01:11<00:06,  3.85it/s]"
     ]
    },
    {
     "name": "stderr",
     "output_type": "stream",
     "text": [
      "\r",
      "Feature Extraction:  91%|█████████ | 217/239 [01:11<00:03,  5.85it/s]"
     ]
    },
    {
     "name": "stderr",
     "output_type": "stream",
     "text": [
      "\r",
      "Feature Extraction:  92%|█████████▏| 219/239 [01:11<00:03,  6.64it/s]"
     ]
    },
    {
     "name": "stderr",
     "output_type": "stream",
     "text": [
      "\r",
      "Feature Extraction:  92%|█████████▏| 221/239 [01:12<00:02,  7.46it/s]"
     ]
    },
    {
     "name": "stderr",
     "output_type": "stream",
     "text": [
      "\r",
      "Feature Extraction:  93%|█████████▎| 222/239 [01:12<00:02,  7.46it/s]"
     ]
    },
    {
     "name": "stderr",
     "output_type": "stream",
     "text": [
      "\r",
      "Feature Extraction:  94%|█████████▎| 224/239 [01:12<00:01,  9.45it/s]"
     ]
    },
    {
     "name": "stderr",
     "output_type": "stream",
     "text": [
      "\r",
      "Feature Extraction:  95%|█████████▍| 226/239 [01:12<00:01, 11.34it/s]"
     ]
    },
    {
     "name": "stderr",
     "output_type": "stream",
     "text": [
      "\r",
      "Feature Extraction:  95%|█████████▌| 228/239 [01:12<00:01,  8.12it/s]"
     ]
    },
    {
     "name": "stderr",
     "output_type": "stream",
     "text": [
      "\r",
      "Feature Extraction:  97%|█████████▋| 231/239 [01:12<00:00, 10.79it/s]"
     ]
    },
    {
     "name": "stderr",
     "output_type": "stream",
     "text": [
      "\r",
      "Feature Extraction:  97%|█████████▋| 233/239 [01:13<00:00, 10.85it/s]"
     ]
    },
    {
     "name": "stderr",
     "output_type": "stream",
     "text": [
      "\r",
      "Feature Extraction:  98%|█████████▊| 235/239 [01:13<00:00, 11.88it/s]"
     ]
    },
    {
     "name": "stderr",
     "output_type": "stream",
     "text": [
      "\r",
      "Feature Extraction:  99%|█████████▉| 237/239 [01:13<00:00,  8.45it/s]"
     ]
    },
    {
     "name": "stderr",
     "output_type": "stream",
     "text": [
      "\r",
      "Feature Extraction: 100%|██████████| 239/239 [01:14<00:00,  6.78it/s]"
     ]
    },
    {
     "name": "stderr",
     "output_type": "stream",
     "text": [
      "\r",
      "Feature Extraction: 100%|██████████| 239/239 [01:14<00:00,  3.23it/s]"
     ]
    },
    {
     "name": "stderr",
     "output_type": "stream",
     "text": [
      "\n"
     ]
    },
    {
     "name": "stdout",
     "output_type": "stream",
     "text": [
      "let the ml starts\n"
     ]
    },
    {
     "name": "stdout",
     "output_type": "stream",
     "text": [
      "SVM-linear-scale-1\n",
      "              precision    recall  f1-score   support\n",
      "\n",
      "   malignant       1.00      1.00      1.00      6074\n",
      "      benign       1.00      1.00      1.00      6255\n",
      "\n",
      "    accuracy                           1.00     12329\n",
      "   macro avg       1.00      1.00      1.00     12329\n",
      "weighted avg       1.00      1.00      1.00     12329\n",
      "\n",
      "      fit_time  score_time  test_accuracy  test_precision_weighted  \\\n",
      "0   474.703279    0.231764       0.999865                 0.999865   \n",
      "1   920.929929    0.208705       0.999865                 0.999865   \n",
      "2   632.161245    0.203802       0.999730                 0.999730   \n",
      "3  1637.516020    0.201907       0.999594                 0.999595   \n",
      "4  1398.616823    0.203753       1.000000                 1.000000   \n",
      "\n",
      "   test_recall_weighted  test_f1_weighted  test_roc_auc               model  \n",
      "0              0.999865          0.999865      1.000000  SVM-linear-scale-1  \n",
      "1              0.999865          0.999865      0.999732  SVM-linear-scale-1  \n",
      "2              0.999730          0.999730      1.000000  SVM-linear-scale-1  \n",
      "3              0.999594          0.999594      0.999200  SVM-linear-scale-1  \n",
      "4              1.000000          1.000000      1.000000  SVM-linear-scale-1  \n"
     ]
    },
    {
     "name": "stdout",
     "output_type": "stream",
     "text": [
      "SVM-poly-scale-1\n",
      "              precision    recall  f1-score   support\n",
      "\n",
      "   malignant       0.98      0.98      0.98      6074\n",
      "      benign       0.98      0.98      0.98      6255\n",
      "\n",
      "    accuracy                           0.98     12329\n",
      "   macro avg       0.98      0.98      0.98     12329\n",
      "weighted avg       0.98      0.98      0.98     12329\n",
      "\n",
      "      fit_time  score_time  test_accuracy  test_precision_weighted  \\\n",
      "0   474.703279    0.231764       0.999865                 0.999865   \n",
      "1   920.929929    0.208705       0.999865                 0.999865   \n",
      "2   632.161245    0.203802       0.999730                 0.999730   \n",
      "3  1637.516020    0.201907       0.999594                 0.999595   \n",
      "4  1398.616823    0.203753       1.000000                 1.000000   \n",
      "5    13.460743    2.762037       0.977291                 0.977291   \n",
      "6    13.572238    2.786660       0.979995                 0.979995   \n",
      "7    13.418307    2.761515       0.981073                 0.981116   \n",
      "8    13.573882    2.784543       0.982020                 0.982025   \n",
      "9    13.699554    2.770624       0.979992                 0.979998   \n",
      "\n",
      "   test_recall_weighted  test_f1_weighted  test_roc_auc               model  \n",
      "0              0.999865          0.999865      1.000000  SVM-linear-scale-1  \n",
      "1              0.999865          0.999865      0.999732  SVM-linear-scale-1  \n",
      "2              0.999730          0.999730      1.000000  SVM-linear-scale-1  \n",
      "3              0.999594          0.999594      0.999200  SVM-linear-scale-1  \n",
      "4              1.000000          1.000000      1.000000  SVM-linear-scale-1  \n",
      "5              0.977291          0.977291      0.996609    SVM-poly-scale-1  \n",
      "6              0.979995          0.979995      0.997478    SVM-poly-scale-1  \n",
      "7              0.981073          0.981074      0.997541    SVM-poly-scale-1  \n",
      "8              0.982020          0.982019      0.997381    SVM-poly-scale-1  \n",
      "9              0.979992          0.979992      0.997233    SVM-poly-scale-1  \n"
     ]
    },
    {
     "name": "stdout",
     "output_type": "stream",
     "text": [
      "SVM-rbf-scale-1\n",
      "              precision    recall  f1-score   support\n",
      "\n",
      "   malignant       0.97      0.98      0.98      6074\n",
      "      benign       0.98      0.98      0.98      6255\n",
      "\n",
      "    accuracy                           0.98     12329\n",
      "   macro avg       0.98      0.98      0.98     12329\n",
      "weighted avg       0.98      0.98      0.98     12329\n",
      "\n",
      "       fit_time  score_time  test_accuracy  test_precision_weighted  \\\n",
      "0    474.703279    0.231764       0.999865                 0.999865   \n",
      "1    920.929929    0.208705       0.999865                 0.999865   \n",
      "2    632.161245    0.203802       0.999730                 0.999730   \n",
      "3   1637.516020    0.201907       0.999594                 0.999595   \n",
      "4   1398.616823    0.203753       1.000000                 1.000000   \n",
      "5     13.460743    2.762037       0.977291                 0.977291   \n",
      "6     13.572238    2.786660       0.979995                 0.979995   \n",
      "7     13.418307    2.761515       0.981073                 0.981116   \n",
      "8     13.573882    2.784543       0.982020                 0.982025   \n",
      "9     13.699554    2.770624       0.979992                 0.979998   \n",
      "10    14.833680    6.793651       0.977021                 0.977041   \n",
      "11    15.043600    6.888264       0.980941                 0.980946   \n",
      "12    14.872991    7.117157       0.980803                 0.980809   \n",
      "13    14.983314    7.107197       0.981614                 0.981618   \n",
      "14    15.105929    7.104779       0.980262                 0.980262   \n",
      "\n",
      "    test_recall_weighted  test_f1_weighted  test_roc_auc               model  \n",
      "0               0.999865          0.999865      1.000000  SVM-linear-scale-1  \n",
      "1               0.999865          0.999865      0.999732  SVM-linear-scale-1  \n",
      "2               0.999730          0.999730      1.000000  SVM-linear-scale-1  \n",
      "3               0.999594          0.999594      0.999200  SVM-linear-scale-1  \n",
      "4               1.000000          1.000000      1.000000  SVM-linear-scale-1  \n",
      "5               0.977291          0.977291      0.996609    SVM-poly-scale-1  \n",
      "6               0.979995          0.979995      0.997478    SVM-poly-scale-1  \n",
      "7               0.981073          0.981074      0.997541    SVM-poly-scale-1  \n",
      "8               0.982020          0.982019      0.997381    SVM-poly-scale-1  \n",
      "9               0.979992          0.979992      0.997233    SVM-poly-scale-1  \n",
      "10              0.977021          0.977021      0.996337     SVM-rbf-scale-1  \n",
      "11              0.980941          0.980941      0.997398     SVM-rbf-scale-1  \n",
      "12              0.980803          0.980803      0.997304     SVM-rbf-scale-1  \n",
      "13              0.981614          0.981614      0.997388     SVM-rbf-scale-1  \n",
      "14              0.980262          0.980262      0.997221     SVM-rbf-scale-1  \n"
     ]
    },
    {
     "name": "stdout",
     "output_type": "stream",
     "text": [
      "SVM-sigmoid-scale-1\n",
      "              precision    recall  f1-score   support\n",
      "\n",
      "   malignant       0.39      0.41      0.40      6074\n",
      "      benign       0.39      0.36      0.38      6255\n",
      "\n",
      "    accuracy                           0.39     12329\n",
      "   macro avg       0.39      0.39      0.39     12329\n",
      "weighted avg       0.39      0.39      0.39     12329\n",
      "\n",
      "       fit_time  score_time  test_accuracy  test_precision_weighted  \\\n",
      "0    474.703279    0.231764       0.999865                 0.999865   \n",
      "1    920.929929    0.208705       0.999865                 0.999865   \n",
      "2    632.161245    0.203802       0.999730                 0.999730   \n",
      "3   1637.516020    0.201907       0.999594                 0.999595   \n",
      "4   1398.616823    0.203753       1.000000                 1.000000   \n",
      "5     13.460743    2.762037       0.977291                 0.977291   \n",
      "6     13.572238    2.786660       0.979995                 0.979995   \n",
      "7     13.418307    2.761515       0.981073                 0.981116   \n",
      "8     13.573882    2.784543       0.982020                 0.982025   \n",
      "9     13.699554    2.770624       0.979992                 0.979998   \n",
      "10    14.833680    6.793651       0.977021                 0.977041   \n",
      "11    15.043600    6.888264       0.980941                 0.980946   \n",
      "12    14.872991    7.117157       0.980803                 0.980809   \n",
      "13    14.983314    7.107197       0.981614                 0.981618   \n",
      "14    15.105929    7.104779       0.980262                 0.980262   \n",
      "15   133.526603   39.587106       0.379562                 0.379316   \n",
      "16   134.148040   39.846675       0.393890                 0.393819   \n",
      "17   134.132929   44.991010       0.382317                 0.382197   \n",
      "18   133.741816   39.227118       0.377856                 0.377690   \n",
      "19   134.322997   40.024840       0.383534                 0.383241   \n",
      "\n",
      "    test_recall_weighted  test_f1_weighted  test_roc_auc                model  \n",
      "0               0.999865          0.999865      1.000000   SVM-linear-scale-1  \n",
      "1               0.999865          0.999865      0.999732   SVM-linear-scale-1  \n",
      "2               0.999730          0.999730      1.000000   SVM-linear-scale-1  \n",
      "3               0.999594          0.999594      0.999200   SVM-linear-scale-1  \n",
      "4               1.000000          1.000000      1.000000   SVM-linear-scale-1  \n",
      "5               0.977291          0.977291      0.996609     SVM-poly-scale-1  \n",
      "6               0.979995          0.979995      0.997478     SVM-poly-scale-1  \n",
      "7               0.981073          0.981074      0.997541     SVM-poly-scale-1  \n",
      "8               0.982020          0.982019      0.997381     SVM-poly-scale-1  \n",
      "9               0.979992          0.979992      0.997233     SVM-poly-scale-1  \n",
      "10              0.977021          0.977021      0.996337      SVM-rbf-scale-1  \n",
      "11              0.980941          0.980941      0.997398      SVM-rbf-scale-1  \n",
      "12              0.980803          0.980803      0.997304      SVM-rbf-scale-1  \n",
      "13              0.981614          0.981614      0.997388      SVM-rbf-scale-1  \n",
      "14              0.980262          0.980262      0.997221      SVM-rbf-scale-1  \n",
      "15              0.379562          0.379199      0.313527  SVM-sigmoid-scale-1  \n",
      "16              0.393890          0.393525      0.328922  SVM-sigmoid-scale-1  \n",
      "17              0.382317          0.382243      0.319017  SVM-sigmoid-scale-1  \n",
      "18              0.377856          0.377239      0.306586  SVM-sigmoid-scale-1  \n",
      "19              0.383534          0.383338      0.320191  SVM-sigmoid-scale-1  \n"
     ]
    },
    {
     "name": "stdout",
     "output_type": "stream",
     "text": [
      "SVM-linear-auto-1\n",
      "              precision    recall  f1-score   support\n",
      "\n",
      "   malignant       1.00      1.00      1.00      6074\n",
      "      benign       1.00      1.00      1.00      6255\n",
      "\n",
      "    accuracy                           1.00     12329\n",
      "   macro avg       1.00      1.00      1.00     12329\n",
      "weighted avg       1.00      1.00      1.00     12329\n",
      "\n",
      "       fit_time  score_time  test_accuracy  test_precision_weighted  \\\n",
      "0    474.703279    0.231764       0.999865                 0.999865   \n",
      "1    920.929929    0.208705       0.999865                 0.999865   \n",
      "2    632.161245    0.203802       0.999730                 0.999730   \n",
      "3   1637.516020    0.201907       0.999594                 0.999595   \n",
      "4   1398.616823    0.203753       1.000000                 1.000000   \n",
      "5     13.460743    2.762037       0.977291                 0.977291   \n",
      "6     13.572238    2.786660       0.979995                 0.979995   \n",
      "7     13.418307    2.761515       0.981073                 0.981116   \n",
      "8     13.573882    2.784543       0.982020                 0.982025   \n",
      "9     13.699554    2.770624       0.979992                 0.979998   \n",
      "10    14.833680    6.793651       0.977021                 0.977041   \n",
      "11    15.043600    6.888264       0.980941                 0.980946   \n",
      "12    14.872991    7.117157       0.980803                 0.980809   \n",
      "13    14.983314    7.107197       0.981614                 0.981618   \n",
      "14    15.105929    7.104779       0.980262                 0.980262   \n",
      "15   133.526603   39.587106       0.379562                 0.379316   \n",
      "16   134.148040   39.846675       0.393890                 0.393819   \n",
      "17   134.132929   44.991010       0.382317                 0.382197   \n",
      "18   133.741816   39.227118       0.377856                 0.377690   \n",
      "19   134.322997   40.024840       0.383534                 0.383241   \n",
      "20   476.118018    0.194411       0.999865                 0.999865   \n",
      "21   920.168972    0.208676       0.999865                 0.999865   \n",
      "22   628.087092    0.202105       0.999730                 0.999730   \n",
      "23  1629.501627    0.204952       0.999594                 0.999595   \n",
      "24  1394.683571    0.208525       1.000000                 1.000000   \n",
      "\n",
      "    test_recall_weighted  test_f1_weighted  test_roc_auc                model  \n",
      "0               0.999865          0.999865      1.000000   SVM-linear-scale-1  \n",
      "1               0.999865          0.999865      0.999732   SVM-linear-scale-1  \n",
      "2               0.999730          0.999730      1.000000   SVM-linear-scale-1  \n",
      "3               0.999594          0.999594      0.999200   SVM-linear-scale-1  \n",
      "4               1.000000          1.000000      1.000000   SVM-linear-scale-1  \n",
      "5               0.977291          0.977291      0.996609     SVM-poly-scale-1  \n",
      "6               0.979995          0.979995      0.997478     SVM-poly-scale-1  \n",
      "7               0.981073          0.981074      0.997541     SVM-poly-scale-1  \n",
      "8               0.982020          0.982019      0.997381     SVM-poly-scale-1  \n",
      "9               0.979992          0.979992      0.997233     SVM-poly-scale-1  \n",
      "10              0.977021          0.977021      0.996337      SVM-rbf-scale-1  \n",
      "11              0.980941          0.980941      0.997398      SVM-rbf-scale-1  \n",
      "12              0.980803          0.980803      0.997304      SVM-rbf-scale-1  \n",
      "13              0.981614          0.981614      0.997388      SVM-rbf-scale-1  \n",
      "14              0.980262          0.980262      0.997221      SVM-rbf-scale-1  \n",
      "15              0.379562          0.379199      0.313527  SVM-sigmoid-scale-1  \n",
      "16              0.393890          0.393525      0.328922  SVM-sigmoid-scale-1  \n",
      "17              0.382317          0.382243      0.319017  SVM-sigmoid-scale-1  \n",
      "18              0.377856          0.377239      0.306586  SVM-sigmoid-scale-1  \n",
      "19              0.383534          0.383338      0.320191  SVM-sigmoid-scale-1  \n",
      "20              0.999865          0.999865      1.000000    SVM-linear-auto-1  \n",
      "21              0.999865          0.999865      0.999732    SVM-linear-auto-1  \n",
      "22              0.999730          0.999730      1.000000    SVM-linear-auto-1  \n",
      "23              0.999594          0.999594      0.999200    SVM-linear-auto-1  \n",
      "24              1.000000          1.000000      1.000000    SVM-linear-auto-1  \n"
     ]
    },
    {
     "name": "stdout",
     "output_type": "stream",
     "text": [
      "SVM-poly-auto-1\n",
      "              precision    recall  f1-score   support\n",
      "\n",
      "   malignant       0.99      1.00      1.00      6074\n",
      "      benign       1.00      0.99      1.00      6255\n",
      "\n",
      "    accuracy                           1.00     12329\n",
      "   macro avg       1.00      1.00      1.00     12329\n",
      "weighted avg       1.00      1.00      1.00     12329\n",
      "\n",
      "       fit_time  score_time  test_accuracy  test_precision_weighted  \\\n",
      "0    474.703279    0.231764       0.999865                 0.999865   \n",
      "1    920.929929    0.208705       0.999865                 0.999865   \n",
      "2    632.161245    0.203802       0.999730                 0.999730   \n",
      "3   1637.516020    0.201907       0.999594                 0.999595   \n",
      "4   1398.616823    0.203753       1.000000                 1.000000   \n",
      "5     13.460743    2.762037       0.977291                 0.977291   \n",
      "6     13.572238    2.786660       0.979995                 0.979995   \n",
      "7     13.418307    2.761515       0.981073                 0.981116   \n",
      "8     13.573882    2.784543       0.982020                 0.982025   \n",
      "9     13.699554    2.770624       0.979992                 0.979998   \n",
      "10    14.833680    6.793651       0.977021                 0.977041   \n",
      "11    15.043600    6.888264       0.980941                 0.980946   \n",
      "12    14.872991    7.117157       0.980803                 0.980809   \n",
      "13    14.983314    7.107197       0.981614                 0.981618   \n",
      "14    15.105929    7.104779       0.980262                 0.980262   \n",
      "15   133.526603   39.587106       0.379562                 0.379316   \n",
      "16   134.148040   39.846675       0.393890                 0.393819   \n",
      "17   134.132929   44.991010       0.382317                 0.382197   \n",
      "18   133.741816   39.227118       0.377856                 0.377690   \n",
      "19   134.322997   40.024840       0.383534                 0.383241   \n",
      "20   476.118018    0.194411       0.999865                 0.999865   \n",
      "21   920.168972    0.208676       0.999865                 0.999865   \n",
      "22   628.087092    0.202105       0.999730                 0.999730   \n",
      "23  1629.501627    0.204952       0.999594                 0.999595   \n",
      "24  1394.683571    0.208525       1.000000                 1.000000   \n",
      "25    13.309220    1.424211       0.992971                 0.992971   \n",
      "26    12.678396    1.316175       0.995539                 0.995540   \n",
      "27    13.654701    1.438084       0.994728                 0.994728   \n",
      "28    12.831859    1.318294       0.993376                 0.993376   \n",
      "29    14.487316    1.447009       0.995674                 0.995677   \n",
      "\n",
      "    test_recall_weighted  test_f1_weighted  test_roc_auc                model  \n",
      "0               0.999865          0.999865      1.000000   SVM-linear-scale-1  \n",
      "1               0.999865          0.999865      0.999732   SVM-linear-scale-1  \n",
      "2               0.999730          0.999730      1.000000   SVM-linear-scale-1  \n",
      "3               0.999594          0.999594      0.999200   SVM-linear-scale-1  \n",
      "4               1.000000          1.000000      1.000000   SVM-linear-scale-1  \n",
      "5               0.977291          0.977291      0.996609     SVM-poly-scale-1  \n",
      "6               0.979995          0.979995      0.997478     SVM-poly-scale-1  \n",
      "7               0.981073          0.981074      0.997541     SVM-poly-scale-1  \n",
      "8               0.982020          0.982019      0.997381     SVM-poly-scale-1  \n",
      "9               0.979992          0.979992      0.997233     SVM-poly-scale-1  \n",
      "10              0.977021          0.977021      0.996337      SVM-rbf-scale-1  \n",
      "11              0.980941          0.980941      0.997398      SVM-rbf-scale-1  \n",
      "12              0.980803          0.980803      0.997304      SVM-rbf-scale-1  \n",
      "13              0.981614          0.981614      0.997388      SVM-rbf-scale-1  \n",
      "14              0.980262          0.980262      0.997221      SVM-rbf-scale-1  \n",
      "15              0.379562          0.379199      0.313527  SVM-sigmoid-scale-1  \n",
      "16              0.393890          0.393525      0.328922  SVM-sigmoid-scale-1  \n",
      "17              0.382317          0.382243      0.319017  SVM-sigmoid-scale-1  \n",
      "18              0.377856          0.377239      0.306586  SVM-sigmoid-scale-1  \n",
      "19              0.383534          0.383338      0.320191  SVM-sigmoid-scale-1  \n",
      "20              0.999865          0.999865      1.000000    SVM-linear-auto-1  \n",
      "21              0.999865          0.999865      0.999732    SVM-linear-auto-1  \n",
      "22              0.999730          0.999730      1.000000    SVM-linear-auto-1  \n",
      "23              0.999594          0.999594      0.999200    SVM-linear-auto-1  \n",
      "24              1.000000          1.000000      1.000000    SVM-linear-auto-1  \n",
      "25              0.992971          0.992971      0.999208      SVM-poly-auto-1  \n",
      "26              0.995539          0.995539      0.999445      SVM-poly-auto-1  \n",
      "27              0.994728          0.994728      0.999651      SVM-poly-auto-1  \n",
      "28              0.993376          0.993376      0.998958      SVM-poly-auto-1  \n",
      "29              0.995674          0.995674      0.999593      SVM-poly-auto-1  \n"
     ]
    },
    {
     "name": "stdout",
     "output_type": "stream",
     "text": [
      "SVM-rbf-auto-1\n",
      "              precision    recall  f1-score   support\n",
      "\n",
      "   malignant       1.00      0.84      0.91      6074\n",
      "      benign       0.87      1.00      0.93      6255\n",
      "\n",
      "    accuracy                           0.92     12329\n",
      "   macro avg       0.93      0.92      0.92     12329\n",
      "weighted avg       0.93      0.92      0.92     12329\n",
      "\n",
      "       fit_time  score_time  test_accuracy  test_precision_weighted  \\\n",
      "0    474.703279    0.231764       0.999865                 0.999865   \n",
      "1    920.929929    0.208705       0.999865                 0.999865   \n",
      "2    632.161245    0.203802       0.999730                 0.999730   \n",
      "3   1637.516020    0.201907       0.999594                 0.999595   \n",
      "4   1398.616823    0.203753       1.000000                 1.000000   \n",
      "5     13.460743    2.762037       0.977291                 0.977291   \n",
      "6     13.572238    2.786660       0.979995                 0.979995   \n",
      "7     13.418307    2.761515       0.981073                 0.981116   \n",
      "8     13.573882    2.784543       0.982020                 0.982025   \n",
      "9     13.699554    2.770624       0.979992                 0.979998   \n",
      "10    14.833680    6.793651       0.977021                 0.977041   \n",
      "11    15.043600    6.888264       0.980941                 0.980946   \n",
      "12    14.872991    7.117157       0.980803                 0.980809   \n",
      "13    14.983314    7.107197       0.981614                 0.981618   \n",
      "14    15.105929    7.104779       0.980262                 0.980262   \n",
      "15   133.526603   39.587106       0.379562                 0.379316   \n",
      "16   134.148040   39.846675       0.393890                 0.393819   \n",
      "17   134.132929   44.991010       0.382317                 0.382197   \n",
      "18   133.741816   39.227118       0.377856                 0.377690   \n",
      "19   134.322997   40.024840       0.383534                 0.383241   \n",
      "20   476.118018    0.194411       0.999865                 0.999865   \n",
      "21   920.168972    0.208676       0.999865                 0.999865   \n",
      "22   628.087092    0.202105       0.999730                 0.999730   \n",
      "23  1629.501627    0.204952       0.999594                 0.999595   \n",
      "24  1394.683571    0.208525       1.000000                 1.000000   \n",
      "25    13.309220    1.424211       0.992971                 0.992971   \n",
      "26    12.678396    1.316175       0.995539                 0.995540   \n",
      "27    13.654701    1.438084       0.994728                 0.994728   \n",
      "28    12.831859    1.318294       0.993376                 0.993376   \n",
      "29    14.487316    1.447009       0.995674                 0.995677   \n",
      "30   389.339639   48.630454       0.916869                 0.928701   \n",
      "31   359.415493   44.060253       0.917951                 0.929437   \n",
      "32   378.723853   44.174183       0.915236                 0.927668   \n",
      "33   387.981599   44.033376       0.924023                 0.933949   \n",
      "34   365.599238   45.198784       0.919832                 0.931071   \n",
      "\n",
      "    test_recall_weighted  test_f1_weighted  test_roc_auc                model  \n",
      "0               0.999865          0.999865      1.000000   SVM-linear-scale-1  \n",
      "1               0.999865          0.999865      0.999732   SVM-linear-scale-1  \n",
      "2               0.999730          0.999730      1.000000   SVM-linear-scale-1  \n",
      "3               0.999594          0.999594      0.999200   SVM-linear-scale-1  \n",
      "4               1.000000          1.000000      1.000000   SVM-linear-scale-1  \n",
      "5               0.977291          0.977291      0.996609     SVM-poly-scale-1  \n",
      "6               0.979995          0.979995      0.997478     SVM-poly-scale-1  \n",
      "7               0.981073          0.981074      0.997541     SVM-poly-scale-1  \n",
      "8               0.982020          0.982019      0.997381     SVM-poly-scale-1  \n",
      "9               0.979992          0.979992      0.997233     SVM-poly-scale-1  \n",
      "10              0.977021          0.977021      0.996337      SVM-rbf-scale-1  \n",
      "11              0.980941          0.980941      0.997398      SVM-rbf-scale-1  \n",
      "12              0.980803          0.980803      0.997304      SVM-rbf-scale-1  \n",
      "13              0.981614          0.981614      0.997388      SVM-rbf-scale-1  \n",
      "14              0.980262          0.980262      0.997221      SVM-rbf-scale-1  \n",
      "15              0.379562          0.379199      0.313527  SVM-sigmoid-scale-1  \n",
      "16              0.393890          0.393525      0.328922  SVM-sigmoid-scale-1  \n",
      "17              0.382317          0.382243      0.319017  SVM-sigmoid-scale-1  \n",
      "18              0.377856          0.377239      0.306586  SVM-sigmoid-scale-1  \n",
      "19              0.383534          0.383338      0.320191  SVM-sigmoid-scale-1  \n",
      "20              0.999865          0.999865      1.000000    SVM-linear-auto-1  \n",
      "21              0.999865          0.999865      0.999732    SVM-linear-auto-1  \n",
      "22              0.999730          0.999730      1.000000    SVM-linear-auto-1  \n",
      "23              0.999594          0.999594      0.999200    SVM-linear-auto-1  \n",
      "24              1.000000          1.000000      1.000000    SVM-linear-auto-1  \n",
      "25              0.992971          0.992971      0.999208      SVM-poly-auto-1  \n",
      "26              0.995539          0.995539      0.999445      SVM-poly-auto-1  \n",
      "27              0.994728          0.994728      0.999651      SVM-poly-auto-1  \n",
      "28              0.993376          0.993376      0.998958      SVM-poly-auto-1  \n",
      "29              0.995674          0.995674      0.999593      SVM-poly-auto-1  \n",
      "30              0.916869          0.916278      0.930151       SVM-rbf-auto-1  \n",
      "31              0.917951          0.917339      0.930831       SVM-rbf-auto-1  \n",
      "32              0.915236          0.914722      0.928964       SVM-rbf-auto-1  \n",
      "33              0.924023          0.923516      0.934710       SVM-rbf-auto-1  \n",
      "34              0.919832          0.919422      0.933701       SVM-rbf-auto-1  \n"
     ]
    },
    {
     "name": "stdout",
     "output_type": "stream",
     "text": [
      "SVM-sigmoid-auto-1\n",
      "              precision    recall  f1-score   support\n",
      "\n",
      "   malignant       0.49      1.00      0.66      6074\n",
      "      benign       0.00      0.00      0.00      6255\n",
      "\n",
      "    accuracy                           0.49     12329\n",
      "   macro avg       0.25      0.50      0.33     12329\n",
      "weighted avg       0.24      0.49      0.33     12329\n",
      "\n",
      "       fit_time  score_time  test_accuracy  test_precision_weighted  \\\n",
      "0    474.703279    0.231764       0.999865                 0.999865   \n",
      "1    920.929929    0.208705       0.999865                 0.999865   \n",
      "2    632.161245    0.203802       0.999730                 0.999730   \n",
      "3   1637.516020    0.201907       0.999594                 0.999595   \n",
      "4   1398.616823    0.203753       1.000000                 1.000000   \n",
      "5     13.460743    2.762037       0.977291                 0.977291   \n",
      "6     13.572238    2.786660       0.979995                 0.979995   \n",
      "7     13.418307    2.761515       0.981073                 0.981116   \n",
      "8     13.573882    2.784543       0.982020                 0.982025   \n",
      "9     13.699554    2.770624       0.979992                 0.979998   \n",
      "10    14.833680    6.793651       0.977021                 0.977041   \n",
      "11    15.043600    6.888264       0.980941                 0.980946   \n",
      "12    14.872991    7.117157       0.980803                 0.980809   \n",
      "13    14.983314    7.107197       0.981614                 0.981618   \n",
      "14    15.105929    7.104779       0.980262                 0.980262   \n",
      "15   133.526603   39.587106       0.379562                 0.379316   \n",
      "16   134.148040   39.846675       0.393890                 0.393819   \n",
      "17   134.132929   44.991010       0.382317                 0.382197   \n",
      "18   133.741816   39.227118       0.377856                 0.377690   \n",
      "19   134.322997   40.024840       0.383534                 0.383241   \n",
      "20   476.118018    0.194411       0.999865                 0.999865   \n",
      "21   920.168972    0.208676       0.999865                 0.999865   \n",
      "22   628.087092    0.202105       0.999730                 0.999730   \n",
      "23  1629.501627    0.204952       0.999594                 0.999595   \n",
      "24  1394.683571    0.208525       1.000000                 1.000000   \n",
      "25    13.309220    1.424211       0.992971                 0.992971   \n",
      "26    12.678396    1.316175       0.995539                 0.995540   \n",
      "27    13.654701    1.438084       0.994728                 0.994728   \n",
      "28    12.831859    1.318294       0.993376                 0.993376   \n",
      "29    14.487316    1.447009       0.995674                 0.995677   \n",
      "30   389.339639   48.630454       0.916869                 0.928701   \n",
      "31   359.415493   44.060253       0.917951                 0.929437   \n",
      "32   378.723853   44.174183       0.915236                 0.927668   \n",
      "33   387.981599   44.033376       0.924023                 0.933949   \n",
      "34   365.599238   45.198784       0.919832                 0.931071   \n",
      "35   132.836096   56.256240       0.499054                 0.249055   \n",
      "36   132.442004   56.109753       0.495945                 0.245961   \n",
      "37   132.998010   56.250076       0.493173                 0.243220   \n",
      "38   132.713551   56.071043       0.494390                 0.244421   \n",
      "39   132.957541   56.357404       0.491686                 0.241755   \n",
      "\n",
      "    test_recall_weighted  test_f1_weighted  test_roc_auc                model  \n",
      "0               0.999865          0.999865      1.000000   SVM-linear-scale-1  \n",
      "1               0.999865          0.999865      0.999732   SVM-linear-scale-1  \n",
      "2               0.999730          0.999730      1.000000   SVM-linear-scale-1  \n",
      "3               0.999594          0.999594      0.999200   SVM-linear-scale-1  \n",
      "4               1.000000          1.000000      1.000000   SVM-linear-scale-1  \n",
      "5               0.977291          0.977291      0.996609     SVM-poly-scale-1  \n",
      "6               0.979995          0.979995      0.997478     SVM-poly-scale-1  \n",
      "7               0.981073          0.981074      0.997541     SVM-poly-scale-1  \n",
      "8               0.982020          0.982019      0.997381     SVM-poly-scale-1  \n",
      "9               0.979992          0.979992      0.997233     SVM-poly-scale-1  \n",
      "10              0.977021          0.977021      0.996337      SVM-rbf-scale-1  \n",
      "11              0.980941          0.980941      0.997398      SVM-rbf-scale-1  \n",
      "12              0.980803          0.980803      0.997304      SVM-rbf-scale-1  \n",
      "13              0.981614          0.981614      0.997388      SVM-rbf-scale-1  \n",
      "14              0.980262          0.980262      0.997221      SVM-rbf-scale-1  \n",
      "15              0.379562          0.379199      0.313527  SVM-sigmoid-scale-1  \n",
      "16              0.393890          0.393525      0.328922  SVM-sigmoid-scale-1  \n",
      "17              0.382317          0.382243      0.319017  SVM-sigmoid-scale-1  \n",
      "18              0.377856          0.377239      0.306586  SVM-sigmoid-scale-1  \n",
      "19              0.383534          0.383338      0.320191  SVM-sigmoid-scale-1  \n",
      "20              0.999865          0.999865      1.000000    SVM-linear-auto-1  \n",
      "21              0.999865          0.999865      0.999732    SVM-linear-auto-1  \n",
      "22              0.999730          0.999730      1.000000    SVM-linear-auto-1  \n",
      "23              0.999594          0.999594      0.999200    SVM-linear-auto-1  \n",
      "24              1.000000          1.000000      1.000000    SVM-linear-auto-1  \n",
      "25              0.992971          0.992971      0.999208      SVM-poly-auto-1  \n",
      "26              0.995539          0.995539      0.999445      SVM-poly-auto-1  \n",
      "27              0.994728          0.994728      0.999651      SVM-poly-auto-1  \n",
      "28              0.993376          0.993376      0.998958      SVM-poly-auto-1  \n",
      "29              0.995674          0.995674      0.999593      SVM-poly-auto-1  \n",
      "30              0.916869          0.916278      0.930151       SVM-rbf-auto-1  \n",
      "31              0.917951          0.917339      0.930831       SVM-rbf-auto-1  \n",
      "32              0.915236          0.914722      0.928964       SVM-rbf-auto-1  \n",
      "33              0.924023          0.923516      0.934710       SVM-rbf-auto-1  \n",
      "34              0.919832          0.919422      0.933701       SVM-rbf-auto-1  \n",
      "35              0.499054          0.332283      0.500000   SVM-sigmoid-auto-1  \n",
      "36              0.495945          0.328837      0.500000   SVM-sigmoid-auto-1  \n",
      "37              0.493173          0.325775      0.500000   SVM-sigmoid-auto-1  \n",
      "38              0.494390          0.327118      0.500000   SVM-sigmoid-auto-1  \n",
      "39              0.491686          0.324137      0.500000   SVM-sigmoid-auto-1  \n"
     ]
    },
    {
     "name": "stdout",
     "output_type": "stream",
     "text": [
      "SVM-linear-scale-2\n",
      "              precision    recall  f1-score   support\n",
      "\n",
      "   malignant       1.00      1.00      1.00      6074\n",
      "      benign       1.00      1.00      1.00      6255\n",
      "\n",
      "    accuracy                           1.00     12329\n",
      "   macro avg       1.00      1.00      1.00     12329\n",
      "weighted avg       1.00      1.00      1.00     12329\n",
      "\n",
      "       fit_time  score_time  test_accuracy  test_precision_weighted  \\\n",
      "0    474.703279    0.231764       0.999865                 0.999865   \n",
      "1    920.929929    0.208705       0.999865                 0.999865   \n",
      "2    632.161245    0.203802       0.999730                 0.999730   \n",
      "3   1637.516020    0.201907       0.999594                 0.999595   \n",
      "4   1398.616823    0.203753       1.000000                 1.000000   \n",
      "5     13.460743    2.762037       0.977291                 0.977291   \n",
      "6     13.572238    2.786660       0.979995                 0.979995   \n",
      "7     13.418307    2.761515       0.981073                 0.981116   \n",
      "8     13.573882    2.784543       0.982020                 0.982025   \n",
      "9     13.699554    2.770624       0.979992                 0.979998   \n",
      "10    14.833680    6.793651       0.977021                 0.977041   \n",
      "11    15.043600    6.888264       0.980941                 0.980946   \n",
      "12    14.872991    7.117157       0.980803                 0.980809   \n",
      "13    14.983314    7.107197       0.981614                 0.981618   \n",
      "14    15.105929    7.104779       0.980262                 0.980262   \n",
      "15   133.526603   39.587106       0.379562                 0.379316   \n",
      "16   134.148040   39.846675       0.393890                 0.393819   \n",
      "17   134.132929   44.991010       0.382317                 0.382197   \n",
      "18   133.741816   39.227118       0.377856                 0.377690   \n",
      "19   134.322997   40.024840       0.383534                 0.383241   \n",
      "20   476.118018    0.194411       0.999865                 0.999865   \n",
      "21   920.168972    0.208676       0.999865                 0.999865   \n",
      "22   628.087092    0.202105       0.999730                 0.999730   \n",
      "23  1629.501627    0.204952       0.999594                 0.999595   \n",
      "24  1394.683571    0.208525       1.000000                 1.000000   \n",
      "25    13.309220    1.424211       0.992971                 0.992971   \n",
      "26    12.678396    1.316175       0.995539                 0.995540   \n",
      "27    13.654701    1.438084       0.994728                 0.994728   \n",
      "28    12.831859    1.318294       0.993376                 0.993376   \n",
      "29    14.487316    1.447009       0.995674                 0.995677   \n",
      "30   389.339639   48.630454       0.916869                 0.928701   \n",
      "31   359.415493   44.060253       0.917951                 0.929437   \n",
      "32   378.723853   44.174183       0.915236                 0.927668   \n",
      "33   387.981599   44.033376       0.924023                 0.933949   \n",
      "34   365.599238   45.198784       0.919832                 0.931071   \n",
      "35   132.836096   56.256240       0.499054                 0.249055   \n",
      "36   132.442004   56.109753       0.495945                 0.245961   \n",
      "37   132.998010   56.250076       0.493173                 0.243220   \n",
      "38   132.713551   56.071043       0.494390                 0.244421   \n",
      "39   132.957541   56.357404       0.491686                 0.241755   \n",
      "40   476.223666    0.191743       0.999865                 0.999865   \n",
      "41   915.962355    0.204279       0.999865                 0.999865   \n",
      "42   630.355835    0.199157       0.999730                 0.999730   \n",
      "43  1637.846390    0.201157       0.999594                 0.999595   \n",
      "44  1407.400365    0.202712       1.000000                 1.000000   \n",
      "\n",
      "    test_recall_weighted  test_f1_weighted  test_roc_auc                model  \n",
      "0               0.999865          0.999865      1.000000   SVM-linear-scale-1  \n",
      "1               0.999865          0.999865      0.999732   SVM-linear-scale-1  \n",
      "2               0.999730          0.999730      1.000000   SVM-linear-scale-1  \n",
      "3               0.999594          0.999594      0.999200   SVM-linear-scale-1  \n",
      "4               1.000000          1.000000      1.000000   SVM-linear-scale-1  \n",
      "5               0.977291          0.977291      0.996609     SVM-poly-scale-1  \n",
      "6               0.979995          0.979995      0.997478     SVM-poly-scale-1  \n",
      "7               0.981073          0.981074      0.997541     SVM-poly-scale-1  \n",
      "8               0.982020          0.982019      0.997381     SVM-poly-scale-1  \n",
      "9               0.979992          0.979992      0.997233     SVM-poly-scale-1  \n",
      "10              0.977021          0.977021      0.996337      SVM-rbf-scale-1  \n",
      "11              0.980941          0.980941      0.997398      SVM-rbf-scale-1  \n",
      "12              0.980803          0.980803      0.997304      SVM-rbf-scale-1  \n",
      "13              0.981614          0.981614      0.997388      SVM-rbf-scale-1  \n",
      "14              0.980262          0.980262      0.997221      SVM-rbf-scale-1  \n",
      "15              0.379562          0.379199      0.313527  SVM-sigmoid-scale-1  \n",
      "16              0.393890          0.393525      0.328922  SVM-sigmoid-scale-1  \n",
      "17              0.382317          0.382243      0.319017  SVM-sigmoid-scale-1  \n",
      "18              0.377856          0.377239      0.306586  SVM-sigmoid-scale-1  \n",
      "19              0.383534          0.383338      0.320191  SVM-sigmoid-scale-1  \n",
      "20              0.999865          0.999865      1.000000    SVM-linear-auto-1  \n",
      "21              0.999865          0.999865      0.999732    SVM-linear-auto-1  \n",
      "22              0.999730          0.999730      1.000000    SVM-linear-auto-1  \n",
      "23              0.999594          0.999594      0.999200    SVM-linear-auto-1  \n",
      "24              1.000000          1.000000      1.000000    SVM-linear-auto-1  \n",
      "25              0.992971          0.992971      0.999208      SVM-poly-auto-1  \n",
      "26              0.995539          0.995539      0.999445      SVM-poly-auto-1  \n",
      "27              0.994728          0.994728      0.999651      SVM-poly-auto-1  \n",
      "28              0.993376          0.993376      0.998958      SVM-poly-auto-1  \n",
      "29              0.995674          0.995674      0.999593      SVM-poly-auto-1  \n",
      "30              0.916869          0.916278      0.930151       SVM-rbf-auto-1  \n",
      "31              0.917951          0.917339      0.930831       SVM-rbf-auto-1  \n",
      "32              0.915236          0.914722      0.928964       SVM-rbf-auto-1  \n",
      "33              0.924023          0.923516      0.934710       SVM-rbf-auto-1  \n",
      "34              0.919832          0.919422      0.933701       SVM-rbf-auto-1  \n",
      "35              0.499054          0.332283      0.500000   SVM-sigmoid-auto-1  \n",
      "36              0.495945          0.328837      0.500000   SVM-sigmoid-auto-1  \n",
      "37              0.493173          0.325775      0.500000   SVM-sigmoid-auto-1  \n",
      "38              0.494390          0.327118      0.500000   SVM-sigmoid-auto-1  \n",
      "39              0.491686          0.324137      0.500000   SVM-sigmoid-auto-1  \n",
      "40              0.999865          0.999865      1.000000   SVM-linear-scale-2  \n",
      "41              0.999865          0.999865      0.999732   SVM-linear-scale-2  \n",
      "42              0.999730          0.999730      1.000000   SVM-linear-scale-2  \n",
      "43              0.999594          0.999594      0.999200   SVM-linear-scale-2  \n",
      "44              1.000000          1.000000      1.000000   SVM-linear-scale-2  \n"
     ]
    },
    {
     "name": "stdout",
     "output_type": "stream",
     "text": [
      "SVM-poly-scale-2\n",
      "              precision    recall  f1-score   support\n",
      "\n",
      "   malignant       0.98      0.99      0.98      6074\n",
      "      benign       0.99      0.98      0.98      6255\n",
      "\n",
      "    accuracy                           0.98     12329\n",
      "   macro avg       0.98      0.98      0.98     12329\n",
      "weighted avg       0.98      0.98      0.98     12329\n",
      "\n",
      "       fit_time  score_time  test_accuracy  test_precision_weighted  \\\n",
      "0    474.703279    0.231764       0.999865                 0.999865   \n",
      "1    920.929929    0.208705       0.999865                 0.999865   \n",
      "2    632.161245    0.203802       0.999730                 0.999730   \n",
      "3   1637.516020    0.201907       0.999594                 0.999595   \n",
      "4   1398.616823    0.203753       1.000000                 1.000000   \n",
      "5     13.460743    2.762037       0.977291                 0.977291   \n",
      "6     13.572238    2.786660       0.979995                 0.979995   \n",
      "7     13.418307    2.761515       0.981073                 0.981116   \n",
      "8     13.573882    2.784543       0.982020                 0.982025   \n",
      "9     13.699554    2.770624       0.979992                 0.979998   \n",
      "10    14.833680    6.793651       0.977021                 0.977041   \n",
      "11    15.043600    6.888264       0.980941                 0.980946   \n",
      "12    14.872991    7.117157       0.980803                 0.980809   \n",
      "13    14.983314    7.107197       0.981614                 0.981618   \n",
      "14    15.105929    7.104779       0.980262                 0.980262   \n",
      "15   133.526603   39.587106       0.379562                 0.379316   \n",
      "16   134.148040   39.846675       0.393890                 0.393819   \n",
      "17   134.132929   44.991010       0.382317                 0.382197   \n",
      "18   133.741816   39.227118       0.377856                 0.377690   \n",
      "19   134.322997   40.024840       0.383534                 0.383241   \n",
      "20   476.118018    0.194411       0.999865                 0.999865   \n",
      "21   920.168972    0.208676       0.999865                 0.999865   \n",
      "22   628.087092    0.202105       0.999730                 0.999730   \n",
      "23  1629.501627    0.204952       0.999594                 0.999595   \n",
      "24  1394.683571    0.208525       1.000000                 1.000000   \n",
      "25    13.309220    1.424211       0.992971                 0.992971   \n",
      "26    12.678396    1.316175       0.995539                 0.995540   \n",
      "27    13.654701    1.438084       0.994728                 0.994728   \n",
      "28    12.831859    1.318294       0.993376                 0.993376   \n",
      "29    14.487316    1.447009       0.995674                 0.995677   \n",
      "30   389.339639   48.630454       0.916869                 0.928701   \n",
      "31   359.415493   44.060253       0.917951                 0.929437   \n",
      "32   378.723853   44.174183       0.915236                 0.927668   \n",
      "33   387.981599   44.033376       0.924023                 0.933949   \n",
      "34   365.599238   45.198784       0.919832                 0.931071   \n",
      "35   132.836096   56.256240       0.499054                 0.249055   \n",
      "36   132.442004   56.109753       0.495945                 0.245961   \n",
      "37   132.998010   56.250076       0.493173                 0.243220   \n",
      "38   132.713551   56.071043       0.494390                 0.244421   \n",
      "39   132.957541   56.357404       0.491686                 0.241755   \n",
      "40   476.223666    0.191743       0.999865                 0.999865   \n",
      "41   915.962355    0.204279       0.999865                 0.999865   \n",
      "42   630.355835    0.199157       0.999730                 0.999730   \n",
      "43  1637.846390    0.201157       0.999594                 0.999595   \n",
      "44  1407.400365    0.202712       1.000000                 1.000000   \n",
      "45    11.418411    2.389380       0.978102                 0.978111   \n",
      "46    11.765273    2.466467       0.981752                 0.981752   \n",
      "47    11.357203    2.403920       0.982696                 0.982714   \n",
      "48    11.640410    2.429287       0.982696                 0.982698   \n",
      "49    11.546492    2.438059       0.982560                 0.982561   \n",
      "\n",
      "    test_recall_weighted  test_f1_weighted  test_roc_auc                model  \n",
      "0               0.999865          0.999865      1.000000   SVM-linear-scale-1  \n",
      "1               0.999865          0.999865      0.999732   SVM-linear-scale-1  \n",
      "2               0.999730          0.999730      1.000000   SVM-linear-scale-1  \n",
      "3               0.999594          0.999594      0.999200   SVM-linear-scale-1  \n",
      "4               1.000000          1.000000      1.000000   SVM-linear-scale-1  \n",
      "5               0.977291          0.977291      0.996609     SVM-poly-scale-1  \n",
      "6               0.979995          0.979995      0.997478     SVM-poly-scale-1  \n",
      "7               0.981073          0.981074      0.997541     SVM-poly-scale-1  \n",
      "8               0.982020          0.982019      0.997381     SVM-poly-scale-1  \n",
      "9               0.979992          0.979992      0.997233     SVM-poly-scale-1  \n",
      "10              0.977021          0.977021      0.996337      SVM-rbf-scale-1  \n",
      "11              0.980941          0.980941      0.997398      SVM-rbf-scale-1  \n",
      "12              0.980803          0.980803      0.997304      SVM-rbf-scale-1  \n",
      "13              0.981614          0.981614      0.997388      SVM-rbf-scale-1  \n",
      "14              0.980262          0.980262      0.997221      SVM-rbf-scale-1  \n",
      "15              0.379562          0.379199      0.313527  SVM-sigmoid-scale-1  \n",
      "16              0.393890          0.393525      0.328922  SVM-sigmoid-scale-1  \n",
      "17              0.382317          0.382243      0.319017  SVM-sigmoid-scale-1  \n",
      "18              0.377856          0.377239      0.306586  SVM-sigmoid-scale-1  \n",
      "19              0.383534          0.383338      0.320191  SVM-sigmoid-scale-1  \n",
      "20              0.999865          0.999865      1.000000    SVM-linear-auto-1  \n",
      "21              0.999865          0.999865      0.999732    SVM-linear-auto-1  \n",
      "22              0.999730          0.999730      1.000000    SVM-linear-auto-1  \n",
      "23              0.999594          0.999594      0.999200    SVM-linear-auto-1  \n",
      "24              1.000000          1.000000      1.000000    SVM-linear-auto-1  \n",
      "25              0.992971          0.992971      0.999208      SVM-poly-auto-1  \n",
      "26              0.995539          0.995539      0.999445      SVM-poly-auto-1  \n",
      "27              0.994728          0.994728      0.999651      SVM-poly-auto-1  \n",
      "28              0.993376          0.993376      0.998958      SVM-poly-auto-1  \n",
      "29              0.995674          0.995674      0.999593      SVM-poly-auto-1  \n",
      "30              0.916869          0.916278      0.930151       SVM-rbf-auto-1  \n",
      "31              0.917951          0.917339      0.930831       SVM-rbf-auto-1  \n",
      "32              0.915236          0.914722      0.928964       SVM-rbf-auto-1  \n",
      "33              0.924023          0.923516      0.934710       SVM-rbf-auto-1  \n",
      "34              0.919832          0.919422      0.933701       SVM-rbf-auto-1  \n",
      "35              0.499054          0.332283      0.500000   SVM-sigmoid-auto-1  \n",
      "36              0.495945          0.328837      0.500000   SVM-sigmoid-auto-1  \n",
      "37              0.493173          0.325775      0.500000   SVM-sigmoid-auto-1  \n",
      "38              0.494390          0.327118      0.500000   SVM-sigmoid-auto-1  \n",
      "39              0.491686          0.324137      0.500000   SVM-sigmoid-auto-1  \n",
      "40              0.999865          0.999865      1.000000   SVM-linear-scale-2  \n",
      "41              0.999865          0.999865      0.999732   SVM-linear-scale-2  \n",
      "42              0.999730          0.999730      1.000000   SVM-linear-scale-2  \n",
      "43              0.999594          0.999594      0.999200   SVM-linear-scale-2  \n",
      "44              1.000000          1.000000      1.000000   SVM-linear-scale-2  \n",
      "45              0.978102          0.978102      0.996924     SVM-poly-scale-2  \n",
      "46              0.981752          0.981752      0.997668     SVM-poly-scale-2  \n",
      "47              0.982696          0.982696      0.997671     SVM-poly-scale-2  \n",
      "48              0.982696          0.982696      0.997637     SVM-poly-scale-2  \n",
      "49              0.982560          0.982561      0.997467     SVM-poly-scale-2  \n"
     ]
    },
    {
     "name": "stdout",
     "output_type": "stream",
     "text": [
      "SVM-rbf-scale-2\n",
      "              precision    recall  f1-score   support\n",
      "\n",
      "   malignant       0.98      0.99      0.98      6074\n",
      "      benign       0.99      0.98      0.98      6255\n",
      "\n",
      "    accuracy                           0.98     12329\n",
      "   macro avg       0.98      0.98      0.98     12329\n",
      "weighted avg       0.98      0.98      0.98     12329\n",
      "\n",
      "       fit_time  score_time  test_accuracy  test_precision_weighted  \\\n",
      "0    474.703279    0.231764       0.999865                 0.999865   \n",
      "1    920.929929    0.208705       0.999865                 0.999865   \n",
      "2    632.161245    0.203802       0.999730                 0.999730   \n",
      "3   1637.516020    0.201907       0.999594                 0.999595   \n",
      "4   1398.616823    0.203753       1.000000                 1.000000   \n",
      "5     13.460743    2.762037       0.977291                 0.977291   \n",
      "6     13.572238    2.786660       0.979995                 0.979995   \n",
      "7     13.418307    2.761515       0.981073                 0.981116   \n",
      "8     13.573882    2.784543       0.982020                 0.982025   \n",
      "9     13.699554    2.770624       0.979992                 0.979998   \n",
      "10    14.833680    6.793651       0.977021                 0.977041   \n",
      "11    15.043600    6.888264       0.980941                 0.980946   \n",
      "12    14.872991    7.117157       0.980803                 0.980809   \n",
      "13    14.983314    7.107197       0.981614                 0.981618   \n",
      "14    15.105929    7.104779       0.980262                 0.980262   \n",
      "15   133.526603   39.587106       0.379562                 0.379316   \n",
      "16   134.148040   39.846675       0.393890                 0.393819   \n",
      "17   134.132929   44.991010       0.382317                 0.382197   \n",
      "18   133.741816   39.227118       0.377856                 0.377690   \n",
      "19   134.322997   40.024840       0.383534                 0.383241   \n",
      "20   476.118018    0.194411       0.999865                 0.999865   \n",
      "21   920.168972    0.208676       0.999865                 0.999865   \n",
      "22   628.087092    0.202105       0.999730                 0.999730   \n",
      "23  1629.501627    0.204952       0.999594                 0.999595   \n",
      "24  1394.683571    0.208525       1.000000                 1.000000   \n",
      "25    13.309220    1.424211       0.992971                 0.992971   \n",
      "26    12.678396    1.316175       0.995539                 0.995540   \n",
      "27    13.654701    1.438084       0.994728                 0.994728   \n",
      "28    12.831859    1.318294       0.993376                 0.993376   \n",
      "29    14.487316    1.447009       0.995674                 0.995677   \n",
      "30   389.339639   48.630454       0.916869                 0.928701   \n",
      "31   359.415493   44.060253       0.917951                 0.929437   \n",
      "32   378.723853   44.174183       0.915236                 0.927668   \n",
      "33   387.981599   44.033376       0.924023                 0.933949   \n",
      "34   365.599238   45.198784       0.919832                 0.931071   \n",
      "35   132.836096   56.256240       0.499054                 0.249055   \n",
      "36   132.442004   56.109753       0.495945                 0.245961   \n",
      "37   132.998010   56.250076       0.493173                 0.243220   \n",
      "38   132.713551   56.071043       0.494390                 0.244421   \n",
      "39   132.957541   56.357404       0.491686                 0.241755   \n",
      "40   476.223666    0.191743       0.999865                 0.999865   \n",
      "41   915.962355    0.204279       0.999865                 0.999865   \n",
      "42   630.355835    0.199157       0.999730                 0.999730   \n",
      "43  1637.846390    0.201157       0.999594                 0.999595   \n",
      "44  1407.400365    0.202712       1.000000                 1.000000   \n",
      "45    11.418411    2.389380       0.978102                 0.978111   \n",
      "46    11.765273    2.466467       0.981752                 0.981752   \n",
      "47    11.357203    2.403920       0.982696                 0.982714   \n",
      "48    11.640410    2.429287       0.982696                 0.982698   \n",
      "49    11.546492    2.438059       0.982560                 0.982561   \n",
      "50    12.481438    5.867791       0.979048                 0.979074   \n",
      "51    12.824499    5.999897       0.981752                 0.981763   \n",
      "52    12.605095    5.922644       0.981344                 0.981345   \n",
      "53    12.679906    5.968443       0.982020                 0.982047   \n",
      "54    12.538949    5.968267       0.981749                 0.981758   \n",
      "\n",
      "    test_recall_weighted  test_f1_weighted  test_roc_auc                model  \n",
      "0               0.999865          0.999865      1.000000   SVM-linear-scale-1  \n",
      "1               0.999865          0.999865      0.999732   SVM-linear-scale-1  \n",
      "2               0.999730          0.999730      1.000000   SVM-linear-scale-1  \n",
      "3               0.999594          0.999594      0.999200   SVM-linear-scale-1  \n",
      "4               1.000000          1.000000      1.000000   SVM-linear-scale-1  \n",
      "5               0.977291          0.977291      0.996609     SVM-poly-scale-1  \n",
      "6               0.979995          0.979995      0.997478     SVM-poly-scale-1  \n",
      "7               0.981073          0.981074      0.997541     SVM-poly-scale-1  \n",
      "8               0.982020          0.982019      0.997381     SVM-poly-scale-1  \n",
      "9               0.979992          0.979992      0.997233     SVM-poly-scale-1  \n",
      "10              0.977021          0.977021      0.996337      SVM-rbf-scale-1  \n",
      "11              0.980941          0.980941      0.997398      SVM-rbf-scale-1  \n",
      "12              0.980803          0.980803      0.997304      SVM-rbf-scale-1  \n",
      "13              0.981614          0.981614      0.997388      SVM-rbf-scale-1  \n",
      "14              0.980262          0.980262      0.997221      SVM-rbf-scale-1  \n",
      "15              0.379562          0.379199      0.313527  SVM-sigmoid-scale-1  \n",
      "16              0.393890          0.393525      0.328922  SVM-sigmoid-scale-1  \n",
      "17              0.382317          0.382243      0.319017  SVM-sigmoid-scale-1  \n",
      "18              0.377856          0.377239      0.306586  SVM-sigmoid-scale-1  \n",
      "19              0.383534          0.383338      0.320191  SVM-sigmoid-scale-1  \n",
      "20              0.999865          0.999865      1.000000    SVM-linear-auto-1  \n",
      "21              0.999865          0.999865      0.999732    SVM-linear-auto-1  \n",
      "22              0.999730          0.999730      1.000000    SVM-linear-auto-1  \n",
      "23              0.999594          0.999594      0.999200    SVM-linear-auto-1  \n",
      "24              1.000000          1.000000      1.000000    SVM-linear-auto-1  \n",
      "25              0.992971          0.992971      0.999208      SVM-poly-auto-1  \n",
      "26              0.995539          0.995539      0.999445      SVM-poly-auto-1  \n",
      "27              0.994728          0.994728      0.999651      SVM-poly-auto-1  \n",
      "28              0.993376          0.993376      0.998958      SVM-poly-auto-1  \n",
      "29              0.995674          0.995674      0.999593      SVM-poly-auto-1  \n",
      "30              0.916869          0.916278      0.930151       SVM-rbf-auto-1  \n",
      "31              0.917951          0.917339      0.930831       SVM-rbf-auto-1  \n",
      "32              0.915236          0.914722      0.928964       SVM-rbf-auto-1  \n",
      "33              0.924023          0.923516      0.934710       SVM-rbf-auto-1  \n",
      "34              0.919832          0.919422      0.933701       SVM-rbf-auto-1  \n",
      "35              0.499054          0.332283      0.500000   SVM-sigmoid-auto-1  \n",
      "36              0.495945          0.328837      0.500000   SVM-sigmoid-auto-1  \n",
      "37              0.493173          0.325775      0.500000   SVM-sigmoid-auto-1  \n",
      "38              0.494390          0.327118      0.500000   SVM-sigmoid-auto-1  \n",
      "39              0.491686          0.324137      0.500000   SVM-sigmoid-auto-1  \n",
      "40              0.999865          0.999865      1.000000   SVM-linear-scale-2  \n",
      "41              0.999865          0.999865      0.999732   SVM-linear-scale-2  \n",
      "42              0.999730          0.999730      1.000000   SVM-linear-scale-2  \n",
      "43              0.999594          0.999594      0.999200   SVM-linear-scale-2  \n",
      "44              1.000000          1.000000      1.000000   SVM-linear-scale-2  \n",
      "45              0.978102          0.978102      0.996924     SVM-poly-scale-2  \n",
      "46              0.981752          0.981752      0.997668     SVM-poly-scale-2  \n",
      "47              0.982696          0.982696      0.997671     SVM-poly-scale-2  \n",
      "48              0.982696          0.982696      0.997637     SVM-poly-scale-2  \n",
      "49              0.982560          0.982561      0.997467     SVM-poly-scale-2  \n",
      "50              0.979048          0.979048      0.996456      SVM-rbf-scale-2  \n",
      "51              0.981752          0.981752      0.997733      SVM-rbf-scale-2  \n",
      "52              0.981344          0.981344      0.997436      SVM-rbf-scale-2  \n",
      "53              0.982020          0.982020      0.997559      SVM-rbf-scale-2  \n",
      "54              0.981749          0.981749      0.997491      SVM-rbf-scale-2  \n"
     ]
    },
    {
     "name": "stdout",
     "output_type": "stream",
     "text": [
      "SVM-sigmoid-scale-2\n",
      "              precision    recall  f1-score   support\n",
      "\n",
      "   malignant       0.39      0.41      0.40      6074\n",
      "      benign       0.39      0.36      0.38      6255\n",
      "\n",
      "    accuracy                           0.39     12329\n",
      "   macro avg       0.39      0.39      0.39     12329\n",
      "weighted avg       0.39      0.39      0.39     12329\n",
      "\n",
      "       fit_time  score_time  test_accuracy  test_precision_weighted  \\\n",
      "0    474.703279    0.231764       0.999865                 0.999865   \n",
      "1    920.929929    0.208705       0.999865                 0.999865   \n",
      "2    632.161245    0.203802       0.999730                 0.999730   \n",
      "3   1637.516020    0.201907       0.999594                 0.999595   \n",
      "4   1398.616823    0.203753       1.000000                 1.000000   \n",
      "5     13.460743    2.762037       0.977291                 0.977291   \n",
      "6     13.572238    2.786660       0.979995                 0.979995   \n",
      "7     13.418307    2.761515       0.981073                 0.981116   \n",
      "8     13.573882    2.784543       0.982020                 0.982025   \n",
      "9     13.699554    2.770624       0.979992                 0.979998   \n",
      "10    14.833680    6.793651       0.977021                 0.977041   \n",
      "11    15.043600    6.888264       0.980941                 0.980946   \n",
      "12    14.872991    7.117157       0.980803                 0.980809   \n",
      "13    14.983314    7.107197       0.981614                 0.981618   \n",
      "14    15.105929    7.104779       0.980262                 0.980262   \n",
      "15   133.526603   39.587106       0.379562                 0.379316   \n",
      "16   134.148040   39.846675       0.393890                 0.393819   \n",
      "17   134.132929   44.991010       0.382317                 0.382197   \n",
      "18   133.741816   39.227118       0.377856                 0.377690   \n",
      "19   134.322997   40.024840       0.383534                 0.383241   \n",
      "20   476.118018    0.194411       0.999865                 0.999865   \n",
      "21   920.168972    0.208676       0.999865                 0.999865   \n",
      "22   628.087092    0.202105       0.999730                 0.999730   \n",
      "23  1629.501627    0.204952       0.999594                 0.999595   \n",
      "24  1394.683571    0.208525       1.000000                 1.000000   \n",
      "25    13.309220    1.424211       0.992971                 0.992971   \n",
      "26    12.678396    1.316175       0.995539                 0.995540   \n",
      "27    13.654701    1.438084       0.994728                 0.994728   \n",
      "28    12.831859    1.318294       0.993376                 0.993376   \n",
      "29    14.487316    1.447009       0.995674                 0.995677   \n",
      "30   389.339639   48.630454       0.916869                 0.928701   \n",
      "31   359.415493   44.060253       0.917951                 0.929437   \n",
      "32   378.723853   44.174183       0.915236                 0.927668   \n",
      "33   387.981599   44.033376       0.924023                 0.933949   \n",
      "34   365.599238   45.198784       0.919832                 0.931071   \n",
      "35   132.836096   56.256240       0.499054                 0.249055   \n",
      "36   132.442004   56.109753       0.495945                 0.245961   \n",
      "37   132.998010   56.250076       0.493173                 0.243220   \n",
      "38   132.713551   56.071043       0.494390                 0.244421   \n",
      "39   132.957541   56.357404       0.491686                 0.241755   \n",
      "40   476.223666    0.191743       0.999865                 0.999865   \n",
      "41   915.962355    0.204279       0.999865                 0.999865   \n",
      "42   630.355835    0.199157       0.999730                 0.999730   \n",
      "43  1637.846390    0.201157       0.999594                 0.999595   \n",
      "44  1407.400365    0.202712       1.000000                 1.000000   \n",
      "45    11.418411    2.389380       0.978102                 0.978111   \n",
      "46    11.765273    2.466467       0.981752                 0.981752   \n",
      "47    11.357203    2.403920       0.982696                 0.982714   \n",
      "48    11.640410    2.429287       0.982696                 0.982698   \n",
      "49    11.546492    2.438059       0.982560                 0.982561   \n",
      "50    12.481438    5.867791       0.979048                 0.979074   \n",
      "51    12.824499    5.999897       0.981752                 0.981763   \n",
      "52    12.605095    5.922644       0.981344                 0.981345   \n",
      "53    12.679906    5.968443       0.982020                 0.982047   \n",
      "54    12.538949    5.968267       0.981749                 0.981758   \n",
      "55   133.578064   40.094959       0.379292                 0.379045   \n",
      "56   134.404323   39.015786       0.393755                 0.393690   \n",
      "57   134.516396   39.651787       0.382317                 0.382209   \n",
      "58   133.693218   38.925567       0.377450                 0.377292   \n",
      "59   134.621720   40.129090       0.383399                 0.383101   \n",
      "\n",
      "    test_recall_weighted  test_f1_weighted  test_roc_auc                model  \n",
      "0               0.999865          0.999865      1.000000   SVM-linear-scale-1  \n",
      "1               0.999865          0.999865      0.999732   SVM-linear-scale-1  \n",
      "2               0.999730          0.999730      1.000000   SVM-linear-scale-1  \n",
      "3               0.999594          0.999594      0.999200   SVM-linear-scale-1  \n",
      "4               1.000000          1.000000      1.000000   SVM-linear-scale-1  \n",
      "5               0.977291          0.977291      0.996609     SVM-poly-scale-1  \n",
      "6               0.979995          0.979995      0.997478     SVM-poly-scale-1  \n",
      "7               0.981073          0.981074      0.997541     SVM-poly-scale-1  \n",
      "8               0.982020          0.982019      0.997381     SVM-poly-scale-1  \n",
      "9               0.979992          0.979992      0.997233     SVM-poly-scale-1  \n",
      "10              0.977021          0.977021      0.996337      SVM-rbf-scale-1  \n",
      "11              0.980941          0.980941      0.997398      SVM-rbf-scale-1  \n",
      "12              0.980803          0.980803      0.997304      SVM-rbf-scale-1  \n",
      "13              0.981614          0.981614      0.997388      SVM-rbf-scale-1  \n",
      "14              0.980262          0.980262      0.997221      SVM-rbf-scale-1  \n",
      "15              0.379562          0.379199      0.313527  SVM-sigmoid-scale-1  \n",
      "16              0.393890          0.393525      0.328922  SVM-sigmoid-scale-1  \n",
      "17              0.382317          0.382243      0.319017  SVM-sigmoid-scale-1  \n",
      "18              0.377856          0.377239      0.306586  SVM-sigmoid-scale-1  \n",
      "19              0.383534          0.383338      0.320191  SVM-sigmoid-scale-1  \n",
      "20              0.999865          0.999865      1.000000    SVM-linear-auto-1  \n",
      "21              0.999865          0.999865      0.999732    SVM-linear-auto-1  \n",
      "22              0.999730          0.999730      1.000000    SVM-linear-auto-1  \n",
      "23              0.999594          0.999594      0.999200    SVM-linear-auto-1  \n",
      "24              1.000000          1.000000      1.000000    SVM-linear-auto-1  \n",
      "25              0.992971          0.992971      0.999208      SVM-poly-auto-1  \n",
      "26              0.995539          0.995539      0.999445      SVM-poly-auto-1  \n",
      "27              0.994728          0.994728      0.999651      SVM-poly-auto-1  \n",
      "28              0.993376          0.993376      0.998958      SVM-poly-auto-1  \n",
      "29              0.995674          0.995674      0.999593      SVM-poly-auto-1  \n",
      "30              0.916869          0.916278      0.930151       SVM-rbf-auto-1  \n",
      "31              0.917951          0.917339      0.930831       SVM-rbf-auto-1  \n",
      "32              0.915236          0.914722      0.928964       SVM-rbf-auto-1  \n",
      "33              0.924023          0.923516      0.934710       SVM-rbf-auto-1  \n",
      "34              0.919832          0.919422      0.933701       SVM-rbf-auto-1  \n",
      "35              0.499054          0.332283      0.500000   SVM-sigmoid-auto-1  \n",
      "36              0.495945          0.328837      0.500000   SVM-sigmoid-auto-1  \n",
      "37              0.493173          0.325775      0.500000   SVM-sigmoid-auto-1  \n",
      "38              0.494390          0.327118      0.500000   SVM-sigmoid-auto-1  \n",
      "39              0.491686          0.324137      0.500000   SVM-sigmoid-auto-1  \n",
      "40              0.999865          0.999865      1.000000   SVM-linear-scale-2  \n",
      "41              0.999865          0.999865      0.999732   SVM-linear-scale-2  \n",
      "42              0.999730          0.999730      1.000000   SVM-linear-scale-2  \n",
      "43              0.999594          0.999594      0.999200   SVM-linear-scale-2  \n",
      "44              1.000000          1.000000      1.000000   SVM-linear-scale-2  \n",
      "45              0.978102          0.978102      0.996924     SVM-poly-scale-2  \n",
      "46              0.981752          0.981752      0.997668     SVM-poly-scale-2  \n",
      "47              0.982696          0.982696      0.997671     SVM-poly-scale-2  \n",
      "48              0.982696          0.982696      0.997637     SVM-poly-scale-2  \n",
      "49              0.982560          0.982561      0.997467     SVM-poly-scale-2  \n",
      "50              0.979048          0.979048      0.996456      SVM-rbf-scale-2  \n",
      "51              0.981752          0.981752      0.997733      SVM-rbf-scale-2  \n",
      "52              0.981344          0.981344      0.997436      SVM-rbf-scale-2  \n",
      "53              0.982020          0.982020      0.997559      SVM-rbf-scale-2  \n",
      "54              0.981749          0.981749      0.997491      SVM-rbf-scale-2  \n",
      "55              0.379292          0.378929      0.312954  SVM-sigmoid-scale-2  \n",
      "56              0.393755          0.393402      0.328427  SVM-sigmoid-scale-2  \n",
      "57              0.382317          0.382251      0.318694  SVM-sigmoid-scale-2  \n",
      "58              0.377450          0.376849      0.306152  SVM-sigmoid-scale-2  \n",
      "59              0.383399          0.383199      0.319745  SVM-sigmoid-scale-2  \n"
     ]
    },
    {
     "name": "stdout",
     "output_type": "stream",
     "text": [
      "SVM-linear-auto-2\n",
      "              precision    recall  f1-score   support\n",
      "\n",
      "   malignant       1.00      1.00      1.00      6074\n",
      "      benign       1.00      1.00      1.00      6255\n",
      "\n",
      "    accuracy                           1.00     12329\n",
      "   macro avg       1.00      1.00      1.00     12329\n",
      "weighted avg       1.00      1.00      1.00     12329\n",
      "\n",
      "       fit_time  score_time  test_accuracy  test_precision_weighted  \\\n",
      "0    474.703279    0.231764       0.999865                 0.999865   \n",
      "1    920.929929    0.208705       0.999865                 0.999865   \n",
      "2    632.161245    0.203802       0.999730                 0.999730   \n",
      "3   1637.516020    0.201907       0.999594                 0.999595   \n",
      "4   1398.616823    0.203753       1.000000                 1.000000   \n",
      "..          ...         ...            ...                      ...   \n",
      "60   475.915840    0.191686       0.999865                 0.999865   \n",
      "61   919.015227    0.204312       0.999865                 0.999865   \n",
      "62   631.870168    0.199289       0.999730                 0.999730   \n",
      "63  1640.209635    0.202277       0.999594                 0.999595   \n",
      "64  1410.284034    0.203540       1.000000                 1.000000   \n",
      "\n",
      "    test_recall_weighted  test_f1_weighted  test_roc_auc               model  \n",
      "0               0.999865          0.999865      1.000000  SVM-linear-scale-1  \n",
      "1               0.999865          0.999865      0.999732  SVM-linear-scale-1  \n",
      "2               0.999730          0.999730      1.000000  SVM-linear-scale-1  \n",
      "3               0.999594          0.999594      0.999200  SVM-linear-scale-1  \n",
      "4               1.000000          1.000000      1.000000  SVM-linear-scale-1  \n",
      "..                   ...               ...           ...                 ...  \n",
      "60              0.999865          0.999865      1.000000   SVM-linear-auto-2  \n",
      "61              0.999865          0.999865      0.999732   SVM-linear-auto-2  \n",
      "62              0.999730          0.999730      1.000000   SVM-linear-auto-2  \n",
      "63              0.999594          0.999594      0.999200   SVM-linear-auto-2  \n",
      "64              1.000000          1.000000      1.000000   SVM-linear-auto-2  \n",
      "\n",
      "[65 rows x 8 columns]\n"
     ]
    },
    {
     "name": "stdout",
     "output_type": "stream",
     "text": [
      "SVM-poly-auto-2\n",
      "              precision    recall  f1-score   support\n",
      "\n",
      "   malignant       0.99      1.00      1.00      6074\n",
      "      benign       1.00      0.99      1.00      6255\n",
      "\n",
      "    accuracy                           1.00     12329\n",
      "   macro avg       1.00      1.00      1.00     12329\n",
      "weighted avg       1.00      1.00      1.00     12329\n",
      "\n",
      "       fit_time  score_time  test_accuracy  test_precision_weighted  \\\n",
      "0    474.703279    0.231764       0.999865                 0.999865   \n",
      "1    920.929929    0.208705       0.999865                 0.999865   \n",
      "2    632.161245    0.203802       0.999730                 0.999730   \n",
      "3   1637.516020    0.201907       0.999594                 0.999595   \n",
      "4   1398.616823    0.203753       1.000000                 1.000000   \n",
      "..          ...         ...            ...                      ...   \n",
      "65    12.565692    1.432043       0.992971                 0.992971   \n",
      "66    12.666676    1.329241       0.995539                 0.995540   \n",
      "67    13.677566    1.444024       0.994728                 0.994728   \n",
      "68    12.811439    1.333046       0.993376                 0.993376   \n",
      "69    14.440361    1.464148       0.995674                 0.995677   \n",
      "\n",
      "    test_recall_weighted  test_f1_weighted  test_roc_auc               model  \n",
      "0               0.999865          0.999865      1.000000  SVM-linear-scale-1  \n",
      "1               0.999865          0.999865      0.999732  SVM-linear-scale-1  \n",
      "2               0.999730          0.999730      1.000000  SVM-linear-scale-1  \n",
      "3               0.999594          0.999594      0.999200  SVM-linear-scale-1  \n",
      "4               1.000000          1.000000      1.000000  SVM-linear-scale-1  \n",
      "..                   ...               ...           ...                 ...  \n",
      "65              0.992971          0.992971      0.999208     SVM-poly-auto-2  \n",
      "66              0.995539          0.995539      0.999445     SVM-poly-auto-2  \n",
      "67              0.994728          0.994728      0.999651     SVM-poly-auto-2  \n",
      "68              0.993376          0.993376      0.998958     SVM-poly-auto-2  \n",
      "69              0.995674          0.995674      0.999593     SVM-poly-auto-2  \n",
      "\n",
      "[70 rows x 8 columns]\n"
     ]
    },
    {
     "name": "stdout",
     "output_type": "stream",
     "text": [
      "SVM-rbf-auto-2\n",
      "              precision    recall  f1-score   support\n",
      "\n",
      "   malignant       1.00      0.84      0.91      6074\n",
      "      benign       0.87      1.00      0.93      6255\n",
      "\n",
      "    accuracy                           0.92     12329\n",
      "   macro avg       0.93      0.92      0.92     12329\n",
      "weighted avg       0.93      0.92      0.92     12329\n",
      "\n",
      "       fit_time  score_time  test_accuracy  test_precision_weighted  \\\n",
      "0    474.703279    0.231764       0.999865                 0.999865   \n",
      "1    920.929929    0.208705       0.999865                 0.999865   \n",
      "2    632.161245    0.203802       0.999730                 0.999730   \n",
      "3   1637.516020    0.201907       0.999594                 0.999595   \n",
      "4   1398.616823    0.203753       1.000000                 1.000000   \n",
      "..          ...         ...            ...                      ...   \n",
      "70   443.477842   45.138802       0.916869                 0.928701   \n",
      "71   288.709212   46.560570       0.917951                 0.929437   \n",
      "72   452.297127   46.823217       0.915236                 0.927668   \n",
      "73   473.814530   45.396494       0.924023                 0.933949   \n",
      "74   424.438017   45.375118       0.919832                 0.931071   \n",
      "\n",
      "    test_recall_weighted  test_f1_weighted  test_roc_auc               model  \n",
      "0               0.999865          0.999865      1.000000  SVM-linear-scale-1  \n",
      "1               0.999865          0.999865      0.999732  SVM-linear-scale-1  \n",
      "2               0.999730          0.999730      1.000000  SVM-linear-scale-1  \n",
      "3               0.999594          0.999594      0.999200  SVM-linear-scale-1  \n",
      "4               1.000000          1.000000      1.000000  SVM-linear-scale-1  \n",
      "..                   ...               ...           ...                 ...  \n",
      "70              0.916869          0.916278      0.930151      SVM-rbf-auto-2  \n",
      "71              0.917951          0.917339      0.930831      SVM-rbf-auto-2  \n",
      "72              0.915236          0.914722      0.928964      SVM-rbf-auto-2  \n",
      "73              0.924023          0.923516      0.934710      SVM-rbf-auto-2  \n",
      "74              0.919832          0.919422      0.933701      SVM-rbf-auto-2  \n",
      "\n",
      "[75 rows x 8 columns]\n"
     ]
    },
    {
     "name": "stdout",
     "output_type": "stream",
     "text": [
      "SVM-sigmoid-auto-2\n",
      "              precision    recall  f1-score   support\n",
      "\n",
      "   malignant       0.49      1.00      0.66      6074\n",
      "      benign       0.00      0.00      0.00      6255\n",
      "\n",
      "    accuracy                           0.49     12329\n",
      "   macro avg       0.25      0.50      0.33     12329\n",
      "weighted avg       0.24      0.49      0.33     12329\n",
      "\n",
      "       fit_time  score_time  test_accuracy  test_precision_weighted  \\\n",
      "0    474.703279    0.231764       0.999865                 0.999865   \n",
      "1    920.929929    0.208705       0.999865                 0.999865   \n",
      "2    632.161245    0.203802       0.999730                 0.999730   \n",
      "3   1637.516020    0.201907       0.999594                 0.999595   \n",
      "4   1398.616823    0.203753       1.000000                 1.000000   \n",
      "..          ...         ...            ...                      ...   \n",
      "75   128.096670   56.260166       0.499054                 0.249055   \n",
      "76   128.067734   56.159942       0.495945                 0.245961   \n",
      "77   128.346476   56.369195       0.493173                 0.243220   \n",
      "78   128.206546   56.134385       0.494390                 0.244421   \n",
      "79   128.188074   56.198117       0.491686                 0.241755   \n",
      "\n",
      "    test_recall_weighted  test_f1_weighted  test_roc_auc               model  \n",
      "0               0.999865          0.999865      1.000000  SVM-linear-scale-1  \n",
      "1               0.999865          0.999865      0.999732  SVM-linear-scale-1  \n",
      "2               0.999730          0.999730      1.000000  SVM-linear-scale-1  \n",
      "3               0.999594          0.999594      0.999200  SVM-linear-scale-1  \n",
      "4               1.000000          1.000000      1.000000  SVM-linear-scale-1  \n",
      "..                   ...               ...           ...                 ...  \n",
      "75              0.499054          0.332283      0.500000  SVM-sigmoid-auto-2  \n",
      "76              0.495945          0.328837      0.500000  SVM-sigmoid-auto-2  \n",
      "77              0.493173          0.325775      0.500000  SVM-sigmoid-auto-2  \n",
      "78              0.494390          0.327118      0.500000  SVM-sigmoid-auto-2  \n",
      "79              0.491686          0.324137      0.500000  SVM-sigmoid-auto-2  \n",
      "\n",
      "[80 rows x 8 columns]\n",
      "34474.65489667654\n"
     ]
    }
   ],
   "source": [
    "## S5: Partially compromised (IoT + Laptop)\n",
    " \n",
    "df_malicious = pd.concat([df5,df35])\n",
    " \n",
    "df_benign = pd.concat([df14,df16,df18,df19,df20])\n",
    "\n",
    "print(\"malicious: {}\".format(len(df_malicious)))\n",
    "print(\"benign: {}\".format(len(df_benign)))\n",
    "\n",
    "print(\"{} NAN in malicious!\".format(len(df_malicious[df_malicious.isna().any(axis=1)])))\n",
    "print(\"{} NAN in benign!\".format(len(df_benign[df_benign.isna().any(axis=1)])))\n",
    "\n",
    "df_malicious = df_malicious.dropna()\n",
    "df_benign = df_benign.dropna()\n",
    "\n",
    "print(\"After droppping NAN rows: \")\n",
    "print(\"malicious: {}\".format(len(df_malicious)))\n",
    "print(\"benign: {}\".format(len(df_benign)))\n",
    "\n",
    "\n",
    "start = timer()\n",
    "\n",
    "results_all_combined_s0 = run_process(df_malicious,df_benign,df_results)\n",
    "\n",
    "end = timer()\n",
    "print(end - start)\n",
    "\n",
    "\n"
   ]
  },
  {
   "cell_type": "code",
   "execution_count": 9,
   "id": "c0a68e24",
   "metadata": {
    "execution": {
     "iopub.execute_input": "2025-08-10T00:40:31.018897Z",
     "iopub.status.busy": "2025-08-10T00:40:31.018514Z",
     "iopub.status.idle": "2025-08-10T00:51:48.433078Z",
     "shell.execute_reply": "2025-08-10T00:51:48.431861Z"
    },
    "scrolled": true
   },
   "outputs": [
    {
     "name": "stdout",
     "output_type": "stream",
     "text": [
      "malicious: 12871\n",
      "benign: 13746\n",
      "0 NAN in malicious!\n",
      "0 NAN in benign!\n",
      "After droppping NAN rows: \n",
      "malicious: 12871\n",
      "benign: 13746\n"
     ]
    },
    {
     "name": "stderr",
     "output_type": "stream",
     "text": [
      "\r",
      "Feature Extraction:   0%|          | 0/215 [00:00<?, ?it/s]"
     ]
    },
    {
     "name": "stderr",
     "output_type": "stream",
     "text": [
      "\r",
      "Feature Extraction:   0%|          | 1/215 [00:00<02:23,  1.49it/s]"
     ]
    },
    {
     "name": "stderr",
     "output_type": "stream",
     "text": [
      "\r",
      "Feature Extraction:   1%|▏         | 3/215 [00:00<00:48,  4.37it/s]"
     ]
    },
    {
     "name": "stderr",
     "output_type": "stream",
     "text": [
      "\r",
      "Feature Extraction:   4%|▎         | 8/215 [00:00<00:16, 12.22it/s]"
     ]
    },
    {
     "name": "stderr",
     "output_type": "stream",
     "text": [
      "\r",
      "Feature Extraction:   6%|▌         | 13/215 [00:01<00:10, 19.85it/s]"
     ]
    },
    {
     "name": "stderr",
     "output_type": "stream",
     "text": [
      "\r",
      "Feature Extraction:   8%|▊         | 17/215 [00:01<00:09, 21.65it/s]"
     ]
    },
    {
     "name": "stderr",
     "output_type": "stream",
     "text": [
      "\r",
      "Feature Extraction:  11%|█         | 24/215 [00:01<00:06, 31.25it/s]"
     ]
    },
    {
     "name": "stderr",
     "output_type": "stream",
     "text": [
      "\r",
      "Feature Extraction:  14%|█▍        | 30/215 [00:01<00:04, 37.96it/s]"
     ]
    },
    {
     "name": "stderr",
     "output_type": "stream",
     "text": [
      "\r",
      "Feature Extraction:  18%|█▊        | 39/215 [00:01<00:03, 50.52it/s]"
     ]
    },
    {
     "name": "stderr",
     "output_type": "stream",
     "text": [
      "\r",
      "Feature Extraction:  21%|██▏       | 46/215 [00:01<00:03, 52.32it/s]"
     ]
    },
    {
     "name": "stderr",
     "output_type": "stream",
     "text": [
      "\r",
      "Feature Extraction:  26%|██▌       | 55/215 [00:01<00:02, 60.80it/s]"
     ]
    },
    {
     "name": "stderr",
     "output_type": "stream",
     "text": [
      "\r",
      "Feature Extraction:  29%|██▉       | 63/215 [00:01<00:02, 64.87it/s]"
     ]
    },
    {
     "name": "stderr",
     "output_type": "stream",
     "text": [
      "\r",
      "Feature Extraction:  33%|███▎      | 71/215 [00:01<00:02, 68.07it/s]"
     ]
    },
    {
     "name": "stderr",
     "output_type": "stream",
     "text": [
      "\r",
      "Feature Extraction:  37%|███▋      | 79/215 [00:02<00:02, 53.45it/s]"
     ]
    },
    {
     "name": "stderr",
     "output_type": "stream",
     "text": [
      "\r",
      "Feature Extraction:  40%|████      | 86/215 [00:02<00:02, 49.61it/s]"
     ]
    },
    {
     "name": "stderr",
     "output_type": "stream",
     "text": [
      "\r",
      "Feature Extraction:  43%|████▎     | 92/215 [00:02<00:02, 44.13it/s]"
     ]
    },
    {
     "name": "stderr",
     "output_type": "stream",
     "text": [
      "\r",
      "Feature Extraction:  46%|████▌     | 98/215 [00:02<00:02, 43.71it/s]"
     ]
    },
    {
     "name": "stderr",
     "output_type": "stream",
     "text": [
      "\r",
      "Feature Extraction:  48%|████▊     | 104/215 [00:02<00:02, 46.15it/s]"
     ]
    },
    {
     "name": "stderr",
     "output_type": "stream",
     "text": [
      "\r",
      "Feature Extraction:  53%|█████▎    | 113/215 [00:02<00:01, 55.34it/s]"
     ]
    },
    {
     "name": "stderr",
     "output_type": "stream",
     "text": [
      "\r",
      "Feature Extraction:  55%|█████▌    | 119/215 [00:03<00:01, 54.94it/s]"
     ]
    },
    {
     "name": "stderr",
     "output_type": "stream",
     "text": [
      "\r",
      "Feature Extraction:  58%|█████▊    | 125/215 [00:03<00:01, 51.33it/s]"
     ]
    },
    {
     "name": "stderr",
     "output_type": "stream",
     "text": [
      "\r",
      "Feature Extraction:  61%|██████▏   | 132/215 [00:03<00:01, 54.97it/s]"
     ]
    },
    {
     "name": "stderr",
     "output_type": "stream",
     "text": [
      "\r",
      "Feature Extraction:  66%|██████▌   | 141/215 [00:03<00:01, 59.39it/s]"
     ]
    },
    {
     "name": "stderr",
     "output_type": "stream",
     "text": [
      "\r",
      "Feature Extraction:  69%|██████▉   | 149/215 [00:03<00:01, 60.11it/s]"
     ]
    },
    {
     "name": "stderr",
     "output_type": "stream",
     "text": [
      "\r",
      "Feature Extraction:  73%|███████▎  | 158/215 [00:03<00:00, 67.11it/s]"
     ]
    },
    {
     "name": "stderr",
     "output_type": "stream",
     "text": [
      "\r",
      "Feature Extraction:  78%|███████▊  | 168/215 [00:03<00:00, 62.97it/s]"
     ]
    },
    {
     "name": "stderr",
     "output_type": "stream",
     "text": [
      "\r",
      "Feature Extraction:  82%|████████▏ | 176/215 [00:03<00:00, 66.41it/s]"
     ]
    },
    {
     "name": "stderr",
     "output_type": "stream",
     "text": [
      "\r",
      "Feature Extraction:  85%|████████▌ | 183/215 [00:04<00:00, 61.49it/s]"
     ]
    },
    {
     "name": "stderr",
     "output_type": "stream",
     "text": [
      "\r",
      "Feature Extraction:  90%|████████▉ | 193/215 [00:04<00:00, 68.79it/s]"
     ]
    },
    {
     "name": "stderr",
     "output_type": "stream",
     "text": [
      "\r",
      "Feature Extraction:  96%|█████████▌| 206/215 [00:04<00:00, 84.36it/s]"
     ]
    },
    {
     "name": "stderr",
     "output_type": "stream",
     "text": [
      "\r",
      "Feature Extraction: 100%|██████████| 215/215 [00:04<00:00, 49.75it/s]"
     ]
    },
    {
     "name": "stderr",
     "output_type": "stream",
     "text": [
      "\n"
     ]
    },
    {
     "name": "stderr",
     "output_type": "stream",
     "text": [
      "\r",
      "Feature Extraction:   0%|          | 0/230 [00:00<?, ?it/s]"
     ]
    },
    {
     "name": "stderr",
     "output_type": "stream",
     "text": [
      "\r",
      "Feature Extraction:   0%|          | 1/230 [00:00<02:28,  1.54it/s]"
     ]
    },
    {
     "name": "stderr",
     "output_type": "stream",
     "text": [
      "\r",
      "Feature Extraction:   2%|▏         | 5/230 [00:00<00:27,  8.30it/s]"
     ]
    },
    {
     "name": "stderr",
     "output_type": "stream",
     "text": [
      "\r",
      "Feature Extraction:   5%|▌         | 12/230 [00:00<00:11, 19.30it/s]"
     ]
    },
    {
     "name": "stderr",
     "output_type": "stream",
     "text": [
      "\r",
      "Feature Extraction:  10%|▉         | 22/230 [00:01<00:05, 35.55it/s]"
     ]
    },
    {
     "name": "stderr",
     "output_type": "stream",
     "text": [
      "\r",
      "Feature Extraction:  13%|█▎        | 31/230 [00:01<00:04, 47.69it/s]"
     ]
    },
    {
     "name": "stderr",
     "output_type": "stream",
     "text": [
      "\r",
      "Feature Extraction:  17%|█▋        | 39/230 [00:01<00:03, 51.46it/s]"
     ]
    },
    {
     "name": "stderr",
     "output_type": "stream",
     "text": [
      "\r",
      "Feature Extraction:  20%|██        | 46/230 [00:01<00:03, 52.24it/s]"
     ]
    },
    {
     "name": "stderr",
     "output_type": "stream",
     "text": [
      "\r",
      "Feature Extraction:  23%|██▎       | 53/230 [00:01<00:03, 56.19it/s]"
     ]
    },
    {
     "name": "stderr",
     "output_type": "stream",
     "text": [
      "\r",
      "Feature Extraction:  26%|██▌       | 60/230 [00:01<00:03, 53.70it/s]"
     ]
    },
    {
     "name": "stderr",
     "output_type": "stream",
     "text": [
      "\r",
      "Feature Extraction:  30%|██▉       | 68/230 [00:01<00:02, 58.48it/s]"
     ]
    },
    {
     "name": "stderr",
     "output_type": "stream",
     "text": [
      "\r",
      "Feature Extraction:  33%|███▎      | 75/230 [00:01<00:02, 60.74it/s]"
     ]
    },
    {
     "name": "stderr",
     "output_type": "stream",
     "text": [
      "\r",
      "Feature Extraction:  36%|███▌      | 82/230 [00:01<00:02, 57.45it/s]"
     ]
    },
    {
     "name": "stderr",
     "output_type": "stream",
     "text": [
      "\r",
      "Feature Extraction:  39%|███▊      | 89/230 [00:02<00:02, 53.06it/s]"
     ]
    },
    {
     "name": "stderr",
     "output_type": "stream",
     "text": [
      "\r",
      "Feature Extraction:  43%|████▎     | 99/230 [00:02<00:02, 58.98it/s]"
     ]
    },
    {
     "name": "stderr",
     "output_type": "stream",
     "text": [
      "\r",
      "Feature Extraction:  47%|████▋     | 109/230 [00:02<00:01, 63.41it/s]"
     ]
    },
    {
     "name": "stderr",
     "output_type": "stream",
     "text": [
      "\r",
      "Feature Extraction:  50%|█████     | 116/230 [00:02<00:02, 56.76it/s]"
     ]
    },
    {
     "name": "stderr",
     "output_type": "stream",
     "text": [
      "\r",
      "Feature Extraction:  53%|█████▎    | 122/230 [00:02<00:02, 53.11it/s]"
     ]
    },
    {
     "name": "stderr",
     "output_type": "stream",
     "text": [
      "\r",
      "Feature Extraction:  56%|█████▌    | 128/230 [00:02<00:01, 51.82it/s]"
     ]
    },
    {
     "name": "stderr",
     "output_type": "stream",
     "text": [
      "\r",
      "Feature Extraction:  58%|█████▊    | 134/230 [00:02<00:01, 50.19it/s]"
     ]
    },
    {
     "name": "stderr",
     "output_type": "stream",
     "text": [
      "\r",
      "Feature Extraction:  62%|██████▏   | 142/230 [00:03<00:01, 55.39it/s]"
     ]
    },
    {
     "name": "stderr",
     "output_type": "stream",
     "text": [
      "\r",
      "Feature Extraction:  64%|██████▍   | 148/230 [00:03<00:01, 55.36it/s]"
     ]
    },
    {
     "name": "stderr",
     "output_type": "stream",
     "text": [
      "\r",
      "Feature Extraction:  67%|██████▋   | 154/230 [00:03<00:01, 53.50it/s]"
     ]
    },
    {
     "name": "stderr",
     "output_type": "stream",
     "text": [
      "\r",
      "Feature Extraction:  70%|███████   | 162/230 [00:03<00:01, 59.34it/s]"
     ]
    },
    {
     "name": "stderr",
     "output_type": "stream",
     "text": [
      "\r",
      "Feature Extraction:  73%|███████▎  | 169/230 [00:03<00:01, 40.85it/s]"
     ]
    },
    {
     "name": "stderr",
     "output_type": "stream",
     "text": [
      "\r",
      "Feature Extraction:  77%|███████▋  | 178/230 [00:03<00:01, 48.20it/s]"
     ]
    },
    {
     "name": "stderr",
     "output_type": "stream",
     "text": [
      "\r",
      "Feature Extraction:  82%|████████▏ | 188/230 [00:03<00:00, 59.00it/s]"
     ]
    },
    {
     "name": "stderr",
     "output_type": "stream",
     "text": [
      "\r",
      "Feature Extraction:  92%|█████████▏| 211/230 [00:04<00:00, 97.62it/s]"
     ]
    },
    {
     "name": "stderr",
     "output_type": "stream",
     "text": [
      "\r",
      "Feature Extraction:  97%|█████████▋| 223/230 [00:04<00:00, 88.08it/s]"
     ]
    },
    {
     "name": "stderr",
     "output_type": "stream",
     "text": [
      "\r",
      "Feature Extraction: 100%|██████████| 230/230 [00:04<00:00, 53.31it/s]"
     ]
    },
    {
     "name": "stderr",
     "output_type": "stream",
     "text": [
      "\n"
     ]
    },
    {
     "name": "stdout",
     "output_type": "stream",
     "text": [
      "let the ml starts\n"
     ]
    },
    {
     "name": "stdout",
     "output_type": "stream",
     "text": [
      "SVM-linear-scale-1\n",
      "              precision    recall  f1-score   support\n",
      "\n",
      "   malignant       0.96      0.94      0.95       363\n",
      "      benign       0.93      0.96      0.94       303\n",
      "\n",
      "    accuracy                           0.95       666\n",
      "   macro avg       0.94      0.95      0.95       666\n",
      "weighted avg       0.95      0.95      0.95       666\n",
      "\n",
      "    fit_time  score_time  test_accuracy  test_precision_weighted  \\\n",
      "0  31.697037    0.010542       0.937500                 0.937509   \n",
      "1   4.655328    0.009333       0.932500                 0.932638   \n",
      "2  33.379818    0.011406       0.924812                 0.925062   \n",
      "3  11.810299    0.009521       0.957393                 0.957428   \n",
      "4  15.267675    0.010364       0.927318                 0.927401   \n",
      "\n",
      "   test_recall_weighted  test_f1_weighted  test_roc_auc               model  \n",
      "0              0.937500          0.937451      0.979465  SVM-linear-scale-1  \n",
      "1              0.932500          0.932516      0.977339  SVM-linear-scale-1  \n",
      "2              0.924812          0.924844      0.968808  SVM-linear-scale-1  \n",
      "3              0.957393          0.957356      0.984137  SVM-linear-scale-1  \n",
      "4              0.927318          0.927307      0.973514  SVM-linear-scale-1  \n"
     ]
    },
    {
     "name": "stdout",
     "output_type": "stream",
     "text": [
      "SVM-poly-scale-1\n",
      "              precision    recall  f1-score   support\n",
      "\n",
      "   malignant       0.98      0.95      0.97       363\n",
      "      benign       0.95      0.97      0.96       303\n",
      "\n",
      "    accuracy                           0.96       666\n",
      "   macro avg       0.96      0.96      0.96       666\n",
      "weighted avg       0.96      0.96      0.96       666\n",
      "\n",
      "    fit_time  score_time  test_accuracy  test_precision_weighted  \\\n",
      "0  31.697037    0.010542       0.937500                 0.937509   \n",
      "1   4.655328    0.009333       0.932500                 0.932638   \n",
      "2  33.379818    0.011406       0.924812                 0.925062   \n",
      "3  11.810299    0.009521       0.957393                 0.957428   \n",
      "4  15.267675    0.010364       0.927318                 0.927401   \n",
      "5   0.070490    0.019481       0.925000                 0.925314   \n",
      "6   0.069929    0.018516       0.927500                 0.927525   \n",
      "7   0.070776    0.018861       0.947368                 0.947428   \n",
      "8   0.069981    0.018647       0.954887                 0.954974   \n",
      "9   0.067633    0.024211       0.919799                 0.919948   \n",
      "\n",
      "   test_recall_weighted  test_f1_weighted  test_roc_auc               model  \n",
      "0              0.937500          0.937451      0.979465  SVM-linear-scale-1  \n",
      "1              0.932500          0.932516      0.977339  SVM-linear-scale-1  \n",
      "2              0.924812          0.924844      0.968808  SVM-linear-scale-1  \n",
      "3              0.957393          0.957356      0.984137  SVM-linear-scale-1  \n",
      "4              0.927318          0.927307      0.973514  SVM-linear-scale-1  \n",
      "5              0.925000          0.925064      0.981912    SVM-poly-scale-1  \n",
      "6              0.927500          0.927507      0.967398    SVM-poly-scale-1  \n",
      "7              0.947368          0.947345      0.985689    SVM-poly-scale-1  \n",
      "8              0.954887          0.954833      0.981545    SVM-poly-scale-1  \n",
      "9              0.919799          0.919781      0.958310    SVM-poly-scale-1  \n"
     ]
    },
    {
     "name": "stdout",
     "output_type": "stream",
     "text": [
      "SVM-rbf-scale-1\n",
      "              precision    recall  f1-score   support\n",
      "\n",
      "   malignant       0.95      0.92      0.93       363\n",
      "      benign       0.91      0.94      0.92       303\n",
      "\n",
      "    accuracy                           0.93       666\n",
      "   macro avg       0.93      0.93      0.93       666\n",
      "weighted avg       0.93      0.93      0.93       666\n",
      "\n",
      "     fit_time  score_time  test_accuracy  test_precision_weighted  \\\n",
      "0   31.697037    0.010542       0.937500                 0.937509   \n",
      "1    4.655328    0.009333       0.932500                 0.932638   \n",
      "2   33.379818    0.011406       0.924812                 0.925062   \n",
      "3   11.810299    0.009521       0.957393                 0.957428   \n",
      "4   15.267675    0.010364       0.927318                 0.927401   \n",
      "5    0.070490    0.019481       0.925000                 0.925314   \n",
      "6    0.069929    0.018516       0.927500                 0.927525   \n",
      "7    0.070776    0.018861       0.947368                 0.947428   \n",
      "8    0.069981    0.018647       0.954887                 0.954974   \n",
      "9    0.067633    0.024211       0.919799                 0.919948   \n",
      "10   0.072356    0.065442       0.907500                 0.907536   \n",
      "11   0.074339    0.061236       0.917500                 0.917494   \n",
      "12   0.075128    0.064879       0.929825                 0.929825   \n",
      "13   0.073951    0.062633       0.932331                 0.932788   \n",
      "14   0.070808    0.060380       0.889724                 0.889909   \n",
      "\n",
      "    test_recall_weighted  test_f1_weighted  test_roc_auc               model  \n",
      "0               0.937500          0.937451      0.979465  SVM-linear-scale-1  \n",
      "1               0.932500          0.932516      0.977339  SVM-linear-scale-1  \n",
      "2               0.924812          0.924844      0.968808  SVM-linear-scale-1  \n",
      "3               0.957393          0.957356      0.984137  SVM-linear-scale-1  \n",
      "4               0.927318          0.927307      0.973514  SVM-linear-scale-1  \n",
      "5               0.925000          0.925064      0.981912    SVM-poly-scale-1  \n",
      "6               0.927500          0.927507      0.967398    SVM-poly-scale-1  \n",
      "7               0.947368          0.947345      0.985689    SVM-poly-scale-1  \n",
      "8               0.954887          0.954833      0.981545    SVM-poly-scale-1  \n",
      "9               0.919799          0.919781      0.958310    SVM-poly-scale-1  \n",
      "10              0.907500          0.907374      0.975302     SVM-rbf-scale-1  \n",
      "11              0.917500          0.917491      0.965920     SVM-rbf-scale-1  \n",
      "12              0.929825          0.929825      0.981985     SVM-rbf-scale-1  \n",
      "13              0.932331          0.932412      0.981494     SVM-rbf-scale-1  \n",
      "14              0.889724          0.889727      0.959994     SVM-rbf-scale-1  \n"
     ]
    },
    {
     "name": "stdout",
     "output_type": "stream",
     "text": [
      "SVM-sigmoid-scale-1\n",
      "              precision    recall  f1-score   support\n",
      "\n",
      "   malignant       0.69      0.61      0.65       363\n",
      "      benign       0.59      0.67      0.63       303\n",
      "\n",
      "    accuracy                           0.64       666\n",
      "   macro avg       0.64      0.64      0.64       666\n",
      "weighted avg       0.64      0.64      0.64       666\n",
      "\n",
      "     fit_time  score_time  test_accuracy  test_precision_weighted  \\\n",
      "0   31.697037    0.010542       0.937500                 0.937509   \n",
      "1    4.655328    0.009333       0.932500                 0.932638   \n",
      "2   33.379818    0.011406       0.924812                 0.925062   \n",
      "3   11.810299    0.009521       0.957393                 0.957428   \n",
      "4   15.267675    0.010364       0.927318                 0.927401   \n",
      "5    0.070490    0.019481       0.925000                 0.925314   \n",
      "6    0.069929    0.018516       0.927500                 0.927525   \n",
      "7    0.070776    0.018861       0.947368                 0.947428   \n",
      "8    0.069981    0.018647       0.954887                 0.954974   \n",
      "9    0.067633    0.024211       0.919799                 0.919948   \n",
      "10   0.072356    0.065442       0.907500                 0.907536   \n",
      "11   0.074339    0.061236       0.917500                 0.917494   \n",
      "12   0.075128    0.064879       0.929825                 0.929825   \n",
      "13   0.073951    0.062633       0.932331                 0.932788   \n",
      "14   0.070808    0.060380       0.889724                 0.889909   \n",
      "15   0.097817    0.042976       0.642500                 0.650440   \n",
      "16   0.098080    0.043043       0.660000                 0.659880   \n",
      "17   0.100458    0.044179       0.681704                 0.681625   \n",
      "18   0.094179    0.041611       0.621554                 0.634270   \n",
      "19   0.097811    0.042131       0.719298                 0.720436   \n",
      "\n",
      "    test_recall_weighted  test_f1_weighted  test_roc_auc                model  \n",
      "0               0.937500          0.937451      0.979465   SVM-linear-scale-1  \n",
      "1               0.932500          0.932516      0.977339   SVM-linear-scale-1  \n",
      "2               0.924812          0.924844      0.968808   SVM-linear-scale-1  \n",
      "3               0.957393          0.957356      0.984137   SVM-linear-scale-1  \n",
      "4               0.927318          0.927307      0.973514   SVM-linear-scale-1  \n",
      "5               0.925000          0.925064      0.981912     SVM-poly-scale-1  \n",
      "6               0.927500          0.927507      0.967398     SVM-poly-scale-1  \n",
      "7               0.947368          0.947345      0.985689     SVM-poly-scale-1  \n",
      "8               0.954887          0.954833      0.981545     SVM-poly-scale-1  \n",
      "9               0.919799          0.919781      0.958310     SVM-poly-scale-1  \n",
      "10              0.907500          0.907374      0.975302      SVM-rbf-scale-1  \n",
      "11              0.917500          0.917491      0.965920      SVM-rbf-scale-1  \n",
      "12              0.929825          0.929825      0.981985      SVM-rbf-scale-1  \n",
      "13              0.932331          0.932412      0.981494      SVM-rbf-scale-1  \n",
      "14              0.889724          0.889727      0.959994      SVM-rbf-scale-1  \n",
      "15              0.642500          0.643083      0.708646  SVM-sigmoid-scale-1  \n",
      "16              0.660000          0.659923      0.758839  SVM-sigmoid-scale-1  \n",
      "17              0.681704          0.681660      0.761224  SVM-sigmoid-scale-1  \n",
      "18              0.621554          0.621925      0.743098  SVM-sigmoid-scale-1  \n",
      "19              0.719298          0.718704      0.773483  SVM-sigmoid-scale-1  \n"
     ]
    },
    {
     "name": "stdout",
     "output_type": "stream",
     "text": [
      "SVM-linear-auto-1\n",
      "              precision    recall  f1-score   support\n",
      "\n",
      "   malignant       0.96      0.94      0.95       363\n",
      "      benign       0.93      0.96      0.94       303\n",
      "\n",
      "    accuracy                           0.95       666\n",
      "   macro avg       0.94      0.95      0.95       666\n",
      "weighted avg       0.95      0.95      0.95       666\n",
      "\n",
      "     fit_time  score_time  test_accuracy  test_precision_weighted  \\\n",
      "0   31.697037    0.010542       0.937500                 0.937509   \n",
      "1    4.655328    0.009333       0.932500                 0.932638   \n",
      "2   33.379818    0.011406       0.924812                 0.925062   \n",
      "3   11.810299    0.009521       0.957393                 0.957428   \n",
      "4   15.267675    0.010364       0.927318                 0.927401   \n",
      "5    0.070490    0.019481       0.925000                 0.925314   \n",
      "6    0.069929    0.018516       0.927500                 0.927525   \n",
      "7    0.070776    0.018861       0.947368                 0.947428   \n",
      "8    0.069981    0.018647       0.954887                 0.954974   \n",
      "9    0.067633    0.024211       0.919799                 0.919948   \n",
      "10   0.072356    0.065442       0.907500                 0.907536   \n",
      "11   0.074339    0.061236       0.917500                 0.917494   \n",
      "12   0.075128    0.064879       0.929825                 0.929825   \n",
      "13   0.073951    0.062633       0.932331                 0.932788   \n",
      "14   0.070808    0.060380       0.889724                 0.889909   \n",
      "15   0.097817    0.042976       0.642500                 0.650440   \n",
      "16   0.098080    0.043043       0.660000                 0.659880   \n",
      "17   0.100458    0.044179       0.681704                 0.681625   \n",
      "18   0.094179    0.041611       0.621554                 0.634270   \n",
      "19   0.097811    0.042131       0.719298                 0.720436   \n",
      "20  31.621242    0.010698       0.937500                 0.937509   \n",
      "21   4.473465    0.009089       0.932500                 0.932638   \n",
      "22  33.544746    0.010415       0.924812                 0.925062   \n",
      "23  11.811532    0.009226       0.957393                 0.957428   \n",
      "24  15.319691    0.009700       0.927318                 0.927401   \n",
      "\n",
      "    test_recall_weighted  test_f1_weighted  test_roc_auc                model  \n",
      "0               0.937500          0.937451      0.979465   SVM-linear-scale-1  \n",
      "1               0.932500          0.932516      0.977339   SVM-linear-scale-1  \n",
      "2               0.924812          0.924844      0.968808   SVM-linear-scale-1  \n",
      "3               0.957393          0.957356      0.984137   SVM-linear-scale-1  \n",
      "4               0.927318          0.927307      0.973514   SVM-linear-scale-1  \n",
      "5               0.925000          0.925064      0.981912     SVM-poly-scale-1  \n",
      "6               0.927500          0.927507      0.967398     SVM-poly-scale-1  \n",
      "7               0.947368          0.947345      0.985689     SVM-poly-scale-1  \n",
      "8               0.954887          0.954833      0.981545     SVM-poly-scale-1  \n",
      "9               0.919799          0.919781      0.958310     SVM-poly-scale-1  \n",
      "10              0.907500          0.907374      0.975302      SVM-rbf-scale-1  \n",
      "11              0.917500          0.917491      0.965920      SVM-rbf-scale-1  \n",
      "12              0.929825          0.929825      0.981985      SVM-rbf-scale-1  \n",
      "13              0.932331          0.932412      0.981494      SVM-rbf-scale-1  \n",
      "14              0.889724          0.889727      0.959994      SVM-rbf-scale-1  \n",
      "15              0.642500          0.643083      0.708646  SVM-sigmoid-scale-1  \n",
      "16              0.660000          0.659923      0.758839  SVM-sigmoid-scale-1  \n",
      "17              0.681704          0.681660      0.761224  SVM-sigmoid-scale-1  \n",
      "18              0.621554          0.621925      0.743098  SVM-sigmoid-scale-1  \n",
      "19              0.719298          0.718704      0.773483  SVM-sigmoid-scale-1  \n",
      "20              0.937500          0.937451      0.979465    SVM-linear-auto-1  \n",
      "21              0.932500          0.932516      0.977339    SVM-linear-auto-1  \n",
      "22              0.924812          0.924844      0.968808    SVM-linear-auto-1  \n",
      "23              0.957393          0.957356      0.984137    SVM-linear-auto-1  \n",
      "24              0.927318          0.927307      0.973514    SVM-linear-auto-1  \n"
     ]
    },
    {
     "name": "stdout",
     "output_type": "stream",
     "text": [
      "SVM-poly-auto-1\n",
      "              precision    recall  f1-score   support\n",
      "\n",
      "   malignant       0.97      0.92      0.94       363\n",
      "      benign       0.91      0.96      0.94       303\n",
      "\n",
      "    accuracy                           0.94       666\n",
      "   macro avg       0.94      0.94      0.94       666\n",
      "weighted avg       0.94      0.94      0.94       666\n",
      "\n",
      "     fit_time  score_time  test_accuracy  test_precision_weighted  \\\n",
      "0   31.697037    0.010542       0.937500                 0.937509   \n",
      "1    4.655328    0.009333       0.932500                 0.932638   \n",
      "2   33.379818    0.011406       0.924812                 0.925062   \n",
      "3   11.810299    0.009521       0.957393                 0.957428   \n",
      "4   15.267675    0.010364       0.927318                 0.927401   \n",
      "5    0.070490    0.019481       0.925000                 0.925314   \n",
      "6    0.069929    0.018516       0.927500                 0.927525   \n",
      "7    0.070776    0.018861       0.947368                 0.947428   \n",
      "8    0.069981    0.018647       0.954887                 0.954974   \n",
      "9    0.067633    0.024211       0.919799                 0.919948   \n",
      "10   0.072356    0.065442       0.907500                 0.907536   \n",
      "11   0.074339    0.061236       0.917500                 0.917494   \n",
      "12   0.075128    0.064879       0.929825                 0.929825   \n",
      "13   0.073951    0.062633       0.932331                 0.932788   \n",
      "14   0.070808    0.060380       0.889724                 0.889909   \n",
      "15   0.097817    0.042976       0.642500                 0.650440   \n",
      "16   0.098080    0.043043       0.660000                 0.659880   \n",
      "17   0.100458    0.044179       0.681704                 0.681625   \n",
      "18   0.094179    0.041611       0.621554                 0.634270   \n",
      "19   0.097811    0.042131       0.719298                 0.720436   \n",
      "20  31.621242    0.010698       0.937500                 0.937509   \n",
      "21   4.473465    0.009089       0.932500                 0.932638   \n",
      "22  33.544746    0.010415       0.924812                 0.925062   \n",
      "23  11.811532    0.009226       0.957393                 0.957428   \n",
      "24  15.319691    0.009700       0.927318                 0.927401   \n",
      "25   0.069144    0.016337       0.917500                 0.918701   \n",
      "26   0.065224    0.016130       0.925000                 0.925920   \n",
      "27   0.079283    0.016119       0.957393                 0.957416   \n",
      "28   0.078309    0.016387       0.937343                 0.937320   \n",
      "29   0.063858    0.015412       0.919799                 0.919988   \n",
      "\n",
      "    test_recall_weighted  test_f1_weighted  test_roc_auc                model  \n",
      "0               0.937500          0.937451      0.979465   SVM-linear-scale-1  \n",
      "1               0.932500          0.932516      0.977339   SVM-linear-scale-1  \n",
      "2               0.924812          0.924844      0.968808   SVM-linear-scale-1  \n",
      "3               0.957393          0.957356      0.984137   SVM-linear-scale-1  \n",
      "4               0.927318          0.927307      0.973514   SVM-linear-scale-1  \n",
      "5               0.925000          0.925064      0.981912     SVM-poly-scale-1  \n",
      "6               0.927500          0.927507      0.967398     SVM-poly-scale-1  \n",
      "7               0.947368          0.947345      0.985689     SVM-poly-scale-1  \n",
      "8               0.954887          0.954833      0.981545     SVM-poly-scale-1  \n",
      "9               0.919799          0.919781      0.958310     SVM-poly-scale-1  \n",
      "10              0.907500          0.907374      0.975302      SVM-rbf-scale-1  \n",
      "11              0.917500          0.917491      0.965920      SVM-rbf-scale-1  \n",
      "12              0.929825          0.929825      0.981985      SVM-rbf-scale-1  \n",
      "13              0.932331          0.932412      0.981494      SVM-rbf-scale-1  \n",
      "14              0.889724          0.889727      0.959994      SVM-rbf-scale-1  \n",
      "15              0.642500          0.643083      0.708646  SVM-sigmoid-scale-1  \n",
      "16              0.660000          0.659923      0.758839  SVM-sigmoid-scale-1  \n",
      "17              0.681704          0.681660      0.761224  SVM-sigmoid-scale-1  \n",
      "18              0.621554          0.621925      0.743098  SVM-sigmoid-scale-1  \n",
      "19              0.719298          0.718704      0.773483  SVM-sigmoid-scale-1  \n",
      "20              0.937500          0.937451      0.979465    SVM-linear-auto-1  \n",
      "21              0.932500          0.932516      0.977339    SVM-linear-auto-1  \n",
      "22              0.924812          0.924844      0.968808    SVM-linear-auto-1  \n",
      "23              0.957393          0.957356      0.984137    SVM-linear-auto-1  \n",
      "24              0.927318          0.927307      0.973514    SVM-linear-auto-1  \n",
      "25              0.917500          0.917635      0.975226      SVM-poly-auto-1  \n",
      "26              0.925000          0.924878      0.967673      SVM-poly-auto-1  \n",
      "27              0.957393          0.957399      0.984329      SVM-poly-auto-1  \n",
      "28              0.937343          0.937326      0.979155      SVM-poly-auto-1  \n",
      "29              0.919799          0.919802      0.961527      SVM-poly-auto-1  \n"
     ]
    },
    {
     "name": "stdout",
     "output_type": "stream",
     "text": [
      "SVM-rbf-auto-1\n",
      "              precision    recall  f1-score   support\n",
      "\n",
      "   malignant       0.61      1.00      0.76       363\n",
      "      benign       1.00      0.24      0.39       303\n",
      "\n",
      "    accuracy                           0.66       666\n",
      "   macro avg       0.81      0.62      0.58       666\n",
      "weighted avg       0.79      0.66      0.59       666\n",
      "\n",
      "     fit_time  score_time  test_accuracy  test_precision_weighted  \\\n",
      "0   31.697037    0.010542       0.937500                 0.937509   \n",
      "1    4.655328    0.009333       0.932500                 0.932638   \n",
      "2   33.379818    0.011406       0.924812                 0.925062   \n",
      "3   11.810299    0.009521       0.957393                 0.957428   \n",
      "4   15.267675    0.010364       0.927318                 0.927401   \n",
      "5    0.070490    0.019481       0.925000                 0.925314   \n",
      "6    0.069929    0.018516       0.927500                 0.927525   \n",
      "7    0.070776    0.018861       0.947368                 0.947428   \n",
      "8    0.069981    0.018647       0.954887                 0.954974   \n",
      "9    0.067633    0.024211       0.919799                 0.919948   \n",
      "10   0.072356    0.065442       0.907500                 0.907536   \n",
      "11   0.074339    0.061236       0.917500                 0.917494   \n",
      "12   0.075128    0.064879       0.929825                 0.929825   \n",
      "13   0.073951    0.062633       0.932331                 0.932788   \n",
      "14   0.070808    0.060380       0.889724                 0.889909   \n",
      "15   0.097817    0.042976       0.642500                 0.650440   \n",
      "16   0.098080    0.043043       0.660000                 0.659880   \n",
      "17   0.100458    0.044179       0.681704                 0.681625   \n",
      "18   0.094179    0.041611       0.621554                 0.634270   \n",
      "19   0.097811    0.042131       0.719298                 0.720436   \n",
      "20  31.621242    0.010698       0.937500                 0.937509   \n",
      "21   4.473465    0.009089       0.932500                 0.932638   \n",
      "22  33.544746    0.010415       0.924812                 0.925062   \n",
      "23  11.811532    0.009226       0.957393                 0.957428   \n",
      "24  15.319691    0.009700       0.927318                 0.927401   \n",
      "25   0.069144    0.016337       0.917500                 0.918701   \n",
      "26   0.065224    0.016130       0.925000                 0.925920   \n",
      "27   0.079283    0.016119       0.957393                 0.957416   \n",
      "28   0.078309    0.016387       0.937343                 0.937320   \n",
      "29   0.063858    0.015412       0.919799                 0.919988   \n",
      "30   0.196055    0.181594       0.655000                 0.788361   \n",
      "31   0.197652    0.181465       0.670000                 0.798118   \n",
      "32   0.198548    0.181167       0.661654                 0.794050   \n",
      "33   0.198063    0.180687       0.601504                 0.789518   \n",
      "34   0.194094    0.178345       0.619048                 0.784964   \n",
      "\n",
      "    test_recall_weighted  test_f1_weighted  test_roc_auc                model  \n",
      "0               0.937500          0.937451      0.979465   SVM-linear-scale-1  \n",
      "1               0.932500          0.932516      0.977339   SVM-linear-scale-1  \n",
      "2               0.924812          0.924844      0.968808   SVM-linear-scale-1  \n",
      "3               0.957393          0.957356      0.984137   SVM-linear-scale-1  \n",
      "4               0.927318          0.927307      0.973514   SVM-linear-scale-1  \n",
      "5               0.925000          0.925064      0.981912     SVM-poly-scale-1  \n",
      "6               0.927500          0.927507      0.967398     SVM-poly-scale-1  \n",
      "7               0.947368          0.947345      0.985689     SVM-poly-scale-1  \n",
      "8               0.954887          0.954833      0.981545     SVM-poly-scale-1  \n",
      "9               0.919799          0.919781      0.958310     SVM-poly-scale-1  \n",
      "10              0.907500          0.907374      0.975302      SVM-rbf-scale-1  \n",
      "11              0.917500          0.917491      0.965920      SVM-rbf-scale-1  \n",
      "12              0.929825          0.929825      0.981985      SVM-rbf-scale-1  \n",
      "13              0.932331          0.932412      0.981494      SVM-rbf-scale-1  \n",
      "14              0.889724          0.889727      0.959994      SVM-rbf-scale-1  \n",
      "15              0.642500          0.643083      0.708646  SVM-sigmoid-scale-1  \n",
      "16              0.660000          0.659923      0.758839  SVM-sigmoid-scale-1  \n",
      "17              0.681704          0.681660      0.761224  SVM-sigmoid-scale-1  \n",
      "18              0.621554          0.621925      0.743098  SVM-sigmoid-scale-1  \n",
      "19              0.719298          0.718704      0.773483  SVM-sigmoid-scale-1  \n",
      "20              0.937500          0.937451      0.979465    SVM-linear-auto-1  \n",
      "21              0.932500          0.932516      0.977339    SVM-linear-auto-1  \n",
      "22              0.924812          0.924844      0.968808    SVM-linear-auto-1  \n",
      "23              0.957393          0.957356      0.984137    SVM-linear-auto-1  \n",
      "24              0.927318          0.927307      0.973514    SVM-linear-auto-1  \n",
      "25              0.917500          0.917635      0.975226      SVM-poly-auto-1  \n",
      "26              0.925000          0.924878      0.967673      SVM-poly-auto-1  \n",
      "27              0.957393          0.957399      0.984329      SVM-poly-auto-1  \n",
      "28              0.937343          0.937326      0.979155      SVM-poly-auto-1  \n",
      "29              0.919799          0.919802      0.961527      SVM-poly-auto-1  \n",
      "30              0.655000          0.590056      0.639673       SVM-rbf-auto-1  \n",
      "31              0.670000          0.623316      0.673615       SVM-rbf-auto-1  \n",
      "32              0.661654          0.608819      0.659864       SVM-rbf-auto-1  \n",
      "33              0.601504          0.551074      0.650376       SVM-rbf-auto-1  \n",
      "34              0.619048          0.557184      0.639041       SVM-rbf-auto-1  \n"
     ]
    },
    {
     "name": "stdout",
     "output_type": "stream",
     "text": [
      "SVM-sigmoid-auto-1\n",
      "              precision    recall  f1-score   support\n",
      "\n",
      "   malignant       0.55      1.00      0.71       363\n",
      "      benign       0.00      0.00      0.00       303\n",
      "\n",
      "    accuracy                           0.55       666\n",
      "   macro avg       0.27      0.50      0.35       666\n",
      "weighted avg       0.30      0.55      0.38       666\n",
      "\n",
      "     fit_time  score_time  test_accuracy  test_precision_weighted  \\\n",
      "0   31.697037    0.010542       0.937500                 0.937509   \n",
      "1    4.655328    0.009333       0.932500                 0.932638   \n",
      "2   33.379818    0.011406       0.924812                 0.925062   \n",
      "3   11.810299    0.009521       0.957393                 0.957428   \n",
      "4   15.267675    0.010364       0.927318                 0.927401   \n",
      "5    0.070490    0.019481       0.925000                 0.925314   \n",
      "6    0.069929    0.018516       0.927500                 0.927525   \n",
      "7    0.070776    0.018861       0.947368                 0.947428   \n",
      "8    0.069981    0.018647       0.954887                 0.954974   \n",
      "9    0.067633    0.024211       0.919799                 0.919948   \n",
      "10   0.072356    0.065442       0.907500                 0.907536   \n",
      "11   0.074339    0.061236       0.917500                 0.917494   \n",
      "12   0.075128    0.064879       0.929825                 0.929825   \n",
      "13   0.073951    0.062633       0.932331                 0.932788   \n",
      "14   0.070808    0.060380       0.889724                 0.889909   \n",
      "15   0.097817    0.042976       0.642500                 0.650440   \n",
      "16   0.098080    0.043043       0.660000                 0.659880   \n",
      "17   0.100458    0.044179       0.681704                 0.681625   \n",
      "18   0.094179    0.041611       0.621554                 0.634270   \n",
      "19   0.097811    0.042131       0.719298                 0.720436   \n",
      "20  31.621242    0.010698       0.937500                 0.937509   \n",
      "21   4.473465    0.009089       0.932500                 0.932638   \n",
      "22  33.544746    0.010415       0.924812                 0.925062   \n",
      "23  11.811532    0.009226       0.957393                 0.957428   \n",
      "24  15.319691    0.009700       0.927318                 0.927401   \n",
      "25   0.069144    0.016337       0.917500                 0.918701   \n",
      "26   0.065224    0.016130       0.925000                 0.925920   \n",
      "27   0.079283    0.016119       0.957393                 0.957416   \n",
      "28   0.078309    0.016387       0.937343                 0.937320   \n",
      "29   0.063858    0.015412       0.919799                 0.919988   \n",
      "30   0.196055    0.181594       0.655000                 0.788361   \n",
      "31   0.197652    0.181465       0.670000                 0.798118   \n",
      "32   0.198548    0.181167       0.661654                 0.794050   \n",
      "33   0.198063    0.180687       0.601504                 0.789518   \n",
      "34   0.194094    0.178345       0.619048                 0.784964   \n",
      "35   0.178051    0.080768       0.452500                 0.204756   \n",
      "36   0.176761    0.080540       0.520000                 0.270400   \n",
      "37   0.177819    0.080657       0.526316                 0.277008   \n",
      "38   0.171205    0.077671       0.446115                 0.199019   \n",
      "39   0.173919    0.079389       0.493734                 0.243774   \n",
      "\n",
      "    test_recall_weighted  test_f1_weighted  test_roc_auc                model  \n",
      "0               0.937500          0.937451      0.979465   SVM-linear-scale-1  \n",
      "1               0.932500          0.932516      0.977339   SVM-linear-scale-1  \n",
      "2               0.924812          0.924844      0.968808   SVM-linear-scale-1  \n",
      "3               0.957393          0.957356      0.984137   SVM-linear-scale-1  \n",
      "4               0.927318          0.927307      0.973514   SVM-linear-scale-1  \n",
      "5               0.925000          0.925064      0.981912     SVM-poly-scale-1  \n",
      "6               0.927500          0.927507      0.967398     SVM-poly-scale-1  \n",
      "7               0.947368          0.947345      0.985689     SVM-poly-scale-1  \n",
      "8               0.954887          0.954833      0.981545     SVM-poly-scale-1  \n",
      "9               0.919799          0.919781      0.958310     SVM-poly-scale-1  \n",
      "10              0.907500          0.907374      0.975302      SVM-rbf-scale-1  \n",
      "11              0.917500          0.917491      0.965920      SVM-rbf-scale-1  \n",
      "12              0.929825          0.929825      0.981985      SVM-rbf-scale-1  \n",
      "13              0.932331          0.932412      0.981494      SVM-rbf-scale-1  \n",
      "14              0.889724          0.889727      0.959994      SVM-rbf-scale-1  \n",
      "15              0.642500          0.643083      0.708646  SVM-sigmoid-scale-1  \n",
      "16              0.660000          0.659923      0.758839  SVM-sigmoid-scale-1  \n",
      "17              0.681704          0.681660      0.761224  SVM-sigmoid-scale-1  \n",
      "18              0.621554          0.621925      0.743098  SVM-sigmoid-scale-1  \n",
      "19              0.719298          0.718704      0.773483  SVM-sigmoid-scale-1  \n",
      "20              0.937500          0.937451      0.979465    SVM-linear-auto-1  \n",
      "21              0.932500          0.932516      0.977339    SVM-linear-auto-1  \n",
      "22              0.924812          0.924844      0.968808    SVM-linear-auto-1  \n",
      "23              0.957393          0.957356      0.984137    SVM-linear-auto-1  \n",
      "24              0.927318          0.927307      0.973514    SVM-linear-auto-1  \n",
      "25              0.917500          0.917635      0.975226      SVM-poly-auto-1  \n",
      "26              0.925000          0.924878      0.967673      SVM-poly-auto-1  \n",
      "27              0.957393          0.957399      0.984329      SVM-poly-auto-1  \n",
      "28              0.937343          0.937326      0.979155      SVM-poly-auto-1  \n",
      "29              0.919799          0.919802      0.961527      SVM-poly-auto-1  \n",
      "30              0.655000          0.590056      0.639673       SVM-rbf-auto-1  \n",
      "31              0.670000          0.623316      0.673615       SVM-rbf-auto-1  \n",
      "32              0.661654          0.608819      0.659864       SVM-rbf-auto-1  \n",
      "33              0.601504          0.551074      0.650376       SVM-rbf-auto-1  \n",
      "34              0.619048          0.557184      0.639041       SVM-rbf-auto-1  \n",
      "35              0.452500          0.281936      0.500000   SVM-sigmoid-auto-1  \n",
      "36              0.520000          0.355789      0.500000   SVM-sigmoid-auto-1  \n",
      "37              0.526316          0.362976      0.500000   SVM-sigmoid-auto-1  \n",
      "38              0.446115          0.275246      0.500000   SVM-sigmoid-auto-1  \n",
      "39              0.493734          0.326395      0.500000   SVM-sigmoid-auto-1  \n"
     ]
    },
    {
     "name": "stdout",
     "output_type": "stream",
     "text": [
      "SVM-linear-scale-2\n",
      "              precision    recall  f1-score   support\n",
      "\n",
      "   malignant       0.96      0.94      0.95       363\n",
      "      benign       0.93      0.96      0.94       303\n",
      "\n",
      "    accuracy                           0.95       666\n",
      "   macro avg       0.94      0.95      0.95       666\n",
      "weighted avg       0.95      0.95      0.95       666\n",
      "\n",
      "     fit_time  score_time  test_accuracy  test_precision_weighted  \\\n",
      "0   31.697037    0.010542       0.937500                 0.937509   \n",
      "1    4.655328    0.009333       0.932500                 0.932638   \n",
      "2   33.379818    0.011406       0.924812                 0.925062   \n",
      "3   11.810299    0.009521       0.957393                 0.957428   \n",
      "4   15.267675    0.010364       0.927318                 0.927401   \n",
      "5    0.070490    0.019481       0.925000                 0.925314   \n",
      "6    0.069929    0.018516       0.927500                 0.927525   \n",
      "7    0.070776    0.018861       0.947368                 0.947428   \n",
      "8    0.069981    0.018647       0.954887                 0.954974   \n",
      "9    0.067633    0.024211       0.919799                 0.919948   \n",
      "10   0.072356    0.065442       0.907500                 0.907536   \n",
      "11   0.074339    0.061236       0.917500                 0.917494   \n",
      "12   0.075128    0.064879       0.929825                 0.929825   \n",
      "13   0.073951    0.062633       0.932331                 0.932788   \n",
      "14   0.070808    0.060380       0.889724                 0.889909   \n",
      "15   0.097817    0.042976       0.642500                 0.650440   \n",
      "16   0.098080    0.043043       0.660000                 0.659880   \n",
      "17   0.100458    0.044179       0.681704                 0.681625   \n",
      "18   0.094179    0.041611       0.621554                 0.634270   \n",
      "19   0.097811    0.042131       0.719298                 0.720436   \n",
      "20  31.621242    0.010698       0.937500                 0.937509   \n",
      "21   4.473465    0.009089       0.932500                 0.932638   \n",
      "22  33.544746    0.010415       0.924812                 0.925062   \n",
      "23  11.811532    0.009226       0.957393                 0.957428   \n",
      "24  15.319691    0.009700       0.927318                 0.927401   \n",
      "25   0.069144    0.016337       0.917500                 0.918701   \n",
      "26   0.065224    0.016130       0.925000                 0.925920   \n",
      "27   0.079283    0.016119       0.957393                 0.957416   \n",
      "28   0.078309    0.016387       0.937343                 0.937320   \n",
      "29   0.063858    0.015412       0.919799                 0.919988   \n",
      "30   0.196055    0.181594       0.655000                 0.788361   \n",
      "31   0.197652    0.181465       0.670000                 0.798118   \n",
      "32   0.198548    0.181167       0.661654                 0.794050   \n",
      "33   0.198063    0.180687       0.601504                 0.789518   \n",
      "34   0.194094    0.178345       0.619048                 0.784964   \n",
      "35   0.178051    0.080768       0.452500                 0.204756   \n",
      "36   0.176761    0.080540       0.520000                 0.270400   \n",
      "37   0.177819    0.080657       0.526316                 0.277008   \n",
      "38   0.171205    0.077671       0.446115                 0.199019   \n",
      "39   0.173919    0.079389       0.493734                 0.243774   \n",
      "40  31.653996    0.012483       0.937500                 0.937509   \n",
      "41   4.484094    0.011180       0.932500                 0.932638   \n",
      "42  33.596684    0.011965       0.924812                 0.925062   \n",
      "43  11.786037    0.011571       0.957393                 0.957428   \n",
      "44  15.578289    0.010703       0.927318                 0.927401   \n",
      "\n",
      "    test_recall_weighted  test_f1_weighted  test_roc_auc                model  \n",
      "0               0.937500          0.937451      0.979465   SVM-linear-scale-1  \n",
      "1               0.932500          0.932516      0.977339   SVM-linear-scale-1  \n",
      "2               0.924812          0.924844      0.968808   SVM-linear-scale-1  \n",
      "3               0.957393          0.957356      0.984137   SVM-linear-scale-1  \n",
      "4               0.927318          0.927307      0.973514   SVM-linear-scale-1  \n",
      "5               0.925000          0.925064      0.981912     SVM-poly-scale-1  \n",
      "6               0.927500          0.927507      0.967398     SVM-poly-scale-1  \n",
      "7               0.947368          0.947345      0.985689     SVM-poly-scale-1  \n",
      "8               0.954887          0.954833      0.981545     SVM-poly-scale-1  \n",
      "9               0.919799          0.919781      0.958310     SVM-poly-scale-1  \n",
      "10              0.907500          0.907374      0.975302      SVM-rbf-scale-1  \n",
      "11              0.917500          0.917491      0.965920      SVM-rbf-scale-1  \n",
      "12              0.929825          0.929825      0.981985      SVM-rbf-scale-1  \n",
      "13              0.932331          0.932412      0.981494      SVM-rbf-scale-1  \n",
      "14              0.889724          0.889727      0.959994      SVM-rbf-scale-1  \n",
      "15              0.642500          0.643083      0.708646  SVM-sigmoid-scale-1  \n",
      "16              0.660000          0.659923      0.758839  SVM-sigmoid-scale-1  \n",
      "17              0.681704          0.681660      0.761224  SVM-sigmoid-scale-1  \n",
      "18              0.621554          0.621925      0.743098  SVM-sigmoid-scale-1  \n",
      "19              0.719298          0.718704      0.773483  SVM-sigmoid-scale-1  \n",
      "20              0.937500          0.937451      0.979465    SVM-linear-auto-1  \n",
      "21              0.932500          0.932516      0.977339    SVM-linear-auto-1  \n",
      "22              0.924812          0.924844      0.968808    SVM-linear-auto-1  \n",
      "23              0.957393          0.957356      0.984137    SVM-linear-auto-1  \n",
      "24              0.927318          0.927307      0.973514    SVM-linear-auto-1  \n",
      "25              0.917500          0.917635      0.975226      SVM-poly-auto-1  \n",
      "26              0.925000          0.924878      0.967673      SVM-poly-auto-1  \n",
      "27              0.957393          0.957399      0.984329      SVM-poly-auto-1  \n",
      "28              0.937343          0.937326      0.979155      SVM-poly-auto-1  \n",
      "29              0.919799          0.919802      0.961527      SVM-poly-auto-1  \n",
      "30              0.655000          0.590056      0.639673       SVM-rbf-auto-1  \n",
      "31              0.670000          0.623316      0.673615       SVM-rbf-auto-1  \n",
      "32              0.661654          0.608819      0.659864       SVM-rbf-auto-1  \n",
      "33              0.601504          0.551074      0.650376       SVM-rbf-auto-1  \n",
      "34              0.619048          0.557184      0.639041       SVM-rbf-auto-1  \n",
      "35              0.452500          0.281936      0.500000   SVM-sigmoid-auto-1  \n",
      "36              0.520000          0.355789      0.500000   SVM-sigmoid-auto-1  \n",
      "37              0.526316          0.362976      0.500000   SVM-sigmoid-auto-1  \n",
      "38              0.446115          0.275246      0.500000   SVM-sigmoid-auto-1  \n",
      "39              0.493734          0.326395      0.500000   SVM-sigmoid-auto-1  \n",
      "40              0.937500          0.937451      0.979465   SVM-linear-scale-2  \n",
      "41              0.932500          0.932516      0.977339   SVM-linear-scale-2  \n",
      "42              0.924812          0.924844      0.968808   SVM-linear-scale-2  \n",
      "43              0.957393          0.957356      0.984137   SVM-linear-scale-2  \n",
      "44              0.927318          0.927307      0.973514   SVM-linear-scale-2  \n"
     ]
    },
    {
     "name": "stdout",
     "output_type": "stream",
     "text": [
      "SVM-poly-scale-2\n",
      "              precision    recall  f1-score   support\n",
      "\n",
      "   malignant       0.99      0.96      0.97       363\n",
      "      benign       0.96      0.98      0.97       303\n",
      "\n",
      "    accuracy                           0.97       666\n",
      "   macro avg       0.97      0.97      0.97       666\n",
      "weighted avg       0.97      0.97      0.97       666\n",
      "\n",
      "     fit_time  score_time  test_accuracy  test_precision_weighted  \\\n",
      "0   31.697037    0.010542       0.937500                 0.937509   \n",
      "1    4.655328    0.009333       0.932500                 0.932638   \n",
      "2   33.379818    0.011406       0.924812                 0.925062   \n",
      "3   11.810299    0.009521       0.957393                 0.957428   \n",
      "4   15.267675    0.010364       0.927318                 0.927401   \n",
      "5    0.070490    0.019481       0.925000                 0.925314   \n",
      "6    0.069929    0.018516       0.927500                 0.927525   \n",
      "7    0.070776    0.018861       0.947368                 0.947428   \n",
      "8    0.069981    0.018647       0.954887                 0.954974   \n",
      "9    0.067633    0.024211       0.919799                 0.919948   \n",
      "10   0.072356    0.065442       0.907500                 0.907536   \n",
      "11   0.074339    0.061236       0.917500                 0.917494   \n",
      "12   0.075128    0.064879       0.929825                 0.929825   \n",
      "13   0.073951    0.062633       0.932331                 0.932788   \n",
      "14   0.070808    0.060380       0.889724                 0.889909   \n",
      "15   0.097817    0.042976       0.642500                 0.650440   \n",
      "16   0.098080    0.043043       0.660000                 0.659880   \n",
      "17   0.100458    0.044179       0.681704                 0.681625   \n",
      "18   0.094179    0.041611       0.621554                 0.634270   \n",
      "19   0.097811    0.042131       0.719298                 0.720436   \n",
      "20  31.621242    0.010698       0.937500                 0.937509   \n",
      "21   4.473465    0.009089       0.932500                 0.932638   \n",
      "22  33.544746    0.010415       0.924812                 0.925062   \n",
      "23  11.811532    0.009226       0.957393                 0.957428   \n",
      "24  15.319691    0.009700       0.927318                 0.927401   \n",
      "25   0.069144    0.016337       0.917500                 0.918701   \n",
      "26   0.065224    0.016130       0.925000                 0.925920   \n",
      "27   0.079283    0.016119       0.957393                 0.957416   \n",
      "28   0.078309    0.016387       0.937343                 0.937320   \n",
      "29   0.063858    0.015412       0.919799                 0.919988   \n",
      "30   0.196055    0.181594       0.655000                 0.788361   \n",
      "31   0.197652    0.181465       0.670000                 0.798118   \n",
      "32   0.198548    0.181167       0.661654                 0.794050   \n",
      "33   0.198063    0.180687       0.601504                 0.789518   \n",
      "34   0.194094    0.178345       0.619048                 0.784964   \n",
      "35   0.178051    0.080768       0.452500                 0.204756   \n",
      "36   0.176761    0.080540       0.520000                 0.270400   \n",
      "37   0.177819    0.080657       0.526316                 0.277008   \n",
      "38   0.171205    0.077671       0.446115                 0.199019   \n",
      "39   0.173919    0.079389       0.493734                 0.243774   \n",
      "40  31.653996    0.012483       0.937500                 0.937509   \n",
      "41   4.484094    0.011180       0.932500                 0.932638   \n",
      "42  33.596684    0.011965       0.924812                 0.925062   \n",
      "43  11.786037    0.011571       0.957393                 0.957428   \n",
      "44  15.578289    0.010703       0.927318                 0.927401   \n",
      "45   0.067245    0.022189       0.930000                 0.930589   \n",
      "46   0.068772    0.022152       0.935000                 0.935018   \n",
      "47   0.072275    0.022770       0.952381                 0.952604   \n",
      "48   0.068401    0.022817       0.957393                 0.957569   \n",
      "49   0.067298    0.022003       0.924812                 0.925169   \n",
      "\n",
      "    test_recall_weighted  test_f1_weighted  test_roc_auc                model  \n",
      "0               0.937500          0.937451      0.979465   SVM-linear-scale-1  \n",
      "1               0.932500          0.932516      0.977339   SVM-linear-scale-1  \n",
      "2               0.924812          0.924844      0.968808   SVM-linear-scale-1  \n",
      "3               0.957393          0.957356      0.984137   SVM-linear-scale-1  \n",
      "4               0.927318          0.927307      0.973514   SVM-linear-scale-1  \n",
      "5               0.925000          0.925064      0.981912     SVM-poly-scale-1  \n",
      "6               0.927500          0.927507      0.967398     SVM-poly-scale-1  \n",
      "7               0.947368          0.947345      0.985689     SVM-poly-scale-1  \n",
      "8               0.954887          0.954833      0.981545     SVM-poly-scale-1  \n",
      "9               0.919799          0.919781      0.958310     SVM-poly-scale-1  \n",
      "10              0.907500          0.907374      0.975302      SVM-rbf-scale-1  \n",
      "11              0.917500          0.917491      0.965920      SVM-rbf-scale-1  \n",
      "12              0.929825          0.929825      0.981985      SVM-rbf-scale-1  \n",
      "13              0.932331          0.932412      0.981494      SVM-rbf-scale-1  \n",
      "14              0.889724          0.889727      0.959994      SVM-rbf-scale-1  \n",
      "15              0.642500          0.643083      0.708646  SVM-sigmoid-scale-1  \n",
      "16              0.660000          0.659923      0.758839  SVM-sigmoid-scale-1  \n",
      "17              0.681704          0.681660      0.761224  SVM-sigmoid-scale-1  \n",
      "18              0.621554          0.621925      0.743098  SVM-sigmoid-scale-1  \n",
      "19              0.719298          0.718704      0.773483  SVM-sigmoid-scale-1  \n",
      "20              0.937500          0.937451      0.979465    SVM-linear-auto-1  \n",
      "21              0.932500          0.932516      0.977339    SVM-linear-auto-1  \n",
      "22              0.924812          0.924844      0.968808    SVM-linear-auto-1  \n",
      "23              0.957393          0.957356      0.984137    SVM-linear-auto-1  \n",
      "24              0.927318          0.927307      0.973514    SVM-linear-auto-1  \n",
      "25              0.917500          0.917635      0.975226      SVM-poly-auto-1  \n",
      "26              0.925000          0.924878      0.967673      SVM-poly-auto-1  \n",
      "27              0.957393          0.957399      0.984329      SVM-poly-auto-1  \n",
      "28              0.937343          0.937326      0.979155      SVM-poly-auto-1  \n",
      "29              0.919799          0.919802      0.961527      SVM-poly-auto-1  \n",
      "30              0.655000          0.590056      0.639673       SVM-rbf-auto-1  \n",
      "31              0.670000          0.623316      0.673615       SVM-rbf-auto-1  \n",
      "32              0.661654          0.608819      0.659864       SVM-rbf-auto-1  \n",
      "33              0.601504          0.551074      0.650376       SVM-rbf-auto-1  \n",
      "34              0.619048          0.557184      0.639041       SVM-rbf-auto-1  \n",
      "35              0.452500          0.281936      0.500000   SVM-sigmoid-auto-1  \n",
      "36              0.520000          0.355789      0.500000   SVM-sigmoid-auto-1  \n",
      "37              0.526316          0.362976      0.500000   SVM-sigmoid-auto-1  \n",
      "38              0.446115          0.275246      0.500000   SVM-sigmoid-auto-1  \n",
      "39              0.493734          0.326395      0.500000   SVM-sigmoid-auto-1  \n",
      "40              0.937500          0.937451      0.979465   SVM-linear-scale-2  \n",
      "41              0.932500          0.932516      0.977339   SVM-linear-scale-2  \n",
      "42              0.924812          0.924844      0.968808   SVM-linear-scale-2  \n",
      "43              0.957393          0.957356      0.984137   SVM-linear-scale-2  \n",
      "44              0.927318          0.927307      0.973514   SVM-linear-scale-2  \n",
      "45              0.930000          0.930085      0.985015     SVM-poly-scale-2  \n",
      "46              0.935000          0.934985      0.967798     SVM-poly-scale-2  \n",
      "47              0.952381          0.952342      0.988360     SVM-poly-scale-2  \n",
      "48              0.957393          0.957328      0.982104     SVM-poly-scale-2  \n",
      "49              0.924812          0.924781      0.969041     SVM-poly-scale-2  \n"
     ]
    },
    {
     "name": "stdout",
     "output_type": "stream",
     "text": [
      "SVM-rbf-scale-2\n",
      "              precision    recall  f1-score   support\n",
      "\n",
      "   malignant       0.97      0.94      0.96       363\n",
      "      benign       0.94      0.97      0.95       303\n",
      "\n",
      "    accuracy                           0.96       666\n",
      "   macro avg       0.96      0.96      0.96       666\n",
      "weighted avg       0.96      0.96      0.96       666\n",
      "\n",
      "     fit_time  score_time  test_accuracy  test_precision_weighted  \\\n",
      "0   31.697037    0.010542       0.937500                 0.937509   \n",
      "1    4.655328    0.009333       0.932500                 0.932638   \n",
      "2   33.379818    0.011406       0.924812                 0.925062   \n",
      "3   11.810299    0.009521       0.957393                 0.957428   \n",
      "4   15.267675    0.010364       0.927318                 0.927401   \n",
      "5    0.070490    0.019481       0.925000                 0.925314   \n",
      "6    0.069929    0.018516       0.927500                 0.927525   \n",
      "7    0.070776    0.018861       0.947368                 0.947428   \n",
      "8    0.069981    0.018647       0.954887                 0.954974   \n",
      "9    0.067633    0.024211       0.919799                 0.919948   \n",
      "10   0.072356    0.065442       0.907500                 0.907536   \n",
      "11   0.074339    0.061236       0.917500                 0.917494   \n",
      "12   0.075128    0.064879       0.929825                 0.929825   \n",
      "13   0.073951    0.062633       0.932331                 0.932788   \n",
      "14   0.070808    0.060380       0.889724                 0.889909   \n",
      "15   0.097817    0.042976       0.642500                 0.650440   \n",
      "16   0.098080    0.043043       0.660000                 0.659880   \n",
      "17   0.100458    0.044179       0.681704                 0.681625   \n",
      "18   0.094179    0.041611       0.621554                 0.634270   \n",
      "19   0.097811    0.042131       0.719298                 0.720436   \n",
      "20  31.621242    0.010698       0.937500                 0.937509   \n",
      "21   4.473465    0.009089       0.932500                 0.932638   \n",
      "22  33.544746    0.010415       0.924812                 0.925062   \n",
      "23  11.811532    0.009226       0.957393                 0.957428   \n",
      "24  15.319691    0.009700       0.927318                 0.927401   \n",
      "25   0.069144    0.016337       0.917500                 0.918701   \n",
      "26   0.065224    0.016130       0.925000                 0.925920   \n",
      "27   0.079283    0.016119       0.957393                 0.957416   \n",
      "28   0.078309    0.016387       0.937343                 0.937320   \n",
      "29   0.063858    0.015412       0.919799                 0.919988   \n",
      "30   0.196055    0.181594       0.655000                 0.788361   \n",
      "31   0.197652    0.181465       0.670000                 0.798118   \n",
      "32   0.198548    0.181167       0.661654                 0.794050   \n",
      "33   0.198063    0.180687       0.601504                 0.789518   \n",
      "34   0.194094    0.178345       0.619048                 0.784964   \n",
      "35   0.178051    0.080768       0.452500                 0.204756   \n",
      "36   0.176761    0.080540       0.520000                 0.270400   \n",
      "37   0.177819    0.080657       0.526316                 0.277008   \n",
      "38   0.171205    0.077671       0.446115                 0.199019   \n",
      "39   0.173919    0.079389       0.493734                 0.243774   \n",
      "40  31.653996    0.012483       0.937500                 0.937509   \n",
      "41   4.484094    0.011180       0.932500                 0.932638   \n",
      "42  33.596684    0.011965       0.924812                 0.925062   \n",
      "43  11.786037    0.011571       0.957393                 0.957428   \n",
      "44  15.578289    0.010703       0.927318                 0.927401   \n",
      "45   0.067245    0.022189       0.930000                 0.930589   \n",
      "46   0.068772    0.022152       0.935000                 0.935018   \n",
      "47   0.072275    0.022770       0.952381                 0.952604   \n",
      "48   0.068401    0.022817       0.957393                 0.957569   \n",
      "49   0.067298    0.022003       0.924812                 0.925169   \n",
      "50   0.068038    0.053005       0.922500                 0.922581   \n",
      "51   0.070408    0.060499       0.920000                 0.920000   \n",
      "52   0.069589    0.061069       0.947368                 0.947428   \n",
      "53   0.068203    0.061365       0.947368                 0.947351   \n",
      "54   0.066178    0.057644       0.909774                 0.909804   \n",
      "\n",
      "    test_recall_weighted  test_f1_weighted  test_roc_auc                model  \n",
      "0               0.937500          0.937451      0.979465   SVM-linear-scale-1  \n",
      "1               0.932500          0.932516      0.977339   SVM-linear-scale-1  \n",
      "2               0.924812          0.924844      0.968808   SVM-linear-scale-1  \n",
      "3               0.957393          0.957356      0.984137   SVM-linear-scale-1  \n",
      "4               0.927318          0.927307      0.973514   SVM-linear-scale-1  \n",
      "5               0.925000          0.925064      0.981912     SVM-poly-scale-1  \n",
      "6               0.927500          0.927507      0.967398     SVM-poly-scale-1  \n",
      "7               0.947368          0.947345      0.985689     SVM-poly-scale-1  \n",
      "8               0.954887          0.954833      0.981545     SVM-poly-scale-1  \n",
      "9               0.919799          0.919781      0.958310     SVM-poly-scale-1  \n",
      "10              0.907500          0.907374      0.975302      SVM-rbf-scale-1  \n",
      "11              0.917500          0.917491      0.965920      SVM-rbf-scale-1  \n",
      "12              0.929825          0.929825      0.981985      SVM-rbf-scale-1  \n",
      "13              0.932331          0.932412      0.981494      SVM-rbf-scale-1  \n",
      "14              0.889724          0.889727      0.959994      SVM-rbf-scale-1  \n",
      "15              0.642500          0.643083      0.708646  SVM-sigmoid-scale-1  \n",
      "16              0.660000          0.659923      0.758839  SVM-sigmoid-scale-1  \n",
      "17              0.681704          0.681660      0.761224  SVM-sigmoid-scale-1  \n",
      "18              0.621554          0.621925      0.743098  SVM-sigmoid-scale-1  \n",
      "19              0.719298          0.718704      0.773483  SVM-sigmoid-scale-1  \n",
      "20              0.937500          0.937451      0.979465    SVM-linear-auto-1  \n",
      "21              0.932500          0.932516      0.977339    SVM-linear-auto-1  \n",
      "22              0.924812          0.924844      0.968808    SVM-linear-auto-1  \n",
      "23              0.957393          0.957356      0.984137    SVM-linear-auto-1  \n",
      "24              0.927318          0.927307      0.973514    SVM-linear-auto-1  \n",
      "25              0.917500          0.917635      0.975226      SVM-poly-auto-1  \n",
      "26              0.925000          0.924878      0.967673      SVM-poly-auto-1  \n",
      "27              0.957393          0.957399      0.984329      SVM-poly-auto-1  \n",
      "28              0.937343          0.937326      0.979155      SVM-poly-auto-1  \n",
      "29              0.919799          0.919802      0.961527      SVM-poly-auto-1  \n",
      "30              0.655000          0.590056      0.639673       SVM-rbf-auto-1  \n",
      "31              0.670000          0.623316      0.673615       SVM-rbf-auto-1  \n",
      "32              0.661654          0.608819      0.659864       SVM-rbf-auto-1  \n",
      "33              0.601504          0.551074      0.650376       SVM-rbf-auto-1  \n",
      "34              0.619048          0.557184      0.639041       SVM-rbf-auto-1  \n",
      "35              0.452500          0.281936      0.500000   SVM-sigmoid-auto-1  \n",
      "36              0.520000          0.355789      0.500000   SVM-sigmoid-auto-1  \n",
      "37              0.526316          0.362976      0.500000   SVM-sigmoid-auto-1  \n",
      "38              0.446115          0.275246      0.500000   SVM-sigmoid-auto-1  \n",
      "39              0.493734          0.326395      0.500000   SVM-sigmoid-auto-1  \n",
      "40              0.937500          0.937451      0.979465   SVM-linear-scale-2  \n",
      "41              0.932500          0.932516      0.977339   SVM-linear-scale-2  \n",
      "42              0.924812          0.924844      0.968808   SVM-linear-scale-2  \n",
      "43              0.957393          0.957356      0.984137   SVM-linear-scale-2  \n",
      "44              0.927318          0.927307      0.973514   SVM-linear-scale-2  \n",
      "45              0.930000          0.930085      0.985015     SVM-poly-scale-2  \n",
      "46              0.935000          0.934985      0.967798     SVM-poly-scale-2  \n",
      "47              0.952381          0.952342      0.988360     SVM-poly-scale-2  \n",
      "48              0.957393          0.957328      0.982104     SVM-poly-scale-2  \n",
      "49              0.924812          0.924781      0.969041     SVM-poly-scale-2  \n",
      "50              0.922500          0.922395      0.982013      SVM-rbf-scale-2  \n",
      "51              0.920000          0.920000      0.970328      SVM-rbf-scale-2  \n",
      "52              0.947368          0.947345      0.987856      SVM-rbf-scale-2  \n",
      "53              0.947368          0.947354      0.985027      SVM-rbf-scale-2  \n",
      "54              0.909774          0.909766      0.964743      SVM-rbf-scale-2  \n"
     ]
    },
    {
     "name": "stdout",
     "output_type": "stream",
     "text": [
      "SVM-sigmoid-scale-2\n",
      "              precision    recall  f1-score   support\n",
      "\n",
      "   malignant       0.68      0.60      0.64       363\n",
      "      benign       0.58      0.67      0.62       303\n",
      "\n",
      "    accuracy                           0.63       666\n",
      "   macro avg       0.63      0.63      0.63       666\n",
      "weighted avg       0.64      0.63      0.63       666\n",
      "\n",
      "     fit_time  score_time  test_accuracy  test_precision_weighted  \\\n",
      "0   31.697037    0.010542       0.937500                 0.937509   \n",
      "1    4.655328    0.009333       0.932500                 0.932638   \n",
      "2   33.379818    0.011406       0.924812                 0.925062   \n",
      "3   11.810299    0.009521       0.957393                 0.957428   \n",
      "4   15.267675    0.010364       0.927318                 0.927401   \n",
      "5    0.070490    0.019481       0.925000                 0.925314   \n",
      "6    0.069929    0.018516       0.927500                 0.927525   \n",
      "7    0.070776    0.018861       0.947368                 0.947428   \n",
      "8    0.069981    0.018647       0.954887                 0.954974   \n",
      "9    0.067633    0.024211       0.919799                 0.919948   \n",
      "10   0.072356    0.065442       0.907500                 0.907536   \n",
      "11   0.074339    0.061236       0.917500                 0.917494   \n",
      "12   0.075128    0.064879       0.929825                 0.929825   \n",
      "13   0.073951    0.062633       0.932331                 0.932788   \n",
      "14   0.070808    0.060380       0.889724                 0.889909   \n",
      "15   0.097817    0.042976       0.642500                 0.650440   \n",
      "16   0.098080    0.043043       0.660000                 0.659880   \n",
      "17   0.100458    0.044179       0.681704                 0.681625   \n",
      "18   0.094179    0.041611       0.621554                 0.634270   \n",
      "19   0.097811    0.042131       0.719298                 0.720436   \n",
      "20  31.621242    0.010698       0.937500                 0.937509   \n",
      "21   4.473465    0.009089       0.932500                 0.932638   \n",
      "22  33.544746    0.010415       0.924812                 0.925062   \n",
      "23  11.811532    0.009226       0.957393                 0.957428   \n",
      "24  15.319691    0.009700       0.927318                 0.927401   \n",
      "25   0.069144    0.016337       0.917500                 0.918701   \n",
      "26   0.065224    0.016130       0.925000                 0.925920   \n",
      "27   0.079283    0.016119       0.957393                 0.957416   \n",
      "28   0.078309    0.016387       0.937343                 0.937320   \n",
      "29   0.063858    0.015412       0.919799                 0.919988   \n",
      "30   0.196055    0.181594       0.655000                 0.788361   \n",
      "31   0.197652    0.181465       0.670000                 0.798118   \n",
      "32   0.198548    0.181167       0.661654                 0.794050   \n",
      "33   0.198063    0.180687       0.601504                 0.789518   \n",
      "34   0.194094    0.178345       0.619048                 0.784964   \n",
      "35   0.178051    0.080768       0.452500                 0.204756   \n",
      "36   0.176761    0.080540       0.520000                 0.270400   \n",
      "37   0.177819    0.080657       0.526316                 0.277008   \n",
      "38   0.171205    0.077671       0.446115                 0.199019   \n",
      "39   0.173919    0.079389       0.493734                 0.243774   \n",
      "40  31.653996    0.012483       0.937500                 0.937509   \n",
      "41   4.484094    0.011180       0.932500                 0.932638   \n",
      "42  33.596684    0.011965       0.924812                 0.925062   \n",
      "43  11.786037    0.011571       0.957393                 0.957428   \n",
      "44  15.578289    0.010703       0.927318                 0.927401   \n",
      "45   0.067245    0.022189       0.930000                 0.930589   \n",
      "46   0.068772    0.022152       0.935000                 0.935018   \n",
      "47   0.072275    0.022770       0.952381                 0.952604   \n",
      "48   0.068401    0.022817       0.957393                 0.957569   \n",
      "49   0.067298    0.022003       0.924812                 0.925169   \n",
      "50   0.068038    0.053005       0.922500                 0.922581   \n",
      "51   0.070408    0.060499       0.920000                 0.920000   \n",
      "52   0.069589    0.061069       0.947368                 0.947428   \n",
      "53   0.068203    0.061365       0.947368                 0.947351   \n",
      "54   0.066178    0.057644       0.909774                 0.909804   \n",
      "55   0.093494    0.033667       0.620000                 0.629659   \n",
      "56   0.095350    0.034310       0.657500                 0.657435   \n",
      "57   0.096724    0.034707       0.676692                 0.676611   \n",
      "58   0.090508    0.033086       0.626566                 0.637573   \n",
      "59   0.095912    0.034121       0.704261                 0.704589   \n",
      "\n",
      "    test_recall_weighted  test_f1_weighted  test_roc_auc                model  \n",
      "0               0.937500          0.937451      0.979465   SVM-linear-scale-1  \n",
      "1               0.932500          0.932516      0.977339   SVM-linear-scale-1  \n",
      "2               0.924812          0.924844      0.968808   SVM-linear-scale-1  \n",
      "3               0.957393          0.957356      0.984137   SVM-linear-scale-1  \n",
      "4               0.927318          0.927307      0.973514   SVM-linear-scale-1  \n",
      "5               0.925000          0.925064      0.981912     SVM-poly-scale-1  \n",
      "6               0.927500          0.927507      0.967398     SVM-poly-scale-1  \n",
      "7               0.947368          0.947345      0.985689     SVM-poly-scale-1  \n",
      "8               0.954887          0.954833      0.981545     SVM-poly-scale-1  \n",
      "9               0.919799          0.919781      0.958310     SVM-poly-scale-1  \n",
      "10              0.907500          0.907374      0.975302      SVM-rbf-scale-1  \n",
      "11              0.917500          0.917491      0.965920      SVM-rbf-scale-1  \n",
      "12              0.929825          0.929825      0.981985      SVM-rbf-scale-1  \n",
      "13              0.932331          0.932412      0.981494      SVM-rbf-scale-1  \n",
      "14              0.889724          0.889727      0.959994      SVM-rbf-scale-1  \n",
      "15              0.642500          0.643083      0.708646  SVM-sigmoid-scale-1  \n",
      "16              0.660000          0.659923      0.758839  SVM-sigmoid-scale-1  \n",
      "17              0.681704          0.681660      0.761224  SVM-sigmoid-scale-1  \n",
      "18              0.621554          0.621925      0.743098  SVM-sigmoid-scale-1  \n",
      "19              0.719298          0.718704      0.773483  SVM-sigmoid-scale-1  \n",
      "20              0.937500          0.937451      0.979465    SVM-linear-auto-1  \n",
      "21              0.932500          0.932516      0.977339    SVM-linear-auto-1  \n",
      "22              0.924812          0.924844      0.968808    SVM-linear-auto-1  \n",
      "23              0.957393          0.957356      0.984137    SVM-linear-auto-1  \n",
      "24              0.927318          0.927307      0.973514    SVM-linear-auto-1  \n",
      "25              0.917500          0.917635      0.975226      SVM-poly-auto-1  \n",
      "26              0.925000          0.924878      0.967673      SVM-poly-auto-1  \n",
      "27              0.957393          0.957399      0.984329      SVM-poly-auto-1  \n",
      "28              0.937343          0.937326      0.979155      SVM-poly-auto-1  \n",
      "29              0.919799          0.919802      0.961527      SVM-poly-auto-1  \n",
      "30              0.655000          0.590056      0.639673       SVM-rbf-auto-1  \n",
      "31              0.670000          0.623316      0.673615       SVM-rbf-auto-1  \n",
      "32              0.661654          0.608819      0.659864       SVM-rbf-auto-1  \n",
      "33              0.601504          0.551074      0.650376       SVM-rbf-auto-1  \n",
      "34              0.619048          0.557184      0.639041       SVM-rbf-auto-1  \n",
      "35              0.452500          0.281936      0.500000   SVM-sigmoid-auto-1  \n",
      "36              0.520000          0.355789      0.500000   SVM-sigmoid-auto-1  \n",
      "37              0.526316          0.362976      0.500000   SVM-sigmoid-auto-1  \n",
      "38              0.446115          0.275246      0.500000   SVM-sigmoid-auto-1  \n",
      "39              0.493734          0.326395      0.500000   SVM-sigmoid-auto-1  \n",
      "40              0.937500          0.937451      0.979465   SVM-linear-scale-2  \n",
      "41              0.932500          0.932516      0.977339   SVM-linear-scale-2  \n",
      "42              0.924812          0.924844      0.968808   SVM-linear-scale-2  \n",
      "43              0.957393          0.957356      0.984137   SVM-linear-scale-2  \n",
      "44              0.927318          0.927307      0.973514   SVM-linear-scale-2  \n",
      "45              0.930000          0.930085      0.985015     SVM-poly-scale-2  \n",
      "46              0.935000          0.934985      0.967798     SVM-poly-scale-2  \n",
      "47              0.952381          0.952342      0.988360     SVM-poly-scale-2  \n",
      "48              0.957393          0.957328      0.982104     SVM-poly-scale-2  \n",
      "49              0.924812          0.924781      0.969041     SVM-poly-scale-2  \n",
      "50              0.922500          0.922395      0.982013      SVM-rbf-scale-2  \n",
      "51              0.920000          0.920000      0.970328      SVM-rbf-scale-2  \n",
      "52              0.947368          0.947345      0.987856      SVM-rbf-scale-2  \n",
      "53              0.947368          0.947354      0.985027      SVM-rbf-scale-2  \n",
      "54              0.909774          0.909766      0.964743      SVM-rbf-scale-2  \n",
      "55              0.620000          0.620323      0.700749  SVM-sigmoid-scale-2  \n",
      "56              0.657500          0.657464      0.751853  SVM-sigmoid-scale-2  \n",
      "57              0.676692          0.676647      0.754573  SVM-sigmoid-scale-2  \n",
      "58              0.626566          0.627223      0.737480  SVM-sigmoid-scale-2  \n",
      "59              0.704261          0.703982      0.765919  SVM-sigmoid-scale-2  \n"
     ]
    },
    {
     "name": "stdout",
     "output_type": "stream",
     "text": [
      "SVM-linear-auto-2\n",
      "              precision    recall  f1-score   support\n",
      "\n",
      "   malignant       0.96      0.94      0.95       363\n",
      "      benign       0.93      0.96      0.94       303\n",
      "\n",
      "    accuracy                           0.95       666\n",
      "   macro avg       0.94      0.95      0.95       666\n",
      "weighted avg       0.95      0.95      0.95       666\n",
      "\n",
      "     fit_time  score_time  test_accuracy  test_precision_weighted  \\\n",
      "0   31.697037    0.010542       0.937500                 0.937509   \n",
      "1    4.655328    0.009333       0.932500                 0.932638   \n",
      "2   33.379818    0.011406       0.924812                 0.925062   \n",
      "3   11.810299    0.009521       0.957393                 0.957428   \n",
      "4   15.267675    0.010364       0.927318                 0.927401   \n",
      "..        ...         ...            ...                      ...   \n",
      "60  31.534786    0.011269       0.937500                 0.937509   \n",
      "61   4.466825    0.010433       0.932500                 0.932638   \n",
      "62  33.650768    0.011062       0.924812                 0.925062   \n",
      "63  11.824134    0.011343       0.957393                 0.957428   \n",
      "64  15.401670    0.010165       0.927318                 0.927401   \n",
      "\n",
      "    test_recall_weighted  test_f1_weighted  test_roc_auc               model  \n",
      "0               0.937500          0.937451      0.979465  SVM-linear-scale-1  \n",
      "1               0.932500          0.932516      0.977339  SVM-linear-scale-1  \n",
      "2               0.924812          0.924844      0.968808  SVM-linear-scale-1  \n",
      "3               0.957393          0.957356      0.984137  SVM-linear-scale-1  \n",
      "4               0.927318          0.927307      0.973514  SVM-linear-scale-1  \n",
      "..                   ...               ...           ...                 ...  \n",
      "60              0.937500          0.937451      0.979465   SVM-linear-auto-2  \n",
      "61              0.932500          0.932516      0.977339   SVM-linear-auto-2  \n",
      "62              0.924812          0.924844      0.968808   SVM-linear-auto-2  \n",
      "63              0.957393          0.957356      0.984137   SVM-linear-auto-2  \n",
      "64              0.927318          0.927307      0.973514   SVM-linear-auto-2  \n",
      "\n",
      "[65 rows x 8 columns]\n"
     ]
    },
    {
     "name": "stdout",
     "output_type": "stream",
     "text": [
      "SVM-poly-auto-2\n",
      "              precision    recall  f1-score   support\n",
      "\n",
      "   malignant       0.97      0.92      0.94       363\n",
      "      benign       0.91      0.96      0.94       303\n",
      "\n",
      "    accuracy                           0.94       666\n",
      "   macro avg       0.94      0.94      0.94       666\n",
      "weighted avg       0.94      0.94      0.94       666\n",
      "\n",
      "     fit_time  score_time  test_accuracy  test_precision_weighted  \\\n",
      "0   31.697037    0.010542       0.937500                 0.937509   \n",
      "1    4.655328    0.009333       0.932500                 0.932638   \n",
      "2   33.379818    0.011406       0.924812                 0.925062   \n",
      "3   11.810299    0.009521       0.957393                 0.957428   \n",
      "4   15.267675    0.010364       0.927318                 0.927401   \n",
      "..        ...         ...            ...                      ...   \n",
      "65   0.069506    0.014538       0.917500                 0.918701   \n",
      "66   0.064765    0.014402       0.925000                 0.925920   \n",
      "67   0.079029    0.014567       0.957393                 0.957416   \n",
      "68   0.077963    0.014712       0.937343                 0.937320   \n",
      "69   0.063813    0.013873       0.919799                 0.919988   \n",
      "\n",
      "    test_recall_weighted  test_f1_weighted  test_roc_auc               model  \n",
      "0               0.937500          0.937451      0.979465  SVM-linear-scale-1  \n",
      "1               0.932500          0.932516      0.977339  SVM-linear-scale-1  \n",
      "2               0.924812          0.924844      0.968808  SVM-linear-scale-1  \n",
      "3               0.957393          0.957356      0.984137  SVM-linear-scale-1  \n",
      "4               0.927318          0.927307      0.973514  SVM-linear-scale-1  \n",
      "..                   ...               ...           ...                 ...  \n",
      "65              0.917500          0.917635      0.975226     SVM-poly-auto-2  \n",
      "66              0.925000          0.924878      0.967673     SVM-poly-auto-2  \n",
      "67              0.957393          0.957399      0.984329     SVM-poly-auto-2  \n",
      "68              0.937343          0.937326      0.979155     SVM-poly-auto-2  \n",
      "69              0.919799          0.919802      0.961527     SVM-poly-auto-2  \n",
      "\n",
      "[70 rows x 8 columns]\n"
     ]
    },
    {
     "name": "stdout",
     "output_type": "stream",
     "text": [
      "SVM-rbf-auto-2\n",
      "              precision    recall  f1-score   support\n",
      "\n",
      "   malignant       0.61      1.00      0.76       363\n",
      "      benign       1.00      0.24      0.39       303\n",
      "\n",
      "    accuracy                           0.66       666\n",
      "   macro avg       0.81      0.62      0.58       666\n",
      "weighted avg       0.79      0.66      0.59       666\n",
      "\n",
      "     fit_time  score_time  test_accuracy  test_precision_weighted  \\\n",
      "0   31.697037    0.010542       0.937500                 0.937509   \n",
      "1    4.655328    0.009333       0.932500                 0.932638   \n",
      "2   33.379818    0.011406       0.924812                 0.925062   \n",
      "3   11.810299    0.009521       0.957393                 0.957428   \n",
      "4   15.267675    0.010364       0.927318                 0.927401   \n",
      "..        ...         ...            ...                      ...   \n",
      "70   0.194928    0.158510       0.655000                 0.788361   \n",
      "71   0.196900    0.160000       0.670000                 0.798118   \n",
      "72   0.191875    0.158748       0.661654                 0.794050   \n",
      "73   0.192764    0.160086       0.601504                 0.789518   \n",
      "74   0.192371    0.158802       0.619048                 0.784964   \n",
      "\n",
      "    test_recall_weighted  test_f1_weighted  test_roc_auc               model  \n",
      "0               0.937500          0.937451      0.979465  SVM-linear-scale-1  \n",
      "1               0.932500          0.932516      0.977339  SVM-linear-scale-1  \n",
      "2               0.924812          0.924844      0.968808  SVM-linear-scale-1  \n",
      "3               0.957393          0.957356      0.984137  SVM-linear-scale-1  \n",
      "4               0.927318          0.927307      0.973514  SVM-linear-scale-1  \n",
      "..                   ...               ...           ...                 ...  \n",
      "70              0.655000          0.590056      0.639673      SVM-rbf-auto-2  \n",
      "71              0.670000          0.623316      0.673615      SVM-rbf-auto-2  \n",
      "72              0.661654          0.608819      0.659864      SVM-rbf-auto-2  \n",
      "73              0.601504          0.551074      0.650376      SVM-rbf-auto-2  \n",
      "74              0.619048          0.557184      0.639041      SVM-rbf-auto-2  \n",
      "\n",
      "[75 rows x 8 columns]\n"
     ]
    },
    {
     "name": "stdout",
     "output_type": "stream",
     "text": [
      "SVM-sigmoid-auto-2\n",
      "              precision    recall  f1-score   support\n",
      "\n",
      "   malignant       0.55      1.00      0.71       363\n",
      "      benign       0.00      0.00      0.00       303\n",
      "\n",
      "    accuracy                           0.55       666\n",
      "   macro avg       0.27      0.50      0.35       666\n",
      "weighted avg       0.30      0.55      0.38       666\n",
      "\n",
      "     fit_time  score_time  test_accuracy  test_precision_weighted  \\\n",
      "0   31.697037    0.010542       0.937500                 0.937509   \n",
      "1    4.655328    0.009333       0.932500                 0.932638   \n",
      "2   33.379818    0.011406       0.924812                 0.925062   \n",
      "3   11.810299    0.009521       0.957393                 0.957428   \n",
      "4   15.267675    0.010364       0.927318                 0.927401   \n",
      "..        ...         ...            ...                      ...   \n",
      "75   0.177625    0.068526       0.452500                 0.204756   \n",
      "76   0.176145    0.067677       0.520000                 0.270400   \n",
      "77   0.177294    0.067725       0.526316                 0.277008   \n",
      "78   0.169633    0.065971       0.446115                 0.199019   \n",
      "79   0.173724    0.066933       0.493734                 0.243774   \n",
      "\n",
      "    test_recall_weighted  test_f1_weighted  test_roc_auc               model  \n",
      "0               0.937500          0.937451      0.979465  SVM-linear-scale-1  \n",
      "1               0.932500          0.932516      0.977339  SVM-linear-scale-1  \n",
      "2               0.924812          0.924844      0.968808  SVM-linear-scale-1  \n",
      "3               0.957393          0.957356      0.984137  SVM-linear-scale-1  \n",
      "4               0.927318          0.927307      0.973514  SVM-linear-scale-1  \n",
      "..                   ...               ...           ...                 ...  \n",
      "75              0.452500          0.281936      0.500000  SVM-sigmoid-auto-2  \n",
      "76              0.520000          0.355789      0.500000  SVM-sigmoid-auto-2  \n",
      "77              0.526316          0.362976      0.500000  SVM-sigmoid-auto-2  \n",
      "78              0.446115          0.275246      0.500000  SVM-sigmoid-auto-2  \n",
      "79              0.493734          0.326395      0.500000  SVM-sigmoid-auto-2  \n",
      "\n",
      "[80 rows x 8 columns]\n",
      "677.3906356543303\n"
     ]
    }
   ],
   "source": [
    "## S6: Single compromised (IoT) (Raspberry)\n",
    " \n",
    "df_malicious = pd.concat([df5])\n",
    " \n",
    "df_benign = pd.concat([df8,df9,df10])\n",
    "\n",
    "\n",
    "print(\"malicious: {}\".format(len(df_malicious)))\n",
    "print(\"benign: {}\".format(len(df_benign)))\n",
    "\n",
    "print(\"{} NAN in malicious!\".format(len(df_malicious[df_malicious.isna().any(axis=1)])))\n",
    "print(\"{} NAN in benign!\".format(len(df_benign[df_benign.isna().any(axis=1)])))\n",
    "\n",
    "df_malicious = df_malicious.dropna()\n",
    "df_benign = df_benign.dropna()\n",
    "\n",
    "print(\"After droppping NAN rows: \")\n",
    "print(\"malicious: {}\".format(len(df_malicious)))\n",
    "print(\"benign: {}\".format(len(df_benign)))\n",
    "\n",
    "\n",
    "start = timer()\n",
    "\n",
    "results_all_combined_s0 = run_process(df_malicious,df_benign,df_results)\n",
    "\n",
    "end = timer()\n",
    "print(end - start)\n",
    "\n",
    "\n"
   ]
  },
  {
   "cell_type": "code",
   "execution_count": 10,
   "id": "6801eee5",
   "metadata": {
    "execution": {
     "iopub.execute_input": "2025-08-10T00:51:48.436883Z",
     "iopub.status.busy": "2025-08-10T00:51:48.436696Z",
     "iopub.status.idle": "2025-08-10T01:03:06.671350Z",
     "shell.execute_reply": "2025-08-10T01:03:06.670255Z"
    },
    "scrolled": true
   },
   "outputs": [
    {
     "name": "stdout",
     "output_type": "stream",
     "text": [
      "malicious: 47978\n",
      "benign: 47801\n",
      "0 NAN in malicious!\n",
      "0 NAN in benign!\n",
      "After droppping NAN rows: \n",
      "malicious: 47978\n",
      "benign: 47801\n"
     ]
    },
    {
     "name": "stderr",
     "output_type": "stream",
     "text": [
      "\r",
      "Feature Extraction:   0%|          | 0/240 [00:00<?, ?it/s]"
     ]
    },
    {
     "name": "stderr",
     "output_type": "stream",
     "text": [
      "\r",
      "Feature Extraction:   0%|          | 1/240 [00:01<07:34,  1.90s/it]"
     ]
    },
    {
     "name": "stderr",
     "output_type": "stream",
     "text": [
      "\r",
      "Feature Extraction:   1%|          | 2/240 [00:02<03:33,  1.12it/s]"
     ]
    },
    {
     "name": "stderr",
     "output_type": "stream",
     "text": [
      "\r",
      "Feature Extraction:   1%|▏         | 3/240 [00:02<02:19,  1.70it/s]"
     ]
    },
    {
     "name": "stderr",
     "output_type": "stream",
     "text": [
      "\r",
      "Feature Extraction:   2%|▎         | 6/240 [00:02<00:58,  4.01it/s]"
     ]
    },
    {
     "name": "stderr",
     "output_type": "stream",
     "text": [
      "\r",
      "Feature Extraction:   3%|▎         | 8/240 [00:02<00:46,  4.95it/s]"
     ]
    },
    {
     "name": "stderr",
     "output_type": "stream",
     "text": [
      "\r",
      "Feature Extraction:   4%|▍         | 9/240 [00:02<00:42,  5.48it/s]"
     ]
    },
    {
     "name": "stderr",
     "output_type": "stream",
     "text": [
      "\r",
      "Feature Extraction:   5%|▌         | 12/240 [00:03<00:26,  8.61it/s]"
     ]
    },
    {
     "name": "stderr",
     "output_type": "stream",
     "text": [
      "\r",
      "Feature Extraction:   6%|▌         | 14/240 [00:03<00:21, 10.27it/s]"
     ]
    },
    {
     "name": "stderr",
     "output_type": "stream",
     "text": [
      "\r",
      "Feature Extraction:   7%|▋         | 16/240 [00:03<00:19, 11.23it/s]"
     ]
    },
    {
     "name": "stderr",
     "output_type": "stream",
     "text": [
      "\r",
      "Feature Extraction:   8%|▊         | 19/240 [00:03<00:15, 14.13it/s]"
     ]
    },
    {
     "name": "stderr",
     "output_type": "stream",
     "text": [
      "\r",
      "Feature Extraction:   9%|▉         | 22/240 [00:03<00:12, 17.12it/s]"
     ]
    },
    {
     "name": "stderr",
     "output_type": "stream",
     "text": [
      "\r",
      "Feature Extraction:  10%|█         | 25/240 [00:03<00:11, 19.13it/s]"
     ]
    },
    {
     "name": "stderr",
     "output_type": "stream",
     "text": [
      "\r",
      "Feature Extraction:  12%|█▏        | 29/240 [00:03<00:09, 22.27it/s]"
     ]
    },
    {
     "name": "stderr",
     "output_type": "stream",
     "text": [
      "\r",
      "Feature Extraction:  13%|█▎        | 32/240 [00:03<00:09, 22.89it/s]"
     ]
    },
    {
     "name": "stderr",
     "output_type": "stream",
     "text": [
      "\r",
      "Feature Extraction:  15%|█▍        | 35/240 [00:04<00:08, 24.17it/s]"
     ]
    },
    {
     "name": "stderr",
     "output_type": "stream",
     "text": [
      "\r",
      "Feature Extraction:  16%|█▌        | 38/240 [00:04<00:09, 22.18it/s]"
     ]
    },
    {
     "name": "stderr",
     "output_type": "stream",
     "text": [
      "\r",
      "Feature Extraction:  18%|█▊        | 42/240 [00:04<00:08, 24.22it/s]"
     ]
    },
    {
     "name": "stderr",
     "output_type": "stream",
     "text": [
      "\r",
      "Feature Extraction:  19%|█▉        | 45/240 [00:04<00:08, 22.20it/s]"
     ]
    },
    {
     "name": "stderr",
     "output_type": "stream",
     "text": [
      "\r",
      "Feature Extraction:  20%|██        | 48/240 [00:04<00:08, 23.93it/s]"
     ]
    },
    {
     "name": "stderr",
     "output_type": "stream",
     "text": [
      "\r",
      "Feature Extraction:  21%|██▏       | 51/240 [00:04<00:07, 24.51it/s]"
     ]
    },
    {
     "name": "stderr",
     "output_type": "stream",
     "text": [
      "\r",
      "Feature Extraction:  22%|██▎       | 54/240 [00:04<00:07, 25.62it/s]"
     ]
    },
    {
     "name": "stderr",
     "output_type": "stream",
     "text": [
      "\r",
      "Feature Extraction:  24%|██▍       | 57/240 [00:05<00:09, 18.95it/s]"
     ]
    },
    {
     "name": "stderr",
     "output_type": "stream",
     "text": [
      "\r",
      "Feature Extraction:  25%|██▌       | 60/240 [00:05<00:09, 18.59it/s]"
     ]
    },
    {
     "name": "stderr",
     "output_type": "stream",
     "text": [
      "\r",
      "Feature Extraction:  26%|██▋       | 63/240 [00:05<00:09, 19.34it/s]"
     ]
    },
    {
     "name": "stderr",
     "output_type": "stream",
     "text": [
      "\r",
      "Feature Extraction:  28%|██▊       | 66/240 [00:05<00:10, 17.23it/s]"
     ]
    },
    {
     "name": "stderr",
     "output_type": "stream",
     "text": [
      "\r",
      "Feature Extraction:  28%|██▊       | 68/240 [00:05<00:09, 17.53it/s]"
     ]
    },
    {
     "name": "stderr",
     "output_type": "stream",
     "text": [
      "\r",
      "Feature Extraction:  29%|██▉       | 70/240 [00:06<00:14, 11.91it/s]"
     ]
    },
    {
     "name": "stderr",
     "output_type": "stream",
     "text": [
      "\r",
      "Feature Extraction:  30%|███       | 72/240 [00:06<00:13, 12.61it/s]"
     ]
    },
    {
     "name": "stderr",
     "output_type": "stream",
     "text": [
      "\r",
      "Feature Extraction:  31%|███       | 74/240 [00:06<00:12, 13.14it/s]"
     ]
    },
    {
     "name": "stderr",
     "output_type": "stream",
     "text": [
      "\r",
      "Feature Extraction:  32%|███▏      | 76/240 [00:06<00:12, 12.86it/s]"
     ]
    },
    {
     "name": "stderr",
     "output_type": "stream",
     "text": [
      "\r",
      "Feature Extraction:  32%|███▎      | 78/240 [00:06<00:12, 13.06it/s]"
     ]
    },
    {
     "name": "stderr",
     "output_type": "stream",
     "text": [
      "\r",
      "Feature Extraction:  34%|███▍      | 81/240 [00:06<00:10, 15.56it/s]"
     ]
    },
    {
     "name": "stderr",
     "output_type": "stream",
     "text": [
      "\r",
      "Feature Extraction:  35%|███▌      | 84/240 [00:06<00:08, 17.60it/s]"
     ]
    },
    {
     "name": "stderr",
     "output_type": "stream",
     "text": [
      "\r",
      "Feature Extraction:  36%|███▋      | 87/240 [00:07<00:08, 17.95it/s]"
     ]
    },
    {
     "name": "stderr",
     "output_type": "stream",
     "text": [
      "\r",
      "Feature Extraction:  38%|███▊      | 90/240 [00:07<00:07, 20.09it/s]"
     ]
    },
    {
     "name": "stderr",
     "output_type": "stream",
     "text": [
      "\r",
      "Feature Extraction:  39%|███▉      | 93/240 [00:07<00:06, 21.08it/s]"
     ]
    },
    {
     "name": "stderr",
     "output_type": "stream",
     "text": [
      "\r",
      "Feature Extraction:  40%|████      | 96/240 [00:07<00:10, 13.24it/s]"
     ]
    },
    {
     "name": "stderr",
     "output_type": "stream",
     "text": [
      "\r",
      "Feature Extraction:  41%|████      | 98/240 [00:07<00:10, 13.42it/s]"
     ]
    },
    {
     "name": "stderr",
     "output_type": "stream",
     "text": [
      "\r",
      "Feature Extraction:  42%|████▎     | 102/240 [00:07<00:08, 16.47it/s]"
     ]
    },
    {
     "name": "stderr",
     "output_type": "stream",
     "text": [
      "\r",
      "Feature Extraction:  44%|████▍     | 105/240 [00:08<00:07, 18.79it/s]"
     ]
    },
    {
     "name": "stderr",
     "output_type": "stream",
     "text": [
      "\r",
      "Feature Extraction:  45%|████▌     | 108/240 [00:08<00:06, 20.32it/s]"
     ]
    },
    {
     "name": "stderr",
     "output_type": "stream",
     "text": [
      "\r",
      "Feature Extraction:  46%|████▋     | 111/240 [00:08<00:05, 22.18it/s]"
     ]
    },
    {
     "name": "stderr",
     "output_type": "stream",
     "text": [
      "\r",
      "Feature Extraction:  48%|████▊     | 114/240 [00:08<00:05, 23.16it/s]"
     ]
    },
    {
     "name": "stderr",
     "output_type": "stream",
     "text": [
      "\r",
      "Feature Extraction:  49%|████▉     | 117/240 [00:08<00:08, 15.17it/s]"
     ]
    },
    {
     "name": "stderr",
     "output_type": "stream",
     "text": [
      "\r",
      "Feature Extraction:  50%|████▉     | 119/240 [00:08<00:08, 14.62it/s]"
     ]
    },
    {
     "name": "stderr",
     "output_type": "stream",
     "text": [
      "\r",
      "Feature Extraction:  51%|█████     | 122/240 [00:09<00:07, 16.54it/s]"
     ]
    },
    {
     "name": "stderr",
     "output_type": "stream",
     "text": [
      "\r",
      "Feature Extraction:  52%|█████▏    | 125/240 [00:09<00:06, 19.14it/s]"
     ]
    },
    {
     "name": "stderr",
     "output_type": "stream",
     "text": [
      "\r",
      "Feature Extraction:  53%|█████▎    | 128/240 [00:09<00:05, 20.76it/s]"
     ]
    },
    {
     "name": "stderr",
     "output_type": "stream",
     "text": [
      "\r",
      "Feature Extraction:  55%|█████▍    | 131/240 [00:09<00:05, 21.17it/s]"
     ]
    },
    {
     "name": "stderr",
     "output_type": "stream",
     "text": [
      "\r",
      "Feature Extraction:  56%|█████▌    | 134/240 [00:09<00:05, 19.41it/s]"
     ]
    },
    {
     "name": "stderr",
     "output_type": "stream",
     "text": [
      "\r",
      "Feature Extraction:  57%|█████▋    | 137/240 [00:09<00:06, 16.83it/s]"
     ]
    },
    {
     "name": "stderr",
     "output_type": "stream",
     "text": [
      "\r",
      "Feature Extraction:  58%|█████▊    | 139/240 [00:10<00:06, 14.76it/s]"
     ]
    },
    {
     "name": "stderr",
     "output_type": "stream",
     "text": [
      "\r",
      "Feature Extraction:  59%|█████▉    | 142/240 [00:10<00:06, 15.80it/s]"
     ]
    },
    {
     "name": "stderr",
     "output_type": "stream",
     "text": [
      "\r",
      "Feature Extraction:  60%|██████    | 144/240 [00:10<00:07, 13.71it/s]"
     ]
    },
    {
     "name": "stderr",
     "output_type": "stream",
     "text": [
      "\r",
      "Feature Extraction:  61%|██████▏   | 147/240 [00:10<00:05, 15.76it/s]"
     ]
    },
    {
     "name": "stderr",
     "output_type": "stream",
     "text": [
      "\r",
      "Feature Extraction:  62%|██████▏   | 149/240 [00:10<00:06, 14.92it/s]"
     ]
    },
    {
     "name": "stderr",
     "output_type": "stream",
     "text": [
      "\r",
      "Feature Extraction:  63%|██████▎   | 151/240 [00:10<00:06, 13.91it/s]"
     ]
    },
    {
     "name": "stderr",
     "output_type": "stream",
     "text": [
      "\r",
      "Feature Extraction:  64%|██████▍   | 154/240 [00:11<00:05, 14.39it/s]"
     ]
    },
    {
     "name": "stderr",
     "output_type": "stream",
     "text": [
      "\r",
      "Feature Extraction:  66%|██████▌   | 158/240 [00:11<00:04, 17.59it/s]"
     ]
    },
    {
     "name": "stderr",
     "output_type": "stream",
     "text": [
      "\r",
      "Feature Extraction:  67%|██████▋   | 160/240 [00:11<00:04, 17.32it/s]"
     ]
    },
    {
     "name": "stderr",
     "output_type": "stream",
     "text": [
      "\r",
      "Feature Extraction:  68%|██████▊   | 162/240 [00:11<00:04, 15.93it/s]"
     ]
    },
    {
     "name": "stderr",
     "output_type": "stream",
     "text": [
      "\r",
      "Feature Extraction:  68%|██████▊   | 164/240 [00:11<00:04, 15.54it/s]"
     ]
    },
    {
     "name": "stderr",
     "output_type": "stream",
     "text": [
      "\r",
      "Feature Extraction:  69%|██████▉   | 166/240 [00:11<00:04, 15.15it/s]"
     ]
    },
    {
     "name": "stderr",
     "output_type": "stream",
     "text": [
      "\r",
      "Feature Extraction:  70%|███████   | 168/240 [00:11<00:04, 15.20it/s]"
     ]
    },
    {
     "name": "stderr",
     "output_type": "stream",
     "text": [
      "\r",
      "Feature Extraction:  71%|███████▏  | 171/240 [00:12<00:04, 16.63it/s]"
     ]
    },
    {
     "name": "stderr",
     "output_type": "stream",
     "text": [
      "\r",
      "Feature Extraction:  72%|███████▎  | 174/240 [00:12<00:03, 16.82it/s]"
     ]
    },
    {
     "name": "stderr",
     "output_type": "stream",
     "text": [
      "\r",
      "Feature Extraction:  74%|███████▍  | 177/240 [00:12<00:03, 19.44it/s]"
     ]
    },
    {
     "name": "stderr",
     "output_type": "stream",
     "text": [
      "\r",
      "Feature Extraction:  75%|███████▌  | 181/240 [00:12<00:02, 22.17it/s]"
     ]
    },
    {
     "name": "stderr",
     "output_type": "stream",
     "text": [
      "\r",
      "Feature Extraction:  77%|███████▋  | 184/240 [00:12<00:02, 20.34it/s]"
     ]
    },
    {
     "name": "stderr",
     "output_type": "stream",
     "text": [
      "\r",
      "Feature Extraction:  78%|███████▊  | 187/240 [00:12<00:02, 21.30it/s]"
     ]
    },
    {
     "name": "stderr",
     "output_type": "stream",
     "text": [
      "\r",
      "Feature Extraction:  79%|███████▉  | 190/240 [00:12<00:02, 22.16it/s]"
     ]
    },
    {
     "name": "stderr",
     "output_type": "stream",
     "text": [
      "\r",
      "Feature Extraction:  81%|████████  | 194/240 [00:13<00:01, 24.91it/s]"
     ]
    },
    {
     "name": "stderr",
     "output_type": "stream",
     "text": [
      "\r",
      "Feature Extraction:  82%|████████▏ | 197/240 [00:13<00:02, 15.98it/s]"
     ]
    },
    {
     "name": "stderr",
     "output_type": "stream",
     "text": [
      "\r",
      "Feature Extraction:  83%|████████▎ | 200/240 [00:13<00:02, 18.35it/s]"
     ]
    },
    {
     "name": "stderr",
     "output_type": "stream",
     "text": [
      "\r",
      "Feature Extraction:  85%|████████▍ | 203/240 [00:13<00:01, 19.48it/s]"
     ]
    },
    {
     "name": "stderr",
     "output_type": "stream",
     "text": [
      "\r",
      "Feature Extraction:  86%|████████▌ | 206/240 [00:13<00:01, 19.97it/s]"
     ]
    },
    {
     "name": "stderr",
     "output_type": "stream",
     "text": [
      "\r",
      "Feature Extraction:  87%|████████▋ | 209/240 [00:13<00:01, 19.06it/s]"
     ]
    },
    {
     "name": "stderr",
     "output_type": "stream",
     "text": [
      "\r",
      "Feature Extraction:  88%|████████▊ | 212/240 [00:14<00:01, 19.26it/s]"
     ]
    },
    {
     "name": "stderr",
     "output_type": "stream",
     "text": [
      "\r",
      "Feature Extraction:  90%|████████▉ | 215/240 [00:14<00:01, 19.13it/s]"
     ]
    },
    {
     "name": "stderr",
     "output_type": "stream",
     "text": [
      "\r",
      "Feature Extraction:  91%|█████████ | 218/240 [00:14<00:01, 20.51it/s]"
     ]
    },
    {
     "name": "stderr",
     "output_type": "stream",
     "text": [
      "\r",
      "Feature Extraction:  92%|█████████▎| 222/240 [00:14<00:00, 24.72it/s]"
     ]
    },
    {
     "name": "stderr",
     "output_type": "stream",
     "text": [
      "\r",
      "Feature Extraction:  94%|█████████▍| 226/240 [00:14<00:00, 26.32it/s]"
     ]
    },
    {
     "name": "stderr",
     "output_type": "stream",
     "text": [
      "\r",
      "Feature Extraction:  98%|█████████▊| 235/240 [00:14<00:00, 40.40it/s]"
     ]
    },
    {
     "name": "stderr",
     "output_type": "stream",
     "text": [
      "\r",
      "Feature Extraction: 100%|██████████| 240/240 [00:14<00:00, 16.20it/s]"
     ]
    },
    {
     "name": "stderr",
     "output_type": "stream",
     "text": [
      "\n"
     ]
    },
    {
     "name": "stderr",
     "output_type": "stream",
     "text": [
      "\r",
      "Feature Extraction:   0%|          | 0/240 [00:00<?, ?it/s]"
     ]
    },
    {
     "name": "stderr",
     "output_type": "stream",
     "text": [
      "\r",
      "Feature Extraction:   0%|          | 1/240 [00:01<07:41,  1.93s/it]"
     ]
    },
    {
     "name": "stderr",
     "output_type": "stream",
     "text": [
      "\r",
      "Feature Extraction:   1%|          | 2/240 [00:02<03:23,  1.17it/s]"
     ]
    },
    {
     "name": "stderr",
     "output_type": "stream",
     "text": [
      "\r",
      "Feature Extraction:   2%|▎         | 6/240 [00:02<00:51,  4.53it/s]"
     ]
    },
    {
     "name": "stderr",
     "output_type": "stream",
     "text": [
      "\r",
      "Feature Extraction:   3%|▎         | 8/240 [00:02<00:40,  5.77it/s]"
     ]
    },
    {
     "name": "stderr",
     "output_type": "stream",
     "text": [
      "\r",
      "Feature Extraction:   5%|▍         | 11/240 [00:02<00:29,  7.88it/s]"
     ]
    },
    {
     "name": "stderr",
     "output_type": "stream",
     "text": [
      "\r",
      "Feature Extraction:   6%|▋         | 15/240 [00:02<00:18, 12.05it/s]"
     ]
    },
    {
     "name": "stderr",
     "output_type": "stream",
     "text": [
      "\r",
      "Feature Extraction:   8%|▊         | 18/240 [00:02<00:15, 14.32it/s]"
     ]
    },
    {
     "name": "stderr",
     "output_type": "stream",
     "text": [
      "\r",
      "Feature Extraction:   9%|▉         | 21/240 [00:02<00:13, 16.17it/s]"
     ]
    },
    {
     "name": "stderr",
     "output_type": "stream",
     "text": [
      "\r",
      "Feature Extraction:  10%|█         | 25/240 [00:03<00:11, 18.83it/s]"
     ]
    },
    {
     "name": "stderr",
     "output_type": "stream",
     "text": [
      "\r",
      "Feature Extraction:  12%|█▏        | 29/240 [00:03<00:09, 22.32it/s]"
     ]
    },
    {
     "name": "stderr",
     "output_type": "stream",
     "text": [
      "\r",
      "Feature Extraction:  13%|█▎        | 32/240 [00:03<00:13, 15.08it/s]"
     ]
    },
    {
     "name": "stderr",
     "output_type": "stream",
     "text": [
      "\r",
      "Feature Extraction:  15%|█▍        | 35/240 [00:03<00:12, 16.12it/s]"
     ]
    },
    {
     "name": "stderr",
     "output_type": "stream",
     "text": [
      "\r",
      "Feature Extraction:  17%|█▋        | 40/240 [00:03<00:09, 21.67it/s]"
     ]
    },
    {
     "name": "stderr",
     "output_type": "stream",
     "text": [
      "\r",
      "Feature Extraction:  18%|█▊        | 43/240 [00:04<00:10, 18.34it/s]"
     ]
    },
    {
     "name": "stderr",
     "output_type": "stream",
     "text": [
      "\r",
      "Feature Extraction:  19%|█▉        | 46/240 [00:04<00:11, 17.30it/s]"
     ]
    },
    {
     "name": "stderr",
     "output_type": "stream",
     "text": [
      "\r",
      "Feature Extraction:  20%|██        | 49/240 [00:04<00:10, 18.70it/s]"
     ]
    },
    {
     "name": "stderr",
     "output_type": "stream",
     "text": [
      "\r",
      "Feature Extraction:  22%|██▏       | 52/240 [00:04<00:10, 18.08it/s]"
     ]
    },
    {
     "name": "stderr",
     "output_type": "stream",
     "text": [
      "\r",
      "Feature Extraction:  23%|██▎       | 55/240 [00:04<00:10, 18.20it/s]"
     ]
    },
    {
     "name": "stderr",
     "output_type": "stream",
     "text": [
      "\r",
      "Feature Extraction:  24%|██▍       | 57/240 [00:04<00:10, 17.30it/s]"
     ]
    },
    {
     "name": "stderr",
     "output_type": "stream",
     "text": [
      "\r",
      "Feature Extraction:  25%|██▍       | 59/240 [00:04<00:10, 17.61it/s]"
     ]
    },
    {
     "name": "stderr",
     "output_type": "stream",
     "text": [
      "\r",
      "Feature Extraction:  25%|██▌       | 61/240 [00:05<00:10, 16.28it/s]"
     ]
    },
    {
     "name": "stderr",
     "output_type": "stream",
     "text": [
      "\r",
      "Feature Extraction:  27%|██▋       | 64/240 [00:05<00:09, 18.17it/s]"
     ]
    },
    {
     "name": "stderr",
     "output_type": "stream",
     "text": [
      "\r",
      "Feature Extraction:  28%|██▊       | 67/240 [00:05<00:08, 19.50it/s]"
     ]
    },
    {
     "name": "stderr",
     "output_type": "stream",
     "text": [
      "\r",
      "Feature Extraction:  30%|██▉       | 71/240 [00:05<00:07, 22.34it/s]"
     ]
    },
    {
     "name": "stderr",
     "output_type": "stream",
     "text": [
      "\r",
      "Feature Extraction:  31%|███       | 74/240 [00:05<00:11, 14.91it/s]"
     ]
    },
    {
     "name": "stderr",
     "output_type": "stream",
     "text": [
      "\r",
      "Feature Extraction:  32%|███▏      | 76/240 [00:06<00:11, 14.71it/s]"
     ]
    },
    {
     "name": "stderr",
     "output_type": "stream",
     "text": [
      "\r",
      "Feature Extraction:  32%|███▎      | 78/240 [00:06<00:10, 15.15it/s]"
     ]
    },
    {
     "name": "stderr",
     "output_type": "stream",
     "text": [
      "\r",
      "Feature Extraction:  33%|███▎      | 80/240 [00:06<00:11, 14.53it/s]"
     ]
    },
    {
     "name": "stderr",
     "output_type": "stream",
     "text": [
      "\r",
      "Feature Extraction:  34%|███▍      | 82/240 [00:06<00:11, 13.95it/s]"
     ]
    },
    {
     "name": "stderr",
     "output_type": "stream",
     "text": [
      "\r",
      "Feature Extraction:  36%|███▌      | 86/240 [00:06<00:08, 18.19it/s]"
     ]
    },
    {
     "name": "stderr",
     "output_type": "stream",
     "text": [
      "\r",
      "Feature Extraction:  37%|███▋      | 89/240 [00:06<00:08, 18.28it/s]"
     ]
    },
    {
     "name": "stderr",
     "output_type": "stream",
     "text": [
      "\r",
      "Feature Extraction:  38%|███▊      | 91/240 [00:06<00:09, 16.44it/s]"
     ]
    },
    {
     "name": "stderr",
     "output_type": "stream",
     "text": [
      "\r",
      "Feature Extraction:  39%|███▉      | 94/240 [00:07<00:08, 18.24it/s]"
     ]
    },
    {
     "name": "stderr",
     "output_type": "stream",
     "text": [
      "\r",
      "Feature Extraction:  40%|████      | 96/240 [00:07<00:07, 18.26it/s]"
     ]
    },
    {
     "name": "stderr",
     "output_type": "stream",
     "text": [
      "\r",
      "Feature Extraction:  41%|████▏     | 99/240 [00:07<00:07, 19.36it/s]"
     ]
    },
    {
     "name": "stderr",
     "output_type": "stream",
     "text": [
      "\r",
      "Feature Extraction:  42%|████▎     | 102/240 [00:07<00:06, 20.17it/s]"
     ]
    },
    {
     "name": "stderr",
     "output_type": "stream",
     "text": [
      "\r",
      "Feature Extraction:  44%|████▍     | 105/240 [00:07<00:06, 21.38it/s]"
     ]
    },
    {
     "name": "stderr",
     "output_type": "stream",
     "text": [
      "\r",
      "Feature Extraction:  45%|████▌     | 108/240 [00:07<00:08, 16.43it/s]"
     ]
    },
    {
     "name": "stderr",
     "output_type": "stream",
     "text": [
      "\r",
      "Feature Extraction:  46%|████▋     | 111/240 [00:07<00:07, 17.63it/s]"
     ]
    },
    {
     "name": "stderr",
     "output_type": "stream",
     "text": [
      "\r",
      "Feature Extraction:  48%|████▊     | 114/240 [00:08<00:06, 19.07it/s]"
     ]
    },
    {
     "name": "stderr",
     "output_type": "stream",
     "text": [
      "\r",
      "Feature Extraction:  49%|████▉     | 117/240 [00:08<00:08, 13.75it/s]"
     ]
    },
    {
     "name": "stderr",
     "output_type": "stream",
     "text": [
      "\r",
      "Feature Extraction:  50%|████▉     | 119/240 [00:08<00:08, 14.70it/s]"
     ]
    },
    {
     "name": "stderr",
     "output_type": "stream",
     "text": [
      "\r",
      "Feature Extraction:  50%|█████     | 121/240 [00:08<00:07, 15.59it/s]"
     ]
    },
    {
     "name": "stderr",
     "output_type": "stream",
     "text": [
      "\r",
      "Feature Extraction:  52%|█████▏    | 124/240 [00:08<00:06, 18.50it/s]"
     ]
    },
    {
     "name": "stderr",
     "output_type": "stream",
     "text": [
      "\r",
      "Feature Extraction:  53%|█████▎    | 127/240 [00:08<00:06, 16.78it/s]"
     ]
    },
    {
     "name": "stderr",
     "output_type": "stream",
     "text": [
      "\r",
      "Feature Extraction:  54%|█████▍    | 130/240 [00:09<00:05, 18.34it/s]"
     ]
    },
    {
     "name": "stderr",
     "output_type": "stream",
     "text": [
      "\r",
      "Feature Extraction:  55%|█████▌    | 133/240 [00:09<00:05, 19.69it/s]"
     ]
    },
    {
     "name": "stderr",
     "output_type": "stream",
     "text": [
      "\r",
      "Feature Extraction:  57%|█████▋    | 136/240 [00:09<00:04, 21.70it/s]"
     ]
    },
    {
     "name": "stderr",
     "output_type": "stream",
     "text": [
      "\r",
      "Feature Extraction:  58%|█████▊    | 139/240 [00:09<00:04, 20.95it/s]"
     ]
    },
    {
     "name": "stderr",
     "output_type": "stream",
     "text": [
      "\r",
      "Feature Extraction:  59%|█████▉    | 142/240 [00:09<00:05, 16.47it/s]"
     ]
    },
    {
     "name": "stderr",
     "output_type": "stream",
     "text": [
      "\r",
      "Feature Extraction:  60%|██████    | 145/240 [00:09<00:05, 18.23it/s]"
     ]
    },
    {
     "name": "stderr",
     "output_type": "stream",
     "text": [
      "\r",
      "Feature Extraction:  62%|██████▏   | 148/240 [00:10<00:04, 19.01it/s]"
     ]
    },
    {
     "name": "stderr",
     "output_type": "stream",
     "text": [
      "\r",
      "Feature Extraction:  63%|██████▎   | 151/240 [00:10<00:07, 11.86it/s]"
     ]
    },
    {
     "name": "stderr",
     "output_type": "stream",
     "text": [
      "\r",
      "Feature Extraction:  64%|██████▍   | 153/240 [00:10<00:07, 12.19it/s]"
     ]
    },
    {
     "name": "stderr",
     "output_type": "stream",
     "text": [
      "\r",
      "Feature Extraction:  65%|██████▍   | 155/240 [00:11<00:10,  7.83it/s]"
     ]
    },
    {
     "name": "stderr",
     "output_type": "stream",
     "text": [
      "\r",
      "Feature Extraction:  66%|██████▋   | 159/240 [00:11<00:07, 11.41it/s]"
     ]
    },
    {
     "name": "stderr",
     "output_type": "stream",
     "text": [
      "\r",
      "Feature Extraction:  68%|██████▊   | 162/240 [00:11<00:05, 13.10it/s]"
     ]
    },
    {
     "name": "stderr",
     "output_type": "stream",
     "text": [
      "\r",
      "Feature Extraction:  69%|██████▉   | 166/240 [00:11<00:04, 17.35it/s]"
     ]
    },
    {
     "name": "stderr",
     "output_type": "stream",
     "text": [
      "\r",
      "Feature Extraction:  70%|███████   | 169/240 [00:11<00:04, 17.24it/s]"
     ]
    },
    {
     "name": "stderr",
     "output_type": "stream",
     "text": [
      "\r",
      "Feature Extraction:  72%|███████▏  | 173/240 [00:11<00:03, 19.71it/s]"
     ]
    },
    {
     "name": "stderr",
     "output_type": "stream",
     "text": [
      "\r",
      "Feature Extraction:  74%|███████▍  | 178/240 [00:12<00:02, 23.80it/s]"
     ]
    },
    {
     "name": "stderr",
     "output_type": "stream",
     "text": [
      "\r",
      "Feature Extraction:  75%|███████▌  | 181/240 [00:12<00:02, 22.75it/s]"
     ]
    },
    {
     "name": "stderr",
     "output_type": "stream",
     "text": [
      "\r",
      "Feature Extraction:  77%|███████▋  | 185/240 [00:12<00:02, 24.80it/s]"
     ]
    },
    {
     "name": "stderr",
     "output_type": "stream",
     "text": [
      "\r",
      "Feature Extraction:  79%|███████▉  | 189/240 [00:12<00:01, 25.54it/s]"
     ]
    },
    {
     "name": "stderr",
     "output_type": "stream",
     "text": [
      "\r",
      "Feature Extraction:  80%|████████  | 192/240 [00:12<00:01, 24.72it/s]"
     ]
    },
    {
     "name": "stderr",
     "output_type": "stream",
     "text": [
      "\r",
      "Feature Extraction:  82%|████████▏ | 196/240 [00:12<00:01, 28.15it/s]"
     ]
    },
    {
     "name": "stderr",
     "output_type": "stream",
     "text": [
      "\r",
      "Feature Extraction:  84%|████████▍ | 201/240 [00:12<00:01, 22.30it/s]"
     ]
    },
    {
     "name": "stderr",
     "output_type": "stream",
     "text": [
      "\r",
      "Feature Extraction:  85%|████████▌ | 204/240 [00:13<00:01, 18.79it/s]"
     ]
    },
    {
     "name": "stderr",
     "output_type": "stream",
     "text": [
      "\r",
      "Feature Extraction:  86%|████████▋ | 207/240 [00:13<00:01, 19.89it/s]"
     ]
    },
    {
     "name": "stderr",
     "output_type": "stream",
     "text": [
      "\r",
      "Feature Extraction:  88%|████████▊ | 211/240 [00:13<00:01, 20.96it/s]"
     ]
    },
    {
     "name": "stderr",
     "output_type": "stream",
     "text": [
      "\r",
      "Feature Extraction:  89%|████████▉ | 214/240 [00:13<00:01, 18.55it/s]"
     ]
    },
    {
     "name": "stderr",
     "output_type": "stream",
     "text": [
      "\r",
      "Feature Extraction:  90%|█████████ | 217/240 [00:13<00:01, 20.37it/s]"
     ]
    },
    {
     "name": "stderr",
     "output_type": "stream",
     "text": [
      "\r",
      "Feature Extraction:  94%|█████████▍| 225/240 [00:14<00:00, 25.20it/s]"
     ]
    },
    {
     "name": "stderr",
     "output_type": "stream",
     "text": [
      "\r",
      "Feature Extraction:  97%|█████████▋| 233/240 [00:14<00:00, 34.67it/s]"
     ]
    },
    {
     "name": "stderr",
     "output_type": "stream",
     "text": [
      "\r",
      "Feature Extraction: 100%|█████████▉| 239/240 [00:14<00:00, 39.43it/s]"
     ]
    },
    {
     "name": "stderr",
     "output_type": "stream",
     "text": [
      "\r",
      "Feature Extraction: 100%|██████████| 240/240 [00:14<00:00, 16.74it/s]"
     ]
    },
    {
     "name": "stderr",
     "output_type": "stream",
     "text": [
      "\n"
     ]
    },
    {
     "name": "stdout",
     "output_type": "stream",
     "text": [
      "let the ml starts\n"
     ]
    },
    {
     "name": "stdout",
     "output_type": "stream",
     "text": [
      "SVM-linear-scale-1\n",
      "              precision    recall  f1-score   support\n",
      "\n",
      "   malignant       1.00      1.00      1.00      1206\n",
      "      benign       1.00      1.00      1.00      1189\n",
      "\n",
      "    accuracy                           1.00      2395\n",
      "   macro avg       1.00      1.00      1.00      2395\n",
      "weighted avg       1.00      1.00      1.00      2395\n",
      "\n",
      "    fit_time  score_time  test_accuracy  test_precision_weighted  \\\n",
      "0  18.256321    0.034383       0.996521                 0.996521   \n",
      "1  12.519315    0.032548       0.997912                 0.997921   \n",
      "2  19.685532    0.034698       0.996521                 0.996521   \n",
      "3  23.644054    0.035336       0.998608                 0.998608   \n",
      "4  13.264422    0.033929       0.997911                 0.997912   \n",
      "\n",
      "   test_recall_weighted  test_f1_weighted  test_roc_auc               model  \n",
      "0              0.996521          0.996520      0.999318  SVM-linear-scale-1  \n",
      "1              0.997912          0.997912      0.999358  SVM-linear-scale-1  \n",
      "2              0.996521          0.996520      0.999671  SVM-linear-scale-1  \n",
      "3              0.998608          0.998608      0.999946  SVM-linear-scale-1  \n",
      "4              0.997911          0.997911      0.999988  SVM-linear-scale-1  \n"
     ]
    },
    {
     "name": "stdout",
     "output_type": "stream",
     "text": [
      "SVM-poly-scale-1\n",
      "              precision    recall  f1-score   support\n",
      "\n",
      "   malignant       0.93      0.90      0.92      1206\n",
      "      benign       0.90      0.93      0.92      1189\n",
      "\n",
      "    accuracy                           0.92      2395\n",
      "   macro avg       0.92      0.92      0.92      2395\n",
      "weighted avg       0.92      0.92      0.92      2395\n",
      "\n",
      "    fit_time  score_time  test_accuracy  test_precision_weighted  \\\n",
      "0  18.256321    0.034383       0.996521                 0.996521   \n",
      "1  12.519315    0.032548       0.997912                 0.997921   \n",
      "2  19.685532    0.034698       0.996521                 0.996521   \n",
      "3  23.644054    0.035336       0.998608                 0.998608   \n",
      "4  13.264422    0.033929       0.997911                 0.997912   \n",
      "5   1.050362    0.369133       0.894920                 0.895667   \n",
      "6   1.074785    0.376257       0.906054                 0.906097   \n",
      "7   1.052148    0.373740       0.909534                 0.910293   \n",
      "8   1.052309    0.371616       0.903967                 0.905515   \n",
      "9   1.075441    0.378397       0.907382                 0.907945   \n",
      "\n",
      "   test_recall_weighted  test_f1_weighted  test_roc_auc               model  \n",
      "0              0.996521          0.996520      0.999318  SVM-linear-scale-1  \n",
      "1              0.997912          0.997912      0.999358  SVM-linear-scale-1  \n",
      "2              0.996521          0.996520      0.999671  SVM-linear-scale-1  \n",
      "3              0.998608          0.998608      0.999946  SVM-linear-scale-1  \n",
      "4              0.997911          0.997911      0.999988  SVM-linear-scale-1  \n",
      "5              0.894920          0.894929      0.963174    SVM-poly-scale-1  \n",
      "6              0.906054          0.906022      0.967120    SVM-poly-scale-1  \n",
      "7              0.909534          0.909517      0.964610    SVM-poly-scale-1  \n",
      "8              0.903967          0.903891      0.960394    SVM-poly-scale-1  \n",
      "9              0.907382          0.907292      0.964197    SVM-poly-scale-1  \n"
     ]
    },
    {
     "name": "stdout",
     "output_type": "stream",
     "text": [
      "SVM-rbf-scale-1\n",
      "              precision    recall  f1-score   support\n",
      "\n",
      "   malignant       0.93      0.90      0.91      1206\n",
      "      benign       0.90      0.93      0.92      1189\n",
      "\n",
      "    accuracy                           0.91      2395\n",
      "   macro avg       0.91      0.91      0.91      2395\n",
      "weighted avg       0.92      0.91      0.91      2395\n",
      "\n",
      "     fit_time  score_time  test_accuracy  test_precision_weighted  \\\n",
      "0   18.256321    0.034383       0.996521                 0.996521   \n",
      "1   12.519315    0.032548       0.997912                 0.997921   \n",
      "2   19.685532    0.034698       0.996521                 0.996521   \n",
      "3   23.644054    0.035336       0.998608                 0.998608   \n",
      "4   13.264422    0.033929       0.997911                 0.997912   \n",
      "5    1.050362    0.369133       0.894920                 0.895667   \n",
      "6    1.074785    0.376257       0.906054                 0.906097   \n",
      "7    1.052148    0.373740       0.909534                 0.910293   \n",
      "8    1.052309    0.371616       0.903967                 0.905515   \n",
      "9    1.075441    0.378397       0.907382                 0.907945   \n",
      "10   1.067502    0.927082       0.890745                 0.891156   \n",
      "11   1.076198    0.932457       0.901183                 0.901210   \n",
      "12   1.065382    0.927569       0.898399                 0.898884   \n",
      "13   1.054927    0.924966       0.897008                 0.898673   \n",
      "14   1.077722    0.947390       0.898329                 0.898680   \n",
      "\n",
      "    test_recall_weighted  test_f1_weighted  test_roc_auc               model  \n",
      "0               0.996521          0.996520      0.999318  SVM-linear-scale-1  \n",
      "1               0.997912          0.997912      0.999358  SVM-linear-scale-1  \n",
      "2               0.996521          0.996520      0.999671  SVM-linear-scale-1  \n",
      "3               0.998608          0.998608      0.999946  SVM-linear-scale-1  \n",
      "4               0.997911          0.997911      0.999988  SVM-linear-scale-1  \n",
      "5               0.894920          0.894929      0.963174    SVM-poly-scale-1  \n",
      "6               0.906054          0.906022      0.967120    SVM-poly-scale-1  \n",
      "7               0.909534          0.909517      0.964610    SVM-poly-scale-1  \n",
      "8               0.903967          0.903891      0.960394    SVM-poly-scale-1  \n",
      "9               0.907382          0.907292      0.964197    SVM-poly-scale-1  \n",
      "10              0.890745          0.890760      0.961522     SVM-rbf-scale-1  \n",
      "11              0.901183          0.901153      0.963568     SVM-rbf-scale-1  \n",
      "12              0.898399          0.898391      0.961154     SVM-rbf-scale-1  \n",
      "13              0.897008          0.896918      0.960053     SVM-rbf-scale-1  \n",
      "14              0.898329          0.898253      0.965723     SVM-rbf-scale-1  \n"
     ]
    },
    {
     "name": "stdout",
     "output_type": "stream",
     "text": [
      "SVM-sigmoid-scale-1\n",
      "              precision    recall  f1-score   support\n",
      "\n",
      "   malignant       0.68      0.68      0.68      1206\n",
      "      benign       0.67      0.67      0.67      1189\n",
      "\n",
      "    accuracy                           0.68      2395\n",
      "   macro avg       0.68      0.68      0.68      2395\n",
      "weighted avg       0.68      0.68      0.68      2395\n",
      "\n",
      "     fit_time  score_time  test_accuracy  test_precision_weighted  \\\n",
      "0   18.256321    0.034383       0.996521                 0.996521   \n",
      "1   12.519315    0.032548       0.997912                 0.997921   \n",
      "2   19.685532    0.034698       0.996521                 0.996521   \n",
      "3   23.644054    0.035336       0.998608                 0.998608   \n",
      "4   13.264422    0.033929       0.997911                 0.997912   \n",
      "5    1.050362    0.369133       0.894920                 0.895667   \n",
      "6    1.074785    0.376257       0.906054                 0.906097   \n",
      "7    1.052148    0.373740       0.909534                 0.910293   \n",
      "8    1.052309    0.371616       0.903967                 0.905515   \n",
      "9    1.075441    0.378397       0.907382                 0.907945   \n",
      "10   1.067502    0.927082       0.890745                 0.891156   \n",
      "11   1.076198    0.932457       0.901183                 0.901210   \n",
      "12   1.065382    0.927569       0.898399                 0.898884   \n",
      "13   1.054927    0.924966       0.897008                 0.898673   \n",
      "14   1.077722    0.947390       0.898329                 0.898680   \n",
      "15   1.334675    0.568467       0.634656                 0.635180   \n",
      "16   1.361073    0.576093       0.660404                 0.660404   \n",
      "17   1.350662    0.573878       0.668754                 0.668754   \n",
      "18   1.355460    0.574910       0.672234                 0.672266   \n",
      "19   1.379015    0.583464       0.678969                 0.679984   \n",
      "\n",
      "    test_recall_weighted  test_f1_weighted  test_roc_auc                model  \n",
      "0               0.996521          0.996520      0.999318   SVM-linear-scale-1  \n",
      "1               0.997912          0.997912      0.999358   SVM-linear-scale-1  \n",
      "2               0.996521          0.996520      0.999671   SVM-linear-scale-1  \n",
      "3               0.998608          0.998608      0.999946   SVM-linear-scale-1  \n",
      "4               0.997911          0.997911      0.999988   SVM-linear-scale-1  \n",
      "5               0.894920          0.894929      0.963174     SVM-poly-scale-1  \n",
      "6               0.906054          0.906022      0.967120     SVM-poly-scale-1  \n",
      "7               0.909534          0.909517      0.964610     SVM-poly-scale-1  \n",
      "8               0.903967          0.903891      0.960394     SVM-poly-scale-1  \n",
      "9               0.907382          0.907292      0.964197     SVM-poly-scale-1  \n",
      "10              0.890745          0.890760      0.961522      SVM-rbf-scale-1  \n",
      "11              0.901183          0.901153      0.963568      SVM-rbf-scale-1  \n",
      "12              0.898399          0.898391      0.961154      SVM-rbf-scale-1  \n",
      "13              0.897008          0.896918      0.960053      SVM-rbf-scale-1  \n",
      "14              0.898329          0.898253      0.965723      SVM-rbf-scale-1  \n",
      "15              0.634656          0.634694      0.749510  SVM-sigmoid-scale-1  \n",
      "16              0.660404          0.660404      0.769500  SVM-sigmoid-scale-1  \n",
      "17              0.668754          0.668754      0.766135  SVM-sigmoid-scale-1  \n",
      "18              0.672234          0.672234      0.779168  SVM-sigmoid-scale-1  \n",
      "19              0.678969          0.678975      0.788626  SVM-sigmoid-scale-1  \n"
     ]
    },
    {
     "name": "stdout",
     "output_type": "stream",
     "text": [
      "SVM-linear-auto-1\n",
      "              precision    recall  f1-score   support\n",
      "\n",
      "   malignant       1.00      1.00      1.00      1206\n",
      "      benign       1.00      1.00      1.00      1189\n",
      "\n",
      "    accuracy                           1.00      2395\n",
      "   macro avg       1.00      1.00      1.00      2395\n",
      "weighted avg       1.00      1.00      1.00      2395\n",
      "\n",
      "     fit_time  score_time  test_accuracy  test_precision_weighted  \\\n",
      "0   18.256321    0.034383       0.996521                 0.996521   \n",
      "1   12.519315    0.032548       0.997912                 0.997921   \n",
      "2   19.685532    0.034698       0.996521                 0.996521   \n",
      "3   23.644054    0.035336       0.998608                 0.998608   \n",
      "4   13.264422    0.033929       0.997911                 0.997912   \n",
      "5    1.050362    0.369133       0.894920                 0.895667   \n",
      "6    1.074785    0.376257       0.906054                 0.906097   \n",
      "7    1.052148    0.373740       0.909534                 0.910293   \n",
      "8    1.052309    0.371616       0.903967                 0.905515   \n",
      "9    1.075441    0.378397       0.907382                 0.907945   \n",
      "10   1.067502    0.927082       0.890745                 0.891156   \n",
      "11   1.076198    0.932457       0.901183                 0.901210   \n",
      "12   1.065382    0.927569       0.898399                 0.898884   \n",
      "13   1.054927    0.924966       0.897008                 0.898673   \n",
      "14   1.077722    0.947390       0.898329                 0.898680   \n",
      "15   1.334675    0.568467       0.634656                 0.635180   \n",
      "16   1.361073    0.576093       0.660404                 0.660404   \n",
      "17   1.350662    0.573878       0.668754                 0.668754   \n",
      "18   1.355460    0.574910       0.672234                 0.672266   \n",
      "19   1.379015    0.583464       0.678969                 0.679984   \n",
      "20  18.282371    0.033899       0.996521                 0.996521   \n",
      "21  12.472382    0.032859       0.997912                 0.997921   \n",
      "22  19.836823    0.033733       0.996521                 0.996521   \n",
      "23  23.635693    0.034729       0.998608                 0.998608   \n",
      "24  13.191678    0.033763       0.997911                 0.997912   \n",
      "\n",
      "    test_recall_weighted  test_f1_weighted  test_roc_auc                model  \n",
      "0               0.996521          0.996520      0.999318   SVM-linear-scale-1  \n",
      "1               0.997912          0.997912      0.999358   SVM-linear-scale-1  \n",
      "2               0.996521          0.996520      0.999671   SVM-linear-scale-1  \n",
      "3               0.998608          0.998608      0.999946   SVM-linear-scale-1  \n",
      "4               0.997911          0.997911      0.999988   SVM-linear-scale-1  \n",
      "5               0.894920          0.894929      0.963174     SVM-poly-scale-1  \n",
      "6               0.906054          0.906022      0.967120     SVM-poly-scale-1  \n",
      "7               0.909534          0.909517      0.964610     SVM-poly-scale-1  \n",
      "8               0.903967          0.903891      0.960394     SVM-poly-scale-1  \n",
      "9               0.907382          0.907292      0.964197     SVM-poly-scale-1  \n",
      "10              0.890745          0.890760      0.961522      SVM-rbf-scale-1  \n",
      "11              0.901183          0.901153      0.963568      SVM-rbf-scale-1  \n",
      "12              0.898399          0.898391      0.961154      SVM-rbf-scale-1  \n",
      "13              0.897008          0.896918      0.960053      SVM-rbf-scale-1  \n",
      "14              0.898329          0.898253      0.965723      SVM-rbf-scale-1  \n",
      "15              0.634656          0.634694      0.749510  SVM-sigmoid-scale-1  \n",
      "16              0.660404          0.660404      0.769500  SVM-sigmoid-scale-1  \n",
      "17              0.668754          0.668754      0.766135  SVM-sigmoid-scale-1  \n",
      "18              0.672234          0.672234      0.779168  SVM-sigmoid-scale-1  \n",
      "19              0.678969          0.678975      0.788626  SVM-sigmoid-scale-1  \n",
      "20              0.996521          0.996520      0.999318    SVM-linear-auto-1  \n",
      "21              0.997912          0.997912      0.999358    SVM-linear-auto-1  \n",
      "22              0.996521          0.996520      0.999671    SVM-linear-auto-1  \n",
      "23              0.998608          0.998608      0.999946    SVM-linear-auto-1  \n",
      "24              0.997911          0.997911      0.999988    SVM-linear-auto-1  \n"
     ]
    },
    {
     "name": "stdout",
     "output_type": "stream",
     "text": [
      "SVM-poly-auto-1\n",
      "              precision    recall  f1-score   support\n",
      "\n",
      "   malignant       0.96      0.96      0.96      1206\n",
      "      benign       0.96      0.96      0.96      1189\n",
      "\n",
      "    accuracy                           0.96      2395\n",
      "   macro avg       0.96      0.96      0.96      2395\n",
      "weighted avg       0.96      0.96      0.96      2395\n",
      "\n",
      "     fit_time  score_time  test_accuracy  test_precision_weighted  \\\n",
      "0   18.256321    0.034383       0.996521                 0.996521   \n",
      "1   12.519315    0.032548       0.997912                 0.997921   \n",
      "2   19.685532    0.034698       0.996521                 0.996521   \n",
      "3   23.644054    0.035336       0.998608                 0.998608   \n",
      "4   13.264422    0.033929       0.997911                 0.997912   \n",
      "5    1.050362    0.369133       0.894920                 0.895667   \n",
      "6    1.074785    0.376257       0.906054                 0.906097   \n",
      "7    1.052148    0.373740       0.909534                 0.910293   \n",
      "8    1.052309    0.371616       0.903967                 0.905515   \n",
      "9    1.075441    0.378397       0.907382                 0.907945   \n",
      "10   1.067502    0.927082       0.890745                 0.891156   \n",
      "11   1.076198    0.932457       0.901183                 0.901210   \n",
      "12   1.065382    0.927569       0.898399                 0.898884   \n",
      "13   1.054927    0.924966       0.897008                 0.898673   \n",
      "14   1.077722    0.947390       0.898329                 0.898680   \n",
      "15   1.334675    0.568467       0.634656                 0.635180   \n",
      "16   1.361073    0.576093       0.660404                 0.660404   \n",
      "17   1.350662    0.573878       0.668754                 0.668754   \n",
      "18   1.355460    0.574910       0.672234                 0.672266   \n",
      "19   1.379015    0.583464       0.678969                 0.679984   \n",
      "20  18.282371    0.033899       0.996521                 0.996521   \n",
      "21  12.472382    0.032859       0.997912                 0.997921   \n",
      "22  19.836823    0.033733       0.996521                 0.996521   \n",
      "23  23.635693    0.034729       0.998608                 0.998608   \n",
      "24  13.191678    0.033763       0.997911                 0.997912   \n",
      "25   1.435657    0.190765       0.957550                 0.957604   \n",
      "26   1.436486    0.194483       0.955463                 0.955463   \n",
      "27   1.364222    0.188506       0.949896                 0.949897   \n",
      "28   1.429196    0.195075       0.951983                 0.952028   \n",
      "29   1.401577    0.191579       0.956825                 0.957022   \n",
      "\n",
      "    test_recall_weighted  test_f1_weighted  test_roc_auc                model  \n",
      "0               0.996521          0.996520      0.999318   SVM-linear-scale-1  \n",
      "1               0.997912          0.997912      0.999358   SVM-linear-scale-1  \n",
      "2               0.996521          0.996520      0.999671   SVM-linear-scale-1  \n",
      "3               0.998608          0.998608      0.999946   SVM-linear-scale-1  \n",
      "4               0.997911          0.997911      0.999988   SVM-linear-scale-1  \n",
      "5               0.894920          0.894929      0.963174     SVM-poly-scale-1  \n",
      "6               0.906054          0.906022      0.967120     SVM-poly-scale-1  \n",
      "7               0.909534          0.909517      0.964610     SVM-poly-scale-1  \n",
      "8               0.903967          0.903891      0.960394     SVM-poly-scale-1  \n",
      "9               0.907382          0.907292      0.964197     SVM-poly-scale-1  \n",
      "10              0.890745          0.890760      0.961522      SVM-rbf-scale-1  \n",
      "11              0.901183          0.901153      0.963568      SVM-rbf-scale-1  \n",
      "12              0.898399          0.898391      0.961154      SVM-rbf-scale-1  \n",
      "13              0.897008          0.896918      0.960053      SVM-rbf-scale-1  \n",
      "14              0.898329          0.898253      0.965723      SVM-rbf-scale-1  \n",
      "15              0.634656          0.634694      0.749510  SVM-sigmoid-scale-1  \n",
      "16              0.660404          0.660404      0.769500  SVM-sigmoid-scale-1  \n",
      "17              0.668754          0.668754      0.766135  SVM-sigmoid-scale-1  \n",
      "18              0.672234          0.672234      0.779168  SVM-sigmoid-scale-1  \n",
      "19              0.678969          0.678975      0.788626  SVM-sigmoid-scale-1  \n",
      "20              0.996521          0.996520      0.999318    SVM-linear-auto-1  \n",
      "21              0.997912          0.997912      0.999358    SVM-linear-auto-1  \n",
      "22              0.996521          0.996520      0.999671    SVM-linear-auto-1  \n",
      "23              0.998608          0.998608      0.999946    SVM-linear-auto-1  \n",
      "24              0.997911          0.997911      0.999988    SVM-linear-auto-1  \n",
      "25              0.957550          0.957554      0.988807      SVM-poly-auto-1  \n",
      "26              0.955463          0.955463      0.988492      SVM-poly-auto-1  \n",
      "27              0.949896          0.949895      0.985046      SVM-poly-auto-1  \n",
      "28              0.951983          0.951983      0.985160      SVM-poly-auto-1  \n",
      "29              0.956825          0.956832      0.988154      SVM-poly-auto-1  \n"
     ]
    },
    {
     "name": "stdout",
     "output_type": "stream",
     "text": [
      "SVM-rbf-auto-1\n",
      "              precision    recall  f1-score   support\n",
      "\n",
      "   malignant       1.00      0.41      0.58      1206\n",
      "      benign       0.62      1.00      0.77      1189\n",
      "\n",
      "    accuracy                           0.70      2395\n",
      "   macro avg       0.81      0.70      0.67      2395\n",
      "weighted avg       0.81      0.70      0.67      2395\n",
      "\n",
      "     fit_time  score_time  test_accuracy  test_precision_weighted  \\\n",
      "0   18.256321    0.034383       0.996521                 0.996521   \n",
      "1   12.519315    0.032548       0.997912                 0.997921   \n",
      "2   19.685532    0.034698       0.996521                 0.996521   \n",
      "3   23.644054    0.035336       0.998608                 0.998608   \n",
      "4   13.264422    0.033929       0.997911                 0.997912   \n",
      "5    1.050362    0.369133       0.894920                 0.895667   \n",
      "6    1.074785    0.376257       0.906054                 0.906097   \n",
      "7    1.052148    0.373740       0.909534                 0.910293   \n",
      "8    1.052309    0.371616       0.903967                 0.905515   \n",
      "9    1.075441    0.378397       0.907382                 0.907945   \n",
      "10   1.067502    0.927082       0.890745                 0.891156   \n",
      "11   1.076198    0.932457       0.901183                 0.901210   \n",
      "12   1.065382    0.927569       0.898399                 0.898884   \n",
      "13   1.054927    0.924966       0.897008                 0.898673   \n",
      "14   1.077722    0.947390       0.898329                 0.898680   \n",
      "15   1.334675    0.568467       0.634656                 0.635180   \n",
      "16   1.361073    0.576093       0.660404                 0.660404   \n",
      "17   1.350662    0.573878       0.668754                 0.668754   \n",
      "18   1.355460    0.574910       0.672234                 0.672266   \n",
      "19   1.379015    0.583464       0.678969                 0.679984   \n",
      "20  18.282371    0.033899       0.996521                 0.996521   \n",
      "21  12.472382    0.032859       0.997912                 0.997921   \n",
      "22  19.836823    0.033733       0.996521                 0.996521   \n",
      "23  23.635693    0.034729       0.998608                 0.998608   \n",
      "24  13.191678    0.033763       0.997911                 0.997912   \n",
      "25   1.435657    0.190765       0.957550                 0.957604   \n",
      "26   1.436486    0.194483       0.955463                 0.955463   \n",
      "27   1.364222    0.188506       0.949896                 0.949897   \n",
      "28   1.429196    0.195075       0.951983                 0.952028   \n",
      "29   1.401577    0.191579       0.956825                 0.957022   \n",
      "30   2.622843    2.467418       0.675017                 0.804955   \n",
      "31   2.545339    2.386329       0.700070                 0.809993   \n",
      "32   2.582426    2.407573       0.678497                 0.805233   \n",
      "33   2.580434    2.420126       0.693807                 0.810452   \n",
      "34   2.568298    2.393376       0.708914                 0.814168   \n",
      "\n",
      "    test_recall_weighted  test_f1_weighted  test_roc_auc                model  \n",
      "0               0.996521          0.996520      0.999318   SVM-linear-scale-1  \n",
      "1               0.997912          0.997912      0.999358   SVM-linear-scale-1  \n",
      "2               0.996521          0.996520      0.999671   SVM-linear-scale-1  \n",
      "3               0.998608          0.998608      0.999946   SVM-linear-scale-1  \n",
      "4               0.997911          0.997911      0.999988   SVM-linear-scale-1  \n",
      "5               0.894920          0.894929      0.963174     SVM-poly-scale-1  \n",
      "6               0.906054          0.906022      0.967120     SVM-poly-scale-1  \n",
      "7               0.909534          0.909517      0.964610     SVM-poly-scale-1  \n",
      "8               0.903967          0.903891      0.960394     SVM-poly-scale-1  \n",
      "9               0.907382          0.907292      0.964197     SVM-poly-scale-1  \n",
      "10              0.890745          0.890760      0.961522      SVM-rbf-scale-1  \n",
      "11              0.901183          0.901153      0.963568      SVM-rbf-scale-1  \n",
      "12              0.898399          0.898391      0.961154      SVM-rbf-scale-1  \n",
      "13              0.897008          0.896918      0.960053      SVM-rbf-scale-1  \n",
      "14              0.898329          0.898253      0.965723      SVM-rbf-scale-1  \n",
      "15              0.634656          0.634694      0.749510  SVM-sigmoid-scale-1  \n",
      "16              0.660404          0.660404      0.769500  SVM-sigmoid-scale-1  \n",
      "17              0.668754          0.668754      0.766135  SVM-sigmoid-scale-1  \n",
      "18              0.672234          0.672234      0.779168  SVM-sigmoid-scale-1  \n",
      "19              0.678969          0.678975      0.788626  SVM-sigmoid-scale-1  \n",
      "20              0.996521          0.996520      0.999318    SVM-linear-auto-1  \n",
      "21              0.997912          0.997912      0.999358    SVM-linear-auto-1  \n",
      "22              0.996521          0.996520      0.999671    SVM-linear-auto-1  \n",
      "23              0.998608          0.998608      0.999946    SVM-linear-auto-1  \n",
      "24              0.997911          0.997911      0.999988    SVM-linear-auto-1  \n",
      "25              0.957550          0.957554      0.988807      SVM-poly-auto-1  \n",
      "26              0.955463          0.955463      0.988492      SVM-poly-auto-1  \n",
      "27              0.949896          0.949895      0.985046      SVM-poly-auto-1  \n",
      "28              0.951983          0.951983      0.985160      SVM-poly-auto-1  \n",
      "29              0.956825          0.956832      0.988154      SVM-poly-auto-1  \n",
      "30              0.675017          0.640113      0.711763       SVM-rbf-auto-1  \n",
      "31              0.700070          0.665893      0.713997       SVM-rbf-auto-1  \n",
      "32              0.678497          0.643093      0.706106       SVM-rbf-auto-1  \n",
      "33              0.693807          0.662735      0.725510       SVM-rbf-auto-1  \n",
      "34              0.708914          0.678829      0.729960       SVM-rbf-auto-1  \n"
     ]
    },
    {
     "name": "stdout",
     "output_type": "stream",
     "text": [
      "SVM-sigmoid-auto-1\n",
      "              precision    recall  f1-score   support\n",
      "\n",
      "   malignant       0.00      0.00      0.00      1206\n",
      "      benign       0.50      1.00      0.66      1189\n",
      "\n",
      "    accuracy                           0.50      2395\n",
      "   macro avg       0.25      0.50      0.33      2395\n",
      "weighted avg       0.25      0.50      0.33      2395\n",
      "\n",
      "     fit_time  score_time  test_accuracy  test_precision_weighted  \\\n",
      "0   18.256321    0.034383       0.996521                 0.996521   \n",
      "1   12.519315    0.032548       0.997912                 0.997921   \n",
      "2   19.685532    0.034698       0.996521                 0.996521   \n",
      "3   23.644054    0.035336       0.998608                 0.998608   \n",
      "4   13.264422    0.033929       0.997911                 0.997912   \n",
      "5    1.050362    0.369133       0.894920                 0.895667   \n",
      "6    1.074785    0.376257       0.906054                 0.906097   \n",
      "7    1.052148    0.373740       0.909534                 0.910293   \n",
      "8    1.052309    0.371616       0.903967                 0.905515   \n",
      "9    1.075441    0.378397       0.907382                 0.907945   \n",
      "10   1.067502    0.927082       0.890745                 0.891156   \n",
      "11   1.076198    0.932457       0.901183                 0.901210   \n",
      "12   1.065382    0.927569       0.898399                 0.898884   \n",
      "13   1.054927    0.924966       0.897008                 0.898673   \n",
      "14   1.077722    0.947390       0.898329                 0.898680   \n",
      "15   1.334675    0.568467       0.634656                 0.635180   \n",
      "16   1.361073    0.576093       0.660404                 0.660404   \n",
      "17   1.350662    0.573878       0.668754                 0.668754   \n",
      "18   1.355460    0.574910       0.672234                 0.672266   \n",
      "19   1.379015    0.583464       0.678969                 0.679984   \n",
      "20  18.282371    0.033899       0.996521                 0.996521   \n",
      "21  12.472382    0.032859       0.997912                 0.997921   \n",
      "22  19.836823    0.033733       0.996521                 0.996521   \n",
      "23  23.635693    0.034729       0.998608                 0.998608   \n",
      "24  13.191678    0.033763       0.997911                 0.997912   \n",
      "25   1.435657    0.190765       0.957550                 0.957604   \n",
      "26   1.436486    0.194483       0.955463                 0.955463   \n",
      "27   1.364222    0.188506       0.949896                 0.949897   \n",
      "28   1.429196    0.195075       0.951983                 0.952028   \n",
      "29   1.401577    0.191579       0.956825                 0.957022   \n",
      "30   2.622843    2.467418       0.675017                 0.804955   \n",
      "31   2.545339    2.386329       0.700070                 0.809993   \n",
      "32   2.582426    2.407573       0.678497                 0.805233   \n",
      "33   2.580434    2.420126       0.693807                 0.810452   \n",
      "34   2.568298    2.393376       0.708914                 0.814168   \n",
      "35   2.692141    1.133183       0.487822                 0.237970   \n",
      "36   2.719856    1.142246       0.481559                 0.231899   \n",
      "37   2.696824    1.137701       0.494085                 0.244120   \n",
      "38   2.702961    1.138431       0.497564                 0.247570   \n",
      "39   2.720260    1.145503       0.486072                 0.236266   \n",
      "\n",
      "    test_recall_weighted  test_f1_weighted  test_roc_auc                model  \n",
      "0               0.996521          0.996520      0.999318   SVM-linear-scale-1  \n",
      "1               0.997912          0.997912      0.999358   SVM-linear-scale-1  \n",
      "2               0.996521          0.996520      0.999671   SVM-linear-scale-1  \n",
      "3               0.998608          0.998608      0.999946   SVM-linear-scale-1  \n",
      "4               0.997911          0.997911      0.999988   SVM-linear-scale-1  \n",
      "5               0.894920          0.894929      0.963174     SVM-poly-scale-1  \n",
      "6               0.906054          0.906022      0.967120     SVM-poly-scale-1  \n",
      "7               0.909534          0.909517      0.964610     SVM-poly-scale-1  \n",
      "8               0.903967          0.903891      0.960394     SVM-poly-scale-1  \n",
      "9               0.907382          0.907292      0.964197     SVM-poly-scale-1  \n",
      "10              0.890745          0.890760      0.961522      SVM-rbf-scale-1  \n",
      "11              0.901183          0.901153      0.963568      SVM-rbf-scale-1  \n",
      "12              0.898399          0.898391      0.961154      SVM-rbf-scale-1  \n",
      "13              0.897008          0.896918      0.960053      SVM-rbf-scale-1  \n",
      "14              0.898329          0.898253      0.965723      SVM-rbf-scale-1  \n",
      "15              0.634656          0.634694      0.749510  SVM-sigmoid-scale-1  \n",
      "16              0.660404          0.660404      0.769500  SVM-sigmoid-scale-1  \n",
      "17              0.668754          0.668754      0.766135  SVM-sigmoid-scale-1  \n",
      "18              0.672234          0.672234      0.779168  SVM-sigmoid-scale-1  \n",
      "19              0.678969          0.678975      0.788626  SVM-sigmoid-scale-1  \n",
      "20              0.996521          0.996520      0.999318    SVM-linear-auto-1  \n",
      "21              0.997912          0.997912      0.999358    SVM-linear-auto-1  \n",
      "22              0.996521          0.996520      0.999671    SVM-linear-auto-1  \n",
      "23              0.998608          0.998608      0.999946    SVM-linear-auto-1  \n",
      "24              0.997911          0.997911      0.999988    SVM-linear-auto-1  \n",
      "25              0.957550          0.957554      0.988807      SVM-poly-auto-1  \n",
      "26              0.955463          0.955463      0.988492      SVM-poly-auto-1  \n",
      "27              0.949896          0.949895      0.985046      SVM-poly-auto-1  \n",
      "28              0.951983          0.951983      0.985160      SVM-poly-auto-1  \n",
      "29              0.956825          0.956832      0.988154      SVM-poly-auto-1  \n",
      "30              0.675017          0.640113      0.711763       SVM-rbf-auto-1  \n",
      "31              0.700070          0.665893      0.713997       SVM-rbf-auto-1  \n",
      "32              0.678497          0.643093      0.706106       SVM-rbf-auto-1  \n",
      "33              0.693807          0.662735      0.725510       SVM-rbf-auto-1  \n",
      "34              0.708914          0.678829      0.729960       SVM-rbf-auto-1  \n",
      "35              0.487822          0.319891      0.500000   SVM-sigmoid-auto-1  \n",
      "36              0.481559          0.313047      0.500000   SVM-sigmoid-auto-1  \n",
      "37              0.494085          0.326782      0.500000   SVM-sigmoid-auto-1  \n",
      "38              0.497564          0.330631      0.500000   SVM-sigmoid-auto-1  \n",
      "39              0.486072          0.317974      0.500000   SVM-sigmoid-auto-1  \n"
     ]
    },
    {
     "name": "stdout",
     "output_type": "stream",
     "text": [
      "SVM-linear-scale-2\n",
      "              precision    recall  f1-score   support\n",
      "\n",
      "   malignant       1.00      1.00      1.00      1206\n",
      "      benign       1.00      1.00      1.00      1189\n",
      "\n",
      "    accuracy                           1.00      2395\n",
      "   macro avg       1.00      1.00      1.00      2395\n",
      "weighted avg       1.00      1.00      1.00      2395\n",
      "\n",
      "     fit_time  score_time  test_accuracy  test_precision_weighted  \\\n",
      "0   18.256321    0.034383       0.996521                 0.996521   \n",
      "1   12.519315    0.032548       0.997912                 0.997921   \n",
      "2   19.685532    0.034698       0.996521                 0.996521   \n",
      "3   23.644054    0.035336       0.998608                 0.998608   \n",
      "4   13.264422    0.033929       0.997911                 0.997912   \n",
      "5    1.050362    0.369133       0.894920                 0.895667   \n",
      "6    1.074785    0.376257       0.906054                 0.906097   \n",
      "7    1.052148    0.373740       0.909534                 0.910293   \n",
      "8    1.052309    0.371616       0.903967                 0.905515   \n",
      "9    1.075441    0.378397       0.907382                 0.907945   \n",
      "10   1.067502    0.927082       0.890745                 0.891156   \n",
      "11   1.076198    0.932457       0.901183                 0.901210   \n",
      "12   1.065382    0.927569       0.898399                 0.898884   \n",
      "13   1.054927    0.924966       0.897008                 0.898673   \n",
      "14   1.077722    0.947390       0.898329                 0.898680   \n",
      "15   1.334675    0.568467       0.634656                 0.635180   \n",
      "16   1.361073    0.576093       0.660404                 0.660404   \n",
      "17   1.350662    0.573878       0.668754                 0.668754   \n",
      "18   1.355460    0.574910       0.672234                 0.672266   \n",
      "19   1.379015    0.583464       0.678969                 0.679984   \n",
      "20  18.282371    0.033899       0.996521                 0.996521   \n",
      "21  12.472382    0.032859       0.997912                 0.997921   \n",
      "22  19.836823    0.033733       0.996521                 0.996521   \n",
      "23  23.635693    0.034729       0.998608                 0.998608   \n",
      "24  13.191678    0.033763       0.997911                 0.997912   \n",
      "25   1.435657    0.190765       0.957550                 0.957604   \n",
      "26   1.436486    0.194483       0.955463                 0.955463   \n",
      "27   1.364222    0.188506       0.949896                 0.949897   \n",
      "28   1.429196    0.195075       0.951983                 0.952028   \n",
      "29   1.401577    0.191579       0.956825                 0.957022   \n",
      "30   2.622843    2.467418       0.675017                 0.804955   \n",
      "31   2.545339    2.386329       0.700070                 0.809993   \n",
      "32   2.582426    2.407573       0.678497                 0.805233   \n",
      "33   2.580434    2.420126       0.693807                 0.810452   \n",
      "34   2.568298    2.393376       0.708914                 0.814168   \n",
      "35   2.692141    1.133183       0.487822                 0.237970   \n",
      "36   2.719856    1.142246       0.481559                 0.231899   \n",
      "37   2.696824    1.137701       0.494085                 0.244120   \n",
      "38   2.702961    1.138431       0.497564                 0.247570   \n",
      "39   2.720260    1.145503       0.486072                 0.236266   \n",
      "40  18.315466    0.034261       0.996521                 0.996521   \n",
      "41  12.442564    0.031975       0.997912                 0.997921   \n",
      "42  19.680075    0.034747       0.996521                 0.996521   \n",
      "43  23.445825    0.034405       0.998608                 0.998608   \n",
      "44  13.216642    0.035856       0.997911                 0.997912   \n",
      "\n",
      "    test_recall_weighted  test_f1_weighted  test_roc_auc                model  \n",
      "0               0.996521          0.996520      0.999318   SVM-linear-scale-1  \n",
      "1               0.997912          0.997912      0.999358   SVM-linear-scale-1  \n",
      "2               0.996521          0.996520      0.999671   SVM-linear-scale-1  \n",
      "3               0.998608          0.998608      0.999946   SVM-linear-scale-1  \n",
      "4               0.997911          0.997911      0.999988   SVM-linear-scale-1  \n",
      "5               0.894920          0.894929      0.963174     SVM-poly-scale-1  \n",
      "6               0.906054          0.906022      0.967120     SVM-poly-scale-1  \n",
      "7               0.909534          0.909517      0.964610     SVM-poly-scale-1  \n",
      "8               0.903967          0.903891      0.960394     SVM-poly-scale-1  \n",
      "9               0.907382          0.907292      0.964197     SVM-poly-scale-1  \n",
      "10              0.890745          0.890760      0.961522      SVM-rbf-scale-1  \n",
      "11              0.901183          0.901153      0.963568      SVM-rbf-scale-1  \n",
      "12              0.898399          0.898391      0.961154      SVM-rbf-scale-1  \n",
      "13              0.897008          0.896918      0.960053      SVM-rbf-scale-1  \n",
      "14              0.898329          0.898253      0.965723      SVM-rbf-scale-1  \n",
      "15              0.634656          0.634694      0.749510  SVM-sigmoid-scale-1  \n",
      "16              0.660404          0.660404      0.769500  SVM-sigmoid-scale-1  \n",
      "17              0.668754          0.668754      0.766135  SVM-sigmoid-scale-1  \n",
      "18              0.672234          0.672234      0.779168  SVM-sigmoid-scale-1  \n",
      "19              0.678969          0.678975      0.788626  SVM-sigmoid-scale-1  \n",
      "20              0.996521          0.996520      0.999318    SVM-linear-auto-1  \n",
      "21              0.997912          0.997912      0.999358    SVM-linear-auto-1  \n",
      "22              0.996521          0.996520      0.999671    SVM-linear-auto-1  \n",
      "23              0.998608          0.998608      0.999946    SVM-linear-auto-1  \n",
      "24              0.997911          0.997911      0.999988    SVM-linear-auto-1  \n",
      "25              0.957550          0.957554      0.988807      SVM-poly-auto-1  \n",
      "26              0.955463          0.955463      0.988492      SVM-poly-auto-1  \n",
      "27              0.949896          0.949895      0.985046      SVM-poly-auto-1  \n",
      "28              0.951983          0.951983      0.985160      SVM-poly-auto-1  \n",
      "29              0.956825          0.956832      0.988154      SVM-poly-auto-1  \n",
      "30              0.675017          0.640113      0.711763       SVM-rbf-auto-1  \n",
      "31              0.700070          0.665893      0.713997       SVM-rbf-auto-1  \n",
      "32              0.678497          0.643093      0.706106       SVM-rbf-auto-1  \n",
      "33              0.693807          0.662735      0.725510       SVM-rbf-auto-1  \n",
      "34              0.708914          0.678829      0.729960       SVM-rbf-auto-1  \n",
      "35              0.487822          0.319891      0.500000   SVM-sigmoid-auto-1  \n",
      "36              0.481559          0.313047      0.500000   SVM-sigmoid-auto-1  \n",
      "37              0.494085          0.326782      0.500000   SVM-sigmoid-auto-1  \n",
      "38              0.497564          0.330631      0.500000   SVM-sigmoid-auto-1  \n",
      "39              0.486072          0.317974      0.500000   SVM-sigmoid-auto-1  \n",
      "40              0.996521          0.996520      0.999318   SVM-linear-scale-2  \n",
      "41              0.997912          0.997912      0.999358   SVM-linear-scale-2  \n",
      "42              0.996521          0.996520      0.999671   SVM-linear-scale-2  \n",
      "43              0.998608          0.998608      0.999946   SVM-linear-scale-2  \n",
      "44              0.997911          0.997911      0.999988   SVM-linear-scale-2  \n"
     ]
    },
    {
     "name": "stdout",
     "output_type": "stream",
     "text": [
      "SVM-poly-scale-2\n",
      "              precision    recall  f1-score   support\n",
      "\n",
      "   malignant       0.94      0.91      0.93      1206\n",
      "      benign       0.91      0.94      0.93      1189\n",
      "\n",
      "    accuracy                           0.93      2395\n",
      "   macro avg       0.93      0.93      0.93      2395\n",
      "weighted avg       0.93      0.93      0.93      2395\n",
      "\n",
      "     fit_time  score_time  test_accuracy  test_precision_weighted  \\\n",
      "0   18.256321    0.034383       0.996521                 0.996521   \n",
      "1   12.519315    0.032548       0.997912                 0.997921   \n",
      "2   19.685532    0.034698       0.996521                 0.996521   \n",
      "3   23.644054    0.035336       0.998608                 0.998608   \n",
      "4   13.264422    0.033929       0.997911                 0.997912   \n",
      "5    1.050362    0.369133       0.894920                 0.895667   \n",
      "6    1.074785    0.376257       0.906054                 0.906097   \n",
      "7    1.052148    0.373740       0.909534                 0.910293   \n",
      "8    1.052309    0.371616       0.903967                 0.905515   \n",
      "9    1.075441    0.378397       0.907382                 0.907945   \n",
      "10   1.067502    0.927082       0.890745                 0.891156   \n",
      "11   1.076198    0.932457       0.901183                 0.901210   \n",
      "12   1.065382    0.927569       0.898399                 0.898884   \n",
      "13   1.054927    0.924966       0.897008                 0.898673   \n",
      "14   1.077722    0.947390       0.898329                 0.898680   \n",
      "15   1.334675    0.568467       0.634656                 0.635180   \n",
      "16   1.361073    0.576093       0.660404                 0.660404   \n",
      "17   1.350662    0.573878       0.668754                 0.668754   \n",
      "18   1.355460    0.574910       0.672234                 0.672266   \n",
      "19   1.379015    0.583464       0.678969                 0.679984   \n",
      "20  18.282371    0.033899       0.996521                 0.996521   \n",
      "21  12.472382    0.032859       0.997912                 0.997921   \n",
      "22  19.836823    0.033733       0.996521                 0.996521   \n",
      "23  23.635693    0.034729       0.998608                 0.998608   \n",
      "24  13.191678    0.033763       0.997911                 0.997912   \n",
      "25   1.435657    0.190765       0.957550                 0.957604   \n",
      "26   1.436486    0.194483       0.955463                 0.955463   \n",
      "27   1.364222    0.188506       0.949896                 0.949897   \n",
      "28   1.429196    0.195075       0.951983                 0.952028   \n",
      "29   1.401577    0.191579       0.956825                 0.957022   \n",
      "30   2.622843    2.467418       0.675017                 0.804955   \n",
      "31   2.545339    2.386329       0.700070                 0.809993   \n",
      "32   2.582426    2.407573       0.678497                 0.805233   \n",
      "33   2.580434    2.420126       0.693807                 0.810452   \n",
      "34   2.568298    2.393376       0.708914                 0.814168   \n",
      "35   2.692141    1.133183       0.487822                 0.237970   \n",
      "36   2.719856    1.142246       0.481559                 0.231899   \n",
      "37   2.696824    1.137701       0.494085                 0.244120   \n",
      "38   2.702961    1.138431       0.497564                 0.247570   \n",
      "39   2.720260    1.145503       0.486072                 0.236266   \n",
      "40  18.315466    0.034261       0.996521                 0.996521   \n",
      "41  12.442564    0.031975       0.997912                 0.997921   \n",
      "42  19.680075    0.034747       0.996521                 0.996521   \n",
      "43  23.445825    0.034405       0.998608                 0.998608   \n",
      "44  13.216642    0.035856       0.997911                 0.997912   \n",
      "45   0.986449    0.342279       0.909534                 0.910445   \n",
      "46   1.008749    0.350142       0.917884                 0.917951   \n",
      "47   1.004277    0.350389       0.917884                 0.918383   \n",
      "48   0.984092    0.343851       0.917189                 0.918574   \n",
      "49   0.997938    0.350080       0.914345                 0.914766   \n",
      "\n",
      "    test_recall_weighted  test_f1_weighted  test_roc_auc                model  \n",
      "0               0.996521          0.996520      0.999318   SVM-linear-scale-1  \n",
      "1               0.997912          0.997912      0.999358   SVM-linear-scale-1  \n",
      "2               0.996521          0.996520      0.999671   SVM-linear-scale-1  \n",
      "3               0.998608          0.998608      0.999946   SVM-linear-scale-1  \n",
      "4               0.997911          0.997911      0.999988   SVM-linear-scale-1  \n",
      "5               0.894920          0.894929      0.963174     SVM-poly-scale-1  \n",
      "6               0.906054          0.906022      0.967120     SVM-poly-scale-1  \n",
      "7               0.909534          0.909517      0.964610     SVM-poly-scale-1  \n",
      "8               0.903967          0.903891      0.960394     SVM-poly-scale-1  \n",
      "9               0.907382          0.907292      0.964197     SVM-poly-scale-1  \n",
      "10              0.890745          0.890760      0.961522      SVM-rbf-scale-1  \n",
      "11              0.901183          0.901153      0.963568      SVM-rbf-scale-1  \n",
      "12              0.898399          0.898391      0.961154      SVM-rbf-scale-1  \n",
      "13              0.897008          0.896918      0.960053      SVM-rbf-scale-1  \n",
      "14              0.898329          0.898253      0.965723      SVM-rbf-scale-1  \n",
      "15              0.634656          0.634694      0.749510  SVM-sigmoid-scale-1  \n",
      "16              0.660404          0.660404      0.769500  SVM-sigmoid-scale-1  \n",
      "17              0.668754          0.668754      0.766135  SVM-sigmoid-scale-1  \n",
      "18              0.672234          0.672234      0.779168  SVM-sigmoid-scale-1  \n",
      "19              0.678969          0.678975      0.788626  SVM-sigmoid-scale-1  \n",
      "20              0.996521          0.996520      0.999318    SVM-linear-auto-1  \n",
      "21              0.997912          0.997912      0.999358    SVM-linear-auto-1  \n",
      "22              0.996521          0.996520      0.999671    SVM-linear-auto-1  \n",
      "23              0.998608          0.998608      0.999946    SVM-linear-auto-1  \n",
      "24              0.997911          0.997911      0.999988    SVM-linear-auto-1  \n",
      "25              0.957550          0.957554      0.988807      SVM-poly-auto-1  \n",
      "26              0.955463          0.955463      0.988492      SVM-poly-auto-1  \n",
      "27              0.949896          0.949895      0.985046      SVM-poly-auto-1  \n",
      "28              0.951983          0.951983      0.985160      SVM-poly-auto-1  \n",
      "29              0.956825          0.956832      0.988154      SVM-poly-auto-1  \n",
      "30              0.675017          0.640113      0.711763       SVM-rbf-auto-1  \n",
      "31              0.700070          0.665893      0.713997       SVM-rbf-auto-1  \n",
      "32              0.678497          0.643093      0.706106       SVM-rbf-auto-1  \n",
      "33              0.693807          0.662735      0.725510       SVM-rbf-auto-1  \n",
      "34              0.708914          0.678829      0.729960       SVM-rbf-auto-1  \n",
      "35              0.487822          0.319891      0.500000   SVM-sigmoid-auto-1  \n",
      "36              0.481559          0.313047      0.500000   SVM-sigmoid-auto-1  \n",
      "37              0.494085          0.326782      0.500000   SVM-sigmoid-auto-1  \n",
      "38              0.497564          0.330631      0.500000   SVM-sigmoid-auto-1  \n",
      "39              0.486072          0.317974      0.500000   SVM-sigmoid-auto-1  \n",
      "40              0.996521          0.996520      0.999318   SVM-linear-scale-2  \n",
      "41              0.997912          0.997912      0.999358   SVM-linear-scale-2  \n",
      "42              0.996521          0.996520      0.999671   SVM-linear-scale-2  \n",
      "43              0.998608          0.998608      0.999946   SVM-linear-scale-2  \n",
      "44              0.997911          0.997911      0.999988   SVM-linear-scale-2  \n",
      "45              0.909534          0.909538      0.971886     SVM-poly-scale-2  \n",
      "46              0.917884          0.917853      0.973620     SVM-poly-scale-2  \n",
      "47              0.917884          0.917878      0.970128     SVM-poly-scale-2  \n",
      "48              0.917189          0.917133      0.967158     SVM-poly-scale-2  \n",
      "49              0.914345          0.914278      0.969734     SVM-poly-scale-2  \n"
     ]
    },
    {
     "name": "stdout",
     "output_type": "stream",
     "text": [
      "SVM-rbf-scale-2\n",
      "              precision    recall  f1-score   support\n",
      "\n",
      "   malignant       0.94      0.90      0.92      1206\n",
      "      benign       0.91      0.94      0.92      1189\n",
      "\n",
      "    accuracy                           0.92      2395\n",
      "   macro avg       0.92      0.92      0.92      2395\n",
      "weighted avg       0.92      0.92      0.92      2395\n",
      "\n",
      "     fit_time  score_time  test_accuracy  test_precision_weighted  \\\n",
      "0   18.256321    0.034383       0.996521                 0.996521   \n",
      "1   12.519315    0.032548       0.997912                 0.997921   \n",
      "2   19.685532    0.034698       0.996521                 0.996521   \n",
      "3   23.644054    0.035336       0.998608                 0.998608   \n",
      "4   13.264422    0.033929       0.997911                 0.997912   \n",
      "5    1.050362    0.369133       0.894920                 0.895667   \n",
      "6    1.074785    0.376257       0.906054                 0.906097   \n",
      "7    1.052148    0.373740       0.909534                 0.910293   \n",
      "8    1.052309    0.371616       0.903967                 0.905515   \n",
      "9    1.075441    0.378397       0.907382                 0.907945   \n",
      "10   1.067502    0.927082       0.890745                 0.891156   \n",
      "11   1.076198    0.932457       0.901183                 0.901210   \n",
      "12   1.065382    0.927569       0.898399                 0.898884   \n",
      "13   1.054927    0.924966       0.897008                 0.898673   \n",
      "14   1.077722    0.947390       0.898329                 0.898680   \n",
      "15   1.334675    0.568467       0.634656                 0.635180   \n",
      "16   1.361073    0.576093       0.660404                 0.660404   \n",
      "17   1.350662    0.573878       0.668754                 0.668754   \n",
      "18   1.355460    0.574910       0.672234                 0.672266   \n",
      "19   1.379015    0.583464       0.678969                 0.679984   \n",
      "20  18.282371    0.033899       0.996521                 0.996521   \n",
      "21  12.472382    0.032859       0.997912                 0.997921   \n",
      "22  19.836823    0.033733       0.996521                 0.996521   \n",
      "23  23.635693    0.034729       0.998608                 0.998608   \n",
      "24  13.191678    0.033763       0.997911                 0.997912   \n",
      "25   1.435657    0.190765       0.957550                 0.957604   \n",
      "26   1.436486    0.194483       0.955463                 0.955463   \n",
      "27   1.364222    0.188506       0.949896                 0.949897   \n",
      "28   1.429196    0.195075       0.951983                 0.952028   \n",
      "29   1.401577    0.191579       0.956825                 0.957022   \n",
      "30   2.622843    2.467418       0.675017                 0.804955   \n",
      "31   2.545339    2.386329       0.700070                 0.809993   \n",
      "32   2.582426    2.407573       0.678497                 0.805233   \n",
      "33   2.580434    2.420126       0.693807                 0.810452   \n",
      "34   2.568298    2.393376       0.708914                 0.814168   \n",
      "35   2.692141    1.133183       0.487822                 0.237970   \n",
      "36   2.719856    1.142246       0.481559                 0.231899   \n",
      "37   2.696824    1.137701       0.494085                 0.244120   \n",
      "38   2.702961    1.138431       0.497564                 0.247570   \n",
      "39   2.720260    1.145503       0.486072                 0.236266   \n",
      "40  18.315466    0.034261       0.996521                 0.996521   \n",
      "41  12.442564    0.031975       0.997912                 0.997921   \n",
      "42  19.680075    0.034747       0.996521                 0.996521   \n",
      "43  23.445825    0.034405       0.998608                 0.998608   \n",
      "44  13.216642    0.035856       0.997911                 0.997912   \n",
      "45   0.986449    0.342279       0.909534                 0.910445   \n",
      "46   1.008749    0.350142       0.917884                 0.917951   \n",
      "47   1.004277    0.350389       0.917884                 0.918383   \n",
      "48   0.984092    0.343851       0.917189                 0.918574   \n",
      "49   0.997938    0.350080       0.914345                 0.914766   \n",
      "50   0.962709    0.828977       0.903271                 0.903615   \n",
      "51   0.989451    0.911515       0.910230                 0.910382   \n",
      "52   0.972180    0.905187       0.914405                 0.915439   \n",
      "53   0.967412    0.904091       0.909534                 0.910473   \n",
      "54   0.999515    0.925883       0.911560                 0.911733   \n",
      "\n",
      "    test_recall_weighted  test_f1_weighted  test_roc_auc                model  \n",
      "0               0.996521          0.996520      0.999318   SVM-linear-scale-1  \n",
      "1               0.997912          0.997912      0.999358   SVM-linear-scale-1  \n",
      "2               0.996521          0.996520      0.999671   SVM-linear-scale-1  \n",
      "3               0.998608          0.998608      0.999946   SVM-linear-scale-1  \n",
      "4               0.997911          0.997911      0.999988   SVM-linear-scale-1  \n",
      "5               0.894920          0.894929      0.963174     SVM-poly-scale-1  \n",
      "6               0.906054          0.906022      0.967120     SVM-poly-scale-1  \n",
      "7               0.909534          0.909517      0.964610     SVM-poly-scale-1  \n",
      "8               0.903967          0.903891      0.960394     SVM-poly-scale-1  \n",
      "9               0.907382          0.907292      0.964197     SVM-poly-scale-1  \n",
      "10              0.890745          0.890760      0.961522      SVM-rbf-scale-1  \n",
      "11              0.901183          0.901153      0.963568      SVM-rbf-scale-1  \n",
      "12              0.898399          0.898391      0.961154      SVM-rbf-scale-1  \n",
      "13              0.897008          0.896918      0.960053      SVM-rbf-scale-1  \n",
      "14              0.898329          0.898253      0.965723      SVM-rbf-scale-1  \n",
      "15              0.634656          0.634694      0.749510  SVM-sigmoid-scale-1  \n",
      "16              0.660404          0.660404      0.769500  SVM-sigmoid-scale-1  \n",
      "17              0.668754          0.668754      0.766135  SVM-sigmoid-scale-1  \n",
      "18              0.672234          0.672234      0.779168  SVM-sigmoid-scale-1  \n",
      "19              0.678969          0.678975      0.788626  SVM-sigmoid-scale-1  \n",
      "20              0.996521          0.996520      0.999318    SVM-linear-auto-1  \n",
      "21              0.997912          0.997912      0.999358    SVM-linear-auto-1  \n",
      "22              0.996521          0.996520      0.999671    SVM-linear-auto-1  \n",
      "23              0.998608          0.998608      0.999946    SVM-linear-auto-1  \n",
      "24              0.997911          0.997911      0.999988    SVM-linear-auto-1  \n",
      "25              0.957550          0.957554      0.988807      SVM-poly-auto-1  \n",
      "26              0.955463          0.955463      0.988492      SVM-poly-auto-1  \n",
      "27              0.949896          0.949895      0.985046      SVM-poly-auto-1  \n",
      "28              0.951983          0.951983      0.985160      SVM-poly-auto-1  \n",
      "29              0.956825          0.956832      0.988154      SVM-poly-auto-1  \n",
      "30              0.675017          0.640113      0.711763       SVM-rbf-auto-1  \n",
      "31              0.700070          0.665893      0.713997       SVM-rbf-auto-1  \n",
      "32              0.678497          0.643093      0.706106       SVM-rbf-auto-1  \n",
      "33              0.693807          0.662735      0.725510       SVM-rbf-auto-1  \n",
      "34              0.708914          0.678829      0.729960       SVM-rbf-auto-1  \n",
      "35              0.487822          0.319891      0.500000   SVM-sigmoid-auto-1  \n",
      "36              0.481559          0.313047      0.500000   SVM-sigmoid-auto-1  \n",
      "37              0.494085          0.326782      0.500000   SVM-sigmoid-auto-1  \n",
      "38              0.497564          0.330631      0.500000   SVM-sigmoid-auto-1  \n",
      "39              0.486072          0.317974      0.500000   SVM-sigmoid-auto-1  \n",
      "40              0.996521          0.996520      0.999318   SVM-linear-scale-2  \n",
      "41              0.997912          0.997912      0.999358   SVM-linear-scale-2  \n",
      "42              0.996521          0.996520      0.999671   SVM-linear-scale-2  \n",
      "43              0.998608          0.998608      0.999946   SVM-linear-scale-2  \n",
      "44              0.997911          0.997911      0.999988   SVM-linear-scale-2  \n",
      "45              0.909534          0.909538      0.971886     SVM-poly-scale-2  \n",
      "46              0.917884          0.917853      0.973620     SVM-poly-scale-2  \n",
      "47              0.917884          0.917878      0.970128     SVM-poly-scale-2  \n",
      "48              0.917189          0.917133      0.967158     SVM-poly-scale-2  \n",
      "49              0.914345          0.914278      0.969734     SVM-poly-scale-2  \n",
      "50              0.903271          0.903285      0.969496      SVM-rbf-scale-2  \n",
      "51              0.910230          0.910178      0.970462      SVM-rbf-scale-2  \n",
      "52              0.914405          0.914379      0.967503      SVM-rbf-scale-2  \n",
      "53              0.909534          0.909494      0.967052      SVM-rbf-scale-2  \n",
      "54              0.911560          0.911518      0.971327      SVM-rbf-scale-2  \n"
     ]
    },
    {
     "name": "stdout",
     "output_type": "stream",
     "text": [
      "SVM-sigmoid-scale-2\n",
      "              precision    recall  f1-score   support\n",
      "\n",
      "   malignant       0.68      0.68      0.68      1206\n",
      "      benign       0.67      0.67      0.67      1189\n",
      "\n",
      "    accuracy                           0.67      2395\n",
      "   macro avg       0.67      0.67      0.67      2395\n",
      "weighted avg       0.67      0.67      0.67      2395\n",
      "\n",
      "     fit_time  score_time  test_accuracy  test_precision_weighted  \\\n",
      "0   18.256321    0.034383       0.996521                 0.996521   \n",
      "1   12.519315    0.032548       0.997912                 0.997921   \n",
      "2   19.685532    0.034698       0.996521                 0.996521   \n",
      "3   23.644054    0.035336       0.998608                 0.998608   \n",
      "4   13.264422    0.033929       0.997911                 0.997912   \n",
      "5    1.050362    0.369133       0.894920                 0.895667   \n",
      "6    1.074785    0.376257       0.906054                 0.906097   \n",
      "7    1.052148    0.373740       0.909534                 0.910293   \n",
      "8    1.052309    0.371616       0.903967                 0.905515   \n",
      "9    1.075441    0.378397       0.907382                 0.907945   \n",
      "10   1.067502    0.927082       0.890745                 0.891156   \n",
      "11   1.076198    0.932457       0.901183                 0.901210   \n",
      "12   1.065382    0.927569       0.898399                 0.898884   \n",
      "13   1.054927    0.924966       0.897008                 0.898673   \n",
      "14   1.077722    0.947390       0.898329                 0.898680   \n",
      "15   1.334675    0.568467       0.634656                 0.635180   \n",
      "16   1.361073    0.576093       0.660404                 0.660404   \n",
      "17   1.350662    0.573878       0.668754                 0.668754   \n",
      "18   1.355460    0.574910       0.672234                 0.672266   \n",
      "19   1.379015    0.583464       0.678969                 0.679984   \n",
      "20  18.282371    0.033899       0.996521                 0.996521   \n",
      "21  12.472382    0.032859       0.997912                 0.997921   \n",
      "22  19.836823    0.033733       0.996521                 0.996521   \n",
      "23  23.635693    0.034729       0.998608                 0.998608   \n",
      "24  13.191678    0.033763       0.997911                 0.997912   \n",
      "25   1.435657    0.190765       0.957550                 0.957604   \n",
      "26   1.436486    0.194483       0.955463                 0.955463   \n",
      "27   1.364222    0.188506       0.949896                 0.949897   \n",
      "28   1.429196    0.195075       0.951983                 0.952028   \n",
      "29   1.401577    0.191579       0.956825                 0.957022   \n",
      "30   2.622843    2.467418       0.675017                 0.804955   \n",
      "31   2.545339    2.386329       0.700070                 0.809993   \n",
      "32   2.582426    2.407573       0.678497                 0.805233   \n",
      "33   2.580434    2.420126       0.693807                 0.810452   \n",
      "34   2.568298    2.393376       0.708914                 0.814168   \n",
      "35   2.692141    1.133183       0.487822                 0.237970   \n",
      "36   2.719856    1.142246       0.481559                 0.231899   \n",
      "37   2.696824    1.137701       0.494085                 0.244120   \n",
      "38   2.702961    1.138431       0.497564                 0.247570   \n",
      "39   2.720260    1.145503       0.486072                 0.236266   \n",
      "40  18.315466    0.034261       0.996521                 0.996521   \n",
      "41  12.442564    0.031975       0.997912                 0.997921   \n",
      "42  19.680075    0.034747       0.996521                 0.996521   \n",
      "43  23.445825    0.034405       0.998608                 0.998608   \n",
      "44  13.216642    0.035856       0.997911                 0.997912   \n",
      "45   0.986449    0.342279       0.909534                 0.910445   \n",
      "46   1.008749    0.350142       0.917884                 0.917951   \n",
      "47   1.004277    0.350389       0.917884                 0.918383   \n",
      "48   0.984092    0.343851       0.917189                 0.918574   \n",
      "49   0.997938    0.350080       0.914345                 0.914766   \n",
      "50   0.962709    0.828977       0.903271                 0.903615   \n",
      "51   0.989451    0.911515       0.910230                 0.910382   \n",
      "52   0.972180    0.905187       0.914405                 0.915439   \n",
      "53   0.967412    0.904091       0.909534                 0.910473   \n",
      "54   0.999515    0.925883       0.911560                 0.911733   \n",
      "55   1.279373    0.560791       0.634656                 0.635290   \n",
      "56   1.303196    0.591952       0.654836                 0.654873   \n",
      "57   1.294500    0.566610       0.663187                 0.663165   \n",
      "58   1.312535    0.568003       0.666667                 0.666751   \n",
      "59   1.319071    0.573828       0.674095                 0.675063   \n",
      "\n",
      "    test_recall_weighted  test_f1_weighted  test_roc_auc                model  \n",
      "0               0.996521          0.996520      0.999318   SVM-linear-scale-1  \n",
      "1               0.997912          0.997912      0.999358   SVM-linear-scale-1  \n",
      "2               0.996521          0.996520      0.999671   SVM-linear-scale-1  \n",
      "3               0.998608          0.998608      0.999946   SVM-linear-scale-1  \n",
      "4               0.997911          0.997911      0.999988   SVM-linear-scale-1  \n",
      "5               0.894920          0.894929      0.963174     SVM-poly-scale-1  \n",
      "6               0.906054          0.906022      0.967120     SVM-poly-scale-1  \n",
      "7               0.909534          0.909517      0.964610     SVM-poly-scale-1  \n",
      "8               0.903967          0.903891      0.960394     SVM-poly-scale-1  \n",
      "9               0.907382          0.907292      0.964197     SVM-poly-scale-1  \n",
      "10              0.890745          0.890760      0.961522      SVM-rbf-scale-1  \n",
      "11              0.901183          0.901153      0.963568      SVM-rbf-scale-1  \n",
      "12              0.898399          0.898391      0.961154      SVM-rbf-scale-1  \n",
      "13              0.897008          0.896918      0.960053      SVM-rbf-scale-1  \n",
      "14              0.898329          0.898253      0.965723      SVM-rbf-scale-1  \n",
      "15              0.634656          0.634694      0.749510  SVM-sigmoid-scale-1  \n",
      "16              0.660404          0.660404      0.769500  SVM-sigmoid-scale-1  \n",
      "17              0.668754          0.668754      0.766135  SVM-sigmoid-scale-1  \n",
      "18              0.672234          0.672234      0.779168  SVM-sigmoid-scale-1  \n",
      "19              0.678969          0.678975      0.788626  SVM-sigmoid-scale-1  \n",
      "20              0.996521          0.996520      0.999318    SVM-linear-auto-1  \n",
      "21              0.997912          0.997912      0.999358    SVM-linear-auto-1  \n",
      "22              0.996521          0.996520      0.999671    SVM-linear-auto-1  \n",
      "23              0.998608          0.998608      0.999946    SVM-linear-auto-1  \n",
      "24              0.997911          0.997911      0.999988    SVM-linear-auto-1  \n",
      "25              0.957550          0.957554      0.988807      SVM-poly-auto-1  \n",
      "26              0.955463          0.955463      0.988492      SVM-poly-auto-1  \n",
      "27              0.949896          0.949895      0.985046      SVM-poly-auto-1  \n",
      "28              0.951983          0.951983      0.985160      SVM-poly-auto-1  \n",
      "29              0.956825          0.956832      0.988154      SVM-poly-auto-1  \n",
      "30              0.675017          0.640113      0.711763       SVM-rbf-auto-1  \n",
      "31              0.700070          0.665893      0.713997       SVM-rbf-auto-1  \n",
      "32              0.678497          0.643093      0.706106       SVM-rbf-auto-1  \n",
      "33              0.693807          0.662735      0.725510       SVM-rbf-auto-1  \n",
      "34              0.708914          0.678829      0.729960       SVM-rbf-auto-1  \n",
      "35              0.487822          0.319891      0.500000   SVM-sigmoid-auto-1  \n",
      "36              0.481559          0.313047      0.500000   SVM-sigmoid-auto-1  \n",
      "37              0.494085          0.326782      0.500000   SVM-sigmoid-auto-1  \n",
      "38              0.497564          0.330631      0.500000   SVM-sigmoid-auto-1  \n",
      "39              0.486072          0.317974      0.500000   SVM-sigmoid-auto-1  \n",
      "40              0.996521          0.996520      0.999318   SVM-linear-scale-2  \n",
      "41              0.997912          0.997912      0.999358   SVM-linear-scale-2  \n",
      "42              0.996521          0.996520      0.999671   SVM-linear-scale-2  \n",
      "43              0.998608          0.998608      0.999946   SVM-linear-scale-2  \n",
      "44              0.997911          0.997911      0.999988   SVM-linear-scale-2  \n",
      "45              0.909534          0.909538      0.971886     SVM-poly-scale-2  \n",
      "46              0.917884          0.917853      0.973620     SVM-poly-scale-2  \n",
      "47              0.917884          0.917878      0.970128     SVM-poly-scale-2  \n",
      "48              0.917189          0.917133      0.967158     SVM-poly-scale-2  \n",
      "49              0.914345          0.914278      0.969734     SVM-poly-scale-2  \n",
      "50              0.903271          0.903285      0.969496      SVM-rbf-scale-2  \n",
      "51              0.910230          0.910178      0.970462      SVM-rbf-scale-2  \n",
      "52              0.914405          0.914379      0.967503      SVM-rbf-scale-2  \n",
      "53              0.909534          0.909494      0.967052      SVM-rbf-scale-2  \n",
      "54              0.911560          0.911518      0.971327      SVM-rbf-scale-2  \n",
      "55              0.634656          0.634677      0.746337  SVM-sigmoid-scale-2  \n",
      "56              0.654836          0.654854      0.766486  SVM-sigmoid-scale-2  \n",
      "57              0.663187          0.663165      0.763237  SVM-sigmoid-scale-2  \n",
      "58              0.666667          0.666654      0.776817  SVM-sigmoid-scale-2  \n",
      "59              0.674095          0.674107      0.785615  SVM-sigmoid-scale-2  \n"
     ]
    },
    {
     "name": "stdout",
     "output_type": "stream",
     "text": [
      "SVM-linear-auto-2\n",
      "              precision    recall  f1-score   support\n",
      "\n",
      "   malignant       1.00      1.00      1.00      1206\n",
      "      benign       1.00      1.00      1.00      1189\n",
      "\n",
      "    accuracy                           1.00      2395\n",
      "   macro avg       1.00      1.00      1.00      2395\n",
      "weighted avg       1.00      1.00      1.00      2395\n",
      "\n",
      "     fit_time  score_time  test_accuracy  test_precision_weighted  \\\n",
      "0   18.256321    0.034383       0.996521                 0.996521   \n",
      "1   12.519315    0.032548       0.997912                 0.997921   \n",
      "2   19.685532    0.034698       0.996521                 0.996521   \n",
      "3   23.644054    0.035336       0.998608                 0.998608   \n",
      "4   13.264422    0.033929       0.997911                 0.997912   \n",
      "..        ...         ...            ...                      ...   \n",
      "60  18.315220    0.033765       0.996521                 0.996521   \n",
      "61  12.472009    0.031976       0.997912                 0.997921   \n",
      "62  19.669953    0.034687       0.996521                 0.996521   \n",
      "63  23.482926    0.033895       0.998608                 0.998608   \n",
      "64  13.209660    0.034350       0.997911                 0.997912   \n",
      "\n",
      "    test_recall_weighted  test_f1_weighted  test_roc_auc               model  \n",
      "0               0.996521          0.996520      0.999318  SVM-linear-scale-1  \n",
      "1               0.997912          0.997912      0.999358  SVM-linear-scale-1  \n",
      "2               0.996521          0.996520      0.999671  SVM-linear-scale-1  \n",
      "3               0.998608          0.998608      0.999946  SVM-linear-scale-1  \n",
      "4               0.997911          0.997911      0.999988  SVM-linear-scale-1  \n",
      "..                   ...               ...           ...                 ...  \n",
      "60              0.996521          0.996520      0.999318   SVM-linear-auto-2  \n",
      "61              0.997912          0.997912      0.999358   SVM-linear-auto-2  \n",
      "62              0.996521          0.996520      0.999671   SVM-linear-auto-2  \n",
      "63              0.998608          0.998608      0.999946   SVM-linear-auto-2  \n",
      "64              0.997911          0.997911      0.999988   SVM-linear-auto-2  \n",
      "\n",
      "[65 rows x 8 columns]\n"
     ]
    },
    {
     "name": "stdout",
     "output_type": "stream",
     "text": [
      "SVM-poly-auto-2\n",
      "              precision    recall  f1-score   support\n",
      "\n",
      "   malignant       0.96      0.96      0.96      1206\n",
      "      benign       0.96      0.96      0.96      1189\n",
      "\n",
      "    accuracy                           0.96      2395\n",
      "   macro avg       0.96      0.96      0.96      2395\n",
      "weighted avg       0.96      0.96      0.96      2395\n",
      "\n",
      "     fit_time  score_time  test_accuracy  test_precision_weighted  \\\n",
      "0   18.256321    0.034383       0.996521                 0.996521   \n",
      "1   12.519315    0.032548       0.997912                 0.997921   \n",
      "2   19.685532    0.034698       0.996521                 0.996521   \n",
      "3   23.644054    0.035336       0.998608                 0.998608   \n",
      "4   13.264422    0.033929       0.997911                 0.997912   \n",
      "..        ...         ...            ...                      ...   \n",
      "65   1.437278    0.192282       0.957550                 0.957604   \n",
      "66   1.440378    0.195529       0.955463                 0.955463   \n",
      "67   1.369047    0.190071       0.949896                 0.949897   \n",
      "68   1.422879    0.195389       0.951983                 0.952028   \n",
      "69   1.411606    0.191470       0.956825                 0.957022   \n",
      "\n",
      "    test_recall_weighted  test_f1_weighted  test_roc_auc               model  \n",
      "0               0.996521          0.996520      0.999318  SVM-linear-scale-1  \n",
      "1               0.997912          0.997912      0.999358  SVM-linear-scale-1  \n",
      "2               0.996521          0.996520      0.999671  SVM-linear-scale-1  \n",
      "3               0.998608          0.998608      0.999946  SVM-linear-scale-1  \n",
      "4               0.997911          0.997911      0.999988  SVM-linear-scale-1  \n",
      "..                   ...               ...           ...                 ...  \n",
      "65              0.957550          0.957554      0.988807     SVM-poly-auto-2  \n",
      "66              0.955463          0.955463      0.988492     SVM-poly-auto-2  \n",
      "67              0.949896          0.949895      0.985046     SVM-poly-auto-2  \n",
      "68              0.951983          0.951983      0.985160     SVM-poly-auto-2  \n",
      "69              0.956825          0.956832      0.988154     SVM-poly-auto-2  \n",
      "\n",
      "[70 rows x 8 columns]\n"
     ]
    },
    {
     "name": "stdout",
     "output_type": "stream",
     "text": [
      "SVM-rbf-auto-2\n",
      "              precision    recall  f1-score   support\n",
      "\n",
      "   malignant       1.00      0.41      0.58      1206\n",
      "      benign       0.62      1.00      0.77      1189\n",
      "\n",
      "    accuracy                           0.70      2395\n",
      "   macro avg       0.81      0.70      0.67      2395\n",
      "weighted avg       0.81      0.70      0.67      2395\n",
      "\n",
      "     fit_time  score_time  test_accuracy  test_precision_weighted  \\\n",
      "0   18.256321    0.034383       0.996521                 0.996521   \n",
      "1   12.519315    0.032548       0.997912                 0.997921   \n",
      "2   19.685532    0.034698       0.996521                 0.996521   \n",
      "3   23.644054    0.035336       0.998608                 0.998608   \n",
      "4   13.264422    0.033929       0.997911                 0.997912   \n",
      "..        ...         ...            ...                      ...   \n",
      "70   2.545687    2.385447       0.675017                 0.804955   \n",
      "71   2.559986    2.375923       0.700070                 0.809993   \n",
      "72   2.523286    2.375145       0.678497                 0.805233   \n",
      "73   2.513380    2.393355       0.693807                 0.810452   \n",
      "74   2.564903    2.382347       0.708914                 0.814168   \n",
      "\n",
      "    test_recall_weighted  test_f1_weighted  test_roc_auc               model  \n",
      "0               0.996521          0.996520      0.999318  SVM-linear-scale-1  \n",
      "1               0.997912          0.997912      0.999358  SVM-linear-scale-1  \n",
      "2               0.996521          0.996520      0.999671  SVM-linear-scale-1  \n",
      "3               0.998608          0.998608      0.999946  SVM-linear-scale-1  \n",
      "4               0.997911          0.997911      0.999988  SVM-linear-scale-1  \n",
      "..                   ...               ...           ...                 ...  \n",
      "70              0.675017          0.640113      0.711763      SVM-rbf-auto-2  \n",
      "71              0.700070          0.665893      0.713997      SVM-rbf-auto-2  \n",
      "72              0.678497          0.643093      0.706106      SVM-rbf-auto-2  \n",
      "73              0.693807          0.662735      0.725510      SVM-rbf-auto-2  \n",
      "74              0.708914          0.678829      0.729960      SVM-rbf-auto-2  \n",
      "\n",
      "[75 rows x 8 columns]\n"
     ]
    },
    {
     "name": "stdout",
     "output_type": "stream",
     "text": [
      "SVM-sigmoid-auto-2\n",
      "              precision    recall  f1-score   support\n",
      "\n",
      "   malignant       0.00      0.00      0.00      1206\n",
      "      benign       0.50      1.00      0.66      1189\n",
      "\n",
      "    accuracy                           0.50      2395\n",
      "   macro avg       0.25      0.50      0.33      2395\n",
      "weighted avg       0.25      0.50      0.33      2395\n",
      "\n",
      "     fit_time  score_time  test_accuracy  test_precision_weighted  \\\n",
      "0   18.256321    0.034383       0.996521                 0.996521   \n",
      "1   12.519315    0.032548       0.997912                 0.997921   \n",
      "2   19.685532    0.034698       0.996521                 0.996521   \n",
      "3   23.644054    0.035336       0.998608                 0.998608   \n",
      "4   13.264422    0.033929       0.997911                 0.997912   \n",
      "..        ...         ...            ...                      ...   \n",
      "75   2.759109    1.160137       0.487822                 0.237970   \n",
      "76   2.783053    1.167514       0.481559                 0.231899   \n",
      "77   2.765293    1.161311       0.494085                 0.244120   \n",
      "78   2.788759    1.163532       0.497564                 0.247570   \n",
      "79   2.793644    1.168661       0.486072                 0.236266   \n",
      "\n",
      "    test_recall_weighted  test_f1_weighted  test_roc_auc               model  \n",
      "0               0.996521          0.996520      0.999318  SVM-linear-scale-1  \n",
      "1               0.997912          0.997912      0.999358  SVM-linear-scale-1  \n",
      "2               0.996521          0.996520      0.999671  SVM-linear-scale-1  \n",
      "3               0.998608          0.998608      0.999946  SVM-linear-scale-1  \n",
      "4               0.997911          0.997911      0.999988  SVM-linear-scale-1  \n",
      "..                   ...               ...           ...                 ...  \n",
      "75              0.487822          0.319891      0.500000  SVM-sigmoid-auto-2  \n",
      "76              0.481559          0.313047      0.500000  SVM-sigmoid-auto-2  \n",
      "77              0.494085          0.326782      0.500000  SVM-sigmoid-auto-2  \n",
      "78              0.497564          0.330631      0.500000  SVM-sigmoid-auto-2  \n",
      "79              0.486072          0.317974      0.500000  SVM-sigmoid-auto-2  \n",
      "\n",
      "[80 rows x 8 columns]\n",
      "678.1939350068569\n"
     ]
    }
   ],
   "source": [
    "## S7: IoT compromised (IoT + IoT)\n",
    " \n",
    "df_malicious = pd.concat([df1,df34])\n",
    " \n",
    "df_benign = pd.concat([df8,df9,df10,df11,df12,df21])\n",
    "\n",
    "print(\"malicious: {}\".format(len(df_malicious)))\n",
    "print(\"benign: {}\".format(len(df_benign)))\n",
    "\n",
    "print(\"{} NAN in malicious!\".format(len(df_malicious[df_malicious.isna().any(axis=1)])))\n",
    "print(\"{} NAN in benign!\".format(len(df_benign[df_benign.isna().any(axis=1)])))\n",
    "\n",
    "df_malicious = df_malicious.dropna()\n",
    "df_benign = df_benign.dropna()\n",
    "\n",
    "print(\"After droppping NAN rows: \")\n",
    "print(\"malicious: {}\".format(len(df_malicious)))\n",
    "print(\"benign: {}\".format(len(df_benign)))\n",
    "\n",
    "\n",
    "start = timer()\n",
    "\n",
    "results_all_combined_s0 = run_process(df_malicious,df_benign,df_results)\n",
    "\n",
    "end = timer()\n",
    "print(end - start)\n",
    "\n",
    "\n"
   ]
  }
 ],
 "metadata": {
  "kernelspec": {
   "display_name": "nectar-env",
   "language": "python",
   "name": "python3"
  },
  "language_info": {
   "codemirror_mode": {
    "name": "ipython",
    "version": 3
   },
   "file_extension": ".py",
   "mimetype": "text/x-python",
   "name": "python",
   "nbconvert_exporter": "python",
   "pygments_lexer": "ipython3",
   "version": "3.10.6"
  }
 },
 "nbformat": 4,
 "nbformat_minor": 5
}
