{
 "cells": [
  {
   "cell_type": "code",
   "execution_count": 1,
   "id": "Qw-VyVhH3z2I",
   "metadata": {
    "execution": {
     "iopub.execute_input": "2025-08-02T01:23:10.913425Z",
     "iopub.status.busy": "2025-08-02T01:23:10.913227Z",
     "iopub.status.idle": "2025-08-02T01:23:15.496163Z",
     "shell.execute_reply": "2025-08-02T01:23:15.495566Z"
    },
    "id": "Qw-VyVhH3z2I",
    "outputId": "e0aa0028-eaa7-443e-f710-cbe934234706"
   },
   "outputs": [],
   "source": [
    "import pandas as pd\n",
    "import tsfresh\n",
    "import os\n",
    "import json\n",
    "import scapy\n",
    "import numpy as np\n",
    "import warnings\n",
    "\n",
    "from scapy.all import *\n",
    "\n",
    "warnings.filterwarnings(\"ignore\") #ignore warnings caused by\n",
    "\n",
    "\n",
    "#################################################################\n",
    "#                                                               #\n",
    "#               malicious csv files import                      #\n",
    "#                                                               #\n",
    "#################################################################\n",
    "\n",
    "df1 = pd.read_csv('malicious/WebOS_binary.csv') #\n",
    "df2 = pd.read_csv('malicious/Server_Binary.csv') #\n",
    "df3 = pd.read_csv('malicious/Raspberry_Webmine_Robust.csv')\n",
    "df4 = pd.read_csv('malicious/Raspberry_Binary.csv') #\n",
    "df5 = pd.read_csv('malicious/Raspberry_Webmine_Aggressive.csv')\n",
    "df6 = pd.read_csv('malicious/Raspberry_WebminePool_Aggressive.csv')\n",
    "df7 = pd.read_csv('malicious/Server_WebminePool_Aggressive.csv') #\n",
    "\n",
    "df32 = pd.read_csv('malicious/Server_WebminePool_Robust.csv') #\n",
    "df33 = pd.read_csv('malicious/Raspberry_WebminePool_Stealthy.csv') #\n",
    "df34 = pd.read_csv('malicious/Raspberry_WebminePool_Robust.csv') #\n",
    "df35 = pd.read_csv('malicious/Desktop_WebminePool_Aggressive.csv') #\n",
    "\n",
    "\n",
    "#################################################################\n",
    "#                                                               #\n",
    "#               benign csv files import                         #\n",
    "#                                                               #\n",
    "#################################################################\n",
    "\n",
    "############### LAPTOP #############\n",
    "\n",
    "df8 = pd.read_csv('benign-2/Laptop/Laptop_download_benign.csv')\n",
    "df9 = pd.read_csv('benign-2/Laptop/Laptop_idle_benign.csv')\n",
    "df10 = pd.read_csv('benign-2/Laptop/Laptop_interactive_benign.csv')\n",
    "df11 = pd.read_csv('benign-2/Laptop/Laptop_video_benign.csv')\n",
    "df12 = pd.read_csv('benign-2/Laptop/Laptop_webbrowsing_benign.csv')\n",
    "\n",
    "############### Raspberry ##########\n",
    "\n",
    "df13 = pd.read_csv('benign-2/Raspberry/Raspberry_download_benign.csv')\n",
    "df14 = pd.read_csv('benign-2/Raspberry/Raspberry_idle_benign.csv')\n",
    "df15 = pd.read_csv('benign-2/Raspberry/Raspberry_interactive_benign.csv')\n",
    "df16 = pd.read_csv('benign-2/Raspberry/Raspberry_video_benign.csv')\n",
    "df17 = pd.read_csv('benign-2/Raspberry/Raspberry_webbrowsing_benign.csv')\n",
    "\n",
    "############### Server ############\n",
    "\n",
    "\n",
    "df18 = pd.read_csv('benign-2/Server/Server_download_benign.csv')\n",
    "df19 = pd.read_csv('benign-2/Server/Server_idle_benign.csv')\n",
    "df20 = pd.read_csv('benign-2/Server/Server_interactive_benign.csv')\n",
    "df21 = pd.read_csv('benign-2/Server/Server_video_benign.csv')\n",
    "df22 = pd.read_csv('benign-2/Server/Server_webbrowsing_benign.csv')\n",
    "\n",
    "############### WebOS ############\n",
    "\n",
    "df23 = pd.read_csv('benign-2/WebOS/Webos_video(live&normal)_benign.csv')\n",
    "\n",
    "\n",
    "\n",
    "\n",
    "df_results = pd.DataFrame()"
   ]
  },
  {
   "cell_type": "code",
   "execution_count": 2,
   "id": "bo3gpMMD3z2J",
   "metadata": {
    "execution": {
     "iopub.execute_input": "2025-08-02T01:23:15.498156Z",
     "iopub.status.busy": "2025-08-02T01:23:15.498024Z",
     "iopub.status.idle": "2025-08-02T01:23:15.595968Z",
     "shell.execute_reply": "2025-08-02T01:23:15.595425Z"
    },
    "id": "bo3gpMMD3z2J",
    "outputId": "8743f4b6-8fd7-4ebe-9b57-9dc2f0b672cb"
   },
   "outputs": [
    {
     "name": "stdout",
     "output_type": "stream",
     "text": [
      "df1 -->> 43173\n",
      "df2 -->> 1213354\n",
      "df3 -->> 3621\n",
      "df4 -->> 22111\n",
      "df5 -->> 14156\n",
      "df6 -->> 24476\n",
      "df7 -->> 3106\n",
      "df32 -->> 18460\n",
      "df33 -->> 10285\n",
      "df34 -->> 7708\n",
      "df35 -->> 234892\n",
      "/////////////////////////////////////////////////\n",
      " LAPTOP \n",
      "df8 -->> 442866\n",
      "df9 -->> 113602\n",
      "df10 -->> 81681\n",
      "df11 -->> 29010\n",
      "df12 -->> 99235\n",
      " Raspberry \n",
      "df13 -->> 276808\n",
      "df14 -->> 73\n",
      "df15 -->> 104241\n",
      "df16 -->> 57205\n",
      "df17 -->> 123298\n",
      " Server \n",
      "df18 -->> 564831\n",
      "df19 -->> 13459\n",
      "df20 -->> 123728\n",
      "df21 -->> 109497\n",
      "df22 -->> 43713\n",
      " WebOS \n",
      "df23 -->> 177704\n",
      "malicious: 1595342\n",
      "benign: 2360951\n"
     ]
    }
   ],
   "source": [
    "print(\"df1 -->> {}\".format(len(df1)))\n",
    "print(\"df2 -->> {}\".format(len(df2)))\n",
    "print(\"df3 -->> {}\".format(len(df3)))\n",
    "print(\"df4 -->> {}\".format(len(df4)))\n",
    "print(\"df5 -->> {}\".format(len(df5)))\n",
    "print(\"df6 -->> {}\".format(len(df6)))\n",
    "print(\"df7 -->> {}\".format(len(df7)))\n",
    "print(\"df32 -->> {}\".format(len(df32)))\n",
    "print(\"df33 -->> {}\".format(len(df33)))\n",
    "print(\"df34 -->> {}\".format(len(df34)))\n",
    "print(\"df35 -->> {}\".format(len(df35)))\n",
    "print(\"/////////////////////////////////////////////////\")\n",
    "\n",
    "print(\" LAPTOP \")\n",
    "\n",
    "\n",
    "print(\"df8 -->> {}\".format(len(df8)))\n",
    "print(\"df9 -->> {}\".format(len(df9)))\n",
    "print(\"df10 -->> {}\".format(len(df10)))\n",
    "print(\"df11 -->> {}\".format(len(df11)))\n",
    "print(\"df12 -->> {}\".format(len(df12)))\n",
    "\n",
    "print(\" Raspberry \")\n",
    "\n",
    "\n",
    "print(\"df13 -->> {}\".format(len(df13)))\n",
    "print(\"df14 -->> {}\".format(len(df14)))\n",
    "print(\"df15 -->> {}\".format(len(df15)))\n",
    "print(\"df16 -->> {}\".format(len(df16)))\n",
    "print(\"df17 -->> {}\".format(len(df17)))\n",
    "\n",
    "print(\" Server \")\n",
    "\n",
    "print(\"df18 -->> {}\".format(len(df18)))\n",
    "print(\"df19 -->> {}\".format(len(df19)))\n",
    "print(\"df20 -->> {}\".format(len(df20)))\n",
    "print(\"df21 -->> {}\".format(len(df21)))\n",
    "print(\"df22 -->> {}\".format(len(df22)))\n",
    "\n",
    "print(\" WebOS \")\n",
    "\n",
    "print(\"df23 -->> {}\".format(len(df23)))\n",
    "\n",
    "\n",
    "df_malicious = pd.concat([df1,df2,df3,df4,df5,df6,df7,df32,df33,df34,df35])\n",
    "\n",
    "df_benign = pd.concat([df8,df9,df10,df11,df12,df13,df14,df15,df16,df17,df18,df19,df20,df21,df22,df23])\n",
    "\n",
    "print(\"malicious: {}\".format(len(df_malicious)))\n",
    "print(\"benign: {}\".format(len(df_benign)))\n"
   ]
  },
  {
   "cell_type": "code",
   "execution_count": 3,
   "id": "vgV6AAdA3z2K",
   "metadata": {
    "execution": {
     "iopub.execute_input": "2025-08-02T01:23:15.597802Z",
     "iopub.status.busy": "2025-08-02T01:23:15.597673Z",
     "iopub.status.idle": "2025-08-02T01:23:15.868006Z",
     "shell.execute_reply": "2025-08-02T01:23:15.867395Z"
    },
    "id": "vgV6AAdA3z2K",
    "outputId": "a4f81d85-9f67-43dc-de39-6a788668c6d4"
   },
   "outputs": [],
   "source": [
    "# Prune the datasets for labeling process for malicious data\n",
    "\n",
    "\n",
    "# For WebOS = 18:56:80:17:d0:ef\n",
    "index_names = df1[((df1['HW_dst'] != '18:56:80:17:d0:ef') & (df1['Hw_src'] != '18:56:80:17:d0:ef'))].index\n",
    "df1.drop(index_names, inplace = True)\n",
    "\n",
    "# Big_Server_Monero_mining_data = a4:bb:6d:ac:e1:fd\n",
    "\n",
    "index_names = df2[((df2['HW_dst'] != 'a4:bb:6d:ac:e1:fd') & (df2['Hw_src'] != 'a4:bb:6d:ac:e1:fd'))].index\n",
    "df2.drop(index_names, inplace = True)\n",
    "\n",
    "# ege_data_rasberry = dc:a6:32:67:66:4b\n",
    "\n",
    "index_names = df3[((df3['HW_dst'] != 'dc:a6:32:67:66:4b') & (df3['Hw_src'] != 'dc:a6:32:67:66:4b'))].index\n",
    "df3.drop(index_names, inplace = True)\n",
    "\n",
    "# Rasberry_binary_monero_mining = dc:a6:32:68:35:8a\n",
    "\n",
    "index_names = df4[((df4['HW_dst'] != 'dc:a6:32:68:35:8a') & (df4['Hw_src'] != 'dc:a6:32:68:35:8a'))].index\n",
    "df4.drop(index_names, inplace = True)\n",
    "\n",
    "# Rasberry_network_data_2 = dc:a6:32:67:66:4b\n",
    "\n",
    "index_names = df5[((df5['HW_dst'] != 'dc:a6:32:67:66:4b') & (df5['Hw_src'] != 'dc:a6:32:67:66:4b'))].index\n",
    "df5.drop(index_names, inplace = True)\n",
    "\n",
    "# Rasberry-Webmine = dc:a6:32:67:66:4b\n",
    "index_names = df6[((df6['HW_dst'] != 'dc:a6:32:67:66:4b') & (df6['Hw_src'] != 'dc:a6:32:67:66:4b'))].index\n",
    "df6.drop(index_names, inplace = True)\n",
    "\n",
    "# Server_Webmine_Network_data = a4:bb:6d:ac:e1:fd\n",
    "\n",
    "index_names = df7[((df7['HW_dst'] != 'a4:bb:6d:ac:e1:fd') & (df7['Hw_src'] != 'a4:bb:6d:ac:e1:fd'))].index\n",
    "df7.drop(index_names, inplace = True)\n",
    "\n",
    "# Server_%50_Mining = a4:bb:6d:ac:e1:fd\n",
    "\n",
    "index_names = df32[((df32['HW_dst'] != 'a4:bb:6d:ac:e1:fd') & (df32['Hw_src'] != 'a4:bb:6d:ac:e1:fd'))].index\n",
    "df32.drop(index_names, inplace = True)\n",
    "\n",
    "# Rasberry_webmine_%10 = dc:a6:32:67:66:4b\n",
    "\n",
    "index_names = df33[((df33['HW_dst'] != 'dc:a6:32:67:66:4b') & (df33['Hw_src'] != 'dc:a6:32:67:66:4b'))].index\n",
    "df33.drop(index_names, inplace = True)\n",
    "\n",
    "# Rasberry_webmine_%50 = dc:a6:32:68:35:8a\n",
    "\n",
    "index_names = df34[((df34['HW_dst'] != 'dc:a6:32:68:35:8a') & (df34['Hw_src'] != 'dc:a6:32:68:35:8a'))].index\n",
    "df34.drop(index_names, inplace = True)\n",
    "\n",
    "# Desktop_Webmine_%100 = dc:a6:32:68:35:8a\n",
    "\n",
    "index_names = df35[((df35['HW_dst'] != 'd8:3b:bf:8f:ba:ba') & (df35['Hw_src'] != 'd8:3b:bf:8f:ba:ba'))].index\n",
    "df35.drop(index_names, inplace = True)"
   ]
  },
  {
   "cell_type": "code",
   "execution_count": 4,
   "id": "vLcNRTuD3z2L",
   "metadata": {
    "execution": {
     "iopub.execute_input": "2025-08-02T01:23:15.869840Z",
     "iopub.status.busy": "2025-08-02T01:23:15.869705Z",
     "iopub.status.idle": "2025-08-02T01:23:15.880752Z",
     "shell.execute_reply": "2025-08-02T01:23:15.880142Z"
    },
    "id": "vLcNRTuD3z2L",
    "outputId": "96dc2e29-993f-4472-fe3d-3d5898b36fe6"
   },
   "outputs": [],
   "source": [
    "#################################################################\n",
    "#                                                               #\n",
    "#      Labeling Features for further calculations               #\n",
    "#                                                               #\n",
    "#################################################################\n",
    "\n",
    "df1.insert(7, \"Is_malicious\", 1)\n",
    "df2.insert(7, \"Is_malicious\", 1)\n",
    "df3.insert(7, \"Is_malicious\", 1)\n",
    "df4.insert(7, \"Is_malicious\", 1)\n",
    "df5.insert(7, \"Is_malicious\", 1)\n",
    "df6.insert(7, \"Is_malicious\", 1)\n",
    "df7.insert(7, \"Is_malicious\", 1)\n",
    "\n",
    "# ========================================================\n",
    "\n",
    "df8.insert(7, \"Is_malicious\", 0)\n",
    "df9.insert(7, \"Is_malicious\", 0)\n",
    "df10.insert(7, \"Is_malicious\", 0)\n",
    "df11.insert(7, \"Is_malicious\", 0)\n",
    "df12.insert(7, \"Is_malicious\", 0)\n",
    "df13.insert(7, \"Is_malicious\", 0)\n",
    "df14.insert(7, \"Is_malicious\", 0)\n",
    "df15.insert(7, \"Is_malicious\", 0)\n",
    "df16.insert(7, \"Is_malicious\", 0)\n",
    "df17.insert(7, \"Is_malicious\", 0)\n",
    "df18.insert(7, \"Is_malicious\", 0)\n",
    "df19.insert(7, \"Is_malicious\", 0)\n",
    "df20.insert(7, \"Is_malicious\", 0)\n",
    "df21.insert(7, \"Is_malicious\", 0)\n",
    "df22.insert(7, \"Is_malicious\", 0)\n",
    "df23.insert(7, \"Is_malicious\", 0)\n",
    "\n",
    "# ========================================================\n",
    "\n",
    "\n",
    "df32.insert(7, \"Is_malicious\", 1)\n",
    "df33.insert(7, \"Is_malicious\", 1)\n",
    "df34.insert(7, \"Is_malicious\", 1)\n",
    "df35.insert(7, \"Is_malicious\", 1)"
   ]
  },
  {
   "cell_type": "code",
   "execution_count": 5,
   "id": "KFGq2yXd3z2L",
   "metadata": {
    "execution": {
     "iopub.execute_input": "2025-08-02T01:23:15.882538Z",
     "iopub.status.busy": "2025-08-02T01:23:15.882406Z",
     "iopub.status.idle": "2025-08-02T01:23:15.888011Z",
     "shell.execute_reply": "2025-08-02T01:23:15.887531Z"
    },
    "id": "KFGq2yXd3z2L"
   },
   "outputs": [],
   "source": [
    "def run_process(a,b,x):\n",
    "\n",
    "    df_malicious = a.copy()\n",
    "    df_benign    = b.copy()\n",
    "\n",
    "    from tsfresh import extract_features, select_features\n",
    "    from tsfresh.utilities.dataframe_functions import impute\n",
    "    from tsfresh import extract_features\n",
    "    from tsfresh.feature_selection.relevance import calculate_relevance_table\n",
    "\n",
    "\n",
    "    df_malicious.reset_index(drop=True, inplace=True) #reset index\n",
    "    df_malicious['id']= np.floor(df_malicious.index.array/10)\n",
    "    df_benign.reset_index(drop=True, inplace=True) #reset index\n",
    "    df_benign['id']= np.floor(df_benign.index.array/10)\n",
    "\n",
    "\n",
    "    tf1=tsfresh.extract_features(df_malicious,impute_function=impute, column_kind='Is_malicious',\n",
    "                                 column_id='id',column_sort=\"Time\",column_value = \"Length\")\n",
    "    tf1['class']= 1\n",
    "\n",
    "\n",
    "\n",
    "\n",
    "    tf2=tsfresh.extract_features(df_benign,impute_function=impute, column_kind='Is_malicious',\n",
    "                                 column_id='id',column_sort=\"Time\",column_value = \"Length\")\n",
    "    tf2['class']= 0\n",
    "\n",
    "\n",
    "    tf2.columns = tf1.columns\n",
    "\n",
    "    features=pd.concat([tf1,tf2])\n",
    "    #features.reset_index(drop=True, inplace=True) #reset index\n",
    "\n",
    "#   best_features = pd.read_csv('/home/ege/Desktop/Mining_data/mining/new_captures/features_final.csv')\n",
    "\n",
    "    features2 = features.copy()\n",
    "    features2.reset_index(drop=True, inplace=True)\n",
    "\n",
    "    y = pd.Series(data = features2['class'], index=features2.index)\n",
    "\n",
    "    from tsfresh.examples import load_robot_execution_failures\n",
    "    from tsfresh import extract_features, select_features\n",
    "    from tsfresh.feature_selection.relevance import calculate_relevance_table\n",
    "\n",
    "    relevance_table = calculate_relevance_table(features2, y)\n",
    "    relevance_table = relevance_table[relevance_table.relevant]\n",
    "    relevance_table.sort_values(\"p_value\", inplace=True)\n",
    "\n",
    "    relevance_table\n",
    "\n",
    "    best_features = relevance_table[relevance_table['p_value'] <= 0.05]\n",
    "\n",
    "    df_ML = pd.DataFrame()\n",
    "\n",
    "    for pkt in best_features:\n",
    "        df_ML[best_features.feature] = features[best_features.feature]\n",
    "\n",
    "    final = ML_Process(df_ML,x)\n",
    "\n",
    "\n",
    "    return final"
   ]
  },
  {
   "cell_type": "code",
   "execution_count": 6,
   "id": "rKgbQQcf3z2M",
   "metadata": {
    "execution": {
     "iopub.execute_input": "2025-08-02T01:23:15.889757Z",
     "iopub.status.busy": "2025-08-02T01:23:15.889633Z",
     "iopub.status.idle": "2025-08-02T01:23:15.895621Z",
     "shell.execute_reply": "2025-08-02T01:23:15.895140Z"
    },
    "id": "rKgbQQcf3z2M"
   },
   "outputs": [],
   "source": [
    "def ML_Process(df_ML,x):\n",
    "    df_results = x.copy()\n",
    "    print('let the ml starts')\n",
    "\n",
    "    from sklearn import neighbors, metrics\n",
    "    from sklearn.preprocessing import LabelEncoder\n",
    "\n",
    "    #X = df_finalized[['Time', 'Length','Protocol']].values\n",
    "    X = df_ML.drop('class',axis=1).to_numpy()\n",
    "    #y = df_finalized[['Is_malicious']]\n",
    "    y = df_ML['class'].to_numpy()\n",
    "\n",
    "\n",
    "\n",
    "    #print(X,y)\n",
    "\n",
    "    from sklearn.model_selection import train_test_split\n",
    "    Le = LabelEncoder()\n",
    "    for i in range(len(X[0])):\n",
    "        X[:, i] = Le.fit_transform(X[:, i])\n",
    "\n",
    "    X_train, X_test, y_train, y_test = train_test_split(X, y, test_size=0.25, random_state=8675309)\n",
    "\n",
    "\n",
    "    from sklearn.linear_model import LogisticRegression\n",
    "    from sklearn.neighbors import KNeighborsClassifier\n",
    "    from sklearn.svm import SVC\n",
    "    from sklearn.ensemble import RandomForestClassifier\n",
    "    from sklearn.naive_bayes import GaussianNB\n",
    "    #from xgboost import XGBClassifier\n",
    "    from sklearn import model_selection\n",
    "    from sklearn.utils import class_weight\n",
    "    from sklearn.metrics import classification_report\n",
    "    from sklearn.metrics import confusion_matrix\n",
    "    import numpy as np\n",
    "    import pandas as pd\n",
    "    y_train = y_train.ravel()\n",
    "    dfs = []\n",
    "    models = [\n",
    "          ('LogReg', LogisticRegression()),\n",
    "          #('RF', RandomForestClassifier()),\n",
    "          ('KNN', KNeighborsClassifier()),\n",
    "          ('SVM', SVC()),\n",
    "          ('GNB', GaussianNB())\n",
    "          #('XGB', XGBClassifier())\n",
    "            ]\n",
    "    results = []\n",
    "    names = []\n",
    "    scoring = ['accuracy', 'precision_weighted', 'recall_weighted', 'f1_weighted', 'roc_auc']\n",
    "    target_names = ['malignant', 'benign']\n",
    "    for name, model in models:\n",
    "        kfold = model_selection.KFold(n_splits=5, shuffle=True, random_state=90210)\n",
    "        cv_results = model_selection.cross_validate(model, X_train, y_train, cv=kfold,\n",
    "                                                    scoring=scoring)\n",
    "\n",
    "        clf = model.fit(X_train, y_train)\n",
    "\n",
    "        y_pred = clf.predict(X_test)\n",
    "        print(name)\n",
    "        print(classification_report(y_test, y_pred, target_names=target_names))\n",
    "        results.append(cv_results)\n",
    "        names.append(name)\n",
    "        this_df = pd.DataFrame(cv_results)\n",
    "        this_df['model'] = name\n",
    "        dfs.append(this_df)\n",
    "        final = pd.concat(dfs, ignore_index=True)\n",
    "        print(final)\n",
    "\n",
    "\n",
    "    return(final)\n"
   ]
  },
  {
   "cell_type": "code",
   "execution_count": 7,
   "id": "WK7HUbMX3z2M",
   "metadata": {
    "execution": {
     "iopub.execute_input": "2025-08-02T01:23:15.897325Z",
     "iopub.status.busy": "2025-08-02T01:23:15.897203Z",
     "iopub.status.idle": "2025-08-02T01:23:15.899336Z",
     "shell.execute_reply": "2025-08-02T01:23:15.898858Z"
    },
    "id": "WK7HUbMX3z2M"
   },
   "outputs": [],
   "source": [
    "from timeit import default_timer as timer"
   ]
  },
  {
   "cell_type": "code",
   "execution_count": 8,
   "id": "egAuflEu3z2N",
   "metadata": {
    "execution": {
     "iopub.execute_input": "2025-08-02T01:23:15.901078Z",
     "iopub.status.busy": "2025-08-02T01:23:15.900945Z",
     "iopub.status.idle": "2025-08-02T06:35:50.824644Z",
     "shell.execute_reply": "2025-08-02T06:35:50.823916Z"
    },
    "id": "egAuflEu3z2N",
    "outputId": "a7253a66-f678-4496-8e87-941364a442c6",
    "scrolled": false
   },
   "outputs": [
    {
     "name": "stdout",
     "output_type": "stream",
     "text": [
      "malicious: 1557230\n",
      "benign: 1531780\n",
      "0 NAN in malicious!\n"
     ]
    },
    {
     "name": "stdout",
     "output_type": "stream",
     "text": [
      "0 NAN in benign!\n"
     ]
    },
    {
     "name": "stdout",
     "output_type": "stream",
     "text": [
      "After droppping NAN rows: \n",
      "malicious: 1557230\n",
      "benign: 1531780\n"
     ]
    },
    {
     "name": "stderr",
     "output_type": "stream",
     "text": [
      "\r",
      "Feature Extraction:   0%|          | 0/160 [00:00<?, ?it/s]"
     ]
    },
    {
     "name": "stderr",
     "output_type": "stream",
     "text": [
      "\r",
      "Feature Extraction:   1%|          | 1/160 [01:28<3:54:52, 88.63s/it]"
     ]
    },
    {
     "name": "stderr",
     "output_type": "stream",
     "text": [
      "\r",
      "Feature Extraction:   1%|▏         | 2/160 [01:30<1:38:42, 37.48s/it]"
     ]
    },
    {
     "name": "stderr",
     "output_type": "stream",
     "text": [
      "\r",
      "Feature Extraction:   2%|▏         | 3/160 [01:31<54:07, 20.69s/it]  "
     ]
    },
    {
     "name": "stderr",
     "output_type": "stream",
     "text": [
      "\r",
      "Feature Extraction:   2%|▎         | 4/160 [01:32<34:01, 13.09s/it]"
     ]
    },
    {
     "name": "stderr",
     "output_type": "stream",
     "text": [
      "\r",
      "Feature Extraction:   3%|▎         | 5/160 [01:33<22:08,  8.57s/it]"
     ]
    },
    {
     "name": "stderr",
     "output_type": "stream",
     "text": [
      "\r",
      "Feature Extraction:   4%|▍         | 6/160 [01:34<15:43,  6.13s/it]"
     ]
    },
    {
     "name": "stderr",
     "output_type": "stream",
     "text": [
      "\r",
      "Feature Extraction:   4%|▍         | 7/160 [01:35<11:02,  4.33s/it]"
     ]
    },
    {
     "name": "stderr",
     "output_type": "stream",
     "text": [
      "\r",
      "Feature Extraction:   5%|▌         | 8/160 [01:36<08:37,  3.40s/it]"
     ]
    },
    {
     "name": "stderr",
     "output_type": "stream",
     "text": [
      "\r",
      "Feature Extraction:   6%|▌         | 9/160 [01:37<07:00,  2.78s/it]"
     ]
    },
    {
     "name": "stderr",
     "output_type": "stream",
     "text": [
      "\r",
      "Feature Extraction:   6%|▋         | 10/160 [01:38<05:31,  2.21s/it]"
     ]
    },
    {
     "name": "stderr",
     "output_type": "stream",
     "text": [
      "\r",
      "Feature Extraction:   7%|▋         | 11/160 [01:39<04:15,  1.72s/it]"
     ]
    },
    {
     "name": "stderr",
     "output_type": "stream",
     "text": [
      "\r",
      "Feature Extraction:   8%|▊         | 12/160 [01:40<03:44,  1.52s/it]"
     ]
    },
    {
     "name": "stderr",
     "output_type": "stream",
     "text": [
      "\r",
      "Feature Extraction:   8%|▊         | 13/160 [01:41<03:14,  1.32s/it]"
     ]
    },
    {
     "name": "stderr",
     "output_type": "stream",
     "text": [
      "\r",
      "Feature Extraction:   9%|▉         | 14/160 [01:41<02:38,  1.09s/it]"
     ]
    },
    {
     "name": "stderr",
     "output_type": "stream",
     "text": [
      "\r",
      "Feature Extraction:   9%|▉         | 15/160 [01:42<02:28,  1.03s/it]"
     ]
    },
    {
     "name": "stderr",
     "output_type": "stream",
     "text": [
      "\r",
      "Feature Extraction:  10%|█         | 16/160 [01:44<02:43,  1.13s/it]"
     ]
    },
    {
     "name": "stderr",
     "output_type": "stream",
     "text": [
      "\r",
      "Feature Extraction:  11%|█         | 17/160 [01:45<02:32,  1.07s/it]"
     ]
    },
    {
     "name": "stderr",
     "output_type": "stream",
     "text": [
      "\r",
      "Feature Extraction:  11%|█▏        | 18/160 [01:45<02:24,  1.02s/it]"
     ]
    },
    {
     "name": "stderr",
     "output_type": "stream",
     "text": [
      "\r",
      "Feature Extraction:  12%|█▏        | 19/160 [01:46<02:19,  1.01it/s]"
     ]
    },
    {
     "name": "stderr",
     "output_type": "stream",
     "text": [
      "\r",
      "Feature Extraction:  12%|█▎        | 20/160 [01:47<02:15,  1.03it/s]"
     ]
    },
    {
     "name": "stderr",
     "output_type": "stream",
     "text": [
      "\r",
      "Feature Extraction:  13%|█▎        | 21/160 [01:48<02:13,  1.04it/s]"
     ]
    },
    {
     "name": "stderr",
     "output_type": "stream",
     "text": [
      "\r",
      "Feature Extraction:  14%|█▍        | 22/160 [01:49<02:14,  1.03it/s]"
     ]
    },
    {
     "name": "stderr",
     "output_type": "stream",
     "text": [
      "\r",
      "Feature Extraction:  14%|█▍        | 23/160 [01:51<02:42,  1.19s/it]"
     ]
    },
    {
     "name": "stderr",
     "output_type": "stream",
     "text": [
      "\r",
      "Feature Extraction:  15%|█▌        | 24/160 [01:52<02:30,  1.11s/it]"
     ]
    },
    {
     "name": "stderr",
     "output_type": "stream",
     "text": [
      "\r",
      "Feature Extraction:  16%|█▌        | 25/160 [01:53<02:24,  1.07s/it]"
     ]
    },
    {
     "name": "stderr",
     "output_type": "stream",
     "text": [
      "\r",
      "Feature Extraction:  16%|█▋        | 26/160 [01:53<02:02,  1.09it/s]"
     ]
    },
    {
     "name": "stderr",
     "output_type": "stream",
     "text": [
      "\r",
      "Feature Extraction:  17%|█▋        | 27/160 [01:55<02:22,  1.07s/it]"
     ]
    },
    {
     "name": "stderr",
     "output_type": "stream",
     "text": [
      "\r",
      "Feature Extraction:  18%|█▊        | 28/160 [01:55<02:03,  1.07it/s]"
     ]
    },
    {
     "name": "stderr",
     "output_type": "stream",
     "text": [
      "\r",
      "Feature Extraction:  18%|█▊        | 29/160 [01:57<02:22,  1.09s/it]"
     ]
    },
    {
     "name": "stderr",
     "output_type": "stream",
     "text": [
      "\r",
      "Feature Extraction:  19%|█▉        | 30/160 [01:58<02:39,  1.23s/it]"
     ]
    },
    {
     "name": "stderr",
     "output_type": "stream",
     "text": [
      "\r",
      "Feature Extraction:  19%|█▉        | 31/160 [02:00<02:53,  1.34s/it]"
     ]
    },
    {
     "name": "stderr",
     "output_type": "stream",
     "text": [
      "\r",
      "Feature Extraction:  20%|██        | 32/160 [02:01<02:48,  1.31s/it]"
     ]
    },
    {
     "name": "stderr",
     "output_type": "stream",
     "text": [
      "\r",
      "Feature Extraction:  21%|██        | 33/160 [02:52<33:52, 16.00s/it]"
     ]
    },
    {
     "name": "stderr",
     "output_type": "stream",
     "text": [
      "\r",
      "Feature Extraction:  21%|██▏       | 34/160 [02:53<24:43, 11.78s/it]"
     ]
    },
    {
     "name": "stderr",
     "output_type": "stream",
     "text": [
      "\r",
      "Feature Extraction:  22%|██▏       | 35/160 [02:59<20:32,  9.86s/it]"
     ]
    },
    {
     "name": "stderr",
     "output_type": "stream",
     "text": [
      "\r",
      "Feature Extraction:  22%|██▎       | 36/160 [03:01<15:34,  7.54s/it]"
     ]
    },
    {
     "name": "stderr",
     "output_type": "stream",
     "text": [
      "\r",
      "Feature Extraction:  23%|██▎       | 37/160 [03:02<11:17,  5.51s/it]"
     ]
    },
    {
     "name": "stderr",
     "output_type": "stream",
     "text": [
      "\r",
      "Feature Extraction:  24%|██▍       | 38/160 [03:03<08:29,  4.18s/it]"
     ]
    },
    {
     "name": "stderr",
     "output_type": "stream",
     "text": [
      "\r",
      "Feature Extraction:  24%|██▍       | 39/160 [03:05<06:58,  3.46s/it]"
     ]
    },
    {
     "name": "stderr",
     "output_type": "stream",
     "text": [
      "\r",
      "Feature Extraction:  25%|██▌       | 40/160 [03:06<05:38,  2.82s/it]"
     ]
    },
    {
     "name": "stderr",
     "output_type": "stream",
     "text": [
      "\r",
      "Feature Extraction:  26%|██▌       | 41/160 [03:07<04:39,  2.35s/it]"
     ]
    },
    {
     "name": "stderr",
     "output_type": "stream",
     "text": [
      "\r",
      "Feature Extraction:  26%|██▋       | 42/160 [03:08<03:53,  1.98s/it]"
     ]
    },
    {
     "name": "stderr",
     "output_type": "stream",
     "text": [
      "\r",
      "Feature Extraction:  27%|██▋       | 43/160 [03:11<04:14,  2.17s/it]"
     ]
    },
    {
     "name": "stderr",
     "output_type": "stream",
     "text": [
      "\r",
      "Feature Extraction:  28%|██▊       | 44/160 [03:12<03:32,  1.83s/it]"
     ]
    },
    {
     "name": "stderr",
     "output_type": "stream",
     "text": [
      "\r",
      "Feature Extraction:  28%|██▊       | 45/160 [03:13<03:01,  1.58s/it]"
     ]
    },
    {
     "name": "stderr",
     "output_type": "stream",
     "text": [
      "\r",
      "Feature Extraction:  29%|██▉       | 46/160 [03:14<02:52,  1.52s/it]"
     ]
    },
    {
     "name": "stderr",
     "output_type": "stream",
     "text": [
      "\r",
      "Feature Extraction:  29%|██▉       | 47/160 [03:16<02:47,  1.49s/it]"
     ]
    },
    {
     "name": "stderr",
     "output_type": "stream",
     "text": [
      "\r",
      "Feature Extraction:  30%|███       | 48/160 [03:17<02:30,  1.34s/it]"
     ]
    },
    {
     "name": "stderr",
     "output_type": "stream",
     "text": [
      "\r",
      "Feature Extraction:  31%|███       | 49/160 [03:20<03:17,  1.78s/it]"
     ]
    },
    {
     "name": "stderr",
     "output_type": "stream",
     "text": [
      "\r",
      "Feature Extraction:  31%|███▏      | 50/160 [03:22<03:24,  1.86s/it]"
     ]
    },
    {
     "name": "stderr",
     "output_type": "stream",
     "text": [
      "\r",
      "Feature Extraction:  32%|███▏      | 51/160 [03:22<02:45,  1.52s/it]"
     ]
    },
    {
     "name": "stderr",
     "output_type": "stream",
     "text": [
      "\r",
      "Feature Extraction:  32%|███▎      | 52/160 [03:23<02:23,  1.33s/it]"
     ]
    },
    {
     "name": "stderr",
     "output_type": "stream",
     "text": [
      "\r",
      "Feature Extraction:  33%|███▎      | 53/160 [03:24<02:13,  1.25s/it]"
     ]
    },
    {
     "name": "stderr",
     "output_type": "stream",
     "text": [
      "\r",
      "Feature Extraction:  34%|███▍      | 54/160 [03:25<02:04,  1.17s/it]"
     ]
    },
    {
     "name": "stderr",
     "output_type": "stream",
     "text": [
      "\r",
      "Feature Extraction:  34%|███▍      | 55/160 [03:28<02:42,  1.55s/it]"
     ]
    },
    {
     "name": "stderr",
     "output_type": "stream",
     "text": [
      "\r",
      "Feature Extraction:  35%|███▌      | 56/160 [03:30<03:00,  1.73s/it]"
     ]
    },
    {
     "name": "stderr",
     "output_type": "stream",
     "text": [
      "\r",
      "Feature Extraction:  36%|███▌      | 57/160 [03:31<02:55,  1.70s/it]"
     ]
    },
    {
     "name": "stderr",
     "output_type": "stream",
     "text": [
      "\r",
      "Feature Extraction:  36%|███▋      | 58/160 [03:32<02:21,  1.39s/it]"
     ]
    },
    {
     "name": "stderr",
     "output_type": "stream",
     "text": [
      "\r",
      "Feature Extraction:  37%|███▋      | 59/160 [03:33<02:03,  1.22s/it]"
     ]
    },
    {
     "name": "stderr",
     "output_type": "stream",
     "text": [
      "\r",
      "Feature Extraction:  38%|███▊      | 60/160 [03:34<01:49,  1.10s/it]"
     ]
    },
    {
     "name": "stderr",
     "output_type": "stream",
     "text": [
      "\r",
      "Feature Extraction:  38%|███▊      | 61/160 [03:34<01:32,  1.07it/s]"
     ]
    },
    {
     "name": "stderr",
     "output_type": "stream",
     "text": [
      "\r",
      "Feature Extraction:  39%|███▉      | 62/160 [03:35<01:22,  1.19it/s]"
     ]
    },
    {
     "name": "stderr",
     "output_type": "stream",
     "text": [
      "\r",
      "Feature Extraction:  39%|███▉      | 63/160 [03:39<02:48,  1.74s/it]"
     ]
    },
    {
     "name": "stderr",
     "output_type": "stream",
     "text": [
      "\r",
      "Feature Extraction:  40%|████      | 64/160 [03:40<02:26,  1.52s/it]"
     ]
    },
    {
     "name": "stderr",
     "output_type": "stream",
     "text": [
      "\r",
      "Feature Extraction:  41%|████      | 65/160 [04:30<25:23, 16.03s/it]"
     ]
    },
    {
     "name": "stderr",
     "output_type": "stream",
     "text": [
      "\r",
      "Feature Extraction:  41%|████▏     | 66/160 [04:33<18:54, 12.07s/it]"
     ]
    },
    {
     "name": "stderr",
     "output_type": "stream",
     "text": [
      "\r",
      "Feature Extraction:  42%|████▏     | 67/160 [04:39<16:04, 10.37s/it]"
     ]
    },
    {
     "name": "stderr",
     "output_type": "stream",
     "text": [
      "\r",
      "Feature Extraction:  42%|████▎     | 68/160 [04:40<11:36,  7.57s/it]"
     ]
    },
    {
     "name": "stderr",
     "output_type": "stream",
     "text": [
      "\r",
      "Feature Extraction:  43%|████▎     | 69/160 [04:43<09:34,  6.31s/it]"
     ]
    },
    {
     "name": "stderr",
     "output_type": "stream",
     "text": [
      "\r",
      "Feature Extraction:  44%|████▍     | 70/160 [04:44<07:01,  4.68s/it]"
     ]
    },
    {
     "name": "stderr",
     "output_type": "stream",
     "text": [
      "\r",
      "Feature Extraction:  44%|████▍     | 71/160 [04:46<05:36,  3.78s/it]"
     ]
    },
    {
     "name": "stderr",
     "output_type": "stream",
     "text": [
      "\r",
      "Feature Extraction:  45%|████▌     | 72/160 [04:47<04:23,  2.99s/it]"
     ]
    },
    {
     "name": "stderr",
     "output_type": "stream",
     "text": [
      "\r",
      "Feature Extraction:  46%|████▌     | 73/160 [04:48<03:19,  2.29s/it]"
     ]
    },
    {
     "name": "stderr",
     "output_type": "stream",
     "text": [
      "\r",
      "Feature Extraction:  46%|████▋     | 74/160 [04:49<03:04,  2.15s/it]"
     ]
    },
    {
     "name": "stderr",
     "output_type": "stream",
     "text": [
      "\r",
      "Feature Extraction:  47%|████▋     | 75/160 [04:51<02:41,  1.90s/it]"
     ]
    },
    {
     "name": "stderr",
     "output_type": "stream",
     "text": [
      "\r",
      "Feature Extraction:  48%|████▊     | 76/160 [04:53<02:57,  2.11s/it]"
     ]
    },
    {
     "name": "stderr",
     "output_type": "stream",
     "text": [
      "\r",
      "Feature Extraction:  48%|████▊     | 77/160 [04:54<02:29,  1.80s/it]"
     ]
    },
    {
     "name": "stderr",
     "output_type": "stream",
     "text": [
      "\r",
      "Feature Extraction:  49%|████▉     | 78/160 [04:56<02:08,  1.56s/it]"
     ]
    },
    {
     "name": "stderr",
     "output_type": "stream",
     "text": [
      "\r",
      "Feature Extraction:  49%|████▉     | 79/160 [04:57<01:56,  1.44s/it]"
     ]
    },
    {
     "name": "stderr",
     "output_type": "stream",
     "text": [
      "\r",
      "Feature Extraction:  50%|█████     | 80/160 [04:58<02:04,  1.56s/it]"
     ]
    },
    {
     "name": "stderr",
     "output_type": "stream",
     "text": [
      "\r",
      "Feature Extraction:  51%|█████     | 81/160 [05:00<01:52,  1.42s/it]"
     ]
    },
    {
     "name": "stderr",
     "output_type": "stream",
     "text": [
      "\r",
      "Feature Extraction:  51%|█████▏    | 82/160 [05:04<02:51,  2.20s/it]"
     ]
    },
    {
     "name": "stderr",
     "output_type": "stream",
     "text": [
      "\r",
      "Feature Extraction:  52%|█████▏    | 83/160 [05:04<02:16,  1.77s/it]"
     ]
    },
    {
     "name": "stderr",
     "output_type": "stream",
     "text": [
      "\r",
      "Feature Extraction:  52%|█████▎    | 84/160 [05:06<02:12,  1.74s/it]"
     ]
    },
    {
     "name": "stderr",
     "output_type": "stream",
     "text": [
      "\r",
      "Feature Extraction:  53%|█████▎    | 85/160 [05:07<02:03,  1.64s/it]"
     ]
    },
    {
     "name": "stderr",
     "output_type": "stream",
     "text": [
      "\r",
      "Feature Extraction:  54%|█████▍    | 86/160 [05:09<01:57,  1.59s/it]"
     ]
    },
    {
     "name": "stderr",
     "output_type": "stream",
     "text": [
      "\r",
      "Feature Extraction:  54%|█████▍    | 87/160 [05:10<01:38,  1.34s/it]"
     ]
    },
    {
     "name": "stderr",
     "output_type": "stream",
     "text": [
      "\r",
      "Feature Extraction:  55%|█████▌    | 88/160 [05:11<01:43,  1.43s/it]"
     ]
    },
    {
     "name": "stderr",
     "output_type": "stream",
     "text": [
      "\r",
      "Feature Extraction:  56%|█████▌    | 89/160 [05:15<02:22,  2.01s/it]"
     ]
    },
    {
     "name": "stderr",
     "output_type": "stream",
     "text": [
      "\r",
      "Feature Extraction:  56%|█████▋    | 90/160 [05:15<01:54,  1.64s/it]"
     ]
    },
    {
     "name": "stderr",
     "output_type": "stream",
     "text": [
      "\r",
      "Feature Extraction:  57%|█████▋    | 91/160 [05:17<01:41,  1.46s/it]"
     ]
    },
    {
     "name": "stderr",
     "output_type": "stream",
     "text": [
      "\r",
      "Feature Extraction:  57%|█████▊    | 92/160 [05:18<01:41,  1.49s/it]"
     ]
    },
    {
     "name": "stderr",
     "output_type": "stream",
     "text": [
      "\r",
      "Feature Extraction:  58%|█████▊    | 93/160 [05:19<01:31,  1.37s/it]"
     ]
    },
    {
     "name": "stderr",
     "output_type": "stream",
     "text": [
      "\r",
      "Feature Extraction:  59%|█████▉    | 94/160 [05:20<01:17,  1.17s/it]"
     ]
    },
    {
     "name": "stderr",
     "output_type": "stream",
     "text": [
      "\r",
      "Feature Extraction:  59%|█████▉    | 95/160 [05:24<02:09,  1.99s/it]"
     ]
    },
    {
     "name": "stderr",
     "output_type": "stream",
     "text": [
      "\r",
      "Feature Extraction:  60%|██████    | 96/160 [05:25<01:43,  1.61s/it]"
     ]
    },
    {
     "name": "stderr",
     "output_type": "stream",
     "text": [
      "\r",
      "Feature Extraction:  61%|██████    | 97/160 [06:09<15:06, 14.40s/it]"
     ]
    },
    {
     "name": "stderr",
     "output_type": "stream",
     "text": [
      "\r",
      "Feature Extraction:  61%|██████▏   | 98/160 [06:13<11:49, 11.44s/it]"
     ]
    },
    {
     "name": "stderr",
     "output_type": "stream",
     "text": [
      "\r",
      "Feature Extraction:  62%|██████▏   | 99/160 [06:19<09:56,  9.78s/it]"
     ]
    },
    {
     "name": "stderr",
     "output_type": "stream",
     "text": [
      "\r",
      "Feature Extraction:  62%|██████▎   | 100/160 [06:21<07:24,  7.41s/it]"
     ]
    },
    {
     "name": "stderr",
     "output_type": "stream",
     "text": [
      "\r",
      "Feature Extraction:  63%|██████▎   | 101/160 [06:22<05:24,  5.51s/it]"
     ]
    },
    {
     "name": "stderr",
     "output_type": "stream",
     "text": [
      "\r",
      "Feature Extraction:  64%|██████▍   | 102/160 [06:26<04:51,  5.03s/it]"
     ]
    },
    {
     "name": "stderr",
     "output_type": "stream",
     "text": [
      "\r",
      "Feature Extraction:  64%|██████▍   | 103/160 [06:27<03:39,  3.85s/it]"
     ]
    },
    {
     "name": "stderr",
     "output_type": "stream",
     "text": [
      "\r",
      "Feature Extraction:  65%|██████▌   | 104/160 [06:28<02:52,  3.08s/it]"
     ]
    },
    {
     "name": "stderr",
     "output_type": "stream",
     "text": [
      "\r",
      "Feature Extraction:  66%|██████▌   | 105/160 [06:30<02:18,  2.51s/it]"
     ]
    },
    {
     "name": "stderr",
     "output_type": "stream",
     "text": [
      "\r",
      "Feature Extraction:  66%|██████▋   | 106/160 [06:31<01:58,  2.19s/it]"
     ]
    },
    {
     "name": "stderr",
     "output_type": "stream",
     "text": [
      "\r",
      "Feature Extraction:  67%|██████▋   | 107/160 [06:32<01:38,  1.86s/it]"
     ]
    },
    {
     "name": "stderr",
     "output_type": "stream",
     "text": [
      "\r",
      "Feature Extraction:  68%|██████▊   | 108/160 [06:37<02:23,  2.76s/it]"
     ]
    },
    {
     "name": "stderr",
     "output_type": "stream",
     "text": [
      "\r",
      "Feature Extraction:  68%|██████▊   | 109/160 [06:38<01:52,  2.21s/it]"
     ]
    },
    {
     "name": "stderr",
     "output_type": "stream",
     "text": [
      "\r",
      "Feature Extraction:  69%|██████▉   | 110/160 [06:39<01:32,  1.85s/it]"
     ]
    },
    {
     "name": "stderr",
     "output_type": "stream",
     "text": [
      "\r",
      "Feature Extraction:  69%|██████▉   | 111/160 [06:40<01:13,  1.50s/it]"
     ]
    },
    {
     "name": "stderr",
     "output_type": "stream",
     "text": [
      "\r",
      "Feature Extraction:  70%|███████   | 112/160 [06:41<01:06,  1.39s/it]"
     ]
    },
    {
     "name": "stderr",
     "output_type": "stream",
     "text": [
      "\r",
      "Feature Extraction:  71%|███████   | 113/160 [06:42<01:00,  1.29s/it]"
     ]
    },
    {
     "name": "stderr",
     "output_type": "stream",
     "text": [
      "\r",
      "Feature Extraction:  71%|███████▏  | 114/160 [06:43<00:54,  1.19s/it]"
     ]
    },
    {
     "name": "stderr",
     "output_type": "stream",
     "text": [
      "\r",
      "Feature Extraction:  72%|███████▏  | 115/160 [06:48<01:42,  2.27s/it]"
     ]
    },
    {
     "name": "stderr",
     "output_type": "stream",
     "text": [
      "\r",
      "Feature Extraction:  72%|███████▎  | 116/160 [06:49<01:30,  2.06s/it]"
     ]
    },
    {
     "name": "stderr",
     "output_type": "stream",
     "text": [
      "\r",
      "Feature Extraction:  73%|███████▎  | 117/160 [06:50<01:17,  1.81s/it]"
     ]
    },
    {
     "name": "stderr",
     "output_type": "stream",
     "text": [
      "\r",
      "Feature Extraction:  74%|███████▍  | 118/160 [06:51<01:00,  1.45s/it]"
     ]
    },
    {
     "name": "stderr",
     "output_type": "stream",
     "text": [
      "\r",
      "Feature Extraction:  74%|███████▍  | 119/160 [06:52<00:51,  1.24s/it]"
     ]
    },
    {
     "name": "stderr",
     "output_type": "stream",
     "text": [
      "\r",
      "Feature Extraction:  75%|███████▌  | 120/160 [06:52<00:43,  1.09s/it]"
     ]
    },
    {
     "name": "stderr",
     "output_type": "stream",
     "text": [
      "\r",
      "Feature Extraction:  76%|███████▌  | 121/160 [06:53<00:41,  1.07s/it]"
     ]
    },
    {
     "name": "stderr",
     "output_type": "stream",
     "text": [
      "\r",
      "Feature Extraction:  76%|███████▋  | 122/160 [06:59<01:28,  2.33s/it]"
     ]
    },
    {
     "name": "stderr",
     "output_type": "stream",
     "text": [
      "\r",
      "Feature Extraction:  77%|███████▋  | 123/160 [07:00<01:08,  1.86s/it]"
     ]
    },
    {
     "name": "stderr",
     "output_type": "stream",
     "text": [
      "\r",
      "Feature Extraction:  78%|███████▊  | 124/160 [07:01<00:59,  1.65s/it]"
     ]
    },
    {
     "name": "stderr",
     "output_type": "stream",
     "text": [
      "\r",
      "Feature Extraction:  78%|███████▊  | 125/160 [07:01<00:47,  1.37s/it]"
     ]
    },
    {
     "name": "stderr",
     "output_type": "stream",
     "text": [
      "\r",
      "Feature Extraction:  79%|███████▉  | 126/160 [07:04<00:56,  1.66s/it]"
     ]
    },
    {
     "name": "stderr",
     "output_type": "stream",
     "text": [
      "\r",
      "Feature Extraction:  79%|███████▉  | 127/160 [07:05<00:52,  1.58s/it]"
     ]
    },
    {
     "name": "stderr",
     "output_type": "stream",
     "text": [
      "\r",
      "Feature Extraction:  80%|████████  | 128/160 [07:06<00:42,  1.31s/it]"
     ]
    },
    {
     "name": "stderr",
     "output_type": "stream",
     "text": [
      "\r",
      "Feature Extraction:  81%|████████  | 129/160 [07:51<07:25, 14.37s/it]"
     ]
    },
    {
     "name": "stderr",
     "output_type": "stream",
     "text": [
      "\r",
      "Feature Extraction:  81%|████████▏ | 130/160 [07:56<05:47, 11.59s/it]"
     ]
    },
    {
     "name": "stderr",
     "output_type": "stream",
     "text": [
      "\r",
      "Feature Extraction:  82%|████████▏ | 131/160 [07:59<04:22,  9.04s/it]"
     ]
    },
    {
     "name": "stderr",
     "output_type": "stream",
     "text": [
      "\r",
      "Feature Extraction:  82%|████████▎ | 132/160 [07:59<03:02,  6.52s/it]"
     ]
    },
    {
     "name": "stderr",
     "output_type": "stream",
     "text": [
      "\r",
      "Feature Extraction:  83%|████████▎ | 133/160 [08:03<02:31,  5.60s/it]"
     ]
    },
    {
     "name": "stderr",
     "output_type": "stream",
     "text": [
      "\r",
      "Feature Extraction:  84%|████████▍ | 134/160 [08:03<01:46,  4.08s/it]"
     ]
    },
    {
     "name": "stderr",
     "output_type": "stream",
     "text": [
      "\r",
      "Feature Extraction:  84%|████████▍ | 135/160 [08:06<01:27,  3.48s/it]"
     ]
    },
    {
     "name": "stderr",
     "output_type": "stream",
     "text": [
      "\r",
      "Feature Extraction:  85%|████████▌ | 136/160 [08:08<01:16,  3.20s/it]"
     ]
    },
    {
     "name": "stderr",
     "output_type": "stream",
     "text": [
      "\r",
      "Feature Extraction:  86%|████████▌ | 137/160 [08:09<00:56,  2.47s/it]"
     ]
    },
    {
     "name": "stderr",
     "output_type": "stream",
     "text": [
      "\r",
      "Feature Extraction:  86%|████████▋ | 138/160 [08:09<00:41,  1.88s/it]"
     ]
    },
    {
     "name": "stderr",
     "output_type": "stream",
     "text": [
      "\r",
      "Feature Extraction:  87%|████████▋ | 139/160 [08:10<00:29,  1.43s/it]"
     ]
    },
    {
     "name": "stderr",
     "output_type": "stream",
     "text": [
      "\r",
      "Feature Extraction:  88%|████████▊ | 140/160 [08:11<00:25,  1.29s/it]"
     ]
    },
    {
     "name": "stderr",
     "output_type": "stream",
     "text": [
      "\r",
      "Feature Extraction:  88%|████████▊ | 141/160 [08:15<00:39,  2.10s/it]"
     ]
    },
    {
     "name": "stderr",
     "output_type": "stream",
     "text": [
      "\r",
      "Feature Extraction:  89%|████████▉ | 142/160 [08:15<00:28,  1.59s/it]"
     ]
    },
    {
     "name": "stderr",
     "output_type": "stream",
     "text": [
      "\r",
      "Feature Extraction:  89%|████████▉ | 143/160 [08:16<00:22,  1.30s/it]"
     ]
    },
    {
     "name": "stderr",
     "output_type": "stream",
     "text": [
      "\r",
      "Feature Extraction:  90%|█████████ | 144/160 [08:16<00:16,  1.03s/it]"
     ]
    },
    {
     "name": "stderr",
     "output_type": "stream",
     "text": [
      "\r",
      "Feature Extraction:  91%|█████████ | 145/160 [08:18<00:17,  1.15s/it]"
     ]
    },
    {
     "name": "stderr",
     "output_type": "stream",
     "text": [
      "\r",
      "Feature Extraction:  91%|█████████▏| 146/160 [08:18<00:14,  1.07s/it]"
     ]
    },
    {
     "name": "stderr",
     "output_type": "stream",
     "text": [
      "\r",
      "Feature Extraction:  92%|█████████▏| 147/160 [08:22<00:21,  1.67s/it]"
     ]
    },
    {
     "name": "stderr",
     "output_type": "stream",
     "text": [
      "\r",
      "Feature Extraction:  92%|█████████▎| 148/160 [08:22<00:15,  1.26s/it]"
     ]
    },
    {
     "name": "stderr",
     "output_type": "stream",
     "text": [
      "\r",
      "Feature Extraction:  93%|█████████▎| 149/160 [08:22<00:11,  1.07s/it]"
     ]
    },
    {
     "name": "stderr",
     "output_type": "stream",
     "text": [
      "\r",
      "Feature Extraction:  94%|█████████▍| 150/160 [08:23<00:09,  1.06it/s]"
     ]
    },
    {
     "name": "stderr",
     "output_type": "stream",
     "text": [
      "\r",
      "Feature Extraction:  94%|█████████▍| 151/160 [08:26<00:13,  1.46s/it]"
     ]
    },
    {
     "name": "stderr",
     "output_type": "stream",
     "text": [
      "\r",
      "Feature Extraction:  95%|█████████▌| 152/160 [08:26<00:08,  1.12s/it]"
     ]
    },
    {
     "name": "stderr",
     "output_type": "stream",
     "text": [
      "\r",
      "Feature Extraction:  96%|█████████▌| 153/160 [08:26<00:06,  1.14it/s]"
     ]
    },
    {
     "name": "stderr",
     "output_type": "stream",
     "text": [
      "\r",
      "Feature Extraction:  96%|█████████▋| 154/160 [08:27<00:04,  1.40it/s]"
     ]
    },
    {
     "name": "stderr",
     "output_type": "stream",
     "text": [
      "\r",
      "Feature Extraction:  97%|█████████▋| 155/160 [08:27<00:03,  1.66it/s]"
     ]
    },
    {
     "name": "stderr",
     "output_type": "stream",
     "text": [
      "\r",
      "Feature Extraction:  98%|█████████▊| 156/160 [08:28<00:02,  1.57it/s]"
     ]
    },
    {
     "name": "stderr",
     "output_type": "stream",
     "text": [
      "\r",
      "Feature Extraction:  98%|█████████▊| 157/160 [08:28<00:01,  1.84it/s]"
     ]
    },
    {
     "name": "stderr",
     "output_type": "stream",
     "text": [
      "\r",
      "Feature Extraction:  99%|█████████▉| 158/160 [08:28<00:00,  2.10it/s]"
     ]
    },
    {
     "name": "stderr",
     "output_type": "stream",
     "text": [
      "\r",
      "Feature Extraction:  99%|█████████▉| 159/160 [08:29<00:00,  2.32it/s]"
     ]
    },
    {
     "name": "stderr",
     "output_type": "stream",
     "text": [
      "\r",
      "Feature Extraction: 100%|██████████| 160/160 [08:29<00:00,  2.51it/s]"
     ]
    },
    {
     "name": "stderr",
     "output_type": "stream",
     "text": [
      "\r",
      "Feature Extraction: 100%|██████████| 160/160 [08:29<00:00,  3.18s/it]"
     ]
    },
    {
     "name": "stderr",
     "output_type": "stream",
     "text": [
      "\n"
     ]
    },
    {
     "name": "stderr",
     "output_type": "stream",
     "text": [
      "\r",
      "Feature Extraction:   0%|          | 0/160 [00:00<?, ?it/s]"
     ]
    },
    {
     "name": "stderr",
     "output_type": "stream",
     "text": [
      "\r",
      "Feature Extraction:   1%|          | 1/160 [01:33<4:08:50, 93.91s/it]"
     ]
    },
    {
     "name": "stderr",
     "output_type": "stream",
     "text": [
      "\r",
      "Feature Extraction:   1%|▏         | 2/160 [01:35<1:43:37, 39.35s/it]"
     ]
    },
    {
     "name": "stderr",
     "output_type": "stream",
     "text": [
      "\r",
      "Feature Extraction:   2%|▏         | 3/160 [01:35<56:48, 21.71s/it]  "
     ]
    },
    {
     "name": "stderr",
     "output_type": "stream",
     "text": [
      "\r",
      "Feature Extraction:   2%|▎         | 4/160 [01:37<36:07, 13.90s/it]"
     ]
    },
    {
     "name": "stderr",
     "output_type": "stream",
     "text": [
      "\r",
      "Feature Extraction:   3%|▎         | 5/160 [01:38<23:57,  9.28s/it]"
     ]
    },
    {
     "name": "stderr",
     "output_type": "stream",
     "text": [
      "\r",
      "Feature Extraction:   4%|▍         | 6/160 [01:39<16:34,  6.46s/it]"
     ]
    },
    {
     "name": "stderr",
     "output_type": "stream",
     "text": [
      "\r",
      "Feature Extraction:   4%|▍         | 7/160 [01:40<11:35,  4.55s/it]"
     ]
    },
    {
     "name": "stderr",
     "output_type": "stream",
     "text": [
      "\r",
      "Feature Extraction:   5%|▌         | 8/160 [01:41<08:41,  3.43s/it]"
     ]
    },
    {
     "name": "stderr",
     "output_type": "stream",
     "text": [
      "\r",
      "Feature Extraction:   6%|▌         | 9/160 [01:42<07:08,  2.84s/it]"
     ]
    },
    {
     "name": "stderr",
     "output_type": "stream",
     "text": [
      "\r",
      "Feature Extraction:   6%|▋         | 10/160 [01:44<06:00,  2.41s/it]"
     ]
    },
    {
     "name": "stderr",
     "output_type": "stream",
     "text": [
      "\r",
      "Feature Extraction:   7%|▋         | 11/160 [01:45<04:53,  1.97s/it]"
     ]
    },
    {
     "name": "stderr",
     "output_type": "stream",
     "text": [
      "\r",
      "Feature Extraction:   8%|▊         | 12/160 [01:46<03:58,  1.61s/it]"
     ]
    },
    {
     "name": "stderr",
     "output_type": "stream",
     "text": [
      "\r",
      "Feature Extraction:   8%|▊         | 13/160 [01:47<03:33,  1.45s/it]"
     ]
    },
    {
     "name": "stderr",
     "output_type": "stream",
     "text": [
      "\r",
      "Feature Extraction:   9%|▉         | 14/160 [01:47<02:57,  1.21s/it]"
     ]
    },
    {
     "name": "stderr",
     "output_type": "stream",
     "text": [
      "\r",
      "Feature Extraction:   9%|▉         | 15/160 [01:48<02:39,  1.10s/it]"
     ]
    },
    {
     "name": "stderr",
     "output_type": "stream",
     "text": [
      "\r",
      "Feature Extraction:  10%|█         | 16/160 [01:49<02:35,  1.08s/it]"
     ]
    },
    {
     "name": "stderr",
     "output_type": "stream",
     "text": [
      "\r",
      "Feature Extraction:  11%|█         | 17/160 [01:50<02:27,  1.03s/it]"
     ]
    },
    {
     "name": "stderr",
     "output_type": "stream",
     "text": [
      "\r",
      "Feature Extraction:  11%|█▏        | 18/160 [01:51<02:23,  1.01s/it]"
     ]
    },
    {
     "name": "stderr",
     "output_type": "stream",
     "text": [
      "\r",
      "Feature Extraction:  12%|█▏        | 19/160 [01:52<02:21,  1.00s/it]"
     ]
    },
    {
     "name": "stderr",
     "output_type": "stream",
     "text": [
      "\r",
      "Feature Extraction:  12%|█▎        | 20/160 [01:53<02:18,  1.01it/s]"
     ]
    },
    {
     "name": "stderr",
     "output_type": "stream",
     "text": [
      "\r",
      "Feature Extraction:  13%|█▎        | 21/160 [01:54<02:15,  1.02it/s]"
     ]
    },
    {
     "name": "stderr",
     "output_type": "stream",
     "text": [
      "\r",
      "Feature Extraction:  14%|█▍        | 22/160 [01:55<02:14,  1.03it/s]"
     ]
    },
    {
     "name": "stderr",
     "output_type": "stream",
     "text": [
      "\r",
      "Feature Extraction:  14%|█▍        | 23/160 [01:57<02:42,  1.19s/it]"
     ]
    },
    {
     "name": "stderr",
     "output_type": "stream",
     "text": [
      "\r",
      "Feature Extraction:  15%|█▌        | 24/160 [01:58<02:32,  1.12s/it]"
     ]
    },
    {
     "name": "stderr",
     "output_type": "stream",
     "text": [
      "\r",
      "Feature Extraction:  16%|█▌        | 25/160 [01:59<02:24,  1.07s/it]"
     ]
    },
    {
     "name": "stderr",
     "output_type": "stream",
     "text": [
      "\r",
      "Feature Extraction:  16%|█▋        | 26/160 [02:00<02:24,  1.08s/it]"
     ]
    },
    {
     "name": "stderr",
     "output_type": "stream",
     "text": [
      "\r",
      "Feature Extraction:  17%|█▋        | 27/160 [02:00<02:04,  1.07it/s]"
     ]
    },
    {
     "name": "stderr",
     "output_type": "stream",
     "text": [
      "\r",
      "Feature Extraction:  18%|█▊        | 28/160 [02:02<02:23,  1.09s/it]"
     ]
    },
    {
     "name": "stderr",
     "output_type": "stream",
     "text": [
      "\r",
      "Feature Extraction:  18%|█▊        | 29/160 [02:04<02:53,  1.33s/it]"
     ]
    },
    {
     "name": "stderr",
     "output_type": "stream",
     "text": [
      "\r",
      "Feature Extraction:  19%|█▉        | 30/160 [02:04<02:25,  1.12s/it]"
     ]
    },
    {
     "name": "stderr",
     "output_type": "stream",
     "text": [
      "\r",
      "Feature Extraction:  19%|█▉        | 31/160 [02:06<02:42,  1.26s/it]"
     ]
    },
    {
     "name": "stderr",
     "output_type": "stream",
     "text": [
      "\r",
      "Feature Extraction:  20%|██        | 32/160 [02:07<02:39,  1.25s/it]"
     ]
    },
    {
     "name": "stderr",
     "output_type": "stream",
     "text": [
      "\r",
      "Feature Extraction:  21%|██        | 33/160 [03:03<37:20, 17.64s/it]"
     ]
    },
    {
     "name": "stderr",
     "output_type": "stream",
     "text": [
      "\r",
      "Feature Extraction:  21%|██▏       | 34/160 [03:05<26:57, 12.84s/it]"
     ]
    },
    {
     "name": "stderr",
     "output_type": "stream",
     "text": [
      "\r",
      "Feature Extraction:  22%|██▏       | 35/160 [03:05<19:11,  9.21s/it]"
     ]
    },
    {
     "name": "stderr",
     "output_type": "stream",
     "text": [
      "\r",
      "Feature Extraction:  22%|██▎       | 36/160 [03:06<13:54,  6.73s/it]"
     ]
    },
    {
     "name": "stderr",
     "output_type": "stream",
     "text": [
      "\r",
      "Feature Extraction:  23%|██▎       | 37/160 [03:07<10:08,  4.94s/it]"
     ]
    },
    {
     "name": "stderr",
     "output_type": "stream",
     "text": [
      "\r",
      "Feature Extraction:  24%|██▍       | 38/160 [03:11<09:11,  4.52s/it]"
     ]
    },
    {
     "name": "stderr",
     "output_type": "stream",
     "text": [
      "\r",
      "Feature Extraction:  24%|██▍       | 39/160 [03:12<07:15,  3.60s/it]"
     ]
    },
    {
     "name": "stderr",
     "output_type": "stream",
     "text": [
      "\r",
      "Feature Extraction:  25%|██▌       | 40/160 [03:13<05:48,  2.90s/it]"
     ]
    },
    {
     "name": "stderr",
     "output_type": "stream",
     "text": [
      "\r",
      "Feature Extraction:  26%|██▌       | 41/160 [03:15<04:55,  2.48s/it]"
     ]
    },
    {
     "name": "stderr",
     "output_type": "stream",
     "text": [
      "\r",
      "Feature Extraction:  26%|██▋       | 42/160 [03:16<04:02,  2.06s/it]"
     ]
    },
    {
     "name": "stderr",
     "output_type": "stream",
     "text": [
      "\r",
      "Feature Extraction:  27%|██▋       | 43/160 [03:18<04:12,  2.16s/it]"
     ]
    },
    {
     "name": "stderr",
     "output_type": "stream",
     "text": [
      "\r",
      "Feature Extraction:  28%|██▊       | 44/160 [03:21<04:17,  2.22s/it]"
     ]
    },
    {
     "name": "stderr",
     "output_type": "stream",
     "text": [
      "\r",
      "Feature Extraction:  28%|██▊       | 45/160 [03:23<04:01,  2.10s/it]"
     ]
    },
    {
     "name": "stderr",
     "output_type": "stream",
     "text": [
      "\r",
      "Feature Extraction:  29%|██▉       | 46/160 [03:23<03:20,  1.76s/it]"
     ]
    },
    {
     "name": "stderr",
     "output_type": "stream",
     "text": [
      "\r",
      "Feature Extraction:  29%|██▉       | 47/160 [03:25<03:22,  1.79s/it]"
     ]
    },
    {
     "name": "stderr",
     "output_type": "stream",
     "text": [
      "\r",
      "Feature Extraction:  30%|███       | 48/160 [03:26<02:59,  1.60s/it]"
     ]
    },
    {
     "name": "stderr",
     "output_type": "stream",
     "text": [
      "\r",
      "Feature Extraction:  31%|███       | 49/160 [03:29<03:30,  1.90s/it]"
     ]
    },
    {
     "name": "stderr",
     "output_type": "stream",
     "text": [
      "\r",
      "Feature Extraction:  31%|███▏      | 50/160 [03:31<03:15,  1.78s/it]"
     ]
    },
    {
     "name": "stderr",
     "output_type": "stream",
     "text": [
      "\r",
      "Feature Extraction:  32%|███▏      | 51/160 [03:32<03:04,  1.69s/it]"
     ]
    },
    {
     "name": "stderr",
     "output_type": "stream",
     "text": [
      "\r",
      "Feature Extraction:  32%|███▎      | 52/160 [03:33<02:50,  1.58s/it]"
     ]
    },
    {
     "name": "stderr",
     "output_type": "stream",
     "text": [
      "\r",
      "Feature Extraction:  33%|███▎      | 53/160 [03:35<02:34,  1.44s/it]"
     ]
    },
    {
     "name": "stderr",
     "output_type": "stream",
     "text": [
      "\r",
      "Feature Extraction:  34%|███▍      | 54/160 [03:36<02:32,  1.44s/it]"
     ]
    },
    {
     "name": "stderr",
     "output_type": "stream",
     "text": [
      "\r",
      "Feature Extraction:  34%|███▍      | 55/160 [03:38<02:49,  1.62s/it]"
     ]
    },
    {
     "name": "stderr",
     "output_type": "stream",
     "text": [
      "\r",
      "Feature Extraction:  35%|███▌      | 56/160 [03:40<03:14,  1.87s/it]"
     ]
    },
    {
     "name": "stderr",
     "output_type": "stream",
     "text": [
      "\r",
      "Feature Extraction:  36%|███▌      | 57/160 [03:42<02:52,  1.68s/it]"
     ]
    },
    {
     "name": "stderr",
     "output_type": "stream",
     "text": [
      "\r",
      "Feature Extraction:  36%|███▋      | 58/160 [03:43<02:33,  1.50s/it]"
     ]
    },
    {
     "name": "stderr",
     "output_type": "stream",
     "text": [
      "\r",
      "Feature Extraction:  37%|███▋      | 59/160 [03:44<02:21,  1.40s/it]"
     ]
    },
    {
     "name": "stderr",
     "output_type": "stream",
     "text": [
      "\r",
      "Feature Extraction:  38%|███▊      | 60/160 [03:45<02:10,  1.30s/it]"
     ]
    },
    {
     "name": "stderr",
     "output_type": "stream",
     "text": [
      "\r",
      "Feature Extraction:  38%|███▊      | 61/160 [03:47<02:16,  1.38s/it]"
     ]
    },
    {
     "name": "stderr",
     "output_type": "stream",
     "text": [
      "\r",
      "Feature Extraction:  39%|███▉      | 62/160 [03:48<02:11,  1.34s/it]"
     ]
    },
    {
     "name": "stderr",
     "output_type": "stream",
     "text": [
      "\r",
      "Feature Extraction:  39%|███▉      | 63/160 [03:51<03:04,  1.90s/it]"
     ]
    },
    {
     "name": "stderr",
     "output_type": "stream",
     "text": [
      "\r",
      "Feature Extraction:  40%|████      | 64/160 [03:52<02:37,  1.64s/it]"
     ]
    },
    {
     "name": "stderr",
     "output_type": "stream",
     "text": [
      "\r",
      "Feature Extraction:  41%|████      | 65/160 [04:42<25:19, 15.99s/it]"
     ]
    },
    {
     "name": "stderr",
     "output_type": "stream",
     "text": [
      "\r",
      "Feature Extraction:  41%|████▏     | 66/160 [04:43<18:12, 11.63s/it]"
     ]
    },
    {
     "name": "stderr",
     "output_type": "stream",
     "text": [
      "\r",
      "Feature Extraction:  42%|████▏     | 67/160 [04:47<14:35,  9.41s/it]"
     ]
    },
    {
     "name": "stderr",
     "output_type": "stream",
     "text": [
      "\r",
      "Feature Extraction:  42%|████▎     | 68/160 [04:50<11:20,  7.40s/it]"
     ]
    },
    {
     "name": "stderr",
     "output_type": "stream",
     "text": [
      "\r",
      "Feature Extraction:  43%|████▎     | 69/160 [04:53<09:14,  6.09s/it]"
     ]
    },
    {
     "name": "stderr",
     "output_type": "stream",
     "text": [
      "\r",
      "Feature Extraction:  44%|████▍     | 70/160 [04:54<06:42,  4.47s/it]"
     ]
    },
    {
     "name": "stderr",
     "output_type": "stream",
     "text": [
      "\r",
      "Feature Extraction:  44%|████▍     | 71/160 [04:56<05:27,  3.68s/it]"
     ]
    },
    {
     "name": "stderr",
     "output_type": "stream",
     "text": [
      "\r",
      "Feature Extraction:  45%|████▌     | 72/160 [04:56<04:11,  2.86s/it]"
     ]
    },
    {
     "name": "stderr",
     "output_type": "stream",
     "text": [
      "\r",
      "Feature Extraction:  46%|████▌     | 73/160 [04:58<03:42,  2.56s/it]"
     ]
    },
    {
     "name": "stderr",
     "output_type": "stream",
     "text": [
      "\r",
      "Feature Extraction:  46%|████▋     | 74/160 [05:00<03:05,  2.16s/it]"
     ]
    },
    {
     "name": "stderr",
     "output_type": "stream",
     "text": [
      "\r",
      "Feature Extraction:  47%|████▋     | 75/160 [05:01<02:35,  1.83s/it]"
     ]
    },
    {
     "name": "stderr",
     "output_type": "stream",
     "text": [
      "\r",
      "Feature Extraction:  48%|████▊     | 76/160 [05:04<03:12,  2.30s/it]"
     ]
    },
    {
     "name": "stderr",
     "output_type": "stream",
     "text": [
      "\r",
      "Feature Extraction:  48%|████▊     | 77/160 [05:05<02:48,  2.03s/it]"
     ]
    },
    {
     "name": "stderr",
     "output_type": "stream",
     "text": [
      "\r",
      "Feature Extraction:  49%|████▉     | 78/160 [05:07<02:27,  1.80s/it]"
     ]
    },
    {
     "name": "stderr",
     "output_type": "stream",
     "text": [
      "\r",
      "Feature Extraction:  49%|████▉     | 79/160 [05:08<02:10,  1.61s/it]"
     ]
    },
    {
     "name": "stderr",
     "output_type": "stream",
     "text": [
      "\r",
      "Feature Extraction:  50%|█████     | 80/160 [05:10<02:15,  1.70s/it]"
     ]
    },
    {
     "name": "stderr",
     "output_type": "stream",
     "text": [
      "\r",
      "Feature Extraction:  51%|█████     | 81/160 [05:11<02:03,  1.57s/it]"
     ]
    },
    {
     "name": "stderr",
     "output_type": "stream",
     "text": [
      "\r",
      "Feature Extraction:  51%|█████▏    | 82/160 [05:14<02:45,  2.12s/it]"
     ]
    },
    {
     "name": "stderr",
     "output_type": "stream",
     "text": [
      "\r",
      "Feature Extraction:  52%|█████▏    | 83/160 [05:16<02:21,  1.84s/it]"
     ]
    },
    {
     "name": "stderr",
     "output_type": "stream",
     "text": [
      "\r",
      "Feature Extraction:  52%|█████▎    | 84/160 [05:16<01:58,  1.55s/it]"
     ]
    },
    {
     "name": "stderr",
     "output_type": "stream",
     "text": [
      "\r",
      "Feature Extraction:  53%|█████▎    | 85/160 [05:18<02:04,  1.67s/it]"
     ]
    },
    {
     "name": "stderr",
     "output_type": "stream",
     "text": [
      "\r",
      "Feature Extraction:  54%|█████▍    | 86/160 [05:19<01:50,  1.49s/it]"
     ]
    },
    {
     "name": "stderr",
     "output_type": "stream",
     "text": [
      "\r",
      "Feature Extraction:  54%|█████▍    | 87/160 [05:21<01:47,  1.48s/it]"
     ]
    },
    {
     "name": "stderr",
     "output_type": "stream",
     "text": [
      "\r",
      "Feature Extraction:  55%|█████▌    | 88/160 [05:25<02:44,  2.29s/it]"
     ]
    },
    {
     "name": "stderr",
     "output_type": "stream",
     "text": [
      "\r",
      "Feature Extraction:  56%|█████▌    | 89/160 [05:26<02:18,  1.94s/it]"
     ]
    },
    {
     "name": "stderr",
     "output_type": "stream",
     "text": [
      "\r",
      "Feature Extraction:  56%|█████▋    | 90/160 [05:28<02:04,  1.78s/it]"
     ]
    },
    {
     "name": "stderr",
     "output_type": "stream",
     "text": [
      "\r",
      "Feature Extraction:  57%|█████▋    | 91/160 [05:28<01:40,  1.45s/it]"
     ]
    },
    {
     "name": "stderr",
     "output_type": "stream",
     "text": [
      "\r",
      "Feature Extraction:  57%|█████▊    | 92/160 [05:29<01:29,  1.32s/it]"
     ]
    },
    {
     "name": "stderr",
     "output_type": "stream",
     "text": [
      "\r",
      "Feature Extraction:  58%|█████▊    | 93/160 [05:31<01:41,  1.51s/it]"
     ]
    },
    {
     "name": "stderr",
     "output_type": "stream",
     "text": [
      "\r",
      "Feature Extraction:  59%|█████▉    | 94/160 [05:32<01:31,  1.38s/it]"
     ]
    },
    {
     "name": "stderr",
     "output_type": "stream",
     "text": [
      "\r",
      "Feature Extraction:  59%|█████▉    | 95/160 [05:38<02:57,  2.74s/it]"
     ]
    },
    {
     "name": "stderr",
     "output_type": "stream",
     "text": [
      "\r",
      "Feature Extraction:  60%|██████    | 96/160 [05:39<02:21,  2.21s/it]"
     ]
    },
    {
     "name": "stderr",
     "output_type": "stream",
     "text": [
      "\r",
      "Feature Extraction:  61%|██████    | 97/160 [06:25<15:59, 15.23s/it]"
     ]
    },
    {
     "name": "stderr",
     "output_type": "stream",
     "text": [
      "\r",
      "Feature Extraction:  61%|██████▏   | 98/160 [06:26<11:21, 11.00s/it]"
     ]
    },
    {
     "name": "stderr",
     "output_type": "stream",
     "text": [
      "\r",
      "Feature Extraction:  62%|██████▏   | 99/160 [06:29<08:52,  8.72s/it]"
     ]
    },
    {
     "name": "stderr",
     "output_type": "stream",
     "text": [
      "\r",
      "Feature Extraction:  62%|██████▎   | 100/160 [06:31<06:37,  6.63s/it]"
     ]
    },
    {
     "name": "stderr",
     "output_type": "stream",
     "text": [
      "\r",
      "Feature Extraction:  63%|██████▎   | 101/160 [06:34<05:26,  5.53s/it]"
     ]
    },
    {
     "name": "stderr",
     "output_type": "stream",
     "text": [
      "\r",
      "Feature Extraction:  64%|██████▍   | 102/160 [06:38<04:57,  5.12s/it]"
     ]
    },
    {
     "name": "stderr",
     "output_type": "stream",
     "text": [
      "\r",
      "Feature Extraction:  64%|██████▍   | 103/160 [06:39<03:43,  3.91s/it]"
     ]
    },
    {
     "name": "stderr",
     "output_type": "stream",
     "text": [
      "\r",
      "Feature Extraction:  65%|██████▌   | 104/160 [06:41<03:02,  3.26s/it]"
     ]
    },
    {
     "name": "stderr",
     "output_type": "stream",
     "text": [
      "\r",
      "Feature Extraction:  66%|██████▌   | 105/160 [06:43<02:30,  2.74s/it]"
     ]
    },
    {
     "name": "stderr",
     "output_type": "stream",
     "text": [
      "\r",
      "Feature Extraction:  66%|██████▋   | 106/160 [06:44<02:00,  2.23s/it]"
     ]
    },
    {
     "name": "stderr",
     "output_type": "stream",
     "text": [
      "\r",
      "Feature Extraction:  67%|██████▋   | 107/160 [06:45<01:41,  1.91s/it]"
     ]
    },
    {
     "name": "stderr",
     "output_type": "stream",
     "text": [
      "\r",
      "Feature Extraction:  68%|██████▊   | 108/160 [06:50<02:32,  2.93s/it]"
     ]
    },
    {
     "name": "stderr",
     "output_type": "stream",
     "text": [
      "\r",
      "Feature Extraction:  68%|██████▊   | 109/160 [06:51<01:55,  2.27s/it]"
     ]
    },
    {
     "name": "stderr",
     "output_type": "stream",
     "text": [
      "\r",
      "Feature Extraction:  69%|██████▉   | 110/160 [06:52<01:31,  1.82s/it]"
     ]
    },
    {
     "name": "stderr",
     "output_type": "stream",
     "text": [
      "\r",
      "Feature Extraction:  69%|██████▉   | 111/160 [06:53<01:21,  1.66s/it]"
     ]
    },
    {
     "name": "stderr",
     "output_type": "stream",
     "text": [
      "\r",
      "Feature Extraction:  70%|███████   | 112/160 [06:54<01:09,  1.45s/it]"
     ]
    },
    {
     "name": "stderr",
     "output_type": "stream",
     "text": [
      "\r",
      "Feature Extraction:  71%|███████   | 113/160 [06:55<01:04,  1.38s/it]"
     ]
    },
    {
     "name": "stderr",
     "output_type": "stream",
     "text": [
      "\r",
      "Feature Extraction:  71%|███████▏  | 114/160 [06:56<00:59,  1.29s/it]"
     ]
    },
    {
     "name": "stderr",
     "output_type": "stream",
     "text": [
      "\r",
      "Feature Extraction:  72%|███████▏  | 115/160 [07:02<01:59,  2.64s/it]"
     ]
    },
    {
     "name": "stderr",
     "output_type": "stream",
     "text": [
      "\r",
      "Feature Extraction:  72%|███████▎  | 116/160 [07:03<01:33,  2.12s/it]"
     ]
    },
    {
     "name": "stderr",
     "output_type": "stream",
     "text": [
      "\r",
      "Feature Extraction:  73%|███████▎  | 117/160 [07:04<01:13,  1.70s/it]"
     ]
    },
    {
     "name": "stderr",
     "output_type": "stream",
     "text": [
      "\r",
      "Feature Extraction:  74%|███████▍  | 118/160 [07:05<01:01,  1.46s/it]"
     ]
    },
    {
     "name": "stderr",
     "output_type": "stream",
     "text": [
      "\r",
      "Feature Extraction:  74%|███████▍  | 119/160 [07:05<00:52,  1.28s/it]"
     ]
    },
    {
     "name": "stderr",
     "output_type": "stream",
     "text": [
      "\r",
      "Feature Extraction:  75%|███████▌  | 120/160 [07:07<00:57,  1.45s/it]"
     ]
    },
    {
     "name": "stderr",
     "output_type": "stream",
     "text": [
      "\r",
      "Feature Extraction:  76%|███████▌  | 121/160 [07:13<01:43,  2.66s/it]"
     ]
    },
    {
     "name": "stderr",
     "output_type": "stream",
     "text": [
      "\r",
      "Feature Extraction:  76%|███████▋  | 122/160 [07:14<01:22,  2.17s/it]"
     ]
    },
    {
     "name": "stderr",
     "output_type": "stream",
     "text": [
      "\r",
      "Feature Extraction:  77%|███████▋  | 123/160 [07:15<01:07,  1.83s/it]"
     ]
    },
    {
     "name": "stderr",
     "output_type": "stream",
     "text": [
      "\r",
      "Feature Extraction:  78%|███████▊  | 124/160 [07:16<00:58,  1.62s/it]"
     ]
    },
    {
     "name": "stderr",
     "output_type": "stream",
     "text": [
      "\r",
      "Feature Extraction:  78%|███████▊  | 125/160 [07:18<00:57,  1.65s/it]"
     ]
    },
    {
     "name": "stderr",
     "output_type": "stream",
     "text": [
      "\r",
      "Feature Extraction:  79%|███████▉  | 126/160 [07:19<00:51,  1.51s/it]"
     ]
    },
    {
     "name": "stderr",
     "output_type": "stream",
     "text": [
      "\r",
      "Feature Extraction:  79%|███████▉  | 127/160 [07:20<00:50,  1.52s/it]"
     ]
    },
    {
     "name": "stderr",
     "output_type": "stream",
     "text": [
      "\r",
      "Feature Extraction:  80%|████████  | 128/160 [07:24<01:10,  2.20s/it]"
     ]
    },
    {
     "name": "stderr",
     "output_type": "stream",
     "text": [
      "\r",
      "Feature Extraction:  81%|████████  | 129/160 [08:07<07:22, 14.27s/it]"
     ]
    },
    {
     "name": "stderr",
     "output_type": "stream",
     "text": [
      "\r",
      "Feature Extraction:  81%|████████▏ | 130/160 [08:08<05:08, 10.30s/it]"
     ]
    },
    {
     "name": "stderr",
     "output_type": "stream",
     "text": [
      "\r",
      "Feature Extraction:  82%|████████▏ | 131/160 [08:11<03:55,  8.13s/it]"
     ]
    },
    {
     "name": "stderr",
     "output_type": "stream",
     "text": [
      "\r",
      "Feature Extraction:  82%|████████▎ | 132/160 [08:14<03:05,  6.61s/it]"
     ]
    },
    {
     "name": "stderr",
     "output_type": "stream",
     "text": [
      "\r",
      "Feature Extraction:  83%|████████▎ | 133/160 [08:15<02:14,  4.99s/it]"
     ]
    },
    {
     "name": "stderr",
     "output_type": "stream",
     "text": [
      "\r",
      "Feature Extraction:  84%|████████▍ | 134/160 [08:20<02:07,  4.90s/it]"
     ]
    },
    {
     "name": "stderr",
     "output_type": "stream",
     "text": [
      "\r",
      "Feature Extraction:  84%|████████▍ | 135/160 [08:23<01:49,  4.38s/it]"
     ]
    },
    {
     "name": "stderr",
     "output_type": "stream",
     "text": [
      "\r",
      "Feature Extraction:  85%|████████▌ | 136/160 [08:24<01:18,  3.28s/it]"
     ]
    },
    {
     "name": "stderr",
     "output_type": "stream",
     "text": [
      "\r",
      "Feature Extraction:  86%|████████▌ | 137/160 [08:26<01:08,  2.98s/it]"
     ]
    },
    {
     "name": "stderr",
     "output_type": "stream",
     "text": [
      "\r",
      "Feature Extraction:  86%|████████▋ | 138/160 [08:26<00:48,  2.21s/it]"
     ]
    },
    {
     "name": "stderr",
     "output_type": "stream",
     "text": [
      "\r",
      "Feature Extraction:  87%|████████▋ | 139/160 [08:27<00:37,  1.80s/it]"
     ]
    },
    {
     "name": "stderr",
     "output_type": "stream",
     "text": [
      "\r",
      "Feature Extraction:  88%|████████▊ | 140/160 [08:27<00:27,  1.37s/it]"
     ]
    },
    {
     "name": "stderr",
     "output_type": "stream",
     "text": [
      "\r",
      "Feature Extraction:  88%|████████▊ | 141/160 [08:29<00:28,  1.50s/it]"
     ]
    },
    {
     "name": "stderr",
     "output_type": "stream",
     "text": [
      "\r",
      "Feature Extraction:  89%|████████▉ | 142/160 [08:30<00:22,  1.25s/it]"
     ]
    },
    {
     "name": "stderr",
     "output_type": "stream",
     "text": [
      "\r",
      "Feature Extraction:  89%|████████▉ | 143/160 [08:32<00:23,  1.38s/it]"
     ]
    },
    {
     "name": "stderr",
     "output_type": "stream",
     "text": [
      "\r",
      "Feature Extraction:  90%|█████████ | 144/160 [08:32<00:17,  1.12s/it]"
     ]
    },
    {
     "name": "stderr",
     "output_type": "stream",
     "text": [
      "\r",
      "Feature Extraction:  91%|█████████ | 145/160 [08:32<00:13,  1.12it/s]"
     ]
    },
    {
     "name": "stderr",
     "output_type": "stream",
     "text": [
      "\r",
      "Feature Extraction:  91%|█████████▏| 146/160 [08:33<00:10,  1.37it/s]"
     ]
    },
    {
     "name": "stderr",
     "output_type": "stream",
     "text": [
      "\r",
      "Feature Extraction:  92%|█████████▏| 147/160 [08:33<00:08,  1.45it/s]"
     ]
    },
    {
     "name": "stderr",
     "output_type": "stream",
     "text": [
      "\r",
      "Feature Extraction:  92%|█████████▎| 148/160 [08:34<00:09,  1.24it/s]"
     ]
    },
    {
     "name": "stderr",
     "output_type": "stream",
     "text": [
      "\r",
      "Feature Extraction:  93%|█████████▎| 149/160 [08:35<00:07,  1.51it/s]"
     ]
    },
    {
     "name": "stderr",
     "output_type": "stream",
     "text": [
      "\r",
      "Feature Extraction:  94%|█████████▍| 150/160 [08:35<00:05,  1.79it/s]"
     ]
    },
    {
     "name": "stderr",
     "output_type": "stream",
     "text": [
      "\r",
      "Feature Extraction:  94%|█████████▍| 151/160 [08:39<00:13,  1.49s/it]"
     ]
    },
    {
     "name": "stderr",
     "output_type": "stream",
     "text": [
      "\r",
      "Feature Extraction:  95%|█████████▌| 152/160 [08:40<00:10,  1.37s/it]"
     ]
    },
    {
     "name": "stderr",
     "output_type": "stream",
     "text": [
      "\r",
      "Feature Extraction:  96%|█████████▌| 153/160 [08:40<00:07,  1.05s/it]"
     ]
    },
    {
     "name": "stderr",
     "output_type": "stream",
     "text": [
      "\r",
      "Feature Extraction:  96%|█████████▋| 154/160 [08:43<00:09,  1.51s/it]"
     ]
    },
    {
     "name": "stderr",
     "output_type": "stream",
     "text": [
      "\r",
      "Feature Extraction:  97%|█████████▋| 155/160 [08:43<00:05,  1.15s/it]"
     ]
    },
    {
     "name": "stderr",
     "output_type": "stream",
     "text": [
      "\r",
      "Feature Extraction:  98%|█████████▊| 156/160 [08:44<00:03,  1.00it/s]"
     ]
    },
    {
     "name": "stderr",
     "output_type": "stream",
     "text": [
      "\r",
      "Feature Extraction:  98%|█████████▊| 157/160 [08:44<00:02,  1.24it/s]"
     ]
    },
    {
     "name": "stderr",
     "output_type": "stream",
     "text": [
      "\r",
      "Feature Extraction:  99%|█████████▉| 158/160 [08:45<00:01,  1.33it/s]"
     ]
    },
    {
     "name": "stderr",
     "output_type": "stream",
     "text": [
      "\r",
      "Feature Extraction:  99%|█████████▉| 159/160 [08:46<00:00,  1.17it/s]"
     ]
    },
    {
     "name": "stderr",
     "output_type": "stream",
     "text": [
      "\r",
      "Feature Extraction: 100%|██████████| 160/160 [08:47<00:00,  1.09it/s]"
     ]
    },
    {
     "name": "stderr",
     "output_type": "stream",
     "text": [
      "\r",
      "Feature Extraction: 100%|██████████| 160/160 [08:47<00:00,  3.30s/it]"
     ]
    },
    {
     "name": "stderr",
     "output_type": "stream",
     "text": [
      "\n"
     ]
    },
    {
     "name": "stdout",
     "output_type": "stream",
     "text": [
      "let the ml starts\n"
     ]
    },
    {
     "name": "stdout",
     "output_type": "stream",
     "text": [
      "LogReg\n",
      "              precision    recall  f1-score   support\n",
      "\n",
      "   malignant       0.89      0.91      0.90     38265\n",
      "      benign       0.91      0.89      0.90     38961\n",
      "\n",
      "    accuracy                           0.90     77226\n",
      "   macro avg       0.90      0.90      0.90     77226\n",
      "weighted avg       0.90      0.90      0.90     77226\n",
      "\n",
      "    fit_time  score_time  test_accuracy  test_precision_weighted  \\\n",
      "0  11.665241    0.097260       0.901155                 0.901184   \n",
      "1  12.638794    0.045513       0.901047                 0.901053   \n",
      "2  12.717511    0.045741       0.899018                 0.899152   \n",
      "3  12.113153    0.046268       0.897723                 0.897729   \n",
      "4  12.331744    0.046189       0.900550                 0.900655   \n",
      "\n",
      "   test_recall_weighted  test_f1_weighted  test_roc_auc   model  \n",
      "0              0.901155          0.901158      0.964023  LogReg  \n",
      "1              0.901047          0.901047      0.964221  LogReg  \n",
      "2              0.899018          0.899019      0.962734  LogReg  \n",
      "3              0.897723          0.897723      0.961244  LogReg  \n",
      "4              0.900550          0.900553      0.962793  LogReg  \n"
     ]
    },
    {
     "name": "stdout",
     "output_type": "stream",
     "text": [
      "KNN\n",
      "              precision    recall  f1-score   support\n",
      "\n",
      "   malignant       0.93      0.95      0.94     38265\n",
      "      benign       0.95      0.93      0.94     38961\n",
      "\n",
      "    accuracy                           0.94     77226\n",
      "   macro avg       0.94      0.94      0.94     77226\n",
      "weighted avg       0.94      0.94      0.94     77226\n",
      "\n",
      "    fit_time  score_time  test_accuracy  test_precision_weighted  \\\n",
      "0  11.665241    0.097260       0.901155                 0.901184   \n",
      "1  12.638794    0.045513       0.901047                 0.901053   \n",
      "2  12.717511    0.045741       0.899018                 0.899152   \n",
      "3  12.113153    0.046268       0.897723                 0.897729   \n",
      "4  12.331744    0.046189       0.900550                 0.900655   \n",
      "5   0.125064   23.365484       0.939290                 0.939507   \n",
      "6   0.122240   23.423402       0.939830                 0.939988   \n",
      "7   0.122221   23.785854       0.938729                 0.938968   \n",
      "8   0.122411   23.983818       0.937348                 0.937464   \n",
      "9   0.122878   24.126445       0.937153                 0.937375   \n",
      "\n",
      "   test_recall_weighted  test_f1_weighted  test_roc_auc   model  \n",
      "0              0.901155          0.901158      0.964023  LogReg  \n",
      "1              0.901047          0.901047      0.964221  LogReg  \n",
      "2              0.899018          0.899019      0.962734  LogReg  \n",
      "3              0.897723          0.897723      0.961244  LogReg  \n",
      "4              0.900550          0.900553      0.962793  LogReg  \n",
      "5              0.939290          0.939291      0.975858     KNN  \n",
      "6              0.939830          0.939827      0.975297     KNN  \n",
      "7              0.938729          0.938728      0.975638     KNN  \n",
      "8              0.937348          0.937345      0.974429     KNN  \n",
      "9              0.937153          0.937153      0.974713     KNN  \n"
     ]
    },
    {
     "name": "stdout",
     "output_type": "stream",
     "text": [
      "SVM\n",
      "              precision    recall  f1-score   support\n",
      "\n",
      "   malignant       0.92      0.94      0.93     38265\n",
      "      benign       0.94      0.91      0.93     38961\n",
      "\n",
      "    accuracy                           0.93     77226\n",
      "   macro avg       0.93      0.93      0.93     77226\n",
      "weighted avg       0.93      0.93      0.93     77226\n",
      "\n",
      "       fit_time  score_time  test_accuracy  test_precision_weighted  \\\n",
      "0     11.665241    0.097260       0.901155                 0.901184   \n",
      "1     12.638794    0.045513       0.901047                 0.901053   \n",
      "2     12.717511    0.045741       0.899018                 0.899152   \n",
      "3     12.113153    0.046268       0.897723                 0.897729   \n",
      "4     12.331744    0.046189       0.900550                 0.900655   \n",
      "5      0.125064   23.365484       0.939290                 0.939507   \n",
      "6      0.122240   23.423402       0.939830                 0.939988   \n",
      "7      0.122221   23.785854       0.938729                 0.938968   \n",
      "8      0.122411   23.983818       0.937348                 0.937464   \n",
      "9      0.122878   24.126445       0.937153                 0.937375   \n",
      "10  1853.622425  758.895369       0.926513                 0.926815   \n",
      "11  1884.444763  722.604538       0.927312                 0.927647   \n",
      "12  1824.262954  697.234685       0.925909                 0.926340   \n",
      "13  1821.007726  722.907146       0.924960                 0.925299   \n",
      "14  1768.821554  724.284145       0.926211                 0.926623   \n",
      "\n",
      "    test_recall_weighted  test_f1_weighted  test_roc_auc   model  \n",
      "0               0.901155          0.901158      0.964023  LogReg  \n",
      "1               0.901047          0.901047      0.964221  LogReg  \n",
      "2               0.899018          0.899019      0.962734  LogReg  \n",
      "3               0.897723          0.897723      0.961244  LogReg  \n",
      "4               0.900550          0.900553      0.962793  LogReg  \n",
      "5               0.939290          0.939291      0.975858     KNN  \n",
      "6               0.939830          0.939827      0.975297     KNN  \n",
      "7               0.938729          0.938728      0.975638     KNN  \n",
      "8               0.937348          0.937345      0.974429     KNN  \n",
      "9               0.937153          0.937153      0.974713     KNN  \n",
      "10              0.926513          0.926512      0.974988     SVM  \n",
      "11              0.927312          0.927303      0.973741     SVM  \n",
      "12              0.925909          0.925903      0.973939     SVM  \n",
      "13              0.924960          0.924948      0.974212     SVM  \n",
      "14              0.926211          0.926206      0.974199     SVM  \n"
     ]
    },
    {
     "name": "stdout",
     "output_type": "stream",
     "text": [
      "GNB\n",
      "              precision    recall  f1-score   support\n",
      "\n",
      "   malignant       0.86      0.93      0.89     38265\n",
      "      benign       0.93      0.85      0.89     38961\n",
      "\n",
      "    accuracy                           0.89     77226\n",
      "   macro avg       0.89      0.89      0.89     77226\n",
      "weighted avg       0.89      0.89      0.89     77226\n",
      "\n",
      "       fit_time  score_time  test_accuracy  test_precision_weighted  \\\n",
      "0     11.665241    0.097260       0.901155                 0.901184   \n",
      "1     12.638794    0.045513       0.901047                 0.901053   \n",
      "2     12.717511    0.045741       0.899018                 0.899152   \n",
      "3     12.113153    0.046268       0.897723                 0.897729   \n",
      "4     12.331744    0.046189       0.900550                 0.900655   \n",
      "5      0.125064   23.365484       0.939290                 0.939507   \n",
      "6      0.122240   23.423402       0.939830                 0.939988   \n",
      "7      0.122221   23.785854       0.938729                 0.938968   \n",
      "8      0.122411   23.983818       0.937348                 0.937464   \n",
      "9      0.122878   24.126445       0.937153                 0.937375   \n",
      "10  1853.622425  758.895369       0.926513                 0.926815   \n",
      "11  1884.444763  722.604538       0.927312                 0.927647   \n",
      "12  1824.262954  697.234685       0.925909                 0.926340   \n",
      "13  1821.007726  722.907146       0.924960                 0.925299   \n",
      "14  1768.821554  724.284145       0.926211                 0.926623   \n",
      "15     0.528411    0.226830       0.896989                 0.899892   \n",
      "16     0.527160    0.226625       0.891810                 0.894075   \n",
      "17     0.528968    0.226556       0.888486                 0.891028   \n",
      "18     0.527386    0.226335       0.886803                 0.888702   \n",
      "19     0.529057    0.226439       0.892608                 0.895248   \n",
      "\n",
      "    test_recall_weighted  test_f1_weighted  test_roc_auc   model  \n",
      "0               0.901155          0.901158      0.964023  LogReg  \n",
      "1               0.901047          0.901047      0.964221  LogReg  \n",
      "2               0.899018          0.899019      0.962734  LogReg  \n",
      "3               0.897723          0.897723      0.961244  LogReg  \n",
      "4               0.900550          0.900553      0.962793  LogReg  \n",
      "5               0.939290          0.939291      0.975858     KNN  \n",
      "6               0.939830          0.939827      0.975297     KNN  \n",
      "7               0.938729          0.938728      0.975638     KNN  \n",
      "8               0.937348          0.937345      0.974429     KNN  \n",
      "9               0.937153          0.937153      0.974713     KNN  \n",
      "10              0.926513          0.926512      0.974988     SVM  \n",
      "11              0.927312          0.927303      0.973741     SVM  \n",
      "12              0.925909          0.925903      0.973939     SVM  \n",
      "13              0.924960          0.924948      0.974212     SVM  \n",
      "14              0.926211          0.926206      0.974199     SVM  \n",
      "15              0.896989          0.896859      0.944144     GNB  \n",
      "16              0.891810          0.891678      0.930876     GNB  \n",
      "17              0.888486          0.888354      0.929055     GNB  \n",
      "18              0.886803          0.886676      0.924477     GNB  \n",
      "19              0.892608          0.892480      0.937822     GNB  \n",
      "18753.7930382872\n"
     ]
    }
   ],
   "source": [
    "## S0: All Combined\n",
    "\n",
    "df_malicious = pd.concat([df1,df2,df3,df4,df5,df6,df7,df32,df33,df34,df35])\n",
    "\n",
    "df_benign = pd.concat([df9,df10,df11,df12,df14,df15,df16,df17,df18,df19,df20,df22,df23])\n",
    "\n",
    "print(\"malicious: {}\".format(len(df_malicious)))\n",
    "print(\"benign: {}\".format(len(df_benign)))\n",
    "\n",
    "print(\"{} NAN in malicious!\".format(len(df_malicious[df_malicious.isna().any(axis=1)])))\n",
    "print(\"{} NAN in benign!\".format(len(df_benign[df_benign.isna().any(axis=1)])))\n",
    "\n",
    "df_malicious = df_malicious.dropna()\n",
    "df_benign = df_benign.dropna()\n",
    "\n",
    "print(\"After droppping NAN rows: \")\n",
    "print(\"malicious: {}\".format(len(df_malicious)))\n",
    "print(\"benign: {}\".format(len(df_benign)))\n",
    "\n",
    "start = timer()\n",
    "\n",
    "results_all_combined_s0 = run_process(df_malicious,df_benign,df_results)\n",
    "\n",
    "end = timer()\n",
    "print(end - start)\n"
   ]
  },
  {
   "cell_type": "code",
   "execution_count": 9,
   "id": "YZIdQNML3z2N",
   "metadata": {
    "execution": {
     "iopub.execute_input": "2025-08-02T06:35:50.826800Z",
     "iopub.status.busy": "2025-08-02T06:35:50.826582Z",
     "iopub.status.idle": "2025-08-02T07:25:00.953726Z",
     "shell.execute_reply": "2025-08-02T07:25:00.953092Z"
    },
    "id": "YZIdQNML3z2N",
    "outputId": "c818ab44-ca69-4709-aa4f-5b08b4f3479a"
   },
   "outputs": [
    {
     "name": "stdout",
     "output_type": "stream",
     "text": [
      "malicious: 1217322\n",
      "benign: 1240922\n"
     ]
    },
    {
     "name": "stdout",
     "output_type": "stream",
     "text": [
      "0 NAN in malicious!\n"
     ]
    },
    {
     "name": "stdout",
     "output_type": "stream",
     "text": [
      "0 NAN in benign!\n"
     ]
    },
    {
     "name": "stdout",
     "output_type": "stream",
     "text": [
      "After droppping NAN rows: \n",
      "malicious: 1217322\n",
      "benign: 1240922\n"
     ]
    },
    {
     "name": "stderr",
     "output_type": "stream",
     "text": [
      "\r",
      "Feature Extraction:   0%|          | 0/160 [00:00<?, ?it/s]"
     ]
    },
    {
     "name": "stderr",
     "output_type": "stream",
     "text": [
      "\r",
      "Feature Extraction:   1%|          | 1/160 [00:59<2:38:18, 59.74s/it]"
     ]
    },
    {
     "name": "stderr",
     "output_type": "stream",
     "text": [
      "\r",
      "Feature Extraction:   1%|▏         | 2/160 [01:02<1:09:03, 26.22s/it]"
     ]
    },
    {
     "name": "stderr",
     "output_type": "stream",
     "text": [
      "\r",
      "Feature Extraction:   2%|▏         | 3/160 [01:03<37:58, 14.51s/it]  "
     ]
    },
    {
     "name": "stderr",
     "output_type": "stream",
     "text": [
      "\r",
      "Feature Extraction:   2%|▎         | 4/160 [01:04<23:47,  9.15s/it]"
     ]
    },
    {
     "name": "stderr",
     "output_type": "stream",
     "text": [
      "\r",
      "Feature Extraction:   3%|▎         | 5/160 [01:04<15:31,  6.01s/it]"
     ]
    },
    {
     "name": "stderr",
     "output_type": "stream",
     "text": [
      "\r",
      "Feature Extraction:   4%|▍         | 6/160 [01:05<10:44,  4.18s/it]"
     ]
    },
    {
     "name": "stderr",
     "output_type": "stream",
     "text": [
      "\r",
      "Feature Extraction:   4%|▍         | 7/160 [01:06<07:57,  3.12s/it]"
     ]
    },
    {
     "name": "stderr",
     "output_type": "stream",
     "text": [
      "\r",
      "Feature Extraction:   5%|▌         | 8/160 [01:06<05:41,  2.25s/it]"
     ]
    },
    {
     "name": "stderr",
     "output_type": "stream",
     "text": [
      "\r",
      "Feature Extraction:   6%|▌         | 9/160 [01:07<04:59,  1.98s/it]"
     ]
    },
    {
     "name": "stderr",
     "output_type": "stream",
     "text": [
      "\r",
      "Feature Extraction:   6%|▋         | 10/160 [01:08<03:45,  1.50s/it]"
     ]
    },
    {
     "name": "stderr",
     "output_type": "stream",
     "text": [
      "\r",
      "Feature Extraction:   7%|▋         | 11/160 [01:08<03:01,  1.22s/it]"
     ]
    },
    {
     "name": "stderr",
     "output_type": "stream",
     "text": [
      "\r",
      "Feature Extraction:   8%|▊         | 12/160 [01:09<02:44,  1.11s/it]"
     ]
    },
    {
     "name": "stderr",
     "output_type": "stream",
     "text": [
      "\r",
      "Feature Extraction:   8%|▊         | 13/160 [01:10<02:20,  1.05it/s]"
     ]
    },
    {
     "name": "stderr",
     "output_type": "stream",
     "text": [
      "\r",
      "Feature Extraction:   9%|▉         | 14/160 [01:10<01:55,  1.26it/s]"
     ]
    },
    {
     "name": "stderr",
     "output_type": "stream",
     "text": [
      "\r",
      "Feature Extraction:   9%|▉         | 15/160 [01:11<01:36,  1.50it/s]"
     ]
    },
    {
     "name": "stderr",
     "output_type": "stream",
     "text": [
      "\r",
      "Feature Extraction:  10%|█         | 16/160 [01:12<01:51,  1.29it/s]"
     ]
    },
    {
     "name": "stderr",
     "output_type": "stream",
     "text": [
      "\r",
      "Feature Extraction:  11%|█         | 17/160 [01:12<01:39,  1.43it/s]"
     ]
    },
    {
     "name": "stderr",
     "output_type": "stream",
     "text": [
      "\r",
      "Feature Extraction:  11%|█▏        | 18/160 [01:13<01:32,  1.53it/s]"
     ]
    },
    {
     "name": "stderr",
     "output_type": "stream",
     "text": [
      "\r",
      "Feature Extraction:  12%|█▏        | 19/160 [01:13<01:22,  1.72it/s]"
     ]
    },
    {
     "name": "stderr",
     "output_type": "stream",
     "text": [
      "\r",
      "Feature Extraction:  12%|█▎        | 20/160 [01:14<01:23,  1.68it/s]"
     ]
    },
    {
     "name": "stderr",
     "output_type": "stream",
     "text": [
      "\r",
      "Feature Extraction:  13%|█▎        | 21/160 [01:14<01:27,  1.59it/s]"
     ]
    },
    {
     "name": "stderr",
     "output_type": "stream",
     "text": [
      "\r",
      "Feature Extraction:  14%|█▍        | 22/160 [01:15<01:28,  1.56it/s]"
     ]
    },
    {
     "name": "stderr",
     "output_type": "stream",
     "text": [
      "\r",
      "Feature Extraction:  14%|█▍        | 23/160 [01:16<01:28,  1.55it/s]"
     ]
    },
    {
     "name": "stderr",
     "output_type": "stream",
     "text": [
      "\r",
      "Feature Extraction:  15%|█▌        | 24/160 [01:17<01:49,  1.24it/s]"
     ]
    },
    {
     "name": "stderr",
     "output_type": "stream",
     "text": [
      "\r",
      "Feature Extraction:  16%|█▌        | 25/160 [01:18<01:41,  1.33it/s]"
     ]
    },
    {
     "name": "stderr",
     "output_type": "stream",
     "text": [
      "\r",
      "Feature Extraction:  16%|█▋        | 26/160 [01:18<01:42,  1.31it/s]"
     ]
    },
    {
     "name": "stderr",
     "output_type": "stream",
     "text": [
      "\r",
      "Feature Extraction:  17%|█▋        | 27/160 [01:19<01:37,  1.36it/s]"
     ]
    },
    {
     "name": "stderr",
     "output_type": "stream",
     "text": [
      "\r",
      "Feature Extraction:  18%|█▊        | 28/160 [01:20<01:34,  1.40it/s]"
     ]
    },
    {
     "name": "stderr",
     "output_type": "stream",
     "text": [
      "\r",
      "Feature Extraction:  18%|█▊        | 29/160 [01:20<01:21,  1.61it/s]"
     ]
    },
    {
     "name": "stderr",
     "output_type": "stream",
     "text": [
      "\r",
      "Feature Extraction:  19%|█▉        | 30/160 [01:21<01:13,  1.77it/s]"
     ]
    },
    {
     "name": "stderr",
     "output_type": "stream",
     "text": [
      "\r",
      "Feature Extraction:  19%|█▉        | 31/160 [01:21<01:14,  1.73it/s]"
     ]
    },
    {
     "name": "stderr",
     "output_type": "stream",
     "text": [
      "\r",
      "Feature Extraction:  20%|██        | 32/160 [01:22<01:12,  1.78it/s]"
     ]
    },
    {
     "name": "stderr",
     "output_type": "stream",
     "text": [
      "\r",
      "Feature Extraction:  21%|██        | 33/160 [01:56<22:48, 10.77s/it]"
     ]
    },
    {
     "name": "stderr",
     "output_type": "stream",
     "text": [
      "\r",
      "Feature Extraction:  21%|██▏       | 34/160 [02:01<19:01,  9.06s/it]"
     ]
    },
    {
     "name": "stderr",
     "output_type": "stream",
     "text": [
      "\r",
      "Feature Extraction:  22%|██▏       | 35/160 [02:03<14:26,  6.94s/it]"
     ]
    },
    {
     "name": "stderr",
     "output_type": "stream",
     "text": [
      "\r",
      "Feature Extraction:  22%|██▎       | 36/160 [02:04<10:42,  5.18s/it]"
     ]
    },
    {
     "name": "stderr",
     "output_type": "stream",
     "text": [
      "\r",
      "Feature Extraction:  23%|██▎       | 37/160 [02:05<07:53,  3.85s/it]"
     ]
    },
    {
     "name": "stderr",
     "output_type": "stream",
     "text": [
      "\r",
      "Feature Extraction:  24%|██▍       | 38/160 [02:09<07:44,  3.81s/it]"
     ]
    },
    {
     "name": "stderr",
     "output_type": "stream",
     "text": [
      "\r",
      "Feature Extraction:  24%|██▍       | 39/160 [02:09<05:39,  2.80s/it]"
     ]
    },
    {
     "name": "stderr",
     "output_type": "stream",
     "text": [
      "\r",
      "Feature Extraction:  25%|██▌       | 40/160 [02:10<04:11,  2.09s/it]"
     ]
    },
    {
     "name": "stderr",
     "output_type": "stream",
     "text": [
      "\r",
      "Feature Extraction:  26%|██▌       | 41/160 [02:11<03:34,  1.81s/it]"
     ]
    },
    {
     "name": "stderr",
     "output_type": "stream",
     "text": [
      "\r",
      "Feature Extraction:  26%|██▋       | 42/160 [02:12<02:52,  1.46s/it]"
     ]
    },
    {
     "name": "stderr",
     "output_type": "stream",
     "text": [
      "\r",
      "Feature Extraction:  27%|██▋       | 43/160 [02:12<02:20,  1.20s/it]"
     ]
    },
    {
     "name": "stderr",
     "output_type": "stream",
     "text": [
      "\r",
      "Feature Extraction:  28%|██▊       | 44/160 [02:14<02:26,  1.27s/it]"
     ]
    },
    {
     "name": "stderr",
     "output_type": "stream",
     "text": [
      "\r",
      "Feature Extraction:  28%|██▊       | 45/160 [02:14<01:58,  1.03s/it]"
     ]
    },
    {
     "name": "stderr",
     "output_type": "stream",
     "text": [
      "\r",
      "Feature Extraction:  29%|██▉       | 46/160 [02:16<02:22,  1.25s/it]"
     ]
    },
    {
     "name": "stderr",
     "output_type": "stream",
     "text": [
      "\r",
      "Feature Extraction:  29%|██▉       | 47/160 [02:17<02:04,  1.10s/it]"
     ]
    },
    {
     "name": "stderr",
     "output_type": "stream",
     "text": [
      "\r",
      "Feature Extraction:  30%|███       | 48/160 [02:18<02:04,  1.11s/it]"
     ]
    },
    {
     "name": "stderr",
     "output_type": "stream",
     "text": [
      "\r",
      "Feature Extraction:  31%|███       | 49/160 [02:18<01:41,  1.09it/s]"
     ]
    },
    {
     "name": "stderr",
     "output_type": "stream",
     "text": [
      "\r",
      "Feature Extraction:  31%|███▏      | 50/160 [02:19<01:44,  1.05it/s]"
     ]
    },
    {
     "name": "stderr",
     "output_type": "stream",
     "text": [
      "\r",
      "Feature Extraction:  32%|███▏      | 51/160 [02:20<01:31,  1.19it/s]"
     ]
    },
    {
     "name": "stderr",
     "output_type": "stream",
     "text": [
      "\r",
      "Feature Extraction:  32%|███▎      | 52/160 [02:21<01:28,  1.22it/s]"
     ]
    },
    {
     "name": "stderr",
     "output_type": "stream",
     "text": [
      "\r",
      "Feature Extraction:  33%|███▎      | 53/160 [02:22<01:53,  1.07s/it]"
     ]
    },
    {
     "name": "stderr",
     "output_type": "stream",
     "text": [
      "\r",
      "Feature Extraction:  34%|███▍      | 54/160 [02:23<01:32,  1.15it/s]"
     ]
    },
    {
     "name": "stderr",
     "output_type": "stream",
     "text": [
      "\r",
      "Feature Extraction:  34%|███▍      | 55/160 [02:24<01:35,  1.10it/s]"
     ]
    },
    {
     "name": "stderr",
     "output_type": "stream",
     "text": [
      "\r",
      "Feature Extraction:  35%|███▌      | 56/160 [02:24<01:19,  1.31it/s]"
     ]
    },
    {
     "name": "stderr",
     "output_type": "stream",
     "text": [
      "\r",
      "Feature Extraction:  36%|███▌      | 57/160 [02:24<01:09,  1.48it/s]"
     ]
    },
    {
     "name": "stderr",
     "output_type": "stream",
     "text": [
      "\r",
      "Feature Extraction:  36%|███▋      | 58/160 [02:26<01:29,  1.14it/s]"
     ]
    },
    {
     "name": "stderr",
     "output_type": "stream",
     "text": [
      "\r",
      "Feature Extraction:  37%|███▋      | 59/160 [02:27<01:26,  1.16it/s]"
     ]
    },
    {
     "name": "stderr",
     "output_type": "stream",
     "text": [
      "\r",
      "Feature Extraction:  38%|███▊      | 60/160 [02:27<01:12,  1.39it/s]"
     ]
    },
    {
     "name": "stderr",
     "output_type": "stream",
     "text": [
      "\r",
      "Feature Extraction:  38%|███▊      | 61/160 [02:27<01:00,  1.64it/s]"
     ]
    },
    {
     "name": "stderr",
     "output_type": "stream",
     "text": [
      "\r",
      "Feature Extraction:  39%|███▉      | 62/160 [02:28<01:00,  1.62it/s]"
     ]
    },
    {
     "name": "stderr",
     "output_type": "stream",
     "text": [
      "\r",
      "Feature Extraction:  39%|███▉      | 63/160 [02:30<01:52,  1.16s/it]"
     ]
    },
    {
     "name": "stderr",
     "output_type": "stream",
     "text": [
      "\r",
      "Feature Extraction:  40%|████      | 64/160 [02:31<01:45,  1.10s/it]"
     ]
    },
    {
     "name": "stderr",
     "output_type": "stream",
     "text": [
      "\r",
      "Feature Extraction:  41%|████      | 65/160 [03:02<15:42,  9.92s/it]"
     ]
    },
    {
     "name": "stderr",
     "output_type": "stream",
     "text": [
      "\r",
      "Feature Extraction:  41%|████▏     | 66/160 [03:08<13:48,  8.81s/it]"
     ]
    },
    {
     "name": "stderr",
     "output_type": "stream",
     "text": [
      "\r",
      "Feature Extraction:  42%|████▏     | 67/160 [03:11<10:58,  7.08s/it]"
     ]
    },
    {
     "name": "stderr",
     "output_type": "stream",
     "text": [
      "\r",
      "Feature Extraction:  42%|████▎     | 68/160 [03:12<07:47,  5.08s/it]"
     ]
    },
    {
     "name": "stderr",
     "output_type": "stream",
     "text": [
      "\r",
      "Feature Extraction:  43%|████▎     | 69/160 [03:14<06:38,  4.38s/it]"
     ]
    },
    {
     "name": "stderr",
     "output_type": "stream",
     "text": [
      "\r",
      "Feature Extraction:  44%|████▍     | 70/160 [03:15<04:54,  3.27s/it]"
     ]
    },
    {
     "name": "stderr",
     "output_type": "stream",
     "text": [
      "\r",
      "Feature Extraction:  44%|████▍     | 71/160 [03:18<04:38,  3.13s/it]"
     ]
    },
    {
     "name": "stderr",
     "output_type": "stream",
     "text": [
      "\r",
      "Feature Extraction:  45%|████▌     | 72/160 [03:19<03:39,  2.50s/it]"
     ]
    },
    {
     "name": "stderr",
     "output_type": "stream",
     "text": [
      "\r",
      "Feature Extraction:  46%|████▌     | 73/160 [03:20<02:55,  2.02s/it]"
     ]
    },
    {
     "name": "stderr",
     "output_type": "stream",
     "text": [
      "\r",
      "Feature Extraction:  46%|████▋     | 74/160 [03:21<02:22,  1.65s/it]"
     ]
    },
    {
     "name": "stderr",
     "output_type": "stream",
     "text": [
      "\r",
      "Feature Extraction:  47%|████▋     | 75/160 [03:21<02:03,  1.45s/it]"
     ]
    },
    {
     "name": "stderr",
     "output_type": "stream",
     "text": [
      "\r",
      "Feature Extraction:  48%|████▊     | 76/160 [03:24<02:21,  1.68s/it]"
     ]
    },
    {
     "name": "stderr",
     "output_type": "stream",
     "text": [
      "\r",
      "Feature Extraction:  48%|████▊     | 77/160 [03:24<01:47,  1.29s/it]"
     ]
    },
    {
     "name": "stderr",
     "output_type": "stream",
     "text": [
      "\r",
      "Feature Extraction:  49%|████▉     | 78/160 [03:25<01:40,  1.23s/it]"
     ]
    },
    {
     "name": "stderr",
     "output_type": "stream",
     "text": [
      "\r",
      "Feature Extraction:  49%|████▉     | 79/160 [03:26<01:33,  1.15s/it]"
     ]
    },
    {
     "name": "stderr",
     "output_type": "stream",
     "text": [
      "\r",
      "Feature Extraction:  50%|█████     | 80/160 [03:27<01:21,  1.02s/it]"
     ]
    },
    {
     "name": "stderr",
     "output_type": "stream",
     "text": [
      "\r",
      "Feature Extraction:  51%|█████     | 81/160 [03:28<01:18,  1.01it/s]"
     ]
    },
    {
     "name": "stderr",
     "output_type": "stream",
     "text": [
      "\r",
      "Feature Extraction:  51%|█████▏    | 82/160 [03:28<01:05,  1.20it/s]"
     ]
    },
    {
     "name": "stderr",
     "output_type": "stream",
     "text": [
      "\r",
      "Feature Extraction:  52%|█████▏    | 83/160 [03:29<01:11,  1.07it/s]"
     ]
    },
    {
     "name": "stderr",
     "output_type": "stream",
     "text": [
      "\r",
      "Feature Extraction:  52%|█████▎    | 84/160 [03:32<01:39,  1.32s/it]"
     ]
    },
    {
     "name": "stderr",
     "output_type": "stream",
     "text": [
      "\r",
      "Feature Extraction:  53%|█████▎    | 85/160 [03:32<01:25,  1.14s/it]"
     ]
    },
    {
     "name": "stderr",
     "output_type": "stream",
     "text": [
      "\r",
      "Feature Extraction:  54%|█████▍    | 86/160 [03:33<01:19,  1.08s/it]"
     ]
    },
    {
     "name": "stderr",
     "output_type": "stream",
     "text": [
      "\r",
      "Feature Extraction:  54%|█████▍    | 87/160 [03:34<01:14,  1.02s/it]"
     ]
    },
    {
     "name": "stderr",
     "output_type": "stream",
     "text": [
      "\r",
      "Feature Extraction:  55%|█████▌    | 88/160 [03:35<01:01,  1.18it/s]"
     ]
    },
    {
     "name": "stderr",
     "output_type": "stream",
     "text": [
      "\r",
      "Feature Extraction:  56%|█████▌    | 89/160 [03:35<00:55,  1.29it/s]"
     ]
    },
    {
     "name": "stderr",
     "output_type": "stream",
     "text": [
      "\r",
      "Feature Extraction:  56%|█████▋    | 90/160 [03:36<00:47,  1.47it/s]"
     ]
    },
    {
     "name": "stderr",
     "output_type": "stream",
     "text": [
      "\r",
      "Feature Extraction:  57%|█████▋    | 91/160 [03:37<00:54,  1.26it/s]"
     ]
    },
    {
     "name": "stderr",
     "output_type": "stream",
     "text": [
      "\r",
      "Feature Extraction:  57%|█████▊    | 92/160 [03:37<00:50,  1.34it/s]"
     ]
    },
    {
     "name": "stderr",
     "output_type": "stream",
     "text": [
      "\r",
      "Feature Extraction:  58%|█████▊    | 93/160 [03:40<01:28,  1.32s/it]"
     ]
    },
    {
     "name": "stderr",
     "output_type": "stream",
     "text": [
      "\r",
      "Feature Extraction:  59%|█████▉    | 94/160 [03:41<01:10,  1.07s/it]"
     ]
    },
    {
     "name": "stderr",
     "output_type": "stream",
     "text": [
      "\r",
      "Feature Extraction:  59%|█████▉    | 95/160 [03:41<00:56,  1.14it/s]"
     ]
    },
    {
     "name": "stderr",
     "output_type": "stream",
     "text": [
      "\r",
      "Feature Extraction:  60%|██████    | 96/160 [03:42<01:02,  1.02it/s]"
     ]
    },
    {
     "name": "stderr",
     "output_type": "stream",
     "text": [
      "\r",
      "Feature Extraction:  61%|██████    | 97/160 [04:07<08:38,  8.22s/it]"
     ]
    },
    {
     "name": "stderr",
     "output_type": "stream",
     "text": [
      "\r",
      "Feature Extraction:  61%|██████▏   | 98/160 [04:15<08:24,  8.13s/it]"
     ]
    },
    {
     "name": "stderr",
     "output_type": "stream",
     "text": [
      "\r",
      "Feature Extraction:  62%|██████▏   | 99/160 [04:20<07:18,  7.19s/it]"
     ]
    },
    {
     "name": "stderr",
     "output_type": "stream",
     "text": [
      "\r",
      "Feature Extraction:  62%|██████▎   | 100/160 [04:21<05:24,  5.41s/it]"
     ]
    },
    {
     "name": "stderr",
     "output_type": "stream",
     "text": [
      "\r",
      "Feature Extraction:  63%|██████▎   | 101/160 [04:24<04:20,  4.42s/it]"
     ]
    },
    {
     "name": "stderr",
     "output_type": "stream",
     "text": [
      "\r",
      "Feature Extraction:  64%|██████▍   | 102/160 [04:24<03:10,  3.28s/it]"
     ]
    },
    {
     "name": "stderr",
     "output_type": "stream",
     "text": [
      "\r",
      "Feature Extraction:  64%|██████▍   | 103/160 [04:27<02:58,  3.14s/it]"
     ]
    },
    {
     "name": "stderr",
     "output_type": "stream",
     "text": [
      "\r",
      "Feature Extraction:  65%|██████▌   | 104/160 [04:29<02:29,  2.67s/it]"
     ]
    },
    {
     "name": "stderr",
     "output_type": "stream",
     "text": [
      "\r",
      "Feature Extraction:  66%|██████▌   | 105/160 [04:29<01:57,  2.13s/it]"
     ]
    },
    {
     "name": "stderr",
     "output_type": "stream",
     "text": [
      "\r",
      "Feature Extraction:  66%|██████▋   | 106/160 [04:30<01:29,  1.66s/it]"
     ]
    },
    {
     "name": "stderr",
     "output_type": "stream",
     "text": [
      "\r",
      "Feature Extraction:  67%|██████▋   | 107/160 [04:33<01:50,  2.08s/it]"
     ]
    },
    {
     "name": "stderr",
     "output_type": "stream",
     "text": [
      "\r",
      "Feature Extraction:  68%|██████▊   | 108/160 [04:34<01:30,  1.74s/it]"
     ]
    },
    {
     "name": "stderr",
     "output_type": "stream",
     "text": [
      "\r",
      "Feature Extraction:  68%|██████▊   | 109/160 [04:35<01:12,  1.42s/it]"
     ]
    },
    {
     "name": "stderr",
     "output_type": "stream",
     "text": [
      "\r",
      "Feature Extraction:  69%|██████▉   | 110/160 [04:35<00:58,  1.16s/it]"
     ]
    },
    {
     "name": "stderr",
     "output_type": "stream",
     "text": [
      "\r",
      "Feature Extraction:  69%|██████▉   | 111/160 [04:36<00:57,  1.17s/it]"
     ]
    },
    {
     "name": "stderr",
     "output_type": "stream",
     "text": [
      "\r",
      "Feature Extraction:  70%|███████   | 112/160 [04:37<00:52,  1.10s/it]"
     ]
    },
    {
     "name": "stderr",
     "output_type": "stream",
     "text": [
      "\r",
      "Feature Extraction:  71%|███████   | 113/160 [04:38<00:49,  1.04s/it]"
     ]
    },
    {
     "name": "stderr",
     "output_type": "stream",
     "text": [
      "\r",
      "Feature Extraction:  71%|███████▏  | 114/160 [04:41<01:10,  1.53s/it]"
     ]
    },
    {
     "name": "stderr",
     "output_type": "stream",
     "text": [
      "\r",
      "Feature Extraction:  72%|███████▏  | 115/160 [04:41<00:54,  1.22s/it]"
     ]
    },
    {
     "name": "stderr",
     "output_type": "stream",
     "text": [
      "\r",
      "Feature Extraction:  72%|███████▎  | 116/160 [04:42<00:46,  1.05s/it]"
     ]
    },
    {
     "name": "stderr",
     "output_type": "stream",
     "text": [
      "\r",
      "Feature Extraction:  73%|███████▎  | 117/160 [04:44<00:50,  1.18s/it]"
     ]
    },
    {
     "name": "stderr",
     "output_type": "stream",
     "text": [
      "\r",
      "Feature Extraction:  74%|███████▍  | 118/160 [04:45<00:47,  1.12s/it]"
     ]
    },
    {
     "name": "stderr",
     "output_type": "stream",
     "text": [
      "\r",
      "Feature Extraction:  74%|███████▍  | 119/160 [04:45<00:43,  1.05s/it]"
     ]
    },
    {
     "name": "stderr",
     "output_type": "stream",
     "text": [
      "\r",
      "Feature Extraction:  75%|███████▌  | 120/160 [04:46<00:37,  1.07it/s]"
     ]
    },
    {
     "name": "stderr",
     "output_type": "stream",
     "text": [
      "\r",
      "Feature Extraction:  76%|███████▌  | 121/160 [04:47<00:30,  1.27it/s]"
     ]
    },
    {
     "name": "stderr",
     "output_type": "stream",
     "text": [
      "\r",
      "Feature Extraction:  76%|███████▋  | 122/160 [04:50<00:56,  1.50s/it]"
     ]
    },
    {
     "name": "stderr",
     "output_type": "stream",
     "text": [
      "\r",
      "Feature Extraction:  77%|███████▋  | 123/160 [04:50<00:43,  1.18s/it]"
     ]
    },
    {
     "name": "stderr",
     "output_type": "stream",
     "text": [
      "\r",
      "Feature Extraction:  78%|███████▊  | 124/160 [04:52<00:44,  1.23s/it]"
     ]
    },
    {
     "name": "stderr",
     "output_type": "stream",
     "text": [
      "\r",
      "Feature Extraction:  78%|███████▊  | 125/160 [04:52<00:34,  1.02it/s]"
     ]
    },
    {
     "name": "stderr",
     "output_type": "stream",
     "text": [
      "\r",
      "Feature Extraction:  79%|███████▉  | 126/160 [04:52<00:28,  1.20it/s]"
     ]
    },
    {
     "name": "stderr",
     "output_type": "stream",
     "text": [
      "\r",
      "Feature Extraction:  79%|███████▉  | 127/160 [04:53<00:24,  1.35it/s]"
     ]
    },
    {
     "name": "stderr",
     "output_type": "stream",
     "text": [
      "\r",
      "Feature Extraction:  80%|████████  | 128/160 [04:54<00:27,  1.14it/s]"
     ]
    },
    {
     "name": "stderr",
     "output_type": "stream",
     "text": [
      "\r",
      "Feature Extraction:  81%|████████  | 129/160 [05:17<03:47,  7.34s/it]"
     ]
    },
    {
     "name": "stderr",
     "output_type": "stream",
     "text": [
      "\r",
      "Feature Extraction:  81%|████████▏ | 130/160 [05:23<03:32,  7.08s/it]"
     ]
    },
    {
     "name": "stderr",
     "output_type": "stream",
     "text": [
      "\r",
      "Feature Extraction:  82%|████████▏ | 131/160 [05:26<02:52,  5.97s/it]"
     ]
    },
    {
     "name": "stderr",
     "output_type": "stream",
     "text": [
      "\r",
      "Feature Extraction:  82%|████████▎ | 132/160 [05:27<02:00,  4.30s/it]"
     ]
    },
    {
     "name": "stderr",
     "output_type": "stream",
     "text": [
      "\r",
      "Feature Extraction:  83%|████████▎ | 133/160 [05:31<01:55,  4.29s/it]"
     ]
    },
    {
     "name": "stderr",
     "output_type": "stream",
     "text": [
      "\r",
      "Feature Extraction:  84%|████████▍ | 134/160 [05:31<01:21,  3.12s/it]"
     ]
    },
    {
     "name": "stderr",
     "output_type": "stream",
     "text": [
      "\r",
      "Feature Extraction:  84%|████████▍ | 135/160 [05:35<01:21,  3.26s/it]"
     ]
    },
    {
     "name": "stderr",
     "output_type": "stream",
     "text": [
      "\r",
      "Feature Extraction:  85%|████████▌ | 136/160 [05:36<00:59,  2.49s/it]"
     ]
    },
    {
     "name": "stderr",
     "output_type": "stream",
     "text": [
      "\r",
      "Feature Extraction:  86%|████████▌ | 137/160 [05:37<00:47,  2.05s/it]"
     ]
    },
    {
     "name": "stderr",
     "output_type": "stream",
     "text": [
      "\r",
      "Feature Extraction:  86%|████████▋ | 138/160 [05:38<00:39,  1.79s/it]"
     ]
    },
    {
     "name": "stderr",
     "output_type": "stream",
     "text": [
      "\r",
      "Feature Extraction:  87%|████████▋ | 139/160 [05:40<00:41,  1.97s/it]"
     ]
    },
    {
     "name": "stderr",
     "output_type": "stream",
     "text": [
      "\r",
      "Feature Extraction:  88%|████████▊ | 140/160 [05:42<00:36,  1.85s/it]"
     ]
    },
    {
     "name": "stderr",
     "output_type": "stream",
     "text": [
      "\r",
      "Feature Extraction:  88%|████████▊ | 141/160 [05:43<00:33,  1.74s/it]"
     ]
    },
    {
     "name": "stderr",
     "output_type": "stream",
     "text": [
      "\r",
      "Feature Extraction:  89%|████████▉ | 142/160 [05:44<00:23,  1.32s/it]"
     ]
    },
    {
     "name": "stderr",
     "output_type": "stream",
     "text": [
      "\r",
      "Feature Extraction:  89%|████████▉ | 143/160 [05:44<00:17,  1.00s/it]"
     ]
    },
    {
     "name": "stderr",
     "output_type": "stream",
     "text": [
      "\r",
      "Feature Extraction:  90%|█████████ | 144/160 [05:44<00:12,  1.26it/s]"
     ]
    },
    {
     "name": "stderr",
     "output_type": "stream",
     "text": [
      "\r",
      "Feature Extraction:  91%|█████████ | 145/160 [05:45<00:11,  1.26it/s]"
     ]
    },
    {
     "name": "stderr",
     "output_type": "stream",
     "text": [
      "\r",
      "Feature Extraction:  91%|█████████▏| 146/160 [05:46<00:09,  1.44it/s]"
     ]
    },
    {
     "name": "stderr",
     "output_type": "stream",
     "text": [
      "\r",
      "Feature Extraction:  92%|█████████▏| 147/160 [05:46<00:09,  1.37it/s]"
     ]
    },
    {
     "name": "stderr",
     "output_type": "stream",
     "text": [
      "\r",
      "Feature Extraction:  92%|█████████▎| 148/160 [05:47<00:06,  1.73it/s]"
     ]
    },
    {
     "name": "stderr",
     "output_type": "stream",
     "text": [
      "\r",
      "Feature Extraction:  93%|█████████▎| 149/160 [05:47<00:05,  2.11it/s]"
     ]
    },
    {
     "name": "stderr",
     "output_type": "stream",
     "text": [
      "\r",
      "Feature Extraction:  94%|█████████▍| 150/160 [05:47<00:05,  1.97it/s]"
     ]
    },
    {
     "name": "stderr",
     "output_type": "stream",
     "text": [
      "\r",
      "Feature Extraction:  94%|█████████▍| 151/160 [05:48<00:04,  1.94it/s]"
     ]
    },
    {
     "name": "stderr",
     "output_type": "stream",
     "text": [
      "\r",
      "Feature Extraction:  95%|█████████▌| 152/160 [05:48<00:03,  2.35it/s]"
     ]
    },
    {
     "name": "stderr",
     "output_type": "stream",
     "text": [
      "\r",
      "Feature Extraction:  96%|█████████▌| 153/160 [05:49<00:03,  2.13it/s]"
     ]
    },
    {
     "name": "stderr",
     "output_type": "stream",
     "text": [
      "\r",
      "Feature Extraction:  96%|█████████▋| 154/160 [05:49<00:02,  2.17it/s]"
     ]
    },
    {
     "name": "stderr",
     "output_type": "stream",
     "text": [
      "\r",
      "Feature Extraction:  97%|█████████▋| 155/160 [05:51<00:04,  1.20it/s]"
     ]
    },
    {
     "name": "stderr",
     "output_type": "stream",
     "text": [
      "\r",
      "Feature Extraction:  98%|█████████▊| 156/160 [05:51<00:03,  1.32it/s]"
     ]
    },
    {
     "name": "stderr",
     "output_type": "stream",
     "text": [
      "\r",
      "Feature Extraction:  98%|█████████▊| 157/160 [05:52<00:02,  1.37it/s]"
     ]
    },
    {
     "name": "stderr",
     "output_type": "stream",
     "text": [
      "\r",
      "Feature Extraction:  99%|█████████▉| 158/160 [05:52<00:01,  1.66it/s]"
     ]
    },
    {
     "name": "stderr",
     "output_type": "stream",
     "text": [
      "\r",
      "Feature Extraction:  99%|█████████▉| 159/160 [05:53<00:00,  1.45it/s]"
     ]
    },
    {
     "name": "stderr",
     "output_type": "stream",
     "text": [
      "\r",
      "Feature Extraction: 100%|██████████| 160/160 [05:54<00:00,  1.83it/s]"
     ]
    },
    {
     "name": "stderr",
     "output_type": "stream",
     "text": [
      "\r",
      "Feature Extraction: 100%|██████████| 160/160 [05:54<00:00,  2.21s/it]"
     ]
    },
    {
     "name": "stderr",
     "output_type": "stream",
     "text": [
      "\n"
     ]
    },
    {
     "name": "stderr",
     "output_type": "stream",
     "text": [
      "\r",
      "Feature Extraction:   0%|          | 0/160 [00:00<?, ?it/s]"
     ]
    },
    {
     "name": "stderr",
     "output_type": "stream",
     "text": [
      "\r",
      "Feature Extraction:   1%|          | 1/160 [01:08<3:02:09, 68.74s/it]"
     ]
    },
    {
     "name": "stderr",
     "output_type": "stream",
     "text": [
      "\r",
      "Feature Extraction:   1%|▏         | 2/160 [01:10<1:17:05, 29.28s/it]"
     ]
    },
    {
     "name": "stderr",
     "output_type": "stream",
     "text": [
      "\r",
      "Feature Extraction:   2%|▏         | 3/160 [01:11<42:45, 16.34s/it]  "
     ]
    },
    {
     "name": "stderr",
     "output_type": "stream",
     "text": [
      "\r",
      "Feature Extraction:   2%|▎         | 4/160 [01:11<26:14, 10.10s/it]"
     ]
    },
    {
     "name": "stderr",
     "output_type": "stream",
     "text": [
      "\r",
      "Feature Extraction:   3%|▎         | 5/160 [01:13<17:59,  6.97s/it]"
     ]
    },
    {
     "name": "stderr",
     "output_type": "stream",
     "text": [
      "\r",
      "Feature Extraction:   4%|▍         | 6/160 [01:13<12:14,  4.77s/it]"
     ]
    },
    {
     "name": "stderr",
     "output_type": "stream",
     "text": [
      "\r",
      "Feature Extraction:   4%|▍         | 7/160 [01:14<09:01,  3.54s/it]"
     ]
    },
    {
     "name": "stderr",
     "output_type": "stream",
     "text": [
      "\r",
      "Feature Extraction:   5%|▌         | 8/160 [01:15<06:38,  2.62s/it]"
     ]
    },
    {
     "name": "stderr",
     "output_type": "stream",
     "text": [
      "\r",
      "Feature Extraction:   6%|▌         | 9/160 [01:16<05:07,  2.04s/it]"
     ]
    },
    {
     "name": "stderr",
     "output_type": "stream",
     "text": [
      "\r",
      "Feature Extraction:   6%|▋         | 10/160 [01:16<04:02,  1.62s/it]"
     ]
    },
    {
     "name": "stderr",
     "output_type": "stream",
     "text": [
      "\r",
      "Feature Extraction:   7%|▋         | 11/160 [01:17<03:11,  1.29s/it]"
     ]
    },
    {
     "name": "stderr",
     "output_type": "stream",
     "text": [
      "\r",
      "Feature Extraction:   8%|▊         | 12/160 [01:18<02:55,  1.18s/it]"
     ]
    },
    {
     "name": "stderr",
     "output_type": "stream",
     "text": [
      "\r",
      "Feature Extraction:   8%|▊         | 13/160 [01:18<02:20,  1.05it/s]"
     ]
    },
    {
     "name": "stderr",
     "output_type": "stream",
     "text": [
      "\r",
      "Feature Extraction:   9%|▉         | 14/160 [01:19<01:57,  1.25it/s]"
     ]
    },
    {
     "name": "stderr",
     "output_type": "stream",
     "text": [
      "\r",
      "Feature Extraction:   9%|▉         | 15/160 [01:19<01:38,  1.47it/s]"
     ]
    },
    {
     "name": "stderr",
     "output_type": "stream",
     "text": [
      "\r",
      "Feature Extraction:  10%|█         | 16/160 [01:20<01:29,  1.62it/s]"
     ]
    },
    {
     "name": "stderr",
     "output_type": "stream",
     "text": [
      "\r",
      "Feature Extraction:  11%|█         | 17/160 [01:20<01:23,  1.71it/s]"
     ]
    },
    {
     "name": "stderr",
     "output_type": "stream",
     "text": [
      "\r",
      "Feature Extraction:  11%|█▏        | 18/160 [01:21<01:37,  1.46it/s]"
     ]
    },
    {
     "name": "stderr",
     "output_type": "stream",
     "text": [
      "\r",
      "Feature Extraction:  12%|█▏        | 19/160 [01:22<01:58,  1.18it/s]"
     ]
    },
    {
     "name": "stderr",
     "output_type": "stream",
     "text": [
      "\r",
      "Feature Extraction:  12%|█▎        | 20/160 [01:23<01:50,  1.27it/s]"
     ]
    },
    {
     "name": "stderr",
     "output_type": "stream",
     "text": [
      "\r",
      "Feature Extraction:  13%|█▎        | 21/160 [01:24<01:48,  1.29it/s]"
     ]
    },
    {
     "name": "stderr",
     "output_type": "stream",
     "text": [
      "\r",
      "Feature Extraction:  14%|█▍        | 22/160 [01:24<01:44,  1.32it/s]"
     ]
    },
    {
     "name": "stderr",
     "output_type": "stream",
     "text": [
      "\r",
      "Feature Extraction:  14%|█▍        | 23/160 [01:25<01:41,  1.36it/s]"
     ]
    },
    {
     "name": "stderr",
     "output_type": "stream",
     "text": [
      "\r",
      "Feature Extraction:  15%|█▌        | 24/160 [01:25<01:25,  1.58it/s]"
     ]
    },
    {
     "name": "stderr",
     "output_type": "stream",
     "text": [
      "\r",
      "Feature Extraction:  16%|█▌        | 25/160 [01:26<01:16,  1.76it/s]"
     ]
    },
    {
     "name": "stderr",
     "output_type": "stream",
     "text": [
      "\r",
      "Feature Extraction:  16%|█▋        | 26/160 [01:27<01:33,  1.44it/s]"
     ]
    },
    {
     "name": "stderr",
     "output_type": "stream",
     "text": [
      "\r",
      "Feature Extraction:  17%|█▋        | 27/160 [01:28<02:06,  1.05it/s]"
     ]
    },
    {
     "name": "stderr",
     "output_type": "stream",
     "text": [
      "\r",
      "Feature Extraction:  18%|█▊        | 28/160 [01:29<01:56,  1.13it/s]"
     ]
    },
    {
     "name": "stderr",
     "output_type": "stream",
     "text": [
      "\r",
      "Feature Extraction:  18%|█▊        | 29/160 [01:30<01:51,  1.18it/s]"
     ]
    },
    {
     "name": "stderr",
     "output_type": "stream",
     "text": [
      "\r",
      "Feature Extraction:  19%|█▉        | 30/160 [01:31<01:45,  1.23it/s]"
     ]
    },
    {
     "name": "stderr",
     "output_type": "stream",
     "text": [
      "\r",
      "Feature Extraction:  19%|█▉        | 31/160 [01:31<01:32,  1.39it/s]"
     ]
    },
    {
     "name": "stderr",
     "output_type": "stream",
     "text": [
      "\r",
      "Feature Extraction:  20%|██        | 32/160 [01:32<01:26,  1.48it/s]"
     ]
    },
    {
     "name": "stderr",
     "output_type": "stream",
     "text": [
      "\r",
      "Feature Extraction:  21%|██        | 33/160 [02:14<27:39, 13.07s/it]"
     ]
    },
    {
     "name": "stderr",
     "output_type": "stream",
     "text": [
      "\r",
      "Feature Extraction:  21%|██▏       | 34/160 [02:15<20:14,  9.64s/it]"
     ]
    },
    {
     "name": "stderr",
     "output_type": "stream",
     "text": [
      "\r",
      "Feature Extraction:  22%|██▏       | 35/160 [02:17<14:50,  7.13s/it]"
     ]
    },
    {
     "name": "stderr",
     "output_type": "stream",
     "text": [
      "\r",
      "Feature Extraction:  22%|██▎       | 36/160 [02:18<10:54,  5.28s/it]"
     ]
    },
    {
     "name": "stderr",
     "output_type": "stream",
     "text": [
      "\r",
      "Feature Extraction:  23%|██▎       | 37/160 [02:19<08:19,  4.06s/it]"
     ]
    },
    {
     "name": "stderr",
     "output_type": "stream",
     "text": [
      "\r",
      "Feature Extraction:  24%|██▍       | 38/160 [02:20<06:20,  3.12s/it]"
     ]
    },
    {
     "name": "stderr",
     "output_type": "stream",
     "text": [
      "\r",
      "Feature Extraction:  24%|██▍       | 39/160 [02:21<05:04,  2.52s/it]"
     ]
    },
    {
     "name": "stderr",
     "output_type": "stream",
     "text": [
      "\r",
      "Feature Extraction:  25%|██▌       | 40/160 [02:22<04:00,  2.00s/it]"
     ]
    },
    {
     "name": "stderr",
     "output_type": "stream",
     "text": [
      "\r",
      "Feature Extraction:  26%|██▌       | 41/160 [02:25<04:32,  2.29s/it]"
     ]
    },
    {
     "name": "stderr",
     "output_type": "stream",
     "text": [
      "\r",
      "Feature Extraction:  26%|██▋       | 42/160 [02:25<03:32,  1.80s/it]"
     ]
    },
    {
     "name": "stderr",
     "output_type": "stream",
     "text": [
      "\r",
      "Feature Extraction:  27%|██▋       | 43/160 [02:26<02:54,  1.49s/it]"
     ]
    },
    {
     "name": "stderr",
     "output_type": "stream",
     "text": [
      "\r",
      "Feature Extraction:  28%|██▊       | 44/160 [02:26<02:15,  1.16s/it]"
     ]
    },
    {
     "name": "stderr",
     "output_type": "stream",
     "text": [
      "\r",
      "Feature Extraction:  28%|██▊       | 45/160 [02:27<01:52,  1.02it/s]"
     ]
    },
    {
     "name": "stderr",
     "output_type": "stream",
     "text": [
      "\r",
      "Feature Extraction:  29%|██▉       | 46/160 [02:29<02:23,  1.26s/it]"
     ]
    },
    {
     "name": "stderr",
     "output_type": "stream",
     "text": [
      "\r",
      "Feature Extraction:  29%|██▉       | 47/160 [02:30<02:23,  1.27s/it]"
     ]
    },
    {
     "name": "stderr",
     "output_type": "stream",
     "text": [
      "\r",
      "Feature Extraction:  30%|███       | 48/160 [02:32<02:45,  1.48s/it]"
     ]
    },
    {
     "name": "stderr",
     "output_type": "stream",
     "text": [
      "\r",
      "Feature Extraction:  31%|███       | 49/160 [02:33<02:27,  1.33s/it]"
     ]
    },
    {
     "name": "stderr",
     "output_type": "stream",
     "text": [
      "\r",
      "Feature Extraction:  31%|███▏      | 50/160 [02:34<02:06,  1.15s/it]"
     ]
    },
    {
     "name": "stderr",
     "output_type": "stream",
     "text": [
      "\r",
      "Feature Extraction:  32%|███▏      | 51/160 [02:35<02:09,  1.19s/it]"
     ]
    },
    {
     "name": "stderr",
     "output_type": "stream",
     "text": [
      "\r",
      "Feature Extraction:  32%|███▎      | 52/160 [02:35<01:42,  1.05it/s]"
     ]
    },
    {
     "name": "stderr",
     "output_type": "stream",
     "text": [
      "\r",
      "Feature Extraction:  33%|███▎      | 53/160 [02:36<01:36,  1.10it/s]"
     ]
    },
    {
     "name": "stderr",
     "output_type": "stream",
     "text": [
      "\r",
      "Feature Extraction:  34%|███▍      | 54/160 [02:37<01:29,  1.18it/s]"
     ]
    },
    {
     "name": "stderr",
     "output_type": "stream",
     "text": [
      "\r",
      "Feature Extraction:  34%|███▍      | 55/160 [02:38<01:36,  1.09it/s]"
     ]
    },
    {
     "name": "stderr",
     "output_type": "stream",
     "text": [
      "\r",
      "Feature Extraction:  35%|███▌      | 56/160 [02:40<02:07,  1.22s/it]"
     ]
    },
    {
     "name": "stderr",
     "output_type": "stream",
     "text": [
      "\r",
      "Feature Extraction:  36%|███▌      | 57/160 [02:40<01:41,  1.01it/s]"
     ]
    },
    {
     "name": "stderr",
     "output_type": "stream",
     "text": [
      "\r",
      "Feature Extraction:  36%|███▋      | 58/160 [02:41<01:33,  1.09it/s]"
     ]
    },
    {
     "name": "stderr",
     "output_type": "stream",
     "text": [
      "\r",
      "Feature Extraction:  37%|███▋      | 59/160 [02:42<01:30,  1.12it/s]"
     ]
    },
    {
     "name": "stderr",
     "output_type": "stream",
     "text": [
      "\r",
      "Feature Extraction:  38%|███▊      | 60/160 [02:43<01:25,  1.18it/s]"
     ]
    },
    {
     "name": "stderr",
     "output_type": "stream",
     "text": [
      "\r",
      "Feature Extraction:  38%|███▊      | 61/160 [02:44<01:42,  1.03s/it]"
     ]
    },
    {
     "name": "stderr",
     "output_type": "stream",
     "text": [
      "\r",
      "Feature Extraction:  39%|███▉      | 62/160 [02:45<01:34,  1.04it/s]"
     ]
    },
    {
     "name": "stderr",
     "output_type": "stream",
     "text": [
      "\r",
      "Feature Extraction:  39%|███▉      | 63/160 [02:47<02:04,  1.29s/it]"
     ]
    },
    {
     "name": "stderr",
     "output_type": "stream",
     "text": [
      "\r",
      "Feature Extraction:  40%|████      | 64/160 [02:48<01:48,  1.13s/it]"
     ]
    },
    {
     "name": "stderr",
     "output_type": "stream",
     "text": [
      "\r",
      "Feature Extraction:  41%|████      | 65/160 [03:28<20:20, 12.85s/it]"
     ]
    },
    {
     "name": "stderr",
     "output_type": "stream",
     "text": [
      "\r",
      "Feature Extraction:  41%|████▏     | 66/160 [03:29<14:26,  9.22s/it]"
     ]
    },
    {
     "name": "stderr",
     "output_type": "stream",
     "text": [
      "\r",
      "Feature Extraction:  42%|████▏     | 67/160 [03:31<10:48,  6.98s/it]"
     ]
    },
    {
     "name": "stderr",
     "output_type": "stream",
     "text": [
      "\r",
      "Feature Extraction:  42%|████▎     | 68/160 [03:32<08:00,  5.23s/it]"
     ]
    },
    {
     "name": "stderr",
     "output_type": "stream",
     "text": [
      "\r",
      "Feature Extraction:  43%|████▎     | 69/160 [03:33<06:05,  4.02s/it]"
     ]
    },
    {
     "name": "stderr",
     "output_type": "stream",
     "text": [
      "\r",
      "Feature Extraction:  44%|████▍     | 70/160 [03:35<05:20,  3.56s/it]"
     ]
    },
    {
     "name": "stderr",
     "output_type": "stream",
     "text": [
      "\r",
      "Feature Extraction:  44%|████▍     | 71/160 [03:36<04:09,  2.80s/it]"
     ]
    },
    {
     "name": "stderr",
     "output_type": "stream",
     "text": [
      "\r",
      "Feature Extraction:  45%|████▌     | 72/160 [03:37<03:14,  2.21s/it]"
     ]
    },
    {
     "name": "stderr",
     "output_type": "stream",
     "text": [
      "\r",
      "Feature Extraction:  46%|████▌     | 73/160 [03:38<02:37,  1.81s/it]"
     ]
    },
    {
     "name": "stderr",
     "output_type": "stream",
     "text": [
      "\r",
      "Feature Extraction:  46%|████▋     | 74/160 [03:39<02:07,  1.48s/it]"
     ]
    },
    {
     "name": "stderr",
     "output_type": "stream",
     "text": [
      "\r",
      "Feature Extraction:  47%|████▋     | 75/160 [03:41<02:13,  1.58s/it]"
     ]
    },
    {
     "name": "stderr",
     "output_type": "stream",
     "text": [
      "\r",
      "Feature Extraction:  48%|████▊     | 76/160 [03:42<02:09,  1.54s/it]"
     ]
    },
    {
     "name": "stderr",
     "output_type": "stream",
     "text": [
      "\r",
      "Feature Extraction:  48%|████▊     | 77/160 [03:43<01:43,  1.25s/it]"
     ]
    },
    {
     "name": "stderr",
     "output_type": "stream",
     "text": [
      "\r",
      "Feature Extraction:  49%|████▉     | 78/160 [03:45<02:14,  1.64s/it]"
     ]
    },
    {
     "name": "stderr",
     "output_type": "stream",
     "text": [
      "\r",
      "Feature Extraction:  49%|████▉     | 79/160 [03:46<02:01,  1.50s/it]"
     ]
    },
    {
     "name": "stderr",
     "output_type": "stream",
     "text": [
      "\r",
      "Feature Extraction:  50%|█████     | 80/160 [03:47<01:50,  1.38s/it]"
     ]
    },
    {
     "name": "stderr",
     "output_type": "stream",
     "text": [
      "\r",
      "Feature Extraction:  51%|█████     | 81/160 [03:48<01:30,  1.14s/it]"
     ]
    },
    {
     "name": "stderr",
     "output_type": "stream",
     "text": [
      "\r",
      "Feature Extraction:  51%|█████▏    | 82/160 [03:49<01:14,  1.05it/s]"
     ]
    },
    {
     "name": "stderr",
     "output_type": "stream",
     "text": [
      "\r",
      "Feature Extraction:  52%|█████▏    | 83/160 [03:49<01:10,  1.09it/s]"
     ]
    },
    {
     "name": "stderr",
     "output_type": "stream",
     "text": [
      "\r",
      "Feature Extraction:  52%|█████▎    | 84/160 [03:52<01:41,  1.33s/it]"
     ]
    },
    {
     "name": "stderr",
     "output_type": "stream",
     "text": [
      "\r",
      "Feature Extraction:  53%|█████▎    | 85/160 [03:54<02:09,  1.73s/it]"
     ]
    },
    {
     "name": "stderr",
     "output_type": "stream",
     "text": [
      "\r",
      "Feature Extraction:  54%|█████▍    | 86/160 [03:55<01:42,  1.39s/it]"
     ]
    },
    {
     "name": "stderr",
     "output_type": "stream",
     "text": [
      "\r",
      "Feature Extraction:  54%|█████▍    | 87/160 [03:56<01:27,  1.20s/it]"
     ]
    },
    {
     "name": "stderr",
     "output_type": "stream",
     "text": [
      "\r",
      "Feature Extraction:  55%|█████▌    | 88/160 [03:57<01:17,  1.08s/it]"
     ]
    },
    {
     "name": "stderr",
     "output_type": "stream",
     "text": [
      "\r",
      "Feature Extraction:  56%|█████▌    | 89/160 [03:57<01:10,  1.01it/s]"
     ]
    },
    {
     "name": "stderr",
     "output_type": "stream",
     "text": [
      "\r",
      "Feature Extraction:  56%|█████▋    | 90/160 [03:58<01:02,  1.11it/s]"
     ]
    },
    {
     "name": "stderr",
     "output_type": "stream",
     "text": [
      "\r",
      "Feature Extraction:  57%|█████▋    | 91/160 [03:59<01:04,  1.06it/s]"
     ]
    },
    {
     "name": "stderr",
     "output_type": "stream",
     "text": [
      "\r",
      "Feature Extraction:  57%|█████▊    | 92/160 [04:00<00:58,  1.17it/s]"
     ]
    },
    {
     "name": "stderr",
     "output_type": "stream",
     "text": [
      "\r",
      "Feature Extraction:  58%|█████▊    | 93/160 [04:03<01:44,  1.56s/it]"
     ]
    },
    {
     "name": "stderr",
     "output_type": "stream",
     "text": [
      "\r",
      "Feature Extraction:  59%|█████▉    | 94/160 [04:03<01:20,  1.22s/it]"
     ]
    },
    {
     "name": "stderr",
     "output_type": "stream",
     "text": [
      "\r",
      "Feature Extraction:  59%|█████▉    | 95/160 [04:04<01:05,  1.00s/it]"
     ]
    },
    {
     "name": "stderr",
     "output_type": "stream",
     "text": [
      "\r",
      "Feature Extraction:  60%|██████    | 96/160 [04:05<01:03,  1.01it/s]"
     ]
    },
    {
     "name": "stderr",
     "output_type": "stream",
     "text": [
      "\r",
      "Feature Extraction:  61%|██████    | 97/160 [04:44<12:58, 12.36s/it]"
     ]
    },
    {
     "name": "stderr",
     "output_type": "stream",
     "text": [
      "\r",
      "Feature Extraction:  61%|██████▏   | 98/160 [04:44<09:10,  8.88s/it]"
     ]
    },
    {
     "name": "stderr",
     "output_type": "stream",
     "text": [
      "\r",
      "Feature Extraction:  62%|██████▏   | 99/160 [04:45<06:29,  6.39s/it]"
     ]
    },
    {
     "name": "stderr",
     "output_type": "stream",
     "text": [
      "\r",
      "Feature Extraction:  62%|██████▎   | 100/160 [04:46<04:43,  4.72s/it]"
     ]
    },
    {
     "name": "stderr",
     "output_type": "stream",
     "text": [
      "\r",
      "Feature Extraction:  63%|██████▎   | 101/160 [04:49<04:13,  4.30s/it]"
     ]
    },
    {
     "name": "stderr",
     "output_type": "stream",
     "text": [
      "\r",
      "Feature Extraction:  64%|██████▍   | 102/160 [04:50<03:10,  3.28s/it]"
     ]
    },
    {
     "name": "stderr",
     "output_type": "stream",
     "text": [
      "\r",
      "Feature Extraction:  64%|██████▍   | 103/160 [04:51<02:24,  2.54s/it]"
     ]
    },
    {
     "name": "stderr",
     "output_type": "stream",
     "text": [
      "\r",
      "Feature Extraction:  65%|██████▌   | 104/160 [04:53<02:16,  2.43s/it]"
     ]
    },
    {
     "name": "stderr",
     "output_type": "stream",
     "text": [
      "\r",
      "Feature Extraction:  66%|██████▌   | 105/160 [04:54<01:46,  1.93s/it]"
     ]
    },
    {
     "name": "stderr",
     "output_type": "stream",
     "text": [
      "\r",
      "Feature Extraction:  66%|██████▋   | 106/160 [04:55<01:27,  1.62s/it]"
     ]
    },
    {
     "name": "stderr",
     "output_type": "stream",
     "text": [
      "\r",
      "Feature Extraction:  67%|██████▋   | 107/160 [04:58<01:57,  2.22s/it]"
     ]
    },
    {
     "name": "stderr",
     "output_type": "stream",
     "text": [
      "\r",
      "Feature Extraction:  68%|██████▊   | 108/160 [04:59<01:35,  1.84s/it]"
     ]
    },
    {
     "name": "stderr",
     "output_type": "stream",
     "text": [
      "\r",
      "Feature Extraction:  68%|██████▊   | 109/160 [05:00<01:16,  1.50s/it]"
     ]
    },
    {
     "name": "stderr",
     "output_type": "stream",
     "text": [
      "\r",
      "Feature Extraction:  69%|██████▉   | 110/160 [05:01<01:13,  1.46s/it]"
     ]
    },
    {
     "name": "stderr",
     "output_type": "stream",
     "text": [
      "\r",
      "Feature Extraction:  69%|██████▉   | 111/160 [05:02<00:56,  1.16s/it]"
     ]
    },
    {
     "name": "stderr",
     "output_type": "stream",
     "text": [
      "\r",
      "Feature Extraction:  70%|███████   | 112/160 [05:03<00:51,  1.08s/it]"
     ]
    },
    {
     "name": "stderr",
     "output_type": "stream",
     "text": [
      "\r",
      "Feature Extraction:  71%|███████   | 113/160 [05:05<01:08,  1.46s/it]"
     ]
    },
    {
     "name": "stderr",
     "output_type": "stream",
     "text": [
      "\r",
      "Feature Extraction:  71%|███████▏  | 114/160 [05:06<01:02,  1.36s/it]"
     ]
    },
    {
     "name": "stderr",
     "output_type": "stream",
     "text": [
      "\r",
      "Feature Extraction:  72%|███████▏  | 115/160 [05:09<01:25,  1.89s/it]"
     ]
    },
    {
     "name": "stderr",
     "output_type": "stream",
     "text": [
      "\r",
      "Feature Extraction:  72%|███████▎  | 116/160 [05:10<01:04,  1.47s/it]"
     ]
    },
    {
     "name": "stderr",
     "output_type": "stream",
     "text": [
      "\r",
      "Feature Extraction:  73%|███████▎  | 117/160 [05:10<00:51,  1.19s/it]"
     ]
    },
    {
     "name": "stderr",
     "output_type": "stream",
     "text": [
      "\r",
      "Feature Extraction:  74%|███████▍  | 118/160 [05:11<00:42,  1.01s/it]"
     ]
    },
    {
     "name": "stderr",
     "output_type": "stream",
     "text": [
      "\r",
      "Feature Extraction:  74%|███████▍  | 119/160 [05:12<00:40,  1.01it/s]"
     ]
    },
    {
     "name": "stderr",
     "output_type": "stream",
     "text": [
      "\r",
      "Feature Extraction:  75%|███████▌  | 120/160 [05:13<00:44,  1.12s/it]"
     ]
    },
    {
     "name": "stderr",
     "output_type": "stream",
     "text": [
      "\r",
      "Feature Extraction:  76%|███████▌  | 121/160 [05:14<00:40,  1.04s/it]"
     ]
    },
    {
     "name": "stderr",
     "output_type": "stream",
     "text": [
      "\r",
      "Feature Extraction:  76%|███████▋  | 122/160 [05:17<01:04,  1.69s/it]"
     ]
    },
    {
     "name": "stderr",
     "output_type": "stream",
     "text": [
      "\r",
      "Feature Extraction:  77%|███████▋  | 123/160 [05:18<00:49,  1.34s/it]"
     ]
    },
    {
     "name": "stderr",
     "output_type": "stream",
     "text": [
      "\r",
      "Feature Extraction:  78%|███████▊  | 124/160 [05:19<00:44,  1.23s/it]"
     ]
    },
    {
     "name": "stderr",
     "output_type": "stream",
     "text": [
      "\r",
      "Feature Extraction:  78%|███████▊  | 125/160 [05:20<00:43,  1.25s/it]"
     ]
    },
    {
     "name": "stderr",
     "output_type": "stream",
     "text": [
      "\r",
      "Feature Extraction:  79%|███████▉  | 126/160 [05:21<00:38,  1.14s/it]"
     ]
    },
    {
     "name": "stderr",
     "output_type": "stream",
     "text": [
      "\r",
      "Feature Extraction:  79%|███████▉  | 127/160 [05:22<00:36,  1.12s/it]"
     ]
    },
    {
     "name": "stderr",
     "output_type": "stream",
     "text": [
      "\r",
      "Feature Extraction:  80%|████████  | 128/160 [05:23<00:29,  1.09it/s]"
     ]
    },
    {
     "name": "stderr",
     "output_type": "stream",
     "text": [
      "\r",
      "Feature Extraction:  81%|████████  | 129/160 [05:58<05:47, 11.20s/it]"
     ]
    },
    {
     "name": "stderr",
     "output_type": "stream",
     "text": [
      "\r",
      "Feature Extraction:  81%|████████▏ | 130/160 [06:00<04:11,  8.40s/it]"
     ]
    },
    {
     "name": "stderr",
     "output_type": "stream",
     "text": [
      "\r",
      "Feature Extraction:  82%|████████▏ | 131/160 [06:01<03:03,  6.33s/it]"
     ]
    },
    {
     "name": "stderr",
     "output_type": "stream",
     "text": [
      "\r",
      "Feature Extraction:  82%|████████▎ | 132/160 [06:02<02:09,  4.62s/it]"
     ]
    },
    {
     "name": "stderr",
     "output_type": "stream",
     "text": [
      "\r",
      "Feature Extraction:  83%|████████▎ | 133/160 [06:02<01:30,  3.36s/it]"
     ]
    },
    {
     "name": "stderr",
     "output_type": "stream",
     "text": [
      "\r",
      "Feature Extraction:  84%|████████▍ | 134/160 [06:04<01:18,  3.03s/it]"
     ]
    },
    {
     "name": "stderr",
     "output_type": "stream",
     "text": [
      "\r",
      "Feature Extraction:  84%|████████▍ | 135/160 [06:05<00:56,  2.25s/it]"
     ]
    },
    {
     "name": "stderr",
     "output_type": "stream",
     "text": [
      "\r",
      "Feature Extraction:  85%|████████▌ | 136/160 [06:08<00:57,  2.40s/it]"
     ]
    },
    {
     "name": "stderr",
     "output_type": "stream",
     "text": [
      "\r",
      "Feature Extraction:  86%|████████▌ | 137/160 [06:09<00:46,  2.01s/it]"
     ]
    },
    {
     "name": "stderr",
     "output_type": "stream",
     "text": [
      "\r",
      "Feature Extraction:  86%|████████▋ | 138/160 [06:09<00:35,  1.63s/it]"
     ]
    },
    {
     "name": "stderr",
     "output_type": "stream",
     "text": [
      "\r",
      "Feature Extraction:  87%|████████▋ | 139/160 [06:11<00:32,  1.55s/it]"
     ]
    },
    {
     "name": "stderr",
     "output_type": "stream",
     "text": [
      "\r",
      "Feature Extraction:  88%|████████▊ | 140/160 [06:13<00:37,  1.85s/it]"
     ]
    },
    {
     "name": "stderr",
     "output_type": "stream",
     "text": [
      "\r",
      "Feature Extraction:  88%|████████▊ | 141/160 [06:14<00:26,  1.41s/it]"
     ]
    },
    {
     "name": "stderr",
     "output_type": "stream",
     "text": [
      "\r",
      "Feature Extraction:  89%|████████▉ | 142/160 [06:14<00:19,  1.06s/it]"
     ]
    },
    {
     "name": "stderr",
     "output_type": "stream",
     "text": [
      "\r",
      "Feature Extraction:  89%|████████▉ | 143/160 [06:15<00:17,  1.05s/it]"
     ]
    },
    {
     "name": "stderr",
     "output_type": "stream",
     "text": [
      "\r",
      "Feature Extraction:  90%|█████████ | 144/160 [06:15<00:12,  1.24it/s]"
     ]
    },
    {
     "name": "stderr",
     "output_type": "stream",
     "text": [
      "\r",
      "Feature Extraction:  91%|█████████ | 145/160 [06:16<00:12,  1.25it/s]"
     ]
    },
    {
     "name": "stderr",
     "output_type": "stream",
     "text": [
      "\r",
      "Feature Extraction:  91%|█████████▏| 146/160 [06:16<00:08,  1.58it/s]"
     ]
    },
    {
     "name": "stderr",
     "output_type": "stream",
     "text": [
      "\r",
      "Feature Extraction:  92%|█████████▏| 147/160 [06:16<00:06,  1.93it/s]"
     ]
    },
    {
     "name": "stderr",
     "output_type": "stream",
     "text": [
      "\r",
      "Feature Extraction:  92%|█████████▎| 148/160 [06:17<00:05,  2.31it/s]"
     ]
    },
    {
     "name": "stderr",
     "output_type": "stream",
     "text": [
      "\r",
      "Feature Extraction:  93%|█████████▎| 149/160 [06:17<00:05,  2.04it/s]"
     ]
    },
    {
     "name": "stderr",
     "output_type": "stream",
     "text": [
      "\r",
      "Feature Extraction:  94%|█████████▍| 150/160 [06:18<00:05,  1.75it/s]"
     ]
    },
    {
     "name": "stderr",
     "output_type": "stream",
     "text": [
      "\r",
      "Feature Extraction:  94%|█████████▍| 151/160 [06:19<00:06,  1.29it/s]"
     ]
    },
    {
     "name": "stderr",
     "output_type": "stream",
     "text": [
      "\r",
      "Feature Extraction:  95%|█████████▌| 152/160 [06:20<00:07,  1.13it/s]"
     ]
    },
    {
     "name": "stderr",
     "output_type": "stream",
     "text": [
      "\r",
      "Feature Extraction:  96%|█████████▌| 153/160 [06:21<00:05,  1.39it/s]"
     ]
    },
    {
     "name": "stderr",
     "output_type": "stream",
     "text": [
      "\r",
      "Feature Extraction:  96%|█████████▋| 154/160 [06:21<00:04,  1.43it/s]"
     ]
    },
    {
     "name": "stderr",
     "output_type": "stream",
     "text": [
      "\r",
      "Feature Extraction:  97%|█████████▋| 155/160 [06:22<00:02,  1.80it/s]"
     ]
    },
    {
     "name": "stderr",
     "output_type": "stream",
     "text": [
      "\r",
      "Feature Extraction:  98%|█████████▊| 156/160 [06:22<00:01,  2.19it/s]"
     ]
    },
    {
     "name": "stderr",
     "output_type": "stream",
     "text": [
      "\r",
      "Feature Extraction:  98%|█████████▊| 157/160 [06:23<00:01,  1.99it/s]"
     ]
    },
    {
     "name": "stderr",
     "output_type": "stream",
     "text": [
      "\r",
      "Feature Extraction:  99%|█████████▉| 158/160 [06:23<00:01,  1.65it/s]"
     ]
    },
    {
     "name": "stderr",
     "output_type": "stream",
     "text": [
      "\r",
      "Feature Extraction:  99%|█████████▉| 159/160 [06:24<00:00,  1.47it/s]"
     ]
    },
    {
     "name": "stderr",
     "output_type": "stream",
     "text": [
      "\r",
      "Feature Extraction: 100%|██████████| 160/160 [06:24<00:00,  1.83it/s]"
     ]
    },
    {
     "name": "stderr",
     "output_type": "stream",
     "text": [
      "\r",
      "Feature Extraction: 100%|██████████| 160/160 [06:24<00:00,  2.41s/it]"
     ]
    },
    {
     "name": "stderr",
     "output_type": "stream",
     "text": [
      "\n"
     ]
    },
    {
     "name": "stdout",
     "output_type": "stream",
     "text": [
      "let the ml starts\n"
     ]
    },
    {
     "name": "stdout",
     "output_type": "stream",
     "text": [
      "LogReg\n",
      "              precision    recall  f1-score   support\n",
      "\n",
      "   malignant       0.99      0.98      0.99     31113\n",
      "      benign       0.98      0.99      0.99     30344\n",
      "\n",
      "    accuracy                           0.99     61457\n",
      "   macro avg       0.99      0.99      0.99     61457\n",
      "weighted avg       0.99      0.99      0.99     61457\n",
      "\n",
      "    fit_time  score_time  test_accuracy  test_precision_weighted  \\\n",
      "0  11.517096    0.036271       0.986576                 0.986584   \n",
      "1  11.349579    0.035249       0.985681                 0.985689   \n",
      "2  11.036546    0.036089       0.986278                 0.986293   \n",
      "3  12.121835    0.035535       0.986766                 0.986790   \n",
      "4  11.464489    0.035504       0.986169                 0.986180   \n",
      "\n",
      "   test_recall_weighted  test_f1_weighted  test_roc_auc   model  \n",
      "0              0.986576          0.986576      0.997605  LogReg  \n",
      "1              0.985681          0.985681      0.997163  LogReg  \n",
      "2              0.986278          0.986278      0.997291  LogReg  \n",
      "3              0.986766          0.986766      0.997839  LogReg  \n",
      "4              0.986169          0.986169      0.997430  LogReg  \n"
     ]
    },
    {
     "name": "stdout",
     "output_type": "stream",
     "text": [
      "KNN\n",
      "              precision    recall  f1-score   support\n",
      "\n",
      "   malignant       0.99      0.99      0.99     31113\n",
      "      benign       0.99      0.99      0.99     30344\n",
      "\n",
      "    accuracy                           0.99     61457\n",
      "   macro avg       0.99      0.99      0.99     61457\n",
      "weighted avg       0.99      0.99      0.99     61457\n",
      "\n",
      "    fit_time  score_time  test_accuracy  test_precision_weighted  \\\n",
      "0  11.517096    0.036271       0.986576                 0.986584   \n",
      "1  11.349579    0.035249       0.985681                 0.985689   \n",
      "2  11.036546    0.036089       0.986278                 0.986293   \n",
      "3  12.121835    0.035535       0.986766                 0.986790   \n",
      "4  11.464489    0.035504       0.986169                 0.986180   \n",
      "5   0.105452   12.814363       0.989071                 0.989082   \n",
      "6   0.097351   12.837574       0.988773                 0.988780   \n",
      "7   0.097660   12.916698       0.989288                 0.989309   \n",
      "8   0.097641   12.962601       0.989722                 0.989745   \n",
      "9   0.097949   12.999588       0.988664                 0.988672   \n",
      "\n",
      "   test_recall_weighted  test_f1_weighted  test_roc_auc   model  \n",
      "0              0.986576          0.986576      0.997605  LogReg  \n",
      "1              0.985681          0.985681      0.997163  LogReg  \n",
      "2              0.986278          0.986278      0.997291  LogReg  \n",
      "3              0.986766          0.986766      0.997839  LogReg  \n",
      "4              0.986169          0.986169      0.997430  LogReg  \n",
      "5              0.989071          0.989071      0.996195     KNN  \n",
      "6              0.988773          0.988773      0.996041     KNN  \n",
      "7              0.989288          0.989288      0.995778     KNN  \n",
      "8              0.989722          0.989722      0.996108     KNN  \n",
      "9              0.988664          0.988664      0.996054     KNN  \n"
     ]
    },
    {
     "name": "stdout",
     "output_type": "stream",
     "text": [
      "SVM\n",
      "              precision    recall  f1-score   support\n",
      "\n",
      "   malignant       0.99      0.99      0.99     31113\n",
      "      benign       0.99      0.99      0.99     30344\n",
      "\n",
      "    accuracy                           0.99     61457\n",
      "   macro avg       0.99      0.99      0.99     61457\n",
      "weighted avg       0.99      0.99      0.99     61457\n",
      "\n",
      "      fit_time  score_time  test_accuracy  test_precision_weighted  \\\n",
      "0    11.517096    0.036271       0.986576                 0.986584   \n",
      "1    11.349579    0.035249       0.985681                 0.985689   \n",
      "2    11.036546    0.036089       0.986278                 0.986293   \n",
      "3    12.121835    0.035535       0.986766                 0.986790   \n",
      "4    11.464489    0.035504       0.986169                 0.986180   \n",
      "5     0.105452   12.814363       0.989071                 0.989082   \n",
      "6     0.097351   12.837574       0.988773                 0.988780   \n",
      "7     0.097660   12.916698       0.989288                 0.989309   \n",
      "8     0.097641   12.962601       0.989722                 0.989745   \n",
      "9     0.097949   12.999588       0.988664                 0.988672   \n",
      "10  201.787145   56.436473       0.987769                 0.987778   \n",
      "11  200.001157   55.996809       0.987227                 0.987232   \n",
      "12  199.562135   54.725383       0.987606                 0.987612   \n",
      "13  203.828154   55.723583       0.987769                 0.987778   \n",
      "14  200.851203   56.143475       0.986684                 0.986687   \n",
      "\n",
      "    test_recall_weighted  test_f1_weighted  test_roc_auc   model  \n",
      "0               0.986576          0.986576      0.997605  LogReg  \n",
      "1               0.985681          0.985681      0.997163  LogReg  \n",
      "2               0.986278          0.986278      0.997291  LogReg  \n",
      "3               0.986766          0.986766      0.997839  LogReg  \n",
      "4               0.986169          0.986169      0.997430  LogReg  \n",
      "5               0.989071          0.989071      0.996195     KNN  \n",
      "6               0.988773          0.988773      0.996041     KNN  \n",
      "7               0.989288          0.989288      0.995778     KNN  \n",
      "8               0.989722          0.989722      0.996108     KNN  \n",
      "9               0.988664          0.988664      0.996054     KNN  \n",
      "10              0.987769          0.987769      0.998099     SVM  \n",
      "11              0.987227          0.987227      0.998060     SVM  \n",
      "12              0.987606          0.987607      0.998088     SVM  \n",
      "13              0.987769          0.987769      0.998433     SVM  \n",
      "14              0.986684          0.986684      0.997967     SVM  \n"
     ]
    },
    {
     "name": "stdout",
     "output_type": "stream",
     "text": [
      "GNB\n",
      "              precision    recall  f1-score   support\n",
      "\n",
      "   malignant       0.99      1.00      0.99     31113\n",
      "      benign       1.00      0.99      0.99     30344\n",
      "\n",
      "    accuracy                           0.99     61457\n",
      "   macro avg       0.99      0.99      0.99     61457\n",
      "weighted avg       0.99      0.99      0.99     61457\n",
      "\n",
      "      fit_time  score_time  test_accuracy  test_precision_weighted  \\\n",
      "0    11.517096    0.036271       0.986576                 0.986584   \n",
      "1    11.349579    0.035249       0.985681                 0.985689   \n",
      "2    11.036546    0.036089       0.986278                 0.986293   \n",
      "3    12.121835    0.035535       0.986766                 0.986790   \n",
      "4    11.464489    0.035504       0.986169                 0.986180   \n",
      "5     0.105452   12.814363       0.989071                 0.989082   \n",
      "6     0.097351   12.837574       0.988773                 0.988780   \n",
      "7     0.097660   12.916698       0.989288                 0.989309   \n",
      "8     0.097641   12.962601       0.989722                 0.989745   \n",
      "9     0.097949   12.999588       0.988664                 0.988672   \n",
      "10  201.787145   56.436473       0.987769                 0.987778   \n",
      "11  200.001157   55.996809       0.987227                 0.987232   \n",
      "12  199.562135   54.725383       0.987606                 0.987612   \n",
      "13  203.828154   55.723583       0.987769                 0.987778   \n",
      "14  200.851203   56.143475       0.986684                 0.986687   \n",
      "15    0.424863    0.179494       0.993763                 0.993839   \n",
      "16    0.425243    0.179907       0.993600                 0.993680   \n",
      "17    0.424409    0.180221       0.994468                 0.994526   \n",
      "18    0.423820    0.179559       0.994386                 0.994448   \n",
      "19    0.422994    0.180157       0.994305                 0.994368   \n",
      "\n",
      "    test_recall_weighted  test_f1_weighted  test_roc_auc   model  \n",
      "0               0.986576          0.986576      0.997605  LogReg  \n",
      "1               0.985681          0.985681      0.997163  LogReg  \n",
      "2               0.986278          0.986278      0.997291  LogReg  \n",
      "3               0.986766          0.986766      0.997839  LogReg  \n",
      "4               0.986169          0.986169      0.997430  LogReg  \n",
      "5               0.989071          0.989071      0.996195     KNN  \n",
      "6               0.988773          0.988773      0.996041     KNN  \n",
      "7               0.989288          0.989288      0.995778     KNN  \n",
      "8               0.989722          0.989722      0.996108     KNN  \n",
      "9               0.988664          0.988664      0.996054     KNN  \n",
      "10              0.987769          0.987769      0.998099     SVM  \n",
      "11              0.987227          0.987227      0.998060     SVM  \n",
      "12              0.987606          0.987607      0.998088     SVM  \n",
      "13              0.987769          0.987769      0.998433     SVM  \n",
      "14              0.986684          0.986684      0.997967     SVM  \n",
      "15              0.993763          0.993762      0.998987     GNB  \n",
      "16              0.993600          0.993599      0.998830     GNB  \n",
      "17              0.994468          0.994467      0.998928     GNB  \n",
      "18              0.994386          0.994386      0.999286     GNB  \n",
      "19              0.994305          0.994304      0.998852     GNB  \n",
      "2949.352827850729\n"
     ]
    }
   ],
   "source": [
    "#Scenario 1 :Devices\n",
    "# 1) Server\n",
    "\n",
    "df_malicious = pd.concat([df2,df7,df32])\n",
    "df_benign = pd.concat([df8,df18,df20,df21])\n",
    "\n",
    "\n",
    "\n",
    "print(\"malicious: {}\".format(len(df_malicious)))\n",
    "print(\"benign: {}\".format(len(df_benign)))\n",
    "\n",
    "print(\"{} NAN in malicious!\".format(len(df_malicious[df_malicious.isna().any(axis=1)])))\n",
    "print(\"{} NAN in benign!\".format(len(df_benign[df_benign.isna().any(axis=1)])))\n",
    "\n",
    "df_malicious = df_malicious.dropna()\n",
    "df_benign = df_benign.dropna()\n",
    "\n",
    "print(\"After droppping NAN rows: \")\n",
    "print(\"malicious: {}\".format(len(df_malicious)))\n",
    "print(\"benign: {}\".format(len(df_benign)))\n",
    "\n",
    "start = timer()\n",
    "\n",
    "results_server_s1 = run_process(df_malicious,df_benign,df_results)\n",
    "\n",
    "end = timer()\n",
    "print(end - start)\n"
   ]
  },
  {
   "cell_type": "code",
   "execution_count": 10,
   "id": "K5oaOGS83z2O",
   "metadata": {
    "execution": {
     "iopub.execute_input": "2025-08-02T07:25:00.955750Z",
     "iopub.status.busy": "2025-08-02T07:25:00.955620Z",
     "iopub.status.idle": "2025-08-02T07:33:16.871636Z",
     "shell.execute_reply": "2025-08-02T07:33:16.870931Z"
    },
    "id": "K5oaOGS83z2O",
    "outputId": "75231926-ec44-4194-ed1b-c73c36fd5ec7"
   },
   "outputs": [
    {
     "name": "stdout",
     "output_type": "stream",
     "text": [
      "malicious: 234272\n",
      "benign: 238996\n",
      "0 NAN in malicious!\n",
      "0 NAN in benign!\n",
      "After droppping NAN rows: \n",
      "malicious: 234272\n",
      "benign: 238996\n"
     ]
    },
    {
     "name": "stderr",
     "output_type": "stream",
     "text": [
      "\r",
      "Feature Extraction:   0%|          | 0/160 [00:00<?, ?it/s]"
     ]
    },
    {
     "name": "stderr",
     "output_type": "stream",
     "text": [
      "\r",
      "Feature Extraction:   1%|          | 1/160 [00:11<30:47, 11.62s/it]"
     ]
    },
    {
     "name": "stderr",
     "output_type": "stream",
     "text": [
      "\r",
      "Feature Extraction:   1%|▏         | 2/160 [00:11<13:00,  4.94s/it]"
     ]
    },
    {
     "name": "stderr",
     "output_type": "stream",
     "text": [
      "\r",
      "Feature Extraction:   2%|▏         | 3/160 [00:11<07:09,  2.74s/it]"
     ]
    },
    {
     "name": "stderr",
     "output_type": "stream",
     "text": [
      "\r",
      "Feature Extraction:   2%|▎         | 4/160 [00:12<04:28,  1.72s/it]"
     ]
    },
    {
     "name": "stderr",
     "output_type": "stream",
     "text": [
      "\r",
      "Feature Extraction:   3%|▎         | 5/160 [00:12<03:00,  1.17s/it]"
     ]
    },
    {
     "name": "stderr",
     "output_type": "stream",
     "text": [
      "\r",
      "Feature Extraction:   4%|▍         | 6/160 [00:12<02:15,  1.13it/s]"
     ]
    },
    {
     "name": "stderr",
     "output_type": "stream",
     "text": [
      "\r",
      "Feature Extraction:   4%|▍         | 7/160 [00:12<01:37,  1.57it/s]"
     ]
    },
    {
     "name": "stderr",
     "output_type": "stream",
     "text": [
      "\r",
      "Feature Extraction:   5%|▌         | 8/160 [00:12<01:12,  2.08it/s]"
     ]
    },
    {
     "name": "stderr",
     "output_type": "stream",
     "text": [
      "\r",
      "Feature Extraction:   6%|▋         | 10/160 [00:13<00:47,  3.17it/s]"
     ]
    },
    {
     "name": "stderr",
     "output_type": "stream",
     "text": [
      "\r",
      "Feature Extraction:   8%|▊         | 12/160 [00:13<00:35,  4.13it/s]"
     ]
    },
    {
     "name": "stderr",
     "output_type": "stream",
     "text": [
      "\r",
      "Feature Extraction:   8%|▊         | 13/160 [00:13<00:31,  4.62it/s]"
     ]
    },
    {
     "name": "stderr",
     "output_type": "stream",
     "text": [
      "\r",
      "Feature Extraction:   9%|▉         | 14/160 [00:13<00:28,  5.12it/s]"
     ]
    },
    {
     "name": "stderr",
     "output_type": "stream",
     "text": [
      "\r",
      "Feature Extraction:   9%|▉         | 15/160 [00:13<00:25,  5.67it/s]"
     ]
    },
    {
     "name": "stderr",
     "output_type": "stream",
     "text": [
      "\r",
      "Feature Extraction:  10%|█         | 16/160 [00:14<00:23,  6.09it/s]"
     ]
    },
    {
     "name": "stderr",
     "output_type": "stream",
     "text": [
      "\r",
      "Feature Extraction:  11%|█         | 17/160 [00:14<00:21,  6.52it/s]"
     ]
    },
    {
     "name": "stderr",
     "output_type": "stream",
     "text": [
      "\r",
      "Feature Extraction:  12%|█▏        | 19/160 [00:14<00:19,  7.31it/s]"
     ]
    },
    {
     "name": "stderr",
     "output_type": "stream",
     "text": [
      "\r",
      "Feature Extraction:  12%|█▎        | 20/160 [00:14<00:18,  7.40it/s]"
     ]
    },
    {
     "name": "stderr",
     "output_type": "stream",
     "text": [
      "\r",
      "Feature Extraction:  13%|█▎        | 21/160 [00:14<00:18,  7.53it/s]"
     ]
    },
    {
     "name": "stderr",
     "output_type": "stream",
     "text": [
      "\r",
      "Feature Extraction:  14%|█▍        | 22/160 [00:14<00:19,  7.23it/s]"
     ]
    },
    {
     "name": "stderr",
     "output_type": "stream",
     "text": [
      "\r",
      "Feature Extraction:  15%|█▌        | 24/160 [00:15<00:18,  7.30it/s]"
     ]
    },
    {
     "name": "stderr",
     "output_type": "stream",
     "text": [
      "\r",
      "Feature Extraction:  16%|█▋        | 26/160 [00:15<00:23,  5.68it/s]"
     ]
    },
    {
     "name": "stderr",
     "output_type": "stream",
     "text": [
      "\r",
      "Feature Extraction:  17%|█▋        | 27/160 [00:15<00:22,  5.89it/s]"
     ]
    },
    {
     "name": "stderr",
     "output_type": "stream",
     "text": [
      "\r",
      "Feature Extraction:  18%|█▊        | 28/160 [00:15<00:22,  5.94it/s]"
     ]
    },
    {
     "name": "stderr",
     "output_type": "stream",
     "text": [
      "\r",
      "Feature Extraction:  18%|█▊        | 29/160 [00:15<00:20,  6.48it/s]"
     ]
    },
    {
     "name": "stderr",
     "output_type": "stream",
     "text": [
      "\r",
      "Feature Extraction:  19%|█▉        | 30/160 [00:16<00:20,  6.41it/s]"
     ]
    },
    {
     "name": "stderr",
     "output_type": "stream",
     "text": [
      "\r",
      "Feature Extraction:  19%|█▉        | 31/160 [00:16<00:20,  6.25it/s]"
     ]
    },
    {
     "name": "stderr",
     "output_type": "stream",
     "text": [
      "\r",
      "Feature Extraction:  20%|██        | 32/160 [00:16<00:20,  6.28it/s]"
     ]
    },
    {
     "name": "stderr",
     "output_type": "stream",
     "text": [
      "\r",
      "Feature Extraction:  21%|██        | 33/160 [00:22<03:54,  1.85s/it]"
     ]
    },
    {
     "name": "stderr",
     "output_type": "stream",
     "text": [
      "\r",
      "Feature Extraction:  21%|██▏       | 34/160 [00:23<03:18,  1.58s/it]"
     ]
    },
    {
     "name": "stderr",
     "output_type": "stream",
     "text": [
      "\r",
      "Feature Extraction:  22%|██▏       | 35/160 [00:23<02:27,  1.18s/it]"
     ]
    },
    {
     "name": "stderr",
     "output_type": "stream",
     "text": [
      "\r",
      "Feature Extraction:  22%|██▎       | 36/160 [00:23<01:48,  1.14it/s]"
     ]
    },
    {
     "name": "stderr",
     "output_type": "stream",
     "text": [
      "\r",
      "Feature Extraction:  23%|██▎       | 37/160 [00:23<01:22,  1.49it/s]"
     ]
    },
    {
     "name": "stderr",
     "output_type": "stream",
     "text": [
      "\r",
      "Feature Extraction:  24%|██▍       | 38/160 [00:24<01:01,  1.97it/s]"
     ]
    },
    {
     "name": "stderr",
     "output_type": "stream",
     "text": [
      "\r",
      "Feature Extraction:  24%|██▍       | 39/160 [00:24<00:47,  2.56it/s]"
     ]
    },
    {
     "name": "stderr",
     "output_type": "stream",
     "text": [
      "\r",
      "Feature Extraction:  25%|██▌       | 40/160 [00:24<00:37,  3.23it/s]"
     ]
    },
    {
     "name": "stderr",
     "output_type": "stream",
     "text": [
      "\r",
      "Feature Extraction:  26%|██▌       | 41/160 [00:24<00:32,  3.67it/s]"
     ]
    },
    {
     "name": "stderr",
     "output_type": "stream",
     "text": [
      "\r",
      "Feature Extraction:  26%|██▋       | 42/160 [00:24<00:34,  3.38it/s]"
     ]
    },
    {
     "name": "stderr",
     "output_type": "stream",
     "text": [
      "\r",
      "Feature Extraction:  27%|██▋       | 43/160 [00:25<00:33,  3.51it/s]"
     ]
    },
    {
     "name": "stderr",
     "output_type": "stream",
     "text": [
      "\r",
      "Feature Extraction:  28%|██▊       | 44/160 [00:25<00:30,  3.84it/s]"
     ]
    },
    {
     "name": "stderr",
     "output_type": "stream",
     "text": [
      "\r",
      "Feature Extraction:  29%|██▉       | 46/160 [00:25<00:20,  5.44it/s]"
     ]
    },
    {
     "name": "stderr",
     "output_type": "stream",
     "text": [
      "\r",
      "Feature Extraction:  29%|██▉       | 47/160 [00:25<00:19,  5.85it/s]"
     ]
    },
    {
     "name": "stderr",
     "output_type": "stream",
     "text": [
      "\r",
      "Feature Extraction:  30%|███       | 48/160 [00:26<00:35,  3.20it/s]"
     ]
    },
    {
     "name": "stderr",
     "output_type": "stream",
     "text": [
      "\r",
      "Feature Extraction:  31%|███       | 49/160 [00:26<00:33,  3.32it/s]"
     ]
    },
    {
     "name": "stderr",
     "output_type": "stream",
     "text": [
      "\r",
      "Feature Extraction:  31%|███▏      | 50/160 [00:26<00:28,  3.87it/s]"
     ]
    },
    {
     "name": "stderr",
     "output_type": "stream",
     "text": [
      "\r",
      "Feature Extraction:  32%|███▏      | 51/160 [00:26<00:24,  4.46it/s]"
     ]
    },
    {
     "name": "stderr",
     "output_type": "stream",
     "text": [
      "\r",
      "Feature Extraction:  32%|███▎      | 52/160 [00:27<00:24,  4.45it/s]"
     ]
    },
    {
     "name": "stderr",
     "output_type": "stream",
     "text": [
      "\r",
      "Feature Extraction:  33%|███▎      | 53/160 [00:27<00:23,  4.49it/s]"
     ]
    },
    {
     "name": "stderr",
     "output_type": "stream",
     "text": [
      "\r",
      "Feature Extraction:  34%|███▍      | 54/160 [00:27<00:22,  4.63it/s]"
     ]
    },
    {
     "name": "stderr",
     "output_type": "stream",
     "text": [
      "\r",
      "Feature Extraction:  34%|███▍      | 55/160 [00:27<00:21,  4.84it/s]"
     ]
    },
    {
     "name": "stderr",
     "output_type": "stream",
     "text": [
      "\r",
      "Feature Extraction:  35%|███▌      | 56/160 [00:27<00:18,  5.61it/s]"
     ]
    },
    {
     "name": "stderr",
     "output_type": "stream",
     "text": [
      "\r",
      "Feature Extraction:  36%|███▋      | 58/160 [00:28<00:14,  7.16it/s]"
     ]
    },
    {
     "name": "stderr",
     "output_type": "stream",
     "text": [
      "\r",
      "Feature Extraction:  37%|███▋      | 59/160 [00:28<00:19,  5.07it/s]"
     ]
    },
    {
     "name": "stderr",
     "output_type": "stream",
     "text": [
      "\r",
      "Feature Extraction:  38%|███▊      | 60/160 [00:28<00:19,  5.26it/s]"
     ]
    },
    {
     "name": "stderr",
     "output_type": "stream",
     "text": [
      "\r",
      "Feature Extraction:  38%|███▊      | 61/160 [00:28<00:18,  5.22it/s]"
     ]
    },
    {
     "name": "stderr",
     "output_type": "stream",
     "text": [
      "\r",
      "Feature Extraction:  39%|███▉      | 62/160 [00:28<00:18,  5.16it/s]"
     ]
    },
    {
     "name": "stderr",
     "output_type": "stream",
     "text": [
      "\r",
      "Feature Extraction:  39%|███▉      | 63/160 [00:29<00:17,  5.42it/s]"
     ]
    },
    {
     "name": "stderr",
     "output_type": "stream",
     "text": [
      "\r",
      "Feature Extraction:  40%|████      | 64/160 [00:29<00:18,  5.09it/s]"
     ]
    },
    {
     "name": "stderr",
     "output_type": "stream",
     "text": [
      "\r",
      "Feature Extraction:  41%|████      | 65/160 [00:35<02:52,  1.82s/it]"
     ]
    },
    {
     "name": "stderr",
     "output_type": "stream",
     "text": [
      "\r",
      "Feature Extraction:  41%|████▏     | 66/160 [00:36<02:28,  1.58s/it]"
     ]
    },
    {
     "name": "stderr",
     "output_type": "stream",
     "text": [
      "\r",
      "Feature Extraction:  42%|████▏     | 67/160 [00:36<01:48,  1.16s/it]"
     ]
    },
    {
     "name": "stderr",
     "output_type": "stream",
     "text": [
      "\r",
      "Feature Extraction:  42%|████▎     | 68/160 [00:36<01:29,  1.03it/s]"
     ]
    },
    {
     "name": "stderr",
     "output_type": "stream",
     "text": [
      "\r",
      "Feature Extraction:  43%|████▎     | 69/160 [00:36<01:04,  1.41it/s]"
     ]
    },
    {
     "name": "stderr",
     "output_type": "stream",
     "text": [
      "\r",
      "Feature Extraction:  44%|████▍     | 70/160 [00:37<00:50,  1.77it/s]"
     ]
    },
    {
     "name": "stderr",
     "output_type": "stream",
     "text": [
      "\r",
      "Feature Extraction:  45%|████▌     | 72/160 [00:37<00:30,  2.92it/s]"
     ]
    },
    {
     "name": "stderr",
     "output_type": "stream",
     "text": [
      "\r",
      "Feature Extraction:  46%|████▌     | 73/160 [00:37<00:25,  3.39it/s]"
     ]
    },
    {
     "name": "stderr",
     "output_type": "stream",
     "text": [
      "\r",
      "Feature Extraction:  46%|████▋     | 74/160 [00:37<00:21,  4.09it/s]"
     ]
    },
    {
     "name": "stderr",
     "output_type": "stream",
     "text": [
      "\r",
      "Feature Extraction:  47%|████▋     | 75/160 [00:37<00:23,  3.68it/s]"
     ]
    },
    {
     "name": "stderr",
     "output_type": "stream",
     "text": [
      "\r",
      "Feature Extraction:  48%|████▊     | 76/160 [00:38<00:19,  4.26it/s]"
     ]
    },
    {
     "name": "stderr",
     "output_type": "stream",
     "text": [
      "\r",
      "Feature Extraction:  48%|████▊     | 77/160 [00:38<00:22,  3.72it/s]"
     ]
    },
    {
     "name": "stderr",
     "output_type": "stream",
     "text": [
      "\r",
      "Feature Extraction:  49%|████▉     | 78/160 [00:38<00:19,  4.12it/s]"
     ]
    },
    {
     "name": "stderr",
     "output_type": "stream",
     "text": [
      "\r",
      "Feature Extraction:  49%|████▉     | 79/160 [00:38<00:18,  4.31it/s]"
     ]
    },
    {
     "name": "stderr",
     "output_type": "stream",
     "text": [
      "\r",
      "Feature Extraction:  50%|█████     | 80/160 [00:38<00:17,  4.55it/s]"
     ]
    },
    {
     "name": "stderr",
     "output_type": "stream",
     "text": [
      "\r",
      "Feature Extraction:  51%|█████     | 81/160 [00:39<00:20,  3.79it/s]"
     ]
    },
    {
     "name": "stderr",
     "output_type": "stream",
     "text": [
      "\r",
      "Feature Extraction:  51%|█████▏    | 82/160 [00:39<00:18,  4.14it/s]"
     ]
    },
    {
     "name": "stderr",
     "output_type": "stream",
     "text": [
      "\r",
      "Feature Extraction:  52%|█████▏    | 83/160 [00:39<00:15,  4.84it/s]"
     ]
    },
    {
     "name": "stderr",
     "output_type": "stream",
     "text": [
      "\r",
      "Feature Extraction:  52%|█████▎    | 84/160 [00:39<00:17,  4.29it/s]"
     ]
    },
    {
     "name": "stderr",
     "output_type": "stream",
     "text": [
      "\r",
      "Feature Extraction:  53%|█████▎    | 85/160 [00:40<00:16,  4.57it/s]"
     ]
    },
    {
     "name": "stderr",
     "output_type": "stream",
     "text": [
      "\r",
      "Feature Extraction:  54%|█████▍    | 86/160 [00:40<00:14,  5.10it/s]"
     ]
    },
    {
     "name": "stderr",
     "output_type": "stream",
     "text": [
      "\r",
      "Feature Extraction:  54%|█████▍    | 87/160 [00:40<00:16,  4.48it/s]"
     ]
    },
    {
     "name": "stderr",
     "output_type": "stream",
     "text": [
      "\r",
      "Feature Extraction:  55%|█████▌    | 88/160 [00:40<00:15,  4.76it/s]"
     ]
    },
    {
     "name": "stderr",
     "output_type": "stream",
     "text": [
      "\r",
      "Feature Extraction:  56%|█████▌    | 89/160 [00:41<00:23,  2.97it/s]"
     ]
    },
    {
     "name": "stderr",
     "output_type": "stream",
     "text": [
      "\r",
      "Feature Extraction:  56%|█████▋    | 90/160 [00:41<00:19,  3.65it/s]"
     ]
    },
    {
     "name": "stderr",
     "output_type": "stream",
     "text": [
      "\r",
      "Feature Extraction:  57%|█████▋    | 91/160 [00:41<00:15,  4.38it/s]"
     ]
    },
    {
     "name": "stderr",
     "output_type": "stream",
     "text": [
      "\r",
      "Feature Extraction:  57%|█████▊    | 92/160 [00:41<00:14,  4.76it/s]"
     ]
    },
    {
     "name": "stderr",
     "output_type": "stream",
     "text": [
      "\r",
      "Feature Extraction:  59%|█████▉    | 94/160 [00:42<00:11,  5.58it/s]"
     ]
    },
    {
     "name": "stderr",
     "output_type": "stream",
     "text": [
      "\r",
      "Feature Extraction:  59%|█████▉    | 95/160 [00:42<00:12,  5.19it/s]"
     ]
    },
    {
     "name": "stderr",
     "output_type": "stream",
     "text": [
      "\r",
      "Feature Extraction:  60%|██████    | 96/160 [00:42<00:11,  5.67it/s]"
     ]
    },
    {
     "name": "stderr",
     "output_type": "stream",
     "text": [
      "\r",
      "Feature Extraction:  61%|██████    | 97/160 [00:47<01:35,  1.52s/it]"
     ]
    },
    {
     "name": "stderr",
     "output_type": "stream",
     "text": [
      "\r",
      "Feature Extraction:  61%|██████▏   | 98/160 [00:48<01:28,  1.43s/it]"
     ]
    },
    {
     "name": "stderr",
     "output_type": "stream",
     "text": [
      "\r",
      "Feature Extraction:  62%|██████▏   | 99/160 [00:48<01:06,  1.10s/it]"
     ]
    },
    {
     "name": "stderr",
     "output_type": "stream",
     "text": [
      "\r",
      "Feature Extraction:  62%|██████▎   | 100/160 [00:49<00:49,  1.20it/s]"
     ]
    },
    {
     "name": "stderr",
     "output_type": "stream",
     "text": [
      "\r",
      "Feature Extraction:  63%|██████▎   | 101/160 [00:49<00:42,  1.39it/s]"
     ]
    },
    {
     "name": "stderr",
     "output_type": "stream",
     "text": [
      "\r",
      "Feature Extraction:  64%|██████▍   | 102/160 [00:49<00:33,  1.76it/s]"
     ]
    },
    {
     "name": "stderr",
     "output_type": "stream",
     "text": [
      "\r",
      "Feature Extraction:  64%|██████▍   | 103/160 [00:50<00:26,  2.11it/s]"
     ]
    },
    {
     "name": "stderr",
     "output_type": "stream",
     "text": [
      "\r",
      "Feature Extraction:  65%|██████▌   | 104/160 [00:50<00:20,  2.68it/s]"
     ]
    },
    {
     "name": "stderr",
     "output_type": "stream",
     "text": [
      "\r",
      "Feature Extraction:  66%|██████▌   | 105/160 [00:50<00:16,  3.32it/s]"
     ]
    },
    {
     "name": "stderr",
     "output_type": "stream",
     "text": [
      "\r",
      "Feature Extraction:  67%|██████▋   | 107/160 [00:50<00:11,  4.52it/s]"
     ]
    },
    {
     "name": "stderr",
     "output_type": "stream",
     "text": [
      "\r",
      "Feature Extraction:  68%|██████▊   | 108/160 [00:50<00:11,  4.61it/s]"
     ]
    },
    {
     "name": "stderr",
     "output_type": "stream",
     "text": [
      "\r",
      "Feature Extraction:  68%|██████▊   | 109/160 [00:51<00:11,  4.57it/s]"
     ]
    },
    {
     "name": "stderr",
     "output_type": "stream",
     "text": [
      "\r",
      "Feature Extraction:  69%|██████▉   | 110/160 [00:51<00:17,  2.94it/s]"
     ]
    },
    {
     "name": "stderr",
     "output_type": "stream",
     "text": [
      "\r",
      "Feature Extraction:  69%|██████▉   | 111/160 [00:51<00:13,  3.61it/s]"
     ]
    },
    {
     "name": "stderr",
     "output_type": "stream",
     "text": [
      "\r",
      "Feature Extraction:  70%|███████   | 112/160 [00:51<00:11,  4.30it/s]"
     ]
    },
    {
     "name": "stderr",
     "output_type": "stream",
     "text": [
      "\r",
      "Feature Extraction:  71%|███████▏  | 114/160 [00:52<00:10,  4.54it/s]"
     ]
    },
    {
     "name": "stderr",
     "output_type": "stream",
     "text": [
      "\r",
      "Feature Extraction:  72%|███████▏  | 115/160 [00:52<00:09,  4.81it/s]"
     ]
    },
    {
     "name": "stderr",
     "output_type": "stream",
     "text": [
      "\r",
      "Feature Extraction:  72%|███████▎  | 116/160 [00:52<00:08,  5.35it/s]"
     ]
    },
    {
     "name": "stderr",
     "output_type": "stream",
     "text": [
      "\r",
      "Feature Extraction:  73%|███████▎  | 117/160 [00:52<00:09,  4.41it/s]"
     ]
    },
    {
     "name": "stderr",
     "output_type": "stream",
     "text": [
      "\r",
      "Feature Extraction:  74%|███████▍  | 118/160 [00:53<00:09,  4.57it/s]"
     ]
    },
    {
     "name": "stderr",
     "output_type": "stream",
     "text": [
      "\r",
      "Feature Extraction:  74%|███████▍  | 119/160 [00:53<00:08,  4.86it/s]"
     ]
    },
    {
     "name": "stderr",
     "output_type": "stream",
     "text": [
      "\r",
      "Feature Extraction:  75%|███████▌  | 120/160 [00:53<00:08,  4.98it/s]"
     ]
    },
    {
     "name": "stderr",
     "output_type": "stream",
     "text": [
      "\r",
      "Feature Extraction:  76%|███████▌  | 121/160 [00:53<00:07,  5.39it/s]"
     ]
    },
    {
     "name": "stderr",
     "output_type": "stream",
     "text": [
      "\r",
      "Feature Extraction:  76%|███████▋  | 122/160 [00:54<00:10,  3.48it/s]"
     ]
    },
    {
     "name": "stderr",
     "output_type": "stream",
     "text": [
      "\r",
      "Feature Extraction:  77%|███████▋  | 123/160 [00:54<00:10,  3.67it/s]"
     ]
    },
    {
     "name": "stderr",
     "output_type": "stream",
     "text": [
      "\r",
      "Feature Extraction:  78%|███████▊  | 124/160 [00:54<00:08,  4.39it/s]"
     ]
    },
    {
     "name": "stderr",
     "output_type": "stream",
     "text": [
      "\r",
      "Feature Extraction:  78%|███████▊  | 125/160 [00:54<00:06,  5.16it/s]"
     ]
    },
    {
     "name": "stderr",
     "output_type": "stream",
     "text": [
      "\r",
      "Feature Extraction:  79%|███████▉  | 127/160 [00:54<00:05,  6.06it/s]"
     ]
    },
    {
     "name": "stderr",
     "output_type": "stream",
     "text": [
      "\r",
      "Feature Extraction:  80%|████████  | 128/160 [00:55<00:05,  5.79it/s]"
     ]
    },
    {
     "name": "stderr",
     "output_type": "stream",
     "text": [
      "\r",
      "Feature Extraction:  81%|████████  | 129/160 [00:59<00:42,  1.38s/it]"
     ]
    },
    {
     "name": "stderr",
     "output_type": "stream",
     "text": [
      "\r",
      "Feature Extraction:  82%|████████▏ | 131/160 [01:01<00:30,  1.06s/it]"
     ]
    },
    {
     "name": "stderr",
     "output_type": "stream",
     "text": [
      "\r",
      "Feature Extraction:  82%|████████▎ | 132/160 [01:01<00:24,  1.14it/s]"
     ]
    },
    {
     "name": "stderr",
     "output_type": "stream",
     "text": [
      "\r",
      "Feature Extraction:  83%|████████▎ | 133/160 [01:01<00:19,  1.38it/s]"
     ]
    },
    {
     "name": "stderr",
     "output_type": "stream",
     "text": [
      "\r",
      "Feature Extraction:  84%|████████▍ | 135/160 [01:02<00:12,  2.00it/s]"
     ]
    },
    {
     "name": "stderr",
     "output_type": "stream",
     "text": [
      "\r",
      "Feature Extraction:  86%|████████▌ | 137/160 [01:02<00:08,  2.84it/s]"
     ]
    },
    {
     "name": "stderr",
     "output_type": "stream",
     "text": [
      "\r",
      "Feature Extraction:  86%|████████▋ | 138/160 [01:02<00:06,  3.28it/s]"
     ]
    },
    {
     "name": "stderr",
     "output_type": "stream",
     "text": [
      "\r",
      "Feature Extraction:  87%|████████▋ | 139/160 [01:02<00:05,  3.73it/s]"
     ]
    },
    {
     "name": "stderr",
     "output_type": "stream",
     "text": [
      "\r",
      "Feature Extraction:  88%|████████▊ | 141/160 [01:02<00:04,  4.57it/s]"
     ]
    },
    {
     "name": "stderr",
     "output_type": "stream",
     "text": [
      "\r",
      "Feature Extraction:  89%|████████▉ | 143/160 [01:03<00:03,  4.48it/s]"
     ]
    },
    {
     "name": "stderr",
     "output_type": "stream",
     "text": [
      "\r",
      "Feature Extraction:  90%|█████████ | 144/160 [01:03<00:04,  3.99it/s]"
     ]
    },
    {
     "name": "stderr",
     "output_type": "stream",
     "text": [
      "\r",
      "Feature Extraction:  91%|█████████▏| 146/160 [01:03<00:02,  5.58it/s]"
     ]
    },
    {
     "name": "stderr",
     "output_type": "stream",
     "text": [
      "\r",
      "Feature Extraction:  92%|█████████▎| 148/160 [01:04<00:01,  6.31it/s]"
     ]
    },
    {
     "name": "stderr",
     "output_type": "stream",
     "text": [
      "\r",
      "Feature Extraction:  93%|█████████▎| 149/160 [01:04<00:01,  5.62it/s]"
     ]
    },
    {
     "name": "stderr",
     "output_type": "stream",
     "text": [
      "\r",
      "Feature Extraction:  94%|█████████▍| 151/160 [01:04<00:01,  7.58it/s]"
     ]
    },
    {
     "name": "stderr",
     "output_type": "stream",
     "text": [
      "\r",
      "Feature Extraction:  96%|█████████▌| 153/160 [01:04<00:00,  7.69it/s]"
     ]
    },
    {
     "name": "stderr",
     "output_type": "stream",
     "text": [
      "\r",
      "Feature Extraction:  97%|█████████▋| 155/160 [01:04<00:00,  9.07it/s]"
     ]
    },
    {
     "name": "stderr",
     "output_type": "stream",
     "text": [
      "\r",
      "Feature Extraction:  98%|█████████▊| 157/160 [01:05<00:00,  8.49it/s]"
     ]
    },
    {
     "name": "stderr",
     "output_type": "stream",
     "text": [
      "\r",
      "Feature Extraction:  99%|█████████▉| 159/160 [01:05<00:00,  8.30it/s]"
     ]
    },
    {
     "name": "stderr",
     "output_type": "stream",
     "text": [
      "\r",
      "Feature Extraction: 100%|██████████| 160/160 [01:05<00:00,  7.31it/s]"
     ]
    },
    {
     "name": "stderr",
     "output_type": "stream",
     "text": [
      "\r",
      "Feature Extraction: 100%|██████████| 160/160 [01:05<00:00,  2.44it/s]"
     ]
    },
    {
     "name": "stderr",
     "output_type": "stream",
     "text": [
      "\n"
     ]
    },
    {
     "name": "stderr",
     "output_type": "stream",
     "text": [
      "\r",
      "Feature Extraction:   0%|          | 0/160 [00:00<?, ?it/s]"
     ]
    },
    {
     "name": "stderr",
     "output_type": "stream",
     "text": [
      "\r",
      "Feature Extraction:   1%|          | 1/160 [00:12<33:02, 12.47s/it]"
     ]
    },
    {
     "name": "stderr",
     "output_type": "stream",
     "text": [
      "\r",
      "Feature Extraction:   1%|▏         | 2/160 [00:12<13:41,  5.20s/it]"
     ]
    },
    {
     "name": "stderr",
     "output_type": "stream",
     "text": [
      "\r",
      "Feature Extraction:   2%|▏         | 3/160 [00:12<07:43,  2.95s/it]"
     ]
    },
    {
     "name": "stderr",
     "output_type": "stream",
     "text": [
      "\r",
      "Feature Extraction:   2%|▎         | 4/160 [00:12<04:44,  1.83s/it]"
     ]
    },
    {
     "name": "stderr",
     "output_type": "stream",
     "text": [
      "\r",
      "Feature Extraction:   4%|▍         | 6/160 [00:13<02:21,  1.09it/s]"
     ]
    },
    {
     "name": "stderr",
     "output_type": "stream",
     "text": [
      "\r",
      "Feature Extraction:   5%|▌         | 8/160 [00:13<01:25,  1.78it/s]"
     ]
    },
    {
     "name": "stderr",
     "output_type": "stream",
     "text": [
      "\r",
      "Feature Extraction:   6%|▌         | 9/160 [00:13<01:15,  2.01it/s]"
     ]
    },
    {
     "name": "stderr",
     "output_type": "stream",
     "text": [
      "\r",
      "Feature Extraction:   7%|▋         | 11/160 [00:14<00:56,  2.65it/s]"
     ]
    },
    {
     "name": "stderr",
     "output_type": "stream",
     "text": [
      "\r",
      "Feature Extraction:   8%|▊         | 13/160 [00:14<00:40,  3.66it/s]"
     ]
    },
    {
     "name": "stderr",
     "output_type": "stream",
     "text": [
      "\r",
      "Feature Extraction:   9%|▉         | 14/160 [00:14<00:34,  4.21it/s]"
     ]
    },
    {
     "name": "stderr",
     "output_type": "stream",
     "text": [
      "\r",
      "Feature Extraction:   9%|▉         | 15/160 [00:14<00:30,  4.81it/s]"
     ]
    },
    {
     "name": "stderr",
     "output_type": "stream",
     "text": [
      "\r",
      "Feature Extraction:  10%|█         | 16/160 [00:14<00:27,  5.28it/s]"
     ]
    },
    {
     "name": "stderr",
     "output_type": "stream",
     "text": [
      "\r",
      "Feature Extraction:  11%|█         | 17/160 [00:14<00:25,  5.64it/s]"
     ]
    },
    {
     "name": "stderr",
     "output_type": "stream",
     "text": [
      "\r",
      "Feature Extraction:  11%|█▏        | 18/160 [00:14<00:22,  6.21it/s]"
     ]
    },
    {
     "name": "stderr",
     "output_type": "stream",
     "text": [
      "\r",
      "Feature Extraction:  12%|█▏        | 19/160 [00:14<00:21,  6.45it/s]"
     ]
    },
    {
     "name": "stderr",
     "output_type": "stream",
     "text": [
      "\r",
      "Feature Extraction:  13%|█▎        | 21/160 [00:15<00:20,  6.92it/s]"
     ]
    },
    {
     "name": "stderr",
     "output_type": "stream",
     "text": [
      "\r",
      "Feature Extraction:  14%|█▍        | 22/160 [00:15<00:19,  7.03it/s]"
     ]
    },
    {
     "name": "stderr",
     "output_type": "stream",
     "text": [
      "\r",
      "Feature Extraction:  14%|█▍        | 23/160 [00:15<00:18,  7.36it/s]"
     ]
    },
    {
     "name": "stderr",
     "output_type": "stream",
     "text": [
      "\r",
      "Feature Extraction:  16%|█▌        | 25/160 [00:15<00:17,  7.94it/s]"
     ]
    },
    {
     "name": "stderr",
     "output_type": "stream",
     "text": [
      "\r",
      "Feature Extraction:  16%|█▋        | 26/160 [00:15<00:17,  7.73it/s]"
     ]
    },
    {
     "name": "stderr",
     "output_type": "stream",
     "text": [
      "\r",
      "Feature Extraction:  18%|█▊        | 28/160 [00:16<00:18,  7.05it/s]"
     ]
    },
    {
     "name": "stderr",
     "output_type": "stream",
     "text": [
      "\r",
      "Feature Extraction:  19%|█▉        | 30/160 [00:16<00:15,  8.17it/s]"
     ]
    },
    {
     "name": "stderr",
     "output_type": "stream",
     "text": [
      "\r",
      "Feature Extraction:  19%|█▉        | 31/160 [00:16<00:15,  8.42it/s]"
     ]
    },
    {
     "name": "stderr",
     "output_type": "stream",
     "text": [
      "\r",
      "Feature Extraction:  20%|██        | 32/160 [00:16<00:15,  8.50it/s]"
     ]
    },
    {
     "name": "stderr",
     "output_type": "stream",
     "text": [
      "\r",
      "Feature Extraction:  21%|██        | 33/160 [00:23<04:00,  1.89s/it]"
     ]
    },
    {
     "name": "stderr",
     "output_type": "stream",
     "text": [
      "\r",
      "Feature Extraction:  21%|██▏       | 34/160 [00:24<03:11,  1.52s/it]"
     ]
    },
    {
     "name": "stderr",
     "output_type": "stream",
     "text": [
      "\r",
      "Feature Extraction:  22%|██▏       | 35/160 [00:25<02:48,  1.35s/it]"
     ]
    },
    {
     "name": "stderr",
     "output_type": "stream",
     "text": [
      "\r",
      "Feature Extraction:  22%|██▎       | 36/160 [00:25<02:05,  1.01s/it]"
     ]
    },
    {
     "name": "stderr",
     "output_type": "stream",
     "text": [
      "\r",
      "Feature Extraction:  23%|██▎       | 37/160 [00:25<01:36,  1.27it/s]"
     ]
    },
    {
     "name": "stderr",
     "output_type": "stream",
     "text": [
      "\r",
      "Feature Extraction:  24%|██▍       | 39/160 [00:25<01:01,  1.98it/s]"
     ]
    },
    {
     "name": "stderr",
     "output_type": "stream",
     "text": [
      "\r",
      "Feature Extraction:  25%|██▌       | 40/160 [00:26<00:52,  2.27it/s]"
     ]
    },
    {
     "name": "stderr",
     "output_type": "stream",
     "text": [
      "\r",
      "Feature Extraction:  26%|██▌       | 41/160 [00:26<00:45,  2.60it/s]"
     ]
    },
    {
     "name": "stderr",
     "output_type": "stream",
     "text": [
      "\r",
      "Feature Extraction:  26%|██▋       | 42/160 [00:26<00:39,  3.01it/s]"
     ]
    },
    {
     "name": "stderr",
     "output_type": "stream",
     "text": [
      "\r",
      "Feature Extraction:  27%|██▋       | 43/160 [00:26<00:33,  3.52it/s]"
     ]
    },
    {
     "name": "stderr",
     "output_type": "stream",
     "text": [
      "\r",
      "Feature Extraction:  28%|██▊       | 44/160 [00:26<00:29,  3.87it/s]"
     ]
    },
    {
     "name": "stderr",
     "output_type": "stream",
     "text": [
      "\r",
      "Feature Extraction:  28%|██▊       | 45/160 [00:27<00:27,  4.19it/s]"
     ]
    },
    {
     "name": "stderr",
     "output_type": "stream",
     "text": [
      "\r",
      "Feature Extraction:  29%|██▉       | 46/160 [00:27<00:24,  4.60it/s]"
     ]
    },
    {
     "name": "stderr",
     "output_type": "stream",
     "text": [
      "\r",
      "Feature Extraction:  29%|██▉       | 47/160 [00:27<00:27,  4.14it/s]"
     ]
    },
    {
     "name": "stderr",
     "output_type": "stream",
     "text": [
      "\r",
      "Feature Extraction:  30%|███       | 48/160 [00:27<00:23,  4.74it/s]"
     ]
    },
    {
     "name": "stderr",
     "output_type": "stream",
     "text": [
      "\r",
      "Feature Extraction:  31%|███       | 49/160 [00:27<00:22,  4.89it/s]"
     ]
    },
    {
     "name": "stderr",
     "output_type": "stream",
     "text": [
      "\r",
      "Feature Extraction:  31%|███▏      | 50/160 [00:28<00:19,  5.53it/s]"
     ]
    },
    {
     "name": "stderr",
     "output_type": "stream",
     "text": [
      "\r",
      "Feature Extraction:  32%|███▏      | 51/160 [00:28<00:17,  6.35it/s]"
     ]
    },
    {
     "name": "stderr",
     "output_type": "stream",
     "text": [
      "\r",
      "Feature Extraction:  32%|███▎      | 52/160 [00:28<00:28,  3.73it/s]"
     ]
    },
    {
     "name": "stderr",
     "output_type": "stream",
     "text": [
      "\r",
      "Feature Extraction:  33%|███▎      | 53/160 [00:28<00:27,  3.82it/s]"
     ]
    },
    {
     "name": "stderr",
     "output_type": "stream",
     "text": [
      "\r",
      "Feature Extraction:  34%|███▍      | 55/160 [00:29<00:20,  5.10it/s]"
     ]
    },
    {
     "name": "stderr",
     "output_type": "stream",
     "text": [
      "\r",
      "Feature Extraction:  35%|███▌      | 56/160 [00:29<00:17,  5.79it/s]"
     ]
    },
    {
     "name": "stderr",
     "output_type": "stream",
     "text": [
      "\r",
      "Feature Extraction:  36%|███▌      | 57/160 [00:29<00:15,  6.47it/s]"
     ]
    },
    {
     "name": "stderr",
     "output_type": "stream",
     "text": [
      "\r",
      "Feature Extraction:  36%|███▋      | 58/160 [00:29<00:14,  7.14it/s]"
     ]
    },
    {
     "name": "stderr",
     "output_type": "stream",
     "text": [
      "\r",
      "Feature Extraction:  37%|███▋      | 59/160 [00:29<00:17,  5.80it/s]"
     ]
    },
    {
     "name": "stderr",
     "output_type": "stream",
     "text": [
      "\r",
      "Feature Extraction:  38%|███▊      | 60/160 [00:29<00:16,  6.01it/s]"
     ]
    },
    {
     "name": "stderr",
     "output_type": "stream",
     "text": [
      "\r",
      "Feature Extraction:  38%|███▊      | 61/160 [00:30<00:18,  5.24it/s]"
     ]
    },
    {
     "name": "stderr",
     "output_type": "stream",
     "text": [
      "\r",
      "Feature Extraction:  39%|███▉      | 62/160 [00:30<00:18,  5.38it/s]"
     ]
    },
    {
     "name": "stderr",
     "output_type": "stream",
     "text": [
      "\r",
      "Feature Extraction:  39%|███▉      | 63/160 [00:30<00:17,  5.60it/s]"
     ]
    },
    {
     "name": "stderr",
     "output_type": "stream",
     "text": [
      "\r",
      "Feature Extraction:  40%|████      | 64/160 [00:30<00:16,  5.82it/s]"
     ]
    },
    {
     "name": "stderr",
     "output_type": "stream",
     "text": [
      "\r",
      "Feature Extraction:  41%|████      | 65/160 [00:37<03:16,  2.07s/it]"
     ]
    },
    {
     "name": "stderr",
     "output_type": "stream",
     "text": [
      "\r",
      "Feature Extraction:  41%|████▏     | 66/160 [00:37<02:30,  1.60s/it]"
     ]
    },
    {
     "name": "stderr",
     "output_type": "stream",
     "text": [
      "\r",
      "Feature Extraction:  42%|████▏     | 67/160 [00:38<02:04,  1.34s/it]"
     ]
    },
    {
     "name": "stderr",
     "output_type": "stream",
     "text": [
      "\r",
      "Feature Extraction:  43%|████▎     | 69/160 [00:38<01:09,  1.31it/s]"
     ]
    },
    {
     "name": "stderr",
     "output_type": "stream",
     "text": [
      "\r",
      "Feature Extraction:  44%|████▍     | 70/160 [00:38<00:58,  1.54it/s]"
     ]
    },
    {
     "name": "stderr",
     "output_type": "stream",
     "text": [
      "\r",
      "Feature Extraction:  44%|████▍     | 71/160 [00:39<01:03,  1.41it/s]"
     ]
    },
    {
     "name": "stderr",
     "output_type": "stream",
     "text": [
      "\r",
      "Feature Extraction:  45%|████▌     | 72/160 [00:39<00:48,  1.83it/s]"
     ]
    },
    {
     "name": "stderr",
     "output_type": "stream",
     "text": [
      "\r",
      "Feature Extraction:  46%|████▌     | 73/160 [00:39<00:37,  2.34it/s]"
     ]
    },
    {
     "name": "stderr",
     "output_type": "stream",
     "text": [
      "\r",
      "Feature Extraction:  47%|████▋     | 75/160 [00:40<00:24,  3.52it/s]"
     ]
    },
    {
     "name": "stderr",
     "output_type": "stream",
     "text": [
      "\r",
      "Feature Extraction:  48%|████▊     | 77/160 [00:40<00:20,  3.98it/s]"
     ]
    },
    {
     "name": "stderr",
     "output_type": "stream",
     "text": [
      "\r",
      "Feature Extraction:  49%|████▉     | 78/160 [00:40<00:19,  4.28it/s]"
     ]
    },
    {
     "name": "stderr",
     "output_type": "stream",
     "text": [
      "\r",
      "Feature Extraction:  50%|█████     | 80/160 [00:40<00:14,  5.67it/s]"
     ]
    },
    {
     "name": "stderr",
     "output_type": "stream",
     "text": [
      "\r",
      "Feature Extraction:  51%|█████     | 81/160 [00:41<00:12,  6.23it/s]"
     ]
    },
    {
     "name": "stderr",
     "output_type": "stream",
     "text": [
      "\r",
      "Feature Extraction:  52%|█████▏    | 83/160 [00:41<00:17,  4.33it/s]"
     ]
    },
    {
     "name": "stderr",
     "output_type": "stream",
     "text": [
      "\r",
      "Feature Extraction:  52%|█████▎    | 84/160 [00:41<00:16,  4.54it/s]"
     ]
    },
    {
     "name": "stderr",
     "output_type": "stream",
     "text": [
      "\r",
      "Feature Extraction:  53%|█████▎    | 85/160 [00:42<00:20,  3.65it/s]"
     ]
    },
    {
     "name": "stderr",
     "output_type": "stream",
     "text": [
      "\r",
      "Feature Extraction:  54%|█████▍    | 86/160 [00:42<00:18,  4.07it/s]"
     ]
    },
    {
     "name": "stderr",
     "output_type": "stream",
     "text": [
      "\r",
      "Feature Extraction:  54%|█████▍    | 87/160 [00:42<00:18,  3.86it/s]"
     ]
    },
    {
     "name": "stderr",
     "output_type": "stream",
     "text": [
      "\r",
      "Feature Extraction:  55%|█████▌    | 88/160 [00:42<00:16,  4.27it/s]"
     ]
    },
    {
     "name": "stderr",
     "output_type": "stream",
     "text": [
      "\r",
      "Feature Extraction:  56%|█████▌    | 89/160 [00:43<00:16,  4.25it/s]"
     ]
    },
    {
     "name": "stderr",
     "output_type": "stream",
     "text": [
      "\r",
      "Feature Extraction:  56%|█████▋    | 90/160 [00:43<00:14,  4.95it/s]"
     ]
    },
    {
     "name": "stderr",
     "output_type": "stream",
     "text": [
      "\r",
      "Feature Extraction:  57%|█████▋    | 91/160 [00:43<00:12,  5.75it/s]"
     ]
    },
    {
     "name": "stderr",
     "output_type": "stream",
     "text": [
      "\r",
      "Feature Extraction:  57%|█████▊    | 92/160 [00:44<00:21,  3.11it/s]"
     ]
    },
    {
     "name": "stderr",
     "output_type": "stream",
     "text": [
      "\r",
      "Feature Extraction:  59%|█████▉    | 94/160 [00:44<00:14,  4.54it/s]"
     ]
    },
    {
     "name": "stderr",
     "output_type": "stream",
     "text": [
      "\r",
      "Feature Extraction:  59%|█████▉    | 95/160 [00:44<00:13,  4.92it/s]"
     ]
    },
    {
     "name": "stderr",
     "output_type": "stream",
     "text": [
      "\r",
      "Feature Extraction:  60%|██████    | 96/160 [00:44<00:11,  5.51it/s]"
     ]
    },
    {
     "name": "stderr",
     "output_type": "stream",
     "text": [
      "\r",
      "Feature Extraction:  61%|██████    | 97/160 [00:50<01:48,  1.72s/it]"
     ]
    },
    {
     "name": "stderr",
     "output_type": "stream",
     "text": [
      "\r",
      "Feature Extraction:  61%|██████▏   | 98/160 [00:50<01:25,  1.38s/it]"
     ]
    },
    {
     "name": "stderr",
     "output_type": "stream",
     "text": [
      "\r",
      "Feature Extraction:  62%|██████▏   | 99/160 [00:51<01:08,  1.13s/it]"
     ]
    },
    {
     "name": "stderr",
     "output_type": "stream",
     "text": [
      "\r",
      "Feature Extraction:  62%|██████▎   | 100/160 [00:51<00:56,  1.06it/s]"
     ]
    },
    {
     "name": "stderr",
     "output_type": "stream",
     "text": [
      "\r",
      "Feature Extraction:  63%|██████▎   | 101/160 [00:52<00:42,  1.40it/s]"
     ]
    },
    {
     "name": "stderr",
     "output_type": "stream",
     "text": [
      "\r",
      "Feature Extraction:  64%|██████▍   | 102/160 [00:52<00:32,  1.76it/s]"
     ]
    },
    {
     "name": "stderr",
     "output_type": "stream",
     "text": [
      "\r",
      "Feature Extraction:  64%|██████▍   | 103/160 [00:52<00:27,  2.09it/s]"
     ]
    },
    {
     "name": "stderr",
     "output_type": "stream",
     "text": [
      "\r",
      "Feature Extraction:  65%|██████▌   | 104/160 [00:52<00:23,  2.35it/s]"
     ]
    },
    {
     "name": "stderr",
     "output_type": "stream",
     "text": [
      "\r",
      "Feature Extraction:  66%|██████▌   | 105/160 [00:53<00:22,  2.42it/s]"
     ]
    },
    {
     "name": "stderr",
     "output_type": "stream",
     "text": [
      "\r",
      "Feature Extraction:  66%|██████▋   | 106/160 [00:53<00:23,  2.28it/s]"
     ]
    },
    {
     "name": "stderr",
     "output_type": "stream",
     "text": [
      "\r",
      "Feature Extraction:  67%|██████▋   | 107/160 [00:54<00:20,  2.55it/s]"
     ]
    },
    {
     "name": "stderr",
     "output_type": "stream",
     "text": [
      "\r",
      "Feature Extraction:  68%|██████▊   | 109/160 [00:54<00:13,  3.65it/s]"
     ]
    },
    {
     "name": "stderr",
     "output_type": "stream",
     "text": [
      "\r",
      "Feature Extraction:  69%|██████▉   | 110/160 [00:54<00:12,  3.95it/s]"
     ]
    },
    {
     "name": "stderr",
     "output_type": "stream",
     "text": [
      "\r",
      "Feature Extraction:  69%|██████▉   | 111/160 [00:54<00:10,  4.50it/s]"
     ]
    },
    {
     "name": "stderr",
     "output_type": "stream",
     "text": [
      "\r",
      "Feature Extraction:  70%|███████   | 112/160 [00:55<00:16,  2.96it/s]"
     ]
    },
    {
     "name": "stderr",
     "output_type": "stream",
     "text": [
      "\r",
      "Feature Extraction:  71%|███████   | 113/160 [00:55<00:13,  3.48it/s]"
     ]
    },
    {
     "name": "stderr",
     "output_type": "stream",
     "text": [
      "\r",
      "Feature Extraction:  71%|███████▏  | 114/160 [00:55<00:11,  4.05it/s]"
     ]
    },
    {
     "name": "stderr",
     "output_type": "stream",
     "text": [
      "\r",
      "Feature Extraction:  72%|███████▎  | 116/160 [00:55<00:07,  5.71it/s]"
     ]
    },
    {
     "name": "stderr",
     "output_type": "stream",
     "text": [
      "\r",
      "Feature Extraction:  73%|███████▎  | 117/160 [00:55<00:06,  6.32it/s]"
     ]
    },
    {
     "name": "stderr",
     "output_type": "stream",
     "text": [
      "\r",
      "Feature Extraction:  74%|███████▍  | 118/160 [00:56<00:06,  6.54it/s]"
     ]
    },
    {
     "name": "stderr",
     "output_type": "stream",
     "text": [
      "\r",
      "Feature Extraction:  74%|███████▍  | 119/160 [00:56<00:07,  5.44it/s]"
     ]
    },
    {
     "name": "stderr",
     "output_type": "stream",
     "text": [
      "\r",
      "Feature Extraction:  75%|███████▌  | 120/160 [00:56<00:06,  5.96it/s]"
     ]
    },
    {
     "name": "stderr",
     "output_type": "stream",
     "text": [
      "\r",
      "Feature Extraction:  76%|███████▌  | 121/160 [00:56<00:06,  5.88it/s]"
     ]
    },
    {
     "name": "stderr",
     "output_type": "stream",
     "text": [
      "\r",
      "Feature Extraction:  76%|███████▋  | 122/160 [00:56<00:06,  5.84it/s]"
     ]
    },
    {
     "name": "stderr",
     "output_type": "stream",
     "text": [
      "\r",
      "Feature Extraction:  77%|███████▋  | 123/160 [00:56<00:05,  6.49it/s]"
     ]
    },
    {
     "name": "stderr",
     "output_type": "stream",
     "text": [
      "\r",
      "Feature Extraction:  78%|███████▊  | 124/160 [00:57<00:05,  7.01it/s]"
     ]
    },
    {
     "name": "stderr",
     "output_type": "stream",
     "text": [
      "\r",
      "Feature Extraction:  78%|███████▊  | 125/160 [00:57<00:10,  3.28it/s]"
     ]
    },
    {
     "name": "stderr",
     "output_type": "stream",
     "text": [
      "\r",
      "Feature Extraction:  79%|███████▉  | 126/160 [00:58<00:11,  3.07it/s]"
     ]
    },
    {
     "name": "stderr",
     "output_type": "stream",
     "text": [
      "\r",
      "Feature Extraction:  79%|███████▉  | 127/160 [00:58<00:09,  3.56it/s]"
     ]
    },
    {
     "name": "stderr",
     "output_type": "stream",
     "text": [
      "\r",
      "Feature Extraction:  80%|████████  | 128/160 [00:58<00:07,  4.17it/s]"
     ]
    },
    {
     "name": "stderr",
     "output_type": "stream",
     "text": [
      "\r",
      "Feature Extraction:  81%|████████  | 129/160 [01:02<00:47,  1.53s/it]"
     ]
    },
    {
     "name": "stderr",
     "output_type": "stream",
     "text": [
      "\r",
      "Feature Extraction:  81%|████████▏ | 130/160 [01:03<00:38,  1.27s/it]"
     ]
    },
    {
     "name": "stderr",
     "output_type": "stream",
     "text": [
      "\r",
      "Feature Extraction:  82%|████████▏ | 131/160 [01:04<00:30,  1.05s/it]"
     ]
    },
    {
     "name": "stderr",
     "output_type": "stream",
     "text": [
      "\r",
      "Feature Extraction:  82%|████████▎ | 132/160 [01:04<00:26,  1.07it/s]"
     ]
    },
    {
     "name": "stderr",
     "output_type": "stream",
     "text": [
      "\r",
      "Feature Extraction:  83%|████████▎ | 133/160 [01:05<00:21,  1.25it/s]"
     ]
    },
    {
     "name": "stderr",
     "output_type": "stream",
     "text": [
      "\r",
      "Feature Extraction:  84%|████████▍ | 135/160 [01:05<00:12,  1.94it/s]"
     ]
    },
    {
     "name": "stderr",
     "output_type": "stream",
     "text": [
      "\r",
      "Feature Extraction:  85%|████████▌ | 136/160 [01:06<00:12,  1.99it/s]"
     ]
    },
    {
     "name": "stderr",
     "output_type": "stream",
     "text": [
      "\r",
      "Feature Extraction:  86%|████████▋ | 138/160 [01:06<00:07,  3.11it/s]"
     ]
    },
    {
     "name": "stderr",
     "output_type": "stream",
     "text": [
      "\r",
      "Feature Extraction:  87%|████████▋ | 139/160 [01:06<00:06,  3.07it/s]"
     ]
    },
    {
     "name": "stderr",
     "output_type": "stream",
     "text": [
      "\r",
      "Feature Extraction:  88%|████████▊ | 141/160 [01:06<00:04,  4.48it/s]"
     ]
    },
    {
     "name": "stderr",
     "output_type": "stream",
     "text": [
      "\r",
      "Feature Extraction:  89%|████████▉ | 142/160 [01:06<00:03,  4.97it/s]"
     ]
    },
    {
     "name": "stderr",
     "output_type": "stream",
     "text": [
      "\r",
      "Feature Extraction:  89%|████████▉ | 143/160 [01:07<00:03,  4.94it/s]"
     ]
    },
    {
     "name": "stderr",
     "output_type": "stream",
     "text": [
      "\r",
      "Feature Extraction:  90%|█████████ | 144/160 [01:07<00:03,  4.73it/s]"
     ]
    },
    {
     "name": "stderr",
     "output_type": "stream",
     "text": [
      "\r",
      "Feature Extraction:  91%|█████████▏| 146/160 [01:07<00:02,  6.41it/s]"
     ]
    },
    {
     "name": "stderr",
     "output_type": "stream",
     "text": [
      "\r",
      "Feature Extraction:  92%|█████████▎| 148/160 [01:07<00:01,  7.07it/s]"
     ]
    },
    {
     "name": "stderr",
     "output_type": "stream",
     "text": [
      "\r",
      "Feature Extraction:  93%|█████████▎| 149/160 [01:07<00:01,  6.00it/s]"
     ]
    },
    {
     "name": "stderr",
     "output_type": "stream",
     "text": [
      "\r",
      "Feature Extraction:  94%|█████████▍| 151/160 [01:08<00:01,  7.70it/s]"
     ]
    },
    {
     "name": "stderr",
     "output_type": "stream",
     "text": [
      "\r",
      "Feature Extraction:  95%|█████████▌| 152/160 [01:08<00:01,  5.64it/s]"
     ]
    },
    {
     "name": "stderr",
     "output_type": "stream",
     "text": [
      "\r",
      "Feature Extraction:  96%|█████████▋| 154/160 [01:08<00:00,  7.73it/s]"
     ]
    },
    {
     "name": "stderr",
     "output_type": "stream",
     "text": [
      "\r",
      "Feature Extraction:  98%|█████████▊| 156/160 [01:08<00:00,  8.07it/s]"
     ]
    },
    {
     "name": "stderr",
     "output_type": "stream",
     "text": [
      "\r",
      "Feature Extraction:  99%|█████████▉| 158/160 [01:09<00:00,  7.07it/s]"
     ]
    },
    {
     "name": "stderr",
     "output_type": "stream",
     "text": [
      "\r",
      "Feature Extraction:  99%|█████████▉| 159/160 [01:09<00:00,  6.08it/s]"
     ]
    },
    {
     "name": "stderr",
     "output_type": "stream",
     "text": [
      "\r",
      "Feature Extraction: 100%|██████████| 160/160 [01:09<00:00,  2.30it/s]"
     ]
    },
    {
     "name": "stderr",
     "output_type": "stream",
     "text": [
      "\n"
     ]
    },
    {
     "name": "stdout",
     "output_type": "stream",
     "text": [
      "let the ml starts\n"
     ]
    },
    {
     "name": "stdout",
     "output_type": "stream",
     "text": [
      "LogReg\n",
      "              precision    recall  f1-score   support\n",
      "\n",
      "   malignant       0.95      0.96      0.95      5877\n",
      "      benign       0.96      0.95      0.95      5955\n",
      "\n",
      "    accuracy                           0.95     11832\n",
      "   macro avg       0.95      0.95      0.95     11832\n",
      "weighted avg       0.95      0.95      0.95     11832\n",
      "\n",
      "   fit_time  score_time  test_accuracy  test_precision_weighted  \\\n",
      "0  7.212897    0.017187       0.946056                 0.946059   \n",
      "1  7.281458    0.012022       0.954923                 0.954924   \n",
      "2  7.447953    0.016882       0.951542                 0.951545   \n",
      "3  7.555001    0.020470       0.948443                 0.948448   \n",
      "4  6.942353    0.021319       0.948725                 0.948739   \n",
      "\n",
      "   test_recall_weighted  test_f1_weighted  test_roc_auc   model  \n",
      "0              0.946056          0.946057      0.982989  LogReg  \n",
      "1              0.954923          0.954923      0.986753  LogReg  \n",
      "2              0.951542          0.951541      0.981815  LogReg  \n",
      "3              0.948443          0.948443      0.982981  LogReg  \n",
      "4              0.948725          0.948727      0.982533  LogReg  \n"
     ]
    },
    {
     "name": "stdout",
     "output_type": "stream",
     "text": [
      "KNN\n",
      "              precision    recall  f1-score   support\n",
      "\n",
      "   malignant       0.95      0.95      0.95      5877\n",
      "      benign       0.95      0.95      0.95      5955\n",
      "\n",
      "    accuracy                           0.95     11832\n",
      "   macro avg       0.95      0.95      0.95     11832\n",
      "weighted avg       0.95      0.95      0.95     11832\n",
      "\n",
      "   fit_time  score_time  test_accuracy  test_precision_weighted  \\\n",
      "0  7.212897    0.017187       0.946056                 0.946059   \n",
      "1  7.281458    0.012022       0.954923                 0.954924   \n",
      "2  7.447953    0.016882       0.951542                 0.951545   \n",
      "3  7.555001    0.020470       0.948443                 0.948448   \n",
      "4  6.942353    0.021319       0.948725                 0.948739   \n",
      "5  0.018703    0.576225       0.940282                 0.940332   \n",
      "6  0.017654    0.518124       0.942386                 0.942389   \n",
      "7  0.017753    0.513762       0.943513                 0.943561   \n",
      "8  0.017653    0.517644       0.938301                 0.938303   \n",
      "9  0.017663    0.517432       0.943372                 0.943377   \n",
      "\n",
      "   test_recall_weighted  test_f1_weighted  test_roc_auc   model  \n",
      "0              0.946056          0.946057      0.982989  LogReg  \n",
      "1              0.954923          0.954923      0.986753  LogReg  \n",
      "2              0.951542          0.951541      0.981815  LogReg  \n",
      "3              0.948443          0.948443      0.982981  LogReg  \n",
      "4              0.948725          0.948727      0.982533  LogReg  \n",
      "5              0.940282          0.940288      0.974076     KNN  \n",
      "6              0.942386          0.942387      0.974844     KNN  \n",
      "7              0.943513          0.943517      0.977862     KNN  \n",
      "8              0.938301          0.938301      0.974866     KNN  \n",
      "9              0.943372          0.943374      0.975882     KNN  \n"
     ]
    },
    {
     "name": "stdout",
     "output_type": "stream",
     "text": [
      "SVM\n",
      "              precision    recall  f1-score   support\n",
      "\n",
      "   malignant       0.95      0.95      0.95      5877\n",
      "      benign       0.95      0.95      0.95      5955\n",
      "\n",
      "    accuracy                           0.95     11832\n",
      "   macro avg       0.95      0.95      0.95     11832\n",
      "weighted avg       0.95      0.95      0.95     11832\n",
      "\n",
      "     fit_time  score_time  test_accuracy  test_precision_weighted  \\\n",
      "0    7.212897    0.017187       0.946056                 0.946059   \n",
      "1    7.281458    0.012022       0.954923                 0.954924   \n",
      "2    7.447953    0.016882       0.951542                 0.951545   \n",
      "3    7.555001    0.020470       0.948443                 0.948448   \n",
      "4    6.942353    0.021319       0.948725                 0.948739   \n",
      "5    0.018703    0.576225       0.940282                 0.940332   \n",
      "6    0.017654    0.518124       0.942386                 0.942389   \n",
      "7    0.017753    0.513762       0.943513                 0.943561   \n",
      "8    0.017653    0.517644       0.938301                 0.938303   \n",
      "9    0.017663    0.517432       0.943372                 0.943377   \n",
      "10  33.554622    9.099770       0.946197                 0.946422   \n",
      "11  33.654250    9.261043       0.949993                 0.950052   \n",
      "12  31.655884    9.382291       0.951965                 0.952104   \n",
      "13  30.970218    9.060568       0.946471                 0.946592   \n",
      "14  31.599303    9.108094       0.951402                 0.951502   \n",
      "\n",
      "    test_recall_weighted  test_f1_weighted  test_roc_auc   model  \n",
      "0               0.946056          0.946057      0.982989  LogReg  \n",
      "1               0.954923          0.954923      0.986753  LogReg  \n",
      "2               0.951542          0.951541      0.981815  LogReg  \n",
      "3               0.948443          0.948443      0.982981  LogReg  \n",
      "4               0.948725          0.948727      0.982533  LogReg  \n",
      "5               0.940282          0.940288      0.974076     KNN  \n",
      "6               0.942386          0.942387      0.974844     KNN  \n",
      "7               0.943513          0.943517      0.977862     KNN  \n",
      "8               0.938301          0.938301      0.974866     KNN  \n",
      "9               0.943372          0.943374      0.975882     KNN  \n",
      "10              0.946197          0.946207      0.974571     SVM  \n",
      "11              0.949993          0.949994      0.974927     SVM  \n",
      "12              0.951965          0.951969      0.976608     SVM  \n",
      "13              0.946471          0.946468      0.975403     SVM  \n",
      "14              0.951402          0.951407      0.976543     SVM  \n"
     ]
    },
    {
     "name": "stdout",
     "output_type": "stream",
     "text": [
      "GNB\n",
      "              precision    recall  f1-score   support\n",
      "\n",
      "   malignant       0.90      1.00      0.95      5877\n",
      "      benign       1.00      0.89      0.94      5955\n",
      "\n",
      "    accuracy                           0.95     11832\n",
      "   macro avg       0.95      0.95      0.95     11832\n",
      "weighted avg       0.95      0.95      0.95     11832\n",
      "\n",
      "     fit_time  score_time  test_accuracy  test_precision_weighted  \\\n",
      "0    7.212897    0.017187       0.946056                 0.946059   \n",
      "1    7.281458    0.012022       0.954923                 0.954924   \n",
      "2    7.447953    0.016882       0.951542                 0.951545   \n",
      "3    7.555001    0.020470       0.948443                 0.948448   \n",
      "4    6.942353    0.021319       0.948725                 0.948739   \n",
      "5    0.018703    0.576225       0.940282                 0.940332   \n",
      "6    0.017654    0.518124       0.942386                 0.942389   \n",
      "7    0.017753    0.513762       0.943513                 0.943561   \n",
      "8    0.017653    0.517644       0.938301                 0.938303   \n",
      "9    0.017663    0.517432       0.943372                 0.943377   \n",
      "10  33.554622    9.099770       0.946197                 0.946422   \n",
      "11  33.654250    9.261043       0.949993                 0.950052   \n",
      "12  31.655884    9.382291       0.951965                 0.952104   \n",
      "13  30.970218    9.060568       0.946471                 0.946592   \n",
      "14  31.599303    9.108094       0.951402                 0.951502   \n",
      "15   0.061367    0.029159       0.950282                 0.954667   \n",
      "16   0.061034    0.028872       0.940978                 0.947166   \n",
      "17   0.061647    0.028876       0.950556                 0.954883   \n",
      "18   0.061019    0.028868       0.940696                 0.946975   \n",
      "19   0.061045    0.029017       0.948021                 0.952820   \n",
      "\n",
      "    test_recall_weighted  test_f1_weighted  test_roc_auc   model  \n",
      "0               0.946056          0.946057      0.982989  LogReg  \n",
      "1               0.954923          0.954923      0.986753  LogReg  \n",
      "2               0.951542          0.951541      0.981815  LogReg  \n",
      "3               0.948443          0.948443      0.982981  LogReg  \n",
      "4               0.948725          0.948727      0.982533  LogReg  \n",
      "5               0.940282          0.940288      0.974076     KNN  \n",
      "6               0.942386          0.942387      0.974844     KNN  \n",
      "7               0.943513          0.943517      0.977862     KNN  \n",
      "8               0.938301          0.938301      0.974866     KNN  \n",
      "9               0.943372          0.943374      0.975882     KNN  \n",
      "10              0.946197          0.946207      0.974571     SVM  \n",
      "11              0.949993          0.949994      0.974927     SVM  \n",
      "12              0.951965          0.951969      0.976608     SVM  \n",
      "13              0.946471          0.946468      0.975403     SVM  \n",
      "14              0.951402          0.951407      0.976543     SVM  \n",
      "15              0.950282          0.950089      0.999710     GNB  \n",
      "16              0.940978          0.940744      1.000000     GNB  \n",
      "17              0.950556          0.950392      0.999847     GNB  \n",
      "18              0.940696          0.940481      1.000000     GNB  \n",
      "19              0.948021          0.947820      0.999568     GNB  \n",
      "495.7615772606805\n"
     ]
    }
   ],
   "source": [
    " #2) Desktop\n",
    "df_malicious = pd.concat([df35])\n",
    "df_benign = pd.concat([df10,df9,df22])\n",
    "\n",
    "\n",
    "print(\"malicious: {}\".format(len(df_malicious)))\n",
    "print(\"benign: {}\".format(len(df_benign)))\n",
    "\n",
    "print(\"{} NAN in malicious!\".format(len(df_malicious[df_malicious.isna().any(axis=1)])))\n",
    "print(\"{} NAN in benign!\".format(len(df_benign[df_benign.isna().any(axis=1)])))\n",
    "\n",
    "df_malicious = df_malicious.dropna()\n",
    "df_benign = df_benign.dropna()\n",
    "\n",
    "print(\"After droppping NAN rows: \")\n",
    "print(\"malicious: {}\".format(len(df_malicious)))\n",
    "print(\"benign: {}\".format(len(df_benign)))\n",
    "\n",
    "start = timer()\n",
    "\n",
    "results_Desktop_s1 = run_process(df_malicious,df_benign,df_results)\n",
    "\n",
    "\n",
    "end = timer()\n",
    "print(end - start)\n"
   ]
  },
  {
   "cell_type": "code",
   "execution_count": 11,
   "id": "g5MahVpc3z2P",
   "metadata": {
    "execution": {
     "iopub.execute_input": "2025-08-02T07:33:16.873676Z",
     "iopub.status.busy": "2025-08-02T07:33:16.873551Z",
     "iopub.status.idle": "2025-08-02T07:35:19.348620Z",
     "shell.execute_reply": "2025-08-02T07:35:19.348036Z"
    },
    "id": "g5MahVpc3z2P",
    "outputId": "48d926ff-e828-42f0-e5a0-da40a7008ccb"
   },
   "outputs": [
    {
     "name": "stdout",
     "output_type": "stream",
     "text": [
      "malicious: 64064\n",
      "benign: 70664\n",
      "0 NAN in malicious!\n",
      "0 NAN in benign!\n",
      "After droppping NAN rows: \n",
      "malicious: 64064\n",
      "benign: 70664\n"
     ]
    },
    {
     "name": "stderr",
     "output_type": "stream",
     "text": [
      "\r",
      "Feature Extraction:   0%|          | 0/157 [00:00<?, ?it/s]"
     ]
    },
    {
     "name": "stderr",
     "output_type": "stream",
     "text": [
      "\r",
      "Feature Extraction:   1%|          | 1/157 [00:03<08:30,  3.27s/it]"
     ]
    },
    {
     "name": "stderr",
     "output_type": "stream",
     "text": [
      "\r",
      "Feature Extraction:   1%|▏         | 2/157 [00:03<03:46,  1.46s/it]"
     ]
    },
    {
     "name": "stderr",
     "output_type": "stream",
     "text": [
      "\r",
      "Feature Extraction:   2%|▏         | 3/157 [00:03<02:09,  1.19it/s]"
     ]
    },
    {
     "name": "stderr",
     "output_type": "stream",
     "text": [
      "\r",
      "Feature Extraction:   4%|▍         | 6/157 [00:03<00:47,  3.21it/s]"
     ]
    },
    {
     "name": "stderr",
     "output_type": "stream",
     "text": [
      "\r",
      "Feature Extraction:   6%|▌         | 9/157 [00:03<00:26,  5.60it/s]"
     ]
    },
    {
     "name": "stderr",
     "output_type": "stream",
     "text": [
      "\r",
      "Feature Extraction:   8%|▊         | 13/157 [00:03<00:15,  9.20it/s]"
     ]
    },
    {
     "name": "stderr",
     "output_type": "stream",
     "text": [
      "\r",
      "Feature Extraction:  11%|█         | 17/157 [00:04<00:10, 13.10it/s]"
     ]
    },
    {
     "name": "stderr",
     "output_type": "stream",
     "text": [
      "\r",
      "Feature Extraction:  13%|█▎        | 21/157 [00:04<00:08, 16.55it/s]"
     ]
    },
    {
     "name": "stderr",
     "output_type": "stream",
     "text": [
      "\r",
      "Feature Extraction:  15%|█▌        | 24/157 [00:04<00:07, 18.60it/s]"
     ]
    },
    {
     "name": "stderr",
     "output_type": "stream",
     "text": [
      "\r",
      "Feature Extraction:  17%|█▋        | 27/157 [00:04<00:06, 19.74it/s]"
     ]
    },
    {
     "name": "stderr",
     "output_type": "stream",
     "text": [
      "\r",
      "Feature Extraction:  20%|█▉        | 31/157 [00:04<00:05, 23.57it/s]"
     ]
    },
    {
     "name": "stderr",
     "output_type": "stream",
     "text": [
      "\r",
      "Feature Extraction:  22%|██▏       | 34/157 [00:06<00:26,  4.57it/s]"
     ]
    },
    {
     "name": "stderr",
     "output_type": "stream",
     "text": [
      "\r",
      "Feature Extraction:  24%|██▎       | 37/157 [00:07<00:24,  4.90it/s]"
     ]
    },
    {
     "name": "stderr",
     "output_type": "stream",
     "text": [
      "\r",
      "Feature Extraction:  25%|██▌       | 40/157 [00:07<00:18,  6.20it/s]"
     ]
    },
    {
     "name": "stderr",
     "output_type": "stream",
     "text": [
      "\r",
      "Feature Extraction:  27%|██▋       | 42/157 [00:07<00:16,  7.18it/s]"
     ]
    },
    {
     "name": "stderr",
     "output_type": "stream",
     "text": [
      "\r",
      "Feature Extraction:  29%|██▊       | 45/157 [00:07<00:11,  9.43it/s]"
     ]
    },
    {
     "name": "stderr",
     "output_type": "stream",
     "text": [
      "\r",
      "Feature Extraction:  31%|███       | 49/157 [00:07<00:08, 12.31it/s]"
     ]
    },
    {
     "name": "stderr",
     "output_type": "stream",
     "text": [
      "\r",
      "Feature Extraction:  33%|███▎      | 52/157 [00:07<00:07, 14.06it/s]"
     ]
    },
    {
     "name": "stderr",
     "output_type": "stream",
     "text": [
      "\r",
      "Feature Extraction:  36%|███▌      | 56/157 [00:07<00:05, 17.98it/s]"
     ]
    },
    {
     "name": "stderr",
     "output_type": "stream",
     "text": [
      "\r",
      "Feature Extraction:  38%|███▊      | 59/157 [00:08<00:05, 16.96it/s]"
     ]
    },
    {
     "name": "stderr",
     "output_type": "stream",
     "text": [
      "\r",
      "Feature Extraction:  39%|███▉      | 62/157 [00:08<00:07, 13.37it/s]"
     ]
    },
    {
     "name": "stderr",
     "output_type": "stream",
     "text": [
      "\r",
      "Feature Extraction:  41%|████▏     | 65/157 [00:09<00:18,  5.03it/s]"
     ]
    },
    {
     "name": "stderr",
     "output_type": "stream",
     "text": [
      "\r",
      "Feature Extraction:  43%|████▎     | 67/157 [00:10<00:19,  4.63it/s]"
     ]
    },
    {
     "name": "stderr",
     "output_type": "stream",
     "text": [
      "\r",
      "Feature Extraction:  44%|████▍     | 69/157 [00:10<00:15,  5.55it/s]"
     ]
    },
    {
     "name": "stderr",
     "output_type": "stream",
     "text": [
      "\r",
      "Feature Extraction:  46%|████▌     | 72/157 [00:10<00:11,  7.43it/s]"
     ]
    },
    {
     "name": "stderr",
     "output_type": "stream",
     "text": [
      "\r",
      "Feature Extraction:  47%|████▋     | 74/157 [00:10<00:09,  8.72it/s]"
     ]
    },
    {
     "name": "stderr",
     "output_type": "stream",
     "text": [
      "\r",
      "Feature Extraction:  48%|████▊     | 76/157 [00:11<00:08,  9.36it/s]"
     ]
    },
    {
     "name": "stderr",
     "output_type": "stream",
     "text": [
      "\r",
      "Feature Extraction:  50%|█████     | 79/157 [00:11<00:06, 12.02it/s]"
     ]
    },
    {
     "name": "stderr",
     "output_type": "stream",
     "text": [
      "\r",
      "Feature Extraction:  52%|█████▏    | 81/157 [00:11<00:05, 13.07it/s]"
     ]
    },
    {
     "name": "stderr",
     "output_type": "stream",
     "text": [
      "\r",
      "Feature Extraction:  54%|█████▎    | 84/157 [00:11<00:05, 14.37it/s]"
     ]
    },
    {
     "name": "stderr",
     "output_type": "stream",
     "text": [
      "\r",
      "Feature Extraction:  55%|█████▍    | 86/157 [00:11<00:04, 15.23it/s]"
     ]
    },
    {
     "name": "stderr",
     "output_type": "stream",
     "text": [
      "\r",
      "Feature Extraction:  57%|█████▋    | 89/157 [00:11<00:04, 15.36it/s]"
     ]
    },
    {
     "name": "stderr",
     "output_type": "stream",
     "text": [
      "\r",
      "Feature Extraction:  59%|█████▊    | 92/157 [00:11<00:03, 17.39it/s]"
     ]
    },
    {
     "name": "stderr",
     "output_type": "stream",
     "text": [
      "\r",
      "Feature Extraction:  60%|█████▉    | 94/157 [00:12<00:03, 16.47it/s]"
     ]
    },
    {
     "name": "stderr",
     "output_type": "stream",
     "text": [
      "\r",
      "Feature Extraction:  61%|██████    | 96/157 [00:12<00:03, 16.23it/s]"
     ]
    },
    {
     "name": "stderr",
     "output_type": "stream",
     "text": [
      "\r",
      "Feature Extraction:  62%|██████▏   | 98/157 [00:13<00:15,  3.69it/s]"
     ]
    },
    {
     "name": "stderr",
     "output_type": "stream",
     "text": [
      "\r",
      "Feature Extraction:  64%|██████▎   | 100/157 [00:14<00:14,  4.04it/s]"
     ]
    },
    {
     "name": "stderr",
     "output_type": "stream",
     "text": [
      "\r",
      "Feature Extraction:  65%|██████▍   | 102/157 [00:14<00:10,  5.05it/s]"
     ]
    },
    {
     "name": "stderr",
     "output_type": "stream",
     "text": [
      "\r",
      "Feature Extraction:  66%|██████▌   | 104/157 [00:14<00:08,  6.17it/s]"
     ]
    },
    {
     "name": "stderr",
     "output_type": "stream",
     "text": [
      "\r",
      "Feature Extraction:  68%|██████▊   | 106/157 [00:14<00:06,  7.41it/s]"
     ]
    },
    {
     "name": "stderr",
     "output_type": "stream",
     "text": [
      "\r",
      "Feature Extraction:  69%|██████▉   | 108/157 [00:14<00:05,  8.90it/s]"
     ]
    },
    {
     "name": "stderr",
     "output_type": "stream",
     "text": [
      "\r",
      "Feature Extraction:  70%|███████   | 110/157 [00:14<00:04, 10.34it/s]"
     ]
    },
    {
     "name": "stderr",
     "output_type": "stream",
     "text": [
      "\r",
      "Feature Extraction:  72%|███████▏  | 113/157 [00:15<00:03, 12.29it/s]"
     ]
    },
    {
     "name": "stderr",
     "output_type": "stream",
     "text": [
      "\r",
      "Feature Extraction:  73%|███████▎  | 115/157 [00:15<00:03, 13.36it/s]"
     ]
    },
    {
     "name": "stderr",
     "output_type": "stream",
     "text": [
      "\r",
      "Feature Extraction:  75%|███████▍  | 117/157 [00:15<00:02, 14.09it/s]"
     ]
    },
    {
     "name": "stderr",
     "output_type": "stream",
     "text": [
      "\r",
      "Feature Extraction:  76%|███████▌  | 119/157 [00:15<00:02, 14.10it/s]"
     ]
    },
    {
     "name": "stderr",
     "output_type": "stream",
     "text": [
      "\r",
      "Feature Extraction:  77%|███████▋  | 121/157 [00:15<00:02, 13.41it/s]"
     ]
    },
    {
     "name": "stderr",
     "output_type": "stream",
     "text": [
      "\r",
      "Feature Extraction:  78%|███████▊  | 123/157 [00:15<00:03,  9.78it/s]"
     ]
    },
    {
     "name": "stderr",
     "output_type": "stream",
     "text": [
      "\r",
      "Feature Extraction:  81%|████████  | 127/157 [00:16<00:02, 14.57it/s]"
     ]
    },
    {
     "name": "stderr",
     "output_type": "stream",
     "text": [
      "\r",
      "Feature Extraction:  82%|████████▏ | 129/157 [00:16<00:04,  6.11it/s]"
     ]
    },
    {
     "name": "stderr",
     "output_type": "stream",
     "text": [
      "\r",
      "Feature Extraction:  83%|████████▎ | 131/157 [00:17<00:04,  5.44it/s]"
     ]
    },
    {
     "name": "stderr",
     "output_type": "stream",
     "text": [
      "\r",
      "Feature Extraction:  85%|████████▍ | 133/157 [00:17<00:03,  6.00it/s]"
     ]
    },
    {
     "name": "stderr",
     "output_type": "stream",
     "text": [
      "\r",
      "Feature Extraction:  86%|████████▌ | 135/157 [00:17<00:03,  7.19it/s]"
     ]
    },
    {
     "name": "stderr",
     "output_type": "stream",
     "text": [
      "\r",
      "Feature Extraction:  87%|████████▋ | 137/157 [00:17<00:02,  8.58it/s]"
     ]
    },
    {
     "name": "stderr",
     "output_type": "stream",
     "text": [
      "\r",
      "Feature Extraction:  90%|████████▉ | 141/157 [00:18<00:01, 13.23it/s]"
     ]
    },
    {
     "name": "stderr",
     "output_type": "stream",
     "text": [
      "\r",
      "Feature Extraction:  92%|█████████▏| 144/157 [00:18<00:00, 15.23it/s]"
     ]
    },
    {
     "name": "stderr",
     "output_type": "stream",
     "text": [
      "\r",
      "Feature Extraction:  94%|█████████▎| 147/157 [00:18<00:00, 17.09it/s]"
     ]
    },
    {
     "name": "stderr",
     "output_type": "stream",
     "text": [
      "\r",
      "Feature Extraction:  96%|█████████▌| 151/157 [00:18<00:00, 21.07it/s]"
     ]
    },
    {
     "name": "stderr",
     "output_type": "stream",
     "text": [
      "\r",
      "Feature Extraction:  99%|█████████▉| 156/157 [00:18<00:00, 22.53it/s]"
     ]
    },
    {
     "name": "stderr",
     "output_type": "stream",
     "text": [
      "\r",
      "Feature Extraction: 100%|██████████| 157/157 [00:18<00:00,  8.38it/s]"
     ]
    },
    {
     "name": "stderr",
     "output_type": "stream",
     "text": [
      "\n"
     ]
    },
    {
     "name": "stderr",
     "output_type": "stream",
     "text": [
      "\r",
      "Feature Extraction:   0%|          | 0/158 [00:00<?, ?it/s]"
     ]
    },
    {
     "name": "stderr",
     "output_type": "stream",
     "text": [
      "\r",
      "Feature Extraction:   1%|          | 1/158 [00:03<09:55,  3.79s/it]"
     ]
    },
    {
     "name": "stderr",
     "output_type": "stream",
     "text": [
      "\r",
      "Feature Extraction:   2%|▏         | 3/158 [00:03<02:40,  1.04s/it]"
     ]
    },
    {
     "name": "stderr",
     "output_type": "stream",
     "text": [
      "\r",
      "Feature Extraction:   4%|▍         | 6/158 [00:04<01:05,  2.31it/s]"
     ]
    },
    {
     "name": "stderr",
     "output_type": "stream",
     "text": [
      "\r",
      "Feature Extraction:   5%|▌         | 8/158 [00:04<00:43,  3.42it/s]"
     ]
    },
    {
     "name": "stderr",
     "output_type": "stream",
     "text": [
      "\r",
      "Feature Extraction:   7%|▋         | 11/158 [00:04<00:26,  5.54it/s]"
     ]
    },
    {
     "name": "stderr",
     "output_type": "stream",
     "text": [
      "\r",
      "Feature Extraction:   9%|▉         | 15/158 [00:04<00:16,  8.90it/s]"
     ]
    },
    {
     "name": "stderr",
     "output_type": "stream",
     "text": [
      "\r",
      "Feature Extraction:  12%|█▏        | 19/158 [00:04<00:11, 12.38it/s]"
     ]
    },
    {
     "name": "stderr",
     "output_type": "stream",
     "text": [
      "\r",
      "Feature Extraction:  14%|█▍        | 22/158 [00:04<00:09, 14.68it/s]"
     ]
    },
    {
     "name": "stderr",
     "output_type": "stream",
     "text": [
      "\r",
      "Feature Extraction:  16%|█▌        | 25/158 [00:05<00:10, 12.59it/s]"
     ]
    },
    {
     "name": "stderr",
     "output_type": "stream",
     "text": [
      "\r",
      "Feature Extraction:  18%|█▊        | 28/158 [00:05<00:08, 14.91it/s]"
     ]
    },
    {
     "name": "stderr",
     "output_type": "stream",
     "text": [
      "\r",
      "Feature Extraction:  20%|█▉        | 31/158 [00:05<00:07, 15.93it/s]"
     ]
    },
    {
     "name": "stderr",
     "output_type": "stream",
     "text": [
      "\r",
      "Feature Extraction:  22%|██▏       | 34/158 [00:07<00:31,  3.91it/s]"
     ]
    },
    {
     "name": "stderr",
     "output_type": "stream",
     "text": [
      "\r",
      "Feature Extraction:  23%|██▎       | 36/158 [00:07<00:26,  4.67it/s]"
     ]
    },
    {
     "name": "stderr",
     "output_type": "stream",
     "text": [
      "\r",
      "Feature Extraction:  24%|██▍       | 38/158 [00:07<00:21,  5.59it/s]"
     ]
    },
    {
     "name": "stderr",
     "output_type": "stream",
     "text": [
      "\r",
      "Feature Extraction:  25%|██▌       | 40/158 [00:07<00:19,  5.95it/s]"
     ]
    },
    {
     "name": "stderr",
     "output_type": "stream",
     "text": [
      "\r",
      "Feature Extraction:  27%|██▋       | 42/158 [00:08<00:16,  7.14it/s]"
     ]
    },
    {
     "name": "stderr",
     "output_type": "stream",
     "text": [
      "\r",
      "Feature Extraction:  28%|██▊       | 44/158 [00:08<00:13,  8.34it/s]"
     ]
    },
    {
     "name": "stderr",
     "output_type": "stream",
     "text": [
      "\r",
      "Feature Extraction:  29%|██▉       | 46/158 [00:08<00:12,  9.30it/s]"
     ]
    },
    {
     "name": "stderr",
     "output_type": "stream",
     "text": [
      "\r",
      "Feature Extraction:  30%|███       | 48/158 [00:08<00:10, 10.89it/s]"
     ]
    },
    {
     "name": "stderr",
     "output_type": "stream",
     "text": [
      "\r",
      "Feature Extraction:  32%|███▏      | 50/158 [00:08<00:08, 12.31it/s]"
     ]
    },
    {
     "name": "stderr",
     "output_type": "stream",
     "text": [
      "\r",
      "Feature Extraction:  34%|███▍      | 54/158 [00:08<00:06, 16.95it/s]"
     ]
    },
    {
     "name": "stderr",
     "output_type": "stream",
     "text": [
      "\r",
      "Feature Extraction:  36%|███▌      | 57/158 [00:08<00:06, 16.68it/s]"
     ]
    },
    {
     "name": "stderr",
     "output_type": "stream",
     "text": [
      "\r",
      "Feature Extraction:  37%|███▋      | 59/158 [00:09<00:06, 16.41it/s]"
     ]
    },
    {
     "name": "stderr",
     "output_type": "stream",
     "text": [
      "\r",
      "Feature Extraction:  39%|███▊      | 61/158 [00:09<00:06, 15.58it/s]"
     ]
    },
    {
     "name": "stderr",
     "output_type": "stream",
     "text": [
      "\r",
      "Feature Extraction:  41%|████      | 64/158 [00:09<00:05, 16.24it/s]"
     ]
    },
    {
     "name": "stderr",
     "output_type": "stream",
     "text": [
      "\r",
      "Feature Extraction:  42%|████▏     | 66/158 [00:11<00:25,  3.60it/s]"
     ]
    },
    {
     "name": "stderr",
     "output_type": "stream",
     "text": [
      "\r",
      "Feature Extraction:  43%|████▎     | 68/158 [00:11<00:21,  4.24it/s]"
     ]
    },
    {
     "name": "stderr",
     "output_type": "stream",
     "text": [
      "\r",
      "Feature Extraction:  44%|████▍     | 70/158 [00:11<00:17,  5.13it/s]"
     ]
    },
    {
     "name": "stderr",
     "output_type": "stream",
     "text": [
      "\r",
      "Feature Extraction:  46%|████▌     | 72/158 [00:11<00:15,  5.51it/s]"
     ]
    },
    {
     "name": "stderr",
     "output_type": "stream",
     "text": [
      "\r",
      "Feature Extraction:  47%|████▋     | 74/158 [00:12<00:12,  6.71it/s]"
     ]
    },
    {
     "name": "stderr",
     "output_type": "stream",
     "text": [
      "\r",
      "Feature Extraction:  48%|████▊     | 76/158 [00:12<00:10,  7.75it/s]"
     ]
    },
    {
     "name": "stderr",
     "output_type": "stream",
     "text": [
      "\r",
      "Feature Extraction:  49%|████▉     | 78/158 [00:12<00:08,  9.18it/s]"
     ]
    },
    {
     "name": "stderr",
     "output_type": "stream",
     "text": [
      "\r",
      "Feature Extraction:  51%|█████     | 80/158 [00:12<00:10,  7.69it/s]"
     ]
    },
    {
     "name": "stderr",
     "output_type": "stream",
     "text": [
      "\r",
      "Feature Extraction:  53%|█████▎    | 83/158 [00:12<00:07, 10.65it/s]"
     ]
    },
    {
     "name": "stderr",
     "output_type": "stream",
     "text": [
      "\r",
      "Feature Extraction:  54%|█████▍    | 86/158 [00:12<00:05, 12.63it/s]"
     ]
    },
    {
     "name": "stderr",
     "output_type": "stream",
     "text": [
      "\r",
      "Feature Extraction:  56%|█████▌    | 88/158 [00:13<00:05, 13.19it/s]"
     ]
    },
    {
     "name": "stderr",
     "output_type": "stream",
     "text": [
      "\r",
      "Feature Extraction:  57%|█████▋    | 90/158 [00:13<00:04, 14.06it/s]"
     ]
    },
    {
     "name": "stderr",
     "output_type": "stream",
     "text": [
      "\r",
      "Feature Extraction:  58%|█████▊    | 92/158 [00:13<00:04, 14.94it/s]"
     ]
    },
    {
     "name": "stderr",
     "output_type": "stream",
     "text": [
      "\r",
      "Feature Extraction:  59%|█████▉    | 94/158 [00:13<00:04, 15.95it/s]"
     ]
    },
    {
     "name": "stderr",
     "output_type": "stream",
     "text": [
      "\r",
      "Feature Extraction:  61%|██████    | 96/158 [00:13<00:04, 14.24it/s]"
     ]
    },
    {
     "name": "stderr",
     "output_type": "stream",
     "text": [
      "\r",
      "Feature Extraction:  62%|██████▏   | 98/158 [00:15<00:16,  3.65it/s]"
     ]
    },
    {
     "name": "stderr",
     "output_type": "stream",
     "text": [
      "\r",
      "Feature Extraction:  63%|██████▎   | 100/158 [00:15<00:12,  4.69it/s]"
     ]
    },
    {
     "name": "stderr",
     "output_type": "stream",
     "text": [
      "\r",
      "Feature Extraction:  65%|██████▍   | 102/158 [00:15<00:10,  5.31it/s]"
     ]
    },
    {
     "name": "stderr",
     "output_type": "stream",
     "text": [
      "\r",
      "Feature Extraction:  66%|██████▌   | 104/158 [00:15<00:09,  5.89it/s]"
     ]
    },
    {
     "name": "stderr",
     "output_type": "stream",
     "text": [
      "\r",
      "Feature Extraction:  67%|██████▋   | 106/158 [00:15<00:07,  7.09it/s]"
     ]
    },
    {
     "name": "stderr",
     "output_type": "stream",
     "text": [
      "\r",
      "Feature Extraction:  68%|██████▊   | 108/158 [00:16<00:05,  8.36it/s]"
     ]
    },
    {
     "name": "stderr",
     "output_type": "stream",
     "text": [
      "\r",
      "Feature Extraction:  70%|██████▉   | 110/158 [00:16<00:05,  9.40it/s]"
     ]
    },
    {
     "name": "stderr",
     "output_type": "stream",
     "text": [
      "\r",
      "Feature Extraction:  71%|███████   | 112/158 [00:16<00:04, 10.83it/s]"
     ]
    },
    {
     "name": "stderr",
     "output_type": "stream",
     "text": [
      "\r",
      "Feature Extraction:  72%|███████▏  | 114/158 [00:16<00:05,  8.49it/s]"
     ]
    },
    {
     "name": "stderr",
     "output_type": "stream",
     "text": [
      "\r",
      "Feature Extraction:  73%|███████▎  | 116/158 [00:16<00:04,  9.49it/s]"
     ]
    },
    {
     "name": "stderr",
     "output_type": "stream",
     "text": [
      "\r",
      "Feature Extraction:  75%|███████▌  | 119/158 [00:16<00:03, 12.28it/s]"
     ]
    },
    {
     "name": "stderr",
     "output_type": "stream",
     "text": [
      "\r",
      "Feature Extraction:  77%|███████▋  | 121/158 [00:17<00:03, 11.75it/s]"
     ]
    },
    {
     "name": "stderr",
     "output_type": "stream",
     "text": [
      "\r",
      "Feature Extraction:  78%|███████▊  | 123/158 [00:17<00:02, 12.28it/s]"
     ]
    },
    {
     "name": "stderr",
     "output_type": "stream",
     "text": [
      "\r",
      "Feature Extraction:  79%|███████▉  | 125/158 [00:17<00:02, 12.93it/s]"
     ]
    },
    {
     "name": "stderr",
     "output_type": "stream",
     "text": [
      "\r",
      "Feature Extraction:  82%|████████▏ | 129/158 [00:17<00:01, 16.02it/s]"
     ]
    },
    {
     "name": "stderr",
     "output_type": "stream",
     "text": [
      "\r",
      "Feature Extraction:  83%|████████▎ | 131/158 [00:18<00:04,  5.65it/s]"
     ]
    },
    {
     "name": "stderr",
     "output_type": "stream",
     "text": [
      "\r",
      "Feature Extraction:  84%|████████▍ | 133/158 [00:19<00:04,  5.40it/s]"
     ]
    },
    {
     "name": "stderr",
     "output_type": "stream",
     "text": [
      "\r",
      "Feature Extraction:  85%|████████▌ | 135/158 [00:19<00:03,  6.65it/s]"
     ]
    },
    {
     "name": "stderr",
     "output_type": "stream",
     "text": [
      "\r",
      "Feature Extraction:  87%|████████▋ | 137/158 [00:19<00:02,  7.17it/s]"
     ]
    },
    {
     "name": "stderr",
     "output_type": "stream",
     "text": [
      "\r",
      "Feature Extraction:  88%|████████▊ | 139/158 [00:19<00:02,  8.17it/s]"
     ]
    },
    {
     "name": "stderr",
     "output_type": "stream",
     "text": [
      "\r",
      "Feature Extraction:  91%|█████████ | 143/158 [00:19<00:01, 11.65it/s]"
     ]
    },
    {
     "name": "stderr",
     "output_type": "stream",
     "text": [
      "\r",
      "Feature Extraction:  92%|█████████▏| 145/158 [00:19<00:01, 11.93it/s]"
     ]
    },
    {
     "name": "stderr",
     "output_type": "stream",
     "text": [
      "\r",
      "Feature Extraction:  93%|█████████▎| 147/158 [00:20<00:00, 11.41it/s]"
     ]
    },
    {
     "name": "stderr",
     "output_type": "stream",
     "text": [
      "\r",
      "Feature Extraction:  96%|█████████▌| 151/158 [00:20<00:00, 16.34it/s]"
     ]
    },
    {
     "name": "stderr",
     "output_type": "stream",
     "text": [
      "\r",
      "Feature Extraction:  97%|█████████▋| 154/158 [00:20<00:00, 18.20it/s]"
     ]
    },
    {
     "name": "stderr",
     "output_type": "stream",
     "text": [
      "\r",
      "Feature Extraction: 100%|██████████| 158/158 [00:20<00:00, 19.78it/s]"
     ]
    },
    {
     "name": "stderr",
     "output_type": "stream",
     "text": [
      "\r",
      "Feature Extraction: 100%|██████████| 158/158 [00:20<00:00,  7.71it/s]"
     ]
    },
    {
     "name": "stderr",
     "output_type": "stream",
     "text": [
      "\n"
     ]
    },
    {
     "name": "stdout",
     "output_type": "stream",
     "text": [
      "let the ml starts\n"
     ]
    },
    {
     "name": "stdout",
     "output_type": "stream",
     "text": [
      "LogReg\n",
      "              precision    recall  f1-score   support\n",
      "\n",
      "   malignant       0.96      0.94      0.95      1751\n",
      "      benign       0.93      0.96      0.95      1618\n",
      "\n",
      "    accuracy                           0.95      3369\n",
      "   macro avg       0.95      0.95      0.95      3369\n",
      "weighted avg       0.95      0.95      0.95      3369\n",
      "\n",
      "   fit_time  score_time  test_accuracy  test_precision_weighted  \\\n",
      "0  7.823876    0.033336       0.948540                 0.948559   \n",
      "1  7.007955    0.023489       0.952994                 0.953120   \n",
      "2  7.347309    0.032308       0.944582                 0.944880   \n",
      "3  7.251346    0.024265       0.941613                 0.942012   \n",
      "4  7.260219    0.019470       0.944582                 0.945738   \n",
      "\n",
      "   test_recall_weighted  test_f1_weighted  test_roc_auc   model  \n",
      "0              0.948540          0.948546      0.987806  LogReg  \n",
      "1              0.952994          0.953004      0.987407  LogReg  \n",
      "2              0.944582          0.944619      0.984485  LogReg  \n",
      "3              0.941613          0.941632      0.982244  LogReg  \n",
      "4              0.944582          0.944627      0.988981  LogReg  \n"
     ]
    },
    {
     "name": "stdout",
     "output_type": "stream",
     "text": [
      "KNN\n",
      "              precision    recall  f1-score   support\n",
      "\n",
      "   malignant       0.96      0.92      0.94      1751\n",
      "      benign       0.92      0.96      0.94      1618\n",
      "\n",
      "    accuracy                           0.94      3369\n",
      "   macro avg       0.94      0.94      0.94      3369\n",
      "weighted avg       0.94      0.94      0.94      3369\n",
      "\n",
      "   fit_time  score_time  test_accuracy  test_precision_weighted  \\\n",
      "0  7.823876    0.033336       0.948540                 0.948559   \n",
      "1  7.007955    0.023489       0.952994                 0.953120   \n",
      "2  7.347309    0.032308       0.944582                 0.944880   \n",
      "3  7.251346    0.024265       0.941613                 0.942012   \n",
      "4  7.260219    0.019470       0.944582                 0.945738   \n",
      "5  0.006844    0.133018       0.943097                 0.943808   \n",
      "6  0.007188    0.060229       0.942108                 0.942852   \n",
      "7  0.007148    0.059550       0.939634                 0.940657   \n",
      "8  0.007264    0.059389       0.927759                 0.929030   \n",
      "9  0.007236    0.059524       0.934686                 0.936669   \n",
      "\n",
      "   test_recall_weighted  test_f1_weighted  test_roc_auc   model  \n",
      "0              0.948540          0.948546      0.987806  LogReg  \n",
      "1              0.952994          0.953004      0.987407  LogReg  \n",
      "2              0.944582          0.944619      0.984485  LogReg  \n",
      "3              0.941613          0.941632      0.982244  LogReg  \n",
      "4              0.944582          0.944627      0.988981  LogReg  \n",
      "5              0.943097          0.943137      0.979175     KNN  \n",
      "6              0.942108          0.942129      0.978334     KNN  \n",
      "7              0.939634          0.939700      0.973614     KNN  \n",
      "8              0.927759          0.927780      0.974035     KNN  \n",
      "9              0.934686          0.934740      0.976274     KNN  \n"
     ]
    },
    {
     "name": "stdout",
     "output_type": "stream",
     "text": [
      "SVM\n",
      "              precision    recall  f1-score   support\n",
      "\n",
      "   malignant       0.97      0.88      0.93      1751\n",
      "      benign       0.89      0.97      0.93      1618\n",
      "\n",
      "    accuracy                           0.93      3369\n",
      "   macro avg       0.93      0.93      0.93      3369\n",
      "weighted avg       0.93      0.93      0.93      3369\n",
      "\n",
      "    fit_time  score_time  test_accuracy  test_precision_weighted  \\\n",
      "0   7.823876    0.033336       0.948540                 0.948559   \n",
      "1   7.007955    0.023489       0.952994                 0.953120   \n",
      "2   7.347309    0.032308       0.944582                 0.944880   \n",
      "3   7.251346    0.024265       0.941613                 0.942012   \n",
      "4   7.260219    0.019470       0.944582                 0.945738   \n",
      "5   0.006844    0.133018       0.943097                 0.943808   \n",
      "6   0.007188    0.060229       0.942108                 0.942852   \n",
      "7   0.007148    0.059550       0.939634                 0.940657   \n",
      "8   0.007264    0.059389       0.927759                 0.929030   \n",
      "9   0.007236    0.059524       0.934686                 0.936669   \n",
      "10  2.612750    1.271550       0.928748                 0.934278   \n",
      "11  2.556150    1.143533       0.934686                 0.938208   \n",
      "12  2.507361    1.075403       0.918357                 0.924057   \n",
      "13  2.525282    1.063823       0.917862                 0.924367   \n",
      "14  2.535953    1.075193       0.922316                 0.928935   \n",
      "\n",
      "    test_recall_weighted  test_f1_weighted  test_roc_auc   model  \n",
      "0               0.948540          0.948546      0.987806  LogReg  \n",
      "1               0.952994          0.953004      0.987407  LogReg  \n",
      "2               0.944582          0.944619      0.984485  LogReg  \n",
      "3               0.941613          0.941632      0.982244  LogReg  \n",
      "4               0.944582          0.944627      0.988981  LogReg  \n",
      "5               0.943097          0.943137      0.979175     KNN  \n",
      "6               0.942108          0.942129      0.978334     KNN  \n",
      "7               0.939634          0.939700      0.973614     KNN  \n",
      "8               0.927759          0.927780      0.974035     KNN  \n",
      "9               0.934686          0.934740      0.976274     KNN  \n",
      "10              0.928748          0.928754      0.985765     SVM  \n",
      "11              0.934686          0.934670      0.983371     SVM  \n",
      "12              0.918357          0.918433      0.981431     SVM  \n",
      "13              0.917862          0.917747      0.979633     SVM  \n",
      "14              0.922316          0.922306      0.986193     SVM  \n",
      "GNB\n",
      "              precision    recall  f1-score   support\n",
      "\n",
      "   malignant       1.00      1.00      1.00      1751\n",
      "      benign       1.00      1.00      1.00      1618\n",
      "\n",
      "    accuracy                           1.00      3369\n",
      "   macro avg       1.00      1.00      1.00      3369\n",
      "weighted avg       1.00      1.00      1.00      3369\n",
      "\n",
      "    fit_time  score_time  test_accuracy  test_precision_weighted  \\\n",
      "0   7.823876    0.033336       0.948540                 0.948559   \n",
      "1   7.007955    0.023489       0.952994                 0.953120   \n",
      "2   7.347309    0.032308       0.944582                 0.944880   \n",
      "3   7.251346    0.024265       0.941613                 0.942012   \n",
      "4   7.260219    0.019470       0.944582                 0.945738   \n",
      "5   0.006844    0.133018       0.943097                 0.943808   \n",
      "6   0.007188    0.060229       0.942108                 0.942852   \n",
      "7   0.007148    0.059550       0.939634                 0.940657   \n",
      "8   0.007264    0.059389       0.927759                 0.929030   \n",
      "9   0.007236    0.059524       0.934686                 0.936669   \n",
      "10  2.612750    1.271550       0.928748                 0.934278   \n",
      "11  2.556150    1.143533       0.934686                 0.938208   \n",
      "12  2.507361    1.075403       0.918357                 0.924057   \n",
      "13  2.525282    1.063823       0.917862                 0.924367   \n",
      "14  2.535953    1.075193       0.922316                 0.928935   \n",
      "15  0.017819    0.010536       1.000000                 1.000000   \n",
      "16  0.017774    0.010421       0.999505                 0.999506   \n",
      "17  0.017794    0.010419       0.999505                 0.999506   \n",
      "18  0.017849    0.010412       1.000000                 1.000000   \n",
      "19  0.017872    0.010524       1.000000                 1.000000   \n",
      "\n",
      "    test_recall_weighted  test_f1_weighted  test_roc_auc   model  \n",
      "0               0.948540          0.948546      0.987806  LogReg  \n",
      "1               0.952994          0.953004      0.987407  LogReg  \n",
      "2               0.944582          0.944619      0.984485  LogReg  \n",
      "3               0.941613          0.941632      0.982244  LogReg  \n",
      "4               0.944582          0.944627      0.988981  LogReg  \n",
      "5               0.943097          0.943137      0.979175     KNN  \n",
      "6               0.942108          0.942129      0.978334     KNN  \n",
      "7               0.939634          0.939700      0.973614     KNN  \n",
      "8               0.927759          0.927780      0.974035     KNN  \n",
      "9               0.934686          0.934740      0.976274     KNN  \n",
      "10              0.928748          0.928754      0.985765     SVM  \n",
      "11              0.934686          0.934670      0.983371     SVM  \n",
      "12              0.918357          0.918433      0.981431     SVM  \n",
      "13              0.917862          0.917747      0.979633     SVM  \n",
      "14              0.922316          0.922306      0.986193     SVM  \n",
      "15              1.000000          1.000000      1.000000     GNB  \n",
      "16              0.999505          0.999505      1.000000     GNB  \n",
      "17              0.999505          0.999505      1.000000     GNB  \n",
      "18              1.000000          1.000000      1.000000     GNB  \n",
      "19              1.000000          1.000000      1.000000     GNB  \n",
      "122.42190690990537\n"
     ]
    }
   ],
   "source": [
    "#3) Raspberry\n",
    "df_malicious = pd.concat([df3,df4,df5,df6,df33,df34])\n",
    "df_benign = pd.concat([df19,df16])\n",
    "\n",
    "\n",
    "print(\"malicious: {}\".format(len(df_malicious)))\n",
    "print(\"benign: {}\".format(len(df_benign)))\n",
    "\n",
    "print(\"{} NAN in malicious!\".format(len(df_malicious[df_malicious.isna().any(axis=1)])))\n",
    "print(\"{} NAN in benign!\".format(len(df_benign[df_benign.isna().any(axis=1)])))\n",
    "\n",
    "df_malicious = df_malicious.dropna()\n",
    "df_benign = df_benign.dropna()\n",
    "\n",
    "print(\"After droppping NAN rows: \")\n",
    "print(\"malicious: {}\".format(len(df_malicious)))\n",
    "print(\"benign: {}\".format(len(df_benign)))\n",
    "\n",
    "start = timer()\n",
    "\n",
    "results_Raspberry_s1 = run_process(df_malicious,df_benign,df_results)\n",
    "\n",
    "\n",
    "end = timer()\n",
    "print(end - start)"
   ]
  },
  {
   "cell_type": "code",
   "execution_count": 12,
   "id": "Z91gfoY23z2P",
   "metadata": {
    "execution": {
     "iopub.execute_input": "2025-08-02T07:35:19.350542Z",
     "iopub.status.busy": "2025-08-02T07:35:19.350414Z",
     "iopub.status.idle": "2025-08-02T07:36:53.274133Z",
     "shell.execute_reply": "2025-08-02T07:36:53.273506Z"
    },
    "id": "Z91gfoY23z2P",
    "outputId": "b835a256-3339-4866-b821-6c779b0ef290"
   },
   "outputs": [
    {
     "name": "stdout",
     "output_type": "stream",
     "text": [
      "malicious: 41572\n",
      "benign: 43713\n"
     ]
    },
    {
     "name": "stdout",
     "output_type": "stream",
     "text": [
      "0 NAN in malicious!\n",
      "0 NAN in benign!\n",
      "After droppping NAN rows: \n",
      "malicious: 41572\n",
      "benign: 43713\n"
     ]
    },
    {
     "name": "stderr",
     "output_type": "stream",
     "text": [
      "\r",
      "Feature Extraction:   0%|          | 0/160 [00:00<?, ?it/s]"
     ]
    },
    {
     "name": "stderr",
     "output_type": "stream",
     "text": [
      "\r",
      "Feature Extraction:   1%|          | 1/160 [00:02<05:32,  2.09s/it]"
     ]
    },
    {
     "name": "stderr",
     "output_type": "stream",
     "text": [
      "\r",
      "Feature Extraction:   2%|▎         | 4/160 [00:02<01:07,  2.32it/s]"
     ]
    },
    {
     "name": "stderr",
     "output_type": "stream",
     "text": [
      "\r",
      "Feature Extraction:   5%|▌         | 8/160 [00:02<00:28,  5.38it/s]"
     ]
    },
    {
     "name": "stderr",
     "output_type": "stream",
     "text": [
      "\r",
      "Feature Extraction:   8%|▊         | 12/160 [00:02<00:16,  8.85it/s]"
     ]
    },
    {
     "name": "stderr",
     "output_type": "stream",
     "text": [
      "\r",
      "Feature Extraction:  11%|█         | 17/160 [00:02<00:10, 14.04it/s]"
     ]
    },
    {
     "name": "stderr",
     "output_type": "stream",
     "text": [
      "\r",
      "Feature Extraction:  13%|█▎        | 21/160 [00:02<00:07, 17.87it/s]"
     ]
    },
    {
     "name": "stderr",
     "output_type": "stream",
     "text": [
      "\r",
      "Feature Extraction:  16%|█▌        | 25/160 [00:02<00:07, 17.75it/s]"
     ]
    },
    {
     "name": "stderr",
     "output_type": "stream",
     "text": [
      "\r",
      "Feature Extraction:  18%|█▊        | 29/160 [00:02<00:06, 21.10it/s]"
     ]
    },
    {
     "name": "stderr",
     "output_type": "stream",
     "text": [
      "\r",
      "Feature Extraction:  21%|██        | 33/160 [00:04<00:15,  8.26it/s]"
     ]
    },
    {
     "name": "stderr",
     "output_type": "stream",
     "text": [
      "\r",
      "Feature Extraction:  22%|██▎       | 36/160 [00:04<00:14,  8.32it/s]"
     ]
    },
    {
     "name": "stderr",
     "output_type": "stream",
     "text": [
      "\r",
      "Feature Extraction:  26%|██▌       | 41/160 [00:04<00:10, 11.89it/s]"
     ]
    },
    {
     "name": "stderr",
     "output_type": "stream",
     "text": [
      "\r",
      "Feature Extraction:  28%|██▊       | 44/160 [00:04<00:08, 13.41it/s]"
     ]
    },
    {
     "name": "stderr",
     "output_type": "stream",
     "text": [
      "\r",
      "Feature Extraction:  31%|███▏      | 50/160 [00:04<00:05, 19.23it/s]"
     ]
    },
    {
     "name": "stderr",
     "output_type": "stream",
     "text": [
      "\r",
      "Feature Extraction:  34%|███▍      | 54/160 [00:05<00:05, 20.51it/s]"
     ]
    },
    {
     "name": "stderr",
     "output_type": "stream",
     "text": [
      "\r",
      "Feature Extraction:  36%|███▋      | 58/160 [00:05<00:04, 20.92it/s]"
     ]
    },
    {
     "name": "stderr",
     "output_type": "stream",
     "text": [
      "\r",
      "Feature Extraction:  38%|███▊      | 61/160 [00:05<00:04, 21.44it/s]"
     ]
    },
    {
     "name": "stderr",
     "output_type": "stream",
     "text": [
      "\r",
      "Feature Extraction:  40%|████      | 64/160 [00:05<00:04, 22.95it/s]"
     ]
    },
    {
     "name": "stderr",
     "output_type": "stream",
     "text": [
      "\r",
      "Feature Extraction:  42%|████▏     | 67/160 [00:06<00:12,  7.45it/s]"
     ]
    },
    {
     "name": "stderr",
     "output_type": "stream",
     "text": [
      "\r",
      "Feature Extraction:  43%|████▎     | 69/160 [00:06<00:11,  7.99it/s]"
     ]
    },
    {
     "name": "stderr",
     "output_type": "stream",
     "text": [
      "\r",
      "Feature Extraction:  44%|████▍     | 71/160 [00:06<00:09,  9.13it/s]"
     ]
    },
    {
     "name": "stderr",
     "output_type": "stream",
     "text": [
      "\r",
      "Feature Extraction:  46%|████▋     | 74/160 [00:07<00:07, 11.44it/s]"
     ]
    },
    {
     "name": "stderr",
     "output_type": "stream",
     "text": [
      "\r",
      "Feature Extraction:  49%|████▉     | 78/160 [00:07<00:05, 15.59it/s]"
     ]
    },
    {
     "name": "stderr",
     "output_type": "stream",
     "text": [
      "\r",
      "Feature Extraction:  51%|█████     | 81/160 [00:07<00:04, 17.20it/s]"
     ]
    },
    {
     "name": "stderr",
     "output_type": "stream",
     "text": [
      "\r",
      "Feature Extraction:  52%|█████▎    | 84/160 [00:07<00:04, 18.74it/s]"
     ]
    },
    {
     "name": "stderr",
     "output_type": "stream",
     "text": [
      "\r",
      "Feature Extraction:  54%|█████▍    | 87/160 [00:07<00:03, 20.73it/s]"
     ]
    },
    {
     "name": "stderr",
     "output_type": "stream",
     "text": [
      "\r",
      "Feature Extraction:  56%|█████▋    | 90/160 [00:07<00:03, 22.55it/s]"
     ]
    },
    {
     "name": "stderr",
     "output_type": "stream",
     "text": [
      "\r",
      "Feature Extraction:  58%|█████▊    | 93/160 [00:07<00:02, 22.98it/s]"
     ]
    },
    {
     "name": "stderr",
     "output_type": "stream",
     "text": [
      "\r",
      "Feature Extraction:  60%|██████    | 96/160 [00:07<00:03, 19.85it/s]"
     ]
    },
    {
     "name": "stderr",
     "output_type": "stream",
     "text": [
      "\r",
      "Feature Extraction:  62%|██████▏   | 99/160 [00:08<00:08,  7.35it/s]"
     ]
    },
    {
     "name": "stderr",
     "output_type": "stream",
     "text": [
      "\r",
      "Feature Extraction:  63%|██████▎   | 101/160 [00:09<00:07,  8.02it/s]"
     ]
    },
    {
     "name": "stderr",
     "output_type": "stream",
     "text": [
      "\r",
      "Feature Extraction:  64%|██████▍   | 103/160 [00:09<00:06,  9.04it/s]"
     ]
    },
    {
     "name": "stderr",
     "output_type": "stream",
     "text": [
      "\r",
      "Feature Extraction:  66%|██████▋   | 106/160 [00:09<00:04, 11.48it/s]"
     ]
    },
    {
     "name": "stderr",
     "output_type": "stream",
     "text": [
      "\r",
      "Feature Extraction:  69%|██████▉   | 110/160 [00:09<00:03, 15.48it/s]"
     ]
    },
    {
     "name": "stderr",
     "output_type": "stream",
     "text": [
      "\r",
      "Feature Extraction:  71%|███████   | 113/160 [00:09<00:02, 17.10it/s]"
     ]
    },
    {
     "name": "stderr",
     "output_type": "stream",
     "text": [
      "\r",
      "Feature Extraction:  72%|███████▎  | 116/160 [00:09<00:02, 18.85it/s]"
     ]
    },
    {
     "name": "stderr",
     "output_type": "stream",
     "text": [
      "\r",
      "Feature Extraction:  74%|███████▍  | 119/160 [00:09<00:02, 18.84it/s]"
     ]
    },
    {
     "name": "stderr",
     "output_type": "stream",
     "text": [
      "\r",
      "Feature Extraction:  76%|███████▋  | 122/160 [00:10<00:02, 15.42it/s]"
     ]
    },
    {
     "name": "stderr",
     "output_type": "stream",
     "text": [
      "\r",
      "Feature Extraction:  79%|███████▉  | 127/160 [00:10<00:01, 20.16it/s]"
     ]
    },
    {
     "name": "stderr",
     "output_type": "stream",
     "text": [
      "\r",
      "Feature Extraction:  81%|████████▏ | 130/160 [00:11<00:03,  9.44it/s]"
     ]
    },
    {
     "name": "stderr",
     "output_type": "stream",
     "text": [
      "\r",
      "Feature Extraction:  82%|████████▎ | 132/160 [00:11<00:02, 10.19it/s]"
     ]
    },
    {
     "name": "stderr",
     "output_type": "stream",
     "text": [
      "\r",
      "Feature Extraction:  84%|████████▍ | 134/160 [00:11<00:02,  9.36it/s]"
     ]
    },
    {
     "name": "stderr",
     "output_type": "stream",
     "text": [
      "\r",
      "Feature Extraction:  87%|████████▋ | 139/160 [00:11<00:01, 14.61it/s]"
     ]
    },
    {
     "name": "stderr",
     "output_type": "stream",
     "text": [
      "\r",
      "Feature Extraction:  89%|████████▉ | 143/160 [00:11<00:00, 18.51it/s]"
     ]
    },
    {
     "name": "stderr",
     "output_type": "stream",
     "text": [
      "\r",
      "Feature Extraction:  91%|█████████▏| 146/160 [00:11<00:00, 18.53it/s]"
     ]
    },
    {
     "name": "stderr",
     "output_type": "stream",
     "text": [
      "\r",
      "Feature Extraction:  94%|█████████▍| 150/160 [00:12<00:00, 20.45it/s]"
     ]
    },
    {
     "name": "stderr",
     "output_type": "stream",
     "text": [
      "\r",
      "Feature Extraction:  96%|█████████▌| 153/160 [00:12<00:00, 21.82it/s]"
     ]
    },
    {
     "name": "stderr",
     "output_type": "stream",
     "text": [
      "\r",
      "Feature Extraction:  98%|█████████▊| 157/160 [00:12<00:00, 23.89it/s]"
     ]
    },
    {
     "name": "stderr",
     "output_type": "stream",
     "text": [
      "\r",
      "Feature Extraction: 100%|██████████| 160/160 [00:12<00:00, 12.99it/s]"
     ]
    },
    {
     "name": "stderr",
     "output_type": "stream",
     "text": [
      "\n"
     ]
    },
    {
     "name": "stderr",
     "output_type": "stream",
     "text": [
      "\r",
      "Feature Extraction:   0%|          | 0/157 [00:00<?, ?it/s]"
     ]
    },
    {
     "name": "stderr",
     "output_type": "stream",
     "text": [
      "\r",
      "Feature Extraction:   1%|          | 1/157 [00:02<06:03,  2.33s/it]"
     ]
    },
    {
     "name": "stderr",
     "output_type": "stream",
     "text": [
      "\r",
      "Feature Extraction:   2%|▏         | 3/157 [00:02<01:38,  1.56it/s]"
     ]
    },
    {
     "name": "stderr",
     "output_type": "stream",
     "text": [
      "\r",
      "Feature Extraction:   4%|▍         | 7/157 [00:02<00:34,  4.40it/s]"
     ]
    },
    {
     "name": "stderr",
     "output_type": "stream",
     "text": [
      "\r",
      "Feature Extraction:   8%|▊         | 12/157 [00:02<00:17,  8.42it/s]"
     ]
    },
    {
     "name": "stderr",
     "output_type": "stream",
     "text": [
      "\r",
      "Feature Extraction:  11%|█         | 17/157 [00:02<00:10, 12.91it/s]"
     ]
    },
    {
     "name": "stderr",
     "output_type": "stream",
     "text": [
      "\r",
      "Feature Extraction:  13%|█▎        | 21/157 [00:02<00:08, 16.36it/s]"
     ]
    },
    {
     "name": "stderr",
     "output_type": "stream",
     "text": [
      "\r",
      "Feature Extraction:  17%|█▋        | 26/157 [00:03<00:06, 20.51it/s]"
     ]
    },
    {
     "name": "stderr",
     "output_type": "stream",
     "text": [
      "\r",
      "Feature Extraction:  19%|█▉        | 30/157 [00:03<00:05, 22.09it/s]"
     ]
    },
    {
     "name": "stderr",
     "output_type": "stream",
     "text": [
      "\r",
      "Feature Extraction:  22%|██▏       | 34/157 [00:04<00:17,  6.90it/s]"
     ]
    },
    {
     "name": "stderr",
     "output_type": "stream",
     "text": [
      "\r",
      "Feature Extraction:  24%|██▎       | 37/157 [00:04<00:15,  7.98it/s]"
     ]
    },
    {
     "name": "stderr",
     "output_type": "stream",
     "text": [
      "\r",
      "Feature Extraction:  25%|██▌       | 40/157 [00:05<00:12,  9.68it/s]"
     ]
    },
    {
     "name": "stderr",
     "output_type": "stream",
     "text": [
      "\r",
      "Feature Extraction:  28%|██▊       | 44/157 [00:05<00:09, 12.09it/s]"
     ]
    },
    {
     "name": "stderr",
     "output_type": "stream",
     "text": [
      "\r",
      "Feature Extraction:  31%|███       | 48/157 [00:05<00:07, 14.81it/s]"
     ]
    },
    {
     "name": "stderr",
     "output_type": "stream",
     "text": [
      "\r",
      "Feature Extraction:  33%|███▎      | 52/157 [00:05<00:05, 17.72it/s]"
     ]
    },
    {
     "name": "stderr",
     "output_type": "stream",
     "text": [
      "\r",
      "Feature Extraction:  36%|███▋      | 57/157 [00:05<00:04, 22.88it/s]"
     ]
    },
    {
     "name": "stderr",
     "output_type": "stream",
     "text": [
      "\r",
      "Feature Extraction:  39%|███▉      | 61/157 [00:05<00:03, 24.97it/s]"
     ]
    },
    {
     "name": "stderr",
     "output_type": "stream",
     "text": [
      "\r",
      "Feature Extraction:  41%|████▏     | 65/157 [00:07<00:12,  7.65it/s]"
     ]
    },
    {
     "name": "stderr",
     "output_type": "stream",
     "text": [
      "\r",
      "Feature Extraction:  43%|████▎     | 68/157 [00:07<00:10,  8.35it/s]"
     ]
    },
    {
     "name": "stderr",
     "output_type": "stream",
     "text": [
      "\r",
      "Feature Extraction:  45%|████▌     | 71/157 [00:07<00:08, 10.18it/s]"
     ]
    },
    {
     "name": "stderr",
     "output_type": "stream",
     "text": [
      "\r",
      "Feature Extraction:  47%|████▋     | 74/157 [00:07<00:07, 11.56it/s]"
     ]
    },
    {
     "name": "stderr",
     "output_type": "stream",
     "text": [
      "\r",
      "Feature Extraction:  49%|████▉     | 77/157 [00:07<00:06, 13.12it/s]"
     ]
    },
    {
     "name": "stderr",
     "output_type": "stream",
     "text": [
      "\r",
      "Feature Extraction:  51%|█████     | 80/157 [00:07<00:05, 15.17it/s]"
     ]
    },
    {
     "name": "stderr",
     "output_type": "stream",
     "text": [
      "\r",
      "Feature Extraction:  53%|█████▎    | 83/157 [00:08<00:04, 16.19it/s]"
     ]
    },
    {
     "name": "stderr",
     "output_type": "stream",
     "text": [
      "\r",
      "Feature Extraction:  55%|█████▍    | 86/157 [00:08<00:03, 18.60it/s]"
     ]
    },
    {
     "name": "stderr",
     "output_type": "stream",
     "text": [
      "\r",
      "Feature Extraction:  57%|█████▋    | 89/157 [00:08<00:04, 15.61it/s]"
     ]
    },
    {
     "name": "stderr",
     "output_type": "stream",
     "text": [
      "\r",
      "Feature Extraction:  59%|█████▉    | 93/157 [00:08<00:03, 19.43it/s]"
     ]
    },
    {
     "name": "stderr",
     "output_type": "stream",
     "text": [
      "\r",
      "Feature Extraction:  61%|██████    | 96/157 [00:08<00:03, 19.47it/s]"
     ]
    },
    {
     "name": "stderr",
     "output_type": "stream",
     "text": [
      "\r",
      "Feature Extraction:  63%|██████▎   | 99/157 [00:09<00:07,  7.57it/s]"
     ]
    },
    {
     "name": "stderr",
     "output_type": "stream",
     "text": [
      "\r",
      "Feature Extraction:  64%|██████▍   | 101/157 [00:09<00:06,  8.20it/s]"
     ]
    },
    {
     "name": "stderr",
     "output_type": "stream",
     "text": [
      "\r",
      "Feature Extraction:  66%|██████▌   | 103/157 [00:09<00:05,  9.42it/s]"
     ]
    },
    {
     "name": "stderr",
     "output_type": "stream",
     "text": [
      "\r",
      "Feature Extraction:  67%|██████▋   | 105/157 [00:10<00:04, 10.71it/s]"
     ]
    },
    {
     "name": "stderr",
     "output_type": "stream",
     "text": [
      "\r",
      "Feature Extraction:  69%|██████▉   | 108/157 [00:10<00:03, 12.76it/s]"
     ]
    },
    {
     "name": "stderr",
     "output_type": "stream",
     "text": [
      "\r",
      "Feature Extraction:  70%|███████   | 110/157 [00:10<00:03, 13.53it/s]"
     ]
    },
    {
     "name": "stderr",
     "output_type": "stream",
     "text": [
      "\r",
      "Feature Extraction:  72%|███████▏  | 113/157 [00:10<00:02, 15.39it/s]"
     ]
    },
    {
     "name": "stderr",
     "output_type": "stream",
     "text": [
      "\r",
      "Feature Extraction:  74%|███████▍  | 116/157 [00:10<00:02, 17.31it/s]"
     ]
    },
    {
     "name": "stderr",
     "output_type": "stream",
     "text": [
      "\r",
      "Feature Extraction:  76%|███████▌  | 119/157 [00:10<00:01, 19.59it/s]"
     ]
    },
    {
     "name": "stderr",
     "output_type": "stream",
     "text": [
      "\r",
      "Feature Extraction:  78%|███████▊  | 122/157 [00:10<00:02, 16.29it/s]"
     ]
    },
    {
     "name": "stderr",
     "output_type": "stream",
     "text": [
      "\r",
      "Feature Extraction:  79%|███████▉  | 124/157 [00:11<00:01, 16.86it/s]"
     ]
    },
    {
     "name": "stderr",
     "output_type": "stream",
     "text": [
      "\r",
      "Feature Extraction:  82%|████████▏ | 128/157 [00:11<00:01, 20.56it/s]"
     ]
    },
    {
     "name": "stderr",
     "output_type": "stream",
     "text": [
      "\r",
      "Feature Extraction:  83%|████████▎ | 131/157 [00:11<00:02,  9.53it/s]"
     ]
    },
    {
     "name": "stderr",
     "output_type": "stream",
     "text": [
      "\r",
      "Feature Extraction:  85%|████████▍ | 133/157 [00:12<00:02,  9.43it/s]"
     ]
    },
    {
     "name": "stderr",
     "output_type": "stream",
     "text": [
      "\r",
      "Feature Extraction:  86%|████████▌ | 135/157 [00:12<00:02, 10.80it/s]"
     ]
    },
    {
     "name": "stderr",
     "output_type": "stream",
     "text": [
      "\r",
      "Feature Extraction:  87%|████████▋ | 137/157 [00:12<00:01, 12.09it/s]"
     ]
    },
    {
     "name": "stderr",
     "output_type": "stream",
     "text": [
      "\r",
      "Feature Extraction:  89%|████████▉ | 140/157 [00:12<00:01, 14.67it/s]"
     ]
    },
    {
     "name": "stderr",
     "output_type": "stream",
     "text": [
      "\r",
      "Feature Extraction:  92%|█████████▏| 145/157 [00:12<00:00, 21.24it/s]"
     ]
    },
    {
     "name": "stderr",
     "output_type": "stream",
     "text": [
      "\r",
      "Feature Extraction:  95%|█████████▍| 149/157 [00:12<00:00, 24.85it/s]"
     ]
    },
    {
     "name": "stderr",
     "output_type": "stream",
     "text": [
      "\r",
      "Feature Extraction:  97%|█████████▋| 153/157 [00:12<00:00, 27.91it/s]"
     ]
    },
    {
     "name": "stderr",
     "output_type": "stream",
     "text": [
      "\r",
      "Feature Extraction: 100%|██████████| 157/157 [00:13<00:00, 22.61it/s]"
     ]
    },
    {
     "name": "stderr",
     "output_type": "stream",
     "text": [
      "\r",
      "Feature Extraction: 100%|██████████| 157/157 [00:13<00:00, 12.01it/s]"
     ]
    },
    {
     "name": "stderr",
     "output_type": "stream",
     "text": [
      "\n"
     ]
    },
    {
     "name": "stdout",
     "output_type": "stream",
     "text": [
      "let the ml starts\n"
     ]
    },
    {
     "name": "stdout",
     "output_type": "stream",
     "text": [
      "LogReg\n",
      "              precision    recall  f1-score   support\n",
      "\n",
      "   malignant       0.81      0.78      0.79      1104\n",
      "      benign       0.77      0.80      0.79      1029\n",
      "\n",
      "    accuracy                           0.79      2133\n",
      "   macro avg       0.79      0.79      0.79      2133\n",
      "weighted avg       0.79      0.79      0.79      2133\n",
      "\n",
      "   fit_time  score_time  test_accuracy  test_precision_weighted  \\\n",
      "0  7.083705    0.008245       0.771875                 0.773417   \n",
      "1  6.550640    0.008013       0.776563                 0.780632   \n",
      "2  7.491515    0.008050       0.762314                 0.763431   \n",
      "3  6.519541    0.008028       0.781079                 0.782308   \n",
      "4  7.376458    0.007902       0.781861                 0.782020   \n",
      "\n",
      "   test_recall_weighted  test_f1_weighted  test_roc_auc   model  \n",
      "0              0.771875          0.772036      0.861589  LogReg  \n",
      "1              0.776563          0.776526      0.858787  LogReg  \n",
      "2              0.762314          0.762198      0.850803  LogReg  \n",
      "3              0.781079          0.781074      0.864347  LogReg  \n",
      "4              0.781861          0.781902      0.869245  LogReg  \n"
     ]
    },
    {
     "name": "stdout",
     "output_type": "stream",
     "text": [
      "KNN\n",
      "              precision    recall  f1-score   support\n",
      "\n",
      "   malignant       0.80      0.71      0.75      1104\n",
      "      benign       0.72      0.82      0.77      1029\n",
      "\n",
      "    accuracy                           0.76      2133\n",
      "   macro avg       0.76      0.76      0.76      2133\n",
      "weighted avg       0.76      0.76      0.76      2133\n",
      "\n",
      "   fit_time  score_time  test_accuracy  test_precision_weighted  \\\n",
      "0  7.083705    0.008245       0.771875                 0.773417   \n",
      "1  6.550640    0.008013       0.776563                 0.780632   \n",
      "2  7.491515    0.008050       0.762314                 0.763431   \n",
      "3  6.519541    0.008028       0.781079                 0.782308   \n",
      "4  7.376458    0.007902       0.781861                 0.782020   \n",
      "5  0.004326    0.168820       0.754687                 0.761080   \n",
      "6  0.004080    0.119166       0.743750                 0.753228   \n",
      "7  0.004584    0.121305       0.741204                 0.743020   \n",
      "8  0.003992    0.093875       0.764660                 0.772121   \n",
      "9  0.004635    0.099039       0.750586                 0.750518   \n",
      "\n",
      "   test_recall_weighted  test_f1_weighted  test_roc_auc   model  \n",
      "0              0.771875          0.772036      0.861589  LogReg  \n",
      "1              0.776563          0.776526      0.858787  LogReg  \n",
      "2              0.762314          0.762198      0.850803  LogReg  \n",
      "3              0.781079          0.781074      0.864347  LogReg  \n",
      "4              0.781861          0.781902      0.869245  LogReg  \n",
      "5              0.754687          0.754456      0.848919     KNN  \n",
      "6              0.743750          0.742923      0.838296     KNN  \n",
      "7              0.741204          0.740930      0.830615     KNN  \n",
      "8              0.764660          0.763746      0.845959     KNN  \n",
      "9              0.750586          0.750515      0.844063     KNN  \n"
     ]
    },
    {
     "name": "stdout",
     "output_type": "stream",
     "text": [
      "SVM\n",
      "              precision    recall  f1-score   support\n",
      "\n",
      "   malignant       0.85      0.71      0.77      1104\n",
      "      benign       0.73      0.87      0.80      1029\n",
      "\n",
      "    accuracy                           0.78      2133\n",
      "   macro avg       0.79      0.79      0.78      2133\n",
      "weighted avg       0.79      0.78      0.78      2133\n",
      "\n",
      "    fit_time  score_time  test_accuracy  test_precision_weighted  \\\n",
      "0   7.083705    0.008245       0.771875                 0.773417   \n",
      "1   6.550640    0.008013       0.776563                 0.780632   \n",
      "2   7.491515    0.008050       0.762314                 0.763431   \n",
      "3   6.519541    0.008028       0.781079                 0.782308   \n",
      "4   7.376458    0.007902       0.781861                 0.782020   \n",
      "5   0.004326    0.168820       0.754687                 0.761080   \n",
      "6   0.004080    0.119166       0.743750                 0.753228   \n",
      "7   0.004584    0.121305       0.741204                 0.743020   \n",
      "8   0.003992    0.093875       0.764660                 0.772121   \n",
      "9   0.004635    0.099039       0.750586                 0.750518   \n",
      "10  1.318710    1.036356       0.760938                 0.776211   \n",
      "11  1.279799    1.011373       0.755469                 0.767428   \n",
      "12  1.258395    1.004024       0.757623                 0.767939   \n",
      "13  1.260267    1.068663       0.761532                 0.776651   \n",
      "14  1.273650    1.080446       0.777952                 0.780025   \n",
      "\n",
      "    test_recall_weighted  test_f1_weighted  test_roc_auc   model  \n",
      "0               0.771875          0.772036      0.861589  LogReg  \n",
      "1               0.776563          0.776526      0.858787  LogReg  \n",
      "2               0.762314          0.762198      0.850803  LogReg  \n",
      "3               0.781079          0.781074      0.864347  LogReg  \n",
      "4               0.781861          0.781902      0.869245  LogReg  \n",
      "5               0.754687          0.754456      0.848919     KNN  \n",
      "6               0.743750          0.742923      0.838296     KNN  \n",
      "7               0.741204          0.740930      0.830615     KNN  \n",
      "8               0.764660          0.763746      0.845959     KNN  \n",
      "9               0.750586          0.750515      0.844063     KNN  \n",
      "10              0.760938          0.759524      0.865365     SVM  \n",
      "11              0.755469          0.754346      0.844687     SVM  \n",
      "12              0.757623          0.755712      0.847051     SVM  \n",
      "13              0.761532          0.759265      0.871941     SVM  \n",
      "14              0.777952          0.777015      0.871642     SVM  \n",
      "GNB\n",
      "              precision    recall  f1-score   support\n",
      "\n",
      "   malignant       0.79      0.59      0.68      1104\n",
      "      benign       0.65      0.83      0.73      1029\n",
      "\n",
      "    accuracy                           0.71      2133\n",
      "   macro avg       0.72      0.71      0.70      2133\n",
      "weighted avg       0.72      0.71      0.70      2133\n",
      "\n",
      "    fit_time  score_time  test_accuracy  test_precision_weighted  \\\n",
      "0   7.083705    0.008245       0.771875                 0.773417   \n",
      "1   6.550640    0.008013       0.776563                 0.780632   \n",
      "2   7.491515    0.008050       0.762314                 0.763431   \n",
      "3   6.519541    0.008028       0.781079                 0.782308   \n",
      "4   7.376458    0.007902       0.781861                 0.782020   \n",
      "5   0.004326    0.168820       0.754687                 0.761080   \n",
      "6   0.004080    0.119166       0.743750                 0.753228   \n",
      "7   0.004584    0.121305       0.741204                 0.743020   \n",
      "8   0.003992    0.093875       0.764660                 0.772121   \n",
      "9   0.004635    0.099039       0.750586                 0.750518   \n",
      "10  1.318710    1.036356       0.760938                 0.776211   \n",
      "11  1.279799    1.011373       0.755469                 0.767428   \n",
      "12  1.258395    1.004024       0.757623                 0.767939   \n",
      "13  1.260267    1.068663       0.761532                 0.776651   \n",
      "14  1.273650    1.080446       0.777952                 0.780025   \n",
      "15  0.009223    0.008336       0.684375                 0.706043   \n",
      "16  0.009181    0.008164       0.692187                 0.709370   \n",
      "17  0.009184    0.008192       0.684910                 0.694975   \n",
      "18  0.009159    0.008216       0.699765                 0.723337   \n",
      "19  0.009256    0.008425       0.730258                 0.738533   \n",
      "\n",
      "    test_recall_weighted  test_f1_weighted  test_roc_auc   model  \n",
      "0               0.771875          0.772036      0.861589  LogReg  \n",
      "1               0.776563          0.776526      0.858787  LogReg  \n",
      "2               0.762314          0.762198      0.850803  LogReg  \n",
      "3               0.781079          0.781074      0.864347  LogReg  \n",
      "4               0.781861          0.781902      0.869245  LogReg  \n",
      "5               0.754687          0.754456      0.848919     KNN  \n",
      "6               0.743750          0.742923      0.838296     KNN  \n",
      "7               0.741204          0.740930      0.830615     KNN  \n",
      "8               0.764660          0.763746      0.845959     KNN  \n",
      "9               0.750586          0.750515      0.844063     KNN  \n",
      "10              0.760938          0.759524      0.865365     SVM  \n",
      "11              0.755469          0.754346      0.844687     SVM  \n",
      "12              0.757623          0.755712      0.847051     SVM  \n",
      "13              0.761532          0.759265      0.871941     SVM  \n",
      "14              0.777952          0.777015      0.871642     SVM  \n",
      "15              0.684375          0.680111      0.723479     GNB  \n",
      "16              0.692187          0.689025      0.738750     GNB  \n",
      "17              0.684910          0.681614      0.725646     GNB  \n",
      "18              0.699765          0.693744      0.727012     GNB  \n",
      "19              0.730258          0.726429      0.768508     GNB  \n",
      "93.89152957312763\n"
     ]
    }
   ],
   "source": [
    "#4) WebOS\n",
    "df_malicious = pd.concat([df1])\n",
    "df_benign = pd.concat([df22])\n",
    "\n",
    "print(\"malicious: {}\".format(len(df_malicious)))\n",
    "print(\"benign: {}\".format(len(df_benign)))\n",
    "\n",
    "print(\"{} NAN in malicious!\".format(len(df_malicious[df_malicious.isna().any(axis=1)])))\n",
    "print(\"{} NAN in benign!\".format(len(df_benign[df_benign.isna().any(axis=1)])))\n",
    "\n",
    "df_malicious = df_malicious.dropna()\n",
    "df_benign = df_benign.dropna()\n",
    "\n",
    "print(\"After droppping NAN rows: \")\n",
    "print(\"malicious: {}\".format(len(df_malicious)))\n",
    "print(\"benign: {}\".format(len(df_benign)))\n",
    "\n",
    "start = timer()\n",
    "\n",
    "results_WebOS_s1 = run_process(df_malicious,df_benign,df_results)\n",
    "\n",
    "\n",
    "end = timer()\n",
    "print(end - start)"
   ]
  },
  {
   "cell_type": "code",
   "execution_count": 13,
   "id": "7y0xbH973z2Q",
   "metadata": {
    "execution": {
     "iopub.execute_input": "2025-08-02T07:36:53.275600Z",
     "iopub.status.busy": "2025-08-02T07:36:53.275464Z",
     "iopub.status.idle": "2025-08-02T07:37:06.547850Z",
     "shell.execute_reply": "2025-08-02T07:37:06.547278Z"
    },
    "id": "7y0xbH973z2Q",
    "outputId": "30b9b5a3-777b-44b1-d5a0-6f24204ba012"
   },
   "outputs": [
    {
     "name": "stdout",
     "output_type": "stream",
     "text": [
      "malicious: 9880\n",
      "benign: 13459\n",
      "0 NAN in malicious!\n",
      "0 NAN in benign!\n",
      "After droppping NAN rows: \n",
      "malicious: 9880\n",
      "benign: 13459\n"
     ]
    },
    {
     "name": "stderr",
     "output_type": "stream",
     "text": [
      "\r",
      "Feature Extraction:   0%|          | 0/142 [00:00<?, ?it/s]"
     ]
    },
    {
     "name": "stderr",
     "output_type": "stream",
     "text": [
      "\r",
      "Feature Extraction:   1%|          | 1/142 [00:00<01:13,  1.92it/s]"
     ]
    },
    {
     "name": "stderr",
     "output_type": "stream",
     "text": [
      "\r",
      "Feature Extraction:   5%|▍         | 7/142 [00:00<00:09, 14.28it/s]"
     ]
    },
    {
     "name": "stderr",
     "output_type": "stream",
     "text": [
      "\r",
      "Feature Extraction:  13%|█▎        | 19/142 [00:00<00:03, 38.64it/s]"
     ]
    },
    {
     "name": "stderr",
     "output_type": "stream",
     "text": [
      "\r",
      "Feature Extraction:  22%|██▏       | 31/142 [00:00<00:01, 55.52it/s]"
     ]
    },
    {
     "name": "stderr",
     "output_type": "stream",
     "text": [
      "\r",
      "Feature Extraction:  28%|██▊       | 40/142 [00:01<00:02, 38.37it/s]"
     ]
    },
    {
     "name": "stderr",
     "output_type": "stream",
     "text": [
      "\r",
      "Feature Extraction:  33%|███▎      | 47/142 [00:01<00:02, 43.32it/s]"
     ]
    },
    {
     "name": "stderr",
     "output_type": "stream",
     "text": [
      "\r",
      "Feature Extraction:  40%|████      | 57/142 [00:01<00:01, 53.97it/s]"
     ]
    },
    {
     "name": "stderr",
     "output_type": "stream",
     "text": [
      "\r",
      "Feature Extraction:  46%|████▌     | 65/142 [00:01<00:01, 44.58it/s]"
     ]
    },
    {
     "name": "stderr",
     "output_type": "stream",
     "text": [
      "\r",
      "Feature Extraction:  51%|█████     | 72/142 [00:01<00:01, 48.92it/s]"
     ]
    },
    {
     "name": "stderr",
     "output_type": "stream",
     "text": [
      "\r",
      "Feature Extraction:  56%|█████▌    | 79/142 [00:01<00:01, 50.18it/s]"
     ]
    },
    {
     "name": "stderr",
     "output_type": "stream",
     "text": [
      "\r",
      "Feature Extraction:  61%|██████    | 86/142 [00:02<00:01, 53.18it/s]"
     ]
    },
    {
     "name": "stderr",
     "output_type": "stream",
     "text": [
      "\r",
      "Feature Extraction:  65%|██████▌   | 93/142 [00:02<00:00, 57.03it/s]"
     ]
    },
    {
     "name": "stderr",
     "output_type": "stream",
     "text": [
      "\r",
      "Feature Extraction:  70%|███████   | 100/142 [00:02<00:00, 45.21it/s]"
     ]
    },
    {
     "name": "stderr",
     "output_type": "stream",
     "text": [
      "\r",
      "Feature Extraction:  77%|███████▋  | 109/142 [00:02<00:00, 54.48it/s]"
     ]
    },
    {
     "name": "stderr",
     "output_type": "stream",
     "text": [
      "\r",
      "Feature Extraction:  82%|████████▏ | 116/142 [00:02<00:00, 56.34it/s]"
     ]
    },
    {
     "name": "stderr",
     "output_type": "stream",
     "text": [
      "\r",
      "Feature Extraction:  88%|████████▊ | 125/142 [00:02<00:00, 62.72it/s]"
     ]
    },
    {
     "name": "stderr",
     "output_type": "stream",
     "text": [
      "\r",
      "Feature Extraction:  93%|█████████▎| 132/142 [00:02<00:00, 59.44it/s]"
     ]
    },
    {
     "name": "stderr",
     "output_type": "stream",
     "text": [
      "\r",
      "Feature Extraction: 100%|██████████| 142/142 [00:02<00:00, 48.44it/s]"
     ]
    },
    {
     "name": "stderr",
     "output_type": "stream",
     "text": [
      "\n"
     ]
    },
    {
     "name": "stderr",
     "output_type": "stream",
     "text": [
      "\r",
      "Feature Extraction:   0%|          | 0/150 [00:00<?, ?it/s]"
     ]
    },
    {
     "name": "stderr",
     "output_type": "stream",
     "text": [
      "\r",
      "Feature Extraction:   1%|          | 1/150 [00:00<01:57,  1.27it/s]"
     ]
    },
    {
     "name": "stderr",
     "output_type": "stream",
     "text": [
      "\r",
      "Feature Extraction:   7%|▋         | 10/150 [00:00<00:09, 14.73it/s]"
     ]
    },
    {
     "name": "stderr",
     "output_type": "stream",
     "text": [
      "\r",
      "Feature Extraction:  12%|█▏        | 18/150 [00:00<00:05, 26.26it/s]"
     ]
    },
    {
     "name": "stderr",
     "output_type": "stream",
     "text": [
      "\r",
      "Feature Extraction:  19%|█▊        | 28/150 [00:01<00:02, 41.03it/s]"
     ]
    },
    {
     "name": "stderr",
     "output_type": "stream",
     "text": [
      "\r",
      "Feature Extraction:  24%|██▍       | 36/150 [00:01<00:04, 25.53it/s]"
     ]
    },
    {
     "name": "stderr",
     "output_type": "stream",
     "text": [
      "\r",
      "Feature Extraction:  28%|██▊       | 42/150 [00:01<00:04, 22.78it/s]"
     ]
    },
    {
     "name": "stderr",
     "output_type": "stream",
     "text": [
      "\r",
      "Feature Extraction:  33%|███▎      | 49/150 [00:02<00:03, 28.91it/s]"
     ]
    },
    {
     "name": "stderr",
     "output_type": "stream",
     "text": [
      "\r",
      "Feature Extraction:  37%|███▋      | 56/150 [00:02<00:02, 35.22it/s]"
     ]
    },
    {
     "name": "stderr",
     "output_type": "stream",
     "text": [
      "\r",
      "Feature Extraction:  43%|████▎     | 65/150 [00:02<00:02, 39.84it/s]"
     ]
    },
    {
     "name": "stderr",
     "output_type": "stream",
     "text": [
      "\r",
      "Feature Extraction:  47%|████▋     | 71/150 [00:02<00:02, 32.03it/s]"
     ]
    },
    {
     "name": "stderr",
     "output_type": "stream",
     "text": [
      "\r",
      "Feature Extraction:  51%|█████     | 76/150 [00:02<00:02, 33.61it/s]"
     ]
    },
    {
     "name": "stderr",
     "output_type": "stream",
     "text": [
      "\r",
      "Feature Extraction:  56%|█████▌    | 84/150 [00:02<00:01, 41.29it/s]"
     ]
    },
    {
     "name": "stderr",
     "output_type": "stream",
     "text": [
      "\r",
      "Feature Extraction:  60%|██████    | 90/150 [00:02<00:01, 42.84it/s]"
     ]
    },
    {
     "name": "stderr",
     "output_type": "stream",
     "text": [
      "\r",
      "Feature Extraction:  64%|██████▍   | 96/150 [00:03<00:01, 45.76it/s]"
     ]
    },
    {
     "name": "stderr",
     "output_type": "stream",
     "text": [
      "\r",
      "Feature Extraction:  68%|██████▊   | 102/150 [00:03<00:01, 39.79it/s]"
     ]
    },
    {
     "name": "stderr",
     "output_type": "stream",
     "text": [
      "\r",
      "Feature Extraction:  71%|███████▏  | 107/150 [00:03<00:01, 31.03it/s]"
     ]
    },
    {
     "name": "stderr",
     "output_type": "stream",
     "text": [
      "\r",
      "Feature Extraction:  76%|███████▌  | 114/150 [00:03<00:00, 38.17it/s]"
     ]
    },
    {
     "name": "stderr",
     "output_type": "stream",
     "text": [
      "\r",
      "Feature Extraction:  79%|███████▉  | 119/150 [00:03<00:00, 40.48it/s]"
     ]
    },
    {
     "name": "stderr",
     "output_type": "stream",
     "text": [
      "\r",
      "Feature Extraction:  85%|████████▌ | 128/150 [00:03<00:00, 50.26it/s]"
     ]
    },
    {
     "name": "stderr",
     "output_type": "stream",
     "text": [
      "\r",
      "Feature Extraction:  89%|████████▉ | 134/150 [00:04<00:00, 43.54it/s]"
     ]
    },
    {
     "name": "stderr",
     "output_type": "stream",
     "text": [
      "\r",
      "Feature Extraction:  93%|█████████▎| 139/150 [00:04<00:00, 43.11it/s]"
     ]
    },
    {
     "name": "stderr",
     "output_type": "stream",
     "text": [
      "\r",
      "Feature Extraction: 100%|██████████| 150/150 [00:04<00:00, 56.12it/s]"
     ]
    },
    {
     "name": "stderr",
     "output_type": "stream",
     "text": [
      "\r",
      "Feature Extraction: 100%|██████████| 150/150 [00:04<00:00, 34.81it/s]"
     ]
    },
    {
     "name": "stderr",
     "output_type": "stream",
     "text": [
      "\n"
     ]
    },
    {
     "name": "stdout",
     "output_type": "stream",
     "text": [
      "let the ml starts\n"
     ]
    },
    {
     "name": "stdout",
     "output_type": "stream",
     "text": [
      "LogReg\n",
      "              precision    recall  f1-score   support\n",
      "\n",
      "   malignant       0.89      0.92      0.91       341\n",
      "      benign       0.89      0.85      0.87       243\n",
      "\n",
      "    accuracy                           0.89       584\n",
      "   macro avg       0.89      0.89      0.89       584\n",
      "weighted avg       0.89      0.89      0.89       584\n",
      "\n",
      "   fit_time  score_time  test_accuracy  test_precision_weighted  \\\n",
      "0  0.026738    0.007514       0.902857                 0.905407   \n",
      "1  0.026561    0.006978       0.925714                 0.926248   \n",
      "2  0.023226    0.005553       0.908571                 0.909146   \n",
      "3  0.020215    0.005630       0.880000                 0.880151   \n",
      "4  0.020720    0.005524       0.882857                 0.883005   \n",
      "\n",
      "   test_recall_weighted  test_f1_weighted  test_roc_auc   model  \n",
      "0              0.902857          0.903382      0.955120  LogReg  \n",
      "1              0.925714          0.925487      0.953608  LogReg  \n",
      "2              0.908571          0.908379      0.953053  LogReg  \n",
      "3              0.880000          0.879330      0.931370  LogReg  \n",
      "4              0.882857          0.882924      0.946045  LogReg  \n",
      "KNN\n"
     ]
    },
    {
     "name": "stdout",
     "output_type": "stream",
     "text": [
      "              precision    recall  f1-score   support\n",
      "\n",
      "   malignant       0.91      0.90      0.91       341\n",
      "      benign       0.86      0.88      0.87       243\n",
      "\n",
      "    accuracy                           0.89       584\n",
      "   macro avg       0.89      0.89      0.89       584\n",
      "weighted avg       0.89      0.89      0.89       584\n",
      "\n",
      "   fit_time  score_time  test_accuracy  test_precision_weighted  \\\n",
      "0  0.026738    0.007514       0.902857                 0.905407   \n",
      "1  0.026561    0.006978       0.925714                 0.926248   \n",
      "2  0.023226    0.005553       0.908571                 0.909146   \n",
      "3  0.020215    0.005630       0.880000                 0.880151   \n",
      "4  0.020720    0.005524       0.882857                 0.883005   \n",
      "5  0.000798    0.126360       0.848571                 0.848774   \n",
      "6  0.000887    0.012702       0.848571                 0.849331   \n",
      "7  0.000897    0.012953       0.854286                 0.854455   \n",
      "8  0.000877    0.012935       0.828571                 0.829919   \n",
      "9  0.000914    0.013005       0.862857                 0.862369   \n",
      "\n",
      "   test_recall_weighted  test_f1_weighted  test_roc_auc   model  \n",
      "0              0.902857          0.903382      0.955120  LogReg  \n",
      "1              0.925714          0.925487      0.953608  LogReg  \n",
      "2              0.908571          0.908379      0.953053  LogReg  \n",
      "3              0.880000          0.879330      0.931370  LogReg  \n",
      "4              0.882857          0.882924      0.946045  LogReg  \n",
      "5              0.848571          0.848666      0.934578     KNN  \n",
      "6              0.848571          0.848777      0.931817     KNN  \n",
      "7              0.854286          0.854026      0.916587     KNN  \n",
      "8              0.828571          0.829000      0.907962     KNN  \n",
      "9              0.862857          0.862143      0.948539     KNN  \n"
     ]
    },
    {
     "name": "stdout",
     "output_type": "stream",
     "text": [
      "SVM\n",
      "              precision    recall  f1-score   support\n",
      "\n",
      "   malignant       0.87      0.92      0.90       341\n",
      "      benign       0.88      0.81      0.84       243\n",
      "\n",
      "    accuracy                           0.88       584\n",
      "   macro avg       0.88      0.87      0.87       584\n",
      "weighted avg       0.88      0.88      0.87       584\n",
      "\n",
      "    fit_time  score_time  test_accuracy  test_precision_weighted  \\\n",
      "0   0.026738    0.007514       0.902857                 0.905407   \n",
      "1   0.026561    0.006978       0.925714                 0.926248   \n",
      "2   0.023226    0.005553       0.908571                 0.909146   \n",
      "3   0.020215    0.005630       0.880000                 0.880151   \n",
      "4   0.020720    0.005524       0.882857                 0.883005   \n",
      "5   0.000798    0.126360       0.848571                 0.848774   \n",
      "6   0.000887    0.012702       0.848571                 0.849331   \n",
      "7   0.000897    0.012953       0.854286                 0.854455   \n",
      "8   0.000877    0.012935       0.828571                 0.829919   \n",
      "9   0.000914    0.013005       0.862857                 0.862369   \n",
      "10  0.073060    0.069351       0.902857                 0.902753   \n",
      "11  0.068452    0.066472       0.885714                 0.886708   \n",
      "12  0.067006    0.065064       0.868571                 0.874519   \n",
      "13  0.066199    0.064756       0.897143                 0.896968   \n",
      "14  0.066471    0.064857       0.857143                 0.859544   \n",
      "\n",
      "    test_recall_weighted  test_f1_weighted  test_roc_auc   model  \n",
      "0               0.902857          0.903382      0.955120  LogReg  \n",
      "1               0.925714          0.925487      0.953608  LogReg  \n",
      "2               0.908571          0.908379      0.953053  LogReg  \n",
      "3               0.880000          0.879330      0.931370  LogReg  \n",
      "4               0.882857          0.882924      0.946045  LogReg  \n",
      "5               0.848571          0.848666      0.934578     KNN  \n",
      "6               0.848571          0.848777      0.931817     KNN  \n",
      "7               0.854286          0.854026      0.916587     KNN  \n",
      "8               0.828571          0.829000      0.907962     KNN  \n",
      "9               0.862857          0.862143      0.948539     KNN  \n",
      "10              0.902857          0.902307      0.946541     SVM  \n",
      "11              0.885714          0.885143      0.947330     SVM  \n",
      "12              0.868571          0.867312      0.939110     SVM  \n",
      "13              0.897143          0.896935      0.935693     SVM  \n",
      "14              0.857143          0.854670      0.928128     SVM  \n",
      "GNB\n",
      "              precision    recall  f1-score   support\n",
      "\n",
      "   malignant       1.00      1.00      1.00       341\n",
      "      benign       1.00      1.00      1.00       243\n",
      "\n",
      "    accuracy                           1.00       584\n",
      "   macro avg       1.00      1.00      1.00       584\n",
      "weighted avg       1.00      1.00      1.00       584\n",
      "\n",
      "    fit_time  score_time  test_accuracy  test_precision_weighted  \\\n",
      "0   0.026738    0.007514       0.902857                 0.905407   \n",
      "1   0.026561    0.006978       0.925714                 0.926248   \n",
      "2   0.023226    0.005553       0.908571                 0.909146   \n",
      "3   0.020215    0.005630       0.880000                 0.880151   \n",
      "4   0.020720    0.005524       0.882857                 0.883005   \n",
      "5   0.000798    0.126360       0.848571                 0.848774   \n",
      "6   0.000887    0.012702       0.848571                 0.849331   \n",
      "7   0.000897    0.012953       0.854286                 0.854455   \n",
      "8   0.000877    0.012935       0.828571                 0.829919   \n",
      "9   0.000914    0.013005       0.862857                 0.862369   \n",
      "10  0.073060    0.069351       0.902857                 0.902753   \n",
      "11  0.068452    0.066472       0.885714                 0.886708   \n",
      "12  0.067006    0.065064       0.868571                 0.874519   \n",
      "13  0.066199    0.064756       0.897143                 0.896968   \n",
      "14  0.066471    0.064857       0.857143                 0.859544   \n",
      "15  0.001947    0.005957       1.000000                 1.000000   \n",
      "16  0.001751    0.005768       1.000000                 1.000000   \n",
      "17  0.001733    0.005659       1.000000                 1.000000   \n",
      "18  0.001702    0.005678       1.000000                 1.000000   \n",
      "19  0.001713    0.005781       1.000000                 1.000000   \n",
      "\n",
      "    test_recall_weighted  test_f1_weighted  test_roc_auc   model  \n",
      "0               0.902857          0.903382      0.955120  LogReg  \n",
      "1               0.925714          0.925487      0.953608  LogReg  \n",
      "2               0.908571          0.908379      0.953053  LogReg  \n",
      "3               0.880000          0.879330      0.931370  LogReg  \n",
      "4               0.882857          0.882924      0.946045  LogReg  \n",
      "5               0.848571          0.848666      0.934578     KNN  \n",
      "6               0.848571          0.848777      0.931817     KNN  \n",
      "7               0.854286          0.854026      0.916587     KNN  \n",
      "8               0.828571          0.829000      0.907962     KNN  \n",
      "9               0.862857          0.862143      0.948539     KNN  \n",
      "10              0.902857          0.902307      0.946541     SVM  \n",
      "11              0.885714          0.885143      0.947330     SVM  \n",
      "12              0.868571          0.867312      0.939110     SVM  \n",
      "13              0.897143          0.896935      0.935693     SVM  \n",
      "14              0.857143          0.854670      0.928128     SVM  \n",
      "15              1.000000          1.000000      1.000000     GNB  \n",
      "16              1.000000          1.000000      1.000000     GNB  \n",
      "17              1.000000          1.000000      1.000000     GNB  \n",
      "18              1.000000          1.000000      1.000000     GNB  \n",
      "19              1.000000          1.000000      1.000000     GNB  \n",
      "13.25953006464988\n"
     ]
    }
   ],
   "source": [
    "# Scenario 2; Throttles\n",
    "\n",
    "    # 1) THR: %10\n",
    "\n",
    "df_malicious = pd.concat([df33])\n",
    "df_benign = pd.concat([df19])\n",
    "\n",
    "print(\"malicious: {}\".format(len(df_malicious)))\n",
    "print(\"benign: {}\".format(len(df_benign)))\n",
    "\n",
    "print(\"{} NAN in malicious!\".format(len(df_malicious[df_malicious.isna().any(axis=1)])))\n",
    "print(\"{} NAN in benign!\".format(len(df_benign[df_benign.isna().any(axis=1)])))\n",
    "\n",
    "df_malicious = df_malicious.dropna()\n",
    "df_benign = df_benign.dropna()\n",
    "\n",
    "print(\"After droppping NAN rows: \")\n",
    "print(\"malicious: {}\".format(len(df_malicious)))\n",
    "print(\"benign: {}\".format(len(df_benign)))\n",
    "\n",
    "start = timer()\n",
    "\n",
    "results_THR_10_s2 = run_process(df_malicious,df_benign,df_results)\n",
    "\n",
    "\n",
    "end = timer()\n",
    "print(end - start)\n",
    "\n"
   ]
  },
  {
   "cell_type": "code",
   "execution_count": 14,
   "id": "cgy5qeCf3z2Q",
   "metadata": {
    "execution": {
     "iopub.execute_input": "2025-08-02T07:37:06.549677Z",
     "iopub.status.busy": "2025-08-02T07:37:06.549538Z",
     "iopub.status.idle": "2025-08-02T07:38:14.515912Z",
     "shell.execute_reply": "2025-08-02T07:38:14.515199Z"
    },
    "id": "cgy5qeCf3z2Q",
    "outputId": "5a75e094-4ce8-4867-de3c-108e9bbb607b"
   },
   "outputs": [
    {
     "name": "stdout",
     "output_type": "stream",
     "text": [
      "malicious: 26669\n",
      "benign: 29010\n",
      "0 NAN in malicious!\n",
      "0 NAN in benign!\n",
      "After droppping NAN rows: \n",
      "malicious: 26669\n",
      "benign: 29010\n"
     ]
    },
    {
     "name": "stderr",
     "output_type": "stream",
     "text": [
      "\r",
      "Feature Extraction:   0%|          | 0/157 [00:00<?, ?it/s]"
     ]
    },
    {
     "name": "stderr",
     "output_type": "stream",
     "text": [
      "\r",
      "Feature Extraction:   1%|          | 1/157 [00:01<03:31,  1.35s/it]"
     ]
    },
    {
     "name": "stderr",
     "output_type": "stream",
     "text": [
      "\r",
      "Feature Extraction:   1%|▏         | 2/157 [00:01<01:37,  1.58it/s]"
     ]
    },
    {
     "name": "stderr",
     "output_type": "stream",
     "text": [
      "\r",
      "Feature Extraction:   5%|▌         | 8/157 [00:01<00:18,  8.16it/s]"
     ]
    },
    {
     "name": "stderr",
     "output_type": "stream",
     "text": [
      "\r",
      "Feature Extraction:  10%|▉         | 15/157 [00:01<00:08, 16.49it/s]"
     ]
    },
    {
     "name": "stderr",
     "output_type": "stream",
     "text": [
      "\r",
      "Feature Extraction:  13%|█▎        | 21/157 [00:01<00:05, 23.36it/s]"
     ]
    },
    {
     "name": "stderr",
     "output_type": "stream",
     "text": [
      "\r",
      "Feature Extraction:  17%|█▋        | 26/157 [00:01<00:04, 28.22it/s]"
     ]
    },
    {
     "name": "stderr",
     "output_type": "stream",
     "text": [
      "\r",
      "Feature Extraction:  20%|█▉        | 31/157 [00:02<00:03, 32.11it/s]"
     ]
    },
    {
     "name": "stderr",
     "output_type": "stream",
     "text": [
      "\r",
      "Feature Extraction:  23%|██▎       | 36/157 [00:02<00:09, 13.12it/s]"
     ]
    },
    {
     "name": "stderr",
     "output_type": "stream",
     "text": [
      "\r",
      "Feature Extraction:  25%|██▌       | 40/157 [00:03<00:07, 14.96it/s]"
     ]
    },
    {
     "name": "stderr",
     "output_type": "stream",
     "text": [
      "\r",
      "Feature Extraction:  29%|██▊       | 45/157 [00:03<00:05, 19.28it/s]"
     ]
    },
    {
     "name": "stderr",
     "output_type": "stream",
     "text": [
      "\r",
      "Feature Extraction:  32%|███▏      | 51/157 [00:03<00:04, 24.25it/s]"
     ]
    },
    {
     "name": "stderr",
     "output_type": "stream",
     "text": [
      "\r",
      "Feature Extraction:  36%|███▌      | 56/157 [00:03<00:03, 28.57it/s]"
     ]
    },
    {
     "name": "stderr",
     "output_type": "stream",
     "text": [
      "\r",
      "Feature Extraction:  39%|███▉      | 61/157 [00:03<00:03, 31.30it/s]"
     ]
    },
    {
     "name": "stderr",
     "output_type": "stream",
     "text": [
      "\r",
      "Feature Extraction:  42%|████▏     | 66/157 [00:04<00:06, 14.29it/s]"
     ]
    },
    {
     "name": "stderr",
     "output_type": "stream",
     "text": [
      "\r",
      "Feature Extraction:  45%|████▍     | 70/157 [00:04<00:05, 15.91it/s]"
     ]
    },
    {
     "name": "stderr",
     "output_type": "stream",
     "text": [
      "\r",
      "Feature Extraction:  46%|████▋     | 73/157 [00:04<00:04, 17.19it/s]"
     ]
    },
    {
     "name": "stderr",
     "output_type": "stream",
     "text": [
      "\r",
      "Feature Extraction:  49%|████▉     | 77/157 [00:04<00:03, 20.34it/s]"
     ]
    },
    {
     "name": "stderr",
     "output_type": "stream",
     "text": [
      "\r",
      "Feature Extraction:  52%|█████▏    | 81/157 [00:04<00:03, 23.71it/s]"
     ]
    },
    {
     "name": "stderr",
     "output_type": "stream",
     "text": [
      "\r",
      "Feature Extraction:  54%|█████▍    | 85/157 [00:04<00:02, 26.30it/s]"
     ]
    },
    {
     "name": "stderr",
     "output_type": "stream",
     "text": [
      "\r",
      "Feature Extraction:  58%|█████▊    | 91/157 [00:05<00:01, 33.46it/s]"
     ]
    },
    {
     "name": "stderr",
     "output_type": "stream",
     "text": [
      "\r",
      "Feature Extraction:  61%|██████    | 96/157 [00:05<00:02, 23.35it/s]"
     ]
    },
    {
     "name": "stderr",
     "output_type": "stream",
     "text": [
      "\r",
      "Feature Extraction:  64%|██████▎   | 100/157 [00:05<00:03, 15.38it/s]"
     ]
    },
    {
     "name": "stderr",
     "output_type": "stream",
     "text": [
      "\r",
      "Feature Extraction:  66%|██████▌   | 103/157 [00:06<00:03, 15.53it/s]"
     ]
    },
    {
     "name": "stderr",
     "output_type": "stream",
     "text": [
      "\r",
      "Feature Extraction:  69%|██████▉   | 108/157 [00:06<00:02, 19.90it/s]"
     ]
    },
    {
     "name": "stderr",
     "output_type": "stream",
     "text": [
      "\r",
      "Feature Extraction:  72%|███████▏  | 113/157 [00:06<00:01, 24.36it/s]"
     ]
    },
    {
     "name": "stderr",
     "output_type": "stream",
     "text": [
      "\r",
      "Feature Extraction:  75%|███████▍  | 117/157 [00:06<00:01, 24.85it/s]"
     ]
    },
    {
     "name": "stderr",
     "output_type": "stream",
     "text": [
      "\r",
      "Feature Extraction:  77%|███████▋  | 121/157 [00:06<00:01, 26.57it/s]"
     ]
    },
    {
     "name": "stderr",
     "output_type": "stream",
     "text": [
      "\r",
      "Feature Extraction:  80%|███████▉  | 125/157 [00:06<00:01, 29.01it/s]"
     ]
    },
    {
     "name": "stderr",
     "output_type": "stream",
     "text": [
      "\r",
      "Feature Extraction:  82%|████████▏ | 129/157 [00:07<00:01, 17.42it/s]"
     ]
    },
    {
     "name": "stderr",
     "output_type": "stream",
     "text": [
      "\r",
      "Feature Extraction:  84%|████████▍ | 132/157 [00:07<00:01, 16.31it/s]"
     ]
    },
    {
     "name": "stderr",
     "output_type": "stream",
     "text": [
      "\r",
      "Feature Extraction:  86%|████████▌ | 135/157 [00:07<00:01, 17.49it/s]"
     ]
    },
    {
     "name": "stderr",
     "output_type": "stream",
     "text": [
      "\r",
      "Feature Extraction:  91%|█████████ | 143/157 [00:07<00:00, 26.58it/s]"
     ]
    },
    {
     "name": "stderr",
     "output_type": "stream",
     "text": [
      "\r",
      "Feature Extraction:  95%|█████████▍| 149/157 [00:07<00:00, 31.64it/s]"
     ]
    },
    {
     "name": "stderr",
     "output_type": "stream",
     "text": [
      "\r",
      "Feature Extraction:  98%|█████████▊| 154/157 [00:07<00:00, 34.09it/s]"
     ]
    },
    {
     "name": "stderr",
     "output_type": "stream",
     "text": [
      "\r",
      "Feature Extraction: 100%|██████████| 157/157 [00:07<00:00, 19.64it/s]"
     ]
    },
    {
     "name": "stderr",
     "output_type": "stream",
     "text": [
      "\n"
     ]
    },
    {
     "name": "stderr",
     "output_type": "stream",
     "text": [
      "\r",
      "Feature Extraction:   0%|          | 0/153 [00:00<?, ?it/s]"
     ]
    },
    {
     "name": "stderr",
     "output_type": "stream",
     "text": [
      "\r",
      "Feature Extraction:   1%|          | 1/153 [00:01<04:13,  1.67s/it]"
     ]
    },
    {
     "name": "stderr",
     "output_type": "stream",
     "text": [
      "\r",
      "Feature Extraction:   5%|▍         | 7/153 [00:01<00:28,  5.13it/s]"
     ]
    },
    {
     "name": "stderr",
     "output_type": "stream",
     "text": [
      "\r",
      "Feature Extraction:   8%|▊         | 12/153 [00:01<00:14,  9.55it/s]"
     ]
    },
    {
     "name": "stderr",
     "output_type": "stream",
     "text": [
      "\r",
      "Feature Extraction:  12%|█▏        | 18/153 [00:02<00:08, 15.67it/s]"
     ]
    },
    {
     "name": "stderr",
     "output_type": "stream",
     "text": [
      "\r",
      "Feature Extraction:  16%|█▋        | 25/153 [00:02<00:05, 23.52it/s]"
     ]
    },
    {
     "name": "stderr",
     "output_type": "stream",
     "text": [
      "\r",
      "Feature Extraction:  20%|██        | 31/153 [00:02<00:05, 23.04it/s]"
     ]
    },
    {
     "name": "stderr",
     "output_type": "stream",
     "text": [
      "\r",
      "Feature Extraction:  24%|██▎       | 36/153 [00:03<00:10, 11.47it/s]"
     ]
    },
    {
     "name": "stderr",
     "output_type": "stream",
     "text": [
      "\r",
      "Feature Extraction:  25%|██▌       | 39/153 [00:03<00:08, 12.98it/s]"
     ]
    },
    {
     "name": "stderr",
     "output_type": "stream",
     "text": [
      "\r",
      "Feature Extraction:  29%|██▉       | 44/153 [00:03<00:06, 17.07it/s]"
     ]
    },
    {
     "name": "stderr",
     "output_type": "stream",
     "text": [
      "\r",
      "Feature Extraction:  32%|███▏      | 49/153 [00:03<00:04, 21.54it/s]"
     ]
    },
    {
     "name": "stderr",
     "output_type": "stream",
     "text": [
      "\r",
      "Feature Extraction:  35%|███▌      | 54/153 [00:03<00:03, 25.76it/s]"
     ]
    },
    {
     "name": "stderr",
     "output_type": "stream",
     "text": [
      "\r",
      "Feature Extraction:  39%|███▊      | 59/153 [00:03<00:03, 25.98it/s]"
     ]
    },
    {
     "name": "stderr",
     "output_type": "stream",
     "text": [
      "\r",
      "Feature Extraction:  41%|████      | 63/153 [00:04<00:03, 25.18it/s]"
     ]
    },
    {
     "name": "stderr",
     "output_type": "stream",
     "text": [
      "\r",
      "Feature Extraction:  44%|████▍     | 67/153 [00:05<00:07, 11.37it/s]"
     ]
    },
    {
     "name": "stderr",
     "output_type": "stream",
     "text": [
      "\r",
      "Feature Extraction:  46%|████▌     | 70/153 [00:05<00:06, 12.77it/s]"
     ]
    },
    {
     "name": "stderr",
     "output_type": "stream",
     "text": [
      "\r",
      "Feature Extraction:  48%|████▊     | 74/153 [00:05<00:05, 15.52it/s]"
     ]
    },
    {
     "name": "stderr",
     "output_type": "stream",
     "text": [
      "\r",
      "Feature Extraction:  52%|█████▏    | 79/153 [00:05<00:03, 20.18it/s]"
     ]
    },
    {
     "name": "stderr",
     "output_type": "stream",
     "text": [
      "\r",
      "Feature Extraction:  54%|█████▍    | 83/153 [00:05<00:03, 22.61it/s]"
     ]
    },
    {
     "name": "stderr",
     "output_type": "stream",
     "text": [
      "\r",
      "Feature Extraction:  57%|█████▋    | 87/153 [00:05<00:02, 25.17it/s]"
     ]
    },
    {
     "name": "stderr",
     "output_type": "stream",
     "text": [
      "\r",
      "Feature Extraction:  59%|█████▉    | 91/153 [00:05<00:02, 26.38it/s]"
     ]
    },
    {
     "name": "stderr",
     "output_type": "stream",
     "text": [
      "\r",
      "Feature Extraction:  62%|██████▏   | 95/153 [00:05<00:02, 27.91it/s]"
     ]
    },
    {
     "name": "stderr",
     "output_type": "stream",
     "text": [
      "\r",
      "Feature Extraction:  65%|██████▍   | 99/153 [00:06<00:04, 12.18it/s]"
     ]
    },
    {
     "name": "stderr",
     "output_type": "stream",
     "text": [
      "\r",
      "Feature Extraction:  67%|██████▋   | 102/153 [00:06<00:03, 13.77it/s]"
     ]
    },
    {
     "name": "stderr",
     "output_type": "stream",
     "text": [
      "\r",
      "Feature Extraction:  69%|██████▊   | 105/153 [00:06<00:03, 15.39it/s]"
     ]
    },
    {
     "name": "stderr",
     "output_type": "stream",
     "text": [
      "\r",
      "Feature Extraction:  71%|███████   | 109/153 [00:07<00:02, 18.85it/s]"
     ]
    },
    {
     "name": "stderr",
     "output_type": "stream",
     "text": [
      "\r",
      "Feature Extraction:  74%|███████▍  | 113/153 [00:07<00:01, 20.44it/s]"
     ]
    },
    {
     "name": "stderr",
     "output_type": "stream",
     "text": [
      "\r",
      "Feature Extraction:  76%|███████▌  | 116/153 [00:07<00:01, 21.73it/s]"
     ]
    },
    {
     "name": "stderr",
     "output_type": "stream",
     "text": [
      "\r",
      "Feature Extraction:  78%|███████▊  | 120/153 [00:07<00:01, 24.37it/s]"
     ]
    },
    {
     "name": "stderr",
     "output_type": "stream",
     "text": [
      "\r",
      "Feature Extraction:  81%|████████  | 124/153 [00:07<00:01, 27.57it/s]"
     ]
    },
    {
     "name": "stderr",
     "output_type": "stream",
     "text": [
      "\r",
      "Feature Extraction:  84%|████████▎ | 128/153 [00:07<00:00, 30.13it/s]"
     ]
    },
    {
     "name": "stderr",
     "output_type": "stream",
     "text": [
      "\r",
      "Feature Extraction:  86%|████████▋ | 132/153 [00:08<00:01, 14.79it/s]"
     ]
    },
    {
     "name": "stderr",
     "output_type": "stream",
     "text": [
      "\r",
      "Feature Extraction:  90%|████████▉ | 137/153 [00:08<00:00, 19.70it/s]"
     ]
    },
    {
     "name": "stderr",
     "output_type": "stream",
     "text": [
      "\r",
      "Feature Extraction:  93%|█████████▎| 142/153 [00:08<00:00, 22.58it/s]"
     ]
    },
    {
     "name": "stderr",
     "output_type": "stream",
     "text": [
      "\r",
      "Feature Extraction:  95%|█████████▌| 146/153 [00:08<00:00, 25.29it/s]"
     ]
    },
    {
     "name": "stderr",
     "output_type": "stream",
     "text": [
      "\r",
      "Feature Extraction:  98%|█████████▊| 150/153 [00:08<00:00, 26.66it/s]"
     ]
    },
    {
     "name": "stderr",
     "output_type": "stream",
     "text": [
      "\r",
      "Feature Extraction: 100%|██████████| 153/153 [00:08<00:00, 17.52it/s]"
     ]
    },
    {
     "name": "stderr",
     "output_type": "stream",
     "text": [
      "\n"
     ]
    },
    {
     "name": "stdout",
     "output_type": "stream",
     "text": [
      "let the ml starts\n"
     ]
    },
    {
     "name": "stdout",
     "output_type": "stream",
     "text": [
      "LogReg\n",
      "              precision    recall  f1-score   support\n",
      "\n",
      "   malignant       0.95      0.96      0.95       712\n",
      "      benign       0.95      0.95      0.95       680\n",
      "\n",
      "    accuracy                           0.95      1392\n",
      "   macro avg       0.95      0.95      0.95      1392\n",
      "weighted avg       0.95      0.95      0.95      1392\n",
      "\n",
      "   fit_time  score_time  test_accuracy  test_precision_weighted  \\\n",
      "0  7.632735    0.008223       0.967703                 0.967755   \n",
      "1  6.315356    0.007726       0.962874                 0.962909   \n",
      "2  6.704831    0.007719       0.952096                 0.952103   \n",
      "3  6.339077    0.007874       0.965269                 0.965515   \n",
      "4  7.503724    0.007686       0.973653                 0.973709   \n",
      "\n",
      "   test_recall_weighted  test_f1_weighted  test_roc_auc   model  \n",
      "0              0.967703          0.967716      0.991480  LogReg  \n",
      "1              0.962874          0.962879      0.990398  LogReg  \n",
      "2              0.952096          0.952077      0.989055  LogReg  \n",
      "3              0.965269          0.965280      0.993013  LogReg  \n",
      "4              0.973653          0.973659      0.994219  LogReg  \n"
     ]
    },
    {
     "name": "stdout",
     "output_type": "stream",
     "text": [
      "KNN\n",
      "              precision    recall  f1-score   support\n",
      "\n",
      "   malignant       0.95      0.95      0.95       712\n",
      "      benign       0.95      0.95      0.95       680\n",
      "\n",
      "    accuracy                           0.95      1392\n",
      "   macro avg       0.95      0.95      0.95      1392\n",
      "weighted avg       0.95      0.95      0.95      1392\n",
      "\n",
      "   fit_time  score_time  test_accuracy  test_precision_weighted  \\\n",
      "0  7.632735    0.008223       0.967703                 0.967755   \n",
      "1  6.315356    0.007726       0.962874                 0.962909   \n",
      "2  6.704831    0.007719       0.952096                 0.952103   \n",
      "3  6.339077    0.007874       0.965269                 0.965515   \n",
      "4  7.503724    0.007686       0.973653                 0.973709   \n",
      "5  0.003176    0.136436       0.972488                 0.972675   \n",
      "6  0.003489    0.040750       0.949701                 0.949761   \n",
      "7  0.002883    0.110129       0.952096                 0.952096   \n",
      "8  0.002790    0.074597       0.956886                 0.957313   \n",
      "9  0.002913    0.028241       0.976048                 0.976065   \n",
      "\n",
      "   test_recall_weighted  test_f1_weighted  test_roc_auc   model  \n",
      "0              0.967703          0.967716      0.991480  LogReg  \n",
      "1              0.962874          0.962879      0.990398  LogReg  \n",
      "2              0.952096          0.952077      0.989055  LogReg  \n",
      "3              0.965269          0.965280      0.993013  LogReg  \n",
      "4              0.973653          0.973659      0.994219  LogReg  \n",
      "5              0.972488          0.972513      0.992733     KNN  \n",
      "6              0.949701          0.949709      0.980619     KNN  \n",
      "7              0.952096          0.952096      0.988250     KNN  \n",
      "8              0.956886          0.956902      0.988876     KNN  \n",
      "9              0.976048          0.976051      0.988047     KNN  \n"
     ]
    },
    {
     "name": "stdout",
     "output_type": "stream",
     "text": [
      "SVM\n",
      "              precision    recall  f1-score   support\n",
      "\n",
      "   malignant       0.96      0.94      0.95       712\n",
      "      benign       0.94      0.95      0.95       680\n",
      "\n",
      "    accuracy                           0.95      1392\n",
      "   macro avg       0.95      0.95      0.95      1392\n",
      "weighted avg       0.95      0.95      0.95      1392\n",
      "\n",
      "    fit_time  score_time  test_accuracy  test_precision_weighted  \\\n",
      "0   7.632735    0.008223       0.967703                 0.967755   \n",
      "1   6.315356    0.007726       0.962874                 0.962909   \n",
      "2   6.704831    0.007719       0.952096                 0.952103   \n",
      "3   6.339077    0.007874       0.965269                 0.965515   \n",
      "4   7.503724    0.007686       0.973653                 0.973709   \n",
      "5   0.003176    0.136436       0.972488                 0.972675   \n",
      "6   0.003489    0.040750       0.949701                 0.949761   \n",
      "7   0.002883    0.110129       0.952096                 0.952096   \n",
      "8   0.002790    0.074597       0.956886                 0.957313   \n",
      "9   0.002913    0.028241       0.976048                 0.976065   \n",
      "10  0.141301    0.109783       0.962919                 0.963355   \n",
      "11  0.129486    0.100693       0.966467                 0.967036   \n",
      "12  0.126055    0.098542       0.956886                 0.956960   \n",
      "13  0.139833    0.107636       0.971257                 0.971257   \n",
      "14  0.130128    0.103313       0.968862                 0.969296   \n",
      "\n",
      "    test_recall_weighted  test_f1_weighted  test_roc_auc   model  \n",
      "0               0.967703          0.967716      0.991480  LogReg  \n",
      "1               0.962874          0.962879      0.990398  LogReg  \n",
      "2               0.952096          0.952077      0.989055  LogReg  \n",
      "3               0.965269          0.965280      0.993013  LogReg  \n",
      "4               0.973653          0.973659      0.994219  LogReg  \n",
      "5               0.972488          0.972513      0.992733     KNN  \n",
      "6               0.949701          0.949709      0.980619     KNN  \n",
      "7               0.952096          0.952096      0.988250     KNN  \n",
      "8               0.956886          0.956902      0.988876     KNN  \n",
      "9               0.976048          0.976051      0.988047     KNN  \n",
      "10              0.962919          0.962969      0.989270     SVM  \n",
      "11              0.966467          0.966480      0.986244     SVM  \n",
      "12              0.956886          0.956901      0.979886     SVM  \n",
      "13              0.971257          0.971257      0.991772     SVM  \n",
      "14              0.968862          0.968879      0.993506     SVM  \n",
      "GNB\n",
      "              precision    recall  f1-score   support\n",
      "\n",
      "   malignant       0.98      1.00      0.99       712\n",
      "      benign       1.00      0.97      0.98       680\n",
      "\n",
      "    accuracy                           0.98      1392\n",
      "   macro avg       0.99      0.98      0.98      1392\n",
      "weighted avg       0.99      0.98      0.98      1392\n",
      "\n",
      "    fit_time  score_time  test_accuracy  test_precision_weighted  \\\n",
      "0   7.632735    0.008223       0.967703                 0.967755   \n",
      "1   6.315356    0.007726       0.962874                 0.962909   \n",
      "2   6.704831    0.007719       0.952096                 0.952103   \n",
      "3   6.339077    0.007874       0.965269                 0.965515   \n",
      "4   7.503724    0.007686       0.973653                 0.973709   \n",
      "5   0.003176    0.136436       0.972488                 0.972675   \n",
      "6   0.003489    0.040750       0.949701                 0.949761   \n",
      "7   0.002883    0.110129       0.952096                 0.952096   \n",
      "8   0.002790    0.074597       0.956886                 0.957313   \n",
      "9   0.002913    0.028241       0.976048                 0.976065   \n",
      "10  0.141301    0.109783       0.962919                 0.963355   \n",
      "11  0.129486    0.100693       0.966467                 0.967036   \n",
      "12  0.126055    0.098542       0.956886                 0.956960   \n",
      "13  0.139833    0.107636       0.971257                 0.971257   \n",
      "14  0.130128    0.103313       0.968862                 0.969296   \n",
      "15  0.007080    0.007520       0.994019                 0.994040   \n",
      "16  0.006720    0.007332       0.995210                 0.995220   \n",
      "17  0.006705    0.007303       0.985629                 0.986003   \n",
      "18  0.006748    0.007329       0.988024                 0.988315   \n",
      "19  0.006705    0.007322       0.996407                 0.996432   \n",
      "\n",
      "    test_recall_weighted  test_f1_weighted  test_roc_auc   model  \n",
      "0               0.967703          0.967716      0.991480  LogReg  \n",
      "1               0.962874          0.962879      0.990398  LogReg  \n",
      "2               0.952096          0.952077      0.989055  LogReg  \n",
      "3               0.965269          0.965280      0.993013  LogReg  \n",
      "4               0.973653          0.973659      0.994219  LogReg  \n",
      "5               0.972488          0.972513      0.992733     KNN  \n",
      "6               0.949701          0.949709      0.980619     KNN  \n",
      "7               0.952096          0.952096      0.988250     KNN  \n",
      "8               0.956886          0.956902      0.988876     KNN  \n",
      "9               0.976048          0.976051      0.988047     KNN  \n",
      "10              0.962919          0.962969      0.989270     SVM  \n",
      "11              0.966467          0.966480      0.986244     SVM  \n",
      "12              0.956886          0.956901      0.979886     SVM  \n",
      "13              0.971257          0.971257      0.991772     SVM  \n",
      "14              0.968862          0.968879      0.993506     SVM  \n",
      "15              0.994019          0.994017      0.997509     GNB  \n",
      "16              0.995210          0.995209      0.997572     GNB  \n",
      "17              0.985629          0.985610      0.996114     GNB  \n",
      "18              0.988024          0.988028      0.998839     GNB  \n",
      "19              0.996407          0.996406      0.998720     GNB  \n",
      "67.94337369222194\n"
     ]
    }
   ],
   "source": [
    "# 2) THR: %50\n",
    "\n",
    "df_malicious = pd.concat([df3,df32,df34])\n",
    "df_benign = pd.concat([df11])\n",
    "\n",
    "print(\"malicious: {}\".format(len(df_malicious)))\n",
    "print(\"benign: {}\".format(len(df_benign)))\n",
    "\n",
    "print(\"{} NAN in malicious!\".format(len(df_malicious[df_malicious.isna().any(axis=1)])))\n",
    "print(\"{} NAN in benign!\".format(len(df_benign[df_benign.isna().any(axis=1)])))\n",
    "\n",
    "df_malicious = df_malicious.dropna()\n",
    "df_benign = df_benign.dropna()\n",
    "\n",
    "print(\"After droppping NAN rows: \")\n",
    "print(\"malicious: {}\".format(len(df_malicious)))\n",
    "print(\"benign: {}\".format(len(df_benign)))\n",
    "\n",
    "start = timer()\n",
    "\n",
    "results_THR_50_s2 = run_process(df_malicious,df_benign,df_results)\n",
    "\n",
    "\n",
    "end = timer()\n",
    "print(end - start)"
   ]
  },
  {
   "cell_type": "code",
   "execution_count": 15,
   "id": "dq4vl0AL3z2Q",
   "metadata": {
    "execution": {
     "iopub.execute_input": "2025-08-02T07:38:14.517939Z",
     "iopub.status.busy": "2025-08-02T07:38:14.517799Z",
     "iopub.status.idle": "2025-08-02T12:12:10.020302Z",
     "shell.execute_reply": "2025-08-02T12:12:10.019640Z"
    },
    "id": "dq4vl0AL3z2Q",
    "outputId": "cd8ad746-5ee8-4741-9c62-ff8ea9ed338e"
   },
   "outputs": [
    {
     "name": "stdout",
     "output_type": "stream",
     "text": [
      "malicious: 1520681\n",
      "benign: 1537036\n"
     ]
    },
    {
     "name": "stdout",
     "output_type": "stream",
     "text": [
      "0 NAN in malicious!\n"
     ]
    },
    {
     "name": "stdout",
     "output_type": "stream",
     "text": [
      "0 NAN in benign!\n"
     ]
    },
    {
     "name": "stdout",
     "output_type": "stream",
     "text": [
      "After droppping NAN rows: \n",
      "malicious: 1520681\n",
      "benign: 1537036\n"
     ]
    },
    {
     "name": "stderr",
     "output_type": "stream",
     "text": [
      "\r",
      "Feature Extraction:   0%|          | 0/160 [00:00<?, ?it/s]"
     ]
    },
    {
     "name": "stderr",
     "output_type": "stream",
     "text": [
      "\r",
      "Feature Extraction:   1%|          | 1/160 [01:23<3:42:27, 83.94s/it]"
     ]
    },
    {
     "name": "stderr",
     "output_type": "stream",
     "text": [
      "\r",
      "Feature Extraction:   1%|▏         | 2/160 [01:25<1:33:03, 35.34s/it]"
     ]
    },
    {
     "name": "stderr",
     "output_type": "stream",
     "text": [
      "\r",
      "Feature Extraction:   2%|▏         | 3/160 [01:26<51:51, 19.82s/it]  "
     ]
    },
    {
     "name": "stderr",
     "output_type": "stream",
     "text": [
      "\r",
      "Feature Extraction:   2%|▎         | 4/160 [01:27<31:47, 12.23s/it]"
     ]
    },
    {
     "name": "stderr",
     "output_type": "stream",
     "text": [
      "\r",
      "Feature Extraction:   3%|▎         | 5/160 [01:28<21:00,  8.14s/it]"
     ]
    },
    {
     "name": "stderr",
     "output_type": "stream",
     "text": [
      "\r",
      "Feature Extraction:   4%|▍         | 6/160 [01:29<15:17,  5.96s/it]"
     ]
    },
    {
     "name": "stderr",
     "output_type": "stream",
     "text": [
      "\r",
      "Feature Extraction:   4%|▍         | 7/160 [01:30<10:57,  4.30s/it]"
     ]
    },
    {
     "name": "stderr",
     "output_type": "stream",
     "text": [
      "\r",
      "Feature Extraction:   5%|▌         | 8/160 [01:31<07:48,  3.08s/it]"
     ]
    },
    {
     "name": "stderr",
     "output_type": "stream",
     "text": [
      "\r",
      "Feature Extraction:   6%|▌         | 9/160 [01:32<06:18,  2.51s/it]"
     ]
    },
    {
     "name": "stderr",
     "output_type": "stream",
     "text": [
      "\r",
      "Feature Extraction:   6%|▋         | 10/160 [01:33<04:59,  2.00s/it]"
     ]
    },
    {
     "name": "stderr",
     "output_type": "stream",
     "text": [
      "\r",
      "Feature Extraction:   7%|▋         | 11/160 [01:34<04:07,  1.66s/it]"
     ]
    },
    {
     "name": "stderr",
     "output_type": "stream",
     "text": [
      "\r",
      "Feature Extraction:   8%|▊         | 12/160 [01:34<03:27,  1.40s/it]"
     ]
    },
    {
     "name": "stderr",
     "output_type": "stream",
     "text": [
      "\r",
      "Feature Extraction:   8%|▊         | 13/160 [01:36<03:16,  1.34s/it]"
     ]
    },
    {
     "name": "stderr",
     "output_type": "stream",
     "text": [
      "\r",
      "Feature Extraction:   9%|▉         | 14/160 [01:36<02:45,  1.13s/it]"
     ]
    },
    {
     "name": "stderr",
     "output_type": "stream",
     "text": [
      "\r",
      "Feature Extraction:   9%|▉         | 15/160 [01:37<02:33,  1.06s/it]"
     ]
    },
    {
     "name": "stderr",
     "output_type": "stream",
     "text": [
      "\r",
      "Feature Extraction:  10%|█         | 16/160 [01:38<02:20,  1.02it/s]"
     ]
    },
    {
     "name": "stderr",
     "output_type": "stream",
     "text": [
      "\r",
      "Feature Extraction:  11%|█         | 17/160 [01:39<02:13,  1.07it/s]"
     ]
    },
    {
     "name": "stderr",
     "output_type": "stream",
     "text": [
      "\r",
      "Feature Extraction:  11%|█▏        | 18/160 [01:40<02:08,  1.10it/s]"
     ]
    },
    {
     "name": "stderr",
     "output_type": "stream",
     "text": [
      "\r",
      "Feature Extraction:  12%|█▏        | 19/160 [01:40<01:56,  1.21it/s]"
     ]
    },
    {
     "name": "stderr",
     "output_type": "stream",
     "text": [
      "\r",
      "Feature Extraction:  12%|█▎        | 20/160 [01:41<02:03,  1.13it/s]"
     ]
    },
    {
     "name": "stderr",
     "output_type": "stream",
     "text": [
      "\r",
      "Feature Extraction:  13%|█▎        | 21/160 [01:42<02:04,  1.11it/s]"
     ]
    },
    {
     "name": "stderr",
     "output_type": "stream",
     "text": [
      "\r",
      "Feature Extraction:  14%|█▍        | 22/160 [01:43<02:02,  1.13it/s]"
     ]
    },
    {
     "name": "stderr",
     "output_type": "stream",
     "text": [
      "\r",
      "Feature Extraction:  14%|█▍        | 23/160 [01:44<02:00,  1.14it/s]"
     ]
    },
    {
     "name": "stderr",
     "output_type": "stream",
     "text": [
      "\r",
      "Feature Extraction:  15%|█▌        | 24/160 [01:45<02:04,  1.10it/s]"
     ]
    },
    {
     "name": "stderr",
     "output_type": "stream",
     "text": [
      "\r",
      "Feature Extraction:  16%|█▌        | 25/160 [01:46<02:02,  1.10it/s]"
     ]
    },
    {
     "name": "stderr",
     "output_type": "stream",
     "text": [
      "\r",
      "Feature Extraction:  16%|█▋        | 26/160 [01:47<02:00,  1.11it/s]"
     ]
    },
    {
     "name": "stderr",
     "output_type": "stream",
     "text": [
      "\r",
      "Feature Extraction:  17%|█▋        | 27/160 [01:47<01:48,  1.22it/s]"
     ]
    },
    {
     "name": "stderr",
     "output_type": "stream",
     "text": [
      "\r",
      "Feature Extraction:  18%|█▊        | 28/160 [01:49<02:23,  1.09s/it]"
     ]
    },
    {
     "name": "stderr",
     "output_type": "stream",
     "text": [
      "\r",
      "Feature Extraction:  18%|█▊        | 29/160 [01:50<02:20,  1.07s/it]"
     ]
    },
    {
     "name": "stderr",
     "output_type": "stream",
     "text": [
      "\r",
      "Feature Extraction:  19%|█▉        | 30/160 [01:51<02:11,  1.01s/it]"
     ]
    },
    {
     "name": "stderr",
     "output_type": "stream",
     "text": [
      "\r",
      "Feature Extraction:  19%|█▉        | 31/160 [01:53<02:36,  1.21s/it]"
     ]
    },
    {
     "name": "stderr",
     "output_type": "stream",
     "text": [
      "\r",
      "Feature Extraction:  20%|██        | 32/160 [01:54<02:25,  1.14s/it]"
     ]
    },
    {
     "name": "stderr",
     "output_type": "stream",
     "text": [
      "\r",
      "Feature Extraction:  21%|██        | 33/160 [02:44<33:54, 16.02s/it]"
     ]
    },
    {
     "name": "stderr",
     "output_type": "stream",
     "text": [
      "\r",
      "Feature Extraction:  21%|██▏       | 34/160 [02:47<24:58, 11.89s/it]"
     ]
    },
    {
     "name": "stderr",
     "output_type": "stream",
     "text": [
      "\r",
      "Feature Extraction:  22%|██▏       | 35/160 [02:48<18:03,  8.67s/it]"
     ]
    },
    {
     "name": "stderr",
     "output_type": "stream",
     "text": [
      "\r",
      "Feature Extraction:  22%|██▎       | 36/160 [02:49<13:06,  6.35s/it]"
     ]
    },
    {
     "name": "stderr",
     "output_type": "stream",
     "text": [
      "\r",
      "Feature Extraction:  23%|██▎       | 37/160 [02:51<10:36,  5.18s/it]"
     ]
    },
    {
     "name": "stderr",
     "output_type": "stream",
     "text": [
      "\r",
      "Feature Extraction:  24%|██▍       | 38/160 [02:52<08:05,  3.98s/it]"
     ]
    },
    {
     "name": "stderr",
     "output_type": "stream",
     "text": [
      "\r",
      "Feature Extraction:  24%|██▍       | 39/160 [02:54<06:28,  3.21s/it]"
     ]
    },
    {
     "name": "stderr",
     "output_type": "stream",
     "text": [
      "\r",
      "Feature Extraction:  25%|██▌       | 40/160 [02:55<05:02,  2.52s/it]"
     ]
    },
    {
     "name": "stderr",
     "output_type": "stream",
     "text": [
      "\r",
      "Feature Extraction:  26%|██▌       | 41/160 [02:56<04:33,  2.30s/it]"
     ]
    },
    {
     "name": "stderr",
     "output_type": "stream",
     "text": [
      "\r",
      "Feature Extraction:  26%|██▋       | 42/160 [02:57<03:40,  1.87s/it]"
     ]
    },
    {
     "name": "stderr",
     "output_type": "stream",
     "text": [
      "\r",
      "Feature Extraction:  27%|██▋       | 43/160 [03:00<04:13,  2.17s/it]"
     ]
    },
    {
     "name": "stderr",
     "output_type": "stream",
     "text": [
      "\r",
      "Feature Extraction:  28%|██▊       | 44/160 [03:01<03:38,  1.88s/it]"
     ]
    },
    {
     "name": "stderr",
     "output_type": "stream",
     "text": [
      "\r",
      "Feature Extraction:  28%|██▊       | 45/160 [03:03<03:22,  1.76s/it]"
     ]
    },
    {
     "name": "stderr",
     "output_type": "stream",
     "text": [
      "\r",
      "Feature Extraction:  29%|██▉       | 46/160 [03:04<03:02,  1.60s/it]"
     ]
    },
    {
     "name": "stderr",
     "output_type": "stream",
     "text": [
      "\r",
      "Feature Extraction:  29%|██▉       | 47/160 [03:05<02:30,  1.34s/it]"
     ]
    },
    {
     "name": "stderr",
     "output_type": "stream",
     "text": [
      "\r",
      "Feature Extraction:  30%|███       | 48/160 [03:07<03:05,  1.66s/it]"
     ]
    },
    {
     "name": "stderr",
     "output_type": "stream",
     "text": [
      "\r",
      "Feature Extraction:  31%|███       | 49/160 [03:08<02:42,  1.46s/it]"
     ]
    },
    {
     "name": "stderr",
     "output_type": "stream",
     "text": [
      "\r",
      "Feature Extraction:  31%|███▏      | 50/160 [03:10<02:46,  1.51s/it]"
     ]
    },
    {
     "name": "stderr",
     "output_type": "stream",
     "text": [
      "\r",
      "Feature Extraction:  32%|███▏      | 51/160 [03:11<02:27,  1.35s/it]"
     ]
    },
    {
     "name": "stderr",
     "output_type": "stream",
     "text": [
      "\r",
      "Feature Extraction:  32%|███▎      | 52/160 [03:12<02:16,  1.26s/it]"
     ]
    },
    {
     "name": "stderr",
     "output_type": "stream",
     "text": [
      "\r",
      "Feature Extraction:  33%|███▎      | 53/160 [03:13<02:16,  1.28s/it]"
     ]
    },
    {
     "name": "stderr",
     "output_type": "stream",
     "text": [
      "\r",
      "Feature Extraction:  34%|███▍      | 54/160 [03:14<01:56,  1.10s/it]"
     ]
    },
    {
     "name": "stderr",
     "output_type": "stream",
     "text": [
      "\r",
      "Feature Extraction:  34%|███▍      | 55/160 [03:16<02:39,  1.51s/it]"
     ]
    },
    {
     "name": "stderr",
     "output_type": "stream",
     "text": [
      "\r",
      "Feature Extraction:  35%|███▌      | 56/160 [03:17<02:19,  1.34s/it]"
     ]
    },
    {
     "name": "stderr",
     "output_type": "stream",
     "text": [
      "\r",
      "Feature Extraction:  36%|███▌      | 57/160 [03:18<01:57,  1.14s/it]"
     ]
    },
    {
     "name": "stderr",
     "output_type": "stream",
     "text": [
      "\r",
      "Feature Extraction:  36%|███▋      | 58/160 [03:19<02:04,  1.22s/it]"
     ]
    },
    {
     "name": "stderr",
     "output_type": "stream",
     "text": [
      "\r",
      "Feature Extraction:  37%|███▋      | 59/160 [03:21<02:16,  1.36s/it]"
     ]
    },
    {
     "name": "stderr",
     "output_type": "stream",
     "text": [
      "\r",
      "Feature Extraction:  38%|███▊      | 60/160 [03:22<02:14,  1.34s/it]"
     ]
    },
    {
     "name": "stderr",
     "output_type": "stream",
     "text": [
      "\r",
      "Feature Extraction:  38%|███▊      | 61/160 [03:24<02:10,  1.32s/it]"
     ]
    },
    {
     "name": "stderr",
     "output_type": "stream",
     "text": [
      "\r",
      "Feature Extraction:  39%|███▉      | 62/160 [03:26<02:37,  1.60s/it]"
     ]
    },
    {
     "name": "stderr",
     "output_type": "stream",
     "text": [
      "\r",
      "Feature Extraction:  39%|███▉      | 63/160 [03:27<02:33,  1.58s/it]"
     ]
    },
    {
     "name": "stderr",
     "output_type": "stream",
     "text": [
      "\r",
      "Feature Extraction:  40%|████      | 64/160 [03:28<02:15,  1.41s/it]"
     ]
    },
    {
     "name": "stderr",
     "output_type": "stream",
     "text": [
      "\r",
      "Feature Extraction:  41%|████      | 65/160 [04:16<24:21, 15.39s/it]"
     ]
    },
    {
     "name": "stderr",
     "output_type": "stream",
     "text": [
      "\r",
      "Feature Extraction:  41%|████▏     | 66/160 [04:19<17:56, 11.45s/it]"
     ]
    },
    {
     "name": "stderr",
     "output_type": "stream",
     "text": [
      "\r",
      "Feature Extraction:  42%|████▏     | 67/160 [04:20<12:53,  8.31s/it]"
     ]
    },
    {
     "name": "stderr",
     "output_type": "stream",
     "text": [
      "\r",
      "Feature Extraction:  42%|████▎     | 68/160 [04:23<10:29,  6.84s/it]"
     ]
    },
    {
     "name": "stderr",
     "output_type": "stream",
     "text": [
      "\r",
      "Feature Extraction:  43%|████▎     | 69/160 [04:24<07:41,  5.07s/it]"
     ]
    },
    {
     "name": "stderr",
     "output_type": "stream",
     "text": [
      "\r",
      "Feature Extraction:  44%|████▍     | 70/160 [04:25<05:57,  3.97s/it]"
     ]
    },
    {
     "name": "stderr",
     "output_type": "stream",
     "text": [
      "\r",
      "Feature Extraction:  44%|████▍     | 71/160 [04:26<04:33,  3.08s/it]"
     ]
    },
    {
     "name": "stderr",
     "output_type": "stream",
     "text": [
      "\r",
      "Feature Extraction:  45%|████▌     | 72/160 [04:27<03:33,  2.43s/it]"
     ]
    },
    {
     "name": "stderr",
     "output_type": "stream",
     "text": [
      "\r",
      "Feature Extraction:  46%|████▌     | 73/160 [04:31<03:56,  2.72s/it]"
     ]
    },
    {
     "name": "stderr",
     "output_type": "stream",
     "text": [
      "\r",
      "Feature Extraction:  46%|████▋     | 74/160 [04:32<03:05,  2.16s/it]"
     ]
    },
    {
     "name": "stderr",
     "output_type": "stream",
     "text": [
      "\r",
      "Feature Extraction:  47%|████▋     | 75/160 [04:35<03:22,  2.39s/it]"
     ]
    },
    {
     "name": "stderr",
     "output_type": "stream",
     "text": [
      "\r",
      "Feature Extraction:  48%|████▊     | 76/160 [04:35<02:41,  1.93s/it]"
     ]
    },
    {
     "name": "stderr",
     "output_type": "stream",
     "text": [
      "\r",
      "Feature Extraction:  48%|████▊     | 77/160 [04:36<02:15,  1.63s/it]"
     ]
    },
    {
     "name": "stderr",
     "output_type": "stream",
     "text": [
      "\r",
      "Feature Extraction:  49%|████▉     | 78/160 [04:38<02:14,  1.64s/it]"
     ]
    },
    {
     "name": "stderr",
     "output_type": "stream",
     "text": [
      "\r",
      "Feature Extraction:  49%|████▉     | 79/160 [04:39<01:56,  1.44s/it]"
     ]
    },
    {
     "name": "stderr",
     "output_type": "stream",
     "text": [
      "\r",
      "Feature Extraction:  50%|█████     | 80/160 [04:41<02:07,  1.59s/it]"
     ]
    },
    {
     "name": "stderr",
     "output_type": "stream",
     "text": [
      "\r",
      "Feature Extraction:  51%|█████     | 81/160 [04:42<01:57,  1.49s/it]"
     ]
    },
    {
     "name": "stderr",
     "output_type": "stream",
     "text": [
      "\r",
      "Feature Extraction:  51%|█████▏    | 82/160 [04:45<02:32,  1.96s/it]"
     ]
    },
    {
     "name": "stderr",
     "output_type": "stream",
     "text": [
      "\r",
      "Feature Extraction:  52%|█████▏    | 83/160 [04:46<01:58,  1.54s/it]"
     ]
    },
    {
     "name": "stderr",
     "output_type": "stream",
     "text": [
      "\r",
      "Feature Extraction:  52%|█████▎    | 84/160 [04:47<01:44,  1.37s/it]"
     ]
    },
    {
     "name": "stderr",
     "output_type": "stream",
     "text": [
      "\r",
      "Feature Extraction:  53%|█████▎    | 85/160 [04:48<01:48,  1.44s/it]"
     ]
    },
    {
     "name": "stderr",
     "output_type": "stream",
     "text": [
      "\r",
      "Feature Extraction:  54%|█████▍    | 86/160 [04:50<01:40,  1.36s/it]"
     ]
    },
    {
     "name": "stderr",
     "output_type": "stream",
     "text": [
      "\r",
      "Feature Extraction:  54%|█████▍    | 87/160 [04:51<01:35,  1.31s/it]"
     ]
    },
    {
     "name": "stderr",
     "output_type": "stream",
     "text": [
      "\r",
      "Feature Extraction:  55%|█████▌    | 88/160 [04:52<01:22,  1.15s/it]"
     ]
    },
    {
     "name": "stderr",
     "output_type": "stream",
     "text": [
      "\r",
      "Feature Extraction:  56%|█████▌    | 89/160 [04:52<01:12,  1.02s/it]"
     ]
    },
    {
     "name": "stderr",
     "output_type": "stream",
     "text": [
      "\r",
      "Feature Extraction:  56%|█████▋    | 90/160 [04:56<02:03,  1.76s/it]"
     ]
    },
    {
     "name": "stderr",
     "output_type": "stream",
     "text": [
      "\r",
      "Feature Extraction:  57%|█████▋    | 91/160 [04:57<01:44,  1.51s/it]"
     ]
    },
    {
     "name": "stderr",
     "output_type": "stream",
     "text": [
      "\r",
      "Feature Extraction:  57%|█████▊    | 92/160 [04:57<01:26,  1.27s/it]"
     ]
    },
    {
     "name": "stderr",
     "output_type": "stream",
     "text": [
      "\r",
      "Feature Extraction:  58%|█████▊    | 93/160 [04:58<01:15,  1.12s/it]"
     ]
    },
    {
     "name": "stderr",
     "output_type": "stream",
     "text": [
      "\r",
      "Feature Extraction:  59%|█████▉    | 94/160 [04:59<01:16,  1.16s/it]"
     ]
    },
    {
     "name": "stderr",
     "output_type": "stream",
     "text": [
      "\r",
      "Feature Extraction:  59%|█████▉    | 95/160 [05:00<01:10,  1.08s/it]"
     ]
    },
    {
     "name": "stderr",
     "output_type": "stream",
     "text": [
      "\r",
      "Feature Extraction:  60%|██████    | 96/160 [05:04<02:08,  2.00s/it]"
     ]
    },
    {
     "name": "stderr",
     "output_type": "stream",
     "text": [
      "\r",
      "Feature Extraction:  61%|██████    | 97/160 [05:51<16:05, 15.32s/it]"
     ]
    },
    {
     "name": "stderr",
     "output_type": "stream",
     "text": [
      "\r",
      "Feature Extraction:  61%|██████▏   | 98/160 [05:52<11:26, 11.07s/it]"
     ]
    },
    {
     "name": "stderr",
     "output_type": "stream",
     "text": [
      "\r",
      "Feature Extraction:  62%|██████▏   | 99/160 [05:54<08:23,  8.26s/it]"
     ]
    },
    {
     "name": "stderr",
     "output_type": "stream",
     "text": [
      "\r",
      "Feature Extraction:  62%|██████▎   | 100/160 [05:55<06:18,  6.32s/it]"
     ]
    },
    {
     "name": "stderr",
     "output_type": "stream",
     "text": [
      "\r",
      "Feature Extraction:  63%|██████▎   | 101/160 [05:59<05:19,  5.42s/it]"
     ]
    },
    {
     "name": "stderr",
     "output_type": "stream",
     "text": [
      "\r",
      "Feature Extraction:  64%|██████▍   | 102/160 [05:59<03:51,  3.99s/it]"
     ]
    },
    {
     "name": "stderr",
     "output_type": "stream",
     "text": [
      "\r",
      "Feature Extraction:  64%|██████▍   | 103/160 [06:00<02:51,  3.01s/it]"
     ]
    },
    {
     "name": "stderr",
     "output_type": "stream",
     "text": [
      "\r",
      "Feature Extraction:  65%|██████▌   | 104/160 [06:04<02:55,  3.14s/it]"
     ]
    },
    {
     "name": "stderr",
     "output_type": "stream",
     "text": [
      "\r",
      "Feature Extraction:  66%|██████▌   | 105/160 [06:04<02:14,  2.45s/it]"
     ]
    },
    {
     "name": "stderr",
     "output_type": "stream",
     "text": [
      "\r",
      "Feature Extraction:  66%|██████▋   | 106/160 [06:06<01:59,  2.21s/it]"
     ]
    },
    {
     "name": "stderr",
     "output_type": "stream",
     "text": [
      "\r",
      "Feature Extraction:  67%|██████▋   | 107/160 [06:07<01:37,  1.84s/it]"
     ]
    },
    {
     "name": "stderr",
     "output_type": "stream",
     "text": [
      "\r",
      "Feature Extraction:  68%|██████▊   | 108/160 [06:08<01:21,  1.57s/it]"
     ]
    },
    {
     "name": "stderr",
     "output_type": "stream",
     "text": [
      "\r",
      "Feature Extraction:  68%|██████▊   | 109/160 [06:12<01:52,  2.20s/it]"
     ]
    },
    {
     "name": "stderr",
     "output_type": "stream",
     "text": [
      "\r",
      "Feature Extraction:  69%|██████▉   | 110/160 [06:12<01:27,  1.75s/it]"
     ]
    },
    {
     "name": "stderr",
     "output_type": "stream",
     "text": [
      "\r",
      "Feature Extraction:  69%|██████▉   | 111/160 [06:14<01:19,  1.62s/it]"
     ]
    },
    {
     "name": "stderr",
     "output_type": "stream",
     "text": [
      "\r",
      "Feature Extraction:  70%|███████   | 112/160 [06:16<01:21,  1.70s/it]"
     ]
    },
    {
     "name": "stderr",
     "output_type": "stream",
     "text": [
      "\r",
      "Feature Extraction:  71%|███████   | 113/160 [06:17<01:11,  1.51s/it]"
     ]
    },
    {
     "name": "stderr",
     "output_type": "stream",
     "text": [
      "\r",
      "Feature Extraction:  71%|███████▏  | 114/160 [06:20<01:32,  2.02s/it]"
     ]
    },
    {
     "name": "stderr",
     "output_type": "stream",
     "text": [
      "\r",
      "Feature Extraction:  72%|███████▏  | 115/160 [06:24<01:57,  2.60s/it]"
     ]
    },
    {
     "name": "stderr",
     "output_type": "stream",
     "text": [
      "\r",
      "Feature Extraction:  72%|███████▎  | 116/160 [06:24<01:27,  1.99s/it]"
     ]
    },
    {
     "name": "stderr",
     "output_type": "stream",
     "text": [
      "\r",
      "Feature Extraction:  73%|███████▎  | 117/160 [06:26<01:16,  1.79s/it]"
     ]
    },
    {
     "name": "stderr",
     "output_type": "stream",
     "text": [
      "\r",
      "Feature Extraction:  74%|███████▍  | 118/160 [06:26<01:01,  1.47s/it]"
     ]
    },
    {
     "name": "stderr",
     "output_type": "stream",
     "text": [
      "\r",
      "Feature Extraction:  74%|███████▍  | 119/160 [06:27<00:50,  1.22s/it]"
     ]
    },
    {
     "name": "stderr",
     "output_type": "stream",
     "text": [
      "\r",
      "Feature Extraction:  75%|███████▌  | 120/160 [06:28<00:43,  1.09s/it]"
     ]
    },
    {
     "name": "stderr",
     "output_type": "stream",
     "text": [
      "\r",
      "Feature Extraction:  76%|███████▌  | 121/160 [06:29<00:45,  1.17s/it]"
     ]
    },
    {
     "name": "stderr",
     "output_type": "stream",
     "text": [
      "\r",
      "Feature Extraction:  76%|███████▋  | 122/160 [06:31<00:47,  1.26s/it]"
     ]
    },
    {
     "name": "stderr",
     "output_type": "stream",
     "text": [
      "\r",
      "Feature Extraction:  77%|███████▋  | 123/160 [06:34<01:12,  1.95s/it]"
     ]
    },
    {
     "name": "stderr",
     "output_type": "stream",
     "text": [
      "\r",
      "Feature Extraction:  78%|███████▊  | 124/160 [06:35<00:57,  1.60s/it]"
     ]
    },
    {
     "name": "stderr",
     "output_type": "stream",
     "text": [
      "\r",
      "Feature Extraction:  78%|███████▊  | 125/160 [06:36<00:49,  1.42s/it]"
     ]
    },
    {
     "name": "stderr",
     "output_type": "stream",
     "text": [
      "\r",
      "Feature Extraction:  79%|███████▉  | 126/160 [06:37<00:46,  1.37s/it]"
     ]
    },
    {
     "name": "stderr",
     "output_type": "stream",
     "text": [
      "\r",
      "Feature Extraction:  79%|███████▉  | 127/160 [06:39<00:44,  1.34s/it]"
     ]
    },
    {
     "name": "stderr",
     "output_type": "stream",
     "text": [
      "\r",
      "Feature Extraction:  80%|████████  | 128/160 [06:40<00:40,  1.27s/it]"
     ]
    },
    {
     "name": "stderr",
     "output_type": "stream",
     "text": [
      "\r",
      "Feature Extraction:  81%|████████  | 129/160 [07:24<07:15, 14.05s/it]"
     ]
    },
    {
     "name": "stderr",
     "output_type": "stream",
     "text": [
      "\r",
      "Feature Extraction:  81%|████████▏ | 130/160 [07:27<05:26, 10.89s/it]"
     ]
    },
    {
     "name": "stderr",
     "output_type": "stream",
     "text": [
      "\r",
      "Feature Extraction:  82%|████████▏ | 131/160 [07:29<03:57,  8.18s/it]"
     ]
    },
    {
     "name": "stderr",
     "output_type": "stream",
     "text": [
      "\r",
      "Feature Extraction:  82%|████████▎ | 132/160 [07:31<02:55,  6.27s/it]"
     ]
    },
    {
     "name": "stderr",
     "output_type": "stream",
     "text": [
      "\r",
      "Feature Extraction:  83%|████████▎ | 133/160 [07:34<02:25,  5.39s/it]"
     ]
    },
    {
     "name": "stderr",
     "output_type": "stream",
     "text": [
      "\r",
      "Feature Extraction:  84%|████████▍ | 134/160 [07:35<01:44,  4.02s/it]"
     ]
    },
    {
     "name": "stderr",
     "output_type": "stream",
     "text": [
      "\r",
      "Feature Extraction:  84%|████████▍ | 135/160 [07:38<01:33,  3.73s/it]"
     ]
    },
    {
     "name": "stderr",
     "output_type": "stream",
     "text": [
      "\r",
      "Feature Extraction:  85%|████████▌ | 136/160 [07:38<01:06,  2.76s/it]"
     ]
    },
    {
     "name": "stderr",
     "output_type": "stream",
     "text": [
      "\r",
      "Feature Extraction:  86%|████████▌ | 137/160 [07:40<00:53,  2.34s/it]"
     ]
    },
    {
     "name": "stderr",
     "output_type": "stream",
     "text": [
      "\r",
      "Feature Extraction:  86%|████████▋ | 138/160 [07:41<00:43,  1.96s/it]"
     ]
    },
    {
     "name": "stderr",
     "output_type": "stream",
     "text": [
      "\r",
      "Feature Extraction:  87%|████████▋ | 139/160 [07:42<00:34,  1.63s/it]"
     ]
    },
    {
     "name": "stderr",
     "output_type": "stream",
     "text": [
      "\r",
      "Feature Extraction:  88%|████████▊ | 140/160 [07:43<00:30,  1.54s/it]"
     ]
    },
    {
     "name": "stderr",
     "output_type": "stream",
     "text": [
      "\r",
      "Feature Extraction:  88%|████████▊ | 141/160 [07:44<00:23,  1.22s/it]"
     ]
    },
    {
     "name": "stderr",
     "output_type": "stream",
     "text": [
      "\r",
      "Feature Extraction:  89%|████████▉ | 142/160 [07:45<00:23,  1.33s/it]"
     ]
    },
    {
     "name": "stderr",
     "output_type": "stream",
     "text": [
      "\r",
      "Feature Extraction:  89%|████████▉ | 143/160 [07:46<00:18,  1.06s/it]"
     ]
    },
    {
     "name": "stderr",
     "output_type": "stream",
     "text": [
      "\r",
      "Feature Extraction:  90%|█████████ | 144/160 [07:46<00:13,  1.15it/s]"
     ]
    },
    {
     "name": "stderr",
     "output_type": "stream",
     "text": [
      "\r",
      "Feature Extraction:  91%|█████████ | 145/160 [07:47<00:15,  1.02s/it]"
     ]
    },
    {
     "name": "stderr",
     "output_type": "stream",
     "text": [
      "\r",
      "Feature Extraction:  91%|█████████▏| 146/160 [07:48<00:11,  1.24it/s]"
     ]
    },
    {
     "name": "stderr",
     "output_type": "stream",
     "text": [
      "\r",
      "Feature Extraction:  92%|█████████▏| 147/160 [07:49<00:12,  1.03it/s]"
     ]
    },
    {
     "name": "stderr",
     "output_type": "stream",
     "text": [
      "\r",
      "Feature Extraction:  92%|█████████▎| 148/160 [07:49<00:09,  1.29it/s]"
     ]
    },
    {
     "name": "stderr",
     "output_type": "stream",
     "text": [
      "\r",
      "Feature Extraction:  93%|█████████▎| 149/160 [07:50<00:07,  1.57it/s]"
     ]
    },
    {
     "name": "stderr",
     "output_type": "stream",
     "text": [
      "\r",
      "Feature Extraction:  94%|█████████▍| 150/160 [07:50<00:06,  1.61it/s]"
     ]
    },
    {
     "name": "stderr",
     "output_type": "stream",
     "text": [
      "\r",
      "Feature Extraction:  94%|█████████▍| 151/160 [07:53<00:12,  1.35s/it]"
     ]
    },
    {
     "name": "stderr",
     "output_type": "stream",
     "text": [
      "\r",
      "Feature Extraction:  95%|█████████▌| 152/160 [07:54<00:09,  1.14s/it]"
     ]
    },
    {
     "name": "stderr",
     "output_type": "stream",
     "text": [
      "\r",
      "Feature Extraction:  96%|█████████▌| 153/160 [07:54<00:06,  1.08it/s]"
     ]
    },
    {
     "name": "stderr",
     "output_type": "stream",
     "text": [
      "\r",
      "Feature Extraction:  96%|█████████▋| 154/160 [07:55<00:04,  1.35it/s]"
     ]
    },
    {
     "name": "stderr",
     "output_type": "stream",
     "text": [
      "\r",
      "Feature Extraction:  97%|█████████▋| 155/160 [07:55<00:03,  1.49it/s]"
     ]
    },
    {
     "name": "stderr",
     "output_type": "stream",
     "text": [
      "\r",
      "Feature Extraction:  98%|█████████▊| 156/160 [07:56<00:03,  1.26it/s]"
     ]
    },
    {
     "name": "stderr",
     "output_type": "stream",
     "text": [
      "\r",
      "Feature Extraction:  98%|█████████▊| 157/160 [07:57<00:02,  1.48it/s]"
     ]
    },
    {
     "name": "stderr",
     "output_type": "stream",
     "text": [
      "\r",
      "Feature Extraction:  99%|█████████▉| 158/160 [07:58<00:01,  1.23it/s]"
     ]
    },
    {
     "name": "stderr",
     "output_type": "stream",
     "text": [
      "\r",
      "Feature Extraction:  99%|█████████▉| 159/160 [07:59<00:00,  1.04it/s]"
     ]
    },
    {
     "name": "stderr",
     "output_type": "stream",
     "text": [
      "\r",
      "Feature Extraction: 100%|██████████| 160/160 [08:00<00:00,  1.05s/it]"
     ]
    },
    {
     "name": "stderr",
     "output_type": "stream",
     "text": [
      "\r",
      "Feature Extraction: 100%|██████████| 160/160 [08:00<00:00,  3.01s/it]"
     ]
    },
    {
     "name": "stderr",
     "output_type": "stream",
     "text": [
      "\n"
     ]
    },
    {
     "name": "stderr",
     "output_type": "stream",
     "text": [
      "\r",
      "Feature Extraction:   0%|          | 0/160 [00:00<?, ?it/s]"
     ]
    },
    {
     "name": "stderr",
     "output_type": "stream",
     "text": [
      "\r",
      "Feature Extraction:   1%|          | 1/160 [01:25<3:46:03, 85.31s/it]"
     ]
    },
    {
     "name": "stderr",
     "output_type": "stream",
     "text": [
      "\r",
      "Feature Extraction:   1%|▏         | 2/160 [01:25<1:33:33, 35.53s/it]"
     ]
    },
    {
     "name": "stderr",
     "output_type": "stream",
     "text": [
      "\r",
      "Feature Extraction:   2%|▏         | 3/160 [01:26<51:42, 19.76s/it]  "
     ]
    },
    {
     "name": "stderr",
     "output_type": "stream",
     "text": [
      "\r",
      "Feature Extraction:   2%|▎         | 4/160 [01:28<32:18, 12.43s/it]"
     ]
    },
    {
     "name": "stderr",
     "output_type": "stream",
     "text": [
      "\r",
      "Feature Extraction:   3%|▎         | 5/160 [01:29<22:11,  8.59s/it]"
     ]
    },
    {
     "name": "stderr",
     "output_type": "stream",
     "text": [
      "\r",
      "Feature Extraction:   4%|▍         | 6/160 [01:30<15:22,  5.99s/it]"
     ]
    },
    {
     "name": "stderr",
     "output_type": "stream",
     "text": [
      "\r",
      "Feature Extraction:   4%|▍         | 7/160 [01:31<11:03,  4.34s/it]"
     ]
    },
    {
     "name": "stderr",
     "output_type": "stream",
     "text": [
      "\r",
      "Feature Extraction:   5%|▌         | 8/160 [01:32<08:15,  3.26s/it]"
     ]
    },
    {
     "name": "stderr",
     "output_type": "stream",
     "text": [
      "\r",
      "Feature Extraction:   6%|▌         | 9/160 [01:33<06:02,  2.40s/it]"
     ]
    },
    {
     "name": "stderr",
     "output_type": "stream",
     "text": [
      "\r",
      "Feature Extraction:   6%|▋         | 10/160 [01:34<05:06,  2.04s/it]"
     ]
    },
    {
     "name": "stderr",
     "output_type": "stream",
     "text": [
      "\r",
      "Feature Extraction:   7%|▋         | 11/160 [01:36<04:40,  1.88s/it]"
     ]
    },
    {
     "name": "stderr",
     "output_type": "stream",
     "text": [
      "\r",
      "Feature Extraction:   8%|▊         | 12/160 [01:36<03:44,  1.52s/it]"
     ]
    },
    {
     "name": "stderr",
     "output_type": "stream",
     "text": [
      "\r",
      "Feature Extraction:   8%|▊         | 13/160 [01:37<03:01,  1.23s/it]"
     ]
    },
    {
     "name": "stderr",
     "output_type": "stream",
     "text": [
      "\r",
      "Feature Extraction:   9%|▉         | 14/160 [01:38<02:36,  1.07s/it]"
     ]
    },
    {
     "name": "stderr",
     "output_type": "stream",
     "text": [
      "\r",
      "Feature Extraction:   9%|▉         | 15/160 [01:38<02:13,  1.09it/s]"
     ]
    },
    {
     "name": "stderr",
     "output_type": "stream",
     "text": [
      "\r",
      "Feature Extraction:  10%|█         | 16/160 [01:39<02:14,  1.07it/s]"
     ]
    },
    {
     "name": "stderr",
     "output_type": "stream",
     "text": [
      "\r",
      "Feature Extraction:  11%|█         | 17/160 [01:40<02:09,  1.11it/s]"
     ]
    },
    {
     "name": "stderr",
     "output_type": "stream",
     "text": [
      "\r",
      "Feature Extraction:  11%|█▏        | 18/160 [01:41<02:32,  1.07s/it]"
     ]
    },
    {
     "name": "stderr",
     "output_type": "stream",
     "text": [
      "\r",
      "Feature Extraction:  12%|█▏        | 19/160 [01:42<02:21,  1.01s/it]"
     ]
    },
    {
     "name": "stderr",
     "output_type": "stream",
     "text": [
      "\r",
      "Feature Extraction:  12%|█▎        | 20/160 [01:43<02:15,  1.03it/s]"
     ]
    },
    {
     "name": "stderr",
     "output_type": "stream",
     "text": [
      "\r",
      "Feature Extraction:  13%|█▎        | 21/160 [01:44<02:10,  1.06it/s]"
     ]
    },
    {
     "name": "stderr",
     "output_type": "stream",
     "text": [
      "\r",
      "Feature Extraction:  14%|█▍        | 22/160 [01:45<02:06,  1.09it/s]"
     ]
    },
    {
     "name": "stderr",
     "output_type": "stream",
     "text": [
      "\r",
      "Feature Extraction:  14%|█▍        | 23/160 [01:46<02:03,  1.11it/s]"
     ]
    },
    {
     "name": "stderr",
     "output_type": "stream",
     "text": [
      "\r",
      "Feature Extraction:  15%|█▌        | 24/160 [01:47<02:38,  1.17s/it]"
     ]
    },
    {
     "name": "stderr",
     "output_type": "stream",
     "text": [
      "\r",
      "Feature Extraction:  16%|█▌        | 25/160 [01:48<02:26,  1.09s/it]"
     ]
    },
    {
     "name": "stderr",
     "output_type": "stream",
     "text": [
      "\r",
      "Feature Extraction:  16%|█▋        | 26/160 [01:49<02:05,  1.07it/s]"
     ]
    },
    {
     "name": "stderr",
     "output_type": "stream",
     "text": [
      "\r",
      "Feature Extraction:  17%|█▋        | 27/160 [01:50<02:07,  1.04it/s]"
     ]
    },
    {
     "name": "stderr",
     "output_type": "stream",
     "text": [
      "\r",
      "Feature Extraction:  18%|█▊        | 28/160 [01:51<02:06,  1.04it/s]"
     ]
    },
    {
     "name": "stderr",
     "output_type": "stream",
     "text": [
      "\r",
      "Feature Extraction:  18%|█▊        | 29/160 [01:52<02:23,  1.09s/it]"
     ]
    },
    {
     "name": "stderr",
     "output_type": "stream",
     "text": [
      "\r",
      "Feature Extraction:  19%|█▉        | 30/160 [01:53<02:02,  1.06it/s]"
     ]
    },
    {
     "name": "stderr",
     "output_type": "stream",
     "text": [
      "\r",
      "Feature Extraction:  19%|█▉        | 31/160 [01:54<02:23,  1.11s/it]"
     ]
    },
    {
     "name": "stderr",
     "output_type": "stream",
     "text": [
      "\r",
      "Feature Extraction:  20%|██        | 32/160 [01:57<03:02,  1.43s/it]"
     ]
    },
    {
     "name": "stderr",
     "output_type": "stream",
     "text": [
      "\r",
      "Feature Extraction:  21%|██        | 33/160 [02:49<35:19, 16.69s/it]"
     ]
    },
    {
     "name": "stderr",
     "output_type": "stream",
     "text": [
      "\r",
      "Feature Extraction:  21%|██▏       | 34/160 [02:50<25:00, 11.91s/it]"
     ]
    },
    {
     "name": "stderr",
     "output_type": "stream",
     "text": [
      "\r",
      "Feature Extraction:  22%|██▏       | 35/160 [02:50<17:48,  8.55s/it]"
     ]
    },
    {
     "name": "stderr",
     "output_type": "stream",
     "text": [
      "\r",
      "Feature Extraction:  22%|██▎       | 36/160 [02:51<12:44,  6.16s/it]"
     ]
    },
    {
     "name": "stderr",
     "output_type": "stream",
     "text": [
      "\r",
      "Feature Extraction:  23%|██▎       | 37/160 [02:52<09:11,  4.49s/it]"
     ]
    },
    {
     "name": "stderr",
     "output_type": "stream",
     "text": [
      "\r",
      "Feature Extraction:  24%|██▍       | 38/160 [02:55<08:28,  4.17s/it]"
     ]
    },
    {
     "name": "stderr",
     "output_type": "stream",
     "text": [
      "\r",
      "Feature Extraction:  24%|██▍       | 39/160 [02:56<06:26,  3.20s/it]"
     ]
    },
    {
     "name": "stderr",
     "output_type": "stream",
     "text": [
      "\r",
      "Feature Extraction:  25%|██▌       | 40/160 [02:57<04:52,  2.44s/it]"
     ]
    },
    {
     "name": "stderr",
     "output_type": "stream",
     "text": [
      "\r",
      "Feature Extraction:  26%|██▌       | 41/160 [02:57<03:43,  1.88s/it]"
     ]
    },
    {
     "name": "stderr",
     "output_type": "stream",
     "text": [
      "\r",
      "Feature Extraction:  26%|██▋       | 42/160 [02:59<03:43,  1.89s/it]"
     ]
    },
    {
     "name": "stderr",
     "output_type": "stream",
     "text": [
      "\r",
      "Feature Extraction:  27%|██▋       | 43/160 [03:01<03:28,  1.78s/it]"
     ]
    },
    {
     "name": "stderr",
     "output_type": "stream",
     "text": [
      "\r",
      "Feature Extraction:  28%|██▊       | 44/160 [03:02<02:58,  1.54s/it]"
     ]
    },
    {
     "name": "stderr",
     "output_type": "stream",
     "text": [
      "\r",
      "Feature Extraction:  28%|██▊       | 45/160 [03:03<03:04,  1.61s/it]"
     ]
    },
    {
     "name": "stderr",
     "output_type": "stream",
     "text": [
      "\r",
      "Feature Extraction:  29%|██▉       | 46/160 [03:06<03:30,  1.84s/it]"
     ]
    },
    {
     "name": "stderr",
     "output_type": "stream",
     "text": [
      "\r",
      "Feature Extraction:  29%|██▉       | 47/160 [03:07<03:02,  1.61s/it]"
     ]
    },
    {
     "name": "stderr",
     "output_type": "stream",
     "text": [
      "\r",
      "Feature Extraction:  30%|███       | 48/160 [03:09<03:08,  1.69s/it]"
     ]
    },
    {
     "name": "stderr",
     "output_type": "stream",
     "text": [
      "\r",
      "Feature Extraction:  31%|███       | 49/160 [03:10<02:53,  1.57s/it]"
     ]
    },
    {
     "name": "stderr",
     "output_type": "stream",
     "text": [
      "\r",
      "Feature Extraction:  31%|███▏      | 50/160 [03:11<02:30,  1.37s/it]"
     ]
    },
    {
     "name": "stderr",
     "output_type": "stream",
     "text": [
      "\r",
      "Feature Extraction:  32%|███▏      | 51/160 [03:13<02:52,  1.58s/it]"
     ]
    },
    {
     "name": "stderr",
     "output_type": "stream",
     "text": [
      "\r",
      "Feature Extraction:  32%|███▎      | 52/160 [03:15<03:20,  1.86s/it]"
     ]
    },
    {
     "name": "stderr",
     "output_type": "stream",
     "text": [
      "\r",
      "Feature Extraction:  33%|███▎      | 53/160 [03:17<02:56,  1.65s/it]"
     ]
    },
    {
     "name": "stderr",
     "output_type": "stream",
     "text": [
      "\r",
      "Feature Extraction:  34%|███▍      | 54/160 [03:18<02:40,  1.51s/it]"
     ]
    },
    {
     "name": "stderr",
     "output_type": "stream",
     "text": [
      "\r",
      "Feature Extraction:  34%|███▍      | 55/160 [03:19<02:27,  1.41s/it]"
     ]
    },
    {
     "name": "stderr",
     "output_type": "stream",
     "text": [
      "\r",
      "Feature Extraction:  35%|███▌      | 56/160 [03:20<02:22,  1.37s/it]"
     ]
    },
    {
     "name": "stderr",
     "output_type": "stream",
     "text": [
      "\r",
      "Feature Extraction:  36%|███▌      | 57/160 [03:22<02:17,  1.33s/it]"
     ]
    },
    {
     "name": "stderr",
     "output_type": "stream",
     "text": [
      "\r",
      "Feature Extraction:  36%|███▋      | 58/160 [03:23<02:08,  1.26s/it]"
     ]
    },
    {
     "name": "stderr",
     "output_type": "stream",
     "text": [
      "\r",
      "Feature Extraction:  37%|███▋      | 59/160 [03:25<02:52,  1.71s/it]"
     ]
    },
    {
     "name": "stderr",
     "output_type": "stream",
     "text": [
      "\r",
      "Feature Extraction:  38%|███▊      | 60/160 [03:26<02:17,  1.37s/it]"
     ]
    },
    {
     "name": "stderr",
     "output_type": "stream",
     "text": [
      "\r",
      "Feature Extraction:  38%|███▊      | 61/160 [03:27<01:55,  1.16s/it]"
     ]
    },
    {
     "name": "stderr",
     "output_type": "stream",
     "text": [
      "\r",
      "Feature Extraction:  39%|███▉      | 62/160 [03:27<01:45,  1.08s/it]"
     ]
    },
    {
     "name": "stderr",
     "output_type": "stream",
     "text": [
      "\r",
      "Feature Extraction:  39%|███▉      | 63/160 [03:28<01:31,  1.07it/s]"
     ]
    },
    {
     "name": "stderr",
     "output_type": "stream",
     "text": [
      "\r",
      "Feature Extraction:  40%|████      | 64/160 [03:30<01:52,  1.17s/it]"
     ]
    },
    {
     "name": "stderr",
     "output_type": "stream",
     "text": [
      "\r",
      "Feature Extraction:  41%|████      | 65/160 [04:21<25:33, 16.15s/it]"
     ]
    },
    {
     "name": "stderr",
     "output_type": "stream",
     "text": [
      "\r",
      "Feature Extraction:  41%|████▏     | 66/160 [04:24<19:03, 12.16s/it]"
     ]
    },
    {
     "name": "stderr",
     "output_type": "stream",
     "text": [
      "\r",
      "Feature Extraction:  42%|████▏     | 67/160 [04:25<13:44,  8.86s/it]"
     ]
    },
    {
     "name": "stderr",
     "output_type": "stream",
     "text": [
      "\r",
      "Feature Extraction:  42%|████▎     | 68/160 [04:26<10:08,  6.62s/it]"
     ]
    },
    {
     "name": "stderr",
     "output_type": "stream",
     "text": [
      "\r",
      "Feature Extraction:  43%|████▎     | 69/160 [04:27<07:28,  4.93s/it]"
     ]
    },
    {
     "name": "stderr",
     "output_type": "stream",
     "text": [
      "\r",
      "Feature Extraction:  44%|████▍     | 70/160 [04:29<05:49,  3.89s/it]"
     ]
    },
    {
     "name": "stderr",
     "output_type": "stream",
     "text": [
      "\r",
      "Feature Extraction:  44%|████▍     | 71/160 [04:30<04:30,  3.04s/it]"
     ]
    },
    {
     "name": "stderr",
     "output_type": "stream",
     "text": [
      "\r",
      "Feature Extraction:  45%|████▌     | 72/160 [04:31<03:34,  2.44s/it]"
     ]
    },
    {
     "name": "stderr",
     "output_type": "stream",
     "text": [
      "\r",
      "Feature Extraction:  46%|████▌     | 73/160 [04:34<03:45,  2.59s/it]"
     ]
    },
    {
     "name": "stderr",
     "output_type": "stream",
     "text": [
      "\r",
      "Feature Extraction:  46%|████▋     | 74/160 [04:35<03:08,  2.19s/it]"
     ]
    },
    {
     "name": "stderr",
     "output_type": "stream",
     "text": [
      "\r",
      "Feature Extraction:  47%|████▋     | 75/160 [04:36<02:26,  1.73s/it]"
     ]
    },
    {
     "name": "stderr",
     "output_type": "stream",
     "text": [
      "\r",
      "Feature Extraction:  48%|████▊     | 76/160 [04:36<01:58,  1.41s/it]"
     ]
    },
    {
     "name": "stderr",
     "output_type": "stream",
     "text": [
      "\r",
      "Feature Extraction:  48%|████▊     | 77/160 [04:38<01:55,  1.39s/it]"
     ]
    },
    {
     "name": "stderr",
     "output_type": "stream",
     "text": [
      "\r",
      "Feature Extraction:  49%|████▉     | 78/160 [04:39<01:56,  1.42s/it]"
     ]
    },
    {
     "name": "stderr",
     "output_type": "stream",
     "text": [
      "\r",
      "Feature Extraction:  49%|████▉     | 79/160 [04:41<01:51,  1.38s/it]"
     ]
    },
    {
     "name": "stderr",
     "output_type": "stream",
     "text": [
      "\r",
      "Feature Extraction:  50%|█████     | 80/160 [04:43<02:23,  1.79s/it]"
     ]
    },
    {
     "name": "stderr",
     "output_type": "stream",
     "text": [
      "\r",
      "Feature Extraction:  51%|█████     | 81/160 [04:44<01:54,  1.45s/it]"
     ]
    },
    {
     "name": "stderr",
     "output_type": "stream",
     "text": [
      "\r",
      "Feature Extraction:  51%|█████▏    | 82/160 [04:45<01:40,  1.29s/it]"
     ]
    },
    {
     "name": "stderr",
     "output_type": "stream",
     "text": [
      "\r",
      "Feature Extraction:  52%|█████▏    | 83/160 [04:46<01:35,  1.24s/it]"
     ]
    },
    {
     "name": "stderr",
     "output_type": "stream",
     "text": [
      "\r",
      "Feature Extraction:  52%|█████▎    | 84/160 [04:47<01:23,  1.10s/it]"
     ]
    },
    {
     "name": "stderr",
     "output_type": "stream",
     "text": [
      "\r",
      "Feature Extraction:  53%|█████▎    | 85/160 [04:50<02:07,  1.70s/it]"
     ]
    },
    {
     "name": "stderr",
     "output_type": "stream",
     "text": [
      "\r",
      "Feature Extraction:  54%|█████▍    | 86/160 [04:53<02:47,  2.26s/it]"
     ]
    },
    {
     "name": "stderr",
     "output_type": "stream",
     "text": [
      "\r",
      "Feature Extraction:  54%|█████▍    | 87/160 [04:54<02:15,  1.86s/it]"
     ]
    },
    {
     "name": "stderr",
     "output_type": "stream",
     "text": [
      "\r",
      "Feature Extraction:  55%|█████▌    | 88/160 [04:55<01:52,  1.56s/it]"
     ]
    },
    {
     "name": "stderr",
     "output_type": "stream",
     "text": [
      "\r",
      "Feature Extraction:  56%|█████▌    | 89/160 [04:56<01:39,  1.40s/it]"
     ]
    },
    {
     "name": "stderr",
     "output_type": "stream",
     "text": [
      "\r",
      "Feature Extraction:  56%|█████▋    | 90/160 [04:58<01:42,  1.47s/it]"
     ]
    },
    {
     "name": "stderr",
     "output_type": "stream",
     "text": [
      "\r",
      "Feature Extraction:  57%|█████▋    | 91/160 [04:59<01:31,  1.33s/it]"
     ]
    },
    {
     "name": "stderr",
     "output_type": "stream",
     "text": [
      "\r",
      "Feature Extraction:  57%|█████▊    | 92/160 [05:01<01:44,  1.54s/it]"
     ]
    },
    {
     "name": "stderr",
     "output_type": "stream",
     "text": [
      "\r",
      "Feature Extraction:  58%|█████▊    | 93/160 [05:04<02:23,  2.14s/it]"
     ]
    },
    {
     "name": "stderr",
     "output_type": "stream",
     "text": [
      "\r",
      "Feature Extraction:  59%|█████▉    | 94/160 [05:05<01:59,  1.81s/it]"
     ]
    },
    {
     "name": "stderr",
     "output_type": "stream",
     "text": [
      "\r",
      "Feature Extraction:  59%|█████▉    | 95/160 [05:07<01:44,  1.60s/it]"
     ]
    },
    {
     "name": "stderr",
     "output_type": "stream",
     "text": [
      "\r",
      "Feature Extraction:  60%|██████    | 96/160 [05:08<01:30,  1.41s/it]"
     ]
    },
    {
     "name": "stderr",
     "output_type": "stream",
     "text": [
      "\r",
      "Feature Extraction:  61%|██████    | 97/160 [05:56<16:25, 15.64s/it]"
     ]
    },
    {
     "name": "stderr",
     "output_type": "stream",
     "text": [
      "\r",
      "Feature Extraction:  61%|██████▏   | 98/160 [05:57<11:37, 11.25s/it]"
     ]
    },
    {
     "name": "stderr",
     "output_type": "stream",
     "text": [
      "\r",
      "Feature Extraction:  62%|██████▏   | 99/160 [06:01<09:15,  9.10s/it]"
     ]
    },
    {
     "name": "stderr",
     "output_type": "stream",
     "text": [
      "\r",
      "Feature Extraction:  62%|██████▎   | 100/160 [06:03<06:42,  6.71s/it]"
     ]
    },
    {
     "name": "stderr",
     "output_type": "stream",
     "text": [
      "\r",
      "Feature Extraction:  63%|██████▎   | 101/160 [06:03<04:52,  4.96s/it]"
     ]
    },
    {
     "name": "stderr",
     "output_type": "stream",
     "text": [
      "\r",
      "Feature Extraction:  64%|██████▍   | 102/160 [06:04<03:37,  3.74s/it]"
     ]
    },
    {
     "name": "stderr",
     "output_type": "stream",
     "text": [
      "\r",
      "Feature Extraction:  64%|██████▍   | 103/160 [06:05<02:40,  2.82s/it]"
     ]
    },
    {
     "name": "stderr",
     "output_type": "stream",
     "text": [
      "\r",
      "Feature Extraction:  65%|██████▌   | 104/160 [06:06<02:04,  2.22s/it]"
     ]
    },
    {
     "name": "stderr",
     "output_type": "stream",
     "text": [
      "\r",
      "Feature Extraction:  66%|██████▌   | 105/160 [06:09<02:18,  2.52s/it]"
     ]
    },
    {
     "name": "stderr",
     "output_type": "stream",
     "text": [
      "\r",
      "Feature Extraction:  66%|██████▋   | 106/160 [06:13<02:36,  2.90s/it]"
     ]
    },
    {
     "name": "stderr",
     "output_type": "stream",
     "text": [
      "\r",
      "Feature Extraction:  67%|██████▋   | 107/160 [06:14<01:59,  2.25s/it]"
     ]
    },
    {
     "name": "stderr",
     "output_type": "stream",
     "text": [
      "\r",
      "Feature Extraction:  68%|██████▊   | 108/160 [06:15<01:37,  1.88s/it]"
     ]
    },
    {
     "name": "stderr",
     "output_type": "stream",
     "text": [
      "\r",
      "Feature Extraction:  68%|██████▊   | 109/160 [06:15<01:17,  1.51s/it]"
     ]
    },
    {
     "name": "stderr",
     "output_type": "stream",
     "text": [
      "\r",
      "Feature Extraction:  69%|██████▉   | 110/160 [06:17<01:22,  1.64s/it]"
     ]
    },
    {
     "name": "stderr",
     "output_type": "stream",
     "text": [
      "\r",
      "Feature Extraction:  69%|██████▉   | 111/160 [06:18<01:11,  1.46s/it]"
     ]
    },
    {
     "name": "stderr",
     "output_type": "stream",
     "text": [
      "\r",
      "Feature Extraction:  70%|███████   | 112/160 [06:20<01:09,  1.44s/it]"
     ]
    },
    {
     "name": "stderr",
     "output_type": "stream",
     "text": [
      "\r",
      "Feature Extraction:  71%|███████   | 113/160 [06:23<01:35,  2.04s/it]"
     ]
    },
    {
     "name": "stderr",
     "output_type": "stream",
     "text": [
      "\r",
      "Feature Extraction:  71%|███████▏  | 114/160 [06:24<01:19,  1.72s/it]"
     ]
    },
    {
     "name": "stderr",
     "output_type": "stream",
     "text": [
      "\r",
      "Feature Extraction:  72%|███████▏  | 115/160 [06:25<01:02,  1.38s/it]"
     ]
    },
    {
     "name": "stderr",
     "output_type": "stream",
     "text": [
      "\r",
      "Feature Extraction:  72%|███████▎  | 116/160 [06:26<01:03,  1.44s/it]"
     ]
    },
    {
     "name": "stderr",
     "output_type": "stream",
     "text": [
      "\r",
      "Feature Extraction:  73%|███████▎  | 117/160 [06:27<00:50,  1.19s/it]"
     ]
    },
    {
     "name": "stderr",
     "output_type": "stream",
     "text": [
      "\r",
      "Feature Extraction:  74%|███████▍  | 118/160 [06:28<00:55,  1.31s/it]"
     ]
    },
    {
     "name": "stderr",
     "output_type": "stream",
     "text": [
      "\r",
      "Feature Extraction:  74%|███████▍  | 119/160 [06:30<00:54,  1.32s/it]"
     ]
    },
    {
     "name": "stderr",
     "output_type": "stream",
     "text": [
      "\r",
      "Feature Extraction:  75%|███████▌  | 120/160 [06:33<01:14,  1.86s/it]"
     ]
    },
    {
     "name": "stderr",
     "output_type": "stream",
     "text": [
      "\r",
      "Feature Extraction:  76%|███████▌  | 121/160 [06:34<00:58,  1.51s/it]"
     ]
    },
    {
     "name": "stderr",
     "output_type": "stream",
     "text": [
      "\r",
      "Feature Extraction:  76%|███████▋  | 122/160 [06:35<00:51,  1.37s/it]"
     ]
    },
    {
     "name": "stderr",
     "output_type": "stream",
     "text": [
      "\r",
      "Feature Extraction:  77%|███████▋  | 123/160 [06:36<00:53,  1.44s/it]"
     ]
    },
    {
     "name": "stderr",
     "output_type": "stream",
     "text": [
      "\r",
      "Feature Extraction:  78%|███████▊  | 124/160 [06:37<00:49,  1.37s/it]"
     ]
    },
    {
     "name": "stderr",
     "output_type": "stream",
     "text": [
      "\r",
      "Feature Extraction:  78%|███████▊  | 125/160 [06:38<00:43,  1.25s/it]"
     ]
    },
    {
     "name": "stderr",
     "output_type": "stream",
     "text": [
      "\r",
      "Feature Extraction:  79%|███████▉  | 126/160 [06:40<00:46,  1.35s/it]"
     ]
    },
    {
     "name": "stderr",
     "output_type": "stream",
     "text": [
      "\r",
      "Feature Extraction:  79%|███████▉  | 127/160 [06:41<00:37,  1.14s/it]"
     ]
    },
    {
     "name": "stderr",
     "output_type": "stream",
     "text": [
      "\r",
      "Feature Extraction:  80%|████████  | 128/160 [06:45<01:04,  2.02s/it]"
     ]
    },
    {
     "name": "stderr",
     "output_type": "stream",
     "text": [
      "\r",
      "Feature Extraction:  81%|████████  | 129/160 [07:30<07:40, 14.87s/it]"
     ]
    },
    {
     "name": "stderr",
     "output_type": "stream",
     "text": [
      "\r",
      "Feature Extraction:  81%|████████▏ | 130/160 [07:30<05:16, 10.57s/it]"
     ]
    },
    {
     "name": "stderr",
     "output_type": "stream",
     "text": [
      "\r",
      "Feature Extraction:  82%|████████▏ | 131/160 [07:34<04:05,  8.46s/it]"
     ]
    },
    {
     "name": "stderr",
     "output_type": "stream",
     "text": [
      "\r",
      "Feature Extraction:  82%|████████▎ | 132/160 [07:35<03:00,  6.44s/it]"
     ]
    },
    {
     "name": "stderr",
     "output_type": "stream",
     "text": [
      "\r",
      "Feature Extraction:  83%|████████▎ | 133/160 [07:38<02:19,  5.18s/it]"
     ]
    },
    {
     "name": "stderr",
     "output_type": "stream",
     "text": [
      "\r",
      "Feature Extraction:  84%|████████▍ | 134/160 [07:38<01:38,  3.78s/it]"
     ]
    },
    {
     "name": "stderr",
     "output_type": "stream",
     "text": [
      "\r",
      "Feature Extraction:  84%|████████▍ | 135/160 [07:40<01:22,  3.30s/it]"
     ]
    },
    {
     "name": "stderr",
     "output_type": "stream",
     "text": [
      "\r",
      "Feature Extraction:  85%|████████▌ | 136/160 [07:41<00:59,  2.46s/it]"
     ]
    },
    {
     "name": "stderr",
     "output_type": "stream",
     "text": [
      "\r",
      "Feature Extraction:  86%|████████▌ | 137/160 [07:41<00:42,  1.87s/it]"
     ]
    },
    {
     "name": "stderr",
     "output_type": "stream",
     "text": [
      "\r",
      "Feature Extraction:  86%|████████▋ | 138/160 [07:46<00:56,  2.59s/it]"
     ]
    },
    {
     "name": "stderr",
     "output_type": "stream",
     "text": [
      "\r",
      "Feature Extraction:  87%|████████▋ | 139/160 [07:47<00:45,  2.18s/it]"
     ]
    },
    {
     "name": "stderr",
     "output_type": "stream",
     "text": [
      "\r",
      "Feature Extraction:  88%|████████▊ | 140/160 [07:47<00:32,  1.63s/it]"
     ]
    },
    {
     "name": "stderr",
     "output_type": "stream",
     "text": [
      "\r",
      "Feature Extraction:  88%|████████▊ | 141/160 [07:48<00:27,  1.45s/it]"
     ]
    },
    {
     "name": "stderr",
     "output_type": "stream",
     "text": [
      "\r",
      "Feature Extraction:  89%|████████▉ | 142/160 [07:50<00:25,  1.43s/it]"
     ]
    },
    {
     "name": "stderr",
     "output_type": "stream",
     "text": [
      "\r",
      "Feature Extraction:  89%|████████▉ | 143/160 [07:50<00:18,  1.11s/it]"
     ]
    },
    {
     "name": "stderr",
     "output_type": "stream",
     "text": [
      "\r",
      "Feature Extraction:  90%|█████████ | 144/160 [07:50<00:14,  1.11it/s]"
     ]
    },
    {
     "name": "stderr",
     "output_type": "stream",
     "text": [
      "\r",
      "Feature Extraction:  91%|█████████ | 145/160 [07:51<00:10,  1.38it/s]"
     ]
    },
    {
     "name": "stderr",
     "output_type": "stream",
     "text": [
      "\r",
      "Feature Extraction:  91%|█████████▏| 146/160 [07:51<00:08,  1.67it/s]"
     ]
    },
    {
     "name": "stderr",
     "output_type": "stream",
     "text": [
      "\r",
      "Feature Extraction:  92%|█████████▏| 147/160 [07:51<00:06,  1.95it/s]"
     ]
    },
    {
     "name": "stderr",
     "output_type": "stream",
     "text": [
      "\r",
      "Feature Extraction:  92%|█████████▎| 148/160 [07:52<00:05,  2.19it/s]"
     ]
    },
    {
     "name": "stderr",
     "output_type": "stream",
     "text": [
      "\r",
      "Feature Extraction:  93%|█████████▎| 149/160 [07:54<00:10,  1.04it/s]"
     ]
    },
    {
     "name": "stderr",
     "output_type": "stream",
     "text": [
      "\r",
      "Feature Extraction:  94%|█████████▍| 150/160 [07:54<00:07,  1.30it/s]"
     ]
    },
    {
     "name": "stderr",
     "output_type": "stream",
     "text": [
      "\r",
      "Feature Extraction:  94%|█████████▍| 151/160 [07:54<00:06,  1.47it/s]"
     ]
    },
    {
     "name": "stderr",
     "output_type": "stream",
     "text": [
      "\r",
      "Feature Extraction:  95%|█████████▌| 152/160 [07:55<00:04,  1.76it/s]"
     ]
    },
    {
     "name": "stderr",
     "output_type": "stream",
     "text": [
      "\r",
      "Feature Extraction:  96%|█████████▌| 153/160 [07:56<00:05,  1.35it/s]"
     ]
    },
    {
     "name": "stderr",
     "output_type": "stream",
     "text": [
      "\r",
      "Feature Extraction:  96%|█████████▋| 154/160 [07:58<00:06,  1.05s/it]"
     ]
    },
    {
     "name": "stderr",
     "output_type": "stream",
     "text": [
      "\r",
      "Feature Extraction:  97%|█████████▋| 155/160 [07:59<00:05,  1.12s/it]"
     ]
    },
    {
     "name": "stderr",
     "output_type": "stream",
     "text": [
      "\r",
      "Feature Extraction:  98%|█████████▊| 156/160 [07:59<00:03,  1.15it/s]"
     ]
    },
    {
     "name": "stderr",
     "output_type": "stream",
     "text": [
      "\r",
      "Feature Extraction:  98%|█████████▊| 157/160 [08:00<00:02,  1.36it/s]"
     ]
    },
    {
     "name": "stderr",
     "output_type": "stream",
     "text": [
      "\r",
      "Feature Extraction:  99%|█████████▉| 158/160 [08:00<00:01,  1.59it/s]"
     ]
    },
    {
     "name": "stderr",
     "output_type": "stream",
     "text": [
      "\r",
      "Feature Extraction:  99%|█████████▉| 159/160 [08:01<00:00,  1.39it/s]"
     ]
    },
    {
     "name": "stderr",
     "output_type": "stream",
     "text": [
      "\r",
      "Feature Extraction: 100%|██████████| 160/160 [08:03<00:00,  1.10s/it]"
     ]
    },
    {
     "name": "stderr",
     "output_type": "stream",
     "text": [
      "\r",
      "Feature Extraction: 100%|██████████| 160/160 [08:03<00:00,  3.02s/it]"
     ]
    },
    {
     "name": "stderr",
     "output_type": "stream",
     "text": [
      "\n"
     ]
    },
    {
     "name": "stdout",
     "output_type": "stream",
     "text": [
      "let the ml starts\n"
     ]
    },
    {
     "name": "stdout",
     "output_type": "stream",
     "text": [
      "LogReg\n",
      "              precision    recall  f1-score   support\n",
      "\n",
      "   malignant       0.91      0.91      0.91     38397\n",
      "      benign       0.91      0.90      0.91     38047\n",
      "\n",
      "    accuracy                           0.91     76444\n",
      "   macro avg       0.91      0.91      0.91     76444\n",
      "weighted avg       0.91      0.91      0.91     76444\n",
      "\n",
      "    fit_time  score_time  test_accuracy  test_precision_weighted  \\\n",
      "0  11.695279    0.044711       0.910914                 0.910914   \n",
      "1  11.792436    0.056385       0.912484                 0.912556   \n",
      "2  11.768002    0.042243       0.911241                 0.911244   \n",
      "3  12.323962    0.041518       0.909650                 0.909669   \n",
      "4  11.248919    0.042062       0.913027                 0.913054   \n",
      "\n",
      "   test_recall_weighted  test_f1_weighted  test_roc_auc   model  \n",
      "0              0.910914          0.910914      0.968395  LogReg  \n",
      "1              0.912484          0.912482      0.968441  LogReg  \n",
      "2              0.911241          0.911240      0.967858  LogReg  \n",
      "3              0.909650          0.909645      0.968567  LogReg  \n",
      "4              0.913027          0.913023      0.969824  LogReg  \n"
     ]
    },
    {
     "name": "stdout",
     "output_type": "stream",
     "text": [
      "KNN\n",
      "              precision    recall  f1-score   support\n",
      "\n",
      "   malignant       0.94      0.96      0.95     38397\n",
      "      benign       0.96      0.93      0.94     38047\n",
      "\n",
      "    accuracy                           0.95     76444\n",
      "   macro avg       0.95      0.95      0.95     76444\n",
      "weighted avg       0.95      0.95      0.95     76444\n",
      "\n",
      "    fit_time  score_time  test_accuracy  test_precision_weighted  \\\n",
      "0  11.695279    0.044711       0.910914                 0.910914   \n",
      "1  11.792436    0.056385       0.912484                 0.912556   \n",
      "2  11.768002    0.042243       0.911241                 0.911244   \n",
      "3  12.323962    0.041518       0.909650                 0.909669   \n",
      "4  11.248919    0.042062       0.913027                 0.913054   \n",
      "5   0.128417   19.764680       0.941634                 0.941816   \n",
      "6   0.120793   19.861020       0.941176                 0.941399   \n",
      "7   0.121160   19.984551       0.942376                 0.942563   \n",
      "8   0.121315   19.998351       0.943749                 0.943923   \n",
      "9   0.121342   20.029290       0.940892                 0.941113   \n",
      "\n",
      "   test_recall_weighted  test_f1_weighted  test_roc_auc   model  \n",
      "0              0.910914          0.910914      0.968395  LogReg  \n",
      "1              0.912484          0.912482      0.968441  LogReg  \n",
      "2              0.911241          0.911240      0.967858  LogReg  \n",
      "3              0.909650          0.909645      0.968567  LogReg  \n",
      "4              0.913027          0.913023      0.969824  LogReg  \n",
      "5              0.941634          0.941624      0.976812     KNN  \n",
      "6              0.941176          0.941170      0.977422     KNN  \n",
      "7              0.942376          0.942366      0.977588     KNN  \n",
      "8              0.943749          0.943738      0.977714     KNN  \n",
      "9              0.940892          0.940879      0.976489     KNN  \n"
     ]
    },
    {
     "name": "stdout",
     "output_type": "stream",
     "text": [
      "SVM\n",
      "              precision    recall  f1-score   support\n",
      "\n",
      "   malignant       0.92      0.95      0.93     38397\n",
      "      benign       0.94      0.92      0.93     38047\n",
      "\n",
      "    accuracy                           0.93     76444\n",
      "   macro avg       0.93      0.93      0.93     76444\n",
      "weighted avg       0.93      0.93      0.93     76444\n",
      "\n",
      "       fit_time  score_time  test_accuracy  test_precision_weighted  \\\n",
      "0     11.695279    0.044711       0.910914                 0.910914   \n",
      "1     11.792436    0.056385       0.912484                 0.912556   \n",
      "2     11.768002    0.042243       0.911241                 0.911244   \n",
      "3     12.323962    0.041518       0.909650                 0.909669   \n",
      "4     11.248919    0.042062       0.913027                 0.913054   \n",
      "5      0.128417   19.764680       0.941634                 0.941816   \n",
      "6      0.120793   19.861020       0.941176                 0.941399   \n",
      "7      0.121160   19.984551       0.942376                 0.942563   \n",
      "8      0.121315   19.998351       0.943749                 0.943923   \n",
      "9      0.121342   20.029290       0.940892                 0.941113   \n",
      "10  1618.932067  653.337188       0.929490                 0.929719   \n",
      "11  1615.819419  641.601368       0.930798                 0.931093   \n",
      "12  1669.462938  651.218030       0.929294                 0.929565   \n",
      "13  1675.868095  644.982393       0.934505                 0.934862   \n",
      "14  1616.106984  646.948038       0.933173                 0.933552   \n",
      "\n",
      "    test_recall_weighted  test_f1_weighted  test_roc_auc   model  \n",
      "0               0.910914          0.910914      0.968395  LogReg  \n",
      "1               0.912484          0.912482      0.968441  LogReg  \n",
      "2               0.911241          0.911240      0.967858  LogReg  \n",
      "3               0.909650          0.909645      0.968567  LogReg  \n",
      "4               0.913027          0.913023      0.969824  LogReg  \n",
      "5               0.941634          0.941624      0.976812     KNN  \n",
      "6               0.941176          0.941170      0.977422     KNN  \n",
      "7               0.942376          0.942366      0.977588     KNN  \n",
      "8               0.943749          0.943738      0.977714     KNN  \n",
      "9               0.940892          0.940879      0.976489     KNN  \n",
      "10              0.929490          0.929475      0.976258     SVM  \n",
      "11              0.930798          0.930788      0.977059     SVM  \n",
      "12              0.929294          0.929277      0.976830     SVM  \n",
      "13              0.934505          0.934481      0.978251     SVM  \n",
      "14              0.933173          0.933151      0.977104     SVM  \n"
     ]
    },
    {
     "name": "stdout",
     "output_type": "stream",
     "text": [
      "GNB\n",
      "              precision    recall  f1-score   support\n",
      "\n",
      "   malignant       0.87      0.93      0.90     38397\n",
      "      benign       0.93      0.85      0.89     38047\n",
      "\n",
      "    accuracy                           0.89     76444\n",
      "   macro avg       0.90      0.89      0.89     76444\n",
      "weighted avg       0.90      0.89      0.89     76444\n",
      "\n",
      "       fit_time  score_time  test_accuracy  test_precision_weighted  \\\n",
      "0     11.695279    0.044711       0.910914                 0.910914   \n",
      "1     11.792436    0.056385       0.912484                 0.912556   \n",
      "2     11.768002    0.042243       0.911241                 0.911244   \n",
      "3     12.323962    0.041518       0.909650                 0.909669   \n",
      "4     11.248919    0.042062       0.913027                 0.913054   \n",
      "5      0.128417   19.764680       0.941634                 0.941816   \n",
      "6      0.120793   19.861020       0.941176                 0.941399   \n",
      "7      0.121160   19.984551       0.942376                 0.942563   \n",
      "8      0.121315   19.998351       0.943749                 0.943923   \n",
      "9      0.121342   20.029290       0.940892                 0.941113   \n",
      "10  1618.932067  653.337188       0.929490                 0.929719   \n",
      "11  1615.819419  641.601368       0.930798                 0.931093   \n",
      "12  1669.462938  651.218030       0.929294                 0.929565   \n",
      "13  1675.868095  644.982393       0.934505                 0.934862   \n",
      "14  1616.106984  646.948038       0.933173                 0.933552   \n",
      "15     0.530750    0.227771       0.891902                 0.894107   \n",
      "16     0.530047    0.226691       0.900842                 0.904267   \n",
      "17     0.529764    0.227548       0.891205                 0.893139   \n",
      "18     0.529860    0.226700       0.897135                 0.899544   \n",
      "19     0.529973    0.226957       0.893317                 0.895697   \n",
      "\n",
      "    test_recall_weighted  test_f1_weighted  test_roc_auc   model  \n",
      "0               0.910914          0.910914      0.968395  LogReg  \n",
      "1               0.912484          0.912482      0.968441  LogReg  \n",
      "2               0.911241          0.911240      0.967858  LogReg  \n",
      "3               0.909650          0.909645      0.968567  LogReg  \n",
      "4               0.913027          0.913023      0.969824  LogReg  \n",
      "5               0.941634          0.941624      0.976812     KNN  \n",
      "6               0.941176          0.941170      0.977422     KNN  \n",
      "7               0.942376          0.942366      0.977588     KNN  \n",
      "8               0.943749          0.943738      0.977714     KNN  \n",
      "9               0.940892          0.940879      0.976489     KNN  \n",
      "10              0.929490          0.929475      0.976258     SVM  \n",
      "11              0.930798          0.930788      0.977059     SVM  \n",
      "12              0.929294          0.929277      0.976830     SVM  \n",
      "13              0.934505          0.934481      0.978251     SVM  \n",
      "14              0.933173          0.933151      0.977104     SVM  \n",
      "15              0.891902          0.891719      0.929661     GNB  \n",
      "16              0.900842          0.900641      0.946415     GNB  \n",
      "17              0.891205          0.891046      0.926781     GNB  \n",
      "18              0.897135          0.896935      0.934960     GNB  \n",
      "19              0.893317          0.893121      0.930221     GNB  \n",
      "16434.505112146027\n"
     ]
    }
   ],
   "source": [
    " # 3) THR: %100\n",
    "\n",
    "df_malicious = pd.concat([df1,df2,df4,df5,df6,df7,df35])\n",
    "df_benign = pd.concat([df9,df10,df11,df12,df14,df16,df17,df18,df19,df20,df21,df22,df23])\n",
    "\n",
    "print(\"malicious: {}\".format(len(df_malicious)))\n",
    "print(\"benign: {}\".format(len(df_benign)))\n",
    "\n",
    "print(\"{} NAN in malicious!\".format(len(df_malicious[df_malicious.isna().any(axis=1)])))\n",
    "print(\"{} NAN in benign!\".format(len(df_benign[df_benign.isna().any(axis=1)])))\n",
    "\n",
    "df_malicious = df_malicious.dropna()\n",
    "df_benign = df_benign.dropna()\n",
    "\n",
    "print(\"After droppping NAN rows: \")\n",
    "print(\"malicious: {}\".format(len(df_malicious)))\n",
    "print(\"benign: {}\".format(len(df_benign)))\n",
    "\n",
    "start = timer()\n",
    "\n",
    "results_THR_100_s2 = run_process(df_malicious,df_benign,df_results)\n",
    "\n",
    "\n",
    "end = timer()\n",
    "print(end - start)\n"
   ]
  },
  {
   "cell_type": "code",
   "execution_count": 16,
   "id": "FnvYnKKu3z2R",
   "metadata": {
    "execution": {
     "iopub.execute_input": "2025-08-02T12:12:10.022433Z",
     "iopub.status.busy": "2025-08-02T12:12:10.022282Z",
     "iopub.status.idle": "2025-08-02T12:24:37.105133Z",
     "shell.execute_reply": "2025-08-02T12:24:37.104259Z"
    },
    "id": "FnvYnKKu3z2R",
    "outputId": "0937b1a9-c0b3-499a-d011-9230168bf2e0"
   },
   "outputs": [
    {
     "name": "stdout",
     "output_type": "stream",
     "text": [
      "malicious: 305874\n",
      "benign: 314906\n",
      "0 NAN in malicious!\n",
      "0 NAN in benign!\n"
     ]
    },
    {
     "name": "stdout",
     "output_type": "stream",
     "text": [
      "After droppping NAN rows: \n",
      "malicious: 305874\n",
      "benign: 314906\n"
     ]
    },
    {
     "name": "stderr",
     "output_type": "stream",
     "text": [
      "\r",
      "Feature Extraction:   0%|          | 0/160 [00:00<?, ?it/s]"
     ]
    },
    {
     "name": "stderr",
     "output_type": "stream",
     "text": [
      "\r",
      "Feature Extraction:   1%|          | 1/160 [00:15<40:51, 15.42s/it]"
     ]
    },
    {
     "name": "stderr",
     "output_type": "stream",
     "text": [
      "\r",
      "Feature Extraction:   1%|▏         | 2/160 [00:15<16:56,  6.44s/it]"
     ]
    },
    {
     "name": "stderr",
     "output_type": "stream",
     "text": [
      "\r",
      "Feature Extraction:   2%|▏         | 3/160 [00:15<09:30,  3.63s/it]"
     ]
    },
    {
     "name": "stderr",
     "output_type": "stream",
     "text": [
      "\r",
      "Feature Extraction:   2%|▎         | 4/160 [00:15<05:50,  2.25s/it]"
     ]
    },
    {
     "name": "stderr",
     "output_type": "stream",
     "text": [
      "\r",
      "Feature Extraction:   3%|▎         | 5/160 [00:16<03:50,  1.49s/it]"
     ]
    },
    {
     "name": "stderr",
     "output_type": "stream",
     "text": [
      "\r",
      "Feature Extraction:   4%|▍         | 6/160 [00:16<02:41,  1.05s/it]"
     ]
    },
    {
     "name": "stderr",
     "output_type": "stream",
     "text": [
      "\r",
      "Feature Extraction:   4%|▍         | 7/160 [00:16<01:55,  1.33it/s]"
     ]
    },
    {
     "name": "stderr",
     "output_type": "stream",
     "text": [
      "\r",
      "Feature Extraction:   5%|▌         | 8/160 [00:16<01:23,  1.82it/s]"
     ]
    },
    {
     "name": "stderr",
     "output_type": "stream",
     "text": [
      "\r",
      "Feature Extraction:   6%|▌         | 9/160 [00:16<01:11,  2.11it/s]"
     ]
    },
    {
     "name": "stderr",
     "output_type": "stream",
     "text": [
      "\r",
      "Feature Extraction:   6%|▋         | 10/160 [00:17<00:59,  2.51it/s]"
     ]
    },
    {
     "name": "stderr",
     "output_type": "stream",
     "text": [
      "\r",
      "Feature Extraction:   7%|▋         | 11/160 [00:17<00:59,  2.49it/s]"
     ]
    },
    {
     "name": "stderr",
     "output_type": "stream",
     "text": [
      "\r",
      "Feature Extraction:   8%|▊         | 12/160 [00:17<00:48,  3.04it/s]"
     ]
    },
    {
     "name": "stderr",
     "output_type": "stream",
     "text": [
      "\r",
      "Feature Extraction:   8%|▊         | 13/160 [00:17<00:40,  3.60it/s]"
     ]
    },
    {
     "name": "stderr",
     "output_type": "stream",
     "text": [
      "\r",
      "Feature Extraction:   9%|▉         | 14/160 [00:17<00:34,  4.20it/s]"
     ]
    },
    {
     "name": "stderr",
     "output_type": "stream",
     "text": [
      "\r",
      "Feature Extraction:   9%|▉         | 15/160 [00:18<00:29,  4.86it/s]"
     ]
    },
    {
     "name": "stderr",
     "output_type": "stream",
     "text": [
      "\r",
      "Feature Extraction:  10%|█         | 16/160 [00:18<00:25,  5.66it/s]"
     ]
    },
    {
     "name": "stderr",
     "output_type": "stream",
     "text": [
      "\r",
      "Feature Extraction:  11%|█         | 17/160 [00:18<00:24,  5.83it/s]"
     ]
    },
    {
     "name": "stderr",
     "output_type": "stream",
     "text": [
      "\r",
      "Feature Extraction:  11%|█▏        | 18/160 [00:18<00:24,  5.84it/s]"
     ]
    },
    {
     "name": "stderr",
     "output_type": "stream",
     "text": [
      "\r",
      "Feature Extraction:  12%|█▏        | 19/160 [00:18<00:24,  5.86it/s]"
     ]
    },
    {
     "name": "stderr",
     "output_type": "stream",
     "text": [
      "\r",
      "Feature Extraction:  12%|█▎        | 20/160 [00:18<00:22,  6.27it/s]"
     ]
    },
    {
     "name": "stderr",
     "output_type": "stream",
     "text": [
      "\r",
      "Feature Extraction:  13%|█▎        | 21/160 [00:19<00:23,  5.87it/s]"
     ]
    },
    {
     "name": "stderr",
     "output_type": "stream",
     "text": [
      "\r",
      "Feature Extraction:  14%|█▍        | 22/160 [00:19<00:22,  6.07it/s]"
     ]
    },
    {
     "name": "stderr",
     "output_type": "stream",
     "text": [
      "\r",
      "Feature Extraction:  14%|█▍        | 23/160 [00:19<00:22,  6.20it/s]"
     ]
    },
    {
     "name": "stderr",
     "output_type": "stream",
     "text": [
      "\r",
      "Feature Extraction:  15%|█▌        | 24/160 [00:19<00:21,  6.30it/s]"
     ]
    },
    {
     "name": "stderr",
     "output_type": "stream",
     "text": [
      "\r",
      "Feature Extraction:  16%|█▌        | 25/160 [00:19<00:21,  6.32it/s]"
     ]
    },
    {
     "name": "stderr",
     "output_type": "stream",
     "text": [
      "\r",
      "Feature Extraction:  16%|█▋        | 26/160 [00:19<00:21,  6.13it/s]"
     ]
    },
    {
     "name": "stderr",
     "output_type": "stream",
     "text": [
      "\r",
      "Feature Extraction:  17%|█▋        | 27/160 [00:20<00:21,  6.20it/s]"
     ]
    },
    {
     "name": "stderr",
     "output_type": "stream",
     "text": [
      "\r",
      "Feature Extraction:  18%|█▊        | 28/160 [00:20<00:31,  4.21it/s]"
     ]
    },
    {
     "name": "stderr",
     "output_type": "stream",
     "text": [
      "\r",
      "Feature Extraction:  18%|█▊        | 29/160 [00:20<00:27,  4.81it/s]"
     ]
    },
    {
     "name": "stderr",
     "output_type": "stream",
     "text": [
      "\r",
      "Feature Extraction:  19%|█▉        | 30/160 [00:20<00:26,  4.99it/s]"
     ]
    },
    {
     "name": "stderr",
     "output_type": "stream",
     "text": [
      "\r",
      "Feature Extraction:  19%|█▉        | 31/160 [00:20<00:24,  5.27it/s]"
     ]
    },
    {
     "name": "stderr",
     "output_type": "stream",
     "text": [
      "\r",
      "Feature Extraction:  20%|██        | 32/160 [00:21<00:22,  5.71it/s]"
     ]
    },
    {
     "name": "stderr",
     "output_type": "stream",
     "text": [
      "\r",
      "Feature Extraction:  21%|██        | 33/160 [00:30<06:12,  2.93s/it]"
     ]
    },
    {
     "name": "stderr",
     "output_type": "stream",
     "text": [
      "\r",
      "Feature Extraction:  21%|██▏       | 34/160 [00:30<04:22,  2.08s/it]"
     ]
    },
    {
     "name": "stderr",
     "output_type": "stream",
     "text": [
      "\r",
      "Feature Extraction:  22%|██▏       | 35/160 [00:30<03:06,  1.50s/it]"
     ]
    },
    {
     "name": "stderr",
     "output_type": "stream",
     "text": [
      "\r",
      "Feature Extraction:  22%|██▎       | 36/160 [00:30<02:14,  1.09s/it]"
     ]
    },
    {
     "name": "stderr",
     "output_type": "stream",
     "text": [
      "\r",
      "Feature Extraction:  23%|██▎       | 37/160 [00:30<01:40,  1.22it/s]"
     ]
    },
    {
     "name": "stderr",
     "output_type": "stream",
     "text": [
      "\r",
      "Feature Extraction:  24%|██▍       | 38/160 [00:31<01:23,  1.45it/s]"
     ]
    },
    {
     "name": "stderr",
     "output_type": "stream",
     "text": [
      "\r",
      "Feature Extraction:  24%|██▍       | 39/160 [00:31<01:03,  1.90it/s]"
     ]
    },
    {
     "name": "stderr",
     "output_type": "stream",
     "text": [
      "\r",
      "Feature Extraction:  25%|██▌       | 40/160 [00:31<00:48,  2.45it/s]"
     ]
    },
    {
     "name": "stderr",
     "output_type": "stream",
     "text": [
      "\r",
      "Feature Extraction:  26%|██▌       | 41/160 [00:31<00:38,  3.12it/s]"
     ]
    },
    {
     "name": "stderr",
     "output_type": "stream",
     "text": [
      "\r",
      "Feature Extraction:  26%|██▋       | 42/160 [00:31<00:30,  3.82it/s]"
     ]
    },
    {
     "name": "stderr",
     "output_type": "stream",
     "text": [
      "\r",
      "Feature Extraction:  27%|██▋       | 43/160 [00:32<00:36,  3.21it/s]"
     ]
    },
    {
     "name": "stderr",
     "output_type": "stream",
     "text": [
      "\r",
      "Feature Extraction:  28%|██▊       | 44/160 [00:33<00:53,  2.16it/s]"
     ]
    },
    {
     "name": "stderr",
     "output_type": "stream",
     "text": [
      "\r",
      "Feature Extraction:  28%|██▊       | 45/160 [00:33<00:43,  2.63it/s]"
     ]
    },
    {
     "name": "stderr",
     "output_type": "stream",
     "text": [
      "\r",
      "Feature Extraction:  29%|██▉       | 46/160 [00:33<00:34,  3.32it/s]"
     ]
    },
    {
     "name": "stderr",
     "output_type": "stream",
     "text": [
      "\r",
      "Feature Extraction:  29%|██▉       | 47/160 [00:33<00:32,  3.45it/s]"
     ]
    },
    {
     "name": "stderr",
     "output_type": "stream",
     "text": [
      "\r",
      "Feature Extraction:  30%|███       | 48/160 [00:33<00:31,  3.59it/s]"
     ]
    },
    {
     "name": "stderr",
     "output_type": "stream",
     "text": [
      "\r",
      "Feature Extraction:  31%|███       | 49/160 [00:34<00:28,  3.92it/s]"
     ]
    },
    {
     "name": "stderr",
     "output_type": "stream",
     "text": [
      "\r",
      "Feature Extraction:  31%|███▏      | 50/160 [00:34<00:33,  3.33it/s]"
     ]
    },
    {
     "name": "stderr",
     "output_type": "stream",
     "text": [
      "\r",
      "Feature Extraction:  32%|███▏      | 51/160 [00:34<00:28,  3.88it/s]"
     ]
    },
    {
     "name": "stderr",
     "output_type": "stream",
     "text": [
      "\r",
      "Feature Extraction:  32%|███▎      | 52/160 [00:34<00:28,  3.80it/s]"
     ]
    },
    {
     "name": "stderr",
     "output_type": "stream",
     "text": [
      "\r",
      "Feature Extraction:  33%|███▎      | 53/160 [00:35<00:26,  3.97it/s]"
     ]
    },
    {
     "name": "stderr",
     "output_type": "stream",
     "text": [
      "\r",
      "Feature Extraction:  34%|███▍      | 54/160 [00:35<00:32,  3.30it/s]"
     ]
    },
    {
     "name": "stderr",
     "output_type": "stream",
     "text": [
      "\r",
      "Feature Extraction:  34%|███▍      | 55/160 [00:35<00:27,  3.76it/s]"
     ]
    },
    {
     "name": "stderr",
     "output_type": "stream",
     "text": [
      "\r",
      "Feature Extraction:  35%|███▌      | 56/160 [00:35<00:25,  4.12it/s]"
     ]
    },
    {
     "name": "stderr",
     "output_type": "stream",
     "text": [
      "\r",
      "Feature Extraction:  36%|███▌      | 57/160 [00:36<00:21,  4.89it/s]"
     ]
    },
    {
     "name": "stderr",
     "output_type": "stream",
     "text": [
      "\r",
      "Feature Extraction:  36%|███▋      | 58/160 [00:36<00:22,  4.52it/s]"
     ]
    },
    {
     "name": "stderr",
     "output_type": "stream",
     "text": [
      "\r",
      "Feature Extraction:  37%|███▋      | 59/160 [00:36<00:20,  4.82it/s]"
     ]
    },
    {
     "name": "stderr",
     "output_type": "stream",
     "text": [
      "\r",
      "Feature Extraction:  38%|███▊      | 60/160 [00:36<00:19,  5.04it/s]"
     ]
    },
    {
     "name": "stderr",
     "output_type": "stream",
     "text": [
      "\r",
      "Feature Extraction:  38%|███▊      | 61/160 [00:37<00:34,  2.83it/s]"
     ]
    },
    {
     "name": "stderr",
     "output_type": "stream",
     "text": [
      "\r",
      "Feature Extraction:  39%|███▉      | 62/160 [00:37<00:28,  3.48it/s]"
     ]
    },
    {
     "name": "stderr",
     "output_type": "stream",
     "text": [
      "\r",
      "Feature Extraction:  39%|███▉      | 63/160 [00:37<00:23,  4.05it/s]"
     ]
    },
    {
     "name": "stderr",
     "output_type": "stream",
     "text": [
      "\r",
      "Feature Extraction:  40%|████      | 64/160 [00:37<00:23,  4.13it/s]"
     ]
    },
    {
     "name": "stderr",
     "output_type": "stream",
     "text": [
      "\r",
      "Feature Extraction:  41%|████      | 65/160 [00:46<04:22,  2.77s/it]"
     ]
    },
    {
     "name": "stderr",
     "output_type": "stream",
     "text": [
      "\r",
      "Feature Extraction:  41%|████▏     | 66/160 [00:47<03:16,  2.09s/it]"
     ]
    },
    {
     "name": "stderr",
     "output_type": "stream",
     "text": [
      "\r",
      "Feature Extraction:  42%|████▏     | 67/160 [00:47<02:20,  1.52s/it]"
     ]
    },
    {
     "name": "stderr",
     "output_type": "stream",
     "text": [
      "\r",
      "Feature Extraction:  42%|████▎     | 68/160 [00:47<01:45,  1.15s/it]"
     ]
    },
    {
     "name": "stderr",
     "output_type": "stream",
     "text": [
      "\r",
      "Feature Extraction:  43%|████▎     | 69/160 [00:47<01:19,  1.15it/s]"
     ]
    },
    {
     "name": "stderr",
     "output_type": "stream",
     "text": [
      "\r",
      "Feature Extraction:  44%|████▍     | 70/160 [00:47<00:58,  1.55it/s]"
     ]
    },
    {
     "name": "stderr",
     "output_type": "stream",
     "text": [
      "\r",
      "Feature Extraction:  44%|████▍     | 71/160 [00:48<00:44,  2.01it/s]"
     ]
    },
    {
     "name": "stderr",
     "output_type": "stream",
     "text": [
      "\r",
      "Feature Extraction:  45%|████▌     | 72/160 [00:48<00:34,  2.55it/s]"
     ]
    },
    {
     "name": "stderr",
     "output_type": "stream",
     "text": [
      "\r",
      "Feature Extraction:  46%|████▌     | 73/160 [00:48<00:27,  3.20it/s]"
     ]
    },
    {
     "name": "stderr",
     "output_type": "stream",
     "text": [
      "\r",
      "Feature Extraction:  46%|████▋     | 74/160 [00:48<00:26,  3.22it/s]"
     ]
    },
    {
     "name": "stderr",
     "output_type": "stream",
     "text": [
      "\r",
      "Feature Extraction:  47%|████▋     | 75/160 [00:48<00:24,  3.47it/s]"
     ]
    },
    {
     "name": "stderr",
     "output_type": "stream",
     "text": [
      "\r",
      "Feature Extraction:  48%|████▊     | 76/160 [00:49<00:22,  3.76it/s]"
     ]
    },
    {
     "name": "stderr",
     "output_type": "stream",
     "text": [
      "\r",
      "Feature Extraction:  48%|████▊     | 77/160 [00:50<00:44,  1.86it/s]"
     ]
    },
    {
     "name": "stderr",
     "output_type": "stream",
     "text": [
      "\r",
      "Feature Extraction:  49%|████▉     | 78/160 [00:50<00:34,  2.40it/s]"
     ]
    },
    {
     "name": "stderr",
     "output_type": "stream",
     "text": [
      "\r",
      "Feature Extraction:  49%|████▉     | 79/160 [00:50<00:26,  3.04it/s]"
     ]
    },
    {
     "name": "stderr",
     "output_type": "stream",
     "text": [
      "\r",
      "Feature Extraction:  50%|█████     | 80/160 [00:50<00:20,  3.83it/s]"
     ]
    },
    {
     "name": "stderr",
     "output_type": "stream",
     "text": [
      "\r",
      "Feature Extraction:  51%|█████     | 81/160 [00:50<00:17,  4.45it/s]"
     ]
    },
    {
     "name": "stderr",
     "output_type": "stream",
     "text": [
      "\r",
      "Feature Extraction:  51%|█████▏    | 82/160 [00:51<00:20,  3.83it/s]"
     ]
    },
    {
     "name": "stderr",
     "output_type": "stream",
     "text": [
      "\r",
      "Feature Extraction:  52%|█████▏    | 83/160 [00:51<00:18,  4.06it/s]"
     ]
    },
    {
     "name": "stderr",
     "output_type": "stream",
     "text": [
      "\r",
      "Feature Extraction:  52%|█████▎    | 84/160 [00:51<00:21,  3.51it/s]"
     ]
    },
    {
     "name": "stderr",
     "output_type": "stream",
     "text": [
      "\r",
      "Feature Extraction:  53%|█████▎    | 85/160 [00:51<00:18,  4.00it/s]"
     ]
    },
    {
     "name": "stderr",
     "output_type": "stream",
     "text": [
      "\r",
      "Feature Extraction:  54%|█████▍    | 86/160 [00:52<00:21,  3.43it/s]"
     ]
    },
    {
     "name": "stderr",
     "output_type": "stream",
     "text": [
      "\r",
      "Feature Extraction:  54%|█████▍    | 87/160 [00:52<00:19,  3.82it/s]"
     ]
    },
    {
     "name": "stderr",
     "output_type": "stream",
     "text": [
      "\r",
      "Feature Extraction:  55%|█████▌    | 88/160 [00:52<00:18,  3.85it/s]"
     ]
    },
    {
     "name": "stderr",
     "output_type": "stream",
     "text": [
      "\r",
      "Feature Extraction:  56%|█████▌    | 89/160 [00:52<00:17,  4.17it/s]"
     ]
    },
    {
     "name": "stderr",
     "output_type": "stream",
     "text": [
      "\r",
      "Feature Extraction:  56%|█████▋    | 90/160 [00:53<00:16,  4.30it/s]"
     ]
    },
    {
     "name": "stderr",
     "output_type": "stream",
     "text": [
      "\r",
      "Feature Extraction:  57%|█████▋    | 91/160 [00:53<00:16,  4.12it/s]"
     ]
    },
    {
     "name": "stderr",
     "output_type": "stream",
     "text": [
      "\r",
      "Feature Extraction:  57%|█████▊    | 92/160 [00:53<00:18,  3.64it/s]"
     ]
    },
    {
     "name": "stderr",
     "output_type": "stream",
     "text": [
      "\r",
      "Feature Extraction:  58%|█████▊    | 93/160 [00:54<00:20,  3.24it/s]"
     ]
    },
    {
     "name": "stderr",
     "output_type": "stream",
     "text": [
      "\r",
      "Feature Extraction:  59%|█████▉    | 94/160 [00:54<00:19,  3.32it/s]"
     ]
    },
    {
     "name": "stderr",
     "output_type": "stream",
     "text": [
      "\r",
      "Feature Extraction:  59%|█████▉    | 95/160 [00:55<00:29,  2.20it/s]"
     ]
    },
    {
     "name": "stderr",
     "output_type": "stream",
     "text": [
      "\r",
      "Feature Extraction:  60%|██████    | 96/160 [00:55<00:24,  2.66it/s]"
     ]
    },
    {
     "name": "stderr",
     "output_type": "stream",
     "text": [
      "\r",
      "Feature Extraction:  61%|██████    | 97/160 [01:02<02:36,  2.48s/it]"
     ]
    },
    {
     "name": "stderr",
     "output_type": "stream",
     "text": [
      "\r",
      "Feature Extraction:  61%|██████▏   | 98/160 [01:03<02:02,  1.98s/it]"
     ]
    },
    {
     "name": "stderr",
     "output_type": "stream",
     "text": [
      "\r",
      "Feature Extraction:  62%|██████▏   | 99/160 [01:03<01:29,  1.47s/it]"
     ]
    },
    {
     "name": "stderr",
     "output_type": "stream",
     "text": [
      "\r",
      "Feature Extraction:  62%|██████▎   | 100/160 [01:04<01:05,  1.10s/it]"
     ]
    },
    {
     "name": "stderr",
     "output_type": "stream",
     "text": [
      "\r",
      "Feature Extraction:  63%|██████▎   | 101/160 [01:04<00:48,  1.23it/s]"
     ]
    },
    {
     "name": "stderr",
     "output_type": "stream",
     "text": [
      "\r",
      "Feature Extraction:  64%|██████▍   | 102/160 [01:04<00:38,  1.52it/s]"
     ]
    },
    {
     "name": "stderr",
     "output_type": "stream",
     "text": [
      "\r",
      "Feature Extraction:  64%|██████▍   | 103/160 [01:04<00:29,  1.96it/s]"
     ]
    },
    {
     "name": "stderr",
     "output_type": "stream",
     "text": [
      "\r",
      "Feature Extraction:  65%|██████▌   | 104/160 [01:04<00:24,  2.33it/s]"
     ]
    },
    {
     "name": "stderr",
     "output_type": "stream",
     "text": [
      "\r",
      "Feature Extraction:  66%|██████▌   | 105/160 [01:05<00:20,  2.71it/s]"
     ]
    },
    {
     "name": "stderr",
     "output_type": "stream",
     "text": [
      "\r",
      "Feature Extraction:  66%|██████▋   | 106/160 [01:05<00:19,  2.72it/s]"
     ]
    },
    {
     "name": "stderr",
     "output_type": "stream",
     "text": [
      "\r",
      "Feature Extraction:  67%|██████▋   | 107/160 [01:05<00:16,  3.22it/s]"
     ]
    },
    {
     "name": "stderr",
     "output_type": "stream",
     "text": [
      "\r",
      "Feature Extraction:  68%|██████▊   | 108/160 [01:06<00:15,  3.39it/s]"
     ]
    },
    {
     "name": "stderr",
     "output_type": "stream",
     "text": [
      "\r",
      "Feature Extraction:  68%|██████▊   | 109/160 [01:06<00:13,  3.89it/s]"
     ]
    },
    {
     "name": "stderr",
     "output_type": "stream",
     "text": [
      "\r",
      "Feature Extraction:  69%|██████▉   | 110/160 [01:07<00:23,  2.08it/s]"
     ]
    },
    {
     "name": "stderr",
     "output_type": "stream",
     "text": [
      "\r",
      "Feature Extraction:  69%|██████▉   | 111/160 [01:07<00:19,  2.46it/s]"
     ]
    },
    {
     "name": "stderr",
     "output_type": "stream",
     "text": [
      "\r",
      "Feature Extraction:  70%|███████   | 112/160 [01:08<00:26,  1.83it/s]"
     ]
    },
    {
     "name": "stderr",
     "output_type": "stream",
     "text": [
      "\r",
      "Feature Extraction:  71%|███████   | 113/160 [01:08<00:19,  2.39it/s]"
     ]
    },
    {
     "name": "stderr",
     "output_type": "stream",
     "text": [
      "\r",
      "Feature Extraction:  71%|███████▏  | 114/160 [01:08<00:15,  2.91it/s]"
     ]
    },
    {
     "name": "stderr",
     "output_type": "stream",
     "text": [
      "\r",
      "Feature Extraction:  72%|███████▎  | 116/160 [01:08<00:09,  4.43it/s]"
     ]
    },
    {
     "name": "stderr",
     "output_type": "stream",
     "text": [
      "\r",
      "Feature Extraction:  73%|███████▎  | 117/160 [01:08<00:08,  5.01it/s]"
     ]
    },
    {
     "name": "stderr",
     "output_type": "stream",
     "text": [
      "\r",
      "Feature Extraction:  74%|███████▍  | 118/160 [01:09<00:07,  5.51it/s]"
     ]
    },
    {
     "name": "stderr",
     "output_type": "stream",
     "text": [
      "\r",
      "Feature Extraction:  74%|███████▍  | 119/160 [01:09<00:08,  5.01it/s]"
     ]
    },
    {
     "name": "stderr",
     "output_type": "stream",
     "text": [
      "\r",
      "Feature Extraction:  75%|███████▌  | 120/160 [01:09<00:12,  3.23it/s]"
     ]
    },
    {
     "name": "stderr",
     "output_type": "stream",
     "text": [
      "\r",
      "Feature Extraction:  76%|███████▌  | 121/160 [01:10<00:10,  3.60it/s]"
     ]
    },
    {
     "name": "stderr",
     "output_type": "stream",
     "text": [
      "\r",
      "Feature Extraction:  76%|███████▋  | 122/160 [01:10<00:08,  4.27it/s]"
     ]
    },
    {
     "name": "stderr",
     "output_type": "stream",
     "text": [
      "\r",
      "Feature Extraction:  77%|███████▋  | 123/160 [01:10<00:09,  3.90it/s]"
     ]
    },
    {
     "name": "stderr",
     "output_type": "stream",
     "text": [
      "\r",
      "Feature Extraction:  78%|███████▊  | 124/160 [01:10<00:09,  3.96it/s]"
     ]
    },
    {
     "name": "stderr",
     "output_type": "stream",
     "text": [
      "\r",
      "Feature Extraction:  78%|███████▊  | 125/160 [01:10<00:08,  4.06it/s]"
     ]
    },
    {
     "name": "stderr",
     "output_type": "stream",
     "text": [
      "\r",
      "Feature Extraction:  79%|███████▉  | 126/160 [01:11<00:07,  4.48it/s]"
     ]
    },
    {
     "name": "stderr",
     "output_type": "stream",
     "text": [
      "\r",
      "Feature Extraction:  79%|███████▉  | 127/160 [01:11<00:06,  4.86it/s]"
     ]
    },
    {
     "name": "stderr",
     "output_type": "stream",
     "text": [
      "\r",
      "Feature Extraction:  80%|████████  | 128/160 [01:11<00:11,  2.89it/s]"
     ]
    },
    {
     "name": "stderr",
     "output_type": "stream",
     "text": [
      "\r",
      "Feature Extraction:  81%|████████  | 129/160 [01:17<00:55,  1.80s/it]"
     ]
    },
    {
     "name": "stderr",
     "output_type": "stream",
     "text": [
      "\r",
      "Feature Extraction:  81%|████████▏ | 130/160 [01:18<00:50,  1.69s/it]"
     ]
    },
    {
     "name": "stderr",
     "output_type": "stream",
     "text": [
      "\r",
      "Feature Extraction:  82%|████████▏ | 131/160 [01:20<00:47,  1.63s/it]"
     ]
    },
    {
     "name": "stderr",
     "output_type": "stream",
     "text": [
      "\r",
      "Feature Extraction:  82%|████████▎ | 132/160 [01:20<00:32,  1.17s/it]"
     ]
    },
    {
     "name": "stderr",
     "output_type": "stream",
     "text": [
      "\r",
      "Feature Extraction:  84%|████████▍ | 134/160 [01:20<00:17,  1.49it/s]"
     ]
    },
    {
     "name": "stderr",
     "output_type": "stream",
     "text": [
      "\r",
      "Feature Extraction:  84%|████████▍ | 135/160 [01:20<00:14,  1.77it/s]"
     ]
    },
    {
     "name": "stderr",
     "output_type": "stream",
     "text": [
      "\r",
      "Feature Extraction:  86%|████████▌ | 137/160 [01:20<00:08,  2.76it/s]"
     ]
    },
    {
     "name": "stderr",
     "output_type": "stream",
     "text": [
      "\r",
      "Feature Extraction:  86%|████████▋ | 138/160 [01:20<00:07,  3.04it/s]"
     ]
    },
    {
     "name": "stderr",
     "output_type": "stream",
     "text": [
      "\r",
      "Feature Extraction:  87%|████████▋ | 139/160 [01:21<00:06,  3.20it/s]"
     ]
    },
    {
     "name": "stderr",
     "output_type": "stream",
     "text": [
      "\r",
      "Feature Extraction:  88%|████████▊ | 141/160 [01:21<00:04,  3.95it/s]"
     ]
    },
    {
     "name": "stderr",
     "output_type": "stream",
     "text": [
      "\r",
      "Feature Extraction:  89%|████████▉ | 142/160 [01:21<00:04,  3.61it/s]"
     ]
    },
    {
     "name": "stderr",
     "output_type": "stream",
     "text": [
      "\r",
      "Feature Extraction:  89%|████████▉ | 143/160 [01:22<00:05,  3.10it/s]"
     ]
    },
    {
     "name": "stderr",
     "output_type": "stream",
     "text": [
      "\r",
      "Feature Extraction:  90%|█████████ | 144/160 [01:22<00:04,  3.50it/s]"
     ]
    },
    {
     "name": "stderr",
     "output_type": "stream",
     "text": [
      "\r",
      "Feature Extraction:  91%|█████████ | 145/160 [01:22<00:03,  4.14it/s]"
     ]
    },
    {
     "name": "stderr",
     "output_type": "stream",
     "text": [
      "\r",
      "Feature Extraction:  91%|█████████▏| 146/160 [01:23<00:03,  3.64it/s]"
     ]
    },
    {
     "name": "stderr",
     "output_type": "stream",
     "text": [
      "\r",
      "Feature Extraction:  92%|█████████▏| 147/160 [01:23<00:03,  4.15it/s]"
     ]
    },
    {
     "name": "stderr",
     "output_type": "stream",
     "text": [
      "\r",
      "Feature Extraction:  92%|█████████▎| 148/160 [01:23<00:03,  3.74it/s]"
     ]
    },
    {
     "name": "stderr",
     "output_type": "stream",
     "text": [
      "\r",
      "Feature Extraction:  93%|█████████▎| 149/160 [01:23<00:02,  4.09it/s]"
     ]
    },
    {
     "name": "stderr",
     "output_type": "stream",
     "text": [
      "\r",
      "Feature Extraction:  94%|█████████▍| 151/160 [01:23<00:01,  5.48it/s]"
     ]
    },
    {
     "name": "stderr",
     "output_type": "stream",
     "text": [
      "\r",
      "Feature Extraction:  96%|█████████▌| 153/160 [01:24<00:01,  6.66it/s]"
     ]
    },
    {
     "name": "stderr",
     "output_type": "stream",
     "text": [
      "\r",
      "Feature Extraction:  97%|█████████▋| 155/160 [01:24<00:00,  8.00it/s]"
     ]
    },
    {
     "name": "stderr",
     "output_type": "stream",
     "text": [
      "\r",
      "Feature Extraction:  98%|█████████▊| 156/160 [01:24<00:00,  6.92it/s]"
     ]
    },
    {
     "name": "stderr",
     "output_type": "stream",
     "text": [
      "\r",
      "Feature Extraction:  99%|█████████▉| 158/160 [01:24<00:00,  8.33it/s]"
     ]
    },
    {
     "name": "stderr",
     "output_type": "stream",
     "text": [
      "\r",
      "Feature Extraction:  99%|█████████▉| 159/160 [01:24<00:00,  7.67it/s]"
     ]
    },
    {
     "name": "stderr",
     "output_type": "stream",
     "text": [
      "\r",
      "Feature Extraction: 100%|██████████| 160/160 [01:25<00:00,  6.80it/s]"
     ]
    },
    {
     "name": "stderr",
     "output_type": "stream",
     "text": [
      "\r",
      "Feature Extraction: 100%|██████████| 160/160 [01:25<00:00,  1.88it/s]"
     ]
    },
    {
     "name": "stderr",
     "output_type": "stream",
     "text": [
      "\n"
     ]
    },
    {
     "name": "stderr",
     "output_type": "stream",
     "text": [
      "\r",
      "Feature Extraction:   0%|          | 0/160 [00:00<?, ?it/s]"
     ]
    },
    {
     "name": "stderr",
     "output_type": "stream",
     "text": [
      "\r",
      "Feature Extraction:   1%|          | 1/160 [00:16<44:06, 16.65s/it]"
     ]
    },
    {
     "name": "stderr",
     "output_type": "stream",
     "text": [
      "\r",
      "Feature Extraction:   1%|▏         | 2/160 [00:16<18:24,  6.99s/it]"
     ]
    },
    {
     "name": "stderr",
     "output_type": "stream",
     "text": [
      "\r",
      "Feature Extraction:   2%|▏         | 3/160 [00:17<10:11,  3.89s/it]"
     ]
    },
    {
     "name": "stderr",
     "output_type": "stream",
     "text": [
      "\r",
      "Feature Extraction:   2%|▎         | 4/160 [00:17<06:25,  2.47s/it]"
     ]
    },
    {
     "name": "stderr",
     "output_type": "stream",
     "text": [
      "\r",
      "Feature Extraction:   3%|▎         | 5/160 [00:17<04:11,  1.62s/it]"
     ]
    },
    {
     "name": "stderr",
     "output_type": "stream",
     "text": [
      "\r",
      "Feature Extraction:   4%|▍         | 6/160 [00:17<03:00,  1.17s/it]"
     ]
    },
    {
     "name": "stderr",
     "output_type": "stream",
     "text": [
      "\r",
      "Feature Extraction:   4%|▍         | 7/160 [00:17<02:08,  1.19it/s]"
     ]
    },
    {
     "name": "stderr",
     "output_type": "stream",
     "text": [
      "\r",
      "Feature Extraction:   5%|▌         | 8/160 [00:18<01:35,  1.59it/s]"
     ]
    },
    {
     "name": "stderr",
     "output_type": "stream",
     "text": [
      "\r",
      "Feature Extraction:   6%|▌         | 9/160 [00:18<01:15,  2.01it/s]"
     ]
    },
    {
     "name": "stderr",
     "output_type": "stream",
     "text": [
      "\r",
      "Feature Extraction:   6%|▋         | 10/160 [00:18<01:08,  2.21it/s]"
     ]
    },
    {
     "name": "stderr",
     "output_type": "stream",
     "text": [
      "\r",
      "Feature Extraction:   7%|▋         | 11/160 [00:18<00:54,  2.74it/s]"
     ]
    },
    {
     "name": "stderr",
     "output_type": "stream",
     "text": [
      "\r",
      "Feature Extraction:   8%|▊         | 12/160 [00:19<00:44,  3.32it/s]"
     ]
    },
    {
     "name": "stderr",
     "output_type": "stream",
     "text": [
      "\r",
      "Feature Extraction:   8%|▊         | 13/160 [00:19<00:37,  3.91it/s]"
     ]
    },
    {
     "name": "stderr",
     "output_type": "stream",
     "text": [
      "\r",
      "Feature Extraction:   9%|▉         | 14/160 [00:19<00:31,  4.63it/s]"
     ]
    },
    {
     "name": "stderr",
     "output_type": "stream",
     "text": [
      "\r",
      "Feature Extraction:   9%|▉         | 15/160 [00:19<00:28,  5.06it/s]"
     ]
    },
    {
     "name": "stderr",
     "output_type": "stream",
     "text": [
      "\r",
      "Feature Extraction:  10%|█         | 16/160 [00:19<00:26,  5.47it/s]"
     ]
    },
    {
     "name": "stderr",
     "output_type": "stream",
     "text": [
      "\r",
      "Feature Extraction:  11%|█         | 17/160 [00:19<00:26,  5.45it/s]"
     ]
    },
    {
     "name": "stderr",
     "output_type": "stream",
     "text": [
      "\r",
      "Feature Extraction:  11%|█▏        | 18/160 [00:19<00:25,  5.63it/s]"
     ]
    },
    {
     "name": "stderr",
     "output_type": "stream",
     "text": [
      "\r",
      "Feature Extraction:  12%|█▏        | 19/160 [00:20<00:22,  6.34it/s]"
     ]
    },
    {
     "name": "stderr",
     "output_type": "stream",
     "text": [
      "\r",
      "Feature Extraction:  12%|█▎        | 20/160 [00:20<00:24,  5.61it/s]"
     ]
    },
    {
     "name": "stderr",
     "output_type": "stream",
     "text": [
      "\r",
      "Feature Extraction:  13%|█▎        | 21/160 [00:20<00:25,  5.47it/s]"
     ]
    },
    {
     "name": "stderr",
     "output_type": "stream",
     "text": [
      "\r",
      "Feature Extraction:  14%|█▍        | 22/160 [00:20<00:24,  5.54it/s]"
     ]
    },
    {
     "name": "stderr",
     "output_type": "stream",
     "text": [
      "\r",
      "Feature Extraction:  14%|█▍        | 23/160 [00:20<00:22,  6.18it/s]"
     ]
    },
    {
     "name": "stderr",
     "output_type": "stream",
     "text": [
      "\r",
      "Feature Extraction:  15%|█▌        | 24/160 [00:21<00:25,  5.33it/s]"
     ]
    },
    {
     "name": "stderr",
     "output_type": "stream",
     "text": [
      "\r",
      "Feature Extraction:  16%|█▌        | 25/160 [00:21<00:25,  5.22it/s]"
     ]
    },
    {
     "name": "stderr",
     "output_type": "stream",
     "text": [
      "\r",
      "Feature Extraction:  16%|█▋        | 26/160 [00:21<00:37,  3.56it/s]"
     ]
    },
    {
     "name": "stderr",
     "output_type": "stream",
     "text": [
      "\r",
      "Feature Extraction:  17%|█▋        | 27/160 [00:21<00:32,  4.05it/s]"
     ]
    },
    {
     "name": "stderr",
     "output_type": "stream",
     "text": [
      "\r",
      "Feature Extraction:  18%|█▊        | 28/160 [00:22<00:30,  4.29it/s]"
     ]
    },
    {
     "name": "stderr",
     "output_type": "stream",
     "text": [
      "\r",
      "Feature Extraction:  18%|█▊        | 29/160 [00:22<00:26,  4.95it/s]"
     ]
    },
    {
     "name": "stderr",
     "output_type": "stream",
     "text": [
      "\r",
      "Feature Extraction:  19%|█▉        | 30/160 [00:22<00:29,  4.39it/s]"
     ]
    },
    {
     "name": "stderr",
     "output_type": "stream",
     "text": [
      "\r",
      "Feature Extraction:  19%|█▉        | 31/160 [00:22<00:28,  4.52it/s]"
     ]
    },
    {
     "name": "stderr",
     "output_type": "stream",
     "text": [
      "\r",
      "Feature Extraction:  20%|██        | 32/160 [00:22<00:25,  5.04it/s]"
     ]
    },
    {
     "name": "stderr",
     "output_type": "stream",
     "text": [
      "\r",
      "Feature Extraction:  21%|██        | 33/160 [00:32<06:14,  2.95s/it]"
     ]
    },
    {
     "name": "stderr",
     "output_type": "stream",
     "text": [
      "\r",
      "Feature Extraction:  21%|██▏       | 34/160 [00:32<04:28,  2.13s/it]"
     ]
    },
    {
     "name": "stderr",
     "output_type": "stream",
     "text": [
      "\r",
      "Feature Extraction:  22%|██▏       | 35/160 [00:32<03:16,  1.57s/it]"
     ]
    },
    {
     "name": "stderr",
     "output_type": "stream",
     "text": [
      "\r",
      "Feature Extraction:  22%|██▎       | 36/160 [00:32<02:26,  1.18s/it]"
     ]
    },
    {
     "name": "stderr",
     "output_type": "stream",
     "text": [
      "\r",
      "Feature Extraction:  23%|██▎       | 37/160 [00:33<01:51,  1.11it/s]"
     ]
    },
    {
     "name": "stderr",
     "output_type": "stream",
     "text": [
      "\r",
      "Feature Extraction:  24%|██▍       | 38/160 [00:33<01:25,  1.43it/s]"
     ]
    },
    {
     "name": "stderr",
     "output_type": "stream",
     "text": [
      "\r",
      "Feature Extraction:  24%|██▍       | 39/160 [00:33<01:05,  1.84it/s]"
     ]
    },
    {
     "name": "stderr",
     "output_type": "stream",
     "text": [
      "\r",
      "Feature Extraction:  25%|██▌       | 40/160 [00:34<01:07,  1.78it/s]"
     ]
    },
    {
     "name": "stderr",
     "output_type": "stream",
     "text": [
      "\r",
      "Feature Extraction:  26%|██▌       | 41/160 [00:34<00:57,  2.08it/s]"
     ]
    },
    {
     "name": "stderr",
     "output_type": "stream",
     "text": [
      "\r",
      "Feature Extraction:  26%|██▋       | 42/160 [00:35<01:02,  1.89it/s]"
     ]
    },
    {
     "name": "stderr",
     "output_type": "stream",
     "text": [
      "\r",
      "Feature Extraction:  27%|██▋       | 43/160 [00:35<00:52,  2.23it/s]"
     ]
    },
    {
     "name": "stderr",
     "output_type": "stream",
     "text": [
      "\r",
      "Feature Extraction:  28%|██▊       | 44/160 [00:35<00:45,  2.53it/s]"
     ]
    },
    {
     "name": "stderr",
     "output_type": "stream",
     "text": [
      "\r",
      "Feature Extraction:  28%|██▊       | 45/160 [00:36<00:47,  2.44it/s]"
     ]
    },
    {
     "name": "stderr",
     "output_type": "stream",
     "text": [
      "\r",
      "Feature Extraction:  29%|██▉       | 46/160 [00:36<00:43,  2.64it/s]"
     ]
    },
    {
     "name": "stderr",
     "output_type": "stream",
     "text": [
      "\r",
      "Feature Extraction:  29%|██▉       | 47/160 [00:36<00:33,  3.37it/s]"
     ]
    },
    {
     "name": "stderr",
     "output_type": "stream",
     "text": [
      "\r",
      "Feature Extraction:  30%|███       | 48/160 [00:36<00:32,  3.45it/s]"
     ]
    },
    {
     "name": "stderr",
     "output_type": "stream",
     "text": [
      "\r",
      "Feature Extraction:  31%|███       | 49/160 [00:37<00:30,  3.69it/s]"
     ]
    },
    {
     "name": "stderr",
     "output_type": "stream",
     "text": [
      "\r",
      "Feature Extraction:  31%|███▏      | 50/160 [00:37<00:29,  3.79it/s]"
     ]
    },
    {
     "name": "stderr",
     "output_type": "stream",
     "text": [
      "\r",
      "Feature Extraction:  32%|███▏      | 51/160 [00:37<00:28,  3.83it/s]"
     ]
    },
    {
     "name": "stderr",
     "output_type": "stream",
     "text": [
      "\r",
      "Feature Extraction:  32%|███▎      | 52/160 [00:37<00:25,  4.16it/s]"
     ]
    },
    {
     "name": "stderr",
     "output_type": "stream",
     "text": [
      "\r",
      "Feature Extraction:  33%|███▎      | 53/160 [00:37<00:21,  4.98it/s]"
     ]
    },
    {
     "name": "stderr",
     "output_type": "stream",
     "text": [
      "\r",
      "Feature Extraction:  34%|███▍      | 54/160 [00:38<00:20,  5.27it/s]"
     ]
    },
    {
     "name": "stderr",
     "output_type": "stream",
     "text": [
      "\r",
      "Feature Extraction:  34%|███▍      | 55/160 [00:38<00:18,  5.65it/s]"
     ]
    },
    {
     "name": "stderr",
     "output_type": "stream",
     "text": [
      "\r",
      "Feature Extraction:  35%|███▌      | 56/160 [00:38<00:16,  6.19it/s]"
     ]
    },
    {
     "name": "stderr",
     "output_type": "stream",
     "text": [
      "\r",
      "Feature Extraction:  36%|███▌      | 57/160 [00:38<00:15,  6.52it/s]"
     ]
    },
    {
     "name": "stderr",
     "output_type": "stream",
     "text": [
      "\r",
      "Feature Extraction:  36%|███▋      | 58/160 [00:39<00:38,  2.66it/s]"
     ]
    },
    {
     "name": "stderr",
     "output_type": "stream",
     "text": [
      "\r",
      "Feature Extraction:  37%|███▋      | 59/160 [00:39<00:31,  3.26it/s]"
     ]
    },
    {
     "name": "stderr",
     "output_type": "stream",
     "text": [
      "\r",
      "Feature Extraction:  38%|███▊      | 60/160 [00:39<00:27,  3.64it/s]"
     ]
    },
    {
     "name": "stderr",
     "output_type": "stream",
     "text": [
      "\r",
      "Feature Extraction:  38%|███▊      | 61/160 [00:39<00:23,  4.25it/s]"
     ]
    },
    {
     "name": "stderr",
     "output_type": "stream",
     "text": [
      "\r",
      "Feature Extraction:  39%|███▉      | 62/160 [00:39<00:20,  4.79it/s]"
     ]
    },
    {
     "name": "stderr",
     "output_type": "stream",
     "text": [
      "\r",
      "Feature Extraction:  39%|███▉      | 63/160 [00:40<00:17,  5.47it/s]"
     ]
    },
    {
     "name": "stderr",
     "output_type": "stream",
     "text": [
      "\r",
      "Feature Extraction:  40%|████      | 64/160 [00:40<00:15,  6.31it/s]"
     ]
    },
    {
     "name": "stderr",
     "output_type": "stream",
     "text": [
      "\r",
      "Feature Extraction:  41%|████      | 65/160 [00:49<04:29,  2.84s/it]"
     ]
    },
    {
     "name": "stderr",
     "output_type": "stream",
     "text": [
      "\r",
      "Feature Extraction:  41%|████▏     | 66/160 [00:49<03:19,  2.12s/it]"
     ]
    },
    {
     "name": "stderr",
     "output_type": "stream",
     "text": [
      "\r",
      "Feature Extraction:  42%|████▏     | 67/160 [00:49<02:23,  1.54s/it]"
     ]
    },
    {
     "name": "stderr",
     "output_type": "stream",
     "text": [
      "\r",
      "Feature Extraction:  42%|████▎     | 68/160 [00:50<01:48,  1.17s/it]"
     ]
    },
    {
     "name": "stderr",
     "output_type": "stream",
     "text": [
      "\r",
      "Feature Extraction:  43%|████▎     | 69/160 [00:50<01:20,  1.13it/s]"
     ]
    },
    {
     "name": "stderr",
     "output_type": "stream",
     "text": [
      "\r",
      "Feature Extraction:  44%|████▍     | 70/160 [00:50<01:11,  1.27it/s]"
     ]
    },
    {
     "name": "stderr",
     "output_type": "stream",
     "text": [
      "\r",
      "Feature Extraction:  44%|████▍     | 71/160 [00:51<00:54,  1.63it/s]"
     ]
    },
    {
     "name": "stderr",
     "output_type": "stream",
     "text": [
      "\r",
      "Feature Extraction:  45%|████▌     | 72/160 [00:51<00:42,  2.08it/s]"
     ]
    },
    {
     "name": "stderr",
     "output_type": "stream",
     "text": [
      "\r",
      "Feature Extraction:  46%|████▌     | 73/160 [00:51<00:40,  2.15it/s]"
     ]
    },
    {
     "name": "stderr",
     "output_type": "stream",
     "text": [
      "\r",
      "Feature Extraction:  46%|████▋     | 74/160 [00:52<00:49,  1.75it/s]"
     ]
    },
    {
     "name": "stderr",
     "output_type": "stream",
     "text": [
      "\r",
      "Feature Extraction:  47%|████▋     | 75/160 [00:52<00:39,  2.17it/s]"
     ]
    },
    {
     "name": "stderr",
     "output_type": "stream",
     "text": [
      "\r",
      "Feature Extraction:  48%|████▊     | 76/160 [00:53<00:33,  2.49it/s]"
     ]
    },
    {
     "name": "stderr",
     "output_type": "stream",
     "text": [
      "\r",
      "Feature Extraction:  48%|████▊     | 77/160 [00:53<00:30,  2.69it/s]"
     ]
    },
    {
     "name": "stderr",
     "output_type": "stream",
     "text": [
      "\r",
      "Feature Extraction:  49%|████▉     | 78/160 [00:53<00:26,  3.10it/s]"
     ]
    },
    {
     "name": "stderr",
     "output_type": "stream",
     "text": [
      "\r",
      "Feature Extraction:  49%|████▉     | 79/160 [00:53<00:23,  3.46it/s]"
     ]
    },
    {
     "name": "stderr",
     "output_type": "stream",
     "text": [
      "\r",
      "Feature Extraction:  50%|█████     | 80/160 [00:54<00:25,  3.20it/s]"
     ]
    },
    {
     "name": "stderr",
     "output_type": "stream",
     "text": [
      "\r",
      "Feature Extraction:  51%|█████     | 81/160 [00:54<00:21,  3.61it/s]"
     ]
    },
    {
     "name": "stderr",
     "output_type": "stream",
     "text": [
      "\r",
      "Feature Extraction:  51%|█████▏    | 82/160 [00:54<00:23,  3.37it/s]"
     ]
    },
    {
     "name": "stderr",
     "output_type": "stream",
     "text": [
      "\r",
      "Feature Extraction:  52%|█████▏    | 83/160 [00:54<00:20,  3.80it/s]"
     ]
    },
    {
     "name": "stderr",
     "output_type": "stream",
     "text": [
      "\r",
      "Feature Extraction:  52%|█████▎    | 84/160 [00:55<00:19,  3.89it/s]"
     ]
    },
    {
     "name": "stderr",
     "output_type": "stream",
     "text": [
      "\r",
      "Feature Extraction:  53%|█████▎    | 85/160 [00:55<00:16,  4.55it/s]"
     ]
    },
    {
     "name": "stderr",
     "output_type": "stream",
     "text": [
      "\r",
      "Feature Extraction:  54%|█████▍    | 86/160 [00:55<00:16,  4.62it/s]"
     ]
    },
    {
     "name": "stderr",
     "output_type": "stream",
     "text": [
      "\r",
      "Feature Extraction:  54%|█████▍    | 87/160 [00:55<00:16,  4.52it/s]"
     ]
    },
    {
     "name": "stderr",
     "output_type": "stream",
     "text": [
      "\r",
      "Feature Extraction:  55%|█████▌    | 88/160 [00:56<00:19,  3.74it/s]"
     ]
    },
    {
     "name": "stderr",
     "output_type": "stream",
     "text": [
      "\r",
      "Feature Extraction:  56%|█████▌    | 89/160 [00:56<00:18,  3.89it/s]"
     ]
    },
    {
     "name": "stderr",
     "output_type": "stream",
     "text": [
      "\r",
      "Feature Extraction:  56%|█████▋    | 90/160 [00:56<00:18,  3.78it/s]"
     ]
    },
    {
     "name": "stderr",
     "output_type": "stream",
     "text": [
      "\r",
      "Feature Extraction:  57%|█████▋    | 91/160 [00:57<00:36,  1.90it/s]"
     ]
    },
    {
     "name": "stderr",
     "output_type": "stream",
     "text": [
      "\r",
      "Feature Extraction:  57%|█████▊    | 92/160 [00:57<00:28,  2.40it/s]"
     ]
    },
    {
     "name": "stderr",
     "output_type": "stream",
     "text": [
      "\r",
      "Feature Extraction:  58%|█████▊    | 93/160 [00:58<00:23,  2.87it/s]"
     ]
    },
    {
     "name": "stderr",
     "output_type": "stream",
     "text": [
      "\r",
      "Feature Extraction:  59%|█████▉    | 94/160 [00:58<00:18,  3.58it/s]"
     ]
    },
    {
     "name": "stderr",
     "output_type": "stream",
     "text": [
      "\r",
      "Feature Extraction:  59%|█████▉    | 95/160 [00:58<00:15,  4.22it/s]"
     ]
    },
    {
     "name": "stderr",
     "output_type": "stream",
     "text": [
      "\r",
      "Feature Extraction:  60%|██████    | 96/160 [00:58<00:13,  4.76it/s]"
     ]
    },
    {
     "name": "stderr",
     "output_type": "stream",
     "text": [
      "\r",
      "Feature Extraction:  61%|██████    | 97/160 [01:06<02:43,  2.59s/it]"
     ]
    },
    {
     "name": "stderr",
     "output_type": "stream",
     "text": [
      "\r",
      "Feature Extraction:  61%|██████▏   | 98/160 [01:07<02:03,  2.00s/it]"
     ]
    },
    {
     "name": "stderr",
     "output_type": "stream",
     "text": [
      "\r",
      "Feature Extraction:  62%|██████▏   | 99/160 [01:07<01:29,  1.47s/it]"
     ]
    },
    {
     "name": "stderr",
     "output_type": "stream",
     "text": [
      "\r",
      "Feature Extraction:  62%|██████▎   | 100/160 [01:07<01:06,  1.11s/it]"
     ]
    },
    {
     "name": "stderr",
     "output_type": "stream",
     "text": [
      "\r",
      "Feature Extraction:  63%|██████▎   | 101/160 [01:07<00:49,  1.20it/s]"
     ]
    },
    {
     "name": "stderr",
     "output_type": "stream",
     "text": [
      "\r",
      "Feature Extraction:  64%|██████▍   | 102/160 [01:08<00:39,  1.48it/s]"
     ]
    },
    {
     "name": "stderr",
     "output_type": "stream",
     "text": [
      "\r",
      "Feature Extraction:  64%|██████▍   | 103/160 [01:09<00:40,  1.42it/s]"
     ]
    },
    {
     "name": "stderr",
     "output_type": "stream",
     "text": [
      "\r",
      "Feature Extraction:  65%|██████▌   | 104/160 [01:09<00:30,  1.82it/s]"
     ]
    },
    {
     "name": "stderr",
     "output_type": "stream",
     "text": [
      "\r",
      "Feature Extraction:  66%|██████▌   | 105/160 [01:09<00:28,  1.96it/s]"
     ]
    },
    {
     "name": "stderr",
     "output_type": "stream",
     "text": [
      "\r",
      "Feature Extraction:  66%|██████▋   | 106/160 [01:09<00:22,  2.42it/s]"
     ]
    },
    {
     "name": "stderr",
     "output_type": "stream",
     "text": [
      "\r",
      "Feature Extraction:  67%|██████▋   | 107/160 [01:11<00:38,  1.38it/s]"
     ]
    },
    {
     "name": "stderr",
     "output_type": "stream",
     "text": [
      "\r",
      "Feature Extraction:  68%|██████▊   | 108/160 [01:11<00:28,  1.80it/s]"
     ]
    },
    {
     "name": "stderr",
     "output_type": "stream",
     "text": [
      "\r",
      "Feature Extraction:  68%|██████▊   | 109/160 [01:11<00:22,  2.22it/s]"
     ]
    },
    {
     "name": "stderr",
     "output_type": "stream",
     "text": [
      "\r",
      "Feature Extraction:  69%|██████▉   | 110/160 [01:11<00:17,  2.85it/s]"
     ]
    },
    {
     "name": "stderr",
     "output_type": "stream",
     "text": [
      "\r",
      "Feature Extraction:  69%|██████▉   | 111/160 [01:12<00:15,  3.11it/s]"
     ]
    },
    {
     "name": "stderr",
     "output_type": "stream",
     "text": [
      "\r",
      "Feature Extraction:  70%|███████   | 112/160 [01:12<00:14,  3.32it/s]"
     ]
    },
    {
     "name": "stderr",
     "output_type": "stream",
     "text": [
      "\r",
      "Feature Extraction:  71%|███████   | 113/160 [01:12<00:12,  3.67it/s]"
     ]
    },
    {
     "name": "stderr",
     "output_type": "stream",
     "text": [
      "\r",
      "Feature Extraction:  71%|███████▏  | 114/160 [01:12<00:11,  4.04it/s]"
     ]
    },
    {
     "name": "stderr",
     "output_type": "stream",
     "text": [
      "\r",
      "Feature Extraction:  72%|███████▏  | 115/160 [01:12<00:09,  4.65it/s]"
     ]
    },
    {
     "name": "stderr",
     "output_type": "stream",
     "text": [
      "\r",
      "Feature Extraction:  72%|███████▎  | 116/160 [01:13<00:09,  4.73it/s]"
     ]
    },
    {
     "name": "stderr",
     "output_type": "stream",
     "text": [
      "\r",
      "Feature Extraction:  73%|███████▎  | 117/160 [01:13<00:08,  5.28it/s]"
     ]
    },
    {
     "name": "stderr",
     "output_type": "stream",
     "text": [
      "\r",
      "Feature Extraction:  74%|███████▍  | 118/160 [01:13<00:08,  5.15it/s]"
     ]
    },
    {
     "name": "stderr",
     "output_type": "stream",
     "text": [
      "\r",
      "Feature Extraction:  74%|███████▍  | 119/160 [01:13<00:09,  4.31it/s]"
     ]
    },
    {
     "name": "stderr",
     "output_type": "stream",
     "text": [
      "\r",
      "Feature Extraction:  75%|███████▌  | 120/160 [01:13<00:09,  4.11it/s]"
     ]
    },
    {
     "name": "stderr",
     "output_type": "stream",
     "text": [
      "\r",
      "Feature Extraction:  76%|███████▌  | 121/160 [01:14<00:09,  4.17it/s]"
     ]
    },
    {
     "name": "stderr",
     "output_type": "stream",
     "text": [
      "\r",
      "Feature Extraction:  76%|███████▋  | 122/160 [01:14<00:08,  4.37it/s]"
     ]
    },
    {
     "name": "stderr",
     "output_type": "stream",
     "text": [
      "\r",
      "Feature Extraction:  77%|███████▋  | 123/160 [01:15<00:16,  2.20it/s]"
     ]
    },
    {
     "name": "stderr",
     "output_type": "stream",
     "text": [
      "\r",
      "Feature Extraction:  78%|███████▊  | 124/160 [01:15<00:14,  2.53it/s]"
     ]
    },
    {
     "name": "stderr",
     "output_type": "stream",
     "text": [
      "\r",
      "Feature Extraction:  78%|███████▊  | 125/160 [01:15<00:11,  3.09it/s]"
     ]
    },
    {
     "name": "stderr",
     "output_type": "stream",
     "text": [
      "\r",
      "Feature Extraction:  79%|███████▉  | 126/160 [01:15<00:09,  3.65it/s]"
     ]
    },
    {
     "name": "stderr",
     "output_type": "stream",
     "text": [
      "\r",
      "Feature Extraction:  79%|███████▉  | 127/160 [01:16<00:08,  4.11it/s]"
     ]
    },
    {
     "name": "stderr",
     "output_type": "stream",
     "text": [
      "\r",
      "Feature Extraction:  80%|████████  | 128/160 [01:16<00:09,  3.38it/s]"
     ]
    },
    {
     "name": "stderr",
     "output_type": "stream",
     "text": [
      "\r",
      "Feature Extraction:  81%|████████  | 129/160 [01:23<01:13,  2.37s/it]"
     ]
    },
    {
     "name": "stderr",
     "output_type": "stream",
     "text": [
      "\r",
      "Feature Extraction:  81%|████████▏ | 130/160 [01:24<00:57,  1.91s/it]"
     ]
    },
    {
     "name": "stderr",
     "output_type": "stream",
     "text": [
      "\r",
      "Feature Extraction:  82%|████████▏ | 131/160 [01:24<00:41,  1.42s/it]"
     ]
    },
    {
     "name": "stderr",
     "output_type": "stream",
     "text": [
      "\r",
      "Feature Extraction:  82%|████████▎ | 132/160 [01:24<00:28,  1.03s/it]"
     ]
    },
    {
     "name": "stderr",
     "output_type": "stream",
     "text": [
      "\r",
      "Feature Extraction:  83%|████████▎ | 133/160 [01:25<00:21,  1.28it/s]"
     ]
    },
    {
     "name": "stderr",
     "output_type": "stream",
     "text": [
      "\r",
      "Feature Extraction:  84%|████████▍ | 134/160 [01:25<00:16,  1.54it/s]"
     ]
    },
    {
     "name": "stderr",
     "output_type": "stream",
     "text": [
      "\r",
      "Feature Extraction:  84%|████████▍ | 135/160 [01:25<00:14,  1.68it/s]"
     ]
    },
    {
     "name": "stderr",
     "output_type": "stream",
     "text": [
      "\r",
      "Feature Extraction:  85%|████████▌ | 136/160 [01:26<00:11,  2.11it/s]"
     ]
    },
    {
     "name": "stderr",
     "output_type": "stream",
     "text": [
      "\r",
      "Feature Extraction:  86%|████████▋ | 138/160 [01:27<00:11,  2.00it/s]"
     ]
    },
    {
     "name": "stderr",
     "output_type": "stream",
     "text": [
      "\r",
      "Feature Extraction:  87%|████████▋ | 139/160 [01:27<00:09,  2.24it/s]"
     ]
    },
    {
     "name": "stderr",
     "output_type": "stream",
     "text": [
      "\r",
      "Feature Extraction:  88%|████████▊ | 140/160 [01:27<00:07,  2.64it/s]"
     ]
    },
    {
     "name": "stderr",
     "output_type": "stream",
     "text": [
      "\r",
      "Feature Extraction:  88%|████████▊ | 141/160 [01:27<00:06,  2.86it/s]"
     ]
    },
    {
     "name": "stderr",
     "output_type": "stream",
     "text": [
      "\r",
      "Feature Extraction:  89%|████████▉ | 143/160 [01:28<00:03,  4.26it/s]"
     ]
    },
    {
     "name": "stderr",
     "output_type": "stream",
     "text": [
      "\r",
      "Feature Extraction:  90%|█████████ | 144/160 [01:28<00:03,  4.18it/s]"
     ]
    },
    {
     "name": "stderr",
     "output_type": "stream",
     "text": [
      "\r",
      "Feature Extraction:  91%|█████████ | 145/160 [01:28<00:03,  4.70it/s]"
     ]
    },
    {
     "name": "stderr",
     "output_type": "stream",
     "text": [
      "\r",
      "Feature Extraction:  91%|█████████▏| 146/160 [01:28<00:02,  5.15it/s]"
     ]
    },
    {
     "name": "stderr",
     "output_type": "stream",
     "text": [
      "\r",
      "Feature Extraction:  92%|█████████▏| 147/160 [01:28<00:02,  4.82it/s]"
     ]
    },
    {
     "name": "stderr",
     "output_type": "stream",
     "text": [
      "\r",
      "Feature Extraction:  93%|█████████▎| 149/160 [01:29<00:01,  5.71it/s]"
     ]
    },
    {
     "name": "stderr",
     "output_type": "stream",
     "text": [
      "\r",
      "Feature Extraction:  94%|█████████▍| 150/160 [01:29<00:01,  5.48it/s]"
     ]
    },
    {
     "name": "stderr",
     "output_type": "stream",
     "text": [
      "\r",
      "Feature Extraction:  95%|█████████▌| 152/160 [01:29<00:01,  6.78it/s]"
     ]
    },
    {
     "name": "stderr",
     "output_type": "stream",
     "text": [
      "\r",
      "Feature Extraction:  96%|█████████▌| 153/160 [01:29<00:01,  6.26it/s]"
     ]
    },
    {
     "name": "stderr",
     "output_type": "stream",
     "text": [
      "\r",
      "Feature Extraction:  97%|█████████▋| 155/160 [01:29<00:00,  7.52it/s]"
     ]
    },
    {
     "name": "stderr",
     "output_type": "stream",
     "text": [
      "\r",
      "Feature Extraction:  98%|█████████▊| 157/160 [01:30<00:00,  9.46it/s]"
     ]
    },
    {
     "name": "stderr",
     "output_type": "stream",
     "text": [
      "\r",
      "Feature Extraction:  99%|█████████▉| 159/160 [01:30<00:00, 11.20it/s]"
     ]
    },
    {
     "name": "stderr",
     "output_type": "stream",
     "text": [
      "\r",
      "Feature Extraction: 100%|██████████| 160/160 [01:30<00:00,  1.77it/s]"
     ]
    },
    {
     "name": "stderr",
     "output_type": "stream",
     "text": [
      "\n"
     ]
    },
    {
     "name": "stdout",
     "output_type": "stream",
     "text": [
      "let the ml starts\n"
     ]
    },
    {
     "name": "stdout",
     "output_type": "stream",
     "text": [
      "LogReg\n",
      "              precision    recall  f1-score   support\n",
      "\n",
      "   malignant       0.95      0.92      0.93      7914\n",
      "      benign       0.92      0.95      0.94      7606\n",
      "\n",
      "    accuracy                           0.93     15520\n",
      "   macro avg       0.94      0.94      0.93     15520\n",
      "weighted avg       0.94      0.93      0.93     15520\n",
      "\n",
      "   fit_time  score_time  test_accuracy  test_precision_weighted  \\\n",
      "0  8.130480    0.030280       0.938789                 0.939227   \n",
      "1  8.021602    0.042182       0.935030                 0.935499   \n",
      "2  7.612292    0.046152       0.935997                 0.936781   \n",
      "3  7.142121    0.032693       0.935782                 0.936414   \n",
      "4  8.745156    0.027450       0.939641                 0.939912   \n",
      "\n",
      "   test_recall_weighted  test_f1_weighted  test_roc_auc   model  \n",
      "0              0.938789          0.938777      0.983873  LogReg  \n",
      "1              0.935030          0.935025      0.981942  LogReg  \n",
      "2              0.935997          0.936007      0.982737  LogReg  \n",
      "3              0.935782          0.935779      0.982821  LogReg  \n",
      "4              0.939641          0.939636      0.984139  LogReg  \n"
     ]
    },
    {
     "name": "stdout",
     "output_type": "stream",
     "text": [
      "KNN\n",
      "              precision    recall  f1-score   support\n",
      "\n",
      "   malignant       0.96      0.95      0.95      7914\n",
      "      benign       0.94      0.95      0.95      7606\n",
      "\n",
      "    accuracy                           0.95     15520\n",
      "   macro avg       0.95      0.95      0.95     15520\n",
      "weighted avg       0.95      0.95      0.95     15520\n",
      "\n",
      "   fit_time  score_time  test_accuracy  test_precision_weighted  \\\n",
      "0  8.130480    0.030280       0.938789                 0.939227   \n",
      "1  8.021602    0.042182       0.935030                 0.935499   \n",
      "2  7.612292    0.046152       0.935997                 0.936781   \n",
      "3  7.142121    0.032693       0.935782                 0.936414   \n",
      "4  8.745156    0.027450       0.939641                 0.939912   \n",
      "5  0.025214    0.927139       0.954575                 0.954577   \n",
      "6  0.022463    0.872813       0.952964                 0.953107   \n",
      "7  0.022514    0.874859       0.950601                 0.950751   \n",
      "8  0.023122    0.876873       0.953286                 0.953429   \n",
      "9  0.022494    0.875446       0.954248                 0.954249   \n",
      "\n",
      "   test_recall_weighted  test_f1_weighted  test_roc_auc   model  \n",
      "0              0.938789          0.938777      0.983873  LogReg  \n",
      "1              0.935030          0.935025      0.981942  LogReg  \n",
      "2              0.935997          0.936007      0.982737  LogReg  \n",
      "3              0.935782          0.935779      0.982821  LogReg  \n",
      "4              0.939641          0.939636      0.984139  LogReg  \n",
      "5              0.954575          0.954575      0.984463     KNN  \n",
      "6              0.952964          0.952965      0.982930     KNN  \n",
      "7              0.950601          0.950610      0.981343     KNN  \n",
      "8              0.953286          0.953289      0.983716     KNN  \n",
      "9              0.954248          0.954248      0.984757     KNN  \n"
     ]
    },
    {
     "name": "stdout",
     "output_type": "stream",
     "text": [
      "SVM\n",
      "              precision    recall  f1-score   support\n",
      "\n",
      "   malignant       0.96      0.93      0.95      7914\n",
      "      benign       0.93      0.96      0.95      7606\n",
      "\n",
      "    accuracy                           0.95     15520\n",
      "   macro avg       0.95      0.95      0.95     15520\n",
      "weighted avg       0.95      0.95      0.95     15520\n",
      "\n",
      "     fit_time  score_time  test_accuracy  test_precision_weighted  \\\n",
      "0    8.130480    0.030280       0.938789                 0.939227   \n",
      "1    8.021602    0.042182       0.935030                 0.935499   \n",
      "2    7.612292    0.046152       0.935997                 0.936781   \n",
      "3    7.142121    0.032693       0.935782                 0.936414   \n",
      "4    8.745156    0.027450       0.939641                 0.939912   \n",
      "5    0.025214    0.927139       0.954575                 0.954577   \n",
      "6    0.022463    0.872813       0.952964                 0.953107   \n",
      "7    0.022514    0.874859       0.950601                 0.950751   \n",
      "8    0.023122    0.876873       0.953286                 0.953429   \n",
      "9    0.022494    0.875446       0.954248                 0.954249   \n",
      "10  54.392403   16.974384       0.949957                 0.950185   \n",
      "11  54.326934   16.763557       0.949313                 0.949713   \n",
      "12  53.984885   16.655721       0.949527                 0.950562   \n",
      "13  54.211342   15.584828       0.949420                 0.950027   \n",
      "14  55.842417   16.398751       0.953603                 0.953826   \n",
      "\n",
      "    test_recall_weighted  test_f1_weighted  test_roc_auc   model  \n",
      "0               0.938789          0.938777      0.983873  LogReg  \n",
      "1               0.935030          0.935025      0.981942  LogReg  \n",
      "2               0.935997          0.936007      0.982737  LogReg  \n",
      "3               0.935782          0.935779      0.982821  LogReg  \n",
      "4               0.939641          0.939636      0.984139  LogReg  \n",
      "5               0.954575          0.954575      0.984463     KNN  \n",
      "6               0.952964          0.952965      0.982930     KNN  \n",
      "7               0.950601          0.950610      0.981343     KNN  \n",
      "8               0.953286          0.953289      0.983716     KNN  \n",
      "9               0.954248          0.954248      0.984757     KNN  \n",
      "10              0.949957          0.949953      0.986849     SVM  \n",
      "11              0.949313          0.949310      0.985891     SVM  \n",
      "12              0.949527          0.949534      0.986045     SVM  \n",
      "13              0.949420          0.949418      0.987582     SVM  \n",
      "14              0.953603          0.953600      0.987128     SVM  \n"
     ]
    },
    {
     "name": "stdout",
     "output_type": "stream",
     "text": [
      "GNB\n",
      "              precision    recall  f1-score   support\n",
      "\n",
      "   malignant       0.99      0.99      0.99      7914\n",
      "      benign       0.99      0.99      0.99      7606\n",
      "\n",
      "    accuracy                           0.99     15520\n",
      "   macro avg       0.99      0.99      0.99     15520\n",
      "weighted avg       0.99      0.99      0.99     15520\n",
      "\n",
      "     fit_time  score_time  test_accuracy  test_precision_weighted  \\\n",
      "0    8.130480    0.030280       0.938789                 0.939227   \n",
      "1    8.021602    0.042182       0.935030                 0.935499   \n",
      "2    7.612292    0.046152       0.935997                 0.936781   \n",
      "3    7.142121    0.032693       0.935782                 0.936414   \n",
      "4    8.745156    0.027450       0.939641                 0.939912   \n",
      "5    0.025214    0.927139       0.954575                 0.954577   \n",
      "6    0.022463    0.872813       0.952964                 0.953107   \n",
      "7    0.022514    0.874859       0.950601                 0.950751   \n",
      "8    0.023122    0.876873       0.953286                 0.953429   \n",
      "9    0.022494    0.875446       0.954248                 0.954249   \n",
      "10  54.392403   16.974384       0.949957                 0.950185   \n",
      "11  54.326934   16.763557       0.949313                 0.949713   \n",
      "12  53.984885   16.655721       0.949527                 0.950562   \n",
      "13  54.211342   15.584828       0.949420                 0.950027   \n",
      "14  55.842417   16.398751       0.953603                 0.953826   \n",
      "15   0.087479    0.037773       0.987865                 0.987872   \n",
      "16   0.085816    0.037652       0.988402                 0.988408   \n",
      "17   0.085901    0.037800       0.989905                 0.989907   \n",
      "18   0.085955    0.037796       0.990765                 0.990765   \n",
      "19   0.085890    0.037597       0.988830                 0.988834   \n",
      "\n",
      "    test_recall_weighted  test_f1_weighted  test_roc_auc   model  \n",
      "0               0.938789          0.938777      0.983873  LogReg  \n",
      "1               0.935030          0.935025      0.981942  LogReg  \n",
      "2               0.935997          0.936007      0.982737  LogReg  \n",
      "3               0.935782          0.935779      0.982821  LogReg  \n",
      "4               0.939641          0.939636      0.984139  LogReg  \n",
      "5               0.954575          0.954575      0.984463     KNN  \n",
      "6               0.952964          0.952965      0.982930     KNN  \n",
      "7               0.950601          0.950610      0.981343     KNN  \n",
      "8               0.953286          0.953289      0.983716     KNN  \n",
      "9               0.954248          0.954248      0.984757     KNN  \n",
      "10              0.949957          0.949953      0.986849     SVM  \n",
      "11              0.949313          0.949310      0.985891     SVM  \n",
      "12              0.949527          0.949534      0.986045     SVM  \n",
      "13              0.949420          0.949418      0.987582     SVM  \n",
      "14              0.953603          0.953600      0.987128     SVM  \n",
      "15              0.987865          0.987865      0.992827     GNB  \n",
      "16              0.988402          0.988402      0.992933     GNB  \n",
      "17              0.989905          0.989905      0.995162     GNB  \n",
      "18              0.990765          0.990765      0.994864     GNB  \n",
      "19              0.988830          0.988830      0.994967     GNB  \n",
      "746.860985015519\n"
     ]
    }
   ],
   "source": [
    "## S3; In-browser VS Binary ##\n",
    "\n",
    "  #1) In-Browser\n",
    "df_malicious = pd.concat([df3,df5,df6,df7,df32,df33,df34,df35])\n",
    "df_benign = pd.concat([df10,df20,df21])\n",
    "\n",
    "print(\"malicious: {}\".format(len(df_malicious)))\n",
    "print(\"benign: {}\".format(len(df_benign)))\n",
    "\n",
    "print(\"{} NAN in malicious!\".format(len(df_malicious[df_malicious.isna().any(axis=1)])))\n",
    "print(\"{} NAN in benign!\".format(len(df_benign[df_benign.isna().any(axis=1)])))\n",
    "\n",
    "df_malicious = df_malicious.dropna()\n",
    "df_benign = df_benign.dropna()\n",
    "\n",
    "print(\"After droppping NAN rows: \")\n",
    "print(\"malicious: {}\".format(len(df_malicious)))\n",
    "print(\"benign: {}\".format(len(df_benign)))\n",
    "\n",
    "start = timer()\n",
    "\n",
    "results_In_s3 = run_process(df_malicious,df_benign,df_results)\n",
    "\n",
    "\n",
    "end = timer()\n",
    "print(end - start)"
   ]
  },
  {
   "cell_type": "code",
   "execution_count": 17,
   "id": "a4cvtw_n3z2R",
   "metadata": {
    "execution": {
     "iopub.execute_input": "2025-08-02T12:24:37.107223Z",
     "iopub.status.busy": "2025-08-02T12:24:37.107086Z",
     "iopub.status.idle": "2025-08-02T13:56:09.062669Z",
     "shell.execute_reply": "2025-08-02T13:56:09.061875Z"
    },
    "id": "a4cvtw_n3z2R",
    "outputId": "ec496250-3d3a-4905-cee0-92520242d8fe"
   },
   "outputs": [
    {
     "name": "stdout",
     "output_type": "stream",
     "text": [
      "malicious: 1251356\n",
      "benign: 1229399\n"
     ]
    },
    {
     "name": "stdout",
     "output_type": "stream",
     "text": [
      "0 NAN in malicious!\n"
     ]
    },
    {
     "name": "stdout",
     "output_type": "stream",
     "text": [
      "0 NAN in benign!\n"
     ]
    },
    {
     "name": "stdout",
     "output_type": "stream",
     "text": [
      "After droppping NAN rows: \n",
      "malicious: 1251356\n",
      "benign: 1229399\n"
     ]
    },
    {
     "name": "stderr",
     "output_type": "stream",
     "text": [
      "\r",
      "Feature Extraction:   0%|          | 0/160 [00:00<?, ?it/s]"
     ]
    },
    {
     "name": "stderr",
     "output_type": "stream",
     "text": [
      "\r",
      "Feature Extraction:   1%|          | 1/160 [01:05<2:53:02, 65.30s/it]"
     ]
    },
    {
     "name": "stderr",
     "output_type": "stream",
     "text": [
      "\r",
      "Feature Extraction:   1%|▏         | 2/160 [01:06<1:13:10, 27.79s/it]"
     ]
    },
    {
     "name": "stderr",
     "output_type": "stream",
     "text": [
      "\r",
      "Feature Extraction:   2%|▏         | 3/160 [01:08<40:58, 15.66s/it]  "
     ]
    },
    {
     "name": "stderr",
     "output_type": "stream",
     "text": [
      "\r",
      "Feature Extraction:   2%|▎         | 4/160 [01:08<25:07,  9.66s/it]"
     ]
    },
    {
     "name": "stderr",
     "output_type": "stream",
     "text": [
      "\r",
      "Feature Extraction:   3%|▎         | 5/160 [01:10<17:20,  6.71s/it]"
     ]
    },
    {
     "name": "stderr",
     "output_type": "stream",
     "text": [
      "\r",
      "Feature Extraction:   4%|▍         | 6/160 [01:10<11:58,  4.67s/it]"
     ]
    },
    {
     "name": "stderr",
     "output_type": "stream",
     "text": [
      "\r",
      "Feature Extraction:   4%|▍         | 7/160 [01:11<08:33,  3.36s/it]"
     ]
    },
    {
     "name": "stderr",
     "output_type": "stream",
     "text": [
      "\r",
      "Feature Extraction:   5%|▌         | 8/160 [01:12<06:22,  2.52s/it]"
     ]
    },
    {
     "name": "stderr",
     "output_type": "stream",
     "text": [
      "\r",
      "Feature Extraction:   6%|▌         | 9/160 [01:12<04:53,  1.94s/it]"
     ]
    },
    {
     "name": "stderr",
     "output_type": "stream",
     "text": [
      "\r",
      "Feature Extraction:   6%|▋         | 10/160 [01:13<03:43,  1.49s/it]"
     ]
    },
    {
     "name": "stderr",
     "output_type": "stream",
     "text": [
      "\r",
      "Feature Extraction:   7%|▋         | 11/160 [01:13<02:54,  1.17s/it]"
     ]
    },
    {
     "name": "stderr",
     "output_type": "stream",
     "text": [
      "\r",
      "Feature Extraction:   8%|▊         | 12/160 [01:14<02:38,  1.07s/it]"
     ]
    },
    {
     "name": "stderr",
     "output_type": "stream",
     "text": [
      "\r",
      "Feature Extraction:   8%|▊         | 13/160 [01:14<02:07,  1.15it/s]"
     ]
    },
    {
     "name": "stderr",
     "output_type": "stream",
     "text": [
      "\r",
      "Feature Extraction:   9%|▉         | 14/160 [01:15<01:52,  1.30it/s]"
     ]
    },
    {
     "name": "stderr",
     "output_type": "stream",
     "text": [
      "\r",
      "Feature Extraction:   9%|▉         | 15/160 [01:15<01:34,  1.54it/s]"
     ]
    },
    {
     "name": "stderr",
     "output_type": "stream",
     "text": [
      "\r",
      "Feature Extraction:  10%|█         | 16/160 [01:16<01:27,  1.65it/s]"
     ]
    },
    {
     "name": "stderr",
     "output_type": "stream",
     "text": [
      "\r",
      "Feature Extraction:  11%|█         | 17/160 [01:16<01:27,  1.64it/s]"
     ]
    },
    {
     "name": "stderr",
     "output_type": "stream",
     "text": [
      "\r",
      "Feature Extraction:  11%|█▏        | 18/160 [01:17<01:29,  1.59it/s]"
     ]
    },
    {
     "name": "stderr",
     "output_type": "stream",
     "text": [
      "\r",
      "Feature Extraction:  12%|█▏        | 19/160 [01:18<01:52,  1.25it/s]"
     ]
    },
    {
     "name": "stderr",
     "output_type": "stream",
     "text": [
      "\r",
      "Feature Extraction:  12%|█▎        | 20/160 [01:19<01:45,  1.32it/s]"
     ]
    },
    {
     "name": "stderr",
     "output_type": "stream",
     "text": [
      "\r",
      "Feature Extraction:  13%|█▎        | 21/160 [01:20<01:41,  1.38it/s]"
     ]
    },
    {
     "name": "stderr",
     "output_type": "stream",
     "text": [
      "\r",
      "Feature Extraction:  14%|█▍        | 22/160 [01:20<01:37,  1.42it/s]"
     ]
    },
    {
     "name": "stderr",
     "output_type": "stream",
     "text": [
      "\r",
      "Feature Extraction:  14%|█▍        | 23/160 [01:21<01:35,  1.43it/s]"
     ]
    },
    {
     "name": "stderr",
     "output_type": "stream",
     "text": [
      "\r",
      "Feature Extraction:  15%|█▌        | 24/160 [01:22<01:34,  1.43it/s]"
     ]
    },
    {
     "name": "stderr",
     "output_type": "stream",
     "text": [
      "\r",
      "Feature Extraction:  16%|█▌        | 25/160 [01:22<01:36,  1.40it/s]"
     ]
    },
    {
     "name": "stderr",
     "output_type": "stream",
     "text": [
      "\r",
      "Feature Extraction:  16%|█▋        | 26/160 [01:23<01:38,  1.37it/s]"
     ]
    },
    {
     "name": "stderr",
     "output_type": "stream",
     "text": [
      "\r",
      "Feature Extraction:  17%|█▋        | 27/160 [01:24<01:23,  1.60it/s]"
     ]
    },
    {
     "name": "stderr",
     "output_type": "stream",
     "text": [
      "\r",
      "Feature Extraction:  18%|█▊        | 28/160 [01:24<01:13,  1.79it/s]"
     ]
    },
    {
     "name": "stderr",
     "output_type": "stream",
     "text": [
      "\r",
      "Feature Extraction:  18%|█▊        | 29/160 [01:26<02:09,  1.01it/s]"
     ]
    },
    {
     "name": "stderr",
     "output_type": "stream",
     "text": [
      "\r",
      "Feature Extraction:  19%|█▉        | 30/160 [01:27<01:51,  1.17it/s]"
     ]
    },
    {
     "name": "stderr",
     "output_type": "stream",
     "text": [
      "\r",
      "Feature Extraction:  19%|█▉        | 31/160 [01:28<02:07,  1.01it/s]"
     ]
    },
    {
     "name": "stderr",
     "output_type": "stream",
     "text": [
      "\r",
      "Feature Extraction:  20%|██        | 32/160 [01:29<01:59,  1.07it/s]"
     ]
    },
    {
     "name": "stderr",
     "output_type": "stream",
     "text": [
      "\r",
      "Feature Extraction:  21%|██        | 33/160 [02:08<26:33, 12.55s/it]"
     ]
    },
    {
     "name": "stderr",
     "output_type": "stream",
     "text": [
      "\r",
      "Feature Extraction:  21%|██▏       | 34/160 [02:13<21:20, 10.16s/it]"
     ]
    },
    {
     "name": "stderr",
     "output_type": "stream",
     "text": [
      "\r",
      "Feature Extraction:  22%|██▏       | 35/160 [02:14<15:15,  7.32s/it]"
     ]
    },
    {
     "name": "stderr",
     "output_type": "stream",
     "text": [
      "\r",
      "Feature Extraction:  22%|██▎       | 36/160 [02:14<11:02,  5.34s/it]"
     ]
    },
    {
     "name": "stderr",
     "output_type": "stream",
     "text": [
      "\r",
      "Feature Extraction:  23%|██▎       | 37/160 [02:15<08:06,  3.95s/it]"
     ]
    },
    {
     "name": "stderr",
     "output_type": "stream",
     "text": [
      "\r",
      "Feature Extraction:  24%|██▍       | 38/160 [02:16<05:55,  2.91s/it]"
     ]
    },
    {
     "name": "stderr",
     "output_type": "stream",
     "text": [
      "\r",
      "Feature Extraction:  24%|██▍       | 39/160 [02:17<05:02,  2.50s/it]"
     ]
    },
    {
     "name": "stderr",
     "output_type": "stream",
     "text": [
      "\r",
      "Feature Extraction:  25%|██▌       | 40/160 [02:18<04:05,  2.04s/it]"
     ]
    },
    {
     "name": "stderr",
     "output_type": "stream",
     "text": [
      "\r",
      "Feature Extraction:  26%|██▌       | 41/160 [02:19<03:16,  1.65s/it]"
     ]
    },
    {
     "name": "stderr",
     "output_type": "stream",
     "text": [
      "\r",
      "Feature Extraction:  26%|██▋       | 42/160 [02:20<03:17,  1.67s/it]"
     ]
    },
    {
     "name": "stderr",
     "output_type": "stream",
     "text": [
      "\r",
      "Feature Extraction:  27%|██▋       | 43/160 [02:21<02:34,  1.32s/it]"
     ]
    },
    {
     "name": "stderr",
     "output_type": "stream",
     "text": [
      "\r",
      "Feature Extraction:  28%|██▊       | 44/160 [02:22<02:12,  1.14s/it]"
     ]
    },
    {
     "name": "stderr",
     "output_type": "stream",
     "text": [
      "\r",
      "Feature Extraction:  28%|██▊       | 45/160 [02:22<01:55,  1.01s/it]"
     ]
    },
    {
     "name": "stderr",
     "output_type": "stream",
     "text": [
      "\r",
      "Feature Extraction:  29%|██▉       | 46/160 [02:24<02:14,  1.18s/it]"
     ]
    },
    {
     "name": "stderr",
     "output_type": "stream",
     "text": [
      "\r",
      "Feature Extraction:  29%|██▉       | 47/160 [02:25<01:56,  1.03s/it]"
     ]
    },
    {
     "name": "stderr",
     "output_type": "stream",
     "text": [
      "\r",
      "Feature Extraction:  30%|███       | 48/160 [02:26<01:51,  1.01it/s]"
     ]
    },
    {
     "name": "stderr",
     "output_type": "stream",
     "text": [
      "\r",
      "Feature Extraction:  31%|███       | 49/160 [02:28<02:25,  1.31s/it]"
     ]
    },
    {
     "name": "stderr",
     "output_type": "stream",
     "text": [
      "\r",
      "Feature Extraction:  31%|███▏      | 50/160 [02:28<01:57,  1.07s/it]"
     ]
    },
    {
     "name": "stderr",
     "output_type": "stream",
     "text": [
      "\r",
      "Feature Extraction:  32%|███▏      | 51/160 [02:29<02:00,  1.11s/it]"
     ]
    },
    {
     "name": "stderr",
     "output_type": "stream",
     "text": [
      "\r",
      "Feature Extraction:  32%|███▎      | 52/160 [02:30<01:38,  1.10it/s]"
     ]
    },
    {
     "name": "stderr",
     "output_type": "stream",
     "text": [
      "\r",
      "Feature Extraction:  33%|███▎      | 53/160 [02:30<01:30,  1.18it/s]"
     ]
    },
    {
     "name": "stderr",
     "output_type": "stream",
     "text": [
      "\r",
      "Feature Extraction:  34%|███▍      | 54/160 [02:31<01:35,  1.11it/s]"
     ]
    },
    {
     "name": "stderr",
     "output_type": "stream",
     "text": [
      "\r",
      "Feature Extraction:  34%|███▍      | 55/160 [02:33<01:41,  1.04it/s]"
     ]
    },
    {
     "name": "stderr",
     "output_type": "stream",
     "text": [
      "\r",
      "Feature Extraction:  35%|███▌      | 56/160 [02:33<01:35,  1.08it/s]"
     ]
    },
    {
     "name": "stderr",
     "output_type": "stream",
     "text": [
      "\r",
      "Feature Extraction:  36%|███▌      | 57/160 [02:35<01:49,  1.06s/it]"
     ]
    },
    {
     "name": "stderr",
     "output_type": "stream",
     "text": [
      "\r",
      "Feature Extraction:  36%|███▋      | 58/160 [02:36<01:50,  1.09s/it]"
     ]
    },
    {
     "name": "stderr",
     "output_type": "stream",
     "text": [
      "\r",
      "Feature Extraction:  37%|███▋      | 59/160 [02:36<01:31,  1.10it/s]"
     ]
    },
    {
     "name": "stderr",
     "output_type": "stream",
     "text": [
      "\r",
      "Feature Extraction:  38%|███▊      | 60/160 [02:37<01:26,  1.16it/s]"
     ]
    },
    {
     "name": "stderr",
     "output_type": "stream",
     "text": [
      "\r",
      "Feature Extraction:  38%|███▊      | 61/160 [02:38<01:15,  1.31it/s]"
     ]
    },
    {
     "name": "stderr",
     "output_type": "stream",
     "text": [
      "\r",
      "Feature Extraction:  39%|███▉      | 62/160 [02:38<01:08,  1.43it/s]"
     ]
    },
    {
     "name": "stderr",
     "output_type": "stream",
     "text": [
      "\r",
      "Feature Extraction:  39%|███▉      | 63/160 [02:39<01:07,  1.43it/s]"
     ]
    },
    {
     "name": "stderr",
     "output_type": "stream",
     "text": [
      "\r",
      "Feature Extraction:  40%|████      | 64/160 [02:40<01:18,  1.22it/s]"
     ]
    },
    {
     "name": "stderr",
     "output_type": "stream",
     "text": [
      "\r",
      "Feature Extraction:  41%|████      | 65/160 [03:20<19:45, 12.48s/it]"
     ]
    },
    {
     "name": "stderr",
     "output_type": "stream",
     "text": [
      "\r",
      "Feature Extraction:  41%|████▏     | 66/160 [03:24<15:37,  9.97s/it]"
     ]
    },
    {
     "name": "stderr",
     "output_type": "stream",
     "text": [
      "\r",
      "Feature Extraction:  42%|████▏     | 67/160 [03:27<12:06,  7.81s/it]"
     ]
    },
    {
     "name": "stderr",
     "output_type": "stream",
     "text": [
      "\r",
      "Feature Extraction:  42%|████▎     | 68/160 [03:28<09:03,  5.91s/it]"
     ]
    },
    {
     "name": "stderr",
     "output_type": "stream",
     "text": [
      "\r",
      "Feature Extraction:  43%|████▎     | 69/160 [03:29<06:35,  4.34s/it]"
     ]
    },
    {
     "name": "stderr",
     "output_type": "stream",
     "text": [
      "\r",
      "Feature Extraction:  44%|████▍     | 70/160 [03:30<04:53,  3.27s/it]"
     ]
    },
    {
     "name": "stderr",
     "output_type": "stream",
     "text": [
      "\r",
      "Feature Extraction:  44%|████▍     | 71/160 [03:31<03:49,  2.58s/it]"
     ]
    },
    {
     "name": "stderr",
     "output_type": "stream",
     "text": [
      "\r",
      "Feature Extraction:  45%|████▌     | 72/160 [03:33<03:38,  2.48s/it]"
     ]
    },
    {
     "name": "stderr",
     "output_type": "stream",
     "text": [
      "\r",
      "Feature Extraction:  46%|████▌     | 73/160 [03:34<03:04,  2.12s/it]"
     ]
    },
    {
     "name": "stderr",
     "output_type": "stream",
     "text": [
      "\r",
      "Feature Extraction:  46%|████▋     | 74/160 [03:35<02:30,  1.75s/it]"
     ]
    },
    {
     "name": "stderr",
     "output_type": "stream",
     "text": [
      "\r",
      "Feature Extraction:  47%|████▋     | 75/160 [03:36<02:03,  1.45s/it]"
     ]
    },
    {
     "name": "stderr",
     "output_type": "stream",
     "text": [
      "\r",
      "Feature Extraction:  48%|████▊     | 76/160 [03:37<01:56,  1.39s/it]"
     ]
    },
    {
     "name": "stderr",
     "output_type": "stream",
     "text": [
      "\r",
      "Feature Extraction:  48%|████▊     | 77/160 [03:38<01:37,  1.18s/it]"
     ]
    },
    {
     "name": "stderr",
     "output_type": "stream",
     "text": [
      "\r",
      "Feature Extraction:  49%|████▉     | 78/160 [03:39<01:32,  1.12s/it]"
     ]
    },
    {
     "name": "stderr",
     "output_type": "stream",
     "text": [
      "\r",
      "Feature Extraction:  49%|████▉     | 79/160 [03:41<01:59,  1.48s/it]"
     ]
    },
    {
     "name": "stderr",
     "output_type": "stream",
     "text": [
      "\r",
      "Feature Extraction:  50%|█████     | 80/160 [03:42<01:38,  1.23s/it]"
     ]
    },
    {
     "name": "stderr",
     "output_type": "stream",
     "text": [
      "\r",
      "Feature Extraction:  51%|█████     | 81/160 [03:42<01:27,  1.10s/it]"
     ]
    },
    {
     "name": "stderr",
     "output_type": "stream",
     "text": [
      "\r",
      "Feature Extraction:  51%|█████▏    | 82/160 [03:43<01:18,  1.00s/it]"
     ]
    },
    {
     "name": "stderr",
     "output_type": "stream",
     "text": [
      "\r",
      "Feature Extraction:  52%|█████▏    | 83/160 [03:44<01:11,  1.08it/s]"
     ]
    },
    {
     "name": "stderr",
     "output_type": "stream",
     "text": [
      "\r",
      "Feature Extraction:  52%|█████▎    | 84/160 [03:44<00:59,  1.27it/s]"
     ]
    },
    {
     "name": "stderr",
     "output_type": "stream",
     "text": [
      "\r",
      "Feature Extraction:  53%|█████▎    | 85/160 [03:45<01:06,  1.13it/s]"
     ]
    },
    {
     "name": "stderr",
     "output_type": "stream",
     "text": [
      "\r",
      "Feature Extraction:  54%|█████▍    | 86/160 [03:46<00:58,  1.27it/s]"
     ]
    },
    {
     "name": "stderr",
     "output_type": "stream",
     "text": [
      "\r",
      "Feature Extraction:  54%|█████▍    | 87/160 [03:48<01:30,  1.24s/it]"
     ]
    },
    {
     "name": "stderr",
     "output_type": "stream",
     "text": [
      "\r",
      "Feature Extraction:  55%|█████▌    | 88/160 [03:49<01:17,  1.08s/it]"
     ]
    },
    {
     "name": "stderr",
     "output_type": "stream",
     "text": [
      "\r",
      "Feature Extraction:  56%|█████▌    | 89/160 [03:50<01:06,  1.06it/s]"
     ]
    },
    {
     "name": "stderr",
     "output_type": "stream",
     "text": [
      "\r",
      "Feature Extraction:  56%|█████▋    | 90/160 [03:50<00:56,  1.24it/s]"
     ]
    },
    {
     "name": "stderr",
     "output_type": "stream",
     "text": [
      "\r",
      "Feature Extraction:  57%|█████▋    | 91/160 [03:51<01:00,  1.14it/s]"
     ]
    },
    {
     "name": "stderr",
     "output_type": "stream",
     "text": [
      "\r",
      "Feature Extraction:  57%|█████▊    | 92/160 [03:52<00:56,  1.20it/s]"
     ]
    },
    {
     "name": "stderr",
     "output_type": "stream",
     "text": [
      "\r",
      "Feature Extraction:  58%|█████▊    | 93/160 [03:53<00:55,  1.21it/s]"
     ]
    },
    {
     "name": "stderr",
     "output_type": "stream",
     "text": [
      "\r",
      "Feature Extraction:  59%|█████▉    | 94/160 [03:53<00:48,  1.37it/s]"
     ]
    },
    {
     "name": "stderr",
     "output_type": "stream",
     "text": [
      "\r",
      "Feature Extraction:  59%|█████▉    | 95/160 [03:57<01:38,  1.52s/it]"
     ]
    },
    {
     "name": "stderr",
     "output_type": "stream",
     "text": [
      "\r",
      "Feature Extraction:  60%|██████    | 96/160 [03:57<01:24,  1.32s/it]"
     ]
    },
    {
     "name": "stderr",
     "output_type": "stream",
     "text": [
      "\r",
      "Feature Extraction:  61%|██████    | 97/160 [04:34<12:20, 11.75s/it]"
     ]
    },
    {
     "name": "stderr",
     "output_type": "stream",
     "text": [
      "\r",
      "Feature Extraction:  61%|██████▏   | 98/160 [04:37<09:40,  9.36s/it]"
     ]
    },
    {
     "name": "stderr",
     "output_type": "stream",
     "text": [
      "\r",
      "Feature Extraction:  62%|██████▏   | 99/160 [04:40<07:21,  7.23s/it]"
     ]
    },
    {
     "name": "stderr",
     "output_type": "stream",
     "text": [
      "\r",
      "Feature Extraction:  62%|██████▎   | 100/160 [04:43<05:56,  5.94s/it]"
     ]
    },
    {
     "name": "stderr",
     "output_type": "stream",
     "text": [
      "\r",
      "Feature Extraction:  63%|██████▎   | 101/160 [04:43<04:18,  4.38s/it]"
     ]
    },
    {
     "name": "stderr",
     "output_type": "stream",
     "text": [
      "\r",
      "Feature Extraction:  64%|██████▍   | 102/160 [04:44<03:13,  3.34s/it]"
     ]
    },
    {
     "name": "stderr",
     "output_type": "stream",
     "text": [
      "\r",
      "Feature Extraction:  64%|██████▍   | 103/160 [04:46<02:38,  2.79s/it]"
     ]
    },
    {
     "name": "stderr",
     "output_type": "stream",
     "text": [
      "\r",
      "Feature Extraction:  65%|██████▌   | 104/160 [04:47<02:04,  2.22s/it]"
     ]
    },
    {
     "name": "stderr",
     "output_type": "stream",
     "text": [
      "\r",
      "Feature Extraction:  66%|██████▌   | 105/160 [04:47<01:40,  1.82s/it]"
     ]
    },
    {
     "name": "stderr",
     "output_type": "stream",
     "text": [
      "\r",
      "Feature Extraction:  66%|██████▋   | 106/160 [04:49<01:32,  1.72s/it]"
     ]
    },
    {
     "name": "stderr",
     "output_type": "stream",
     "text": [
      "\r",
      "Feature Extraction:  67%|██████▋   | 107/160 [04:53<02:05,  2.37s/it]"
     ]
    },
    {
     "name": "stderr",
     "output_type": "stream",
     "text": [
      "\r",
      "Feature Extraction:  68%|██████▊   | 108/160 [04:53<01:34,  1.81s/it]"
     ]
    },
    {
     "name": "stderr",
     "output_type": "stream",
     "text": [
      "\r",
      "Feature Extraction:  68%|██████▊   | 109/160 [04:54<01:14,  1.47s/it]"
     ]
    },
    {
     "name": "stderr",
     "output_type": "stream",
     "text": [
      "\r",
      "Feature Extraction:  69%|██████▉   | 110/160 [04:55<01:04,  1.29s/it]"
     ]
    },
    {
     "name": "stderr",
     "output_type": "stream",
     "text": [
      "\r",
      "Feature Extraction:  69%|██████▉   | 111/160 [04:55<00:51,  1.06s/it]"
     ]
    },
    {
     "name": "stderr",
     "output_type": "stream",
     "text": [
      "\r",
      "Feature Extraction:  70%|███████   | 112/160 [04:57<00:59,  1.24s/it]"
     ]
    },
    {
     "name": "stderr",
     "output_type": "stream",
     "text": [
      "\r",
      "Feature Extraction:  71%|███████   | 113/160 [04:58<00:49,  1.06s/it]"
     ]
    },
    {
     "name": "stderr",
     "output_type": "stream",
     "text": [
      "\r",
      "Feature Extraction:  71%|███████▏  | 114/160 [04:58<00:41,  1.11it/s]"
     ]
    },
    {
     "name": "stderr",
     "output_type": "stream",
     "text": [
      "\r",
      "Feature Extraction:  72%|███████▏  | 115/160 [04:59<00:38,  1.16it/s]"
     ]
    },
    {
     "name": "stderr",
     "output_type": "stream",
     "text": [
      "\r",
      "Feature Extraction:  72%|███████▎  | 116/160 [05:02<01:08,  1.56s/it]"
     ]
    },
    {
     "name": "stderr",
     "output_type": "stream",
     "text": [
      "\r",
      "Feature Extraction:  73%|███████▎  | 117/160 [05:03<01:01,  1.42s/it]"
     ]
    },
    {
     "name": "stderr",
     "output_type": "stream",
     "text": [
      "\r",
      "Feature Extraction:  74%|███████▍  | 118/160 [05:04<00:51,  1.23s/it]"
     ]
    },
    {
     "name": "stderr",
     "output_type": "stream",
     "text": [
      "\r",
      "Feature Extraction:  74%|███████▍  | 119/160 [05:05<00:45,  1.11s/it]"
     ]
    },
    {
     "name": "stderr",
     "output_type": "stream",
     "text": [
      "\r",
      "Feature Extraction:  75%|███████▌  | 120/160 [05:05<00:36,  1.11it/s]"
     ]
    },
    {
     "name": "stderr",
     "output_type": "stream",
     "text": [
      "\r",
      "Feature Extraction:  76%|███████▌  | 121/160 [05:06<00:37,  1.05it/s]"
     ]
    },
    {
     "name": "stderr",
     "output_type": "stream",
     "text": [
      "\r",
      "Feature Extraction:  76%|███████▋  | 122/160 [05:07<00:30,  1.25it/s]"
     ]
    },
    {
     "name": "stderr",
     "output_type": "stream",
     "text": [
      "\r",
      "Feature Extraction:  77%|███████▋  | 123/160 [05:10<00:55,  1.50s/it]"
     ]
    },
    {
     "name": "stderr",
     "output_type": "stream",
     "text": [
      "\r",
      "Feature Extraction:  78%|███████▊  | 124/160 [05:11<00:49,  1.37s/it]"
     ]
    },
    {
     "name": "stderr",
     "output_type": "stream",
     "text": [
      "\r",
      "Feature Extraction:  78%|███████▊  | 125/160 [05:12<00:38,  1.10s/it]"
     ]
    },
    {
     "name": "stderr",
     "output_type": "stream",
     "text": [
      "\r",
      "Feature Extraction:  79%|███████▉  | 126/160 [05:12<00:34,  1.01s/it]"
     ]
    },
    {
     "name": "stderr",
     "output_type": "stream",
     "text": [
      "\r",
      "Feature Extraction:  79%|███████▉  | 127/160 [05:13<00:28,  1.15it/s]"
     ]
    },
    {
     "name": "stderr",
     "output_type": "stream",
     "text": [
      "\r",
      "Feature Extraction:  80%|████████  | 128/160 [05:13<00:25,  1.26it/s]"
     ]
    },
    {
     "name": "stderr",
     "output_type": "stream",
     "text": [
      "\r",
      "Feature Extraction:  81%|████████  | 129/160 [05:48<05:34, 10.80s/it]"
     ]
    },
    {
     "name": "stderr",
     "output_type": "stream",
     "text": [
      "\r",
      "Feature Extraction:  81%|████████▏ | 130/160 [05:52<04:24,  8.80s/it]"
     ]
    },
    {
     "name": "stderr",
     "output_type": "stream",
     "text": [
      "\r",
      "Feature Extraction:  82%|████████▏ | 131/160 [05:55<03:24,  7.05s/it]"
     ]
    },
    {
     "name": "stderr",
     "output_type": "stream",
     "text": [
      "\r",
      "Feature Extraction:  82%|████████▎ | 132/160 [05:55<02:21,  5.06s/it]"
     ]
    },
    {
     "name": "stderr",
     "output_type": "stream",
     "text": [
      "\r",
      "Feature Extraction:  83%|████████▎ | 133/160 [05:58<01:58,  4.38s/it]"
     ]
    },
    {
     "name": "stderr",
     "output_type": "stream",
     "text": [
      "\r",
      "Feature Extraction:  84%|████████▍ | 134/160 [05:58<01:22,  3.18s/it]"
     ]
    },
    {
     "name": "stderr",
     "output_type": "stream",
     "text": [
      "\r",
      "Feature Extraction:  84%|████████▍ | 135/160 [06:01<01:12,  2.90s/it]"
     ]
    },
    {
     "name": "stderr",
     "output_type": "stream",
     "text": [
      "\r",
      "Feature Extraction:  85%|████████▌ | 136/160 [06:01<00:53,  2.21s/it]"
     ]
    },
    {
     "name": "stderr",
     "output_type": "stream",
     "text": [
      "\r",
      "Feature Extraction:  86%|████████▌ | 137/160 [06:02<00:38,  1.66s/it]"
     ]
    },
    {
     "name": "stderr",
     "output_type": "stream",
     "text": [
      "\r",
      "Feature Extraction:  86%|████████▋ | 138/160 [06:02<00:28,  1.30s/it]"
     ]
    },
    {
     "name": "stderr",
     "output_type": "stream",
     "text": [
      "\r",
      "Feature Extraction:  87%|████████▋ | 139/160 [06:03<00:26,  1.26s/it]"
     ]
    },
    {
     "name": "stderr",
     "output_type": "stream",
     "text": [
      "\r",
      "Feature Extraction:  88%|████████▊ | 140/160 [06:05<00:27,  1.39s/it]"
     ]
    },
    {
     "name": "stderr",
     "output_type": "stream",
     "text": [
      "\r",
      "Feature Extraction:  88%|████████▊ | 141/160 [06:07<00:30,  1.58s/it]"
     ]
    },
    {
     "name": "stderr",
     "output_type": "stream",
     "text": [
      "\r",
      "Feature Extraction:  89%|████████▉ | 142/160 [06:07<00:21,  1.19s/it]"
     ]
    },
    {
     "name": "stderr",
     "output_type": "stream",
     "text": [
      "\r",
      "Feature Extraction:  89%|████████▉ | 143/160 [06:07<00:15,  1.10it/s]"
     ]
    },
    {
     "name": "stderr",
     "output_type": "stream",
     "text": [
      "\r",
      "Feature Extraction:  90%|█████████ | 144/160 [06:08<00:11,  1.41it/s]"
     ]
    },
    {
     "name": "stderr",
     "output_type": "stream",
     "text": [
      "\r",
      "Feature Extraction:  91%|█████████ | 145/160 [06:08<00:08,  1.75it/s]"
     ]
    },
    {
     "name": "stderr",
     "output_type": "stream",
     "text": [
      "\r",
      "Feature Extraction:  91%|█████████▏| 146/160 [06:09<00:09,  1.48it/s]"
     ]
    },
    {
     "name": "stderr",
     "output_type": "stream",
     "text": [
      "\r",
      "Feature Extraction:  92%|█████████▏| 147/160 [06:09<00:07,  1.82it/s]"
     ]
    },
    {
     "name": "stderr",
     "output_type": "stream",
     "text": [
      "\r",
      "Feature Extraction:  92%|█████████▎| 148/160 [06:09<00:05,  2.13it/s]"
     ]
    },
    {
     "name": "stderr",
     "output_type": "stream",
     "text": [
      "\r",
      "Feature Extraction:  93%|█████████▎| 149/160 [06:10<00:06,  1.77it/s]"
     ]
    },
    {
     "name": "stderr",
     "output_type": "stream",
     "text": [
      "\r",
      "Feature Extraction:  94%|█████████▍| 150/160 [06:11<00:05,  1.77it/s]"
     ]
    },
    {
     "name": "stderr",
     "output_type": "stream",
     "text": [
      "\r",
      "Feature Extraction:  94%|█████████▍| 151/160 [06:11<00:04,  2.19it/s]"
     ]
    },
    {
     "name": "stderr",
     "output_type": "stream",
     "text": [
      "\r",
      "Feature Extraction:  95%|█████████▌| 152/160 [06:11<00:03,  2.55it/s]"
     ]
    },
    {
     "name": "stderr",
     "output_type": "stream",
     "text": [
      "\r",
      "Feature Extraction:  96%|█████████▌| 153/160 [06:13<00:05,  1.22it/s]"
     ]
    },
    {
     "name": "stderr",
     "output_type": "stream",
     "text": [
      "\r",
      "Feature Extraction:  96%|█████████▋| 154/160 [06:14<00:04,  1.36it/s]"
     ]
    },
    {
     "name": "stderr",
     "output_type": "stream",
     "text": [
      "\r",
      "Feature Extraction:  97%|█████████▋| 155/160 [06:14<00:02,  1.72it/s]"
     ]
    },
    {
     "name": "stderr",
     "output_type": "stream",
     "text": [
      "\r",
      "Feature Extraction:  98%|█████████▊| 156/160 [06:14<00:01,  2.11it/s]"
     ]
    },
    {
     "name": "stderr",
     "output_type": "stream",
     "text": [
      "\r",
      "Feature Extraction:  98%|█████████▊| 157/160 [06:15<00:01,  1.89it/s]"
     ]
    },
    {
     "name": "stderr",
     "output_type": "stream",
     "text": [
      "\r",
      "Feature Extraction:  99%|█████████▉| 158/160 [06:17<00:01,  1.03it/s]"
     ]
    },
    {
     "name": "stderr",
     "output_type": "stream",
     "text": [
      "\r",
      "Feature Extraction:  99%|█████████▉| 159/160 [06:17<00:00,  1.19it/s]"
     ]
    },
    {
     "name": "stderr",
     "output_type": "stream",
     "text": [
      "\r",
      "Feature Extraction: 100%|██████████| 160/160 [06:17<00:00,  1.48it/s]"
     ]
    },
    {
     "name": "stderr",
     "output_type": "stream",
     "text": [
      "\r",
      "Feature Extraction: 100%|██████████| 160/160 [06:17<00:00,  2.36s/it]"
     ]
    },
    {
     "name": "stderr",
     "output_type": "stream",
     "text": [
      "\n"
     ]
    },
    {
     "name": "stderr",
     "output_type": "stream",
     "text": [
      "\r",
      "Feature Extraction:   0%|          | 0/160 [00:00<?, ?it/s]"
     ]
    },
    {
     "name": "stderr",
     "output_type": "stream",
     "text": [
      "\r",
      "Feature Extraction:   1%|          | 1/160 [01:09<3:03:08, 69.11s/it]"
     ]
    },
    {
     "name": "stderr",
     "output_type": "stream",
     "text": [
      "\r",
      "Feature Extraction:   1%|▏         | 2/160 [01:09<1:15:59, 28.86s/it]"
     ]
    },
    {
     "name": "stderr",
     "output_type": "stream",
     "text": [
      "\r",
      "Feature Extraction:   2%|▏         | 3/160 [01:10<42:08, 16.11s/it]  "
     ]
    },
    {
     "name": "stderr",
     "output_type": "stream",
     "text": [
      "\r",
      "Feature Extraction:   2%|▎         | 4/160 [01:11<25:55,  9.97s/it]"
     ]
    },
    {
     "name": "stderr",
     "output_type": "stream",
     "text": [
      "\r",
      "Feature Extraction:   3%|▎         | 5/160 [01:12<17:21,  6.72s/it]"
     ]
    },
    {
     "name": "stderr",
     "output_type": "stream",
     "text": [
      "\r",
      "Feature Extraction:   4%|▍         | 6/160 [01:12<12:00,  4.68s/it]"
     ]
    },
    {
     "name": "stderr",
     "output_type": "stream",
     "text": [
      "\r",
      "Feature Extraction:   4%|▍         | 7/160 [01:13<08:37,  3.38s/it]"
     ]
    },
    {
     "name": "stderr",
     "output_type": "stream",
     "text": [
      "\r",
      "Feature Extraction:   5%|▌         | 8/160 [01:14<06:48,  2.69s/it]"
     ]
    },
    {
     "name": "stderr",
     "output_type": "stream",
     "text": [
      "\r",
      "Feature Extraction:   6%|▌         | 9/160 [01:15<05:04,  2.02s/it]"
     ]
    },
    {
     "name": "stderr",
     "output_type": "stream",
     "text": [
      "\r",
      "Feature Extraction:   6%|▋         | 10/160 [01:15<03:53,  1.56s/it]"
     ]
    },
    {
     "name": "stderr",
     "output_type": "stream",
     "text": [
      "\r",
      "Feature Extraction:   7%|▋         | 11/160 [01:16<03:07,  1.26s/it]"
     ]
    },
    {
     "name": "stderr",
     "output_type": "stream",
     "text": [
      "\r",
      "Feature Extraction:   8%|▊         | 12/160 [01:16<02:29,  1.01s/it]"
     ]
    },
    {
     "name": "stderr",
     "output_type": "stream",
     "text": [
      "\r",
      "Feature Extraction:   8%|▊         | 13/160 [01:17<02:10,  1.13it/s]"
     ]
    },
    {
     "name": "stderr",
     "output_type": "stream",
     "text": [
      "\r",
      "Feature Extraction:   9%|▉         | 14/160 [01:18<01:56,  1.25it/s]"
     ]
    },
    {
     "name": "stderr",
     "output_type": "stream",
     "text": [
      "\r",
      "Feature Extraction:   9%|▉         | 15/160 [01:19<01:57,  1.23it/s]"
     ]
    },
    {
     "name": "stderr",
     "output_type": "stream",
     "text": [
      "\r",
      "Feature Extraction:  10%|█         | 16/160 [01:19<01:52,  1.28it/s]"
     ]
    },
    {
     "name": "stderr",
     "output_type": "stream",
     "text": [
      "\r",
      "Feature Extraction:  11%|█         | 17/160 [01:20<01:46,  1.34it/s]"
     ]
    },
    {
     "name": "stderr",
     "output_type": "stream",
     "text": [
      "\r",
      "Feature Extraction:  11%|█▏        | 18/160 [01:21<01:42,  1.39it/s]"
     ]
    },
    {
     "name": "stderr",
     "output_type": "stream",
     "text": [
      "\r",
      "Feature Extraction:  12%|█▏        | 19/160 [01:21<01:39,  1.42it/s]"
     ]
    },
    {
     "name": "stderr",
     "output_type": "stream",
     "text": [
      "\r",
      "Feature Extraction:  12%|█▎        | 20/160 [01:22<01:36,  1.45it/s]"
     ]
    },
    {
     "name": "stderr",
     "output_type": "stream",
     "text": [
      "\r",
      "Feature Extraction:  13%|█▎        | 21/160 [01:23<01:34,  1.47it/s]"
     ]
    },
    {
     "name": "stderr",
     "output_type": "stream",
     "text": [
      "\r",
      "Feature Extraction:  14%|█▍        | 22/160 [01:24<02:01,  1.14it/s]"
     ]
    },
    {
     "name": "stderr",
     "output_type": "stream",
     "text": [
      "\r",
      "Feature Extraction:  14%|█▍        | 23/160 [01:24<01:49,  1.25it/s]"
     ]
    },
    {
     "name": "stderr",
     "output_type": "stream",
     "text": [
      "\r",
      "Feature Extraction:  15%|█▌        | 24/160 [01:25<01:43,  1.32it/s]"
     ]
    },
    {
     "name": "stderr",
     "output_type": "stream",
     "text": [
      "\r",
      "Feature Extraction:  16%|█▌        | 25/160 [01:26<01:40,  1.35it/s]"
     ]
    },
    {
     "name": "stderr",
     "output_type": "stream",
     "text": [
      "\r",
      "Feature Extraction:  16%|█▋        | 26/160 [01:27<01:37,  1.37it/s]"
     ]
    },
    {
     "name": "stderr",
     "output_type": "stream",
     "text": [
      "\r",
      "Feature Extraction:  17%|█▋        | 27/160 [01:27<01:27,  1.52it/s]"
     ]
    },
    {
     "name": "stderr",
     "output_type": "stream",
     "text": [
      "\r",
      "Feature Extraction:  18%|█▊        | 28/160 [01:28<01:42,  1.28it/s]"
     ]
    },
    {
     "name": "stderr",
     "output_type": "stream",
     "text": [
      "\r",
      "Feature Extraction:  18%|█▊        | 29/160 [01:29<01:28,  1.48it/s]"
     ]
    },
    {
     "name": "stderr",
     "output_type": "stream",
     "text": [
      "\r",
      "Feature Extraction:  19%|█▉        | 30/160 [01:31<02:20,  1.08s/it]"
     ]
    },
    {
     "name": "stderr",
     "output_type": "stream",
     "text": [
      "\r",
      "Feature Extraction:  19%|█▉        | 31/160 [01:32<02:15,  1.05s/it]"
     ]
    },
    {
     "name": "stderr",
     "output_type": "stream",
     "text": [
      "\r",
      "Feature Extraction:  20%|██        | 32/160 [01:32<02:01,  1.05it/s]"
     ]
    },
    {
     "name": "stderr",
     "output_type": "stream",
     "text": [
      "\r",
      "Feature Extraction:  21%|██        | 33/160 [02:09<24:40, 11.66s/it]"
     ]
    },
    {
     "name": "stderr",
     "output_type": "stream",
     "text": [
      "\r",
      "Feature Extraction:  21%|██▏       | 34/160 [02:13<19:28,  9.27s/it]"
     ]
    },
    {
     "name": "stderr",
     "output_type": "stream",
     "text": [
      "\r",
      "Feature Extraction:  22%|██▏       | 35/160 [02:14<14:04,  6.76s/it]"
     ]
    },
    {
     "name": "stderr",
     "output_type": "stream",
     "text": [
      "\r",
      "Feature Extraction:  22%|██▎       | 36/160 [02:16<11:03,  5.35s/it]"
     ]
    },
    {
     "name": "stderr",
     "output_type": "stream",
     "text": [
      "\r",
      "Feature Extraction:  23%|██▎       | 37/160 [02:17<08:20,  4.07s/it]"
     ]
    },
    {
     "name": "stderr",
     "output_type": "stream",
     "text": [
      "\r",
      "Feature Extraction:  24%|██▍       | 38/160 [02:18<06:53,  3.39s/it]"
     ]
    },
    {
     "name": "stderr",
     "output_type": "stream",
     "text": [
      "\r",
      "Feature Extraction:  24%|██▍       | 39/160 [02:19<05:06,  2.53s/it]"
     ]
    },
    {
     "name": "stderr",
     "output_type": "stream",
     "text": [
      "\r",
      "Feature Extraction:  25%|██▌       | 40/160 [02:20<03:53,  1.94s/it]"
     ]
    },
    {
     "name": "stderr",
     "output_type": "stream",
     "text": [
      "\r",
      "Feature Extraction:  26%|██▌       | 41/160 [02:21<03:17,  1.66s/it]"
     ]
    },
    {
     "name": "stderr",
     "output_type": "stream",
     "text": [
      "\r",
      "Feature Extraction:  26%|██▋       | 42/160 [02:21<02:34,  1.31s/it]"
     ]
    },
    {
     "name": "stderr",
     "output_type": "stream",
     "text": [
      "\r",
      "Feature Extraction:  27%|██▋       | 43/160 [02:22<02:07,  1.09s/it]"
     ]
    },
    {
     "name": "stderr",
     "output_type": "stream",
     "text": [
      "\r",
      "Feature Extraction:  28%|██▊       | 44/160 [02:23<02:24,  1.24s/it]"
     ]
    },
    {
     "name": "stderr",
     "output_type": "stream",
     "text": [
      "\r",
      "Feature Extraction:  28%|██▊       | 45/160 [02:27<04:02,  2.11s/it]"
     ]
    },
    {
     "name": "stderr",
     "output_type": "stream",
     "text": [
      "\r",
      "Feature Extraction:  29%|██▉       | 46/160 [02:28<03:14,  1.71s/it]"
     ]
    },
    {
     "name": "stderr",
     "output_type": "stream",
     "text": [
      "\r",
      "Feature Extraction:  29%|██▉       | 47/160 [02:29<02:51,  1.52s/it]"
     ]
    },
    {
     "name": "stderr",
     "output_type": "stream",
     "text": [
      "\r",
      "Feature Extraction:  30%|███       | 48/160 [02:30<02:23,  1.28s/it]"
     ]
    },
    {
     "name": "stderr",
     "output_type": "stream",
     "text": [
      "\r",
      "Feature Extraction:  31%|███       | 49/160 [02:32<02:57,  1.60s/it]"
     ]
    },
    {
     "name": "stderr",
     "output_type": "stream",
     "text": [
      "\r",
      "Feature Extraction:  31%|███▏      | 50/160 [02:33<02:33,  1.40s/it]"
     ]
    },
    {
     "name": "stderr",
     "output_type": "stream",
     "text": [
      "\r",
      "Feature Extraction:  32%|███▏      | 51/160 [02:34<02:02,  1.12s/it]"
     ]
    },
    {
     "name": "stderr",
     "output_type": "stream",
     "text": [
      "\r",
      "Feature Extraction:  32%|███▎      | 52/160 [02:34<01:47,  1.00it/s]"
     ]
    },
    {
     "name": "stderr",
     "output_type": "stream",
     "text": [
      "\r",
      "Feature Extraction:  33%|███▎      | 53/160 [02:36<02:14,  1.26s/it]"
     ]
    },
    {
     "name": "stderr",
     "output_type": "stream",
     "text": [
      "\r",
      "Feature Extraction:  34%|███▍      | 54/160 [02:37<02:12,  1.25s/it]"
     ]
    },
    {
     "name": "stderr",
     "output_type": "stream",
     "text": [
      "\r",
      "Feature Extraction:  34%|███▍      | 55/160 [02:38<01:47,  1.03s/it]"
     ]
    },
    {
     "name": "stderr",
     "output_type": "stream",
     "text": [
      "\r",
      "Feature Extraction:  35%|███▌      | 56/160 [02:39<01:36,  1.08it/s]"
     ]
    },
    {
     "name": "stderr",
     "output_type": "stream",
     "text": [
      "\r",
      "Feature Extraction:  36%|███▌      | 57/160 [02:40<01:40,  1.02it/s]"
     ]
    },
    {
     "name": "stderr",
     "output_type": "stream",
     "text": [
      "\r",
      "Feature Extraction:  36%|███▋      | 58/160 [02:40<01:23,  1.22it/s]"
     ]
    },
    {
     "name": "stderr",
     "output_type": "stream",
     "text": [
      "\r",
      "Feature Extraction:  37%|███▋      | 59/160 [02:41<01:22,  1.23it/s]"
     ]
    },
    {
     "name": "stderr",
     "output_type": "stream",
     "text": [
      "\r",
      "Feature Extraction:  38%|███▊      | 60/160 [02:42<01:18,  1.27it/s]"
     ]
    },
    {
     "name": "stderr",
     "output_type": "stream",
     "text": [
      "\r",
      "Feature Extraction:  38%|███▊      | 61/160 [02:44<02:06,  1.28s/it]"
     ]
    },
    {
     "name": "stderr",
     "output_type": "stream",
     "text": [
      "\r",
      "Feature Extraction:  39%|███▉      | 62/160 [02:45<01:41,  1.04s/it]"
     ]
    },
    {
     "name": "stderr",
     "output_type": "stream",
     "text": [
      "\r",
      "Feature Extraction:  39%|███▉      | 63/160 [02:46<01:47,  1.11s/it]"
     ]
    },
    {
     "name": "stderr",
     "output_type": "stream",
     "text": [
      "\r",
      "Feature Extraction:  40%|████      | 64/160 [02:47<01:35,  1.01it/s]"
     ]
    },
    {
     "name": "stderr",
     "output_type": "stream",
     "text": [
      "\r",
      "Feature Extraction:  41%|████      | 65/160 [03:21<17:32, 11.08s/it]"
     ]
    },
    {
     "name": "stderr",
     "output_type": "stream",
     "text": [
      "\r",
      "Feature Extraction:  41%|████▏     | 66/160 [03:26<14:24,  9.20s/it]"
     ]
    },
    {
     "name": "stderr",
     "output_type": "stream",
     "text": [
      "\r",
      "Feature Extraction:  42%|████▏     | 67/160 [03:27<10:23,  6.70s/it]"
     ]
    },
    {
     "name": "stderr",
     "output_type": "stream",
     "text": [
      "\r",
      "Feature Extraction:  42%|████▎     | 68/160 [03:29<08:14,  5.38s/it]"
     ]
    },
    {
     "name": "stderr",
     "output_type": "stream",
     "text": [
      "\r",
      "Feature Extraction:  43%|████▎     | 69/160 [03:30<06:02,  3.98s/it]"
     ]
    },
    {
     "name": "stderr",
     "output_type": "stream",
     "text": [
      "\r",
      "Feature Extraction:  44%|████▍     | 70/160 [03:31<04:49,  3.22s/it]"
     ]
    },
    {
     "name": "stderr",
     "output_type": "stream",
     "text": [
      "\r",
      "Feature Extraction:  44%|████▍     | 71/160 [03:32<03:49,  2.58s/it]"
     ]
    },
    {
     "name": "stderr",
     "output_type": "stream",
     "text": [
      "\r",
      "Feature Extraction:  45%|████▌     | 72/160 [03:33<03:03,  2.09s/it]"
     ]
    },
    {
     "name": "stderr",
     "output_type": "stream",
     "text": [
      "\r",
      "Feature Extraction:  46%|████▌     | 73/160 [03:34<02:30,  1.73s/it]"
     ]
    },
    {
     "name": "stderr",
     "output_type": "stream",
     "text": [
      "\r",
      "Feature Extraction:  46%|████▋     | 74/160 [03:36<02:25,  1.69s/it]"
     ]
    },
    {
     "name": "stderr",
     "output_type": "stream",
     "text": [
      "\r",
      "Feature Extraction:  47%|████▋     | 75/160 [03:36<01:53,  1.33s/it]"
     ]
    },
    {
     "name": "stderr",
     "output_type": "stream",
     "text": [
      "\r",
      "Feature Extraction:  48%|████▊     | 76/160 [03:39<02:29,  1.78s/it]"
     ]
    },
    {
     "name": "stderr",
     "output_type": "stream",
     "text": [
      "\r",
      "Feature Extraction:  48%|████▊     | 77/160 [03:40<01:55,  1.39s/it]"
     ]
    },
    {
     "name": "stderr",
     "output_type": "stream",
     "text": [
      "\r",
      "Feature Extraction:  49%|████▉     | 78/160 [03:41<01:42,  1.25s/it]"
     ]
    },
    {
     "name": "stderr",
     "output_type": "stream",
     "text": [
      "\r",
      "Feature Extraction:  49%|████▉     | 79/160 [03:42<01:50,  1.37s/it]"
     ]
    },
    {
     "name": "stderr",
     "output_type": "stream",
     "text": [
      "\r",
      "Feature Extraction:  50%|█████     | 80/160 [03:43<01:34,  1.18s/it]"
     ]
    },
    {
     "name": "stderr",
     "output_type": "stream",
     "text": [
      "\r",
      "Feature Extraction:  51%|█████     | 81/160 [03:46<02:19,  1.77s/it]"
     ]
    },
    {
     "name": "stderr",
     "output_type": "stream",
     "text": [
      "\r",
      "Feature Extraction:  51%|█████▏    | 82/160 [03:49<02:42,  2.09s/it]"
     ]
    },
    {
     "name": "stderr",
     "output_type": "stream",
     "text": [
      "\r",
      "Feature Extraction:  52%|█████▏    | 83/160 [03:50<02:18,  1.80s/it]"
     ]
    },
    {
     "name": "stderr",
     "output_type": "stream",
     "text": [
      "\r",
      "Feature Extraction:  52%|█████▎    | 84/160 [03:51<01:45,  1.39s/it]"
     ]
    },
    {
     "name": "stderr",
     "output_type": "stream",
     "text": [
      "\r",
      "Feature Extraction:  53%|█████▎    | 85/160 [03:51<01:24,  1.12s/it]"
     ]
    },
    {
     "name": "stderr",
     "output_type": "stream",
     "text": [
      "\r",
      "Feature Extraction:  54%|█████▍    | 86/160 [03:52<01:18,  1.05s/it]"
     ]
    },
    {
     "name": "stderr",
     "output_type": "stream",
     "text": [
      "\r",
      "Feature Extraction:  54%|█████▍    | 87/160 [03:53<01:08,  1.07it/s]"
     ]
    },
    {
     "name": "stderr",
     "output_type": "stream",
     "text": [
      "\r",
      "Feature Extraction:  55%|█████▌    | 88/160 [03:53<01:00,  1.19it/s]"
     ]
    },
    {
     "name": "stderr",
     "output_type": "stream",
     "text": [
      "\r",
      "Feature Extraction:  56%|█████▌    | 89/160 [03:56<01:49,  1.54s/it]"
     ]
    },
    {
     "name": "stderr",
     "output_type": "stream",
     "text": [
      "\r",
      "Feature Extraction:  56%|█████▋    | 90/160 [03:57<01:25,  1.22s/it]"
     ]
    },
    {
     "name": "stderr",
     "output_type": "stream",
     "text": [
      "\r",
      "Feature Extraction:  57%|█████▋    | 91/160 [03:58<01:23,  1.21s/it]"
     ]
    },
    {
     "name": "stderr",
     "output_type": "stream",
     "text": [
      "\r",
      "Feature Extraction:  57%|█████▊    | 92/160 [03:59<01:09,  1.02s/it]"
     ]
    },
    {
     "name": "stderr",
     "output_type": "stream",
     "text": [
      "\r",
      "Feature Extraction:  58%|█████▊    | 93/160 [03:59<01:02,  1.07it/s]"
     ]
    },
    {
     "name": "stderr",
     "output_type": "stream",
     "text": [
      "\r",
      "Feature Extraction:  59%|█████▉    | 94/160 [04:00<01:01,  1.07it/s]"
     ]
    },
    {
     "name": "stderr",
     "output_type": "stream",
     "text": [
      "\r",
      "Feature Extraction:  59%|█████▉    | 95/160 [04:02<01:07,  1.04s/it]"
     ]
    },
    {
     "name": "stderr",
     "output_type": "stream",
     "text": [
      "\r",
      "Feature Extraction:  60%|██████    | 96/160 [04:02<01:02,  1.02it/s]"
     ]
    },
    {
     "name": "stderr",
     "output_type": "stream",
     "text": [
      "\r",
      "Feature Extraction:  61%|██████    | 97/160 [04:39<12:17, 11.70s/it]"
     ]
    },
    {
     "name": "stderr",
     "output_type": "stream",
     "text": [
      "\r",
      "Feature Extraction:  61%|██████▏   | 98/160 [04:42<09:19,  9.03s/it]"
     ]
    },
    {
     "name": "stderr",
     "output_type": "stream",
     "text": [
      "\r",
      "Feature Extraction:  62%|██████▏   | 99/160 [04:43<06:45,  6.65s/it]"
     ]
    },
    {
     "name": "stderr",
     "output_type": "stream",
     "text": [
      "\r",
      "Feature Extraction:  62%|██████▎   | 100/160 [04:44<04:58,  4.98s/it]"
     ]
    },
    {
     "name": "stderr",
     "output_type": "stream",
     "text": [
      "\r",
      "Feature Extraction:  63%|██████▎   | 101/160 [04:45<03:43,  3.78s/it]"
     ]
    },
    {
     "name": "stderr",
     "output_type": "stream",
     "text": [
      "\r",
      "Feature Extraction:  64%|██████▍   | 102/160 [04:46<02:46,  2.86s/it]"
     ]
    },
    {
     "name": "stderr",
     "output_type": "stream",
     "text": [
      "\r",
      "Feature Extraction:  64%|██████▍   | 103/160 [04:47<02:07,  2.24s/it]"
     ]
    },
    {
     "name": "stderr",
     "output_type": "stream",
     "text": [
      "\r",
      "Feature Extraction:  65%|██████▌   | 104/160 [04:50<02:27,  2.63s/it]"
     ]
    },
    {
     "name": "stderr",
     "output_type": "stream",
     "text": [
      "\r",
      "Feature Extraction:  66%|██████▌   | 105/160 [04:51<01:59,  2.18s/it]"
     ]
    },
    {
     "name": "stderr",
     "output_type": "stream",
     "text": [
      "\r",
      "Feature Extraction:  66%|██████▋   | 106/160 [04:52<01:34,  1.76s/it]"
     ]
    },
    {
     "name": "stderr",
     "output_type": "stream",
     "text": [
      "\r",
      "Feature Extraction:  67%|██████▋   | 107/160 [04:53<01:14,  1.40s/it]"
     ]
    },
    {
     "name": "stderr",
     "output_type": "stream",
     "text": [
      "\r",
      "Feature Extraction:  68%|██████▊   | 108/160 [04:54<01:12,  1.39s/it]"
     ]
    },
    {
     "name": "stderr",
     "output_type": "stream",
     "text": [
      "\r",
      "Feature Extraction:  68%|██████▊   | 109/160 [04:55<01:00,  1.18s/it]"
     ]
    },
    {
     "name": "stderr",
     "output_type": "stream",
     "text": [
      "\r",
      "Feature Extraction:  69%|██████▉   | 110/160 [04:56<01:01,  1.23s/it]"
     ]
    },
    {
     "name": "stderr",
     "output_type": "stream",
     "text": [
      "\r",
      "Feature Extraction:  69%|██████▉   | 111/160 [04:59<01:32,  1.88s/it]"
     ]
    },
    {
     "name": "stderr",
     "output_type": "stream",
     "text": [
      "\r",
      "Feature Extraction:  70%|███████   | 112/160 [05:00<01:13,  1.53s/it]"
     ]
    },
    {
     "name": "stderr",
     "output_type": "stream",
     "text": [
      "\r",
      "Feature Extraction:  71%|███████   | 113/160 [05:01<01:02,  1.33s/it]"
     ]
    },
    {
     "name": "stderr",
     "output_type": "stream",
     "text": [
      "\r",
      "Feature Extraction:  71%|███████▏  | 114/160 [05:02<00:53,  1.17s/it]"
     ]
    },
    {
     "name": "stderr",
     "output_type": "stream",
     "text": [
      "\r",
      "Feature Extraction:  72%|███████▏  | 115/160 [05:04<01:05,  1.46s/it]"
     ]
    },
    {
     "name": "stderr",
     "output_type": "stream",
     "text": [
      "\r",
      "Feature Extraction:  72%|███████▎  | 116/160 [05:06<01:13,  1.66s/it]"
     ]
    },
    {
     "name": "stderr",
     "output_type": "stream",
     "text": [
      "\r",
      "Feature Extraction:  73%|███████▎  | 117/160 [05:07<01:03,  1.49s/it]"
     ]
    },
    {
     "name": "stderr",
     "output_type": "stream",
     "text": [
      "\r",
      "Feature Extraction:  74%|███████▍  | 118/160 [05:08<00:49,  1.17s/it]"
     ]
    },
    {
     "name": "stderr",
     "output_type": "stream",
     "text": [
      "\r",
      "Feature Extraction:  74%|███████▍  | 119/160 [05:11<01:12,  1.77s/it]"
     ]
    },
    {
     "name": "stderr",
     "output_type": "stream",
     "text": [
      "\r",
      "Feature Extraction:  75%|███████▌  | 120/160 [05:12<00:58,  1.47s/it]"
     ]
    },
    {
     "name": "stderr",
     "output_type": "stream",
     "text": [
      "\r",
      "Feature Extraction:  76%|███████▌  | 121/160 [05:13<00:54,  1.40s/it]"
     ]
    },
    {
     "name": "stderr",
     "output_type": "stream",
     "text": [
      "\r",
      "Feature Extraction:  76%|███████▋  | 122/160 [05:13<00:44,  1.18s/it]"
     ]
    },
    {
     "name": "stderr",
     "output_type": "stream",
     "text": [
      "\r",
      "Feature Extraction:  77%|███████▋  | 123/160 [05:14<00:36,  1.01it/s]"
     ]
    },
    {
     "name": "stderr",
     "output_type": "stream",
     "text": [
      "\r",
      "Feature Extraction:  78%|███████▊  | 124/160 [05:15<00:36,  1.02s/it]"
     ]
    },
    {
     "name": "stderr",
     "output_type": "stream",
     "text": [
      "\r",
      "Feature Extraction:  78%|███████▊  | 125/160 [05:16<00:30,  1.16it/s]"
     ]
    },
    {
     "name": "stderr",
     "output_type": "stream",
     "text": [
      "\r",
      "Feature Extraction:  79%|███████▉  | 126/160 [05:16<00:27,  1.23it/s]"
     ]
    },
    {
     "name": "stderr",
     "output_type": "stream",
     "text": [
      "\r",
      "Feature Extraction:  79%|███████▉  | 127/160 [05:20<00:56,  1.71s/it]"
     ]
    },
    {
     "name": "stderr",
     "output_type": "stream",
     "text": [
      "\r",
      "Feature Extraction:  80%|████████  | 128/160 [05:21<00:43,  1.36s/it]"
     ]
    },
    {
     "name": "stderr",
     "output_type": "stream",
     "text": [
      "\r",
      "Feature Extraction:  81%|████████  | 129/160 [05:52<05:21, 10.37s/it]"
     ]
    },
    {
     "name": "stderr",
     "output_type": "stream",
     "text": [
      "\r",
      "Feature Extraction:  81%|████████▏ | 130/160 [05:58<04:28,  8.94s/it]"
     ]
    },
    {
     "name": "stderr",
     "output_type": "stream",
     "text": [
      "\r",
      "Feature Extraction:  82%|████████▏ | 131/160 [05:58<03:04,  6.37s/it]"
     ]
    },
    {
     "name": "stderr",
     "output_type": "stream",
     "text": [
      "\r",
      "Feature Extraction:  82%|████████▎ | 132/160 [05:59<02:16,  4.89s/it]"
     ]
    },
    {
     "name": "stderr",
     "output_type": "stream",
     "text": [
      "\r",
      "Feature Extraction:  83%|████████▎ | 133/160 [06:00<01:38,  3.64s/it]"
     ]
    },
    {
     "name": "stderr",
     "output_type": "stream",
     "text": [
      "\r",
      "Feature Extraction:  84%|████████▍ | 134/160 [06:01<01:10,  2.70s/it]"
     ]
    },
    {
     "name": "stderr",
     "output_type": "stream",
     "text": [
      "\r",
      "Feature Extraction:  84%|████████▍ | 135/160 [06:01<00:50,  2.04s/it]"
     ]
    },
    {
     "name": "stderr",
     "output_type": "stream",
     "text": [
      "\r",
      "Feature Extraction:  85%|████████▌ | 136/160 [06:03<00:44,  1.87s/it]"
     ]
    },
    {
     "name": "stderr",
     "output_type": "stream",
     "text": [
      "\r",
      "Feature Extraction:  86%|████████▌ | 137/160 [06:04<00:37,  1.65s/it]"
     ]
    },
    {
     "name": "stderr",
     "output_type": "stream",
     "text": [
      "\r",
      "Feature Extraction:  86%|████████▋ | 138/160 [06:04<00:27,  1.24s/it]"
     ]
    },
    {
     "name": "stderr",
     "output_type": "stream",
     "text": [
      "\r",
      "Feature Extraction:  87%|████████▋ | 139/160 [06:05<00:22,  1.06s/it]"
     ]
    },
    {
     "name": "stderr",
     "output_type": "stream",
     "text": [
      "\r",
      "Feature Extraction:  88%|████████▊ | 140/160 [06:05<00:17,  1.17it/s]"
     ]
    },
    {
     "name": "stderr",
     "output_type": "stream",
     "text": [
      "\r",
      "Feature Extraction:  88%|████████▊ | 141/160 [06:06<00:14,  1.31it/s]"
     ]
    },
    {
     "name": "stderr",
     "output_type": "stream",
     "text": [
      "\r",
      "Feature Extraction:  89%|████████▉ | 142/160 [06:06<00:12,  1.45it/s]"
     ]
    },
    {
     "name": "stderr",
     "output_type": "stream",
     "text": [
      "\r",
      "Feature Extraction:  89%|████████▉ | 143/160 [06:07<00:12,  1.38it/s]"
     ]
    },
    {
     "name": "stderr",
     "output_type": "stream",
     "text": [
      "\r",
      "Feature Extraction:  90%|█████████ | 144/160 [06:09<00:19,  1.20s/it]"
     ]
    },
    {
     "name": "stderr",
     "output_type": "stream",
     "text": [
      "\r",
      "Feature Extraction:  91%|█████████ | 145/160 [06:10<00:15,  1.04s/it]"
     ]
    },
    {
     "name": "stderr",
     "output_type": "stream",
     "text": [
      "\r",
      "Feature Extraction:  91%|█████████▏| 146/160 [06:10<00:11,  1.25it/s]"
     ]
    },
    {
     "name": "stderr",
     "output_type": "stream",
     "text": [
      "\r",
      "Feature Extraction:  92%|█████████▏| 147/160 [06:10<00:08,  1.52it/s]"
     ]
    },
    {
     "name": "stderr",
     "output_type": "stream",
     "text": [
      "\r",
      "Feature Extraction:  92%|█████████▎| 148/160 [06:13<00:15,  1.30s/it]"
     ]
    },
    {
     "name": "stderr",
     "output_type": "stream",
     "text": [
      "\r",
      "Feature Extraction:  93%|█████████▎| 149/160 [06:14<00:13,  1.22s/it]"
     ]
    },
    {
     "name": "stderr",
     "output_type": "stream",
     "text": [
      "\r",
      "Feature Extraction:  94%|█████████▍| 150/160 [06:15<00:09,  1.04it/s]"
     ]
    },
    {
     "name": "stderr",
     "output_type": "stream",
     "text": [
      "\r",
      "Feature Extraction:  94%|█████████▍| 151/160 [06:15<00:06,  1.30it/s]"
     ]
    },
    {
     "name": "stderr",
     "output_type": "stream",
     "text": [
      "\r",
      "Feature Extraction:  95%|█████████▌| 152/160 [06:17<00:08,  1.02s/it]"
     ]
    },
    {
     "name": "stderr",
     "output_type": "stream",
     "text": [
      "\r",
      "Feature Extraction:  96%|█████████▌| 153/160 [06:17<00:06,  1.09it/s]"
     ]
    },
    {
     "name": "stderr",
     "output_type": "stream",
     "text": [
      "\r",
      "Feature Extraction:  96%|█████████▋| 154/160 [06:17<00:04,  1.39it/s]"
     ]
    },
    {
     "name": "stderr",
     "output_type": "stream",
     "text": [
      "\r",
      "Feature Extraction:  97%|█████████▋| 155/160 [06:18<00:02,  1.74it/s]"
     ]
    },
    {
     "name": "stderr",
     "output_type": "stream",
     "text": [
      "\r",
      "Feature Extraction:  98%|█████████▊| 156/160 [06:18<00:01,  2.13it/s]"
     ]
    },
    {
     "name": "stderr",
     "output_type": "stream",
     "text": [
      "\r",
      "Feature Extraction:  98%|█████████▊| 157/160 [06:18<00:01,  2.52it/s]"
     ]
    },
    {
     "name": "stderr",
     "output_type": "stream",
     "text": [
      "\r",
      "Feature Extraction:  99%|█████████▉| 158/160 [06:19<00:00,  2.59it/s]"
     ]
    },
    {
     "name": "stderr",
     "output_type": "stream",
     "text": [
      "\r",
      "Feature Extraction:  99%|█████████▉| 159/160 [06:20<00:00,  1.29it/s]"
     ]
    },
    {
     "name": "stderr",
     "output_type": "stream",
     "text": [
      "\r",
      "Feature Extraction: 100%|██████████| 160/160 [06:21<00:00,  1.12it/s]"
     ]
    },
    {
     "name": "stderr",
     "output_type": "stream",
     "text": [
      "\r",
      "Feature Extraction: 100%|██████████| 160/160 [06:21<00:00,  2.39s/it]"
     ]
    },
    {
     "name": "stderr",
     "output_type": "stream",
     "text": [
      "\n"
     ]
    },
    {
     "name": "stdout",
     "output_type": "stream",
     "text": [
      "let the ml starts\n"
     ]
    },
    {
     "name": "stdout",
     "output_type": "stream",
     "text": [
      "LogReg\n",
      "              precision    recall  f1-score   support\n",
      "\n",
      "   malignant       0.98      0.96      0.97     30787\n",
      "      benign       0.96      0.98      0.97     31232\n",
      "\n",
      "    accuracy                           0.97     62019\n",
      "   macro avg       0.97      0.97      0.97     62019\n",
      "weighted avg       0.97      0.97      0.97     62019\n",
      "\n",
      "    fit_time  score_time  test_accuracy  test_precision_weighted  \\\n",
      "0  10.866108    0.035529       0.966785                 0.966945   \n",
      "1  11.706057    0.049422       0.966570                 0.966738   \n",
      "2  11.241133    0.043584       0.966005                 0.966195   \n",
      "3  10.713701    0.034915       0.967107                 0.967278   \n",
      "4  10.876992    0.035019       0.967160                 0.967280   \n",
      "\n",
      "   test_recall_weighted  test_f1_weighted  test_roc_auc   model  \n",
      "0              0.966785          0.966780      0.993444  LogReg  \n",
      "1              0.966570          0.966563      0.993623  LogReg  \n",
      "2              0.966005          0.966001      0.993546  LogReg  \n",
      "3              0.967107          0.967100      0.993904  LogReg  \n",
      "4              0.967160          0.967154      0.993629  LogReg  \n"
     ]
    },
    {
     "name": "stdout",
     "output_type": "stream",
     "text": [
      "KNN\n",
      "              precision    recall  f1-score   support\n",
      "\n",
      "   malignant       0.98      0.97      0.98     30787\n",
      "      benign       0.97      0.98      0.98     31232\n",
      "\n",
      "    accuracy                           0.98     62019\n",
      "   macro avg       0.98      0.98      0.98     62019\n",
      "weighted avg       0.98      0.98      0.98     62019\n",
      "\n",
      "    fit_time  score_time  test_accuracy  test_precision_weighted  \\\n",
      "0  10.866108    0.035529       0.966785                 0.966945   \n",
      "1  11.706057    0.049422       0.966570                 0.966738   \n",
      "2  11.241133    0.043584       0.966005                 0.966195   \n",
      "3  10.713701    0.034915       0.967107                 0.967278   \n",
      "4  10.876992    0.035019       0.967160                 0.967280   \n",
      "5   0.100607   13.198671       0.973100                 0.973117   \n",
      "6   0.092804   13.242146       0.973530                 0.973549   \n",
      "7   0.092558   13.284884       0.973879                 0.973913   \n",
      "8   0.092934   13.282652       0.974631                 0.974677   \n",
      "9   0.092564   13.306715       0.975196                 0.975207   \n",
      "\n",
      "   test_recall_weighted  test_f1_weighted  test_roc_auc   model  \n",
      "0              0.966785          0.966780      0.993444  LogReg  \n",
      "1              0.966570          0.966563      0.993623  LogReg  \n",
      "2              0.966005          0.966001      0.993546  LogReg  \n",
      "3              0.967107          0.967100      0.993904  LogReg  \n",
      "4              0.967160          0.967154      0.993629  LogReg  \n",
      "5              0.973100          0.973099      0.990877     KNN  \n",
      "6              0.973530          0.973529      0.990611     KNN  \n",
      "7              0.973879          0.973878      0.991836     KNN  \n",
      "8              0.974631          0.974629      0.991575     KNN  \n",
      "9              0.975196          0.975194      0.991123     KNN  \n"
     ]
    },
    {
     "name": "stdout",
     "output_type": "stream",
     "text": [
      "SVM\n",
      "              precision    recall  f1-score   support\n",
      "\n",
      "   malignant       0.98      0.96      0.97     30787\n",
      "      benign       0.96      0.98      0.97     31232\n",
      "\n",
      "    accuracy                           0.97     62019\n",
      "   macro avg       0.97      0.97      0.97     62019\n",
      "weighted avg       0.97      0.97      0.97     62019\n",
      "\n",
      "      fit_time  score_time  test_accuracy  test_precision_weighted  \\\n",
      "0    10.866108    0.035529       0.966785                 0.966945   \n",
      "1    11.706057    0.049422       0.966570                 0.966738   \n",
      "2    11.241133    0.043584       0.966005                 0.966195   \n",
      "3    10.713701    0.034915       0.967107                 0.967278   \n",
      "4    10.876992    0.035019       0.967160                 0.967280   \n",
      "5     0.100607   13.198671       0.973100                 0.973117   \n",
      "6     0.092804   13.242146       0.973530                 0.973549   \n",
      "7     0.092558   13.284884       0.973879                 0.973913   \n",
      "8     0.092934   13.282652       0.974631                 0.974677   \n",
      "9     0.092564   13.306715       0.975196                 0.975207   \n",
      "10  466.740335  175.904675       0.969445                 0.969535   \n",
      "11  468.034952  182.706672       0.969633                 0.969725   \n",
      "12  466.136626  177.107807       0.969901                 0.969992   \n",
      "13  466.887663  179.355441       0.969901                 0.970023   \n",
      "14  477.592016  179.122480       0.970224                 0.970305   \n",
      "\n",
      "    test_recall_weighted  test_f1_weighted  test_roc_auc   model  \n",
      "0               0.966785          0.966780      0.993444  LogReg  \n",
      "1               0.966570          0.966563      0.993623  LogReg  \n",
      "2               0.966005          0.966001      0.993546  LogReg  \n",
      "3               0.967107          0.967100      0.993904  LogReg  \n",
      "4               0.967160          0.967154      0.993629  LogReg  \n",
      "5               0.973100          0.973099      0.990877     KNN  \n",
      "6               0.973530          0.973529      0.990611     KNN  \n",
      "7               0.973879          0.973878      0.991836     KNN  \n",
      "8               0.974631          0.974629      0.991575     KNN  \n",
      "9               0.975196          0.975194      0.991123     KNN  \n",
      "10              0.969445          0.969443      0.993648     SVM  \n",
      "11              0.969633          0.969629      0.993692     SVM  \n",
      "12              0.969901          0.969900      0.993929     SVM  \n",
      "13              0.969901          0.969897      0.994418     SVM  \n",
      "14              0.970224          0.970219      0.994105     SVM  \n"
     ]
    },
    {
     "name": "stdout",
     "output_type": "stream",
     "text": [
      "GNB\n",
      "              precision    recall  f1-score   support\n",
      "\n",
      "   malignant       0.98      0.93      0.96     30787\n",
      "      benign       0.93      0.98      0.96     31232\n",
      "\n",
      "    accuracy                           0.96     62019\n",
      "   macro avg       0.96      0.96      0.96     62019\n",
      "weighted avg       0.96      0.96      0.96     62019\n",
      "\n",
      "      fit_time  score_time  test_accuracy  test_precision_weighted  \\\n",
      "0    10.866108    0.035529       0.966785                 0.966945   \n",
      "1    11.706057    0.049422       0.966570                 0.966738   \n",
      "2    11.241133    0.043584       0.966005                 0.966195   \n",
      "3    10.713701    0.034915       0.967107                 0.967278   \n",
      "4    10.876992    0.035019       0.967160                 0.967280   \n",
      "5     0.100607   13.198671       0.973100                 0.973117   \n",
      "6     0.092804   13.242146       0.973530                 0.973549   \n",
      "7     0.092558   13.284884       0.973879                 0.973913   \n",
      "8     0.092934   13.282652       0.974631                 0.974677   \n",
      "9     0.092564   13.306715       0.975196                 0.975207   \n",
      "10  466.740335  175.904675       0.969445                 0.969535   \n",
      "11  468.034952  182.706672       0.969633                 0.969725   \n",
      "12  466.136626  177.107807       0.969901                 0.969992   \n",
      "13  466.887663  179.355441       0.969901                 0.970023   \n",
      "14  477.592016  179.122480       0.970224                 0.970305   \n",
      "15    0.409905    0.143113       0.955364                 0.956605   \n",
      "16    0.409255    0.142827       0.954853                 0.956105   \n",
      "17    0.408892    0.142138       0.954906                 0.956106   \n",
      "18    0.407917    0.142123       0.956196                 0.957436   \n",
      "19    0.410109    0.141842       0.954852                 0.956042   \n",
      "\n",
      "    test_recall_weighted  test_f1_weighted  test_roc_auc   model  \n",
      "0               0.966785          0.966780      0.993444  LogReg  \n",
      "1               0.966570          0.966563      0.993623  LogReg  \n",
      "2               0.966005          0.966001      0.993546  LogReg  \n",
      "3               0.967107          0.967100      0.993904  LogReg  \n",
      "4               0.967160          0.967154      0.993629  LogReg  \n",
      "5               0.973100          0.973099      0.990877     KNN  \n",
      "6               0.973530          0.973529      0.990611     KNN  \n",
      "7               0.973879          0.973878      0.991836     KNN  \n",
      "8               0.974631          0.974629      0.991575     KNN  \n",
      "9               0.975196          0.975194      0.991123     KNN  \n",
      "10              0.969445          0.969443      0.993648     SVM  \n",
      "11              0.969633          0.969629      0.993692     SVM  \n",
      "12              0.969901          0.969900      0.993929     SVM  \n",
      "13              0.969901          0.969897      0.994418     SVM  \n",
      "14              0.970224          0.970219      0.994105     SVM  \n",
      "15              0.955364          0.955327      0.960431     GNB  \n",
      "16              0.954853          0.954806      0.960048     GNB  \n",
      "17              0.954906          0.954874      0.960310     GNB  \n",
      "18              0.956196          0.956153      0.961075     GNB  \n",
      "19              0.954852          0.954803      0.959737     GNB  \n",
      "5491.193994289264\n"
     ]
    }
   ],
   "source": [
    "#2) Binary\n",
    "df_malicious = pd.concat([df1,df2,df4])\n",
    "df_benign = pd.concat([df11,df12,df10,df18,df20,df21,df22,df23])\n",
    "\n",
    "print(\"malicious: {}\".format(len(df_malicious)))\n",
    "print(\"benign: {}\".format(len(df_benign)))\n",
    "\n",
    "print(\"{} NAN in malicious!\".format(len(df_malicious[df_malicious.isna().any(axis=1)])))\n",
    "print(\"{} NAN in benign!\".format(len(df_benign[df_benign.isna().any(axis=1)])))\n",
    "\n",
    "df_malicious = df_malicious.dropna()\n",
    "df_benign = df_benign.dropna()\n",
    "\n",
    "print(\"After droppping NAN rows: \")\n",
    "print(\"malicious: {}\".format(len(df_malicious)))\n",
    "print(\"benign: {}\".format(len(df_benign)))\n",
    "\n",
    "start = timer()\n",
    "\n",
    "results_Host_s3 = run_process(df_malicious,df_benign,df_results)\n",
    "\n",
    "\n",
    "end = timer()\n",
    "print(end - start)"
   ]
  },
  {
   "cell_type": "code",
   "execution_count": 18,
   "id": "yi3SAunc3z2S",
   "metadata": {
    "execution": {
     "iopub.execute_input": "2025-08-02T13:56:09.064785Z",
     "iopub.status.busy": "2025-08-02T13:56:09.064651Z",
     "iopub.status.idle": "2025-08-02T18:30:49.892673Z",
     "shell.execute_reply": "2025-08-02T18:30:49.891934Z"
    },
    "id": "yi3SAunc3z2S",
    "outputId": "ace6ca9a-8b33-40d4-931b-78e631f5ccff"
   },
   "outputs": [
    {
     "name": "stdout",
     "output_type": "stream",
     "text": [
      "malicious: 1557230\n",
      "benign: 1561443\n"
     ]
    },
    {
     "name": "stdout",
     "output_type": "stream",
     "text": [
      "0 NAN in malicious!\n"
     ]
    },
    {
     "name": "stdout",
     "output_type": "stream",
     "text": [
      "0 NAN in benign!\n"
     ]
    },
    {
     "name": "stdout",
     "output_type": "stream",
     "text": [
      "After droppping NAN rows: \n",
      "malicious: 1557230\n",
      "benign: 1561443\n"
     ]
    },
    {
     "name": "stderr",
     "output_type": "stream",
     "text": [
      "\r",
      "Feature Extraction:   0%|          | 0/160 [00:00<?, ?it/s]"
     ]
    },
    {
     "name": "stderr",
     "output_type": "stream",
     "text": [
      "\r",
      "Feature Extraction:   1%|          | 1/160 [01:21<3:35:18, 81.25s/it]"
     ]
    },
    {
     "name": "stderr",
     "output_type": "stream",
     "text": [
      "\r",
      "Feature Extraction:   1%|▏         | 2/160 [01:22<1:30:22, 34.32s/it]"
     ]
    },
    {
     "name": "stderr",
     "output_type": "stream",
     "text": [
      "\r",
      "Feature Extraction:   2%|▏         | 3/160 [01:23<49:30, 18.92s/it]  "
     ]
    },
    {
     "name": "stderr",
     "output_type": "stream",
     "text": [
      "\r",
      "Feature Extraction:   2%|▎         | 4/160 [01:24<30:47, 11.84s/it]"
     ]
    },
    {
     "name": "stderr",
     "output_type": "stream",
     "text": [
      "\r",
      "Feature Extraction:   3%|▎         | 5/160 [01:25<20:46,  8.04s/it]"
     ]
    },
    {
     "name": "stderr",
     "output_type": "stream",
     "text": [
      "\r",
      "Feature Extraction:   4%|▍         | 6/160 [01:26<14:32,  5.67s/it]"
     ]
    },
    {
     "name": "stderr",
     "output_type": "stream",
     "text": [
      "\r",
      "Feature Extraction:   4%|▍         | 7/160 [01:27<10:25,  4.09s/it]"
     ]
    },
    {
     "name": "stderr",
     "output_type": "stream",
     "text": [
      "\r",
      "Feature Extraction:   5%|▌         | 8/160 [01:28<07:40,  3.03s/it]"
     ]
    },
    {
     "name": "stderr",
     "output_type": "stream",
     "text": [
      "\r",
      "Feature Extraction:   6%|▌         | 9/160 [01:29<05:51,  2.33s/it]"
     ]
    },
    {
     "name": "stderr",
     "output_type": "stream",
     "text": [
      "\r",
      "Feature Extraction:   6%|▋         | 10/160 [01:29<04:29,  1.80s/it]"
     ]
    },
    {
     "name": "stderr",
     "output_type": "stream",
     "text": [
      "\r",
      "Feature Extraction:   7%|▋         | 11/160 [01:30<03:50,  1.55s/it]"
     ]
    },
    {
     "name": "stderr",
     "output_type": "stream",
     "text": [
      "\r",
      "Feature Extraction:   8%|▊         | 12/160 [01:31<03:02,  1.23s/it]"
     ]
    },
    {
     "name": "stderr",
     "output_type": "stream",
     "text": [
      "\r",
      "Feature Extraction:   8%|▊         | 13/160 [01:31<02:29,  1.02s/it]"
     ]
    },
    {
     "name": "stderr",
     "output_type": "stream",
     "text": [
      "\r",
      "Feature Extraction:   9%|▉         | 14/160 [01:32<02:12,  1.10it/s]"
     ]
    },
    {
     "name": "stderr",
     "output_type": "stream",
     "text": [
      "\r",
      "Feature Extraction:   9%|▉         | 15/160 [01:33<02:10,  1.11it/s]"
     ]
    },
    {
     "name": "stderr",
     "output_type": "stream",
     "text": [
      "\r",
      "Feature Extraction:  10%|█         | 16/160 [01:33<02:02,  1.17it/s]"
     ]
    },
    {
     "name": "stderr",
     "output_type": "stream",
     "text": [
      "\r",
      "Feature Extraction:  11%|█         | 17/160 [01:34<02:00,  1.19it/s]"
     ]
    },
    {
     "name": "stderr",
     "output_type": "stream",
     "text": [
      "\r",
      "Feature Extraction:  11%|█▏        | 18/160 [01:36<02:16,  1.04it/s]"
     ]
    },
    {
     "name": "stderr",
     "output_type": "stream",
     "text": [
      "\r",
      "Feature Extraction:  12%|█▏        | 19/160 [01:36<02:09,  1.08it/s]"
     ]
    },
    {
     "name": "stderr",
     "output_type": "stream",
     "text": [
      "\r",
      "Feature Extraction:  12%|█▎        | 20/160 [01:37<02:04,  1.12it/s]"
     ]
    },
    {
     "name": "stderr",
     "output_type": "stream",
     "text": [
      "\r",
      "Feature Extraction:  13%|█▎        | 21/160 [01:38<02:04,  1.12it/s]"
     ]
    },
    {
     "name": "stderr",
     "output_type": "stream",
     "text": [
      "\r",
      "Feature Extraction:  14%|█▍        | 22/160 [01:39<02:00,  1.15it/s]"
     ]
    },
    {
     "name": "stderr",
     "output_type": "stream",
     "text": [
      "\r",
      "Feature Extraction:  14%|█▍        | 23/160 [01:40<01:58,  1.15it/s]"
     ]
    },
    {
     "name": "stderr",
     "output_type": "stream",
     "text": [
      "\r",
      "Feature Extraction:  15%|█▌        | 24/160 [01:41<02:02,  1.11it/s]"
     ]
    },
    {
     "name": "stderr",
     "output_type": "stream",
     "text": [
      "\r",
      "Feature Extraction:  16%|█▌        | 25/160 [01:42<02:30,  1.12s/it]"
     ]
    },
    {
     "name": "stderr",
     "output_type": "stream",
     "text": [
      "\r",
      "Feature Extraction:  16%|█▋        | 26/160 [01:43<02:05,  1.06it/s]"
     ]
    },
    {
     "name": "stderr",
     "output_type": "stream",
     "text": [
      "\r",
      "Feature Extraction:  17%|█▋        | 27/160 [01:44<02:20,  1.06s/it]"
     ]
    },
    {
     "name": "stderr",
     "output_type": "stream",
     "text": [
      "\r",
      "Feature Extraction:  18%|█▊        | 28/160 [01:45<02:13,  1.01s/it]"
     ]
    },
    {
     "name": "stderr",
     "output_type": "stream",
     "text": [
      "\r",
      "Feature Extraction:  18%|█▊        | 29/160 [01:46<01:54,  1.15it/s]"
     ]
    },
    {
     "name": "stderr",
     "output_type": "stream",
     "text": [
      "\r",
      "Feature Extraction:  19%|█▉        | 30/160 [01:47<02:01,  1.07it/s]"
     ]
    },
    {
     "name": "stderr",
     "output_type": "stream",
     "text": [
      "\r",
      "Feature Extraction:  19%|█▉        | 31/160 [01:48<02:22,  1.11s/it]"
     ]
    },
    {
     "name": "stderr",
     "output_type": "stream",
     "text": [
      "\r",
      "Feature Extraction:  20%|██        | 32/160 [01:50<02:54,  1.36s/it]"
     ]
    },
    {
     "name": "stderr",
     "output_type": "stream",
     "text": [
      "\r",
      "Feature Extraction:  21%|██        | 33/160 [02:35<30:16, 14.30s/it]"
     ]
    },
    {
     "name": "stderr",
     "output_type": "stream",
     "text": [
      "\r",
      "Feature Extraction:  21%|██▏       | 34/160 [02:37<22:31, 10.73s/it]"
     ]
    },
    {
     "name": "stderr",
     "output_type": "stream",
     "text": [
      "\r",
      "Feature Extraction:  22%|██▏       | 35/160 [02:40<17:32,  8.42s/it]"
     ]
    },
    {
     "name": "stderr",
     "output_type": "stream",
     "text": [
      "\r",
      "Feature Extraction:  22%|██▎       | 36/160 [02:44<14:36,  7.07s/it]"
     ]
    },
    {
     "name": "stderr",
     "output_type": "stream",
     "text": [
      "\r",
      "Feature Extraction:  23%|██▎       | 37/160 [02:46<11:08,  5.43s/it]"
     ]
    },
    {
     "name": "stderr",
     "output_type": "stream",
     "text": [
      "\r",
      "Feature Extraction:  24%|██▍       | 38/160 [02:46<08:14,  4.05s/it]"
     ]
    },
    {
     "name": "stderr",
     "output_type": "stream",
     "text": [
      "\r",
      "Feature Extraction:  24%|██▍       | 39/160 [02:47<06:06,  3.03s/it]"
     ]
    },
    {
     "name": "stderr",
     "output_type": "stream",
     "text": [
      "\r",
      "Feature Extraction:  25%|██▌       | 40/160 [02:49<05:33,  2.78s/it]"
     ]
    },
    {
     "name": "stderr",
     "output_type": "stream",
     "text": [
      "\r",
      "Feature Extraction:  26%|██▌       | 41/160 [02:50<04:23,  2.22s/it]"
     ]
    },
    {
     "name": "stderr",
     "output_type": "stream",
     "text": [
      "\r",
      "Feature Extraction:  26%|██▋       | 42/160 [02:52<03:52,  1.97s/it]"
     ]
    },
    {
     "name": "stderr",
     "output_type": "stream",
     "text": [
      "\r",
      "Feature Extraction:  27%|██▋       | 43/160 [02:53<03:26,  1.76s/it]"
     ]
    },
    {
     "name": "stderr",
     "output_type": "stream",
     "text": [
      "\r",
      "Feature Extraction:  28%|██▊       | 44/160 [02:54<02:48,  1.45s/it]"
     ]
    },
    {
     "name": "stderr",
     "output_type": "stream",
     "text": [
      "\r",
      "Feature Extraction:  28%|██▊       | 45/160 [02:54<02:19,  1.21s/it]"
     ]
    },
    {
     "name": "stderr",
     "output_type": "stream",
     "text": [
      "\r",
      "Feature Extraction:  29%|██▉       | 46/160 [02:57<03:06,  1.63s/it]"
     ]
    },
    {
     "name": "stderr",
     "output_type": "stream",
     "text": [
      "\r",
      "Feature Extraction:  29%|██▉       | 47/160 [02:58<02:35,  1.38s/it]"
     ]
    },
    {
     "name": "stderr",
     "output_type": "stream",
     "text": [
      "\r",
      "Feature Extraction:  30%|███       | 48/160 [02:58<02:14,  1.20s/it]"
     ]
    },
    {
     "name": "stderr",
     "output_type": "stream",
     "text": [
      "\r",
      "Feature Extraction:  31%|███       | 49/160 [02:59<02:08,  1.16s/it]"
     ]
    },
    {
     "name": "stderr",
     "output_type": "stream",
     "text": [
      "\r",
      "Feature Extraction:  31%|███▏      | 50/160 [03:01<02:28,  1.35s/it]"
     ]
    },
    {
     "name": "stderr",
     "output_type": "stream",
     "text": [
      "\r",
      "Feature Extraction:  32%|███▏      | 51/160 [03:03<02:22,  1.31s/it]"
     ]
    },
    {
     "name": "stderr",
     "output_type": "stream",
     "text": [
      "\r",
      "Feature Extraction:  32%|███▎      | 52/160 [03:04<02:27,  1.36s/it]"
     ]
    },
    {
     "name": "stderr",
     "output_type": "stream",
     "text": [
      "\r",
      "Feature Extraction:  33%|███▎      | 53/160 [03:07<03:11,  1.79s/it]"
     ]
    },
    {
     "name": "stderr",
     "output_type": "stream",
     "text": [
      "\r",
      "Feature Extraction:  34%|███▍      | 54/160 [03:07<02:29,  1.41s/it]"
     ]
    },
    {
     "name": "stderr",
     "output_type": "stream",
     "text": [
      "\r",
      "Feature Extraction:  34%|███▍      | 55/160 [03:09<02:32,  1.45s/it]"
     ]
    },
    {
     "name": "stderr",
     "output_type": "stream",
     "text": [
      "\r",
      "Feature Extraction:  35%|███▌      | 56/160 [03:10<02:06,  1.22s/it]"
     ]
    },
    {
     "name": "stderr",
     "output_type": "stream",
     "text": [
      "\r",
      "Feature Extraction:  36%|███▌      | 57/160 [03:10<01:56,  1.13s/it]"
     ]
    },
    {
     "name": "stderr",
     "output_type": "stream",
     "text": [
      "\r",
      "Feature Extraction:  36%|███▋      | 58/160 [03:11<01:50,  1.08s/it]"
     ]
    },
    {
     "name": "stderr",
     "output_type": "stream",
     "text": [
      "\r",
      "Feature Extraction:  37%|███▋      | 59/160 [03:12<01:34,  1.07it/s]"
     ]
    },
    {
     "name": "stderr",
     "output_type": "stream",
     "text": [
      "\r",
      "Feature Extraction:  38%|███▊      | 60/160 [03:13<01:23,  1.20it/s]"
     ]
    },
    {
     "name": "stderr",
     "output_type": "stream",
     "text": [
      "\r",
      "Feature Extraction:  38%|███▊      | 61/160 [03:13<01:16,  1.29it/s]"
     ]
    },
    {
     "name": "stderr",
     "output_type": "stream",
     "text": [
      "\r",
      "Feature Extraction:  39%|███▉      | 62/160 [03:14<01:15,  1.29it/s]"
     ]
    },
    {
     "name": "stderr",
     "output_type": "stream",
     "text": [
      "\r",
      "Feature Extraction:  39%|███▉      | 63/160 [03:19<03:05,  1.91s/it]"
     ]
    },
    {
     "name": "stderr",
     "output_type": "stream",
     "text": [
      "\r",
      "Feature Extraction:  40%|████      | 64/160 [03:20<02:36,  1.63s/it]"
     ]
    },
    {
     "name": "stderr",
     "output_type": "stream",
     "text": [
      "\r",
      "Feature Extraction:  41%|████      | 65/160 [04:05<23:16, 14.70s/it]"
     ]
    },
    {
     "name": "stderr",
     "output_type": "stream",
     "text": [
      "\r",
      "Feature Extraction:  41%|████▏     | 66/160 [04:06<16:50, 10.75s/it]"
     ]
    },
    {
     "name": "stderr",
     "output_type": "stream",
     "text": [
      "\r",
      "Feature Extraction:  42%|████▏     | 67/160 [04:11<13:54,  8.98s/it]"
     ]
    },
    {
     "name": "stderr",
     "output_type": "stream",
     "text": [
      "\r",
      "Feature Extraction:  42%|████▎     | 68/160 [04:14<11:00,  7.18s/it]"
     ]
    },
    {
     "name": "stderr",
     "output_type": "stream",
     "text": [
      "\r",
      "Feature Extraction:  43%|████▎     | 69/160 [04:15<08:01,  5.29s/it]"
     ]
    },
    {
     "name": "stderr",
     "output_type": "stream",
     "text": [
      "\r",
      "Feature Extraction:  44%|████▍     | 70/160 [04:17<06:13,  4.15s/it]"
     ]
    },
    {
     "name": "stderr",
     "output_type": "stream",
     "text": [
      "\r",
      "Feature Extraction:  44%|████▍     | 71/160 [04:18<04:52,  3.28s/it]"
     ]
    },
    {
     "name": "stderr",
     "output_type": "stream",
     "text": [
      "\r",
      "Feature Extraction:  45%|████▌     | 72/160 [04:18<03:41,  2.51s/it]"
     ]
    },
    {
     "name": "stderr",
     "output_type": "stream",
     "text": [
      "\r",
      "Feature Extraction:  46%|████▌     | 73/160 [04:22<03:57,  2.73s/it]"
     ]
    },
    {
     "name": "stderr",
     "output_type": "stream",
     "text": [
      "\r",
      "Feature Extraction:  46%|████▋     | 74/160 [04:24<03:50,  2.68s/it]"
     ]
    },
    {
     "name": "stderr",
     "output_type": "stream",
     "text": [
      "\r",
      "Feature Extraction:  47%|████▋     | 75/160 [04:25<03:05,  2.18s/it]"
     ]
    },
    {
     "name": "stderr",
     "output_type": "stream",
     "text": [
      "\r",
      "Feature Extraction:  48%|████▊     | 76/160 [04:26<02:34,  1.84s/it]"
     ]
    },
    {
     "name": "stderr",
     "output_type": "stream",
     "text": [
      "\r",
      "Feature Extraction:  48%|████▊     | 77/160 [04:28<02:16,  1.64s/it]"
     ]
    },
    {
     "name": "stderr",
     "output_type": "stream",
     "text": [
      "\r",
      "Feature Extraction:  49%|████▉     | 78/160 [04:28<01:49,  1.33s/it]"
     ]
    },
    {
     "name": "stderr",
     "output_type": "stream",
     "text": [
      "\r",
      "Feature Extraction:  49%|████▉     | 79/160 [04:30<01:53,  1.40s/it]"
     ]
    },
    {
     "name": "stderr",
     "output_type": "stream",
     "text": [
      "\r",
      "Feature Extraction:  50%|█████     | 80/160 [04:33<02:35,  1.94s/it]"
     ]
    },
    {
     "name": "stderr",
     "output_type": "stream",
     "text": [
      "\r",
      "Feature Extraction:  51%|█████     | 81/160 [04:33<01:59,  1.52s/it]"
     ]
    },
    {
     "name": "stderr",
     "output_type": "stream",
     "text": [
      "\r",
      "Feature Extraction:  51%|█████▏    | 82/160 [04:34<01:37,  1.25s/it]"
     ]
    },
    {
     "name": "stderr",
     "output_type": "stream",
     "text": [
      "\r",
      "Feature Extraction:  52%|█████▏    | 83/160 [04:35<01:36,  1.25s/it]"
     ]
    },
    {
     "name": "stderr",
     "output_type": "stream",
     "text": [
      "\r",
      "Feature Extraction:  52%|█████▎    | 84/160 [04:36<01:30,  1.18s/it]"
     ]
    },
    {
     "name": "stderr",
     "output_type": "stream",
     "text": [
      "\r",
      "Feature Extraction:  53%|█████▎    | 85/160 [04:38<01:34,  1.26s/it]"
     ]
    },
    {
     "name": "stderr",
     "output_type": "stream",
     "text": [
      "\r",
      "Feature Extraction:  54%|█████▍    | 86/160 [04:39<01:35,  1.29s/it]"
     ]
    },
    {
     "name": "stderr",
     "output_type": "stream",
     "text": [
      "\r",
      "Feature Extraction:  54%|█████▍    | 87/160 [04:42<02:13,  1.84s/it]"
     ]
    },
    {
     "name": "stderr",
     "output_type": "stream",
     "text": [
      "\r",
      "Feature Extraction:  55%|█████▌    | 88/160 [04:43<01:50,  1.53s/it]"
     ]
    },
    {
     "name": "stderr",
     "output_type": "stream",
     "text": [
      "\r",
      "Feature Extraction:  56%|█████▌    | 89/160 [04:44<01:36,  1.36s/it]"
     ]
    },
    {
     "name": "stderr",
     "output_type": "stream",
     "text": [
      "\r",
      "Feature Extraction:  56%|█████▋    | 90/160 [04:45<01:26,  1.23s/it]"
     ]
    },
    {
     "name": "stderr",
     "output_type": "stream",
     "text": [
      "\r",
      "Feature Extraction:  57%|█████▋    | 91/160 [04:46<01:20,  1.16s/it]"
     ]
    },
    {
     "name": "stderr",
     "output_type": "stream",
     "text": [
      "\r",
      "Feature Extraction:  57%|█████▊    | 92/160 [04:47<01:17,  1.14s/it]"
     ]
    },
    {
     "name": "stderr",
     "output_type": "stream",
     "text": [
      "\r",
      "Feature Extraction:  58%|█████▊    | 93/160 [04:48<01:22,  1.24s/it]"
     ]
    },
    {
     "name": "stderr",
     "output_type": "stream",
     "text": [
      "\r",
      "Feature Extraction:  59%|█████▉    | 94/160 [04:49<01:08,  1.04s/it]"
     ]
    },
    {
     "name": "stderr",
     "output_type": "stream",
     "text": [
      "\r",
      "Feature Extraction:  59%|█████▉    | 95/160 [04:53<02:02,  1.88s/it]"
     ]
    },
    {
     "name": "stderr",
     "output_type": "stream",
     "text": [
      "\r",
      "Feature Extraction:  60%|██████    | 96/160 [04:54<01:42,  1.60s/it]"
     ]
    },
    {
     "name": "stderr",
     "output_type": "stream",
     "text": [
      "\r",
      "Feature Extraction:  61%|██████    | 97/160 [05:35<14:11, 13.52s/it]"
     ]
    },
    {
     "name": "stderr",
     "output_type": "stream",
     "text": [
      "\r",
      "Feature Extraction:  61%|██████▏   | 98/160 [05:37<10:22, 10.05s/it]"
     ]
    },
    {
     "name": "stderr",
     "output_type": "stream",
     "text": [
      "\r",
      "Feature Extraction:  62%|██████▏   | 99/160 [05:40<07:53,  7.76s/it]"
     ]
    },
    {
     "name": "stderr",
     "output_type": "stream",
     "text": [
      "\r",
      "Feature Extraction:  62%|██████▎   | 100/160 [05:47<07:41,  7.70s/it]"
     ]
    },
    {
     "name": "stderr",
     "output_type": "stream",
     "text": [
      "\r",
      "Feature Extraction:  63%|██████▎   | 101/160 [05:48<05:27,  5.55s/it]"
     ]
    },
    {
     "name": "stderr",
     "output_type": "stream",
     "text": [
      "\r",
      "Feature Extraction:  64%|██████▍   | 102/160 [05:48<03:56,  4.08s/it]"
     ]
    },
    {
     "name": "stderr",
     "output_type": "stream",
     "text": [
      "\r",
      "Feature Extraction:  64%|██████▍   | 103/160 [05:49<02:58,  3.14s/it]"
     ]
    },
    {
     "name": "stderr",
     "output_type": "stream",
     "text": [
      "\r",
      "Feature Extraction:  65%|██████▌   | 104/160 [05:51<02:24,  2.58s/it]"
     ]
    },
    {
     "name": "stderr",
     "output_type": "stream",
     "text": [
      "\r",
      "Feature Extraction:  66%|██████▌   | 105/160 [05:56<03:03,  3.34s/it]"
     ]
    },
    {
     "name": "stderr",
     "output_type": "stream",
     "text": [
      "\r",
      "Feature Extraction:  66%|██████▋   | 106/160 [05:57<02:21,  2.63s/it]"
     ]
    },
    {
     "name": "stderr",
     "output_type": "stream",
     "text": [
      "\r",
      "Feature Extraction:  67%|██████▋   | 107/160 [06:00<02:36,  2.94s/it]"
     ]
    },
    {
     "name": "stderr",
     "output_type": "stream",
     "text": [
      "\r",
      "Feature Extraction:  68%|██████▊   | 108/160 [06:01<01:56,  2.25s/it]"
     ]
    },
    {
     "name": "stderr",
     "output_type": "stream",
     "text": [
      "\r",
      "Feature Extraction:  68%|██████▊   | 109/160 [06:02<01:35,  1.87s/it]"
     ]
    },
    {
     "name": "stderr",
     "output_type": "stream",
     "text": [
      "\r",
      "Feature Extraction:  69%|██████▉   | 110/160 [06:03<01:19,  1.60s/it]"
     ]
    },
    {
     "name": "stderr",
     "output_type": "stream",
     "text": [
      "\r",
      "Feature Extraction:  69%|██████▉   | 111/160 [06:04<01:08,  1.41s/it]"
     ]
    },
    {
     "name": "stderr",
     "output_type": "stream",
     "text": [
      "\r",
      "Feature Extraction:  70%|███████   | 112/160 [06:05<01:01,  1.28s/it]"
     ]
    },
    {
     "name": "stderr",
     "output_type": "stream",
     "text": [
      "\r",
      "Feature Extraction:  71%|███████   | 113/160 [06:07<01:16,  1.62s/it]"
     ]
    },
    {
     "name": "stderr",
     "output_type": "stream",
     "text": [
      "\r",
      "Feature Extraction:  71%|███████▏  | 114/160 [06:11<01:41,  2.21s/it]"
     ]
    },
    {
     "name": "stderr",
     "output_type": "stream",
     "text": [
      "\r",
      "Feature Extraction:  72%|███████▏  | 115/160 [06:11<01:18,  1.73s/it]"
     ]
    },
    {
     "name": "stderr",
     "output_type": "stream",
     "text": [
      "\r",
      "Feature Extraction:  72%|███████▎  | 116/160 [06:13<01:10,  1.60s/it]"
     ]
    },
    {
     "name": "stderr",
     "output_type": "stream",
     "text": [
      "\r",
      "Feature Extraction:  73%|███████▎  | 117/160 [06:13<00:54,  1.27s/it]"
     ]
    },
    {
     "name": "stderr",
     "output_type": "stream",
     "text": [
      "\r",
      "Feature Extraction:  74%|███████▍  | 118/160 [06:14<00:49,  1.18s/it]"
     ]
    },
    {
     "name": "stderr",
     "output_type": "stream",
     "text": [
      "\r",
      "Feature Extraction:  74%|███████▍  | 119/160 [06:15<00:45,  1.11s/it]"
     ]
    },
    {
     "name": "stderr",
     "output_type": "stream",
     "text": [
      "\r",
      "Feature Extraction:  75%|███████▌  | 120/160 [06:17<00:51,  1.28s/it]"
     ]
    },
    {
     "name": "stderr",
     "output_type": "stream",
     "text": [
      "\r",
      "Feature Extraction:  76%|███████▌  | 121/160 [06:18<00:48,  1.25s/it]"
     ]
    },
    {
     "name": "stderr",
     "output_type": "stream",
     "text": [
      "\r",
      "Feature Extraction:  76%|███████▋  | 122/160 [06:21<01:08,  1.81s/it]"
     ]
    },
    {
     "name": "stderr",
     "output_type": "stream",
     "text": [
      "\r",
      "Feature Extraction:  77%|███████▋  | 123/160 [06:22<00:57,  1.57s/it]"
     ]
    },
    {
     "name": "stderr",
     "output_type": "stream",
     "text": [
      "\r",
      "Feature Extraction:  78%|███████▊  | 124/160 [06:23<00:50,  1.40s/it]"
     ]
    },
    {
     "name": "stderr",
     "output_type": "stream",
     "text": [
      "\r",
      "Feature Extraction:  78%|███████▊  | 125/160 [06:25<00:51,  1.47s/it]"
     ]
    },
    {
     "name": "stderr",
     "output_type": "stream",
     "text": [
      "\r",
      "Feature Extraction:  79%|███████▉  | 126/160 [06:26<00:46,  1.36s/it]"
     ]
    },
    {
     "name": "stderr",
     "output_type": "stream",
     "text": [
      "\r",
      "Feature Extraction:  79%|███████▉  | 127/160 [06:27<00:38,  1.16s/it]"
     ]
    },
    {
     "name": "stderr",
     "output_type": "stream",
     "text": [
      "\r",
      "Feature Extraction:  80%|████████  | 128/160 [06:27<00:35,  1.10s/it]"
     ]
    },
    {
     "name": "stderr",
     "output_type": "stream",
     "text": [
      "\r",
      "Feature Extraction:  81%|████████  | 129/160 [07:08<06:44, 13.04s/it]"
     ]
    },
    {
     "name": "stderr",
     "output_type": "stream",
     "text": [
      "\r",
      "Feature Extraction:  81%|████████▏ | 130/160 [07:10<04:52,  9.76s/it]"
     ]
    },
    {
     "name": "stderr",
     "output_type": "stream",
     "text": [
      "\r",
      "Feature Extraction:  82%|████████▏ | 131/160 [07:13<03:38,  7.55s/it]"
     ]
    },
    {
     "name": "stderr",
     "output_type": "stream",
     "text": [
      "\r",
      "Feature Extraction:  82%|████████▎ | 132/160 [07:18<03:09,  6.78s/it]"
     ]
    },
    {
     "name": "stderr",
     "output_type": "stream",
     "text": [
      "\r",
      "Feature Extraction:  83%|████████▎ | 133/160 [07:20<02:28,  5.51s/it]"
     ]
    },
    {
     "name": "stderr",
     "output_type": "stream",
     "text": [
      "\r",
      "Feature Extraction:  84%|████████▍ | 134/160 [07:21<01:47,  4.14s/it]"
     ]
    },
    {
     "name": "stderr",
     "output_type": "stream",
     "text": [
      "\r",
      "Feature Extraction:  84%|████████▍ | 135/160 [07:23<01:24,  3.38s/it]"
     ]
    },
    {
     "name": "stderr",
     "output_type": "stream",
     "text": [
      "\r",
      "Feature Extraction:  85%|████████▌ | 136/160 [07:24<01:05,  2.71s/it]"
     ]
    },
    {
     "name": "stderr",
     "output_type": "stream",
     "text": [
      "\r",
      "Feature Extraction:  86%|████████▌ | 137/160 [07:26<00:54,  2.36s/it]"
     ]
    },
    {
     "name": "stderr",
     "output_type": "stream",
     "text": [
      "\r",
      "Feature Extraction:  86%|████████▋ | 138/160 [07:28<00:49,  2.25s/it]"
     ]
    },
    {
     "name": "stderr",
     "output_type": "stream",
     "text": [
      "\r",
      "Feature Extraction:  87%|████████▋ | 139/160 [07:28<00:36,  1.72s/it]"
     ]
    },
    {
     "name": "stderr",
     "output_type": "stream",
     "text": [
      "\r",
      "Feature Extraction:  88%|████████▊ | 140/160 [07:29<00:28,  1.45s/it]"
     ]
    },
    {
     "name": "stderr",
     "output_type": "stream",
     "text": [
      "\r",
      "Feature Extraction:  88%|████████▊ | 141/160 [07:29<00:22,  1.17s/it]"
     ]
    },
    {
     "name": "stderr",
     "output_type": "stream",
     "text": [
      "\r",
      "Feature Extraction:  89%|████████▉ | 142/160 [07:30<00:17,  1.05it/s]"
     ]
    },
    {
     "name": "stderr",
     "output_type": "stream",
     "text": [
      "\r",
      "Feature Extraction:  89%|████████▉ | 143/160 [07:32<00:22,  1.31s/it]"
     ]
    },
    {
     "name": "stderr",
     "output_type": "stream",
     "text": [
      "\r",
      "Feature Extraction:  90%|█████████ | 144/160 [07:32<00:16,  1.02s/it]"
     ]
    },
    {
     "name": "stderr",
     "output_type": "stream",
     "text": [
      "\r",
      "Feature Extraction:  91%|█████████ | 145/160 [07:33<00:12,  1.23it/s]"
     ]
    },
    {
     "name": "stderr",
     "output_type": "stream",
     "text": [
      "\r",
      "Feature Extraction:  91%|█████████▏| 146/160 [07:33<00:09,  1.50it/s]"
     ]
    },
    {
     "name": "stderr",
     "output_type": "stream",
     "text": [
      "\r",
      "Feature Extraction:  92%|█████████▏| 147/160 [07:34<00:10,  1.21it/s]"
     ]
    },
    {
     "name": "stderr",
     "output_type": "stream",
     "text": [
      "\r",
      "Feature Extraction:  92%|█████████▎| 148/160 [07:36<00:11,  1.04it/s]"
     ]
    },
    {
     "name": "stderr",
     "output_type": "stream",
     "text": [
      "\r",
      "Feature Extraction:  93%|█████████▎| 149/160 [07:36<00:08,  1.33it/s]"
     ]
    },
    {
     "name": "stderr",
     "output_type": "stream",
     "text": [
      "\r",
      "Feature Extraction:  94%|█████████▍| 150/160 [07:38<00:12,  1.25s/it]"
     ]
    },
    {
     "name": "stderr",
     "output_type": "stream",
     "text": [
      "\r",
      "Feature Extraction:  94%|█████████▍| 151/160 [07:39<00:08,  1.01it/s]"
     ]
    },
    {
     "name": "stderr",
     "output_type": "stream",
     "text": [
      "\r",
      "Feature Extraction:  95%|█████████▌| 152/160 [07:39<00:07,  1.03it/s]"
     ]
    },
    {
     "name": "stderr",
     "output_type": "stream",
     "text": [
      "\r",
      "Feature Extraction:  96%|█████████▌| 153/160 [07:40<00:06,  1.12it/s]"
     ]
    },
    {
     "name": "stderr",
     "output_type": "stream",
     "text": [
      "\r",
      "Feature Extraction:  96%|█████████▋| 154/160 [07:41<00:05,  1.04it/s]"
     ]
    },
    {
     "name": "stderr",
     "output_type": "stream",
     "text": [
      "\r",
      "Feature Extraction:  97%|█████████▋| 155/160 [07:42<00:04,  1.06it/s]"
     ]
    },
    {
     "name": "stderr",
     "output_type": "stream",
     "text": [
      "\r",
      "Feature Extraction:  98%|█████████▊| 156/160 [07:43<00:02,  1.34it/s]"
     ]
    },
    {
     "name": "stderr",
     "output_type": "stream",
     "text": [
      "\r",
      "Feature Extraction:  98%|█████████▊| 157/160 [07:43<00:02,  1.38it/s]"
     ]
    },
    {
     "name": "stderr",
     "output_type": "stream",
     "text": [
      "\r",
      "Feature Extraction:  99%|█████████▉| 158/160 [07:43<00:01,  1.69it/s]"
     ]
    },
    {
     "name": "stderr",
     "output_type": "stream",
     "text": [
      "\r",
      "Feature Extraction:  99%|█████████▉| 159/160 [07:45<00:00,  1.27it/s]"
     ]
    },
    {
     "name": "stderr",
     "output_type": "stream",
     "text": [
      "\r",
      "Feature Extraction: 100%|██████████| 160/160 [07:46<00:00,  1.02s/it]"
     ]
    },
    {
     "name": "stderr",
     "output_type": "stream",
     "text": [
      "\r",
      "Feature Extraction: 100%|██████████| 160/160 [07:46<00:00,  2.92s/it]"
     ]
    },
    {
     "name": "stderr",
     "output_type": "stream",
     "text": [
      "\n"
     ]
    },
    {
     "name": "stderr",
     "output_type": "stream",
     "text": [
      "\r",
      "Feature Extraction:   0%|          | 0/160 [00:00<?, ?it/s]"
     ]
    },
    {
     "name": "stderr",
     "output_type": "stream",
     "text": [
      "\r",
      "Feature Extraction:   1%|          | 1/160 [01:25<3:46:24, 85.44s/it]"
     ]
    },
    {
     "name": "stderr",
     "output_type": "stream",
     "text": [
      "\r",
      "Feature Extraction:   1%|▏         | 2/160 [01:27<1:35:46, 36.37s/it]"
     ]
    },
    {
     "name": "stderr",
     "output_type": "stream",
     "text": [
      "\r",
      "Feature Extraction:   2%|▏         | 3/160 [01:28<52:25, 20.03s/it]  "
     ]
    },
    {
     "name": "stderr",
     "output_type": "stream",
     "text": [
      "\r",
      "Feature Extraction:   2%|▎         | 4/160 [01:29<32:57, 12.67s/it]"
     ]
    },
    {
     "name": "stderr",
     "output_type": "stream",
     "text": [
      "\r",
      "Feature Extraction:   3%|▎         | 5/160 [01:30<21:38,  8.38s/it]"
     ]
    },
    {
     "name": "stderr",
     "output_type": "stream",
     "text": [
      "\r",
      "Feature Extraction:   4%|▍         | 6/160 [01:30<14:45,  5.75s/it]"
     ]
    },
    {
     "name": "stderr",
     "output_type": "stream",
     "text": [
      "\r",
      "Feature Extraction:   4%|▍         | 7/160 [01:31<10:48,  4.24s/it]"
     ]
    },
    {
     "name": "stderr",
     "output_type": "stream",
     "text": [
      "\r",
      "Feature Extraction:   5%|▌         | 8/160 [01:33<08:23,  3.31s/it]"
     ]
    },
    {
     "name": "stderr",
     "output_type": "stream",
     "text": [
      "\r",
      "Feature Extraction:   6%|▌         | 9/160 [01:34<06:54,  2.75s/it]"
     ]
    },
    {
     "name": "stderr",
     "output_type": "stream",
     "text": [
      "\r",
      "Feature Extraction:   6%|▋         | 10/160 [01:35<05:26,  2.18s/it]"
     ]
    },
    {
     "name": "stderr",
     "output_type": "stream",
     "text": [
      "\r",
      "Feature Extraction:   7%|▋         | 11/160 [01:36<04:27,  1.80s/it]"
     ]
    },
    {
     "name": "stderr",
     "output_type": "stream",
     "text": [
      "\r",
      "Feature Extraction:   8%|▊         | 12/160 [01:37<03:26,  1.40s/it]"
     ]
    },
    {
     "name": "stderr",
     "output_type": "stream",
     "text": [
      "\r",
      "Feature Extraction:   8%|▊         | 13/160 [01:38<03:06,  1.27s/it]"
     ]
    },
    {
     "name": "stderr",
     "output_type": "stream",
     "text": [
      "\r",
      "Feature Extraction:   9%|▉         | 14/160 [01:38<02:46,  1.14s/it]"
     ]
    },
    {
     "name": "stderr",
     "output_type": "stream",
     "text": [
      "\r",
      "Feature Extraction:   9%|▉         | 15/160 [01:39<02:23,  1.01it/s]"
     ]
    },
    {
     "name": "stderr",
     "output_type": "stream",
     "text": [
      "\r",
      "Feature Extraction:  10%|█         | 16/160 [01:41<02:50,  1.19s/it]"
     ]
    },
    {
     "name": "stderr",
     "output_type": "stream",
     "text": [
      "\r",
      "Feature Extraction:  11%|█         | 17/160 [01:42<02:35,  1.09s/it]"
     ]
    },
    {
     "name": "stderr",
     "output_type": "stream",
     "text": [
      "\r",
      "Feature Extraction:  11%|█▏        | 18/160 [01:42<02:18,  1.03it/s]"
     ]
    },
    {
     "name": "stderr",
     "output_type": "stream",
     "text": [
      "\r",
      "Feature Extraction:  12%|█▏        | 19/160 [01:43<02:12,  1.06it/s]"
     ]
    },
    {
     "name": "stderr",
     "output_type": "stream",
     "text": [
      "\r",
      "Feature Extraction:  12%|█▎        | 20/160 [01:44<02:08,  1.09it/s]"
     ]
    },
    {
     "name": "stderr",
     "output_type": "stream",
     "text": [
      "\r",
      "Feature Extraction:  13%|█▎        | 21/160 [01:45<02:07,  1.09it/s]"
     ]
    },
    {
     "name": "stderr",
     "output_type": "stream",
     "text": [
      "\r",
      "Feature Extraction:  14%|█▍        | 22/160 [01:46<02:05,  1.10it/s]"
     ]
    },
    {
     "name": "stderr",
     "output_type": "stream",
     "text": [
      "\r",
      "Feature Extraction:  14%|█▍        | 23/160 [01:48<02:36,  1.14s/it]"
     ]
    },
    {
     "name": "stderr",
     "output_type": "stream",
     "text": [
      "\r",
      "Feature Extraction:  15%|█▌        | 24/160 [01:48<02:28,  1.09s/it]"
     ]
    },
    {
     "name": "stderr",
     "output_type": "stream",
     "text": [
      "\r",
      "Feature Extraction:  16%|█▌        | 25/160 [01:49<02:20,  1.04s/it]"
     ]
    },
    {
     "name": "stderr",
     "output_type": "stream",
     "text": [
      "\r",
      "Feature Extraction:  16%|█▋        | 26/160 [01:50<02:17,  1.03s/it]"
     ]
    },
    {
     "name": "stderr",
     "output_type": "stream",
     "text": [
      "\r",
      "Feature Extraction:  17%|█▋        | 27/160 [01:51<02:16,  1.03s/it]"
     ]
    },
    {
     "name": "stderr",
     "output_type": "stream",
     "text": [
      "\r",
      "Feature Extraction:  18%|█▊        | 28/160 [01:52<01:59,  1.11it/s]"
     ]
    },
    {
     "name": "stderr",
     "output_type": "stream",
     "text": [
      "\r",
      "Feature Extraction:  18%|█▊        | 29/160 [01:53<01:58,  1.11it/s]"
     ]
    },
    {
     "name": "stderr",
     "output_type": "stream",
     "text": [
      "\r",
      "Feature Extraction:  19%|█▉        | 30/160 [01:55<02:59,  1.38s/it]"
     ]
    },
    {
     "name": "stderr",
     "output_type": "stream",
     "text": [
      "\r",
      "Feature Extraction:  19%|█▉        | 31/160 [01:57<02:50,  1.32s/it]"
     ]
    },
    {
     "name": "stderr",
     "output_type": "stream",
     "text": [
      "\r",
      "Feature Extraction:  20%|██        | 32/160 [01:58<02:38,  1.24s/it]"
     ]
    },
    {
     "name": "stderr",
     "output_type": "stream",
     "text": [
      "\r",
      "Feature Extraction:  21%|██        | 33/160 [02:48<33:39, 15.90s/it]"
     ]
    },
    {
     "name": "stderr",
     "output_type": "stream",
     "text": [
      "\r",
      "Feature Extraction:  21%|██▏       | 34/160 [02:49<23:56, 11.40s/it]"
     ]
    },
    {
     "name": "stderr",
     "output_type": "stream",
     "text": [
      "\r",
      "Feature Extraction:  22%|██▏       | 35/160 [02:51<18:02,  8.66s/it]"
     ]
    },
    {
     "name": "stderr",
     "output_type": "stream",
     "text": [
      "\r",
      "Feature Extraction:  22%|██▎       | 36/160 [02:52<13:06,  6.35s/it]"
     ]
    },
    {
     "name": "stderr",
     "output_type": "stream",
     "text": [
      "\r",
      "Feature Extraction:  23%|██▎       | 37/160 [02:55<11:00,  5.37s/it]"
     ]
    },
    {
     "name": "stderr",
     "output_type": "stream",
     "text": [
      "\r",
      "Feature Extraction:  24%|██▍       | 38/160 [02:56<08:13,  4.04s/it]"
     ]
    },
    {
     "name": "stderr",
     "output_type": "stream",
     "text": [
      "\r",
      "Feature Extraction:  24%|██▍       | 39/160 [02:57<06:28,  3.21s/it]"
     ]
    },
    {
     "name": "stderr",
     "output_type": "stream",
     "text": [
      "\r",
      "Feature Extraction:  25%|██▌       | 40/160 [02:58<04:57,  2.48s/it]"
     ]
    },
    {
     "name": "stderr",
     "output_type": "stream",
     "text": [
      "\r",
      "Feature Extraction:  26%|██▌       | 41/160 [03:00<04:21,  2.20s/it]"
     ]
    },
    {
     "name": "stderr",
     "output_type": "stream",
     "text": [
      "\r",
      "Feature Extraction:  26%|██▋       | 42/160 [03:01<03:45,  1.91s/it]"
     ]
    },
    {
     "name": "stderr",
     "output_type": "stream",
     "text": [
      "\r",
      "Feature Extraction:  27%|██▋       | 43/160 [03:03<04:04,  2.09s/it]"
     ]
    },
    {
     "name": "stderr",
     "output_type": "stream",
     "text": [
      "\r",
      "Feature Extraction:  28%|██▊       | 44/160 [03:04<03:15,  1.69s/it]"
     ]
    },
    {
     "name": "stderr",
     "output_type": "stream",
     "text": [
      "\r",
      "Feature Extraction:  28%|██▊       | 45/160 [03:05<02:54,  1.52s/it]"
     ]
    },
    {
     "name": "stderr",
     "output_type": "stream",
     "text": [
      "\r",
      "Feature Extraction:  29%|██▉       | 46/160 [03:08<03:31,  1.86s/it]"
     ]
    },
    {
     "name": "stderr",
     "output_type": "stream",
     "text": [
      "\r",
      "Feature Extraction:  29%|██▉       | 47/160 [03:09<03:16,  1.73s/it]"
     ]
    },
    {
     "name": "stderr",
     "output_type": "stream",
     "text": [
      "\r",
      "Feature Extraction:  30%|███       | 48/160 [03:12<04:01,  2.16s/it]"
     ]
    },
    {
     "name": "stderr",
     "output_type": "stream",
     "text": [
      "\r",
      "Feature Extraction:  31%|███       | 49/160 [03:14<03:33,  1.92s/it]"
     ]
    },
    {
     "name": "stderr",
     "output_type": "stream",
     "text": [
      "\r",
      "Feature Extraction:  31%|███▏      | 50/160 [03:16<03:55,  2.14s/it]"
     ]
    },
    {
     "name": "stderr",
     "output_type": "stream",
     "text": [
      "\r",
      "Feature Extraction:  32%|███▏      | 51/160 [03:17<03:15,  1.79s/it]"
     ]
    },
    {
     "name": "stderr",
     "output_type": "stream",
     "text": [
      "\r",
      "Feature Extraction:  32%|███▎      | 52/160 [03:18<02:44,  1.53s/it]"
     ]
    },
    {
     "name": "stderr",
     "output_type": "stream",
     "text": [
      "\r",
      "Feature Extraction:  33%|███▎      | 53/160 [03:19<02:24,  1.35s/it]"
     ]
    },
    {
     "name": "stderr",
     "output_type": "stream",
     "text": [
      "\r",
      "Feature Extraction:  34%|███▍      | 54/160 [03:21<02:36,  1.48s/it]"
     ]
    },
    {
     "name": "stderr",
     "output_type": "stream",
     "text": [
      "\r",
      "Feature Extraction:  34%|███▍      | 55/160 [03:22<02:06,  1.21s/it]"
     ]
    },
    {
     "name": "stderr",
     "output_type": "stream",
     "text": [
      "\r",
      "Feature Extraction:  35%|███▌      | 56/160 [03:23<02:05,  1.21s/it]"
     ]
    },
    {
     "name": "stderr",
     "output_type": "stream",
     "text": [
      "\r",
      "Feature Extraction:  36%|███▌      | 57/160 [03:25<02:42,  1.58s/it]"
     ]
    },
    {
     "name": "stderr",
     "output_type": "stream",
     "text": [
      "\r",
      "Feature Extraction:  36%|███▋      | 58/160 [03:26<02:27,  1.45s/it]"
     ]
    },
    {
     "name": "stderr",
     "output_type": "stream",
     "text": [
      "\r",
      "Feature Extraction:  37%|███▋      | 59/160 [03:27<02:11,  1.30s/it]"
     ]
    },
    {
     "name": "stderr",
     "output_type": "stream",
     "text": [
      "\r",
      "Feature Extraction:  38%|███▊      | 60/160 [03:28<01:57,  1.18s/it]"
     ]
    },
    {
     "name": "stderr",
     "output_type": "stream",
     "text": [
      "\r",
      "Feature Extraction:  38%|███▊      | 61/160 [03:29<01:50,  1.12s/it]"
     ]
    },
    {
     "name": "stderr",
     "output_type": "stream",
     "text": [
      "\r",
      "Feature Extraction:  39%|███▉      | 62/160 [03:30<01:38,  1.01s/it]"
     ]
    },
    {
     "name": "stderr",
     "output_type": "stream",
     "text": [
      "\r",
      "Feature Extraction:  39%|███▉      | 63/160 [03:33<02:48,  1.73s/it]"
     ]
    },
    {
     "name": "stderr",
     "output_type": "stream",
     "text": [
      "\r",
      "Feature Extraction:  40%|████      | 64/160 [03:34<02:23,  1.49s/it]"
     ]
    },
    {
     "name": "stderr",
     "output_type": "stream",
     "text": [
      "\r",
      "Feature Extraction:  41%|████      | 65/160 [04:21<23:48, 15.04s/it]"
     ]
    },
    {
     "name": "stderr",
     "output_type": "stream",
     "text": [
      "\r",
      "Feature Extraction:  41%|████▏     | 66/160 [04:22<17:04, 10.89s/it]"
     ]
    },
    {
     "name": "stderr",
     "output_type": "stream",
     "text": [
      "\r",
      "Feature Extraction:  42%|████▏     | 67/160 [04:23<12:24,  8.01s/it]"
     ]
    },
    {
     "name": "stderr",
     "output_type": "stream",
     "text": [
      "\r",
      "Feature Extraction:  42%|████▎     | 68/160 [04:26<09:31,  6.22s/it]"
     ]
    },
    {
     "name": "stderr",
     "output_type": "stream",
     "text": [
      "\r",
      "Feature Extraction:  43%|████▎     | 69/160 [04:26<07:01,  4.64s/it]"
     ]
    },
    {
     "name": "stderr",
     "output_type": "stream",
     "text": [
      "\r",
      "Feature Extraction:  44%|████▍     | 70/160 [04:32<07:20,  4.89s/it]"
     ]
    },
    {
     "name": "stderr",
     "output_type": "stream",
     "text": [
      "\r",
      "Feature Extraction:  44%|████▍     | 71/160 [04:33<05:37,  3.79s/it]"
     ]
    },
    {
     "name": "stderr",
     "output_type": "stream",
     "text": [
      "\r",
      "Feature Extraction:  45%|████▌     | 72/160 [04:34<04:26,  3.03s/it]"
     ]
    },
    {
     "name": "stderr",
     "output_type": "stream",
     "text": [
      "\r",
      "Feature Extraction:  46%|████▌     | 73/160 [04:35<03:27,  2.38s/it]"
     ]
    },
    {
     "name": "stderr",
     "output_type": "stream",
     "text": [
      "\r",
      "Feature Extraction:  46%|████▋     | 74/160 [04:36<02:41,  1.87s/it]"
     ]
    },
    {
     "name": "stderr",
     "output_type": "stream",
     "text": [
      "\r",
      "Feature Extraction:  47%|████▋     | 75/160 [04:37<02:11,  1.54s/it]"
     ]
    },
    {
     "name": "stderr",
     "output_type": "stream",
     "text": [
      "\r",
      "Feature Extraction:  48%|████▊     | 76/160 [04:39<02:31,  1.80s/it]"
     ]
    },
    {
     "name": "stderr",
     "output_type": "stream",
     "text": [
      "\r",
      "Feature Extraction:  48%|████▊     | 77/160 [04:42<02:53,  2.09s/it]"
     ]
    },
    {
     "name": "stderr",
     "output_type": "stream",
     "text": [
      "\r",
      "Feature Extraction:  49%|████▉     | 78/160 [04:44<02:40,  1.96s/it]"
     ]
    },
    {
     "name": "stderr",
     "output_type": "stream",
     "text": [
      "\r",
      "Feature Extraction:  49%|████▉     | 79/160 [04:45<02:20,  1.74s/it]"
     ]
    },
    {
     "name": "stderr",
     "output_type": "stream",
     "text": [
      "\r",
      "Feature Extraction:  50%|█████     | 80/160 [04:46<01:59,  1.50s/it]"
     ]
    },
    {
     "name": "stderr",
     "output_type": "stream",
     "text": [
      "\r",
      "Feature Extraction:  51%|█████     | 81/160 [04:49<02:28,  1.88s/it]"
     ]
    },
    {
     "name": "stderr",
     "output_type": "stream",
     "text": [
      "\r",
      "Feature Extraction:  51%|█████▏    | 82/160 [04:49<02:04,  1.59s/it]"
     ]
    },
    {
     "name": "stderr",
     "output_type": "stream",
     "text": [
      "\r",
      "Feature Extraction:  52%|█████▏    | 83/160 [04:54<03:07,  2.44s/it]"
     ]
    },
    {
     "name": "stderr",
     "output_type": "stream",
     "text": [
      "\r",
      "Feature Extraction:  52%|█████▎    | 84/160 [04:55<02:37,  2.07s/it]"
     ]
    },
    {
     "name": "stderr",
     "output_type": "stream",
     "text": [
      "\r",
      "Feature Extraction:  53%|█████▎    | 85/160 [04:56<02:15,  1.80s/it]"
     ]
    },
    {
     "name": "stderr",
     "output_type": "stream",
     "text": [
      "\r",
      "Feature Extraction:  54%|█████▍    | 86/160 [04:57<01:55,  1.56s/it]"
     ]
    },
    {
     "name": "stderr",
     "output_type": "stream",
     "text": [
      "\r",
      "Feature Extraction:  54%|█████▍    | 87/160 [04:58<01:31,  1.25s/it]"
     ]
    },
    {
     "name": "stderr",
     "output_type": "stream",
     "text": [
      "\r",
      "Feature Extraction:  55%|█████▌    | 88/160 [05:00<01:41,  1.41s/it]"
     ]
    },
    {
     "name": "stderr",
     "output_type": "stream",
     "text": [
      "\r",
      "Feature Extraction:  56%|█████▌    | 89/160 [05:00<01:26,  1.22s/it]"
     ]
    },
    {
     "name": "stderr",
     "output_type": "stream",
     "text": [
      "\r",
      "Feature Extraction:  56%|█████▋    | 90/160 [05:04<02:16,  1.95s/it]"
     ]
    },
    {
     "name": "stderr",
     "output_type": "stream",
     "text": [
      "\r",
      "Feature Extraction:  57%|█████▋    | 91/160 [05:05<01:52,  1.63s/it]"
     ]
    },
    {
     "name": "stderr",
     "output_type": "stream",
     "text": [
      "\r",
      "Feature Extraction:  57%|█████▊    | 92/160 [05:06<01:38,  1.45s/it]"
     ]
    },
    {
     "name": "stderr",
     "output_type": "stream",
     "text": [
      "\r",
      "Feature Extraction:  58%|█████▊    | 93/160 [05:06<01:20,  1.20s/it]"
     ]
    },
    {
     "name": "stderr",
     "output_type": "stream",
     "text": [
      "\r",
      "Feature Extraction:  59%|█████▉    | 94/160 [05:08<01:23,  1.26s/it]"
     ]
    },
    {
     "name": "stderr",
     "output_type": "stream",
     "text": [
      "\r",
      "Feature Extraction:  59%|█████▉    | 95/160 [05:09<01:27,  1.35s/it]"
     ]
    },
    {
     "name": "stderr",
     "output_type": "stream",
     "text": [
      "\r",
      "Feature Extraction:  60%|██████    | 96/160 [05:10<01:20,  1.25s/it]"
     ]
    },
    {
     "name": "stderr",
     "output_type": "stream",
     "text": [
      "\r",
      "Feature Extraction:  61%|██████    | 97/160 [05:59<16:20, 15.57s/it]"
     ]
    },
    {
     "name": "stderr",
     "output_type": "stream",
     "text": [
      "\r",
      "Feature Extraction:  61%|██████▏   | 98/160 [06:00<11:31, 11.16s/it]"
     ]
    },
    {
     "name": "stderr",
     "output_type": "stream",
     "text": [
      "\r",
      "Feature Extraction:  62%|██████▏   | 99/160 [06:01<08:15,  8.12s/it]"
     ]
    },
    {
     "name": "stderr",
     "output_type": "stream",
     "text": [
      "\r",
      "Feature Extraction:  62%|██████▎   | 100/160 [06:03<06:10,  6.17s/it]"
     ]
    },
    {
     "name": "stderr",
     "output_type": "stream",
     "text": [
      "\r",
      "Feature Extraction:  63%|██████▎   | 101/160 [06:04<04:33,  4.64s/it]"
     ]
    },
    {
     "name": "stderr",
     "output_type": "stream",
     "text": [
      "\r",
      "Feature Extraction:  64%|██████▍   | 102/160 [06:05<03:25,  3.55s/it]"
     ]
    },
    {
     "name": "stderr",
     "output_type": "stream",
     "text": [
      "\r",
      "Feature Extraction:  64%|██████▍   | 103/160 [06:09<03:36,  3.79s/it]"
     ]
    },
    {
     "name": "stderr",
     "output_type": "stream",
     "text": [
      "\r",
      "Feature Extraction:  65%|██████▌   | 104/160 [06:13<03:36,  3.87s/it]"
     ]
    },
    {
     "name": "stderr",
     "output_type": "stream",
     "text": [
      "\r",
      "Feature Extraction:  66%|██████▌   | 105/160 [06:14<02:45,  3.01s/it]"
     ]
    },
    {
     "name": "stderr",
     "output_type": "stream",
     "text": [
      "\r",
      "Feature Extraction:  66%|██████▋   | 106/160 [06:15<02:04,  2.31s/it]"
     ]
    },
    {
     "name": "stderr",
     "output_type": "stream",
     "text": [
      "\r",
      "Feature Extraction:  67%|██████▋   | 107/160 [06:17<01:48,  2.04s/it]"
     ]
    },
    {
     "name": "stderr",
     "output_type": "stream",
     "text": [
      "\r",
      "Feature Extraction:  68%|██████▊   | 108/160 [06:17<01:23,  1.61s/it]"
     ]
    },
    {
     "name": "stderr",
     "output_type": "stream",
     "text": [
      "\r",
      "Feature Extraction:  68%|██████▊   | 109/160 [06:19<01:21,  1.61s/it]"
     ]
    },
    {
     "name": "stderr",
     "output_type": "stream",
     "text": [
      "\r",
      "Feature Extraction:  69%|██████▉   | 110/160 [06:20<01:18,  1.57s/it]"
     ]
    },
    {
     "name": "stderr",
     "output_type": "stream",
     "text": [
      "\r",
      "Feature Extraction:  69%|██████▉   | 111/160 [06:24<01:42,  2.10s/it]"
     ]
    },
    {
     "name": "stderr",
     "output_type": "stream",
     "text": [
      "\r",
      "Feature Extraction:  70%|███████   | 112/160 [06:25<01:31,  1.90s/it]"
     ]
    },
    {
     "name": "stderr",
     "output_type": "stream",
     "text": [
      "\r",
      "Feature Extraction:  71%|███████   | 113/160 [06:26<01:23,  1.78s/it]"
     ]
    },
    {
     "name": "stderr",
     "output_type": "stream",
     "text": [
      "\r",
      "Feature Extraction:  71%|███████▏  | 114/160 [06:28<01:15,  1.64s/it]"
     ]
    },
    {
     "name": "stderr",
     "output_type": "stream",
     "text": [
      "\r",
      "Feature Extraction:  72%|███████▏  | 115/160 [06:29<01:05,  1.46s/it]"
     ]
    },
    {
     "name": "stderr",
     "output_type": "stream",
     "text": [
      "\r",
      "Feature Extraction:  72%|███████▎  | 116/160 [06:31<01:16,  1.73s/it]"
     ]
    },
    {
     "name": "stderr",
     "output_type": "stream",
     "text": [
      "\r",
      "Feature Extraction:  73%|███████▎  | 117/160 [06:35<01:45,  2.45s/it]"
     ]
    },
    {
     "name": "stderr",
     "output_type": "stream",
     "text": [
      "\r",
      "Feature Extraction:  74%|███████▍  | 118/160 [06:36<01:20,  1.93s/it]"
     ]
    },
    {
     "name": "stderr",
     "output_type": "stream",
     "text": [
      "\r",
      "Feature Extraction:  74%|███████▍  | 119/160 [06:37<01:08,  1.66s/it]"
     ]
    },
    {
     "name": "stderr",
     "output_type": "stream",
     "text": [
      "\r",
      "Feature Extraction:  75%|███████▌  | 120/160 [06:38<00:54,  1.36s/it]"
     ]
    },
    {
     "name": "stderr",
     "output_type": "stream",
     "text": [
      "\r",
      "Feature Extraction:  76%|███████▌  | 121/160 [06:40<01:01,  1.59s/it]"
     ]
    },
    {
     "name": "stderr",
     "output_type": "stream",
     "text": [
      "\r",
      "Feature Extraction:  76%|███████▋  | 122/160 [06:41<00:50,  1.32s/it]"
     ]
    },
    {
     "name": "stderr",
     "output_type": "stream",
     "text": [
      "\r",
      "Feature Extraction:  77%|███████▋  | 123/160 [06:42<00:51,  1.38s/it]"
     ]
    },
    {
     "name": "stderr",
     "output_type": "stream",
     "text": [
      "\r",
      "Feature Extraction:  78%|███████▊  | 124/160 [06:46<01:17,  2.15s/it]"
     ]
    },
    {
     "name": "stderr",
     "output_type": "stream",
     "text": [
      "\r",
      "Feature Extraction:  78%|███████▊  | 125/160 [06:47<01:00,  1.74s/it]"
     ]
    },
    {
     "name": "stderr",
     "output_type": "stream",
     "text": [
      "\r",
      "Feature Extraction:  79%|███████▉  | 126/160 [06:48<00:50,  1.47s/it]"
     ]
    },
    {
     "name": "stderr",
     "output_type": "stream",
     "text": [
      "\r",
      "Feature Extraction:  79%|███████▉  | 127/160 [06:49<00:51,  1.57s/it]"
     ]
    },
    {
     "name": "stderr",
     "output_type": "stream",
     "text": [
      "\r",
      "Feature Extraction:  80%|████████  | 128/160 [06:50<00:41,  1.30s/it]"
     ]
    },
    {
     "name": "stderr",
     "output_type": "stream",
     "text": [
      "\r",
      "Feature Extraction:  81%|████████  | 129/160 [07:33<07:06, 13.76s/it]"
     ]
    },
    {
     "name": "stderr",
     "output_type": "stream",
     "text": [
      "\r",
      "Feature Extraction:  81%|████████▏ | 130/160 [07:35<05:09, 10.33s/it]"
     ]
    },
    {
     "name": "stderr",
     "output_type": "stream",
     "text": [
      "\r",
      "Feature Extraction:  82%|████████▏ | 131/160 [07:36<03:38,  7.54s/it]"
     ]
    },
    {
     "name": "stderr",
     "output_type": "stream",
     "text": [
      "\r",
      "Feature Extraction:  82%|████████▎ | 132/160 [07:38<02:44,  5.89s/it]"
     ]
    },
    {
     "name": "stderr",
     "output_type": "stream",
     "text": [
      "\r",
      "Feature Extraction:  83%|████████▎ | 133/160 [07:39<01:55,  4.28s/it]"
     ]
    },
    {
     "name": "stderr",
     "output_type": "stream",
     "text": [
      "\r",
      "Feature Extraction:  84%|████████▍ | 134/160 [07:41<01:35,  3.68s/it]"
     ]
    },
    {
     "name": "stderr",
     "output_type": "stream",
     "text": [
      "\r",
      "Feature Extraction:  84%|████████▍ | 135/160 [07:45<01:33,  3.73s/it]"
     ]
    },
    {
     "name": "stderr",
     "output_type": "stream",
     "text": [
      "\r",
      "Feature Extraction:  85%|████████▌ | 136/160 [07:46<01:07,  2.81s/it]"
     ]
    },
    {
     "name": "stderr",
     "output_type": "stream",
     "text": [
      "\r",
      "Feature Extraction:  86%|████████▌ | 137/160 [07:49<01:05,  2.84s/it]"
     ]
    },
    {
     "name": "stderr",
     "output_type": "stream",
     "text": [
      "\r",
      "Feature Extraction:  86%|████████▋ | 138/160 [07:50<00:55,  2.54s/it]"
     ]
    },
    {
     "name": "stderr",
     "output_type": "stream",
     "text": [
      "\r",
      "Feature Extraction:  87%|████████▋ | 139/160 [07:52<00:47,  2.26s/it]"
     ]
    },
    {
     "name": "stderr",
     "output_type": "stream",
     "text": [
      "\r",
      "Feature Extraction:  88%|████████▊ | 140/160 [07:53<00:36,  1.83s/it]"
     ]
    },
    {
     "name": "stderr",
     "output_type": "stream",
     "text": [
      "\r",
      "Feature Extraction:  88%|████████▊ | 141/160 [07:53<00:27,  1.45s/it]"
     ]
    },
    {
     "name": "stderr",
     "output_type": "stream",
     "text": [
      "\r",
      "Feature Extraction:  89%|████████▉ | 142/160 [07:54<00:20,  1.12s/it]"
     ]
    },
    {
     "name": "stderr",
     "output_type": "stream",
     "text": [
      "\r",
      "Feature Extraction:  89%|████████▉ | 143/160 [07:55<00:18,  1.07s/it]"
     ]
    },
    {
     "name": "stderr",
     "output_type": "stream",
     "text": [
      "\r",
      "Feature Extraction:  90%|█████████ | 144/160 [07:56<00:20,  1.29s/it]"
     ]
    },
    {
     "name": "stderr",
     "output_type": "stream",
     "text": [
      "\r",
      "Feature Extraction:  91%|█████████ | 145/160 [07:57<00:15,  1.01s/it]"
     ]
    },
    {
     "name": "stderr",
     "output_type": "stream",
     "text": [
      "\r",
      "Feature Extraction:  91%|█████████▏| 146/160 [07:57<00:11,  1.24it/s]"
     ]
    },
    {
     "name": "stderr",
     "output_type": "stream",
     "text": [
      "\r",
      "Feature Extraction:  92%|█████████▏| 147/160 [07:58<00:08,  1.50it/s]"
     ]
    },
    {
     "name": "stderr",
     "output_type": "stream",
     "text": [
      "\r",
      "Feature Extraction:  92%|█████████▎| 148/160 [07:58<00:06,  1.77it/s]"
     ]
    },
    {
     "name": "stderr",
     "output_type": "stream",
     "text": [
      "\r",
      "Feature Extraction:  93%|█████████▎| 149/160 [07:59<00:06,  1.67it/s]"
     ]
    },
    {
     "name": "stderr",
     "output_type": "stream",
     "text": [
      "\r",
      "Feature Extraction:  94%|█████████▍| 150/160 [07:59<00:05,  1.93it/s]"
     ]
    },
    {
     "name": "stderr",
     "output_type": "stream",
     "text": [
      "\r",
      "Feature Extraction:  94%|█████████▍| 151/160 [07:59<00:04,  1.91it/s]"
     ]
    },
    {
     "name": "stderr",
     "output_type": "stream",
     "text": [
      "\r",
      "Feature Extraction:  95%|█████████▌| 152/160 [08:04<00:12,  1.61s/it]"
     ]
    },
    {
     "name": "stderr",
     "output_type": "stream",
     "text": [
      "\r",
      "Feature Extraction:  96%|█████████▌| 153/160 [08:04<00:08,  1.22s/it]"
     ]
    },
    {
     "name": "stderr",
     "output_type": "stream",
     "text": [
      "\r",
      "Feature Extraction:  96%|█████████▋| 154/160 [08:05<00:06,  1.05s/it]"
     ]
    },
    {
     "name": "stderr",
     "output_type": "stream",
     "text": [
      "\r",
      "Feature Extraction:  97%|█████████▋| 155/160 [08:06<00:05,  1.13s/it]"
     ]
    },
    {
     "name": "stderr",
     "output_type": "stream",
     "text": [
      "\r",
      "Feature Extraction:  98%|█████████▊| 156/160 [08:07<00:04,  1.07s/it]"
     ]
    },
    {
     "name": "stderr",
     "output_type": "stream",
     "text": [
      "\r",
      "Feature Extraction:  98%|█████████▊| 157/160 [08:07<00:02,  1.09it/s]"
     ]
    },
    {
     "name": "stderr",
     "output_type": "stream",
     "text": [
      "\r",
      "Feature Extraction:  99%|█████████▉| 158/160 [08:08<00:01,  1.36it/s]"
     ]
    },
    {
     "name": "stderr",
     "output_type": "stream",
     "text": [
      "\r",
      "Feature Extraction:  99%|█████████▉| 159/160 [08:10<00:01,  1.18s/it]"
     ]
    },
    {
     "name": "stderr",
     "output_type": "stream",
     "text": [
      "\r",
      "Feature Extraction: 100%|██████████| 160/160 [08:11<00:00,  1.11s/it]"
     ]
    },
    {
     "name": "stderr",
     "output_type": "stream",
     "text": [
      "\r",
      "Feature Extraction: 100%|██████████| 160/160 [08:11<00:00,  3.07s/it]"
     ]
    },
    {
     "name": "stderr",
     "output_type": "stream",
     "text": [
      "\n"
     ]
    },
    {
     "name": "stdout",
     "output_type": "stream",
     "text": [
      "let the ml starts\n"
     ]
    },
    {
     "name": "stdout",
     "output_type": "stream",
     "text": [
      "LogReg\n",
      "              precision    recall  f1-score   support\n",
      "\n",
      "   malignant       0.93      0.94      0.93     38930\n",
      "      benign       0.94      0.92      0.93     39037\n",
      "\n",
      "    accuracy                           0.93     77967\n",
      "   macro avg       0.93      0.93      0.93     77967\n",
      "weighted avg       0.93      0.93      0.93     77967\n",
      "\n",
      "    fit_time  score_time  test_accuracy  test_precision_weighted  \\\n",
      "0  11.159262    0.044634       0.931895                 0.932012   \n",
      "1  10.771967    0.064392       0.931894                 0.932090   \n",
      "2  11.144813    0.042830       0.933283                 0.933365   \n",
      "3  11.193270    0.042873       0.931894                 0.932003   \n",
      "4  10.924104    0.042465       0.930654                 0.930778   \n",
      "\n",
      "   test_recall_weighted  test_f1_weighted  test_roc_auc   model  \n",
      "0              0.931895          0.931891      0.979847  LogReg  \n",
      "1              0.931894          0.931885      0.979285  LogReg  \n",
      "2              0.933283          0.933279      0.979144  LogReg  \n",
      "3              0.931894          0.931885      0.979510  LogReg  \n",
      "4              0.930654          0.930649      0.979245  LogReg  \n"
     ]
    },
    {
     "name": "stdout",
     "output_type": "stream",
     "text": [
      "KNN\n",
      "              precision    recall  f1-score   support\n",
      "\n",
      "   malignant       0.95      0.96      0.95     38930\n",
      "      benign       0.96      0.95      0.95     39037\n",
      "\n",
      "    accuracy                           0.95     77967\n",
      "   macro avg       0.95      0.95      0.95     77967\n",
      "weighted avg       0.95      0.95      0.95     77967\n",
      "\n",
      "    fit_time  score_time  test_accuracy  test_precision_weighted  \\\n",
      "0  11.159262    0.044634       0.931895                 0.932012   \n",
      "1  10.771967    0.064392       0.931894                 0.932090   \n",
      "2  11.144813    0.042830       0.933283                 0.933365   \n",
      "3  11.193270    0.042873       0.931894                 0.932003   \n",
      "4  10.924104    0.042465       0.930654                 0.930778   \n",
      "5   0.119890   19.691909       0.953892                 0.953982   \n",
      "6   0.111997   19.828768       0.954639                 0.954785   \n",
      "7   0.112601   19.862383       0.955173                 0.955268   \n",
      "8   0.111783   19.899881       0.953848                 0.953981   \n",
      "9   0.111965   19.926826       0.954339                 0.954507   \n",
      "\n",
      "   test_recall_weighted  test_f1_weighted  test_roc_auc   model  \n",
      "0              0.931895          0.931891      0.979847  LogReg  \n",
      "1              0.931894          0.931885      0.979285  LogReg  \n",
      "2              0.933283          0.933279      0.979144  LogReg  \n",
      "3              0.931894          0.931885      0.979510  LogReg  \n",
      "4              0.930654          0.930649      0.979245  LogReg  \n",
      "5              0.953892          0.953890      0.982242     KNN  \n",
      "6              0.954639          0.954635      0.983163     KNN  \n",
      "7              0.955173          0.955170      0.982536     KNN  \n",
      "8              0.953848          0.953841      0.982541     KNN  \n",
      "9              0.954339          0.954335      0.982847     KNN  \n"
     ]
    },
    {
     "name": "stdout",
     "output_type": "stream",
     "text": [
      "SVM\n",
      "              precision    recall  f1-score   support\n",
      "\n",
      "   malignant       0.94      0.96      0.95     38930\n",
      "      benign       0.96      0.94      0.95     39037\n",
      "\n",
      "    accuracy                           0.95     77967\n",
      "   macro avg       0.95      0.95      0.95     77967\n",
      "weighted avg       0.95      0.95      0.95     77967\n",
      "\n",
      "       fit_time  score_time  test_accuracy  test_precision_weighted  \\\n",
      "0     11.159262    0.044634       0.931895                 0.932012   \n",
      "1     10.771967    0.064392       0.931894                 0.932090   \n",
      "2     11.144813    0.042830       0.933283                 0.933365   \n",
      "3     11.193270    0.042873       0.931894                 0.932003   \n",
      "4     10.924104    0.042465       0.930654                 0.930778   \n",
      "5      0.119890   19.691909       0.953892                 0.953982   \n",
      "6      0.111997   19.828768       0.954639                 0.954785   \n",
      "7      0.112601   19.862383       0.955173                 0.955268   \n",
      "8      0.111783   19.899881       0.953848                 0.953981   \n",
      "9      0.111965   19.926826       0.954339                 0.954507   \n",
      "10  1823.464101  476.925595       0.948740                 0.948831   \n",
      "11  1879.822875  478.374915       0.948632                 0.948763   \n",
      "12  1785.166239  457.335081       0.948568                 0.948633   \n",
      "13  1825.835129  460.785740       0.946708                 0.946864   \n",
      "14  1798.745517  460.543810       0.947798                 0.947938   \n",
      "\n",
      "    test_recall_weighted  test_f1_weighted  test_roc_auc   model  \n",
      "0               0.931895          0.931891      0.979847  LogReg  \n",
      "1               0.931894          0.931885      0.979285  LogReg  \n",
      "2               0.933283          0.933279      0.979144  LogReg  \n",
      "3               0.931894          0.931885      0.979510  LogReg  \n",
      "4               0.930654          0.930649      0.979245  LogReg  \n",
      "5               0.953892          0.953890      0.982242     KNN  \n",
      "6               0.954639          0.954635      0.983163     KNN  \n",
      "7               0.955173          0.955170      0.982536     KNN  \n",
      "8               0.953848          0.953841      0.982541     KNN  \n",
      "9               0.954339          0.954335      0.982847     KNN  \n",
      "10              0.948740          0.948738      0.981146     SVM  \n",
      "11              0.948632          0.948628      0.982169     SVM  \n",
      "12              0.948568          0.948565      0.981869     SVM  \n",
      "13              0.946708          0.946699      0.980554     SVM  \n",
      "14              0.947798          0.947794      0.980517     SVM  \n"
     ]
    },
    {
     "name": "stdout",
     "output_type": "stream",
     "text": [
      "GNB\n",
      "              precision    recall  f1-score   support\n",
      "\n",
      "   malignant       0.87      0.97      0.92     38930\n",
      "      benign       0.97      0.85      0.91     39037\n",
      "\n",
      "    accuracy                           0.91     77967\n",
      "   macro avg       0.92      0.91      0.91     77967\n",
      "weighted avg       0.92      0.91      0.91     77967\n",
      "\n",
      "       fit_time  score_time  test_accuracy  test_precision_weighted  \\\n",
      "0     11.159262    0.044634       0.931895                 0.932012   \n",
      "1     10.771967    0.064392       0.931894                 0.932090   \n",
      "2     11.144813    0.042830       0.933283                 0.933365   \n",
      "3     11.193270    0.042873       0.931894                 0.932003   \n",
      "4     10.924104    0.042465       0.930654                 0.930778   \n",
      "5      0.119890   19.691909       0.953892                 0.953982   \n",
      "6      0.111997   19.828768       0.954639                 0.954785   \n",
      "7      0.112601   19.862383       0.955173                 0.955268   \n",
      "8      0.111783   19.899881       0.953848                 0.953981   \n",
      "9      0.111965   19.926826       0.954339                 0.954507   \n",
      "10  1823.464101  476.925595       0.948740                 0.948831   \n",
      "11  1879.822875  478.374915       0.948632                 0.948763   \n",
      "12  1785.166239  457.335081       0.948568                 0.948633   \n",
      "13  1825.835129  460.785740       0.946708                 0.946864   \n",
      "14  1798.745517  460.543810       0.947798                 0.947938   \n",
      "15     0.520067    0.220251       0.912999                 0.918855   \n",
      "16     0.519665    0.220678       0.912591                 0.918463   \n",
      "17     0.519998    0.220189       0.914579                 0.919657   \n",
      "18     0.519842    0.220176       0.913916                 0.919498   \n",
      "19     0.518999    0.219475       0.915113                 0.920795   \n",
      "\n",
      "    test_recall_weighted  test_f1_weighted  test_roc_auc   model  \n",
      "0               0.931895          0.931891      0.979847  LogReg  \n",
      "1               0.931894          0.931885      0.979285  LogReg  \n",
      "2               0.933283          0.933279      0.979144  LogReg  \n",
      "3               0.931894          0.931885      0.979510  LogReg  \n",
      "4               0.930654          0.930649      0.979245  LogReg  \n",
      "5               0.953892          0.953890      0.982242     KNN  \n",
      "6               0.954639          0.954635      0.983163     KNN  \n",
      "7               0.955173          0.955170      0.982536     KNN  \n",
      "8               0.953848          0.953841      0.982541     KNN  \n",
      "9               0.954339          0.954335      0.982847     KNN  \n",
      "10              0.948740          0.948738      0.981146     SVM  \n",
      "11              0.948632          0.948628      0.982169     SVM  \n",
      "12              0.948568          0.948565      0.981869     SVM  \n",
      "13              0.946708          0.946699      0.980554     SVM  \n",
      "14              0.947798          0.947794      0.980517     SVM  \n",
      "15              0.912999          0.912698      0.948545     GNB  \n",
      "16              0.912591          0.912277      0.945837     GNB  \n",
      "17              0.914579          0.914307      0.947404     GNB  \n",
      "18              0.913916          0.913584      0.948365     GNB  \n",
      "19              0.915113          0.914823      0.948073     GNB  \n",
      "16479.85551866144\n"
     ]
    }
   ],
   "source": [
    "## S4: Fully compromised (All)\n",
    "\n",
    "\n",
    "df_malicious = pd.concat([df1,df2,df3,df4,df5,df6,df7,df32,df33,df34,df35])\n",
    "df_benign = pd.concat([df8,df13,df18,df20,df21,df22])\n",
    "\n",
    "print(\"malicious: {}\".format(len(df_malicious)))\n",
    "print(\"benign: {}\".format(len(df_benign)))\n",
    "\n",
    "print(\"{} NAN in malicious!\".format(len(df_malicious[df_malicious.isna().any(axis=1)])))\n",
    "print(\"{} NAN in benign!\".format(len(df_benign[df_benign.isna().any(axis=1)])))\n",
    "\n",
    "df_malicious = df_malicious.dropna()\n",
    "df_benign = df_benign.dropna()\n",
    "\n",
    "print(\"After droppping NAN rows: \")\n",
    "print(\"malicious: {}\".format(len(df_malicious)))\n",
    "print(\"benign: {}\".format(len(df_benign)))\n",
    "\n",
    "\n",
    "start = timer()\n",
    "\n",
    "results_all_combined_s0 = run_process(df_malicious,df_benign,df_results)\n",
    "\n",
    "end = timer()\n",
    "print(end - start)\n",
    "\n",
    "\n"
   ]
  },
  {
   "cell_type": "code",
   "execution_count": 19,
   "id": "pEkI6tEs3z2S",
   "metadata": {
    "execution": {
     "iopub.execute_input": "2025-08-02T18:30:49.894829Z",
     "iopub.status.busy": "2025-08-02T18:30:49.894678Z",
     "iopub.status.idle": "2025-08-02T18:38:13.206077Z",
     "shell.execute_reply": "2025-08-02T18:38:13.205424Z"
    },
    "id": "pEkI6tEs3z2S",
    "outputId": "eae3a363-f840-4395-a757-ddae37d7d8b8",
    "scrolled": false
   },
   "outputs": [
    {
     "name": "stdout",
     "output_type": "stream",
     "text": [
      "malicious: 247143\n",
      "benign: 246853\n",
      "0 NAN in malicious!\n",
      "0 NAN in benign!\n"
     ]
    },
    {
     "name": "stdout",
     "output_type": "stream",
     "text": [
      "After droppping NAN rows: \n",
      "malicious: 247143\n",
      "benign: 246853\n"
     ]
    },
    {
     "name": "stderr",
     "output_type": "stream",
     "text": [
      "\r",
      "Feature Extraction:   0%|          | 0/160 [00:00<?, ?it/s]"
     ]
    },
    {
     "name": "stderr",
     "output_type": "stream",
     "text": [
      "\r",
      "Feature Extraction:   1%|          | 1/160 [00:12<32:28, 12.26s/it]"
     ]
    },
    {
     "name": "stderr",
     "output_type": "stream",
     "text": [
      "\r",
      "Feature Extraction:   1%|▏         | 2/160 [00:12<13:50,  5.26s/it]"
     ]
    },
    {
     "name": "stderr",
     "output_type": "stream",
     "text": [
      "\r",
      "Feature Extraction:   2%|▏         | 3/160 [00:12<07:42,  2.94s/it]"
     ]
    },
    {
     "name": "stderr",
     "output_type": "stream",
     "text": [
      "\r",
      "Feature Extraction:   2%|▎         | 4/160 [00:13<04:50,  1.86s/it]"
     ]
    },
    {
     "name": "stderr",
     "output_type": "stream",
     "text": [
      "\r",
      "Feature Extraction:   3%|▎         | 5/160 [00:13<03:14,  1.26s/it]"
     ]
    },
    {
     "name": "stderr",
     "output_type": "stream",
     "text": [
      "\r",
      "Feature Extraction:   4%|▍         | 6/160 [00:13<02:19,  1.10it/s]"
     ]
    },
    {
     "name": "stderr",
     "output_type": "stream",
     "text": [
      "\r",
      "Feature Extraction:   4%|▍         | 7/160 [00:13<01:42,  1.50it/s]"
     ]
    },
    {
     "name": "stderr",
     "output_type": "stream",
     "text": [
      "\r",
      "Feature Extraction:   6%|▌         | 9/160 [00:13<01:00,  2.51it/s]"
     ]
    },
    {
     "name": "stderr",
     "output_type": "stream",
     "text": [
      "\r",
      "Feature Extraction:   6%|▋         | 10/160 [00:13<00:51,  2.94it/s]"
     ]
    },
    {
     "name": "stderr",
     "output_type": "stream",
     "text": [
      "\r",
      "Feature Extraction:   7%|▋         | 11/160 [00:14<00:42,  3.52it/s]"
     ]
    },
    {
     "name": "stderr",
     "output_type": "stream",
     "text": [
      "\r",
      "Feature Extraction:   8%|▊         | 13/160 [00:14<00:35,  4.16it/s]"
     ]
    },
    {
     "name": "stderr",
     "output_type": "stream",
     "text": [
      "\r",
      "Feature Extraction:   9%|▉         | 14/160 [00:14<00:31,  4.60it/s]"
     ]
    },
    {
     "name": "stderr",
     "output_type": "stream",
     "text": [
      "\r",
      "Feature Extraction:   9%|▉         | 15/160 [00:14<00:28,  5.12it/s]"
     ]
    },
    {
     "name": "stderr",
     "output_type": "stream",
     "text": [
      "\r",
      "Feature Extraction:  10%|█         | 16/160 [00:14<00:25,  5.61it/s]"
     ]
    },
    {
     "name": "stderr",
     "output_type": "stream",
     "text": [
      "\r",
      "Feature Extraction:  11%|█         | 17/160 [00:15<00:23,  6.04it/s]"
     ]
    },
    {
     "name": "stderr",
     "output_type": "stream",
     "text": [
      "\r",
      "Feature Extraction:  11%|█▏        | 18/160 [00:15<00:22,  6.37it/s]"
     ]
    },
    {
     "name": "stderr",
     "output_type": "stream",
     "text": [
      "\r",
      "Feature Extraction:  12%|█▏        | 19/160 [00:15<00:21,  6.62it/s]"
     ]
    },
    {
     "name": "stderr",
     "output_type": "stream",
     "text": [
      "\r",
      "Feature Extraction:  12%|█▎        | 20/160 [00:15<00:21,  6.63it/s]"
     ]
    },
    {
     "name": "stderr",
     "output_type": "stream",
     "text": [
      "\r",
      "Feature Extraction:  13%|█▎        | 21/160 [00:15<00:20,  6.89it/s]"
     ]
    },
    {
     "name": "stderr",
     "output_type": "stream",
     "text": [
      "\r",
      "Feature Extraction:  14%|█▍        | 22/160 [00:15<00:19,  6.96it/s]"
     ]
    },
    {
     "name": "stderr",
     "output_type": "stream",
     "text": [
      "\r",
      "Feature Extraction:  14%|█▍        | 23/160 [00:15<00:19,  7.05it/s]"
     ]
    },
    {
     "name": "stderr",
     "output_type": "stream",
     "text": [
      "\r",
      "Feature Extraction:  15%|█▌        | 24/160 [00:16<00:20,  6.74it/s]"
     ]
    },
    {
     "name": "stderr",
     "output_type": "stream",
     "text": [
      "\r",
      "Feature Extraction:  16%|█▌        | 25/160 [00:16<00:18,  7.20it/s]"
     ]
    },
    {
     "name": "stderr",
     "output_type": "stream",
     "text": [
      "\r",
      "Feature Extraction:  16%|█▋        | 26/160 [00:16<00:17,  7.67it/s]"
     ]
    },
    {
     "name": "stderr",
     "output_type": "stream",
     "text": [
      "\r",
      "Feature Extraction:  17%|█▋        | 27/160 [00:16<00:18,  7.24it/s]"
     ]
    },
    {
     "name": "stderr",
     "output_type": "stream",
     "text": [
      "\r",
      "Feature Extraction:  18%|█▊        | 28/160 [00:16<00:22,  5.94it/s]"
     ]
    },
    {
     "name": "stderr",
     "output_type": "stream",
     "text": [
      "\r",
      "Feature Extraction:  19%|█▉        | 30/160 [00:16<00:18,  7.02it/s]"
     ]
    },
    {
     "name": "stderr",
     "output_type": "stream",
     "text": [
      "\r",
      "Feature Extraction:  19%|█▉        | 31/160 [00:17<00:31,  4.13it/s]"
     ]
    },
    {
     "name": "stderr",
     "output_type": "stream",
     "text": [
      "\r",
      "Feature Extraction:  20%|██        | 32/160 [00:17<00:30,  4.25it/s]"
     ]
    },
    {
     "name": "stderr",
     "output_type": "stream",
     "text": [
      "\r",
      "Feature Extraction:  21%|██        | 33/160 [00:24<04:12,  1.99s/it]"
     ]
    },
    {
     "name": "stderr",
     "output_type": "stream",
     "text": [
      "\r",
      "Feature Extraction:  21%|██▏       | 34/160 [00:24<03:05,  1.48s/it]"
     ]
    },
    {
     "name": "stderr",
     "output_type": "stream",
     "text": [
      "\r",
      "Feature Extraction:  22%|██▏       | 35/160 [00:24<02:23,  1.15s/it]"
     ]
    },
    {
     "name": "stderr",
     "output_type": "stream",
     "text": [
      "\r",
      "Feature Extraction:  22%|██▎       | 36/160 [00:24<01:47,  1.16it/s]"
     ]
    },
    {
     "name": "stderr",
     "output_type": "stream",
     "text": [
      "\r",
      "Feature Extraction:  23%|██▎       | 37/160 [00:25<01:27,  1.41it/s]"
     ]
    },
    {
     "name": "stderr",
     "output_type": "stream",
     "text": [
      "\r",
      "Feature Extraction:  24%|██▍       | 38/160 [00:25<01:07,  1.81it/s]"
     ]
    },
    {
     "name": "stderr",
     "output_type": "stream",
     "text": [
      "\r",
      "Feature Extraction:  24%|██▍       | 39/160 [00:25<00:53,  2.24it/s]"
     ]
    },
    {
     "name": "stderr",
     "output_type": "stream",
     "text": [
      "\r",
      "Feature Extraction:  25%|██▌       | 40/160 [00:25<00:43,  2.77it/s]"
     ]
    },
    {
     "name": "stderr",
     "output_type": "stream",
     "text": [
      "\r",
      "Feature Extraction:  26%|██▌       | 41/160 [00:25<00:36,  3.29it/s]"
     ]
    },
    {
     "name": "stderr",
     "output_type": "stream",
     "text": [
      "\r",
      "Feature Extraction:  26%|██▋       | 42/160 [00:26<00:29,  4.02it/s]"
     ]
    },
    {
     "name": "stderr",
     "output_type": "stream",
     "text": [
      "\r",
      "Feature Extraction:  27%|██▋       | 43/160 [00:26<00:35,  3.31it/s]"
     ]
    },
    {
     "name": "stderr",
     "output_type": "stream",
     "text": [
      "\r",
      "Feature Extraction:  28%|██▊       | 44/160 [00:26<00:29,  3.90it/s]"
     ]
    },
    {
     "name": "stderr",
     "output_type": "stream",
     "text": [
      "\r",
      "Feature Extraction:  28%|██▊       | 45/160 [00:26<00:26,  4.37it/s]"
     ]
    },
    {
     "name": "stderr",
     "output_type": "stream",
     "text": [
      "\r",
      "Feature Extraction:  29%|██▉       | 46/160 [00:27<00:40,  2.79it/s]"
     ]
    },
    {
     "name": "stderr",
     "output_type": "stream",
     "text": [
      "\r",
      "Feature Extraction:  29%|██▉       | 47/160 [00:27<00:34,  3.31it/s]"
     ]
    },
    {
     "name": "stderr",
     "output_type": "stream",
     "text": [
      "\r",
      "Feature Extraction:  30%|███       | 48/160 [00:27<00:28,  3.97it/s]"
     ]
    },
    {
     "name": "stderr",
     "output_type": "stream",
     "text": [
      "\r",
      "Feature Extraction:  31%|███       | 49/160 [00:28<00:37,  2.96it/s]"
     ]
    },
    {
     "name": "stderr",
     "output_type": "stream",
     "text": [
      "\r",
      "Feature Extraction:  32%|███▏      | 51/160 [00:28<00:35,  3.06it/s]"
     ]
    },
    {
     "name": "stderr",
     "output_type": "stream",
     "text": [
      "\r",
      "Feature Extraction:  32%|███▎      | 52/160 [00:29<00:30,  3.53it/s]"
     ]
    },
    {
     "name": "stderr",
     "output_type": "stream",
     "text": [
      "\r",
      "Feature Extraction:  34%|███▍      | 54/160 [00:29<00:21,  5.00it/s]"
     ]
    },
    {
     "name": "stderr",
     "output_type": "stream",
     "text": [
      "\r",
      "Feature Extraction:  35%|███▌      | 56/160 [00:29<00:17,  5.82it/s]"
     ]
    },
    {
     "name": "stderr",
     "output_type": "stream",
     "text": [
      "\r",
      "Feature Extraction:  36%|███▌      | 57/160 [00:29<00:16,  6.34it/s]"
     ]
    },
    {
     "name": "stderr",
     "output_type": "stream",
     "text": [
      "\r",
      "Feature Extraction:  36%|███▋      | 58/160 [00:29<00:16,  6.20it/s]"
     ]
    },
    {
     "name": "stderr",
     "output_type": "stream",
     "text": [
      "\r",
      "Feature Extraction:  37%|███▋      | 59/160 [00:30<00:21,  4.70it/s]"
     ]
    },
    {
     "name": "stderr",
     "output_type": "stream",
     "text": [
      "\r",
      "Feature Extraction:  38%|███▊      | 60/160 [00:30<00:19,  5.01it/s]"
     ]
    },
    {
     "name": "stderr",
     "output_type": "stream",
     "text": [
      "\r",
      "Feature Extraction:  39%|███▉      | 62/160 [00:30<00:14,  6.54it/s]"
     ]
    },
    {
     "name": "stderr",
     "output_type": "stream",
     "text": [
      "\r",
      "Feature Extraction:  39%|███▉      | 63/160 [00:30<00:13,  7.00it/s]"
     ]
    },
    {
     "name": "stderr",
     "output_type": "stream",
     "text": [
      "\r",
      "Feature Extraction:  40%|████      | 64/160 [00:31<00:19,  4.81it/s]"
     ]
    },
    {
     "name": "stderr",
     "output_type": "stream",
     "text": [
      "\r",
      "Feature Extraction:  41%|████      | 65/160 [00:37<03:01,  1.91s/it]"
     ]
    },
    {
     "name": "stderr",
     "output_type": "stream",
     "text": [
      "\r",
      "Feature Extraction:  41%|████▏     | 66/160 [00:37<02:14,  1.43s/it]"
     ]
    },
    {
     "name": "stderr",
     "output_type": "stream",
     "text": [
      "\r",
      "Feature Extraction:  42%|████▎     | 68/160 [00:38<01:18,  1.17it/s]"
     ]
    },
    {
     "name": "stderr",
     "output_type": "stream",
     "text": [
      "\r",
      "Feature Extraction:  43%|████▎     | 69/160 [00:38<01:02,  1.46it/s]"
     ]
    },
    {
     "name": "stderr",
     "output_type": "stream",
     "text": [
      "\r",
      "Feature Extraction:  44%|████▍     | 70/160 [00:38<00:48,  1.86it/s]"
     ]
    },
    {
     "name": "stderr",
     "output_type": "stream",
     "text": [
      "\r",
      "Feature Extraction:  44%|████▍     | 71/160 [00:39<00:55,  1.59it/s]"
     ]
    },
    {
     "name": "stderr",
     "output_type": "stream",
     "text": [
      "\r",
      "Feature Extraction:  45%|████▌     | 72/160 [00:39<00:44,  1.96it/s]"
     ]
    },
    {
     "name": "stderr",
     "output_type": "stream",
     "text": [
      "\r",
      "Feature Extraction:  46%|████▌     | 73/160 [00:39<00:35,  2.47it/s]"
     ]
    },
    {
     "name": "stderr",
     "output_type": "stream",
     "text": [
      "\r",
      "Feature Extraction:  46%|████▋     | 74/160 [00:39<00:28,  3.01it/s]"
     ]
    },
    {
     "name": "stderr",
     "output_type": "stream",
     "text": [
      "\r",
      "Feature Extraction:  48%|████▊     | 76/160 [00:39<00:18,  4.49it/s]"
     ]
    },
    {
     "name": "stderr",
     "output_type": "stream",
     "text": [
      "\r",
      "Feature Extraction:  48%|████▊     | 77/160 [00:40<00:22,  3.72it/s]"
     ]
    },
    {
     "name": "stderr",
     "output_type": "stream",
     "text": [
      "\r",
      "Feature Extraction:  49%|████▉     | 78/160 [00:40<00:25,  3.28it/s]"
     ]
    },
    {
     "name": "stderr",
     "output_type": "stream",
     "text": [
      "\r",
      "Feature Extraction:  49%|████▉     | 79/160 [00:40<00:21,  3.82it/s]"
     ]
    },
    {
     "name": "stderr",
     "output_type": "stream",
     "text": [
      "\r",
      "Feature Extraction:  50%|█████     | 80/160 [00:41<00:20,  3.82it/s]"
     ]
    },
    {
     "name": "stderr",
     "output_type": "stream",
     "text": [
      "\r",
      "Feature Extraction:  51%|█████     | 81/160 [00:41<00:19,  4.12it/s]"
     ]
    },
    {
     "name": "stderr",
     "output_type": "stream",
     "text": [
      "\r",
      "Feature Extraction:  51%|█████▏    | 82/160 [00:41<00:22,  3.44it/s]"
     ]
    },
    {
     "name": "stderr",
     "output_type": "stream",
     "text": [
      "\r",
      "Feature Extraction:  52%|█████▏    | 83/160 [00:42<00:30,  2.51it/s]"
     ]
    },
    {
     "name": "stderr",
     "output_type": "stream",
     "text": [
      "\r",
      "Feature Extraction:  52%|█████▎    | 84/160 [00:42<00:27,  2.77it/s]"
     ]
    },
    {
     "name": "stderr",
     "output_type": "stream",
     "text": [
      "\r",
      "Feature Extraction:  53%|█████▎    | 85/160 [00:42<00:24,  3.07it/s]"
     ]
    },
    {
     "name": "stderr",
     "output_type": "stream",
     "text": [
      "\r",
      "Feature Extraction:  54%|█████▍    | 86/160 [00:43<00:19,  3.84it/s]"
     ]
    },
    {
     "name": "stderr",
     "output_type": "stream",
     "text": [
      "\r",
      "Feature Extraction:  54%|█████▍    | 87/160 [00:43<00:15,  4.61it/s]"
     ]
    },
    {
     "name": "stderr",
     "output_type": "stream",
     "text": [
      "\r",
      "Feature Extraction:  56%|█████▌    | 89/160 [00:43<00:11,  6.10it/s]"
     ]
    },
    {
     "name": "stderr",
     "output_type": "stream",
     "text": [
      "\r",
      "Feature Extraction:  56%|█████▋    | 90/160 [00:43<00:11,  6.10it/s]"
     ]
    },
    {
     "name": "stderr",
     "output_type": "stream",
     "text": [
      "\r",
      "Feature Extraction:  57%|█████▋    | 91/160 [00:43<00:10,  6.51it/s]"
     ]
    },
    {
     "name": "stderr",
     "output_type": "stream",
     "text": [
      "\r",
      "Feature Extraction:  57%|█████▊    | 92/160 [00:44<00:19,  3.40it/s]"
     ]
    },
    {
     "name": "stderr",
     "output_type": "stream",
     "text": [
      "\r",
      "Feature Extraction:  58%|█████▊    | 93/160 [00:44<00:19,  3.37it/s]"
     ]
    },
    {
     "name": "stderr",
     "output_type": "stream",
     "text": [
      "\r",
      "Feature Extraction:  59%|█████▉    | 94/160 [00:44<00:16,  4.02it/s]"
     ]
    },
    {
     "name": "stderr",
     "output_type": "stream",
     "text": [
      "\r",
      "Feature Extraction:  59%|█████▉    | 95/160 [00:44<00:13,  4.76it/s]"
     ]
    },
    {
     "name": "stderr",
     "output_type": "stream",
     "text": [
      "\r",
      "Feature Extraction:  60%|██████    | 96/160 [00:44<00:11,  5.62it/s]"
     ]
    },
    {
     "name": "stderr",
     "output_type": "stream",
     "text": [
      "\r",
      "Feature Extraction:  61%|██████    | 97/160 [00:51<02:02,  1.94s/it]"
     ]
    },
    {
     "name": "stderr",
     "output_type": "stream",
     "text": [
      "\r",
      "Feature Extraction:  61%|██████▏   | 98/160 [00:51<01:28,  1.43s/it]"
     ]
    },
    {
     "name": "stderr",
     "output_type": "stream",
     "text": [
      "\r",
      "Feature Extraction:  62%|██████▏   | 99/160 [00:51<01:05,  1.07s/it]"
     ]
    },
    {
     "name": "stderr",
     "output_type": "stream",
     "text": [
      "\r",
      "Feature Extraction:  62%|██████▎   | 100/160 [00:51<00:48,  1.24it/s]"
     ]
    },
    {
     "name": "stderr",
     "output_type": "stream",
     "text": [
      "\r",
      "Feature Extraction:  63%|██████▎   | 101/160 [00:51<00:36,  1.61it/s]"
     ]
    },
    {
     "name": "stderr",
     "output_type": "stream",
     "text": [
      "\r",
      "Feature Extraction:  64%|██████▍   | 102/160 [00:52<00:28,  2.07it/s]"
     ]
    },
    {
     "name": "stderr",
     "output_type": "stream",
     "text": [
      "\r",
      "Feature Extraction:  64%|██████▍   | 103/160 [00:52<00:21,  2.59it/s]"
     ]
    },
    {
     "name": "stderr",
     "output_type": "stream",
     "text": [
      "\r",
      "Feature Extraction:  65%|██████▌   | 104/160 [00:52<00:27,  2.00it/s]"
     ]
    },
    {
     "name": "stderr",
     "output_type": "stream",
     "text": [
      "\r",
      "Feature Extraction:  66%|██████▌   | 105/160 [00:53<00:21,  2.51it/s]"
     ]
    },
    {
     "name": "stderr",
     "output_type": "stream",
     "text": [
      "\r",
      "Feature Extraction:  66%|██████▋   | 106/160 [00:53<00:17,  3.12it/s]"
     ]
    },
    {
     "name": "stderr",
     "output_type": "stream",
     "text": [
      "\r",
      "Feature Extraction:  67%|██████▋   | 107/160 [00:53<00:14,  3.76it/s]"
     ]
    },
    {
     "name": "stderr",
     "output_type": "stream",
     "text": [
      "\r",
      "Feature Extraction:  68%|██████▊   | 108/160 [00:53<00:13,  3.89it/s]"
     ]
    },
    {
     "name": "stderr",
     "output_type": "stream",
     "text": [
      "\r",
      "Feature Extraction:  68%|██████▊   | 109/160 [00:54<00:20,  2.45it/s]"
     ]
    },
    {
     "name": "stderr",
     "output_type": "stream",
     "text": [
      "\r",
      "Feature Extraction:  69%|██████▉   | 111/160 [00:54<00:12,  3.84it/s]"
     ]
    },
    {
     "name": "stderr",
     "output_type": "stream",
     "text": [
      "\r",
      "Feature Extraction:  71%|███████   | 113/160 [00:54<00:09,  5.07it/s]"
     ]
    },
    {
     "name": "stderr",
     "output_type": "stream",
     "text": [
      "\r",
      "Feature Extraction:  71%|███████▏  | 114/160 [00:54<00:08,  5.50it/s]"
     ]
    },
    {
     "name": "stderr",
     "output_type": "stream",
     "text": [
      "\r",
      "Feature Extraction:  72%|███████▏  | 115/160 [00:55<00:13,  3.29it/s]"
     ]
    },
    {
     "name": "stderr",
     "output_type": "stream",
     "text": [
      "\r",
      "Feature Extraction:  72%|███████▎  | 116/160 [00:55<00:11,  3.78it/s]"
     ]
    },
    {
     "name": "stderr",
     "output_type": "stream",
     "text": [
      "\r",
      "Feature Extraction:  73%|███████▎  | 117/160 [00:56<00:11,  3.74it/s]"
     ]
    },
    {
     "name": "stderr",
     "output_type": "stream",
     "text": [
      "\r",
      "Feature Extraction:  74%|███████▍  | 118/160 [00:56<00:09,  4.27it/s]"
     ]
    },
    {
     "name": "stderr",
     "output_type": "stream",
     "text": [
      "\r",
      "Feature Extraction:  74%|███████▍  | 119/160 [00:56<00:09,  4.41it/s]"
     ]
    },
    {
     "name": "stderr",
     "output_type": "stream",
     "text": [
      "\r",
      "Feature Extraction:  75%|███████▌  | 120/160 [00:56<00:10,  3.80it/s]"
     ]
    },
    {
     "name": "stderr",
     "output_type": "stream",
     "text": [
      "\r",
      "Feature Extraction:  76%|███████▌  | 121/160 [00:56<00:09,  4.26it/s]"
     ]
    },
    {
     "name": "stderr",
     "output_type": "stream",
     "text": [
      "\r",
      "Feature Extraction:  76%|███████▋  | 122/160 [00:57<00:10,  3.77it/s]"
     ]
    },
    {
     "name": "stderr",
     "output_type": "stream",
     "text": [
      "\r",
      "Feature Extraction:  77%|███████▋  | 123/160 [00:58<00:15,  2.45it/s]"
     ]
    },
    {
     "name": "stderr",
     "output_type": "stream",
     "text": [
      "\r",
      "Feature Extraction:  78%|███████▊  | 125/160 [00:58<00:09,  3.78it/s]"
     ]
    },
    {
     "name": "stderr",
     "output_type": "stream",
     "text": [
      "\r",
      "Feature Extraction:  79%|███████▉  | 126/160 [00:58<00:07,  4.41it/s]"
     ]
    },
    {
     "name": "stderr",
     "output_type": "stream",
     "text": [
      "\r",
      "Feature Extraction:  79%|███████▉  | 127/160 [00:58<00:06,  4.91it/s]"
     ]
    },
    {
     "name": "stderr",
     "output_type": "stream",
     "text": [
      "\r",
      "Feature Extraction:  80%|████████  | 128/160 [00:58<00:07,  4.52it/s]"
     ]
    },
    {
     "name": "stderr",
     "output_type": "stream",
     "text": [
      "\r",
      "Feature Extraction:  81%|████████  | 129/160 [01:04<00:53,  1.72s/it]"
     ]
    },
    {
     "name": "stderr",
     "output_type": "stream",
     "text": [
      "\r",
      "Feature Extraction:  81%|████████▏ | 130/160 [01:04<00:37,  1.26s/it]"
     ]
    },
    {
     "name": "stderr",
     "output_type": "stream",
     "text": [
      "\r",
      "Feature Extraction:  82%|████████▏ | 131/160 [01:04<00:29,  1.01s/it]"
     ]
    },
    {
     "name": "stderr",
     "output_type": "stream",
     "text": [
      "\r",
      "Feature Extraction:  82%|████████▎ | 132/160 [01:04<00:21,  1.33it/s]"
     ]
    },
    {
     "name": "stderr",
     "output_type": "stream",
     "text": [
      "\r",
      "Feature Extraction:  83%|████████▎ | 133/160 [01:05<00:15,  1.79it/s]"
     ]
    },
    {
     "name": "stderr",
     "output_type": "stream",
     "text": [
      "\r",
      "Feature Extraction:  84%|████████▍ | 135/160 [01:05<00:08,  2.95it/s]"
     ]
    },
    {
     "name": "stderr",
     "output_type": "stream",
     "text": [
      "\r",
      "Feature Extraction:  85%|████████▌ | 136/160 [01:05<00:07,  3.41it/s]"
     ]
    },
    {
     "name": "stderr",
     "output_type": "stream",
     "text": [
      "\r",
      "Feature Extraction:  86%|████████▌ | 137/160 [01:05<00:07,  2.94it/s]"
     ]
    },
    {
     "name": "stderr",
     "output_type": "stream",
     "text": [
      "\r",
      "Feature Extraction:  87%|████████▋ | 139/160 [01:06<00:05,  3.92it/s]"
     ]
    },
    {
     "name": "stderr",
     "output_type": "stream",
     "text": [
      "\r",
      "Feature Extraction:  88%|████████▊ | 140/160 [01:06<00:04,  4.07it/s]"
     ]
    },
    {
     "name": "stderr",
     "output_type": "stream",
     "text": [
      "\r",
      "Feature Extraction:  88%|████████▊ | 141/160 [01:06<00:04,  4.08it/s]"
     ]
    },
    {
     "name": "stderr",
     "output_type": "stream",
     "text": [
      "\r",
      "Feature Extraction:  89%|████████▉ | 142/160 [01:06<00:04,  4.45it/s]"
     ]
    },
    {
     "name": "stderr",
     "output_type": "stream",
     "text": [
      "\r",
      "Feature Extraction:  90%|█████████ | 144/160 [01:07<00:03,  5.07it/s]"
     ]
    },
    {
     "name": "stderr",
     "output_type": "stream",
     "text": [
      "\r",
      "Feature Extraction:  91%|█████████ | 145/160 [01:07<00:03,  4.78it/s]"
     ]
    },
    {
     "name": "stderr",
     "output_type": "stream",
     "text": [
      "\r",
      "Feature Extraction:  91%|█████████▏| 146/160 [01:07<00:02,  5.44it/s]"
     ]
    },
    {
     "name": "stderr",
     "output_type": "stream",
     "text": [
      "\r",
      "Feature Extraction:  92%|█████████▏| 147/160 [01:07<00:02,  5.00it/s]"
     ]
    },
    {
     "name": "stderr",
     "output_type": "stream",
     "text": [
      "\r",
      "Feature Extraction:  92%|█████████▎| 148/160 [01:07<00:02,  4.69it/s]"
     ]
    },
    {
     "name": "stderr",
     "output_type": "stream",
     "text": [
      "\r",
      "Feature Extraction:  93%|█████████▎| 149/160 [01:08<00:02,  4.45it/s]"
     ]
    },
    {
     "name": "stderr",
     "output_type": "stream",
     "text": [
      "\r",
      "Feature Extraction:  94%|█████████▍| 151/160 [01:08<00:01,  6.68it/s]"
     ]
    },
    {
     "name": "stderr",
     "output_type": "stream",
     "text": [
      "\r",
      "Feature Extraction:  96%|█████████▌| 153/160 [01:08<00:00,  7.61it/s]"
     ]
    },
    {
     "name": "stderr",
     "output_type": "stream",
     "text": [
      "\r",
      "Feature Extraction:  96%|█████████▋| 154/160 [01:08<00:00,  7.98it/s]"
     ]
    },
    {
     "name": "stderr",
     "output_type": "stream",
     "text": [
      "\r",
      "Feature Extraction:  98%|█████████▊| 156/160 [01:08<00:00,  8.82it/s]"
     ]
    },
    {
     "name": "stderr",
     "output_type": "stream",
     "text": [
      "\r",
      "Feature Extraction:  98%|█████████▊| 157/160 [01:08<00:00,  8.18it/s]"
     ]
    },
    {
     "name": "stderr",
     "output_type": "stream",
     "text": [
      "\r",
      "Feature Extraction:  99%|█████████▉| 159/160 [01:09<00:00, 10.51it/s]"
     ]
    },
    {
     "name": "stderr",
     "output_type": "stream",
     "text": [
      "\r",
      "Feature Extraction: 100%|██████████| 160/160 [01:09<00:00,  2.31it/s]"
     ]
    },
    {
     "name": "stderr",
     "output_type": "stream",
     "text": [
      "\n"
     ]
    },
    {
     "name": "stderr",
     "output_type": "stream",
     "text": [
      "\r",
      "Feature Extraction:   0%|          | 0/160 [00:00<?, ?it/s]"
     ]
    },
    {
     "name": "stderr",
     "output_type": "stream",
     "text": [
      "\r",
      "Feature Extraction:   1%|          | 1/160 [00:12<34:24, 12.99s/it]"
     ]
    },
    {
     "name": "stderr",
     "output_type": "stream",
     "text": [
      "\r",
      "Feature Extraction:   1%|▏         | 2/160 [00:13<14:38,  5.56s/it]"
     ]
    },
    {
     "name": "stderr",
     "output_type": "stream",
     "text": [
      "\r",
      "Feature Extraction:   2%|▏         | 3/160 [00:13<08:05,  3.09s/it]"
     ]
    },
    {
     "name": "stderr",
     "output_type": "stream",
     "text": [
      "\r",
      "Feature Extraction:   2%|▎         | 4/160 [00:13<05:00,  1.93s/it]"
     ]
    },
    {
     "name": "stderr",
     "output_type": "stream",
     "text": [
      "\r",
      "Feature Extraction:   3%|▎         | 5/160 [00:13<03:19,  1.29s/it]"
     ]
    },
    {
     "name": "stderr",
     "output_type": "stream",
     "text": [
      "\r",
      "Feature Extraction:   4%|▍         | 7/160 [00:14<01:46,  1.44it/s]"
     ]
    },
    {
     "name": "stderr",
     "output_type": "stream",
     "text": [
      "\r",
      "Feature Extraction:   5%|▌         | 8/160 [00:14<01:23,  1.82it/s]"
     ]
    },
    {
     "name": "stderr",
     "output_type": "stream",
     "text": [
      "\r",
      "Feature Extraction:   6%|▌         | 9/160 [00:14<01:04,  2.35it/s]"
     ]
    },
    {
     "name": "stderr",
     "output_type": "stream",
     "text": [
      "\r",
      "Feature Extraction:   6%|▋         | 10/160 [00:14<00:51,  2.93it/s]"
     ]
    },
    {
     "name": "stderr",
     "output_type": "stream",
     "text": [
      "\r",
      "Feature Extraction:   7%|▋         | 11/160 [00:14<00:41,  3.62it/s]"
     ]
    },
    {
     "name": "stderr",
     "output_type": "stream",
     "text": [
      "\r",
      "Feature Extraction:   8%|▊         | 12/160 [00:14<00:34,  4.32it/s]"
     ]
    },
    {
     "name": "stderr",
     "output_type": "stream",
     "text": [
      "\r",
      "Feature Extraction:   8%|▊         | 13/160 [00:14<00:30,  4.87it/s]"
     ]
    },
    {
     "name": "stderr",
     "output_type": "stream",
     "text": [
      "\r",
      "Feature Extraction:   9%|▉         | 14/160 [00:14<00:27,  5.37it/s]"
     ]
    },
    {
     "name": "stderr",
     "output_type": "stream",
     "text": [
      "\r",
      "Feature Extraction:  10%|█         | 16/160 [00:15<00:20,  7.19it/s]"
     ]
    },
    {
     "name": "stderr",
     "output_type": "stream",
     "text": [
      "\r",
      "Feature Extraction:  11%|█         | 17/160 [00:15<00:18,  7.58it/s]"
     ]
    },
    {
     "name": "stderr",
     "output_type": "stream",
     "text": [
      "\r",
      "Feature Extraction:  11%|█▏        | 18/160 [00:15<00:19,  7.40it/s]"
     ]
    },
    {
     "name": "stderr",
     "output_type": "stream",
     "text": [
      "\r",
      "Feature Extraction:  12%|█▏        | 19/160 [00:15<00:18,  7.48it/s]"
     ]
    },
    {
     "name": "stderr",
     "output_type": "stream",
     "text": [
      "\r",
      "Feature Extraction:  12%|█▎        | 20/160 [00:15<00:17,  7.91it/s]"
     ]
    },
    {
     "name": "stderr",
     "output_type": "stream",
     "text": [
      "\r",
      "Feature Extraction:  13%|█▎        | 21/160 [00:15<00:18,  7.50it/s]"
     ]
    },
    {
     "name": "stderr",
     "output_type": "stream",
     "text": [
      "\r",
      "Feature Extraction:  14%|█▍        | 22/160 [00:16<00:27,  4.98it/s]"
     ]
    },
    {
     "name": "stderr",
     "output_type": "stream",
     "text": [
      "\r",
      "Feature Extraction:  14%|█▍        | 23/160 [00:16<00:24,  5.49it/s]"
     ]
    },
    {
     "name": "stderr",
     "output_type": "stream",
     "text": [
      "\r",
      "Feature Extraction:  15%|█▌        | 24/160 [00:16<00:22,  5.96it/s]"
     ]
    },
    {
     "name": "stderr",
     "output_type": "stream",
     "text": [
      "\r",
      "Feature Extraction:  16%|█▌        | 25/160 [00:16<00:21,  6.40it/s]"
     ]
    },
    {
     "name": "stderr",
     "output_type": "stream",
     "text": [
      "\r",
      "Feature Extraction:  16%|█▋        | 26/160 [00:16<00:21,  6.19it/s]"
     ]
    },
    {
     "name": "stderr",
     "output_type": "stream",
     "text": [
      "\r",
      "Feature Extraction:  17%|█▋        | 27/160 [00:16<00:20,  6.54it/s]"
     ]
    },
    {
     "name": "stderr",
     "output_type": "stream",
     "text": [
      "\r",
      "Feature Extraction:  18%|█▊        | 28/160 [00:16<00:19,  6.91it/s]"
     ]
    },
    {
     "name": "stderr",
     "output_type": "stream",
     "text": [
      "\r",
      "Feature Extraction:  18%|█▊        | 29/160 [00:17<00:18,  6.95it/s]"
     ]
    },
    {
     "name": "stderr",
     "output_type": "stream",
     "text": [
      "\r",
      "Feature Extraction:  19%|█▉        | 30/160 [00:17<00:20,  6.43it/s]"
     ]
    },
    {
     "name": "stderr",
     "output_type": "stream",
     "text": [
      "\r",
      "Feature Extraction:  19%|█▉        | 31/160 [00:17<00:23,  5.45it/s]"
     ]
    },
    {
     "name": "stderr",
     "output_type": "stream",
     "text": [
      "\r",
      "Feature Extraction:  20%|██        | 32/160 [00:17<00:25,  4.97it/s]"
     ]
    },
    {
     "name": "stderr",
     "output_type": "stream",
     "text": [
      "\r",
      "Feature Extraction:  21%|██        | 33/160 [00:25<04:56,  2.34s/it]"
     ]
    },
    {
     "name": "stderr",
     "output_type": "stream",
     "text": [
      "\r",
      "Feature Extraction:  21%|██▏       | 34/160 [00:25<03:40,  1.75s/it]"
     ]
    },
    {
     "name": "stderr",
     "output_type": "stream",
     "text": [
      "\r",
      "Feature Extraction:  22%|██▏       | 35/160 [00:25<02:40,  1.29s/it]"
     ]
    },
    {
     "name": "stderr",
     "output_type": "stream",
     "text": [
      "\r",
      "Feature Extraction:  22%|██▎       | 36/160 [00:25<02:03,  1.00it/s]"
     ]
    },
    {
     "name": "stderr",
     "output_type": "stream",
     "text": [
      "\r",
      "Feature Extraction:  23%|██▎       | 37/160 [00:26<01:36,  1.27it/s]"
     ]
    },
    {
     "name": "stderr",
     "output_type": "stream",
     "text": [
      "\r",
      "Feature Extraction:  24%|██▍       | 38/160 [00:26<01:21,  1.49it/s]"
     ]
    },
    {
     "name": "stderr",
     "output_type": "stream",
     "text": [
      "\r",
      "Feature Extraction:  24%|██▍       | 39/160 [00:27<01:11,  1.69it/s]"
     ]
    },
    {
     "name": "stderr",
     "output_type": "stream",
     "text": [
      "\r",
      "Feature Extraction:  25%|██▌       | 40/160 [00:27<00:55,  2.17it/s]"
     ]
    },
    {
     "name": "stderr",
     "output_type": "stream",
     "text": [
      "\r",
      "Feature Extraction:  26%|██▌       | 41/160 [00:27<00:41,  2.84it/s]"
     ]
    },
    {
     "name": "stderr",
     "output_type": "stream",
     "text": [
      "\r",
      "Feature Extraction:  26%|██▋       | 42/160 [00:27<00:33,  3.52it/s]"
     ]
    },
    {
     "name": "stderr",
     "output_type": "stream",
     "text": [
      "\r",
      "Feature Extraction:  27%|██▋       | 43/160 [00:27<00:39,  2.99it/s]"
     ]
    },
    {
     "name": "stderr",
     "output_type": "stream",
     "text": [
      "\r",
      "Feature Extraction:  28%|██▊       | 45/160 [00:28<00:26,  4.34it/s]"
     ]
    },
    {
     "name": "stderr",
     "output_type": "stream",
     "text": [
      "\r",
      "Feature Extraction:  29%|██▉       | 46/160 [00:28<00:24,  4.69it/s]"
     ]
    },
    {
     "name": "stderr",
     "output_type": "stream",
     "text": [
      "\r",
      "Feature Extraction:  29%|██▉       | 47/160 [00:28<00:26,  4.24it/s]"
     ]
    },
    {
     "name": "stderr",
     "output_type": "stream",
     "text": [
      "\r",
      "Feature Extraction:  30%|███       | 48/160 [00:28<00:24,  4.54it/s]"
     ]
    },
    {
     "name": "stderr",
     "output_type": "stream",
     "text": [
      "\r",
      "Feature Extraction:  31%|███       | 49/160 [00:28<00:21,  5.24it/s]"
     ]
    },
    {
     "name": "stderr",
     "output_type": "stream",
     "text": [
      "\r",
      "Feature Extraction:  31%|███▏      | 50/160 [00:29<00:23,  4.60it/s]"
     ]
    },
    {
     "name": "stderr",
     "output_type": "stream",
     "text": [
      "\r",
      "Feature Extraction:  32%|███▏      | 51/160 [00:29<00:25,  4.23it/s]"
     ]
    },
    {
     "name": "stderr",
     "output_type": "stream",
     "text": [
      "\r",
      "Feature Extraction:  32%|███▎      | 52/160 [00:29<00:24,  4.37it/s]"
     ]
    },
    {
     "name": "stderr",
     "output_type": "stream",
     "text": [
      "\r",
      "Feature Extraction:  34%|███▍      | 54/160 [00:29<00:20,  5.27it/s]"
     ]
    },
    {
     "name": "stderr",
     "output_type": "stream",
     "text": [
      "\r",
      "Feature Extraction:  34%|███▍      | 55/160 [00:30<00:18,  5.77it/s]"
     ]
    },
    {
     "name": "stderr",
     "output_type": "stream",
     "text": [
      "\r",
      "Feature Extraction:  35%|███▌      | 56/160 [00:30<00:18,  5.62it/s]"
     ]
    },
    {
     "name": "stderr",
     "output_type": "stream",
     "text": [
      "\r",
      "Feature Extraction:  36%|███▋      | 58/160 [00:30<00:16,  6.19it/s]"
     ]
    },
    {
     "name": "stderr",
     "output_type": "stream",
     "text": [
      "\r",
      "Feature Extraction:  37%|███▋      | 59/160 [00:30<00:16,  6.23it/s]"
     ]
    },
    {
     "name": "stderr",
     "output_type": "stream",
     "text": [
      "\r",
      "Feature Extraction:  38%|███▊      | 60/160 [00:30<00:15,  6.61it/s]"
     ]
    },
    {
     "name": "stderr",
     "output_type": "stream",
     "text": [
      "\r",
      "Feature Extraction:  38%|███▊      | 61/160 [00:30<00:13,  7.12it/s]"
     ]
    },
    {
     "name": "stderr",
     "output_type": "stream",
     "text": [
      "\r",
      "Feature Extraction:  39%|███▉      | 62/160 [00:31<00:13,  7.24it/s]"
     ]
    },
    {
     "name": "stderr",
     "output_type": "stream",
     "text": [
      "\r",
      "Feature Extraction:  39%|███▉      | 63/160 [00:31<00:24,  3.96it/s]"
     ]
    },
    {
     "name": "stderr",
     "output_type": "stream",
     "text": [
      "\r",
      "Feature Extraction:  41%|████      | 65/160 [00:38<02:40,  1.69s/it]"
     ]
    },
    {
     "name": "stderr",
     "output_type": "stream",
     "text": [
      "\r",
      "Feature Extraction:  41%|████▏     | 66/160 [00:38<02:04,  1.32s/it]"
     ]
    },
    {
     "name": "stderr",
     "output_type": "stream",
     "text": [
      "\r",
      "Feature Extraction:  42%|████▏     | 67/160 [00:39<01:38,  1.06s/it]"
     ]
    },
    {
     "name": "stderr",
     "output_type": "stream",
     "text": [
      "\r",
      "Feature Extraction:  42%|████▎     | 68/160 [00:39<01:21,  1.13it/s]"
     ]
    },
    {
     "name": "stderr",
     "output_type": "stream",
     "text": [
      "\r",
      "Feature Extraction:  43%|████▎     | 69/160 [00:39<01:01,  1.48it/s]"
     ]
    },
    {
     "name": "stderr",
     "output_type": "stream",
     "text": [
      "\r",
      "Feature Extraction:  44%|████▍     | 70/160 [00:39<00:51,  1.74it/s]"
     ]
    },
    {
     "name": "stderr",
     "output_type": "stream",
     "text": [
      "\r",
      "Feature Extraction:  44%|████▍     | 71/160 [00:40<00:57,  1.56it/s]"
     ]
    },
    {
     "name": "stderr",
     "output_type": "stream",
     "text": [
      "\r",
      "Feature Extraction:  45%|████▌     | 72/160 [00:40<00:44,  1.97it/s]"
     ]
    },
    {
     "name": "stderr",
     "output_type": "stream",
     "text": [
      "\r",
      "Feature Extraction:  46%|████▌     | 73/160 [00:41<00:36,  2.41it/s]"
     ]
    },
    {
     "name": "stderr",
     "output_type": "stream",
     "text": [
      "\r",
      "Feature Extraction:  46%|████▋     | 74/160 [00:41<00:32,  2.63it/s]"
     ]
    },
    {
     "name": "stderr",
     "output_type": "stream",
     "text": [
      "\r",
      "Feature Extraction:  47%|████▋     | 75/160 [00:41<00:34,  2.44it/s]"
     ]
    },
    {
     "name": "stderr",
     "output_type": "stream",
     "text": [
      "\r",
      "Feature Extraction:  48%|████▊     | 76/160 [00:42<00:30,  2.77it/s]"
     ]
    },
    {
     "name": "stderr",
     "output_type": "stream",
     "text": [
      "\r",
      "Feature Extraction:  48%|████▊     | 77/160 [00:42<00:25,  3.24it/s]"
     ]
    },
    {
     "name": "stderr",
     "output_type": "stream",
     "text": [
      "\r",
      "Feature Extraction:  49%|████▉     | 78/160 [00:42<00:21,  3.73it/s]"
     ]
    },
    {
     "name": "stderr",
     "output_type": "stream",
     "text": [
      "\r",
      "Feature Extraction:  49%|████▉     | 79/160 [00:42<00:19,  4.08it/s]"
     ]
    },
    {
     "name": "stderr",
     "output_type": "stream",
     "text": [
      "\r",
      "Feature Extraction:  50%|█████     | 80/160 [00:42<00:17,  4.52it/s]"
     ]
    },
    {
     "name": "stderr",
     "output_type": "stream",
     "text": [
      "\r",
      "Feature Extraction:  51%|█████     | 81/160 [00:43<00:27,  2.89it/s]"
     ]
    },
    {
     "name": "stderr",
     "output_type": "stream",
     "text": [
      "\r",
      "Feature Extraction:  52%|█████▏    | 83/160 [00:43<00:17,  4.44it/s]"
     ]
    },
    {
     "name": "stderr",
     "output_type": "stream",
     "text": [
      "\r",
      "Feature Extraction:  52%|█████▎    | 84/160 [00:43<00:14,  5.15it/s]"
     ]
    },
    {
     "name": "stderr",
     "output_type": "stream",
     "text": [
      "\r",
      "Feature Extraction:  53%|█████▎    | 85/160 [00:43<00:13,  5.57it/s]"
     ]
    },
    {
     "name": "stderr",
     "output_type": "stream",
     "text": [
      "\r",
      "Feature Extraction:  54%|█████▍    | 86/160 [00:44<00:12,  6.05it/s]"
     ]
    },
    {
     "name": "stderr",
     "output_type": "stream",
     "text": [
      "\r",
      "Feature Extraction:  54%|█████▍    | 87/160 [00:44<00:12,  5.95it/s]"
     ]
    },
    {
     "name": "stderr",
     "output_type": "stream",
     "text": [
      "\r",
      "Feature Extraction:  55%|█████▌    | 88/160 [00:44<00:11,  6.04it/s]"
     ]
    },
    {
     "name": "stderr",
     "output_type": "stream",
     "text": [
      "\r",
      "Feature Extraction:  56%|█████▋    | 90/160 [00:44<00:09,  7.52it/s]"
     ]
    },
    {
     "name": "stderr",
     "output_type": "stream",
     "text": [
      "\r",
      "Feature Extraction:  57%|█████▋    | 91/160 [00:44<00:09,  7.46it/s]"
     ]
    },
    {
     "name": "stderr",
     "output_type": "stream",
     "text": [
      "\r",
      "Feature Extraction:  57%|█████▊    | 92/160 [00:44<00:10,  6.50it/s]"
     ]
    },
    {
     "name": "stderr",
     "output_type": "stream",
     "text": [
      "\r",
      "Feature Extraction:  58%|█████▊    | 93/160 [00:45<00:10,  6.25it/s]"
     ]
    },
    {
     "name": "stderr",
     "output_type": "stream",
     "text": [
      "\r",
      "Feature Extraction:  59%|█████▉    | 94/160 [00:45<00:09,  6.74it/s]"
     ]
    },
    {
     "name": "stderr",
     "output_type": "stream",
     "text": [
      "\r",
      "Feature Extraction:  59%|█████▉    | 95/160 [00:45<00:15,  4.31it/s]"
     ]
    },
    {
     "name": "stderr",
     "output_type": "stream",
     "text": [
      "\r",
      "Feature Extraction:  60%|██████    | 96/160 [00:45<00:14,  4.37it/s]"
     ]
    },
    {
     "name": "stderr",
     "output_type": "stream",
     "text": [
      "\r",
      "Feature Extraction:  61%|██████    | 97/160 [00:52<02:06,  2.01s/it]"
     ]
    },
    {
     "name": "stderr",
     "output_type": "stream",
     "text": [
      "\r",
      "Feature Extraction:  61%|██████▏   | 98/160 [00:52<01:34,  1.52s/it]"
     ]
    },
    {
     "name": "stderr",
     "output_type": "stream",
     "text": [
      "\r",
      "Feature Extraction:  62%|██████▏   | 99/160 [00:52<01:13,  1.20s/it]"
     ]
    },
    {
     "name": "stderr",
     "output_type": "stream",
     "text": [
      "\r",
      "Feature Extraction:  62%|██████▎   | 100/160 [00:53<00:53,  1.13it/s]"
     ]
    },
    {
     "name": "stderr",
     "output_type": "stream",
     "text": [
      "\r",
      "Feature Extraction:  63%|██████▎   | 101/160 [00:53<00:52,  1.13it/s]"
     ]
    },
    {
     "name": "stderr",
     "output_type": "stream",
     "text": [
      "\r",
      "Feature Extraction:  64%|██████▍   | 102/160 [00:54<00:38,  1.49it/s]"
     ]
    },
    {
     "name": "stderr",
     "output_type": "stream",
     "text": [
      "\r",
      "Feature Extraction:  64%|██████▍   | 103/160 [00:54<00:32,  1.74it/s]"
     ]
    },
    {
     "name": "stderr",
     "output_type": "stream",
     "text": [
      "\r",
      "Feature Extraction:  65%|██████▌   | 104/160 [00:54<00:25,  2.24it/s]"
     ]
    },
    {
     "name": "stderr",
     "output_type": "stream",
     "text": [
      "\r",
      "Feature Extraction:  66%|██████▌   | 105/160 [00:54<00:19,  2.83it/s]"
     ]
    },
    {
     "name": "stderr",
     "output_type": "stream",
     "text": [
      "\r",
      "Feature Extraction:  66%|██████▋   | 106/160 [00:54<00:15,  3.60it/s]"
     ]
    },
    {
     "name": "stderr",
     "output_type": "stream",
     "text": [
      "\r",
      "Feature Extraction:  67%|██████▋   | 107/160 [00:55<00:20,  2.54it/s]"
     ]
    },
    {
     "name": "stderr",
     "output_type": "stream",
     "text": [
      "\r",
      "Feature Extraction:  68%|██████▊   | 108/160 [00:55<00:17,  2.92it/s]"
     ]
    },
    {
     "name": "stderr",
     "output_type": "stream",
     "text": [
      "\r",
      "Feature Extraction:  68%|██████▊   | 109/160 [00:56<00:17,  2.86it/s]"
     ]
    },
    {
     "name": "stderr",
     "output_type": "stream",
     "text": [
      "\r",
      "Feature Extraction:  69%|██████▉   | 110/160 [00:56<00:15,  3.20it/s]"
     ]
    },
    {
     "name": "stderr",
     "output_type": "stream",
     "text": [
      "\r",
      "Feature Extraction:  69%|██████▉   | 111/160 [00:56<00:13,  3.73it/s]"
     ]
    },
    {
     "name": "stderr",
     "output_type": "stream",
     "text": [
      "\r",
      "Feature Extraction:  70%|███████   | 112/160 [00:56<00:11,  4.14it/s]"
     ]
    },
    {
     "name": "stderr",
     "output_type": "stream",
     "text": [
      "\r",
      "Feature Extraction:  71%|███████   | 113/160 [00:56<00:10,  4.58it/s]"
     ]
    },
    {
     "name": "stderr",
     "output_type": "stream",
     "text": [
      "\r",
      "Feature Extraction:  71%|███████▏  | 114/160 [00:57<00:14,  3.15it/s]"
     ]
    },
    {
     "name": "stderr",
     "output_type": "stream",
     "text": [
      "\r",
      "Feature Extraction:  72%|███████▏  | 115/160 [00:57<00:13,  3.45it/s]"
     ]
    },
    {
     "name": "stderr",
     "output_type": "stream",
     "text": [
      "\r",
      "Feature Extraction:  72%|███████▎  | 116/160 [00:57<00:12,  3.46it/s]"
     ]
    },
    {
     "name": "stderr",
     "output_type": "stream",
     "text": [
      "\r",
      "Feature Extraction:  73%|███████▎  | 117/160 [00:58<00:10,  4.16it/s]"
     ]
    },
    {
     "name": "stderr",
     "output_type": "stream",
     "text": [
      "\r",
      "Feature Extraction:  74%|███████▍  | 118/160 [00:58<00:09,  4.60it/s]"
     ]
    },
    {
     "name": "stderr",
     "output_type": "stream",
     "text": [
      "\r",
      "Feature Extraction:  74%|███████▍  | 119/160 [00:58<00:12,  3.39it/s]"
     ]
    },
    {
     "name": "stderr",
     "output_type": "stream",
     "text": [
      "\r",
      "Feature Extraction:  76%|███████▌  | 121/160 [00:59<00:14,  2.77it/s]"
     ]
    },
    {
     "name": "stderr",
     "output_type": "stream",
     "text": [
      "\r",
      "Feature Extraction:  76%|███████▋  | 122/160 [00:59<00:11,  3.25it/s]"
     ]
    },
    {
     "name": "stderr",
     "output_type": "stream",
     "text": [
      "\r",
      "Feature Extraction:  78%|███████▊  | 124/160 [00:59<00:07,  4.54it/s]"
     ]
    },
    {
     "name": "stderr",
     "output_type": "stream",
     "text": [
      "\r",
      "Feature Extraction:  78%|███████▊  | 125/160 [01:00<00:06,  5.05it/s]"
     ]
    },
    {
     "name": "stderr",
     "output_type": "stream",
     "text": [
      "\r",
      "Feature Extraction:  79%|███████▉  | 126/160 [01:00<00:06,  5.48it/s]"
     ]
    },
    {
     "name": "stderr",
     "output_type": "stream",
     "text": [
      "\r",
      "Feature Extraction:  79%|███████▉  | 127/160 [01:00<00:05,  6.16it/s]"
     ]
    },
    {
     "name": "stderr",
     "output_type": "stream",
     "text": [
      "\r",
      "Feature Extraction:  80%|████████  | 128/160 [01:00<00:04,  6.50it/s]"
     ]
    },
    {
     "name": "stderr",
     "output_type": "stream",
     "text": [
      "\r",
      "Feature Extraction:  81%|████████  | 129/160 [01:04<00:37,  1.20s/it]"
     ]
    },
    {
     "name": "stderr",
     "output_type": "stream",
     "text": [
      "\r",
      "Feature Extraction:  81%|████████▏ | 130/160 [01:05<00:35,  1.20s/it]"
     ]
    },
    {
     "name": "stderr",
     "output_type": "stream",
     "text": [
      "\r",
      "Feature Extraction:  82%|████████▏ | 131/160 [01:05<00:27,  1.07it/s]"
     ]
    },
    {
     "name": "stderr",
     "output_type": "stream",
     "text": [
      "\r",
      "Feature Extraction:  82%|████████▎ | 132/160 [01:06<00:21,  1.32it/s]"
     ]
    },
    {
     "name": "stderr",
     "output_type": "stream",
     "text": [
      "\r",
      "Feature Extraction:  83%|████████▎ | 133/160 [01:06<00:18,  1.47it/s]"
     ]
    },
    {
     "name": "stderr",
     "output_type": "stream",
     "text": [
      "\r",
      "Feature Extraction:  84%|████████▍ | 134/160 [01:06<00:15,  1.72it/s]"
     ]
    },
    {
     "name": "stderr",
     "output_type": "stream",
     "text": [
      "\r",
      "Feature Extraction:  84%|████████▍ | 135/160 [01:07<00:13,  1.89it/s]"
     ]
    },
    {
     "name": "stderr",
     "output_type": "stream",
     "text": [
      "\r",
      "Feature Extraction:  85%|████████▌ | 136/160 [01:07<00:10,  2.29it/s]"
     ]
    },
    {
     "name": "stderr",
     "output_type": "stream",
     "text": [
      "\r",
      "Feature Extraction:  86%|████████▌ | 137/160 [01:08<00:10,  2.30it/s]"
     ]
    },
    {
     "name": "stderr",
     "output_type": "stream",
     "text": [
      "\r",
      "Feature Extraction:  87%|████████▋ | 139/160 [01:08<00:05,  3.87it/s]"
     ]
    },
    {
     "name": "stderr",
     "output_type": "stream",
     "text": [
      "\r",
      "Feature Extraction:  88%|████████▊ | 140/160 [01:08<00:04,  4.53it/s]"
     ]
    },
    {
     "name": "stderr",
     "output_type": "stream",
     "text": [
      "\r",
      "Feature Extraction:  89%|████████▉ | 142/160 [01:08<00:02,  6.37it/s]"
     ]
    },
    {
     "name": "stderr",
     "output_type": "stream",
     "text": [
      "\r",
      "Feature Extraction:  90%|█████████ | 144/160 [01:09<00:03,  4.57it/s]"
     ]
    },
    {
     "name": "stderr",
     "output_type": "stream",
     "text": [
      "\r",
      "Feature Extraction:  91%|█████████▏| 146/160 [01:09<00:03,  3.97it/s]"
     ]
    },
    {
     "name": "stderr",
     "output_type": "stream",
     "text": [
      "\r",
      "Feature Extraction:  92%|█████████▎| 148/160 [01:10<00:02,  4.26it/s]"
     ]
    },
    {
     "name": "stderr",
     "output_type": "stream",
     "text": [
      "\r",
      "Feature Extraction:  93%|█████████▎| 149/160 [01:10<00:02,  4.20it/s]"
     ]
    },
    {
     "name": "stderr",
     "output_type": "stream",
     "text": [
      "\r",
      "Feature Extraction:  94%|█████████▍| 151/160 [01:10<00:01,  5.58it/s]"
     ]
    },
    {
     "name": "stderr",
     "output_type": "stream",
     "text": [
      "\r",
      "Feature Extraction:  95%|█████████▌| 152/160 [01:10<00:01,  5.74it/s]"
     ]
    },
    {
     "name": "stderr",
     "output_type": "stream",
     "text": [
      "\r",
      "Feature Extraction:  96%|█████████▌| 153/160 [01:10<00:01,  6.27it/s]"
     ]
    },
    {
     "name": "stderr",
     "output_type": "stream",
     "text": [
      "\r",
      "Feature Extraction:  98%|█████████▊| 156/160 [01:11<00:00,  7.48it/s]"
     ]
    },
    {
     "name": "stderr",
     "output_type": "stream",
     "text": [
      "\r",
      "Feature Extraction:  98%|█████████▊| 157/160 [01:11<00:00,  6.75it/s]"
     ]
    },
    {
     "name": "stderr",
     "output_type": "stream",
     "text": [
      "\r",
      "Feature Extraction:  99%|█████████▉| 159/160 [01:11<00:00,  7.47it/s]"
     ]
    },
    {
     "name": "stderr",
     "output_type": "stream",
     "text": [
      "\r",
      "Feature Extraction: 100%|██████████| 160/160 [01:11<00:00,  5.58it/s]"
     ]
    },
    {
     "name": "stderr",
     "output_type": "stream",
     "text": [
      "\r",
      "Feature Extraction: 100%|██████████| 160/160 [01:11<00:00,  2.23it/s]"
     ]
    },
    {
     "name": "stderr",
     "output_type": "stream",
     "text": [
      "\n"
     ]
    },
    {
     "name": "stdout",
     "output_type": "stream",
     "text": [
      "let the ml starts\n"
     ]
    },
    {
     "name": "stdout",
     "output_type": "stream",
     "text": [
      "LogReg\n",
      "              precision    recall  f1-score   support\n",
      "\n",
      "   malignant       0.95      0.97      0.96      6080\n",
      "      benign       0.97      0.95      0.96      6271\n",
      "\n",
      "    accuracy                           0.96     12351\n",
      "   macro avg       0.96      0.96      0.96     12351\n",
      "weighted avg       0.96      0.96      0.96     12351\n",
      "\n",
      "   fit_time  score_time  test_accuracy  test_precision_weighted  \\\n",
      "0  7.712780    0.031264       0.957085                 0.957172   \n",
      "1  7.496131    0.034169       0.964238                 0.964305   \n",
      "2  7.809110    0.033657       0.961404                 0.961415   \n",
      "3  8.330076    0.029867       0.957895                 0.957914   \n",
      "4  8.587809    0.031522       0.964507                 0.964542   \n",
      "\n",
      "   test_recall_weighted  test_f1_weighted  test_roc_auc   model  \n",
      "0              0.957085          0.957085      0.992409  LogReg  \n",
      "1              0.964238          0.964233      0.994518  LogReg  \n",
      "2              0.961404          0.961404      0.993604  LogReg  \n",
      "3              0.957895          0.957892      0.992534  LogReg  \n",
      "4              0.964507          0.964506      0.994145  LogReg  \n"
     ]
    },
    {
     "name": "stdout",
     "output_type": "stream",
     "text": [
      "KNN\n",
      "              precision    recall  f1-score   support\n",
      "\n",
      "   malignant       0.95      0.97      0.96      6080\n",
      "      benign       0.97      0.95      0.96      6271\n",
      "\n",
      "    accuracy                           0.96     12351\n",
      "   macro avg       0.96      0.96      0.96     12351\n",
      "weighted avg       0.96      0.96      0.96     12351\n",
      "\n",
      "   fit_time  score_time  test_accuracy  test_precision_weighted  \\\n",
      "0  7.712780    0.031264       0.957085                 0.957172   \n",
      "1  7.496131    0.034169       0.964238                 0.964305   \n",
      "2  7.809110    0.033657       0.961404                 0.961415   \n",
      "3  8.330076    0.029867       0.957895                 0.957914   \n",
      "4  8.587809    0.031522       0.964507                 0.964542   \n",
      "5  0.020148    0.612902       0.960189                 0.960294   \n",
      "6  0.018305    0.573574       0.961538                 0.961639   \n",
      "7  0.018340    0.571794       0.959514                 0.959588   \n",
      "8  0.018397    0.570755       0.959919                 0.959940   \n",
      "9  0.018401    0.573600       0.955331                 0.955611   \n",
      "\n",
      "   test_recall_weighted  test_f1_weighted  test_roc_auc   model  \n",
      "0              0.957085          0.957085      0.992409  LogReg  \n",
      "1              0.964238          0.964233      0.994518  LogReg  \n",
      "2              0.961404          0.961404      0.993604  LogReg  \n",
      "3              0.957895          0.957892      0.992534  LogReg  \n",
      "4              0.964507          0.964506      0.994145  LogReg  \n",
      "5              0.960189          0.960189      0.987883     KNN  \n",
      "6              0.961538          0.961532      0.989684     KNN  \n",
      "7              0.959514          0.959514      0.987365     KNN  \n",
      "8              0.959919          0.959917      0.988957     KNN  \n",
      "9              0.955331          0.955320      0.986827     KNN  \n"
     ]
    },
    {
     "name": "stdout",
     "output_type": "stream",
     "text": [
      "SVM\n",
      "              precision    recall  f1-score   support\n",
      "\n",
      "   malignant       0.96      0.98      0.97      6080\n",
      "      benign       0.98      0.96      0.97      6271\n",
      "\n",
      "    accuracy                           0.97     12351\n",
      "   macro avg       0.97      0.97      0.97     12351\n",
      "weighted avg       0.97      0.97      0.97     12351\n",
      "\n",
      "     fit_time  score_time  test_accuracy  test_precision_weighted  \\\n",
      "0    7.712780    0.031264       0.957085                 0.957172   \n",
      "1    7.496131    0.034169       0.964238                 0.964305   \n",
      "2    7.809110    0.033657       0.961404                 0.961415   \n",
      "3    8.330076    0.029867       0.957895                 0.957914   \n",
      "4    8.587809    0.031522       0.964507                 0.964542   \n",
      "5    0.020148    0.612902       0.960189                 0.960294   \n",
      "6    0.018305    0.573574       0.961538                 0.961639   \n",
      "7    0.018340    0.571794       0.959514                 0.959588   \n",
      "8    0.018397    0.570755       0.959919                 0.959940   \n",
      "9    0.018401    0.573600       0.955331                 0.955611   \n",
      "10  24.116973    7.599042       0.969501                 0.969576   \n",
      "11  24.430653    7.690696       0.973009                 0.973066   \n",
      "12  24.194268    7.385213       0.968016                 0.968081   \n",
      "13  24.213545    7.530822       0.966532                 0.966632   \n",
      "14  23.827820    7.503297       0.969096                 0.969196   \n",
      "\n",
      "    test_recall_weighted  test_f1_weighted  test_roc_auc   model  \n",
      "0               0.957085          0.957085      0.992409  LogReg  \n",
      "1               0.964238          0.964233      0.994518  LogReg  \n",
      "2               0.961404          0.961404      0.993604  LogReg  \n",
      "3               0.957895          0.957892      0.992534  LogReg  \n",
      "4               0.964507          0.964506      0.994145  LogReg  \n",
      "5               0.960189          0.960189      0.987883     KNN  \n",
      "6               0.961538          0.961532      0.989684     KNN  \n",
      "7               0.959514          0.959514      0.987365     KNN  \n",
      "8               0.959919          0.959917      0.988957     KNN  \n",
      "9               0.955331          0.955320      0.986827     KNN  \n",
      "10              0.969501          0.969501      0.991846     SVM  \n",
      "11              0.973009          0.973006      0.992306     SVM  \n",
      "12              0.968016          0.968016      0.992676     SVM  \n",
      "13              0.966532          0.966527      0.993005     SVM  \n",
      "14              0.969096          0.969093      0.989919     SVM  \n"
     ]
    },
    {
     "name": "stdout",
     "output_type": "stream",
     "text": [
      "GNB\n",
      "              precision    recall  f1-score   support\n",
      "\n",
      "   malignant       1.00      1.00      1.00      6080\n",
      "      benign       1.00      1.00      1.00      6271\n",
      "\n",
      "    accuracy                           1.00     12351\n",
      "   macro avg       1.00      1.00      1.00     12351\n",
      "weighted avg       1.00      1.00      1.00     12351\n",
      "\n",
      "     fit_time  score_time  test_accuracy  test_precision_weighted  \\\n",
      "0    7.712780    0.031264       0.957085                 0.957172   \n",
      "1    7.496131    0.034169       0.964238                 0.964305   \n",
      "2    7.809110    0.033657       0.961404                 0.961415   \n",
      "3    8.330076    0.029867       0.957895                 0.957914   \n",
      "4    8.587809    0.031522       0.964507                 0.964542   \n",
      "5    0.020148    0.612902       0.960189                 0.960294   \n",
      "6    0.018305    0.573574       0.961538                 0.961639   \n",
      "7    0.018340    0.571794       0.959514                 0.959588   \n",
      "8    0.018397    0.570755       0.959919                 0.959940   \n",
      "9    0.018401    0.573600       0.955331                 0.955611   \n",
      "10  24.116973    7.599042       0.969501                 0.969576   \n",
      "11  24.430653    7.690696       0.973009                 0.973066   \n",
      "12  24.194268    7.385213       0.968016                 0.968081   \n",
      "13  24.213545    7.530822       0.966532                 0.966632   \n",
      "14  23.827820    7.503297       0.969096                 0.969196   \n",
      "15   0.067472    0.030962       0.999595                 0.999595   \n",
      "16   0.067341    0.031103       0.999865                 0.999865   \n",
      "17   0.067402    0.030853       0.999460                 0.999461   \n",
      "18   0.067307    0.030708       0.999865                 0.999865   \n",
      "19   0.067329    0.030722       0.999730                 0.999730   \n",
      "\n",
      "    test_recall_weighted  test_f1_weighted  test_roc_auc   model  \n",
      "0               0.957085          0.957085      0.992409  LogReg  \n",
      "1               0.964238          0.964233      0.994518  LogReg  \n",
      "2               0.961404          0.961404      0.993604  LogReg  \n",
      "3               0.957895          0.957892      0.992534  LogReg  \n",
      "4               0.964507          0.964506      0.994145  LogReg  \n",
      "5               0.960189          0.960189      0.987883     KNN  \n",
      "6               0.961538          0.961532      0.989684     KNN  \n",
      "7               0.959514          0.959514      0.987365     KNN  \n",
      "8               0.959919          0.959917      0.988957     KNN  \n",
      "9               0.955331          0.955320      0.986827     KNN  \n",
      "10              0.969501          0.969501      0.991846     SVM  \n",
      "11              0.973009          0.973006      0.992306     SVM  \n",
      "12              0.968016          0.968016      0.992676     SVM  \n",
      "13              0.966532          0.966527      0.993005     SVM  \n",
      "14              0.969096          0.969093      0.989919     SVM  \n",
      "15              0.999595          0.999595      0.999866     GNB  \n",
      "16              0.999865          0.999865      0.999863     GNB  \n",
      "17              0.999460          0.999460      0.999731     GNB  \n",
      "18              0.999865          0.999865      0.999863     GNB  \n",
      "19              0.999730          0.999730      0.999728     GNB  \n",
      "443.1258806856349\n"
     ]
    }
   ],
   "source": [
    "## S5: Partially compromised (IoT + Laptop)\n",
    "\n",
    "df_malicious = pd.concat([df5,df35])\n",
    "\n",
    "df_benign = pd.concat([df9,df15,df11])\n",
    "\n",
    "print(\"malicious: {}\".format(len(df_malicious)))\n",
    "print(\"benign: {}\".format(len(df_benign)))\n",
    "\n",
    "print(\"{} NAN in malicious!\".format(len(df_malicious[df_malicious.isna().any(axis=1)])))\n",
    "print(\"{} NAN in benign!\".format(len(df_benign[df_benign.isna().any(axis=1)])))\n",
    "\n",
    "df_malicious = df_malicious.dropna()\n",
    "df_benign = df_benign.dropna()\n",
    "\n",
    "print(\"After droppping NAN rows: \")\n",
    "print(\"malicious: {}\".format(len(df_malicious)))\n",
    "print(\"benign: {}\".format(len(df_benign)))\n",
    "\n",
    "\n",
    "start = timer()\n",
    "\n",
    "results_all_combined_s0 = run_process(df_malicious,df_benign,df_results)\n",
    "\n",
    "end = timer()\n",
    "print(end - start)\n",
    "\n",
    "\n"
   ]
  },
  {
   "cell_type": "code",
   "execution_count": 20,
   "id": "CAUusbRw3z2S",
   "metadata": {
    "execution": {
     "iopub.execute_input": "2025-08-02T18:38:13.207983Z",
     "iopub.status.busy": "2025-08-02T18:38:13.207857Z",
     "iopub.status.idle": "2025-08-02T18:38:26.698740Z",
     "shell.execute_reply": "2025-08-02T18:38:26.698149Z"
    },
    "id": "CAUusbRw3z2S",
    "outputId": "74c4a278-f7e4-42cf-c9e1-a575c698b492",
    "scrolled": false
   },
   "outputs": [
    {
     "name": "stdout",
     "output_type": "stream",
     "text": [
      "malicious: 11745\n",
      "benign: 13459\n",
      "0 NAN in malicious!\n",
      "0 NAN in benign!\n",
      "After droppping NAN rows: \n",
      "malicious: 11745\n",
      "benign: 13459\n"
     ]
    },
    {
     "name": "stderr",
     "output_type": "stream",
     "text": [
      "\r",
      "Feature Extraction:   0%|          | 0/147 [00:00<?, ?it/s]"
     ]
    },
    {
     "name": "stderr",
     "output_type": "stream",
     "text": [
      "\r",
      "Feature Extraction:   1%|          | 1/147 [00:00<01:18,  1.85it/s]"
     ]
    },
    {
     "name": "stderr",
     "output_type": "stream",
     "text": [
      "\r",
      "Feature Extraction:   1%|▏         | 2/147 [00:00<00:40,  3.54it/s]"
     ]
    },
    {
     "name": "stderr",
     "output_type": "stream",
     "text": [
      "\r",
      "Feature Extraction:   7%|▋         | 11/147 [00:00<00:05, 22.83it/s]"
     ]
    },
    {
     "name": "stderr",
     "output_type": "stream",
     "text": [
      "\r",
      "Feature Extraction:  15%|█▍        | 22/147 [00:00<00:02, 43.70it/s]"
     ]
    },
    {
     "name": "stderr",
     "output_type": "stream",
     "text": [
      "\r",
      "Feature Extraction:  22%|██▏       | 33/147 [00:01<00:02, 45.74it/s]"
     ]
    },
    {
     "name": "stderr",
     "output_type": "stream",
     "text": [
      "\r",
      "Feature Extraction:  27%|██▋       | 40/147 [00:01<00:02, 36.53it/s]"
     ]
    },
    {
     "name": "stderr",
     "output_type": "stream",
     "text": [
      "\r",
      "Feature Extraction:  33%|███▎      | 49/147 [00:01<00:02, 45.22it/s]"
     ]
    },
    {
     "name": "stderr",
     "output_type": "stream",
     "text": [
      "\r",
      "Feature Extraction:  39%|███▉      | 58/147 [00:01<00:01, 53.45it/s]"
     ]
    },
    {
     "name": "stderr",
     "output_type": "stream",
     "text": [
      "\r",
      "Feature Extraction:  44%|████▍     | 65/147 [00:01<00:01, 53.54it/s]"
     ]
    },
    {
     "name": "stderr",
     "output_type": "stream",
     "text": [
      "\r",
      "Feature Extraction:  49%|████▉     | 72/147 [00:02<00:01, 38.28it/s]"
     ]
    },
    {
     "name": "stderr",
     "output_type": "stream",
     "text": [
      "\r",
      "Feature Extraction:  54%|█████▍    | 80/147 [00:02<00:01, 45.70it/s]"
     ]
    },
    {
     "name": "stderr",
     "output_type": "stream",
     "text": [
      "\r",
      "Feature Extraction:  59%|█████▉    | 87/147 [00:02<00:01, 49.05it/s]"
     ]
    },
    {
     "name": "stderr",
     "output_type": "stream",
     "text": [
      "\r",
      "Feature Extraction:  65%|██████▌   | 96/147 [00:02<00:00, 57.10it/s]"
     ]
    },
    {
     "name": "stderr",
     "output_type": "stream",
     "text": [
      "\r",
      "Feature Extraction:  70%|███████   | 103/147 [00:02<00:01, 39.61it/s]"
     ]
    },
    {
     "name": "stderr",
     "output_type": "stream",
     "text": [
      "\r",
      "Feature Extraction:  74%|███████▍  | 109/147 [00:02<00:00, 42.31it/s]"
     ]
    },
    {
     "name": "stderr",
     "output_type": "stream",
     "text": [
      "\r",
      "Feature Extraction:  80%|████████  | 118/147 [00:02<00:00, 51.25it/s]"
     ]
    },
    {
     "name": "stderr",
     "output_type": "stream",
     "text": [
      "\r",
      "Feature Extraction:  85%|████████▌ | 125/147 [00:02<00:00, 55.09it/s]"
     ]
    },
    {
     "name": "stderr",
     "output_type": "stream",
     "text": [
      "\r",
      "Feature Extraction:  90%|████████▉ | 132/147 [00:03<00:00, 54.00it/s]"
     ]
    },
    {
     "name": "stderr",
     "output_type": "stream",
     "text": [
      "\r",
      "Feature Extraction:  95%|█████████▍| 139/147 [00:03<00:00, 48.65it/s]"
     ]
    },
    {
     "name": "stderr",
     "output_type": "stream",
     "text": [
      "\r",
      "Feature Extraction: 100%|██████████| 147/147 [00:03<00:00, 43.57it/s]"
     ]
    },
    {
     "name": "stderr",
     "output_type": "stream",
     "text": [
      "\n"
     ]
    },
    {
     "name": "stderr",
     "output_type": "stream",
     "text": [
      "\r",
      "Feature Extraction:   0%|          | 0/150 [00:00<?, ?it/s]"
     ]
    },
    {
     "name": "stderr",
     "output_type": "stream",
     "text": [
      "\r",
      "Feature Extraction:   1%|          | 1/150 [00:00<01:26,  1.73it/s]"
     ]
    },
    {
     "name": "stderr",
     "output_type": "stream",
     "text": [
      "\r",
      "Feature Extraction:   1%|▏         | 2/150 [00:00<00:44,  3.32it/s]"
     ]
    },
    {
     "name": "stderr",
     "output_type": "stream",
     "text": [
      "\r",
      "Feature Extraction:   3%|▎         | 4/150 [00:00<00:21,  6.91it/s]"
     ]
    },
    {
     "name": "stderr",
     "output_type": "stream",
     "text": [
      "\r",
      "Feature Extraction:   9%|▉         | 14/150 [00:00<00:04, 28.25it/s]"
     ]
    },
    {
     "name": "stderr",
     "output_type": "stream",
     "text": [
      "\r",
      "Feature Extraction:  15%|█▌        | 23/150 [00:01<00:02, 42.88it/s]"
     ]
    },
    {
     "name": "stderr",
     "output_type": "stream",
     "text": [
      "\r",
      "Feature Extraction:  21%|██        | 31/150 [00:01<00:02, 51.58it/s]"
     ]
    },
    {
     "name": "stderr",
     "output_type": "stream",
     "text": [
      "\r",
      "Feature Extraction:  25%|██▌       | 38/150 [00:01<00:03, 30.52it/s]"
     ]
    },
    {
     "name": "stderr",
     "output_type": "stream",
     "text": [
      "\r",
      "Feature Extraction:  30%|███       | 45/150 [00:01<00:02, 35.92it/s]"
     ]
    },
    {
     "name": "stderr",
     "output_type": "stream",
     "text": [
      "\r",
      "Feature Extraction:  35%|███▌      | 53/150 [00:01<00:02, 44.29it/s]"
     ]
    },
    {
     "name": "stderr",
     "output_type": "stream",
     "text": [
      "\r",
      "Feature Extraction:  40%|████      | 60/150 [00:01<00:01, 49.12it/s]"
     ]
    },
    {
     "name": "stderr",
     "output_type": "stream",
     "text": [
      "\r",
      "Feature Extraction:  45%|████▍     | 67/150 [00:02<00:02, 31.85it/s]"
     ]
    },
    {
     "name": "stderr",
     "output_type": "stream",
     "text": [
      "\r",
      "Feature Extraction:  49%|████▊     | 73/150 [00:02<00:02, 35.99it/s]"
     ]
    },
    {
     "name": "stderr",
     "output_type": "stream",
     "text": [
      "\r",
      "Feature Extraction:  54%|█████▍    | 81/150 [00:02<00:01, 43.39it/s]"
     ]
    },
    {
     "name": "stderr",
     "output_type": "stream",
     "text": [
      "\r",
      "Feature Extraction:  59%|█████▊    | 88/150 [00:02<00:01, 47.48it/s]"
     ]
    },
    {
     "name": "stderr",
     "output_type": "stream",
     "text": [
      "\r",
      "Feature Extraction:  63%|██████▎   | 95/150 [00:02<00:01, 51.99it/s]"
     ]
    },
    {
     "name": "stderr",
     "output_type": "stream",
     "text": [
      "\r",
      "Feature Extraction:  68%|██████▊   | 102/150 [00:03<00:01, 32.62it/s]"
     ]
    },
    {
     "name": "stderr",
     "output_type": "stream",
     "text": [
      "\r",
      "Feature Extraction:  73%|███████▎  | 110/150 [00:03<00:01, 39.58it/s]"
     ]
    },
    {
     "name": "stderr",
     "output_type": "stream",
     "text": [
      "\r",
      "Feature Extraction:  78%|███████▊  | 117/150 [00:03<00:00, 45.29it/s]"
     ]
    },
    {
     "name": "stderr",
     "output_type": "stream",
     "text": [
      "\r",
      "Feature Extraction:  83%|████████▎ | 124/150 [00:03<00:00, 50.22it/s]"
     ]
    },
    {
     "name": "stderr",
     "output_type": "stream",
     "text": [
      "\r",
      "Feature Extraction:  87%|████████▋ | 131/150 [00:03<00:00, 40.25it/s]"
     ]
    },
    {
     "name": "stderr",
     "output_type": "stream",
     "text": [
      "\r",
      "Feature Extraction:  93%|█████████▎| 139/150 [00:03<00:00, 45.25it/s]"
     ]
    },
    {
     "name": "stderr",
     "output_type": "stream",
     "text": [
      "\r",
      "Feature Extraction:  99%|█████████▉| 149/150 [00:03<00:00, 54.82it/s]"
     ]
    },
    {
     "name": "stderr",
     "output_type": "stream",
     "text": [
      "\r",
      "Feature Extraction: 100%|██████████| 150/150 [00:03<00:00, 38.23it/s]"
     ]
    },
    {
     "name": "stderr",
     "output_type": "stream",
     "text": [
      "\n"
     ]
    },
    {
     "name": "stdout",
     "output_type": "stream",
     "text": [
      "let the ml starts\n"
     ]
    },
    {
     "name": "stdout",
     "output_type": "stream",
     "text": [
      "LogReg\n",
      "              precision    recall  f1-score   support\n",
      "\n",
      "   malignant       0.99      0.98      0.99       347\n",
      "      benign       0.98      0.99      0.98       284\n",
      "\n",
      "    accuracy                           0.98       631\n",
      "   macro avg       0.98      0.98      0.98       631\n",
      "weighted avg       0.98      0.98      0.98       631\n",
      "\n",
      "   fit_time  score_time  test_accuracy  test_precision_weighted  \\\n",
      "0  0.027561    0.007289       0.970899                 0.970918   \n",
      "1  0.026870    0.006747       0.962963                 0.963195   \n",
      "2  0.024030    0.005327       0.970899                 0.970923   \n",
      "3  0.020721    0.005222       0.976190                 0.976217   \n",
      "4  0.021482    0.005276       0.965608                 0.966393   \n",
      "\n",
      "   test_recall_weighted  test_f1_weighted  test_roc_auc   model  \n",
      "0              0.970899          0.970902      0.995627  LogReg  \n",
      "1              0.962963          0.962971      0.993891  LogReg  \n",
      "2              0.970899          0.970904      0.993957  LogReg  \n",
      "3              0.976190          0.976197      0.990091  LogReg  \n",
      "4              0.965608          0.965668      0.993282  LogReg  \n"
     ]
    },
    {
     "name": "stdout",
     "output_type": "stream",
     "text": [
      "KNN\n",
      "              precision    recall  f1-score   support\n",
      "\n",
      "   malignant       0.99      0.97      0.98       347\n",
      "      benign       0.96      0.99      0.98       284\n",
      "\n",
      "    accuracy                           0.98       631\n",
      "   macro avg       0.98      0.98      0.98       631\n",
      "weighted avg       0.98      0.98      0.98       631\n",
      "\n",
      "   fit_time  score_time  test_accuracy  test_precision_weighted  \\\n",
      "0  0.027561    0.007289       0.970899                 0.970918   \n",
      "1  0.026870    0.006747       0.962963                 0.963195   \n",
      "2  0.024030    0.005327       0.970899                 0.970923   \n",
      "3  0.020721    0.005222       0.976190                 0.976217   \n",
      "4  0.021482    0.005276       0.965608                 0.966393   \n",
      "5  0.000854    0.160323       0.970899                 0.970907   \n",
      "6  0.001126    0.013154       0.962963                 0.963747   \n",
      "7  0.001050    0.013213       0.944444                 0.945621   \n",
      "8  0.001050    0.014231       0.947090                 0.951679   \n",
      "9  0.001052    0.013197       0.960317                 0.961576   \n",
      "\n",
      "   test_recall_weighted  test_f1_weighted  test_roc_auc   model  \n",
      "0              0.970899          0.970902      0.995627  LogReg  \n",
      "1              0.962963          0.962971      0.993891  LogReg  \n",
      "2              0.970899          0.970904      0.993957  LogReg  \n",
      "3              0.976190          0.976197      0.990091  LogReg  \n",
      "4              0.965608          0.965668      0.993282  LogReg  \n",
      "5              0.970899          0.970896      0.989361     KNN  \n",
      "6              0.962963          0.962921      0.977526     KNN  \n",
      "7              0.944444          0.944497      0.977514     KNN  \n",
      "8              0.947090          0.947237      0.980621     KNN  \n",
      "9              0.960317          0.960401      0.988010     KNN  \n"
     ]
    },
    {
     "name": "stdout",
     "output_type": "stream",
     "text": [
      "SVM\n",
      "              precision    recall  f1-score   support\n",
      "\n",
      "   malignant       0.97      0.99      0.98       347\n",
      "      benign       0.98      0.96      0.97       284\n",
      "\n",
      "    accuracy                           0.98       631\n",
      "   macro avg       0.98      0.98      0.98       631\n",
      "weighted avg       0.98      0.98      0.98       631\n",
      "\n",
      "    fit_time  score_time  test_accuracy  test_precision_weighted  \\\n",
      "0   0.027561    0.007289       0.970899                 0.970918   \n",
      "1   0.026870    0.006747       0.962963                 0.963195   \n",
      "2   0.024030    0.005327       0.970899                 0.970923   \n",
      "3   0.020721    0.005222       0.976190                 0.976217   \n",
      "4   0.021482    0.005276       0.965608                 0.966393   \n",
      "5   0.000854    0.160323       0.970899                 0.970907   \n",
      "6   0.001126    0.013154       0.962963                 0.963747   \n",
      "7   0.001050    0.013213       0.944444                 0.945621   \n",
      "8   0.001050    0.014231       0.947090                 0.951679   \n",
      "9   0.001052    0.013197       0.960317                 0.961576   \n",
      "10  0.050902    0.052416       0.970899                 0.970918   \n",
      "11  0.047436    0.051802       0.965608                 0.965627   \n",
      "12  0.047194    0.050730       0.962963                 0.962990   \n",
      "13  0.046269    0.049577       0.976190                 0.976190   \n",
      "14  0.044413    0.049412       0.968254                 0.968345   \n",
      "\n",
      "    test_recall_weighted  test_f1_weighted  test_roc_auc   model  \n",
      "0               0.970899          0.970902      0.995627  LogReg  \n",
      "1               0.962963          0.962971      0.993891  LogReg  \n",
      "2               0.970899          0.970904      0.993957  LogReg  \n",
      "3               0.976190          0.976197      0.990091  LogReg  \n",
      "4               0.965608          0.965668      0.993282  LogReg  \n",
      "5               0.970899          0.970896      0.989361     KNN  \n",
      "6               0.962963          0.962921      0.977526     KNN  \n",
      "7               0.944444          0.944497      0.977514     KNN  \n",
      "8               0.947090          0.947237      0.980621     KNN  \n",
      "9               0.960317          0.960401      0.988010     KNN  \n",
      "10              0.970899          0.970902      0.989852     SVM  \n",
      "11              0.965608          0.965611      0.993387     SVM  \n",
      "12              0.962963          0.962949      0.995784     SVM  \n",
      "13              0.976190          0.976184      0.994762     SVM  \n",
      "14              0.968254          0.968272      0.995096     SVM  \n",
      "GNB\n",
      "              precision    recall  f1-score   support\n",
      "\n",
      "   malignant       1.00      1.00      1.00       347\n",
      "      benign       1.00      1.00      1.00       284\n",
      "\n",
      "    accuracy                           1.00       631\n",
      "   macro avg       1.00      1.00      1.00       631\n",
      "weighted avg       1.00      1.00      1.00       631\n",
      "\n",
      "    fit_time  score_time  test_accuracy  test_precision_weighted  \\\n",
      "0   0.027561    0.007289       0.970899                 0.970918   \n",
      "1   0.026870    0.006747       0.962963                 0.963195   \n",
      "2   0.024030    0.005327       0.970899                 0.970923   \n",
      "3   0.020721    0.005222       0.976190                 0.976217   \n",
      "4   0.021482    0.005276       0.965608                 0.966393   \n",
      "5   0.000854    0.160323       0.970899                 0.970907   \n",
      "6   0.001126    0.013154       0.962963                 0.963747   \n",
      "7   0.001050    0.013213       0.944444                 0.945621   \n",
      "8   0.001050    0.014231       0.947090                 0.951679   \n",
      "9   0.001052    0.013197       0.960317                 0.961576   \n",
      "10  0.050902    0.052416       0.970899                 0.970918   \n",
      "11  0.047436    0.051802       0.965608                 0.965627   \n",
      "12  0.047194    0.050730       0.962963                 0.962990   \n",
      "13  0.046269    0.049577       0.976190                 0.976190   \n",
      "14  0.044413    0.049412       0.968254                 0.968345   \n",
      "15  0.002299    0.005930       1.000000                 1.000000   \n",
      "16  0.002225    0.005689       1.000000                 1.000000   \n",
      "17  0.002061    0.005617       1.000000                 1.000000   \n",
      "18  0.002048    0.005656       1.000000                 1.000000   \n",
      "19  0.002025    0.005594       1.000000                 1.000000   \n",
      "\n",
      "    test_recall_weighted  test_f1_weighted  test_roc_auc   model  \n",
      "0               0.970899          0.970902      0.995627  LogReg  \n",
      "1               0.962963          0.962971      0.993891  LogReg  \n",
      "2               0.970899          0.970904      0.993957  LogReg  \n",
      "3               0.976190          0.976197      0.990091  LogReg  \n",
      "4               0.965608          0.965668      0.993282  LogReg  \n",
      "5               0.970899          0.970896      0.989361     KNN  \n",
      "6               0.962963          0.962921      0.977526     KNN  \n",
      "7               0.944444          0.944497      0.977514     KNN  \n",
      "8               0.947090          0.947237      0.980621     KNN  \n",
      "9               0.960317          0.960401      0.988010     KNN  \n",
      "10              0.970899          0.970902      0.989852     SVM  \n",
      "11              0.965608          0.965611      0.993387     SVM  \n",
      "12              0.962963          0.962949      0.995784     SVM  \n",
      "13              0.976190          0.976184      0.994762     SVM  \n",
      "14              0.968254          0.968272      0.995096     SVM  \n",
      "15              1.000000          1.000000      1.000000     GNB  \n",
      "16              1.000000          1.000000      1.000000     GNB  \n",
      "17              1.000000          1.000000      1.000000     GNB  \n",
      "18              1.000000          1.000000      1.000000     GNB  \n",
      "19              1.000000          1.000000      1.000000     GNB  \n",
      "13.472712978720665\n"
     ]
    }
   ],
   "source": [
    "## S6: Single compromised (IoT) (Raspberry)\n",
    "\n",
    "df_malicious = pd.concat([df4])\n",
    "\n",
    "df_benign = pd.concat([df19])\n",
    "\n",
    "print(\"malicious: {}\".format(len(df_malicious)))\n",
    "print(\"benign: {}\".format(len(df_benign)))\n",
    "\n",
    "print(\"{} NAN in malicious!\".format(len(df_malicious[df_malicious.isna().any(axis=1)])))\n",
    "print(\"{} NAN in benign!\".format(len(df_benign[df_benign.isna().any(axis=1)])))\n",
    "\n",
    "df_malicious = df_malicious.dropna()\n",
    "df_benign = df_benign.dropna()\n",
    "\n",
    "print(\"After droppping NAN rows: \")\n",
    "print(\"malicious: {}\".format(len(df_malicious)))\n",
    "print(\"benign: {}\".format(len(df_benign)))\n",
    "\n",
    "\n",
    "start = timer()\n",
    "\n",
    "results_all_combined_s0 = run_process(df_malicious,df_benign,df_results)\n",
    "\n",
    "end = timer()\n",
    "print(end - start)\n",
    "\n",
    "\n"
   ]
  },
  {
   "cell_type": "code",
   "execution_count": 21,
   "id": "euC1wXX_3z2S",
   "metadata": {
    "execution": {
     "iopub.execute_input": "2025-08-02T18:38:26.700626Z",
     "iopub.status.busy": "2025-08-02T18:38:26.700498Z",
     "iopub.status.idle": "2025-08-02T18:40:00.295718Z",
     "shell.execute_reply": "2025-08-02T18:40:00.295142Z"
    },
    "id": "euC1wXX_3z2S",
    "outputId": "e2a5f6a0-ec8a-4adf-b2fb-b5be2d7d93ca",
    "scrolled": false
   },
   "outputs": [
    {
     "name": "stdout",
     "output_type": "stream",
     "text": [
      "malicious: 47978\n",
      "benign: 57205\n",
      "0 NAN in malicious!\n",
      "0 NAN in benign!\n",
      "After droppping NAN rows: \n",
      "malicious: 47978\n",
      "benign: 57205\n"
     ]
    },
    {
     "name": "stderr",
     "output_type": "stream",
     "text": [
      "\r",
      "Feature Extraction:   0%|          | 0/160 [00:00<?, ?it/s]"
     ]
    },
    {
     "name": "stderr",
     "output_type": "stream",
     "text": [
      "\r",
      "Feature Extraction:   1%|          | 1/160 [00:02<06:48,  2.57s/it]"
     ]
    },
    {
     "name": "stderr",
     "output_type": "stream",
     "text": [
      "\r",
      "Feature Extraction:   4%|▍         | 6/160 [00:02<00:51,  2.99it/s]"
     ]
    },
    {
     "name": "stderr",
     "output_type": "stream",
     "text": [
      "\r",
      "Feature Extraction:   6%|▌         | 9/160 [00:02<00:30,  4.87it/s]"
     ]
    },
    {
     "name": "stderr",
     "output_type": "stream",
     "text": [
      "\r",
      "Feature Extraction:   9%|▉         | 14/160 [00:02<00:16,  8.67it/s]"
     ]
    },
    {
     "name": "stderr",
     "output_type": "stream",
     "text": [
      "\r",
      "Feature Extraction:  11%|█▏        | 18/160 [00:03<00:12, 10.95it/s]"
     ]
    },
    {
     "name": "stderr",
     "output_type": "stream",
     "text": [
      "\r",
      "Feature Extraction:  15%|█▌        | 24/160 [00:03<00:08, 16.60it/s]"
     ]
    },
    {
     "name": "stderr",
     "output_type": "stream",
     "text": [
      "\r",
      "Feature Extraction:  18%|█▊        | 28/160 [00:03<00:06, 19.14it/s]"
     ]
    },
    {
     "name": "stderr",
     "output_type": "stream",
     "text": [
      "\r",
      "Feature Extraction:  20%|██        | 32/160 [00:03<00:06, 19.78it/s]"
     ]
    },
    {
     "name": "stderr",
     "output_type": "stream",
     "text": [
      "\r",
      "Feature Extraction:  22%|██▏       | 35/160 [00:04<00:19,  6.52it/s]"
     ]
    },
    {
     "name": "stderr",
     "output_type": "stream",
     "text": [
      "\r",
      "Feature Extraction:  24%|██▍       | 38/160 [00:05<00:15,  7.89it/s]"
     ]
    },
    {
     "name": "stderr",
     "output_type": "stream",
     "text": [
      "\r",
      "Feature Extraction:  26%|██▋       | 42/160 [00:05<00:11, 10.23it/s]"
     ]
    },
    {
     "name": "stderr",
     "output_type": "stream",
     "text": [
      "\r",
      "Feature Extraction:  28%|██▊       | 45/160 [00:05<00:09, 11.82it/s]"
     ]
    },
    {
     "name": "stderr",
     "output_type": "stream",
     "text": [
      "\r",
      "Feature Extraction:  30%|███       | 48/160 [00:05<00:08, 13.92it/s]"
     ]
    },
    {
     "name": "stderr",
     "output_type": "stream",
     "text": [
      "\r",
      "Feature Extraction:  32%|███▏      | 51/160 [00:05<00:07, 14.78it/s]"
     ]
    },
    {
     "name": "stderr",
     "output_type": "stream",
     "text": [
      "\r",
      "Feature Extraction:  34%|███▍      | 54/160 [00:05<00:06, 15.52it/s]"
     ]
    },
    {
     "name": "stderr",
     "output_type": "stream",
     "text": [
      "\r",
      "Feature Extraction:  36%|███▌      | 57/160 [00:06<00:06, 17.05it/s]"
     ]
    },
    {
     "name": "stderr",
     "output_type": "stream",
     "text": [
      "\r",
      "Feature Extraction:  38%|███▊      | 60/160 [00:06<00:05, 19.51it/s]"
     ]
    },
    {
     "name": "stderr",
     "output_type": "stream",
     "text": [
      "\r",
      "Feature Extraction:  39%|███▉      | 63/160 [00:06<00:04, 21.72it/s]"
     ]
    },
    {
     "name": "stderr",
     "output_type": "stream",
     "text": [
      "\r",
      "Feature Extraction:  41%|████▏     | 66/160 [00:07<00:14,  6.66it/s]"
     ]
    },
    {
     "name": "stderr",
     "output_type": "stream",
     "text": [
      "\r",
      "Feature Extraction:  42%|████▎     | 68/160 [00:07<00:13,  6.98it/s]"
     ]
    },
    {
     "name": "stderr",
     "output_type": "stream",
     "text": [
      "\r",
      "Feature Extraction:  44%|████▍     | 70/160 [00:07<00:11,  8.11it/s]"
     ]
    },
    {
     "name": "stderr",
     "output_type": "stream",
     "text": [
      "\r",
      "Feature Extraction:  46%|████▌     | 73/160 [00:07<00:08, 10.41it/s]"
     ]
    },
    {
     "name": "stderr",
     "output_type": "stream",
     "text": [
      "\r",
      "Feature Extraction:  48%|████▊     | 77/160 [00:08<00:06, 13.24it/s]"
     ]
    },
    {
     "name": "stderr",
     "output_type": "stream",
     "text": [
      "\r",
      "Feature Extraction:  50%|█████     | 80/160 [00:08<00:05, 15.79it/s]"
     ]
    },
    {
     "name": "stderr",
     "output_type": "stream",
     "text": [
      "\r",
      "Feature Extraction:  52%|█████▏    | 83/160 [00:08<00:04, 16.34it/s]"
     ]
    },
    {
     "name": "stderr",
     "output_type": "stream",
     "text": [
      "\r",
      "Feature Extraction:  54%|█████▍    | 86/160 [00:08<00:04, 17.77it/s]"
     ]
    },
    {
     "name": "stderr",
     "output_type": "stream",
     "text": [
      "\r",
      "Feature Extraction:  56%|█████▌    | 89/160 [00:08<00:04, 17.49it/s]"
     ]
    },
    {
     "name": "stderr",
     "output_type": "stream",
     "text": [
      "\r",
      "Feature Extraction:  57%|█████▊    | 92/160 [00:08<00:03, 18.21it/s]"
     ]
    },
    {
     "name": "stderr",
     "output_type": "stream",
     "text": [
      "\r",
      "Feature Extraction:  59%|█████▉    | 95/160 [00:08<00:03, 19.65it/s]"
     ]
    },
    {
     "name": "stderr",
     "output_type": "stream",
     "text": [
      "\r",
      "Feature Extraction:  61%|██████▏   | 98/160 [00:10<00:10,  5.69it/s]"
     ]
    },
    {
     "name": "stderr",
     "output_type": "stream",
     "text": [
      "\r",
      "Feature Extraction:  64%|██████▍   | 102/160 [00:10<00:07,  7.91it/s]"
     ]
    },
    {
     "name": "stderr",
     "output_type": "stream",
     "text": [
      "\r",
      "Feature Extraction:  65%|██████▌   | 104/160 [00:10<00:06,  8.93it/s]"
     ]
    },
    {
     "name": "stderr",
     "output_type": "stream",
     "text": [
      "\r",
      "Feature Extraction:  68%|██████▊   | 108/160 [00:10<00:04, 12.21it/s]"
     ]
    },
    {
     "name": "stderr",
     "output_type": "stream",
     "text": [
      "\r",
      "Feature Extraction:  69%|██████▉   | 111/160 [00:10<00:03, 14.16it/s]"
     ]
    },
    {
     "name": "stderr",
     "output_type": "stream",
     "text": [
      "\r",
      "Feature Extraction:  71%|███████▏  | 114/160 [00:10<00:02, 16.05it/s]"
     ]
    },
    {
     "name": "stderr",
     "output_type": "stream",
     "text": [
      "\r",
      "Feature Extraction:  73%|███████▎  | 117/160 [00:11<00:02, 16.67it/s]"
     ]
    },
    {
     "name": "stderr",
     "output_type": "stream",
     "text": [
      "\r",
      "Feature Extraction:  75%|███████▌  | 120/160 [00:11<00:02, 16.15it/s]"
     ]
    },
    {
     "name": "stderr",
     "output_type": "stream",
     "text": [
      "\r",
      "Feature Extraction:  77%|███████▋  | 123/160 [00:11<00:02, 17.75it/s]"
     ]
    },
    {
     "name": "stderr",
     "output_type": "stream",
     "text": [
      "\r",
      "Feature Extraction:  79%|███████▉  | 126/160 [00:11<00:01, 18.74it/s]"
     ]
    },
    {
     "name": "stderr",
     "output_type": "stream",
     "text": [
      "\r",
      "Feature Extraction:  81%|████████  | 129/160 [00:12<00:03,  7.91it/s]"
     ]
    },
    {
     "name": "stderr",
     "output_type": "stream",
     "text": [
      "\r",
      "Feature Extraction:  82%|████████▏ | 131/160 [00:12<00:04,  6.55it/s]"
     ]
    },
    {
     "name": "stderr",
     "output_type": "stream",
     "text": [
      "\r",
      "Feature Extraction:  85%|████████▌ | 136/160 [00:13<00:02,  9.79it/s]"
     ]
    },
    {
     "name": "stderr",
     "output_type": "stream",
     "text": [
      "\r",
      "Feature Extraction:  88%|████████▊ | 141/160 [00:13<00:01, 14.10it/s]"
     ]
    },
    {
     "name": "stderr",
     "output_type": "stream",
     "text": [
      "\r",
      "Feature Extraction:  90%|█████████ | 144/160 [00:13<00:01, 15.39it/s]"
     ]
    },
    {
     "name": "stderr",
     "output_type": "stream",
     "text": [
      "\r",
      "Feature Extraction:  94%|█████████▍| 150/160 [00:13<00:00, 20.46it/s]"
     ]
    },
    {
     "name": "stderr",
     "output_type": "stream",
     "text": [
      "\r",
      "Feature Extraction:  96%|█████████▌| 153/160 [00:13<00:00, 20.11it/s]"
     ]
    },
    {
     "name": "stderr",
     "output_type": "stream",
     "text": [
      "\r",
      "Feature Extraction: 100%|██████████| 160/160 [00:13<00:00, 28.63it/s]"
     ]
    },
    {
     "name": "stderr",
     "output_type": "stream",
     "text": [
      "\r",
      "Feature Extraction: 100%|██████████| 160/160 [00:13<00:00, 11.55it/s]"
     ]
    },
    {
     "name": "stderr",
     "output_type": "stream",
     "text": [
      "\n"
     ]
    },
    {
     "name": "stderr",
     "output_type": "stream",
     "text": [
      "\r",
      "Feature Extraction:   0%|          | 0/159 [00:00<?, ?it/s]"
     ]
    },
    {
     "name": "stderr",
     "output_type": "stream",
     "text": [
      "\r",
      "Feature Extraction:   1%|          | 1/159 [00:03<08:02,  3.05s/it]"
     ]
    },
    {
     "name": "stderr",
     "output_type": "stream",
     "text": [
      "\r",
      "Feature Extraction:   3%|▎         | 4/159 [00:03<01:35,  1.63it/s]"
     ]
    },
    {
     "name": "stderr",
     "output_type": "stream",
     "text": [
      "\r",
      "Feature Extraction:   5%|▌         | 8/159 [00:03<00:39,  3.84it/s]"
     ]
    },
    {
     "name": "stderr",
     "output_type": "stream",
     "text": [
      "\r",
      "Feature Extraction:   7%|▋         | 11/159 [00:03<00:25,  5.78it/s]"
     ]
    },
    {
     "name": "stderr",
     "output_type": "stream",
     "text": [
      "\r",
      "Feature Extraction:  10%|█         | 16/159 [00:03<00:14,  9.89it/s]"
     ]
    },
    {
     "name": "stderr",
     "output_type": "stream",
     "text": [
      "\r",
      "Feature Extraction:  13%|█▎        | 20/159 [00:03<00:10, 13.04it/s]"
     ]
    },
    {
     "name": "stderr",
     "output_type": "stream",
     "text": [
      "\r",
      "Feature Extraction:  15%|█▌        | 24/159 [00:03<00:08, 16.18it/s]"
     ]
    },
    {
     "name": "stderr",
     "output_type": "stream",
     "text": [
      "\r",
      "Feature Extraction:  18%|█▊        | 28/159 [00:04<00:08, 15.71it/s]"
     ]
    },
    {
     "name": "stderr",
     "output_type": "stream",
     "text": [
      "\r",
      "Feature Extraction:  19%|█▉        | 31/159 [00:04<00:08, 15.53it/s]"
     ]
    },
    {
     "name": "stderr",
     "output_type": "stream",
     "text": [
      "\r",
      "Feature Extraction:  21%|██▏       | 34/159 [00:05<00:23,  5.40it/s]"
     ]
    },
    {
     "name": "stderr",
     "output_type": "stream",
     "text": [
      "\r",
      "Feature Extraction:  23%|██▎       | 36/159 [00:06<00:22,  5.43it/s]"
     ]
    },
    {
     "name": "stderr",
     "output_type": "stream",
     "text": [
      "\r",
      "Feature Extraction:  24%|██▍       | 38/159 [00:06<00:18,  6.49it/s]"
     ]
    },
    {
     "name": "stderr",
     "output_type": "stream",
     "text": [
      "\r",
      "Feature Extraction:  26%|██▌       | 41/159 [00:06<00:13,  8.57it/s]"
     ]
    },
    {
     "name": "stderr",
     "output_type": "stream",
     "text": [
      "\r",
      "Feature Extraction:  27%|██▋       | 43/159 [00:06<00:12,  9.44it/s]"
     ]
    },
    {
     "name": "stderr",
     "output_type": "stream",
     "text": [
      "\r",
      "Feature Extraction:  29%|██▉       | 46/159 [00:06<00:09, 12.00it/s]"
     ]
    },
    {
     "name": "stderr",
     "output_type": "stream",
     "text": [
      "\r",
      "Feature Extraction:  30%|███       | 48/159 [00:06<00:08, 13.16it/s]"
     ]
    },
    {
     "name": "stderr",
     "output_type": "stream",
     "text": [
      "\r",
      "Feature Extraction:  32%|███▏      | 51/159 [00:06<00:06, 15.66it/s]"
     ]
    },
    {
     "name": "stderr",
     "output_type": "stream",
     "text": [
      "\r",
      "Feature Extraction:  34%|███▍      | 54/159 [00:06<00:05, 18.25it/s]"
     ]
    },
    {
     "name": "stderr",
     "output_type": "stream",
     "text": [
      "\r",
      "Feature Extraction:  36%|███▌      | 57/159 [00:07<00:05, 19.55it/s]"
     ]
    },
    {
     "name": "stderr",
     "output_type": "stream",
     "text": [
      "\r",
      "Feature Extraction:  38%|███▊      | 60/159 [00:07<00:04, 19.92it/s]"
     ]
    },
    {
     "name": "stderr",
     "output_type": "stream",
     "text": [
      "\r",
      "Feature Extraction:  40%|███▉      | 63/159 [00:07<00:05, 18.53it/s]"
     ]
    },
    {
     "name": "stderr",
     "output_type": "stream",
     "text": [
      "\r",
      "Feature Extraction:  42%|████▏     | 66/159 [00:08<00:16,  5.63it/s]"
     ]
    },
    {
     "name": "stderr",
     "output_type": "stream",
     "text": [
      "\r",
      "Feature Extraction:  43%|████▎     | 68/159 [00:09<00:16,  5.59it/s]"
     ]
    },
    {
     "name": "stderr",
     "output_type": "stream",
     "text": [
      "\r",
      "Feature Extraction:  44%|████▍     | 70/159 [00:09<00:13,  6.43it/s]"
     ]
    },
    {
     "name": "stderr",
     "output_type": "stream",
     "text": [
      "\r",
      "Feature Extraction:  45%|████▌     | 72/159 [00:09<00:11,  7.57it/s]"
     ]
    },
    {
     "name": "stderr",
     "output_type": "stream",
     "text": [
      "\r",
      "Feature Extraction:  47%|████▋     | 74/159 [00:09<00:09,  8.62it/s]"
     ]
    },
    {
     "name": "stderr",
     "output_type": "stream",
     "text": [
      "\r",
      "Feature Extraction:  48%|████▊     | 76/159 [00:09<00:08,  9.70it/s]"
     ]
    },
    {
     "name": "stderr",
     "output_type": "stream",
     "text": [
      "\r",
      "Feature Extraction:  49%|████▉     | 78/159 [00:09<00:07, 11.34it/s]"
     ]
    },
    {
     "name": "stderr",
     "output_type": "stream",
     "text": [
      "\r",
      "Feature Extraction:  51%|█████     | 81/159 [00:09<00:05, 14.36it/s]"
     ]
    },
    {
     "name": "stderr",
     "output_type": "stream",
     "text": [
      "\r",
      "Feature Extraction:  52%|█████▏    | 83/159 [00:10<00:05, 15.11it/s]"
     ]
    },
    {
     "name": "stderr",
     "output_type": "stream",
     "text": [
      "\r",
      "Feature Extraction:  54%|█████▍    | 86/159 [00:10<00:04, 18.23it/s]"
     ]
    },
    {
     "name": "stderr",
     "output_type": "stream",
     "text": [
      "\r",
      "Feature Extraction:  56%|█████▌    | 89/159 [00:10<00:03, 18.44it/s]"
     ]
    },
    {
     "name": "stderr",
     "output_type": "stream",
     "text": [
      "\r",
      "Feature Extraction:  58%|█████▊    | 92/159 [00:10<00:03, 18.23it/s]"
     ]
    },
    {
     "name": "stderr",
     "output_type": "stream",
     "text": [
      "\r",
      "Feature Extraction:  59%|█████▉    | 94/159 [00:10<00:05, 11.99it/s]"
     ]
    },
    {
     "name": "stderr",
     "output_type": "stream",
     "text": [
      "\r",
      "Feature Extraction:  60%|██████    | 96/159 [00:10<00:04, 13.22it/s]"
     ]
    },
    {
     "name": "stderr",
     "output_type": "stream",
     "text": [
      "\r",
      "Feature Extraction:  62%|██████▏   | 98/159 [00:11<00:09,  6.17it/s]"
     ]
    },
    {
     "name": "stderr",
     "output_type": "stream",
     "text": [
      "\r",
      "Feature Extraction:  63%|██████▎   | 100/159 [00:12<00:09,  5.99it/s]"
     ]
    },
    {
     "name": "stderr",
     "output_type": "stream",
     "text": [
      "\r",
      "Feature Extraction:  64%|██████▍   | 102/159 [00:12<00:09,  5.86it/s]"
     ]
    },
    {
     "name": "stderr",
     "output_type": "stream",
     "text": [
      "\r",
      "Feature Extraction:  65%|██████▌   | 104/159 [00:12<00:07,  6.98it/s]"
     ]
    },
    {
     "name": "stderr",
     "output_type": "stream",
     "text": [
      "\r",
      "Feature Extraction:  67%|██████▋   | 106/159 [00:12<00:06,  8.55it/s]"
     ]
    },
    {
     "name": "stderr",
     "output_type": "stream",
     "text": [
      "\r",
      "Feature Extraction:  68%|██████▊   | 108/159 [00:12<00:05,  9.99it/s]"
     ]
    },
    {
     "name": "stderr",
     "output_type": "stream",
     "text": [
      "\r",
      "Feature Extraction:  69%|██████▉   | 110/159 [00:13<00:04, 11.18it/s]"
     ]
    },
    {
     "name": "stderr",
     "output_type": "stream",
     "text": [
      "\r",
      "Feature Extraction:  70%|███████   | 112/159 [00:13<00:04, 11.75it/s]"
     ]
    },
    {
     "name": "stderr",
     "output_type": "stream",
     "text": [
      "\r",
      "Feature Extraction:  72%|███████▏  | 114/159 [00:13<00:03, 13.17it/s]"
     ]
    },
    {
     "name": "stderr",
     "output_type": "stream",
     "text": [
      "\r",
      "Feature Extraction:  74%|███████▎  | 117/159 [00:13<00:02, 14.78it/s]"
     ]
    },
    {
     "name": "stderr",
     "output_type": "stream",
     "text": [
      "\r",
      "Feature Extraction:  76%|███████▌  | 121/159 [00:13<00:02, 17.51it/s]"
     ]
    },
    {
     "name": "stderr",
     "output_type": "stream",
     "text": [
      "\r",
      "Feature Extraction:  77%|███████▋  | 123/159 [00:13<00:02, 17.70it/s]"
     ]
    },
    {
     "name": "stderr",
     "output_type": "stream",
     "text": [
      "\r",
      "Feature Extraction:  79%|███████▉  | 126/159 [00:13<00:01, 18.87it/s]"
     ]
    },
    {
     "name": "stderr",
     "output_type": "stream",
     "text": [
      "\r",
      "Feature Extraction:  81%|████████  | 128/159 [00:14<00:02, 10.71it/s]"
     ]
    },
    {
     "name": "stderr",
     "output_type": "stream",
     "text": [
      "\r",
      "Feature Extraction:  82%|████████▏ | 130/159 [00:14<00:03,  7.75it/s]"
     ]
    },
    {
     "name": "stderr",
     "output_type": "stream",
     "text": [
      "\r",
      "Feature Extraction:  83%|████████▎ | 132/159 [00:15<00:04,  6.06it/s]"
     ]
    },
    {
     "name": "stderr",
     "output_type": "stream",
     "text": [
      "\r",
      "Feature Extraction:  84%|████████▎ | 133/159 [00:15<00:04,  5.98it/s]"
     ]
    },
    {
     "name": "stderr",
     "output_type": "stream",
     "text": [
      "\r",
      "Feature Extraction:  84%|████████▍ | 134/159 [00:15<00:04,  6.13it/s]"
     ]
    },
    {
     "name": "stderr",
     "output_type": "stream",
     "text": [
      "\r",
      "Feature Extraction:  86%|████████▌ | 137/159 [00:15<00:02,  8.65it/s]"
     ]
    },
    {
     "name": "stderr",
     "output_type": "stream",
     "text": [
      "\r",
      "Feature Extraction:  89%|████████▊ | 141/159 [00:15<00:01, 12.67it/s]"
     ]
    },
    {
     "name": "stderr",
     "output_type": "stream",
     "text": [
      "\r",
      "Feature Extraction:  91%|█████████ | 144/159 [00:16<00:00, 15.40it/s]"
     ]
    },
    {
     "name": "stderr",
     "output_type": "stream",
     "text": [
      "\r",
      "Feature Extraction:  94%|█████████▍| 150/159 [00:16<00:00, 23.92it/s]"
     ]
    },
    {
     "name": "stderr",
     "output_type": "stream",
     "text": [
      "\r",
      "Feature Extraction:  97%|█████████▋| 154/159 [00:16<00:00, 23.75it/s]"
     ]
    },
    {
     "name": "stderr",
     "output_type": "stream",
     "text": [
      "\r",
      "Feature Extraction:  99%|█████████▊| 157/159 [00:16<00:00, 22.30it/s]"
     ]
    },
    {
     "name": "stderr",
     "output_type": "stream",
     "text": [
      "\r",
      "Feature Extraction: 100%|██████████| 159/159 [00:16<00:00,  9.62it/s]"
     ]
    },
    {
     "name": "stderr",
     "output_type": "stream",
     "text": [
      "\n"
     ]
    },
    {
     "name": "stdout",
     "output_type": "stream",
     "text": [
      "let the ml starts\n"
     ]
    },
    {
     "name": "stdout",
     "output_type": "stream",
     "text": [
      "LogReg\n",
      "              precision    recall  f1-score   support\n",
      "\n",
      "   malignant       0.96      0.94      0.95      1442\n",
      "      benign       0.93      0.95      0.94      1188\n",
      "\n",
      "    accuracy                           0.95      2630\n",
      "   macro avg       0.95      0.95      0.95      2630\n",
      "weighted avg       0.95      0.95      0.95      2630\n",
      "\n",
      "   fit_time  score_time  test_accuracy  test_precision_weighted  \\\n",
      "0  7.656050    0.008546       0.954373                 0.955238   \n",
      "1  7.255023    0.008159       0.948035                 0.948501   \n",
      "2  7.894636    0.008072       0.951204                 0.951252   \n",
      "3  6.919527    0.008014       0.961977                 0.962090   \n",
      "4  7.796490    0.008092       0.958782                 0.958982   \n",
      "\n",
      "   test_recall_weighted  test_f1_weighted  test_roc_auc   model  \n",
      "0              0.954373          0.954413      0.988854  LogReg  \n",
      "1              0.948035          0.948083      0.986591  LogReg  \n",
      "2              0.951204          0.951218      0.985228  LogReg  \n",
      "3              0.961977          0.961995      0.990182  LogReg  \n",
      "4              0.958782          0.958816      0.986098  LogReg  \n"
     ]
    },
    {
     "name": "stdout",
     "output_type": "stream",
     "text": [
      "KNN\n",
      "              precision    recall  f1-score   support\n",
      "\n",
      "   malignant       0.97      0.94      0.96      1442\n",
      "      benign       0.93      0.97      0.95      1188\n",
      "\n",
      "    accuracy                           0.95      2630\n",
      "   macro avg       0.95      0.95      0.95      2630\n",
      "weighted avg       0.95      0.95      0.95      2630\n",
      "\n",
      "   fit_time  score_time  test_accuracy  test_precision_weighted  \\\n",
      "0  7.656050    0.008546       0.954373                 0.955238   \n",
      "1  7.255023    0.008159       0.948035                 0.948501   \n",
      "2  7.894636    0.008072       0.951204                 0.951252   \n",
      "3  6.919527    0.008014       0.961977                 0.962090   \n",
      "4  7.796490    0.008092       0.958782                 0.958982   \n",
      "5  0.005692    0.137763       0.947402                 0.948129   \n",
      "6  0.006209    0.133976       0.945501                 0.946218   \n",
      "7  0.006366    0.065095       0.946768                 0.947184   \n",
      "8  0.006123    0.058681       0.960710                 0.960964   \n",
      "9  0.006093    0.058449       0.954978                 0.955432   \n",
      "\n",
      "   test_recall_weighted  test_f1_weighted  test_roc_auc   model  \n",
      "0              0.954373          0.954413      0.988854  LogReg  \n",
      "1              0.948035          0.948083      0.986591  LogReg  \n",
      "2              0.951204          0.951218      0.985228  LogReg  \n",
      "3              0.961977          0.961995      0.990182  LogReg  \n",
      "4              0.958782          0.958816      0.986098  LogReg  \n",
      "5              0.947402          0.947445      0.979074     KNN  \n",
      "6              0.945501          0.945561      0.977915     KNN  \n",
      "7              0.946768          0.946823      0.980574     KNN  \n",
      "8              0.960710          0.960738      0.985192     KNN  \n",
      "9              0.954978          0.955035      0.982651     KNN  \n"
     ]
    },
    {
     "name": "stdout",
     "output_type": "stream",
     "text": [
      "SVM\n",
      "              precision    recall  f1-score   support\n",
      "\n",
      "   malignant       0.98      0.93      0.95      1442\n",
      "      benign       0.92      0.98      0.94      1188\n",
      "\n",
      "    accuracy                           0.95      2630\n",
      "   macro avg       0.95      0.95      0.95      2630\n",
      "weighted avg       0.95      0.95      0.95      2630\n",
      "\n",
      "    fit_time  score_time  test_accuracy  test_precision_weighted  \\\n",
      "0   7.656050    0.008546       0.954373                 0.955238   \n",
      "1   7.255023    0.008159       0.948035                 0.948501   \n",
      "2   7.894636    0.008072       0.951204                 0.951252   \n",
      "3   6.919527    0.008014       0.961977                 0.962090   \n",
      "4   7.796490    0.008092       0.958782                 0.958982   \n",
      "5   0.005692    0.137763       0.947402                 0.948129   \n",
      "6   0.006209    0.133976       0.945501                 0.946218   \n",
      "7   0.006366    0.065095       0.946768                 0.947184   \n",
      "8   0.006123    0.058681       0.960710                 0.960964   \n",
      "9   0.006093    0.058449       0.954978                 0.955432   \n",
      "10  0.564044    0.395533       0.950570                 0.952734   \n",
      "11  0.522067    0.361794       0.942332                 0.943898   \n",
      "12  0.534508    0.371407       0.948669                 0.949275   \n",
      "13  0.557276    0.388790       0.965779                 0.966464   \n",
      "14  0.538647    0.397935       0.953075                 0.954501   \n",
      "\n",
      "    test_recall_weighted  test_f1_weighted  test_roc_auc   model  \n",
      "0               0.954373          0.954413      0.988854  LogReg  \n",
      "1               0.948035          0.948083      0.986591  LogReg  \n",
      "2               0.951204          0.951218      0.985228  LogReg  \n",
      "3               0.961977          0.961995      0.990182  LogReg  \n",
      "4               0.958782          0.958816      0.986098  LogReg  \n",
      "5               0.947402          0.947445      0.979074     KNN  \n",
      "6               0.945501          0.945561      0.977915     KNN  \n",
      "7               0.946768          0.946823      0.980574     KNN  \n",
      "8               0.960710          0.960738      0.985192     KNN  \n",
      "9               0.954978          0.955035      0.982651     KNN  \n",
      "10              0.950570          0.950620      0.985359     SVM  \n",
      "11              0.942332          0.942415      0.983809     SVM  \n",
      "12              0.948669          0.948733      0.977010     SVM  \n",
      "13              0.965779          0.965817      0.989270     SVM  \n",
      "14              0.953075          0.953173      0.983558     SVM  \n",
      "GNB\n",
      "              precision    recall  f1-score   support\n",
      "\n",
      "   malignant       0.99      0.92      0.95      1442\n",
      "      benign       0.91      0.98      0.94      1188\n",
      "\n",
      "    accuracy                           0.95      2630\n",
      "   macro avg       0.95      0.95      0.95      2630\n",
      "weighted avg       0.95      0.95      0.95      2630\n",
      "\n",
      "    fit_time  score_time  test_accuracy  test_precision_weighted  \\\n",
      "0   7.656050    0.008546       0.954373                 0.955238   \n",
      "1   7.255023    0.008159       0.948035                 0.948501   \n",
      "2   7.894636    0.008072       0.951204                 0.951252   \n",
      "3   6.919527    0.008014       0.961977                 0.962090   \n",
      "4   7.796490    0.008092       0.958782                 0.958982   \n",
      "5   0.005692    0.137763       0.947402                 0.948129   \n",
      "6   0.006209    0.133976       0.945501                 0.946218   \n",
      "7   0.006366    0.065095       0.946768                 0.947184   \n",
      "8   0.006123    0.058681       0.960710                 0.960964   \n",
      "9   0.006093    0.058449       0.954978                 0.955432   \n",
      "10  0.564044    0.395533       0.950570                 0.952734   \n",
      "11  0.522067    0.361794       0.942332                 0.943898   \n",
      "12  0.534508    0.371407       0.948669                 0.949275   \n",
      "13  0.557276    0.388790       0.965779                 0.966464   \n",
      "14  0.538647    0.397935       0.953075                 0.954501   \n",
      "15  0.013525    0.009092       0.944233                 0.949407   \n",
      "16  0.013416    0.009002       0.937262                 0.940643   \n",
      "17  0.013486    0.009043       0.950570                 0.952374   \n",
      "18  0.013456    0.008955       0.961977                 0.963584   \n",
      "19  0.013465    0.008894       0.948003                 0.951409   \n",
      "\n",
      "    test_recall_weighted  test_f1_weighted  test_roc_auc   model  \n",
      "0               0.954373          0.954413      0.988854  LogReg  \n",
      "1               0.948035          0.948083      0.986591  LogReg  \n",
      "2               0.951204          0.951218      0.985228  LogReg  \n",
      "3               0.961977          0.961995      0.990182  LogReg  \n",
      "4               0.958782          0.958816      0.986098  LogReg  \n",
      "5               0.947402          0.947445      0.979074     KNN  \n",
      "6               0.945501          0.945561      0.977915     KNN  \n",
      "7               0.946768          0.946823      0.980574     KNN  \n",
      "8               0.960710          0.960738      0.985192     KNN  \n",
      "9               0.954978          0.955035      0.982651     KNN  \n",
      "10              0.950570          0.950620      0.985359     SVM  \n",
      "11              0.942332          0.942415      0.983809     SVM  \n",
      "12              0.948669          0.948733      0.977010     SVM  \n",
      "13              0.965779          0.965817      0.989270     SVM  \n",
      "14              0.953075          0.953173      0.983558     SVM  \n",
      "15              0.944233          0.944266      0.948686     GNB  \n",
      "16              0.937262          0.937362      0.949131     GNB  \n",
      "17              0.950570          0.950664      0.960792     GNB  \n",
      "18              0.961977          0.962032      0.968641     GNB  \n",
      "19              0.948003          0.948144      0.961151     GNB  \n",
      "93.55278043448925\n"
     ]
    }
   ],
   "source": [
    "## S7: IoT compromised (IoT + IoT)\n",
    "\n",
    "df_malicious = pd.concat([df1,df34])\n",
    "\n",
    "df_benign = pd.concat([df16])\n",
    "\n",
    "print(\"malicious: {}\".format(len(df_malicious)))\n",
    "print(\"benign: {}\".format(len(df_benign)))\n",
    "\n",
    "print(\"{} NAN in malicious!\".format(len(df_malicious[df_malicious.isna().any(axis=1)])))\n",
    "print(\"{} NAN in benign!\".format(len(df_benign[df_benign.isna().any(axis=1)])))\n",
    "\n",
    "df_malicious = df_malicious.dropna()\n",
    "df_benign = df_benign.dropna()\n",
    "\n",
    "print(\"After droppping NAN rows: \")\n",
    "print(\"malicious: {}\".format(len(df_malicious)))\n",
    "print(\"benign: {}\".format(len(df_benign)))\n",
    "\n",
    "\n",
    "start = timer()\n",
    "\n",
    "results_all_combined_s0 = run_process(df_malicious,df_benign,df_results)\n",
    "\n",
    "end = timer()\n",
    "print(end - start)\n",
    "\n",
    "\n"
   ]
  }
 ],
 "metadata": {
  "colab": {
   "provenance": []
  },
  "kernelspec": {
   "display_name": "Python 3",
   "language": "python",
   "name": "python3"
  },
  "language_info": {
   "codemirror_mode": {
    "name": "ipython",
    "version": 3
   },
   "file_extension": ".py",
   "mimetype": "text/x-python",
   "name": "python",
   "nbconvert_exporter": "python",
   "pygments_lexer": "ipython3",
   "version": "3.10.6"
  }
 },
 "nbformat": 4,
 "nbformat_minor": 5
}
