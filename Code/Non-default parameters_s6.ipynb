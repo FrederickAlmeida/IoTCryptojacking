{
 "cells": [
  {
   "cell_type": "code",
   "execution_count": 1,
   "id": "ce4de6c6",
   "metadata": {
    "execution": {
     "iopub.execute_input": "2025-08-09T15:25:25.341851Z",
     "iopub.status.busy": "2025-08-09T15:25:25.341368Z",
     "iopub.status.idle": "2025-08-09T15:25:36.897974Z",
     "shell.execute_reply": "2025-08-09T15:25:36.896861Z"
    },
    "scrolled": false
   },
   "outputs": [],
   "source": [
    "import pandas as pd\n",
    "import tsfresh\n",
    "import os\n",
    "import json\n",
    "import scapy\n",
    "import numpy as np\n",
    "import warnings\n",
    "from timeit import default_timer as timer\n",
    "\n",
    "from scapy.all import *\n",
    "\n",
    "warnings.filterwarnings(\"ignore\") #ignore warnings caused by \n",
    "\n",
    "\n",
    "#################################################################\n",
    "#                                                               #\n",
    "#               malicious csv files import                      #\n",
    "#                                                               #\n",
    "#################################################################\n",
    "\n",
    "\n",
    "df1 = pd.read_csv('../Data/malicious/WebOS_binary.csv') #\n",
    "df2 = pd.read_csv('../Data/malicious/Server_Binary.csv') #\n",
    "df3 = pd.read_csv('../Data/malicious/Raspberry_Webmine_Robust.csv')\n",
    "df4 = pd.read_csv('../Data/malicious/Raspberry_Binary.csv') #\n",
    "df5 = pd.read_csv('../Data/malicious/Raspberry_Webmine_Aggressive.csv')\n",
    "df6 = pd.read_csv('../Data/malicious/Raspberry_WebminePool_Aggressive.csv')\n",
    "df7 = pd.read_csv('../Data/malicious/Server_WebminePool_Aggressive.csv') #\n",
    "df32 = pd.read_csv('../Data/malicious/Server_WebminePool_Robust.csv') #\n",
    "df33 = pd.read_csv('../Data/malicious/Raspberry_WebminePool_Stealthy.csv') #\n",
    "df34 = pd.read_csv('../Data/malicious/Raspberry_WebminePool_Robust.csv') #\n",
    "df35 = pd.read_csv('../Data/malicious/Desktop_WebminePool_Aggressive.csv') #\n",
    "\n",
    "\n",
    "#################################################################\n",
    "#                                                               #\n",
    "#               benign-1 csv files import                         #\n",
    "#                                                               #\n",
    "#################################################################\n",
    "\n",
    "df8 = pd.read_csv('../Data/benign-1/interactive_01.csv') #\n",
    "df9 = pd.read_csv('../Data/benign-1/interactive_02.csv') #\n",
    "df10 = pd.read_csv('../Data/benign-1/interactive_03.csv') #\n",
    "df11 = pd.read_csv('../Data/benign-1/interactive_04.csv') #\n",
    "df12 = pd.read_csv('../Data/benign-1/interactive_05.csv') #\n",
    "df13 = pd.read_csv('../Data/benign-1/interactive_06.csv') #\n",
    "df14 = pd.read_csv('../Data/benign-1/web_1page_01.csv') #\n",
    "df15 = pd.read_csv('../Data/benign-1/web_1page_02.csv') #\n",
    "df16 = pd.read_csv('../Data/benign-1/web_1page_03.csv') #\n",
    "df17 = pd.read_csv('../Data/benign-1/web_1page_04.csv') #\n",
    "df18 = pd.read_csv('../Data/benign-1/web_1page_05.csv') #\n",
    "df19 = pd.read_csv('../Data/benign-1/bulk_xs_04.csv') #\n",
    "df20 = pd.read_csv('../Data/benign-1/bulk_xs_05.csv') #\n",
    "df21 = pd.read_csv('../Data/benign-1/video_180s480p_01.csv') #\n",
    "df22 = pd.read_csv('../Data/benign-1/video_180s480p_02.csv') #\n",
    "df23 = pd.read_csv('../Data/benign-1/video_x1_04.csv') #\n",
    "df24 = pd.read_csv('../Data/benign-1/web_multiple_04.csv') #\n",
    "df25 = pd.read_csv('../Data/benign-1/bulk_xs_01.csv') #\n",
    "df26 = pd.read_csv('../Data/benign-1/bulk_xs_09.csv') #\n",
    "df27 = pd.read_csv('../Data/benign-1/bulk_xs_06.csv') #\n",
    "df28 = pd.read_csv('../Data/benign-1/bulk_xs_03.csv') #\n",
    "df29 = pd.read_csv('../Data/benign-1/web_multiple_03.csv') #\n",
    "df30 = pd.read_csv('../Data/benign-1/web_multiple_05.csv') #\n",
    "df31 = pd.read_csv('../Data/benign-1/web_multiple_06.csv') #\n",
    "\n",
    "df_results = pd.DataFrame()"
   ]
  },
  {
   "cell_type": "code",
   "execution_count": 2,
   "id": "288707df",
   "metadata": {
    "execution": {
     "iopub.execute_input": "2025-08-09T15:25:36.900899Z",
     "iopub.status.busy": "2025-08-09T15:25:36.900655Z",
     "iopub.status.idle": "2025-08-09T15:25:36.913439Z",
     "shell.execute_reply": "2025-08-09T15:25:36.912540Z"
    },
    "scrolled": false
   },
   "outputs": [
    {
     "name": "stdout",
     "output_type": "stream",
     "text": [
      "df1 -->> 43173\n",
      "df2 -->> 1213354\n",
      "df3 -->> 3621\n",
      "df4 -->> 22111\n",
      "df5 -->> 14156\n",
      "df6 -->> 24476\n",
      "df7 -->> 3106\n",
      "df32 -->> 18460\n",
      "df33 -->> 10285\n",
      "df34 -->> 7708\n",
      "df35 -->> 234892\n",
      "/////////////////////////////////////////////////\n",
      "df8 -->> 4550\n",
      "df9 -->> 3869\n",
      "df10 -->> 5327\n",
      "df11 -->> 4727\n",
      "df12 -->> 4190\n",
      "df13 -->> 3481\n",
      "df14 -->> 38576\n",
      "df15 -->> 5961\n",
      "df16 -->> 1803\n",
      "df17 -->> 7029\n",
      "df18 -->> 1012\n",
      "df19 -->> 96545\n",
      "df20 -->> 108065\n",
      "df21 -->> 25138\n",
      "df22 -->> 91274\n",
      "df23 -->> 23597\n",
      "df24 -->> 59635\n",
      "df25 -->> 625216\n",
      "df26 -->> 266935\n",
      "df27 -->> 453471\n",
      "df28 -->> 654495\n",
      "df29 -->> 6764\n",
      "df30 -->> 25300\n",
      "df31 -->> 3689\n"
     ]
    }
   ],
   "source": [
    "print(\"df1 -->> {}\".format(len(df1)))\n",
    "print(\"df2 -->> {}\".format(len(df2)))\n",
    "print(\"df3 -->> {}\".format(len(df3)))\n",
    "print(\"df4 -->> {}\".format(len(df4)))\n",
    "print(\"df5 -->> {}\".format(len(df5)))\n",
    "print(\"df6 -->> {}\".format(len(df6)))\n",
    "print(\"df7 -->> {}\".format(len(df7)))\n",
    "print(\"df32 -->> {}\".format(len(df32)))\n",
    "print(\"df33 -->> {}\".format(len(df33)))\n",
    "print(\"df34 -->> {}\".format(len(df34)))\n",
    "print(\"df35 -->> {}\".format(len(df35)))\n",
    "print(\"/////////////////////////////////////////////////\")\n",
    "\n",
    "\n",
    "print(\"df8 -->> {}\".format(len(df8)))\n",
    "print(\"df9 -->> {}\".format(len(df9)))\n",
    "print(\"df10 -->> {}\".format(len(df10)))\n",
    "print(\"df11 -->> {}\".format(len(df11)))\n",
    "print(\"df12 -->> {}\".format(len(df12)))\n",
    "print(\"df13 -->> {}\".format(len(df13)))\n",
    "print(\"df14 -->> {}\".format(len(df14)))\n",
    "print(\"df15 -->> {}\".format(len(df15)))\n",
    "print(\"df16 -->> {}\".format(len(df16)))\n",
    "print(\"df17 -->> {}\".format(len(df17)))\n",
    "print(\"df18 -->> {}\".format(len(df18)))\n",
    "print(\"df19 -->> {}\".format(len(df19)))\n",
    "print(\"df20 -->> {}\".format(len(df20)))\n",
    "print(\"df21 -->> {}\".format(len(df21)))\n",
    "print(\"df22 -->> {}\".format(len(df22)))\n",
    "print(\"df23 -->> {}\".format(len(df23)))\n",
    "print(\"df24 -->> {}\".format(len(df24)))\n",
    "print(\"df25 -->> {}\".format(len(df25)))\n",
    "print(\"df26 -->> {}\".format(len(df26)))\n",
    "print(\"df27 -->> {}\".format(len(df27)))\n",
    "print(\"df28 -->> {}\".format(len(df28)))\n",
    "print(\"df29 -->> {}\".format(len(df29)))\n",
    "print(\"df30 -->> {}\".format(len(df30)))\n",
    "print(\"df31 -->> {}\".format(len(df31)))\n"
   ]
  },
  {
   "cell_type": "code",
   "execution_count": 3,
   "id": "2803476e",
   "metadata": {
    "execution": {
     "iopub.execute_input": "2025-08-09T15:25:36.915662Z",
     "iopub.status.busy": "2025-08-09T15:25:36.915430Z",
     "iopub.status.idle": "2025-08-09T15:25:37.316507Z",
     "shell.execute_reply": "2025-08-09T15:25:37.315530Z"
    }
   },
   "outputs": [],
   "source": [
    "#################################################################\n",
    "#                                                               #\n",
    "#                     Filtering                                 #\n",
    "#                                                               #\n",
    "#################################################################\n",
    "\n",
    "# For WebOS = 18:56:80:17:d0:ef\n",
    "index_names = df1[((df1['HW_dst'] != '18:56:80:17:d0:ef') & (df1['Hw_src'] != '18:56:80:17:d0:ef'))].index\n",
    "df1.drop(index_names, inplace = True)\n",
    "\n",
    "# Big_Server_Monero_mining_data = a4:bb:6d:ac:e1:fd\n",
    "\n",
    "index_names = df2[((df2['HW_dst'] != 'a4:bb:6d:ac:e1:fd') & (df2['Hw_src'] != 'a4:bb:6d:ac:e1:fd'))].index\n",
    "df2.drop(index_names, inplace = True)\n",
    "\n",
    "# ege_data_rasberry = dc:a6:32:67:66:4b\t\n",
    "\n",
    "index_names = df3[((df3['HW_dst'] != 'dc:a6:32:67:66:4b') & (df3['Hw_src'] != 'dc:a6:32:67:66:4b'))].index\n",
    "df3.drop(index_names, inplace = True)\n",
    "\n",
    "# Rasberry_binary_monero_mining = dc:a6:32:68:35:8a\n",
    "\n",
    "index_names = df4[((df4['HW_dst'] != 'dc:a6:32:68:35:8a') & (df4['Hw_src'] != 'dc:a6:32:68:35:8a'))].index\n",
    "df4.drop(index_names, inplace = True)\n",
    "\n",
    "# Rasberry_network_data_2 = dc:a6:32:67:66:4b\n",
    "\n",
    "index_names = df5[((df5['HW_dst'] != 'dc:a6:32:67:66:4b') & (df5['Hw_src'] != 'dc:a6:32:67:66:4b'))].index\n",
    "df5.drop(index_names, inplace = True)\n",
    "\n",
    "# Rasberry-Webmine = dc:a6:32:67:66:4b\n",
    "index_names = df6[((df6['HW_dst'] != 'dc:a6:32:67:66:4b') & (df6['Hw_src'] != 'dc:a6:32:67:66:4b'))].index\n",
    "df6.drop(index_names, inplace = True)\n",
    "\n",
    "# Server_Webmine_Network_data = a4:bb:6d:ac:e1:fd\n",
    "\n",
    "index_names = df7[((df7['HW_dst'] != 'a4:bb:6d:ac:e1:fd') & (df7['Hw_src'] != 'a4:bb:6d:ac:e1:fd'))].index\n",
    "df7.drop(index_names, inplace = True)\n",
    "\n",
    "# Server_%50_Mining = a4:bb:6d:ac:e1:fd\n",
    "\n",
    "index_names = df32[((df32['HW_dst'] != 'a4:bb:6d:ac:e1:fd') & (df32['Hw_src'] != 'a4:bb:6d:ac:e1:fd'))].index\n",
    "df32.drop(index_names, inplace = True)\n",
    "\n",
    "# Rasberry_webmine_%10 = dc:a6:32:67:66:4b\n",
    "\n",
    "index_names = df33[((df33['HW_dst'] != 'dc:a6:32:67:66:4b') & (df33['Hw_src'] != 'dc:a6:32:67:66:4b'))].index\n",
    "df33.drop(index_names, inplace = True)\n",
    "\n",
    "# Rasberry_webmine_%50 = dc:a6:32:68:35:8a\n",
    "\n",
    "index_names = df34[((df34['HW_dst'] != 'dc:a6:32:68:35:8a') & (df34['Hw_src'] != 'dc:a6:32:68:35:8a'))].index\n",
    "df34.drop(index_names, inplace = True)\n",
    "\n",
    "# Desktop_Webmine_%100 = dc:a6:32:68:35:8a\n",
    "\n",
    "index_names = df35[((df35['HW_dst'] != 'd8:3b:bf:8f:ba:ba') & (df35['Hw_src'] != 'd8:3b:bf:8f:ba:ba'))].index\n",
    "df35.drop(index_names, inplace = True)"
   ]
  },
  {
   "cell_type": "code",
   "execution_count": 4,
   "id": "0f51b475",
   "metadata": {
    "execution": {
     "iopub.execute_input": "2025-08-09T15:25:37.319225Z",
     "iopub.status.busy": "2025-08-09T15:25:37.318974Z",
     "iopub.status.idle": "2025-08-09T15:25:37.338725Z",
     "shell.execute_reply": "2025-08-09T15:25:37.337803Z"
    }
   },
   "outputs": [],
   "source": [
    "#################################################################\n",
    "#                                                               #\n",
    "#      Labeling Features for further calculations               #\n",
    "#                                                               #\n",
    "#################################################################\n",
    "\n",
    "df1.insert(7, \"Is_malicious\", 1)\n",
    "df2.insert(7, \"Is_malicious\", 1)\n",
    "df3.insert(7, \"Is_malicious\", 1)\n",
    "df4.insert(7, \"Is_malicious\", 1)\n",
    "df5.insert(7, \"Is_malicious\", 1)\n",
    "df6.insert(7, \"Is_malicious\", 1)\n",
    "df7.insert(7, \"Is_malicious\", 1)\n",
    "\n",
    "# ========================================================\n",
    "\n",
    "df8.insert(7, \"Is_malicious\", 0)\n",
    "df9.insert(7, \"Is_malicious\", 0)\n",
    "df10.insert(7, \"Is_malicious\", 0)\n",
    "df11.insert(7, \"Is_malicious\", 0)\n",
    "df12.insert(7, \"Is_malicious\", 0)\n",
    "df13.insert(7, \"Is_malicious\", 0)\n",
    "df14.insert(7, \"Is_malicious\", 0)\n",
    "df15.insert(7, \"Is_malicious\", 0)\n",
    "df16.insert(7, \"Is_malicious\", 0)\n",
    "df17.insert(7, \"Is_malicious\", 0)\n",
    "df18.insert(7, \"Is_malicious\", 0)\n",
    "df19.insert(7, \"Is_malicious\", 0)\n",
    "df20.insert(7, \"Is_malicious\", 0)\n",
    "df21.insert(7, \"Is_malicious\", 0)\n",
    "df22.insert(7, \"Is_malicious\", 0)\n",
    "df23.insert(7, \"Is_malicious\", 0)\n",
    "df24.insert(7, \"Is_malicious\", 0)\n",
    "\n",
    "\n",
    "# ========================================================\n",
    "\n",
    "df25.insert(7, \"Is_malicious\", 0)\n",
    "df26.insert(7, \"Is_malicious\", 0)\n",
    "df27.insert(7, \"Is_malicious\", 0)\n",
    "df28.insert(7, \"Is_malicious\", 0)\n",
    "df29.insert(7, \"Is_malicious\", 0)\n",
    "df30.insert(7, \"Is_malicious\", 0)\n",
    "df31.insert(7, \"Is_malicious\", 0)\n",
    "\n",
    "df32.insert(7, \"Is_malicious\", 1)\n",
    "df33.insert(7, \"Is_malicious\", 1)\n",
    "df34.insert(7, \"Is_malicious\", 1)\n",
    "df35.insert(7, \"Is_malicious\", 1)"
   ]
  },
  {
   "cell_type": "code",
   "execution_count": 5,
   "id": "bf69cb14",
   "metadata": {
    "execution": {
     "iopub.execute_input": "2025-08-09T15:25:37.341301Z",
     "iopub.status.busy": "2025-08-09T15:25:37.341064Z",
     "iopub.status.idle": "2025-08-09T15:25:38.348896Z",
     "shell.execute_reply": "2025-08-09T15:25:38.347810Z"
    }
   },
   "outputs": [
    {
     "name": "stdout",
     "output_type": "stream",
     "text": [
      "df1 -->> 41572\n"
     ]
    },
    {
     "name": "stdout",
     "output_type": "stream",
     "text": [
      "df2 -->> 1198039\n",
      "df3 -->> 3519\n",
      "df4 -->> 11745\n",
      "df5 -->> 12871\n",
      "df6 -->> 19643\n",
      "df7 -->> 2539\n",
      "df8 -->> 4550\n",
      "df9 -->> 3869\n",
      "df10 -->> 5327\n",
      "df11 -->> 4727\n",
      "df12 -->> 4190\n",
      "df13 -->> 3481\n",
      "df14 -->> 38576\n",
      "df15 -->> 5961\n",
      "df16 -->> 1803\n",
      "df17 -->> 7029\n",
      "df18 -->> 1012\n",
      "df19 -->> 96545\n",
      "df20 -->> 108065\n",
      "df21 -->> 25138\n",
      "df22 -->> 91274\n",
      "df23 -->> 23597\n",
      "df24 -->> 59619\n"
     ]
    },
    {
     "name": "stdout",
     "output_type": "stream",
     "text": [
      "df25 -->> 625194\n",
      "df26 -->> 266935\n",
      "df27 -->> 453466\n"
     ]
    },
    {
     "name": "stdout",
     "output_type": "stream",
     "text": [
      "df28 -->> 654479\n",
      "df29 -->> 6764\n",
      "df30 -->> 25288\n",
      "df31 -->> 3689\n",
      "df32 -->> 16744\n",
      "df33 -->> 9880\n",
      "df34 -->> 6406\n",
      "df35 -->> 234272\n"
     ]
    }
   ],
   "source": [
    "print(\"df1 -->> {}\".format(len(df1.dropna())))\n",
    "print(\"df2 -->> {}\".format(len(df2.dropna())))\n",
    "print(\"df3 -->> {}\".format(len(df3.dropna())))\n",
    "print(\"df4 -->> {}\".format(len(df4.dropna())))\n",
    "print(\"df5 -->> {}\".format(len(df5.dropna())))\n",
    "print(\"df6 -->> {}\".format(len(df6.dropna())))\n",
    "print(\"df7 -->> {}\".format(len(df7.dropna())))\n",
    "print(\"df8 -->> {}\".format(len(df8.dropna())))\n",
    "print(\"df9 -->> {}\".format(len(df9.dropna())))\n",
    "print(\"df10 -->> {}\".format(len(df10.dropna())))\n",
    "print(\"df11 -->> {}\".format(len(df11.dropna())))\n",
    "print(\"df12 -->> {}\".format(len(df12.dropna())))\n",
    "print(\"df13 -->> {}\".format(len(df13.dropna())))\n",
    "print(\"df14 -->> {}\".format(len(df14.dropna())))\n",
    "print(\"df15 -->> {}\".format(len(df15.dropna())))\n",
    "print(\"df16 -->> {}\".format(len(df16.dropna())))\n",
    "print(\"df17 -->> {}\".format(len(df17.dropna())))\n",
    "print(\"df18 -->> {}\".format(len(df18.dropna())))\n",
    "print(\"df19 -->> {}\".format(len(df19.dropna())))\n",
    "print(\"df20 -->> {}\".format(len(df20.dropna())))\n",
    "print(\"df21 -->> {}\".format(len(df21.dropna())))\n",
    "print(\"df22 -->> {}\".format(len(df22.dropna())))\n",
    "print(\"df23 -->> {}\".format(len(df23.dropna())))\n",
    "print(\"df24 -->> {}\".format(len(df24.dropna())))\n",
    "print(\"df25 -->> {}\".format(len(df25.dropna())))\n",
    "print(\"df26 -->> {}\".format(len(df26.dropna())))\n",
    "print(\"df27 -->> {}\".format(len(df27.dropna())))\n",
    "print(\"df28 -->> {}\".format(len(df28.dropna())))\n",
    "print(\"df29 -->> {}\".format(len(df29.dropna())))\n",
    "print(\"df30 -->> {}\".format(len(df30.dropna())))\n",
    "print(\"df31 -->> {}\".format(len(df31.dropna())))\n",
    "print(\"df32 -->> {}\".format(len(df32.dropna())))\n",
    "print(\"df33 -->> {}\".format(len(df33.dropna())))\n",
    "print(\"df34 -->> {}\".format(len(df34.dropna())))\n",
    "print(\"df35 -->> {}\".format(len(df35.dropna())))"
   ]
  },
  {
   "cell_type": "code",
   "execution_count": 6,
   "id": "86a36d01",
   "metadata": {
    "execution": {
     "iopub.execute_input": "2025-08-09T15:25:38.351410Z",
     "iopub.status.busy": "2025-08-09T15:25:38.351162Z",
     "iopub.status.idle": "2025-08-09T15:25:38.359831Z",
     "shell.execute_reply": "2025-08-09T15:25:38.358976Z"
    }
   },
   "outputs": [],
   "source": [
    "def run_process(a,b,x):\n",
    "    \n",
    "    df_malicious = a.copy()\n",
    "    df_benign    = b.copy()\n",
    "    \n",
    "    from tsfresh import extract_features, select_features\n",
    "    from tsfresh.utilities.dataframe_functions import impute\n",
    "    from tsfresh import extract_features\n",
    "    from tsfresh.feature_selection.relevance import calculate_relevance_table\n",
    "\n",
    "\n",
    "    df_malicious.reset_index(drop=True, inplace=True) #reset index\n",
    "    df_malicious['id']= np.floor(df_malicious.index.array/10)\n",
    "    df_benign.reset_index(drop=True, inplace=True) #reset index\n",
    "    df_benign['id']= np.floor(df_benign.index.array/10)\n",
    "    \n",
    "\n",
    "    \n",
    "\n",
    "    tf1=tsfresh.extract_features(df_malicious,impute_function=impute, column_kind='Is_malicious',\n",
    "                                 column_id='id',column_sort=\"Time\",column_value = \"Length\")\n",
    "    tf1['class']= 1\n",
    "\n",
    "    \n",
    "    \n",
    "    tf2=tsfresh.extract_features(df_benign,impute_function=impute, column_kind='Is_malicious',\n",
    "                                 column_id='id',column_sort=\"Time\",column_value = \"Length\")\n",
    "    tf2['class']= 0\n",
    "\n",
    "\n",
    "    tf2.columns = tf1.columns\n",
    "\n",
    "    features=pd.concat([tf1,tf2])\n",
    "\n",
    "\n",
    "    features2 = features.copy()\n",
    "    features2.reset_index(drop=True, inplace=True)\n",
    "    \n",
    "    y = pd.Series(data = features2['class'], index=features2.index)\n",
    "    \n",
    "    from tsfresh.examples import load_robot_execution_failures\n",
    "    from tsfresh import extract_features, select_features\n",
    "    from tsfresh.feature_selection.relevance import calculate_relevance_table\n",
    "\n",
    "    relevance_table = calculate_relevance_table(features2, y)\n",
    "    relevance_table = relevance_table[relevance_table.relevant]\n",
    "    relevance_table.sort_values(\"p_value\", inplace=True)\n",
    "\n",
    "    relevance_table\n",
    "    \n",
    "    best_features = relevance_table[relevance_table['p_value'] <= 0.05]\n",
    "\n",
    "    df_ML = pd.DataFrame()\n",
    "\n",
    "    for pkt in best_features:\n",
    "        df_ML[best_features.feature] = features[best_features.feature]\n",
    "\n",
    "    final = ML_Process(df_ML,x)\n",
    "\n",
    "    return final"
   ]
  },
  {
   "cell_type": "code",
   "execution_count": 7,
   "id": "de1051f3",
   "metadata": {
    "execution": {
     "iopub.execute_input": "2025-08-09T15:25:38.362121Z",
     "iopub.status.busy": "2025-08-09T15:25:38.361880Z",
     "iopub.status.idle": "2025-08-09T15:25:38.374699Z",
     "shell.execute_reply": "2025-08-09T15:25:38.373836Z"
    }
   },
   "outputs": [],
   "source": [
    "def ML_Process(df_ML,x):\n",
    "    df_results = x.copy() \n",
    "    print('let the ml starts')\n",
    "  \n",
    "    from sklearn import neighbors, metrics\n",
    "    from sklearn.preprocessing import LabelEncoder\n",
    "\n",
    "    #X = df_finalized[['Time', 'Length','Protocol']].values\n",
    "    X = df_ML.drop('class',axis=1).to_numpy()\n",
    "    #y = df_finalized[['Is_malicious']]\n",
    "    y = df_ML['class'].to_numpy()\n",
    "\n",
    "\n",
    "    #print(X,y)\n",
    "    \n",
    "    from sklearn.model_selection import train_test_split\n",
    "    Le = LabelEncoder()\n",
    "    for i in range(len(X[0])):\n",
    "        X[:, i] = Le.fit_transform(X[:, i])\n",
    "\n",
    "    X_train, X_test, y_train, y_test = train_test_split(X, y, test_size=0.25, random_state=8675309)\n",
    "\n",
    "    \n",
    "    from sklearn.linear_model import LogisticRegression\n",
    "    from sklearn.neighbors import KNeighborsClassifier\n",
    "    from sklearn.svm import SVC\n",
    "    from sklearn.ensemble import RandomForestClassifier\n",
    "    from sklearn.naive_bayes import GaussianNB\n",
    "    #from xgboost import XGBClassifier\n",
    "    from sklearn import model_selection\n",
    "    from sklearn.utils import class_weight\n",
    "    from sklearn.metrics import classification_report\n",
    "    from sklearn.metrics import confusion_matrix\n",
    "    import numpy as np\n",
    "    import pandas as pd\n",
    "    y_train = y_train.ravel()\n",
    "    dfs = []\n",
    "    models = [\n",
    "        ('SVM-linear-scale-1', SVC(C = 1, kernel = 'linear',gamma ='scale')),\n",
    "        ('SVM-poly-scale-1', SVC(C = 1, kernel = 'poly',gamma ='scale')),\n",
    "        ('SVM-rbf-scale-1', SVC(C = 1, kernel = 'rbf',gamma ='scale')),\n",
    "        ('SVM-sigmoid-scale-1', SVC(C = 1, kernel = 'sigmoid',gamma ='scale')),\n",
    "        ('SVM-linear-auto-1', SVC(C = 1, kernel = 'linear',gamma ='auto')),\n",
    "        ('SVM-poly-auto-1', SVC(C = 1, kernel = 'poly',gamma ='auto')),\n",
    "        ('SVM-rbf-auto-1', SVC(C = 1, kernel = 'rbf',gamma ='auto')),\n",
    "        ('SVM-sigmoid-auto-1', SVC(C = 1, kernel = 'sigmoid',gamma ='auto')),\n",
    "        ('SVM-linear-scale-2', SVC(C = 2, kernel = 'linear',gamma ='scale')),\n",
    "        ('SVM-poly-scale-2', SVC(C = 2, kernel = 'poly',gamma ='scale')),\n",
    "        ('SVM-rbf-scale-2', SVC(C = 2, kernel = 'rbf',gamma ='scale')),\n",
    "        ('SVM-sigmoid-scale-2', SVC(C = 2, kernel = 'sigmoid',gamma ='scale')),\n",
    "        ('SVM-linear-auto-2', SVC(C = 2, kernel = 'linear',gamma ='auto')),\n",
    "        ('SVM-poly-auto-2', SVC(C = 2, kernel = 'poly',gamma ='auto')),\n",
    "        ('SVM-rbf-auto-2', SVC(C = 2, kernel = 'rbf',gamma ='auto')),\n",
    "        ('SVM-sigmoid-auto-2', SVC(C = 2, kernel = 'sigmoid',gamma ='auto'))\n",
    "            ]\n",
    "    results = []\n",
    "    names = []\n",
    "    scoring = ['accuracy', 'precision_weighted', 'recall_weighted', 'f1_weighted', 'roc_auc']\n",
    "    target_names = ['malignant', 'benign']\n",
    "    for name, model in models:\n",
    "        kfold = model_selection.KFold(n_splits=5, shuffle=True, random_state=90210)\n",
    "        cv_results = model_selection.cross_validate(model, X_train, y_train, cv=kfold, \n",
    "                                                    scoring=scoring)\n",
    "\n",
    "        clf = model.fit(X_train, y_train)\n",
    "        y_pred = clf.predict(X_test)\n",
    "        print(name)\n",
    "        print(classification_report(y_test, y_pred, target_names=target_names))\n",
    "        results.append(cv_results)\n",
    "        names.append(name)\n",
    "        this_df = pd.DataFrame(cv_results)\n",
    "        this_df['model'] = name\n",
    "        dfs.append(this_df)\n",
    "        final = pd.concat(dfs, ignore_index=True)\n",
    "        print(final)\n",
    "\n",
    "    return(final)\n"
   ]
  },
  {
   "cell_type": "code",
   "execution_count": 8,
   "id": "91a8878d",
   "metadata": {
    "execution": {
     "iopub.execute_input": "2025-08-09T15:25:38.376782Z",
     "iopub.status.busy": "2025-08-09T15:25:38.376556Z",
     "iopub.status.idle": "2025-08-09T15:36:53.653693Z",
     "shell.execute_reply": "2025-08-09T15:36:53.653141Z"
    },
    "scrolled": true
   },
   "outputs": [
    {
     "name": "stdout",
     "output_type": "stream",
     "text": [
      "malicious: 12871\n",
      "benign: 13746\n",
      "0 NAN in malicious!\n",
      "0 NAN in benign!\n",
      "After droppping NAN rows: \n",
      "malicious: 12871\n",
      "benign: 13746\n"
     ]
    },
    {
     "name": "stderr",
     "output_type": "stream",
     "text": [
      "\r",
      "Feature Extraction:   0%|          | 0/215 [00:00<?, ?it/s]"
     ]
    },
    {
     "name": "stderr",
     "output_type": "stream",
     "text": [
      "\r",
      "Feature Extraction:   0%|          | 1/215 [00:00<02:51,  1.25it/s]"
     ]
    },
    {
     "name": "stderr",
     "output_type": "stream",
     "text": [
      "\r",
      "Feature Extraction:   4%|▍         | 9/215 [00:00<00:16, 12.86it/s]"
     ]
    },
    {
     "name": "stderr",
     "output_type": "stream",
     "text": [
      "\r",
      "Feature Extraction:   7%|▋         | 15/215 [00:01<00:10, 19.93it/s]"
     ]
    },
    {
     "name": "stderr",
     "output_type": "stream",
     "text": [
      "\r",
      "Feature Extraction:   9%|▉         | 20/215 [00:01<00:07, 25.19it/s]"
     ]
    },
    {
     "name": "stderr",
     "output_type": "stream",
     "text": [
      "\r",
      "Feature Extraction:  13%|█▎        | 29/215 [00:01<00:04, 38.44it/s]"
     ]
    },
    {
     "name": "stderr",
     "output_type": "stream",
     "text": [
      "\r",
      "Feature Extraction:  17%|█▋        | 36/215 [00:01<00:04, 44.30it/s]"
     ]
    },
    {
     "name": "stderr",
     "output_type": "stream",
     "text": [
      "\r",
      "Feature Extraction:  20%|██        | 43/215 [00:01<00:03, 48.89it/s]"
     ]
    },
    {
     "name": "stderr",
     "output_type": "stream",
     "text": [
      "\r",
      "Feature Extraction:  23%|██▎       | 50/215 [00:01<00:04, 39.95it/s]"
     ]
    },
    {
     "name": "stderr",
     "output_type": "stream",
     "text": [
      "\r",
      "Feature Extraction:  26%|██▌       | 56/215 [00:01<00:03, 42.54it/s]"
     ]
    },
    {
     "name": "stderr",
     "output_type": "stream",
     "text": [
      "\r",
      "Feature Extraction:  29%|██▉       | 63/215 [00:02<00:04, 32.40it/s]"
     ]
    },
    {
     "name": "stderr",
     "output_type": "stream",
     "text": [
      "\r",
      "Feature Extraction:  33%|███▎      | 71/215 [00:02<00:03, 39.98it/s]"
     ]
    },
    {
     "name": "stderr",
     "output_type": "stream",
     "text": [
      "\r",
      "Feature Extraction:  36%|███▋      | 78/215 [00:02<00:03, 45.49it/s]"
     ]
    },
    {
     "name": "stderr",
     "output_type": "stream",
     "text": [
      "\r",
      "Feature Extraction:  40%|████      | 87/215 [00:02<00:02, 53.62it/s]"
     ]
    },
    {
     "name": "stderr",
     "output_type": "stream",
     "text": [
      "\r",
      "Feature Extraction:  44%|████▎     | 94/215 [00:02<00:02, 56.67it/s]"
     ]
    },
    {
     "name": "stderr",
     "output_type": "stream",
     "text": [
      "\r",
      "Feature Extraction:  47%|████▋     | 101/215 [00:02<00:01, 59.06it/s]"
     ]
    },
    {
     "name": "stderr",
     "output_type": "stream",
     "text": [
      "\r",
      "Feature Extraction:  51%|█████     | 110/215 [00:02<00:01, 59.42it/s]"
     ]
    },
    {
     "name": "stderr",
     "output_type": "stream",
     "text": [
      "\r",
      "Feature Extraction:  55%|█████▌    | 119/215 [00:02<00:01, 65.21it/s]"
     ]
    },
    {
     "name": "stderr",
     "output_type": "stream",
     "text": [
      "\r",
      "Feature Extraction:  60%|█████▉    | 128/215 [00:03<00:01, 70.56it/s]"
     ]
    },
    {
     "name": "stderr",
     "output_type": "stream",
     "text": [
      "\r",
      "Feature Extraction:  63%|██████▎   | 136/215 [00:03<00:01, 63.77it/s]"
     ]
    },
    {
     "name": "stderr",
     "output_type": "stream",
     "text": [
      "\r",
      "Feature Extraction:  67%|██████▋   | 144/215 [00:03<00:01, 58.65it/s]"
     ]
    },
    {
     "name": "stderr",
     "output_type": "stream",
     "text": [
      "\r",
      "Feature Extraction:  71%|███████   | 152/215 [00:03<00:01, 59.05it/s]"
     ]
    },
    {
     "name": "stderr",
     "output_type": "stream",
     "text": [
      "\r",
      "Feature Extraction:  75%|███████▍  | 161/215 [00:03<00:00, 60.77it/s]"
     ]
    },
    {
     "name": "stderr",
     "output_type": "stream",
     "text": [
      "\r",
      "Feature Extraction:  79%|███████▊  | 169/215 [00:03<00:00, 62.68it/s]"
     ]
    },
    {
     "name": "stderr",
     "output_type": "stream",
     "text": [
      "\r",
      "Feature Extraction:  82%|████████▏ | 176/215 [00:03<00:00, 56.21it/s]"
     ]
    },
    {
     "name": "stderr",
     "output_type": "stream",
     "text": [
      "\r",
      "Feature Extraction:  85%|████████▌ | 183/215 [00:04<00:00, 57.82it/s]"
     ]
    },
    {
     "name": "stderr",
     "output_type": "stream",
     "text": [
      "\r",
      "Feature Extraction:  93%|█████████▎| 199/215 [00:04<00:00, 82.46it/s]"
     ]
    },
    {
     "name": "stderr",
     "output_type": "stream",
     "text": [
      "\r",
      "Feature Extraction:  99%|█████████▊| 212/215 [00:04<00:00, 89.05it/s]"
     ]
    },
    {
     "name": "stderr",
     "output_type": "stream",
     "text": [
      "\r",
      "Feature Extraction: 100%|██████████| 215/215 [00:04<00:00, 49.48it/s]"
     ]
    },
    {
     "name": "stderr",
     "output_type": "stream",
     "text": [
      "\n"
     ]
    },
    {
     "name": "stderr",
     "output_type": "stream",
     "text": [
      "\r",
      "Feature Extraction:   0%|          | 0/230 [00:00<?, ?it/s]"
     ]
    },
    {
     "name": "stderr",
     "output_type": "stream",
     "text": [
      "\r",
      "Feature Extraction:   0%|          | 1/230 [00:00<02:18,  1.65it/s]"
     ]
    },
    {
     "name": "stderr",
     "output_type": "stream",
     "text": [
      "\r",
      "Feature Extraction:   3%|▎         | 7/230 [00:00<00:17, 12.55it/s]"
     ]
    },
    {
     "name": "stderr",
     "output_type": "stream",
     "text": [
      "\r",
      "Feature Extraction:   5%|▌         | 12/230 [00:00<00:10, 20.40it/s]"
     ]
    },
    {
     "name": "stderr",
     "output_type": "stream",
     "text": [
      "\r",
      "Feature Extraction:   9%|▉         | 21/230 [00:00<00:05, 35.84it/s]"
     ]
    },
    {
     "name": "stderr",
     "output_type": "stream",
     "text": [
      "\r",
      "Feature Extraction:  12%|█▏        | 28/230 [00:01<00:04, 41.21it/s]"
     ]
    },
    {
     "name": "stderr",
     "output_type": "stream",
     "text": [
      "\r",
      "Feature Extraction:  15%|█▌        | 35/230 [00:01<00:04, 47.41it/s]"
     ]
    },
    {
     "name": "stderr",
     "output_type": "stream",
     "text": [
      "\r",
      "Feature Extraction:  19%|█▊        | 43/230 [00:01<00:03, 53.89it/s]"
     ]
    },
    {
     "name": "stderr",
     "output_type": "stream",
     "text": [
      "\r",
      "Feature Extraction:  22%|██▏       | 51/230 [00:01<00:03, 53.50it/s]"
     ]
    },
    {
     "name": "stderr",
     "output_type": "stream",
     "text": [
      "\r",
      "Feature Extraction:  28%|██▊       | 64/230 [00:01<00:02, 72.43it/s]"
     ]
    },
    {
     "name": "stderr",
     "output_type": "stream",
     "text": [
      "\r",
      "Feature Extraction:  32%|███▏      | 73/230 [00:01<00:02, 58.88it/s]"
     ]
    },
    {
     "name": "stderr",
     "output_type": "stream",
     "text": [
      "\r",
      "Feature Extraction:  36%|███▌      | 82/230 [00:01<00:02, 63.22it/s]"
     ]
    },
    {
     "name": "stderr",
     "output_type": "stream",
     "text": [
      "\r",
      "Feature Extraction:  39%|███▉      | 90/230 [00:02<00:02, 56.49it/s]"
     ]
    },
    {
     "name": "stderr",
     "output_type": "stream",
     "text": [
      "\r",
      "Feature Extraction:  42%|████▏     | 97/230 [00:02<00:02, 55.55it/s]"
     ]
    },
    {
     "name": "stderr",
     "output_type": "stream",
     "text": [
      "\r",
      "Feature Extraction:  45%|████▌     | 104/230 [00:02<00:02, 51.00it/s]"
     ]
    },
    {
     "name": "stderr",
     "output_type": "stream",
     "text": [
      "\r",
      "Feature Extraction:  49%|████▊     | 112/230 [00:02<00:02, 57.12it/s]"
     ]
    },
    {
     "name": "stderr",
     "output_type": "stream",
     "text": [
      "\r",
      "Feature Extraction:  52%|█████▏    | 119/230 [00:02<00:02, 50.40it/s]"
     ]
    },
    {
     "name": "stderr",
     "output_type": "stream",
     "text": [
      "\r",
      "Feature Extraction:  55%|█████▍    | 126/230 [00:02<00:01, 54.68it/s]"
     ]
    },
    {
     "name": "stderr",
     "output_type": "stream",
     "text": [
      "\r",
      "Feature Extraction:  57%|█████▋    | 132/230 [00:02<00:01, 50.29it/s]"
     ]
    },
    {
     "name": "stderr",
     "output_type": "stream",
     "text": [
      "\r",
      "Feature Extraction:  60%|██████    | 138/230 [00:02<00:01, 52.49it/s]"
     ]
    },
    {
     "name": "stderr",
     "output_type": "stream",
     "text": [
      "\r",
      "Feature Extraction:  63%|██████▎   | 144/230 [00:03<00:01, 51.07it/s]"
     ]
    },
    {
     "name": "stderr",
     "output_type": "stream",
     "text": [
      "\r",
      "Feature Extraction:  69%|██████▊   | 158/230 [00:03<00:01, 69.46it/s]"
     ]
    },
    {
     "name": "stderr",
     "output_type": "stream",
     "text": [
      "\r",
      "Feature Extraction:  72%|███████▏  | 166/230 [00:03<00:00, 67.92it/s]"
     ]
    },
    {
     "name": "stderr",
     "output_type": "stream",
     "text": [
      "\r",
      "Feature Extraction:  75%|███████▌  | 173/230 [00:03<00:00, 63.40it/s]"
     ]
    },
    {
     "name": "stderr",
     "output_type": "stream",
     "text": [
      "\r",
      "Feature Extraction:  78%|███████▊  | 180/230 [00:03<00:00, 58.57it/s]"
     ]
    },
    {
     "name": "stderr",
     "output_type": "stream",
     "text": [
      "\r",
      "Feature Extraction:  82%|████████▏ | 188/230 [00:03<00:00, 62.67it/s]"
     ]
    },
    {
     "name": "stderr",
     "output_type": "stream",
     "text": [
      "\r",
      "Feature Extraction:  85%|████████▍ | 195/230 [00:03<00:00, 62.76it/s]"
     ]
    },
    {
     "name": "stderr",
     "output_type": "stream",
     "text": [
      "\r",
      "Feature Extraction:  88%|████████▊ | 203/230 [00:03<00:00, 65.16it/s]"
     ]
    },
    {
     "name": "stderr",
     "output_type": "stream",
     "text": [
      "\r",
      "Feature Extraction:  91%|█████████▏| 210/230 [00:04<00:00, 66.20it/s]"
     ]
    },
    {
     "name": "stderr",
     "output_type": "stream",
     "text": [
      "\r",
      "Feature Extraction: 100%|██████████| 230/230 [00:04<00:00, 99.88it/s]"
     ]
    },
    {
     "name": "stderr",
     "output_type": "stream",
     "text": [
      "\r",
      "Feature Extraction: 100%|██████████| 230/230 [00:04<00:00, 55.17it/s]"
     ]
    },
    {
     "name": "stderr",
     "output_type": "stream",
     "text": [
      "\n"
     ]
    },
    {
     "name": "stdout",
     "output_type": "stream",
     "text": [
      "let the ml starts\n"
     ]
    },
    {
     "name": "stdout",
     "output_type": "stream",
     "text": [
      "SVM-linear-scale-1\n",
      "              precision    recall  f1-score   support\n",
      "\n",
      "   malignant       0.96      0.94      0.95       363\n",
      "      benign       0.93      0.96      0.94       303\n",
      "\n",
      "    accuracy                           0.95       666\n",
      "   macro avg       0.94      0.95      0.95       666\n",
      "weighted avg       0.95      0.95      0.95       666\n",
      "\n",
      "    fit_time  score_time  test_accuracy  test_precision_weighted  \\\n",
      "0  31.505351    0.017130       0.937500                 0.937509   \n",
      "1   4.457915    0.010911       0.932500                 0.932638   \n",
      "2  33.130570    0.012345       0.924812                 0.925062   \n",
      "3  11.805367    0.010976       0.957393                 0.957428   \n",
      "4  15.284442    0.010962       0.927318                 0.927401   \n",
      "\n",
      "   test_recall_weighted  test_f1_weighted  test_roc_auc               model  \n",
      "0              0.937500          0.937451      0.979465  SVM-linear-scale-1  \n",
      "1              0.932500          0.932516      0.977339  SVM-linear-scale-1  \n",
      "2              0.924812          0.924844      0.968808  SVM-linear-scale-1  \n",
      "3              0.957393          0.957356      0.984137  SVM-linear-scale-1  \n",
      "4              0.927318          0.927307      0.973514  SVM-linear-scale-1  \n"
     ]
    },
    {
     "name": "stdout",
     "output_type": "stream",
     "text": [
      "SVM-poly-scale-1\n",
      "              precision    recall  f1-score   support\n",
      "\n",
      "   malignant       0.98      0.95      0.97       363\n",
      "      benign       0.95      0.97      0.96       303\n",
      "\n",
      "    accuracy                           0.96       666\n",
      "   macro avg       0.96      0.96      0.96       666\n",
      "weighted avg       0.96      0.96      0.96       666\n",
      "\n",
      "    fit_time  score_time  test_accuracy  test_precision_weighted  \\\n",
      "0  31.505351    0.017130       0.937500                 0.937509   \n",
      "1   4.457915    0.010911       0.932500                 0.932638   \n",
      "2  33.130570    0.012345       0.924812                 0.925062   \n",
      "3  11.805367    0.010976       0.957393                 0.957428   \n",
      "4  15.284442    0.010962       0.927318                 0.927401   \n",
      "5   0.063028    0.022466       0.925000                 0.925314   \n",
      "6   0.057463    0.022357       0.927500                 0.927525   \n",
      "7   0.059654    0.022469       0.947368                 0.947428   \n",
      "8   0.058975    0.022150       0.954887                 0.954974   \n",
      "9   0.056964    0.021616       0.919799                 0.919948   \n",
      "\n",
      "   test_recall_weighted  test_f1_weighted  test_roc_auc               model  \n",
      "0              0.937500          0.937451      0.979465  SVM-linear-scale-1  \n",
      "1              0.932500          0.932516      0.977339  SVM-linear-scale-1  \n",
      "2              0.924812          0.924844      0.968808  SVM-linear-scale-1  \n",
      "3              0.957393          0.957356      0.984137  SVM-linear-scale-1  \n",
      "4              0.927318          0.927307      0.973514  SVM-linear-scale-1  \n",
      "5              0.925000          0.925064      0.981912    SVM-poly-scale-1  \n",
      "6              0.927500          0.927507      0.967398    SVM-poly-scale-1  \n",
      "7              0.947368          0.947345      0.985689    SVM-poly-scale-1  \n",
      "8              0.954887          0.954833      0.981545    SVM-poly-scale-1  \n",
      "9              0.919799          0.919781      0.958310    SVM-poly-scale-1  \n"
     ]
    },
    {
     "name": "stdout",
     "output_type": "stream",
     "text": [
      "SVM-rbf-scale-1\n",
      "              precision    recall  f1-score   support\n",
      "\n",
      "   malignant       0.95      0.92      0.93       363\n",
      "      benign       0.91      0.94      0.92       303\n",
      "\n",
      "    accuracy                           0.93       666\n",
      "   macro avg       0.93      0.93      0.93       666\n",
      "weighted avg       0.93      0.93      0.93       666\n",
      "\n",
      "     fit_time  score_time  test_accuracy  test_precision_weighted  \\\n",
      "0   31.505351    0.017130       0.937500                 0.937509   \n",
      "1    4.457915    0.010911       0.932500                 0.932638   \n",
      "2   33.130570    0.012345       0.924812                 0.925062   \n",
      "3   11.805367    0.010976       0.957393                 0.957428   \n",
      "4   15.284442    0.010962       0.927318                 0.927401   \n",
      "5    0.063028    0.022466       0.925000                 0.925314   \n",
      "6    0.057463    0.022357       0.927500                 0.927525   \n",
      "7    0.059654    0.022469       0.947368                 0.947428   \n",
      "8    0.058975    0.022150       0.954887                 0.954974   \n",
      "9    0.056964    0.021616       0.919799                 0.919948   \n",
      "10   0.064358    0.061379       0.907500                 0.907536   \n",
      "11   0.064684    0.067159       0.917500                 0.917494   \n",
      "12   0.066671    0.061838       0.929825                 0.929825   \n",
      "13   0.065696    0.068230       0.932331                 0.932788   \n",
      "14   0.063114    0.067568       0.889724                 0.889909   \n",
      "\n",
      "    test_recall_weighted  test_f1_weighted  test_roc_auc               model  \n",
      "0               0.937500          0.937451      0.979465  SVM-linear-scale-1  \n",
      "1               0.932500          0.932516      0.977339  SVM-linear-scale-1  \n",
      "2               0.924812          0.924844      0.968808  SVM-linear-scale-1  \n",
      "3               0.957393          0.957356      0.984137  SVM-linear-scale-1  \n",
      "4               0.927318          0.927307      0.973514  SVM-linear-scale-1  \n",
      "5               0.925000          0.925064      0.981912    SVM-poly-scale-1  \n",
      "6               0.927500          0.927507      0.967398    SVM-poly-scale-1  \n",
      "7               0.947368          0.947345      0.985689    SVM-poly-scale-1  \n",
      "8               0.954887          0.954833      0.981545    SVM-poly-scale-1  \n",
      "9               0.919799          0.919781      0.958310    SVM-poly-scale-1  \n",
      "10              0.907500          0.907374      0.975302     SVM-rbf-scale-1  \n",
      "11              0.917500          0.917491      0.965920     SVM-rbf-scale-1  \n",
      "12              0.929825          0.929825      0.981985     SVM-rbf-scale-1  \n",
      "13              0.932331          0.932412      0.981494     SVM-rbf-scale-1  \n",
      "14              0.889724          0.889727      0.959994     SVM-rbf-scale-1  \n"
     ]
    },
    {
     "name": "stdout",
     "output_type": "stream",
     "text": [
      "SVM-sigmoid-scale-1\n",
      "              precision    recall  f1-score   support\n",
      "\n",
      "   malignant       0.69      0.61      0.65       363\n",
      "      benign       0.59      0.67      0.63       303\n",
      "\n",
      "    accuracy                           0.64       666\n",
      "   macro avg       0.64      0.64      0.64       666\n",
      "weighted avg       0.64      0.64      0.64       666\n",
      "\n",
      "     fit_time  score_time  test_accuracy  test_precision_weighted  \\\n",
      "0   31.505351    0.017130       0.937500                 0.937509   \n",
      "1    4.457915    0.010911       0.932500                 0.932638   \n",
      "2   33.130570    0.012345       0.924812                 0.925062   \n",
      "3   11.805367    0.010976       0.957393                 0.957428   \n",
      "4   15.284442    0.010962       0.927318                 0.927401   \n",
      "5    0.063028    0.022466       0.925000                 0.925314   \n",
      "6    0.057463    0.022357       0.927500                 0.927525   \n",
      "7    0.059654    0.022469       0.947368                 0.947428   \n",
      "8    0.058975    0.022150       0.954887                 0.954974   \n",
      "9    0.056964    0.021616       0.919799                 0.919948   \n",
      "10   0.064358    0.061379       0.907500                 0.907536   \n",
      "11   0.064684    0.067159       0.917500                 0.917494   \n",
      "12   0.066671    0.061838       0.929825                 0.929825   \n",
      "13   0.065696    0.068230       0.932331                 0.932788   \n",
      "14   0.063114    0.067568       0.889724                 0.889909   \n",
      "15   0.097226    0.038901       0.642500                 0.650440   \n",
      "16   0.097410    0.039181       0.660000                 0.659880   \n",
      "17   0.099694    0.040077       0.681704                 0.681625   \n",
      "18   0.093441    0.038099       0.621554                 0.634270   \n",
      "19   0.096866    0.038721       0.719298                 0.720436   \n",
      "\n",
      "    test_recall_weighted  test_f1_weighted  test_roc_auc                model  \n",
      "0               0.937500          0.937451      0.979465   SVM-linear-scale-1  \n",
      "1               0.932500          0.932516      0.977339   SVM-linear-scale-1  \n",
      "2               0.924812          0.924844      0.968808   SVM-linear-scale-1  \n",
      "3               0.957393          0.957356      0.984137   SVM-linear-scale-1  \n",
      "4               0.927318          0.927307      0.973514   SVM-linear-scale-1  \n",
      "5               0.925000          0.925064      0.981912     SVM-poly-scale-1  \n",
      "6               0.927500          0.927507      0.967398     SVM-poly-scale-1  \n",
      "7               0.947368          0.947345      0.985689     SVM-poly-scale-1  \n",
      "8               0.954887          0.954833      0.981545     SVM-poly-scale-1  \n",
      "9               0.919799          0.919781      0.958310     SVM-poly-scale-1  \n",
      "10              0.907500          0.907374      0.975302      SVM-rbf-scale-1  \n",
      "11              0.917500          0.917491      0.965920      SVM-rbf-scale-1  \n",
      "12              0.929825          0.929825      0.981985      SVM-rbf-scale-1  \n",
      "13              0.932331          0.932412      0.981494      SVM-rbf-scale-1  \n",
      "14              0.889724          0.889727      0.959994      SVM-rbf-scale-1  \n",
      "15              0.642500          0.643083      0.708646  SVM-sigmoid-scale-1  \n",
      "16              0.660000          0.659923      0.758839  SVM-sigmoid-scale-1  \n",
      "17              0.681704          0.681660      0.761224  SVM-sigmoid-scale-1  \n",
      "18              0.621554          0.621925      0.743098  SVM-sigmoid-scale-1  \n",
      "19              0.719298          0.718704      0.773483  SVM-sigmoid-scale-1  \n"
     ]
    },
    {
     "name": "stdout",
     "output_type": "stream",
     "text": [
      "SVM-linear-auto-1\n",
      "              precision    recall  f1-score   support\n",
      "\n",
      "   malignant       0.96      0.94      0.95       363\n",
      "      benign       0.93      0.96      0.94       303\n",
      "\n",
      "    accuracy                           0.95       666\n",
      "   macro avg       0.94      0.95      0.95       666\n",
      "weighted avg       0.95      0.95      0.95       666\n",
      "\n",
      "     fit_time  score_time  test_accuracy  test_precision_weighted  \\\n",
      "0   31.505351    0.017130       0.937500                 0.937509   \n",
      "1    4.457915    0.010911       0.932500                 0.932638   \n",
      "2   33.130570    0.012345       0.924812                 0.925062   \n",
      "3   11.805367    0.010976       0.957393                 0.957428   \n",
      "4   15.284442    0.010962       0.927318                 0.927401   \n",
      "5    0.063028    0.022466       0.925000                 0.925314   \n",
      "6    0.057463    0.022357       0.927500                 0.927525   \n",
      "7    0.059654    0.022469       0.947368                 0.947428   \n",
      "8    0.058975    0.022150       0.954887                 0.954974   \n",
      "9    0.056964    0.021616       0.919799                 0.919948   \n",
      "10   0.064358    0.061379       0.907500                 0.907536   \n",
      "11   0.064684    0.067159       0.917500                 0.917494   \n",
      "12   0.066671    0.061838       0.929825                 0.929825   \n",
      "13   0.065696    0.068230       0.932331                 0.932788   \n",
      "14   0.063114    0.067568       0.889724                 0.889909   \n",
      "15   0.097226    0.038901       0.642500                 0.650440   \n",
      "16   0.097410    0.039181       0.660000                 0.659880   \n",
      "17   0.099694    0.040077       0.681704                 0.681625   \n",
      "18   0.093441    0.038099       0.621554                 0.634270   \n",
      "19   0.096866    0.038721       0.719298                 0.720436   \n",
      "20  31.510561    0.011222       0.937500                 0.937509   \n",
      "21   4.476193    0.010298       0.932500                 0.932638   \n",
      "22  33.495122    0.011631       0.924812                 0.925062   \n",
      "23  11.791143    0.010566       0.957393                 0.957428   \n",
      "24  15.510419    0.012871       0.927318                 0.927401   \n",
      "\n",
      "    test_recall_weighted  test_f1_weighted  test_roc_auc                model  \n",
      "0               0.937500          0.937451      0.979465   SVM-linear-scale-1  \n",
      "1               0.932500          0.932516      0.977339   SVM-linear-scale-1  \n",
      "2               0.924812          0.924844      0.968808   SVM-linear-scale-1  \n",
      "3               0.957393          0.957356      0.984137   SVM-linear-scale-1  \n",
      "4               0.927318          0.927307      0.973514   SVM-linear-scale-1  \n",
      "5               0.925000          0.925064      0.981912     SVM-poly-scale-1  \n",
      "6               0.927500          0.927507      0.967398     SVM-poly-scale-1  \n",
      "7               0.947368          0.947345      0.985689     SVM-poly-scale-1  \n",
      "8               0.954887          0.954833      0.981545     SVM-poly-scale-1  \n",
      "9               0.919799          0.919781      0.958310     SVM-poly-scale-1  \n",
      "10              0.907500          0.907374      0.975302      SVM-rbf-scale-1  \n",
      "11              0.917500          0.917491      0.965920      SVM-rbf-scale-1  \n",
      "12              0.929825          0.929825      0.981985      SVM-rbf-scale-1  \n",
      "13              0.932331          0.932412      0.981494      SVM-rbf-scale-1  \n",
      "14              0.889724          0.889727      0.959994      SVM-rbf-scale-1  \n",
      "15              0.642500          0.643083      0.708646  SVM-sigmoid-scale-1  \n",
      "16              0.660000          0.659923      0.758839  SVM-sigmoid-scale-1  \n",
      "17              0.681704          0.681660      0.761224  SVM-sigmoid-scale-1  \n",
      "18              0.621554          0.621925      0.743098  SVM-sigmoid-scale-1  \n",
      "19              0.719298          0.718704      0.773483  SVM-sigmoid-scale-1  \n",
      "20              0.937500          0.937451      0.979465    SVM-linear-auto-1  \n",
      "21              0.932500          0.932516      0.977339    SVM-linear-auto-1  \n",
      "22              0.924812          0.924844      0.968808    SVM-linear-auto-1  \n",
      "23              0.957393          0.957356      0.984137    SVM-linear-auto-1  \n",
      "24              0.927318          0.927307      0.973514    SVM-linear-auto-1  \n"
     ]
    },
    {
     "name": "stdout",
     "output_type": "stream",
     "text": [
      "SVM-poly-auto-1\n",
      "              precision    recall  f1-score   support\n",
      "\n",
      "   malignant       0.97      0.92      0.94       363\n",
      "      benign       0.91      0.96      0.94       303\n",
      "\n",
      "    accuracy                           0.94       666\n",
      "   macro avg       0.94      0.94      0.94       666\n",
      "weighted avg       0.94      0.94      0.94       666\n",
      "\n",
      "     fit_time  score_time  test_accuracy  test_precision_weighted  \\\n",
      "0   31.505351    0.017130       0.937500                 0.937509   \n",
      "1    4.457915    0.010911       0.932500                 0.932638   \n",
      "2   33.130570    0.012345       0.924812                 0.925062   \n",
      "3   11.805367    0.010976       0.957393                 0.957428   \n",
      "4   15.284442    0.010962       0.927318                 0.927401   \n",
      "5    0.063028    0.022466       0.925000                 0.925314   \n",
      "6    0.057463    0.022357       0.927500                 0.927525   \n",
      "7    0.059654    0.022469       0.947368                 0.947428   \n",
      "8    0.058975    0.022150       0.954887                 0.954974   \n",
      "9    0.056964    0.021616       0.919799                 0.919948   \n",
      "10   0.064358    0.061379       0.907500                 0.907536   \n",
      "11   0.064684    0.067159       0.917500                 0.917494   \n",
      "12   0.066671    0.061838       0.929825                 0.929825   \n",
      "13   0.065696    0.068230       0.932331                 0.932788   \n",
      "14   0.063114    0.067568       0.889724                 0.889909   \n",
      "15   0.097226    0.038901       0.642500                 0.650440   \n",
      "16   0.097410    0.039181       0.660000                 0.659880   \n",
      "17   0.099694    0.040077       0.681704                 0.681625   \n",
      "18   0.093441    0.038099       0.621554                 0.634270   \n",
      "19   0.096866    0.038721       0.719298                 0.720436   \n",
      "20  31.510561    0.011222       0.937500                 0.937509   \n",
      "21   4.476193    0.010298       0.932500                 0.932638   \n",
      "22  33.495122    0.011631       0.924812                 0.925062   \n",
      "23  11.791143    0.010566       0.957393                 0.957428   \n",
      "24  15.510419    0.012871       0.927318                 0.927401   \n",
      "25   0.070265    0.014821       0.917500                 0.918701   \n",
      "26   0.065979    0.014448       0.925000                 0.925920   \n",
      "27   0.080391    0.014578       0.957393                 0.957416   \n",
      "28   0.079407    0.014662       0.937343                 0.937320   \n",
      "29   0.064769    0.013865       0.919799                 0.919988   \n",
      "\n",
      "    test_recall_weighted  test_f1_weighted  test_roc_auc                model  \n",
      "0               0.937500          0.937451      0.979465   SVM-linear-scale-1  \n",
      "1               0.932500          0.932516      0.977339   SVM-linear-scale-1  \n",
      "2               0.924812          0.924844      0.968808   SVM-linear-scale-1  \n",
      "3               0.957393          0.957356      0.984137   SVM-linear-scale-1  \n",
      "4               0.927318          0.927307      0.973514   SVM-linear-scale-1  \n",
      "5               0.925000          0.925064      0.981912     SVM-poly-scale-1  \n",
      "6               0.927500          0.927507      0.967398     SVM-poly-scale-1  \n",
      "7               0.947368          0.947345      0.985689     SVM-poly-scale-1  \n",
      "8               0.954887          0.954833      0.981545     SVM-poly-scale-1  \n",
      "9               0.919799          0.919781      0.958310     SVM-poly-scale-1  \n",
      "10              0.907500          0.907374      0.975302      SVM-rbf-scale-1  \n",
      "11              0.917500          0.917491      0.965920      SVM-rbf-scale-1  \n",
      "12              0.929825          0.929825      0.981985      SVM-rbf-scale-1  \n",
      "13              0.932331          0.932412      0.981494      SVM-rbf-scale-1  \n",
      "14              0.889724          0.889727      0.959994      SVM-rbf-scale-1  \n",
      "15              0.642500          0.643083      0.708646  SVM-sigmoid-scale-1  \n",
      "16              0.660000          0.659923      0.758839  SVM-sigmoid-scale-1  \n",
      "17              0.681704          0.681660      0.761224  SVM-sigmoid-scale-1  \n",
      "18              0.621554          0.621925      0.743098  SVM-sigmoid-scale-1  \n",
      "19              0.719298          0.718704      0.773483  SVM-sigmoid-scale-1  \n",
      "20              0.937500          0.937451      0.979465    SVM-linear-auto-1  \n",
      "21              0.932500          0.932516      0.977339    SVM-linear-auto-1  \n",
      "22              0.924812          0.924844      0.968808    SVM-linear-auto-1  \n",
      "23              0.957393          0.957356      0.984137    SVM-linear-auto-1  \n",
      "24              0.927318          0.927307      0.973514    SVM-linear-auto-1  \n",
      "25              0.917500          0.917635      0.975226      SVM-poly-auto-1  \n",
      "26              0.925000          0.924878      0.967673      SVM-poly-auto-1  \n",
      "27              0.957393          0.957399      0.984329      SVM-poly-auto-1  \n",
      "28              0.937343          0.937326      0.979155      SVM-poly-auto-1  \n",
      "29              0.919799          0.919802      0.961527      SVM-poly-auto-1  \n"
     ]
    },
    {
     "name": "stdout",
     "output_type": "stream",
     "text": [
      "SVM-rbf-auto-1\n",
      "              precision    recall  f1-score   support\n",
      "\n",
      "   malignant       0.61      1.00      0.76       363\n",
      "      benign       1.00      0.24      0.39       303\n",
      "\n",
      "    accuracy                           0.66       666\n",
      "   macro avg       0.81      0.62      0.58       666\n",
      "weighted avg       0.79      0.66      0.59       666\n",
      "\n",
      "     fit_time  score_time  test_accuracy  test_precision_weighted  \\\n",
      "0   31.505351    0.017130       0.937500                 0.937509   \n",
      "1    4.457915    0.010911       0.932500                 0.932638   \n",
      "2   33.130570    0.012345       0.924812                 0.925062   \n",
      "3   11.805367    0.010976       0.957393                 0.957428   \n",
      "4   15.284442    0.010962       0.927318                 0.927401   \n",
      "5    0.063028    0.022466       0.925000                 0.925314   \n",
      "6    0.057463    0.022357       0.927500                 0.927525   \n",
      "7    0.059654    0.022469       0.947368                 0.947428   \n",
      "8    0.058975    0.022150       0.954887                 0.954974   \n",
      "9    0.056964    0.021616       0.919799                 0.919948   \n",
      "10   0.064358    0.061379       0.907500                 0.907536   \n",
      "11   0.064684    0.067159       0.917500                 0.917494   \n",
      "12   0.066671    0.061838       0.929825                 0.929825   \n",
      "13   0.065696    0.068230       0.932331                 0.932788   \n",
      "14   0.063114    0.067568       0.889724                 0.889909   \n",
      "15   0.097226    0.038901       0.642500                 0.650440   \n",
      "16   0.097410    0.039181       0.660000                 0.659880   \n",
      "17   0.099694    0.040077       0.681704                 0.681625   \n",
      "18   0.093441    0.038099       0.621554                 0.634270   \n",
      "19   0.096866    0.038721       0.719298                 0.720436   \n",
      "20  31.510561    0.011222       0.937500                 0.937509   \n",
      "21   4.476193    0.010298       0.932500                 0.932638   \n",
      "22  33.495122    0.011631       0.924812                 0.925062   \n",
      "23  11.791143    0.010566       0.957393                 0.957428   \n",
      "24  15.510419    0.012871       0.927318                 0.927401   \n",
      "25   0.070265    0.014821       0.917500                 0.918701   \n",
      "26   0.065979    0.014448       0.925000                 0.925920   \n",
      "27   0.080391    0.014578       0.957393                 0.957416   \n",
      "28   0.079407    0.014662       0.937343                 0.937320   \n",
      "29   0.064769    0.013865       0.919799                 0.919988   \n",
      "30   0.200190    0.185597       0.655000                 0.788361   \n",
      "31   0.202087    0.185758       0.670000                 0.798118   \n",
      "32   0.202984    0.185837       0.661654                 0.794050   \n",
      "33   0.201315    0.176335       0.601504                 0.789518   \n",
      "34   0.195187    0.182695       0.619048                 0.784964   \n",
      "\n",
      "    test_recall_weighted  test_f1_weighted  test_roc_auc                model  \n",
      "0               0.937500          0.937451      0.979465   SVM-linear-scale-1  \n",
      "1               0.932500          0.932516      0.977339   SVM-linear-scale-1  \n",
      "2               0.924812          0.924844      0.968808   SVM-linear-scale-1  \n",
      "3               0.957393          0.957356      0.984137   SVM-linear-scale-1  \n",
      "4               0.927318          0.927307      0.973514   SVM-linear-scale-1  \n",
      "5               0.925000          0.925064      0.981912     SVM-poly-scale-1  \n",
      "6               0.927500          0.927507      0.967398     SVM-poly-scale-1  \n",
      "7               0.947368          0.947345      0.985689     SVM-poly-scale-1  \n",
      "8               0.954887          0.954833      0.981545     SVM-poly-scale-1  \n",
      "9               0.919799          0.919781      0.958310     SVM-poly-scale-1  \n",
      "10              0.907500          0.907374      0.975302      SVM-rbf-scale-1  \n",
      "11              0.917500          0.917491      0.965920      SVM-rbf-scale-1  \n",
      "12              0.929825          0.929825      0.981985      SVM-rbf-scale-1  \n",
      "13              0.932331          0.932412      0.981494      SVM-rbf-scale-1  \n",
      "14              0.889724          0.889727      0.959994      SVM-rbf-scale-1  \n",
      "15              0.642500          0.643083      0.708646  SVM-sigmoid-scale-1  \n",
      "16              0.660000          0.659923      0.758839  SVM-sigmoid-scale-1  \n",
      "17              0.681704          0.681660      0.761224  SVM-sigmoid-scale-1  \n",
      "18              0.621554          0.621925      0.743098  SVM-sigmoid-scale-1  \n",
      "19              0.719298          0.718704      0.773483  SVM-sigmoid-scale-1  \n",
      "20              0.937500          0.937451      0.979465    SVM-linear-auto-1  \n",
      "21              0.932500          0.932516      0.977339    SVM-linear-auto-1  \n",
      "22              0.924812          0.924844      0.968808    SVM-linear-auto-1  \n",
      "23              0.957393          0.957356      0.984137    SVM-linear-auto-1  \n",
      "24              0.927318          0.927307      0.973514    SVM-linear-auto-1  \n",
      "25              0.917500          0.917635      0.975226      SVM-poly-auto-1  \n",
      "26              0.925000          0.924878      0.967673      SVM-poly-auto-1  \n",
      "27              0.957393          0.957399      0.984329      SVM-poly-auto-1  \n",
      "28              0.937343          0.937326      0.979155      SVM-poly-auto-1  \n",
      "29              0.919799          0.919802      0.961527      SVM-poly-auto-1  \n",
      "30              0.655000          0.590056      0.639673       SVM-rbf-auto-1  \n",
      "31              0.670000          0.623316      0.673615       SVM-rbf-auto-1  \n",
      "32              0.661654          0.608819      0.659864       SVM-rbf-auto-1  \n",
      "33              0.601504          0.551074      0.650376       SVM-rbf-auto-1  \n",
      "34              0.619048          0.557184      0.639041       SVM-rbf-auto-1  \n"
     ]
    },
    {
     "name": "stdout",
     "output_type": "stream",
     "text": [
      "SVM-sigmoid-auto-1\n",
      "              precision    recall  f1-score   support\n",
      "\n",
      "   malignant       0.55      1.00      0.71       363\n",
      "      benign       0.00      0.00      0.00       303\n",
      "\n",
      "    accuracy                           0.55       666\n",
      "   macro avg       0.27      0.50      0.35       666\n",
      "weighted avg       0.30      0.55      0.38       666\n",
      "\n",
      "     fit_time  score_time  test_accuracy  test_precision_weighted  \\\n",
      "0   31.505351    0.017130       0.937500                 0.937509   \n",
      "1    4.457915    0.010911       0.932500                 0.932638   \n",
      "2   33.130570    0.012345       0.924812                 0.925062   \n",
      "3   11.805367    0.010976       0.957393                 0.957428   \n",
      "4   15.284442    0.010962       0.927318                 0.927401   \n",
      "5    0.063028    0.022466       0.925000                 0.925314   \n",
      "6    0.057463    0.022357       0.927500                 0.927525   \n",
      "7    0.059654    0.022469       0.947368                 0.947428   \n",
      "8    0.058975    0.022150       0.954887                 0.954974   \n",
      "9    0.056964    0.021616       0.919799                 0.919948   \n",
      "10   0.064358    0.061379       0.907500                 0.907536   \n",
      "11   0.064684    0.067159       0.917500                 0.917494   \n",
      "12   0.066671    0.061838       0.929825                 0.929825   \n",
      "13   0.065696    0.068230       0.932331                 0.932788   \n",
      "14   0.063114    0.067568       0.889724                 0.889909   \n",
      "15   0.097226    0.038901       0.642500                 0.650440   \n",
      "16   0.097410    0.039181       0.660000                 0.659880   \n",
      "17   0.099694    0.040077       0.681704                 0.681625   \n",
      "18   0.093441    0.038099       0.621554                 0.634270   \n",
      "19   0.096866    0.038721       0.719298                 0.720436   \n",
      "20  31.510561    0.011222       0.937500                 0.937509   \n",
      "21   4.476193    0.010298       0.932500                 0.932638   \n",
      "22  33.495122    0.011631       0.924812                 0.925062   \n",
      "23  11.791143    0.010566       0.957393                 0.957428   \n",
      "24  15.510419    0.012871       0.927318                 0.927401   \n",
      "25   0.070265    0.014821       0.917500                 0.918701   \n",
      "26   0.065979    0.014448       0.925000                 0.925920   \n",
      "27   0.080391    0.014578       0.957393                 0.957416   \n",
      "28   0.079407    0.014662       0.937343                 0.937320   \n",
      "29   0.064769    0.013865       0.919799                 0.919988   \n",
      "30   0.200190    0.185597       0.655000                 0.788361   \n",
      "31   0.202087    0.185758       0.670000                 0.798118   \n",
      "32   0.202984    0.185837       0.661654                 0.794050   \n",
      "33   0.201315    0.176335       0.601504                 0.789518   \n",
      "34   0.195187    0.182695       0.619048                 0.784964   \n",
      "35   0.182383    0.082127       0.452500                 0.204756   \n",
      "36   0.181962    0.081984       0.520000                 0.270400   \n",
      "37   0.183097    0.081977       0.526316                 0.277008   \n",
      "38   0.174778    0.078847       0.446115                 0.199019   \n",
      "39   0.179056    0.080713       0.493734                 0.243774   \n",
      "\n",
      "    test_recall_weighted  test_f1_weighted  test_roc_auc                model  \n",
      "0               0.937500          0.937451      0.979465   SVM-linear-scale-1  \n",
      "1               0.932500          0.932516      0.977339   SVM-linear-scale-1  \n",
      "2               0.924812          0.924844      0.968808   SVM-linear-scale-1  \n",
      "3               0.957393          0.957356      0.984137   SVM-linear-scale-1  \n",
      "4               0.927318          0.927307      0.973514   SVM-linear-scale-1  \n",
      "5               0.925000          0.925064      0.981912     SVM-poly-scale-1  \n",
      "6               0.927500          0.927507      0.967398     SVM-poly-scale-1  \n",
      "7               0.947368          0.947345      0.985689     SVM-poly-scale-1  \n",
      "8               0.954887          0.954833      0.981545     SVM-poly-scale-1  \n",
      "9               0.919799          0.919781      0.958310     SVM-poly-scale-1  \n",
      "10              0.907500          0.907374      0.975302      SVM-rbf-scale-1  \n",
      "11              0.917500          0.917491      0.965920      SVM-rbf-scale-1  \n",
      "12              0.929825          0.929825      0.981985      SVM-rbf-scale-1  \n",
      "13              0.932331          0.932412      0.981494      SVM-rbf-scale-1  \n",
      "14              0.889724          0.889727      0.959994      SVM-rbf-scale-1  \n",
      "15              0.642500          0.643083      0.708646  SVM-sigmoid-scale-1  \n",
      "16              0.660000          0.659923      0.758839  SVM-sigmoid-scale-1  \n",
      "17              0.681704          0.681660      0.761224  SVM-sigmoid-scale-1  \n",
      "18              0.621554          0.621925      0.743098  SVM-sigmoid-scale-1  \n",
      "19              0.719298          0.718704      0.773483  SVM-sigmoid-scale-1  \n",
      "20              0.937500          0.937451      0.979465    SVM-linear-auto-1  \n",
      "21              0.932500          0.932516      0.977339    SVM-linear-auto-1  \n",
      "22              0.924812          0.924844      0.968808    SVM-linear-auto-1  \n",
      "23              0.957393          0.957356      0.984137    SVM-linear-auto-1  \n",
      "24              0.927318          0.927307      0.973514    SVM-linear-auto-1  \n",
      "25              0.917500          0.917635      0.975226      SVM-poly-auto-1  \n",
      "26              0.925000          0.924878      0.967673      SVM-poly-auto-1  \n",
      "27              0.957393          0.957399      0.984329      SVM-poly-auto-1  \n",
      "28              0.937343          0.937326      0.979155      SVM-poly-auto-1  \n",
      "29              0.919799          0.919802      0.961527      SVM-poly-auto-1  \n",
      "30              0.655000          0.590056      0.639673       SVM-rbf-auto-1  \n",
      "31              0.670000          0.623316      0.673615       SVM-rbf-auto-1  \n",
      "32              0.661654          0.608819      0.659864       SVM-rbf-auto-1  \n",
      "33              0.601504          0.551074      0.650376       SVM-rbf-auto-1  \n",
      "34              0.619048          0.557184      0.639041       SVM-rbf-auto-1  \n",
      "35              0.452500          0.281936      0.500000   SVM-sigmoid-auto-1  \n",
      "36              0.520000          0.355789      0.500000   SVM-sigmoid-auto-1  \n",
      "37              0.526316          0.362976      0.500000   SVM-sigmoid-auto-1  \n",
      "38              0.446115          0.275246      0.500000   SVM-sigmoid-auto-1  \n",
      "39              0.493734          0.326395      0.500000   SVM-sigmoid-auto-1  \n"
     ]
    },
    {
     "name": "stdout",
     "output_type": "stream",
     "text": [
      "SVM-linear-scale-2\n",
      "              precision    recall  f1-score   support\n",
      "\n",
      "   malignant       0.96      0.94      0.95       363\n",
      "      benign       0.93      0.96      0.94       303\n",
      "\n",
      "    accuracy                           0.95       666\n",
      "   macro avg       0.94      0.95      0.95       666\n",
      "weighted avg       0.95      0.95      0.95       666\n",
      "\n",
      "     fit_time  score_time  test_accuracy  test_precision_weighted  \\\n",
      "0   31.505351    0.017130       0.937500                 0.937509   \n",
      "1    4.457915    0.010911       0.932500                 0.932638   \n",
      "2   33.130570    0.012345       0.924812                 0.925062   \n",
      "3   11.805367    0.010976       0.957393                 0.957428   \n",
      "4   15.284442    0.010962       0.927318                 0.927401   \n",
      "5    0.063028    0.022466       0.925000                 0.925314   \n",
      "6    0.057463    0.022357       0.927500                 0.927525   \n",
      "7    0.059654    0.022469       0.947368                 0.947428   \n",
      "8    0.058975    0.022150       0.954887                 0.954974   \n",
      "9    0.056964    0.021616       0.919799                 0.919948   \n",
      "10   0.064358    0.061379       0.907500                 0.907536   \n",
      "11   0.064684    0.067159       0.917500                 0.917494   \n",
      "12   0.066671    0.061838       0.929825                 0.929825   \n",
      "13   0.065696    0.068230       0.932331                 0.932788   \n",
      "14   0.063114    0.067568       0.889724                 0.889909   \n",
      "15   0.097226    0.038901       0.642500                 0.650440   \n",
      "16   0.097410    0.039181       0.660000                 0.659880   \n",
      "17   0.099694    0.040077       0.681704                 0.681625   \n",
      "18   0.093441    0.038099       0.621554                 0.634270   \n",
      "19   0.096866    0.038721       0.719298                 0.720436   \n",
      "20  31.510561    0.011222       0.937500                 0.937509   \n",
      "21   4.476193    0.010298       0.932500                 0.932638   \n",
      "22  33.495122    0.011631       0.924812                 0.925062   \n",
      "23  11.791143    0.010566       0.957393                 0.957428   \n",
      "24  15.510419    0.012871       0.927318                 0.927401   \n",
      "25   0.070265    0.014821       0.917500                 0.918701   \n",
      "26   0.065979    0.014448       0.925000                 0.925920   \n",
      "27   0.080391    0.014578       0.957393                 0.957416   \n",
      "28   0.079407    0.014662       0.937343                 0.937320   \n",
      "29   0.064769    0.013865       0.919799                 0.919988   \n",
      "30   0.200190    0.185597       0.655000                 0.788361   \n",
      "31   0.202087    0.185758       0.670000                 0.798118   \n",
      "32   0.202984    0.185837       0.661654                 0.794050   \n",
      "33   0.201315    0.176335       0.601504                 0.789518   \n",
      "34   0.195187    0.182695       0.619048                 0.784964   \n",
      "35   0.182383    0.082127       0.452500                 0.204756   \n",
      "36   0.181962    0.081984       0.520000                 0.270400   \n",
      "37   0.183097    0.081977       0.526316                 0.277008   \n",
      "38   0.174778    0.078847       0.446115                 0.199019   \n",
      "39   0.179056    0.080713       0.493734                 0.243774   \n",
      "40  31.515983    0.012434       0.937500                 0.937509   \n",
      "41   4.472818    0.011156       0.932500                 0.932638   \n",
      "42  33.522524    0.012458       0.924812                 0.925062   \n",
      "43  11.811998    0.011463       0.957393                 0.957428   \n",
      "44  15.259080    0.011198       0.927318                 0.927401   \n",
      "\n",
      "    test_recall_weighted  test_f1_weighted  test_roc_auc                model  \n",
      "0               0.937500          0.937451      0.979465   SVM-linear-scale-1  \n",
      "1               0.932500          0.932516      0.977339   SVM-linear-scale-1  \n",
      "2               0.924812          0.924844      0.968808   SVM-linear-scale-1  \n",
      "3               0.957393          0.957356      0.984137   SVM-linear-scale-1  \n",
      "4               0.927318          0.927307      0.973514   SVM-linear-scale-1  \n",
      "5               0.925000          0.925064      0.981912     SVM-poly-scale-1  \n",
      "6               0.927500          0.927507      0.967398     SVM-poly-scale-1  \n",
      "7               0.947368          0.947345      0.985689     SVM-poly-scale-1  \n",
      "8               0.954887          0.954833      0.981545     SVM-poly-scale-1  \n",
      "9               0.919799          0.919781      0.958310     SVM-poly-scale-1  \n",
      "10              0.907500          0.907374      0.975302      SVM-rbf-scale-1  \n",
      "11              0.917500          0.917491      0.965920      SVM-rbf-scale-1  \n",
      "12              0.929825          0.929825      0.981985      SVM-rbf-scale-1  \n",
      "13              0.932331          0.932412      0.981494      SVM-rbf-scale-1  \n",
      "14              0.889724          0.889727      0.959994      SVM-rbf-scale-1  \n",
      "15              0.642500          0.643083      0.708646  SVM-sigmoid-scale-1  \n",
      "16              0.660000          0.659923      0.758839  SVM-sigmoid-scale-1  \n",
      "17              0.681704          0.681660      0.761224  SVM-sigmoid-scale-1  \n",
      "18              0.621554          0.621925      0.743098  SVM-sigmoid-scale-1  \n",
      "19              0.719298          0.718704      0.773483  SVM-sigmoid-scale-1  \n",
      "20              0.937500          0.937451      0.979465    SVM-linear-auto-1  \n",
      "21              0.932500          0.932516      0.977339    SVM-linear-auto-1  \n",
      "22              0.924812          0.924844      0.968808    SVM-linear-auto-1  \n",
      "23              0.957393          0.957356      0.984137    SVM-linear-auto-1  \n",
      "24              0.927318          0.927307      0.973514    SVM-linear-auto-1  \n",
      "25              0.917500          0.917635      0.975226      SVM-poly-auto-1  \n",
      "26              0.925000          0.924878      0.967673      SVM-poly-auto-1  \n",
      "27              0.957393          0.957399      0.984329      SVM-poly-auto-1  \n",
      "28              0.937343          0.937326      0.979155      SVM-poly-auto-1  \n",
      "29              0.919799          0.919802      0.961527      SVM-poly-auto-1  \n",
      "30              0.655000          0.590056      0.639673       SVM-rbf-auto-1  \n",
      "31              0.670000          0.623316      0.673615       SVM-rbf-auto-1  \n",
      "32              0.661654          0.608819      0.659864       SVM-rbf-auto-1  \n",
      "33              0.601504          0.551074      0.650376       SVM-rbf-auto-1  \n",
      "34              0.619048          0.557184      0.639041       SVM-rbf-auto-1  \n",
      "35              0.452500          0.281936      0.500000   SVM-sigmoid-auto-1  \n",
      "36              0.520000          0.355789      0.500000   SVM-sigmoid-auto-1  \n",
      "37              0.526316          0.362976      0.500000   SVM-sigmoid-auto-1  \n",
      "38              0.446115          0.275246      0.500000   SVM-sigmoid-auto-1  \n",
      "39              0.493734          0.326395      0.500000   SVM-sigmoid-auto-1  \n",
      "40              0.937500          0.937451      0.979465   SVM-linear-scale-2  \n",
      "41              0.932500          0.932516      0.977339   SVM-linear-scale-2  \n",
      "42              0.924812          0.924844      0.968808   SVM-linear-scale-2  \n",
      "43              0.957393          0.957356      0.984137   SVM-linear-scale-2  \n",
      "44              0.927318          0.927307      0.973514   SVM-linear-scale-2  \n"
     ]
    },
    {
     "name": "stdout",
     "output_type": "stream",
     "text": [
      "SVM-poly-scale-2\n",
      "              precision    recall  f1-score   support\n",
      "\n",
      "   malignant       0.99      0.96      0.97       363\n",
      "      benign       0.96      0.98      0.97       303\n",
      "\n",
      "    accuracy                           0.97       666\n",
      "   macro avg       0.97      0.97      0.97       666\n",
      "weighted avg       0.97      0.97      0.97       666\n",
      "\n",
      "     fit_time  score_time  test_accuracy  test_precision_weighted  \\\n",
      "0   31.505351    0.017130       0.937500                 0.937509   \n",
      "1    4.457915    0.010911       0.932500                 0.932638   \n",
      "2   33.130570    0.012345       0.924812                 0.925062   \n",
      "3   11.805367    0.010976       0.957393                 0.957428   \n",
      "4   15.284442    0.010962       0.927318                 0.927401   \n",
      "5    0.063028    0.022466       0.925000                 0.925314   \n",
      "6    0.057463    0.022357       0.927500                 0.927525   \n",
      "7    0.059654    0.022469       0.947368                 0.947428   \n",
      "8    0.058975    0.022150       0.954887                 0.954974   \n",
      "9    0.056964    0.021616       0.919799                 0.919948   \n",
      "10   0.064358    0.061379       0.907500                 0.907536   \n",
      "11   0.064684    0.067159       0.917500                 0.917494   \n",
      "12   0.066671    0.061838       0.929825                 0.929825   \n",
      "13   0.065696    0.068230       0.932331                 0.932788   \n",
      "14   0.063114    0.067568       0.889724                 0.889909   \n",
      "15   0.097226    0.038901       0.642500                 0.650440   \n",
      "16   0.097410    0.039181       0.660000                 0.659880   \n",
      "17   0.099694    0.040077       0.681704                 0.681625   \n",
      "18   0.093441    0.038099       0.621554                 0.634270   \n",
      "19   0.096866    0.038721       0.719298                 0.720436   \n",
      "20  31.510561    0.011222       0.937500                 0.937509   \n",
      "21   4.476193    0.010298       0.932500                 0.932638   \n",
      "22  33.495122    0.011631       0.924812                 0.925062   \n",
      "23  11.791143    0.010566       0.957393                 0.957428   \n",
      "24  15.510419    0.012871       0.927318                 0.927401   \n",
      "25   0.070265    0.014821       0.917500                 0.918701   \n",
      "26   0.065979    0.014448       0.925000                 0.925920   \n",
      "27   0.080391    0.014578       0.957393                 0.957416   \n",
      "28   0.079407    0.014662       0.937343                 0.937320   \n",
      "29   0.064769    0.013865       0.919799                 0.919988   \n",
      "30   0.200190    0.185597       0.655000                 0.788361   \n",
      "31   0.202087    0.185758       0.670000                 0.798118   \n",
      "32   0.202984    0.185837       0.661654                 0.794050   \n",
      "33   0.201315    0.176335       0.601504                 0.789518   \n",
      "34   0.195187    0.182695       0.619048                 0.784964   \n",
      "35   0.182383    0.082127       0.452500                 0.204756   \n",
      "36   0.181962    0.081984       0.520000                 0.270400   \n",
      "37   0.183097    0.081977       0.526316                 0.277008   \n",
      "38   0.174778    0.078847       0.446115                 0.199019   \n",
      "39   0.179056    0.080713       0.493734                 0.243774   \n",
      "40  31.515983    0.012434       0.937500                 0.937509   \n",
      "41   4.472818    0.011156       0.932500                 0.932638   \n",
      "42  33.522524    0.012458       0.924812                 0.925062   \n",
      "43  11.811998    0.011463       0.957393                 0.957428   \n",
      "44  15.259080    0.011198       0.927318                 0.927401   \n",
      "45   0.067790    0.022550       0.930000                 0.930589   \n",
      "46   0.067919    0.022393       0.935000                 0.935018   \n",
      "47   0.071482    0.023112       0.952381                 0.952604   \n",
      "48   0.069478    0.023233       0.957393                 0.957569   \n",
      "49   0.066436    0.022239       0.924812                 0.925169   \n",
      "\n",
      "    test_recall_weighted  test_f1_weighted  test_roc_auc                model  \n",
      "0               0.937500          0.937451      0.979465   SVM-linear-scale-1  \n",
      "1               0.932500          0.932516      0.977339   SVM-linear-scale-1  \n",
      "2               0.924812          0.924844      0.968808   SVM-linear-scale-1  \n",
      "3               0.957393          0.957356      0.984137   SVM-linear-scale-1  \n",
      "4               0.927318          0.927307      0.973514   SVM-linear-scale-1  \n",
      "5               0.925000          0.925064      0.981912     SVM-poly-scale-1  \n",
      "6               0.927500          0.927507      0.967398     SVM-poly-scale-1  \n",
      "7               0.947368          0.947345      0.985689     SVM-poly-scale-1  \n",
      "8               0.954887          0.954833      0.981545     SVM-poly-scale-1  \n",
      "9               0.919799          0.919781      0.958310     SVM-poly-scale-1  \n",
      "10              0.907500          0.907374      0.975302      SVM-rbf-scale-1  \n",
      "11              0.917500          0.917491      0.965920      SVM-rbf-scale-1  \n",
      "12              0.929825          0.929825      0.981985      SVM-rbf-scale-1  \n",
      "13              0.932331          0.932412      0.981494      SVM-rbf-scale-1  \n",
      "14              0.889724          0.889727      0.959994      SVM-rbf-scale-1  \n",
      "15              0.642500          0.643083      0.708646  SVM-sigmoid-scale-1  \n",
      "16              0.660000          0.659923      0.758839  SVM-sigmoid-scale-1  \n",
      "17              0.681704          0.681660      0.761224  SVM-sigmoid-scale-1  \n",
      "18              0.621554          0.621925      0.743098  SVM-sigmoid-scale-1  \n",
      "19              0.719298          0.718704      0.773483  SVM-sigmoid-scale-1  \n",
      "20              0.937500          0.937451      0.979465    SVM-linear-auto-1  \n",
      "21              0.932500          0.932516      0.977339    SVM-linear-auto-1  \n",
      "22              0.924812          0.924844      0.968808    SVM-linear-auto-1  \n",
      "23              0.957393          0.957356      0.984137    SVM-linear-auto-1  \n",
      "24              0.927318          0.927307      0.973514    SVM-linear-auto-1  \n",
      "25              0.917500          0.917635      0.975226      SVM-poly-auto-1  \n",
      "26              0.925000          0.924878      0.967673      SVM-poly-auto-1  \n",
      "27              0.957393          0.957399      0.984329      SVM-poly-auto-1  \n",
      "28              0.937343          0.937326      0.979155      SVM-poly-auto-1  \n",
      "29              0.919799          0.919802      0.961527      SVM-poly-auto-1  \n",
      "30              0.655000          0.590056      0.639673       SVM-rbf-auto-1  \n",
      "31              0.670000          0.623316      0.673615       SVM-rbf-auto-1  \n",
      "32              0.661654          0.608819      0.659864       SVM-rbf-auto-1  \n",
      "33              0.601504          0.551074      0.650376       SVM-rbf-auto-1  \n",
      "34              0.619048          0.557184      0.639041       SVM-rbf-auto-1  \n",
      "35              0.452500          0.281936      0.500000   SVM-sigmoid-auto-1  \n",
      "36              0.520000          0.355789      0.500000   SVM-sigmoid-auto-1  \n",
      "37              0.526316          0.362976      0.500000   SVM-sigmoid-auto-1  \n",
      "38              0.446115          0.275246      0.500000   SVM-sigmoid-auto-1  \n",
      "39              0.493734          0.326395      0.500000   SVM-sigmoid-auto-1  \n",
      "40              0.937500          0.937451      0.979465   SVM-linear-scale-2  \n",
      "41              0.932500          0.932516      0.977339   SVM-linear-scale-2  \n",
      "42              0.924812          0.924844      0.968808   SVM-linear-scale-2  \n",
      "43              0.957393          0.957356      0.984137   SVM-linear-scale-2  \n",
      "44              0.927318          0.927307      0.973514   SVM-linear-scale-2  \n",
      "45              0.930000          0.930085      0.985015     SVM-poly-scale-2  \n",
      "46              0.935000          0.934985      0.967798     SVM-poly-scale-2  \n",
      "47              0.952381          0.952342      0.988360     SVM-poly-scale-2  \n",
      "48              0.957393          0.957328      0.982104     SVM-poly-scale-2  \n",
      "49              0.924812          0.924781      0.969041     SVM-poly-scale-2  \n"
     ]
    },
    {
     "name": "stdout",
     "output_type": "stream",
     "text": [
      "SVM-rbf-scale-2\n",
      "              precision    recall  f1-score   support\n",
      "\n",
      "   malignant       0.97      0.94      0.96       363\n",
      "      benign       0.94      0.97      0.95       303\n",
      "\n",
      "    accuracy                           0.96       666\n",
      "   macro avg       0.96      0.96      0.96       666\n",
      "weighted avg       0.96      0.96      0.96       666\n",
      "\n",
      "     fit_time  score_time  test_accuracy  test_precision_weighted  \\\n",
      "0   31.505351    0.017130       0.937500                 0.937509   \n",
      "1    4.457915    0.010911       0.932500                 0.932638   \n",
      "2   33.130570    0.012345       0.924812                 0.925062   \n",
      "3   11.805367    0.010976       0.957393                 0.957428   \n",
      "4   15.284442    0.010962       0.927318                 0.927401   \n",
      "5    0.063028    0.022466       0.925000                 0.925314   \n",
      "6    0.057463    0.022357       0.927500                 0.927525   \n",
      "7    0.059654    0.022469       0.947368                 0.947428   \n",
      "8    0.058975    0.022150       0.954887                 0.954974   \n",
      "9    0.056964    0.021616       0.919799                 0.919948   \n",
      "10   0.064358    0.061379       0.907500                 0.907536   \n",
      "11   0.064684    0.067159       0.917500                 0.917494   \n",
      "12   0.066671    0.061838       0.929825                 0.929825   \n",
      "13   0.065696    0.068230       0.932331                 0.932788   \n",
      "14   0.063114    0.067568       0.889724                 0.889909   \n",
      "15   0.097226    0.038901       0.642500                 0.650440   \n",
      "16   0.097410    0.039181       0.660000                 0.659880   \n",
      "17   0.099694    0.040077       0.681704                 0.681625   \n",
      "18   0.093441    0.038099       0.621554                 0.634270   \n",
      "19   0.096866    0.038721       0.719298                 0.720436   \n",
      "20  31.510561    0.011222       0.937500                 0.937509   \n",
      "21   4.476193    0.010298       0.932500                 0.932638   \n",
      "22  33.495122    0.011631       0.924812                 0.925062   \n",
      "23  11.791143    0.010566       0.957393                 0.957428   \n",
      "24  15.510419    0.012871       0.927318                 0.927401   \n",
      "25   0.070265    0.014821       0.917500                 0.918701   \n",
      "26   0.065979    0.014448       0.925000                 0.925920   \n",
      "27   0.080391    0.014578       0.957393                 0.957416   \n",
      "28   0.079407    0.014662       0.937343                 0.937320   \n",
      "29   0.064769    0.013865       0.919799                 0.919988   \n",
      "30   0.200190    0.185597       0.655000                 0.788361   \n",
      "31   0.202087    0.185758       0.670000                 0.798118   \n",
      "32   0.202984    0.185837       0.661654                 0.794050   \n",
      "33   0.201315    0.176335       0.601504                 0.789518   \n",
      "34   0.195187    0.182695       0.619048                 0.784964   \n",
      "35   0.182383    0.082127       0.452500                 0.204756   \n",
      "36   0.181962    0.081984       0.520000                 0.270400   \n",
      "37   0.183097    0.081977       0.526316                 0.277008   \n",
      "38   0.174778    0.078847       0.446115                 0.199019   \n",
      "39   0.179056    0.080713       0.493734                 0.243774   \n",
      "40  31.515983    0.012434       0.937500                 0.937509   \n",
      "41   4.472818    0.011156       0.932500                 0.932638   \n",
      "42  33.522524    0.012458       0.924812                 0.925062   \n",
      "43  11.811998    0.011463       0.957393                 0.957428   \n",
      "44  15.259080    0.011198       0.927318                 0.927401   \n",
      "45   0.067790    0.022550       0.930000                 0.930589   \n",
      "46   0.067919    0.022393       0.935000                 0.935018   \n",
      "47   0.071482    0.023112       0.952381                 0.952604   \n",
      "48   0.069478    0.023233       0.957393                 0.957569   \n",
      "49   0.066436    0.022239       0.924812                 0.925169   \n",
      "50   0.069314    0.059679       0.922500                 0.922581   \n",
      "51   0.068767    0.060123       0.920000                 0.920000   \n",
      "52   0.070991    0.062348       0.947368                 0.947428   \n",
      "53   0.069537    0.062483       0.947368                 0.947351   \n",
      "54   0.067111    0.058735       0.909774                 0.909804   \n",
      "\n",
      "    test_recall_weighted  test_f1_weighted  test_roc_auc                model  \n",
      "0               0.937500          0.937451      0.979465   SVM-linear-scale-1  \n",
      "1               0.932500          0.932516      0.977339   SVM-linear-scale-1  \n",
      "2               0.924812          0.924844      0.968808   SVM-linear-scale-1  \n",
      "3               0.957393          0.957356      0.984137   SVM-linear-scale-1  \n",
      "4               0.927318          0.927307      0.973514   SVM-linear-scale-1  \n",
      "5               0.925000          0.925064      0.981912     SVM-poly-scale-1  \n",
      "6               0.927500          0.927507      0.967398     SVM-poly-scale-1  \n",
      "7               0.947368          0.947345      0.985689     SVM-poly-scale-1  \n",
      "8               0.954887          0.954833      0.981545     SVM-poly-scale-1  \n",
      "9               0.919799          0.919781      0.958310     SVM-poly-scale-1  \n",
      "10              0.907500          0.907374      0.975302      SVM-rbf-scale-1  \n",
      "11              0.917500          0.917491      0.965920      SVM-rbf-scale-1  \n",
      "12              0.929825          0.929825      0.981985      SVM-rbf-scale-1  \n",
      "13              0.932331          0.932412      0.981494      SVM-rbf-scale-1  \n",
      "14              0.889724          0.889727      0.959994      SVM-rbf-scale-1  \n",
      "15              0.642500          0.643083      0.708646  SVM-sigmoid-scale-1  \n",
      "16              0.660000          0.659923      0.758839  SVM-sigmoid-scale-1  \n",
      "17              0.681704          0.681660      0.761224  SVM-sigmoid-scale-1  \n",
      "18              0.621554          0.621925      0.743098  SVM-sigmoid-scale-1  \n",
      "19              0.719298          0.718704      0.773483  SVM-sigmoid-scale-1  \n",
      "20              0.937500          0.937451      0.979465    SVM-linear-auto-1  \n",
      "21              0.932500          0.932516      0.977339    SVM-linear-auto-1  \n",
      "22              0.924812          0.924844      0.968808    SVM-linear-auto-1  \n",
      "23              0.957393          0.957356      0.984137    SVM-linear-auto-1  \n",
      "24              0.927318          0.927307      0.973514    SVM-linear-auto-1  \n",
      "25              0.917500          0.917635      0.975226      SVM-poly-auto-1  \n",
      "26              0.925000          0.924878      0.967673      SVM-poly-auto-1  \n",
      "27              0.957393          0.957399      0.984329      SVM-poly-auto-1  \n",
      "28              0.937343          0.937326      0.979155      SVM-poly-auto-1  \n",
      "29              0.919799          0.919802      0.961527      SVM-poly-auto-1  \n",
      "30              0.655000          0.590056      0.639673       SVM-rbf-auto-1  \n",
      "31              0.670000          0.623316      0.673615       SVM-rbf-auto-1  \n",
      "32              0.661654          0.608819      0.659864       SVM-rbf-auto-1  \n",
      "33              0.601504          0.551074      0.650376       SVM-rbf-auto-1  \n",
      "34              0.619048          0.557184      0.639041       SVM-rbf-auto-1  \n",
      "35              0.452500          0.281936      0.500000   SVM-sigmoid-auto-1  \n",
      "36              0.520000          0.355789      0.500000   SVM-sigmoid-auto-1  \n",
      "37              0.526316          0.362976      0.500000   SVM-sigmoid-auto-1  \n",
      "38              0.446115          0.275246      0.500000   SVM-sigmoid-auto-1  \n",
      "39              0.493734          0.326395      0.500000   SVM-sigmoid-auto-1  \n",
      "40              0.937500          0.937451      0.979465   SVM-linear-scale-2  \n",
      "41              0.932500          0.932516      0.977339   SVM-linear-scale-2  \n",
      "42              0.924812          0.924844      0.968808   SVM-linear-scale-2  \n",
      "43              0.957393          0.957356      0.984137   SVM-linear-scale-2  \n",
      "44              0.927318          0.927307      0.973514   SVM-linear-scale-2  \n",
      "45              0.930000          0.930085      0.985015     SVM-poly-scale-2  \n",
      "46              0.935000          0.934985      0.967798     SVM-poly-scale-2  \n",
      "47              0.952381          0.952342      0.988360     SVM-poly-scale-2  \n",
      "48              0.957393          0.957328      0.982104     SVM-poly-scale-2  \n",
      "49              0.924812          0.924781      0.969041     SVM-poly-scale-2  \n",
      "50              0.922500          0.922395      0.982013      SVM-rbf-scale-2  \n",
      "51              0.920000          0.920000      0.970328      SVM-rbf-scale-2  \n",
      "52              0.947368          0.947345      0.987856      SVM-rbf-scale-2  \n",
      "53              0.947368          0.947354      0.985027      SVM-rbf-scale-2  \n",
      "54              0.909774          0.909766      0.964743      SVM-rbf-scale-2  \n"
     ]
    },
    {
     "name": "stdout",
     "output_type": "stream",
     "text": [
      "SVM-sigmoid-scale-2\n",
      "              precision    recall  f1-score   support\n",
      "\n",
      "   malignant       0.68      0.60      0.64       363\n",
      "      benign       0.58      0.67      0.62       303\n",
      "\n",
      "    accuracy                           0.63       666\n",
      "   macro avg       0.63      0.63      0.63       666\n",
      "weighted avg       0.64      0.63      0.63       666\n",
      "\n",
      "     fit_time  score_time  test_accuracy  test_precision_weighted  \\\n",
      "0   31.505351    0.017130       0.937500                 0.937509   \n",
      "1    4.457915    0.010911       0.932500                 0.932638   \n",
      "2   33.130570    0.012345       0.924812                 0.925062   \n",
      "3   11.805367    0.010976       0.957393                 0.957428   \n",
      "4   15.284442    0.010962       0.927318                 0.927401   \n",
      "5    0.063028    0.022466       0.925000                 0.925314   \n",
      "6    0.057463    0.022357       0.927500                 0.927525   \n",
      "7    0.059654    0.022469       0.947368                 0.947428   \n",
      "8    0.058975    0.022150       0.954887                 0.954974   \n",
      "9    0.056964    0.021616       0.919799                 0.919948   \n",
      "10   0.064358    0.061379       0.907500                 0.907536   \n",
      "11   0.064684    0.067159       0.917500                 0.917494   \n",
      "12   0.066671    0.061838       0.929825                 0.929825   \n",
      "13   0.065696    0.068230       0.932331                 0.932788   \n",
      "14   0.063114    0.067568       0.889724                 0.889909   \n",
      "15   0.097226    0.038901       0.642500                 0.650440   \n",
      "16   0.097410    0.039181       0.660000                 0.659880   \n",
      "17   0.099694    0.040077       0.681704                 0.681625   \n",
      "18   0.093441    0.038099       0.621554                 0.634270   \n",
      "19   0.096866    0.038721       0.719298                 0.720436   \n",
      "20  31.510561    0.011222       0.937500                 0.937509   \n",
      "21   4.476193    0.010298       0.932500                 0.932638   \n",
      "22  33.495122    0.011631       0.924812                 0.925062   \n",
      "23  11.791143    0.010566       0.957393                 0.957428   \n",
      "24  15.510419    0.012871       0.927318                 0.927401   \n",
      "25   0.070265    0.014821       0.917500                 0.918701   \n",
      "26   0.065979    0.014448       0.925000                 0.925920   \n",
      "27   0.080391    0.014578       0.957393                 0.957416   \n",
      "28   0.079407    0.014662       0.937343                 0.937320   \n",
      "29   0.064769    0.013865       0.919799                 0.919988   \n",
      "30   0.200190    0.185597       0.655000                 0.788361   \n",
      "31   0.202087    0.185758       0.670000                 0.798118   \n",
      "32   0.202984    0.185837       0.661654                 0.794050   \n",
      "33   0.201315    0.176335       0.601504                 0.789518   \n",
      "34   0.195187    0.182695       0.619048                 0.784964   \n",
      "35   0.182383    0.082127       0.452500                 0.204756   \n",
      "36   0.181962    0.081984       0.520000                 0.270400   \n",
      "37   0.183097    0.081977       0.526316                 0.277008   \n",
      "38   0.174778    0.078847       0.446115                 0.199019   \n",
      "39   0.179056    0.080713       0.493734                 0.243774   \n",
      "40  31.515983    0.012434       0.937500                 0.937509   \n",
      "41   4.472818    0.011156       0.932500                 0.932638   \n",
      "42  33.522524    0.012458       0.924812                 0.925062   \n",
      "43  11.811998    0.011463       0.957393                 0.957428   \n",
      "44  15.259080    0.011198       0.927318                 0.927401   \n",
      "45   0.067790    0.022550       0.930000                 0.930589   \n",
      "46   0.067919    0.022393       0.935000                 0.935018   \n",
      "47   0.071482    0.023112       0.952381                 0.952604   \n",
      "48   0.069478    0.023233       0.957393                 0.957569   \n",
      "49   0.066436    0.022239       0.924812                 0.925169   \n",
      "50   0.069314    0.059679       0.922500                 0.922581   \n",
      "51   0.068767    0.060123       0.920000                 0.920000   \n",
      "52   0.070991    0.062348       0.947368                 0.947428   \n",
      "53   0.069537    0.062483       0.947368                 0.947351   \n",
      "54   0.067111    0.058735       0.909774                 0.909804   \n",
      "55   0.096190    0.034478       0.620000                 0.629659   \n",
      "56   0.097905    0.035101       0.657500                 0.657435   \n",
      "57   0.099280    0.035535       0.676692                 0.676611   \n",
      "58   0.092752    0.033894       0.626566                 0.637573   \n",
      "59   0.097880    0.034833       0.704261                 0.704589   \n",
      "\n",
      "    test_recall_weighted  test_f1_weighted  test_roc_auc                model  \n",
      "0               0.937500          0.937451      0.979465   SVM-linear-scale-1  \n",
      "1               0.932500          0.932516      0.977339   SVM-linear-scale-1  \n",
      "2               0.924812          0.924844      0.968808   SVM-linear-scale-1  \n",
      "3               0.957393          0.957356      0.984137   SVM-linear-scale-1  \n",
      "4               0.927318          0.927307      0.973514   SVM-linear-scale-1  \n",
      "5               0.925000          0.925064      0.981912     SVM-poly-scale-1  \n",
      "6               0.927500          0.927507      0.967398     SVM-poly-scale-1  \n",
      "7               0.947368          0.947345      0.985689     SVM-poly-scale-1  \n",
      "8               0.954887          0.954833      0.981545     SVM-poly-scale-1  \n",
      "9               0.919799          0.919781      0.958310     SVM-poly-scale-1  \n",
      "10              0.907500          0.907374      0.975302      SVM-rbf-scale-1  \n",
      "11              0.917500          0.917491      0.965920      SVM-rbf-scale-1  \n",
      "12              0.929825          0.929825      0.981985      SVM-rbf-scale-1  \n",
      "13              0.932331          0.932412      0.981494      SVM-rbf-scale-1  \n",
      "14              0.889724          0.889727      0.959994      SVM-rbf-scale-1  \n",
      "15              0.642500          0.643083      0.708646  SVM-sigmoid-scale-1  \n",
      "16              0.660000          0.659923      0.758839  SVM-sigmoid-scale-1  \n",
      "17              0.681704          0.681660      0.761224  SVM-sigmoid-scale-1  \n",
      "18              0.621554          0.621925      0.743098  SVM-sigmoid-scale-1  \n",
      "19              0.719298          0.718704      0.773483  SVM-sigmoid-scale-1  \n",
      "20              0.937500          0.937451      0.979465    SVM-linear-auto-1  \n",
      "21              0.932500          0.932516      0.977339    SVM-linear-auto-1  \n",
      "22              0.924812          0.924844      0.968808    SVM-linear-auto-1  \n",
      "23              0.957393          0.957356      0.984137    SVM-linear-auto-1  \n",
      "24              0.927318          0.927307      0.973514    SVM-linear-auto-1  \n",
      "25              0.917500          0.917635      0.975226      SVM-poly-auto-1  \n",
      "26              0.925000          0.924878      0.967673      SVM-poly-auto-1  \n",
      "27              0.957393          0.957399      0.984329      SVM-poly-auto-1  \n",
      "28              0.937343          0.937326      0.979155      SVM-poly-auto-1  \n",
      "29              0.919799          0.919802      0.961527      SVM-poly-auto-1  \n",
      "30              0.655000          0.590056      0.639673       SVM-rbf-auto-1  \n",
      "31              0.670000          0.623316      0.673615       SVM-rbf-auto-1  \n",
      "32              0.661654          0.608819      0.659864       SVM-rbf-auto-1  \n",
      "33              0.601504          0.551074      0.650376       SVM-rbf-auto-1  \n",
      "34              0.619048          0.557184      0.639041       SVM-rbf-auto-1  \n",
      "35              0.452500          0.281936      0.500000   SVM-sigmoid-auto-1  \n",
      "36              0.520000          0.355789      0.500000   SVM-sigmoid-auto-1  \n",
      "37              0.526316          0.362976      0.500000   SVM-sigmoid-auto-1  \n",
      "38              0.446115          0.275246      0.500000   SVM-sigmoid-auto-1  \n",
      "39              0.493734          0.326395      0.500000   SVM-sigmoid-auto-1  \n",
      "40              0.937500          0.937451      0.979465   SVM-linear-scale-2  \n",
      "41              0.932500          0.932516      0.977339   SVM-linear-scale-2  \n",
      "42              0.924812          0.924844      0.968808   SVM-linear-scale-2  \n",
      "43              0.957393          0.957356      0.984137   SVM-linear-scale-2  \n",
      "44              0.927318          0.927307      0.973514   SVM-linear-scale-2  \n",
      "45              0.930000          0.930085      0.985015     SVM-poly-scale-2  \n",
      "46              0.935000          0.934985      0.967798     SVM-poly-scale-2  \n",
      "47              0.952381          0.952342      0.988360     SVM-poly-scale-2  \n",
      "48              0.957393          0.957328      0.982104     SVM-poly-scale-2  \n",
      "49              0.924812          0.924781      0.969041     SVM-poly-scale-2  \n",
      "50              0.922500          0.922395      0.982013      SVM-rbf-scale-2  \n",
      "51              0.920000          0.920000      0.970328      SVM-rbf-scale-2  \n",
      "52              0.947368          0.947345      0.987856      SVM-rbf-scale-2  \n",
      "53              0.947368          0.947354      0.985027      SVM-rbf-scale-2  \n",
      "54              0.909774          0.909766      0.964743      SVM-rbf-scale-2  \n",
      "55              0.620000          0.620323      0.700749  SVM-sigmoid-scale-2  \n",
      "56              0.657500          0.657464      0.751853  SVM-sigmoid-scale-2  \n",
      "57              0.676692          0.676647      0.754573  SVM-sigmoid-scale-2  \n",
      "58              0.626566          0.627223      0.737480  SVM-sigmoid-scale-2  \n",
      "59              0.704261          0.703982      0.765919  SVM-sigmoid-scale-2  \n"
     ]
    },
    {
     "name": "stdout",
     "output_type": "stream",
     "text": [
      "SVM-linear-auto-2\n",
      "              precision    recall  f1-score   support\n",
      "\n",
      "   malignant       0.96      0.94      0.95       363\n",
      "      benign       0.93      0.96      0.94       303\n",
      "\n",
      "    accuracy                           0.95       666\n",
      "   macro avg       0.94      0.95      0.95       666\n",
      "weighted avg       0.95      0.95      0.95       666\n",
      "\n",
      "     fit_time  score_time  test_accuracy  test_precision_weighted  \\\n",
      "0   31.505351    0.017130       0.937500                 0.937509   \n",
      "1    4.457915    0.010911       0.932500                 0.932638   \n",
      "2   33.130570    0.012345       0.924812                 0.925062   \n",
      "3   11.805367    0.010976       0.957393                 0.957428   \n",
      "4   15.284442    0.010962       0.927318                 0.927401   \n",
      "..        ...         ...            ...                      ...   \n",
      "60  31.593187    0.011572       0.937500                 0.937509   \n",
      "61   4.488391    0.010222       0.932500                 0.932638   \n",
      "62  33.542368    0.011398       0.924812                 0.925062   \n",
      "63  11.871305    0.011055       0.957393                 0.957428   \n",
      "64  15.375132    0.010264       0.927318                 0.927401   \n",
      "\n",
      "    test_recall_weighted  test_f1_weighted  test_roc_auc               model  \n",
      "0               0.937500          0.937451      0.979465  SVM-linear-scale-1  \n",
      "1               0.932500          0.932516      0.977339  SVM-linear-scale-1  \n",
      "2               0.924812          0.924844      0.968808  SVM-linear-scale-1  \n",
      "3               0.957393          0.957356      0.984137  SVM-linear-scale-1  \n",
      "4               0.927318          0.927307      0.973514  SVM-linear-scale-1  \n",
      "..                   ...               ...           ...                 ...  \n",
      "60              0.937500          0.937451      0.979465   SVM-linear-auto-2  \n",
      "61              0.932500          0.932516      0.977339   SVM-linear-auto-2  \n",
      "62              0.924812          0.924844      0.968808   SVM-linear-auto-2  \n",
      "63              0.957393          0.957356      0.984137   SVM-linear-auto-2  \n",
      "64              0.927318          0.927307      0.973514   SVM-linear-auto-2  \n",
      "\n",
      "[65 rows x 8 columns]\n"
     ]
    },
    {
     "name": "stdout",
     "output_type": "stream",
     "text": [
      "SVM-poly-auto-2\n",
      "              precision    recall  f1-score   support\n",
      "\n",
      "   malignant       0.97      0.92      0.94       363\n",
      "      benign       0.91      0.96      0.94       303\n",
      "\n",
      "    accuracy                           0.94       666\n",
      "   macro avg       0.94      0.94      0.94       666\n",
      "weighted avg       0.94      0.94      0.94       666\n",
      "\n",
      "     fit_time  score_time  test_accuracy  test_precision_weighted  \\\n",
      "0   31.505351    0.017130       0.937500                 0.937509   \n",
      "1    4.457915    0.010911       0.932500                 0.932638   \n",
      "2   33.130570    0.012345       0.924812                 0.925062   \n",
      "3   11.805367    0.010976       0.957393                 0.957428   \n",
      "4   15.284442    0.010962       0.927318                 0.927401   \n",
      "..        ...         ...            ...                      ...   \n",
      "65   0.070661    0.014786       0.917500                 0.918701   \n",
      "66   0.066565    0.014461       0.925000                 0.925920   \n",
      "67   0.081225    0.014555       0.957393                 0.957416   \n",
      "68   0.080089    0.014751       0.937343                 0.937320   \n",
      "69   0.065631    0.013902       0.919799                 0.919988   \n",
      "\n",
      "    test_recall_weighted  test_f1_weighted  test_roc_auc               model  \n",
      "0               0.937500          0.937451      0.979465  SVM-linear-scale-1  \n",
      "1               0.932500          0.932516      0.977339  SVM-linear-scale-1  \n",
      "2               0.924812          0.924844      0.968808  SVM-linear-scale-1  \n",
      "3               0.957393          0.957356      0.984137  SVM-linear-scale-1  \n",
      "4               0.927318          0.927307      0.973514  SVM-linear-scale-1  \n",
      "..                   ...               ...           ...                 ...  \n",
      "65              0.917500          0.917635      0.975226     SVM-poly-auto-2  \n",
      "66              0.925000          0.924878      0.967673     SVM-poly-auto-2  \n",
      "67              0.957393          0.957399      0.984329     SVM-poly-auto-2  \n",
      "68              0.937343          0.937326      0.979155     SVM-poly-auto-2  \n",
      "69              0.919799          0.919802      0.961527     SVM-poly-auto-2  \n",
      "\n",
      "[70 rows x 8 columns]\n"
     ]
    },
    {
     "name": "stdout",
     "output_type": "stream",
     "text": [
      "SVM-rbf-auto-2\n",
      "              precision    recall  f1-score   support\n",
      "\n",
      "   malignant       0.61      1.00      0.76       363\n",
      "      benign       1.00      0.24      0.39       303\n",
      "\n",
      "    accuracy                           0.66       666\n",
      "   macro avg       0.81      0.62      0.58       666\n",
      "weighted avg       0.79      0.66      0.59       666\n",
      "\n",
      "     fit_time  score_time  test_accuracy  test_precision_weighted  \\\n",
      "0   31.505351    0.017130       0.937500                 0.937509   \n",
      "1    4.457915    0.010911       0.932500                 0.932638   \n",
      "2   33.130570    0.012345       0.924812                 0.925062   \n",
      "3   11.805367    0.010976       0.957393                 0.957428   \n",
      "4   15.284442    0.010962       0.927318                 0.927401   \n",
      "..        ...         ...            ...                      ...   \n",
      "70   0.203679    0.171092       0.655000                 0.788361   \n",
      "71   0.202909    0.172861       0.670000                 0.798118   \n",
      "72   0.198829    0.171654       0.661654                 0.794050   \n",
      "73   0.198195    0.172714       0.601504                 0.789518   \n",
      "74   0.198395    0.171402       0.619048                 0.784964   \n",
      "\n",
      "    test_recall_weighted  test_f1_weighted  test_roc_auc               model  \n",
      "0               0.937500          0.937451      0.979465  SVM-linear-scale-1  \n",
      "1               0.932500          0.932516      0.977339  SVM-linear-scale-1  \n",
      "2               0.924812          0.924844      0.968808  SVM-linear-scale-1  \n",
      "3               0.957393          0.957356      0.984137  SVM-linear-scale-1  \n",
      "4               0.927318          0.927307      0.973514  SVM-linear-scale-1  \n",
      "..                   ...               ...           ...                 ...  \n",
      "70              0.655000          0.590056      0.639673      SVM-rbf-auto-2  \n",
      "71              0.670000          0.623316      0.673615      SVM-rbf-auto-2  \n",
      "72              0.661654          0.608819      0.659864      SVM-rbf-auto-2  \n",
      "73              0.601504          0.551074      0.650376      SVM-rbf-auto-2  \n",
      "74              0.619048          0.557184      0.639041      SVM-rbf-auto-2  \n",
      "\n",
      "[75 rows x 8 columns]\n"
     ]
    },
    {
     "name": "stdout",
     "output_type": "stream",
     "text": [
      "SVM-sigmoid-auto-2\n",
      "              precision    recall  f1-score   support\n",
      "\n",
      "   malignant       0.55      1.00      0.71       363\n",
      "      benign       0.00      0.00      0.00       303\n",
      "\n",
      "    accuracy                           0.55       666\n",
      "   macro avg       0.27      0.50      0.35       666\n",
      "weighted avg       0.30      0.55      0.38       666\n",
      "\n",
      "     fit_time  score_time  test_accuracy  test_precision_weighted  \\\n",
      "0   31.505351    0.017130       0.937500                 0.937509   \n",
      "1    4.457915    0.010911       0.932500                 0.932638   \n",
      "2   33.130570    0.012345       0.924812                 0.925062   \n",
      "3   11.805367    0.010976       0.957393                 0.957428   \n",
      "4   15.284442    0.010962       0.927318                 0.927401   \n",
      "..        ...         ...            ...                      ...   \n",
      "75   0.144956    0.082795       0.452500                 0.204756   \n",
      "76   0.144607    0.082552       0.520000                 0.270400   \n",
      "77   0.145082    0.082692       0.526316                 0.277008   \n",
      "78   0.138825    0.079655       0.446115                 0.199019   \n",
      "79   0.142207    0.081361       0.493734                 0.243774   \n",
      "\n",
      "    test_recall_weighted  test_f1_weighted  test_roc_auc               model  \n",
      "0               0.937500          0.937451      0.979465  SVM-linear-scale-1  \n",
      "1               0.932500          0.932516      0.977339  SVM-linear-scale-1  \n",
      "2               0.924812          0.924844      0.968808  SVM-linear-scale-1  \n",
      "3               0.957393          0.957356      0.984137  SVM-linear-scale-1  \n",
      "4               0.927318          0.927307      0.973514  SVM-linear-scale-1  \n",
      "..                   ...               ...           ...                 ...  \n",
      "75              0.452500          0.281936      0.500000  SVM-sigmoid-auto-2  \n",
      "76              0.520000          0.355789      0.500000  SVM-sigmoid-auto-2  \n",
      "77              0.526316          0.362976      0.500000  SVM-sigmoid-auto-2  \n",
      "78              0.446115          0.275246      0.500000  SVM-sigmoid-auto-2  \n",
      "79              0.493734          0.326395      0.500000  SVM-sigmoid-auto-2  \n",
      "\n",
      "[80 rows x 8 columns]\n",
      "675.2559301059227\n"
     ]
    }
   ],
   "source": [
    "## S6: Single compromised (IoT) (Raspberry)\n",
    " \n",
    "df_malicious = pd.concat([df5])\n",
    " \n",
    "df_benign = pd.concat([df8,df9,df10])\n",
    "\n",
    "\n",
    "print(\"malicious: {}\".format(len(df_malicious)))\n",
    "print(\"benign: {}\".format(len(df_benign)))\n",
    "\n",
    "print(\"{} NAN in malicious!\".format(len(df_malicious[df_malicious.isna().any(axis=1)])))\n",
    "print(\"{} NAN in benign!\".format(len(df_benign[df_benign.isna().any(axis=1)])))\n",
    "\n",
    "df_malicious = df_malicious.dropna()\n",
    "df_benign = df_benign.dropna()\n",
    "\n",
    "print(\"After droppping NAN rows: \")\n",
    "print(\"malicious: {}\".format(len(df_malicious)))\n",
    "print(\"benign: {}\".format(len(df_benign)))\n",
    "\n",
    "\n",
    "start = timer()\n",
    "\n",
    "results_all_combined_s0 = run_process(df_malicious,df_benign,df_results)\n",
    "\n",
    "end = timer()\n",
    "print(end - start)\n",
    "\n",
    "\n"
   ]
  },
  {
   "cell_type": "code",
   "execution_count": 9,
   "id": "3a174725",
   "metadata": {
    "execution": {
     "iopub.execute_input": "2025-08-09T15:36:53.658115Z",
     "iopub.status.busy": "2025-08-09T15:36:53.657732Z",
     "iopub.status.idle": "2025-08-09T15:48:38.197195Z",
     "shell.execute_reply": "2025-08-09T15:48:38.196223Z"
    },
    "scrolled": true
   },
   "outputs": [
    {
     "name": "stdout",
     "output_type": "stream",
     "text": [
      "malicious: 47978\n",
      "benign: 47801\n",
      "0 NAN in malicious!\n",
      "0 NAN in benign!\n",
      "After droppping NAN rows: \n",
      "malicious: 47978\n",
      "benign: 47801\n"
     ]
    },
    {
     "name": "stderr",
     "output_type": "stream",
     "text": [
      "\r",
      "Feature Extraction:   0%|          | 0/240 [00:00<?, ?it/s]"
     ]
    },
    {
     "name": "stderr",
     "output_type": "stream",
     "text": [
      "\r",
      "Feature Extraction:   0%|          | 1/240 [00:01<07:24,  1.86s/it]"
     ]
    },
    {
     "name": "stderr",
     "output_type": "stream",
     "text": [
      "\r",
      "Feature Extraction:   1%|          | 2/240 [00:02<03:43,  1.07it/s]"
     ]
    },
    {
     "name": "stderr",
     "output_type": "stream",
     "text": [
      "\r",
      "Feature Extraction:   1%|▏         | 3/240 [00:02<02:12,  1.79it/s]"
     ]
    },
    {
     "name": "stderr",
     "output_type": "stream",
     "text": [
      "\r",
      "Feature Extraction:   2%|▏         | 4/240 [00:02<01:42,  2.31it/s]"
     ]
    },
    {
     "name": "stderr",
     "output_type": "stream",
     "text": [
      "\r",
      "Feature Extraction:   2%|▏         | 5/240 [00:02<01:24,  2.78it/s]"
     ]
    },
    {
     "name": "stderr",
     "output_type": "stream",
     "text": [
      "\r",
      "Feature Extraction:   3%|▎         | 7/240 [00:02<00:48,  4.84it/s]"
     ]
    },
    {
     "name": "stderr",
     "output_type": "stream",
     "text": [
      "\r",
      "Feature Extraction:   3%|▎         | 8/240 [00:02<00:42,  5.43it/s]"
     ]
    },
    {
     "name": "stderr",
     "output_type": "stream",
     "text": [
      "\r",
      "Feature Extraction:   5%|▍         | 11/240 [00:03<00:25,  9.11it/s]"
     ]
    },
    {
     "name": "stderr",
     "output_type": "stream",
     "text": [
      "\r",
      "Feature Extraction:   5%|▌         | 13/240 [00:03<00:20, 11.10it/s]"
     ]
    },
    {
     "name": "stderr",
     "output_type": "stream",
     "text": [
      "\r",
      "Feature Extraction:   7%|▋         | 16/240 [00:03<00:16, 13.26it/s]"
     ]
    },
    {
     "name": "stderr",
     "output_type": "stream",
     "text": [
      "\r",
      "Feature Extraction:   8%|▊         | 20/240 [00:03<00:11, 18.40it/s]"
     ]
    },
    {
     "name": "stderr",
     "output_type": "stream",
     "text": [
      "\r",
      "Feature Extraction:  10%|█         | 25/240 [00:03<00:08, 24.92it/s]"
     ]
    },
    {
     "name": "stderr",
     "output_type": "stream",
     "text": [
      "\r",
      "Feature Extraction:  12%|█▏        | 28/240 [00:03<00:08, 26.08it/s]"
     ]
    },
    {
     "name": "stderr",
     "output_type": "stream",
     "text": [
      "\r",
      "Feature Extraction:  13%|█▎        | 32/240 [00:03<00:07, 26.00it/s]"
     ]
    },
    {
     "name": "stderr",
     "output_type": "stream",
     "text": [
      "\r",
      "Feature Extraction:  15%|█▍        | 35/240 [00:03<00:07, 26.15it/s]"
     ]
    },
    {
     "name": "stderr",
     "output_type": "stream",
     "text": [
      "\r",
      "Feature Extraction:  16%|█▌        | 38/240 [00:04<00:07, 26.85it/s]"
     ]
    },
    {
     "name": "stderr",
     "output_type": "stream",
     "text": [
      "\r",
      "Feature Extraction:  17%|█▋        | 41/240 [00:04<00:07, 24.96it/s]"
     ]
    },
    {
     "name": "stderr",
     "output_type": "stream",
     "text": [
      "\r",
      "Feature Extraction:  18%|█▊        | 44/240 [00:04<00:08, 22.04it/s]"
     ]
    },
    {
     "name": "stderr",
     "output_type": "stream",
     "text": [
      "\r",
      "Feature Extraction:  20%|█▉        | 47/240 [00:04<00:08, 21.98it/s]"
     ]
    },
    {
     "name": "stderr",
     "output_type": "stream",
     "text": [
      "\r",
      "Feature Extraction:  21%|██        | 50/240 [00:04<00:09, 20.50it/s]"
     ]
    },
    {
     "name": "stderr",
     "output_type": "stream",
     "text": [
      "\r",
      "Feature Extraction:  22%|██▏       | 53/240 [00:04<00:09, 19.44it/s]"
     ]
    },
    {
     "name": "stderr",
     "output_type": "stream",
     "text": [
      "\r",
      "Feature Extraction:  23%|██▎       | 56/240 [00:04<00:09, 20.18it/s]"
     ]
    },
    {
     "name": "stderr",
     "output_type": "stream",
     "text": [
      "\r",
      "Feature Extraction:  25%|██▍       | 59/240 [00:05<00:10, 17.68it/s]"
     ]
    },
    {
     "name": "stderr",
     "output_type": "stream",
     "text": [
      "\r",
      "Feature Extraction:  25%|██▌       | 61/240 [00:05<00:12, 14.70it/s]"
     ]
    },
    {
     "name": "stderr",
     "output_type": "stream",
     "text": [
      "\r",
      "Feature Extraction:  27%|██▋       | 64/240 [00:05<00:10, 17.04it/s]"
     ]
    },
    {
     "name": "stderr",
     "output_type": "stream",
     "text": [
      "\r",
      "Feature Extraction:  28%|██▊       | 66/240 [00:05<00:10, 17.12it/s]"
     ]
    },
    {
     "name": "stderr",
     "output_type": "stream",
     "text": [
      "\r",
      "Feature Extraction:  29%|██▉       | 69/240 [00:05<00:08, 19.24it/s]"
     ]
    },
    {
     "name": "stderr",
     "output_type": "stream",
     "text": [
      "\r",
      "Feature Extraction:  30%|███       | 73/240 [00:05<00:08, 20.61it/s]"
     ]
    },
    {
     "name": "stderr",
     "output_type": "stream",
     "text": [
      "\r",
      "Feature Extraction:  32%|███▏      | 76/240 [00:06<00:12, 12.74it/s]"
     ]
    },
    {
     "name": "stderr",
     "output_type": "stream",
     "text": [
      "\r",
      "Feature Extraction:  33%|███▎      | 80/240 [00:06<00:09, 16.52it/s]"
     ]
    },
    {
     "name": "stderr",
     "output_type": "stream",
     "text": [
      "\r",
      "Feature Extraction:  35%|███▍      | 83/240 [00:06<00:08, 18.21it/s]"
     ]
    },
    {
     "name": "stderr",
     "output_type": "stream",
     "text": [
      "\r",
      "Feature Extraction:  36%|███▌      | 86/240 [00:06<00:07, 20.45it/s]"
     ]
    },
    {
     "name": "stderr",
     "output_type": "stream",
     "text": [
      "\r",
      "Feature Extraction:  37%|███▋      | 89/240 [00:06<00:07, 19.75it/s]"
     ]
    },
    {
     "name": "stderr",
     "output_type": "stream",
     "text": [
      "\r",
      "Feature Extraction:  38%|███▊      | 92/240 [00:07<00:08, 17.98it/s]"
     ]
    },
    {
     "name": "stderr",
     "output_type": "stream",
     "text": [
      "\r",
      "Feature Extraction:  40%|███▉      | 95/240 [00:07<00:07, 19.46it/s]"
     ]
    },
    {
     "name": "stderr",
     "output_type": "stream",
     "text": [
      "\r",
      "Feature Extraction:  41%|████      | 98/240 [00:07<00:08, 16.95it/s]"
     ]
    },
    {
     "name": "stderr",
     "output_type": "stream",
     "text": [
      "\r",
      "Feature Extraction:  42%|████▏     | 101/240 [00:07<00:07, 17.47it/s]"
     ]
    },
    {
     "name": "stderr",
     "output_type": "stream",
     "text": [
      "\r",
      "Feature Extraction:  43%|████▎     | 103/240 [00:07<00:09, 14.62it/s]"
     ]
    },
    {
     "name": "stderr",
     "output_type": "stream",
     "text": [
      "\r",
      "Feature Extraction:  44%|████▍     | 105/240 [00:07<00:09, 14.17it/s]"
     ]
    },
    {
     "name": "stderr",
     "output_type": "stream",
     "text": [
      "\r",
      "Feature Extraction:  45%|████▌     | 108/240 [00:08<00:08, 16.01it/s]"
     ]
    },
    {
     "name": "stderr",
     "output_type": "stream",
     "text": [
      "\r",
      "Feature Extraction:  46%|████▋     | 111/240 [00:08<00:07, 18.28it/s]"
     ]
    },
    {
     "name": "stderr",
     "output_type": "stream",
     "text": [
      "\r",
      "Feature Extraction:  47%|████▋     | 113/240 [00:08<00:09, 13.62it/s]"
     ]
    },
    {
     "name": "stderr",
     "output_type": "stream",
     "text": [
      "\r",
      "Feature Extraction:  48%|████▊     | 115/240 [00:08<00:08, 13.94it/s]"
     ]
    },
    {
     "name": "stderr",
     "output_type": "stream",
     "text": [
      "\r",
      "Feature Extraction:  49%|████▉     | 117/240 [00:08<00:08, 14.72it/s]"
     ]
    },
    {
     "name": "stderr",
     "output_type": "stream",
     "text": [
      "\r",
      "Feature Extraction:  50%|████▉     | 119/240 [00:08<00:07, 15.39it/s]"
     ]
    },
    {
     "name": "stderr",
     "output_type": "stream",
     "text": [
      "\r",
      "Feature Extraction:  51%|█████▏    | 123/240 [00:08<00:05, 20.53it/s]"
     ]
    },
    {
     "name": "stderr",
     "output_type": "stream",
     "text": [
      "\r",
      "Feature Extraction:  53%|█████▎    | 127/240 [00:09<00:05, 22.38it/s]"
     ]
    },
    {
     "name": "stderr",
     "output_type": "stream",
     "text": [
      "\r",
      "Feature Extraction:  54%|█████▍    | 130/240 [00:09<00:04, 23.15it/s]"
     ]
    },
    {
     "name": "stderr",
     "output_type": "stream",
     "text": [
      "\r",
      "Feature Extraction:  55%|█████▌    | 133/240 [00:09<00:05, 18.29it/s]"
     ]
    },
    {
     "name": "stderr",
     "output_type": "stream",
     "text": [
      "\r",
      "Feature Extraction:  57%|█████▋    | 136/240 [00:09<00:06, 17.09it/s]"
     ]
    },
    {
     "name": "stderr",
     "output_type": "stream",
     "text": [
      "\r",
      "Feature Extraction:  57%|█████▊    | 138/240 [00:09<00:06, 16.43it/s]"
     ]
    },
    {
     "name": "stderr",
     "output_type": "stream",
     "text": [
      "\r",
      "Feature Extraction:  59%|█████▉    | 141/240 [00:09<00:05, 18.52it/s]"
     ]
    },
    {
     "name": "stderr",
     "output_type": "stream",
     "text": [
      "\r",
      "Feature Extraction:  60%|██████    | 144/240 [00:10<00:04, 19.41it/s]"
     ]
    },
    {
     "name": "stderr",
     "output_type": "stream",
     "text": [
      "\r",
      "Feature Extraction:  61%|██████▏   | 147/240 [00:10<00:04, 20.78it/s]"
     ]
    },
    {
     "name": "stderr",
     "output_type": "stream",
     "text": [
      "\r",
      "Feature Extraction:  62%|██████▎   | 150/240 [00:10<00:07, 12.15it/s]"
     ]
    },
    {
     "name": "stderr",
     "output_type": "stream",
     "text": [
      "\r",
      "Feature Extraction:  64%|██████▍   | 153/240 [00:10<00:06, 14.35it/s]"
     ]
    },
    {
     "name": "stderr",
     "output_type": "stream",
     "text": [
      "\r",
      "Feature Extraction:  65%|██████▌   | 156/240 [00:10<00:05, 15.82it/s]"
     ]
    },
    {
     "name": "stderr",
     "output_type": "stream",
     "text": [
      "\r",
      "Feature Extraction:  66%|██████▋   | 159/240 [00:11<00:04, 18.27it/s]"
     ]
    },
    {
     "name": "stderr",
     "output_type": "stream",
     "text": [
      "\r",
      "Feature Extraction:  68%|██████▊   | 162/240 [00:11<00:04, 18.11it/s]"
     ]
    },
    {
     "name": "stderr",
     "output_type": "stream",
     "text": [
      "\r",
      "Feature Extraction:  69%|██████▉   | 165/240 [00:11<00:04, 17.07it/s]"
     ]
    },
    {
     "name": "stderr",
     "output_type": "stream",
     "text": [
      "\r",
      "Feature Extraction:  70%|███████   | 168/240 [00:11<00:04, 14.82it/s]"
     ]
    },
    {
     "name": "stderr",
     "output_type": "stream",
     "text": [
      "\r",
      "Feature Extraction:  72%|███████▏  | 172/240 [00:11<00:04, 16.72it/s]"
     ]
    },
    {
     "name": "stderr",
     "output_type": "stream",
     "text": [
      "\r",
      "Feature Extraction:  72%|███████▎  | 174/240 [00:12<00:04, 15.01it/s]"
     ]
    },
    {
     "name": "stderr",
     "output_type": "stream",
     "text": [
      "\r",
      "Feature Extraction:  74%|███████▍  | 177/240 [00:12<00:03, 17.36it/s]"
     ]
    },
    {
     "name": "stderr",
     "output_type": "stream",
     "text": [
      "\r",
      "Feature Extraction:  75%|███████▌  | 180/240 [00:12<00:03, 18.63it/s]"
     ]
    },
    {
     "name": "stderr",
     "output_type": "stream",
     "text": [
      "\r",
      "Feature Extraction:  76%|███████▋  | 183/240 [00:12<00:03, 14.51it/s]"
     ]
    },
    {
     "name": "stderr",
     "output_type": "stream",
     "text": [
      "\r",
      "Feature Extraction:  78%|███████▊  | 186/240 [00:12<00:03, 16.28it/s]"
     ]
    },
    {
     "name": "stderr",
     "output_type": "stream",
     "text": [
      "\r",
      "Feature Extraction:  78%|███████▊  | 188/240 [00:12<00:03, 16.94it/s]"
     ]
    },
    {
     "name": "stderr",
     "output_type": "stream",
     "text": [
      "\r",
      "Feature Extraction:  80%|████████  | 192/240 [00:13<00:02, 20.63it/s]"
     ]
    },
    {
     "name": "stderr",
     "output_type": "stream",
     "text": [
      "\r",
      "Feature Extraction:  81%|████████▏ | 195/240 [00:13<00:02, 15.61it/s]"
     ]
    },
    {
     "name": "stderr",
     "output_type": "stream",
     "text": [
      "\r",
      "Feature Extraction:  82%|████████▏ | 197/240 [00:13<00:02, 16.39it/s]"
     ]
    },
    {
     "name": "stderr",
     "output_type": "stream",
     "text": [
      "\r",
      "Feature Extraction:  84%|████████▍ | 202/240 [00:13<00:01, 22.92it/s]"
     ]
    },
    {
     "name": "stderr",
     "output_type": "stream",
     "text": [
      "\r",
      "Feature Extraction:  86%|████████▌ | 206/240 [00:13<00:01, 25.98it/s]"
     ]
    },
    {
     "name": "stderr",
     "output_type": "stream",
     "text": [
      "\r",
      "Feature Extraction:  88%|████████▊ | 210/240 [00:13<00:01, 24.47it/s]"
     ]
    },
    {
     "name": "stderr",
     "output_type": "stream",
     "text": [
      "\r",
      "Feature Extraction:  89%|████████▉ | 213/240 [00:13<00:01, 25.27it/s]"
     ]
    },
    {
     "name": "stderr",
     "output_type": "stream",
     "text": [
      "\r",
      "Feature Extraction:  91%|█████████▏| 219/240 [00:14<00:00, 30.69it/s]"
     ]
    },
    {
     "name": "stderr",
     "output_type": "stream",
     "text": [
      "\r",
      "Feature Extraction:  93%|█████████▎| 223/240 [00:14<00:00, 27.42it/s]"
     ]
    },
    {
     "name": "stderr",
     "output_type": "stream",
     "text": [
      "\r",
      "Feature Extraction:  94%|█████████▍| 226/240 [00:14<00:00, 27.30it/s]"
     ]
    },
    {
     "name": "stderr",
     "output_type": "stream",
     "text": [
      "\r",
      "Feature Extraction:  96%|█████████▋| 231/240 [00:14<00:00, 31.33it/s]"
     ]
    },
    {
     "name": "stderr",
     "output_type": "stream",
     "text": [
      "\r",
      "Feature Extraction:  98%|█████████▊| 235/240 [00:14<00:00, 31.65it/s]"
     ]
    },
    {
     "name": "stderr",
     "output_type": "stream",
     "text": [
      "\r",
      "Feature Extraction: 100%|██████████| 240/240 [00:14<00:00, 31.33it/s]"
     ]
    },
    {
     "name": "stderr",
     "output_type": "stream",
     "text": [
      "\r",
      "Feature Extraction: 100%|██████████| 240/240 [00:14<00:00, 16.26it/s]"
     ]
    },
    {
     "name": "stderr",
     "output_type": "stream",
     "text": [
      "\n"
     ]
    },
    {
     "name": "stderr",
     "output_type": "stream",
     "text": [
      "\r",
      "Feature Extraction:   0%|          | 0/240 [00:00<?, ?it/s]"
     ]
    },
    {
     "name": "stderr",
     "output_type": "stream",
     "text": [
      "\r",
      "Feature Extraction:   0%|          | 1/240 [00:01<07:49,  1.96s/it]"
     ]
    },
    {
     "name": "stderr",
     "output_type": "stream",
     "text": [
      "\r",
      "Feature Extraction:   2%|▏         | 5/240 [00:02<01:15,  3.11it/s]"
     ]
    },
    {
     "name": "stderr",
     "output_type": "stream",
     "text": [
      "\r",
      "Feature Extraction:   3%|▎         | 7/240 [00:02<00:57,  4.02it/s]"
     ]
    },
    {
     "name": "stderr",
     "output_type": "stream",
     "text": [
      "\r",
      "Feature Extraction:   4%|▍         | 10/240 [00:02<00:37,  6.10it/s]"
     ]
    },
    {
     "name": "stderr",
     "output_type": "stream",
     "text": [
      "\r",
      "Feature Extraction:   6%|▌         | 14/240 [00:02<00:30,  7.39it/s]"
     ]
    },
    {
     "name": "stderr",
     "output_type": "stream",
     "text": [
      "\r",
      "Feature Extraction:   7%|▋         | 17/240 [00:03<00:23,  9.68it/s]"
     ]
    },
    {
     "name": "stderr",
     "output_type": "stream",
     "text": [
      "\r",
      "Feature Extraction:   8%|▊         | 20/240 [00:03<00:18, 11.93it/s]"
     ]
    },
    {
     "name": "stderr",
     "output_type": "stream",
     "text": [
      "\r",
      "Feature Extraction:  10%|█         | 24/240 [00:03<00:13, 15.71it/s]"
     ]
    },
    {
     "name": "stderr",
     "output_type": "stream",
     "text": [
      "\r",
      "Feature Extraction:  11%|█▏        | 27/240 [00:03<00:12, 16.68it/s]"
     ]
    },
    {
     "name": "stderr",
     "output_type": "stream",
     "text": [
      "\r",
      "Feature Extraction:  13%|█▎        | 31/240 [00:03<00:10, 19.86it/s]"
     ]
    },
    {
     "name": "stderr",
     "output_type": "stream",
     "text": [
      "\r",
      "Feature Extraction:  15%|█▍        | 35/240 [00:03<00:09, 22.25it/s]"
     ]
    },
    {
     "name": "stderr",
     "output_type": "stream",
     "text": [
      "\r",
      "Feature Extraction:  16%|█▌        | 38/240 [00:03<00:09, 21.31it/s]"
     ]
    },
    {
     "name": "stderr",
     "output_type": "stream",
     "text": [
      "\r",
      "Feature Extraction:  18%|█▊        | 42/240 [00:04<00:08, 23.56it/s]"
     ]
    },
    {
     "name": "stderr",
     "output_type": "stream",
     "text": [
      "\r",
      "Feature Extraction:  19%|█▉        | 45/240 [00:04<00:07, 24.71it/s]"
     ]
    },
    {
     "name": "stderr",
     "output_type": "stream",
     "text": [
      "\r",
      "Feature Extraction:  20%|██        | 48/240 [00:04<00:08, 21.99it/s]"
     ]
    },
    {
     "name": "stderr",
     "output_type": "stream",
     "text": [
      "\r",
      "Feature Extraction:  21%|██▏       | 51/240 [00:04<00:09, 20.84it/s]"
     ]
    },
    {
     "name": "stderr",
     "output_type": "stream",
     "text": [
      "\r",
      "Feature Extraction:  22%|██▎       | 54/240 [00:04<00:08, 21.11it/s]"
     ]
    },
    {
     "name": "stderr",
     "output_type": "stream",
     "text": [
      "\r",
      "Feature Extraction:  24%|██▍       | 57/240 [00:04<00:09, 20.30it/s]"
     ]
    },
    {
     "name": "stderr",
     "output_type": "stream",
     "text": [
      "\r",
      "Feature Extraction:  25%|██▌       | 60/240 [00:05<00:14, 12.56it/s]"
     ]
    },
    {
     "name": "stderr",
     "output_type": "stream",
     "text": [
      "\r",
      "Feature Extraction:  26%|██▌       | 62/240 [00:05<00:13, 13.17it/s]"
     ]
    },
    {
     "name": "stderr",
     "output_type": "stream",
     "text": [
      "\r",
      "Feature Extraction:  27%|██▋       | 65/240 [00:05<00:13, 13.01it/s]"
     ]
    },
    {
     "name": "stderr",
     "output_type": "stream",
     "text": [
      "\r",
      "Feature Extraction:  28%|██▊       | 67/240 [00:05<00:13, 12.50it/s]"
     ]
    },
    {
     "name": "stderr",
     "output_type": "stream",
     "text": [
      "\r",
      "Feature Extraction:  29%|██▉       | 70/240 [00:05<00:13, 13.03it/s]"
     ]
    },
    {
     "name": "stderr",
     "output_type": "stream",
     "text": [
      "\r",
      "Feature Extraction:  30%|███       | 72/240 [00:06<00:15, 11.12it/s]"
     ]
    },
    {
     "name": "stderr",
     "output_type": "stream",
     "text": [
      "\r",
      "Feature Extraction:  31%|███▏      | 75/240 [00:06<00:12, 13.61it/s]"
     ]
    },
    {
     "name": "stderr",
     "output_type": "stream",
     "text": [
      "\r",
      "Feature Extraction:  32%|███▎      | 78/240 [00:06<00:10, 15.63it/s]"
     ]
    },
    {
     "name": "stderr",
     "output_type": "stream",
     "text": [
      "\r",
      "Feature Extraction:  33%|███▎      | 80/240 [00:06<00:10, 15.63it/s]"
     ]
    },
    {
     "name": "stderr",
     "output_type": "stream",
     "text": [
      "\r",
      "Feature Extraction:  34%|███▍      | 82/240 [00:06<00:09, 16.15it/s]"
     ]
    },
    {
     "name": "stderr",
     "output_type": "stream",
     "text": [
      "\r",
      "Feature Extraction:  35%|███▌      | 85/240 [00:06<00:09, 16.10it/s]"
     ]
    },
    {
     "name": "stderr",
     "output_type": "stream",
     "text": [
      "\r",
      "Feature Extraction:  36%|███▋      | 87/240 [00:07<00:09, 16.03it/s]"
     ]
    },
    {
     "name": "stderr",
     "output_type": "stream",
     "text": [
      "\r",
      "Feature Extraction:  37%|███▋      | 89/240 [00:07<00:09, 16.34it/s]"
     ]
    },
    {
     "name": "stderr",
     "output_type": "stream",
     "text": [
      "\r",
      "Feature Extraction:  38%|███▊      | 92/240 [00:07<00:08, 18.30it/s]"
     ]
    },
    {
     "name": "stderr",
     "output_type": "stream",
     "text": [
      "\r",
      "Feature Extraction:  40%|████      | 96/240 [00:07<00:06, 23.01it/s]"
     ]
    },
    {
     "name": "stderr",
     "output_type": "stream",
     "text": [
      "\r",
      "Feature Extraction:  41%|████▏     | 99/240 [00:07<00:06, 22.44it/s]"
     ]
    },
    {
     "name": "stderr",
     "output_type": "stream",
     "text": [
      "\r",
      "Feature Extraction:  42%|████▎     | 102/240 [00:07<00:05, 24.24it/s]"
     ]
    },
    {
     "name": "stderr",
     "output_type": "stream",
     "text": [
      "\r",
      "Feature Extraction:  44%|████▍     | 105/240 [00:07<00:06, 21.04it/s]"
     ]
    },
    {
     "name": "stderr",
     "output_type": "stream",
     "text": [
      "\r",
      "Feature Extraction:  45%|████▌     | 108/240 [00:07<00:06, 20.66it/s]"
     ]
    },
    {
     "name": "stderr",
     "output_type": "stream",
     "text": [
      "\r",
      "Feature Extraction:  46%|████▋     | 111/240 [00:08<00:08, 15.93it/s]"
     ]
    },
    {
     "name": "stderr",
     "output_type": "stream",
     "text": [
      "\r",
      "Feature Extraction:  47%|████▋     | 113/240 [00:08<00:08, 14.66it/s]"
     ]
    },
    {
     "name": "stderr",
     "output_type": "stream",
     "text": [
      "\r",
      "Feature Extraction:  48%|████▊     | 116/240 [00:08<00:09, 13.51it/s]"
     ]
    },
    {
     "name": "stderr",
     "output_type": "stream",
     "text": [
      "\r",
      "Feature Extraction:  50%|████▉     | 119/240 [00:08<00:07, 15.73it/s]"
     ]
    },
    {
     "name": "stderr",
     "output_type": "stream",
     "text": [
      "\r",
      "Feature Extraction:  50%|█████     | 121/240 [00:08<00:07, 16.31it/s]"
     ]
    },
    {
     "name": "stderr",
     "output_type": "stream",
     "text": [
      "\r",
      "Feature Extraction:  51%|█████▏    | 123/240 [00:09<00:07, 16.71it/s]"
     ]
    },
    {
     "name": "stderr",
     "output_type": "stream",
     "text": [
      "\r",
      "Feature Extraction:  52%|█████▏    | 125/240 [00:09<00:07, 15.19it/s]"
     ]
    },
    {
     "name": "stderr",
     "output_type": "stream",
     "text": [
      "\r",
      "Feature Extraction:  53%|█████▎    | 128/240 [00:09<00:06, 16.63it/s]"
     ]
    },
    {
     "name": "stderr",
     "output_type": "stream",
     "text": [
      "\r",
      "Feature Extraction:  55%|█████▍    | 131/240 [00:09<00:06, 17.76it/s]"
     ]
    },
    {
     "name": "stderr",
     "output_type": "stream",
     "text": [
      "\r",
      "Feature Extraction:  55%|█████▌    | 133/240 [00:09<00:08, 12.11it/s]"
     ]
    },
    {
     "name": "stderr",
     "output_type": "stream",
     "text": [
      "\r",
      "Feature Extraction:  57%|█████▋    | 136/240 [00:09<00:07, 14.52it/s]"
     ]
    },
    {
     "name": "stderr",
     "output_type": "stream",
     "text": [
      "\r",
      "Feature Extraction:  58%|█████▊    | 140/240 [00:10<00:05, 19.07it/s]"
     ]
    },
    {
     "name": "stderr",
     "output_type": "stream",
     "text": [
      "\r",
      "Feature Extraction:  60%|██████    | 144/240 [00:10<00:04, 23.01it/s]"
     ]
    },
    {
     "name": "stderr",
     "output_type": "stream",
     "text": [
      "\r",
      "Feature Extraction:  61%|██████▏   | 147/240 [00:10<00:04, 20.29it/s]"
     ]
    },
    {
     "name": "stderr",
     "output_type": "stream",
     "text": [
      "\r",
      "Feature Extraction:  62%|██████▎   | 150/240 [00:10<00:04, 18.05it/s]"
     ]
    },
    {
     "name": "stderr",
     "output_type": "stream",
     "text": [
      "\r",
      "Feature Extraction:  64%|██████▍   | 153/240 [00:10<00:04, 17.92it/s]"
     ]
    },
    {
     "name": "stderr",
     "output_type": "stream",
     "text": [
      "\r",
      "Feature Extraction:  65%|██████▍   | 155/240 [00:10<00:05, 14.53it/s]"
     ]
    },
    {
     "name": "stderr",
     "output_type": "stream",
     "text": [
      "\r",
      "Feature Extraction:  65%|██████▌   | 157/240 [00:11<00:05, 15.31it/s]"
     ]
    },
    {
     "name": "stderr",
     "output_type": "stream",
     "text": [
      "\r",
      "Feature Extraction:  67%|██████▋   | 160/240 [00:11<00:04, 17.99it/s]"
     ]
    },
    {
     "name": "stderr",
     "output_type": "stream",
     "text": [
      "\r",
      "Feature Extraction:  68%|██████▊   | 163/240 [00:11<00:04, 18.47it/s]"
     ]
    },
    {
     "name": "stderr",
     "output_type": "stream",
     "text": [
      "\r",
      "Feature Extraction:  69%|██████▉   | 166/240 [00:11<00:04, 16.61it/s]"
     ]
    },
    {
     "name": "stderr",
     "output_type": "stream",
     "text": [
      "\r",
      "Feature Extraction:  70%|███████   | 169/240 [00:11<00:04, 17.58it/s]"
     ]
    },
    {
     "name": "stderr",
     "output_type": "stream",
     "text": [
      "\r",
      "Feature Extraction:  72%|███████▏  | 172/240 [00:11<00:03, 19.98it/s]"
     ]
    },
    {
     "name": "stderr",
     "output_type": "stream",
     "text": [
      "\r",
      "Feature Extraction:  73%|███████▎  | 175/240 [00:12<00:04, 16.12it/s]"
     ]
    },
    {
     "name": "stderr",
     "output_type": "stream",
     "text": [
      "\r",
      "Feature Extraction:  74%|███████▍  | 178/240 [00:12<00:03, 18.52it/s]"
     ]
    },
    {
     "name": "stderr",
     "output_type": "stream",
     "text": [
      "\r",
      "Feature Extraction:  75%|███████▌  | 181/240 [00:12<00:02, 19.67it/s]"
     ]
    },
    {
     "name": "stderr",
     "output_type": "stream",
     "text": [
      "\r",
      "Feature Extraction:  77%|███████▋  | 184/240 [00:12<00:03, 16.20it/s]"
     ]
    },
    {
     "name": "stderr",
     "output_type": "stream",
     "text": [
      "\r",
      "Feature Extraction:  78%|███████▊  | 186/240 [00:12<00:03, 16.31it/s]"
     ]
    },
    {
     "name": "stderr",
     "output_type": "stream",
     "text": [
      "\r",
      "Feature Extraction:  79%|███████▉  | 189/240 [00:12<00:02, 19.00it/s]"
     ]
    },
    {
     "name": "stderr",
     "output_type": "stream",
     "text": [
      "\r",
      "Feature Extraction:  80%|████████  | 192/240 [00:12<00:02, 18.47it/s]"
     ]
    },
    {
     "name": "stderr",
     "output_type": "stream",
     "text": [
      "\r",
      "Feature Extraction:  81%|████████▏ | 195/240 [00:13<00:02, 16.93it/s]"
     ]
    },
    {
     "name": "stderr",
     "output_type": "stream",
     "text": [
      "\r",
      "Feature Extraction:  83%|████████▎ | 200/240 [00:13<00:01, 23.55it/s]"
     ]
    },
    {
     "name": "stderr",
     "output_type": "stream",
     "text": [
      "\r",
      "Feature Extraction:  85%|████████▍ | 203/240 [00:13<00:01, 21.89it/s]"
     ]
    },
    {
     "name": "stderr",
     "output_type": "stream",
     "text": [
      "\r",
      "Feature Extraction:  86%|████████▋ | 207/240 [00:13<00:01, 19.07it/s]"
     ]
    },
    {
     "name": "stderr",
     "output_type": "stream",
     "text": [
      "\r",
      "Feature Extraction:  88%|████████▊ | 212/240 [00:13<00:01, 22.49it/s]"
     ]
    },
    {
     "name": "stderr",
     "output_type": "stream",
     "text": [
      "\r",
      "Feature Extraction:  90%|█████████ | 216/240 [00:14<00:01, 23.98it/s]"
     ]
    },
    {
     "name": "stderr",
     "output_type": "stream",
     "text": [
      "\r",
      "Feature Extraction:  91%|█████████▏| 219/240 [00:14<00:00, 24.54it/s]"
     ]
    },
    {
     "name": "stderr",
     "output_type": "stream",
     "text": [
      "\r",
      "Feature Extraction:  92%|█████████▎| 222/240 [00:14<00:00, 24.59it/s]"
     ]
    },
    {
     "name": "stderr",
     "output_type": "stream",
     "text": [
      "\r",
      "Feature Extraction:  95%|█████████▌| 229/240 [00:14<00:00, 34.71it/s]"
     ]
    },
    {
     "name": "stderr",
     "output_type": "stream",
     "text": [
      "\r",
      "Feature Extraction:  98%|█████████▊| 234/240 [00:14<00:00, 38.14it/s]"
     ]
    },
    {
     "name": "stderr",
     "output_type": "stream",
     "text": [
      "\r",
      "Feature Extraction: 100%|█████████▉| 239/240 [00:14<00:00, 34.66it/s]"
     ]
    },
    {
     "name": "stderr",
     "output_type": "stream",
     "text": [
      "\r",
      "Feature Extraction: 100%|██████████| 240/240 [00:14<00:00, 16.37it/s]"
     ]
    },
    {
     "name": "stderr",
     "output_type": "stream",
     "text": [
      "\n"
     ]
    },
    {
     "name": "stdout",
     "output_type": "stream",
     "text": [
      "let the ml starts\n"
     ]
    },
    {
     "name": "stdout",
     "output_type": "stream",
     "text": [
      "SVM-linear-scale-1\n",
      "              precision    recall  f1-score   support\n",
      "\n",
      "   malignant       1.00      1.00      1.00      1206\n",
      "      benign       1.00      1.00      1.00      1189\n",
      "\n",
      "    accuracy                           1.00      2395\n",
      "   macro avg       1.00      1.00      1.00      2395\n",
      "weighted avg       1.00      1.00      1.00      2395\n",
      "\n",
      "    fit_time  score_time  test_accuracy  test_precision_weighted  \\\n",
      "0  18.298728    0.036647       0.996521                 0.996521   \n",
      "1  12.603323    0.031954       0.997912                 0.997921   \n",
      "2  19.776971    0.033789       0.996521                 0.996521   \n",
      "3  23.579241    0.034786       0.998608                 0.998608   \n",
      "4  13.351698    0.033828       0.997911                 0.997912   \n",
      "\n",
      "   test_recall_weighted  test_f1_weighted  test_roc_auc               model  \n",
      "0              0.996521          0.996520      0.999318  SVM-linear-scale-1  \n",
      "1              0.997912          0.997912      0.999358  SVM-linear-scale-1  \n",
      "2              0.996521          0.996520      0.999671  SVM-linear-scale-1  \n",
      "3              0.998608          0.998608      0.999946  SVM-linear-scale-1  \n",
      "4              0.997911          0.997911      0.999988  SVM-linear-scale-1  \n"
     ]
    },
    {
     "name": "stdout",
     "output_type": "stream",
     "text": [
      "SVM-poly-scale-1\n",
      "              precision    recall  f1-score   support\n",
      "\n",
      "   malignant       0.93      0.90      0.92      1206\n",
      "      benign       0.90      0.93      0.92      1189\n",
      "\n",
      "    accuracy                           0.92      2395\n",
      "   macro avg       0.92      0.92      0.92      2395\n",
      "weighted avg       0.92      0.92      0.92      2395\n",
      "\n",
      "    fit_time  score_time  test_accuracy  test_precision_weighted  \\\n",
      "0  18.298728    0.036647       0.996521                 0.996521   \n",
      "1  12.603323    0.031954       0.997912                 0.997921   \n",
      "2  19.776971    0.033789       0.996521                 0.996521   \n",
      "3  23.579241    0.034786       0.998608                 0.998608   \n",
      "4  13.351698    0.033828       0.997911                 0.997912   \n",
      "5   1.166171    0.406180       0.894920                 0.895667   \n",
      "6   1.195094    0.414389       0.906054                 0.906097   \n",
      "7   1.164159    0.411108       0.909534                 0.910293   \n",
      "8   1.167197    0.409045       0.903967                 0.905515   \n",
      "9   1.192266    0.417234       0.907382                 0.907945   \n",
      "\n",
      "   test_recall_weighted  test_f1_weighted  test_roc_auc               model  \n",
      "0              0.996521          0.996520      0.999318  SVM-linear-scale-1  \n",
      "1              0.997912          0.997912      0.999358  SVM-linear-scale-1  \n",
      "2              0.996521          0.996520      0.999671  SVM-linear-scale-1  \n",
      "3              0.998608          0.998608      0.999946  SVM-linear-scale-1  \n",
      "4              0.997911          0.997911      0.999988  SVM-linear-scale-1  \n",
      "5              0.894920          0.894929      0.963174    SVM-poly-scale-1  \n",
      "6              0.906054          0.906022      0.967120    SVM-poly-scale-1  \n",
      "7              0.909534          0.909517      0.964610    SVM-poly-scale-1  \n",
      "8              0.903967          0.903891      0.960394    SVM-poly-scale-1  \n",
      "9              0.907382          0.907292      0.964197    SVM-poly-scale-1  \n"
     ]
    },
    {
     "name": "stdout",
     "output_type": "stream",
     "text": [
      "SVM-rbf-scale-1\n",
      "              precision    recall  f1-score   support\n",
      "\n",
      "   malignant       0.93      0.90      0.91      1206\n",
      "      benign       0.90      0.93      0.92      1189\n",
      "\n",
      "    accuracy                           0.91      2395\n",
      "   macro avg       0.91      0.91      0.91      2395\n",
      "weighted avg       0.92      0.91      0.91      2395\n",
      "\n",
      "     fit_time  score_time  test_accuracy  test_precision_weighted  \\\n",
      "0   18.298728    0.036647       0.996521                 0.996521   \n",
      "1   12.603323    0.031954       0.997912                 0.997921   \n",
      "2   19.776971    0.033789       0.996521                 0.996521   \n",
      "3   23.579241    0.034786       0.998608                 0.998608   \n",
      "4   13.351698    0.033828       0.997911                 0.997912   \n",
      "5    1.166171    0.406180       0.894920                 0.895667   \n",
      "6    1.195094    0.414389       0.906054                 0.906097   \n",
      "7    1.164159    0.411108       0.909534                 0.910293   \n",
      "8    1.167197    0.409045       0.903967                 0.905515   \n",
      "9    1.192266    0.417234       0.907382                 0.907945   \n",
      "10   1.193365    0.987813       0.890745                 0.891156   \n",
      "11   1.207876    0.990557       0.901183                 0.901210   \n",
      "12   1.193187    0.988681       0.898399                 0.898884   \n",
      "13   1.179922    0.984457       0.897008                 0.898673   \n",
      "14   1.205161    1.008267       0.898329                 0.898680   \n",
      "\n",
      "    test_recall_weighted  test_f1_weighted  test_roc_auc               model  \n",
      "0               0.996521          0.996520      0.999318  SVM-linear-scale-1  \n",
      "1               0.997912          0.997912      0.999358  SVM-linear-scale-1  \n",
      "2               0.996521          0.996520      0.999671  SVM-linear-scale-1  \n",
      "3               0.998608          0.998608      0.999946  SVM-linear-scale-1  \n",
      "4               0.997911          0.997911      0.999988  SVM-linear-scale-1  \n",
      "5               0.894920          0.894929      0.963174    SVM-poly-scale-1  \n",
      "6               0.906054          0.906022      0.967120    SVM-poly-scale-1  \n",
      "7               0.909534          0.909517      0.964610    SVM-poly-scale-1  \n",
      "8               0.903967          0.903891      0.960394    SVM-poly-scale-1  \n",
      "9               0.907382          0.907292      0.964197    SVM-poly-scale-1  \n",
      "10              0.890745          0.890760      0.961522     SVM-rbf-scale-1  \n",
      "11              0.901183          0.901153      0.963568     SVM-rbf-scale-1  \n",
      "12              0.898399          0.898391      0.961154     SVM-rbf-scale-1  \n",
      "13              0.897008          0.896918      0.960053     SVM-rbf-scale-1  \n",
      "14              0.898329          0.898253      0.965723     SVM-rbf-scale-1  \n"
     ]
    },
    {
     "name": "stdout",
     "output_type": "stream",
     "text": [
      "SVM-sigmoid-scale-1\n",
      "              precision    recall  f1-score   support\n",
      "\n",
      "   malignant       0.68      0.68      0.68      1206\n",
      "      benign       0.67      0.67      0.67      1189\n",
      "\n",
      "    accuracy                           0.68      2395\n",
      "   macro avg       0.68      0.68      0.68      2395\n",
      "weighted avg       0.68      0.68      0.68      2395\n",
      "\n",
      "     fit_time  score_time  test_accuracy  test_precision_weighted  \\\n",
      "0   18.298728    0.036647       0.996521                 0.996521   \n",
      "1   12.603323    0.031954       0.997912                 0.997921   \n",
      "2   19.776971    0.033789       0.996521                 0.996521   \n",
      "3   23.579241    0.034786       0.998608                 0.998608   \n",
      "4   13.351698    0.033828       0.997911                 0.997912   \n",
      "5    1.166171    0.406180       0.894920                 0.895667   \n",
      "6    1.195094    0.414389       0.906054                 0.906097   \n",
      "7    1.164159    0.411108       0.909534                 0.910293   \n",
      "8    1.167197    0.409045       0.903967                 0.905515   \n",
      "9    1.192266    0.417234       0.907382                 0.907945   \n",
      "10   1.193365    0.987813       0.890745                 0.891156   \n",
      "11   1.207876    0.990557       0.901183                 0.901210   \n",
      "12   1.193187    0.988681       0.898399                 0.898884   \n",
      "13   1.179922    0.984457       0.897008                 0.898673   \n",
      "14   1.205161    1.008267       0.898329                 0.898680   \n",
      "15   1.519245    0.668887       0.634656                 0.635180   \n",
      "16   1.546812    0.677483       0.660404                 0.660404   \n",
      "17   1.532645    0.674793       0.668754                 0.668754   \n",
      "18   1.541487    0.676485       0.672234                 0.672266   \n",
      "19   1.565131    0.685744       0.678969                 0.679984   \n",
      "\n",
      "    test_recall_weighted  test_f1_weighted  test_roc_auc                model  \n",
      "0               0.996521          0.996520      0.999318   SVM-linear-scale-1  \n",
      "1               0.997912          0.997912      0.999358   SVM-linear-scale-1  \n",
      "2               0.996521          0.996520      0.999671   SVM-linear-scale-1  \n",
      "3               0.998608          0.998608      0.999946   SVM-linear-scale-1  \n",
      "4               0.997911          0.997911      0.999988   SVM-linear-scale-1  \n",
      "5               0.894920          0.894929      0.963174     SVM-poly-scale-1  \n",
      "6               0.906054          0.906022      0.967120     SVM-poly-scale-1  \n",
      "7               0.909534          0.909517      0.964610     SVM-poly-scale-1  \n",
      "8               0.903967          0.903891      0.960394     SVM-poly-scale-1  \n",
      "9               0.907382          0.907292      0.964197     SVM-poly-scale-1  \n",
      "10              0.890745          0.890760      0.961522      SVM-rbf-scale-1  \n",
      "11              0.901183          0.901153      0.963568      SVM-rbf-scale-1  \n",
      "12              0.898399          0.898391      0.961154      SVM-rbf-scale-1  \n",
      "13              0.897008          0.896918      0.960053      SVM-rbf-scale-1  \n",
      "14              0.898329          0.898253      0.965723      SVM-rbf-scale-1  \n",
      "15              0.634656          0.634694      0.749510  SVM-sigmoid-scale-1  \n",
      "16              0.660404          0.660404      0.769500  SVM-sigmoid-scale-1  \n",
      "17              0.668754          0.668754      0.766135  SVM-sigmoid-scale-1  \n",
      "18              0.672234          0.672234      0.779168  SVM-sigmoid-scale-1  \n",
      "19              0.678969          0.678975      0.788626  SVM-sigmoid-scale-1  \n"
     ]
    },
    {
     "name": "stdout",
     "output_type": "stream",
     "text": [
      "SVM-linear-auto-1\n",
      "              precision    recall  f1-score   support\n",
      "\n",
      "   malignant       1.00      1.00      1.00      1206\n",
      "      benign       1.00      1.00      1.00      1189\n",
      "\n",
      "    accuracy                           1.00      2395\n",
      "   macro avg       1.00      1.00      1.00      2395\n",
      "weighted avg       1.00      1.00      1.00      2395\n",
      "\n",
      "     fit_time  score_time  test_accuracy  test_precision_weighted  \\\n",
      "0   18.298728    0.036647       0.996521                 0.996521   \n",
      "1   12.603323    0.031954       0.997912                 0.997921   \n",
      "2   19.776971    0.033789       0.996521                 0.996521   \n",
      "3   23.579241    0.034786       0.998608                 0.998608   \n",
      "4   13.351698    0.033828       0.997911                 0.997912   \n",
      "5    1.166171    0.406180       0.894920                 0.895667   \n",
      "6    1.195094    0.414389       0.906054                 0.906097   \n",
      "7    1.164159    0.411108       0.909534                 0.910293   \n",
      "8    1.167197    0.409045       0.903967                 0.905515   \n",
      "9    1.192266    0.417234       0.907382                 0.907945   \n",
      "10   1.193365    0.987813       0.890745                 0.891156   \n",
      "11   1.207876    0.990557       0.901183                 0.901210   \n",
      "12   1.193187    0.988681       0.898399                 0.898884   \n",
      "13   1.179922    0.984457       0.897008                 0.898673   \n",
      "14   1.205161    1.008267       0.898329                 0.898680   \n",
      "15   1.519245    0.668887       0.634656                 0.635180   \n",
      "16   1.546812    0.677483       0.660404                 0.660404   \n",
      "17   1.532645    0.674793       0.668754                 0.668754   \n",
      "18   1.541487    0.676485       0.672234                 0.672266   \n",
      "19   1.565131    0.685744       0.678969                 0.679984   \n",
      "20  18.446589    0.033914       0.996521                 0.996521   \n",
      "21  12.585807    0.031759       0.997912                 0.997921   \n",
      "22  19.804137    0.034753       0.996521                 0.996521   \n",
      "23  23.582187    0.033863       0.998608                 0.998608   \n",
      "24  13.374700    0.033380       0.997911                 0.997912   \n",
      "\n",
      "    test_recall_weighted  test_f1_weighted  test_roc_auc                model  \n",
      "0               0.996521          0.996520      0.999318   SVM-linear-scale-1  \n",
      "1               0.997912          0.997912      0.999358   SVM-linear-scale-1  \n",
      "2               0.996521          0.996520      0.999671   SVM-linear-scale-1  \n",
      "3               0.998608          0.998608      0.999946   SVM-linear-scale-1  \n",
      "4               0.997911          0.997911      0.999988   SVM-linear-scale-1  \n",
      "5               0.894920          0.894929      0.963174     SVM-poly-scale-1  \n",
      "6               0.906054          0.906022      0.967120     SVM-poly-scale-1  \n",
      "7               0.909534          0.909517      0.964610     SVM-poly-scale-1  \n",
      "8               0.903967          0.903891      0.960394     SVM-poly-scale-1  \n",
      "9               0.907382          0.907292      0.964197     SVM-poly-scale-1  \n",
      "10              0.890745          0.890760      0.961522      SVM-rbf-scale-1  \n",
      "11              0.901183          0.901153      0.963568      SVM-rbf-scale-1  \n",
      "12              0.898399          0.898391      0.961154      SVM-rbf-scale-1  \n",
      "13              0.897008          0.896918      0.960053      SVM-rbf-scale-1  \n",
      "14              0.898329          0.898253      0.965723      SVM-rbf-scale-1  \n",
      "15              0.634656          0.634694      0.749510  SVM-sigmoid-scale-1  \n",
      "16              0.660404          0.660404      0.769500  SVM-sigmoid-scale-1  \n",
      "17              0.668754          0.668754      0.766135  SVM-sigmoid-scale-1  \n",
      "18              0.672234          0.672234      0.779168  SVM-sigmoid-scale-1  \n",
      "19              0.678969          0.678975      0.788626  SVM-sigmoid-scale-1  \n",
      "20              0.996521          0.996520      0.999318    SVM-linear-auto-1  \n",
      "21              0.997912          0.997912      0.999358    SVM-linear-auto-1  \n",
      "22              0.996521          0.996520      0.999671    SVM-linear-auto-1  \n",
      "23              0.998608          0.998608      0.999946    SVM-linear-auto-1  \n",
      "24              0.997911          0.997911      0.999988    SVM-linear-auto-1  \n"
     ]
    },
    {
     "name": "stdout",
     "output_type": "stream",
     "text": [
      "SVM-poly-auto-1\n",
      "              precision    recall  f1-score   support\n",
      "\n",
      "   malignant       0.96      0.96      0.96      1206\n",
      "      benign       0.96      0.96      0.96      1189\n",
      "\n",
      "    accuracy                           0.96      2395\n",
      "   macro avg       0.96      0.96      0.96      2395\n",
      "weighted avg       0.96      0.96      0.96      2395\n",
      "\n",
      "     fit_time  score_time  test_accuracy  test_precision_weighted  \\\n",
      "0   18.298728    0.036647       0.996521                 0.996521   \n",
      "1   12.603323    0.031954       0.997912                 0.997921   \n",
      "2   19.776971    0.033789       0.996521                 0.996521   \n",
      "3   23.579241    0.034786       0.998608                 0.998608   \n",
      "4   13.351698    0.033828       0.997911                 0.997912   \n",
      "5    1.166171    0.406180       0.894920                 0.895667   \n",
      "6    1.195094    0.414389       0.906054                 0.906097   \n",
      "7    1.164159    0.411108       0.909534                 0.910293   \n",
      "8    1.167197    0.409045       0.903967                 0.905515   \n",
      "9    1.192266    0.417234       0.907382                 0.907945   \n",
      "10   1.193365    0.987813       0.890745                 0.891156   \n",
      "11   1.207876    0.990557       0.901183                 0.901210   \n",
      "12   1.193187    0.988681       0.898399                 0.898884   \n",
      "13   1.179922    0.984457       0.897008                 0.898673   \n",
      "14   1.205161    1.008267       0.898329                 0.898680   \n",
      "15   1.519245    0.668887       0.634656                 0.635180   \n",
      "16   1.546812    0.677483       0.660404                 0.660404   \n",
      "17   1.532645    0.674793       0.668754                 0.668754   \n",
      "18   1.541487    0.676485       0.672234                 0.672266   \n",
      "19   1.565131    0.685744       0.678969                 0.679984   \n",
      "20  18.446589    0.033914       0.996521                 0.996521   \n",
      "21  12.585807    0.031759       0.997912                 0.997921   \n",
      "22  19.804137    0.034753       0.996521                 0.996521   \n",
      "23  23.582187    0.033863       0.998608                 0.998608   \n",
      "24  13.374700    0.033380       0.997911                 0.997912   \n",
      "25   1.545502    0.209386       0.957550                 0.957604   \n",
      "26   1.545493    0.213332       0.955463                 0.955463   \n",
      "27   1.462304    0.206790       0.949896                 0.949897   \n",
      "28   1.527870    0.213099       0.951983                 0.952028   \n",
      "29   1.511593    0.208137       0.956825                 0.957022   \n",
      "\n",
      "    test_recall_weighted  test_f1_weighted  test_roc_auc                model  \n",
      "0               0.996521          0.996520      0.999318   SVM-linear-scale-1  \n",
      "1               0.997912          0.997912      0.999358   SVM-linear-scale-1  \n",
      "2               0.996521          0.996520      0.999671   SVM-linear-scale-1  \n",
      "3               0.998608          0.998608      0.999946   SVM-linear-scale-1  \n",
      "4               0.997911          0.997911      0.999988   SVM-linear-scale-1  \n",
      "5               0.894920          0.894929      0.963174     SVM-poly-scale-1  \n",
      "6               0.906054          0.906022      0.967120     SVM-poly-scale-1  \n",
      "7               0.909534          0.909517      0.964610     SVM-poly-scale-1  \n",
      "8               0.903967          0.903891      0.960394     SVM-poly-scale-1  \n",
      "9               0.907382          0.907292      0.964197     SVM-poly-scale-1  \n",
      "10              0.890745          0.890760      0.961522      SVM-rbf-scale-1  \n",
      "11              0.901183          0.901153      0.963568      SVM-rbf-scale-1  \n",
      "12              0.898399          0.898391      0.961154      SVM-rbf-scale-1  \n",
      "13              0.897008          0.896918      0.960053      SVM-rbf-scale-1  \n",
      "14              0.898329          0.898253      0.965723      SVM-rbf-scale-1  \n",
      "15              0.634656          0.634694      0.749510  SVM-sigmoid-scale-1  \n",
      "16              0.660404          0.660404      0.769500  SVM-sigmoid-scale-1  \n",
      "17              0.668754          0.668754      0.766135  SVM-sigmoid-scale-1  \n",
      "18              0.672234          0.672234      0.779168  SVM-sigmoid-scale-1  \n",
      "19              0.678969          0.678975      0.788626  SVM-sigmoid-scale-1  \n",
      "20              0.996521          0.996520      0.999318    SVM-linear-auto-1  \n",
      "21              0.997912          0.997912      0.999358    SVM-linear-auto-1  \n",
      "22              0.996521          0.996520      0.999671    SVM-linear-auto-1  \n",
      "23              0.998608          0.998608      0.999946    SVM-linear-auto-1  \n",
      "24              0.997911          0.997911      0.999988    SVM-linear-auto-1  \n",
      "25              0.957550          0.957554      0.988807      SVM-poly-auto-1  \n",
      "26              0.955463          0.955463      0.988492      SVM-poly-auto-1  \n",
      "27              0.949896          0.949895      0.985046      SVM-poly-auto-1  \n",
      "28              0.951983          0.951983      0.985160      SVM-poly-auto-1  \n",
      "29              0.956825          0.956832      0.988154      SVM-poly-auto-1  \n"
     ]
    },
    {
     "name": "stdout",
     "output_type": "stream",
     "text": [
      "SVM-rbf-auto-1\n",
      "              precision    recall  f1-score   support\n",
      "\n",
      "   malignant       1.00      0.41      0.58      1206\n",
      "      benign       0.62      1.00      0.77      1189\n",
      "\n",
      "    accuracy                           0.70      2395\n",
      "   macro avg       0.81      0.70      0.67      2395\n",
      "weighted avg       0.81      0.70      0.67      2395\n",
      "\n",
      "     fit_time  score_time  test_accuracy  test_precision_weighted  \\\n",
      "0   18.298728    0.036647       0.996521                 0.996521   \n",
      "1   12.603323    0.031954       0.997912                 0.997921   \n",
      "2   19.776971    0.033789       0.996521                 0.996521   \n",
      "3   23.579241    0.034786       0.998608                 0.998608   \n",
      "4   13.351698    0.033828       0.997911                 0.997912   \n",
      "5    1.166171    0.406180       0.894920                 0.895667   \n",
      "6    1.195094    0.414389       0.906054                 0.906097   \n",
      "7    1.164159    0.411108       0.909534                 0.910293   \n",
      "8    1.167197    0.409045       0.903967                 0.905515   \n",
      "9    1.192266    0.417234       0.907382                 0.907945   \n",
      "10   1.193365    0.987813       0.890745                 0.891156   \n",
      "11   1.207876    0.990557       0.901183                 0.901210   \n",
      "12   1.193187    0.988681       0.898399                 0.898884   \n",
      "13   1.179922    0.984457       0.897008                 0.898673   \n",
      "14   1.205161    1.008267       0.898329                 0.898680   \n",
      "15   1.519245    0.668887       0.634656                 0.635180   \n",
      "16   1.546812    0.677483       0.660404                 0.660404   \n",
      "17   1.532645    0.674793       0.668754                 0.668754   \n",
      "18   1.541487    0.676485       0.672234                 0.672266   \n",
      "19   1.565131    0.685744       0.678969                 0.679984   \n",
      "20  18.446589    0.033914       0.996521                 0.996521   \n",
      "21  12.585807    0.031759       0.997912                 0.997921   \n",
      "22  19.804137    0.034753       0.996521                 0.996521   \n",
      "23  23.582187    0.033863       0.998608                 0.998608   \n",
      "24  13.374700    0.033380       0.997911                 0.997912   \n",
      "25   1.545502    0.209386       0.957550                 0.957604   \n",
      "26   1.545493    0.213332       0.955463                 0.955463   \n",
      "27   1.462304    0.206790       0.949896                 0.949897   \n",
      "28   1.527870    0.213099       0.951983                 0.952028   \n",
      "29   1.511593    0.208137       0.956825                 0.957022   \n",
      "30   2.990176    2.546726       0.675017                 0.804955   \n",
      "31   2.932050    2.516582       0.700070                 0.809993   \n",
      "32   2.974834    2.545874       0.678497                 0.805233   \n",
      "33   2.983258    2.559766       0.693807                 0.810452   \n",
      "34   2.962435    2.522472       0.708914                 0.814168   \n",
      "\n",
      "    test_recall_weighted  test_f1_weighted  test_roc_auc                model  \n",
      "0               0.996521          0.996520      0.999318   SVM-linear-scale-1  \n",
      "1               0.997912          0.997912      0.999358   SVM-linear-scale-1  \n",
      "2               0.996521          0.996520      0.999671   SVM-linear-scale-1  \n",
      "3               0.998608          0.998608      0.999946   SVM-linear-scale-1  \n",
      "4               0.997911          0.997911      0.999988   SVM-linear-scale-1  \n",
      "5               0.894920          0.894929      0.963174     SVM-poly-scale-1  \n",
      "6               0.906054          0.906022      0.967120     SVM-poly-scale-1  \n",
      "7               0.909534          0.909517      0.964610     SVM-poly-scale-1  \n",
      "8               0.903967          0.903891      0.960394     SVM-poly-scale-1  \n",
      "9               0.907382          0.907292      0.964197     SVM-poly-scale-1  \n",
      "10              0.890745          0.890760      0.961522      SVM-rbf-scale-1  \n",
      "11              0.901183          0.901153      0.963568      SVM-rbf-scale-1  \n",
      "12              0.898399          0.898391      0.961154      SVM-rbf-scale-1  \n",
      "13              0.897008          0.896918      0.960053      SVM-rbf-scale-1  \n",
      "14              0.898329          0.898253      0.965723      SVM-rbf-scale-1  \n",
      "15              0.634656          0.634694      0.749510  SVM-sigmoid-scale-1  \n",
      "16              0.660404          0.660404      0.769500  SVM-sigmoid-scale-1  \n",
      "17              0.668754          0.668754      0.766135  SVM-sigmoid-scale-1  \n",
      "18              0.672234          0.672234      0.779168  SVM-sigmoid-scale-1  \n",
      "19              0.678969          0.678975      0.788626  SVM-sigmoid-scale-1  \n",
      "20              0.996521          0.996520      0.999318    SVM-linear-auto-1  \n",
      "21              0.997912          0.997912      0.999358    SVM-linear-auto-1  \n",
      "22              0.996521          0.996520      0.999671    SVM-linear-auto-1  \n",
      "23              0.998608          0.998608      0.999946    SVM-linear-auto-1  \n",
      "24              0.997911          0.997911      0.999988    SVM-linear-auto-1  \n",
      "25              0.957550          0.957554      0.988807      SVM-poly-auto-1  \n",
      "26              0.955463          0.955463      0.988492      SVM-poly-auto-1  \n",
      "27              0.949896          0.949895      0.985046      SVM-poly-auto-1  \n",
      "28              0.951983          0.951983      0.985160      SVM-poly-auto-1  \n",
      "29              0.956825          0.956832      0.988154      SVM-poly-auto-1  \n",
      "30              0.675017          0.640113      0.711763       SVM-rbf-auto-1  \n",
      "31              0.700070          0.665893      0.713997       SVM-rbf-auto-1  \n",
      "32              0.678497          0.643093      0.706106       SVM-rbf-auto-1  \n",
      "33              0.693807          0.662735      0.725510       SVM-rbf-auto-1  \n",
      "34              0.708914          0.678829      0.729960       SVM-rbf-auto-1  \n"
     ]
    },
    {
     "name": "stdout",
     "output_type": "stream",
     "text": [
      "SVM-sigmoid-auto-1\n",
      "              precision    recall  f1-score   support\n",
      "\n",
      "   malignant       0.00      0.00      0.00      1206\n",
      "      benign       0.50      1.00      0.66      1189\n",
      "\n",
      "    accuracy                           0.50      2395\n",
      "   macro avg       0.25      0.50      0.33      2395\n",
      "weighted avg       0.25      0.50      0.33      2395\n",
      "\n",
      "     fit_time  score_time  test_accuracy  test_precision_weighted  \\\n",
      "0   18.298728    0.036647       0.996521                 0.996521   \n",
      "1   12.603323    0.031954       0.997912                 0.997921   \n",
      "2   19.776971    0.033789       0.996521                 0.996521   \n",
      "3   23.579241    0.034786       0.998608                 0.998608   \n",
      "4   13.351698    0.033828       0.997911                 0.997912   \n",
      "5    1.166171    0.406180       0.894920                 0.895667   \n",
      "6    1.195094    0.414389       0.906054                 0.906097   \n",
      "7    1.164159    0.411108       0.909534                 0.910293   \n",
      "8    1.167197    0.409045       0.903967                 0.905515   \n",
      "9    1.192266    0.417234       0.907382                 0.907945   \n",
      "10   1.193365    0.987813       0.890745                 0.891156   \n",
      "11   1.207876    0.990557       0.901183                 0.901210   \n",
      "12   1.193187    0.988681       0.898399                 0.898884   \n",
      "13   1.179922    0.984457       0.897008                 0.898673   \n",
      "14   1.205161    1.008267       0.898329                 0.898680   \n",
      "15   1.519245    0.668887       0.634656                 0.635180   \n",
      "16   1.546812    0.677483       0.660404                 0.660404   \n",
      "17   1.532645    0.674793       0.668754                 0.668754   \n",
      "18   1.541487    0.676485       0.672234                 0.672266   \n",
      "19   1.565131    0.685744       0.678969                 0.679984   \n",
      "20  18.446589    0.033914       0.996521                 0.996521   \n",
      "21  12.585807    0.031759       0.997912                 0.997921   \n",
      "22  19.804137    0.034753       0.996521                 0.996521   \n",
      "23  23.582187    0.033863       0.998608                 0.998608   \n",
      "24  13.374700    0.033380       0.997911                 0.997912   \n",
      "25   1.545502    0.209386       0.957550                 0.957604   \n",
      "26   1.545493    0.213332       0.955463                 0.955463   \n",
      "27   1.462304    0.206790       0.949896                 0.949897   \n",
      "28   1.527870    0.213099       0.951983                 0.952028   \n",
      "29   1.511593    0.208137       0.956825                 0.957022   \n",
      "30   2.990176    2.546726       0.675017                 0.804955   \n",
      "31   2.932050    2.516582       0.700070                 0.809993   \n",
      "32   2.974834    2.545874       0.678497                 0.805233   \n",
      "33   2.983258    2.559766       0.693807                 0.810452   \n",
      "34   2.962435    2.522472       0.708914                 0.814168   \n",
      "35   3.160021    1.263354       0.487822                 0.237970   \n",
      "36   3.175405    1.274595       0.481559                 0.231899   \n",
      "37   3.156721    1.267464       0.494085                 0.244120   \n",
      "38   3.170703    1.269052       0.497564                 0.247570   \n",
      "39   3.189622    1.275882       0.486072                 0.236266   \n",
      "\n",
      "    test_recall_weighted  test_f1_weighted  test_roc_auc                model  \n",
      "0               0.996521          0.996520      0.999318   SVM-linear-scale-1  \n",
      "1               0.997912          0.997912      0.999358   SVM-linear-scale-1  \n",
      "2               0.996521          0.996520      0.999671   SVM-linear-scale-1  \n",
      "3               0.998608          0.998608      0.999946   SVM-linear-scale-1  \n",
      "4               0.997911          0.997911      0.999988   SVM-linear-scale-1  \n",
      "5               0.894920          0.894929      0.963174     SVM-poly-scale-1  \n",
      "6               0.906054          0.906022      0.967120     SVM-poly-scale-1  \n",
      "7               0.909534          0.909517      0.964610     SVM-poly-scale-1  \n",
      "8               0.903967          0.903891      0.960394     SVM-poly-scale-1  \n",
      "9               0.907382          0.907292      0.964197     SVM-poly-scale-1  \n",
      "10              0.890745          0.890760      0.961522      SVM-rbf-scale-1  \n",
      "11              0.901183          0.901153      0.963568      SVM-rbf-scale-1  \n",
      "12              0.898399          0.898391      0.961154      SVM-rbf-scale-1  \n",
      "13              0.897008          0.896918      0.960053      SVM-rbf-scale-1  \n",
      "14              0.898329          0.898253      0.965723      SVM-rbf-scale-1  \n",
      "15              0.634656          0.634694      0.749510  SVM-sigmoid-scale-1  \n",
      "16              0.660404          0.660404      0.769500  SVM-sigmoid-scale-1  \n",
      "17              0.668754          0.668754      0.766135  SVM-sigmoid-scale-1  \n",
      "18              0.672234          0.672234      0.779168  SVM-sigmoid-scale-1  \n",
      "19              0.678969          0.678975      0.788626  SVM-sigmoid-scale-1  \n",
      "20              0.996521          0.996520      0.999318    SVM-linear-auto-1  \n",
      "21              0.997912          0.997912      0.999358    SVM-linear-auto-1  \n",
      "22              0.996521          0.996520      0.999671    SVM-linear-auto-1  \n",
      "23              0.998608          0.998608      0.999946    SVM-linear-auto-1  \n",
      "24              0.997911          0.997911      0.999988    SVM-linear-auto-1  \n",
      "25              0.957550          0.957554      0.988807      SVM-poly-auto-1  \n",
      "26              0.955463          0.955463      0.988492      SVM-poly-auto-1  \n",
      "27              0.949896          0.949895      0.985046      SVM-poly-auto-1  \n",
      "28              0.951983          0.951983      0.985160      SVM-poly-auto-1  \n",
      "29              0.956825          0.956832      0.988154      SVM-poly-auto-1  \n",
      "30              0.675017          0.640113      0.711763       SVM-rbf-auto-1  \n",
      "31              0.700070          0.665893      0.713997       SVM-rbf-auto-1  \n",
      "32              0.678497          0.643093      0.706106       SVM-rbf-auto-1  \n",
      "33              0.693807          0.662735      0.725510       SVM-rbf-auto-1  \n",
      "34              0.708914          0.678829      0.729960       SVM-rbf-auto-1  \n",
      "35              0.487822          0.319891      0.500000   SVM-sigmoid-auto-1  \n",
      "36              0.481559          0.313047      0.500000   SVM-sigmoid-auto-1  \n",
      "37              0.494085          0.326782      0.500000   SVM-sigmoid-auto-1  \n",
      "38              0.497564          0.330631      0.500000   SVM-sigmoid-auto-1  \n",
      "39              0.486072          0.317974      0.500000   SVM-sigmoid-auto-1  \n"
     ]
    },
    {
     "name": "stdout",
     "output_type": "stream",
     "text": [
      "SVM-linear-scale-2\n",
      "              precision    recall  f1-score   support\n",
      "\n",
      "   malignant       1.00      1.00      1.00      1206\n",
      "      benign       1.00      1.00      1.00      1189\n",
      "\n",
      "    accuracy                           1.00      2395\n",
      "   macro avg       1.00      1.00      1.00      2395\n",
      "weighted avg       1.00      1.00      1.00      2395\n",
      "\n",
      "     fit_time  score_time  test_accuracy  test_precision_weighted  \\\n",
      "0   18.298728    0.036647       0.996521                 0.996521   \n",
      "1   12.603323    0.031954       0.997912                 0.997921   \n",
      "2   19.776971    0.033789       0.996521                 0.996521   \n",
      "3   23.579241    0.034786       0.998608                 0.998608   \n",
      "4   13.351698    0.033828       0.997911                 0.997912   \n",
      "5    1.166171    0.406180       0.894920                 0.895667   \n",
      "6    1.195094    0.414389       0.906054                 0.906097   \n",
      "7    1.164159    0.411108       0.909534                 0.910293   \n",
      "8    1.167197    0.409045       0.903967                 0.905515   \n",
      "9    1.192266    0.417234       0.907382                 0.907945   \n",
      "10   1.193365    0.987813       0.890745                 0.891156   \n",
      "11   1.207876    0.990557       0.901183                 0.901210   \n",
      "12   1.193187    0.988681       0.898399                 0.898884   \n",
      "13   1.179922    0.984457       0.897008                 0.898673   \n",
      "14   1.205161    1.008267       0.898329                 0.898680   \n",
      "15   1.519245    0.668887       0.634656                 0.635180   \n",
      "16   1.546812    0.677483       0.660404                 0.660404   \n",
      "17   1.532645    0.674793       0.668754                 0.668754   \n",
      "18   1.541487    0.676485       0.672234                 0.672266   \n",
      "19   1.565131    0.685744       0.678969                 0.679984   \n",
      "20  18.446589    0.033914       0.996521                 0.996521   \n",
      "21  12.585807    0.031759       0.997912                 0.997921   \n",
      "22  19.804137    0.034753       0.996521                 0.996521   \n",
      "23  23.582187    0.033863       0.998608                 0.998608   \n",
      "24  13.374700    0.033380       0.997911                 0.997912   \n",
      "25   1.545502    0.209386       0.957550                 0.957604   \n",
      "26   1.545493    0.213332       0.955463                 0.955463   \n",
      "27   1.462304    0.206790       0.949896                 0.949897   \n",
      "28   1.527870    0.213099       0.951983                 0.952028   \n",
      "29   1.511593    0.208137       0.956825                 0.957022   \n",
      "30   2.990176    2.546726       0.675017                 0.804955   \n",
      "31   2.932050    2.516582       0.700070                 0.809993   \n",
      "32   2.974834    2.545874       0.678497                 0.805233   \n",
      "33   2.983258    2.559766       0.693807                 0.810452   \n",
      "34   2.962435    2.522472       0.708914                 0.814168   \n",
      "35   3.160021    1.263354       0.487822                 0.237970   \n",
      "36   3.175405    1.274595       0.481559                 0.231899   \n",
      "37   3.156721    1.267464       0.494085                 0.244120   \n",
      "38   3.170703    1.269052       0.497564                 0.247570   \n",
      "39   3.189622    1.275882       0.486072                 0.236266   \n",
      "40  18.387753    0.033988       0.996521                 0.996521   \n",
      "41  12.615010    0.032233       0.997912                 0.997921   \n",
      "42  19.828823    0.034469       0.996521                 0.996521   \n",
      "43  23.699726    0.033946       0.998608                 0.998608   \n",
      "44  13.440207    0.033423       0.997911                 0.997912   \n",
      "\n",
      "    test_recall_weighted  test_f1_weighted  test_roc_auc                model  \n",
      "0               0.996521          0.996520      0.999318   SVM-linear-scale-1  \n",
      "1               0.997912          0.997912      0.999358   SVM-linear-scale-1  \n",
      "2               0.996521          0.996520      0.999671   SVM-linear-scale-1  \n",
      "3               0.998608          0.998608      0.999946   SVM-linear-scale-1  \n",
      "4               0.997911          0.997911      0.999988   SVM-linear-scale-1  \n",
      "5               0.894920          0.894929      0.963174     SVM-poly-scale-1  \n",
      "6               0.906054          0.906022      0.967120     SVM-poly-scale-1  \n",
      "7               0.909534          0.909517      0.964610     SVM-poly-scale-1  \n",
      "8               0.903967          0.903891      0.960394     SVM-poly-scale-1  \n",
      "9               0.907382          0.907292      0.964197     SVM-poly-scale-1  \n",
      "10              0.890745          0.890760      0.961522      SVM-rbf-scale-1  \n",
      "11              0.901183          0.901153      0.963568      SVM-rbf-scale-1  \n",
      "12              0.898399          0.898391      0.961154      SVM-rbf-scale-1  \n",
      "13              0.897008          0.896918      0.960053      SVM-rbf-scale-1  \n",
      "14              0.898329          0.898253      0.965723      SVM-rbf-scale-1  \n",
      "15              0.634656          0.634694      0.749510  SVM-sigmoid-scale-1  \n",
      "16              0.660404          0.660404      0.769500  SVM-sigmoid-scale-1  \n",
      "17              0.668754          0.668754      0.766135  SVM-sigmoid-scale-1  \n",
      "18              0.672234          0.672234      0.779168  SVM-sigmoid-scale-1  \n",
      "19              0.678969          0.678975      0.788626  SVM-sigmoid-scale-1  \n",
      "20              0.996521          0.996520      0.999318    SVM-linear-auto-1  \n",
      "21              0.997912          0.997912      0.999358    SVM-linear-auto-1  \n",
      "22              0.996521          0.996520      0.999671    SVM-linear-auto-1  \n",
      "23              0.998608          0.998608      0.999946    SVM-linear-auto-1  \n",
      "24              0.997911          0.997911      0.999988    SVM-linear-auto-1  \n",
      "25              0.957550          0.957554      0.988807      SVM-poly-auto-1  \n",
      "26              0.955463          0.955463      0.988492      SVM-poly-auto-1  \n",
      "27              0.949896          0.949895      0.985046      SVM-poly-auto-1  \n",
      "28              0.951983          0.951983      0.985160      SVM-poly-auto-1  \n",
      "29              0.956825          0.956832      0.988154      SVM-poly-auto-1  \n",
      "30              0.675017          0.640113      0.711763       SVM-rbf-auto-1  \n",
      "31              0.700070          0.665893      0.713997       SVM-rbf-auto-1  \n",
      "32              0.678497          0.643093      0.706106       SVM-rbf-auto-1  \n",
      "33              0.693807          0.662735      0.725510       SVM-rbf-auto-1  \n",
      "34              0.708914          0.678829      0.729960       SVM-rbf-auto-1  \n",
      "35              0.487822          0.319891      0.500000   SVM-sigmoid-auto-1  \n",
      "36              0.481559          0.313047      0.500000   SVM-sigmoid-auto-1  \n",
      "37              0.494085          0.326782      0.500000   SVM-sigmoid-auto-1  \n",
      "38              0.497564          0.330631      0.500000   SVM-sigmoid-auto-1  \n",
      "39              0.486072          0.317974      0.500000   SVM-sigmoid-auto-1  \n",
      "40              0.996521          0.996520      0.999318   SVM-linear-scale-2  \n",
      "41              0.997912          0.997912      0.999358   SVM-linear-scale-2  \n",
      "42              0.996521          0.996520      0.999671   SVM-linear-scale-2  \n",
      "43              0.998608          0.998608      0.999946   SVM-linear-scale-2  \n",
      "44              0.997911          0.997911      0.999988   SVM-linear-scale-2  \n"
     ]
    },
    {
     "name": "stdout",
     "output_type": "stream",
     "text": [
      "SVM-poly-scale-2\n",
      "              precision    recall  f1-score   support\n",
      "\n",
      "   malignant       0.94      0.91      0.93      1206\n",
      "      benign       0.91      0.94      0.93      1189\n",
      "\n",
      "    accuracy                           0.93      2395\n",
      "   macro avg       0.93      0.93      0.93      2395\n",
      "weighted avg       0.93      0.93      0.93      2395\n",
      "\n",
      "     fit_time  score_time  test_accuracy  test_precision_weighted  \\\n",
      "0   18.298728    0.036647       0.996521                 0.996521   \n",
      "1   12.603323    0.031954       0.997912                 0.997921   \n",
      "2   19.776971    0.033789       0.996521                 0.996521   \n",
      "3   23.579241    0.034786       0.998608                 0.998608   \n",
      "4   13.351698    0.033828       0.997911                 0.997912   \n",
      "5    1.166171    0.406180       0.894920                 0.895667   \n",
      "6    1.195094    0.414389       0.906054                 0.906097   \n",
      "7    1.164159    0.411108       0.909534                 0.910293   \n",
      "8    1.167197    0.409045       0.903967                 0.905515   \n",
      "9    1.192266    0.417234       0.907382                 0.907945   \n",
      "10   1.193365    0.987813       0.890745                 0.891156   \n",
      "11   1.207876    0.990557       0.901183                 0.901210   \n",
      "12   1.193187    0.988681       0.898399                 0.898884   \n",
      "13   1.179922    0.984457       0.897008                 0.898673   \n",
      "14   1.205161    1.008267       0.898329                 0.898680   \n",
      "15   1.519245    0.668887       0.634656                 0.635180   \n",
      "16   1.546812    0.677483       0.660404                 0.660404   \n",
      "17   1.532645    0.674793       0.668754                 0.668754   \n",
      "18   1.541487    0.676485       0.672234                 0.672266   \n",
      "19   1.565131    0.685744       0.678969                 0.679984   \n",
      "20  18.446589    0.033914       0.996521                 0.996521   \n",
      "21  12.585807    0.031759       0.997912                 0.997921   \n",
      "22  19.804137    0.034753       0.996521                 0.996521   \n",
      "23  23.582187    0.033863       0.998608                 0.998608   \n",
      "24  13.374700    0.033380       0.997911                 0.997912   \n",
      "25   1.545502    0.209386       0.957550                 0.957604   \n",
      "26   1.545493    0.213332       0.955463                 0.955463   \n",
      "27   1.462304    0.206790       0.949896                 0.949897   \n",
      "28   1.527870    0.213099       0.951983                 0.952028   \n",
      "29   1.511593    0.208137       0.956825                 0.957022   \n",
      "30   2.990176    2.546726       0.675017                 0.804955   \n",
      "31   2.932050    2.516582       0.700070                 0.809993   \n",
      "32   2.974834    2.545874       0.678497                 0.805233   \n",
      "33   2.983258    2.559766       0.693807                 0.810452   \n",
      "34   2.962435    2.522472       0.708914                 0.814168   \n",
      "35   3.160021    1.263354       0.487822                 0.237970   \n",
      "36   3.175405    1.274595       0.481559                 0.231899   \n",
      "37   3.156721    1.267464       0.494085                 0.244120   \n",
      "38   3.170703    1.269052       0.497564                 0.247570   \n",
      "39   3.189622    1.275882       0.486072                 0.236266   \n",
      "40  18.387753    0.033988       0.996521                 0.996521   \n",
      "41  12.615010    0.032233       0.997912                 0.997921   \n",
      "42  19.828823    0.034469       0.996521                 0.996521   \n",
      "43  23.699726    0.033946       0.998608                 0.998608   \n",
      "44  13.440207    0.033423       0.997911                 0.997912   \n",
      "45   1.124063    0.376353       0.909534                 0.910445   \n",
      "46   1.148641    0.383068       0.917884                 0.917951   \n",
      "47   1.145520    0.383706       0.917884                 0.918383   \n",
      "48   1.141937    0.379217       0.917189                 0.918574   \n",
      "49   1.136191    0.385111       0.914345                 0.914766   \n",
      "\n",
      "    test_recall_weighted  test_f1_weighted  test_roc_auc                model  \n",
      "0               0.996521          0.996520      0.999318   SVM-linear-scale-1  \n",
      "1               0.997912          0.997912      0.999358   SVM-linear-scale-1  \n",
      "2               0.996521          0.996520      0.999671   SVM-linear-scale-1  \n",
      "3               0.998608          0.998608      0.999946   SVM-linear-scale-1  \n",
      "4               0.997911          0.997911      0.999988   SVM-linear-scale-1  \n",
      "5               0.894920          0.894929      0.963174     SVM-poly-scale-1  \n",
      "6               0.906054          0.906022      0.967120     SVM-poly-scale-1  \n",
      "7               0.909534          0.909517      0.964610     SVM-poly-scale-1  \n",
      "8               0.903967          0.903891      0.960394     SVM-poly-scale-1  \n",
      "9               0.907382          0.907292      0.964197     SVM-poly-scale-1  \n",
      "10              0.890745          0.890760      0.961522      SVM-rbf-scale-1  \n",
      "11              0.901183          0.901153      0.963568      SVM-rbf-scale-1  \n",
      "12              0.898399          0.898391      0.961154      SVM-rbf-scale-1  \n",
      "13              0.897008          0.896918      0.960053      SVM-rbf-scale-1  \n",
      "14              0.898329          0.898253      0.965723      SVM-rbf-scale-1  \n",
      "15              0.634656          0.634694      0.749510  SVM-sigmoid-scale-1  \n",
      "16              0.660404          0.660404      0.769500  SVM-sigmoid-scale-1  \n",
      "17              0.668754          0.668754      0.766135  SVM-sigmoid-scale-1  \n",
      "18              0.672234          0.672234      0.779168  SVM-sigmoid-scale-1  \n",
      "19              0.678969          0.678975      0.788626  SVM-sigmoid-scale-1  \n",
      "20              0.996521          0.996520      0.999318    SVM-linear-auto-1  \n",
      "21              0.997912          0.997912      0.999358    SVM-linear-auto-1  \n",
      "22              0.996521          0.996520      0.999671    SVM-linear-auto-1  \n",
      "23              0.998608          0.998608      0.999946    SVM-linear-auto-1  \n",
      "24              0.997911          0.997911      0.999988    SVM-linear-auto-1  \n",
      "25              0.957550          0.957554      0.988807      SVM-poly-auto-1  \n",
      "26              0.955463          0.955463      0.988492      SVM-poly-auto-1  \n",
      "27              0.949896          0.949895      0.985046      SVM-poly-auto-1  \n",
      "28              0.951983          0.951983      0.985160      SVM-poly-auto-1  \n",
      "29              0.956825          0.956832      0.988154      SVM-poly-auto-1  \n",
      "30              0.675017          0.640113      0.711763       SVM-rbf-auto-1  \n",
      "31              0.700070          0.665893      0.713997       SVM-rbf-auto-1  \n",
      "32              0.678497          0.643093      0.706106       SVM-rbf-auto-1  \n",
      "33              0.693807          0.662735      0.725510       SVM-rbf-auto-1  \n",
      "34              0.708914          0.678829      0.729960       SVM-rbf-auto-1  \n",
      "35              0.487822          0.319891      0.500000   SVM-sigmoid-auto-1  \n",
      "36              0.481559          0.313047      0.500000   SVM-sigmoid-auto-1  \n",
      "37              0.494085          0.326782      0.500000   SVM-sigmoid-auto-1  \n",
      "38              0.497564          0.330631      0.500000   SVM-sigmoid-auto-1  \n",
      "39              0.486072          0.317974      0.500000   SVM-sigmoid-auto-1  \n",
      "40              0.996521          0.996520      0.999318   SVM-linear-scale-2  \n",
      "41              0.997912          0.997912      0.999358   SVM-linear-scale-2  \n",
      "42              0.996521          0.996520      0.999671   SVM-linear-scale-2  \n",
      "43              0.998608          0.998608      0.999946   SVM-linear-scale-2  \n",
      "44              0.997911          0.997911      0.999988   SVM-linear-scale-2  \n",
      "45              0.909534          0.909538      0.971886     SVM-poly-scale-2  \n",
      "46              0.917884          0.917853      0.973620     SVM-poly-scale-2  \n",
      "47              0.917884          0.917878      0.970128     SVM-poly-scale-2  \n",
      "48              0.917189          0.917133      0.967158     SVM-poly-scale-2  \n",
      "49              0.914345          0.914278      0.969734     SVM-poly-scale-2  \n"
     ]
    },
    {
     "name": "stdout",
     "output_type": "stream",
     "text": [
      "SVM-rbf-scale-2\n",
      "              precision    recall  f1-score   support\n",
      "\n",
      "   malignant       0.94      0.90      0.92      1206\n",
      "      benign       0.91      0.94      0.92      1189\n",
      "\n",
      "    accuracy                           0.92      2395\n",
      "   macro avg       0.92      0.92      0.92      2395\n",
      "weighted avg       0.92      0.92      0.92      2395\n",
      "\n",
      "     fit_time  score_time  test_accuracy  test_precision_weighted  \\\n",
      "0   18.298728    0.036647       0.996521                 0.996521   \n",
      "1   12.603323    0.031954       0.997912                 0.997921   \n",
      "2   19.776971    0.033789       0.996521                 0.996521   \n",
      "3   23.579241    0.034786       0.998608                 0.998608   \n",
      "4   13.351698    0.033828       0.997911                 0.997912   \n",
      "5    1.166171    0.406180       0.894920                 0.895667   \n",
      "6    1.195094    0.414389       0.906054                 0.906097   \n",
      "7    1.164159    0.411108       0.909534                 0.910293   \n",
      "8    1.167197    0.409045       0.903967                 0.905515   \n",
      "9    1.192266    0.417234       0.907382                 0.907945   \n",
      "10   1.193365    0.987813       0.890745                 0.891156   \n",
      "11   1.207876    0.990557       0.901183                 0.901210   \n",
      "12   1.193187    0.988681       0.898399                 0.898884   \n",
      "13   1.179922    0.984457       0.897008                 0.898673   \n",
      "14   1.205161    1.008267       0.898329                 0.898680   \n",
      "15   1.519245    0.668887       0.634656                 0.635180   \n",
      "16   1.546812    0.677483       0.660404                 0.660404   \n",
      "17   1.532645    0.674793       0.668754                 0.668754   \n",
      "18   1.541487    0.676485       0.672234                 0.672266   \n",
      "19   1.565131    0.685744       0.678969                 0.679984   \n",
      "20  18.446589    0.033914       0.996521                 0.996521   \n",
      "21  12.585807    0.031759       0.997912                 0.997921   \n",
      "22  19.804137    0.034753       0.996521                 0.996521   \n",
      "23  23.582187    0.033863       0.998608                 0.998608   \n",
      "24  13.374700    0.033380       0.997911                 0.997912   \n",
      "25   1.545502    0.209386       0.957550                 0.957604   \n",
      "26   1.545493    0.213332       0.955463                 0.955463   \n",
      "27   1.462304    0.206790       0.949896                 0.949897   \n",
      "28   1.527870    0.213099       0.951983                 0.952028   \n",
      "29   1.511593    0.208137       0.956825                 0.957022   \n",
      "30   2.990176    2.546726       0.675017                 0.804955   \n",
      "31   2.932050    2.516582       0.700070                 0.809993   \n",
      "32   2.974834    2.545874       0.678497                 0.805233   \n",
      "33   2.983258    2.559766       0.693807                 0.810452   \n",
      "34   2.962435    2.522472       0.708914                 0.814168   \n",
      "35   3.160021    1.263354       0.487822                 0.237970   \n",
      "36   3.175405    1.274595       0.481559                 0.231899   \n",
      "37   3.156721    1.267464       0.494085                 0.244120   \n",
      "38   3.170703    1.269052       0.497564                 0.247570   \n",
      "39   3.189622    1.275882       0.486072                 0.236266   \n",
      "40  18.387753    0.033988       0.996521                 0.996521   \n",
      "41  12.615010    0.032233       0.997912                 0.997921   \n",
      "42  19.828823    0.034469       0.996521                 0.996521   \n",
      "43  23.699726    0.033946       0.998608                 0.998608   \n",
      "44  13.440207    0.033423       0.997911                 0.997912   \n",
      "45   1.124063    0.376353       0.909534                 0.910445   \n",
      "46   1.148641    0.383068       0.917884                 0.917951   \n",
      "47   1.145520    0.383706       0.917884                 0.918383   \n",
      "48   1.141937    0.379217       0.917189                 0.918574   \n",
      "49   1.136191    0.385111       0.914345                 0.914766   \n",
      "50   1.106467    0.864122       0.903271                 0.903615   \n",
      "51   1.135368    0.872605       0.910230                 0.910382   \n",
      "52   1.119169    0.934671       0.914405                 0.915439   \n",
      "53   1.116436    0.932744       0.909534                 0.910473   \n",
      "54   1.147984    0.951979       0.911560                 0.911733   \n",
      "\n",
      "    test_recall_weighted  test_f1_weighted  test_roc_auc                model  \n",
      "0               0.996521          0.996520      0.999318   SVM-linear-scale-1  \n",
      "1               0.997912          0.997912      0.999358   SVM-linear-scale-1  \n",
      "2               0.996521          0.996520      0.999671   SVM-linear-scale-1  \n",
      "3               0.998608          0.998608      0.999946   SVM-linear-scale-1  \n",
      "4               0.997911          0.997911      0.999988   SVM-linear-scale-1  \n",
      "5               0.894920          0.894929      0.963174     SVM-poly-scale-1  \n",
      "6               0.906054          0.906022      0.967120     SVM-poly-scale-1  \n",
      "7               0.909534          0.909517      0.964610     SVM-poly-scale-1  \n",
      "8               0.903967          0.903891      0.960394     SVM-poly-scale-1  \n",
      "9               0.907382          0.907292      0.964197     SVM-poly-scale-1  \n",
      "10              0.890745          0.890760      0.961522      SVM-rbf-scale-1  \n",
      "11              0.901183          0.901153      0.963568      SVM-rbf-scale-1  \n",
      "12              0.898399          0.898391      0.961154      SVM-rbf-scale-1  \n",
      "13              0.897008          0.896918      0.960053      SVM-rbf-scale-1  \n",
      "14              0.898329          0.898253      0.965723      SVM-rbf-scale-1  \n",
      "15              0.634656          0.634694      0.749510  SVM-sigmoid-scale-1  \n",
      "16              0.660404          0.660404      0.769500  SVM-sigmoid-scale-1  \n",
      "17              0.668754          0.668754      0.766135  SVM-sigmoid-scale-1  \n",
      "18              0.672234          0.672234      0.779168  SVM-sigmoid-scale-1  \n",
      "19              0.678969          0.678975      0.788626  SVM-sigmoid-scale-1  \n",
      "20              0.996521          0.996520      0.999318    SVM-linear-auto-1  \n",
      "21              0.997912          0.997912      0.999358    SVM-linear-auto-1  \n",
      "22              0.996521          0.996520      0.999671    SVM-linear-auto-1  \n",
      "23              0.998608          0.998608      0.999946    SVM-linear-auto-1  \n",
      "24              0.997911          0.997911      0.999988    SVM-linear-auto-1  \n",
      "25              0.957550          0.957554      0.988807      SVM-poly-auto-1  \n",
      "26              0.955463          0.955463      0.988492      SVM-poly-auto-1  \n",
      "27              0.949896          0.949895      0.985046      SVM-poly-auto-1  \n",
      "28              0.951983          0.951983      0.985160      SVM-poly-auto-1  \n",
      "29              0.956825          0.956832      0.988154      SVM-poly-auto-1  \n",
      "30              0.675017          0.640113      0.711763       SVM-rbf-auto-1  \n",
      "31              0.700070          0.665893      0.713997       SVM-rbf-auto-1  \n",
      "32              0.678497          0.643093      0.706106       SVM-rbf-auto-1  \n",
      "33              0.693807          0.662735      0.725510       SVM-rbf-auto-1  \n",
      "34              0.708914          0.678829      0.729960       SVM-rbf-auto-1  \n",
      "35              0.487822          0.319891      0.500000   SVM-sigmoid-auto-1  \n",
      "36              0.481559          0.313047      0.500000   SVM-sigmoid-auto-1  \n",
      "37              0.494085          0.326782      0.500000   SVM-sigmoid-auto-1  \n",
      "38              0.497564          0.330631      0.500000   SVM-sigmoid-auto-1  \n",
      "39              0.486072          0.317974      0.500000   SVM-sigmoid-auto-1  \n",
      "40              0.996521          0.996520      0.999318   SVM-linear-scale-2  \n",
      "41              0.997912          0.997912      0.999358   SVM-linear-scale-2  \n",
      "42              0.996521          0.996520      0.999671   SVM-linear-scale-2  \n",
      "43              0.998608          0.998608      0.999946   SVM-linear-scale-2  \n",
      "44              0.997911          0.997911      0.999988   SVM-linear-scale-2  \n",
      "45              0.909534          0.909538      0.971886     SVM-poly-scale-2  \n",
      "46              0.917884          0.917853      0.973620     SVM-poly-scale-2  \n",
      "47              0.917884          0.917878      0.970128     SVM-poly-scale-2  \n",
      "48              0.917189          0.917133      0.967158     SVM-poly-scale-2  \n",
      "49              0.914345          0.914278      0.969734     SVM-poly-scale-2  \n",
      "50              0.903271          0.903285      0.969496      SVM-rbf-scale-2  \n",
      "51              0.910230          0.910178      0.970462      SVM-rbf-scale-2  \n",
      "52              0.914405          0.914379      0.967503      SVM-rbf-scale-2  \n",
      "53              0.909534          0.909494      0.967052      SVM-rbf-scale-2  \n",
      "54              0.911560          0.911518      0.971327      SVM-rbf-scale-2  \n"
     ]
    },
    {
     "name": "stdout",
     "output_type": "stream",
     "text": [
      "SVM-sigmoid-scale-2\n",
      "              precision    recall  f1-score   support\n",
      "\n",
      "   malignant       0.68      0.68      0.68      1206\n",
      "      benign       0.67      0.67      0.67      1189\n",
      "\n",
      "    accuracy                           0.67      2395\n",
      "   macro avg       0.67      0.67      0.67      2395\n",
      "weighted avg       0.67      0.67      0.67      2395\n",
      "\n",
      "     fit_time  score_time  test_accuracy  test_precision_weighted  \\\n",
      "0   18.298728    0.036647       0.996521                 0.996521   \n",
      "1   12.603323    0.031954       0.997912                 0.997921   \n",
      "2   19.776971    0.033789       0.996521                 0.996521   \n",
      "3   23.579241    0.034786       0.998608                 0.998608   \n",
      "4   13.351698    0.033828       0.997911                 0.997912   \n",
      "5    1.166171    0.406180       0.894920                 0.895667   \n",
      "6    1.195094    0.414389       0.906054                 0.906097   \n",
      "7    1.164159    0.411108       0.909534                 0.910293   \n",
      "8    1.167197    0.409045       0.903967                 0.905515   \n",
      "9    1.192266    0.417234       0.907382                 0.907945   \n",
      "10   1.193365    0.987813       0.890745                 0.891156   \n",
      "11   1.207876    0.990557       0.901183                 0.901210   \n",
      "12   1.193187    0.988681       0.898399                 0.898884   \n",
      "13   1.179922    0.984457       0.897008                 0.898673   \n",
      "14   1.205161    1.008267       0.898329                 0.898680   \n",
      "15   1.519245    0.668887       0.634656                 0.635180   \n",
      "16   1.546812    0.677483       0.660404                 0.660404   \n",
      "17   1.532645    0.674793       0.668754                 0.668754   \n",
      "18   1.541487    0.676485       0.672234                 0.672266   \n",
      "19   1.565131    0.685744       0.678969                 0.679984   \n",
      "20  18.446589    0.033914       0.996521                 0.996521   \n",
      "21  12.585807    0.031759       0.997912                 0.997921   \n",
      "22  19.804137    0.034753       0.996521                 0.996521   \n",
      "23  23.582187    0.033863       0.998608                 0.998608   \n",
      "24  13.374700    0.033380       0.997911                 0.997912   \n",
      "25   1.545502    0.209386       0.957550                 0.957604   \n",
      "26   1.545493    0.213332       0.955463                 0.955463   \n",
      "27   1.462304    0.206790       0.949896                 0.949897   \n",
      "28   1.527870    0.213099       0.951983                 0.952028   \n",
      "29   1.511593    0.208137       0.956825                 0.957022   \n",
      "30   2.990176    2.546726       0.675017                 0.804955   \n",
      "31   2.932050    2.516582       0.700070                 0.809993   \n",
      "32   2.974834    2.545874       0.678497                 0.805233   \n",
      "33   2.983258    2.559766       0.693807                 0.810452   \n",
      "34   2.962435    2.522472       0.708914                 0.814168   \n",
      "35   3.160021    1.263354       0.487822                 0.237970   \n",
      "36   3.175405    1.274595       0.481559                 0.231899   \n",
      "37   3.156721    1.267464       0.494085                 0.244120   \n",
      "38   3.170703    1.269052       0.497564                 0.247570   \n",
      "39   3.189622    1.275882       0.486072                 0.236266   \n",
      "40  18.387753    0.033988       0.996521                 0.996521   \n",
      "41  12.615010    0.032233       0.997912                 0.997921   \n",
      "42  19.828823    0.034469       0.996521                 0.996521   \n",
      "43  23.699726    0.033946       0.998608                 0.998608   \n",
      "44  13.440207    0.033423       0.997911                 0.997912   \n",
      "45   1.124063    0.376353       0.909534                 0.910445   \n",
      "46   1.148641    0.383068       0.917884                 0.917951   \n",
      "47   1.145520    0.383706       0.917884                 0.918383   \n",
      "48   1.141937    0.379217       0.917189                 0.918574   \n",
      "49   1.136191    0.385111       0.914345                 0.914766   \n",
      "50   1.106467    0.864122       0.903271                 0.903615   \n",
      "51   1.135368    0.872605       0.910230                 0.910382   \n",
      "52   1.119169    0.934671       0.914405                 0.915439   \n",
      "53   1.116436    0.932744       0.909534                 0.910473   \n",
      "54   1.147984    0.951979       0.911560                 0.911733   \n",
      "55   1.491853    0.655667       0.634656                 0.635290   \n",
      "56   1.520971    0.665586       0.654836                 0.654873   \n",
      "57   1.501454    0.662074       0.663187                 0.663165   \n",
      "58   1.520985    0.665162       0.666667                 0.666751   \n",
      "59   1.539926    0.673770       0.674095                 0.675063   \n",
      "\n",
      "    test_recall_weighted  test_f1_weighted  test_roc_auc                model  \n",
      "0               0.996521          0.996520      0.999318   SVM-linear-scale-1  \n",
      "1               0.997912          0.997912      0.999358   SVM-linear-scale-1  \n",
      "2               0.996521          0.996520      0.999671   SVM-linear-scale-1  \n",
      "3               0.998608          0.998608      0.999946   SVM-linear-scale-1  \n",
      "4               0.997911          0.997911      0.999988   SVM-linear-scale-1  \n",
      "5               0.894920          0.894929      0.963174     SVM-poly-scale-1  \n",
      "6               0.906054          0.906022      0.967120     SVM-poly-scale-1  \n",
      "7               0.909534          0.909517      0.964610     SVM-poly-scale-1  \n",
      "8               0.903967          0.903891      0.960394     SVM-poly-scale-1  \n",
      "9               0.907382          0.907292      0.964197     SVM-poly-scale-1  \n",
      "10              0.890745          0.890760      0.961522      SVM-rbf-scale-1  \n",
      "11              0.901183          0.901153      0.963568      SVM-rbf-scale-1  \n",
      "12              0.898399          0.898391      0.961154      SVM-rbf-scale-1  \n",
      "13              0.897008          0.896918      0.960053      SVM-rbf-scale-1  \n",
      "14              0.898329          0.898253      0.965723      SVM-rbf-scale-1  \n",
      "15              0.634656          0.634694      0.749510  SVM-sigmoid-scale-1  \n",
      "16              0.660404          0.660404      0.769500  SVM-sigmoid-scale-1  \n",
      "17              0.668754          0.668754      0.766135  SVM-sigmoid-scale-1  \n",
      "18              0.672234          0.672234      0.779168  SVM-sigmoid-scale-1  \n",
      "19              0.678969          0.678975      0.788626  SVM-sigmoid-scale-1  \n",
      "20              0.996521          0.996520      0.999318    SVM-linear-auto-1  \n",
      "21              0.997912          0.997912      0.999358    SVM-linear-auto-1  \n",
      "22              0.996521          0.996520      0.999671    SVM-linear-auto-1  \n",
      "23              0.998608          0.998608      0.999946    SVM-linear-auto-1  \n",
      "24              0.997911          0.997911      0.999988    SVM-linear-auto-1  \n",
      "25              0.957550          0.957554      0.988807      SVM-poly-auto-1  \n",
      "26              0.955463          0.955463      0.988492      SVM-poly-auto-1  \n",
      "27              0.949896          0.949895      0.985046      SVM-poly-auto-1  \n",
      "28              0.951983          0.951983      0.985160      SVM-poly-auto-1  \n",
      "29              0.956825          0.956832      0.988154      SVM-poly-auto-1  \n",
      "30              0.675017          0.640113      0.711763       SVM-rbf-auto-1  \n",
      "31              0.700070          0.665893      0.713997       SVM-rbf-auto-1  \n",
      "32              0.678497          0.643093      0.706106       SVM-rbf-auto-1  \n",
      "33              0.693807          0.662735      0.725510       SVM-rbf-auto-1  \n",
      "34              0.708914          0.678829      0.729960       SVM-rbf-auto-1  \n",
      "35              0.487822          0.319891      0.500000   SVM-sigmoid-auto-1  \n",
      "36              0.481559          0.313047      0.500000   SVM-sigmoid-auto-1  \n",
      "37              0.494085          0.326782      0.500000   SVM-sigmoid-auto-1  \n",
      "38              0.497564          0.330631      0.500000   SVM-sigmoid-auto-1  \n",
      "39              0.486072          0.317974      0.500000   SVM-sigmoid-auto-1  \n",
      "40              0.996521          0.996520      0.999318   SVM-linear-scale-2  \n",
      "41              0.997912          0.997912      0.999358   SVM-linear-scale-2  \n",
      "42              0.996521          0.996520      0.999671   SVM-linear-scale-2  \n",
      "43              0.998608          0.998608      0.999946   SVM-linear-scale-2  \n",
      "44              0.997911          0.997911      0.999988   SVM-linear-scale-2  \n",
      "45              0.909534          0.909538      0.971886     SVM-poly-scale-2  \n",
      "46              0.917884          0.917853      0.973620     SVM-poly-scale-2  \n",
      "47              0.917884          0.917878      0.970128     SVM-poly-scale-2  \n",
      "48              0.917189          0.917133      0.967158     SVM-poly-scale-2  \n",
      "49              0.914345          0.914278      0.969734     SVM-poly-scale-2  \n",
      "50              0.903271          0.903285      0.969496      SVM-rbf-scale-2  \n",
      "51              0.910230          0.910178      0.970462      SVM-rbf-scale-2  \n",
      "52              0.914405          0.914379      0.967503      SVM-rbf-scale-2  \n",
      "53              0.909534          0.909494      0.967052      SVM-rbf-scale-2  \n",
      "54              0.911560          0.911518      0.971327      SVM-rbf-scale-2  \n",
      "55              0.634656          0.634677      0.746337  SVM-sigmoid-scale-2  \n",
      "56              0.654836          0.654854      0.766486  SVM-sigmoid-scale-2  \n",
      "57              0.663187          0.663165      0.763237  SVM-sigmoid-scale-2  \n",
      "58              0.666667          0.666654      0.776817  SVM-sigmoid-scale-2  \n",
      "59              0.674095          0.674107      0.785615  SVM-sigmoid-scale-2  \n"
     ]
    },
    {
     "name": "stdout",
     "output_type": "stream",
     "text": [
      "SVM-linear-auto-2\n",
      "              precision    recall  f1-score   support\n",
      "\n",
      "   malignant       1.00      1.00      1.00      1206\n",
      "      benign       1.00      1.00      1.00      1189\n",
      "\n",
      "    accuracy                           1.00      2395\n",
      "   macro avg       1.00      1.00      1.00      2395\n",
      "weighted avg       1.00      1.00      1.00      2395\n",
      "\n",
      "     fit_time  score_time  test_accuracy  test_precision_weighted  \\\n",
      "0   18.298728    0.036647       0.996521                 0.996521   \n",
      "1   12.603323    0.031954       0.997912                 0.997921   \n",
      "2   19.776971    0.033789       0.996521                 0.996521   \n",
      "3   23.579241    0.034786       0.998608                 0.998608   \n",
      "4   13.351698    0.033828       0.997911                 0.997912   \n",
      "..        ...         ...            ...                      ...   \n",
      "60  18.435822    0.035561       0.996521                 0.996521   \n",
      "61  12.621550    0.031878       0.997912                 0.997921   \n",
      "62  19.853211    0.033930       0.996521                 0.996521   \n",
      "63  23.620363    0.034694       0.998608                 0.998608   \n",
      "64  13.407504    0.034294       0.997911                 0.997912   \n",
      "\n",
      "    test_recall_weighted  test_f1_weighted  test_roc_auc               model  \n",
      "0               0.996521          0.996520      0.999318  SVM-linear-scale-1  \n",
      "1               0.997912          0.997912      0.999358  SVM-linear-scale-1  \n",
      "2               0.996521          0.996520      0.999671  SVM-linear-scale-1  \n",
      "3               0.998608          0.998608      0.999946  SVM-linear-scale-1  \n",
      "4               0.997911          0.997911      0.999988  SVM-linear-scale-1  \n",
      "..                   ...               ...           ...                 ...  \n",
      "60              0.996521          0.996520      0.999318   SVM-linear-auto-2  \n",
      "61              0.997912          0.997912      0.999358   SVM-linear-auto-2  \n",
      "62              0.996521          0.996520      0.999671   SVM-linear-auto-2  \n",
      "63              0.998608          0.998608      0.999946   SVM-linear-auto-2  \n",
      "64              0.997911          0.997911      0.999988   SVM-linear-auto-2  \n",
      "\n",
      "[65 rows x 8 columns]\n"
     ]
    },
    {
     "name": "stdout",
     "output_type": "stream",
     "text": [
      "SVM-poly-auto-2\n",
      "              precision    recall  f1-score   support\n",
      "\n",
      "   malignant       0.96      0.96      0.96      1206\n",
      "      benign       0.96      0.96      0.96      1189\n",
      "\n",
      "    accuracy                           0.96      2395\n",
      "   macro avg       0.96      0.96      0.96      2395\n",
      "weighted avg       0.96      0.96      0.96      2395\n",
      "\n",
      "     fit_time  score_time  test_accuracy  test_precision_weighted  \\\n",
      "0   18.298728    0.036647       0.996521                 0.996521   \n",
      "1   12.603323    0.031954       0.997912                 0.997921   \n",
      "2   19.776971    0.033789       0.996521                 0.996521   \n",
      "3   23.579241    0.034786       0.998608                 0.998608   \n",
      "4   13.351698    0.033828       0.997911                 0.997912   \n",
      "..        ...         ...            ...                      ...   \n",
      "65   1.557067    0.205989       0.957550                 0.957604   \n",
      "66   1.556192    0.210771       0.955463                 0.955463   \n",
      "67   1.479843    0.203802       0.949896                 0.949897   \n",
      "68   1.539286    0.210227       0.951983                 0.952028   \n",
      "69   1.519916    0.205470       0.956825                 0.957022   \n",
      "\n",
      "    test_recall_weighted  test_f1_weighted  test_roc_auc               model  \n",
      "0               0.996521          0.996520      0.999318  SVM-linear-scale-1  \n",
      "1               0.997912          0.997912      0.999358  SVM-linear-scale-1  \n",
      "2               0.996521          0.996520      0.999671  SVM-linear-scale-1  \n",
      "3               0.998608          0.998608      0.999946  SVM-linear-scale-1  \n",
      "4               0.997911          0.997911      0.999988  SVM-linear-scale-1  \n",
      "..                   ...               ...           ...                 ...  \n",
      "65              0.957550          0.957554      0.988807     SVM-poly-auto-2  \n",
      "66              0.955463          0.955463      0.988492     SVM-poly-auto-2  \n",
      "67              0.949896          0.949895      0.985046     SVM-poly-auto-2  \n",
      "68              0.951983          0.951983      0.985160     SVM-poly-auto-2  \n",
      "69              0.956825          0.956832      0.988154     SVM-poly-auto-2  \n",
      "\n",
      "[70 rows x 8 columns]\n"
     ]
    },
    {
     "name": "stdout",
     "output_type": "stream",
     "text": [
      "SVM-rbf-auto-2\n",
      "              precision    recall  f1-score   support\n",
      "\n",
      "   malignant       1.00      0.41      0.58      1206\n",
      "      benign       0.62      1.00      0.77      1189\n",
      "\n",
      "    accuracy                           0.70      2395\n",
      "   macro avg       0.81      0.70      0.67      2395\n",
      "weighted avg       0.81      0.70      0.67      2395\n",
      "\n",
      "     fit_time  score_time  test_accuracy  test_precision_weighted  \\\n",
      "0   18.298728    0.036647       0.996521                 0.996521   \n",
      "1   12.603323    0.031954       0.997912                 0.997921   \n",
      "2   19.776971    0.033789       0.996521                 0.996521   \n",
      "3   23.579241    0.034786       0.998608                 0.998608   \n",
      "4   13.351698    0.033828       0.997911                 0.997912   \n",
      "..        ...         ...            ...                      ...   \n",
      "70   2.909433    2.268778       0.675017                 0.804955   \n",
      "71   2.926776    2.282604       0.700070                 0.809993   \n",
      "72   2.891882    2.281423       0.678497                 0.805233   \n",
      "73   2.890718    2.298626       0.693807                 0.810452   \n",
      "74   2.940288    2.496697       0.708914                 0.814168   \n",
      "\n",
      "    test_recall_weighted  test_f1_weighted  test_roc_auc               model  \n",
      "0               0.996521          0.996520      0.999318  SVM-linear-scale-1  \n",
      "1               0.997912          0.997912      0.999358  SVM-linear-scale-1  \n",
      "2               0.996521          0.996520      0.999671  SVM-linear-scale-1  \n",
      "3               0.998608          0.998608      0.999946  SVM-linear-scale-1  \n",
      "4               0.997911          0.997911      0.999988  SVM-linear-scale-1  \n",
      "..                   ...               ...           ...                 ...  \n",
      "70              0.675017          0.640113      0.711763      SVM-rbf-auto-2  \n",
      "71              0.700070          0.665893      0.713997      SVM-rbf-auto-2  \n",
      "72              0.678497          0.643093      0.706106      SVM-rbf-auto-2  \n",
      "73              0.693807          0.662735      0.725510      SVM-rbf-auto-2  \n",
      "74              0.708914          0.678829      0.729960      SVM-rbf-auto-2  \n",
      "\n",
      "[75 rows x 8 columns]\n"
     ]
    },
    {
     "name": "stdout",
     "output_type": "stream",
     "text": [
      "SVM-sigmoid-auto-2\n",
      "              precision    recall  f1-score   support\n",
      "\n",
      "   malignant       0.00      0.00      0.00      1206\n",
      "      benign       0.50      1.00      0.66      1189\n",
      "\n",
      "    accuracy                           0.50      2395\n",
      "   macro avg       0.25      0.50      0.33      2395\n",
      "weighted avg       0.25      0.50      0.33      2395\n",
      "\n",
      "     fit_time  score_time  test_accuracy  test_precision_weighted  \\\n",
      "0   18.298728    0.036647       0.996521                 0.996521   \n",
      "1   12.603323    0.031954       0.997912                 0.997921   \n",
      "2   19.776971    0.033789       0.996521                 0.996521   \n",
      "3   23.579241    0.034786       0.998608                 0.998608   \n",
      "4   13.351698    0.033828       0.997911                 0.997912   \n",
      "..        ...         ...            ...                      ...   \n",
      "75   3.169865    1.261985       0.487822                 0.237970   \n",
      "76   3.195912    1.271631       0.481559                 0.231899   \n",
      "77   3.164680    1.264834       0.494085                 0.244120   \n",
      "78   3.184323    1.266769       0.497564                 0.247570   \n",
      "79   3.193234    1.275298       0.486072                 0.236266   \n",
      "\n",
      "    test_recall_weighted  test_f1_weighted  test_roc_auc               model  \n",
      "0               0.996521          0.996520      0.999318  SVM-linear-scale-1  \n",
      "1               0.997912          0.997912      0.999358  SVM-linear-scale-1  \n",
      "2               0.996521          0.996520      0.999671  SVM-linear-scale-1  \n",
      "3               0.998608          0.998608      0.999946  SVM-linear-scale-1  \n",
      "4               0.997911          0.997911      0.999988  SVM-linear-scale-1  \n",
      "..                   ...               ...           ...                 ...  \n",
      "75              0.487822          0.319891      0.500000  SVM-sigmoid-auto-2  \n",
      "76              0.481559          0.313047      0.500000  SVM-sigmoid-auto-2  \n",
      "77              0.494085          0.326782      0.500000  SVM-sigmoid-auto-2  \n",
      "78              0.497564          0.330631      0.500000  SVM-sigmoid-auto-2  \n",
      "79              0.486072          0.317974      0.500000  SVM-sigmoid-auto-2  \n",
      "\n",
      "[80 rows x 8 columns]\n",
      "704.4986297332216\n"
     ]
    }
   ],
   "source": [
    "## S7: IoT compromised (IoT + IoT)\n",
    " \n",
    "df_malicious = pd.concat([df1,df34])\n",
    " \n",
    "df_benign = pd.concat([df8,df9,df10,df11,df12,df21])\n",
    "\n",
    "print(\"malicious: {}\".format(len(df_malicious)))\n",
    "print(\"benign: {}\".format(len(df_benign)))\n",
    "\n",
    "print(\"{} NAN in malicious!\".format(len(df_malicious[df_malicious.isna().any(axis=1)])))\n",
    "print(\"{} NAN in benign!\".format(len(df_benign[df_benign.isna().any(axis=1)])))\n",
    "\n",
    "df_malicious = df_malicious.dropna()\n",
    "df_benign = df_benign.dropna()\n",
    "\n",
    "print(\"After droppping NAN rows: \")\n",
    "print(\"malicious: {}\".format(len(df_malicious)))\n",
    "print(\"benign: {}\".format(len(df_benign)))\n",
    "\n",
    "\n",
    "start = timer()\n",
    "\n",
    "results_all_combined_s0 = run_process(df_malicious,df_benign,df_results)\n",
    "\n",
    "end = timer()\n",
    "print(end - start)\n",
    "\n",
    "\n"
   ]
  }
 ],
 "metadata": {
  "kernelspec": {
   "display_name": "nectar-env",
   "language": "python",
   "name": "python3"
  },
  "language_info": {
   "codemirror_mode": {
    "name": "ipython",
    "version": 3
   },
   "file_extension": ".py",
   "mimetype": "text/x-python",
   "name": "python",
   "nbconvert_exporter": "python",
   "pygments_lexer": "ipython3",
   "version": "3.10.6"
  }
 },
 "nbformat": 4,
 "nbformat_minor": 5
}
